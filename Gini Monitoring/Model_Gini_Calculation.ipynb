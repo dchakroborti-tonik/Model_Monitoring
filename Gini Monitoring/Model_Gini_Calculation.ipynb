{
 "cells": [
  {
   "cell_type": "markdown",
   "metadata": {},
   "source": [
    "# <center> Model Gini Calculation </center>"
   ]
  },
  {
   "cell_type": "code",
   "execution_count": 1,
   "metadata": {},
   "outputs": [],
   "source": [
    "# %% [markdown]\n",
    "# # Jupyter Notebook Loading Header\n",
    "#\n",
    "# This is a custom loading header for Jupyter Notebooks in Visual Studio Code.\n",
    "# It includes common imports and settings to get you started quickly.\n",
    "\n",
    "# %% [markdown]\n",
    "## Import Libraries\n",
    "import pandas as pd\n",
    "import numpy as np\n",
    "import matplotlib.pyplot as plt\n",
    "import seaborn as sns\n",
    "from google.cloud import bigquery\n",
    "from google.cloud import storage\n",
    "import os\n",
    "path = r'C:\\Users\\DwaipayanChakroborti\\AppData\\Roaming\\gcloud\\legacy_credentials\\dchakroborti@tonikbank.com\\adc.json'\n",
    "os.environ['GOOGLE_APPLICATION_CREDENTIALS'] = path\n",
    "client = bigquery.Client(project='prj-prod-dataplatform')\n",
    "\n",
    "from sklearn.metrics import roc_auc_score\n",
    "from datetime import datetime, timedelta\n",
    "# %% [markdown]\n",
    "## Configure Settings\n",
    "# Set options or configurations as needed\n",
    "# Example: pd.set_option('display.max_columns', None)"
   ]
  },
  {
   "cell_type": "markdown",
   "metadata": {},
   "source": [
    "# Function"
   ]
  },
  {
   "cell_type": "markdown",
   "metadata": {},
   "source": [
    "## calculate_gini_for_threedigitscore"
   ]
  },
  {
   "cell_type": "code",
   "execution_count": 2,
   "metadata": {},
   "outputs": [],
   "source": [
    "# def calculate_gini_for_threedigitscore(scores, labels):\n",
    "#     \"\"\"\n",
    "#     Calculate Gini coefficient for three-digit scores and binary labels\n",
    "    \n",
    "#     Parameters:\n",
    "#     scores: array-like, three-digit scores (higher is better)\n",
    "#     labels: array-like, binary values (0 or 1, where 1 indicates default)\n",
    "    \n",
    "#     Returns:\n",
    "#     float: Gini coefficient\n",
    "#     \"\"\"\n",
    "#     # Combine scores and labels into a DataFrame\n",
    "#     df = pd.DataFrame({'score': scores, 'label': labels})\n",
    "    \n",
    "#     # Sort by score in descending order (assuming higher score is better)\n",
    "#     df = df.sort_values('score', ascending=False)\n",
    "    \n",
    "#     # Calculate cumulative values\n",
    "#     total_pos = df['label'].sum()\n",
    "#     total_neg = len(df) - total_pos\n",
    "    \n",
    "#     if total_pos == 0 or total_neg == 0:\n",
    "#         return 0\n",
    "    \n",
    "#     # Calculate cumulative proportions\n",
    "#     cum_pos = df['label'].cumsum()\n",
    "#     cum_neg = np.arange(1, len(df) + 1) - cum_pos\n",
    "    \n",
    "#     # Convert to proportions\n",
    "#     cum_pos_prop = cum_pos / total_pos\n",
    "#     cum_neg_prop = cum_neg / total_neg\n",
    "    \n",
    "#     # Calculate Gini\n",
    "#     gini = 1 - np.trapz(cum_pos_prop, cum_neg_prop)\n",
    "    \n",
    "#     return gini\n",
    "\n",
    "\n",
    "## Modified one\n",
    "\n",
    "def calculate_gini_for_threedigitscore(scores, labels):\n",
    "    \"\"\"\n",
    "    Calculate Gini coefficient for three-digit scores and binary labels\n",
    "    \n",
    "    Parameters:\n",
    "    scores: array-like, three-digit scores (higher is better)\n",
    "    labels: array-like, binary values (0 or 1, where 1 indicates default)\n",
    "    \n",
    "    Returns:\n",
    "    float: Gini coefficient\n",
    "    \"\"\"\n",
    "    # Combine scores and labels into a DataFrame\n",
    "    df = pd.DataFrame({'score': scores, 'label': labels})\n",
    "    \n",
    "    # Sort by score in descending order (assuming higher score means lower risk)\n",
    "    # For default prediction, we want to sort scores in ascending order \n",
    "    # since higher default probability should correspond to higher risk\n",
    "    df = df.sort_values('score', ascending=True)  # Changed to ascending=True\n",
    "    \n",
    "    # Calculate cumulative values\n",
    "    total_pos = df['label'].sum()\n",
    "    total_neg = len(df) - total_pos\n",
    "    \n",
    "    if total_pos == 0 or total_neg == 0:\n",
    "        return 0\n",
    "    \n",
    "    # Calculate cumulative proportions\n",
    "    cum_pos = df['label'].cumsum()\n",
    "    cum_neg = np.arange(1, len(df) + 1) - cum_pos\n",
    "    \n",
    "    # Convert to proportions\n",
    "    cum_pos_prop = cum_pos / total_pos\n",
    "    cum_neg_prop = cum_neg / total_neg\n",
    "    \n",
    "    # Calculate area under curve\n",
    "    auc = np.trapz(cum_pos_prop, cum_neg_prop)\n",
    "    \n",
    "    # Calculate Gini\n",
    "    gini = 2 * auc - 1\n",
    "    \n",
    "    return gini"
   ]
  },
  {
   "cell_type": "markdown",
   "metadata": {},
   "source": [
    "## calculate_gini"
   ]
  },
  {
   "cell_type": "code",
   "execution_count": 3,
   "metadata": {},
   "outputs": [],
   "source": [
    "def calculate_gini(pd_scores, bad_indicators):\n",
    "    \"\"\"\n",
    "    Calculate Gini coefficient from scores and binary indicators\n",
    "    \n",
    "    Parameters:\n",
    "    pd_scores: array-like of scores/probabilities\n",
    "    bad_indicators: array-like of binary outcomes (0/1)\n",
    "    \n",
    "    Returns:\n",
    "    float: Gini coefficient\n",
    "    \"\"\"\n",
    "    # Convert inputs to numpy arrays and ensure they're numeric\n",
    "    pd_scores = np.array(pd_scores, dtype=float)\n",
    "    bad_indicators = np.array(bad_indicators, dtype=int)\n",
    "    \n",
    "    # Check for valid input data\n",
    "    if len(pd_scores) == 0 or len(bad_indicators) == 0:\n",
    "        return np.nan\n",
    "    \n",
    "    # Check if we have both good and bad cases (needed for ROC AUC)\n",
    "    if len(np.unique(bad_indicators)) < 2:\n",
    "        return np.nan\n",
    "    \n",
    "    # Calculate AUC using sklearn\n",
    "    try:\n",
    "        auc = roc_auc_score(bad_indicators, pd_scores)\n",
    "        # Calculate Gini from AUC\n",
    "        gini = 2 * auc - 1\n",
    "        return gini\n",
    "    except ValueError:\n",
    "        return np.nan"
   ]
  },
  {
   "cell_type": "markdown",
   "metadata": {},
   "source": [
    "## calculate_hybrid_gini"
   ]
  },
  {
   "cell_type": "code",
   "execution_count": 4,
   "metadata": {},
   "outputs": [],
   "source": [
    "# def calculate_hybrid_gini(scores, labels):\n",
    "#     \"\"\"\n",
    "#     Calculate Gini coefficient handling both PD values and three-digit scores\n",
    "    \n",
    "#     Parameters:\n",
    "#     scores: array-like, contains either PD values (0-1) or three-digit scores\n",
    "#     labels: array-like, binary values (0 or 1, where 1 indicates default)\n",
    "    \n",
    "#     Returns:\n",
    "#     float: Gini coefficient\n",
    "#     \"\"\"\n",
    "#     # Convert inputs to numpy arrays\n",
    "#     scores = np.array(scores, dtype=float)\n",
    "#     labels = np.array(labels, dtype=int)\n",
    "    \n",
    "#     # Basic validation\n",
    "#     if len(scores) == 0 or len(labels) == 0:\n",
    "#         return np.nan\n",
    "    \n",
    "#     if len(np.unique(labels)) < 2:\n",
    "#         return np.nan\n",
    "        \n",
    "#     # Determine if scores are PD values or three-digit scores\n",
    "#     # PD values are between 0 and 1\n",
    "#     is_pd = np.all((scores >= 0) & (scores <= 1))\n",
    "    \n",
    "#     if is_pd:\n",
    "#         try:\n",
    "#             auc = roc_auc_score(labels, scores)\n",
    "#             gini = 2 * auc - 1\n",
    "#             return gini\n",
    "#         except ValueError:\n",
    "#             return np.nan\n",
    "#     else:\n",
    "#         # Handle as three-digit score\n",
    "#         df = pd.DataFrame({'score': scores, 'label': labels})\n",
    "#         df = df.sort_values('score', ascending=False)\n",
    "        \n",
    "#         total_pos = df['label'].sum()\n",
    "#         total_neg = len(df) - total_pos\n",
    "        \n",
    "#         if total_pos == 0 or total_neg == 0:\n",
    "#             return np.nan\n",
    "        \n",
    "#         cum_pos = df['label'].cumsum()\n",
    "#         cum_neg = np.arange(1, len(df) + 1) - cum_pos\n",
    "        \n",
    "#         cum_pos_prop = cum_pos / total_pos\n",
    "#         cum_neg_prop = cum_neg / total_neg\n",
    "        \n",
    "#         gini = 1 - np.trapz(cum_pos_prop, cum_neg_prop)\n",
    "#         return gini\n",
    "\n",
    "## Modified one\n",
    "\n",
    "def calculate_hybrid_gini(scores, labels):\n",
    "    \"\"\"\n",
    "    Calculate Gini coefficient handling both PD values and three-digit scores\n",
    "    \n",
    "    Parameters:\n",
    "    scores: array-like, contains either PD values (0-1) or three-digit scores\n",
    "    labels: array-like, binary values (0 or 1, where 1 indicates default)\n",
    "    \n",
    "    Returns:\n",
    "    float: Gini coefficient\n",
    "    \"\"\"\n",
    "    # Convert inputs to numpy arrays\n",
    "    scores = np.array(scores, dtype=float)\n",
    "    labels = np.array(labels, dtype=int)\n",
    "    \n",
    "    # Basic validation\n",
    "    if len(scores) == 0 or len(labels) == 0:\n",
    "        return np.nan\n",
    "    \n",
    "    if len(np.unique(labels)) < 2:\n",
    "        return np.nan\n",
    "        \n",
    "    # Determine if scores are PD values or three-digit scores\n",
    "    # PD values are between 0 and 1\n",
    "    is_pd = np.all((scores >= 0) & (scores <= 1))\n",
    "    \n",
    "    if is_pd:\n",
    "        try:\n",
    "            auc = roc_auc_score(labels, scores)\n",
    "            gini = 2 * auc - 1\n",
    "            return gini\n",
    "        except ValueError:\n",
    "            return np.nan\n",
    "    else:\n",
    "        # Handle as three-digit score\n",
    "        df = pd.DataFrame({'score': scores, 'label': labels})\n",
    "        # Sort by score in ascending order since higher score means higher risk\n",
    "        df = df.sort_values('score', ascending=True)\n",
    "        \n",
    "        total_pos = df['label'].sum()\n",
    "        total_neg = len(df) - total_pos\n",
    "        \n",
    "        if total_pos == 0 or total_neg == 0:\n",
    "            return np.nan\n",
    "        \n",
    "        cum_pos = df['label'].cumsum()\n",
    "        cum_neg = np.arange(1, len(df) + 1) - cum_pos\n",
    "        \n",
    "        cum_pos_prop = cum_pos / total_pos\n",
    "        cum_neg_prop = cum_neg / total_neg\n",
    "        \n",
    "        # Calculate area under curve\n",
    "        auc = np.trapz(cum_pos_prop, cum_neg_prop)\n",
    "        \n",
    "        # Calculate Gini using the same formula as PD values\n",
    "        gini = 2 * auc - 1\n",
    "        return gini"
   ]
  },
  {
   "cell_type": "markdown",
   "metadata": {},
   "source": [
    "## calculate_periodic_gini_threedigit"
   ]
  },
  {
   "cell_type": "code",
   "execution_count": 5,
   "metadata": {},
   "outputs": [],
   "source": [
    "# Main processing code\n",
    "def calculate_periodic_gini_threedigit(df, score_column, label_column, namecolumn):\n",
    "    \"\"\"\n",
    "    Calculate periodic Gini coefficients\n",
    "    \n",
    "    Parameters:\n",
    "    df: DataFrame with disbursement dates and score/label columns\n",
    "    score_column: name of the score column\n",
    "    label_column: name of the label column\n",
    "    \"\"\"\n",
    "    # Ensure date is datetime type\n",
    "    df['disbursementdate'] = pd.to_datetime(df['disbursementdate'])\n",
    "    \n",
    "    # Calculate weekly Gini\n",
    "    df['week'] = df['disbursementdate'].dt.to_period('W')\n",
    "    weekly_gini = df.groupby('week').apply(\n",
    "        lambda x: calculate_gini_for_threedigitscore(x[score_column], x[label_column])\n",
    "    ).reset_index(name='gini')\n",
    "    weekly_gini['period'] = 'Week'\n",
    "    weekly_gini['start_date'] = weekly_gini['week'].apply(lambda x: x.to_timestamp())\n",
    "    weekly_gini['end_date'] = weekly_gini['start_date'] + timedelta(days=6)\n",
    "    weekly_gini = weekly_gini[['start_date', 'end_date', 'gini', 'period']]\n",
    "    \n",
    "    # Calculate monthly Gini\n",
    "    df['month'] = df['disbursementdate'].dt.to_period('M')\n",
    "    monthly_gini = df.groupby('month').apply(\n",
    "        lambda x: calculate_gini_for_threedigitscore(x[score_column], x[label_column])\n",
    "    ).reset_index(name='gini')\n",
    "    monthly_gini['period'] = 'Month'\n",
    "    monthly_gini['start_date'] = monthly_gini['month'].apply(lambda x: x.to_timestamp())\n",
    "    monthly_gini['end_date'] = monthly_gini['start_date'] + pd.DateOffset(months=1) - pd.Timedelta(days=1)\n",
    "    monthly_gini = monthly_gini[['start_date', 'end_date', 'gini', 'period']]\n",
    "    \n",
    "    # Combine and sort results\n",
    "    gini_results = pd.concat([weekly_gini, monthly_gini])\n",
    "    gini_results = gini_results.sort_values(by='start_date').reset_index(drop=True)\n",
    "    \n",
    "    # Add metadata columns\n",
    "    gini_results['Model_Name'] = score_column\n",
    "    gini_results['version'] = '1.1.0'\n",
    "    gini_results['bad_rate'] = namecolumn\n",
    "    gini_results.rename(columns={'gini': f'{score_column}_{namecolumn}_gini'}, inplace=True)\n",
    "    \n",
    "    return gini_results"
   ]
  },
  {
   "cell_type": "markdown",
   "metadata": {},
   "source": [
    "## calculate_periodic_gini"
   ]
  },
  {
   "cell_type": "code",
   "execution_count": 6,
   "metadata": {},
   "outputs": [],
   "source": [
    "def calculate_periodic_gini(df, score_column, label_column, namecolumn):\n",
    "    \"\"\"\n",
    "    Calculate periodic Gini coefficients\n",
    "    \n",
    "    Parameters:\n",
    "    df: DataFrame with disbursement dates and score/label columns\n",
    "    score_column: name of the score column\n",
    "    label_column: name of the label column\n",
    "    \"\"\"\n",
    "    # Input validation\n",
    "    required_columns = ['disbursementdate', score_column, label_column]\n",
    "    if not all(col in df.columns for col in required_columns):\n",
    "        raise ValueError(f\"Missing required columns. Need: {required_columns}\")\n",
    "        \n",
    "    # Create a copy to avoid modifying original dataframe\n",
    "    df = df.copy()\n",
    "    \n",
    "    # Ensure date is datetime type\n",
    "    df['disbursementdate'] = pd.to_datetime(df['disbursementdate'])\n",
    "    \n",
    "    # Ensure score and label columns are numeric\n",
    "    df[score_column] = pd.to_numeric(df[score_column], errors='coerce')\n",
    "    df[label_column] = pd.to_numeric(df[label_column], errors='coerce')\n",
    "    \n",
    "    # Drop rows with invalid values\n",
    "    df = df.dropna(subset=[score_column, label_column])\n",
    "    \n",
    "    # Calculate weekly Gini\n",
    "    df['week'] = df['disbursementdate'].dt.to_period('W')\n",
    "    weekly_gini = df.groupby('week').apply(\n",
    "        lambda x: calculate_gini(x[score_column], x[label_column])\n",
    "        if len(x) >= 10 else np.nan  # Only calculate if we have enough samples\n",
    "    ).reset_index(name='gini')\n",
    "    weekly_gini['period'] = 'Week'\n",
    "    weekly_gini['start_date'] = weekly_gini['week'].apply(lambda x: x.to_timestamp())\n",
    "    weekly_gini['end_date'] = weekly_gini['start_date'] + timedelta(days=6)\n",
    "    weekly_gini = weekly_gini[['start_date', 'end_date', 'gini', 'period']]\n",
    "    \n",
    "    # Calculate monthly Gini\n",
    "    df['month'] = df['disbursementdate'].dt.to_period('M')\n",
    "    monthly_gini = df.groupby('month').apply(\n",
    "        lambda x: calculate_gini(x[score_column], x[label_column])\n",
    "        if len(x) >= 20 else np.nan  # Only calculate if we have enough samples\n",
    "    ).reset_index(name='gini')\n",
    "    monthly_gini['period'] = 'Month'\n",
    "    monthly_gini['start_date'] = monthly_gini['month'].apply(lambda x: x.to_timestamp())\n",
    "    monthly_gini['end_date'] = monthly_gini['start_date'] + pd.DateOffset(months=1) - pd.Timedelta(days=1)\n",
    "    monthly_gini = monthly_gini[['start_date', 'end_date', 'gini', 'period']]\n",
    "    \n",
    "    # Combine and sort results\n",
    "    gini_results = pd.concat([weekly_gini, monthly_gini])\n",
    "    gini_results = gini_results.sort_values(by='start_date').reset_index(drop=True)\n",
    "    \n",
    "    # Add metadata columns\n",
    "    gini_results['Model_Name'] = score_column\n",
    "    gini_results['version'] = '1.1.0'\n",
    "    gini_results['bad_rate'] = namecolumn\n",
    "    gini_results.rename(columns={'gini': f'{score_column}_{namecolumn}_gini'}, inplace=True)\n",
    "    \n",
    "    return gini_results"
   ]
  },
  {
   "cell_type": "markdown",
   "metadata": {},
   "source": [
    "## calculate_periodic_hybrid_gini"
   ]
  },
  {
   "cell_type": "code",
   "execution_count": 7,
   "metadata": {},
   "outputs": [],
   "source": [
    "def calculate_periodic_hybrid_gini(df, score_column, label_column, namecolumn):\n",
    "    \"\"\"\n",
    "    Calculate periodic Gini coefficients for mixed score types\n",
    "    \n",
    "    Parameters:\n",
    "    df: DataFrame with disbursement dates and score/label columns\n",
    "    score_column: name of the score column\n",
    "    label_column: name of the label column\n",
    "    \"\"\"\n",
    "    # Input validation\n",
    "    required_columns = ['disbursementdate', score_column, label_column]\n",
    "    if not all(col in df.columns for col in required_columns):\n",
    "        raise ValueError(f\"Missing required columns. Need: {required_columns}\")\n",
    "        \n",
    "    # Create a copy to avoid modifying original dataframe\n",
    "    df = df.copy()\n",
    "    \n",
    "    # Ensure date is datetime type\n",
    "    df['disbursementdate'] = pd.to_datetime(df['disbursementdate'])\n",
    "    \n",
    "    # Ensure score and label columns are numeric\n",
    "    df[score_column] = pd.to_numeric(df[score_column], errors='coerce')\n",
    "    df[label_column] = pd.to_numeric(df[label_column], errors='coerce')\n",
    "    \n",
    "    # Drop rows with invalid values\n",
    "    df = df.dropna(subset=[score_column, label_column])\n",
    "    \n",
    "    # Calculate weekly Gini\n",
    "    df['week'] = df['disbursementdate'].dt.to_period('W')\n",
    "    weekly_gini = df.groupby('week').apply(\n",
    "        lambda x: calculate_hybrid_gini(x[score_column], x[label_column])\n",
    "        if len(x) >= 10 else np.nan  # Only calculate if we have enough samples\n",
    "    ).reset_index(name='gini')\n",
    "    weekly_gini['period'] = 'Week'\n",
    "    weekly_gini['start_date'] = weekly_gini['week'].apply(lambda x: x.to_timestamp())\n",
    "    weekly_gini['end_date'] = weekly_gini['start_date'] + pd.Timedelta(days=6)\n",
    "    weekly_gini = weekly_gini[['start_date', 'end_date', 'gini', 'period']]\n",
    "    \n",
    "    # Calculate monthly Gini\n",
    "    df['month'] = df['disbursementdate'].dt.to_period('M')\n",
    "    monthly_gini = df.groupby('month').apply(\n",
    "        lambda x: calculate_hybrid_gini(x[score_column], x[label_column])\n",
    "        if len(x) >= 20 else np.nan  # Only calculate if we have enough samples\n",
    "    ).reset_index(name='gini')\n",
    "    monthly_gini['period'] = 'Month'\n",
    "    monthly_gini['start_date'] = monthly_gini['month'].apply(lambda x: x.to_timestamp())\n",
    "    monthly_gini['end_date'] = monthly_gini['start_date'] + pd.DateOffset(months=1) - pd.Timedelta(days=1)\n",
    "    monthly_gini = monthly_gini[['start_date', 'end_date', 'gini', 'period']]\n",
    "    \n",
    "    # Combine and sort results\n",
    "    gini_results = pd.concat([weekly_gini, monthly_gini])\n",
    "    gini_results = gini_results.sort_values(by='start_date').reset_index(drop=True)\n",
    "    \n",
    "    # Add metadata columns\n",
    "    gini_results['Model_Name'] = score_column\n",
    "    gini_results['version'] = '1.1.0'\n",
    "    gini_results['bad_rate'] = namecolumn\n",
    "    gini_results.rename(columns={'gini': f'{score_column}_{namecolumn}_gini'}, inplace=True)\n",
    "    \n",
    "    return gini_results"
   ]
  },
  {
   "cell_type": "markdown",
   "metadata": {},
   "source": [
    "# App Score FPD10"
   ]
  },
  {
   "cell_type": "code",
   "execution_count": 8,
   "metadata": {},
   "outputs": [
    {
     "name": "stdout",
     "output_type": "stream",
     "text": [
      "Job ID 81384a5d-d184-4fb9-a88a-1b17e08e84a2 successfully executed: 100%|\u001b[32m██████████\u001b[0m|"
     ]
    },
    {
     "name": "stderr",
     "output_type": "stream",
     "text": [
      "d:\\Anaconda3\\envs\\inc_env\\lib\\site-packages\\google\\cloud\\bigquery\\table.py:1820: UserWarning: BigQuery Storage module not found, fetch data with the REST endpoint instead.\n",
      "  warnings.warn(\n"
     ]
    },
    {
     "name": "stdout",
     "output_type": "stream",
     "text": [
      "\n",
      "Downloading: 100%|\u001b[32m██████████\u001b[0m|\n"
     ]
    }
   ],
   "source": [
    "sq = \"\"\"with appscore as \n",
    "(SELECT \n",
    "    ln_disb_dtime disbursementdate,\n",
    "\tdigitalLoanAccountId,\n",
    "    s_apps_score,\n",
    "    ln_fpd10_flag,\n",
    "\tln_mature_fpd10_flag,\t\n",
    "\tFROM \n",
    "    prj-prod-dataplatform.risk_mart.sil_risk_ds_master_20230101_20250206\n",
    "  WHERE \n",
    "     -- ln_disb_dtime >= '2023-07-01'\n",
    "    ln_appln_submit_datetime >= '2023-06-01'\n",
    "  -- AND\n",
    "  --   format_date('%Y-%m', ln_disb_dtime) = '2024-09'\n",
    "  AND\n",
    "    ln_fpd10_flag is not null\n",
    "  AND\n",
    "    s_apps_score is not null\n",
    "  AND\n",
    "    ln_mature_fpd10_flag = 1\n",
    ")\n",
    "select * from appscore;\"\"\"\n",
    "\n",
    "dfappscorefpd10 = client.query(sq).to_dataframe(progress_bar_type = 'tqdm')"
   ]
  },
  {
   "cell_type": "code",
   "execution_count": 9,
   "metadata": {},
   "outputs": [
    {
     "data": {
      "text/html": [
       "<div>\n",
       "<style scoped>\n",
       "    .dataframe tbody tr th:only-of-type {\n",
       "        vertical-align: middle;\n",
       "    }\n",
       "\n",
       "    .dataframe tbody tr th {\n",
       "        vertical-align: top;\n",
       "    }\n",
       "\n",
       "    .dataframe thead th {\n",
       "        text-align: right;\n",
       "    }\n",
       "</style>\n",
       "<table border=\"1\" class=\"dataframe\">\n",
       "  <thead>\n",
       "    <tr style=\"text-align: right;\">\n",
       "      <th></th>\n",
       "      <th>disbursementdate</th>\n",
       "      <th>digitalLoanAccountId</th>\n",
       "      <th>s_apps_score</th>\n",
       "      <th>ln_fpd10_flag</th>\n",
       "      <th>ln_mature_fpd10_flag</th>\n",
       "    </tr>\n",
       "  </thead>\n",
       "  <tbody>\n",
       "    <tr>\n",
       "      <th>12067</th>\n",
       "      <td>2024-10-27 11:11:11</td>\n",
       "      <td>39f8c6f4-30df-4740-a10a-efb6c4e6d97f</td>\n",
       "      <td>0.697507</td>\n",
       "      <td>1</td>\n",
       "      <td>1</td>\n",
       "    </tr>\n",
       "    <tr>\n",
       "      <th>115526</th>\n",
       "      <td>2024-05-12 15:44:41</td>\n",
       "      <td>d528bf4a-4a76-48ac-a3fd-d4cba0c88ef8</td>\n",
       "      <td>0.453645</td>\n",
       "      <td>0</td>\n",
       "      <td>1</td>\n",
       "    </tr>\n",
       "    <tr>\n",
       "      <th>19608</th>\n",
       "      <td>2024-12-24 13:00:59</td>\n",
       "      <td>d0086da3-d119-445a-9736-f0332745ed0b</td>\n",
       "      <td>0.654137</td>\n",
       "      <td>0</td>\n",
       "      <td>1</td>\n",
       "    </tr>\n",
       "    <tr>\n",
       "      <th>136578</th>\n",
       "      <td>2024-05-22 14:10:34</td>\n",
       "      <td>3e2675bd-e162-4047-a37e-3ceadc3b9319</td>\n",
       "      <td>0.418178</td>\n",
       "      <td>0</td>\n",
       "      <td>1</td>\n",
       "    </tr>\n",
       "    <tr>\n",
       "      <th>109052</th>\n",
       "      <td>2024-12-08 16:05:47</td>\n",
       "      <td>5053756d-f6fb-4105-9704-7e92f760e4ea</td>\n",
       "      <td>0.288394</td>\n",
       "      <td>0</td>\n",
       "      <td>1</td>\n",
       "    </tr>\n",
       "  </tbody>\n",
       "</table>\n",
       "</div>"
      ],
      "text/plain": [
       "          disbursementdate                  digitalLoanAccountId  \\\n",
       "12067  2024-10-27 11:11:11  39f8c6f4-30df-4740-a10a-efb6c4e6d97f   \n",
       "115526 2024-05-12 15:44:41  d528bf4a-4a76-48ac-a3fd-d4cba0c88ef8   \n",
       "19608  2024-12-24 13:00:59  d0086da3-d119-445a-9736-f0332745ed0b   \n",
       "136578 2024-05-22 14:10:34  3e2675bd-e162-4047-a37e-3ceadc3b9319   \n",
       "109052 2024-12-08 16:05:47  5053756d-f6fb-4105-9704-7e92f760e4ea   \n",
       "\n",
       "        s_apps_score  ln_fpd10_flag  ln_mature_fpd10_flag  \n",
       "12067       0.697507              1                     1  \n",
       "115526      0.453645              0                     1  \n",
       "19608       0.654137              0                     1  \n",
       "136578      0.418178              0                     1  \n",
       "109052      0.288394              0                     1  "
      ]
     },
     "execution_count": 9,
     "metadata": {},
     "output_type": "execute_result"
    }
   ],
   "source": [
    "dfappscorefpd10.sample(5)"
   ]
  },
  {
   "cell_type": "code",
   "execution_count": 10,
   "metadata": {},
   "outputs": [],
   "source": [
    "gini_results = calculate_periodic_gini(dfappscorefpd10, 's_apps_score', 'ln_fpd10_flag', 'FPD10')"
   ]
  },
  {
   "cell_type": "code",
   "execution_count": 11,
   "metadata": {},
   "outputs": [
    {
     "data": {
      "text/html": [
       "<div>\n",
       "<style scoped>\n",
       "    .dataframe tbody tr th:only-of-type {\n",
       "        vertical-align: middle;\n",
       "    }\n",
       "\n",
       "    .dataframe tbody tr th {\n",
       "        vertical-align: top;\n",
       "    }\n",
       "\n",
       "    .dataframe thead th {\n",
       "        text-align: right;\n",
       "    }\n",
       "</style>\n",
       "<table border=\"1\" class=\"dataframe\">\n",
       "  <thead>\n",
       "    <tr style=\"text-align: right;\">\n",
       "      <th></th>\n",
       "      <th>start_date</th>\n",
       "      <th>end_date</th>\n",
       "      <th>s_apps_score_FPD10_gini</th>\n",
       "      <th>period</th>\n",
       "      <th>Model_Name</th>\n",
       "      <th>version</th>\n",
       "      <th>bad_rate</th>\n",
       "    </tr>\n",
       "  </thead>\n",
       "  <tbody>\n",
       "    <tr>\n",
       "      <th>0</th>\n",
       "      <td>2023-05-29</td>\n",
       "      <td>2023-06-04</td>\n",
       "      <td>0.548230</td>\n",
       "      <td>Week</td>\n",
       "      <td>s_apps_score</td>\n",
       "      <td>1.1.0</td>\n",
       "      <td>FPD10</td>\n",
       "    </tr>\n",
       "    <tr>\n",
       "      <th>1</th>\n",
       "      <td>2023-06-01</td>\n",
       "      <td>2023-06-30</td>\n",
       "      <td>0.384648</td>\n",
       "      <td>Month</td>\n",
       "      <td>s_apps_score</td>\n",
       "      <td>1.1.0</td>\n",
       "      <td>FPD10</td>\n",
       "    </tr>\n",
       "    <tr>\n",
       "      <th>2</th>\n",
       "      <td>2023-06-05</td>\n",
       "      <td>2023-06-11</td>\n",
       "      <td>0.500000</td>\n",
       "      <td>Week</td>\n",
       "      <td>s_apps_score</td>\n",
       "      <td>1.1.0</td>\n",
       "      <td>FPD10</td>\n",
       "    </tr>\n",
       "    <tr>\n",
       "      <th>3</th>\n",
       "      <td>2023-06-12</td>\n",
       "      <td>2023-06-18</td>\n",
       "      <td>0.555195</td>\n",
       "      <td>Week</td>\n",
       "      <td>s_apps_score</td>\n",
       "      <td>1.1.0</td>\n",
       "      <td>FPD10</td>\n",
       "    </tr>\n",
       "    <tr>\n",
       "      <th>4</th>\n",
       "      <td>2023-06-19</td>\n",
       "      <td>2023-06-25</td>\n",
       "      <td>0.004831</td>\n",
       "      <td>Week</td>\n",
       "      <td>s_apps_score</td>\n",
       "      <td>1.1.0</td>\n",
       "      <td>FPD10</td>\n",
       "    </tr>\n",
       "  </tbody>\n",
       "</table>\n",
       "</div>"
      ],
      "text/plain": [
       "  start_date   end_date  s_apps_score_FPD10_gini period    Model_Name version  \\\n",
       "0 2023-05-29 2023-06-04                 0.548230   Week  s_apps_score   1.1.0   \n",
       "1 2023-06-01 2023-06-30                 0.384648  Month  s_apps_score   1.1.0   \n",
       "2 2023-06-05 2023-06-11                 0.500000   Week  s_apps_score   1.1.0   \n",
       "3 2023-06-12 2023-06-18                 0.555195   Week  s_apps_score   1.1.0   \n",
       "4 2023-06-19 2023-06-25                 0.004831   Week  s_apps_score   1.1.0   \n",
       "\n",
       "  bad_rate  \n",
       "0    FPD10  \n",
       "1    FPD10  \n",
       "2    FPD10  \n",
       "3    FPD10  \n",
       "4    FPD10  "
      ]
     },
     "execution_count": 11,
     "metadata": {},
     "output_type": "execute_result"
    }
   ],
   "source": [
    "gini_results.head()"
   ]
  },
  {
   "cell_type": "code",
   "execution_count": 12,
   "metadata": {},
   "outputs": [
    {
     "name": "stdout",
     "output_type": "stream",
     "text": [
      "The shape of dataframe after copy is:\t(106, 7)\n"
     ]
    },
    {
     "data": {
      "text/plain": [
       "array(['start_date', 'end_date', 's_apps_score_FPD10_gini', 'period',\n",
       "       'Model_Name', 'version', 'bad_rate'], dtype=object)"
      ]
     },
     "execution_count": 12,
     "metadata": {},
     "output_type": "execute_result"
    }
   ],
   "source": [
    "appscoreFPD10 = gini_results.copy()\n",
    "print(f\"The shape of dataframe after copy is:\\t{appscoreFPD10.shape}\")\n",
    "appscoreFPD10.columns.values"
   ]
  },
  {
   "cell_type": "code",
   "execution_count": 13,
   "metadata": {},
   "outputs": [
    {
     "data": {
      "text/html": [
       "<div>\n",
       "<style scoped>\n",
       "    .dataframe tbody tr th:only-of-type {\n",
       "        vertical-align: middle;\n",
       "    }\n",
       "\n",
       "    .dataframe tbody tr th {\n",
       "        vertical-align: top;\n",
       "    }\n",
       "\n",
       "    .dataframe thead th {\n",
       "        text-align: right;\n",
       "    }\n",
       "</style>\n",
       "<table border=\"1\" class=\"dataframe\">\n",
       "  <thead>\n",
       "    <tr style=\"text-align: right;\">\n",
       "      <th></th>\n",
       "      <th>start_date</th>\n",
       "      <th>end_date</th>\n",
       "      <th>s_apps_score_FPD10_gini</th>\n",
       "      <th>period</th>\n",
       "      <th>Model_Name</th>\n",
       "      <th>version</th>\n",
       "      <th>bad_rate</th>\n",
       "    </tr>\n",
       "  </thead>\n",
       "  <tbody>\n",
       "    <tr>\n",
       "      <th>0</th>\n",
       "      <td>2023-05-29</td>\n",
       "      <td>2023-06-04</td>\n",
       "      <td>0.548230</td>\n",
       "      <td>Week</td>\n",
       "      <td>s_apps_score</td>\n",
       "      <td>1.1.0</td>\n",
       "      <td>FPD10</td>\n",
       "    </tr>\n",
       "    <tr>\n",
       "      <th>1</th>\n",
       "      <td>2023-06-01</td>\n",
       "      <td>2023-06-30</td>\n",
       "      <td>0.384648</td>\n",
       "      <td>Month</td>\n",
       "      <td>s_apps_score</td>\n",
       "      <td>1.1.0</td>\n",
       "      <td>FPD10</td>\n",
       "    </tr>\n",
       "    <tr>\n",
       "      <th>2</th>\n",
       "      <td>2023-06-05</td>\n",
       "      <td>2023-06-11</td>\n",
       "      <td>0.500000</td>\n",
       "      <td>Week</td>\n",
       "      <td>s_apps_score</td>\n",
       "      <td>1.1.0</td>\n",
       "      <td>FPD10</td>\n",
       "    </tr>\n",
       "    <tr>\n",
       "      <th>3</th>\n",
       "      <td>2023-06-12</td>\n",
       "      <td>2023-06-18</td>\n",
       "      <td>0.555195</td>\n",
       "      <td>Week</td>\n",
       "      <td>s_apps_score</td>\n",
       "      <td>1.1.0</td>\n",
       "      <td>FPD10</td>\n",
       "    </tr>\n",
       "    <tr>\n",
       "      <th>4</th>\n",
       "      <td>2023-06-19</td>\n",
       "      <td>2023-06-25</td>\n",
       "      <td>0.004831</td>\n",
       "      <td>Week</td>\n",
       "      <td>s_apps_score</td>\n",
       "      <td>1.1.0</td>\n",
       "      <td>FPD10</td>\n",
       "    </tr>\n",
       "  </tbody>\n",
       "</table>\n",
       "</div>"
      ],
      "text/plain": [
       "  start_date   end_date  s_apps_score_FPD10_gini period    Model_Name version  \\\n",
       "0 2023-05-29 2023-06-04                 0.548230   Week  s_apps_score   1.1.0   \n",
       "1 2023-06-01 2023-06-30                 0.384648  Month  s_apps_score   1.1.0   \n",
       "2 2023-06-05 2023-06-11                 0.500000   Week  s_apps_score   1.1.0   \n",
       "3 2023-06-12 2023-06-18                 0.555195   Week  s_apps_score   1.1.0   \n",
       "4 2023-06-19 2023-06-25                 0.004831   Week  s_apps_score   1.1.0   \n",
       "\n",
       "  bad_rate  \n",
       "0    FPD10  \n",
       "1    FPD10  \n",
       "2    FPD10  \n",
       "3    FPD10  \n",
       "4    FPD10  "
      ]
     },
     "execution_count": 13,
     "metadata": {},
     "output_type": "execute_result"
    }
   ],
   "source": [
    "gini_results.head()"
   ]
  },
  {
   "cell_type": "markdown",
   "metadata": {},
   "source": [
    "# App Score FPD30"
   ]
  },
  {
   "cell_type": "code",
   "execution_count": 14,
   "metadata": {},
   "outputs": [
    {
     "name": "stdout",
     "output_type": "stream",
     "text": [
      "Job ID fa5a3381-86bd-4639-9ef9-83fb498e2036 successfully executed: 100%|\u001b[32m██████████\u001b[0m|"
     ]
    },
    {
     "name": "stderr",
     "output_type": "stream",
     "text": [
      "d:\\Anaconda3\\envs\\inc_env\\lib\\site-packages\\google\\cloud\\bigquery\\table.py:1820: UserWarning: BigQuery Storage module not found, fetch data with the REST endpoint instead.\n",
      "  warnings.warn(\n"
     ]
    },
    {
     "name": "stdout",
     "output_type": "stream",
     "text": [
      "\n",
      "Downloading: 100%|\u001b[32m██████████\u001b[0m|\n"
     ]
    }
   ],
   "source": [
    "sq = \"\"\"\n",
    "with appscore as \n",
    "(SELECT \n",
    "    ln_disb_dtime disbursementdate,\n",
    "\tdigitalLoanAccountId,\n",
    "    s_apps_score,\n",
    "    ln_fpd30_flag,\n",
    "\tln_mature_fpd30_flag,\t\n",
    "\tFROM \n",
    "    prj-prod-dataplatform.risk_mart.sil_risk_ds_master_20230101_20250206\n",
    "  WHERE \n",
    "     -- ln_disb_dtime >= '2023-07-01'\n",
    "    ln_appln_submit_datetime >= '2023-06-01'\n",
    "  -- AND\n",
    "  --   format_date('%Y-%m', ln_disb_dtime) = '2024-09'\n",
    "  AND\n",
    "    ln_fpd30_flag is not null\n",
    "  AND\n",
    "    s_apps_score is not null\n",
    "  AND\n",
    "    ln_mature_fpd30_flag = 1\n",
    ")\n",
    "select * from appscore;\n",
    "\"\"\"\n",
    "\n",
    "dfappscorefpd30 = client.query(sq).to_dataframe(progress_bar_type = 'tqdm')"
   ]
  },
  {
   "cell_type": "code",
   "execution_count": 15,
   "metadata": {},
   "outputs": [
    {
     "data": {
      "text/html": [
       "<div>\n",
       "<style scoped>\n",
       "    .dataframe tbody tr th:only-of-type {\n",
       "        vertical-align: middle;\n",
       "    }\n",
       "\n",
       "    .dataframe tbody tr th {\n",
       "        vertical-align: top;\n",
       "    }\n",
       "\n",
       "    .dataframe thead th {\n",
       "        text-align: right;\n",
       "    }\n",
       "</style>\n",
       "<table border=\"1\" class=\"dataframe\">\n",
       "  <thead>\n",
       "    <tr style=\"text-align: right;\">\n",
       "      <th></th>\n",
       "      <th>disbursementdate</th>\n",
       "      <th>digitalLoanAccountId</th>\n",
       "      <th>s_apps_score</th>\n",
       "      <th>ln_fpd30_flag</th>\n",
       "      <th>ln_mature_fpd30_flag</th>\n",
       "    </tr>\n",
       "  </thead>\n",
       "  <tbody>\n",
       "    <tr>\n",
       "      <th>0</th>\n",
       "      <td>2023-06-22 14:25:06</td>\n",
       "      <td>12d13dfc-e307-4605-af97-361327cb3247</td>\n",
       "      <td>0.632675</td>\n",
       "      <td>0</td>\n",
       "      <td>1</td>\n",
       "    </tr>\n",
       "    <tr>\n",
       "      <th>1</th>\n",
       "      <td>2024-07-21 10:34:01</td>\n",
       "      <td>4238aea5-2cbb-4356-879b-71b4d3486fd2</td>\n",
       "      <td>0.497491</td>\n",
       "      <td>0</td>\n",
       "      <td>1</td>\n",
       "    </tr>\n",
       "    <tr>\n",
       "      <th>2</th>\n",
       "      <td>2023-12-31 10:00:00</td>\n",
       "      <td>ad89c5e8-d5bd-49a9-a10d-82139364463f</td>\n",
       "      <td>0.297527</td>\n",
       "      <td>0</td>\n",
       "      <td>1</td>\n",
       "    </tr>\n",
       "    <tr>\n",
       "      <th>3</th>\n",
       "      <td>2024-12-21 09:20:07</td>\n",
       "      <td>898c5779-730d-4755-8fb1-b18c254b30bd</td>\n",
       "      <td>0.552864</td>\n",
       "      <td>1</td>\n",
       "      <td>1</td>\n",
       "    </tr>\n",
       "    <tr>\n",
       "      <th>4</th>\n",
       "      <td>2024-12-16 17:44:58</td>\n",
       "      <td>a465017e-864c-4c77-84b2-1481fb8cfe9d</td>\n",
       "      <td>0.326016</td>\n",
       "      <td>0</td>\n",
       "      <td>1</td>\n",
       "    </tr>\n",
       "  </tbody>\n",
       "</table>\n",
       "</div>"
      ],
      "text/plain": [
       "     disbursementdate                  digitalLoanAccountId  s_apps_score  \\\n",
       "0 2023-06-22 14:25:06  12d13dfc-e307-4605-af97-361327cb3247      0.632675   \n",
       "1 2024-07-21 10:34:01  4238aea5-2cbb-4356-879b-71b4d3486fd2      0.497491   \n",
       "2 2023-12-31 10:00:00  ad89c5e8-d5bd-49a9-a10d-82139364463f      0.297527   \n",
       "3 2024-12-21 09:20:07  898c5779-730d-4755-8fb1-b18c254b30bd      0.552864   \n",
       "4 2024-12-16 17:44:58  a465017e-864c-4c77-84b2-1481fb8cfe9d      0.326016   \n",
       "\n",
       "   ln_fpd30_flag  ln_mature_fpd30_flag  \n",
       "0              0                     1  \n",
       "1              0                     1  \n",
       "2              0                     1  \n",
       "3              1                     1  \n",
       "4              0                     1  "
      ]
     },
     "execution_count": 15,
     "metadata": {},
     "output_type": "execute_result"
    }
   ],
   "source": [
    "dfappscorefpd30.head()"
   ]
  },
  {
   "cell_type": "code",
   "execution_count": 16,
   "metadata": {},
   "outputs": [
    {
     "name": "stdout",
     "output_type": "stream",
     "text": [
      "The shape of dataframe after copy is:\t(102, 7)\n"
     ]
    },
    {
     "data": {
      "text/plain": [
       "array(['start_date', 'end_date', 's_apps_score_FPD30_gini', 'period',\n",
       "       'Model_Name', 'version', 'bad_rate'], dtype=object)"
      ]
     },
     "execution_count": 16,
     "metadata": {},
     "output_type": "execute_result"
    }
   ],
   "source": [
    "gini_results = calculate_periodic_gini(dfappscorefpd30, 's_apps_score', 'ln_fpd30_flag', 'FPD30')\n",
    "# gini_results['bad_rate'] = 'FPD30'\n",
    "appscoreFPD30 = gini_results.copy()\n",
    "print(f\"The shape of dataframe after copy is:\\t{appscoreFPD30.shape}\")\n",
    "appscoreFPD30.columns.values"
   ]
  },
  {
   "cell_type": "code",
   "execution_count": 17,
   "metadata": {},
   "outputs": [
    {
     "data": {
      "text/html": [
       "<div>\n",
       "<style scoped>\n",
       "    .dataframe tbody tr th:only-of-type {\n",
       "        vertical-align: middle;\n",
       "    }\n",
       "\n",
       "    .dataframe tbody tr th {\n",
       "        vertical-align: top;\n",
       "    }\n",
       "\n",
       "    .dataframe thead th {\n",
       "        text-align: right;\n",
       "    }\n",
       "</style>\n",
       "<table border=\"1\" class=\"dataframe\">\n",
       "  <thead>\n",
       "    <tr style=\"text-align: right;\">\n",
       "      <th></th>\n",
       "      <th>start_date</th>\n",
       "      <th>end_date</th>\n",
       "      <th>s_apps_score_FPD30_gini</th>\n",
       "      <th>period</th>\n",
       "      <th>Model_Name</th>\n",
       "      <th>version</th>\n",
       "      <th>bad_rate</th>\n",
       "    </tr>\n",
       "  </thead>\n",
       "  <tbody>\n",
       "    <tr>\n",
       "      <th>1</th>\n",
       "      <td>2023-06-01</td>\n",
       "      <td>2023-06-30</td>\n",
       "      <td>0.351719</td>\n",
       "      <td>Month</td>\n",
       "      <td>s_apps_score</td>\n",
       "      <td>1.1.0</td>\n",
       "      <td>FPD30</td>\n",
       "    </tr>\n",
       "    <tr>\n",
       "      <th>10</th>\n",
       "      <td>2023-07-24</td>\n",
       "      <td>2023-07-30</td>\n",
       "      <td>0.291126</td>\n",
       "      <td>Week</td>\n",
       "      <td>s_apps_score</td>\n",
       "      <td>1.1.0</td>\n",
       "      <td>FPD30</td>\n",
       "    </tr>\n",
       "    <tr>\n",
       "      <th>12</th>\n",
       "      <td>2023-08-01</td>\n",
       "      <td>2023-08-31</td>\n",
       "      <td>0.343400</td>\n",
       "      <td>Month</td>\n",
       "      <td>s_apps_score</td>\n",
       "      <td>1.1.0</td>\n",
       "      <td>FPD30</td>\n",
       "    </tr>\n",
       "    <tr>\n",
       "      <th>25</th>\n",
       "      <td>2023-10-16</td>\n",
       "      <td>2023-10-22</td>\n",
       "      <td>0.279451</td>\n",
       "      <td>Week</td>\n",
       "      <td>s_apps_score</td>\n",
       "      <td>1.1.0</td>\n",
       "      <td>FPD30</td>\n",
       "    </tr>\n",
       "    <tr>\n",
       "      <th>96</th>\n",
       "      <td>2024-11-25</td>\n",
       "      <td>2024-12-01</td>\n",
       "      <td>0.277044</td>\n",
       "      <td>Week</td>\n",
       "      <td>s_apps_score</td>\n",
       "      <td>1.1.0</td>\n",
       "      <td>FPD30</td>\n",
       "    </tr>\n",
       "  </tbody>\n",
       "</table>\n",
       "</div>"
      ],
      "text/plain": [
       "   start_date   end_date  s_apps_score_FPD30_gini period    Model_Name  \\\n",
       "1  2023-06-01 2023-06-30                 0.351719  Month  s_apps_score   \n",
       "10 2023-07-24 2023-07-30                 0.291126   Week  s_apps_score   \n",
       "12 2023-08-01 2023-08-31                 0.343400  Month  s_apps_score   \n",
       "25 2023-10-16 2023-10-22                 0.279451   Week  s_apps_score   \n",
       "96 2024-11-25 2024-12-01                 0.277044   Week  s_apps_score   \n",
       "\n",
       "   version bad_rate  \n",
       "1    1.1.0    FPD30  \n",
       "10   1.1.0    FPD30  \n",
       "12   1.1.0    FPD30  \n",
       "25   1.1.0    FPD30  \n",
       "96   1.1.0    FPD30  "
      ]
     },
     "execution_count": 17,
     "metadata": {},
     "output_type": "execute_result"
    }
   ],
   "source": [
    "gini_results.sample(5)"
   ]
  },
  {
   "cell_type": "markdown",
   "metadata": {},
   "source": [
    "# App Score FSPD30"
   ]
  },
  {
   "cell_type": "code",
   "execution_count": 18,
   "metadata": {},
   "outputs": [
    {
     "name": "stdout",
     "output_type": "stream",
     "text": [
      "Job ID 48438ad1-1de2-47bf-a492-95a8296bfff8 successfully executed: 100%|\u001b[32m██████████\u001b[0m|"
     ]
    },
    {
     "name": "stderr",
     "output_type": "stream",
     "text": [
      "d:\\Anaconda3\\envs\\inc_env\\lib\\site-packages\\google\\cloud\\bigquery\\table.py:1820: UserWarning: BigQuery Storage module not found, fetch data with the REST endpoint instead.\n",
      "  warnings.warn(\n"
     ]
    },
    {
     "name": "stdout",
     "output_type": "stream",
     "text": [
      "\n",
      "Downloading: 100%|\u001b[32m██████████\u001b[0m|\n"
     ]
    }
   ],
   "source": [
    "sq = \"\"\"with appscore as \n",
    "(SELECT \n",
    "    ln_disb_dtime disbursementdate,\n",
    "\tdigitalLoanAccountId,\n",
    "    s_apps_score,\n",
    "    ln_fspd30_flag,\n",
    "\tln_mature_fspd30_flag,\t\n",
    "\tFROM \n",
    "    prj-prod-dataplatform.risk_mart.sil_risk_ds_master_20230101_20250206\n",
    "  WHERE \n",
    "     -- ln_disb_dtime >= '2023-07-01'\n",
    "    ln_appln_submit_datetime >= '2023-06-01'\n",
    "  -- AND\n",
    "  --   format_date('%Y-%m', ln_disb_dtime) = '2024-09'\n",
    "  AND\n",
    "    ln_fspd30_flag is not null\n",
    "  AND\n",
    "    s_apps_score is not null\n",
    "  AND\n",
    "    ln_mature_fspd30_flag = 1\n",
    ")\n",
    "select * from appscore;\n",
    "\"\"\"\n",
    "\n",
    "dfappscorefspd30 = client.query(sq).to_dataframe(progress_bar_type = 'tqdm')"
   ]
  },
  {
   "cell_type": "code",
   "execution_count": 19,
   "metadata": {},
   "outputs": [
    {
     "name": "stdout",
     "output_type": "stream",
     "text": [
      "The shape of dataframe after copy is:\t(97, 7)\n"
     ]
    },
    {
     "data": {
      "text/plain": [
       "array(['start_date', 'end_date', 's_apps_score_FSPD30_gini', 'period',\n",
       "       'Model_Name', 'version', 'bad_rate'], dtype=object)"
      ]
     },
     "execution_count": 19,
     "metadata": {},
     "output_type": "execute_result"
    }
   ],
   "source": [
    "gini_results = calculate_periodic_gini(dfappscorefspd30, 's_apps_score', 'ln_fspd30_flag', 'FSPD30')\n",
    "# gini_results['bad_rate'] = 'FSPD30'\n",
    "appscoreFSPD30 = gini_results.copy()\n",
    "print(f\"The shape of dataframe after copy is:\\t{appscoreFSPD30.shape}\")\n",
    "appscoreFSPD30.columns.values"
   ]
  },
  {
   "cell_type": "code",
   "execution_count": 20,
   "metadata": {},
   "outputs": [
    {
     "data": {
      "text/html": [
       "<div>\n",
       "<style scoped>\n",
       "    .dataframe tbody tr th:only-of-type {\n",
       "        vertical-align: middle;\n",
       "    }\n",
       "\n",
       "    .dataframe tbody tr th {\n",
       "        vertical-align: top;\n",
       "    }\n",
       "\n",
       "    .dataframe thead th {\n",
       "        text-align: right;\n",
       "    }\n",
       "</style>\n",
       "<table border=\"1\" class=\"dataframe\">\n",
       "  <thead>\n",
       "    <tr style=\"text-align: right;\">\n",
       "      <th></th>\n",
       "      <th>start_date</th>\n",
       "      <th>end_date</th>\n",
       "      <th>s_apps_score_FSPD30_gini</th>\n",
       "      <th>period</th>\n",
       "      <th>Model_Name</th>\n",
       "      <th>version</th>\n",
       "      <th>bad_rate</th>\n",
       "    </tr>\n",
       "  </thead>\n",
       "  <tbody>\n",
       "    <tr>\n",
       "      <th>92</th>\n",
       "      <td>2024-11-01</td>\n",
       "      <td>2024-11-30</td>\n",
       "      <td>0.298595</td>\n",
       "      <td>Month</td>\n",
       "      <td>s_apps_score</td>\n",
       "      <td>1.1.0</td>\n",
       "      <td>FSPD30</td>\n",
       "    </tr>\n",
       "    <tr>\n",
       "      <th>93</th>\n",
       "      <td>2024-11-04</td>\n",
       "      <td>2024-11-10</td>\n",
       "      <td>0.295698</td>\n",
       "      <td>Week</td>\n",
       "      <td>s_apps_score</td>\n",
       "      <td>1.1.0</td>\n",
       "      <td>FSPD30</td>\n",
       "    </tr>\n",
       "    <tr>\n",
       "      <th>94</th>\n",
       "      <td>2024-11-11</td>\n",
       "      <td>2024-11-17</td>\n",
       "      <td>0.306730</td>\n",
       "      <td>Week</td>\n",
       "      <td>s_apps_score</td>\n",
       "      <td>1.1.0</td>\n",
       "      <td>FSPD30</td>\n",
       "    </tr>\n",
       "    <tr>\n",
       "      <th>95</th>\n",
       "      <td>2024-11-18</td>\n",
       "      <td>2024-11-24</td>\n",
       "      <td>0.277736</td>\n",
       "      <td>Week</td>\n",
       "      <td>s_apps_score</td>\n",
       "      <td>1.1.0</td>\n",
       "      <td>FSPD30</td>\n",
       "    </tr>\n",
       "    <tr>\n",
       "      <th>96</th>\n",
       "      <td>2024-11-25</td>\n",
       "      <td>2024-12-01</td>\n",
       "      <td>0.245972</td>\n",
       "      <td>Week</td>\n",
       "      <td>s_apps_score</td>\n",
       "      <td>1.1.0</td>\n",
       "      <td>FSPD30</td>\n",
       "    </tr>\n",
       "  </tbody>\n",
       "</table>\n",
       "</div>"
      ],
      "text/plain": [
       "   start_date   end_date  s_apps_score_FSPD30_gini period    Model_Name  \\\n",
       "92 2024-11-01 2024-11-30                  0.298595  Month  s_apps_score   \n",
       "93 2024-11-04 2024-11-10                  0.295698   Week  s_apps_score   \n",
       "94 2024-11-11 2024-11-17                  0.306730   Week  s_apps_score   \n",
       "95 2024-11-18 2024-11-24                  0.277736   Week  s_apps_score   \n",
       "96 2024-11-25 2024-12-01                  0.245972   Week  s_apps_score   \n",
       "\n",
       "   version bad_rate  \n",
       "92   1.1.0   FSPD30  \n",
       "93   1.1.0   FSPD30  \n",
       "94   1.1.0   FSPD30  \n",
       "95   1.1.0   FSPD30  \n",
       "96   1.1.0   FSPD30  "
      ]
     },
     "execution_count": 20,
     "metadata": {},
     "output_type": "execute_result"
    }
   ],
   "source": [
    "gini_results.tail()"
   ]
  },
  {
   "cell_type": "markdown",
   "metadata": {},
   "source": [
    "# App Score FSTPD30"
   ]
  },
  {
   "cell_type": "code",
   "execution_count": 21,
   "metadata": {},
   "outputs": [
    {
     "name": "stdout",
     "output_type": "stream",
     "text": [
      "Job ID 50760ff6-0dd7-495c-b41a-85fa0048b03d successfully executed: 100%|\u001b[32m██████████\u001b[0m|"
     ]
    },
    {
     "name": "stderr",
     "output_type": "stream",
     "text": [
      "d:\\Anaconda3\\envs\\inc_env\\lib\\site-packages\\google\\cloud\\bigquery\\table.py:1820: UserWarning: BigQuery Storage module not found, fetch data with the REST endpoint instead.\n",
      "  warnings.warn(\n"
     ]
    },
    {
     "name": "stdout",
     "output_type": "stream",
     "text": [
      "\n",
      "Downloading: 100%|\u001b[32m██████████\u001b[0m|\n"
     ]
    }
   ],
   "source": [
    "sq = \"\"\"with appscore as \n",
    "(SELECT \n",
    "    ln_disb_dtime disbursementdate,\n",
    "\tdigitalLoanAccountId,\n",
    "    s_apps_score,\n",
    "    ln_fstpd30_flag,\n",
    "\tln_mature_fstpd30_flag,\t\n",
    "\tFROM \n",
    "    prj-prod-dataplatform.risk_mart.sil_risk_ds_master_20230101_20250206\n",
    "  WHERE \n",
    "     -- ln_disb_dtime >= '2023-07-01'\n",
    "    ln_appln_submit_datetime >= '2023-06-01'\n",
    "  -- AND\n",
    "  --   format_date('%Y-%m', ln_disb_dtime) = '2024-09'\n",
    "  AND\n",
    "    ln_fstpd30_flag is not null\n",
    "  AND\n",
    "    s_apps_score is not null\n",
    "  AND\n",
    "    ln_mature_fstpd30_flag = 1\n",
    ")\n",
    "select * from appscore;\n",
    "\"\"\"\n",
    "\n",
    "dfappscorefstpd30 = client.query(sq).to_dataframe(progress_bar_type = 'tqdm')"
   ]
  },
  {
   "cell_type": "code",
   "execution_count": 22,
   "metadata": {},
   "outputs": [
    {
     "name": "stdout",
     "output_type": "stream",
     "text": [
      "The shape of dataframe after copy is:\t(91, 7)\n"
     ]
    },
    {
     "data": {
      "text/plain": [
       "array(['start_date', 'end_date', 's_apps_score_FSTPD30_gini', 'period',\n",
       "       'Model_Name', 'version', 'bad_rate'], dtype=object)"
      ]
     },
     "execution_count": 22,
     "metadata": {},
     "output_type": "execute_result"
    }
   ],
   "source": [
    "gini_results = calculate_periodic_gini(dfappscorefstpd30, 's_apps_score', 'ln_fstpd30_flag', 'FSTPD30')\n",
    "# gini_results['bad_rate'] = 'FSTPD30'\n",
    "appscoreFSTPD30 = gini_results.copy()\n",
    "print(f\"The shape of dataframe after copy is:\\t{appscoreFSTPD30.shape}\")\n",
    "appscoreFSTPD30.columns.values"
   ]
  },
  {
   "cell_type": "code",
   "execution_count": 23,
   "metadata": {},
   "outputs": [
    {
     "data": {
      "text/html": [
       "<div>\n",
       "<style scoped>\n",
       "    .dataframe tbody tr th:only-of-type {\n",
       "        vertical-align: middle;\n",
       "    }\n",
       "\n",
       "    .dataframe tbody tr th {\n",
       "        vertical-align: top;\n",
       "    }\n",
       "\n",
       "    .dataframe thead th {\n",
       "        text-align: right;\n",
       "    }\n",
       "</style>\n",
       "<table border=\"1\" class=\"dataframe\">\n",
       "  <thead>\n",
       "    <tr style=\"text-align: right;\">\n",
       "      <th></th>\n",
       "      <th>start_date</th>\n",
       "      <th>end_date</th>\n",
       "      <th>s_apps_score_FSTPD30_gini</th>\n",
       "      <th>period</th>\n",
       "      <th>Model_Name</th>\n",
       "      <th>version</th>\n",
       "      <th>bad_rate</th>\n",
       "    </tr>\n",
       "  </thead>\n",
       "  <tbody>\n",
       "    <tr>\n",
       "      <th>0</th>\n",
       "      <td>2023-05-29</td>\n",
       "      <td>2023-06-04</td>\n",
       "      <td>0.465098</td>\n",
       "      <td>Week</td>\n",
       "      <td>s_apps_score</td>\n",
       "      <td>1.1.0</td>\n",
       "      <td>FSTPD30</td>\n",
       "    </tr>\n",
       "    <tr>\n",
       "      <th>1</th>\n",
       "      <td>2023-06-01</td>\n",
       "      <td>2023-06-30</td>\n",
       "      <td>0.337420</td>\n",
       "      <td>Month</td>\n",
       "      <td>s_apps_score</td>\n",
       "      <td>1.1.0</td>\n",
       "      <td>FSTPD30</td>\n",
       "    </tr>\n",
       "    <tr>\n",
       "      <th>2</th>\n",
       "      <td>2023-06-05</td>\n",
       "      <td>2023-06-11</td>\n",
       "      <td>0.413300</td>\n",
       "      <td>Week</td>\n",
       "      <td>s_apps_score</td>\n",
       "      <td>1.1.0</td>\n",
       "      <td>FSTPD30</td>\n",
       "    </tr>\n",
       "    <tr>\n",
       "      <th>3</th>\n",
       "      <td>2023-06-12</td>\n",
       "      <td>2023-06-18</td>\n",
       "      <td>0.395676</td>\n",
       "      <td>Week</td>\n",
       "      <td>s_apps_score</td>\n",
       "      <td>1.1.0</td>\n",
       "      <td>FSTPD30</td>\n",
       "    </tr>\n",
       "    <tr>\n",
       "      <th>4</th>\n",
       "      <td>2023-06-19</td>\n",
       "      <td>2023-06-25</td>\n",
       "      <td>0.314497</td>\n",
       "      <td>Week</td>\n",
       "      <td>s_apps_score</td>\n",
       "      <td>1.1.0</td>\n",
       "      <td>FSTPD30</td>\n",
       "    </tr>\n",
       "  </tbody>\n",
       "</table>\n",
       "</div>"
      ],
      "text/plain": [
       "  start_date   end_date  s_apps_score_FSTPD30_gini period    Model_Name  \\\n",
       "0 2023-05-29 2023-06-04                   0.465098   Week  s_apps_score   \n",
       "1 2023-06-01 2023-06-30                   0.337420  Month  s_apps_score   \n",
       "2 2023-06-05 2023-06-11                   0.413300   Week  s_apps_score   \n",
       "3 2023-06-12 2023-06-18                   0.395676   Week  s_apps_score   \n",
       "4 2023-06-19 2023-06-25                   0.314497   Week  s_apps_score   \n",
       "\n",
       "  version bad_rate  \n",
       "0   1.1.0  FSTPD30  \n",
       "1   1.1.0  FSTPD30  \n",
       "2   1.1.0  FSTPD30  \n",
       "3   1.1.0  FSTPD30  \n",
       "4   1.1.0  FSTPD30  "
      ]
     },
     "execution_count": 23,
     "metadata": {},
     "output_type": "execute_result"
    }
   ],
   "source": [
    "appscoreFSTPD30.head()"
   ]
  },
  {
   "cell_type": "markdown",
   "metadata": {},
   "source": [
    "# Combining App Score"
   ]
  },
  {
   "cell_type": "code",
   "execution_count": 24,
   "metadata": {},
   "outputs": [
    {
     "data": {
      "text/plain": [
       "array(['start_date', 'end_date', 's_apps_score_FPD10_gini', 'period',\n",
       "       'Model_Name', 'version', 'bad_rate', 's_apps_score_FPD30_gini',\n",
       "       's_apps_score_FSPD30_gini', 's_apps_score_FSTPD30_gini'],\n",
       "      dtype=object)"
      ]
     },
     "execution_count": 24,
     "metadata": {},
     "output_type": "execute_result"
    }
   ],
   "source": [
    "import functools\n",
    "\n",
    "dataframes = [appscoreFPD10, appscoreFPD30, appscoreFSPD30, appscoreFSTPD30]\n",
    "common_columns = ['start_date', 'end_date', 'period', 'Model_Name','version', 'bad_rate']\n",
    "\n",
    "def merge_dataframes(df1, df2):\n",
    "    return pd.merge(df1, df2, on=common_columns, how='outer')\n",
    "\n",
    "final_df = functools.reduce(merge_dataframes, dataframes)\n",
    "\n",
    "final_df.columns.values"
   ]
  },
  {
   "cell_type": "code",
   "execution_count": 25,
   "metadata": {},
   "outputs": [
    {
     "data": {
      "text/plain": [
       "start_date                   datetime64[ns]\n",
       "end_date                     datetime64[ns]\n",
       "period                               object\n",
       "Model_Name                           object\n",
       "version                              object\n",
       "bad_rate                             object\n",
       "s_apps_score_FSTPD30_gini           float64\n",
       "s_apps_score_FSPD30_gini            float64\n",
       "s_apps_score_FPD30_gini             float64\n",
       "s_apps_score_FPD10_gini             float64\n",
       "dtype: object"
      ]
     },
     "execution_count": 25,
     "metadata": {},
     "output_type": "execute_result"
    }
   ],
   "source": [
    "final_df = final_df[['start_date', 'end_date', 'period',   'Model_Name', 'version', 'bad_rate','s_apps_score_FSTPD30_gini','s_apps_score_FSPD30_gini',\n",
    "       's_apps_score_FPD30_gini', 's_apps_score_FPD10_gini']].copy()\n",
    "final_df.dtypes"
   ]
  },
  {
   "cell_type": "markdown",
   "metadata": {},
   "source": [
    "## Creating app score table "
   ]
  },
  {
   "cell_type": "code",
   "execution_count": 26,
   "metadata": {},
   "outputs": [
    {
     "data": {
      "text/plain": [
       "QueryJob<project=prj-prod-dataplatform, location=asia-southeast1, id=5f93b95b-f6df-4991-ad7a-ffb978d2fea3>"
      ]
     },
     "execution_count": 26,
     "metadata": {},
     "output_type": "execute_result"
    }
   ],
   "source": [
    "sq = \"\"\"drop table if exists prj-prod-dataplatform.dap_ds_poweruser_playground.Model_gini_s_apps_score;\"\"\"\n",
    "client.query(sq)"
   ]
  },
  {
   "cell_type": "code",
   "execution_count": 27,
   "metadata": {},
   "outputs": [
    {
     "data": {
      "text/plain": [
       "LoadJob<project=prj-prod-dataplatform, location=asia-southeast1, id=efc3ca7a-3e63-451c-b4f9-903743024e7e>"
      ]
     },
     "execution_count": 27,
     "metadata": {},
     "output_type": "execute_result"
    }
   ],
   "source": [
    "import pandas as pd\n",
    "from google.cloud import bigquery\n",
    "\n",
    "# Create a BigQuery client\n",
    "client = bigquery.Client('prj-prod-dataplatform')\n",
    "\n",
    "# Define your table schema\n",
    "table_schema = [\n",
    "    bigquery.SchemaField('start_date', 'TIMESTAMP'),\n",
    "    bigquery.SchemaField('end_date', 'TIMESTAMP'),\n",
    "    bigquery.SchemaField('period', 'STRING'),\n",
    "    bigquery.SchemaField('Model_Name', 'STRING'),\n",
    "    bigquery.SchemaField('version', 'STRING'),\n",
    "    bigquery.SchemaField('Badrate', 'STRING'),\n",
    "    bigquery.SchemaField('s_apps_score_FSTPD30_gini', 'FLOAT'),\n",
    "    bigquery.SchemaField('s_apps_score_FSPD30_gini', 'FLOAT'),\n",
    "    bigquery.SchemaField('s_apps_score_FPD30_gini', 'FLOAT'),\n",
    "    bigquery.SchemaField('s_apps_score_fpd10_gini', 'FLOAT')\n",
    "]\n",
    "\n",
    "# Create your BigQuery table\n",
    "table_id = 'prj-prod-dataplatform.dap_ds_poweruser_playground.Model_gini_s_apps_score'\n",
    "table = bigquery.Table(table_id, schema=table_schema)\n",
    "table = client.create_table(table)\n",
    "\n",
    "# Load your DataFrame into BigQuery\n",
    "job_config = bigquery.LoadJobConfig(\n",
    "    write_disposition='WRITE_TRUNCATE'\n",
    ")\n",
    "\n",
    "load_job = client.load_table_from_dataframe(\n",
    "    final_df, table_id, job_config=job_config\n",
    ")\n",
    "\n",
    "load_job.result()"
   ]
  },
  {
   "cell_type": "markdown",
   "metadata": {},
   "source": [
    "# sb_demo_score"
   ]
  },
  {
   "cell_type": "markdown",
   "metadata": {},
   "source": [
    "## FPD10"
   ]
  },
  {
   "cell_type": "code",
   "execution_count": 28,
   "metadata": {},
   "outputs": [
    {
     "name": "stdout",
     "output_type": "stream",
     "text": [
      "Job ID 312d825a-4dee-4f86-a20c-a825eea7ab40 successfully executed: 100%|\u001b[32m██████████\u001b[0m|"
     ]
    },
    {
     "name": "stderr",
     "output_type": "stream",
     "text": [
      "d:\\Anaconda3\\envs\\inc_env\\lib\\site-packages\\google\\cloud\\bigquery\\table.py:1820: UserWarning: BigQuery Storage module not found, fetch data with the REST endpoint instead.\n",
      "  warnings.warn(\n"
     ]
    },
    {
     "name": "stdout",
     "output_type": "stream",
     "text": [
      "\n",
      "Downloading: 100%|\u001b[32m██████████\u001b[0m|\n"
     ]
    }
   ],
   "source": [
    "sq = \"\"\"\n",
    "with sb_demo_score as \n",
    "(SELECT \n",
    "    ln_disb_dtime disbursementdate,\n",
    "\tdigitalLoanAccountId,\n",
    "    sb_demo_score,\n",
    "    ln_fpd10_flag,\n",
    "\tln_mature_fpd10_flag,\t\n",
    "\tFROM \n",
    "    prj-prod-dataplatform.risk_mart.sil_risk_ds_master_20230101_20250206\n",
    "  WHERE \n",
    "     -- ln_disb_dtime >= '2023-07-01'\n",
    "    ln_appln_submit_datetime >= '2023-06-01'\n",
    "  -- AND\n",
    "  --   format_date('%Y-%m', ln_disb_dtime) = '2024-09'\n",
    "  AND\n",
    "    ln_fpd10_flag is not null\n",
    "  AND\n",
    "    sb_demo_score is not null\n",
    "  AND\n",
    "    ln_mature_fpd10_flag = 1\n",
    ")\n",
    "select * from sb_demo_score;\n",
    "\"\"\"\n",
    "\n",
    "df_sb_demo_scorefpd10 = client.query(sq).to_dataframe(progress_bar_type='tqdm')"
   ]
  },
  {
   "cell_type": "code",
   "execution_count": 29,
   "metadata": {},
   "outputs": [
    {
     "data": {
      "text/html": [
       "<div>\n",
       "<style scoped>\n",
       "    .dataframe tbody tr th:only-of-type {\n",
       "        vertical-align: middle;\n",
       "    }\n",
       "\n",
       "    .dataframe tbody tr th {\n",
       "        vertical-align: top;\n",
       "    }\n",
       "\n",
       "    .dataframe thead th {\n",
       "        text-align: right;\n",
       "    }\n",
       "</style>\n",
       "<table border=\"1\" class=\"dataframe\">\n",
       "  <thead>\n",
       "    <tr style=\"text-align: right;\">\n",
       "      <th></th>\n",
       "      <th>disbursementdate</th>\n",
       "      <th>digitalLoanAccountId</th>\n",
       "      <th>sb_demo_score</th>\n",
       "      <th>ln_fpd10_flag</th>\n",
       "      <th>ln_mature_fpd10_flag</th>\n",
       "    </tr>\n",
       "  </thead>\n",
       "  <tbody>\n",
       "    <tr>\n",
       "      <th>0</th>\n",
       "      <td>2023-06-22 14:25:06</td>\n",
       "      <td>12d13dfc-e307-4605-af97-361327cb3247</td>\n",
       "      <td>0.125463</td>\n",
       "      <td>0</td>\n",
       "      <td>1</td>\n",
       "    </tr>\n",
       "    <tr>\n",
       "      <th>1</th>\n",
       "      <td>2024-07-21 10:34:01</td>\n",
       "      <td>4238aea5-2cbb-4356-879b-71b4d3486fd2</td>\n",
       "      <td>0.194623</td>\n",
       "      <td>0</td>\n",
       "      <td>1</td>\n",
       "    </tr>\n",
       "    <tr>\n",
       "      <th>2</th>\n",
       "      <td>2023-12-31 10:00:00</td>\n",
       "      <td>ad89c5e8-d5bd-49a9-a10d-82139364463f</td>\n",
       "      <td>0.135019</td>\n",
       "      <td>0</td>\n",
       "      <td>1</td>\n",
       "    </tr>\n",
       "    <tr>\n",
       "      <th>3</th>\n",
       "      <td>2025-01-12 11:44:47</td>\n",
       "      <td>5d1c5ea0-6808-45b4-bb45-76ea9812d42f</td>\n",
       "      <td>0.188463</td>\n",
       "      <td>0</td>\n",
       "      <td>1</td>\n",
       "    </tr>\n",
       "    <tr>\n",
       "      <th>4</th>\n",
       "      <td>2024-12-21 09:20:07</td>\n",
       "      <td>898c5779-730d-4755-8fb1-b18c254b30bd</td>\n",
       "      <td>0.220743</td>\n",
       "      <td>1</td>\n",
       "      <td>1</td>\n",
       "    </tr>\n",
       "  </tbody>\n",
       "</table>\n",
       "</div>"
      ],
      "text/plain": [
       "     disbursementdate                  digitalLoanAccountId  sb_demo_score  \\\n",
       "0 2023-06-22 14:25:06  12d13dfc-e307-4605-af97-361327cb3247       0.125463   \n",
       "1 2024-07-21 10:34:01  4238aea5-2cbb-4356-879b-71b4d3486fd2       0.194623   \n",
       "2 2023-12-31 10:00:00  ad89c5e8-d5bd-49a9-a10d-82139364463f       0.135019   \n",
       "3 2025-01-12 11:44:47  5d1c5ea0-6808-45b4-bb45-76ea9812d42f       0.188463   \n",
       "4 2024-12-21 09:20:07  898c5779-730d-4755-8fb1-b18c254b30bd       0.220743   \n",
       "\n",
       "   ln_fpd10_flag  ln_mature_fpd10_flag  \n",
       "0              0                     1  \n",
       "1              0                     1  \n",
       "2              0                     1  \n",
       "3              0                     1  \n",
       "4              1                     1  "
      ]
     },
     "execution_count": 29,
     "metadata": {},
     "output_type": "execute_result"
    }
   ],
   "source": [
    "df_sb_demo_scorefpd10.head()"
   ]
  },
  {
   "cell_type": "code",
   "execution_count": 30,
   "metadata": {},
   "outputs": [
    {
     "name": "stdout",
     "output_type": "stream",
     "text": [
      "The shape of dataframe after copy is:\t(106, 7)\n"
     ]
    },
    {
     "data": {
      "text/plain": [
       "array(['start_date', 'end_date', 'sb_demo_score_FPD10_gini', 'period',\n",
       "       'Model_Name', 'version', 'bad_rate'], dtype=object)"
      ]
     },
     "execution_count": 30,
     "metadata": {},
     "output_type": "execute_result"
    }
   ],
   "source": [
    "gini_results = calculate_periodic_gini(df_sb_demo_scorefpd10, 'sb_demo_score', 'ln_fpd10_flag', 'FPD10')\n",
    "sb_demo_scoreFPD10 = gini_results.copy()\n",
    "print(f\"The shape of dataframe after copy is:\\t{sb_demo_scoreFPD10.shape}\")\n",
    "sb_demo_scoreFPD10.columns.values"
   ]
  },
  {
   "cell_type": "code",
   "execution_count": 31,
   "metadata": {},
   "outputs": [
    {
     "data": {
      "text/html": [
       "<div>\n",
       "<style scoped>\n",
       "    .dataframe tbody tr th:only-of-type {\n",
       "        vertical-align: middle;\n",
       "    }\n",
       "\n",
       "    .dataframe tbody tr th {\n",
       "        vertical-align: top;\n",
       "    }\n",
       "\n",
       "    .dataframe thead th {\n",
       "        text-align: right;\n",
       "    }\n",
       "</style>\n",
       "<table border=\"1\" class=\"dataframe\">\n",
       "  <thead>\n",
       "    <tr style=\"text-align: right;\">\n",
       "      <th></th>\n",
       "      <th>start_date</th>\n",
       "      <th>end_date</th>\n",
       "      <th>sb_demo_score_FPD10_gini</th>\n",
       "      <th>period</th>\n",
       "      <th>Model_Name</th>\n",
       "      <th>version</th>\n",
       "      <th>bad_rate</th>\n",
       "    </tr>\n",
       "  </thead>\n",
       "  <tbody>\n",
       "    <tr>\n",
       "      <th>101</th>\n",
       "      <td>2024-12-23</td>\n",
       "      <td>2024-12-29</td>\n",
       "      <td>0.235289</td>\n",
       "      <td>Week</td>\n",
       "      <td>sb_demo_score</td>\n",
       "      <td>1.1.0</td>\n",
       "      <td>FPD10</td>\n",
       "    </tr>\n",
       "    <tr>\n",
       "      <th>102</th>\n",
       "      <td>2024-12-30</td>\n",
       "      <td>2025-01-05</td>\n",
       "      <td>0.257868</td>\n",
       "      <td>Week</td>\n",
       "      <td>sb_demo_score</td>\n",
       "      <td>1.1.0</td>\n",
       "      <td>FPD10</td>\n",
       "    </tr>\n",
       "    <tr>\n",
       "      <th>103</th>\n",
       "      <td>2025-01-01</td>\n",
       "      <td>2025-01-31</td>\n",
       "      <td>0.237870</td>\n",
       "      <td>Month</td>\n",
       "      <td>sb_demo_score</td>\n",
       "      <td>1.1.0</td>\n",
       "      <td>FPD10</td>\n",
       "    </tr>\n",
       "    <tr>\n",
       "      <th>104</th>\n",
       "      <td>2025-01-06</td>\n",
       "      <td>2025-01-12</td>\n",
       "      <td>0.166198</td>\n",
       "      <td>Week</td>\n",
       "      <td>sb_demo_score</td>\n",
       "      <td>1.1.0</td>\n",
       "      <td>FPD10</td>\n",
       "    </tr>\n",
       "    <tr>\n",
       "      <th>105</th>\n",
       "      <td>2025-01-13</td>\n",
       "      <td>2025-01-19</td>\n",
       "      <td>0.338719</td>\n",
       "      <td>Week</td>\n",
       "      <td>sb_demo_score</td>\n",
       "      <td>1.1.0</td>\n",
       "      <td>FPD10</td>\n",
       "    </tr>\n",
       "  </tbody>\n",
       "</table>\n",
       "</div>"
      ],
      "text/plain": [
       "    start_date   end_date  sb_demo_score_FPD10_gini period     Model_Name  \\\n",
       "101 2024-12-23 2024-12-29                  0.235289   Week  sb_demo_score   \n",
       "102 2024-12-30 2025-01-05                  0.257868   Week  sb_demo_score   \n",
       "103 2025-01-01 2025-01-31                  0.237870  Month  sb_demo_score   \n",
       "104 2025-01-06 2025-01-12                  0.166198   Week  sb_demo_score   \n",
       "105 2025-01-13 2025-01-19                  0.338719   Week  sb_demo_score   \n",
       "\n",
       "    version bad_rate  \n",
       "101   1.1.0    FPD10  \n",
       "102   1.1.0    FPD10  \n",
       "103   1.1.0    FPD10  \n",
       "104   1.1.0    FPD10  \n",
       "105   1.1.0    FPD10  "
      ]
     },
     "execution_count": 31,
     "metadata": {},
     "output_type": "execute_result"
    }
   ],
   "source": [
    "sb_demo_scoreFPD10.tail()"
   ]
  },
  {
   "cell_type": "markdown",
   "metadata": {},
   "source": [
    "## FPD30"
   ]
  },
  {
   "cell_type": "code",
   "execution_count": 32,
   "metadata": {},
   "outputs": [
    {
     "name": "stdout",
     "output_type": "stream",
     "text": [
      "Job ID 6f38beaa-6d18-4cc3-a5ab-c34f035377a8 successfully executed: 100%|\u001b[32m██████████\u001b[0m|"
     ]
    },
    {
     "name": "stderr",
     "output_type": "stream",
     "text": [
      "d:\\Anaconda3\\envs\\inc_env\\lib\\site-packages\\google\\cloud\\bigquery\\table.py:1820: UserWarning: BigQuery Storage module not found, fetch data with the REST endpoint instead.\n",
      "  warnings.warn(\n"
     ]
    },
    {
     "name": "stdout",
     "output_type": "stream",
     "text": [
      "\n",
      "Downloading: 100%|\u001b[32m██████████\u001b[0m|\n"
     ]
    }
   ],
   "source": [
    "sq = \"\"\"\n",
    "with sb_demo_score as \n",
    "(SELECT \n",
    "    ln_disb_dtime disbursementdate,\n",
    "\tdigitalLoanAccountId,\n",
    "    sb_demo_score,\n",
    "    ln_fpd30_flag,\n",
    "\tln_mature_fpd30_flag,\t\n",
    "\tFROM \n",
    "    prj-prod-dataplatform.risk_mart.sil_risk_ds_master_20230101_20250206\n",
    "  WHERE \n",
    "     -- ln_disb_dtime >= '2023-07-01'\n",
    "    ln_appln_submit_datetime >= '2023-06-01'\n",
    "  -- AND\n",
    "  --   format_date('%Y-%m', ln_disb_dtime) = '2024-09'\n",
    "  AND\n",
    "    ln_fpd30_flag is not null\n",
    "  AND\n",
    "    sb_demo_score is not null\n",
    "  AND\n",
    "    ln_mature_fpd30_flag = 1\n",
    ")\n",
    "select * from sb_demo_score;\n",
    "\"\"\"\n",
    "\n",
    "df_sb_demo_scorefpd30 = client.query(sq).to_dataframe(progress_bar_type='tqdm')"
   ]
  },
  {
   "cell_type": "code",
   "execution_count": 33,
   "metadata": {},
   "outputs": [
    {
     "name": "stdout",
     "output_type": "stream",
     "text": [
      "The shape of dataframe after copy is:\t(102, 7)\n"
     ]
    },
    {
     "data": {
      "text/plain": [
       "array(['start_date', 'end_date', 'sb_demo_score_FPD30_gini', 'period',\n",
       "       'Model_Name', 'version', 'bad_rate'], dtype=object)"
      ]
     },
     "execution_count": 33,
     "metadata": {},
     "output_type": "execute_result"
    }
   ],
   "source": [
    "gini_results = calculate_periodic_gini(df_sb_demo_scorefpd30, 'sb_demo_score', 'ln_fpd30_flag', 'FPD30')\n",
    "sb_demo_scoreFPD30 = gini_results.copy()\n",
    "print(f\"The shape of dataframe after copy is:\\t{sb_demo_scoreFPD30.shape}\")\n",
    "sb_demo_scoreFPD30.columns.values"
   ]
  },
  {
   "cell_type": "code",
   "execution_count": 34,
   "metadata": {},
   "outputs": [
    {
     "data": {
      "text/html": [
       "<div>\n",
       "<style scoped>\n",
       "    .dataframe tbody tr th:only-of-type {\n",
       "        vertical-align: middle;\n",
       "    }\n",
       "\n",
       "    .dataframe tbody tr th {\n",
       "        vertical-align: top;\n",
       "    }\n",
       "\n",
       "    .dataframe thead th {\n",
       "        text-align: right;\n",
       "    }\n",
       "</style>\n",
       "<table border=\"1\" class=\"dataframe\">\n",
       "  <thead>\n",
       "    <tr style=\"text-align: right;\">\n",
       "      <th></th>\n",
       "      <th>start_date</th>\n",
       "      <th>end_date</th>\n",
       "      <th>sb_demo_score_FPD30_gini</th>\n",
       "      <th>period</th>\n",
       "      <th>Model_Name</th>\n",
       "      <th>version</th>\n",
       "      <th>bad_rate</th>\n",
       "    </tr>\n",
       "  </thead>\n",
       "  <tbody>\n",
       "    <tr>\n",
       "      <th>0</th>\n",
       "      <td>2023-05-29</td>\n",
       "      <td>2023-06-04</td>\n",
       "      <td>0.330909</td>\n",
       "      <td>Week</td>\n",
       "      <td>sb_demo_score</td>\n",
       "      <td>1.1.0</td>\n",
       "      <td>FPD30</td>\n",
       "    </tr>\n",
       "    <tr>\n",
       "      <th>1</th>\n",
       "      <td>2023-06-01</td>\n",
       "      <td>2023-06-30</td>\n",
       "      <td>0.189531</td>\n",
       "      <td>Month</td>\n",
       "      <td>sb_demo_score</td>\n",
       "      <td>1.1.0</td>\n",
       "      <td>FPD30</td>\n",
       "    </tr>\n",
       "    <tr>\n",
       "      <th>2</th>\n",
       "      <td>2023-06-05</td>\n",
       "      <td>2023-06-11</td>\n",
       "      <td>0.130370</td>\n",
       "      <td>Week</td>\n",
       "      <td>sb_demo_score</td>\n",
       "      <td>1.1.0</td>\n",
       "      <td>FPD30</td>\n",
       "    </tr>\n",
       "    <tr>\n",
       "      <th>3</th>\n",
       "      <td>2023-06-12</td>\n",
       "      <td>2023-06-18</td>\n",
       "      <td>0.371746</td>\n",
       "      <td>Week</td>\n",
       "      <td>sb_demo_score</td>\n",
       "      <td>1.1.0</td>\n",
       "      <td>FPD30</td>\n",
       "    </tr>\n",
       "    <tr>\n",
       "      <th>4</th>\n",
       "      <td>2023-06-19</td>\n",
       "      <td>2023-06-25</td>\n",
       "      <td>-0.052209</td>\n",
       "      <td>Week</td>\n",
       "      <td>sb_demo_score</td>\n",
       "      <td>1.1.0</td>\n",
       "      <td>FPD30</td>\n",
       "    </tr>\n",
       "  </tbody>\n",
       "</table>\n",
       "</div>"
      ],
      "text/plain": [
       "  start_date   end_date  sb_demo_score_FPD30_gini period     Model_Name  \\\n",
       "0 2023-05-29 2023-06-04                  0.330909   Week  sb_demo_score   \n",
       "1 2023-06-01 2023-06-30                  0.189531  Month  sb_demo_score   \n",
       "2 2023-06-05 2023-06-11                  0.130370   Week  sb_demo_score   \n",
       "3 2023-06-12 2023-06-18                  0.371746   Week  sb_demo_score   \n",
       "4 2023-06-19 2023-06-25                 -0.052209   Week  sb_demo_score   \n",
       "\n",
       "  version bad_rate  \n",
       "0   1.1.0    FPD30  \n",
       "1   1.1.0    FPD30  \n",
       "2   1.1.0    FPD30  \n",
       "3   1.1.0    FPD30  \n",
       "4   1.1.0    FPD30  "
      ]
     },
     "execution_count": 34,
     "metadata": {},
     "output_type": "execute_result"
    }
   ],
   "source": [
    "sb_demo_scoreFPD30.head() "
   ]
  },
  {
   "cell_type": "markdown",
   "metadata": {},
   "source": [
    "## FSPD30"
   ]
  },
  {
   "cell_type": "code",
   "execution_count": 35,
   "metadata": {},
   "outputs": [
    {
     "name": "stdout",
     "output_type": "stream",
     "text": [
      "Job ID bee68f97-a6b5-4908-a7e8-fc1ea9931a8d successfully executed: 100%|\u001b[32m██████████\u001b[0m|"
     ]
    },
    {
     "name": "stderr",
     "output_type": "stream",
     "text": [
      "d:\\Anaconda3\\envs\\inc_env\\lib\\site-packages\\google\\cloud\\bigquery\\table.py:1820: UserWarning: BigQuery Storage module not found, fetch data with the REST endpoint instead.\n",
      "  warnings.warn(\n"
     ]
    },
    {
     "name": "stdout",
     "output_type": "stream",
     "text": [
      "\n",
      "Downloading: 100%|\u001b[32m██████████\u001b[0m|\n"
     ]
    }
   ],
   "source": [
    "sq = \"\"\"\n",
    "with sb_demo_score as \n",
    "(SELECT \n",
    "    ln_disb_dtime disbursementdate,\n",
    "\tdigitalLoanAccountId,\n",
    "    sb_demo_score,\n",
    "    ln_fspd30_flag,   -- fspd30\n",
    "\tln_mature_fspd30_flag,\t--- fspd30 observation\n",
    "\tFROM \n",
    "    prj-prod-dataplatform.risk_mart.sil_risk_ds_master_20230101_20250206\n",
    "  WHERE \n",
    "     -- ln_disb_dtime >= '2023-07-01'\n",
    "    ln_appln_submit_datetime >= '2023-06-01'\n",
    "  -- AND\n",
    "  --   format_date('%Y-%m', ln_disb_dtime) = '2024-09'\n",
    "  AND\n",
    "    ln_fspd30_flag is not null\n",
    "  AND\n",
    "    sb_demo_score is not null\n",
    "  AND\n",
    "    ln_mature_fspd30_flag = 1\n",
    ")\n",
    "select * from sb_demo_score;\n",
    "\"\"\"\n",
    "\n",
    "df_sb_demo_scorefspd30 = client.query(sq).to_dataframe(progress_bar_type='tqdm')"
   ]
  },
  {
   "cell_type": "code",
   "execution_count": 36,
   "metadata": {},
   "outputs": [
    {
     "name": "stdout",
     "output_type": "stream",
     "text": [
      "The shape of dataframe after copy is:\t(97, 7)\n"
     ]
    },
    {
     "data": {
      "text/plain": [
       "array(['start_date', 'end_date', 'sb_demo_score_FSPD30_gini', 'period',\n",
       "       'Model_Name', 'version', 'bad_rate'], dtype=object)"
      ]
     },
     "execution_count": 36,
     "metadata": {},
     "output_type": "execute_result"
    }
   ],
   "source": [
    "gini_results = calculate_periodic_gini(df_sb_demo_scorefspd30, 'sb_demo_score', 'ln_fspd30_flag', 'FSPD30')\n",
    "sb_demo_scoreFSPD30 = gini_results.copy()\n",
    "print(f\"The shape of dataframe after copy is:\\t{sb_demo_scoreFSPD30.shape}\")\n",
    "sb_demo_scoreFSPD30.columns.values"
   ]
  },
  {
   "cell_type": "code",
   "execution_count": 37,
   "metadata": {},
   "outputs": [
    {
     "data": {
      "text/html": [
       "<div>\n",
       "<style scoped>\n",
       "    .dataframe tbody tr th:only-of-type {\n",
       "        vertical-align: middle;\n",
       "    }\n",
       "\n",
       "    .dataframe tbody tr th {\n",
       "        vertical-align: top;\n",
       "    }\n",
       "\n",
       "    .dataframe thead th {\n",
       "        text-align: right;\n",
       "    }\n",
       "</style>\n",
       "<table border=\"1\" class=\"dataframe\">\n",
       "  <thead>\n",
       "    <tr style=\"text-align: right;\">\n",
       "      <th></th>\n",
       "      <th>start_date</th>\n",
       "      <th>end_date</th>\n",
       "      <th>sb_demo_score_FSPD30_gini</th>\n",
       "      <th>period</th>\n",
       "      <th>Model_Name</th>\n",
       "      <th>version</th>\n",
       "      <th>bad_rate</th>\n",
       "    </tr>\n",
       "  </thead>\n",
       "  <tbody>\n",
       "    <tr>\n",
       "      <th>0</th>\n",
       "      <td>2023-05-29</td>\n",
       "      <td>2023-06-04</td>\n",
       "      <td>0.098383</td>\n",
       "      <td>Week</td>\n",
       "      <td>sb_demo_score</td>\n",
       "      <td>1.1.0</td>\n",
       "      <td>FSPD30</td>\n",
       "    </tr>\n",
       "    <tr>\n",
       "      <th>1</th>\n",
       "      <td>2023-06-01</td>\n",
       "      <td>2023-06-30</td>\n",
       "      <td>0.184759</td>\n",
       "      <td>Month</td>\n",
       "      <td>sb_demo_score</td>\n",
       "      <td>1.1.0</td>\n",
       "      <td>FSPD30</td>\n",
       "    </tr>\n",
       "    <tr>\n",
       "      <th>2</th>\n",
       "      <td>2023-06-05</td>\n",
       "      <td>2023-06-11</td>\n",
       "      <td>0.239596</td>\n",
       "      <td>Week</td>\n",
       "      <td>sb_demo_score</td>\n",
       "      <td>1.1.0</td>\n",
       "      <td>FSPD30</td>\n",
       "    </tr>\n",
       "    <tr>\n",
       "      <th>3</th>\n",
       "      <td>2023-06-12</td>\n",
       "      <td>2023-06-18</td>\n",
       "      <td>0.312568</td>\n",
       "      <td>Week</td>\n",
       "      <td>sb_demo_score</td>\n",
       "      <td>1.1.0</td>\n",
       "      <td>FSPD30</td>\n",
       "    </tr>\n",
       "    <tr>\n",
       "      <th>4</th>\n",
       "      <td>2023-06-19</td>\n",
       "      <td>2023-06-25</td>\n",
       "      <td>0.010796</td>\n",
       "      <td>Week</td>\n",
       "      <td>sb_demo_score</td>\n",
       "      <td>1.1.0</td>\n",
       "      <td>FSPD30</td>\n",
       "    </tr>\n",
       "  </tbody>\n",
       "</table>\n",
       "</div>"
      ],
      "text/plain": [
       "  start_date   end_date  sb_demo_score_FSPD30_gini period     Model_Name  \\\n",
       "0 2023-05-29 2023-06-04                   0.098383   Week  sb_demo_score   \n",
       "1 2023-06-01 2023-06-30                   0.184759  Month  sb_demo_score   \n",
       "2 2023-06-05 2023-06-11                   0.239596   Week  sb_demo_score   \n",
       "3 2023-06-12 2023-06-18                   0.312568   Week  sb_demo_score   \n",
       "4 2023-06-19 2023-06-25                   0.010796   Week  sb_demo_score   \n",
       "\n",
       "  version bad_rate  \n",
       "0   1.1.0   FSPD30  \n",
       "1   1.1.0   FSPD30  \n",
       "2   1.1.0   FSPD30  \n",
       "3   1.1.0   FSPD30  \n",
       "4   1.1.0   FSPD30  "
      ]
     },
     "execution_count": 37,
     "metadata": {},
     "output_type": "execute_result"
    }
   ],
   "source": [
    "sb_demo_scoreFSPD30.head()"
   ]
  },
  {
   "cell_type": "markdown",
   "metadata": {},
   "source": [
    "## FSTPD30"
   ]
  },
  {
   "cell_type": "code",
   "execution_count": 38,
   "metadata": {},
   "outputs": [
    {
     "name": "stdout",
     "output_type": "stream",
     "text": [
      "Job ID 4829142c-a97e-4cbb-85a0-6c4aeeefe669 successfully executed: 100%|\u001b[32m██████████\u001b[0m|"
     ]
    },
    {
     "name": "stderr",
     "output_type": "stream",
     "text": [
      "d:\\Anaconda3\\envs\\inc_env\\lib\\site-packages\\google\\cloud\\bigquery\\table.py:1820: UserWarning: BigQuery Storage module not found, fetch data with the REST endpoint instead.\n",
      "  warnings.warn(\n"
     ]
    },
    {
     "name": "stdout",
     "output_type": "stream",
     "text": [
      "\n",
      "Downloading: 100%|\u001b[32m██████████\u001b[0m|\n"
     ]
    }
   ],
   "source": [
    "sq = \"\"\"\n",
    "with sb_demo_score as \n",
    "(SELECT \n",
    "    ln_disb_dtime disbursementdate,\n",
    "\tdigitalLoanAccountId,\n",
    "    sb_demo_score,\n",
    "    ln_fstpd30_flag,   -- fstpd30\n",
    "\tln_mature_fstpd30_flag,\t--- fstpd30 observation\n",
    "\tFROM \n",
    "    prj-prod-dataplatform.risk_mart.sil_risk_ds_master_20230101_20250206\n",
    "  WHERE \n",
    "     -- ln_disb_dtime >= '2023-07-01'\n",
    "    ln_appln_submit_datetime >= '2023-06-01'\n",
    "  -- AND\n",
    "  --   format_date('%Y-%m', ln_disb_dtime) = '2024-09'\n",
    "  AND\n",
    "    ln_fstpd30_flag is not null\n",
    "  AND\n",
    "    sb_demo_score is not null\n",
    "  AND\n",
    "    ln_mature_fstpd30_flag = 1\n",
    ")\n",
    "select * from sb_demo_score;\n",
    "\"\"\"\n",
    "\n",
    "df_sb_demo_scorefstpd30 = client.query(sq).to_dataframe(progress_bar_type='tqdm')"
   ]
  },
  {
   "cell_type": "code",
   "execution_count": 39,
   "metadata": {},
   "outputs": [
    {
     "name": "stdout",
     "output_type": "stream",
     "text": [
      "The shape of dataframe after copy is:\t(91, 7)\n"
     ]
    },
    {
     "data": {
      "text/plain": [
       "array(['start_date', 'end_date', 'sb_demo_score_FSTPD30_gini', 'period',\n",
       "       'Model_Name', 'version', 'bad_rate'], dtype=object)"
      ]
     },
     "execution_count": 39,
     "metadata": {},
     "output_type": "execute_result"
    }
   ],
   "source": [
    "gini_results = calculate_periodic_gini(df_sb_demo_scorefstpd30, 'sb_demo_score', 'ln_fstpd30_flag', 'FSTPD30')\n",
    "sb_demo_scoreFSTPD30 = gini_results.copy()\n",
    "print(f\"The shape of dataframe after copy is:\\t{sb_demo_scoreFSTPD30.shape}\")\n",
    "sb_demo_scoreFSTPD30.columns.values"
   ]
  },
  {
   "cell_type": "code",
   "execution_count": 40,
   "metadata": {},
   "outputs": [
    {
     "data": {
      "text/html": [
       "<div>\n",
       "<style scoped>\n",
       "    .dataframe tbody tr th:only-of-type {\n",
       "        vertical-align: middle;\n",
       "    }\n",
       "\n",
       "    .dataframe tbody tr th {\n",
       "        vertical-align: top;\n",
       "    }\n",
       "\n",
       "    .dataframe thead th {\n",
       "        text-align: right;\n",
       "    }\n",
       "</style>\n",
       "<table border=\"1\" class=\"dataframe\">\n",
       "  <thead>\n",
       "    <tr style=\"text-align: right;\">\n",
       "      <th></th>\n",
       "      <th>start_date</th>\n",
       "      <th>end_date</th>\n",
       "      <th>sb_demo_score_FSTPD30_gini</th>\n",
       "      <th>period</th>\n",
       "      <th>Model_Name</th>\n",
       "      <th>version</th>\n",
       "      <th>bad_rate</th>\n",
       "    </tr>\n",
       "  </thead>\n",
       "  <tbody>\n",
       "    <tr>\n",
       "      <th>0</th>\n",
       "      <td>2023-05-29</td>\n",
       "      <td>2023-06-04</td>\n",
       "      <td>0.215686</td>\n",
       "      <td>Week</td>\n",
       "      <td>sb_demo_score</td>\n",
       "      <td>1.1.0</td>\n",
       "      <td>FSTPD30</td>\n",
       "    </tr>\n",
       "    <tr>\n",
       "      <th>1</th>\n",
       "      <td>2023-06-01</td>\n",
       "      <td>2023-06-30</td>\n",
       "      <td>0.165765</td>\n",
       "      <td>Month</td>\n",
       "      <td>sb_demo_score</td>\n",
       "      <td>1.1.0</td>\n",
       "      <td>FSTPD30</td>\n",
       "    </tr>\n",
       "    <tr>\n",
       "      <th>2</th>\n",
       "      <td>2023-06-05</td>\n",
       "      <td>2023-06-11</td>\n",
       "      <td>0.281272</td>\n",
       "      <td>Week</td>\n",
       "      <td>sb_demo_score</td>\n",
       "      <td>1.1.0</td>\n",
       "      <td>FSTPD30</td>\n",
       "    </tr>\n",
       "    <tr>\n",
       "      <th>3</th>\n",
       "      <td>2023-06-12</td>\n",
       "      <td>2023-06-18</td>\n",
       "      <td>0.142612</td>\n",
       "      <td>Week</td>\n",
       "      <td>sb_demo_score</td>\n",
       "      <td>1.1.0</td>\n",
       "      <td>FSTPD30</td>\n",
       "    </tr>\n",
       "    <tr>\n",
       "      <th>4</th>\n",
       "      <td>2023-06-19</td>\n",
       "      <td>2023-06-25</td>\n",
       "      <td>0.096533</td>\n",
       "      <td>Week</td>\n",
       "      <td>sb_demo_score</td>\n",
       "      <td>1.1.0</td>\n",
       "      <td>FSTPD30</td>\n",
       "    </tr>\n",
       "  </tbody>\n",
       "</table>\n",
       "</div>"
      ],
      "text/plain": [
       "  start_date   end_date  sb_demo_score_FSTPD30_gini period     Model_Name  \\\n",
       "0 2023-05-29 2023-06-04                    0.215686   Week  sb_demo_score   \n",
       "1 2023-06-01 2023-06-30                    0.165765  Month  sb_demo_score   \n",
       "2 2023-06-05 2023-06-11                    0.281272   Week  sb_demo_score   \n",
       "3 2023-06-12 2023-06-18                    0.142612   Week  sb_demo_score   \n",
       "4 2023-06-19 2023-06-25                    0.096533   Week  sb_demo_score   \n",
       "\n",
       "  version bad_rate  \n",
       "0   1.1.0  FSTPD30  \n",
       "1   1.1.0  FSTPD30  \n",
       "2   1.1.0  FSTPD30  \n",
       "3   1.1.0  FSTPD30  \n",
       "4   1.1.0  FSTPD30  "
      ]
     },
     "execution_count": 40,
     "metadata": {},
     "output_type": "execute_result"
    }
   ],
   "source": [
    "sb_demo_scoreFSTPD30.head()"
   ]
  },
  {
   "cell_type": "markdown",
   "metadata": {},
   "source": [
    "# Combining sb demo score"
   ]
  },
  {
   "cell_type": "code",
   "execution_count": 41,
   "metadata": {},
   "outputs": [
    {
     "data": {
      "text/plain": [
       "array(['start_date', 'end_date', 'sb_demo_score_FPD10_gini', 'period',\n",
       "       'Model_Name', 'version', 'bad_rate', 'sb_demo_score_FPD30_gini',\n",
       "       'sb_demo_score_FSPD30_gini', 'sb_demo_score_FSTPD30_gini'],\n",
       "      dtype=object)"
      ]
     },
     "execution_count": 41,
     "metadata": {},
     "output_type": "execute_result"
    }
   ],
   "source": [
    "import functools\n",
    "\n",
    "dataframes = [sb_demo_scoreFPD10, sb_demo_scoreFPD30, sb_demo_scoreFSPD30, sb_demo_scoreFSTPD30]\n",
    "common_columns = ['start_date', 'end_date', 'period', 'Model_Name','version', 'bad_rate']\n",
    "\n",
    "def merge_dataframes(df1, df2):\n",
    "    return pd.merge(df1, df2, on=common_columns, how='outer')\n",
    "\n",
    "final_df = functools.reduce(merge_dataframes, dataframes)\n",
    "\n",
    "final_df.columns.values"
   ]
  },
  {
   "cell_type": "code",
   "execution_count": 42,
   "metadata": {},
   "outputs": [],
   "source": [
    "final_df = final_df[['start_date', 'end_date', 'period',\n",
    "       'Model_Name', 'version', 'bad_rate','sb_demo_score_FPD10_gini','sb_demo_score_FPD30_gini',\n",
    "       'sb_demo_score_FSPD30_gini', 'sb_demo_score_FSTPD30_gini']].copy()"
   ]
  },
  {
   "cell_type": "markdown",
   "metadata": {},
   "source": [
    "## creating sb demo score table "
   ]
  },
  {
   "cell_type": "code",
   "execution_count": 43,
   "metadata": {},
   "outputs": [
    {
     "data": {
      "text/plain": [
       "QueryJob<project=prj-prod-dataplatform, location=asia-southeast1, id=b497bc9f-289b-4b50-8191-531de85ad66c>"
      ]
     },
     "execution_count": 43,
     "metadata": {},
     "output_type": "execute_result"
    }
   ],
   "source": [
    "sq = \"\"\"drop table if exists prj-prod-dataplatform.dap_ds_poweruser_playground.Model_gini_sb_demo_score;\"\"\"\n",
    "client.query(sq)"
   ]
  },
  {
   "cell_type": "code",
   "execution_count": 44,
   "metadata": {},
   "outputs": [
    {
     "data": {
      "text/plain": [
       "LoadJob<project=prj-prod-dataplatform, location=asia-southeast1, id=0ba9ab6d-0ef5-427f-9a39-be69af3d25f3>"
      ]
     },
     "execution_count": 44,
     "metadata": {},
     "output_type": "execute_result"
    }
   ],
   "source": [
    "\n",
    "\n",
    "import pandas as pd\n",
    "from google.cloud import bigquery\n",
    "\n",
    "# Create a BigQuery client\n",
    "client = bigquery.Client('prj-prod-dataplatform')\n",
    "\n",
    "# Define your table schema\n",
    "table_schema = [\n",
    "    bigquery.SchemaField('start_date', 'TIMESTAMP'),\n",
    "    bigquery.SchemaField('end_date', 'TIMESTAMP'),\n",
    "    bigquery.SchemaField('period', 'STRING'),\n",
    "    bigquery.SchemaField('Model_Name', 'STRING'),\n",
    "    bigquery.SchemaField('version', 'STRING'),\n",
    "    bigquery.SchemaField('Badrate', 'STRING'),\n",
    "    bigquery.SchemaField('sb_demo_score_FPD10_gini', 'FLOAT'),\n",
    "    bigquery.SchemaField('sb_demo_score_FPD30_gini', 'FLOAT'),    \n",
    "    bigquery.SchemaField('sb_demo_score_FSPD30_gini', 'FLOAT'),\n",
    "    bigquery.SchemaField('sb_demo_score_FSTPD30_gini', 'FLOAT')\n",
    "    \n",
    "]\n",
    "\n",
    "# Create your BigQuery table\n",
    "table_id = 'prj-prod-dataplatform.dap_ds_poweruser_playground.Model_gini_sb_demo_score'\n",
    "table = bigquery.Table(table_id, schema=table_schema)\n",
    "table = client.create_table(table)\n",
    "\n",
    "# Load your DataFrame into BigQuery\n",
    "job_config = bigquery.LoadJobConfig(\n",
    "    write_disposition='WRITE_TRUNCATE'\n",
    ")\n",
    "\n",
    "load_job = client.load_table_from_dataframe(\n",
    "    final_df, table_id, job_config=job_config\n",
    ")\n",
    "\n",
    "load_job.result()"
   ]
  },
  {
   "cell_type": "markdown",
   "metadata": {},
   "source": [
    "# s_cic_score"
   ]
  },
  {
   "cell_type": "markdown",
   "metadata": {},
   "source": [
    "## FPD10"
   ]
  },
  {
   "cell_type": "code",
   "execution_count": 45,
   "metadata": {},
   "outputs": [
    {
     "name": "stdout",
     "output_type": "stream",
     "text": [
      "Job ID 133b5563-b2dc-42a9-8b8f-b2f5354594a3 successfully executed: 100%|\u001b[32m██████████\u001b[0m|"
     ]
    },
    {
     "name": "stderr",
     "output_type": "stream",
     "text": [
      "d:\\Anaconda3\\envs\\inc_env\\lib\\site-packages\\google\\cloud\\bigquery\\table.py:1820: UserWarning: BigQuery Storage module not found, fetch data with the REST endpoint instead.\n",
      "  warnings.warn(\n"
     ]
    },
    {
     "name": "stdout",
     "output_type": "stream",
     "text": [
      "\n",
      "Downloading: 100%|\u001b[32m██████████\u001b[0m|\n"
     ]
    }
   ],
   "source": [
    "sq = \"\"\"\n",
    "with s_cic_score as \n",
    "(SELECT \n",
    "    ln_disb_dtime disbursementdate,\n",
    "\tdigitalLoanAccountId,\n",
    "    s_cic_score,\n",
    "    ln_fpd10_flag,\n",
    "\tln_mature_fpd10_flag,\t\n",
    "\tFROM \n",
    "    prj-prod-dataplatform.risk_mart.sil_risk_ds_master_20230101_20250206\n",
    "  WHERE \n",
    "     -- ln_disb_dtime >= '2023-07-01'\n",
    "    ln_appln_submit_datetime >= '2023-06-01'\n",
    "  -- AND\n",
    "  --   format_date('%Y-%m', ln_disb_dtime) = '2024-09'\n",
    "  AND\n",
    "    ln_fpd10_flag is not null\n",
    "  AND\n",
    "    s_cic_score is not null\n",
    "  AND\n",
    "    ln_mature_fpd10_flag = 1\n",
    ")\n",
    "select * from s_cic_score;\n",
    "\"\"\"\n",
    "\n",
    "df_s_cic_scorefpd10 = client.query(sq).to_dataframe(progress_bar_type='tqdm')"
   ]
  },
  {
   "cell_type": "code",
   "execution_count": 46,
   "metadata": {},
   "outputs": [
    {
     "data": {
      "text/html": [
       "<div>\n",
       "<style scoped>\n",
       "    .dataframe tbody tr th:only-of-type {\n",
       "        vertical-align: middle;\n",
       "    }\n",
       "\n",
       "    .dataframe tbody tr th {\n",
       "        vertical-align: top;\n",
       "    }\n",
       "\n",
       "    .dataframe thead th {\n",
       "        text-align: right;\n",
       "    }\n",
       "</style>\n",
       "<table border=\"1\" class=\"dataframe\">\n",
       "  <thead>\n",
       "    <tr style=\"text-align: right;\">\n",
       "      <th></th>\n",
       "      <th>disbursementdate</th>\n",
       "      <th>digitalLoanAccountId</th>\n",
       "      <th>s_cic_score</th>\n",
       "      <th>ln_fpd10_flag</th>\n",
       "      <th>ln_mature_fpd10_flag</th>\n",
       "    </tr>\n",
       "  </thead>\n",
       "  <tbody>\n",
       "    <tr>\n",
       "      <th>0</th>\n",
       "      <td>2024-12-21 09:20:07</td>\n",
       "      <td>898c5779-730d-4755-8fb1-b18c254b30bd</td>\n",
       "      <td>0.106536</td>\n",
       "      <td>1</td>\n",
       "      <td>1</td>\n",
       "    </tr>\n",
       "    <tr>\n",
       "      <th>1</th>\n",
       "      <td>2024-11-20 12:36:49</td>\n",
       "      <td>c6e59c0c-754a-4db2-9f12-53348b1a3ccb</td>\n",
       "      <td>0.057237</td>\n",
       "      <td>0</td>\n",
       "      <td>1</td>\n",
       "    </tr>\n",
       "    <tr>\n",
       "      <th>2</th>\n",
       "      <td>2024-11-22 11:09:40</td>\n",
       "      <td>f3a9b689-93a8-4906-9fad-ef191d00bbd9</td>\n",
       "      <td>0.098077</td>\n",
       "      <td>0</td>\n",
       "      <td>1</td>\n",
       "    </tr>\n",
       "    <tr>\n",
       "      <th>3</th>\n",
       "      <td>2024-12-04 16:39:23</td>\n",
       "      <td>2f278926-7fe7-4713-b2fe-edbe9d967ec8</td>\n",
       "      <td>0.068144</td>\n",
       "      <td>0</td>\n",
       "      <td>1</td>\n",
       "    </tr>\n",
       "    <tr>\n",
       "      <th>4</th>\n",
       "      <td>2025-01-07 11:53:39</td>\n",
       "      <td>9c588647-0491-4a27-b1ab-75b7659ac05c</td>\n",
       "      <td>0.075922</td>\n",
       "      <td>0</td>\n",
       "      <td>1</td>\n",
       "    </tr>\n",
       "  </tbody>\n",
       "</table>\n",
       "</div>"
      ],
      "text/plain": [
       "     disbursementdate                  digitalLoanAccountId  s_cic_score  \\\n",
       "0 2024-12-21 09:20:07  898c5779-730d-4755-8fb1-b18c254b30bd     0.106536   \n",
       "1 2024-11-20 12:36:49  c6e59c0c-754a-4db2-9f12-53348b1a3ccb     0.057237   \n",
       "2 2024-11-22 11:09:40  f3a9b689-93a8-4906-9fad-ef191d00bbd9     0.098077   \n",
       "3 2024-12-04 16:39:23  2f278926-7fe7-4713-b2fe-edbe9d967ec8     0.068144   \n",
       "4 2025-01-07 11:53:39  9c588647-0491-4a27-b1ab-75b7659ac05c     0.075922   \n",
       "\n",
       "   ln_fpd10_flag  ln_mature_fpd10_flag  \n",
       "0              1                     1  \n",
       "1              0                     1  \n",
       "2              0                     1  \n",
       "3              0                     1  \n",
       "4              0                     1  "
      ]
     },
     "execution_count": 46,
     "metadata": {},
     "output_type": "execute_result"
    }
   ],
   "source": [
    "df_s_cic_scorefpd10.head()"
   ]
  },
  {
   "cell_type": "code",
   "execution_count": 47,
   "metadata": {},
   "outputs": [
    {
     "name": "stdout",
     "output_type": "stream",
     "text": [
      "The shape of dataframe after copy is:\t(105, 7)\n"
     ]
    },
    {
     "data": {
      "text/plain": [
       "array(['start_date', 'end_date', 's_cic_score_FPD10_gini', 'period',\n",
       "       'Model_Name', 'version', 'bad_rate'], dtype=object)"
      ]
     },
     "execution_count": 47,
     "metadata": {},
     "output_type": "execute_result"
    }
   ],
   "source": [
    "gini_results = calculate_periodic_gini(df_s_cic_scorefpd10, 's_cic_score', 'ln_fpd10_flag', 'FPD10')\n",
    "s_cic_scoreFPD10 = gini_results.copy()\n",
    "print(f\"The shape of dataframe after copy is:\\t{s_cic_scoreFPD10.shape}\")\n",
    "s_cic_scoreFPD10.columns.values"
   ]
  },
  {
   "cell_type": "code",
   "execution_count": 48,
   "metadata": {},
   "outputs": [
    {
     "data": {
      "text/html": [
       "<div>\n",
       "<style scoped>\n",
       "    .dataframe tbody tr th:only-of-type {\n",
       "        vertical-align: middle;\n",
       "    }\n",
       "\n",
       "    .dataframe tbody tr th {\n",
       "        vertical-align: top;\n",
       "    }\n",
       "\n",
       "    .dataframe thead th {\n",
       "        text-align: right;\n",
       "    }\n",
       "</style>\n",
       "<table border=\"1\" class=\"dataframe\">\n",
       "  <thead>\n",
       "    <tr style=\"text-align: right;\">\n",
       "      <th></th>\n",
       "      <th>start_date</th>\n",
       "      <th>end_date</th>\n",
       "      <th>s_cic_score_FPD10_gini</th>\n",
       "      <th>period</th>\n",
       "      <th>Model_Name</th>\n",
       "      <th>version</th>\n",
       "      <th>bad_rate</th>\n",
       "    </tr>\n",
       "  </thead>\n",
       "  <tbody>\n",
       "    <tr>\n",
       "      <th>100</th>\n",
       "      <td>2024-12-23</td>\n",
       "      <td>2024-12-29</td>\n",
       "      <td>0.156457</td>\n",
       "      <td>Week</td>\n",
       "      <td>s_cic_score</td>\n",
       "      <td>1.1.0</td>\n",
       "      <td>FPD10</td>\n",
       "    </tr>\n",
       "    <tr>\n",
       "      <th>101</th>\n",
       "      <td>2024-12-30</td>\n",
       "      <td>2025-01-05</td>\n",
       "      <td>0.225236</td>\n",
       "      <td>Week</td>\n",
       "      <td>s_cic_score</td>\n",
       "      <td>1.1.0</td>\n",
       "      <td>FPD10</td>\n",
       "    </tr>\n",
       "    <tr>\n",
       "      <th>102</th>\n",
       "      <td>2025-01-01</td>\n",
       "      <td>2025-01-31</td>\n",
       "      <td>0.180375</td>\n",
       "      <td>Month</td>\n",
       "      <td>s_cic_score</td>\n",
       "      <td>1.1.0</td>\n",
       "      <td>FPD10</td>\n",
       "    </tr>\n",
       "    <tr>\n",
       "      <th>103</th>\n",
       "      <td>2025-01-06</td>\n",
       "      <td>2025-01-12</td>\n",
       "      <td>0.166526</td>\n",
       "      <td>Week</td>\n",
       "      <td>s_cic_score</td>\n",
       "      <td>1.1.0</td>\n",
       "      <td>FPD10</td>\n",
       "    </tr>\n",
       "    <tr>\n",
       "      <th>104</th>\n",
       "      <td>2025-01-13</td>\n",
       "      <td>2025-01-19</td>\n",
       "      <td>0.030842</td>\n",
       "      <td>Week</td>\n",
       "      <td>s_cic_score</td>\n",
       "      <td>1.1.0</td>\n",
       "      <td>FPD10</td>\n",
       "    </tr>\n",
       "  </tbody>\n",
       "</table>\n",
       "</div>"
      ],
      "text/plain": [
       "    start_date   end_date  s_cic_score_FPD10_gini period   Model_Name version  \\\n",
       "100 2024-12-23 2024-12-29                0.156457   Week  s_cic_score   1.1.0   \n",
       "101 2024-12-30 2025-01-05                0.225236   Week  s_cic_score   1.1.0   \n",
       "102 2025-01-01 2025-01-31                0.180375  Month  s_cic_score   1.1.0   \n",
       "103 2025-01-06 2025-01-12                0.166526   Week  s_cic_score   1.1.0   \n",
       "104 2025-01-13 2025-01-19                0.030842   Week  s_cic_score   1.1.0   \n",
       "\n",
       "    bad_rate  \n",
       "100    FPD10  \n",
       "101    FPD10  \n",
       "102    FPD10  \n",
       "103    FPD10  \n",
       "104    FPD10  "
      ]
     },
     "execution_count": 48,
     "metadata": {},
     "output_type": "execute_result"
    }
   ],
   "source": [
    "s_cic_scoreFPD10.tail()"
   ]
  },
  {
   "cell_type": "markdown",
   "metadata": {},
   "source": [
    "## FPD30"
   ]
  },
  {
   "cell_type": "code",
   "execution_count": 49,
   "metadata": {},
   "outputs": [
    {
     "name": "stdout",
     "output_type": "stream",
     "text": [
      "Job ID 62528cb3-63b0-40d4-b79b-0ea2e676204d successfully executed: 100%|\u001b[32m██████████\u001b[0m|"
     ]
    },
    {
     "name": "stderr",
     "output_type": "stream",
     "text": [
      "d:\\Anaconda3\\envs\\inc_env\\lib\\site-packages\\google\\cloud\\bigquery\\table.py:1820: UserWarning: BigQuery Storage module not found, fetch data with the REST endpoint instead.\n",
      "  warnings.warn(\n"
     ]
    },
    {
     "name": "stdout",
     "output_type": "stream",
     "text": [
      "\n",
      "Downloading: 100%|\u001b[32m██████████\u001b[0m|\n"
     ]
    }
   ],
   "source": [
    "sq = \"\"\"\n",
    "with s_cic_score as \n",
    "(SELECT \n",
    "    ln_disb_dtime disbursementdate,\n",
    "\tdigitalLoanAccountId,\n",
    "    s_cic_score,\n",
    "    ln_fpd30_flag,\n",
    "\tln_mature_fpd30_flag,\t\n",
    "\tFROM \n",
    "    prj-prod-dataplatform.risk_mart.sil_risk_ds_master_20230101_20250206\n",
    "  WHERE \n",
    "     -- ln_disb_dtime >= '2023-07-01'\n",
    "    ln_appln_submit_datetime >= '2023-06-01'\n",
    "  -- AND\n",
    "  --   format_date('%Y-%m', ln_disb_dtime) = '2024-09'\n",
    "  AND\n",
    "    ln_fpd30_flag is not null\n",
    "  AND\n",
    "    s_cic_score is not null\n",
    "  AND\n",
    "    ln_mature_fpd30_flag = 1\n",
    ")\n",
    "select * from s_cic_score;\n",
    "\"\"\"\n",
    "\n",
    "df_s_cic_scorefpd30 = client.query(sq).to_dataframe(progress_bar_type='tqdm')"
   ]
  },
  {
   "cell_type": "code",
   "execution_count": 50,
   "metadata": {},
   "outputs": [
    {
     "data": {
      "text/html": [
       "<div>\n",
       "<style scoped>\n",
       "    .dataframe tbody tr th:only-of-type {\n",
       "        vertical-align: middle;\n",
       "    }\n",
       "\n",
       "    .dataframe tbody tr th {\n",
       "        vertical-align: top;\n",
       "    }\n",
       "\n",
       "    .dataframe thead th {\n",
       "        text-align: right;\n",
       "    }\n",
       "</style>\n",
       "<table border=\"1\" class=\"dataframe\">\n",
       "  <thead>\n",
       "    <tr style=\"text-align: right;\">\n",
       "      <th></th>\n",
       "      <th>disbursementdate</th>\n",
       "      <th>digitalLoanAccountId</th>\n",
       "      <th>s_cic_score</th>\n",
       "      <th>ln_fpd30_flag</th>\n",
       "      <th>ln_mature_fpd30_flag</th>\n",
       "    </tr>\n",
       "  </thead>\n",
       "  <tbody>\n",
       "    <tr>\n",
       "      <th>0</th>\n",
       "      <td>2024-11-26 18:25:21</td>\n",
       "      <td>e7dd1f77-2200-43a6-afd2-a3ffaa55ebf6</td>\n",
       "      <td>0.046459</td>\n",
       "      <td>0</td>\n",
       "      <td>1</td>\n",
       "    </tr>\n",
       "    <tr>\n",
       "      <th>1</th>\n",
       "      <td>2024-09-18 15:41:01</td>\n",
       "      <td>1000d052-5dc0-43fd-bebc-df33aac78547</td>\n",
       "      <td>0.141870</td>\n",
       "      <td>0</td>\n",
       "      <td>1</td>\n",
       "    </tr>\n",
       "    <tr>\n",
       "      <th>2</th>\n",
       "      <td>2024-12-14 18:19:54</td>\n",
       "      <td>104972df-9b52-4d02-810a-c4dc4e6c292e</td>\n",
       "      <td>0.070071</td>\n",
       "      <td>0</td>\n",
       "      <td>1</td>\n",
       "    </tr>\n",
       "    <tr>\n",
       "      <th>3</th>\n",
       "      <td>2024-05-07 13:57:01</td>\n",
       "      <td>ce1a4a6a-f9a8-4353-a102-5c2874173c8e</td>\n",
       "      <td>0.221190</td>\n",
       "      <td>0</td>\n",
       "      <td>1</td>\n",
       "    </tr>\n",
       "    <tr>\n",
       "      <th>4</th>\n",
       "      <td>2024-11-20 19:30:09</td>\n",
       "      <td>59c7d18c-6a2e-49c9-80e4-5f43646cd1a6</td>\n",
       "      <td>0.066702</td>\n",
       "      <td>0</td>\n",
       "      <td>1</td>\n",
       "    </tr>\n",
       "  </tbody>\n",
       "</table>\n",
       "</div>"
      ],
      "text/plain": [
       "     disbursementdate                  digitalLoanAccountId  s_cic_score  \\\n",
       "0 2024-11-26 18:25:21  e7dd1f77-2200-43a6-afd2-a3ffaa55ebf6     0.046459   \n",
       "1 2024-09-18 15:41:01  1000d052-5dc0-43fd-bebc-df33aac78547     0.141870   \n",
       "2 2024-12-14 18:19:54  104972df-9b52-4d02-810a-c4dc4e6c292e     0.070071   \n",
       "3 2024-05-07 13:57:01  ce1a4a6a-f9a8-4353-a102-5c2874173c8e     0.221190   \n",
       "4 2024-11-20 19:30:09  59c7d18c-6a2e-49c9-80e4-5f43646cd1a6     0.066702   \n",
       "\n",
       "   ln_fpd30_flag  ln_mature_fpd30_flag  \n",
       "0              0                     1  \n",
       "1              0                     1  \n",
       "2              0                     1  \n",
       "3              0                     1  \n",
       "4              0                     1  "
      ]
     },
     "execution_count": 50,
     "metadata": {},
     "output_type": "execute_result"
    }
   ],
   "source": [
    "df_s_cic_scorefpd30.head()"
   ]
  },
  {
   "cell_type": "code",
   "execution_count": 51,
   "metadata": {},
   "outputs": [
    {
     "name": "stdout",
     "output_type": "stream",
     "text": [
      "The shape of dataframe after copy is:\t(101, 7)\n"
     ]
    },
    {
     "data": {
      "text/plain": [
       "array(['start_date', 'end_date', 's_cic_score_FPD30_gini', 'period',\n",
       "       'Model_Name', 'version', 'bad_rate'], dtype=object)"
      ]
     },
     "execution_count": 51,
     "metadata": {},
     "output_type": "execute_result"
    }
   ],
   "source": [
    "gini_results = calculate_periodic_gini(df_s_cic_scorefpd30, 's_cic_score', 'ln_fpd30_flag', 'FPD30')\n",
    "s_cic_scoreFPD30 = gini_results.copy()\n",
    "print(f\"The shape of dataframe after copy is:\\t{s_cic_scoreFPD30.shape}\")\n",
    "s_cic_scoreFPD30.columns.values"
   ]
  },
  {
   "cell_type": "code",
   "execution_count": 52,
   "metadata": {},
   "outputs": [
    {
     "data": {
      "text/html": [
       "<div>\n",
       "<style scoped>\n",
       "    .dataframe tbody tr th:only-of-type {\n",
       "        vertical-align: middle;\n",
       "    }\n",
       "\n",
       "    .dataframe tbody tr th {\n",
       "        vertical-align: top;\n",
       "    }\n",
       "\n",
       "    .dataframe thead th {\n",
       "        text-align: right;\n",
       "    }\n",
       "</style>\n",
       "<table border=\"1\" class=\"dataframe\">\n",
       "  <thead>\n",
       "    <tr style=\"text-align: right;\">\n",
       "      <th></th>\n",
       "      <th>start_date</th>\n",
       "      <th>end_date</th>\n",
       "      <th>s_cic_score_FPD30_gini</th>\n",
       "      <th>period</th>\n",
       "      <th>Model_Name</th>\n",
       "      <th>version</th>\n",
       "      <th>bad_rate</th>\n",
       "    </tr>\n",
       "  </thead>\n",
       "  <tbody>\n",
       "    <tr>\n",
       "      <th>0</th>\n",
       "      <td>2023-05-29</td>\n",
       "      <td>2023-06-04</td>\n",
       "      <td>0.523077</td>\n",
       "      <td>Week</td>\n",
       "      <td>s_cic_score</td>\n",
       "      <td>1.1.0</td>\n",
       "      <td>FPD30</td>\n",
       "    </tr>\n",
       "    <tr>\n",
       "      <th>1</th>\n",
       "      <td>2023-06-01</td>\n",
       "      <td>2023-06-30</td>\n",
       "      <td>0.248378</td>\n",
       "      <td>Month</td>\n",
       "      <td>s_cic_score</td>\n",
       "      <td>1.1.0</td>\n",
       "      <td>FPD30</td>\n",
       "    </tr>\n",
       "    <tr>\n",
       "      <th>2</th>\n",
       "      <td>2023-06-05</td>\n",
       "      <td>2023-06-11</td>\n",
       "      <td>0.437229</td>\n",
       "      <td>Week</td>\n",
       "      <td>s_cic_score</td>\n",
       "      <td>1.1.0</td>\n",
       "      <td>FPD30</td>\n",
       "    </tr>\n",
       "    <tr>\n",
       "      <th>3</th>\n",
       "      <td>2023-06-12</td>\n",
       "      <td>2023-06-18</td>\n",
       "      <td>0.514851</td>\n",
       "      <td>Week</td>\n",
       "      <td>s_cic_score</td>\n",
       "      <td>1.1.0</td>\n",
       "      <td>FPD30</td>\n",
       "    </tr>\n",
       "    <tr>\n",
       "      <th>4</th>\n",
       "      <td>2023-06-19</td>\n",
       "      <td>2023-06-25</td>\n",
       "      <td>0.035484</td>\n",
       "      <td>Week</td>\n",
       "      <td>s_cic_score</td>\n",
       "      <td>1.1.0</td>\n",
       "      <td>FPD30</td>\n",
       "    </tr>\n",
       "  </tbody>\n",
       "</table>\n",
       "</div>"
      ],
      "text/plain": [
       "  start_date   end_date  s_cic_score_FPD30_gini period   Model_Name version  \\\n",
       "0 2023-05-29 2023-06-04                0.523077   Week  s_cic_score   1.1.0   \n",
       "1 2023-06-01 2023-06-30                0.248378  Month  s_cic_score   1.1.0   \n",
       "2 2023-06-05 2023-06-11                0.437229   Week  s_cic_score   1.1.0   \n",
       "3 2023-06-12 2023-06-18                0.514851   Week  s_cic_score   1.1.0   \n",
       "4 2023-06-19 2023-06-25                0.035484   Week  s_cic_score   1.1.0   \n",
       "\n",
       "  bad_rate  \n",
       "0    FPD30  \n",
       "1    FPD30  \n",
       "2    FPD30  \n",
       "3    FPD30  \n",
       "4    FPD30  "
      ]
     },
     "execution_count": 52,
     "metadata": {},
     "output_type": "execute_result"
    }
   ],
   "source": [
    "s_cic_scoreFPD30.head()"
   ]
  },
  {
   "cell_type": "code",
   "execution_count": 53,
   "metadata": {},
   "outputs": [
    {
     "data": {
      "text/html": [
       "<div>\n",
       "<style scoped>\n",
       "    .dataframe tbody tr th:only-of-type {\n",
       "        vertical-align: middle;\n",
       "    }\n",
       "\n",
       "    .dataframe tbody tr th {\n",
       "        vertical-align: top;\n",
       "    }\n",
       "\n",
       "    .dataframe thead th {\n",
       "        text-align: right;\n",
       "    }\n",
       "</style>\n",
       "<table border=\"1\" class=\"dataframe\">\n",
       "  <thead>\n",
       "    <tr style=\"text-align: right;\">\n",
       "      <th></th>\n",
       "      <th>start_date</th>\n",
       "      <th>end_date</th>\n",
       "      <th>s_cic_score_FPD30_gini</th>\n",
       "    </tr>\n",
       "  </thead>\n",
       "  <tbody>\n",
       "    <tr>\n",
       "      <th>count</th>\n",
       "      <td>101</td>\n",
       "      <td>101</td>\n",
       "      <td>101.000000</td>\n",
       "    </tr>\n",
       "    <tr>\n",
       "      <th>mean</th>\n",
       "      <td>2024-03-11 12:21:23.168316928</td>\n",
       "      <td>2024-03-21 22:34:27.326732800</td>\n",
       "      <td>0.327125</td>\n",
       "    </tr>\n",
       "    <tr>\n",
       "      <th>min</th>\n",
       "      <td>2023-05-29 00:00:00</td>\n",
       "      <td>2023-06-04 00:00:00</td>\n",
       "      <td>0.035484</td>\n",
       "    </tr>\n",
       "    <tr>\n",
       "      <th>25%</th>\n",
       "      <td>2023-10-23 00:00:00</td>\n",
       "      <td>2023-10-31 00:00:00</td>\n",
       "      <td>0.268895</td>\n",
       "    </tr>\n",
       "    <tr>\n",
       "      <th>50%</th>\n",
       "      <td>2024-03-11 00:00:00</td>\n",
       "      <td>2024-03-24 00:00:00</td>\n",
       "      <td>0.315266</td>\n",
       "    </tr>\n",
       "    <tr>\n",
       "      <th>75%</th>\n",
       "      <td>2024-08-01 00:00:00</td>\n",
       "      <td>2024-08-11 00:00:00</td>\n",
       "      <td>0.380208</td>\n",
       "    </tr>\n",
       "    <tr>\n",
       "      <th>max</th>\n",
       "      <td>2024-12-23 00:00:00</td>\n",
       "      <td>2024-12-31 00:00:00</td>\n",
       "      <td>0.940476</td>\n",
       "    </tr>\n",
       "    <tr>\n",
       "      <th>std</th>\n",
       "      <td>NaN</td>\n",
       "      <td>NaN</td>\n",
       "      <td>0.114556</td>\n",
       "    </tr>\n",
       "  </tbody>\n",
       "</table>\n",
       "</div>"
      ],
      "text/plain": [
       "                          start_date                       end_date  \\\n",
       "count                            101                            101   \n",
       "mean   2024-03-11 12:21:23.168316928  2024-03-21 22:34:27.326732800   \n",
       "min              2023-05-29 00:00:00            2023-06-04 00:00:00   \n",
       "25%              2023-10-23 00:00:00            2023-10-31 00:00:00   \n",
       "50%              2024-03-11 00:00:00            2024-03-24 00:00:00   \n",
       "75%              2024-08-01 00:00:00            2024-08-11 00:00:00   \n",
       "max              2024-12-23 00:00:00            2024-12-31 00:00:00   \n",
       "std                              NaN                            NaN   \n",
       "\n",
       "       s_cic_score_FPD30_gini  \n",
       "count              101.000000  \n",
       "mean                 0.327125  \n",
       "min                  0.035484  \n",
       "25%                  0.268895  \n",
       "50%                  0.315266  \n",
       "75%                  0.380208  \n",
       "max                  0.940476  \n",
       "std                  0.114556  "
      ]
     },
     "execution_count": 53,
     "metadata": {},
     "output_type": "execute_result"
    }
   ],
   "source": [
    "s_cic_scoreFPD30.describe()"
   ]
  },
  {
   "cell_type": "markdown",
   "metadata": {},
   "source": [
    "## FSPD30"
   ]
  },
  {
   "cell_type": "code",
   "execution_count": 54,
   "metadata": {},
   "outputs": [
    {
     "name": "stdout",
     "output_type": "stream",
     "text": [
      "Job ID 65c28be1-5d42-4f11-bb4e-7a69a0876733 successfully executed: 100%|\u001b[32m██████████\u001b[0m|"
     ]
    },
    {
     "name": "stderr",
     "output_type": "stream",
     "text": [
      "d:\\Anaconda3\\envs\\inc_env\\lib\\site-packages\\google\\cloud\\bigquery\\table.py:1820: UserWarning: BigQuery Storage module not found, fetch data with the REST endpoint instead.\n",
      "  warnings.warn(\n"
     ]
    },
    {
     "name": "stdout",
     "output_type": "stream",
     "text": [
      "\n",
      "Downloading: 100%|\u001b[32m██████████\u001b[0m|\n"
     ]
    }
   ],
   "source": [
    "sq = \"\"\"\n",
    "with s_cic_score as \n",
    "(SELECT \n",
    "    ln_disb_dtime disbursementdate,\n",
    "\tdigitalLoanAccountId,\n",
    "    s_cic_score,\n",
    "    ln_fspd30_flag,\n",
    "\tln_mature_fspd30_flag,\t\n",
    "\tFROM \n",
    "    prj-prod-dataplatform.risk_mart.sil_risk_ds_master_20230101_20250206\n",
    "  WHERE \n",
    "     -- ln_disb_dtime >= '2023-07-01'\n",
    "    ln_appln_submit_datetime >= '2023-06-01'\n",
    "  -- AND\n",
    "  --   format_date('%Y-%m', ln_disb_dtime) = '2024-09'\n",
    "  AND\n",
    "    ln_fspd30_flag is not null\n",
    "  AND\n",
    "    s_cic_score is not null\n",
    "  AND\n",
    "    ln_mature_fspd30_flag = 1\n",
    ")\n",
    "select * from s_cic_score;\n",
    "\"\"\"\n",
    "\n",
    "df_s_cic_scorefspd30 = client.query(sq).to_dataframe(progress_bar_type='tqdm')"
   ]
  },
  {
   "cell_type": "code",
   "execution_count": 55,
   "metadata": {},
   "outputs": [
    {
     "name": "stdout",
     "output_type": "stream",
     "text": [
      "The shape of dataframe after copy is:\t(96, 7)\n"
     ]
    },
    {
     "data": {
      "text/plain": [
       "array(['start_date', 'end_date', 's_cic_score_FSPD30_gini', 'period',\n",
       "       'Model_Name', 'version', 'bad_rate'], dtype=object)"
      ]
     },
     "execution_count": 55,
     "metadata": {},
     "output_type": "execute_result"
    }
   ],
   "source": [
    "gini_results = calculate_periodic_gini(df_s_cic_scorefspd30, 's_cic_score', 'ln_fspd30_flag', 'FSPD30')\n",
    "s_cic_scoreFSPD30 = gini_results.copy()\n",
    "print(f\"The shape of dataframe after copy is:\\t{s_cic_scoreFSPD30.shape}\")\n",
    "s_cic_scoreFSPD30.columns.values"
   ]
  },
  {
   "cell_type": "code",
   "execution_count": 56,
   "metadata": {},
   "outputs": [
    {
     "data": {
      "text/html": [
       "<div>\n",
       "<style scoped>\n",
       "    .dataframe tbody tr th:only-of-type {\n",
       "        vertical-align: middle;\n",
       "    }\n",
       "\n",
       "    .dataframe tbody tr th {\n",
       "        vertical-align: top;\n",
       "    }\n",
       "\n",
       "    .dataframe thead th {\n",
       "        text-align: right;\n",
       "    }\n",
       "</style>\n",
       "<table border=\"1\" class=\"dataframe\">\n",
       "  <thead>\n",
       "    <tr style=\"text-align: right;\">\n",
       "      <th></th>\n",
       "      <th>start_date</th>\n",
       "      <th>end_date</th>\n",
       "      <th>s_cic_score_FSPD30_gini</th>\n",
       "    </tr>\n",
       "  </thead>\n",
       "  <tbody>\n",
       "    <tr>\n",
       "      <th>count</th>\n",
       "      <td>96</td>\n",
       "      <td>96</td>\n",
       "      <td>96.000000</td>\n",
       "    </tr>\n",
       "    <tr>\n",
       "      <th>mean</th>\n",
       "      <td>2024-02-26 06:15:00</td>\n",
       "      <td>2024-03-07 16:00:00</td>\n",
       "      <td>0.320292</td>\n",
       "    </tr>\n",
       "    <tr>\n",
       "      <th>min</th>\n",
       "      <td>2023-05-29 00:00:00</td>\n",
       "      <td>2023-06-04 00:00:00</td>\n",
       "      <td>0.066869</td>\n",
       "    </tr>\n",
       "    <tr>\n",
       "      <th>25%</th>\n",
       "      <td>2023-10-14 06:00:00</td>\n",
       "      <td>2023-10-27 06:00:00</td>\n",
       "      <td>0.270472</td>\n",
       "    </tr>\n",
       "    <tr>\n",
       "      <th>50%</th>\n",
       "      <td>2024-02-28 00:00:00</td>\n",
       "      <td>2024-03-06 12:00:00</td>\n",
       "      <td>0.319791</td>\n",
       "    </tr>\n",
       "    <tr>\n",
       "      <th>75%</th>\n",
       "      <td>2024-07-09 18:00:00</td>\n",
       "      <td>2024-07-22 18:00:00</td>\n",
       "      <td>0.359617</td>\n",
       "    </tr>\n",
       "    <tr>\n",
       "      <th>max</th>\n",
       "      <td>2024-11-25 00:00:00</td>\n",
       "      <td>2024-12-01 00:00:00</td>\n",
       "      <td>0.680714</td>\n",
       "    </tr>\n",
       "    <tr>\n",
       "      <th>std</th>\n",
       "      <td>NaN</td>\n",
       "      <td>NaN</td>\n",
       "      <td>0.087323</td>\n",
       "    </tr>\n",
       "  </tbody>\n",
       "</table>\n",
       "</div>"
      ],
      "text/plain": [
       "                start_date             end_date  s_cic_score_FSPD30_gini\n",
       "count                   96                   96                96.000000\n",
       "mean   2024-02-26 06:15:00  2024-03-07 16:00:00                 0.320292\n",
       "min    2023-05-29 00:00:00  2023-06-04 00:00:00                 0.066869\n",
       "25%    2023-10-14 06:00:00  2023-10-27 06:00:00                 0.270472\n",
       "50%    2024-02-28 00:00:00  2024-03-06 12:00:00                 0.319791\n",
       "75%    2024-07-09 18:00:00  2024-07-22 18:00:00                 0.359617\n",
       "max    2024-11-25 00:00:00  2024-12-01 00:00:00                 0.680714\n",
       "std                    NaN                  NaN                 0.087323"
      ]
     },
     "execution_count": 56,
     "metadata": {},
     "output_type": "execute_result"
    }
   ],
   "source": [
    "s_cic_scoreFSPD30.describe()"
   ]
  },
  {
   "cell_type": "code",
   "execution_count": 57,
   "metadata": {},
   "outputs": [
    {
     "data": {
      "text/html": [
       "<div>\n",
       "<style scoped>\n",
       "    .dataframe tbody tr th:only-of-type {\n",
       "        vertical-align: middle;\n",
       "    }\n",
       "\n",
       "    .dataframe tbody tr th {\n",
       "        vertical-align: top;\n",
       "    }\n",
       "\n",
       "    .dataframe thead th {\n",
       "        text-align: right;\n",
       "    }\n",
       "</style>\n",
       "<table border=\"1\" class=\"dataframe\">\n",
       "  <thead>\n",
       "    <tr style=\"text-align: right;\">\n",
       "      <th></th>\n",
       "      <th>start_date</th>\n",
       "      <th>end_date</th>\n",
       "      <th>s_cic_score_FSPD30_gini</th>\n",
       "      <th>period</th>\n",
       "      <th>Model_Name</th>\n",
       "      <th>version</th>\n",
       "      <th>bad_rate</th>\n",
       "    </tr>\n",
       "  </thead>\n",
       "  <tbody>\n",
       "    <tr>\n",
       "      <th>91</th>\n",
       "      <td>2024-11-01</td>\n",
       "      <td>2024-11-30</td>\n",
       "      <td>0.263308</td>\n",
       "      <td>Month</td>\n",
       "      <td>s_cic_score</td>\n",
       "      <td>1.1.0</td>\n",
       "      <td>FSPD30</td>\n",
       "    </tr>\n",
       "    <tr>\n",
       "      <th>92</th>\n",
       "      <td>2024-11-04</td>\n",
       "      <td>2024-11-10</td>\n",
       "      <td>0.342195</td>\n",
       "      <td>Week</td>\n",
       "      <td>s_cic_score</td>\n",
       "      <td>1.1.0</td>\n",
       "      <td>FSPD30</td>\n",
       "    </tr>\n",
       "    <tr>\n",
       "      <th>93</th>\n",
       "      <td>2024-11-11</td>\n",
       "      <td>2024-11-17</td>\n",
       "      <td>0.202355</td>\n",
       "      <td>Week</td>\n",
       "      <td>s_cic_score</td>\n",
       "      <td>1.1.0</td>\n",
       "      <td>FSPD30</td>\n",
       "    </tr>\n",
       "    <tr>\n",
       "      <th>94</th>\n",
       "      <td>2024-11-18</td>\n",
       "      <td>2024-11-24</td>\n",
       "      <td>0.273222</td>\n",
       "      <td>Week</td>\n",
       "      <td>s_cic_score</td>\n",
       "      <td>1.1.0</td>\n",
       "      <td>FSPD30</td>\n",
       "    </tr>\n",
       "    <tr>\n",
       "      <th>95</th>\n",
       "      <td>2024-11-25</td>\n",
       "      <td>2024-12-01</td>\n",
       "      <td>0.105903</td>\n",
       "      <td>Week</td>\n",
       "      <td>s_cic_score</td>\n",
       "      <td>1.1.0</td>\n",
       "      <td>FSPD30</td>\n",
       "    </tr>\n",
       "  </tbody>\n",
       "</table>\n",
       "</div>"
      ],
      "text/plain": [
       "   start_date   end_date  s_cic_score_FSPD30_gini period   Model_Name version  \\\n",
       "91 2024-11-01 2024-11-30                 0.263308  Month  s_cic_score   1.1.0   \n",
       "92 2024-11-04 2024-11-10                 0.342195   Week  s_cic_score   1.1.0   \n",
       "93 2024-11-11 2024-11-17                 0.202355   Week  s_cic_score   1.1.0   \n",
       "94 2024-11-18 2024-11-24                 0.273222   Week  s_cic_score   1.1.0   \n",
       "95 2024-11-25 2024-12-01                 0.105903   Week  s_cic_score   1.1.0   \n",
       "\n",
       "   bad_rate  \n",
       "91   FSPD30  \n",
       "92   FSPD30  \n",
       "93   FSPD30  \n",
       "94   FSPD30  \n",
       "95   FSPD30  "
      ]
     },
     "execution_count": 57,
     "metadata": {},
     "output_type": "execute_result"
    }
   ],
   "source": [
    "s_cic_scoreFSPD30.tail()"
   ]
  },
  {
   "cell_type": "markdown",
   "metadata": {},
   "source": [
    "## FSTPD30"
   ]
  },
  {
   "cell_type": "code",
   "execution_count": 58,
   "metadata": {},
   "outputs": [
    {
     "name": "stdout",
     "output_type": "stream",
     "text": [
      "Job ID 488491e4-a1e6-45d6-997a-a4e1e8e2065a successfully executed: 100%|\u001b[32m██████████\u001b[0m|"
     ]
    },
    {
     "name": "stderr",
     "output_type": "stream",
     "text": [
      "d:\\Anaconda3\\envs\\inc_env\\lib\\site-packages\\google\\cloud\\bigquery\\table.py:1820: UserWarning: BigQuery Storage module not found, fetch data with the REST endpoint instead.\n",
      "  warnings.warn(\n"
     ]
    },
    {
     "name": "stdout",
     "output_type": "stream",
     "text": [
      "\n",
      "Downloading: 100%|\u001b[32m██████████\u001b[0m|\n"
     ]
    }
   ],
   "source": [
    "sq = \"\"\"\n",
    "with s_cic_score as \n",
    "(SELECT \n",
    "    ln_disb_dtime disbursementdate,\n",
    "\tdigitalLoanAccountId,\n",
    "    s_cic_score,\n",
    "    ln_fstpd30_flag,\n",
    "\tln_mature_fstpd30_flag,\t\n",
    "\tFROM \n",
    "    prj-prod-dataplatform.risk_mart.sil_risk_ds_master_20230101_20250206\n",
    "  WHERE \n",
    "     -- ln_disb_dtime >= '2023-07-01'\n",
    "    ln_appln_submit_datetime >= '2023-06-01'\n",
    "  -- AND\n",
    "  --   format_date('%Y-%m', ln_disb_dtime) = '2024-09'\n",
    "  AND\n",
    "    ln_fstpd30_flag is not null\n",
    "  AND\n",
    "    s_cic_score is not null\n",
    "  AND\n",
    "    ln_mature_fstpd30_flag = 1\n",
    ")\n",
    "select * from s_cic_score;\n",
    "\"\"\"\n",
    "\n",
    "df_s_cic_scorefstpd30 = client.query(sq).to_dataframe(progress_bar_type='tqdm')"
   ]
  },
  {
   "cell_type": "code",
   "execution_count": 59,
   "metadata": {},
   "outputs": [
    {
     "name": "stdout",
     "output_type": "stream",
     "text": [
      "The shape of dataframe after copy is:\t(90, 7)\n"
     ]
    },
    {
     "data": {
      "text/plain": [
       "array(['start_date', 'end_date', 's_cic_score_FSTPD30_gini', 'period',\n",
       "       'Model_Name', 'version', 'bad_rate'], dtype=object)"
      ]
     },
     "execution_count": 59,
     "metadata": {},
     "output_type": "execute_result"
    }
   ],
   "source": [
    "gini_results = calculate_periodic_gini(df_s_cic_scorefstpd30, 's_cic_score', 'ln_fstpd30_flag', 'FSTPD30')\n",
    "s_cic_scoreFSTPD30 = gini_results.copy()\n",
    "print(f\"The shape of dataframe after copy is:\\t{s_cic_scoreFSTPD30.shape}\")\n",
    "s_cic_scoreFSTPD30.columns.values"
   ]
  },
  {
   "cell_type": "code",
   "execution_count": 60,
   "metadata": {},
   "outputs": [
    {
     "data": {
      "text/html": [
       "<div>\n",
       "<style scoped>\n",
       "    .dataframe tbody tr th:only-of-type {\n",
       "        vertical-align: middle;\n",
       "    }\n",
       "\n",
       "    .dataframe tbody tr th {\n",
       "        vertical-align: top;\n",
       "    }\n",
       "\n",
       "    .dataframe thead th {\n",
       "        text-align: right;\n",
       "    }\n",
       "</style>\n",
       "<table border=\"1\" class=\"dataframe\">\n",
       "  <thead>\n",
       "    <tr style=\"text-align: right;\">\n",
       "      <th></th>\n",
       "      <th>start_date</th>\n",
       "      <th>end_date</th>\n",
       "      <th>s_cic_score_FSTPD30_gini</th>\n",
       "    </tr>\n",
       "  </thead>\n",
       "  <tbody>\n",
       "    <tr>\n",
       "      <th>count</th>\n",
       "      <td>90</td>\n",
       "      <td>90</td>\n",
       "      <td>90.000000</td>\n",
       "    </tr>\n",
       "    <tr>\n",
       "      <th>mean</th>\n",
       "      <td>2024-02-09 02:56:00</td>\n",
       "      <td>2024-02-19 13:36:00</td>\n",
       "      <td>0.306488</td>\n",
       "    </tr>\n",
       "    <tr>\n",
       "      <th>min</th>\n",
       "      <td>2023-05-29 00:00:00</td>\n",
       "      <td>2023-06-04 00:00:00</td>\n",
       "      <td>0.154422</td>\n",
       "    </tr>\n",
       "    <tr>\n",
       "      <th>25%</th>\n",
       "      <td>2023-10-03 18:00:00</td>\n",
       "      <td>2023-10-16 18:00:00</td>\n",
       "      <td>0.257354</td>\n",
       "    </tr>\n",
       "    <tr>\n",
       "      <th>50%</th>\n",
       "      <td>2024-02-08 12:00:00</td>\n",
       "      <td>2024-02-21 12:00:00</td>\n",
       "      <td>0.300352</td>\n",
       "    </tr>\n",
       "    <tr>\n",
       "      <th>75%</th>\n",
       "      <td>2024-06-15 06:00:00</td>\n",
       "      <td>2024-06-28 06:00:00</td>\n",
       "      <td>0.325598</td>\n",
       "    </tr>\n",
       "    <tr>\n",
       "      <th>max</th>\n",
       "      <td>2024-10-21 00:00:00</td>\n",
       "      <td>2024-10-31 00:00:00</td>\n",
       "      <td>0.571813</td>\n",
       "    </tr>\n",
       "    <tr>\n",
       "      <th>std</th>\n",
       "      <td>NaN</td>\n",
       "      <td>NaN</td>\n",
       "      <td>0.073241</td>\n",
       "    </tr>\n",
       "  </tbody>\n",
       "</table>\n",
       "</div>"
      ],
      "text/plain": [
       "                start_date             end_date  s_cic_score_FSTPD30_gini\n",
       "count                   90                   90                 90.000000\n",
       "mean   2024-02-09 02:56:00  2024-02-19 13:36:00                  0.306488\n",
       "min    2023-05-29 00:00:00  2023-06-04 00:00:00                  0.154422\n",
       "25%    2023-10-03 18:00:00  2023-10-16 18:00:00                  0.257354\n",
       "50%    2024-02-08 12:00:00  2024-02-21 12:00:00                  0.300352\n",
       "75%    2024-06-15 06:00:00  2024-06-28 06:00:00                  0.325598\n",
       "max    2024-10-21 00:00:00  2024-10-31 00:00:00                  0.571813\n",
       "std                    NaN                  NaN                  0.073241"
      ]
     },
     "execution_count": 60,
     "metadata": {},
     "output_type": "execute_result"
    }
   ],
   "source": [
    "s_cic_scoreFSTPD30.describe()"
   ]
  },
  {
   "cell_type": "code",
   "execution_count": 61,
   "metadata": {},
   "outputs": [
    {
     "data": {
      "text/html": [
       "<div>\n",
       "<style scoped>\n",
       "    .dataframe tbody tr th:only-of-type {\n",
       "        vertical-align: middle;\n",
       "    }\n",
       "\n",
       "    .dataframe tbody tr th {\n",
       "        vertical-align: top;\n",
       "    }\n",
       "\n",
       "    .dataframe thead th {\n",
       "        text-align: right;\n",
       "    }\n",
       "</style>\n",
       "<table border=\"1\" class=\"dataframe\">\n",
       "  <thead>\n",
       "    <tr style=\"text-align: right;\">\n",
       "      <th></th>\n",
       "      <th>start_date</th>\n",
       "      <th>end_date</th>\n",
       "      <th>s_cic_score_FSTPD30_gini</th>\n",
       "      <th>period</th>\n",
       "      <th>Model_Name</th>\n",
       "      <th>version</th>\n",
       "      <th>bad_rate</th>\n",
       "    </tr>\n",
       "  </thead>\n",
       "  <tbody>\n",
       "    <tr>\n",
       "      <th>85</th>\n",
       "      <td>2024-09-30</td>\n",
       "      <td>2024-10-06</td>\n",
       "      <td>0.313062</td>\n",
       "      <td>Week</td>\n",
       "      <td>s_cic_score</td>\n",
       "      <td>1.1.0</td>\n",
       "      <td>FSTPD30</td>\n",
       "    </tr>\n",
       "    <tr>\n",
       "      <th>86</th>\n",
       "      <td>2024-10-01</td>\n",
       "      <td>2024-10-31</td>\n",
       "      <td>0.302723</td>\n",
       "      <td>Month</td>\n",
       "      <td>s_cic_score</td>\n",
       "      <td>1.1.0</td>\n",
       "      <td>FSTPD30</td>\n",
       "    </tr>\n",
       "    <tr>\n",
       "      <th>87</th>\n",
       "      <td>2024-10-07</td>\n",
       "      <td>2024-10-13</td>\n",
       "      <td>0.321294</td>\n",
       "      <td>Week</td>\n",
       "      <td>s_cic_score</td>\n",
       "      <td>1.1.0</td>\n",
       "      <td>FSTPD30</td>\n",
       "    </tr>\n",
       "    <tr>\n",
       "      <th>88</th>\n",
       "      <td>2024-10-14</td>\n",
       "      <td>2024-10-20</td>\n",
       "      <td>0.271744</td>\n",
       "      <td>Week</td>\n",
       "      <td>s_cic_score</td>\n",
       "      <td>1.1.0</td>\n",
       "      <td>FSTPD30</td>\n",
       "    </tr>\n",
       "    <tr>\n",
       "      <th>89</th>\n",
       "      <td>2024-10-21</td>\n",
       "      <td>2024-10-27</td>\n",
       "      <td>0.299608</td>\n",
       "      <td>Week</td>\n",
       "      <td>s_cic_score</td>\n",
       "      <td>1.1.0</td>\n",
       "      <td>FSTPD30</td>\n",
       "    </tr>\n",
       "  </tbody>\n",
       "</table>\n",
       "</div>"
      ],
      "text/plain": [
       "   start_date   end_date  s_cic_score_FSTPD30_gini period   Model_Name  \\\n",
       "85 2024-09-30 2024-10-06                  0.313062   Week  s_cic_score   \n",
       "86 2024-10-01 2024-10-31                  0.302723  Month  s_cic_score   \n",
       "87 2024-10-07 2024-10-13                  0.321294   Week  s_cic_score   \n",
       "88 2024-10-14 2024-10-20                  0.271744   Week  s_cic_score   \n",
       "89 2024-10-21 2024-10-27                  0.299608   Week  s_cic_score   \n",
       "\n",
       "   version bad_rate  \n",
       "85   1.1.0  FSTPD30  \n",
       "86   1.1.0  FSTPD30  \n",
       "87   1.1.0  FSTPD30  \n",
       "88   1.1.0  FSTPD30  \n",
       "89   1.1.0  FSTPD30  "
      ]
     },
     "execution_count": 61,
     "metadata": {},
     "output_type": "execute_result"
    }
   ],
   "source": [
    "s_cic_scoreFSTPD30.tail()"
   ]
  },
  {
   "cell_type": "markdown",
   "metadata": {},
   "source": [
    "# Combining s_cic_score"
   ]
  },
  {
   "cell_type": "code",
   "execution_count": 62,
   "metadata": {},
   "outputs": [
    {
     "data": {
      "text/plain": [
       "array(['start_date', 'end_date', 's_cic_score_FPD10_gini', 'period',\n",
       "       'Model_Name', 'version', 'bad_rate', 's_cic_score_FPD30_gini',\n",
       "       's_cic_score_FSPD30_gini', 's_cic_score_FSTPD30_gini'],\n",
       "      dtype=object)"
      ]
     },
     "execution_count": 62,
     "metadata": {},
     "output_type": "execute_result"
    }
   ],
   "source": [
    "import functools\n",
    "\n",
    "dataframes = [s_cic_scoreFPD10, s_cic_scoreFPD30, s_cic_scoreFSPD30, s_cic_scoreFSTPD30]\n",
    "common_columns = ['start_date', 'end_date', 'period', 'Model_Name','version', 'bad_rate']\n",
    "\n",
    "def merge_dataframes(df1, df2):\n",
    "    return pd.merge(df1, df2, on=common_columns, how='outer')\n",
    "\n",
    "final_df = functools.reduce(merge_dataframes, dataframes)\n",
    "\n",
    "final_df.columns.values"
   ]
  },
  {
   "cell_type": "code",
   "execution_count": 63,
   "metadata": {},
   "outputs": [],
   "source": [
    "final_df = final_df[['start_date', 'end_date', 'period',\n",
    "       'Model_Name', 'version', 'bad_rate','s_cic_score_FPD10_gini','s_cic_score_FPD30_gini', 's_cic_score_FSPD30_gini', 's_cic_score_FSTPD30_gini']].copy()"
   ]
  },
  {
   "cell_type": "markdown",
   "metadata": {},
   "source": [
    "## Creating the table"
   ]
  },
  {
   "cell_type": "code",
   "execution_count": 64,
   "metadata": {},
   "outputs": [
    {
     "data": {
      "text/plain": [
       "QueryJob<project=prj-prod-dataplatform, location=asia-southeast1, id=7b896d41-0381-4398-8f3a-9c0c7b9eff82>"
      ]
     },
     "execution_count": 64,
     "metadata": {},
     "output_type": "execute_result"
    }
   ],
   "source": [
    "sq = \"\"\"drop table if exists prj-prod-dataplatform.dap_ds_poweruser_playground.Model_gini_s_cic_score;\"\"\"\n",
    "\n",
    "client.query(sq)"
   ]
  },
  {
   "cell_type": "code",
   "execution_count": 65,
   "metadata": {},
   "outputs": [
    {
     "data": {
      "text/plain": [
       "LoadJob<project=prj-prod-dataplatform, location=asia-southeast1, id=dd731b13-78a5-48c5-a70d-a98b87b23eed>"
      ]
     },
     "execution_count": 65,
     "metadata": {},
     "output_type": "execute_result"
    }
   ],
   "source": [
    "\n",
    "\n",
    "import pandas as pd\n",
    "from google.cloud import bigquery\n",
    "\n",
    "# Create a BigQuery client\n",
    "client = bigquery.Client('prj-prod-dataplatform')\n",
    "\n",
    "# Define your table schema\n",
    "table_schema = [\n",
    "    bigquery.SchemaField('start_date', 'TIMESTAMP'),\n",
    "    bigquery.SchemaField('end_date', 'TIMESTAMP'),\n",
    "    bigquery.SchemaField('period', 'STRING'),\n",
    "    bigquery.SchemaField('Model_Name', 'STRING'),\n",
    "    bigquery.SchemaField('version', 'STRING'),\n",
    "    bigquery.SchemaField('Badrate', 'STRING'),\n",
    "    bigquery.SchemaField('s_cic_score_FPD10_gini', 'FLOAT'),\n",
    "    bigquery.SchemaField('s_cic_score_FPD30_gini', 'FLOAT'),    \n",
    "    bigquery.SchemaField('s_cic_score_FSPD30_gini', 'FLOAT'),\n",
    "    bigquery.SchemaField('s_cic_score_FSTPD30_gini', 'FLOAT')\n",
    "    \n",
    "]\n",
    "\n",
    "# Create your BigQuery table\n",
    "table_id = 'prj-prod-dataplatform.dap_ds_poweruser_playground.Model_gini_s_cic_score'\n",
    "table = bigquery.Table(table_id, schema=table_schema)\n",
    "table = client.create_table(table)\n",
    "\n",
    "# Load your DataFrame into BigQuery\n",
    "job_config = bigquery.LoadJobConfig(\n",
    "    write_disposition='WRITE_TRUNCATE'\n",
    ")\n",
    "\n",
    "load_job = client.load_table_from_dataframe(\n",
    "    final_df, table_id, job_config=job_config\n",
    ")\n",
    "\n",
    "load_job.result()"
   ]
  },
  {
   "cell_type": "markdown",
   "metadata": {},
   "source": [
    "# sb_stack_score"
   ]
  },
  {
   "cell_type": "markdown",
   "metadata": {},
   "source": [
    "## FPD10"
   ]
  },
  {
   "cell_type": "code",
   "execution_count": 66,
   "metadata": {},
   "outputs": [
    {
     "name": "stdout",
     "output_type": "stream",
     "text": [
      "Job ID a83ce1db-504d-43c7-bd35-1dac3d62a849 successfully executed: 100%|\u001b[32m██████████\u001b[0m|"
     ]
    },
    {
     "name": "stderr",
     "output_type": "stream",
     "text": [
      "d:\\Anaconda3\\envs\\inc_env\\lib\\site-packages\\google\\cloud\\bigquery\\table.py:1820: UserWarning: BigQuery Storage module not found, fetch data with the REST endpoint instead.\n",
      "  warnings.warn(\n"
     ]
    },
    {
     "name": "stdout",
     "output_type": "stream",
     "text": [
      "\n",
      "Downloading: 100%|\u001b[32m██████████\u001b[0m|\n"
     ]
    },
    {
     "data": {
      "text/html": [
       "<div>\n",
       "<style scoped>\n",
       "    .dataframe tbody tr th:only-of-type {\n",
       "        vertical-align: middle;\n",
       "    }\n",
       "\n",
       "    .dataframe tbody tr th {\n",
       "        vertical-align: top;\n",
       "    }\n",
       "\n",
       "    .dataframe thead th {\n",
       "        text-align: right;\n",
       "    }\n",
       "</style>\n",
       "<table border=\"1\" class=\"dataframe\">\n",
       "  <thead>\n",
       "    <tr style=\"text-align: right;\">\n",
       "      <th></th>\n",
       "      <th>disbursementdate</th>\n",
       "      <th>digitalLoanAccountId</th>\n",
       "      <th>sb_stack_score</th>\n",
       "      <th>ln_fpd10_flag</th>\n",
       "      <th>ln_mature_fpd10_flag</th>\n",
       "    </tr>\n",
       "  </thead>\n",
       "  <tbody>\n",
       "    <tr>\n",
       "      <th>0</th>\n",
       "      <td>2024-04-29 17:13:42</td>\n",
       "      <td>ec0662e6-2722-41c4-b483-70f9ff80ca2c</td>\n",
       "      <td>0.147727</td>\n",
       "      <td>0</td>\n",
       "      <td>1</td>\n",
       "    </tr>\n",
       "    <tr>\n",
       "      <th>1</th>\n",
       "      <td>2024-11-30 11:10:23</td>\n",
       "      <td>5a00b591-2f4c-4aa5-97e5-a9a36f9f5b72</td>\n",
       "      <td>0.280190</td>\n",
       "      <td>0</td>\n",
       "      <td>1</td>\n",
       "    </tr>\n",
       "    <tr>\n",
       "      <th>2</th>\n",
       "      <td>2023-11-08 12:53:36</td>\n",
       "      <td>183b56bf-1764-4bf7-a348-a70c4f504803</td>\n",
       "      <td>0.032809</td>\n",
       "      <td>0</td>\n",
       "      <td>1</td>\n",
       "    </tr>\n",
       "    <tr>\n",
       "      <th>3</th>\n",
       "      <td>2024-11-26 18:25:21</td>\n",
       "      <td>e7dd1f77-2200-43a6-afd2-a3ffaa55ebf6</td>\n",
       "      <td>0.074894</td>\n",
       "      <td>0</td>\n",
       "      <td>1</td>\n",
       "    </tr>\n",
       "    <tr>\n",
       "      <th>4</th>\n",
       "      <td>2024-09-18 15:41:01</td>\n",
       "      <td>1000d052-5dc0-43fd-bebc-df33aac78547</td>\n",
       "      <td>0.242276</td>\n",
       "      <td>0</td>\n",
       "      <td>1</td>\n",
       "    </tr>\n",
       "  </tbody>\n",
       "</table>\n",
       "</div>"
      ],
      "text/plain": [
       "     disbursementdate                  digitalLoanAccountId  sb_stack_score  \\\n",
       "0 2024-04-29 17:13:42  ec0662e6-2722-41c4-b483-70f9ff80ca2c        0.147727   \n",
       "1 2024-11-30 11:10:23  5a00b591-2f4c-4aa5-97e5-a9a36f9f5b72        0.280190   \n",
       "2 2023-11-08 12:53:36  183b56bf-1764-4bf7-a348-a70c4f504803        0.032809   \n",
       "3 2024-11-26 18:25:21  e7dd1f77-2200-43a6-afd2-a3ffaa55ebf6        0.074894   \n",
       "4 2024-09-18 15:41:01  1000d052-5dc0-43fd-bebc-df33aac78547        0.242276   \n",
       "\n",
       "   ln_fpd10_flag  ln_mature_fpd10_flag  \n",
       "0              0                     1  \n",
       "1              0                     1  \n",
       "2              0                     1  \n",
       "3              0                     1  \n",
       "4              0                     1  "
      ]
     },
     "execution_count": 66,
     "metadata": {},
     "output_type": "execute_result"
    }
   ],
   "source": [
    "# sb_stack_score\n",
    "\n",
    "sq = \"\"\"\n",
    "with sb_stack_score as \n",
    "(SELECT \n",
    "    ln_disb_dtime disbursementdate,\n",
    "\tdigitalLoanAccountId,\n",
    "    sb_stack_score,\n",
    "    ln_fpd10_flag,\n",
    "\tln_mature_fpd10_flag,\t\n",
    "\tFROM \n",
    "    prj-prod-dataplatform.risk_mart.sil_risk_ds_master_20230101_20250206\n",
    "  WHERE \n",
    "     -- ln_disb_dtime >= '2023-07-01'\n",
    "    ln_appln_submit_datetime >= '2023-06-01'\n",
    "  -- AND\n",
    "  --   format_date('%Y-%m', ln_disb_dtime) = '2024-09'\n",
    "  AND\n",
    "    ln_fpd10_flag is not null\n",
    "  AND\n",
    "    sb_stack_score is not null\n",
    "  AND\n",
    "    ln_mature_fpd10_flag = 1\n",
    ")\n",
    "select * from sb_stack_score;\n",
    "\"\"\"\n",
    "\n",
    "df_sb_stack_scorefpd10 = client.query(sq).to_dataframe(progress_bar_type='tqdm')\n",
    "\n",
    "df_sb_stack_scorefpd10.head()"
   ]
  },
  {
   "cell_type": "code",
   "execution_count": 67,
   "metadata": {},
   "outputs": [
    {
     "name": "stdout",
     "output_type": "stream",
     "text": [
      "The shape of dataframe after copy is:\t(106, 7)\n"
     ]
    },
    {
     "data": {
      "text/plain": [
       "array(['start_date', 'end_date', 'sb_stack_score_FPD10_gini', 'period',\n",
       "       'Model_Name', 'version', 'bad_rate'], dtype=object)"
      ]
     },
     "execution_count": 67,
     "metadata": {},
     "output_type": "execute_result"
    }
   ],
   "source": [
    "gini_results = calculate_periodic_gini(df_sb_stack_scorefpd10, 'sb_stack_score', 'ln_fpd10_flag', 'FPD10')\n",
    "M1FPD10 = gini_results.copy()\n",
    "print(f\"The shape of dataframe after copy is:\\t{M1FPD10.shape}\")\n",
    "M1FPD10.columns.values"
   ]
  },
  {
   "cell_type": "code",
   "execution_count": 68,
   "metadata": {},
   "outputs": [
    {
     "data": {
      "text/html": [
       "<div>\n",
       "<style scoped>\n",
       "    .dataframe tbody tr th:only-of-type {\n",
       "        vertical-align: middle;\n",
       "    }\n",
       "\n",
       "    .dataframe tbody tr th {\n",
       "        vertical-align: top;\n",
       "    }\n",
       "\n",
       "    .dataframe thead th {\n",
       "        text-align: right;\n",
       "    }\n",
       "</style>\n",
       "<table border=\"1\" class=\"dataframe\">\n",
       "  <thead>\n",
       "    <tr style=\"text-align: right;\">\n",
       "      <th></th>\n",
       "      <th>start_date</th>\n",
       "      <th>end_date</th>\n",
       "      <th>sb_stack_score_FPD10_gini</th>\n",
       "    </tr>\n",
       "  </thead>\n",
       "  <tbody>\n",
       "    <tr>\n",
       "      <th>count</th>\n",
       "      <td>106</td>\n",
       "      <td>106</td>\n",
       "      <td>106.000000</td>\n",
       "    </tr>\n",
       "    <tr>\n",
       "      <th>mean</th>\n",
       "      <td>2024-03-20 14:56:36.226415104</td>\n",
       "      <td>2024-03-31 01:35:05.660377344</td>\n",
       "      <td>0.349336</td>\n",
       "    </tr>\n",
       "    <tr>\n",
       "      <th>min</th>\n",
       "      <td>2023-05-29 00:00:00</td>\n",
       "      <td>2023-06-04 00:00:00</td>\n",
       "      <td>-0.067879</td>\n",
       "    </tr>\n",
       "    <tr>\n",
       "      <th>25%</th>\n",
       "      <td>2023-10-24 18:00:00</td>\n",
       "      <td>2023-11-01 06:00:00</td>\n",
       "      <td>0.301373</td>\n",
       "    </tr>\n",
       "    <tr>\n",
       "      <th>50%</th>\n",
       "      <td>2024-03-21 12:00:00</td>\n",
       "      <td>2024-03-31 00:00:00</td>\n",
       "      <td>0.333806</td>\n",
       "    </tr>\n",
       "    <tr>\n",
       "      <th>75%</th>\n",
       "      <td>2024-08-17 06:00:00</td>\n",
       "      <td>2024-08-29 12:00:00</td>\n",
       "      <td>0.411849</td>\n",
       "    </tr>\n",
       "    <tr>\n",
       "      <th>max</th>\n",
       "      <td>2025-01-13 00:00:00</td>\n",
       "      <td>2025-01-31 00:00:00</td>\n",
       "      <td>0.659591</td>\n",
       "    </tr>\n",
       "    <tr>\n",
       "      <th>std</th>\n",
       "      <td>NaN</td>\n",
       "      <td>NaN</td>\n",
       "      <td>0.097183</td>\n",
       "    </tr>\n",
       "  </tbody>\n",
       "</table>\n",
       "</div>"
      ],
      "text/plain": [
       "                          start_date                       end_date  \\\n",
       "count                            106                            106   \n",
       "mean   2024-03-20 14:56:36.226415104  2024-03-31 01:35:05.660377344   \n",
       "min              2023-05-29 00:00:00            2023-06-04 00:00:00   \n",
       "25%              2023-10-24 18:00:00            2023-11-01 06:00:00   \n",
       "50%              2024-03-21 12:00:00            2024-03-31 00:00:00   \n",
       "75%              2024-08-17 06:00:00            2024-08-29 12:00:00   \n",
       "max              2025-01-13 00:00:00            2025-01-31 00:00:00   \n",
       "std                              NaN                            NaN   \n",
       "\n",
       "       sb_stack_score_FPD10_gini  \n",
       "count                 106.000000  \n",
       "mean                    0.349336  \n",
       "min                    -0.067879  \n",
       "25%                     0.301373  \n",
       "50%                     0.333806  \n",
       "75%                     0.411849  \n",
       "max                     0.659591  \n",
       "std                     0.097183  "
      ]
     },
     "execution_count": 68,
     "metadata": {},
     "output_type": "execute_result"
    }
   ],
   "source": [
    "M1FPD10.describe()"
   ]
  },
  {
   "cell_type": "code",
   "execution_count": 69,
   "metadata": {},
   "outputs": [
    {
     "data": {
      "text/html": [
       "<div>\n",
       "<style scoped>\n",
       "    .dataframe tbody tr th:only-of-type {\n",
       "        vertical-align: middle;\n",
       "    }\n",
       "\n",
       "    .dataframe tbody tr th {\n",
       "        vertical-align: top;\n",
       "    }\n",
       "\n",
       "    .dataframe thead th {\n",
       "        text-align: right;\n",
       "    }\n",
       "</style>\n",
       "<table border=\"1\" class=\"dataframe\">\n",
       "  <thead>\n",
       "    <tr style=\"text-align: right;\">\n",
       "      <th></th>\n",
       "      <th>start_date</th>\n",
       "      <th>end_date</th>\n",
       "      <th>sb_stack_score_FPD10_gini</th>\n",
       "      <th>period</th>\n",
       "      <th>Model_Name</th>\n",
       "      <th>version</th>\n",
       "      <th>bad_rate</th>\n",
       "    </tr>\n",
       "  </thead>\n",
       "  <tbody>\n",
       "    <tr>\n",
       "      <th>0</th>\n",
       "      <td>2023-05-29</td>\n",
       "      <td>2023-06-04</td>\n",
       "      <td>0.482902</td>\n",
       "      <td>Week</td>\n",
       "      <td>sb_stack_score</td>\n",
       "      <td>1.1.0</td>\n",
       "      <td>FPD10</td>\n",
       "    </tr>\n",
       "    <tr>\n",
       "      <th>1</th>\n",
       "      <td>2023-06-01</td>\n",
       "      <td>2023-06-30</td>\n",
       "      <td>0.318382</td>\n",
       "      <td>Month</td>\n",
       "      <td>sb_stack_score</td>\n",
       "      <td>1.1.0</td>\n",
       "      <td>FPD10</td>\n",
       "    </tr>\n",
       "    <tr>\n",
       "      <th>2</th>\n",
       "      <td>2023-06-05</td>\n",
       "      <td>2023-06-11</td>\n",
       "      <td>0.417052</td>\n",
       "      <td>Week</td>\n",
       "      <td>sb_stack_score</td>\n",
       "      <td>1.1.0</td>\n",
       "      <td>FPD10</td>\n",
       "    </tr>\n",
       "    <tr>\n",
       "      <th>3</th>\n",
       "      <td>2023-06-12</td>\n",
       "      <td>2023-06-18</td>\n",
       "      <td>0.659591</td>\n",
       "      <td>Week</td>\n",
       "      <td>sb_stack_score</td>\n",
       "      <td>1.1.0</td>\n",
       "      <td>FPD10</td>\n",
       "    </tr>\n",
       "    <tr>\n",
       "      <th>4</th>\n",
       "      <td>2023-06-19</td>\n",
       "      <td>2023-06-25</td>\n",
       "      <td>-0.067879</td>\n",
       "      <td>Week</td>\n",
       "      <td>sb_stack_score</td>\n",
       "      <td>1.1.0</td>\n",
       "      <td>FPD10</td>\n",
       "    </tr>\n",
       "  </tbody>\n",
       "</table>\n",
       "</div>"
      ],
      "text/plain": [
       "  start_date   end_date  sb_stack_score_FPD10_gini period      Model_Name  \\\n",
       "0 2023-05-29 2023-06-04                   0.482902   Week  sb_stack_score   \n",
       "1 2023-06-01 2023-06-30                   0.318382  Month  sb_stack_score   \n",
       "2 2023-06-05 2023-06-11                   0.417052   Week  sb_stack_score   \n",
       "3 2023-06-12 2023-06-18                   0.659591   Week  sb_stack_score   \n",
       "4 2023-06-19 2023-06-25                  -0.067879   Week  sb_stack_score   \n",
       "\n",
       "  version bad_rate  \n",
       "0   1.1.0    FPD10  \n",
       "1   1.1.0    FPD10  \n",
       "2   1.1.0    FPD10  \n",
       "3   1.1.0    FPD10  \n",
       "4   1.1.0    FPD10  "
      ]
     },
     "execution_count": 69,
     "metadata": {},
     "output_type": "execute_result"
    }
   ],
   "source": [
    "M1FPD10.head()"
   ]
  },
  {
   "cell_type": "markdown",
   "metadata": {},
   "source": [
    "## FPD30"
   ]
  },
  {
   "cell_type": "code",
   "execution_count": 70,
   "metadata": {},
   "outputs": [
    {
     "name": "stdout",
     "output_type": "stream",
     "text": [
      "Job ID faf5ed6d-d6e9-42c7-a15a-56a5d1f55b83 successfully executed: 100%|\u001b[32m██████████\u001b[0m|"
     ]
    },
    {
     "name": "stderr",
     "output_type": "stream",
     "text": [
      "d:\\Anaconda3\\envs\\inc_env\\lib\\site-packages\\google\\cloud\\bigquery\\table.py:1820: UserWarning: BigQuery Storage module not found, fetch data with the REST endpoint instead.\n",
      "  warnings.warn(\n"
     ]
    },
    {
     "name": "stdout",
     "output_type": "stream",
     "text": [
      "\n",
      "Downloading: 100%|\u001b[32m██████████\u001b[0m|\n"
     ]
    },
    {
     "data": {
      "text/html": [
       "<div>\n",
       "<style scoped>\n",
       "    .dataframe tbody tr th:only-of-type {\n",
       "        vertical-align: middle;\n",
       "    }\n",
       "\n",
       "    .dataframe tbody tr th {\n",
       "        vertical-align: top;\n",
       "    }\n",
       "\n",
       "    .dataframe thead th {\n",
       "        text-align: right;\n",
       "    }\n",
       "</style>\n",
       "<table border=\"1\" class=\"dataframe\">\n",
       "  <thead>\n",
       "    <tr style=\"text-align: right;\">\n",
       "      <th></th>\n",
       "      <th>disbursementdate</th>\n",
       "      <th>digitalLoanAccountId</th>\n",
       "      <th>sb_stack_score</th>\n",
       "      <th>ln_fpd30_flag</th>\n",
       "      <th>ln_mature_fpd30_flag</th>\n",
       "    </tr>\n",
       "  </thead>\n",
       "  <tbody>\n",
       "    <tr>\n",
       "      <th>0</th>\n",
       "      <td>2024-04-29 17:13:42</td>\n",
       "      <td>ec0662e6-2722-41c4-b483-70f9ff80ca2c</td>\n",
       "      <td>0.147727</td>\n",
       "      <td>0</td>\n",
       "      <td>1</td>\n",
       "    </tr>\n",
       "    <tr>\n",
       "      <th>1</th>\n",
       "      <td>2024-11-30 11:10:23</td>\n",
       "      <td>5a00b591-2f4c-4aa5-97e5-a9a36f9f5b72</td>\n",
       "      <td>0.280190</td>\n",
       "      <td>0</td>\n",
       "      <td>1</td>\n",
       "    </tr>\n",
       "    <tr>\n",
       "      <th>2</th>\n",
       "      <td>2023-11-08 12:53:36</td>\n",
       "      <td>183b56bf-1764-4bf7-a348-a70c4f504803</td>\n",
       "      <td>0.032809</td>\n",
       "      <td>0</td>\n",
       "      <td>1</td>\n",
       "    </tr>\n",
       "    <tr>\n",
       "      <th>3</th>\n",
       "      <td>2024-11-26 18:25:21</td>\n",
       "      <td>e7dd1f77-2200-43a6-afd2-a3ffaa55ebf6</td>\n",
       "      <td>0.074894</td>\n",
       "      <td>0</td>\n",
       "      <td>1</td>\n",
       "    </tr>\n",
       "    <tr>\n",
       "      <th>4</th>\n",
       "      <td>2024-09-18 15:41:01</td>\n",
       "      <td>1000d052-5dc0-43fd-bebc-df33aac78547</td>\n",
       "      <td>0.242276</td>\n",
       "      <td>0</td>\n",
       "      <td>1</td>\n",
       "    </tr>\n",
       "  </tbody>\n",
       "</table>\n",
       "</div>"
      ],
      "text/plain": [
       "     disbursementdate                  digitalLoanAccountId  sb_stack_score  \\\n",
       "0 2024-04-29 17:13:42  ec0662e6-2722-41c4-b483-70f9ff80ca2c        0.147727   \n",
       "1 2024-11-30 11:10:23  5a00b591-2f4c-4aa5-97e5-a9a36f9f5b72        0.280190   \n",
       "2 2023-11-08 12:53:36  183b56bf-1764-4bf7-a348-a70c4f504803        0.032809   \n",
       "3 2024-11-26 18:25:21  e7dd1f77-2200-43a6-afd2-a3ffaa55ebf6        0.074894   \n",
       "4 2024-09-18 15:41:01  1000d052-5dc0-43fd-bebc-df33aac78547        0.242276   \n",
       "\n",
       "   ln_fpd30_flag  ln_mature_fpd30_flag  \n",
       "0              0                     1  \n",
       "1              0                     1  \n",
       "2              0                     1  \n",
       "3              0                     1  \n",
       "4              0                     1  "
      ]
     },
     "execution_count": 70,
     "metadata": {},
     "output_type": "execute_result"
    }
   ],
   "source": [
    "# sb_stack_score\n",
    "\n",
    "sq = \"\"\"\n",
    "with sb_stack_score as \n",
    "(SELECT \n",
    "    ln_disb_dtime disbursementdate,\n",
    "\tdigitalLoanAccountId,\n",
    "    sb_stack_score,\n",
    "    ln_fpd30_flag,\n",
    "\tln_mature_fpd30_flag,\t\n",
    "\tFROM \n",
    "    prj-prod-dataplatform.risk_mart.sil_risk_ds_master_20230101_20250206\n",
    "  WHERE \n",
    "     -- ln_disb_dtime >= '2023-07-01'\n",
    "    ln_appln_submit_datetime >= '2023-06-01'\n",
    "  -- AND\n",
    "  --   format_date('%Y-%m', ln_disb_dtime) = '2024-09'\n",
    "  AND\n",
    "    ln_fpd30_flag is not null\n",
    "  AND\n",
    "    sb_stack_score is not null\n",
    "  AND\n",
    "    ln_mature_fpd30_flag = 1\n",
    ")\n",
    "select * from sb_stack_score;\n",
    "\"\"\"\n",
    "\n",
    "df_sb_stack_scorefpd30 = client.query(sq).to_dataframe(progress_bar_type='tqdm')\n",
    "\n",
    "df_sb_stack_scorefpd30.head()"
   ]
  },
  {
   "cell_type": "code",
   "execution_count": 71,
   "metadata": {},
   "outputs": [
    {
     "name": "stdout",
     "output_type": "stream",
     "text": [
      "The shape of dataframe after copy is:\t(102, 7)\n"
     ]
    },
    {
     "data": {
      "text/plain": [
       "array(['start_date', 'end_date', 'sb_stack_score_FPD30_gini', 'period',\n",
       "       'Model_Name', 'version', 'bad_rate'], dtype=object)"
      ]
     },
     "execution_count": 71,
     "metadata": {},
     "output_type": "execute_result"
    }
   ],
   "source": [
    "gini_results = calculate_periodic_gini(df_sb_stack_scorefpd30, 'sb_stack_score', 'ln_fpd30_flag', 'FPD30')\n",
    "M2FPD30 = gini_results.copy()\n",
    "print(f\"The shape of dataframe after copy is:\\t{M2FPD30.shape}\")\n",
    "M2FPD30.columns.values"
   ]
  },
  {
   "cell_type": "code",
   "execution_count": 72,
   "metadata": {},
   "outputs": [
    {
     "data": {
      "text/html": [
       "<div>\n",
       "<style scoped>\n",
       "    .dataframe tbody tr th:only-of-type {\n",
       "        vertical-align: middle;\n",
       "    }\n",
       "\n",
       "    .dataframe tbody tr th {\n",
       "        vertical-align: top;\n",
       "    }\n",
       "\n",
       "    .dataframe thead th {\n",
       "        text-align: right;\n",
       "    }\n",
       "</style>\n",
       "<table border=\"1\" class=\"dataframe\">\n",
       "  <thead>\n",
       "    <tr style=\"text-align: right;\">\n",
       "      <th></th>\n",
       "      <th>start_date</th>\n",
       "      <th>end_date</th>\n",
       "      <th>sb_stack_score_FPD30_gini</th>\n",
       "    </tr>\n",
       "  </thead>\n",
       "  <tbody>\n",
       "    <tr>\n",
       "      <th>count</th>\n",
       "      <td>102</td>\n",
       "      <td>102</td>\n",
       "      <td>102.000000</td>\n",
       "    </tr>\n",
       "    <tr>\n",
       "      <th>mean</th>\n",
       "      <td>2024-03-09 05:52:56.470588160</td>\n",
       "      <td>2024-03-19 15:03:31.764705792</td>\n",
       "      <td>0.370856</td>\n",
       "    </tr>\n",
       "    <tr>\n",
       "      <th>min</th>\n",
       "      <td>2023-05-29 00:00:00</td>\n",
       "      <td>2023-06-04 00:00:00</td>\n",
       "      <td>-0.013387</td>\n",
       "    </tr>\n",
       "    <tr>\n",
       "      <th>25%</th>\n",
       "      <td>2023-10-17 18:00:00</td>\n",
       "      <td>2023-10-29 12:00:00</td>\n",
       "      <td>0.324190</td>\n",
       "    </tr>\n",
       "    <tr>\n",
       "      <th>50%</th>\n",
       "      <td>2024-03-07 12:00:00</td>\n",
       "      <td>2024-03-20 12:00:00</td>\n",
       "      <td>0.363071</td>\n",
       "    </tr>\n",
       "    <tr>\n",
       "      <th>75%</th>\n",
       "      <td>2024-07-31 06:00:00</td>\n",
       "      <td>2024-08-09 06:00:00</td>\n",
       "      <td>0.428887</td>\n",
       "    </tr>\n",
       "    <tr>\n",
       "      <th>max</th>\n",
       "      <td>2024-12-23 00:00:00</td>\n",
       "      <td>2024-12-31 00:00:00</td>\n",
       "      <td>0.636364</td>\n",
       "    </tr>\n",
       "    <tr>\n",
       "      <th>std</th>\n",
       "      <td>NaN</td>\n",
       "      <td>NaN</td>\n",
       "      <td>0.096995</td>\n",
       "    </tr>\n",
       "  </tbody>\n",
       "</table>\n",
       "</div>"
      ],
      "text/plain": [
       "                          start_date                       end_date  \\\n",
       "count                            102                            102   \n",
       "mean   2024-03-09 05:52:56.470588160  2024-03-19 15:03:31.764705792   \n",
       "min              2023-05-29 00:00:00            2023-06-04 00:00:00   \n",
       "25%              2023-10-17 18:00:00            2023-10-29 12:00:00   \n",
       "50%              2024-03-07 12:00:00            2024-03-20 12:00:00   \n",
       "75%              2024-07-31 06:00:00            2024-08-09 06:00:00   \n",
       "max              2024-12-23 00:00:00            2024-12-31 00:00:00   \n",
       "std                              NaN                            NaN   \n",
       "\n",
       "       sb_stack_score_FPD30_gini  \n",
       "count                 102.000000  \n",
       "mean                    0.370856  \n",
       "min                    -0.013387  \n",
       "25%                     0.324190  \n",
       "50%                     0.363071  \n",
       "75%                     0.428887  \n",
       "max                     0.636364  \n",
       "std                     0.096995  "
      ]
     },
     "execution_count": 72,
     "metadata": {},
     "output_type": "execute_result"
    }
   ],
   "source": [
    "M2FPD30.describe()"
   ]
  },
  {
   "cell_type": "code",
   "execution_count": 73,
   "metadata": {},
   "outputs": [
    {
     "data": {
      "text/html": [
       "<div>\n",
       "<style scoped>\n",
       "    .dataframe tbody tr th:only-of-type {\n",
       "        vertical-align: middle;\n",
       "    }\n",
       "\n",
       "    .dataframe tbody tr th {\n",
       "        vertical-align: top;\n",
       "    }\n",
       "\n",
       "    .dataframe thead th {\n",
       "        text-align: right;\n",
       "    }\n",
       "</style>\n",
       "<table border=\"1\" class=\"dataframe\">\n",
       "  <thead>\n",
       "    <tr style=\"text-align: right;\">\n",
       "      <th></th>\n",
       "      <th>start_date</th>\n",
       "      <th>end_date</th>\n",
       "      <th>sb_stack_score_FPD30_gini</th>\n",
       "      <th>period</th>\n",
       "      <th>Model_Name</th>\n",
       "      <th>version</th>\n",
       "      <th>bad_rate</th>\n",
       "    </tr>\n",
       "  </thead>\n",
       "  <tbody>\n",
       "    <tr>\n",
       "      <th>97</th>\n",
       "      <td>2024-12-01</td>\n",
       "      <td>2024-12-31</td>\n",
       "      <td>0.328661</td>\n",
       "      <td>Month</td>\n",
       "      <td>sb_stack_score</td>\n",
       "      <td>1.1.0</td>\n",
       "      <td>FPD30</td>\n",
       "    </tr>\n",
       "    <tr>\n",
       "      <th>98</th>\n",
       "      <td>2024-12-02</td>\n",
       "      <td>2024-12-08</td>\n",
       "      <td>0.370326</td>\n",
       "      <td>Week</td>\n",
       "      <td>sb_stack_score</td>\n",
       "      <td>1.1.0</td>\n",
       "      <td>FPD30</td>\n",
       "    </tr>\n",
       "    <tr>\n",
       "      <th>99</th>\n",
       "      <td>2024-12-09</td>\n",
       "      <td>2024-12-15</td>\n",
       "      <td>0.301145</td>\n",
       "      <td>Week</td>\n",
       "      <td>sb_stack_score</td>\n",
       "      <td>1.1.0</td>\n",
       "      <td>FPD30</td>\n",
       "    </tr>\n",
       "    <tr>\n",
       "      <th>100</th>\n",
       "      <td>2024-12-16</td>\n",
       "      <td>2024-12-22</td>\n",
       "      <td>0.325655</td>\n",
       "      <td>Week</td>\n",
       "      <td>sb_stack_score</td>\n",
       "      <td>1.1.0</td>\n",
       "      <td>FPD30</td>\n",
       "    </tr>\n",
       "    <tr>\n",
       "      <th>101</th>\n",
       "      <td>2024-12-23</td>\n",
       "      <td>2024-12-29</td>\n",
       "      <td>0.293112</td>\n",
       "      <td>Week</td>\n",
       "      <td>sb_stack_score</td>\n",
       "      <td>1.1.0</td>\n",
       "      <td>FPD30</td>\n",
       "    </tr>\n",
       "  </tbody>\n",
       "</table>\n",
       "</div>"
      ],
      "text/plain": [
       "    start_date   end_date  sb_stack_score_FPD30_gini period      Model_Name  \\\n",
       "97  2024-12-01 2024-12-31                   0.328661  Month  sb_stack_score   \n",
       "98  2024-12-02 2024-12-08                   0.370326   Week  sb_stack_score   \n",
       "99  2024-12-09 2024-12-15                   0.301145   Week  sb_stack_score   \n",
       "100 2024-12-16 2024-12-22                   0.325655   Week  sb_stack_score   \n",
       "101 2024-12-23 2024-12-29                   0.293112   Week  sb_stack_score   \n",
       "\n",
       "    version bad_rate  \n",
       "97    1.1.0    FPD30  \n",
       "98    1.1.0    FPD30  \n",
       "99    1.1.0    FPD30  \n",
       "100   1.1.0    FPD30  \n",
       "101   1.1.0    FPD30  "
      ]
     },
     "execution_count": 73,
     "metadata": {},
     "output_type": "execute_result"
    }
   ],
   "source": [
    "M2FPD30.tail()"
   ]
  },
  {
   "cell_type": "markdown",
   "metadata": {},
   "source": [
    "## FSPD30"
   ]
  },
  {
   "cell_type": "code",
   "execution_count": 74,
   "metadata": {},
   "outputs": [
    {
     "name": "stdout",
     "output_type": "stream",
     "text": [
      "Job ID 2663888b-d107-4a04-b0b5-8798c50102f7 successfully executed: 100%|\u001b[32m██████████\u001b[0m|"
     ]
    },
    {
     "name": "stderr",
     "output_type": "stream",
     "text": [
      "d:\\Anaconda3\\envs\\inc_env\\lib\\site-packages\\google\\cloud\\bigquery\\table.py:1820: UserWarning: BigQuery Storage module not found, fetch data with the REST endpoint instead.\n",
      "  warnings.warn(\n"
     ]
    },
    {
     "name": "stdout",
     "output_type": "stream",
     "text": [
      "\n",
      "Downloading: 100%|\u001b[32m██████████\u001b[0m|\n"
     ]
    },
    {
     "data": {
      "text/html": [
       "<div>\n",
       "<style scoped>\n",
       "    .dataframe tbody tr th:only-of-type {\n",
       "        vertical-align: middle;\n",
       "    }\n",
       "\n",
       "    .dataframe tbody tr th {\n",
       "        vertical-align: top;\n",
       "    }\n",
       "\n",
       "    .dataframe thead th {\n",
       "        text-align: right;\n",
       "    }\n",
       "</style>\n",
       "<table border=\"1\" class=\"dataframe\">\n",
       "  <thead>\n",
       "    <tr style=\"text-align: right;\">\n",
       "      <th></th>\n",
       "      <th>disbursementdate</th>\n",
       "      <th>digitalLoanAccountId</th>\n",
       "      <th>sb_stack_score</th>\n",
       "      <th>ln_fspd30_flag</th>\n",
       "      <th>ln_mature_fspd30_flag</th>\n",
       "    </tr>\n",
       "  </thead>\n",
       "  <tbody>\n",
       "    <tr>\n",
       "      <th>0</th>\n",
       "      <td>2023-06-22 14:25:06</td>\n",
       "      <td>12d13dfc-e307-4605-af97-361327cb3247</td>\n",
       "      <td>0.156423</td>\n",
       "      <td>0</td>\n",
       "      <td>1</td>\n",
       "    </tr>\n",
       "    <tr>\n",
       "      <th>1</th>\n",
       "      <td>2024-07-21 10:34:01</td>\n",
       "      <td>4238aea5-2cbb-4356-879b-71b4d3486fd2</td>\n",
       "      <td>0.090595</td>\n",
       "      <td>0</td>\n",
       "      <td>1</td>\n",
       "    </tr>\n",
       "    <tr>\n",
       "      <th>2</th>\n",
       "      <td>2023-12-31 10:00:00</td>\n",
       "      <td>ad89c5e8-d5bd-49a9-a10d-82139364463f</td>\n",
       "      <td>0.016439</td>\n",
       "      <td>0</td>\n",
       "      <td>1</td>\n",
       "    </tr>\n",
       "    <tr>\n",
       "      <th>3</th>\n",
       "      <td>2024-11-20 12:36:49</td>\n",
       "      <td>c6e59c0c-754a-4db2-9f12-53348b1a3ccb</td>\n",
       "      <td>0.046784</td>\n",
       "      <td>0</td>\n",
       "      <td>1</td>\n",
       "    </tr>\n",
       "    <tr>\n",
       "      <th>4</th>\n",
       "      <td>2024-11-22 11:09:40</td>\n",
       "      <td>f3a9b689-93a8-4906-9fad-ef191d00bbd9</td>\n",
       "      <td>0.109773</td>\n",
       "      <td>0</td>\n",
       "      <td>1</td>\n",
       "    </tr>\n",
       "  </tbody>\n",
       "</table>\n",
       "</div>"
      ],
      "text/plain": [
       "     disbursementdate                  digitalLoanAccountId  sb_stack_score  \\\n",
       "0 2023-06-22 14:25:06  12d13dfc-e307-4605-af97-361327cb3247        0.156423   \n",
       "1 2024-07-21 10:34:01  4238aea5-2cbb-4356-879b-71b4d3486fd2        0.090595   \n",
       "2 2023-12-31 10:00:00  ad89c5e8-d5bd-49a9-a10d-82139364463f        0.016439   \n",
       "3 2024-11-20 12:36:49  c6e59c0c-754a-4db2-9f12-53348b1a3ccb        0.046784   \n",
       "4 2024-11-22 11:09:40  f3a9b689-93a8-4906-9fad-ef191d00bbd9        0.109773   \n",
       "\n",
       "   ln_fspd30_flag  ln_mature_fspd30_flag  \n",
       "0               0                      1  \n",
       "1               0                      1  \n",
       "2               0                      1  \n",
       "3               0                      1  \n",
       "4               0                      1  "
      ]
     },
     "execution_count": 74,
     "metadata": {},
     "output_type": "execute_result"
    }
   ],
   "source": [
    "# sb_stack_score\n",
    "\n",
    "sq = \"\"\"\n",
    "with sb_stack_score as \n",
    "(SELECT \n",
    "    ln_disb_dtime disbursementdate,\n",
    "\tdigitalLoanAccountId,\n",
    "    sb_stack_score,\n",
    "    ln_fspd30_flag,\n",
    "\tln_mature_fspd30_flag,\t\n",
    "\tFROM \n",
    "    prj-prod-dataplatform.risk_mart.sil_risk_ds_master_20230101_20250206\n",
    "  WHERE \n",
    "     -- ln_disb_dtime >= '2023-07-01'\n",
    "    ln_appln_submit_datetime >= '2023-06-01'\n",
    "  -- AND\n",
    "  --   format_date('%Y-%m', ln_disb_dtime) = '2024-09'\n",
    "  AND\n",
    "    ln_fspd30_flag is not null\n",
    "  AND\n",
    "    sb_stack_score is not null\n",
    "  AND\n",
    "    ln_mature_fspd30_flag = 1\n",
    ")\n",
    "select * from sb_stack_score;\n",
    "\"\"\"\n",
    "\n",
    "df_sb_stack_scorefspd30 = client.query(sq).to_dataframe(progress_bar_type='tqdm')\n",
    "\n",
    "df_sb_stack_scorefspd30.head()"
   ]
  },
  {
   "cell_type": "code",
   "execution_count": 75,
   "metadata": {},
   "outputs": [
    {
     "name": "stdout",
     "output_type": "stream",
     "text": [
      "The shape of dataframe after copy is:\t(97, 7)\n"
     ]
    },
    {
     "data": {
      "text/plain": [
       "array(['start_date', 'end_date', 'sb_stack_score_FSPD30_gini', 'period',\n",
       "       'Model_Name', 'version', 'bad_rate'], dtype=object)"
      ]
     },
     "execution_count": 75,
     "metadata": {},
     "output_type": "execute_result"
    }
   ],
   "source": [
    "gini_results = calculate_periodic_gini(df_sb_stack_scorefspd30, 'sb_stack_score', 'ln_fspd30_flag', 'FSPD30')\n",
    "M3FSPD30 = gini_results.copy()\n",
    "print(f\"The shape of dataframe after copy is:\\t{M3FSPD30.shape}\")\n",
    "M3FSPD30.columns.values"
   ]
  },
  {
   "cell_type": "code",
   "execution_count": 76,
   "metadata": {},
   "outputs": [
    {
     "data": {
      "text/html": [
       "<div>\n",
       "<style scoped>\n",
       "    .dataframe tbody tr th:only-of-type {\n",
       "        vertical-align: middle;\n",
       "    }\n",
       "\n",
       "    .dataframe tbody tr th {\n",
       "        vertical-align: top;\n",
       "    }\n",
       "\n",
       "    .dataframe thead th {\n",
       "        text-align: right;\n",
       "    }\n",
       "</style>\n",
       "<table border=\"1\" class=\"dataframe\">\n",
       "  <thead>\n",
       "    <tr style=\"text-align: right;\">\n",
       "      <th></th>\n",
       "      <th>start_date</th>\n",
       "      <th>end_date</th>\n",
       "      <th>sb_stack_score_FSPD30_gini</th>\n",
       "    </tr>\n",
       "  </thead>\n",
       "  <tbody>\n",
       "    <tr>\n",
       "      <th>count</th>\n",
       "      <td>97</td>\n",
       "      <td>97</td>\n",
       "      <td>97.000000</td>\n",
       "    </tr>\n",
       "    <tr>\n",
       "      <th>mean</th>\n",
       "      <td>2024-02-24 00:29:41.443299072</td>\n",
       "      <td>2024-03-05 09:09:16.701030912</td>\n",
       "      <td>0.375034</td>\n",
       "    </tr>\n",
       "    <tr>\n",
       "      <th>min</th>\n",
       "      <td>2023-05-29 00:00:00</td>\n",
       "      <td>2023-06-04 00:00:00</td>\n",
       "      <td>0.144399</td>\n",
       "    </tr>\n",
       "    <tr>\n",
       "      <th>25%</th>\n",
       "      <td>2023-10-09 00:00:00</td>\n",
       "      <td>2023-10-22 00:00:00</td>\n",
       "      <td>0.326019</td>\n",
       "    </tr>\n",
       "    <tr>\n",
       "      <th>50%</th>\n",
       "      <td>2024-02-26 00:00:00</td>\n",
       "      <td>2024-03-03 00:00:00</td>\n",
       "      <td>0.355523</td>\n",
       "    </tr>\n",
       "    <tr>\n",
       "      <th>75%</th>\n",
       "      <td>2024-07-08 00:00:00</td>\n",
       "      <td>2024-07-21 00:00:00</td>\n",
       "      <td>0.425277</td>\n",
       "    </tr>\n",
       "    <tr>\n",
       "      <th>max</th>\n",
       "      <td>2024-11-25 00:00:00</td>\n",
       "      <td>2024-12-01 00:00:00</td>\n",
       "      <td>0.552671</td>\n",
       "    </tr>\n",
       "    <tr>\n",
       "      <th>std</th>\n",
       "      <td>NaN</td>\n",
       "      <td>NaN</td>\n",
       "      <td>0.077535</td>\n",
       "    </tr>\n",
       "  </tbody>\n",
       "</table>\n",
       "</div>"
      ],
      "text/plain": [
       "                          start_date                       end_date  \\\n",
       "count                             97                             97   \n",
       "mean   2024-02-24 00:29:41.443299072  2024-03-05 09:09:16.701030912   \n",
       "min              2023-05-29 00:00:00            2023-06-04 00:00:00   \n",
       "25%              2023-10-09 00:00:00            2023-10-22 00:00:00   \n",
       "50%              2024-02-26 00:00:00            2024-03-03 00:00:00   \n",
       "75%              2024-07-08 00:00:00            2024-07-21 00:00:00   \n",
       "max              2024-11-25 00:00:00            2024-12-01 00:00:00   \n",
       "std                              NaN                            NaN   \n",
       "\n",
       "       sb_stack_score_FSPD30_gini  \n",
       "count                   97.000000  \n",
       "mean                     0.375034  \n",
       "min                      0.144399  \n",
       "25%                      0.326019  \n",
       "50%                      0.355523  \n",
       "75%                      0.425277  \n",
       "max                      0.552671  \n",
       "std                      0.077535  "
      ]
     },
     "execution_count": 76,
     "metadata": {},
     "output_type": "execute_result"
    }
   ],
   "source": [
    "M3FSPD30.describe()"
   ]
  },
  {
   "cell_type": "code",
   "execution_count": 77,
   "metadata": {},
   "outputs": [
    {
     "data": {
      "text/html": [
       "<div>\n",
       "<style scoped>\n",
       "    .dataframe tbody tr th:only-of-type {\n",
       "        vertical-align: middle;\n",
       "    }\n",
       "\n",
       "    .dataframe tbody tr th {\n",
       "        vertical-align: top;\n",
       "    }\n",
       "\n",
       "    .dataframe thead th {\n",
       "        text-align: right;\n",
       "    }\n",
       "</style>\n",
       "<table border=\"1\" class=\"dataframe\">\n",
       "  <thead>\n",
       "    <tr style=\"text-align: right;\">\n",
       "      <th></th>\n",
       "      <th>start_date</th>\n",
       "      <th>end_date</th>\n",
       "      <th>sb_stack_score_FSPD30_gini</th>\n",
       "      <th>period</th>\n",
       "      <th>Model_Name</th>\n",
       "      <th>version</th>\n",
       "      <th>bad_rate</th>\n",
       "    </tr>\n",
       "  </thead>\n",
       "  <tbody>\n",
       "    <tr>\n",
       "      <th>92</th>\n",
       "      <td>2024-11-01</td>\n",
       "      <td>2024-11-30</td>\n",
       "      <td>0.332131</td>\n",
       "      <td>Month</td>\n",
       "      <td>sb_stack_score</td>\n",
       "      <td>1.1.0</td>\n",
       "      <td>FSPD30</td>\n",
       "    </tr>\n",
       "    <tr>\n",
       "      <th>93</th>\n",
       "      <td>2024-11-04</td>\n",
       "      <td>2024-11-10</td>\n",
       "      <td>0.317366</td>\n",
       "      <td>Week</td>\n",
       "      <td>sb_stack_score</td>\n",
       "      <td>1.1.0</td>\n",
       "      <td>FSPD30</td>\n",
       "    </tr>\n",
       "    <tr>\n",
       "      <th>94</th>\n",
       "      <td>2024-11-11</td>\n",
       "      <td>2024-11-17</td>\n",
       "      <td>0.343547</td>\n",
       "      <td>Week</td>\n",
       "      <td>sb_stack_score</td>\n",
       "      <td>1.1.0</td>\n",
       "      <td>FSPD30</td>\n",
       "    </tr>\n",
       "    <tr>\n",
       "      <th>95</th>\n",
       "      <td>2024-11-18</td>\n",
       "      <td>2024-11-24</td>\n",
       "      <td>0.304006</td>\n",
       "      <td>Week</td>\n",
       "      <td>sb_stack_score</td>\n",
       "      <td>1.1.0</td>\n",
       "      <td>FSPD30</td>\n",
       "    </tr>\n",
       "    <tr>\n",
       "      <th>96</th>\n",
       "      <td>2024-11-25</td>\n",
       "      <td>2024-12-01</td>\n",
       "      <td>0.336791</td>\n",
       "      <td>Week</td>\n",
       "      <td>sb_stack_score</td>\n",
       "      <td>1.1.0</td>\n",
       "      <td>FSPD30</td>\n",
       "    </tr>\n",
       "  </tbody>\n",
       "</table>\n",
       "</div>"
      ],
      "text/plain": [
       "   start_date   end_date  sb_stack_score_FSPD30_gini period      Model_Name  \\\n",
       "92 2024-11-01 2024-11-30                    0.332131  Month  sb_stack_score   \n",
       "93 2024-11-04 2024-11-10                    0.317366   Week  sb_stack_score   \n",
       "94 2024-11-11 2024-11-17                    0.343547   Week  sb_stack_score   \n",
       "95 2024-11-18 2024-11-24                    0.304006   Week  sb_stack_score   \n",
       "96 2024-11-25 2024-12-01                    0.336791   Week  sb_stack_score   \n",
       "\n",
       "   version bad_rate  \n",
       "92   1.1.0   FSPD30  \n",
       "93   1.1.0   FSPD30  \n",
       "94   1.1.0   FSPD30  \n",
       "95   1.1.0   FSPD30  \n",
       "96   1.1.0   FSPD30  "
      ]
     },
     "execution_count": 77,
     "metadata": {},
     "output_type": "execute_result"
    }
   ],
   "source": [
    "M3FSPD30.tail()"
   ]
  },
  {
   "cell_type": "markdown",
   "metadata": {},
   "source": [
    "## FSTPD30"
   ]
  },
  {
   "cell_type": "code",
   "execution_count": 78,
   "metadata": {},
   "outputs": [
    {
     "name": "stdout",
     "output_type": "stream",
     "text": [
      "Job ID 1c5dda88-41af-49e6-84e5-a4b8691117c0 successfully executed: 100%|\u001b[32m██████████\u001b[0m|"
     ]
    },
    {
     "name": "stderr",
     "output_type": "stream",
     "text": [
      "d:\\Anaconda3\\envs\\inc_env\\lib\\site-packages\\google\\cloud\\bigquery\\table.py:1820: UserWarning: BigQuery Storage module not found, fetch data with the REST endpoint instead.\n",
      "  warnings.warn(\n"
     ]
    },
    {
     "name": "stdout",
     "output_type": "stream",
     "text": [
      "\n",
      "Downloading: 100%|\u001b[32m██████████\u001b[0m|\n"
     ]
    },
    {
     "data": {
      "text/html": [
       "<div>\n",
       "<style scoped>\n",
       "    .dataframe tbody tr th:only-of-type {\n",
       "        vertical-align: middle;\n",
       "    }\n",
       "\n",
       "    .dataframe tbody tr th {\n",
       "        vertical-align: top;\n",
       "    }\n",
       "\n",
       "    .dataframe thead th {\n",
       "        text-align: right;\n",
       "    }\n",
       "</style>\n",
       "<table border=\"1\" class=\"dataframe\">\n",
       "  <thead>\n",
       "    <tr style=\"text-align: right;\">\n",
       "      <th></th>\n",
       "      <th>disbursementdate</th>\n",
       "      <th>digitalLoanAccountId</th>\n",
       "      <th>sb_stack_score</th>\n",
       "      <th>ln_fstpd30_flag</th>\n",
       "      <th>ln_mature_fstpd30_flag</th>\n",
       "    </tr>\n",
       "  </thead>\n",
       "  <tbody>\n",
       "    <tr>\n",
       "      <th>0</th>\n",
       "      <td>2024-04-29 17:13:42</td>\n",
       "      <td>ec0662e6-2722-41c4-b483-70f9ff80ca2c</td>\n",
       "      <td>0.147727</td>\n",
       "      <td>0</td>\n",
       "      <td>1</td>\n",
       "    </tr>\n",
       "    <tr>\n",
       "      <th>1</th>\n",
       "      <td>2023-11-08 12:53:36</td>\n",
       "      <td>183b56bf-1764-4bf7-a348-a70c4f504803</td>\n",
       "      <td>0.032809</td>\n",
       "      <td>1</td>\n",
       "      <td>1</td>\n",
       "    </tr>\n",
       "    <tr>\n",
       "      <th>2</th>\n",
       "      <td>2024-09-18 15:41:01</td>\n",
       "      <td>1000d052-5dc0-43fd-bebc-df33aac78547</td>\n",
       "      <td>0.242276</td>\n",
       "      <td>1</td>\n",
       "      <td>1</td>\n",
       "    </tr>\n",
       "    <tr>\n",
       "      <th>3</th>\n",
       "      <td>2024-05-07 13:57:01</td>\n",
       "      <td>ce1a4a6a-f9a8-4353-a102-5c2874173c8e</td>\n",
       "      <td>0.122310</td>\n",
       "      <td>0</td>\n",
       "      <td>1</td>\n",
       "    </tr>\n",
       "    <tr>\n",
       "      <th>4</th>\n",
       "      <td>2024-07-21 11:18:18</td>\n",
       "      <td>afdded1c-4c11-4661-bca2-35fc16462709</td>\n",
       "      <td>0.120920</td>\n",
       "      <td>1</td>\n",
       "      <td>1</td>\n",
       "    </tr>\n",
       "  </tbody>\n",
       "</table>\n",
       "</div>"
      ],
      "text/plain": [
       "     disbursementdate                  digitalLoanAccountId  sb_stack_score  \\\n",
       "0 2024-04-29 17:13:42  ec0662e6-2722-41c4-b483-70f9ff80ca2c        0.147727   \n",
       "1 2023-11-08 12:53:36  183b56bf-1764-4bf7-a348-a70c4f504803        0.032809   \n",
       "2 2024-09-18 15:41:01  1000d052-5dc0-43fd-bebc-df33aac78547        0.242276   \n",
       "3 2024-05-07 13:57:01  ce1a4a6a-f9a8-4353-a102-5c2874173c8e        0.122310   \n",
       "4 2024-07-21 11:18:18  afdded1c-4c11-4661-bca2-35fc16462709        0.120920   \n",
       "\n",
       "   ln_fstpd30_flag  ln_mature_fstpd30_flag  \n",
       "0                0                       1  \n",
       "1                1                       1  \n",
       "2                1                       1  \n",
       "3                0                       1  \n",
       "4                1                       1  "
      ]
     },
     "execution_count": 78,
     "metadata": {},
     "output_type": "execute_result"
    }
   ],
   "source": [
    "# sb_stack_score\n",
    "\n",
    "sq = \"\"\"\n",
    "with sb_stack_score as \n",
    "(SELECT \n",
    "    ln_disb_dtime disbursementdate,\n",
    "\tdigitalLoanAccountId,\n",
    "    sb_stack_score,\n",
    "    ln_fstpd30_flag,\n",
    "\tln_mature_fstpd30_flag,\t\n",
    "\tFROM \n",
    "    prj-prod-dataplatform.risk_mart.sil_risk_ds_master_20230101_20250206\n",
    "  WHERE \n",
    "     -- ln_disb_dtime >= '2023-07-01'\n",
    "    ln_appln_submit_datetime >= '2023-06-01'\n",
    "  -- AND\n",
    "  --   format_date('%Y-%m', ln_disb_dtime) = '2024-09'\n",
    "  AND\n",
    "    ln_fstpd30_flag is not null\n",
    "  AND\n",
    "    sb_stack_score is not null\n",
    "  AND\n",
    "    ln_mature_fstpd30_flag = 1\n",
    ")\n",
    "select * from sb_stack_score;\n",
    "\"\"\"\n",
    "\n",
    "df_sb_stack_scorefstpd30 = client.query(sq).to_dataframe(progress_bar_type='tqdm')\n",
    "\n",
    "df_sb_stack_scorefstpd30.head()"
   ]
  },
  {
   "cell_type": "code",
   "execution_count": 79,
   "metadata": {},
   "outputs": [
    {
     "name": "stdout",
     "output_type": "stream",
     "text": [
      "The shape of dataframe after copy is:\t(91, 7)\n"
     ]
    },
    {
     "data": {
      "text/plain": [
       "array(['start_date', 'end_date', 'sb_stack_score_FSTPD30_gini', 'period',\n",
       "       'Model_Name', 'version', 'bad_rate'], dtype=object)"
      ]
     },
     "execution_count": 79,
     "metadata": {},
     "output_type": "execute_result"
    }
   ],
   "source": [
    "gini_results = calculate_periodic_gini(df_sb_stack_scorefstpd30, 'sb_stack_score', 'ln_fstpd30_flag', 'FSTPD30')\n",
    "M4FSTPD30 = gini_results.copy()\n",
    "print(f\"The shape of dataframe after copy is:\\t{M4FSTPD30.shape}\")\n",
    "M4FSTPD30.columns.values"
   ]
  },
  {
   "cell_type": "code",
   "execution_count": 80,
   "metadata": {},
   "outputs": [
    {
     "data": {
      "text/html": [
       "<div>\n",
       "<style scoped>\n",
       "    .dataframe tbody tr th:only-of-type {\n",
       "        vertical-align: middle;\n",
       "    }\n",
       "\n",
       "    .dataframe tbody tr th {\n",
       "        vertical-align: top;\n",
       "    }\n",
       "\n",
       "    .dataframe thead th {\n",
       "        text-align: right;\n",
       "    }\n",
       "</style>\n",
       "<table border=\"1\" class=\"dataframe\">\n",
       "  <thead>\n",
       "    <tr style=\"text-align: right;\">\n",
       "      <th></th>\n",
       "      <th>start_date</th>\n",
       "      <th>end_date</th>\n",
       "      <th>sb_stack_score_FSTPD30_gini</th>\n",
       "    </tr>\n",
       "  </thead>\n",
       "  <tbody>\n",
       "    <tr>\n",
       "      <th>count</th>\n",
       "      <td>91</td>\n",
       "      <td>91</td>\n",
       "      <td>91.000000</td>\n",
       "    </tr>\n",
       "    <tr>\n",
       "      <th>mean</th>\n",
       "      <td>2024-02-06 22:09:13.846153728</td>\n",
       "      <td>2024-02-17 07:38:54.065934080</td>\n",
       "      <td>0.349580</td>\n",
       "    </tr>\n",
       "    <tr>\n",
       "      <th>min</th>\n",
       "      <td>2023-05-29 00:00:00</td>\n",
       "      <td>2023-06-04 00:00:00</td>\n",
       "      <td>0.162606</td>\n",
       "    </tr>\n",
       "    <tr>\n",
       "      <th>25%</th>\n",
       "      <td>2023-10-01 12:00:00</td>\n",
       "      <td>2023-10-11 12:00:00</td>\n",
       "      <td>0.309198</td>\n",
       "    </tr>\n",
       "    <tr>\n",
       "      <th>50%</th>\n",
       "      <td>2024-02-05 00:00:00</td>\n",
       "      <td>2024-02-18 00:00:00</td>\n",
       "      <td>0.339706</td>\n",
       "    </tr>\n",
       "    <tr>\n",
       "      <th>75%</th>\n",
       "      <td>2024-06-13 12:00:00</td>\n",
       "      <td>2024-06-26 12:00:00</td>\n",
       "      <td>0.389561</td>\n",
       "    </tr>\n",
       "    <tr>\n",
       "      <th>max</th>\n",
       "      <td>2024-10-21 00:00:00</td>\n",
       "      <td>2024-10-31 00:00:00</td>\n",
       "      <td>0.506416</td>\n",
       "    </tr>\n",
       "    <tr>\n",
       "      <th>std</th>\n",
       "      <td>NaN</td>\n",
       "      <td>NaN</td>\n",
       "      <td>0.061146</td>\n",
       "    </tr>\n",
       "  </tbody>\n",
       "</table>\n",
       "</div>"
      ],
      "text/plain": [
       "                          start_date                       end_date  \\\n",
       "count                             91                             91   \n",
       "mean   2024-02-06 22:09:13.846153728  2024-02-17 07:38:54.065934080   \n",
       "min              2023-05-29 00:00:00            2023-06-04 00:00:00   \n",
       "25%              2023-10-01 12:00:00            2023-10-11 12:00:00   \n",
       "50%              2024-02-05 00:00:00            2024-02-18 00:00:00   \n",
       "75%              2024-06-13 12:00:00            2024-06-26 12:00:00   \n",
       "max              2024-10-21 00:00:00            2024-10-31 00:00:00   \n",
       "std                              NaN                            NaN   \n",
       "\n",
       "       sb_stack_score_FSTPD30_gini  \n",
       "count                    91.000000  \n",
       "mean                      0.349580  \n",
       "min                       0.162606  \n",
       "25%                       0.309198  \n",
       "50%                       0.339706  \n",
       "75%                       0.389561  \n",
       "max                       0.506416  \n",
       "std                       0.061146  "
      ]
     },
     "execution_count": 80,
     "metadata": {},
     "output_type": "execute_result"
    }
   ],
   "source": [
    "M4FSTPD30.describe()"
   ]
  },
  {
   "cell_type": "code",
   "execution_count": 81,
   "metadata": {},
   "outputs": [
    {
     "data": {
      "text/html": [
       "<div>\n",
       "<style scoped>\n",
       "    .dataframe tbody tr th:only-of-type {\n",
       "        vertical-align: middle;\n",
       "    }\n",
       "\n",
       "    .dataframe tbody tr th {\n",
       "        vertical-align: top;\n",
       "    }\n",
       "\n",
       "    .dataframe thead th {\n",
       "        text-align: right;\n",
       "    }\n",
       "</style>\n",
       "<table border=\"1\" class=\"dataframe\">\n",
       "  <thead>\n",
       "    <tr style=\"text-align: right;\">\n",
       "      <th></th>\n",
       "      <th>start_date</th>\n",
       "      <th>end_date</th>\n",
       "      <th>sb_stack_score_FSTPD30_gini</th>\n",
       "      <th>period</th>\n",
       "      <th>Model_Name</th>\n",
       "      <th>version</th>\n",
       "      <th>bad_rate</th>\n",
       "    </tr>\n",
       "  </thead>\n",
       "  <tbody>\n",
       "    <tr>\n",
       "      <th>86</th>\n",
       "      <td>2024-09-30</td>\n",
       "      <td>2024-10-06</td>\n",
       "      <td>0.319762</td>\n",
       "      <td>Week</td>\n",
       "      <td>sb_stack_score</td>\n",
       "      <td>1.1.0</td>\n",
       "      <td>FSTPD30</td>\n",
       "    </tr>\n",
       "    <tr>\n",
       "      <th>87</th>\n",
       "      <td>2024-10-01</td>\n",
       "      <td>2024-10-31</td>\n",
       "      <td>0.309712</td>\n",
       "      <td>Month</td>\n",
       "      <td>sb_stack_score</td>\n",
       "      <td>1.1.0</td>\n",
       "      <td>FSTPD30</td>\n",
       "    </tr>\n",
       "    <tr>\n",
       "      <th>88</th>\n",
       "      <td>2024-10-07</td>\n",
       "      <td>2024-10-13</td>\n",
       "      <td>0.327533</td>\n",
       "      <td>Week</td>\n",
       "      <td>sb_stack_score</td>\n",
       "      <td>1.1.0</td>\n",
       "      <td>FSTPD30</td>\n",
       "    </tr>\n",
       "    <tr>\n",
       "      <th>89</th>\n",
       "      <td>2024-10-14</td>\n",
       "      <td>2024-10-20</td>\n",
       "      <td>0.297031</td>\n",
       "      <td>Week</td>\n",
       "      <td>sb_stack_score</td>\n",
       "      <td>1.1.0</td>\n",
       "      <td>FSTPD30</td>\n",
       "    </tr>\n",
       "    <tr>\n",
       "      <th>90</th>\n",
       "      <td>2024-10-21</td>\n",
       "      <td>2024-10-27</td>\n",
       "      <td>0.320464</td>\n",
       "      <td>Week</td>\n",
       "      <td>sb_stack_score</td>\n",
       "      <td>1.1.0</td>\n",
       "      <td>FSTPD30</td>\n",
       "    </tr>\n",
       "  </tbody>\n",
       "</table>\n",
       "</div>"
      ],
      "text/plain": [
       "   start_date   end_date  sb_stack_score_FSTPD30_gini period      Model_Name  \\\n",
       "86 2024-09-30 2024-10-06                     0.319762   Week  sb_stack_score   \n",
       "87 2024-10-01 2024-10-31                     0.309712  Month  sb_stack_score   \n",
       "88 2024-10-07 2024-10-13                     0.327533   Week  sb_stack_score   \n",
       "89 2024-10-14 2024-10-20                     0.297031   Week  sb_stack_score   \n",
       "90 2024-10-21 2024-10-27                     0.320464   Week  sb_stack_score   \n",
       "\n",
       "   version bad_rate  \n",
       "86   1.1.0  FSTPD30  \n",
       "87   1.1.0  FSTPD30  \n",
       "88   1.1.0  FSTPD30  \n",
       "89   1.1.0  FSTPD30  \n",
       "90   1.1.0  FSTPD30  "
      ]
     },
     "execution_count": 81,
     "metadata": {},
     "output_type": "execute_result"
    }
   ],
   "source": [
    "M4FSTPD30.tail()"
   ]
  },
  {
   "cell_type": "markdown",
   "metadata": {},
   "source": [
    "## Combining the dataframes"
   ]
  },
  {
   "cell_type": "code",
   "execution_count": 82,
   "metadata": {},
   "outputs": [
    {
     "data": {
      "text/plain": [
       "array(['start_date', 'end_date', 'sb_stack_score_FPD10_gini', 'period',\n",
       "       'Model_Name', 'version', 'bad_rate', 'sb_stack_score_FPD30_gini',\n",
       "       'sb_stack_score_FSPD30_gini', 'sb_stack_score_FSTPD30_gini'],\n",
       "      dtype=object)"
      ]
     },
     "execution_count": 82,
     "metadata": {},
     "output_type": "execute_result"
    }
   ],
   "source": [
    "import functools\n",
    "\n",
    "dataframes = [M1FPD10, M2FPD30, M3FSPD30, M4FSTPD30]\n",
    "common_columns = ['start_date', 'end_date', 'period', 'Model_Name','version', 'bad_rate']\n",
    "\n",
    "def merge_dataframes(df1, df2):\n",
    "    return pd.merge(df1, df2, on=common_columns, how='outer')\n",
    "\n",
    "final_df = functools.reduce(merge_dataframes, dataframes)\n",
    "\n",
    "final_df.columns.values"
   ]
  },
  {
   "cell_type": "code",
   "execution_count": 83,
   "metadata": {},
   "outputs": [],
   "source": [
    "final_df = final_df[['start_date', 'end_date', 'period', 'Model_Name', 'version', 'bad_rate', 'sb_stack_score_FPD10_gini', 'sb_stack_score_FPD30_gini',  'sb_stack_score_FSPD30_gini', 'sb_stack_score_FSTPD30_gini']].copy()"
   ]
  },
  {
   "cell_type": "markdown",
   "metadata": {},
   "source": [
    "## Creating the table "
   ]
  },
  {
   "cell_type": "code",
   "execution_count": 84,
   "metadata": {},
   "outputs": [
    {
     "data": {
      "text/plain": [
       "QueryJob<project=prj-prod-dataplatform, location=asia-southeast1, id=c65884e8-9754-44d2-bfd2-02ba4487423a>"
      ]
     },
     "execution_count": 84,
     "metadata": {},
     "output_type": "execute_result"
    }
   ],
   "source": [
    "sq = \"\"\"drop table if exists prj-prod-dataplatform.dap_ds_poweruser_playground.Model_gini_sb_stack_score;\"\"\"\n",
    "\n",
    "client.query(sq)"
   ]
  },
  {
   "cell_type": "code",
   "execution_count": 85,
   "metadata": {},
   "outputs": [
    {
     "data": {
      "text/plain": [
       "LoadJob<project=prj-prod-dataplatform, location=asia-southeast1, id=721b394e-6585-4a09-bd76-e71a624624c3>"
      ]
     },
     "execution_count": 85,
     "metadata": {},
     "output_type": "execute_result"
    }
   ],
   "source": [
    "import pandas as pd\n",
    "from google.cloud import bigquery\n",
    "\n",
    "# Create a BigQuery client\n",
    "client = bigquery.Client('prj-prod-dataplatform')\n",
    "\n",
    "# Define your table schema\n",
    "table_schema = [\n",
    "    bigquery.SchemaField('start_date', 'TIMESTAMP'),\n",
    "    bigquery.SchemaField('end_date', 'TIMESTAMP'),\n",
    "    bigquery.SchemaField('period', 'STRING'),\n",
    "    bigquery.SchemaField('Model_Name', 'STRING'),\n",
    "    bigquery.SchemaField('version', 'STRING'),\n",
    "    bigquery.SchemaField('Badrate', 'STRING'),\n",
    "    bigquery.SchemaField('sb_stack_score_FPD10_gini', 'FLOAT'),\n",
    "    bigquery.SchemaField('sb_stack_score_FPD30_gini', 'FLOAT'),    \n",
    "    bigquery.SchemaField('sb_stack_score_FSPD30_gini', 'FLOAT'),\n",
    "    bigquery.SchemaField('sb_stack_score_FSTPD30_gini', 'FLOAT')\n",
    "    \n",
    "]\n",
    "\n",
    "# Create your BigQuery table\n",
    "table_id = 'prj-prod-dataplatform.dap_ds_poweruser_playground.Model_gini_sb_stack_score'\n",
    "table = bigquery.Table(table_id, schema=table_schema)\n",
    "table = client.create_table(table)\n",
    "\n",
    "# Load your DataFrame into BigQuery\n",
    "job_config = bigquery.LoadJobConfig(\n",
    "    write_disposition='WRITE_TRUNCATE'\n",
    ")\n",
    "\n",
    "load_job = client.load_table_from_dataframe(\n",
    "    final_df, table_id, job_config=job_config\n",
    ")\n",
    "\n",
    "load_job.result()"
   ]
  },
  {
   "cell_type": "markdown",
   "metadata": {},
   "source": [
    "# sa_stack_score"
   ]
  },
  {
   "cell_type": "markdown",
   "metadata": {},
   "source": [
    "## FPD10"
   ]
  },
  {
   "cell_type": "code",
   "execution_count": 86,
   "metadata": {},
   "outputs": [
    {
     "name": "stdout",
     "output_type": "stream",
     "text": [
      "Job ID 4ddb8269-c1e5-4967-afaf-6d9266340cd8 successfully executed: 100%|\u001b[32m██████████\u001b[0m|"
     ]
    },
    {
     "name": "stderr",
     "output_type": "stream",
     "text": [
      "d:\\Anaconda3\\envs\\inc_env\\lib\\site-packages\\google\\cloud\\bigquery\\table.py:1820: UserWarning: BigQuery Storage module not found, fetch data with the REST endpoint instead.\n",
      "  warnings.warn(\n"
     ]
    },
    {
     "name": "stdout",
     "output_type": "stream",
     "text": [
      "\n",
      "Downloading: 100%|\u001b[32m██████████\u001b[0m|\n"
     ]
    },
    {
     "data": {
      "text/html": [
       "<div>\n",
       "<style scoped>\n",
       "    .dataframe tbody tr th:only-of-type {\n",
       "        vertical-align: middle;\n",
       "    }\n",
       "\n",
       "    .dataframe tbody tr th {\n",
       "        vertical-align: top;\n",
       "    }\n",
       "\n",
       "    .dataframe thead th {\n",
       "        text-align: right;\n",
       "    }\n",
       "</style>\n",
       "<table border=\"1\" class=\"dataframe\">\n",
       "  <thead>\n",
       "    <tr style=\"text-align: right;\">\n",
       "      <th></th>\n",
       "      <th>disbursementdate</th>\n",
       "      <th>digitalLoanAccountId</th>\n",
       "      <th>sa_stack_score</th>\n",
       "      <th>ln_fpd10_flag</th>\n",
       "      <th>ln_mature_fpd10_flag</th>\n",
       "    </tr>\n",
       "  </thead>\n",
       "  <tbody>\n",
       "    <tr>\n",
       "      <th>0</th>\n",
       "      <td>2024-04-29 17:13:42</td>\n",
       "      <td>ec0662e6-2722-41c4-b483-70f9ff80ca2c</td>\n",
       "      <td>0.153215</td>\n",
       "      <td>0</td>\n",
       "      <td>1</td>\n",
       "    </tr>\n",
       "    <tr>\n",
       "      <th>1</th>\n",
       "      <td>2024-11-30 11:10:23</td>\n",
       "      <td>5a00b591-2f4c-4aa5-97e5-a9a36f9f5b72</td>\n",
       "      <td>0.301541</td>\n",
       "      <td>0</td>\n",
       "      <td>1</td>\n",
       "    </tr>\n",
       "    <tr>\n",
       "      <th>2</th>\n",
       "      <td>2023-11-08 12:53:36</td>\n",
       "      <td>183b56bf-1764-4bf7-a348-a70c4f504803</td>\n",
       "      <td>0.045870</td>\n",
       "      <td>0</td>\n",
       "      <td>1</td>\n",
       "    </tr>\n",
       "    <tr>\n",
       "      <th>3</th>\n",
       "      <td>2024-11-26 18:25:21</td>\n",
       "      <td>e7dd1f77-2200-43a6-afd2-a3ffaa55ebf6</td>\n",
       "      <td>0.055139</td>\n",
       "      <td>0</td>\n",
       "      <td>1</td>\n",
       "    </tr>\n",
       "    <tr>\n",
       "      <th>4</th>\n",
       "      <td>2024-09-18 15:41:01</td>\n",
       "      <td>1000d052-5dc0-43fd-bebc-df33aac78547</td>\n",
       "      <td>0.282324</td>\n",
       "      <td>0</td>\n",
       "      <td>1</td>\n",
       "    </tr>\n",
       "  </tbody>\n",
       "</table>\n",
       "</div>"
      ],
      "text/plain": [
       "     disbursementdate                  digitalLoanAccountId  sa_stack_score  \\\n",
       "0 2024-04-29 17:13:42  ec0662e6-2722-41c4-b483-70f9ff80ca2c        0.153215   \n",
       "1 2024-11-30 11:10:23  5a00b591-2f4c-4aa5-97e5-a9a36f9f5b72        0.301541   \n",
       "2 2023-11-08 12:53:36  183b56bf-1764-4bf7-a348-a70c4f504803        0.045870   \n",
       "3 2024-11-26 18:25:21  e7dd1f77-2200-43a6-afd2-a3ffaa55ebf6        0.055139   \n",
       "4 2024-09-18 15:41:01  1000d052-5dc0-43fd-bebc-df33aac78547        0.282324   \n",
       "\n",
       "   ln_fpd10_flag  ln_mature_fpd10_flag  \n",
       "0              0                     1  \n",
       "1              0                     1  \n",
       "2              0                     1  \n",
       "3              0                     1  \n",
       "4              0                     1  "
      ]
     },
     "execution_count": 86,
     "metadata": {},
     "output_type": "execute_result"
    }
   ],
   "source": [
    "# sa_stack_score\n",
    "\n",
    "sq = \"\"\"\n",
    "with sa_stack_score as \n",
    "(SELECT \n",
    "    ln_disb_dtime disbursementdate,\n",
    "\tdigitalLoanAccountId,\n",
    "    sa_stack_score,\n",
    "    ln_fpd10_flag,\n",
    "\tln_mature_fpd10_flag,\t\n",
    "\tFROM \n",
    "    prj-prod-dataplatform.risk_mart.sil_risk_ds_master_20230101_20250206\n",
    "  WHERE \n",
    "     -- ln_disb_dtime >= '2023-07-01'\n",
    "    ln_appln_submit_datetime >= '2023-06-01'\n",
    "  -- AND\n",
    "  --   format_date('%Y-%m', ln_disb_dtime) = '2024-09'\n",
    "  AND\n",
    "    ln_fpd10_flag is not null\n",
    "  AND\n",
    "    sa_stack_score is not null\n",
    "  AND\n",
    "    ln_mature_fpd10_flag = 1\n",
    ")\n",
    "select * from sa_stack_score;\n",
    "\"\"\"\n",
    "\n",
    "sa_stack_scorefpd10 = client.query(sq).to_dataframe(progress_bar_type='tqdm')\n",
    "\n",
    "sa_stack_scorefpd10.head()"
   ]
  },
  {
   "cell_type": "code",
   "execution_count": 87,
   "metadata": {},
   "outputs": [
    {
     "data": {
      "text/html": [
       "<div>\n",
       "<style scoped>\n",
       "    .dataframe tbody tr th:only-of-type {\n",
       "        vertical-align: middle;\n",
       "    }\n",
       "\n",
       "    .dataframe tbody tr th {\n",
       "        vertical-align: top;\n",
       "    }\n",
       "\n",
       "    .dataframe thead th {\n",
       "        text-align: right;\n",
       "    }\n",
       "</style>\n",
       "<table border=\"1\" class=\"dataframe\">\n",
       "  <thead>\n",
       "    <tr style=\"text-align: right;\">\n",
       "      <th></th>\n",
       "      <th>disbursementdate</th>\n",
       "      <th>digitalLoanAccountId</th>\n",
       "      <th>sa_stack_score</th>\n",
       "      <th>ln_fpd10_flag</th>\n",
       "      <th>ln_mature_fpd10_flag</th>\n",
       "    </tr>\n",
       "  </thead>\n",
       "  <tbody>\n",
       "    <tr>\n",
       "      <th>0</th>\n",
       "      <td>2024-04-29 17:13:42</td>\n",
       "      <td>ec0662e6-2722-41c4-b483-70f9ff80ca2c</td>\n",
       "      <td>0.153215</td>\n",
       "      <td>0</td>\n",
       "      <td>1</td>\n",
       "    </tr>\n",
       "    <tr>\n",
       "      <th>1</th>\n",
       "      <td>2024-11-30 11:10:23</td>\n",
       "      <td>5a00b591-2f4c-4aa5-97e5-a9a36f9f5b72</td>\n",
       "      <td>0.301541</td>\n",
       "      <td>0</td>\n",
       "      <td>1</td>\n",
       "    </tr>\n",
       "    <tr>\n",
       "      <th>2</th>\n",
       "      <td>2023-11-08 12:53:36</td>\n",
       "      <td>183b56bf-1764-4bf7-a348-a70c4f504803</td>\n",
       "      <td>0.045870</td>\n",
       "      <td>0</td>\n",
       "      <td>1</td>\n",
       "    </tr>\n",
       "    <tr>\n",
       "      <th>3</th>\n",
       "      <td>2024-11-26 18:25:21</td>\n",
       "      <td>e7dd1f77-2200-43a6-afd2-a3ffaa55ebf6</td>\n",
       "      <td>0.055139</td>\n",
       "      <td>0</td>\n",
       "      <td>1</td>\n",
       "    </tr>\n",
       "    <tr>\n",
       "      <th>4</th>\n",
       "      <td>2024-09-18 15:41:01</td>\n",
       "      <td>1000d052-5dc0-43fd-bebc-df33aac78547</td>\n",
       "      <td>0.282324</td>\n",
       "      <td>0</td>\n",
       "      <td>1</td>\n",
       "    </tr>\n",
       "  </tbody>\n",
       "</table>\n",
       "</div>"
      ],
      "text/plain": [
       "     disbursementdate                  digitalLoanAccountId  sa_stack_score  \\\n",
       "0 2024-04-29 17:13:42  ec0662e6-2722-41c4-b483-70f9ff80ca2c        0.153215   \n",
       "1 2024-11-30 11:10:23  5a00b591-2f4c-4aa5-97e5-a9a36f9f5b72        0.301541   \n",
       "2 2023-11-08 12:53:36  183b56bf-1764-4bf7-a348-a70c4f504803        0.045870   \n",
       "3 2024-11-26 18:25:21  e7dd1f77-2200-43a6-afd2-a3ffaa55ebf6        0.055139   \n",
       "4 2024-09-18 15:41:01  1000d052-5dc0-43fd-bebc-df33aac78547        0.282324   \n",
       "\n",
       "   ln_fpd10_flag  ln_mature_fpd10_flag  \n",
       "0              0                     1  \n",
       "1              0                     1  \n",
       "2              0                     1  \n",
       "3              0                     1  \n",
       "4              0                     1  "
      ]
     },
     "execution_count": 87,
     "metadata": {},
     "output_type": "execute_result"
    }
   ],
   "source": [
    "sa_stack_scorefpd10.head()"
   ]
  },
  {
   "cell_type": "code",
   "execution_count": 88,
   "metadata": {},
   "outputs": [
    {
     "name": "stdout",
     "output_type": "stream",
     "text": [
      "The shape of dataframe after copy is:\t(106, 7)\n"
     ]
    },
    {
     "data": {
      "text/plain": [
       "array(['start_date', 'end_date', 'sa_stack_score_FPD10_gini', 'period',\n",
       "       'Model_Name', 'version', 'bad_rate'], dtype=object)"
      ]
     },
     "execution_count": 88,
     "metadata": {},
     "output_type": "execute_result"
    }
   ],
   "source": [
    "gini_results = calculate_periodic_gini(sa_stack_scorefpd10, 'sa_stack_score', 'ln_fpd10_flag', 'FPD10')\n",
    "M1FPD10 = gini_results.copy()\n",
    "print(f\"The shape of dataframe after copy is:\\t{M1FPD10.shape}\")\n",
    "M1FPD10.columns.values"
   ]
  },
  {
   "cell_type": "code",
   "execution_count": 89,
   "metadata": {},
   "outputs": [
    {
     "data": {
      "text/html": [
       "<div>\n",
       "<style scoped>\n",
       "    .dataframe tbody tr th:only-of-type {\n",
       "        vertical-align: middle;\n",
       "    }\n",
       "\n",
       "    .dataframe tbody tr th {\n",
       "        vertical-align: top;\n",
       "    }\n",
       "\n",
       "    .dataframe thead th {\n",
       "        text-align: right;\n",
       "    }\n",
       "</style>\n",
       "<table border=\"1\" class=\"dataframe\">\n",
       "  <thead>\n",
       "    <tr style=\"text-align: right;\">\n",
       "      <th></th>\n",
       "      <th>start_date</th>\n",
       "      <th>end_date</th>\n",
       "      <th>sa_stack_score_FPD10_gini</th>\n",
       "    </tr>\n",
       "  </thead>\n",
       "  <tbody>\n",
       "    <tr>\n",
       "      <th>count</th>\n",
       "      <td>106</td>\n",
       "      <td>106</td>\n",
       "      <td>106.000000</td>\n",
       "    </tr>\n",
       "    <tr>\n",
       "      <th>mean</th>\n",
       "      <td>2024-03-20 14:56:36.226415104</td>\n",
       "      <td>2024-03-31 01:35:05.660377344</td>\n",
       "      <td>0.371102</td>\n",
       "    </tr>\n",
       "    <tr>\n",
       "      <th>min</th>\n",
       "      <td>2023-05-29 00:00:00</td>\n",
       "      <td>2023-06-04 00:00:00</td>\n",
       "      <td>-0.060606</td>\n",
       "    </tr>\n",
       "    <tr>\n",
       "      <th>25%</th>\n",
       "      <td>2023-10-24 18:00:00</td>\n",
       "      <td>2023-11-01 06:00:00</td>\n",
       "      <td>0.328973</td>\n",
       "    </tr>\n",
       "    <tr>\n",
       "      <th>50%</th>\n",
       "      <td>2024-03-21 12:00:00</td>\n",
       "      <td>2024-03-31 00:00:00</td>\n",
       "      <td>0.357341</td>\n",
       "    </tr>\n",
       "    <tr>\n",
       "      <th>75%</th>\n",
       "      <td>2024-08-17 06:00:00</td>\n",
       "      <td>2024-08-29 12:00:00</td>\n",
       "      <td>0.436444</td>\n",
       "    </tr>\n",
       "    <tr>\n",
       "      <th>max</th>\n",
       "      <td>2025-01-13 00:00:00</td>\n",
       "      <td>2025-01-31 00:00:00</td>\n",
       "      <td>0.663522</td>\n",
       "    </tr>\n",
       "    <tr>\n",
       "      <th>std</th>\n",
       "      <td>NaN</td>\n",
       "      <td>NaN</td>\n",
       "      <td>0.098484</td>\n",
       "    </tr>\n",
       "  </tbody>\n",
       "</table>\n",
       "</div>"
      ],
      "text/plain": [
       "                          start_date                       end_date  \\\n",
       "count                            106                            106   \n",
       "mean   2024-03-20 14:56:36.226415104  2024-03-31 01:35:05.660377344   \n",
       "min              2023-05-29 00:00:00            2023-06-04 00:00:00   \n",
       "25%              2023-10-24 18:00:00            2023-11-01 06:00:00   \n",
       "50%              2024-03-21 12:00:00            2024-03-31 00:00:00   \n",
       "75%              2024-08-17 06:00:00            2024-08-29 12:00:00   \n",
       "max              2025-01-13 00:00:00            2025-01-31 00:00:00   \n",
       "std                              NaN                            NaN   \n",
       "\n",
       "       sa_stack_score_FPD10_gini  \n",
       "count                 106.000000  \n",
       "mean                    0.371102  \n",
       "min                    -0.060606  \n",
       "25%                     0.328973  \n",
       "50%                     0.357341  \n",
       "75%                     0.436444  \n",
       "max                     0.663522  \n",
       "std                     0.098484  "
      ]
     },
     "execution_count": 89,
     "metadata": {},
     "output_type": "execute_result"
    }
   ],
   "source": [
    "M1FPD10.describe()"
   ]
  },
  {
   "cell_type": "code",
   "execution_count": 90,
   "metadata": {},
   "outputs": [
    {
     "data": {
      "text/html": [
       "<div>\n",
       "<style scoped>\n",
       "    .dataframe tbody tr th:only-of-type {\n",
       "        vertical-align: middle;\n",
       "    }\n",
       "\n",
       "    .dataframe tbody tr th {\n",
       "        vertical-align: top;\n",
       "    }\n",
       "\n",
       "    .dataframe thead th {\n",
       "        text-align: right;\n",
       "    }\n",
       "</style>\n",
       "<table border=\"1\" class=\"dataframe\">\n",
       "  <thead>\n",
       "    <tr style=\"text-align: right;\">\n",
       "      <th></th>\n",
       "      <th>start_date</th>\n",
       "      <th>end_date</th>\n",
       "      <th>sa_stack_score_FPD10_gini</th>\n",
       "      <th>period</th>\n",
       "      <th>Model_Name</th>\n",
       "      <th>version</th>\n",
       "      <th>bad_rate</th>\n",
       "    </tr>\n",
       "  </thead>\n",
       "  <tbody>\n",
       "    <tr>\n",
       "      <th>0</th>\n",
       "      <td>2023-05-29</td>\n",
       "      <td>2023-06-04</td>\n",
       "      <td>0.546289</td>\n",
       "      <td>Week</td>\n",
       "      <td>sa_stack_score</td>\n",
       "      <td>1.1.0</td>\n",
       "      <td>FPD10</td>\n",
       "    </tr>\n",
       "    <tr>\n",
       "      <th>1</th>\n",
       "      <td>2023-06-01</td>\n",
       "      <td>2023-06-30</td>\n",
       "      <td>0.347113</td>\n",
       "      <td>Month</td>\n",
       "      <td>sa_stack_score</td>\n",
       "      <td>1.1.0</td>\n",
       "      <td>FPD10</td>\n",
       "    </tr>\n",
       "    <tr>\n",
       "      <th>2</th>\n",
       "      <td>2023-06-05</td>\n",
       "      <td>2023-06-11</td>\n",
       "      <td>0.469266</td>\n",
       "      <td>Week</td>\n",
       "      <td>sa_stack_score</td>\n",
       "      <td>1.1.0</td>\n",
       "      <td>FPD10</td>\n",
       "    </tr>\n",
       "    <tr>\n",
       "      <th>3</th>\n",
       "      <td>2023-06-12</td>\n",
       "      <td>2023-06-18</td>\n",
       "      <td>0.663522</td>\n",
       "      <td>Week</td>\n",
       "      <td>sa_stack_score</td>\n",
       "      <td>1.1.0</td>\n",
       "      <td>FPD10</td>\n",
       "    </tr>\n",
       "    <tr>\n",
       "      <th>4</th>\n",
       "      <td>2023-06-19</td>\n",
       "      <td>2023-06-25</td>\n",
       "      <td>-0.060606</td>\n",
       "      <td>Week</td>\n",
       "      <td>sa_stack_score</td>\n",
       "      <td>1.1.0</td>\n",
       "      <td>FPD10</td>\n",
       "    </tr>\n",
       "  </tbody>\n",
       "</table>\n",
       "</div>"
      ],
      "text/plain": [
       "  start_date   end_date  sa_stack_score_FPD10_gini period      Model_Name  \\\n",
       "0 2023-05-29 2023-06-04                   0.546289   Week  sa_stack_score   \n",
       "1 2023-06-01 2023-06-30                   0.347113  Month  sa_stack_score   \n",
       "2 2023-06-05 2023-06-11                   0.469266   Week  sa_stack_score   \n",
       "3 2023-06-12 2023-06-18                   0.663522   Week  sa_stack_score   \n",
       "4 2023-06-19 2023-06-25                  -0.060606   Week  sa_stack_score   \n",
       "\n",
       "  version bad_rate  \n",
       "0   1.1.0    FPD10  \n",
       "1   1.1.0    FPD10  \n",
       "2   1.1.0    FPD10  \n",
       "3   1.1.0    FPD10  \n",
       "4   1.1.0    FPD10  "
      ]
     },
     "execution_count": 90,
     "metadata": {},
     "output_type": "execute_result"
    }
   ],
   "source": [
    "M1FPD10.head()"
   ]
  },
  {
   "cell_type": "markdown",
   "metadata": {},
   "source": [
    "## FPD30"
   ]
  },
  {
   "cell_type": "code",
   "execution_count": 91,
   "metadata": {},
   "outputs": [
    {
     "name": "stdout",
     "output_type": "stream",
     "text": [
      "Job ID 7966f45f-7dcb-4b19-b9a7-daa56b3399fd successfully executed: 100%|\u001b[32m██████████\u001b[0m|"
     ]
    },
    {
     "name": "stderr",
     "output_type": "stream",
     "text": [
      "d:\\Anaconda3\\envs\\inc_env\\lib\\site-packages\\google\\cloud\\bigquery\\table.py:1820: UserWarning: BigQuery Storage module not found, fetch data with the REST endpoint instead.\n",
      "  warnings.warn(\n"
     ]
    },
    {
     "name": "stdout",
     "output_type": "stream",
     "text": [
      "\n",
      "Downloading: 100%|\u001b[32m██████████\u001b[0m|\n"
     ]
    },
    {
     "data": {
      "text/html": [
       "<div>\n",
       "<style scoped>\n",
       "    .dataframe tbody tr th:only-of-type {\n",
       "        vertical-align: middle;\n",
       "    }\n",
       "\n",
       "    .dataframe tbody tr th {\n",
       "        vertical-align: top;\n",
       "    }\n",
       "\n",
       "    .dataframe thead th {\n",
       "        text-align: right;\n",
       "    }\n",
       "</style>\n",
       "<table border=\"1\" class=\"dataframe\">\n",
       "  <thead>\n",
       "    <tr style=\"text-align: right;\">\n",
       "      <th></th>\n",
       "      <th>disbursementdate</th>\n",
       "      <th>digitalLoanAccountId</th>\n",
       "      <th>sa_stack_score</th>\n",
       "      <th>ln_fpd30_flag</th>\n",
       "      <th>ln_mature_fpd30_flag</th>\n",
       "    </tr>\n",
       "  </thead>\n",
       "  <tbody>\n",
       "    <tr>\n",
       "      <th>0</th>\n",
       "      <td>2024-04-29 17:13:42</td>\n",
       "      <td>ec0662e6-2722-41c4-b483-70f9ff80ca2c</td>\n",
       "      <td>0.153215</td>\n",
       "      <td>0</td>\n",
       "      <td>1</td>\n",
       "    </tr>\n",
       "    <tr>\n",
       "      <th>1</th>\n",
       "      <td>2024-11-30 11:10:23</td>\n",
       "      <td>5a00b591-2f4c-4aa5-97e5-a9a36f9f5b72</td>\n",
       "      <td>0.301541</td>\n",
       "      <td>0</td>\n",
       "      <td>1</td>\n",
       "    </tr>\n",
       "    <tr>\n",
       "      <th>2</th>\n",
       "      <td>2023-11-08 12:53:36</td>\n",
       "      <td>183b56bf-1764-4bf7-a348-a70c4f504803</td>\n",
       "      <td>0.045870</td>\n",
       "      <td>0</td>\n",
       "      <td>1</td>\n",
       "    </tr>\n",
       "    <tr>\n",
       "      <th>3</th>\n",
       "      <td>2024-11-26 18:25:21</td>\n",
       "      <td>e7dd1f77-2200-43a6-afd2-a3ffaa55ebf6</td>\n",
       "      <td>0.055139</td>\n",
       "      <td>0</td>\n",
       "      <td>1</td>\n",
       "    </tr>\n",
       "    <tr>\n",
       "      <th>4</th>\n",
       "      <td>2024-09-18 15:41:01</td>\n",
       "      <td>1000d052-5dc0-43fd-bebc-df33aac78547</td>\n",
       "      <td>0.282324</td>\n",
       "      <td>0</td>\n",
       "      <td>1</td>\n",
       "    </tr>\n",
       "  </tbody>\n",
       "</table>\n",
       "</div>"
      ],
      "text/plain": [
       "     disbursementdate                  digitalLoanAccountId  sa_stack_score  \\\n",
       "0 2024-04-29 17:13:42  ec0662e6-2722-41c4-b483-70f9ff80ca2c        0.153215   \n",
       "1 2024-11-30 11:10:23  5a00b591-2f4c-4aa5-97e5-a9a36f9f5b72        0.301541   \n",
       "2 2023-11-08 12:53:36  183b56bf-1764-4bf7-a348-a70c4f504803        0.045870   \n",
       "3 2024-11-26 18:25:21  e7dd1f77-2200-43a6-afd2-a3ffaa55ebf6        0.055139   \n",
       "4 2024-09-18 15:41:01  1000d052-5dc0-43fd-bebc-df33aac78547        0.282324   \n",
       "\n",
       "   ln_fpd30_flag  ln_mature_fpd30_flag  \n",
       "0              0                     1  \n",
       "1              0                     1  \n",
       "2              0                     1  \n",
       "3              0                     1  \n",
       "4              0                     1  "
      ]
     },
     "execution_count": 91,
     "metadata": {},
     "output_type": "execute_result"
    }
   ],
   "source": [
    "# sa_stack_score\n",
    "\n",
    "sq = \"\"\"\n",
    "with sa_stack_score as \n",
    "(SELECT \n",
    "    ln_disb_dtime disbursementdate,\n",
    "\tdigitalLoanAccountId,\n",
    "    sa_stack_score,\n",
    "    ln_fpd30_flag,\n",
    "\tln_mature_fpd30_flag,\t\n",
    "\tFROM \n",
    "    prj-prod-dataplatform.risk_mart.sil_risk_ds_master_20230101_20250206\n",
    "  WHERE \n",
    "     -- ln_disb_dtime >= '2023-07-01'\n",
    "    ln_appln_submit_datetime >= '2023-06-01'\n",
    "  -- AND\n",
    "  --   format_date('%Y-%m', ln_disb_dtime) = '2024-09'\n",
    "  AND\n",
    "    ln_fpd30_flag is not null\n",
    "  AND\n",
    "    sa_stack_score is not null\n",
    "  AND\n",
    "    ln_mature_fpd30_flag = 1\n",
    ")\n",
    "select * from sa_stack_score;\n",
    "\"\"\"\n",
    "\n",
    "sa_stack_scorefpd30 = client.query(sq).to_dataframe(progress_bar_type='tqdm')\n",
    "\n",
    "sa_stack_scorefpd30.head()"
   ]
  },
  {
   "cell_type": "code",
   "execution_count": 92,
   "metadata": {},
   "outputs": [
    {
     "data": {
      "text/html": [
       "<div>\n",
       "<style scoped>\n",
       "    .dataframe tbody tr th:only-of-type {\n",
       "        vertical-align: middle;\n",
       "    }\n",
       "\n",
       "    .dataframe tbody tr th {\n",
       "        vertical-align: top;\n",
       "    }\n",
       "\n",
       "    .dataframe thead th {\n",
       "        text-align: right;\n",
       "    }\n",
       "</style>\n",
       "<table border=\"1\" class=\"dataframe\">\n",
       "  <thead>\n",
       "    <tr style=\"text-align: right;\">\n",
       "      <th></th>\n",
       "      <th>disbursementdate</th>\n",
       "      <th>digitalLoanAccountId</th>\n",
       "      <th>sa_stack_score</th>\n",
       "      <th>ln_fpd30_flag</th>\n",
       "      <th>ln_mature_fpd30_flag</th>\n",
       "    </tr>\n",
       "  </thead>\n",
       "  <tbody>\n",
       "    <tr>\n",
       "      <th>0</th>\n",
       "      <td>2024-04-29 17:13:42</td>\n",
       "      <td>ec0662e6-2722-41c4-b483-70f9ff80ca2c</td>\n",
       "      <td>0.153215</td>\n",
       "      <td>0</td>\n",
       "      <td>1</td>\n",
       "    </tr>\n",
       "    <tr>\n",
       "      <th>1</th>\n",
       "      <td>2024-11-30 11:10:23</td>\n",
       "      <td>5a00b591-2f4c-4aa5-97e5-a9a36f9f5b72</td>\n",
       "      <td>0.301541</td>\n",
       "      <td>0</td>\n",
       "      <td>1</td>\n",
       "    </tr>\n",
       "    <tr>\n",
       "      <th>2</th>\n",
       "      <td>2023-11-08 12:53:36</td>\n",
       "      <td>183b56bf-1764-4bf7-a348-a70c4f504803</td>\n",
       "      <td>0.045870</td>\n",
       "      <td>0</td>\n",
       "      <td>1</td>\n",
       "    </tr>\n",
       "    <tr>\n",
       "      <th>3</th>\n",
       "      <td>2024-11-26 18:25:21</td>\n",
       "      <td>e7dd1f77-2200-43a6-afd2-a3ffaa55ebf6</td>\n",
       "      <td>0.055139</td>\n",
       "      <td>0</td>\n",
       "      <td>1</td>\n",
       "    </tr>\n",
       "    <tr>\n",
       "      <th>4</th>\n",
       "      <td>2024-09-18 15:41:01</td>\n",
       "      <td>1000d052-5dc0-43fd-bebc-df33aac78547</td>\n",
       "      <td>0.282324</td>\n",
       "      <td>0</td>\n",
       "      <td>1</td>\n",
       "    </tr>\n",
       "  </tbody>\n",
       "</table>\n",
       "</div>"
      ],
      "text/plain": [
       "     disbursementdate                  digitalLoanAccountId  sa_stack_score  \\\n",
       "0 2024-04-29 17:13:42  ec0662e6-2722-41c4-b483-70f9ff80ca2c        0.153215   \n",
       "1 2024-11-30 11:10:23  5a00b591-2f4c-4aa5-97e5-a9a36f9f5b72        0.301541   \n",
       "2 2023-11-08 12:53:36  183b56bf-1764-4bf7-a348-a70c4f504803        0.045870   \n",
       "3 2024-11-26 18:25:21  e7dd1f77-2200-43a6-afd2-a3ffaa55ebf6        0.055139   \n",
       "4 2024-09-18 15:41:01  1000d052-5dc0-43fd-bebc-df33aac78547        0.282324   \n",
       "\n",
       "   ln_fpd30_flag  ln_mature_fpd30_flag  \n",
       "0              0                     1  \n",
       "1              0                     1  \n",
       "2              0                     1  \n",
       "3              0                     1  \n",
       "4              0                     1  "
      ]
     },
     "execution_count": 92,
     "metadata": {},
     "output_type": "execute_result"
    }
   ],
   "source": [
    "sa_stack_scorefpd30.head()"
   ]
  },
  {
   "cell_type": "code",
   "execution_count": 93,
   "metadata": {},
   "outputs": [
    {
     "name": "stdout",
     "output_type": "stream",
     "text": [
      "The shape of dataframe after copy is:\t(102, 7)\n"
     ]
    },
    {
     "data": {
      "text/plain": [
       "array(['start_date', 'end_date', 'sa_stack_score_FPD30_gini', 'period',\n",
       "       'Model_Name', 'version', 'bad_rate'], dtype=object)"
      ]
     },
     "execution_count": 93,
     "metadata": {},
     "output_type": "execute_result"
    }
   ],
   "source": [
    "gini_results = calculate_periodic_gini(sa_stack_scorefpd30, 'sa_stack_score', 'ln_fpd30_flag', 'FPD30')\n",
    "M2FPD30 = gini_results.copy()\n",
    "print(f\"The shape of dataframe after copy is:\\t{M2FPD30.shape}\")\n",
    "M2FPD30.columns.values"
   ]
  },
  {
   "cell_type": "code",
   "execution_count": 94,
   "metadata": {},
   "outputs": [
    {
     "data": {
      "text/html": [
       "<div>\n",
       "<style scoped>\n",
       "    .dataframe tbody tr th:only-of-type {\n",
       "        vertical-align: middle;\n",
       "    }\n",
       "\n",
       "    .dataframe tbody tr th {\n",
       "        vertical-align: top;\n",
       "    }\n",
       "\n",
       "    .dataframe thead th {\n",
       "        text-align: right;\n",
       "    }\n",
       "</style>\n",
       "<table border=\"1\" class=\"dataframe\">\n",
       "  <thead>\n",
       "    <tr style=\"text-align: right;\">\n",
       "      <th></th>\n",
       "      <th>start_date</th>\n",
       "      <th>end_date</th>\n",
       "      <th>sa_stack_score_FPD30_gini</th>\n",
       "    </tr>\n",
       "  </thead>\n",
       "  <tbody>\n",
       "    <tr>\n",
       "      <th>count</th>\n",
       "      <td>102</td>\n",
       "      <td>102</td>\n",
       "      <td>102.000000</td>\n",
       "    </tr>\n",
       "    <tr>\n",
       "      <th>mean</th>\n",
       "      <td>2024-03-09 05:52:56.470588160</td>\n",
       "      <td>2024-03-19 15:03:31.764705792</td>\n",
       "      <td>0.394905</td>\n",
       "    </tr>\n",
       "    <tr>\n",
       "      <th>min</th>\n",
       "      <td>2023-05-29 00:00:00</td>\n",
       "      <td>2023-06-04 00:00:00</td>\n",
       "      <td>-0.030790</td>\n",
       "    </tr>\n",
       "    <tr>\n",
       "      <th>25%</th>\n",
       "      <td>2023-10-17 18:00:00</td>\n",
       "      <td>2023-10-29 12:00:00</td>\n",
       "      <td>0.355277</td>\n",
       "    </tr>\n",
       "    <tr>\n",
       "      <th>50%</th>\n",
       "      <td>2024-03-07 12:00:00</td>\n",
       "      <td>2024-03-20 12:00:00</td>\n",
       "      <td>0.389325</td>\n",
       "    </tr>\n",
       "    <tr>\n",
       "      <th>75%</th>\n",
       "      <td>2024-07-31 06:00:00</td>\n",
       "      <td>2024-08-09 06:00:00</td>\n",
       "      <td>0.451029</td>\n",
       "    </tr>\n",
       "    <tr>\n",
       "      <th>max</th>\n",
       "      <td>2024-12-23 00:00:00</td>\n",
       "      <td>2024-12-31 00:00:00</td>\n",
       "      <td>0.633803</td>\n",
       "    </tr>\n",
       "    <tr>\n",
       "      <th>std</th>\n",
       "      <td>NaN</td>\n",
       "      <td>NaN</td>\n",
       "      <td>0.097723</td>\n",
       "    </tr>\n",
       "  </tbody>\n",
       "</table>\n",
       "</div>"
      ],
      "text/plain": [
       "                          start_date                       end_date  \\\n",
       "count                            102                            102   \n",
       "mean   2024-03-09 05:52:56.470588160  2024-03-19 15:03:31.764705792   \n",
       "min              2023-05-29 00:00:00            2023-06-04 00:00:00   \n",
       "25%              2023-10-17 18:00:00            2023-10-29 12:00:00   \n",
       "50%              2024-03-07 12:00:00            2024-03-20 12:00:00   \n",
       "75%              2024-07-31 06:00:00            2024-08-09 06:00:00   \n",
       "max              2024-12-23 00:00:00            2024-12-31 00:00:00   \n",
       "std                              NaN                            NaN   \n",
       "\n",
       "       sa_stack_score_FPD30_gini  \n",
       "count                 102.000000  \n",
       "mean                    0.394905  \n",
       "min                    -0.030790  \n",
       "25%                     0.355277  \n",
       "50%                     0.389325  \n",
       "75%                     0.451029  \n",
       "max                     0.633803  \n",
       "std                     0.097723  "
      ]
     },
     "execution_count": 94,
     "metadata": {},
     "output_type": "execute_result"
    }
   ],
   "source": [
    "M2FPD30.describe()"
   ]
  },
  {
   "cell_type": "code",
   "execution_count": 95,
   "metadata": {},
   "outputs": [
    {
     "data": {
      "text/html": [
       "<div>\n",
       "<style scoped>\n",
       "    .dataframe tbody tr th:only-of-type {\n",
       "        vertical-align: middle;\n",
       "    }\n",
       "\n",
       "    .dataframe tbody tr th {\n",
       "        vertical-align: top;\n",
       "    }\n",
       "\n",
       "    .dataframe thead th {\n",
       "        text-align: right;\n",
       "    }\n",
       "</style>\n",
       "<table border=\"1\" class=\"dataframe\">\n",
       "  <thead>\n",
       "    <tr style=\"text-align: right;\">\n",
       "      <th></th>\n",
       "      <th>start_date</th>\n",
       "      <th>end_date</th>\n",
       "      <th>sa_stack_score_FPD30_gini</th>\n",
       "      <th>period</th>\n",
       "      <th>Model_Name</th>\n",
       "      <th>version</th>\n",
       "      <th>bad_rate</th>\n",
       "    </tr>\n",
       "  </thead>\n",
       "  <tbody>\n",
       "    <tr>\n",
       "      <th>0</th>\n",
       "      <td>2023-05-29</td>\n",
       "      <td>2023-06-04</td>\n",
       "      <td>0.507273</td>\n",
       "      <td>Week</td>\n",
       "      <td>sa_stack_score</td>\n",
       "      <td>1.1.0</td>\n",
       "      <td>FPD30</td>\n",
       "    </tr>\n",
       "    <tr>\n",
       "      <th>1</th>\n",
       "      <td>2023-06-01</td>\n",
       "      <td>2023-06-30</td>\n",
       "      <td>0.334271</td>\n",
       "      <td>Month</td>\n",
       "      <td>sa_stack_score</td>\n",
       "      <td>1.1.0</td>\n",
       "      <td>FPD30</td>\n",
       "    </tr>\n",
       "    <tr>\n",
       "      <th>2</th>\n",
       "      <td>2023-06-05</td>\n",
       "      <td>2023-06-11</td>\n",
       "      <td>0.420741</td>\n",
       "      <td>Week</td>\n",
       "      <td>sa_stack_score</td>\n",
       "      <td>1.1.0</td>\n",
       "      <td>FPD30</td>\n",
       "    </tr>\n",
       "    <tr>\n",
       "      <th>3</th>\n",
       "      <td>2023-06-12</td>\n",
       "      <td>2023-06-18</td>\n",
       "      <td>0.633803</td>\n",
       "      <td>Week</td>\n",
       "      <td>sa_stack_score</td>\n",
       "      <td>1.1.0</td>\n",
       "      <td>FPD30</td>\n",
       "    </tr>\n",
       "    <tr>\n",
       "      <th>4</th>\n",
       "      <td>2023-06-19</td>\n",
       "      <td>2023-06-25</td>\n",
       "      <td>-0.030790</td>\n",
       "      <td>Week</td>\n",
       "      <td>sa_stack_score</td>\n",
       "      <td>1.1.0</td>\n",
       "      <td>FPD30</td>\n",
       "    </tr>\n",
       "  </tbody>\n",
       "</table>\n",
       "</div>"
      ],
      "text/plain": [
       "  start_date   end_date  sa_stack_score_FPD30_gini period      Model_Name  \\\n",
       "0 2023-05-29 2023-06-04                   0.507273   Week  sa_stack_score   \n",
       "1 2023-06-01 2023-06-30                   0.334271  Month  sa_stack_score   \n",
       "2 2023-06-05 2023-06-11                   0.420741   Week  sa_stack_score   \n",
       "3 2023-06-12 2023-06-18                   0.633803   Week  sa_stack_score   \n",
       "4 2023-06-19 2023-06-25                  -0.030790   Week  sa_stack_score   \n",
       "\n",
       "  version bad_rate  \n",
       "0   1.1.0    FPD30  \n",
       "1   1.1.0    FPD30  \n",
       "2   1.1.0    FPD30  \n",
       "3   1.1.0    FPD30  \n",
       "4   1.1.0    FPD30  "
      ]
     },
     "execution_count": 95,
     "metadata": {},
     "output_type": "execute_result"
    }
   ],
   "source": [
    "M2FPD30.head()"
   ]
  },
  {
   "cell_type": "markdown",
   "metadata": {},
   "source": [
    "## FSTPD30"
   ]
  },
  {
   "cell_type": "code",
   "execution_count": 96,
   "metadata": {},
   "outputs": [
    {
     "name": "stdout",
     "output_type": "stream",
     "text": [
      "Job ID e033f074-8281-401c-80b3-55123d1aa358 successfully executed: 100%|\u001b[32m██████████\u001b[0m|"
     ]
    },
    {
     "name": "stderr",
     "output_type": "stream",
     "text": [
      "d:\\Anaconda3\\envs\\inc_env\\lib\\site-packages\\google\\cloud\\bigquery\\table.py:1820: UserWarning: BigQuery Storage module not found, fetch data with the REST endpoint instead.\n",
      "  warnings.warn(\n"
     ]
    },
    {
     "name": "stdout",
     "output_type": "stream",
     "text": [
      "\n",
      "Downloading: 100%|\u001b[32m██████████\u001b[0m|\n"
     ]
    },
    {
     "data": {
      "text/html": [
       "<div>\n",
       "<style scoped>\n",
       "    .dataframe tbody tr th:only-of-type {\n",
       "        vertical-align: middle;\n",
       "    }\n",
       "\n",
       "    .dataframe tbody tr th {\n",
       "        vertical-align: top;\n",
       "    }\n",
       "\n",
       "    .dataframe thead th {\n",
       "        text-align: right;\n",
       "    }\n",
       "</style>\n",
       "<table border=\"1\" class=\"dataframe\">\n",
       "  <thead>\n",
       "    <tr style=\"text-align: right;\">\n",
       "      <th></th>\n",
       "      <th>disbursementdate</th>\n",
       "      <th>digitalLoanAccountId</th>\n",
       "      <th>sa_stack_score</th>\n",
       "      <th>ln_fspd30_flag</th>\n",
       "      <th>ln_mature_fspd30_flag</th>\n",
       "    </tr>\n",
       "  </thead>\n",
       "  <tbody>\n",
       "    <tr>\n",
       "      <th>0</th>\n",
       "      <td>2023-06-22 14:25:06</td>\n",
       "      <td>12d13dfc-e307-4605-af97-361327cb3247</td>\n",
       "      <td>0.169229</td>\n",
       "      <td>0</td>\n",
       "      <td>1</td>\n",
       "    </tr>\n",
       "    <tr>\n",
       "      <th>1</th>\n",
       "      <td>2024-07-21 10:34:01</td>\n",
       "      <td>4238aea5-2cbb-4356-879b-71b4d3486fd2</td>\n",
       "      <td>0.095600</td>\n",
       "      <td>0</td>\n",
       "      <td>1</td>\n",
       "    </tr>\n",
       "    <tr>\n",
       "      <th>2</th>\n",
       "      <td>2023-12-31 10:00:00</td>\n",
       "      <td>ad89c5e8-d5bd-49a9-a10d-82139364463f</td>\n",
       "      <td>0.022477</td>\n",
       "      <td>0</td>\n",
       "      <td>1</td>\n",
       "    </tr>\n",
       "    <tr>\n",
       "      <th>3</th>\n",
       "      <td>2024-11-20 12:36:49</td>\n",
       "      <td>c6e59c0c-754a-4db2-9f12-53348b1a3ccb</td>\n",
       "      <td>0.037582</td>\n",
       "      <td>0</td>\n",
       "      <td>1</td>\n",
       "    </tr>\n",
       "    <tr>\n",
       "      <th>4</th>\n",
       "      <td>2024-11-22 11:09:40</td>\n",
       "      <td>f3a9b689-93a8-4906-9fad-ef191d00bbd9</td>\n",
       "      <td>0.097000</td>\n",
       "      <td>0</td>\n",
       "      <td>1</td>\n",
       "    </tr>\n",
       "  </tbody>\n",
       "</table>\n",
       "</div>"
      ],
      "text/plain": [
       "     disbursementdate                  digitalLoanAccountId  sa_stack_score  \\\n",
       "0 2023-06-22 14:25:06  12d13dfc-e307-4605-af97-361327cb3247        0.169229   \n",
       "1 2024-07-21 10:34:01  4238aea5-2cbb-4356-879b-71b4d3486fd2        0.095600   \n",
       "2 2023-12-31 10:00:00  ad89c5e8-d5bd-49a9-a10d-82139364463f        0.022477   \n",
       "3 2024-11-20 12:36:49  c6e59c0c-754a-4db2-9f12-53348b1a3ccb        0.037582   \n",
       "4 2024-11-22 11:09:40  f3a9b689-93a8-4906-9fad-ef191d00bbd9        0.097000   \n",
       "\n",
       "   ln_fspd30_flag  ln_mature_fspd30_flag  \n",
       "0               0                      1  \n",
       "1               0                      1  \n",
       "2               0                      1  \n",
       "3               0                      1  \n",
       "4               0                      1  "
      ]
     },
     "execution_count": 96,
     "metadata": {},
     "output_type": "execute_result"
    }
   ],
   "source": [
    "# sa_stack_score\n",
    "\n",
    "sq = \"\"\"\n",
    "with sa_stack_score as \n",
    "(SELECT \n",
    "    ln_disb_dtime disbursementdate,\n",
    "\tdigitalLoanAccountId,\n",
    "    sa_stack_score,\n",
    "    ln_fspd30_flag,\n",
    "\tln_mature_fspd30_flag,\t\n",
    "\tFROM \n",
    "    prj-prod-dataplatform.risk_mart.sil_risk_ds_master_20230101_20250206\n",
    "  WHERE \n",
    "     -- ln_disb_dtime >= '2023-07-01'\n",
    "    ln_appln_submit_datetime >= '2023-06-01'\n",
    "  -- AND\n",
    "  --   format_date('%Y-%m', ln_disb_dtime) = '2024-09'\n",
    "  AND\n",
    "    ln_fspd30_flag is not null\n",
    "  AND\n",
    "    sa_stack_score is not null\n",
    "  AND\n",
    "    ln_mature_fspd30_flag = 1\n",
    ")\n",
    "select * from sa_stack_score;\n",
    "\"\"\"\n",
    "\n",
    "sa_stack_scorefspd30 = client.query(sq).to_dataframe(progress_bar_type='tqdm')\n",
    "\n",
    "sa_stack_scorefspd30.head()"
   ]
  },
  {
   "cell_type": "code",
   "execution_count": 97,
   "metadata": {},
   "outputs": [
    {
     "name": "stdout",
     "output_type": "stream",
     "text": [
      "The shape of dataframe after copy is:\t(97, 7)\n"
     ]
    },
    {
     "data": {
      "text/plain": [
       "array(['start_date', 'end_date', 'sa_stack_score_FSPD30_gini', 'period',\n",
       "       'Model_Name', 'version', 'bad_rate'], dtype=object)"
      ]
     },
     "execution_count": 97,
     "metadata": {},
     "output_type": "execute_result"
    }
   ],
   "source": [
    "gini_results = calculate_periodic_gini(sa_stack_scorefspd30, 'sa_stack_score', 'ln_fspd30_flag', 'FSPD30')\n",
    "M3FSPD30 = gini_results.copy()\n",
    "print(f\"The shape of dataframe after copy is:\\t{M3FSPD30.shape}\")\n",
    "M3FSPD30.columns.values"
   ]
  },
  {
   "cell_type": "code",
   "execution_count": 98,
   "metadata": {},
   "outputs": [
    {
     "data": {
      "text/html": [
       "<div>\n",
       "<style scoped>\n",
       "    .dataframe tbody tr th:only-of-type {\n",
       "        vertical-align: middle;\n",
       "    }\n",
       "\n",
       "    .dataframe tbody tr th {\n",
       "        vertical-align: top;\n",
       "    }\n",
       "\n",
       "    .dataframe thead th {\n",
       "        text-align: right;\n",
       "    }\n",
       "</style>\n",
       "<table border=\"1\" class=\"dataframe\">\n",
       "  <thead>\n",
       "    <tr style=\"text-align: right;\">\n",
       "      <th></th>\n",
       "      <th>start_date</th>\n",
       "      <th>end_date</th>\n",
       "      <th>sa_stack_score_FSPD30_gini</th>\n",
       "      <th>period</th>\n",
       "      <th>Model_Name</th>\n",
       "      <th>version</th>\n",
       "      <th>bad_rate</th>\n",
       "    </tr>\n",
       "  </thead>\n",
       "  <tbody>\n",
       "    <tr>\n",
       "      <th>92</th>\n",
       "      <td>2024-11-01</td>\n",
       "      <td>2024-11-30</td>\n",
       "      <td>0.355617</td>\n",
       "      <td>Month</td>\n",
       "      <td>sa_stack_score</td>\n",
       "      <td>1.1.0</td>\n",
       "      <td>FSPD30</td>\n",
       "    </tr>\n",
       "    <tr>\n",
       "      <th>93</th>\n",
       "      <td>2024-11-04</td>\n",
       "      <td>2024-11-10</td>\n",
       "      <td>0.355446</td>\n",
       "      <td>Week</td>\n",
       "      <td>sa_stack_score</td>\n",
       "      <td>1.1.0</td>\n",
       "      <td>FSPD30</td>\n",
       "    </tr>\n",
       "    <tr>\n",
       "      <th>94</th>\n",
       "      <td>2024-11-11</td>\n",
       "      <td>2024-11-17</td>\n",
       "      <td>0.355728</td>\n",
       "      <td>Week</td>\n",
       "      <td>sa_stack_score</td>\n",
       "      <td>1.1.0</td>\n",
       "      <td>FSPD30</td>\n",
       "    </tr>\n",
       "    <tr>\n",
       "      <th>95</th>\n",
       "      <td>2024-11-18</td>\n",
       "      <td>2024-11-24</td>\n",
       "      <td>0.334413</td>\n",
       "      <td>Week</td>\n",
       "      <td>sa_stack_score</td>\n",
       "      <td>1.1.0</td>\n",
       "      <td>FSPD30</td>\n",
       "    </tr>\n",
       "    <tr>\n",
       "      <th>96</th>\n",
       "      <td>2024-11-25</td>\n",
       "      <td>2024-12-01</td>\n",
       "      <td>0.320317</td>\n",
       "      <td>Week</td>\n",
       "      <td>sa_stack_score</td>\n",
       "      <td>1.1.0</td>\n",
       "      <td>FSPD30</td>\n",
       "    </tr>\n",
       "  </tbody>\n",
       "</table>\n",
       "</div>"
      ],
      "text/plain": [
       "   start_date   end_date  sa_stack_score_FSPD30_gini period      Model_Name  \\\n",
       "92 2024-11-01 2024-11-30                    0.355617  Month  sa_stack_score   \n",
       "93 2024-11-04 2024-11-10                    0.355446   Week  sa_stack_score   \n",
       "94 2024-11-11 2024-11-17                    0.355728   Week  sa_stack_score   \n",
       "95 2024-11-18 2024-11-24                    0.334413   Week  sa_stack_score   \n",
       "96 2024-11-25 2024-12-01                    0.320317   Week  sa_stack_score   \n",
       "\n",
       "   version bad_rate  \n",
       "92   1.1.0   FSPD30  \n",
       "93   1.1.0   FSPD30  \n",
       "94   1.1.0   FSPD30  \n",
       "95   1.1.0   FSPD30  \n",
       "96   1.1.0   FSPD30  "
      ]
     },
     "execution_count": 98,
     "metadata": {},
     "output_type": "execute_result"
    }
   ],
   "source": [
    "M3FSPD30.tail()"
   ]
  },
  {
   "cell_type": "markdown",
   "metadata": {},
   "source": [
    "## FSTPD30"
   ]
  },
  {
   "cell_type": "code",
   "execution_count": 99,
   "metadata": {},
   "outputs": [
    {
     "name": "stdout",
     "output_type": "stream",
     "text": [
      "Job ID 543368b6-a422-4658-aeeb-66b21bfe2871 successfully executed: 100%|\u001b[32m██████████\u001b[0m|"
     ]
    },
    {
     "name": "stderr",
     "output_type": "stream",
     "text": [
      "d:\\Anaconda3\\envs\\inc_env\\lib\\site-packages\\google\\cloud\\bigquery\\table.py:1820: UserWarning: BigQuery Storage module not found, fetch data with the REST endpoint instead.\n",
      "  warnings.warn(\n"
     ]
    },
    {
     "name": "stdout",
     "output_type": "stream",
     "text": [
      "\n",
      "Downloading: 100%|\u001b[32m██████████\u001b[0m|\n"
     ]
    },
    {
     "data": {
      "text/html": [
       "<div>\n",
       "<style scoped>\n",
       "    .dataframe tbody tr th:only-of-type {\n",
       "        vertical-align: middle;\n",
       "    }\n",
       "\n",
       "    .dataframe tbody tr th {\n",
       "        vertical-align: top;\n",
       "    }\n",
       "\n",
       "    .dataframe thead th {\n",
       "        text-align: right;\n",
       "    }\n",
       "</style>\n",
       "<table border=\"1\" class=\"dataframe\">\n",
       "  <thead>\n",
       "    <tr style=\"text-align: right;\">\n",
       "      <th></th>\n",
       "      <th>disbursementdate</th>\n",
       "      <th>digitalLoanAccountId</th>\n",
       "      <th>sa_stack_score</th>\n",
       "      <th>ln_fstpd30_flag</th>\n",
       "      <th>ln_mature_fstpd30_flag</th>\n",
       "    </tr>\n",
       "  </thead>\n",
       "  <tbody>\n",
       "    <tr>\n",
       "      <th>0</th>\n",
       "      <td>2024-04-29 17:13:42</td>\n",
       "      <td>ec0662e6-2722-41c4-b483-70f9ff80ca2c</td>\n",
       "      <td>0.153215</td>\n",
       "      <td>0</td>\n",
       "      <td>1</td>\n",
       "    </tr>\n",
       "    <tr>\n",
       "      <th>1</th>\n",
       "      <td>2023-11-08 12:53:36</td>\n",
       "      <td>183b56bf-1764-4bf7-a348-a70c4f504803</td>\n",
       "      <td>0.045870</td>\n",
       "      <td>1</td>\n",
       "      <td>1</td>\n",
       "    </tr>\n",
       "    <tr>\n",
       "      <th>2</th>\n",
       "      <td>2024-09-18 15:41:01</td>\n",
       "      <td>1000d052-5dc0-43fd-bebc-df33aac78547</td>\n",
       "      <td>0.282324</td>\n",
       "      <td>1</td>\n",
       "      <td>1</td>\n",
       "    </tr>\n",
       "    <tr>\n",
       "      <th>3</th>\n",
       "      <td>2024-05-07 13:57:01</td>\n",
       "      <td>ce1a4a6a-f9a8-4353-a102-5c2874173c8e</td>\n",
       "      <td>0.185350</td>\n",
       "      <td>0</td>\n",
       "      <td>1</td>\n",
       "    </tr>\n",
       "    <tr>\n",
       "      <th>4</th>\n",
       "      <td>2024-07-21 11:18:18</td>\n",
       "      <td>afdded1c-4c11-4661-bca2-35fc16462709</td>\n",
       "      <td>0.136095</td>\n",
       "      <td>1</td>\n",
       "      <td>1</td>\n",
       "    </tr>\n",
       "  </tbody>\n",
       "</table>\n",
       "</div>"
      ],
      "text/plain": [
       "     disbursementdate                  digitalLoanAccountId  sa_stack_score  \\\n",
       "0 2024-04-29 17:13:42  ec0662e6-2722-41c4-b483-70f9ff80ca2c        0.153215   \n",
       "1 2023-11-08 12:53:36  183b56bf-1764-4bf7-a348-a70c4f504803        0.045870   \n",
       "2 2024-09-18 15:41:01  1000d052-5dc0-43fd-bebc-df33aac78547        0.282324   \n",
       "3 2024-05-07 13:57:01  ce1a4a6a-f9a8-4353-a102-5c2874173c8e        0.185350   \n",
       "4 2024-07-21 11:18:18  afdded1c-4c11-4661-bca2-35fc16462709        0.136095   \n",
       "\n",
       "   ln_fstpd30_flag  ln_mature_fstpd30_flag  \n",
       "0                0                       1  \n",
       "1                1                       1  \n",
       "2                1                       1  \n",
       "3                0                       1  \n",
       "4                1                       1  "
      ]
     },
     "execution_count": 99,
     "metadata": {},
     "output_type": "execute_result"
    }
   ],
   "source": [
    "# sa_stack_score\n",
    "\n",
    "sq = \"\"\"\n",
    "with sa_stack_score as \n",
    "(SELECT \n",
    "    ln_disb_dtime disbursementdate,\n",
    "\tdigitalLoanAccountId,\n",
    "    sa_stack_score,\n",
    "    ln_fstpd30_flag,\n",
    "\tln_mature_fstpd30_flag,\t\n",
    "\tFROM \n",
    "    prj-prod-dataplatform.risk_mart.sil_risk_ds_master_20230101_20250206\n",
    "  WHERE \n",
    "     -- ln_disb_dtime >= '2023-07-01'\n",
    "    ln_appln_submit_datetime >= '2023-06-01'\n",
    "  -- AND\n",
    "  --   format_date('%Y-%m', ln_disb_dtime) = '2024-09'\n",
    "  AND\n",
    "    ln_fstpd30_flag is not null\n",
    "  AND\n",
    "    sa_stack_score is not null\n",
    "  AND\n",
    "    ln_mature_fstpd30_flag = 1\n",
    ")\n",
    "select * from sa_stack_score;\n",
    "\"\"\"\n",
    "\n",
    "sa_stack_scorefstpd30 = client.query(sq).to_dataframe(progress_bar_type='tqdm')\n",
    "\n",
    "sa_stack_scorefstpd30.head()"
   ]
  },
  {
   "cell_type": "code",
   "execution_count": 100,
   "metadata": {},
   "outputs": [
    {
     "data": {
      "text/html": [
       "<div>\n",
       "<style scoped>\n",
       "    .dataframe tbody tr th:only-of-type {\n",
       "        vertical-align: middle;\n",
       "    }\n",
       "\n",
       "    .dataframe tbody tr th {\n",
       "        vertical-align: top;\n",
       "    }\n",
       "\n",
       "    .dataframe thead th {\n",
       "        text-align: right;\n",
       "    }\n",
       "</style>\n",
       "<table border=\"1\" class=\"dataframe\">\n",
       "  <thead>\n",
       "    <tr style=\"text-align: right;\">\n",
       "      <th></th>\n",
       "      <th>disbursementdate</th>\n",
       "      <th>digitalLoanAccountId</th>\n",
       "      <th>sa_stack_score</th>\n",
       "      <th>ln_fstpd30_flag</th>\n",
       "      <th>ln_mature_fstpd30_flag</th>\n",
       "    </tr>\n",
       "  </thead>\n",
       "  <tbody>\n",
       "    <tr>\n",
       "      <th>124268</th>\n",
       "      <td>2024-02-11 13:09:16</td>\n",
       "      <td>ab6acfbe-e6c9-4be4-b1cb-95d6fb09b860</td>\n",
       "      <td>0.095912</td>\n",
       "      <td>1</td>\n",
       "      <td>1</td>\n",
       "    </tr>\n",
       "    <tr>\n",
       "      <th>124269</th>\n",
       "      <td>2024-10-06 14:06:34</td>\n",
       "      <td>9f9613b5-bb33-463b-aca1-09f1a376c72d</td>\n",
       "      <td>0.240745</td>\n",
       "      <td>1</td>\n",
       "      <td>1</td>\n",
       "    </tr>\n",
       "    <tr>\n",
       "      <th>124270</th>\n",
       "      <td>2024-09-24 11:31:46</td>\n",
       "      <td>52c4651e-76f5-45d1-867e-bb77dbc75ef4</td>\n",
       "      <td>0.236803</td>\n",
       "      <td>1</td>\n",
       "      <td>1</td>\n",
       "    </tr>\n",
       "    <tr>\n",
       "      <th>124271</th>\n",
       "      <td>2024-04-28 19:48:05</td>\n",
       "      <td>afb5e47d-1ceb-4e75-b540-0da4838c385b</td>\n",
       "      <td>0.076165</td>\n",
       "      <td>1</td>\n",
       "      <td>1</td>\n",
       "    </tr>\n",
       "    <tr>\n",
       "      <th>124272</th>\n",
       "      <td>2024-10-16 18:27:30</td>\n",
       "      <td>61e5730f-5a8e-4e8b-8b03-2ebdaa9266fb</td>\n",
       "      <td>0.026642</td>\n",
       "      <td>1</td>\n",
       "      <td>1</td>\n",
       "    </tr>\n",
       "  </tbody>\n",
       "</table>\n",
       "</div>"
      ],
      "text/plain": [
       "          disbursementdate                  digitalLoanAccountId  \\\n",
       "124268 2024-02-11 13:09:16  ab6acfbe-e6c9-4be4-b1cb-95d6fb09b860   \n",
       "124269 2024-10-06 14:06:34  9f9613b5-bb33-463b-aca1-09f1a376c72d   \n",
       "124270 2024-09-24 11:31:46  52c4651e-76f5-45d1-867e-bb77dbc75ef4   \n",
       "124271 2024-04-28 19:48:05  afb5e47d-1ceb-4e75-b540-0da4838c385b   \n",
       "124272 2024-10-16 18:27:30  61e5730f-5a8e-4e8b-8b03-2ebdaa9266fb   \n",
       "\n",
       "        sa_stack_score  ln_fstpd30_flag  ln_mature_fstpd30_flag  \n",
       "124268        0.095912                1                       1  \n",
       "124269        0.240745                1                       1  \n",
       "124270        0.236803                1                       1  \n",
       "124271        0.076165                1                       1  \n",
       "124272        0.026642                1                       1  "
      ]
     },
     "execution_count": 100,
     "metadata": {},
     "output_type": "execute_result"
    }
   ],
   "source": [
    "sa_stack_scorefstpd30.tail()"
   ]
  },
  {
   "cell_type": "code",
   "execution_count": 101,
   "metadata": {},
   "outputs": [
    {
     "name": "stdout",
     "output_type": "stream",
     "text": [
      "The shape of dataframe after copy is:\t(91, 7)\n"
     ]
    },
    {
     "data": {
      "text/plain": [
       "array(['start_date', 'end_date', 'sa_stack_score_FSTPD30_gini', 'period',\n",
       "       'Model_Name', 'version', 'bad_rate'], dtype=object)"
      ]
     },
     "execution_count": 101,
     "metadata": {},
     "output_type": "execute_result"
    }
   ],
   "source": [
    "gini_results = calculate_periodic_gini(sa_stack_scorefstpd30, 'sa_stack_score', 'ln_fstpd30_flag', 'FSTPD30')\n",
    "M4FSTPD30 = gini_results.copy()\n",
    "print(f\"The shape of dataframe after copy is:\\t{M4FSTPD30.shape}\")\n",
    "M4FSTPD30.columns.values"
   ]
  },
  {
   "cell_type": "markdown",
   "metadata": {},
   "source": [
    "## Combining the dataframes"
   ]
  },
  {
   "cell_type": "code",
   "execution_count": 102,
   "metadata": {},
   "outputs": [
    {
     "data": {
      "text/plain": [
       "array(['start_date', 'end_date', 'sa_stack_score_FPD10_gini', 'period',\n",
       "       'Model_Name', 'version', 'bad_rate', 'sa_stack_score_FPD30_gini',\n",
       "       'sa_stack_score_FSPD30_gini', 'sa_stack_score_FSTPD30_gini'],\n",
       "      dtype=object)"
      ]
     },
     "execution_count": 102,
     "metadata": {},
     "output_type": "execute_result"
    }
   ],
   "source": [
    "import functools\n",
    "\n",
    "dataframes = [M1FPD10, M2FPD30, M3FSPD30, M4FSTPD30]\n",
    "common_columns = ['start_date', 'end_date', 'period', 'Model_Name','version', 'bad_rate']\n",
    "\n",
    "def merge_dataframes(df1, df2):\n",
    "    return pd.merge(df1, df2, on=common_columns, how='outer')\n",
    "\n",
    "final_df = functools.reduce(merge_dataframes, dataframes)\n",
    "\n",
    "final_df.columns.values"
   ]
  },
  {
   "cell_type": "code",
   "execution_count": 103,
   "metadata": {},
   "outputs": [],
   "source": [
    "final_df = final_df[['start_date', 'end_date', 'period', 'Model_Name', 'version', 'bad_rate', 'sa_stack_score_FPD10_gini', 'sa_stack_score_FPD30_gini',  'sa_stack_score_FSPD30_gini', 'sa_stack_score_FSTPD30_gini']].copy()"
   ]
  },
  {
   "cell_type": "markdown",
   "metadata": {},
   "source": [
    "## Creating the table "
   ]
  },
  {
   "cell_type": "code",
   "execution_count": 104,
   "metadata": {},
   "outputs": [
    {
     "data": {
      "text/plain": [
       "QueryJob<project=prj-prod-dataplatform, location=asia-southeast1, id=a64b244f-92af-4e94-89a7-38615a6dfc7c>"
      ]
     },
     "execution_count": 104,
     "metadata": {},
     "output_type": "execute_result"
    }
   ],
   "source": [
    "sq = \"\"\"drop table if exists prj-prod-dataplatform.dap_ds_poweruser_playground.Model_gini_sa_stack_score;\"\"\"\n",
    "\n",
    "client.query(sq)"
   ]
  },
  {
   "cell_type": "code",
   "execution_count": 105,
   "metadata": {},
   "outputs": [
    {
     "data": {
      "text/plain": [
       "LoadJob<project=prj-prod-dataplatform, location=asia-southeast1, id=979beb16-2473-4e0e-9eba-4dc577ccbfaf>"
      ]
     },
     "execution_count": 105,
     "metadata": {},
     "output_type": "execute_result"
    }
   ],
   "source": [
    "import pandas as pd\n",
    "from google.cloud import bigquery\n",
    "\n",
    "# Create a BigQuery client\n",
    "client = bigquery.Client('prj-prod-dataplatform')\n",
    "\n",
    "# Define your table schema\n",
    "table_schema = [\n",
    "    bigquery.SchemaField('start_date', 'TIMESTAMP'),\n",
    "    bigquery.SchemaField('end_date', 'TIMESTAMP'),\n",
    "    bigquery.SchemaField('period', 'STRING'),\n",
    "    bigquery.SchemaField('Model_Name', 'STRING'),\n",
    "    bigquery.SchemaField('version', 'STRING'),\n",
    "    bigquery.SchemaField('Badrate', 'STRING'),\n",
    "    bigquery.SchemaField('sa_stack_score_FPD10_gini', 'FLOAT'),\n",
    "    bigquery.SchemaField('sa_stack_score_FPD30_gini', 'FLOAT'),    \n",
    "    bigquery.SchemaField('sa_stack_score_FSPD30_gini', 'FLOAT'),\n",
    "    bigquery.SchemaField('sa_stack_score_FSTPD30_gini', 'FLOAT')\n",
    "    \n",
    "]\n",
    "\n",
    "# Create your BigQuery table\n",
    "table_id = 'prj-prod-dataplatform.dap_ds_poweruser_playground.Model_gini_sa_stack_score'\n",
    "table = bigquery.Table(table_id, schema=table_schema)\n",
    "table = client.create_table(table)\n",
    "\n",
    "# Load your DataFrame into BigQuery\n",
    "job_config = bigquery.LoadJobConfig(\n",
    "    write_disposition='WRITE_TRUNCATE'\n",
    ")\n",
    "\n",
    "load_job = client.load_table_from_dataframe(\n",
    "    final_df, table_id, job_config=job_config\n",
    ")\n",
    "\n",
    "load_job.result()"
   ]
  },
  {
   "cell_type": "markdown",
   "metadata": {},
   "source": [
    "# gen_credo_score"
   ]
  },
  {
   "cell_type": "markdown",
   "metadata": {},
   "source": [
    "## FPD10"
   ]
  },
  {
   "cell_type": "code",
   "execution_count": 106,
   "metadata": {},
   "outputs": [
    {
     "name": "stdout",
     "output_type": "stream",
     "text": [
      "Job ID 33c0843d-508e-4f19-ba66-f4e0d33233d9 successfully executed: 100%|\u001b[32m██████████\u001b[0m|"
     ]
    },
    {
     "name": "stderr",
     "output_type": "stream",
     "text": [
      "d:\\Anaconda3\\envs\\inc_env\\lib\\site-packages\\google\\cloud\\bigquery\\table.py:1820: UserWarning: BigQuery Storage module not found, fetch data with the REST endpoint instead.\n",
      "  warnings.warn(\n"
     ]
    },
    {
     "name": "stdout",
     "output_type": "stream",
     "text": [
      "\n",
      "Downloading: 100%|\u001b[32m██████████\u001b[0m|\n"
     ]
    },
    {
     "data": {
      "text/html": [
       "<div>\n",
       "<style scoped>\n",
       "    .dataframe tbody tr th:only-of-type {\n",
       "        vertical-align: middle;\n",
       "    }\n",
       "\n",
       "    .dataframe tbody tr th {\n",
       "        vertical-align: top;\n",
       "    }\n",
       "\n",
       "    .dataframe thead th {\n",
       "        text-align: right;\n",
       "    }\n",
       "</style>\n",
       "<table border=\"1\" class=\"dataframe\">\n",
       "  <thead>\n",
       "    <tr style=\"text-align: right;\">\n",
       "      <th></th>\n",
       "      <th>disbursementdate</th>\n",
       "      <th>digitalLoanAccountId</th>\n",
       "      <th>gen_credo_score</th>\n",
       "      <th>ln_fpd10_flag</th>\n",
       "      <th>ln_mature_fpd10_flag</th>\n",
       "    </tr>\n",
       "  </thead>\n",
       "  <tbody>\n",
       "    <tr>\n",
       "      <th>0</th>\n",
       "      <td>2024-04-29 17:13:42</td>\n",
       "      <td>ec0662e6-2722-41c4-b483-70f9ff80ca2c</td>\n",
       "      <td>0.076897</td>\n",
       "      <td>0</td>\n",
       "      <td>1</td>\n",
       "    </tr>\n",
       "    <tr>\n",
       "      <th>1</th>\n",
       "      <td>2024-11-30 11:10:23</td>\n",
       "      <td>5a00b591-2f4c-4aa5-97e5-a9a36f9f5b72</td>\n",
       "      <td>0.292605</td>\n",
       "      <td>0</td>\n",
       "      <td>1</td>\n",
       "    </tr>\n",
       "    <tr>\n",
       "      <th>2</th>\n",
       "      <td>2023-11-08 12:53:36</td>\n",
       "      <td>183b56bf-1764-4bf7-a348-a70c4f504803</td>\n",
       "      <td>0.150332</td>\n",
       "      <td>0</td>\n",
       "      <td>1</td>\n",
       "    </tr>\n",
       "    <tr>\n",
       "      <th>3</th>\n",
       "      <td>2024-11-26 18:25:21</td>\n",
       "      <td>e7dd1f77-2200-43a6-afd2-a3ffaa55ebf6</td>\n",
       "      <td>0.184645</td>\n",
       "      <td>0</td>\n",
       "      <td>1</td>\n",
       "    </tr>\n",
       "    <tr>\n",
       "      <th>4</th>\n",
       "      <td>2024-09-18 15:41:01</td>\n",
       "      <td>1000d052-5dc0-43fd-bebc-df33aac78547</td>\n",
       "      <td>0.232588</td>\n",
       "      <td>0</td>\n",
       "      <td>1</td>\n",
       "    </tr>\n",
       "  </tbody>\n",
       "</table>\n",
       "</div>"
      ],
      "text/plain": [
       "     disbursementdate                  digitalLoanAccountId  gen_credo_score  \\\n",
       "0 2024-04-29 17:13:42  ec0662e6-2722-41c4-b483-70f9ff80ca2c         0.076897   \n",
       "1 2024-11-30 11:10:23  5a00b591-2f4c-4aa5-97e5-a9a36f9f5b72         0.292605   \n",
       "2 2023-11-08 12:53:36  183b56bf-1764-4bf7-a348-a70c4f504803         0.150332   \n",
       "3 2024-11-26 18:25:21  e7dd1f77-2200-43a6-afd2-a3ffaa55ebf6         0.184645   \n",
       "4 2024-09-18 15:41:01  1000d052-5dc0-43fd-bebc-df33aac78547         0.232588   \n",
       "\n",
       "   ln_fpd10_flag  ln_mature_fpd10_flag  \n",
       "0              0                     1  \n",
       "1              0                     1  \n",
       "2              0                     1  \n",
       "3              0                     1  \n",
       "4              0                     1  "
      ]
     },
     "execution_count": 106,
     "metadata": {},
     "output_type": "execute_result"
    }
   ],
   "source": [
    "\n",
    "\n",
    "sq = \"\"\"\n",
    "with gen_credo_score as \n",
    "(SELECT \n",
    "    ln_disb_dtime disbursementdate,\n",
    "\tdigitalLoanAccountId,\n",
    "    gen_credo_score,\n",
    "    ln_fpd10_flag,\n",
    "\tln_mature_fpd10_flag,\t\n",
    "\tFROM \n",
    "    prj-prod-dataplatform.risk_mart.sil_risk_ds_master_20230101_20250206\n",
    "  WHERE \n",
    "     -- ln_disb_dtime >= '2023-07-01'\n",
    "    ln_appln_submit_datetime >= '2023-01-01'\n",
    "  -- AND\n",
    "  --   format_date('%Y-%m', ln_disb_dtime) = '2024-09'\n",
    "  AND\n",
    "    ln_fpd10_flag is not null\n",
    "  AND\n",
    "    gen_credo_score is not null\n",
    "  AND\n",
    "    ln_mature_fpd10_flag = 1\n",
    ")\n",
    "select * from gen_credo_score;\n",
    "\"\"\"\n",
    "\n",
    "gen_credo_scorefpd10 = client.query(sq).to_dataframe(progress_bar_type='tqdm')\n",
    "\n",
    "gen_credo_scorefpd10.head()"
   ]
  },
  {
   "cell_type": "code",
   "execution_count": 107,
   "metadata": {},
   "outputs": [
    {
     "name": "stdout",
     "output_type": "stream",
     "text": [
      "The shape of dataframe after copy is:\t(132, 7)\n"
     ]
    },
    {
     "data": {
      "text/plain": [
       "array(['start_date', 'end_date', 'gen_credo_score_FPD10_gini', 'period',\n",
       "       'Model_Name', 'version', 'bad_rate'], dtype=object)"
      ]
     },
     "execution_count": 107,
     "metadata": {},
     "output_type": "execute_result"
    }
   ],
   "source": [
    "gini_results = calculate_periodic_gini(gen_credo_scorefpd10, 'gen_credo_score', 'ln_fpd10_flag', 'FPD10')\n",
    "M1FPD10 = gini_results.copy()\n",
    "print(f\"The shape of dataframe after copy is:\\t{M1FPD10.shape}\")\n",
    "M1FPD10.columns.values"
   ]
  },
  {
   "cell_type": "code",
   "execution_count": 108,
   "metadata": {},
   "outputs": [
    {
     "data": {
      "text/html": [
       "<div>\n",
       "<style scoped>\n",
       "    .dataframe tbody tr th:only-of-type {\n",
       "        vertical-align: middle;\n",
       "    }\n",
       "\n",
       "    .dataframe tbody tr th {\n",
       "        vertical-align: top;\n",
       "    }\n",
       "\n",
       "    .dataframe thead th {\n",
       "        text-align: right;\n",
       "    }\n",
       "</style>\n",
       "<table border=\"1\" class=\"dataframe\">\n",
       "  <thead>\n",
       "    <tr style=\"text-align: right;\">\n",
       "      <th></th>\n",
       "      <th>start_date</th>\n",
       "      <th>end_date</th>\n",
       "      <th>gen_credo_score_FPD10_gini</th>\n",
       "      <th>period</th>\n",
       "      <th>Model_Name</th>\n",
       "      <th>version</th>\n",
       "      <th>bad_rate</th>\n",
       "    </tr>\n",
       "  </thead>\n",
       "  <tbody>\n",
       "    <tr>\n",
       "      <th>0</th>\n",
       "      <td>2023-01-01</td>\n",
       "      <td>2023-01-31</td>\n",
       "      <td>0.246725</td>\n",
       "      <td>Month</td>\n",
       "      <td>gen_credo_score</td>\n",
       "      <td>1.1.0</td>\n",
       "      <td>FPD10</td>\n",
       "    </tr>\n",
       "    <tr>\n",
       "      <th>1</th>\n",
       "      <td>2023-01-02</td>\n",
       "      <td>2023-01-08</td>\n",
       "      <td>0.301125</td>\n",
       "      <td>Week</td>\n",
       "      <td>gen_credo_score</td>\n",
       "      <td>1.1.0</td>\n",
       "      <td>FPD10</td>\n",
       "    </tr>\n",
       "    <tr>\n",
       "      <th>2</th>\n",
       "      <td>2023-01-09</td>\n",
       "      <td>2023-01-15</td>\n",
       "      <td>0.273400</td>\n",
       "      <td>Week</td>\n",
       "      <td>gen_credo_score</td>\n",
       "      <td>1.1.0</td>\n",
       "      <td>FPD10</td>\n",
       "    </tr>\n",
       "    <tr>\n",
       "      <th>3</th>\n",
       "      <td>2023-01-16</td>\n",
       "      <td>2023-01-22</td>\n",
       "      <td>0.667532</td>\n",
       "      <td>Week</td>\n",
       "      <td>gen_credo_score</td>\n",
       "      <td>1.1.0</td>\n",
       "      <td>FPD10</td>\n",
       "    </tr>\n",
       "    <tr>\n",
       "      <th>4</th>\n",
       "      <td>2023-01-23</td>\n",
       "      <td>2023-01-29</td>\n",
       "      <td>0.086505</td>\n",
       "      <td>Week</td>\n",
       "      <td>gen_credo_score</td>\n",
       "      <td>1.1.0</td>\n",
       "      <td>FPD10</td>\n",
       "    </tr>\n",
       "  </tbody>\n",
       "</table>\n",
       "</div>"
      ],
      "text/plain": [
       "  start_date   end_date  gen_credo_score_FPD10_gini period       Model_Name  \\\n",
       "0 2023-01-01 2023-01-31                    0.246725  Month  gen_credo_score   \n",
       "1 2023-01-02 2023-01-08                    0.301125   Week  gen_credo_score   \n",
       "2 2023-01-09 2023-01-15                    0.273400   Week  gen_credo_score   \n",
       "3 2023-01-16 2023-01-22                    0.667532   Week  gen_credo_score   \n",
       "4 2023-01-23 2023-01-29                    0.086505   Week  gen_credo_score   \n",
       "\n",
       "  version bad_rate  \n",
       "0   1.1.0    FPD10  \n",
       "1   1.1.0    FPD10  \n",
       "2   1.1.0    FPD10  \n",
       "3   1.1.0    FPD10  \n",
       "4   1.1.0    FPD10  "
      ]
     },
     "execution_count": 108,
     "metadata": {},
     "output_type": "execute_result"
    }
   ],
   "source": [
    "M1FPD10.head()"
   ]
  },
  {
   "cell_type": "markdown",
   "metadata": {},
   "source": [
    "## FPD30"
   ]
  },
  {
   "cell_type": "code",
   "execution_count": 109,
   "metadata": {},
   "outputs": [
    {
     "name": "stdout",
     "output_type": "stream",
     "text": [
      "Job ID 0cb97077-967c-4d8e-a645-fa03070e1bad successfully executed: 100%|\u001b[32m██████████\u001b[0m|"
     ]
    },
    {
     "name": "stderr",
     "output_type": "stream",
     "text": [
      "d:\\Anaconda3\\envs\\inc_env\\lib\\site-packages\\google\\cloud\\bigquery\\table.py:1820: UserWarning: BigQuery Storage module not found, fetch data with the REST endpoint instead.\n",
      "  warnings.warn(\n"
     ]
    },
    {
     "name": "stdout",
     "output_type": "stream",
     "text": [
      "\n",
      "Downloading: 100%|\u001b[32m██████████\u001b[0m|\n"
     ]
    },
    {
     "data": {
      "text/html": [
       "<div>\n",
       "<style scoped>\n",
       "    .dataframe tbody tr th:only-of-type {\n",
       "        vertical-align: middle;\n",
       "    }\n",
       "\n",
       "    .dataframe tbody tr th {\n",
       "        vertical-align: top;\n",
       "    }\n",
       "\n",
       "    .dataframe thead th {\n",
       "        text-align: right;\n",
       "    }\n",
       "</style>\n",
       "<table border=\"1\" class=\"dataframe\">\n",
       "  <thead>\n",
       "    <tr style=\"text-align: right;\">\n",
       "      <th></th>\n",
       "      <th>disbursementdate</th>\n",
       "      <th>digitalLoanAccountId</th>\n",
       "      <th>gen_credo_score</th>\n",
       "      <th>ln_fpd30_flag</th>\n",
       "      <th>ln_mature_fpd30_flag</th>\n",
       "    </tr>\n",
       "  </thead>\n",
       "  <tbody>\n",
       "    <tr>\n",
       "      <th>0</th>\n",
       "      <td>2024-04-29 17:13:42</td>\n",
       "      <td>ec0662e6-2722-41c4-b483-70f9ff80ca2c</td>\n",
       "      <td>0.076897</td>\n",
       "      <td>0</td>\n",
       "      <td>1</td>\n",
       "    </tr>\n",
       "    <tr>\n",
       "      <th>1</th>\n",
       "      <td>2024-11-30 11:10:23</td>\n",
       "      <td>5a00b591-2f4c-4aa5-97e5-a9a36f9f5b72</td>\n",
       "      <td>0.292605</td>\n",
       "      <td>0</td>\n",
       "      <td>1</td>\n",
       "    </tr>\n",
       "    <tr>\n",
       "      <th>2</th>\n",
       "      <td>2023-11-08 12:53:36</td>\n",
       "      <td>183b56bf-1764-4bf7-a348-a70c4f504803</td>\n",
       "      <td>0.150332</td>\n",
       "      <td>0</td>\n",
       "      <td>1</td>\n",
       "    </tr>\n",
       "    <tr>\n",
       "      <th>3</th>\n",
       "      <td>2024-11-26 18:25:21</td>\n",
       "      <td>e7dd1f77-2200-43a6-afd2-a3ffaa55ebf6</td>\n",
       "      <td>0.184645</td>\n",
       "      <td>0</td>\n",
       "      <td>1</td>\n",
       "    </tr>\n",
       "    <tr>\n",
       "      <th>4</th>\n",
       "      <td>2024-09-18 15:41:01</td>\n",
       "      <td>1000d052-5dc0-43fd-bebc-df33aac78547</td>\n",
       "      <td>0.232588</td>\n",
       "      <td>0</td>\n",
       "      <td>1</td>\n",
       "    </tr>\n",
       "  </tbody>\n",
       "</table>\n",
       "</div>"
      ],
      "text/plain": [
       "     disbursementdate                  digitalLoanAccountId  gen_credo_score  \\\n",
       "0 2024-04-29 17:13:42  ec0662e6-2722-41c4-b483-70f9ff80ca2c         0.076897   \n",
       "1 2024-11-30 11:10:23  5a00b591-2f4c-4aa5-97e5-a9a36f9f5b72         0.292605   \n",
       "2 2023-11-08 12:53:36  183b56bf-1764-4bf7-a348-a70c4f504803         0.150332   \n",
       "3 2024-11-26 18:25:21  e7dd1f77-2200-43a6-afd2-a3ffaa55ebf6         0.184645   \n",
       "4 2024-09-18 15:41:01  1000d052-5dc0-43fd-bebc-df33aac78547         0.232588   \n",
       "\n",
       "   ln_fpd30_flag  ln_mature_fpd30_flag  \n",
       "0              0                     1  \n",
       "1              0                     1  \n",
       "2              0                     1  \n",
       "3              0                     1  \n",
       "4              0                     1  "
      ]
     },
     "execution_count": 109,
     "metadata": {},
     "output_type": "execute_result"
    }
   ],
   "source": [
    "sq = \"\"\"\n",
    "with gen_credo_score as \n",
    "(SELECT \n",
    "    ln_disb_dtime disbursementdate,\n",
    "\tdigitalLoanAccountId,\n",
    "    gen_credo_score,\n",
    "    ln_fpd30_flag,\n",
    "\tln_mature_fpd30_flag,\t\n",
    "\tFROM \n",
    "    prj-prod-dataplatform.risk_mart.sil_risk_ds_master_20230101_20250206\n",
    "  WHERE \n",
    "     -- ln_disb_dtime >= '2023-07-01'\n",
    "    ln_appln_submit_datetime >= '2023-01-01'\n",
    "  -- AND\n",
    "  --   format_date('%Y-%m', ln_disb_dtime) = '2024-09'\n",
    "  AND\n",
    "    ln_fpd30_flag is not null\n",
    "  AND\n",
    "    gen_credo_score is not null\n",
    "  AND\n",
    "    ln_mature_fpd30_flag = 1\n",
    ")\n",
    "select * from gen_credo_score;\n",
    "\"\"\"\n",
    "\n",
    "gen_credo_scorefpd30 = client.query(sq).to_dataframe(progress_bar_type='tqdm')\n",
    "\n",
    "gen_credo_scorefpd30.head()"
   ]
  },
  {
   "cell_type": "code",
   "execution_count": 110,
   "metadata": {},
   "outputs": [
    {
     "data": {
      "text/html": [
       "<div>\n",
       "<style scoped>\n",
       "    .dataframe tbody tr th:only-of-type {\n",
       "        vertical-align: middle;\n",
       "    }\n",
       "\n",
       "    .dataframe tbody tr th {\n",
       "        vertical-align: top;\n",
       "    }\n",
       "\n",
       "    .dataframe thead th {\n",
       "        text-align: right;\n",
       "    }\n",
       "</style>\n",
       "<table border=\"1\" class=\"dataframe\">\n",
       "  <thead>\n",
       "    <tr style=\"text-align: right;\">\n",
       "      <th></th>\n",
       "      <th>disbursementdate</th>\n",
       "      <th>digitalLoanAccountId</th>\n",
       "      <th>gen_credo_score</th>\n",
       "      <th>ln_fpd30_flag</th>\n",
       "      <th>ln_mature_fpd30_flag</th>\n",
       "    </tr>\n",
       "  </thead>\n",
       "  <tbody>\n",
       "    <tr>\n",
       "      <th>0</th>\n",
       "      <td>2024-04-29 17:13:42</td>\n",
       "      <td>ec0662e6-2722-41c4-b483-70f9ff80ca2c</td>\n",
       "      <td>0.076897</td>\n",
       "      <td>0</td>\n",
       "      <td>1</td>\n",
       "    </tr>\n",
       "    <tr>\n",
       "      <th>1</th>\n",
       "      <td>2024-11-30 11:10:23</td>\n",
       "      <td>5a00b591-2f4c-4aa5-97e5-a9a36f9f5b72</td>\n",
       "      <td>0.292605</td>\n",
       "      <td>0</td>\n",
       "      <td>1</td>\n",
       "    </tr>\n",
       "    <tr>\n",
       "      <th>2</th>\n",
       "      <td>2023-11-08 12:53:36</td>\n",
       "      <td>183b56bf-1764-4bf7-a348-a70c4f504803</td>\n",
       "      <td>0.150332</td>\n",
       "      <td>0</td>\n",
       "      <td>1</td>\n",
       "    </tr>\n",
       "    <tr>\n",
       "      <th>3</th>\n",
       "      <td>2024-11-26 18:25:21</td>\n",
       "      <td>e7dd1f77-2200-43a6-afd2-a3ffaa55ebf6</td>\n",
       "      <td>0.184645</td>\n",
       "      <td>0</td>\n",
       "      <td>1</td>\n",
       "    </tr>\n",
       "    <tr>\n",
       "      <th>4</th>\n",
       "      <td>2024-09-18 15:41:01</td>\n",
       "      <td>1000d052-5dc0-43fd-bebc-df33aac78547</td>\n",
       "      <td>0.232588</td>\n",
       "      <td>0</td>\n",
       "      <td>1</td>\n",
       "    </tr>\n",
       "  </tbody>\n",
       "</table>\n",
       "</div>"
      ],
      "text/plain": [
       "     disbursementdate                  digitalLoanAccountId  gen_credo_score  \\\n",
       "0 2024-04-29 17:13:42  ec0662e6-2722-41c4-b483-70f9ff80ca2c         0.076897   \n",
       "1 2024-11-30 11:10:23  5a00b591-2f4c-4aa5-97e5-a9a36f9f5b72         0.292605   \n",
       "2 2023-11-08 12:53:36  183b56bf-1764-4bf7-a348-a70c4f504803         0.150332   \n",
       "3 2024-11-26 18:25:21  e7dd1f77-2200-43a6-afd2-a3ffaa55ebf6         0.184645   \n",
       "4 2024-09-18 15:41:01  1000d052-5dc0-43fd-bebc-df33aac78547         0.232588   \n",
       "\n",
       "   ln_fpd30_flag  ln_mature_fpd30_flag  \n",
       "0              0                     1  \n",
       "1              0                     1  \n",
       "2              0                     1  \n",
       "3              0                     1  \n",
       "4              0                     1  "
      ]
     },
     "execution_count": 110,
     "metadata": {},
     "output_type": "execute_result"
    }
   ],
   "source": [
    "gen_credo_scorefpd30.head()"
   ]
  },
  {
   "cell_type": "code",
   "execution_count": 111,
   "metadata": {},
   "outputs": [
    {
     "name": "stdout",
     "output_type": "stream",
     "text": [
      "The shape of dataframe after copy is:\t(128, 7)\n"
     ]
    },
    {
     "data": {
      "text/plain": [
       "array(['start_date', 'end_date', 'gen_credo_score_FPD30_gini', 'period',\n",
       "       'Model_Name', 'version', 'bad_rate'], dtype=object)"
      ]
     },
     "execution_count": 111,
     "metadata": {},
     "output_type": "execute_result"
    }
   ],
   "source": [
    "gini_results = calculate_periodic_gini(gen_credo_scorefpd30, 'gen_credo_score', 'ln_fpd30_flag', 'FPD30')\n",
    "M2FPD30 = gini_results.copy()\n",
    "print(f\"The shape of dataframe after copy is:\\t{M2FPD30.shape}\")\n",
    "M2FPD30.columns.values"
   ]
  },
  {
   "cell_type": "code",
   "execution_count": 112,
   "metadata": {},
   "outputs": [
    {
     "data": {
      "text/html": [
       "<div>\n",
       "<style scoped>\n",
       "    .dataframe tbody tr th:only-of-type {\n",
       "        vertical-align: middle;\n",
       "    }\n",
       "\n",
       "    .dataframe tbody tr th {\n",
       "        vertical-align: top;\n",
       "    }\n",
       "\n",
       "    .dataframe thead th {\n",
       "        text-align: right;\n",
       "    }\n",
       "</style>\n",
       "<table border=\"1\" class=\"dataframe\">\n",
       "  <thead>\n",
       "    <tr style=\"text-align: right;\">\n",
       "      <th></th>\n",
       "      <th>start_date</th>\n",
       "      <th>end_date</th>\n",
       "      <th>gen_credo_score_FPD30_gini</th>\n",
       "      <th>period</th>\n",
       "      <th>Model_Name</th>\n",
       "      <th>version</th>\n",
       "      <th>bad_rate</th>\n",
       "    </tr>\n",
       "  </thead>\n",
       "  <tbody>\n",
       "    <tr>\n",
       "      <th>0</th>\n",
       "      <td>2023-01-01</td>\n",
       "      <td>2023-01-31</td>\n",
       "      <td>0.253005</td>\n",
       "      <td>Month</td>\n",
       "      <td>gen_credo_score</td>\n",
       "      <td>1.1.0</td>\n",
       "      <td>FPD30</td>\n",
       "    </tr>\n",
       "    <tr>\n",
       "      <th>1</th>\n",
       "      <td>2023-01-02</td>\n",
       "      <td>2023-01-08</td>\n",
       "      <td>0.342149</td>\n",
       "      <td>Week</td>\n",
       "      <td>gen_credo_score</td>\n",
       "      <td>1.1.0</td>\n",
       "      <td>FPD30</td>\n",
       "    </tr>\n",
       "    <tr>\n",
       "      <th>2</th>\n",
       "      <td>2023-01-09</td>\n",
       "      <td>2023-01-15</td>\n",
       "      <td>0.407163</td>\n",
       "      <td>Week</td>\n",
       "      <td>gen_credo_score</td>\n",
       "      <td>1.1.0</td>\n",
       "      <td>FPD30</td>\n",
       "    </tr>\n",
       "    <tr>\n",
       "      <th>3</th>\n",
       "      <td>2023-01-16</td>\n",
       "      <td>2023-01-22</td>\n",
       "      <td>0.667532</td>\n",
       "      <td>Week</td>\n",
       "      <td>gen_credo_score</td>\n",
       "      <td>1.1.0</td>\n",
       "      <td>FPD30</td>\n",
       "    </tr>\n",
       "    <tr>\n",
       "      <th>4</th>\n",
       "      <td>2023-01-23</td>\n",
       "      <td>2023-01-29</td>\n",
       "      <td>0.025547</td>\n",
       "      <td>Week</td>\n",
       "      <td>gen_credo_score</td>\n",
       "      <td>1.1.0</td>\n",
       "      <td>FPD30</td>\n",
       "    </tr>\n",
       "  </tbody>\n",
       "</table>\n",
       "</div>"
      ],
      "text/plain": [
       "  start_date   end_date  gen_credo_score_FPD30_gini period       Model_Name  \\\n",
       "0 2023-01-01 2023-01-31                    0.253005  Month  gen_credo_score   \n",
       "1 2023-01-02 2023-01-08                    0.342149   Week  gen_credo_score   \n",
       "2 2023-01-09 2023-01-15                    0.407163   Week  gen_credo_score   \n",
       "3 2023-01-16 2023-01-22                    0.667532   Week  gen_credo_score   \n",
       "4 2023-01-23 2023-01-29                    0.025547   Week  gen_credo_score   \n",
       "\n",
       "  version bad_rate  \n",
       "0   1.1.0    FPD30  \n",
       "1   1.1.0    FPD30  \n",
       "2   1.1.0    FPD30  \n",
       "3   1.1.0    FPD30  \n",
       "4   1.1.0    FPD30  "
      ]
     },
     "execution_count": 112,
     "metadata": {},
     "output_type": "execute_result"
    }
   ],
   "source": [
    "M2FPD30.head()"
   ]
  },
  {
   "cell_type": "markdown",
   "metadata": {},
   "source": [
    "## FSPD30"
   ]
  },
  {
   "cell_type": "code",
   "execution_count": 113,
   "metadata": {},
   "outputs": [
    {
     "name": "stdout",
     "output_type": "stream",
     "text": [
      "Job ID c1504b1f-1559-454b-8272-e2fcaa97f797 successfully executed: 100%|\u001b[32m██████████\u001b[0m|"
     ]
    },
    {
     "name": "stderr",
     "output_type": "stream",
     "text": [
      "d:\\Anaconda3\\envs\\inc_env\\lib\\site-packages\\google\\cloud\\bigquery\\table.py:1820: UserWarning: BigQuery Storage module not found, fetch data with the REST endpoint instead.\n",
      "  warnings.warn(\n"
     ]
    },
    {
     "name": "stdout",
     "output_type": "stream",
     "text": [
      "\n",
      "Downloading: 100%|\u001b[32m██████████\u001b[0m|\n",
      "     disbursementdate                  digitalLoanAccountId  gen_credo_score  \\\n",
      "0 2023-06-22 14:25:06  12d13dfc-e307-4605-af97-361327cb3247         0.139659   \n",
      "1 2024-07-21 10:34:01  4238aea5-2cbb-4356-879b-71b4d3486fd2         0.054078   \n",
      "\n",
      "   ln_fspd30_flag  ln_mature_fspd30_flag  \n",
      "0               0                      1  \n",
      "1               0                      1  \n",
      "The shape of dataframe after copy is:\t(123, 7)\n",
      "['start_date' 'end_date' 'gen_credo_score_FSPD30_gini' 'period'\n",
      " 'Model_Name' 'version' 'bad_rate']\n"
     ]
    },
    {
     "data": {
      "text/html": [
       "<div>\n",
       "<style scoped>\n",
       "    .dataframe tbody tr th:only-of-type {\n",
       "        vertical-align: middle;\n",
       "    }\n",
       "\n",
       "    .dataframe tbody tr th {\n",
       "        vertical-align: top;\n",
       "    }\n",
       "\n",
       "    .dataframe thead th {\n",
       "        text-align: right;\n",
       "    }\n",
       "</style>\n",
       "<table border=\"1\" class=\"dataframe\">\n",
       "  <thead>\n",
       "    <tr style=\"text-align: right;\">\n",
       "      <th></th>\n",
       "      <th>start_date</th>\n",
       "      <th>end_date</th>\n",
       "      <th>gen_credo_score_FSPD30_gini</th>\n",
       "      <th>period</th>\n",
       "      <th>Model_Name</th>\n",
       "      <th>version</th>\n",
       "      <th>bad_rate</th>\n",
       "    </tr>\n",
       "  </thead>\n",
       "  <tbody>\n",
       "    <tr>\n",
       "      <th>0</th>\n",
       "      <td>2023-01-01</td>\n",
       "      <td>2023-01-31</td>\n",
       "      <td>0.172055</td>\n",
       "      <td>Month</td>\n",
       "      <td>gen_credo_score</td>\n",
       "      <td>1.1.0</td>\n",
       "      <td>FSPD30</td>\n",
       "    </tr>\n",
       "    <tr>\n",
       "      <th>1</th>\n",
       "      <td>2023-01-02</td>\n",
       "      <td>2023-01-08</td>\n",
       "      <td>0.262803</td>\n",
       "      <td>Week</td>\n",
       "      <td>gen_credo_score</td>\n",
       "      <td>1.1.0</td>\n",
       "      <td>FSPD30</td>\n",
       "    </tr>\n",
       "    <tr>\n",
       "      <th>2</th>\n",
       "      <td>2023-01-09</td>\n",
       "      <td>2023-01-15</td>\n",
       "      <td>0.189744</td>\n",
       "      <td>Week</td>\n",
       "      <td>gen_credo_score</td>\n",
       "      <td>1.1.0</td>\n",
       "      <td>FSPD30</td>\n",
       "    </tr>\n",
       "    <tr>\n",
       "      <th>3</th>\n",
       "      <td>2023-01-16</td>\n",
       "      <td>2023-01-22</td>\n",
       "      <td>0.410738</td>\n",
       "      <td>Week</td>\n",
       "      <td>gen_credo_score</td>\n",
       "      <td>1.1.0</td>\n",
       "      <td>FSPD30</td>\n",
       "    </tr>\n",
       "    <tr>\n",
       "      <th>4</th>\n",
       "      <td>2023-01-23</td>\n",
       "      <td>2023-01-29</td>\n",
       "      <td>0.073579</td>\n",
       "      <td>Week</td>\n",
       "      <td>gen_credo_score</td>\n",
       "      <td>1.1.0</td>\n",
       "      <td>FSPD30</td>\n",
       "    </tr>\n",
       "  </tbody>\n",
       "</table>\n",
       "</div>"
      ],
      "text/plain": [
       "  start_date   end_date  gen_credo_score_FSPD30_gini period       Model_Name  \\\n",
       "0 2023-01-01 2023-01-31                     0.172055  Month  gen_credo_score   \n",
       "1 2023-01-02 2023-01-08                     0.262803   Week  gen_credo_score   \n",
       "2 2023-01-09 2023-01-15                     0.189744   Week  gen_credo_score   \n",
       "3 2023-01-16 2023-01-22                     0.410738   Week  gen_credo_score   \n",
       "4 2023-01-23 2023-01-29                     0.073579   Week  gen_credo_score   \n",
       "\n",
       "  version bad_rate  \n",
       "0   1.1.0   FSPD30  \n",
       "1   1.1.0   FSPD30  \n",
       "2   1.1.0   FSPD30  \n",
       "3   1.1.0   FSPD30  \n",
       "4   1.1.0   FSPD30  "
      ]
     },
     "execution_count": 113,
     "metadata": {},
     "output_type": "execute_result"
    }
   ],
   "source": [
    "sq = \"\"\"\n",
    "with gen_credo_score as \n",
    "(SELECT \n",
    "    ln_disb_dtime disbursementdate,\n",
    "\tdigitalLoanAccountId,\n",
    "    gen_credo_score,\n",
    "    ln_fspd30_flag,\n",
    "\tln_mature_fspd30_flag,\t\n",
    "\tFROM \n",
    "    prj-prod-dataplatform.risk_mart.sil_risk_ds_master_20230101_20250206\n",
    "  WHERE \n",
    "     -- ln_disb_dtime >= '2023-07-01'\n",
    "    ln_appln_submit_datetime >= '2023-01-01'\n",
    "  -- AND\n",
    "  --   format_date('%Y-%m', ln_disb_dtime) = '2024-09'\n",
    "  AND\n",
    "    ln_fspd30_flag is not null\n",
    "  AND\n",
    "    gen_credo_score is not null\n",
    "  AND\n",
    "    ln_mature_fspd30_flag = 1\n",
    ")\n",
    "select * from gen_credo_score;\n",
    "\"\"\"\n",
    "\n",
    "gen_credo_scorefspd30 = client.query(sq).to_dataframe(progress_bar_type='tqdm')\n",
    "\n",
    "print(gen_credo_scorefspd30.head(2))\n",
    "\n",
    "gini_results = calculate_periodic_gini(gen_credo_scorefspd30, 'gen_credo_score', 'ln_fspd30_flag', 'FSPD30')\n",
    "M3FSPD30 = gini_results.copy()\n",
    "print(f\"The shape of dataframe after copy is:\\t{M3FSPD30.shape}\")\n",
    "print(M3FSPD30.columns.values)\n",
    "\n",
    "M3FSPD30.head()"
   ]
  },
  {
   "cell_type": "markdown",
   "metadata": {},
   "source": [
    "## FSTPD30"
   ]
  },
  {
   "cell_type": "code",
   "execution_count": 114,
   "metadata": {},
   "outputs": [
    {
     "name": "stdout",
     "output_type": "stream",
     "text": [
      "Job ID 6c1b0ad7-4b8b-4a2b-95c9-8cabdd0f5c72 successfully executed: 100%|\u001b[32m██████████\u001b[0m|"
     ]
    },
    {
     "name": "stderr",
     "output_type": "stream",
     "text": [
      "d:\\Anaconda3\\envs\\inc_env\\lib\\site-packages\\google\\cloud\\bigquery\\table.py:1820: UserWarning: BigQuery Storage module not found, fetch data with the REST endpoint instead.\n",
      "  warnings.warn(\n"
     ]
    },
    {
     "name": "stdout",
     "output_type": "stream",
     "text": [
      "\n",
      "Downloading: 100%|\u001b[32m██████████\u001b[0m|\n",
      "     disbursementdate                  digitalLoanAccountId  gen_credo_score  \\\n",
      "0 2024-04-29 17:13:42  ec0662e6-2722-41c4-b483-70f9ff80ca2c         0.076897   \n",
      "1 2023-11-08 12:53:36  183b56bf-1764-4bf7-a348-a70c4f504803         0.150332   \n",
      "\n",
      "   ln_fstpd30_flag  ln_mature_fstpd30_flag  \n",
      "0                0                       1  \n",
      "1                1                       1  \n",
      "The shape of dataframe after copy is:\t(117, 7)\n",
      "['start_date' 'end_date' 'gen_credo_score_FSTPD30_gini' 'period'\n",
      " 'Model_Name' 'version' 'bad_rate']\n"
     ]
    },
    {
     "data": {
      "text/html": [
       "<div>\n",
       "<style scoped>\n",
       "    .dataframe tbody tr th:only-of-type {\n",
       "        vertical-align: middle;\n",
       "    }\n",
       "\n",
       "    .dataframe tbody tr th {\n",
       "        vertical-align: top;\n",
       "    }\n",
       "\n",
       "    .dataframe thead th {\n",
       "        text-align: right;\n",
       "    }\n",
       "</style>\n",
       "<table border=\"1\" class=\"dataframe\">\n",
       "  <thead>\n",
       "    <tr style=\"text-align: right;\">\n",
       "      <th></th>\n",
       "      <th>start_date</th>\n",
       "      <th>end_date</th>\n",
       "      <th>gen_credo_score_FSTPD30_gini</th>\n",
       "      <th>period</th>\n",
       "      <th>Model_Name</th>\n",
       "      <th>version</th>\n",
       "      <th>bad_rate</th>\n",
       "    </tr>\n",
       "  </thead>\n",
       "  <tbody>\n",
       "    <tr>\n",
       "      <th>0</th>\n",
       "      <td>2023-01-01</td>\n",
       "      <td>2023-01-31</td>\n",
       "      <td>0.180837</td>\n",
       "      <td>Month</td>\n",
       "      <td>gen_credo_score</td>\n",
       "      <td>1.1.0</td>\n",
       "      <td>FSTPD30</td>\n",
       "    </tr>\n",
       "    <tr>\n",
       "      <th>1</th>\n",
       "      <td>2023-01-02</td>\n",
       "      <td>2023-01-08</td>\n",
       "      <td>0.282959</td>\n",
       "      <td>Week</td>\n",
       "      <td>gen_credo_score</td>\n",
       "      <td>1.1.0</td>\n",
       "      <td>FSTPD30</td>\n",
       "    </tr>\n",
       "    <tr>\n",
       "      <th>2</th>\n",
       "      <td>2023-01-09</td>\n",
       "      <td>2023-01-15</td>\n",
       "      <td>0.189908</td>\n",
       "      <td>Week</td>\n",
       "      <td>gen_credo_score</td>\n",
       "      <td>1.1.0</td>\n",
       "      <td>FSTPD30</td>\n",
       "    </tr>\n",
       "    <tr>\n",
       "      <th>3</th>\n",
       "      <td>2023-01-16</td>\n",
       "      <td>2023-01-22</td>\n",
       "      <td>0.198840</td>\n",
       "      <td>Week</td>\n",
       "      <td>gen_credo_score</td>\n",
       "      <td>1.1.0</td>\n",
       "      <td>FSTPD30</td>\n",
       "    </tr>\n",
       "    <tr>\n",
       "      <th>4</th>\n",
       "      <td>2023-01-23</td>\n",
       "      <td>2023-01-29</td>\n",
       "      <td>0.162845</td>\n",
       "      <td>Week</td>\n",
       "      <td>gen_credo_score</td>\n",
       "      <td>1.1.0</td>\n",
       "      <td>FSTPD30</td>\n",
       "    </tr>\n",
       "  </tbody>\n",
       "</table>\n",
       "</div>"
      ],
      "text/plain": [
       "  start_date   end_date  gen_credo_score_FSTPD30_gini period       Model_Name  \\\n",
       "0 2023-01-01 2023-01-31                      0.180837  Month  gen_credo_score   \n",
       "1 2023-01-02 2023-01-08                      0.282959   Week  gen_credo_score   \n",
       "2 2023-01-09 2023-01-15                      0.189908   Week  gen_credo_score   \n",
       "3 2023-01-16 2023-01-22                      0.198840   Week  gen_credo_score   \n",
       "4 2023-01-23 2023-01-29                      0.162845   Week  gen_credo_score   \n",
       "\n",
       "  version bad_rate  \n",
       "0   1.1.0  FSTPD30  \n",
       "1   1.1.0  FSTPD30  \n",
       "2   1.1.0  FSTPD30  \n",
       "3   1.1.0  FSTPD30  \n",
       "4   1.1.0  FSTPD30  "
      ]
     },
     "execution_count": 114,
     "metadata": {},
     "output_type": "execute_result"
    }
   ],
   "source": [
    "sq = \"\"\"\n",
    "with gen_credo_score as \n",
    "(SELECT \n",
    "    ln_disb_dtime disbursementdate,\n",
    "\tdigitalLoanAccountId,\n",
    "    gen_credo_score,\n",
    "    ln_fstpd30_flag,\n",
    "\tln_mature_fstpd30_flag,\t\n",
    "\tFROM \n",
    "    prj-prod-dataplatform.risk_mart.sil_risk_ds_master_20230101_20250206\n",
    "  WHERE \n",
    "     -- ln_disb_dtime >= '2023-07-01'\n",
    "    ln_appln_submit_datetime >= '2023-01-01'\n",
    "  -- AND\n",
    "  --   format_date('%Y-%m', ln_disb_dtime) = '2024-09'\n",
    "  AND\n",
    "    ln_fstpd30_flag is not null\n",
    "  AND\n",
    "    gen_credo_score is not null\n",
    "  AND\n",
    "    ln_mature_fstpd30_flag = 1\n",
    ")\n",
    "select * from gen_credo_score;\n",
    "\"\"\"\n",
    "\n",
    "gen_credo_scorefstpd30 = client.query(sq).to_dataframe(progress_bar_type='tqdm')\n",
    "\n",
    "print(gen_credo_scorefstpd30.head(2))\n",
    "\n",
    "gini_results = calculate_periodic_gini(gen_credo_scorefstpd30, 'gen_credo_score', 'ln_fstpd30_flag', 'FSTPD30')\n",
    "M4FSTPD30 = gini_results.copy()\n",
    "print(f\"The shape of dataframe after copy is:\\t{M4FSTPD30.shape}\")\n",
    "print(M4FSTPD30.columns.values)\n",
    "\n",
    "M4FSTPD30.head()"
   ]
  },
  {
   "cell_type": "markdown",
   "metadata": {},
   "source": [
    "## Combining tables "
   ]
  },
  {
   "cell_type": "code",
   "execution_count": 115,
   "metadata": {},
   "outputs": [
    {
     "data": {
      "text/plain": [
       "array(['start_date', 'end_date', 'gen_credo_score_FPD10_gini', 'period',\n",
       "       'Model_Name', 'version', 'bad_rate', 'gen_credo_score_FPD30_gini',\n",
       "       'gen_credo_score_FSPD30_gini', 'gen_credo_score_FSTPD30_gini'],\n",
       "      dtype=object)"
      ]
     },
     "execution_count": 115,
     "metadata": {},
     "output_type": "execute_result"
    }
   ],
   "source": [
    "import functools\n",
    "\n",
    "dataframes = [M1FPD10, M2FPD30, M3FSPD30, M4FSTPD30]\n",
    "common_columns = ['start_date', 'end_date', 'period', 'Model_Name','version', 'bad_rate']\n",
    "\n",
    "def merge_dataframes(df1, df2):\n",
    "    return pd.merge(df1, df2, on=common_columns, how='outer')\n",
    "\n",
    "final_df = functools.reduce(merge_dataframes, dataframes)\n",
    "\n",
    "final_df.columns.values"
   ]
  },
  {
   "cell_type": "code",
   "execution_count": 116,
   "metadata": {},
   "outputs": [],
   "source": [
    "final_df = final_df[['start_date', 'end_date','period',\n",
    "       'Model_Name', 'version', 'bad_rate', 'gen_credo_score_FPD10_gini','gen_credo_score_FPD30_gini',   'gen_credo_score_FSPD30_gini', 'gen_credo_score_FSTPD30_gini']].copy()"
   ]
  },
  {
   "cell_type": "code",
   "execution_count": 117,
   "metadata": {},
   "outputs": [
    {
     "data": {
      "text/plain": [
       "QueryJob<project=prj-prod-dataplatform, location=asia-southeast1, id=79e4f877-0c82-47e6-8f51-5de3040d61c1>"
      ]
     },
     "execution_count": 117,
     "metadata": {},
     "output_type": "execute_result"
    }
   ],
   "source": [
    "sq = \"\"\"drop table if exists prj-prod-dataplatform.dap_ds_poweruser_playground.Model_gini_gen_credo_score;\"\"\"\n",
    "\n",
    "client.query(sq)"
   ]
  },
  {
   "cell_type": "code",
   "execution_count": 118,
   "metadata": {},
   "outputs": [
    {
     "data": {
      "text/plain": [
       "LoadJob<project=prj-prod-dataplatform, location=asia-southeast1, id=a7649c18-4255-4ffa-b21f-7bcb9df39532>"
      ]
     },
     "execution_count": 118,
     "metadata": {},
     "output_type": "execute_result"
    }
   ],
   "source": [
    "import pandas as pd\n",
    "from google.cloud import bigquery\n",
    "\n",
    "# Create a BigQuery client\n",
    "client = bigquery.Client('prj-prod-dataplatform')\n",
    "\n",
    "# Define your table schema\n",
    "table_schema = [\n",
    "    bigquery.SchemaField('start_date', 'TIMESTAMP'),\n",
    "    bigquery.SchemaField('end_date', 'TIMESTAMP'),\n",
    "    bigquery.SchemaField('period', 'STRING'),\n",
    "    bigquery.SchemaField('Model_Name', 'STRING'),\n",
    "    bigquery.SchemaField('version', 'STRING'),\n",
    "    bigquery.SchemaField('Badrate', 'STRING'),\n",
    "    bigquery.SchemaField('gen_credo_score_FPD10_gini', 'FLOAT'),\n",
    "    bigquery.SchemaField('gen_credo_score_FPD30_gini', 'FLOAT'),    \n",
    "    bigquery.SchemaField('gen_credo_score_FSPD30_gini', 'FLOAT'),\n",
    "    bigquery.SchemaField('gen_credo_score_FSTPD30_gini', 'FLOAT')\n",
    "    \n",
    "]\n",
    "\n",
    "# Create your BigQuery table\n",
    "table_id = 'prj-prod-dataplatform.dap_ds_poweruser_playground.Model_gini_gen_credo_score'\n",
    "table = bigquery.Table(table_id, schema=table_schema)\n",
    "table = client.create_table(table)\n",
    "\n",
    "# Load your DataFrame into BigQuery\n",
    "job_config = bigquery.LoadJobConfig(\n",
    "    write_disposition='WRITE_TRUNCATE'\n",
    ")\n",
    "\n",
    "load_job = client.load_table_from_dataframe(\n",
    "    final_df, table_id, job_config=job_config\n",
    ")\n",
    "\n",
    "load_job.result()"
   ]
  },
  {
   "cell_type": "markdown",
   "metadata": {},
   "source": [
    "# c_credo_score"
   ]
  },
  {
   "cell_type": "code",
   "execution_count": 119,
   "metadata": {},
   "outputs": [
    {
     "name": "stdout",
     "output_type": "stream",
     "text": [
      "Job ID 6c262fec-e455-4344-a431-f984d27d18f2 successfully executed: 100%|\u001b[32m██████████\u001b[0m|"
     ]
    },
    {
     "name": "stderr",
     "output_type": "stream",
     "text": [
      "d:\\Anaconda3\\envs\\inc_env\\lib\\site-packages\\google\\cloud\\bigquery\\table.py:1820: UserWarning: BigQuery Storage module not found, fetch data with the REST endpoint instead.\n",
      "  warnings.warn(\n"
     ]
    },
    {
     "name": "stdout",
     "output_type": "stream",
     "text": [
      "\n",
      "Downloading: 100%|\u001b[32m██████████\u001b[0m|\n",
      "The shape of dataframe after copy is:\t(132, 7)\n",
      "Job ID 436196a2-5ef3-4b86-9485-a85727edc036 successfully executed: 100%|\u001b[32m██████████\u001b[0m|"
     ]
    },
    {
     "name": "stderr",
     "output_type": "stream",
     "text": [
      "d:\\Anaconda3\\envs\\inc_env\\lib\\site-packages\\google\\cloud\\bigquery\\table.py:1820: UserWarning: BigQuery Storage module not found, fetch data with the REST endpoint instead.\n",
      "  warnings.warn(\n"
     ]
    },
    {
     "name": "stdout",
     "output_type": "stream",
     "text": [
      "\n",
      "Downloading: 100%|\u001b[32m██████████\u001b[0m|\n",
      "The shape of dataframe after copy is:\t(128, 7)\n",
      "Job ID 3b1f5415-b0bf-4a77-9922-89eac0ec0ab5 successfully executed: 100%|\u001b[32m██████████\u001b[0m|"
     ]
    },
    {
     "name": "stderr",
     "output_type": "stream",
     "text": [
      "d:\\Anaconda3\\envs\\inc_env\\lib\\site-packages\\google\\cloud\\bigquery\\table.py:1820: UserWarning: BigQuery Storage module not found, fetch data with the REST endpoint instead.\n",
      "  warnings.warn(\n"
     ]
    },
    {
     "name": "stdout",
     "output_type": "stream",
     "text": [
      "\n",
      "Downloading: 100%|\u001b[32m██████████\u001b[0m|\n",
      "     disbursementdate                  digitalLoanAccountId  c_credo_score  \\\n",
      "0 2023-06-22 14:25:06  12d13dfc-e307-4605-af97-361327cb3247       0.381071   \n",
      "1 2024-07-21 10:34:01  4238aea5-2cbb-4356-879b-71b4d3486fd2       0.568046   \n",
      "\n",
      "   ln_fspd30_flag  ln_mature_fspd30_flag  \n",
      "0               0                      1  \n",
      "1               0                      1  \n",
      "The shape of dataframe after copy is:\t(123, 7)\n",
      "['start_date' 'end_date' 'c_credo_score_FSPD30_gini' 'period' 'Model_Name'\n",
      " 'version' 'bad_rate']\n",
      "Job ID 0eeaf4bb-5be9-48fc-b324-d3cb8932a2d9 successfully executed: 100%|\u001b[32m██████████\u001b[0m|"
     ]
    },
    {
     "name": "stderr",
     "output_type": "stream",
     "text": [
      "d:\\Anaconda3\\envs\\inc_env\\lib\\site-packages\\google\\cloud\\bigquery\\table.py:1820: UserWarning: BigQuery Storage module not found, fetch data with the REST endpoint instead.\n",
      "  warnings.warn(\n"
     ]
    },
    {
     "name": "stdout",
     "output_type": "stream",
     "text": [
      "\n",
      "Downloading: 100%|\u001b[32m██████████\u001b[0m|\n",
      "     disbursementdate                  digitalLoanAccountId  c_credo_score  \\\n",
      "0 2023-06-22 14:25:06  12d13dfc-e307-4605-af97-361327cb3247       0.381071   \n",
      "1 2024-07-21 10:34:01  4238aea5-2cbb-4356-879b-71b4d3486fd2       0.568046   \n",
      "\n",
      "   ln_fstpd30_flag  ln_mature_fstpd30_flag  \n",
      "0                0                       1  \n",
      "1                0                       1  \n",
      "The shape of dataframe after copy is:\t(117, 7)\n",
      "['start_date' 'end_date' 'c_credo_score_FSTPD30_gini' 'period'\n",
      " 'Model_Name' 'version' 'bad_rate']\n"
     ]
    },
    {
     "data": {
      "text/html": [
       "<div>\n",
       "<style scoped>\n",
       "    .dataframe tbody tr th:only-of-type {\n",
       "        vertical-align: middle;\n",
       "    }\n",
       "\n",
       "    .dataframe tbody tr th {\n",
       "        vertical-align: top;\n",
       "    }\n",
       "\n",
       "    .dataframe thead th {\n",
       "        text-align: right;\n",
       "    }\n",
       "</style>\n",
       "<table border=\"1\" class=\"dataframe\">\n",
       "  <thead>\n",
       "    <tr style=\"text-align: right;\">\n",
       "      <th></th>\n",
       "      <th>start_date</th>\n",
       "      <th>end_date</th>\n",
       "      <th>c_credo_score_FSTPD30_gini</th>\n",
       "      <th>period</th>\n",
       "      <th>Model_Name</th>\n",
       "      <th>version</th>\n",
       "      <th>bad_rate</th>\n",
       "    </tr>\n",
       "  </thead>\n",
       "  <tbody>\n",
       "    <tr>\n",
       "      <th>0</th>\n",
       "      <td>2023-01-01</td>\n",
       "      <td>2023-01-31</td>\n",
       "      <td>0.035948</td>\n",
       "      <td>Month</td>\n",
       "      <td>c_credo_score</td>\n",
       "      <td>1.1.0</td>\n",
       "      <td>FSTPD30</td>\n",
       "    </tr>\n",
       "    <tr>\n",
       "      <th>1</th>\n",
       "      <td>2023-01-02</td>\n",
       "      <td>2023-01-08</td>\n",
       "      <td>0.036009</td>\n",
       "      <td>Week</td>\n",
       "      <td>c_credo_score</td>\n",
       "      <td>1.1.0</td>\n",
       "      <td>FSTPD30</td>\n",
       "    </tr>\n",
       "    <tr>\n",
       "      <th>2</th>\n",
       "      <td>2023-01-09</td>\n",
       "      <td>2023-01-15</td>\n",
       "      <td>0.062143</td>\n",
       "      <td>Week</td>\n",
       "      <td>c_credo_score</td>\n",
       "      <td>1.1.0</td>\n",
       "      <td>FSTPD30</td>\n",
       "    </tr>\n",
       "    <tr>\n",
       "      <th>3</th>\n",
       "      <td>2023-01-16</td>\n",
       "      <td>2023-01-22</td>\n",
       "      <td>0.275891</td>\n",
       "      <td>Week</td>\n",
       "      <td>c_credo_score</td>\n",
       "      <td>1.1.0</td>\n",
       "      <td>FSTPD30</td>\n",
       "    </tr>\n",
       "    <tr>\n",
       "      <th>4</th>\n",
       "      <td>2023-01-23</td>\n",
       "      <td>2023-01-29</td>\n",
       "      <td>-0.050558</td>\n",
       "      <td>Week</td>\n",
       "      <td>c_credo_score</td>\n",
       "      <td>1.1.0</td>\n",
       "      <td>FSTPD30</td>\n",
       "    </tr>\n",
       "  </tbody>\n",
       "</table>\n",
       "</div>"
      ],
      "text/plain": [
       "  start_date   end_date  c_credo_score_FSTPD30_gini period     Model_Name  \\\n",
       "0 2023-01-01 2023-01-31                    0.035948  Month  c_credo_score   \n",
       "1 2023-01-02 2023-01-08                    0.036009   Week  c_credo_score   \n",
       "2 2023-01-09 2023-01-15                    0.062143   Week  c_credo_score   \n",
       "3 2023-01-16 2023-01-22                    0.275891   Week  c_credo_score   \n",
       "4 2023-01-23 2023-01-29                   -0.050558   Week  c_credo_score   \n",
       "\n",
       "  version bad_rate  \n",
       "0   1.1.0  FSTPD30  \n",
       "1   1.1.0  FSTPD30  \n",
       "2   1.1.0  FSTPD30  \n",
       "3   1.1.0  FSTPD30  \n",
       "4   1.1.0  FSTPD30  "
      ]
     },
     "execution_count": 119,
     "metadata": {},
     "output_type": "execute_result"
    }
   ],
   "source": [
    "sq = \"\"\"\n",
    "with c_credo_score as \n",
    "(SELECT \n",
    "    ln_disb_dtime disbursementdate,\n",
    "\tdigitalLoanAccountId,\n",
    "    c_credo_score,\n",
    "    ln_fpd10_flag,\n",
    "\tln_mature_fpd10_flag,\t\n",
    "\tFROM \n",
    "    prj-prod-dataplatform.risk_mart.sil_risk_ds_master_20230101_20250206\n",
    "  WHERE \n",
    "     -- ln_disb_dtime >= '2023-07-01'\n",
    "    ln_appln_submit_datetime >= '2023-01-01'\n",
    "  -- AND\n",
    "  --   format_date('%Y-%m', ln_disb_dtime) = '2024-09'\n",
    "  AND\n",
    "    ln_fpd10_flag is not null\n",
    "  AND\n",
    "    c_credo_score is not null\n",
    "  AND\n",
    "    ln_mature_fpd10_flag = 1\n",
    ")\n",
    "select * from c_credo_score;\n",
    "\"\"\"\n",
    "\n",
    "c_credo_scorefpd10 = client.query(sq).to_dataframe(progress_bar_type='tqdm')\n",
    "\n",
    "c_credo_scorefpd10.head()\n",
    "\n",
    "gini_results = calculate_periodic_gini(c_credo_scorefpd10, 'c_credo_score', 'ln_fpd10_flag', 'FPD10')\n",
    "M1FPD10 = gini_results.copy()\n",
    "print(f\"The shape of dataframe after copy is:\\t{M1FPD10.shape}\")\n",
    "M1FPD10.columns.values\n",
    "\n",
    "# FPD30\n",
    "\n",
    "sq = \"\"\"\n",
    "with c_credo_score as \n",
    "(SELECT \n",
    "    ln_disb_dtime disbursementdate,\n",
    "\tdigitalLoanAccountId,\n",
    "    c_credo_score,\n",
    "    ln_fpd30_flag,\n",
    "\tln_mature_fpd30_flag,\t\n",
    "\tFROM \n",
    "    prj-prod-dataplatform.risk_mart.sil_risk_ds_master_20230101_20250206\n",
    "  WHERE \n",
    "     -- ln_disb_dtime >= '2023-07-01'\n",
    "    ln_appln_submit_datetime >= '2023-01-01'\n",
    "  -- AND\n",
    "  --   format_date('%Y-%m', ln_disb_dtime) = '2024-09'\n",
    "  AND\n",
    "    ln_fpd30_flag is not null\n",
    "  AND\n",
    "    c_credo_score is not null\n",
    "  AND\n",
    "    ln_mature_fpd30_flag = 1\n",
    ")\n",
    "select * from c_credo_score;\n",
    "\"\"\"\n",
    "\n",
    "c_credo_scorefpd30 = client.query(sq).to_dataframe(progress_bar_type='tqdm')\n",
    "\n",
    "c_credo_scorefpd30.head()\n",
    "\n",
    "gini_results = calculate_periodic_gini(c_credo_scorefpd30, 'c_credo_score', 'ln_fpd30_flag', 'FPD30')\n",
    "M2FPD30 = gini_results.copy()\n",
    "print(f\"The shape of dataframe after copy is:\\t{M2FPD30.shape}\")\n",
    "M2FPD30.columns.values\n",
    "\n",
    "sq = \"\"\"\n",
    "with c_credo_score as \n",
    "(SELECT \n",
    "    ln_disb_dtime disbursementdate,\n",
    "\tdigitalLoanAccountId,\n",
    "    c_credo_score,\n",
    "    ln_fspd30_flag,\n",
    "\tln_mature_fspd30_flag,\t\n",
    "\tFROM \n",
    "    prj-prod-dataplatform.risk_mart.sil_risk_ds_master_20230101_20250206\n",
    "  WHERE \n",
    "     -- ln_disb_dtime >= '2023-07-01'\n",
    "    ln_appln_submit_datetime >= '2023-01-01'\n",
    "  -- AND\n",
    "  --   format_date('%Y-%m', ln_disb_dtime) = '2024-09'\n",
    "  AND\n",
    "    ln_fspd30_flag is not null\n",
    "  AND\n",
    "    c_credo_score is not null\n",
    "  AND\n",
    "    ln_mature_fspd30_flag = 1\n",
    ")\n",
    "select * from c_credo_score;\n",
    "\"\"\"\n",
    "\n",
    "c_credo_scorefspd30 = client.query(sq).to_dataframe(progress_bar_type='tqdm')\n",
    "\n",
    "print(c_credo_scorefspd30.head(2))\n",
    "\n",
    "gini_results = calculate_periodic_gini(c_credo_scorefspd30, 'c_credo_score', 'ln_fspd30_flag', 'FSPD30')\n",
    "M3FSPD30 = gini_results.copy()\n",
    "print(f\"The shape of dataframe after copy is:\\t{M3FSPD30.shape}\")\n",
    "print(M3FSPD30.columns.values)\n",
    "\n",
    "M3FSPD30.head()\n",
    "\n",
    "sq = \"\"\"\n",
    "with c_credo_score as \n",
    "(SELECT \n",
    "    ln_disb_dtime disbursementdate,\n",
    "\tdigitalLoanAccountId,\n",
    "    c_credo_score,\n",
    "    ln_fstpd30_flag,\n",
    "\tln_mature_fstpd30_flag,\t\n",
    "\tFROM \n",
    "    prj-prod-dataplatform.risk_mart.sil_risk_ds_master_20230101_20250206\n",
    "  WHERE \n",
    "     -- ln_disb_dtime >= '2023-07-01'\n",
    "    ln_appln_submit_datetime >= '2023-01-01'\n",
    "  -- AND\n",
    "  --   format_date('%Y-%m', ln_disb_dtime) = '2024-09'\n",
    "  AND\n",
    "    ln_fstpd30_flag is not null\n",
    "  AND\n",
    "    c_credo_score is not null\n",
    "  AND\n",
    "    ln_mature_fstpd30_flag = 1\n",
    ")\n",
    "select * from c_credo_score;\n",
    "\"\"\"\n",
    "\n",
    "c_credo_scorefstpd30 = client.query(sq).to_dataframe(progress_bar_type='tqdm')\n",
    "\n",
    "print(c_credo_scorefstpd30.head(2))\n",
    "\n",
    "gini_results = calculate_periodic_gini(c_credo_scorefstpd30, 'c_credo_score', 'ln_fstpd30_flag', 'FSTPD30')\n",
    "M4FSTPD30 = gini_results.copy()\n",
    "print(f\"The shape of dataframe after copy is:\\t{M4FSTPD30.shape}\")\n",
    "print(M4FSTPD30.columns.values)\n",
    "\n",
    "M4FSTPD30.head()\n",
    "\n"
   ]
  },
  {
   "cell_type": "code",
   "execution_count": 120,
   "metadata": {},
   "outputs": [
    {
     "data": {
      "text/plain": [
       "array(['start_date', 'end_date', 'c_credo_score_FPD10_gini', 'period',\n",
       "       'Model_Name', 'version', 'bad_rate', 'c_credo_score_FPD30_gini',\n",
       "       'c_credo_score_FSPD30_gini', 'c_credo_score_FSTPD30_gini'],\n",
       "      dtype=object)"
      ]
     },
     "execution_count": 120,
     "metadata": {},
     "output_type": "execute_result"
    }
   ],
   "source": [
    "import functools\n",
    "\n",
    "dataframes = [M1FPD10, M2FPD30, M3FSPD30, M4FSTPD30]\n",
    "common_columns = ['start_date', 'end_date', 'period', 'Model_Name','version', 'bad_rate']\n",
    "\n",
    "def merge_dataframes(df1, df2):\n",
    "    return pd.merge(df1, df2, on=common_columns, how='outer')\n",
    "\n",
    "final_df = functools.reduce(merge_dataframes, dataframes)\n",
    "\n",
    "final_df.columns.values"
   ]
  },
  {
   "cell_type": "code",
   "execution_count": 121,
   "metadata": {},
   "outputs": [],
   "source": [
    "final_df = final_df[['start_date', 'end_date','period',    'Model_Name', 'version', 'bad_rate','c_credo_score_FPD10_gini', 'c_credo_score_FPD30_gini',    'c_credo_score_FSPD30_gini', 'c_credo_score_FSTPD30_gini']].copy()"
   ]
  },
  {
   "cell_type": "code",
   "execution_count": 122,
   "metadata": {},
   "outputs": [
    {
     "data": {
      "text/plain": [
       "QueryJob<project=prj-prod-dataplatform, location=asia-southeast1, id=f3589aa9-e8d3-4570-b81f-039365d5944d>"
      ]
     },
     "execution_count": 122,
     "metadata": {},
     "output_type": "execute_result"
    }
   ],
   "source": [
    "sq = \"\"\"drop table if exists prj-prod-dataplatform.dap_ds_poweruser_playground.Model_gini_c_credo_score;\"\"\"\n",
    "client.query(sq)"
   ]
  },
  {
   "cell_type": "code",
   "execution_count": 123,
   "metadata": {},
   "outputs": [
    {
     "data": {
      "text/plain": [
       "LoadJob<project=prj-prod-dataplatform, location=asia-southeast1, id=aa72531d-b3d2-4b86-9260-1bd39ef4da88>"
      ]
     },
     "execution_count": 123,
     "metadata": {},
     "output_type": "execute_result"
    }
   ],
   "source": [
    "import pandas as pd\n",
    "from google.cloud import bigquery\n",
    "\n",
    "# Create a BigQuery client\n",
    "client = bigquery.Client('prj-prod-dataplatform')\n",
    "\n",
    "# Define your table schema\n",
    "table_schema = [\n",
    "    bigquery.SchemaField('start_date', 'TIMESTAMP'),\n",
    "    bigquery.SchemaField('end_date', 'TIMESTAMP'),\n",
    "    bigquery.SchemaField('period', 'STRING'),\n",
    "    bigquery.SchemaField('Model_Name', 'STRING'),\n",
    "    bigquery.SchemaField('version', 'STRING'),\n",
    "    bigquery.SchemaField('Badrate', 'STRING'),\n",
    "    bigquery.SchemaField('c_credo_score_FPD10_gini', 'FLOAT'),\n",
    "    bigquery.SchemaField('c_credo_score_FPD30_gini', 'FLOAT'),    \n",
    "    bigquery.SchemaField('c_credo_score_FSPD30_gini', 'FLOAT'),\n",
    "    bigquery.SchemaField('c_credo_score_FSTPD30_gini', 'FLOAT')\n",
    "    \n",
    "]\n",
    "\n",
    "# Create your BigQuery table\n",
    "table_id = 'prj-prod-dataplatform.dap_ds_poweruser_playground.Model_gini_c_credo_score'\n",
    "table = bigquery.Table(table_id, schema=table_schema)\n",
    "table = client.create_table(table)\n",
    "\n",
    "# Load your DataFrame into BigQuery\n",
    "job_config = bigquery.LoadJobConfig(\n",
    "    write_disposition='WRITE_TRUNCATE'\n",
    ")\n",
    "\n",
    "load_job = client.load_table_from_dataframe(\n",
    "    final_df, table_id, job_config=job_config\n",
    ")\n",
    "\n",
    "load_job.result()"
   ]
  },
  {
   "cell_type": "markdown",
   "metadata": {},
   "source": [
    "# s_credo_score"
   ]
  },
  {
   "cell_type": "code",
   "execution_count": 124,
   "metadata": {},
   "outputs": [
    {
     "name": "stdout",
     "output_type": "stream",
     "text": [
      "Job ID 91ae9228-1053-4213-9484-c6c2290d700b successfully executed: 100%|\u001b[32m██████████\u001b[0m|"
     ]
    },
    {
     "name": "stderr",
     "output_type": "stream",
     "text": [
      "d:\\Anaconda3\\envs\\inc_env\\lib\\site-packages\\google\\cloud\\bigquery\\table.py:1820: UserWarning: BigQuery Storage module not found, fetch data with the REST endpoint instead.\n",
      "  warnings.warn(\n"
     ]
    },
    {
     "name": "stdout",
     "output_type": "stream",
     "text": [
      "\n",
      "Downloading: 100%|\u001b[32m██████████\u001b[0m|\n",
      "The shape of dataframe after copy is:\t(132, 7)\n",
      "Job ID 15f6583f-5b67-44a1-ade6-958fd06da1da successfully executed: 100%|\u001b[32m██████████\u001b[0m|"
     ]
    },
    {
     "name": "stderr",
     "output_type": "stream",
     "text": [
      "d:\\Anaconda3\\envs\\inc_env\\lib\\site-packages\\google\\cloud\\bigquery\\table.py:1820: UserWarning: BigQuery Storage module not found, fetch data with the REST endpoint instead.\n",
      "  warnings.warn(\n"
     ]
    },
    {
     "name": "stdout",
     "output_type": "stream",
     "text": [
      "\n",
      "Downloading: 100%|\u001b[32m██████████\u001b[0m|\n",
      "The shape of dataframe after copy is:\t(128, 7)\n",
      "Job ID 05e36bba-5aaf-4b4c-8501-ae6a282df25b successfully executed: 100%|\u001b[32m██████████\u001b[0m|"
     ]
    },
    {
     "name": "stderr",
     "output_type": "stream",
     "text": [
      "d:\\Anaconda3\\envs\\inc_env\\lib\\site-packages\\google\\cloud\\bigquery\\table.py:1820: UserWarning: BigQuery Storage module not found, fetch data with the REST endpoint instead.\n",
      "  warnings.warn(\n"
     ]
    },
    {
     "name": "stdout",
     "output_type": "stream",
     "text": [
      "\n",
      "Downloading: 100%|\u001b[32m██████████\u001b[0m|\n",
      "     disbursementdate                  digitalLoanAccountId  s_credo_score  \\\n",
      "0 2024-04-29 17:13:42  ec0662e6-2722-41c4-b483-70f9ff80ca2c       0.132600   \n",
      "1 2023-11-08 12:53:36  183b56bf-1764-4bf7-a348-a70c4f504803       0.122895   \n",
      "\n",
      "   ln_fspd30_flag  ln_mature_fspd30_flag  \n",
      "0               0                      1  \n",
      "1               0                      1  \n",
      "The shape of dataframe after copy is:\t(123, 7)\n",
      "['start_date' 'end_date' 's_credo_score_FSPD30_gini' 'period' 'Model_Name'\n",
      " 'version' 'bad_rate']\n",
      "Job ID 2d578685-babe-4733-b147-6f6bc0e4a640 successfully executed: 100%|\u001b[32m██████████\u001b[0m|"
     ]
    },
    {
     "name": "stderr",
     "output_type": "stream",
     "text": [
      "d:\\Anaconda3\\envs\\inc_env\\lib\\site-packages\\google\\cloud\\bigquery\\table.py:1820: UserWarning: BigQuery Storage module not found, fetch data with the REST endpoint instead.\n",
      "  warnings.warn(\n"
     ]
    },
    {
     "name": "stdout",
     "output_type": "stream",
     "text": [
      "\n",
      "Downloading: 100%|\u001b[32m██████████\u001b[0m|\n",
      "     disbursementdate                  digitalLoanAccountId  s_credo_score  \\\n",
      "0 2023-06-22 14:25:06  12d13dfc-e307-4605-af97-361327cb3247       0.138661   \n",
      "1 2024-07-21 10:34:01  4238aea5-2cbb-4356-879b-71b4d3486fd2       0.072748   \n",
      "\n",
      "   ln_fstpd30_flag  ln_mature_fstpd30_flag  \n",
      "0                0                       1  \n",
      "1                0                       1  \n",
      "The shape of dataframe after copy is:\t(117, 7)\n",
      "['start_date' 'end_date' 's_credo_score_FSTPD30_gini' 'period'\n",
      " 'Model_Name' 'version' 'bad_rate']\n"
     ]
    },
    {
     "data": {
      "text/html": [
       "<div>\n",
       "<style scoped>\n",
       "    .dataframe tbody tr th:only-of-type {\n",
       "        vertical-align: middle;\n",
       "    }\n",
       "\n",
       "    .dataframe tbody tr th {\n",
       "        vertical-align: top;\n",
       "    }\n",
       "\n",
       "    .dataframe thead th {\n",
       "        text-align: right;\n",
       "    }\n",
       "</style>\n",
       "<table border=\"1\" class=\"dataframe\">\n",
       "  <thead>\n",
       "    <tr style=\"text-align: right;\">\n",
       "      <th></th>\n",
       "      <th>start_date</th>\n",
       "      <th>end_date</th>\n",
       "      <th>s_credo_score_FSTPD30_gini</th>\n",
       "      <th>period</th>\n",
       "      <th>Model_Name</th>\n",
       "      <th>version</th>\n",
       "      <th>bad_rate</th>\n",
       "    </tr>\n",
       "  </thead>\n",
       "  <tbody>\n",
       "    <tr>\n",
       "      <th>0</th>\n",
       "      <td>2023-01-01</td>\n",
       "      <td>2023-01-31</td>\n",
       "      <td>0.219086</td>\n",
       "      <td>Month</td>\n",
       "      <td>s_credo_score</td>\n",
       "      <td>1.1.0</td>\n",
       "      <td>FSTPD30</td>\n",
       "    </tr>\n",
       "    <tr>\n",
       "      <th>1</th>\n",
       "      <td>2023-01-02</td>\n",
       "      <td>2023-01-08</td>\n",
       "      <td>0.261708</td>\n",
       "      <td>Week</td>\n",
       "      <td>s_credo_score</td>\n",
       "      <td>1.1.0</td>\n",
       "      <td>FSTPD30</td>\n",
       "    </tr>\n",
       "    <tr>\n",
       "      <th>2</th>\n",
       "      <td>2023-01-09</td>\n",
       "      <td>2023-01-15</td>\n",
       "      <td>0.251056</td>\n",
       "      <td>Week</td>\n",
       "      <td>s_credo_score</td>\n",
       "      <td>1.1.0</td>\n",
       "      <td>FSTPD30</td>\n",
       "    </tr>\n",
       "    <tr>\n",
       "      <th>3</th>\n",
       "      <td>2023-01-16</td>\n",
       "      <td>2023-01-22</td>\n",
       "      <td>0.275062</td>\n",
       "      <td>Week</td>\n",
       "      <td>s_credo_score</td>\n",
       "      <td>1.1.0</td>\n",
       "      <td>FSTPD30</td>\n",
       "    </tr>\n",
       "    <tr>\n",
       "      <th>4</th>\n",
       "      <td>2023-01-23</td>\n",
       "      <td>2023-01-29</td>\n",
       "      <td>0.157554</td>\n",
       "      <td>Week</td>\n",
       "      <td>s_credo_score</td>\n",
       "      <td>1.1.0</td>\n",
       "      <td>FSTPD30</td>\n",
       "    </tr>\n",
       "  </tbody>\n",
       "</table>\n",
       "</div>"
      ],
      "text/plain": [
       "  start_date   end_date  s_credo_score_FSTPD30_gini period     Model_Name  \\\n",
       "0 2023-01-01 2023-01-31                    0.219086  Month  s_credo_score   \n",
       "1 2023-01-02 2023-01-08                    0.261708   Week  s_credo_score   \n",
       "2 2023-01-09 2023-01-15                    0.251056   Week  s_credo_score   \n",
       "3 2023-01-16 2023-01-22                    0.275062   Week  s_credo_score   \n",
       "4 2023-01-23 2023-01-29                    0.157554   Week  s_credo_score   \n",
       "\n",
       "  version bad_rate  \n",
       "0   1.1.0  FSTPD30  \n",
       "1   1.1.0  FSTPD30  \n",
       "2   1.1.0  FSTPD30  \n",
       "3   1.1.0  FSTPD30  \n",
       "4   1.1.0  FSTPD30  "
      ]
     },
     "execution_count": 124,
     "metadata": {},
     "output_type": "execute_result"
    }
   ],
   "source": [
    "\n",
    "\n",
    "sq = \"\"\"\n",
    "with s_credo_score as \n",
    "(SELECT \n",
    "    ln_disb_dtime disbursementdate,\n",
    "\tdigitalLoanAccountId,\n",
    "    s_credo_score,\n",
    "    ln_fpd10_flag,\n",
    "\tln_mature_fpd10_flag,\t\n",
    "\tFROM \n",
    "    prj-prod-dataplatform.risk_mart.sil_risk_ds_master_20230101_20250206\n",
    "  WHERE \n",
    "     -- ln_disb_dtime >= '2023-07-01'\n",
    "    ln_appln_submit_datetime >= '2023-01-01'\n",
    "  -- AND\n",
    "  --   format_date('%Y-%m', ln_disb_dtime) = '2024-09'\n",
    "  AND\n",
    "    ln_fpd10_flag is not null\n",
    "  AND\n",
    "    s_credo_score is not null\n",
    "  AND\n",
    "    ln_mature_fpd10_flag = 1\n",
    ")\n",
    "select * from s_credo_score;\n",
    "\"\"\"\n",
    "\n",
    "s_credo_scorefpd10 = client.query(sq).to_dataframe(progress_bar_type='tqdm')\n",
    "\n",
    "s_credo_scorefpd10.head()\n",
    "\n",
    "gini_results = calculate_periodic_gini(s_credo_scorefpd10, 's_credo_score', 'ln_fpd10_flag', 'FPD10')\n",
    "M1FPD10 = gini_results.copy()\n",
    "print(f\"The shape of dataframe after copy is:\\t{M1FPD10.shape}\")\n",
    "M1FPD10.columns.values\n",
    "\n",
    "# FPD30\n",
    "\n",
    "sq = \"\"\"\n",
    "with s_credo_score as \n",
    "(SELECT \n",
    "    ln_disb_dtime disbursementdate,\n",
    "\tdigitalLoanAccountId,\n",
    "    s_credo_score,\n",
    "    ln_fpd30_flag,\n",
    "\tln_mature_fpd30_flag,\t\n",
    "\tFROM \n",
    "    prj-prod-dataplatform.risk_mart.sil_risk_ds_master_20230101_20250206\n",
    "  WHERE \n",
    "     -- ln_disb_dtime >= '2023-07-01'\n",
    "    ln_appln_submit_datetime >= '2023-01-01'\n",
    "  -- AND\n",
    "  --   format_date('%Y-%m', ln_disb_dtime) = '2024-09'\n",
    "  AND\n",
    "    ln_fpd30_flag is not null\n",
    "  AND\n",
    "    s_credo_score is not null\n",
    "  AND\n",
    "    ln_mature_fpd30_flag = 1\n",
    ")\n",
    "select * from s_credo_score;\n",
    "\"\"\"\n",
    "\n",
    "s_credo_scorefpd30 = client.query(sq).to_dataframe(progress_bar_type='tqdm')\n",
    "\n",
    "s_credo_scorefpd30.head()\n",
    "\n",
    "gini_results = calculate_periodic_gini(s_credo_scorefpd30, 's_credo_score', 'ln_fpd30_flag', 'FPD30')\n",
    "M2FPD30 = gini_results.copy()\n",
    "print(f\"The shape of dataframe after copy is:\\t{M2FPD30.shape}\")\n",
    "M2FPD30.columns.values\n",
    "\n",
    "sq = \"\"\"\n",
    "with s_credo_score as \n",
    "(SELECT \n",
    "    ln_disb_dtime disbursementdate,\n",
    "\tdigitalLoanAccountId,\n",
    "    s_credo_score,\n",
    "    ln_fspd30_flag,\n",
    "\tln_mature_fspd30_flag,\t\n",
    "\tFROM \n",
    "    prj-prod-dataplatform.risk_mart.sil_risk_ds_master_20230101_20250206\n",
    "  WHERE \n",
    "     -- ln_disb_dtime >= '2023-07-01'\n",
    "    ln_appln_submit_datetime >= '2023-01-01'\n",
    "  -- AND\n",
    "  --   format_date('%Y-%m', ln_disb_dtime) = '2024-09'\n",
    "  AND\n",
    "    ln_fspd30_flag is not null\n",
    "  AND\n",
    "    s_credo_score is not null\n",
    "  AND\n",
    "    ln_mature_fspd30_flag = 1\n",
    ")\n",
    "select * from s_credo_score;\n",
    "\"\"\"\n",
    "\n",
    "s_credo_scorefspd30 = client.query(sq).to_dataframe(progress_bar_type='tqdm')\n",
    "\n",
    "print(s_credo_scorefspd30.head(2))\n",
    "\n",
    "gini_results = calculate_periodic_gini(s_credo_scorefspd30, 's_credo_score', 'ln_fspd30_flag', 'FSPD30')\n",
    "M3FSPD30 = gini_results.copy()\n",
    "print(f\"The shape of dataframe after copy is:\\t{M3FSPD30.shape}\")\n",
    "print(M3FSPD30.columns.values)\n",
    "\n",
    "M3FSPD30.head()\n",
    "\n",
    "sq = \"\"\"\n",
    "with s_credo_score as \n",
    "(SELECT \n",
    "    ln_disb_dtime disbursementdate,\n",
    "\tdigitalLoanAccountId,\n",
    "    s_credo_score,\n",
    "    ln_fstpd30_flag,\n",
    "\tln_mature_fstpd30_flag,\t\n",
    "\tFROM \n",
    "    prj-prod-dataplatform.risk_mart.sil_risk_ds_master_20230101_20250206\n",
    "  WHERE \n",
    "     -- ln_disb_dtime >= '2023-07-01'\n",
    "    ln_appln_submit_datetime >= '2023-01-01'\n",
    "  -- AND\n",
    "  --   format_date('%Y-%m', ln_disb_dtime) = '2024-09'\n",
    "  AND\n",
    "    ln_fstpd30_flag is not null\n",
    "  AND\n",
    "    s_credo_score is not null\n",
    "  AND\n",
    "    ln_mature_fstpd30_flag = 1\n",
    ")\n",
    "select * from s_credo_score;\n",
    "\"\"\"\n",
    "\n",
    "s_credo_scorefstpd30 = client.query(sq).to_dataframe(progress_bar_type='tqdm')\n",
    "\n",
    "print(s_credo_scorefstpd30.head(2))\n",
    "\n",
    "gini_results = calculate_periodic_gini(s_credo_scorefstpd30, 's_credo_score', 'ln_fstpd30_flag', 'FSTPD30')\n",
    "M4FSTPD30 = gini_results.copy()\n",
    "print(f\"The shape of dataframe after copy is:\\t{M4FSTPD30.shape}\")\n",
    "print(M4FSTPD30.columns.values)\n",
    "\n",
    "M4FSTPD30.head()\n",
    "\n"
   ]
  },
  {
   "cell_type": "markdown",
   "metadata": {},
   "source": [
    "## Combining data"
   ]
  },
  {
   "cell_type": "code",
   "execution_count": 125,
   "metadata": {},
   "outputs": [
    {
     "data": {
      "text/plain": [
       "array(['start_date', 'end_date', 's_credo_score_FPD10_gini', 'period',\n",
       "       'Model_Name', 'version', 'bad_rate', 's_credo_score_FPD30_gini',\n",
       "       's_credo_score_FSPD30_gini', 's_credo_score_FSTPD30_gini'],\n",
       "      dtype=object)"
      ]
     },
     "execution_count": 125,
     "metadata": {},
     "output_type": "execute_result"
    }
   ],
   "source": [
    "import functools\n",
    "\n",
    "dataframes = [M1FPD10, M2FPD30, M3FSPD30, M4FSTPD30]\n",
    "common_columns = ['start_date', 'end_date', 'period', 'Model_Name','version', 'bad_rate']\n",
    "\n",
    "def merge_dataframes(df1, df2):\n",
    "    return pd.merge(df1, df2, on=common_columns, how='outer')\n",
    "\n",
    "final_df = functools.reduce(merge_dataframes, dataframes)\n",
    "\n",
    "final_df.columns.values"
   ]
  },
  {
   "cell_type": "code",
   "execution_count": 126,
   "metadata": {},
   "outputs": [],
   "source": [
    "final_df = final_df[['start_date', 'end_date','period',    'Model_Name', 'version', 'bad_rate','s_credo_score_FPD10_gini', 's_credo_score_FPD30_gini',    's_credo_score_FSPD30_gini', 's_credo_score_FSTPD30_gini']].copy()"
   ]
  },
  {
   "cell_type": "code",
   "execution_count": 127,
   "metadata": {},
   "outputs": [
    {
     "data": {
      "text/plain": [
       "QueryJob<project=prj-prod-dataplatform, location=asia-southeast1, id=8f3b2c64-18c8-4a65-b08a-fb34440c9c2a>"
      ]
     },
     "execution_count": 127,
     "metadata": {},
     "output_type": "execute_result"
    }
   ],
   "source": [
    "sq = \"\"\"drop table if exists prj-prod-dataplatform.dap_ds_poweruser_playground.Model_gini_s_credo_score;\"\"\"\n",
    "\n",
    "client.query(sq)"
   ]
  },
  {
   "cell_type": "code",
   "execution_count": 128,
   "metadata": {},
   "outputs": [
    {
     "data": {
      "text/plain": [
       "LoadJob<project=prj-prod-dataplatform, location=asia-southeast1, id=44e33e7e-e0bc-4a6e-813a-162cdb9ae379>"
      ]
     },
     "execution_count": 128,
     "metadata": {},
     "output_type": "execute_result"
    }
   ],
   "source": [
    "import pandas as pd\n",
    "from google.cloud import bigquery\n",
    "\n",
    "# Create a BigQuery client\n",
    "client = bigquery.Client('prj-prod-dataplatform')\n",
    "\n",
    "# Define your table schema\n",
    "table_schema = [\n",
    "    bigquery.SchemaField('start_date', 'TIMESTAMP'),\n",
    "    bigquery.SchemaField('end_date', 'TIMESTAMP'),\n",
    "    bigquery.SchemaField('period', 'STRING'),\n",
    "    bigquery.SchemaField('Model_Name', 'STRING'),\n",
    "    bigquery.SchemaField('version', 'STRING'),\n",
    "    bigquery.SchemaField('Badrate', 'STRING'),\n",
    "    bigquery.SchemaField('s_credo_score_FPD10_gini', 'FLOAT'),\n",
    "    bigquery.SchemaField('s_credo_score_FPD30_gini', 'FLOAT'),    \n",
    "    bigquery.SchemaField('s_credo_score_FSPD30_gini', 'FLOAT'),\n",
    "    bigquery.SchemaField('s_credo_score_FSTPD30_gini', 'FLOAT')\n",
    "    \n",
    "]\n",
    "\n",
    "# Create your BigQuery table\n",
    "table_id = 'prj-prod-dataplatform.dap_ds_poweruser_playground.Model_gini_s_credo_score'\n",
    "table = bigquery.Table(table_id, schema=table_schema)\n",
    "table = client.create_table(table)\n",
    "\n",
    "# Load your DataFrame into BigQuery\n",
    "job_config = bigquery.LoadJobConfig(\n",
    "    write_disposition='WRITE_TRUNCATE'\n",
    ")\n",
    "\n",
    "load_job = client.load_table_from_dataframe(\n",
    "    final_df, table_id, job_config=job_config\n",
    ")\n",
    "\n",
    "load_job.result()"
   ]
  },
  {
   "cell_type": "code",
   "execution_count": 129,
   "metadata": {},
   "outputs": [
    {
     "data": {
      "text/html": [
       "<div>\n",
       "<style scoped>\n",
       "    .dataframe tbody tr th:only-of-type {\n",
       "        vertical-align: middle;\n",
       "    }\n",
       "\n",
       "    .dataframe tbody tr th {\n",
       "        vertical-align: top;\n",
       "    }\n",
       "\n",
       "    .dataframe thead th {\n",
       "        text-align: right;\n",
       "    }\n",
       "</style>\n",
       "<table border=\"1\" class=\"dataframe\">\n",
       "  <thead>\n",
       "    <tr style=\"text-align: right;\">\n",
       "      <th></th>\n",
       "      <th>start_date</th>\n",
       "      <th>end_date</th>\n",
       "      <th>period</th>\n",
       "      <th>Model_Name</th>\n",
       "      <th>version</th>\n",
       "      <th>bad_rate</th>\n",
       "      <th>s_credo_score_FPD10_gini</th>\n",
       "      <th>s_credo_score_FPD30_gini</th>\n",
       "      <th>s_credo_score_FSPD30_gini</th>\n",
       "      <th>s_credo_score_FSTPD30_gini</th>\n",
       "    </tr>\n",
       "  </thead>\n",
       "  <tbody>\n",
       "    <tr>\n",
       "      <th>0</th>\n",
       "      <td>2023-01-01</td>\n",
       "      <td>2023-01-31</td>\n",
       "      <td>Month</td>\n",
       "      <td>s_credo_score</td>\n",
       "      <td>1.1.0</td>\n",
       "      <td>FPD10</td>\n",
       "      <td>0.230181</td>\n",
       "      <td>NaN</td>\n",
       "      <td>NaN</td>\n",
       "      <td>NaN</td>\n",
       "    </tr>\n",
       "    <tr>\n",
       "      <th>1</th>\n",
       "      <td>2023-01-02</td>\n",
       "      <td>2023-01-08</td>\n",
       "      <td>Week</td>\n",
       "      <td>s_credo_score</td>\n",
       "      <td>1.1.0</td>\n",
       "      <td>FPD10</td>\n",
       "      <td>0.248978</td>\n",
       "      <td>NaN</td>\n",
       "      <td>NaN</td>\n",
       "      <td>NaN</td>\n",
       "    </tr>\n",
       "    <tr>\n",
       "      <th>2</th>\n",
       "      <td>2023-01-09</td>\n",
       "      <td>2023-01-15</td>\n",
       "      <td>Week</td>\n",
       "      <td>s_credo_score</td>\n",
       "      <td>1.1.0</td>\n",
       "      <td>FPD10</td>\n",
       "      <td>0.296337</td>\n",
       "      <td>NaN</td>\n",
       "      <td>NaN</td>\n",
       "      <td>NaN</td>\n",
       "    </tr>\n",
       "    <tr>\n",
       "      <th>3</th>\n",
       "      <td>2023-01-16</td>\n",
       "      <td>2023-01-22</td>\n",
       "      <td>Week</td>\n",
       "      <td>s_credo_score</td>\n",
       "      <td>1.1.0</td>\n",
       "      <td>FPD10</td>\n",
       "      <td>0.529870</td>\n",
       "      <td>NaN</td>\n",
       "      <td>NaN</td>\n",
       "      <td>NaN</td>\n",
       "    </tr>\n",
       "    <tr>\n",
       "      <th>4</th>\n",
       "      <td>2023-01-23</td>\n",
       "      <td>2023-01-29</td>\n",
       "      <td>Week</td>\n",
       "      <td>s_credo_score</td>\n",
       "      <td>1.1.0</td>\n",
       "      <td>FPD10</td>\n",
       "      <td>0.079585</td>\n",
       "      <td>NaN</td>\n",
       "      <td>NaN</td>\n",
       "      <td>NaN</td>\n",
       "    </tr>\n",
       "  </tbody>\n",
       "</table>\n",
       "</div>"
      ],
      "text/plain": [
       "  start_date   end_date period     Model_Name version bad_rate  \\\n",
       "0 2023-01-01 2023-01-31  Month  s_credo_score   1.1.0    FPD10   \n",
       "1 2023-01-02 2023-01-08   Week  s_credo_score   1.1.0    FPD10   \n",
       "2 2023-01-09 2023-01-15   Week  s_credo_score   1.1.0    FPD10   \n",
       "3 2023-01-16 2023-01-22   Week  s_credo_score   1.1.0    FPD10   \n",
       "4 2023-01-23 2023-01-29   Week  s_credo_score   1.1.0    FPD10   \n",
       "\n",
       "   s_credo_score_FPD10_gini  s_credo_score_FPD30_gini  \\\n",
       "0                  0.230181                       NaN   \n",
       "1                  0.248978                       NaN   \n",
       "2                  0.296337                       NaN   \n",
       "3                  0.529870                       NaN   \n",
       "4                  0.079585                       NaN   \n",
       "\n",
       "   s_credo_score_FSPD30_gini  s_credo_score_FSTPD30_gini  \n",
       "0                        NaN                         NaN  \n",
       "1                        NaN                         NaN  \n",
       "2                        NaN                         NaN  \n",
       "3                        NaN                         NaN  \n",
       "4                        NaN                         NaN  "
      ]
     },
     "execution_count": 129,
     "metadata": {},
     "output_type": "execute_result"
    }
   ],
   "source": [
    "final_df.head()"
   ]
  },
  {
   "cell_type": "markdown",
   "metadata": {},
   "source": [
    "# fu_credo_score"
   ]
  },
  {
   "cell_type": "code",
   "execution_count": 130,
   "metadata": {},
   "outputs": [
    {
     "name": "stdout",
     "output_type": "stream",
     "text": [
      "Job ID ef8222aa-cd29-4216-a0e1-cbf7a3b44371 successfully executed: 100%|\u001b[32m██████████\u001b[0m|"
     ]
    },
    {
     "name": "stderr",
     "output_type": "stream",
     "text": [
      "d:\\Anaconda3\\envs\\inc_env\\lib\\site-packages\\google\\cloud\\bigquery\\table.py:1820: UserWarning: BigQuery Storage module not found, fetch data with the REST endpoint instead.\n",
      "  warnings.warn(\n"
     ]
    },
    {
     "name": "stdout",
     "output_type": "stream",
     "text": [
      "\n",
      "Downloading: 100%|\u001b[32m██████████\u001b[0m|\n",
      "The shape of dataframe after copy is:\t(132, 7)\n",
      "Job ID 8515e362-42a5-4f29-a11a-25b581fbc367 successfully executed: 100%|\u001b[32m██████████\u001b[0m|"
     ]
    },
    {
     "name": "stderr",
     "output_type": "stream",
     "text": [
      "d:\\Anaconda3\\envs\\inc_env\\lib\\site-packages\\google\\cloud\\bigquery\\table.py:1820: UserWarning: BigQuery Storage module not found, fetch data with the REST endpoint instead.\n",
      "  warnings.warn(\n"
     ]
    },
    {
     "name": "stdout",
     "output_type": "stream",
     "text": [
      "\n",
      "Downloading: 100%|\u001b[32m██████████\u001b[0m|\n",
      "The shape of dataframe after copy is:\t(128, 7)\n",
      "Job ID ce311bf4-ff31-4392-9a5f-69ef55f7bfd4 successfully executed: 100%|\u001b[32m██████████\u001b[0m|"
     ]
    },
    {
     "name": "stderr",
     "output_type": "stream",
     "text": [
      "d:\\Anaconda3\\envs\\inc_env\\lib\\site-packages\\google\\cloud\\bigquery\\table.py:1820: UserWarning: BigQuery Storage module not found, fetch data with the REST endpoint instead.\n",
      "  warnings.warn(\n"
     ]
    },
    {
     "name": "stdout",
     "output_type": "stream",
     "text": [
      "\n",
      "Downloading: 100%|\u001b[32m██████████\u001b[0m|\n",
      "     disbursementdate                  digitalLoanAccountId  fu_credo_score  \\\n",
      "0 2024-04-29 17:13:42  ec0662e6-2722-41c4-b483-70f9ff80ca2c        0.095045   \n",
      "1 2023-11-08 12:53:36  183b56bf-1764-4bf7-a348-a70c4f504803        0.181235   \n",
      "\n",
      "   ln_fspd30_flag  ln_mature_fspd30_flag  \n",
      "0               0                      1  \n",
      "1               0                      1  \n",
      "The shape of dataframe after copy is:\t(123, 7)\n",
      "['start_date' 'end_date' 'fu_credo_score_FSPD30_gini' 'period'\n",
      " 'Model_Name' 'version' 'bad_rate']\n",
      "Job ID debed2b2-7414-4989-b022-51df424bd85a successfully executed: 100%|\u001b[32m██████████\u001b[0m|"
     ]
    },
    {
     "name": "stderr",
     "output_type": "stream",
     "text": [
      "d:\\Anaconda3\\envs\\inc_env\\lib\\site-packages\\google\\cloud\\bigquery\\table.py:1820: UserWarning: BigQuery Storage module not found, fetch data with the REST endpoint instead.\n",
      "  warnings.warn(\n"
     ]
    },
    {
     "name": "stdout",
     "output_type": "stream",
     "text": [
      "\n",
      "Downloading: 100%|\u001b[32m██████████\u001b[0m|\n",
      "     disbursementdate                  digitalLoanAccountId  fu_credo_score  \\\n",
      "0 2024-04-29 17:13:42  ec0662e6-2722-41c4-b483-70f9ff80ca2c        0.095045   \n",
      "1 2023-11-08 12:53:36  183b56bf-1764-4bf7-a348-a70c4f504803        0.181235   \n",
      "\n",
      "   ln_fstpd30_flag  ln_mature_fstpd30_flag  \n",
      "0                0                       1  \n",
      "1                1                       1  \n",
      "The shape of dataframe after copy is:\t(117, 7)\n",
      "['start_date' 'end_date' 'fu_credo_score_FSTPD30_gini' 'period'\n",
      " 'Model_Name' 'version' 'bad_rate']\n"
     ]
    },
    {
     "data": {
      "text/html": [
       "<div>\n",
       "<style scoped>\n",
       "    .dataframe tbody tr th:only-of-type {\n",
       "        vertical-align: middle;\n",
       "    }\n",
       "\n",
       "    .dataframe tbody tr th {\n",
       "        vertical-align: top;\n",
       "    }\n",
       "\n",
       "    .dataframe thead th {\n",
       "        text-align: right;\n",
       "    }\n",
       "</style>\n",
       "<table border=\"1\" class=\"dataframe\">\n",
       "  <thead>\n",
       "    <tr style=\"text-align: right;\">\n",
       "      <th></th>\n",
       "      <th>start_date</th>\n",
       "      <th>end_date</th>\n",
       "      <th>fu_credo_score_FSTPD30_gini</th>\n",
       "      <th>period</th>\n",
       "      <th>Model_Name</th>\n",
       "      <th>version</th>\n",
       "      <th>bad_rate</th>\n",
       "    </tr>\n",
       "  </thead>\n",
       "  <tbody>\n",
       "    <tr>\n",
       "      <th>0</th>\n",
       "      <td>2023-01-01</td>\n",
       "      <td>2023-01-31</td>\n",
       "      <td>0.072860</td>\n",
       "      <td>Month</td>\n",
       "      <td>fu_credo_score</td>\n",
       "      <td>1.1.0</td>\n",
       "      <td>FSTPD30</td>\n",
       "    </tr>\n",
       "    <tr>\n",
       "      <th>1</th>\n",
       "      <td>2023-01-02</td>\n",
       "      <td>2023-01-08</td>\n",
       "      <td>0.002165</td>\n",
       "      <td>Week</td>\n",
       "      <td>fu_credo_score</td>\n",
       "      <td>1.1.0</td>\n",
       "      <td>FSTPD30</td>\n",
       "    </tr>\n",
       "    <tr>\n",
       "      <th>2</th>\n",
       "      <td>2023-01-09</td>\n",
       "      <td>2023-01-15</td>\n",
       "      <td>0.056674</td>\n",
       "      <td>Week</td>\n",
       "      <td>fu_credo_score</td>\n",
       "      <td>1.1.0</td>\n",
       "      <td>FSTPD30</td>\n",
       "    </tr>\n",
       "    <tr>\n",
       "      <th>3</th>\n",
       "      <td>2023-01-16</td>\n",
       "      <td>2023-01-22</td>\n",
       "      <td>0.326429</td>\n",
       "      <td>Week</td>\n",
       "      <td>fu_credo_score</td>\n",
       "      <td>1.1.0</td>\n",
       "      <td>FSTPD30</td>\n",
       "    </tr>\n",
       "    <tr>\n",
       "      <th>4</th>\n",
       "      <td>2023-01-23</td>\n",
       "      <td>2023-01-29</td>\n",
       "      <td>0.109935</td>\n",
       "      <td>Week</td>\n",
       "      <td>fu_credo_score</td>\n",
       "      <td>1.1.0</td>\n",
       "      <td>FSTPD30</td>\n",
       "    </tr>\n",
       "  </tbody>\n",
       "</table>\n",
       "</div>"
      ],
      "text/plain": [
       "  start_date   end_date  fu_credo_score_FSTPD30_gini period      Model_Name  \\\n",
       "0 2023-01-01 2023-01-31                     0.072860  Month  fu_credo_score   \n",
       "1 2023-01-02 2023-01-08                     0.002165   Week  fu_credo_score   \n",
       "2 2023-01-09 2023-01-15                     0.056674   Week  fu_credo_score   \n",
       "3 2023-01-16 2023-01-22                     0.326429   Week  fu_credo_score   \n",
       "4 2023-01-23 2023-01-29                     0.109935   Week  fu_credo_score   \n",
       "\n",
       "  version bad_rate  \n",
       "0   1.1.0  FSTPD30  \n",
       "1   1.1.0  FSTPD30  \n",
       "2   1.1.0  FSTPD30  \n",
       "3   1.1.0  FSTPD30  \n",
       "4   1.1.0  FSTPD30  "
      ]
     },
     "execution_count": 130,
     "metadata": {},
     "output_type": "execute_result"
    }
   ],
   "source": [
    "\n",
    "\n",
    "sq = \"\"\"\n",
    "with fu_credo_score as \n",
    "(SELECT \n",
    "    ln_disb_dtime disbursementdate,\n",
    "\tdigitalLoanAccountId,\n",
    "    fu_credo_score,\n",
    "    ln_fpd10_flag,\n",
    "\tln_mature_fpd10_flag,\t\n",
    "\tFROM \n",
    "    prj-prod-dataplatform.risk_mart.sil_risk_ds_master_20230101_20250206\n",
    "  WHERE \n",
    "     -- ln_disb_dtime >= '2023-07-01'\n",
    "    ln_appln_submit_datetime >= '2023-01-01'\n",
    "  -- AND\n",
    "  --   format_date('%Y-%m', ln_disb_dtime) = '2024-09'\n",
    "  AND\n",
    "    ln_fpd10_flag is not null\n",
    "  AND\n",
    "    fu_credo_score is not null\n",
    "  AND\n",
    "    ln_mature_fpd10_flag = 1\n",
    ")\n",
    "select * from fu_credo_score;\n",
    "\"\"\"\n",
    "\n",
    "fu_credo_scorefpd10 = client.query(sq).to_dataframe(progress_bar_type='tqdm')\n",
    "\n",
    "fu_credo_scorefpd10.head()\n",
    "\n",
    "gini_results = calculate_periodic_gini(fu_credo_scorefpd10, 'fu_credo_score', 'ln_fpd10_flag', 'FPD10')\n",
    "M1FPD10 = gini_results.copy()\n",
    "print(f\"The shape of dataframe after copy is:\\t{M1FPD10.shape}\")\n",
    "M1FPD10.columns.values\n",
    "\n",
    "# FPD30\n",
    "\n",
    "sq = \"\"\"\n",
    "with fu_credo_score as \n",
    "(SELECT \n",
    "    ln_disb_dtime disbursementdate,\n",
    "\tdigitalLoanAccountId,\n",
    "    fu_credo_score,\n",
    "    ln_fpd30_flag,\n",
    "\tln_mature_fpd30_flag,\t\n",
    "\tFROM \n",
    "    prj-prod-dataplatform.risk_mart.sil_risk_ds_master_20230101_20250206\n",
    "  WHERE \n",
    "     -- ln_disb_dtime >= '2023-07-01'\n",
    "    ln_appln_submit_datetime >= '2023-01-01'\n",
    "  -- AND\n",
    "  --   format_date('%Y-%m', ln_disb_dtime) = '2024-09'\n",
    "  AND\n",
    "    ln_fpd30_flag is not null\n",
    "  AND\n",
    "    fu_credo_score is not null\n",
    "  AND\n",
    "    ln_mature_fpd30_flag = 1\n",
    ")\n",
    "select * from fu_credo_score;\n",
    "\"\"\"\n",
    "\n",
    "fu_credo_scorefpd30 = client.query(sq).to_dataframe(progress_bar_type='tqdm')\n",
    "\n",
    "fu_credo_scorefpd30.head()\n",
    "\n",
    "gini_results = calculate_periodic_gini(fu_credo_scorefpd30, 'fu_credo_score', 'ln_fpd30_flag', 'FPD30')\n",
    "M2FPD30 = gini_results.copy()\n",
    "print(f\"The shape of dataframe after copy is:\\t{M2FPD30.shape}\")\n",
    "M2FPD30.columns.values\n",
    "\n",
    "sq = \"\"\"\n",
    "with fu_credo_score as \n",
    "(SELECT \n",
    "    ln_disb_dtime disbursementdate,\n",
    "\tdigitalLoanAccountId,\n",
    "    fu_credo_score,\n",
    "    ln_fspd30_flag,\n",
    "\tln_mature_fspd30_flag,\t\n",
    "\tFROM \n",
    "    prj-prod-dataplatform.risk_mart.sil_risk_ds_master_20230101_20250206\n",
    "  WHERE \n",
    "     -- ln_disb_dtime >= '2023-07-01'\n",
    "    ln_appln_submit_datetime >= '2023-01-01'\n",
    "  -- AND\n",
    "  --   format_date('%Y-%m', ln_disb_dtime) = '2024-09'\n",
    "  AND\n",
    "    ln_fspd30_flag is not null\n",
    "  AND\n",
    "    fu_credo_score is not null\n",
    "  AND\n",
    "    ln_mature_fspd30_flag = 1\n",
    ")\n",
    "select * from fu_credo_score;\n",
    "\"\"\"\n",
    "\n",
    "fu_credo_scorefspd30 = client.query(sq).to_dataframe(progress_bar_type='tqdm')\n",
    "\n",
    "print(fu_credo_scorefspd30.head(2))\n",
    "\n",
    "gini_results = calculate_periodic_gini(fu_credo_scorefspd30, 'fu_credo_score', 'ln_fspd30_flag', 'FSPD30')\n",
    "M3FSPD30 = gini_results.copy()\n",
    "print(f\"The shape of dataframe after copy is:\\t{M3FSPD30.shape}\")\n",
    "print(M3FSPD30.columns.values)\n",
    "\n",
    "M3FSPD30.head()\n",
    "\n",
    "sq = \"\"\"\n",
    "with fu_credo_score as \n",
    "(SELECT \n",
    "    ln_disb_dtime disbursementdate,\n",
    "\tdigitalLoanAccountId,\n",
    "    fu_credo_score,\n",
    "    ln_fstpd30_flag,\n",
    "\tln_mature_fstpd30_flag,\t\n",
    "\tFROM \n",
    "    prj-prod-dataplatform.risk_mart.sil_risk_ds_master_20230101_20250206\n",
    "  WHERE \n",
    "     -- ln_disb_dtime >= '2023-07-01'\n",
    "    ln_appln_submit_datetime >= '2023-01-01'\n",
    "  -- AND\n",
    "  --   format_date('%Y-%m', ln_disb_dtime) = '2024-09'\n",
    "  AND\n",
    "    ln_fstpd30_flag is not null\n",
    "  AND\n",
    "    fu_credo_score is not null\n",
    "  AND\n",
    "    ln_mature_fstpd30_flag = 1\n",
    ")\n",
    "select * from fu_credo_score;\n",
    "\"\"\"\n",
    "\n",
    "fu_credo_scorefstpd30 = client.query(sq).to_dataframe(progress_bar_type='tqdm')\n",
    "\n",
    "print(fu_credo_scorefstpd30.head(2))\n",
    "\n",
    "gini_results = calculate_periodic_gini(fu_credo_scorefstpd30, 'fu_credo_score', 'ln_fstpd30_flag', 'FSTPD30')\n",
    "M4FSTPD30 = gini_results.copy()\n",
    "print(f\"The shape of dataframe after copy is:\\t{M4FSTPD30.shape}\")\n",
    "print(M4FSTPD30.columns.values)\n",
    "\n",
    "M4FSTPD30.head()\n",
    "\n"
   ]
  },
  {
   "cell_type": "code",
   "execution_count": null,
   "metadata": {},
   "outputs": [],
   "source": []
  },
  {
   "cell_type": "markdown",
   "metadata": {},
   "source": [
    "## Combining data"
   ]
  },
  {
   "cell_type": "code",
   "execution_count": 131,
   "metadata": {},
   "outputs": [
    {
     "data": {
      "text/plain": [
       "array(['start_date', 'end_date', 'fu_credo_score_FPD10_gini', 'period',\n",
       "       'Model_Name', 'version', 'bad_rate', 'fu_credo_score_FPD30_gini',\n",
       "       'fu_credo_score_FSPD30_gini', 'fu_credo_score_FSTPD30_gini'],\n",
       "      dtype=object)"
      ]
     },
     "execution_count": 131,
     "metadata": {},
     "output_type": "execute_result"
    }
   ],
   "source": [
    "import functools\n",
    "\n",
    "dataframes = [M1FPD10, M2FPD30, M3FSPD30, M4FSTPD30]\n",
    "common_columns = ['start_date', 'end_date', 'period', 'Model_Name','version', 'bad_rate']\n",
    "\n",
    "def merge_dataframes(df1, df2):\n",
    "    return pd.merge(df1, df2, on=common_columns, how='outer')\n",
    "\n",
    "final_df = functools.reduce(merge_dataframes, dataframes)\n",
    "\n",
    "final_df.columns.values"
   ]
  },
  {
   "cell_type": "code",
   "execution_count": 132,
   "metadata": {},
   "outputs": [],
   "source": [
    "final_df = final_df[['start_date', 'end_date','period',    'Model_Name', 'version', 'bad_rate','fu_credo_score_FPD10_gini', 'fu_credo_score_FPD30_gini',    'fu_credo_score_FSPD30_gini', 'fu_credo_score_FSTPD30_gini']].copy()"
   ]
  },
  {
   "cell_type": "code",
   "execution_count": 133,
   "metadata": {},
   "outputs": [
    {
     "data": {
      "text/plain": [
       "QueryJob<project=prj-prod-dataplatform, location=asia-southeast1, id=072afdc8-28ee-4fd9-a89e-04bdac5fc2d4>"
      ]
     },
     "execution_count": 133,
     "metadata": {},
     "output_type": "execute_result"
    }
   ],
   "source": [
    "sq = \"\"\"drop table if exists prj-prod-dataplatform.dap_ds_poweruser_playground.Model_gini_fu_credo_score\"\"\"\n",
    "client.query(sq)"
   ]
  },
  {
   "cell_type": "code",
   "execution_count": 134,
   "metadata": {},
   "outputs": [
    {
     "data": {
      "text/plain": [
       "LoadJob<project=prj-prod-dataplatform, location=asia-southeast1, id=cc052d2b-02e3-4c50-9217-36ee1aa6e6c8>"
      ]
     },
     "execution_count": 134,
     "metadata": {},
     "output_type": "execute_result"
    }
   ],
   "source": [
    "import pandas as pd\n",
    "from google.cloud import bigquery\n",
    "\n",
    "# Create a BigQuery client\n",
    "client = bigquery.Client('prj-prod-dataplatform')\n",
    "\n",
    "# Define your table schema\n",
    "table_schema = [\n",
    "    bigquery.SchemaField('start_date', 'TIMESTAMP'),\n",
    "    bigquery.SchemaField('end_date', 'TIMESTAMP'),\n",
    "    bigquery.SchemaField('period', 'STRING'),\n",
    "    bigquery.SchemaField('Model_Name', 'STRING'),\n",
    "    bigquery.SchemaField('version', 'STRING'),\n",
    "    bigquery.SchemaField('Badrate', 'STRING'),\n",
    "    bigquery.SchemaField('fu_credo_score_FPD10_gini', 'FLOAT'),\n",
    "    bigquery.SchemaField('fu_credo_score_FPD30_gini', 'FLOAT'),    \n",
    "    bigquery.SchemaField('fu_credo_score_FSPD30_gini', 'FLOAT'),\n",
    "    bigquery.SchemaField('fu_credo_score_FSTPD30_gini', 'FLOAT')\n",
    "    \n",
    "]\n",
    "\n",
    "# Create your BigQuery table\n",
    "table_id = 'prj-prod-dataplatform.dap_ds_poweruser_playground.Model_gini_fu_credo_score'\n",
    "table = bigquery.Table(table_id, schema=table_schema)\n",
    "table = client.create_table(table)\n",
    "\n",
    "# Load your DataFrame into BigQuery\n",
    "job_config = bigquery.LoadJobConfig(\n",
    "    write_disposition='WRITE_TRUNCATE'\n",
    ")\n",
    "\n",
    "load_job = client.load_table_from_dataframe(\n",
    "    final_df, table_id, job_config=job_config\n",
    ")\n",
    "\n",
    "load_job.result()"
   ]
  },
  {
   "cell_type": "code",
   "execution_count": 135,
   "metadata": {},
   "outputs": [
    {
     "data": {
      "text/html": [
       "<div>\n",
       "<style scoped>\n",
       "    .dataframe tbody tr th:only-of-type {\n",
       "        vertical-align: middle;\n",
       "    }\n",
       "\n",
       "    .dataframe tbody tr th {\n",
       "        vertical-align: top;\n",
       "    }\n",
       "\n",
       "    .dataframe thead th {\n",
       "        text-align: right;\n",
       "    }\n",
       "</style>\n",
       "<table border=\"1\" class=\"dataframe\">\n",
       "  <thead>\n",
       "    <tr style=\"text-align: right;\">\n",
       "      <th></th>\n",
       "      <th>start_date</th>\n",
       "      <th>end_date</th>\n",
       "      <th>period</th>\n",
       "      <th>Model_Name</th>\n",
       "      <th>version</th>\n",
       "      <th>bad_rate</th>\n",
       "      <th>fu_credo_score_FPD10_gini</th>\n",
       "      <th>fu_credo_score_FPD30_gini</th>\n",
       "      <th>fu_credo_score_FSPD30_gini</th>\n",
       "      <th>fu_credo_score_FSTPD30_gini</th>\n",
       "    </tr>\n",
       "  </thead>\n",
       "  <tbody>\n",
       "    <tr>\n",
       "      <th>0</th>\n",
       "      <td>2023-01-01</td>\n",
       "      <td>2023-01-31</td>\n",
       "      <td>Month</td>\n",
       "      <td>fu_credo_score</td>\n",
       "      <td>1.1.0</td>\n",
       "      <td>FPD10</td>\n",
       "      <td>0.023608</td>\n",
       "      <td>NaN</td>\n",
       "      <td>NaN</td>\n",
       "      <td>NaN</td>\n",
       "    </tr>\n",
       "    <tr>\n",
       "      <th>1</th>\n",
       "      <td>2023-01-02</td>\n",
       "      <td>2023-01-08</td>\n",
       "      <td>Week</td>\n",
       "      <td>fu_credo_score</td>\n",
       "      <td>1.1.0</td>\n",
       "      <td>FPD10</td>\n",
       "      <td>-0.032464</td>\n",
       "      <td>NaN</td>\n",
       "      <td>NaN</td>\n",
       "      <td>NaN</td>\n",
       "    </tr>\n",
       "    <tr>\n",
       "      <th>2</th>\n",
       "      <td>2023-01-09</td>\n",
       "      <td>2023-01-15</td>\n",
       "      <td>Week</td>\n",
       "      <td>fu_credo_score</td>\n",
       "      <td>1.1.0</td>\n",
       "      <td>FPD10</td>\n",
       "      <td>0.016278</td>\n",
       "      <td>NaN</td>\n",
       "      <td>NaN</td>\n",
       "      <td>NaN</td>\n",
       "    </tr>\n",
       "    <tr>\n",
       "      <th>3</th>\n",
       "      <td>2023-01-16</td>\n",
       "      <td>2023-01-22</td>\n",
       "      <td>Week</td>\n",
       "      <td>fu_credo_score</td>\n",
       "      <td>1.1.0</td>\n",
       "      <td>FPD10</td>\n",
       "      <td>0.153247</td>\n",
       "      <td>NaN</td>\n",
       "      <td>NaN</td>\n",
       "      <td>NaN</td>\n",
       "    </tr>\n",
       "    <tr>\n",
       "      <th>4</th>\n",
       "      <td>2023-01-23</td>\n",
       "      <td>2023-01-29</td>\n",
       "      <td>Week</td>\n",
       "      <td>fu_credo_score</td>\n",
       "      <td>1.1.0</td>\n",
       "      <td>FPD10</td>\n",
       "      <td>0.120242</td>\n",
       "      <td>NaN</td>\n",
       "      <td>NaN</td>\n",
       "      <td>NaN</td>\n",
       "    </tr>\n",
       "  </tbody>\n",
       "</table>\n",
       "</div>"
      ],
      "text/plain": [
       "  start_date   end_date period      Model_Name version bad_rate  \\\n",
       "0 2023-01-01 2023-01-31  Month  fu_credo_score   1.1.0    FPD10   \n",
       "1 2023-01-02 2023-01-08   Week  fu_credo_score   1.1.0    FPD10   \n",
       "2 2023-01-09 2023-01-15   Week  fu_credo_score   1.1.0    FPD10   \n",
       "3 2023-01-16 2023-01-22   Week  fu_credo_score   1.1.0    FPD10   \n",
       "4 2023-01-23 2023-01-29   Week  fu_credo_score   1.1.0    FPD10   \n",
       "\n",
       "   fu_credo_score_FPD10_gini  fu_credo_score_FPD30_gini  \\\n",
       "0                   0.023608                        NaN   \n",
       "1                  -0.032464                        NaN   \n",
       "2                   0.016278                        NaN   \n",
       "3                   0.153247                        NaN   \n",
       "4                   0.120242                        NaN   \n",
       "\n",
       "   fu_credo_score_FSPD30_gini  fu_credo_score_FSTPD30_gini  \n",
       "0                         NaN                          NaN  \n",
       "1                         NaN                          NaN  \n",
       "2                         NaN                          NaN  \n",
       "3                         NaN                          NaN  \n",
       "4                         NaN                          NaN  "
      ]
     },
     "execution_count": 135,
     "metadata": {},
     "output_type": "execute_result"
    }
   ],
   "source": [
    "final_df.head()"
   ]
  },
  {
   "cell_type": "markdown",
   "metadata": {},
   "source": [
    "# r_credo_score"
   ]
  },
  {
   "cell_type": "code",
   "execution_count": 136,
   "metadata": {},
   "outputs": [
    {
     "name": "stdout",
     "output_type": "stream",
     "text": [
      "Job ID 1bce65e5-51a2-4849-9a77-e890b8925342 successfully executed: 100%|\u001b[32m██████████\u001b[0m|"
     ]
    },
    {
     "name": "stderr",
     "output_type": "stream",
     "text": [
      "d:\\Anaconda3\\envs\\inc_env\\lib\\site-packages\\google\\cloud\\bigquery\\table.py:1820: UserWarning: BigQuery Storage module not found, fetch data with the REST endpoint instead.\n",
      "  warnings.warn(\n"
     ]
    },
    {
     "name": "stdout",
     "output_type": "stream",
     "text": [
      "\n",
      "Downloading: 100%|\u001b[32m██████████\u001b[0m|\n",
      "The shape of dataframe after copy is:\t(132, 7)\n",
      "Job ID 92f6ccaf-8097-46e4-a487-34393c2b0546 successfully executed: 100%|\u001b[32m██████████\u001b[0m|"
     ]
    },
    {
     "name": "stderr",
     "output_type": "stream",
     "text": [
      "d:\\Anaconda3\\envs\\inc_env\\lib\\site-packages\\google\\cloud\\bigquery\\table.py:1820: UserWarning: BigQuery Storage module not found, fetch data with the REST endpoint instead.\n",
      "  warnings.warn(\n"
     ]
    },
    {
     "name": "stdout",
     "output_type": "stream",
     "text": [
      "\n",
      "Downloading: 100%|\u001b[32m██████████\u001b[0m|\n",
      "The shape of dataframe after copy is:\t(128, 7)\n",
      "Job ID 9f7712ec-9c0c-4e7a-a6c9-c83d48f8a760 successfully executed: 100%|\u001b[32m██████████\u001b[0m|"
     ]
    },
    {
     "name": "stderr",
     "output_type": "stream",
     "text": [
      "d:\\Anaconda3\\envs\\inc_env\\lib\\site-packages\\google\\cloud\\bigquery\\table.py:1820: UserWarning: BigQuery Storage module not found, fetch data with the REST endpoint instead.\n",
      "  warnings.warn(\n"
     ]
    },
    {
     "name": "stdout",
     "output_type": "stream",
     "text": [
      "\n",
      "Downloading: 100%|\u001b[32m██████████\u001b[0m|\n",
      "     disbursementdate                  digitalLoanAccountId  r_credo_score  \\\n",
      "0 2024-04-29 17:13:42  ec0662e6-2722-41c4-b483-70f9ff80ca2c       0.345692   \n",
      "1 2023-11-08 12:53:36  183b56bf-1764-4bf7-a348-a70c4f504803       0.150332   \n",
      "\n",
      "   ln_fspd30_flag  ln_mature_fspd30_flag  \n",
      "0               0                      1  \n",
      "1               0                      1  \n",
      "The shape of dataframe after copy is:\t(123, 7)\n",
      "['start_date' 'end_date' 'r_credo_score_FSPD30_gini' 'period' 'Model_Name'\n",
      " 'version' 'bad_rate']\n",
      "Job ID 8a034567-41aa-4986-8db2-7d142493bb59 successfully executed: 100%|\u001b[32m██████████\u001b[0m|"
     ]
    },
    {
     "name": "stderr",
     "output_type": "stream",
     "text": [
      "d:\\Anaconda3\\envs\\inc_env\\lib\\site-packages\\google\\cloud\\bigquery\\table.py:1820: UserWarning: BigQuery Storage module not found, fetch data with the REST endpoint instead.\n",
      "  warnings.warn(\n"
     ]
    },
    {
     "name": "stdout",
     "output_type": "stream",
     "text": [
      "\n",
      "Downloading: 100%|\u001b[32m██████████\u001b[0m|\n",
      "     disbursementdate                  digitalLoanAccountId  r_credo_score  \\\n",
      "0 2023-06-22 14:25:06  12d13dfc-e307-4605-af97-361327cb3247       0.212395   \n",
      "1 2024-07-21 10:34:01  4238aea5-2cbb-4356-879b-71b4d3486fd2       0.128083   \n",
      "\n",
      "   ln_fstpd30_flag  ln_mature_fstpd30_flag  \n",
      "0                0                       1  \n",
      "1                0                       1  \n",
      "The shape of dataframe after copy is:\t(117, 7)\n",
      "['start_date' 'end_date' 'r_credo_score_FSTPD30_gini' 'period'\n",
      " 'Model_Name' 'version' 'bad_rate']\n"
     ]
    },
    {
     "data": {
      "text/html": [
       "<div>\n",
       "<style scoped>\n",
       "    .dataframe tbody tr th:only-of-type {\n",
       "        vertical-align: middle;\n",
       "    }\n",
       "\n",
       "    .dataframe tbody tr th {\n",
       "        vertical-align: top;\n",
       "    }\n",
       "\n",
       "    .dataframe thead th {\n",
       "        text-align: right;\n",
       "    }\n",
       "</style>\n",
       "<table border=\"1\" class=\"dataframe\">\n",
       "  <thead>\n",
       "    <tr style=\"text-align: right;\">\n",
       "      <th></th>\n",
       "      <th>start_date</th>\n",
       "      <th>end_date</th>\n",
       "      <th>r_credo_score_FSTPD30_gini</th>\n",
       "      <th>period</th>\n",
       "      <th>Model_Name</th>\n",
       "      <th>version</th>\n",
       "      <th>bad_rate</th>\n",
       "    </tr>\n",
       "  </thead>\n",
       "  <tbody>\n",
       "    <tr>\n",
       "      <th>0</th>\n",
       "      <td>2023-01-01</td>\n",
       "      <td>2023-01-31</td>\n",
       "      <td>0.048984</td>\n",
       "      <td>Month</td>\n",
       "      <td>r_credo_score</td>\n",
       "      <td>1.1.0</td>\n",
       "      <td>FSTPD30</td>\n",
       "    </tr>\n",
       "    <tr>\n",
       "      <th>1</th>\n",
       "      <td>2023-01-02</td>\n",
       "      <td>2023-01-08</td>\n",
       "      <td>0.014955</td>\n",
       "      <td>Week</td>\n",
       "      <td>r_credo_score</td>\n",
       "      <td>1.1.0</td>\n",
       "      <td>FSTPD30</td>\n",
       "    </tr>\n",
       "    <tr>\n",
       "      <th>2</th>\n",
       "      <td>2023-01-09</td>\n",
       "      <td>2023-01-15</td>\n",
       "      <td>0.193885</td>\n",
       "      <td>Week</td>\n",
       "      <td>r_credo_score</td>\n",
       "      <td>1.1.0</td>\n",
       "      <td>FSTPD30</td>\n",
       "    </tr>\n",
       "    <tr>\n",
       "      <th>3</th>\n",
       "      <td>2023-01-16</td>\n",
       "      <td>2023-01-22</td>\n",
       "      <td>-0.019056</td>\n",
       "      <td>Week</td>\n",
       "      <td>r_credo_score</td>\n",
       "      <td>1.1.0</td>\n",
       "      <td>FSTPD30</td>\n",
       "    </tr>\n",
       "    <tr>\n",
       "      <th>4</th>\n",
       "      <td>2023-01-23</td>\n",
       "      <td>2023-01-29</td>\n",
       "      <td>0.024691</td>\n",
       "      <td>Week</td>\n",
       "      <td>r_credo_score</td>\n",
       "      <td>1.1.0</td>\n",
       "      <td>FSTPD30</td>\n",
       "    </tr>\n",
       "  </tbody>\n",
       "</table>\n",
       "</div>"
      ],
      "text/plain": [
       "  start_date   end_date  r_credo_score_FSTPD30_gini period     Model_Name  \\\n",
       "0 2023-01-01 2023-01-31                    0.048984  Month  r_credo_score   \n",
       "1 2023-01-02 2023-01-08                    0.014955   Week  r_credo_score   \n",
       "2 2023-01-09 2023-01-15                    0.193885   Week  r_credo_score   \n",
       "3 2023-01-16 2023-01-22                   -0.019056   Week  r_credo_score   \n",
       "4 2023-01-23 2023-01-29                    0.024691   Week  r_credo_score   \n",
       "\n",
       "  version bad_rate  \n",
       "0   1.1.0  FSTPD30  \n",
       "1   1.1.0  FSTPD30  \n",
       "2   1.1.0  FSTPD30  \n",
       "3   1.1.0  FSTPD30  \n",
       "4   1.1.0  FSTPD30  "
      ]
     },
     "execution_count": 136,
     "metadata": {},
     "output_type": "execute_result"
    }
   ],
   "source": [
    "\n",
    "\n",
    "sq = \"\"\"\n",
    "with r_credo_score as \n",
    "(SELECT \n",
    "    ln_disb_dtime disbursementdate,\n",
    "\tdigitalLoanAccountId,\n",
    "    r_credo_score,\n",
    "    ln_fpd10_flag,\n",
    "\tln_mature_fpd10_flag,\t\n",
    "\tFROM \n",
    "    prj-prod-dataplatform.risk_mart.sil_risk_ds_master_20230101_20250206\n",
    "  WHERE \n",
    "     -- ln_disb_dtime >= '2023-07-01'\n",
    "    ln_appln_submit_datetime >= '2023-01-01'\n",
    "  -- AND\n",
    "  --   format_date('%Y-%m', ln_disb_dtime) = '2024-09'\n",
    "  AND\n",
    "    ln_fpd10_flag is not null\n",
    "  AND\n",
    "    r_credo_score is not null\n",
    "  AND\n",
    "    ln_mature_fpd10_flag = 1\n",
    ")\n",
    "select * from r_credo_score;\n",
    "\"\"\"\n",
    "\n",
    "r_credo_scorefpd10 = client.query(sq).to_dataframe(progress_bar_type='tqdm')\n",
    "\n",
    "r_credo_scorefpd10.head()\n",
    "\n",
    "gini_results = calculate_periodic_gini(r_credo_scorefpd10, 'r_credo_score', 'ln_fpd10_flag', 'FPD10')\n",
    "M1FPD10 = gini_results.copy()\n",
    "print(f\"The shape of dataframe after copy is:\\t{M1FPD10.shape}\")\n",
    "M1FPD10.columns.values\n",
    "\n",
    "# FPD30\n",
    "\n",
    "sq = \"\"\"\n",
    "with r_credo_score as \n",
    "(SELECT \n",
    "    ln_disb_dtime disbursementdate,\n",
    "\tdigitalLoanAccountId,\n",
    "    r_credo_score,\n",
    "    ln_fpd30_flag,\n",
    "\tln_mature_fpd30_flag,\t\n",
    "\tFROM \n",
    "    prj-prod-dataplatform.risk_mart.sil_risk_ds_master_20230101_20250206\n",
    "  WHERE \n",
    "     -- ln_disb_dtime >= '2023-07-01'\n",
    "    ln_appln_submit_datetime >= '2023-01-01'\n",
    "  -- AND\n",
    "  --   format_date('%Y-%m', ln_disb_dtime) = '2024-09'\n",
    "  AND\n",
    "    ln_fpd30_flag is not null\n",
    "  AND\n",
    "    r_credo_score is not null\n",
    "  AND\n",
    "    ln_mature_fpd30_flag = 1\n",
    ")\n",
    "select * from r_credo_score;\n",
    "\"\"\"\n",
    "\n",
    "r_credo_scorefpd30 = client.query(sq).to_dataframe(progress_bar_type='tqdm')\n",
    "\n",
    "r_credo_scorefpd30.head()\n",
    "\n",
    "gini_results = calculate_periodic_gini(r_credo_scorefpd30, 'r_credo_score', 'ln_fpd30_flag', 'FPD30')\n",
    "M2FPD30 = gini_results.copy()\n",
    "print(f\"The shape of dataframe after copy is:\\t{M2FPD30.shape}\")\n",
    "M2FPD30.columns.values\n",
    "\n",
    "sq = \"\"\"\n",
    "with r_credo_score as \n",
    "(SELECT \n",
    "    ln_disb_dtime disbursementdate,\n",
    "\tdigitalLoanAccountId,\n",
    "    r_credo_score,\n",
    "    ln_fspd30_flag,\n",
    "\tln_mature_fspd30_flag,\t\n",
    "\tFROM \n",
    "    prj-prod-dataplatform.risk_mart.sil_risk_ds_master_20230101_20250206\n",
    "  WHERE \n",
    "     -- ln_disb_dtime >= '2023-07-01'\n",
    "    ln_appln_submit_datetime >= '2023-01-01'\n",
    "  -- AND\n",
    "  --   format_date('%Y-%m', ln_disb_dtime) = '2024-09'\n",
    "  AND\n",
    "    ln_fspd30_flag is not null\n",
    "  AND\n",
    "    r_credo_score is not null\n",
    "  AND\n",
    "    ln_mature_fspd30_flag = 1\n",
    ")\n",
    "select * from r_credo_score;\n",
    "\"\"\"\n",
    "\n",
    "r_credo_scorefspd30 = client.query(sq).to_dataframe(progress_bar_type='tqdm')\n",
    "\n",
    "print(r_credo_scorefspd30.head(2))\n",
    "\n",
    "gini_results = calculate_periodic_gini(r_credo_scorefspd30, 'r_credo_score', 'ln_fspd30_flag', 'FSPD30')\n",
    "M3FSPD30 = gini_results.copy()\n",
    "print(f\"The shape of dataframe after copy is:\\t{M3FSPD30.shape}\")\n",
    "print(M3FSPD30.columns.values)\n",
    "\n",
    "M3FSPD30.head()\n",
    "\n",
    "sq = \"\"\"\n",
    "with r_credo_score as \n",
    "(SELECT \n",
    "    ln_disb_dtime disbursementdate,\n",
    "\tdigitalLoanAccountId,\n",
    "    r_credo_score,\n",
    "    ln_fstpd30_flag,\n",
    "\tln_mature_fstpd30_flag,\t\n",
    "\tFROM \n",
    "    prj-prod-dataplatform.risk_mart.sil_risk_ds_master_20230101_20250206\n",
    "  WHERE \n",
    "     -- ln_disb_dtime >= '2023-07-01'\n",
    "    ln_appln_submit_datetime >= '2023-01-01'\n",
    "  -- AND\n",
    "  --   format_date('%Y-%m', ln_disb_dtime) = '2024-09'\n",
    "  AND\n",
    "    ln_fstpd30_flag is not null\n",
    "  AND\n",
    "    r_credo_score is not null\n",
    "  AND\n",
    "    ln_mature_fstpd30_flag = 1\n",
    ")\n",
    "select * from r_credo_score;\n",
    "\"\"\"\n",
    "\n",
    "r_credo_scorefstpd30 = client.query(sq).to_dataframe(progress_bar_type='tqdm')\n",
    "\n",
    "print(r_credo_scorefstpd30.head(2))\n",
    "\n",
    "gini_results = calculate_periodic_gini(r_credo_scorefstpd30, 'r_credo_score', 'ln_fstpd30_flag', 'FSTPD30')\n",
    "M4FSTPD30 = gini_results.copy()\n",
    "print(f\"The shape of dataframe after copy is:\\t{M4FSTPD30.shape}\")\n",
    "print(M4FSTPD30.columns.values)\n",
    "\n",
    "M4FSTPD30.head()\n",
    "\n"
   ]
  },
  {
   "cell_type": "markdown",
   "metadata": {},
   "source": [
    "## Combining data"
   ]
  },
  {
   "cell_type": "code",
   "execution_count": 137,
   "metadata": {},
   "outputs": [
    {
     "data": {
      "text/plain": [
       "array(['start_date', 'end_date', 'r_credo_score_FPD10_gini', 'period',\n",
       "       'Model_Name', 'version', 'bad_rate', 'r_credo_score_FPD30_gini',\n",
       "       'r_credo_score_FSPD30_gini', 'r_credo_score_FSTPD30_gini'],\n",
       "      dtype=object)"
      ]
     },
     "execution_count": 137,
     "metadata": {},
     "output_type": "execute_result"
    }
   ],
   "source": [
    "import functools\n",
    "\n",
    "dataframes = [M1FPD10, M2FPD30, M3FSPD30, M4FSTPD30]\n",
    "common_columns = ['start_date', 'end_date', 'period', 'Model_Name','version', 'bad_rate']\n",
    "\n",
    "def merge_dataframes(df1, df2):\n",
    "    return pd.merge(df1, df2, on=common_columns, how='outer')\n",
    "\n",
    "final_df = functools.reduce(merge_dataframes, dataframes)\n",
    "\n",
    "final_df.columns.values"
   ]
  },
  {
   "cell_type": "code",
   "execution_count": 138,
   "metadata": {},
   "outputs": [],
   "source": [
    "final_df = final_df[['start_date', 'end_date', 'period',   'Model_Name', 'version', 'bad_rate','r_credo_score_FPD10_gini','r_credo_score_FPD30_gini',    'r_credo_score_FSPD30_gini', 'r_credo_score_FSTPD30_gini']].copy()"
   ]
  },
  {
   "cell_type": "code",
   "execution_count": null,
   "metadata": {},
   "outputs": [],
   "source": []
  },
  {
   "cell_type": "code",
   "execution_count": 139,
   "metadata": {},
   "outputs": [
    {
     "data": {
      "text/plain": [
       "QueryJob<project=prj-prod-dataplatform, location=asia-southeast1, id=2936b61a-486e-4676-b816-808f42ca2d67>"
      ]
     },
     "execution_count": 139,
     "metadata": {},
     "output_type": "execute_result"
    }
   ],
   "source": [
    "sq = \"\"\"drop table if exists prj-prod-dataplatform.dap_ds_poweruser_playground.Model_gini_r_credo_score;\"\"\"\n",
    "client.query(sq)"
   ]
  },
  {
   "cell_type": "code",
   "execution_count": 140,
   "metadata": {},
   "outputs": [
    {
     "data": {
      "text/plain": [
       "LoadJob<project=prj-prod-dataplatform, location=asia-southeast1, id=6effb36c-460b-46c9-baf2-05f3aae96c3d>"
      ]
     },
     "execution_count": 140,
     "metadata": {},
     "output_type": "execute_result"
    }
   ],
   "source": [
    "import pandas as pd\n",
    "from google.cloud import bigquery\n",
    "\n",
    "# Create a BigQuery client\n",
    "client = bigquery.Client('prj-prod-dataplatform')\n",
    "\n",
    "# Define your table schema\n",
    "table_schema = [\n",
    "    bigquery.SchemaField('start_date', 'TIMESTAMP'),\n",
    "    bigquery.SchemaField('end_date', 'TIMESTAMP'),\n",
    "    bigquery.SchemaField('period', 'STRING'),\n",
    "    bigquery.SchemaField('Model_Name', 'STRING'),\n",
    "    bigquery.SchemaField('version', 'STRING'),\n",
    "    bigquery.SchemaField('Badrate', 'STRING'),\n",
    "    bigquery.SchemaField('r_credo_score_FPD10_gini', 'FLOAT'),\n",
    "    bigquery.SchemaField('r_credo_score_FPD30_gini', 'FLOAT'),    \n",
    "    bigquery.SchemaField('r_credo_score_FSPD30_gini', 'FLOAT'),\n",
    "    bigquery.SchemaField('r_credo_score_FSTPD30_gini', 'FLOAT')\n",
    "    \n",
    "]\n",
    "\n",
    "# Create your BigQuery table\n",
    "table_id = 'prj-prod-dataplatform.dap_ds_poweruser_playground.Model_gini_r_credo_score'\n",
    "table = bigquery.Table(table_id, schema=table_schema)\n",
    "table = client.create_table(table)\n",
    "\n",
    "# Load your DataFrame into BigQuery\n",
    "job_config = bigquery.LoadJobConfig(\n",
    "    write_disposition='WRITE_TRUNCATE'\n",
    ")\n",
    "\n",
    "load_job = client.load_table_from_dataframe(\n",
    "    final_df, table_id, job_config=job_config\n",
    ")\n",
    "\n",
    "load_job.result()"
   ]
  },
  {
   "cell_type": "markdown",
   "metadata": {},
   "source": [
    "# old_gen_credo_score"
   ]
  },
  {
   "cell_type": "code",
   "execution_count": 141,
   "metadata": {},
   "outputs": [
    {
     "name": "stdout",
     "output_type": "stream",
     "text": [
      "Job ID fc5fa070-64b5-49a5-9d88-2e04e1bde160 successfully executed: 100%|\u001b[32m██████████\u001b[0m|"
     ]
    },
    {
     "name": "stderr",
     "output_type": "stream",
     "text": [
      "d:\\Anaconda3\\envs\\inc_env\\lib\\site-packages\\google\\cloud\\bigquery\\table.py:1820: UserWarning: BigQuery Storage module not found, fetch data with the REST endpoint instead.\n",
      "  warnings.warn(\n"
     ]
    },
    {
     "name": "stdout",
     "output_type": "stream",
     "text": [
      "\n",
      "Downloading: 100%|\u001b[32m██████████\u001b[0m|\n",
      "The shape of dataframe after copy is:\t(132, 7)\n",
      "Job ID d990cfc1-4309-4b43-b0ea-c4b15592548f successfully executed: 100%|\u001b[32m██████████\u001b[0m|"
     ]
    },
    {
     "name": "stderr",
     "output_type": "stream",
     "text": [
      "d:\\Anaconda3\\envs\\inc_env\\lib\\site-packages\\google\\cloud\\bigquery\\table.py:1820: UserWarning: BigQuery Storage module not found, fetch data with the REST endpoint instead.\n",
      "  warnings.warn(\n"
     ]
    },
    {
     "name": "stdout",
     "output_type": "stream",
     "text": [
      "\n",
      "Downloading: 100%|\u001b[32m██████████\u001b[0m|\n",
      "The shape of dataframe after copy is:\t(128, 7)\n",
      "Job ID 61ba3e88-d064-4871-9287-dcfb8ad97c5d successfully executed: 100%|\u001b[32m██████████\u001b[0m|"
     ]
    },
    {
     "name": "stderr",
     "output_type": "stream",
     "text": [
      "d:\\Anaconda3\\envs\\inc_env\\lib\\site-packages\\google\\cloud\\bigquery\\table.py:1820: UserWarning: BigQuery Storage module not found, fetch data with the REST endpoint instead.\n",
      "  warnings.warn(\n"
     ]
    },
    {
     "name": "stdout",
     "output_type": "stream",
     "text": [
      "\n",
      "Downloading: 100%|\u001b[32m██████████\u001b[0m|\n",
      "     disbursementdate                  digitalLoanAccountId  \\\n",
      "0 2024-04-29 17:13:42  ec0662e6-2722-41c4-b483-70f9ff80ca2c   \n",
      "1 2024-05-07 13:57:01  ce1a4a6a-f9a8-4353-a102-5c2874173c8e   \n",
      "\n",
      "  old_gen_credo_score  ln_fspd30_flag  ln_mature_fspd30_flag  \n",
      "0                 400               0                      1  \n",
      "1                 440               0                      1  \n",
      "The shape of dataframe after copy is:\t(123, 7)\n",
      "['start_date' 'end_date' 'old_gen_credo_score_FSPD30_gini' 'period'\n",
      " 'Model_Name' 'version' 'bad_rate']\n",
      "Job ID 83d09d0b-c6f7-40ff-a3a9-b761c1854ce1 successfully executed: 100%|\u001b[32m██████████\u001b[0m|"
     ]
    },
    {
     "name": "stderr",
     "output_type": "stream",
     "text": [
      "d:\\Anaconda3\\envs\\inc_env\\lib\\site-packages\\google\\cloud\\bigquery\\table.py:1820: UserWarning: BigQuery Storage module not found, fetch data with the REST endpoint instead.\n",
      "  warnings.warn(\n"
     ]
    },
    {
     "name": "stdout",
     "output_type": "stream",
     "text": [
      "\n",
      "Downloading: 100%|\u001b[32m██████████\u001b[0m|\n",
      "     disbursementdate                  digitalLoanAccountId  \\\n",
      "0 2024-04-29 17:13:42  ec0662e6-2722-41c4-b483-70f9ff80ca2c   \n",
      "1 2024-05-07 13:57:01  ce1a4a6a-f9a8-4353-a102-5c2874173c8e   \n",
      "\n",
      "  old_gen_credo_score  ln_fstpd30_flag  ln_mature_fstpd30_flag  \n",
      "0                 400                0                       1  \n",
      "1                 440                0                       1  \n",
      "The shape of dataframe after copy is:\t(117, 7)\n",
      "['start_date' 'end_date' 'old_gen_credo_score_FSTPD30_gini' 'period'\n",
      " 'Model_Name' 'version' 'bad_rate']\n"
     ]
    },
    {
     "data": {
      "text/html": [
       "<div>\n",
       "<style scoped>\n",
       "    .dataframe tbody tr th:only-of-type {\n",
       "        vertical-align: middle;\n",
       "    }\n",
       "\n",
       "    .dataframe tbody tr th {\n",
       "        vertical-align: top;\n",
       "    }\n",
       "\n",
       "    .dataframe thead th {\n",
       "        text-align: right;\n",
       "    }\n",
       "</style>\n",
       "<table border=\"1\" class=\"dataframe\">\n",
       "  <thead>\n",
       "    <tr style=\"text-align: right;\">\n",
       "      <th></th>\n",
       "      <th>start_date</th>\n",
       "      <th>end_date</th>\n",
       "      <th>old_gen_credo_score_FSTPD30_gini</th>\n",
       "      <th>period</th>\n",
       "      <th>Model_Name</th>\n",
       "      <th>version</th>\n",
       "      <th>bad_rate</th>\n",
       "    </tr>\n",
       "  </thead>\n",
       "  <tbody>\n",
       "    <tr>\n",
       "      <th>0</th>\n",
       "      <td>2023-01-01</td>\n",
       "      <td>2023-01-31</td>\n",
       "      <td>0.120833</td>\n",
       "      <td>Month</td>\n",
       "      <td>old_gen_credo_score</td>\n",
       "      <td>1.1.0</td>\n",
       "      <td>FSTPD30</td>\n",
       "    </tr>\n",
       "    <tr>\n",
       "      <th>1</th>\n",
       "      <td>2023-01-02</td>\n",
       "      <td>2023-01-08</td>\n",
       "      <td>0.229296</td>\n",
       "      <td>Week</td>\n",
       "      <td>old_gen_credo_score</td>\n",
       "      <td>1.1.0</td>\n",
       "      <td>FSTPD30</td>\n",
       "    </tr>\n",
       "    <tr>\n",
       "      <th>2</th>\n",
       "      <td>2023-01-09</td>\n",
       "      <td>2023-01-15</td>\n",
       "      <td>0.138871</td>\n",
       "      <td>Week</td>\n",
       "      <td>old_gen_credo_score</td>\n",
       "      <td>1.1.0</td>\n",
       "      <td>FSTPD30</td>\n",
       "    </tr>\n",
       "    <tr>\n",
       "      <th>3</th>\n",
       "      <td>2023-01-16</td>\n",
       "      <td>2023-01-22</td>\n",
       "      <td>0.132488</td>\n",
       "      <td>Week</td>\n",
       "      <td>old_gen_credo_score</td>\n",
       "      <td>1.1.0</td>\n",
       "      <td>FSTPD30</td>\n",
       "    </tr>\n",
       "    <tr>\n",
       "      <th>4</th>\n",
       "      <td>2023-01-23</td>\n",
       "      <td>2023-01-29</td>\n",
       "      <td>0.000744</td>\n",
       "      <td>Week</td>\n",
       "      <td>old_gen_credo_score</td>\n",
       "      <td>1.1.0</td>\n",
       "      <td>FSTPD30</td>\n",
       "    </tr>\n",
       "  </tbody>\n",
       "</table>\n",
       "</div>"
      ],
      "text/plain": [
       "  start_date   end_date  old_gen_credo_score_FSTPD30_gini period  \\\n",
       "0 2023-01-01 2023-01-31                          0.120833  Month   \n",
       "1 2023-01-02 2023-01-08                          0.229296   Week   \n",
       "2 2023-01-09 2023-01-15                          0.138871   Week   \n",
       "3 2023-01-16 2023-01-22                          0.132488   Week   \n",
       "4 2023-01-23 2023-01-29                          0.000744   Week   \n",
       "\n",
       "            Model_Name version bad_rate  \n",
       "0  old_gen_credo_score   1.1.0  FSTPD30  \n",
       "1  old_gen_credo_score   1.1.0  FSTPD30  \n",
       "2  old_gen_credo_score   1.1.0  FSTPD30  \n",
       "3  old_gen_credo_score   1.1.0  FSTPD30  \n",
       "4  old_gen_credo_score   1.1.0  FSTPD30  "
      ]
     },
     "execution_count": 141,
     "metadata": {},
     "output_type": "execute_result"
    }
   ],
   "source": [
    "\n",
    "\n",
    "sq = \"\"\"\n",
    "with old_gen_credo_score as \n",
    "(SELECT \n",
    "    ln_disb_dtime disbursementdate,\n",
    "\tdigitalLoanAccountId,\n",
    "    old_gen_credo_score,\n",
    "    ln_fpd10_flag,\n",
    "\tln_mature_fpd10_flag,\t\n",
    "\tFROM \n",
    "    prj-prod-dataplatform.risk_mart.sil_risk_ds_master_20230101_20250206\n",
    "  WHERE \n",
    "     -- ln_disb_dtime >= '2023-07-01'\n",
    "    ln_appln_submit_datetime >= '2023-01-01'\n",
    "  -- AND\n",
    "  --   format_date('%Y-%m', ln_disb_dtime) = '2024-09'\n",
    "  AND\n",
    "    ln_fpd10_flag is not null\n",
    "  AND\n",
    "    old_gen_credo_score is not null\n",
    "  AND\n",
    "    ln_mature_fpd10_flag = 1\n",
    ")\n",
    "select * from old_gen_credo_score;\n",
    "\"\"\"\n",
    "\n",
    "old_gen_credo_scorefpd10 = client.query(sq).to_dataframe(progress_bar_type='tqdm')\n",
    "\n",
    "old_gen_credo_scorefpd10.head()\n",
    "\n",
    "gini_results = calculate_periodic_gini_threedigit(old_gen_credo_scorefpd10, 'old_gen_credo_score', 'ln_fpd10_flag', 'FPD10')\n",
    "M1FPD10 = gini_results.copy()\n",
    "print(f\"The shape of dataframe after copy is:\\t{M1FPD10.shape}\")\n",
    "M1FPD10.columns.values\n",
    "\n",
    "# FPD30\n",
    "\n",
    "sq = \"\"\"\n",
    "with old_gen_credo_score as \n",
    "(SELECT \n",
    "    ln_disb_dtime disbursementdate,\n",
    "\tdigitalLoanAccountId,\n",
    "    old_gen_credo_score,\n",
    "    ln_fpd30_flag,\n",
    "\tln_mature_fpd30_flag,\t\n",
    "\tFROM \n",
    "    prj-prod-dataplatform.risk_mart.sil_risk_ds_master_20230101_20250206\n",
    "  WHERE \n",
    "     -- ln_disb_dtime >= '2023-07-01'\n",
    "    ln_appln_submit_datetime >= '2023-01-01'\n",
    "  -- AND\n",
    "  --   format_date('%Y-%m', ln_disb_dtime) = '2024-09'\n",
    "  AND\n",
    "    ln_fpd30_flag is not null\n",
    "  AND\n",
    "    old_gen_credo_score is not null\n",
    "  AND\n",
    "    ln_mature_fpd30_flag = 1\n",
    ")\n",
    "select * from old_gen_credo_score;\n",
    "\"\"\"\n",
    "\n",
    "old_gen_credo_scorefpd30 = client.query(sq).to_dataframe(progress_bar_type='tqdm')\n",
    "\n",
    "old_gen_credo_scorefpd30.head()\n",
    "\n",
    "gini_results = calculate_periodic_gini_threedigit(old_gen_credo_scorefpd30, 'old_gen_credo_score', 'ln_fpd30_flag', 'FPD30')\n",
    "M2FPD30 = gini_results.copy()\n",
    "print(f\"The shape of dataframe after copy is:\\t{M2FPD30.shape}\")\n",
    "M2FPD30.columns.values\n",
    "\n",
    "sq = \"\"\"\n",
    "with old_gen_credo_score as \n",
    "(SELECT \n",
    "    ln_disb_dtime disbursementdate,\n",
    "\tdigitalLoanAccountId,\n",
    "    old_gen_credo_score,\n",
    "    ln_fspd30_flag,\n",
    "\tln_mature_fspd30_flag,\t\n",
    "\tFROM \n",
    "    prj-prod-dataplatform.risk_mart.sil_risk_ds_master_20230101_20250206\n",
    "  WHERE \n",
    "     -- ln_disb_dtime >= '2023-07-01'\n",
    "    ln_appln_submit_datetime >= '2023-01-01'\n",
    "  -- AND\n",
    "  --   format_date('%Y-%m', ln_disb_dtime) = '2024-09'\n",
    "  AND\n",
    "    ln_fspd30_flag is not null\n",
    "  AND\n",
    "    old_gen_credo_score is not null\n",
    "  AND\n",
    "    ln_mature_fspd30_flag = 1\n",
    ")\n",
    "select * from old_gen_credo_score;\n",
    "\"\"\"\n",
    "\n",
    "old_gen_credo_scorefspd30 = client.query(sq).to_dataframe(progress_bar_type='tqdm')\n",
    "\n",
    "print(old_gen_credo_scorefspd30.head(2))\n",
    "\n",
    "gini_results = calculate_periodic_gini_threedigit(old_gen_credo_scorefspd30, 'old_gen_credo_score', 'ln_fspd30_flag', 'FSPD30')\n",
    "M3FSPD30 = gini_results.copy()\n",
    "print(f\"The shape of dataframe after copy is:\\t{M3FSPD30.shape}\")\n",
    "print(M3FSPD30.columns.values)\n",
    "\n",
    "M3FSPD30.head()\n",
    "\n",
    "sq = \"\"\"\n",
    "with old_gen_credo_score as \n",
    "(SELECT \n",
    "    ln_disb_dtime disbursementdate,\n",
    "\tdigitalLoanAccountId,\n",
    "    old_gen_credo_score,\n",
    "    ln_fstpd30_flag,\n",
    "\tln_mature_fstpd30_flag,\t\n",
    "\tFROM \n",
    "    prj-prod-dataplatform.risk_mart.sil_risk_ds_master_20230101_20250206\n",
    "  WHERE \n",
    "     -- ln_disb_dtime >= '2023-07-01'\n",
    "    ln_appln_submit_datetime >= '2023-01-01'\n",
    "  -- AND\n",
    "  --   format_date('%Y-%m', ln_disb_dtime) = '2024-09'\n",
    "  AND\n",
    "    ln_fstpd30_flag is not null\n",
    "  AND\n",
    "    old_gen_credo_score is not null\n",
    "  AND\n",
    "    ln_mature_fstpd30_flag = 1\n",
    ")\n",
    "select * from old_gen_credo_score;\n",
    "\"\"\"\n",
    "\n",
    "old_gen_credo_scorefstpd30 = client.query(sq).to_dataframe(progress_bar_type='tqdm')\n",
    "\n",
    "print(old_gen_credo_scorefstpd30.head(2))\n",
    "\n",
    "gini_results = calculate_periodic_gini_threedigit(old_gen_credo_scorefstpd30, 'old_gen_credo_score', 'ln_fstpd30_flag', 'FSTPD30')\n",
    "M4FSTPD30 = gini_results.copy()\n",
    "print(f\"The shape of dataframe after copy is:\\t{M4FSTPD30.shape}\")\n",
    "print(M4FSTPD30.columns.values)\n",
    "\n",
    "M4FSTPD30.head()\n",
    "\n"
   ]
  },
  {
   "cell_type": "markdown",
   "metadata": {},
   "source": [
    "## Combining data"
   ]
  },
  {
   "cell_type": "code",
   "execution_count": 142,
   "metadata": {},
   "outputs": [
    {
     "data": {
      "text/plain": [
       "array(['start_date', 'end_date', 'old_gen_credo_score_FPD10_gini',\n",
       "       'period', 'Model_Name', 'version', 'bad_rate',\n",
       "       'old_gen_credo_score_FPD30_gini',\n",
       "       'old_gen_credo_score_FSPD30_gini',\n",
       "       'old_gen_credo_score_FSTPD30_gini'], dtype=object)"
      ]
     },
     "execution_count": 142,
     "metadata": {},
     "output_type": "execute_result"
    }
   ],
   "source": [
    "import functools\n",
    "\n",
    "dataframes = [M1FPD10, M2FPD30, M3FSPD30, M4FSTPD30]\n",
    "common_columns = ['start_date', 'end_date', 'period', 'Model_Name','version', 'bad_rate']\n",
    "\n",
    "def merge_dataframes(df1, df2):\n",
    "    return pd.merge(df1, df2, on=common_columns, how='outer')\n",
    "\n",
    "final_df = functools.reduce(merge_dataframes, dataframes)\n",
    "\n",
    "final_df.columns.values"
   ]
  },
  {
   "cell_type": "code",
   "execution_count": 143,
   "metadata": {},
   "outputs": [],
   "source": [
    "final_df = final_df[['start_date', 'end_date', 'period',   'Model_Name', 'version', 'bad_rate','old_gen_credo_score_FPD10_gini','old_gen_credo_score_FPD30_gini',    'old_gen_credo_score_FSPD30_gini', 'old_gen_credo_score_FSTPD30_gini']].copy()"
   ]
  },
  {
   "cell_type": "code",
   "execution_count": null,
   "metadata": {},
   "outputs": [],
   "source": []
  },
  {
   "cell_type": "code",
   "execution_count": 144,
   "metadata": {},
   "outputs": [
    {
     "data": {
      "text/plain": [
       "QueryJob<project=prj-prod-dataplatform, location=asia-southeast1, id=1f65da3e-b8e5-4928-bbfc-d45c7b6533cf>"
      ]
     },
     "execution_count": 144,
     "metadata": {},
     "output_type": "execute_result"
    }
   ],
   "source": [
    "sq = \"\"\"drop table if exists prj-prod-dataplatform.dap_ds_poweruser_playground.Model_gini_old_gen_credo_score;\"\"\"\n",
    "client.query(sq)"
   ]
  },
  {
   "cell_type": "code",
   "execution_count": 145,
   "metadata": {},
   "outputs": [
    {
     "data": {
      "text/plain": [
       "LoadJob<project=prj-prod-dataplatform, location=asia-southeast1, id=4ae934f3-bde1-4c38-99d8-28eec47a6ee3>"
      ]
     },
     "execution_count": 145,
     "metadata": {},
     "output_type": "execute_result"
    }
   ],
   "source": [
    "import pandas as pd\n",
    "from google.cloud import bigquery\n",
    "\n",
    "# Create a BigQuery client\n",
    "client = bigquery.Client('prj-prod-dataplatform')\n",
    "\n",
    "# Define your table schema\n",
    "table_schema = [\n",
    "    bigquery.SchemaField('start_date', 'TIMESTAMP'),\n",
    "    bigquery.SchemaField('end_date', 'TIMESTAMP'),\n",
    "    bigquery.SchemaField('period', 'STRING'),\n",
    "    bigquery.SchemaField('Model_Name', 'STRING'),\n",
    "    bigquery.SchemaField('version', 'STRING'),\n",
    "    bigquery.SchemaField('Badrate', 'STRING'),\n",
    "    bigquery.SchemaField('old_gen_credo_score_FPD10_gini', 'FLOAT'),\n",
    "    bigquery.SchemaField('old_gen_credo_score_FPD30_gini', 'FLOAT'),    \n",
    "    bigquery.SchemaField('old_gen_credo_score_FSPD30_gini', 'FLOAT'),\n",
    "    bigquery.SchemaField('old_gen_credo_score_FSTPD30_gini', 'FLOAT')\n",
    "    \n",
    "]\n",
    "\n",
    "# Create your BigQuery table\n",
    "table_id = 'prj-prod-dataplatform.dap_ds_poweruser_playground.Model_gini_old_gen_credo_score'\n",
    "table = bigquery.Table(table_id, schema=table_schema)\n",
    "table = client.create_table(table)\n",
    "\n",
    "# Load your DataFrame into BigQuery\n",
    "job_config = bigquery.LoadJobConfig(\n",
    "    write_disposition='WRITE_TRUNCATE'\n",
    ")\n",
    "\n",
    "load_job = client.load_table_from_dataframe(\n",
    "    final_df, table_id, job_config=job_config\n",
    ")\n",
    "\n",
    "load_job.result()"
   ]
  },
  {
   "cell_type": "code",
   "execution_count": 146,
   "metadata": {},
   "outputs": [
    {
     "name": "stdout",
     "output_type": "stream",
     "text": [
      "Job ID 77b02e65-5f12-4e45-b398-4b03aeffaf3b successfully executed: 100%|\u001b[32m██████████\u001b[0m|"
     ]
    },
    {
     "name": "stderr",
     "output_type": "stream",
     "text": [
      "d:\\Anaconda3\\envs\\inc_env\\lib\\site-packages\\google\\cloud\\bigquery\\table.py:1820: UserWarning: BigQuery Storage module not found, fetch data with the REST endpoint instead.\n",
      "  warnings.warn(\n"
     ]
    },
    {
     "name": "stdout",
     "output_type": "stream",
     "text": [
      "\n",
      "Downloading: 100%|\u001b[32m██████████\u001b[0m|\n"
     ]
    }
   ],
   "source": [
    "sq = \"\"\"select * from prj-prod-dataplatform.dap_ds_poweruser_playground.Model_gini_old_gen_credo_score;\"\"\"\n",
    "\n",
    "df = client.query(sq).to_dataframe(progress_bar_type='tqdm')"
   ]
  },
  {
   "cell_type": "code",
   "execution_count": 147,
   "metadata": {},
   "outputs": [
    {
     "data": {
      "text/plain": [
       "bad_rate\n",
       "FPD10      132\n",
       "FPD30      128\n",
       "FSPD30     123\n",
       "FSTPD30    117\n",
       "Name: count, dtype: int64"
      ]
     },
     "execution_count": 147,
     "metadata": {},
     "output_type": "execute_result"
    }
   ],
   "source": [
    "df['bad_rate'].value_counts()"
   ]
  },
  {
   "cell_type": "markdown",
   "metadata": {},
   "source": [
    "# old_cic_score"
   ]
  },
  {
   "cell_type": "code",
   "execution_count": 148,
   "metadata": {},
   "outputs": [
    {
     "name": "stdout",
     "output_type": "stream",
     "text": [
      "Job ID 2be6e2f5-e24c-4283-8ccb-abe26180cf9e successfully executed: 100%|\u001b[32m██████████\u001b[0m|"
     ]
    },
    {
     "name": "stderr",
     "output_type": "stream",
     "text": [
      "d:\\Anaconda3\\envs\\inc_env\\lib\\site-packages\\google\\cloud\\bigquery\\table.py:1820: UserWarning: BigQuery Storage module not found, fetch data with the REST endpoint instead.\n",
      "  warnings.warn(\n"
     ]
    },
    {
     "name": "stdout",
     "output_type": "stream",
     "text": [
      "\n",
      "Downloading: 100%|\u001b[32m██████████\u001b[0m|\n",
      "The shape of dataframe after copy is:\t(92, 7)\n",
      "Job ID 5616a980-b13f-42d7-8fea-b3974157c9e6 successfully executed: 100%|\u001b[32m██████████\u001b[0m|"
     ]
    },
    {
     "name": "stderr",
     "output_type": "stream",
     "text": [
      "d:\\Anaconda3\\envs\\inc_env\\lib\\site-packages\\google\\cloud\\bigquery\\table.py:1820: UserWarning: BigQuery Storage module not found, fetch data with the REST endpoint instead.\n",
      "  warnings.warn(\n"
     ]
    },
    {
     "name": "stdout",
     "output_type": "stream",
     "text": [
      "\n",
      "Downloading: 100%|\u001b[32m██████████\u001b[0m|\n",
      "The shape of dataframe after copy is:\t(88, 7)\n",
      "Job ID 126553f3-01f5-4250-9855-adf4036f138d successfully executed: 100%|\u001b[32m██████████\u001b[0m|"
     ]
    },
    {
     "name": "stderr",
     "output_type": "stream",
     "text": [
      "d:\\Anaconda3\\envs\\inc_env\\lib\\site-packages\\google\\cloud\\bigquery\\table.py:1820: UserWarning: BigQuery Storage module not found, fetch data with the REST endpoint instead.\n",
      "  warnings.warn(\n"
     ]
    },
    {
     "name": "stdout",
     "output_type": "stream",
     "text": [
      "\n",
      "Downloading: 100%|\u001b[32m██████████\u001b[0m|\n",
      "     disbursementdate                  digitalLoanAccountId old_cic_score  \\\n",
      "0 2024-11-22 19:40:30  d0e6cf6d-c167-4643-8f13-3097b15826b6         541.0   \n",
      "1 2024-02-20 18:17:04  cba282c2-7020-49fa-a082-c3193150510d       537.000   \n",
      "\n",
      "   ln_fspd30_flag  ln_mature_fspd30_flag  \n",
      "0               0                      1  \n",
      "1               0                      1  \n",
      "The shape of dataframe after copy is:\t(83, 7)\n",
      "['start_date' 'end_date' 'old_cic_score_FSPD30_gini' 'period' 'Model_Name'\n",
      " 'version' 'bad_rate']\n",
      "Job ID 8fce90fb-0507-4f4b-ba26-3abf3e98e11a successfully executed: 100%|\u001b[32m██████████\u001b[0m|"
     ]
    },
    {
     "name": "stderr",
     "output_type": "stream",
     "text": [
      "d:\\Anaconda3\\envs\\inc_env\\lib\\site-packages\\google\\cloud\\bigquery\\table.py:1820: UserWarning: BigQuery Storage module not found, fetch data with the REST endpoint instead.\n",
      "  warnings.warn(\n"
     ]
    },
    {
     "name": "stdout",
     "output_type": "stream",
     "text": [
      "\n",
      "Downloading: 100%|\u001b[32m██████████\u001b[0m|\n",
      "     disbursementdate                  digitalLoanAccountId old_cic_score  \\\n",
      "0 2024-02-20 18:17:04  cba282c2-7020-49fa-a082-c3193150510d       537.000   \n",
      "1 2024-07-01 13:02:16  daa3bebc-3b11-4abe-970c-3c3005f29c06       584.000   \n",
      "\n",
      "   ln_fstpd30_flag  ln_mature_fstpd30_flag  \n",
      "0                1                       1  \n",
      "1                1                       1  \n",
      "The shape of dataframe after copy is:\t(77, 7)\n",
      "['start_date' 'end_date' 'old_cic_score_FSTPD30_gini' 'period'\n",
      " 'Model_Name' 'version' 'bad_rate']\n"
     ]
    },
    {
     "data": {
      "text/html": [
       "<div>\n",
       "<style scoped>\n",
       "    .dataframe tbody tr th:only-of-type {\n",
       "        vertical-align: middle;\n",
       "    }\n",
       "\n",
       "    .dataframe tbody tr th {\n",
       "        vertical-align: top;\n",
       "    }\n",
       "\n",
       "    .dataframe thead th {\n",
       "        text-align: right;\n",
       "    }\n",
       "</style>\n",
       "<table border=\"1\" class=\"dataframe\">\n",
       "  <thead>\n",
       "    <tr style=\"text-align: right;\">\n",
       "      <th></th>\n",
       "      <th>start_date</th>\n",
       "      <th>end_date</th>\n",
       "      <th>old_cic_score_FSTPD30_gini</th>\n",
       "      <th>period</th>\n",
       "      <th>Model_Name</th>\n",
       "      <th>version</th>\n",
       "      <th>bad_rate</th>\n",
       "    </tr>\n",
       "  </thead>\n",
       "  <tbody>\n",
       "    <tr>\n",
       "      <th>0</th>\n",
       "      <td>2023-08-01</td>\n",
       "      <td>2023-08-31</td>\n",
       "      <td>0.086705</td>\n",
       "      <td>Month</td>\n",
       "      <td>old_cic_score</td>\n",
       "      <td>1.1.0</td>\n",
       "      <td>FSTPD30</td>\n",
       "    </tr>\n",
       "    <tr>\n",
       "      <th>1</th>\n",
       "      <td>2023-08-21</td>\n",
       "      <td>2023-08-27</td>\n",
       "      <td>0.064138</td>\n",
       "      <td>Week</td>\n",
       "      <td>old_cic_score</td>\n",
       "      <td>1.1.0</td>\n",
       "      <td>FSTPD30</td>\n",
       "    </tr>\n",
       "    <tr>\n",
       "      <th>2</th>\n",
       "      <td>2023-08-28</td>\n",
       "      <td>2023-09-03</td>\n",
       "      <td>0.120423</td>\n",
       "      <td>Week</td>\n",
       "      <td>old_cic_score</td>\n",
       "      <td>1.1.0</td>\n",
       "      <td>FSTPD30</td>\n",
       "    </tr>\n",
       "    <tr>\n",
       "      <th>3</th>\n",
       "      <td>2023-09-01</td>\n",
       "      <td>2023-09-30</td>\n",
       "      <td>0.293879</td>\n",
       "      <td>Month</td>\n",
       "      <td>old_cic_score</td>\n",
       "      <td>1.1.0</td>\n",
       "      <td>FSTPD30</td>\n",
       "    </tr>\n",
       "    <tr>\n",
       "      <th>4</th>\n",
       "      <td>2023-09-04</td>\n",
       "      <td>2023-09-10</td>\n",
       "      <td>0.159596</td>\n",
       "      <td>Week</td>\n",
       "      <td>old_cic_score</td>\n",
       "      <td>1.1.0</td>\n",
       "      <td>FSTPD30</td>\n",
       "    </tr>\n",
       "  </tbody>\n",
       "</table>\n",
       "</div>"
      ],
      "text/plain": [
       "  start_date   end_date  old_cic_score_FSTPD30_gini period     Model_Name  \\\n",
       "0 2023-08-01 2023-08-31                    0.086705  Month  old_cic_score   \n",
       "1 2023-08-21 2023-08-27                    0.064138   Week  old_cic_score   \n",
       "2 2023-08-28 2023-09-03                    0.120423   Week  old_cic_score   \n",
       "3 2023-09-01 2023-09-30                    0.293879  Month  old_cic_score   \n",
       "4 2023-09-04 2023-09-10                    0.159596   Week  old_cic_score   \n",
       "\n",
       "  version bad_rate  \n",
       "0   1.1.0  FSTPD30  \n",
       "1   1.1.0  FSTPD30  \n",
       "2   1.1.0  FSTPD30  \n",
       "3   1.1.0  FSTPD30  \n",
       "4   1.1.0  FSTPD30  "
      ]
     },
     "execution_count": 148,
     "metadata": {},
     "output_type": "execute_result"
    }
   ],
   "source": [
    "\n",
    "\n",
    "sq = \"\"\"\n",
    "with old_cic_score as \n",
    "(SELECT \n",
    "    ln_disb_dtime disbursementdate,\n",
    "\tdigitalLoanAccountId,\n",
    "    old_cic_score,\n",
    "    ln_fpd10_flag,\n",
    "\tln_mature_fpd10_flag,\t\n",
    "\tFROM \n",
    "    prj-prod-dataplatform.risk_mart.sil_risk_ds_master_20230101_20250206\n",
    "  WHERE \n",
    "     -- ln_disb_dtime >= '2023-07-01'\n",
    "    ln_appln_submit_datetime >= '2023-01-01'\n",
    "  -- AND\n",
    "  --   format_date('%Y-%m', ln_disb_dtime) = '2024-09'\n",
    "  AND\n",
    "    ln_fpd10_flag is not null\n",
    "  AND\n",
    "    old_cic_score is not null\n",
    "  AND\n",
    "    ln_mature_fpd10_flag = 1\n",
    ")\n",
    "select * from old_cic_score;\n",
    "\"\"\"\n",
    "\n",
    "old_cic_scorefpd10 = client.query(sq).to_dataframe(progress_bar_type='tqdm')\n",
    "\n",
    "old_cic_scorefpd10.head()\n",
    "\n",
    "gini_results = calculate_periodic_hybrid_gini(old_cic_scorefpd10, 'old_cic_score', 'ln_fpd10_flag', 'FPD10')\n",
    "M1FPD10 = gini_results.copy()\n",
    "print(f\"The shape of dataframe after copy is:\\t{M1FPD10.shape}\")\n",
    "M1FPD10.columns.values\n",
    "\n",
    "# FPD30\n",
    "\n",
    "sq = \"\"\"\n",
    "with old_cic_score as \n",
    "(SELECT \n",
    "    ln_disb_dtime disbursementdate,\n",
    "\tdigitalLoanAccountId,\n",
    "    old_cic_score,\n",
    "    ln_fpd30_flag,\n",
    "\tln_mature_fpd30_flag,\t\n",
    "\tFROM \n",
    "    prj-prod-dataplatform.risk_mart.sil_risk_ds_master_20230101_20250206\n",
    "  WHERE \n",
    "     -- ln_disb_dtime >= '2023-07-01'\n",
    "    ln_appln_submit_datetime >= '2023-01-01'\n",
    "  -- AND\n",
    "  --   format_date('%Y-%m', ln_disb_dtime) = '2024-09'\n",
    "  AND\n",
    "    ln_fpd30_flag is not null\n",
    "  AND\n",
    "    old_cic_score is not null\n",
    "  AND\n",
    "    ln_mature_fpd30_flag = 1\n",
    ")\n",
    "select * from old_cic_score;\n",
    "\"\"\"\n",
    "\n",
    "old_cic_scorefpd30 = client.query(sq).to_dataframe(progress_bar_type='tqdm')\n",
    "\n",
    "old_cic_scorefpd30.head()\n",
    "\n",
    "gini_results = calculate_periodic_hybrid_gini(old_cic_scorefpd30, 'old_cic_score', 'ln_fpd30_flag', 'FPD30')\n",
    "M2FPD30 = gini_results.copy()\n",
    "print(f\"The shape of dataframe after copy is:\\t{M2FPD30.shape}\")\n",
    "M2FPD30.columns.values\n",
    "\n",
    "sq = \"\"\"\n",
    "with old_cic_score as \n",
    "(SELECT \n",
    "    ln_disb_dtime disbursementdate,\n",
    "\tdigitalLoanAccountId,\n",
    "    old_cic_score,\n",
    "    ln_fspd30_flag,\n",
    "\tln_mature_fspd30_flag,\t\n",
    "\tFROM \n",
    "    prj-prod-dataplatform.risk_mart.sil_risk_ds_master_20230101_20250206\n",
    "  WHERE \n",
    "     -- ln_disb_dtime >= '2023-07-01'\n",
    "    ln_appln_submit_datetime >= '2023-01-01'\n",
    "  -- AND\n",
    "  --   format_date('%Y-%m', ln_disb_dtime) = '2024-09'\n",
    "  AND\n",
    "    ln_fspd30_flag is not null\n",
    "  AND\n",
    "    old_cic_score is not null\n",
    "  AND\n",
    "    ln_mature_fspd30_flag = 1\n",
    ")\n",
    "select * from old_cic_score;\n",
    "\"\"\"\n",
    "\n",
    "old_cic_scorefspd30 = client.query(sq).to_dataframe(progress_bar_type='tqdm')\n",
    "\n",
    "print(old_cic_scorefspd30.head(2))\n",
    "\n",
    "gini_results = calculate_periodic_hybrid_gini(old_cic_scorefspd30, 'old_cic_score', 'ln_fspd30_flag', 'FSPD30')\n",
    "M3FSPD30 = gini_results.copy()\n",
    "print(f\"The shape of dataframe after copy is:\\t{M3FSPD30.shape}\")\n",
    "print(M3FSPD30.columns.values)\n",
    "\n",
    "M3FSPD30.head()\n",
    "\n",
    "sq = \"\"\"\n",
    "with old_cic_score as \n",
    "(SELECT \n",
    "    ln_disb_dtime disbursementdate,\n",
    "\tdigitalLoanAccountId,\n",
    "    old_cic_score,\n",
    "    ln_fstpd30_flag,\n",
    "\tln_mature_fstpd30_flag,\t\n",
    "\tFROM \n",
    "    prj-prod-dataplatform.risk_mart.sil_risk_ds_master_20230101_20250206\n",
    "  WHERE \n",
    "     -- ln_disb_dtime >= '2023-07-01'\n",
    "    ln_appln_submit_datetime >= '2023-01-01'\n",
    "  -- AND\n",
    "  --   format_date('%Y-%m', ln_disb_dtime) = '2024-09'\n",
    "  AND\n",
    "    ln_fstpd30_flag is not null\n",
    "  AND\n",
    "    old_cic_score is not null\n",
    "  AND\n",
    "    ln_mature_fstpd30_flag = 1\n",
    ")\n",
    "select * from old_cic_score;\n",
    "\"\"\"\n",
    "\n",
    "old_cic_scorefstpd30 = client.query(sq).to_dataframe(progress_bar_type='tqdm')\n",
    "\n",
    "print(old_cic_scorefstpd30.head(2))\n",
    "\n",
    "gini_results = calculate_periodic_hybrid_gini(old_cic_scorefstpd30, 'old_cic_score', 'ln_fstpd30_flag', 'FSTPD30')\n",
    "M4FSTPD30 = gini_results.copy()\n",
    "print(f\"The shape of dataframe after copy is:\\t{M4FSTPD30.shape}\")\n",
    "print(M4FSTPD30.columns.values)\n",
    "\n",
    "M4FSTPD30.head()\n",
    "\n"
   ]
  },
  {
   "cell_type": "markdown",
   "metadata": {},
   "source": [
    "## Combining data"
   ]
  },
  {
   "cell_type": "code",
   "execution_count": 149,
   "metadata": {},
   "outputs": [
    {
     "data": {
      "text/plain": [
       "array(['start_date', 'end_date', 'old_cic_score_FPD10_gini', 'period',\n",
       "       'Model_Name', 'version', 'bad_rate', 'old_cic_score_FPD30_gini',\n",
       "       'old_cic_score_FSPD30_gini', 'old_cic_score_FSTPD30_gini'],\n",
       "      dtype=object)"
      ]
     },
     "execution_count": 149,
     "metadata": {},
     "output_type": "execute_result"
    }
   ],
   "source": [
    "import functools\n",
    "\n",
    "dataframes = [M1FPD10, M2FPD30, M3FSPD30, M4FSTPD30]\n",
    "common_columns = ['start_date', 'end_date', 'period', 'Model_Name','version', 'bad_rate']\n",
    "\n",
    "def merge_dataframes(df1, df2):\n",
    "    return pd.merge(df1, df2, on=common_columns, how='outer')\n",
    "\n",
    "final_df = functools.reduce(merge_dataframes, dataframes)\n",
    "\n",
    "final_df.columns.values"
   ]
  },
  {
   "cell_type": "code",
   "execution_count": 150,
   "metadata": {},
   "outputs": [],
   "source": [
    "final_df = final_df[['start_date', 'end_date', 'period',   'Model_Name', 'version', 'bad_rate','old_cic_score_FPD10_gini','old_cic_score_FPD30_gini',    'old_cic_score_FSPD30_gini', 'old_cic_score_FSTPD30_gini']].copy()"
   ]
  },
  {
   "cell_type": "code",
   "execution_count": 151,
   "metadata": {},
   "outputs": [
    {
     "data": {
      "text/plain": [
       "QueryJob<project=prj-prod-dataplatform, location=asia-southeast1, id=10ab94f8-a9da-45a7-b854-dc35d66583b1>"
      ]
     },
     "execution_count": 151,
     "metadata": {},
     "output_type": "execute_result"
    }
   ],
   "source": [
    "sq = \"\"\"drop table if exists prj-prod-dataplatform.dap_ds_poweruser_playground.Model_gini_old_cic_score;\"\"\"\n",
    "client.query(sq)"
   ]
  },
  {
   "cell_type": "code",
   "execution_count": 152,
   "metadata": {},
   "outputs": [
    {
     "data": {
      "text/plain": [
       "LoadJob<project=prj-prod-dataplatform, location=asia-southeast1, id=3bc1faba-7848-4ad9-941d-b4497f3cd5f5>"
      ]
     },
     "execution_count": 152,
     "metadata": {},
     "output_type": "execute_result"
    }
   ],
   "source": [
    "import pandas as pd\n",
    "from google.cloud import bigquery\n",
    "\n",
    "# Create a BigQuery client\n",
    "client = bigquery.Client('prj-prod-dataplatform')\n",
    "\n",
    "# Define your table schema\n",
    "table_schema = [\n",
    "    bigquery.SchemaField('start_date', 'TIMESTAMP'),\n",
    "    bigquery.SchemaField('end_date', 'TIMESTAMP'),\n",
    "    bigquery.SchemaField('period', 'STRING'),\n",
    "    bigquery.SchemaField('Model_Name', 'STRING'),\n",
    "    bigquery.SchemaField('version', 'STRING'),\n",
    "    bigquery.SchemaField('Badrate', 'STRING'),\n",
    "    bigquery.SchemaField('old_cic_score_FPD10_gini', 'FLOAT'),\n",
    "    bigquery.SchemaField('old_cic_score_FPD30_gini', 'FLOAT'),    \n",
    "    bigquery.SchemaField('old_cic_score_FSPD30_gini', 'FLOAT'),\n",
    "    bigquery.SchemaField('old_cic_score_FSTPD30_gini', 'FLOAT')\n",
    "    \n",
    "]\n",
    "\n",
    "# Create your BigQuery table\n",
    "table_id = 'prj-prod-dataplatform.dap_ds_poweruser_playground.Model_gini_old_cic_score'\n",
    "table = bigquery.Table(table_id, schema=table_schema)\n",
    "table = client.create_table(table)\n",
    "\n",
    "# Load your DataFrame into BigQuery\n",
    "job_config = bigquery.LoadJobConfig(\n",
    "    write_disposition='WRITE_TRUNCATE'\n",
    ")\n",
    "\n",
    "load_job = client.load_table_from_dataframe(\n",
    "    final_df, table_id, job_config=job_config\n",
    ")\n",
    "\n",
    "load_job.result()"
   ]
  },
  {
   "cell_type": "markdown",
   "metadata": {},
   "source": [
    "# old_demo_score"
   ]
  },
  {
   "cell_type": "code",
   "execution_count": 153,
   "metadata": {},
   "outputs": [
    {
     "name": "stdout",
     "output_type": "stream",
     "text": [
      "Job ID 7a1ea00f-f6c6-4766-b9c6-69a6bc456f4a successfully executed: 100%|\u001b[32m██████████\u001b[0m|"
     ]
    },
    {
     "name": "stderr",
     "output_type": "stream",
     "text": [
      "d:\\Anaconda3\\envs\\inc_env\\lib\\site-packages\\google\\cloud\\bigquery\\table.py:1820: UserWarning: BigQuery Storage module not found, fetch data with the REST endpoint instead.\n",
      "  warnings.warn(\n"
     ]
    },
    {
     "name": "stdout",
     "output_type": "stream",
     "text": [
      "\n",
      "Downloading: 100%|\u001b[32m██████████\u001b[0m|\n",
      "The shape of dataframe after copy is:\t(132, 7)\n",
      "Job ID af9dcd72-ea21-4b44-b6a1-5bf2770d68c5 successfully executed: 100%|\u001b[32m██████████\u001b[0m|"
     ]
    },
    {
     "name": "stderr",
     "output_type": "stream",
     "text": [
      "d:\\Anaconda3\\envs\\inc_env\\lib\\site-packages\\google\\cloud\\bigquery\\table.py:1820: UserWarning: BigQuery Storage module not found, fetch data with the REST endpoint instead.\n",
      "  warnings.warn(\n"
     ]
    },
    {
     "name": "stdout",
     "output_type": "stream",
     "text": [
      "\n",
      "Downloading: 100%|\u001b[32m██████████\u001b[0m|\n",
      "The shape of dataframe after copy is:\t(128, 7)\n",
      "Job ID 89accafc-654e-4168-9ccc-72a5a1fd423e successfully executed: 100%|\u001b[32m██████████\u001b[0m|"
     ]
    },
    {
     "name": "stderr",
     "output_type": "stream",
     "text": [
      "d:\\Anaconda3\\envs\\inc_env\\lib\\site-packages\\google\\cloud\\bigquery\\table.py:1820: UserWarning: BigQuery Storage module not found, fetch data with the REST endpoint instead.\n",
      "  warnings.warn(\n"
     ]
    },
    {
     "name": "stdout",
     "output_type": "stream",
     "text": [
      "\n",
      "Downloading: 100%|\u001b[32m██████████\u001b[0m|\n",
      "     disbursementdate                  digitalLoanAccountId  old_demo_score  \\\n",
      "0 2024-11-22 19:40:30  d0e6cf6d-c167-4643-8f13-3097b15826b6           485.0   \n",
      "1 2023-12-09 14:27:42  9c92bd46-f2d0-4cd1-a3f6-f0186dea12e4           424.0   \n",
      "\n",
      "   ln_fspd30_flag  ln_mature_fspd30_flag  \n",
      "0               0                      1  \n",
      "1               0                      1  \n",
      "The shape of dataframe after copy is:\t(123, 7)\n",
      "['start_date' 'end_date' 'old_demo_score_FSPD30_gini' 'period'\n",
      " 'Model_Name' 'version' 'bad_rate']\n",
      "Job ID 8a3d3fff-5f1d-4926-8cbc-5fdd338dfcd4 successfully executed: 100%|\u001b[32m██████████\u001b[0m|"
     ]
    },
    {
     "name": "stderr",
     "output_type": "stream",
     "text": [
      "d:\\Anaconda3\\envs\\inc_env\\lib\\site-packages\\google\\cloud\\bigquery\\table.py:1820: UserWarning: BigQuery Storage module not found, fetch data with the REST endpoint instead.\n",
      "  warnings.warn(\n"
     ]
    },
    {
     "name": "stdout",
     "output_type": "stream",
     "text": [
      "\n",
      "Downloading: 100%|\u001b[32m██████████\u001b[0m|\n",
      "     disbursementdate                  digitalLoanAccountId  old_demo_score  \\\n",
      "0 2023-12-09 14:27:42  9c92bd46-f2d0-4cd1-a3f6-f0186dea12e4           424.0   \n",
      "1 2023-02-23 14:33:24  789147fe-481f-4914-83ee-7c98c3436510           402.0   \n",
      "\n",
      "   ln_fstpd30_flag  ln_mature_fstpd30_flag  \n",
      "0                0                       1  \n",
      "1                0                       1  \n",
      "The shape of dataframe after copy is:\t(117, 7)\n",
      "['start_date' 'end_date' 'old_demo_score_FSTPD30_gini' 'period'\n",
      " 'Model_Name' 'version' 'bad_rate']\n"
     ]
    },
    {
     "data": {
      "text/html": [
       "<div>\n",
       "<style scoped>\n",
       "    .dataframe tbody tr th:only-of-type {\n",
       "        vertical-align: middle;\n",
       "    }\n",
       "\n",
       "    .dataframe tbody tr th {\n",
       "        vertical-align: top;\n",
       "    }\n",
       "\n",
       "    .dataframe thead th {\n",
       "        text-align: right;\n",
       "    }\n",
       "</style>\n",
       "<table border=\"1\" class=\"dataframe\">\n",
       "  <thead>\n",
       "    <tr style=\"text-align: right;\">\n",
       "      <th></th>\n",
       "      <th>start_date</th>\n",
       "      <th>end_date</th>\n",
       "      <th>old_demo_score_FSTPD30_gini</th>\n",
       "      <th>period</th>\n",
       "      <th>Model_Name</th>\n",
       "      <th>version</th>\n",
       "      <th>bad_rate</th>\n",
       "    </tr>\n",
       "  </thead>\n",
       "  <tbody>\n",
       "    <tr>\n",
       "      <th>0</th>\n",
       "      <td>2023-01-01</td>\n",
       "      <td>2023-01-31</td>\n",
       "      <td>0.121696</td>\n",
       "      <td>Month</td>\n",
       "      <td>old_demo_score</td>\n",
       "      <td>1.1.0</td>\n",
       "      <td>FSTPD30</td>\n",
       "    </tr>\n",
       "    <tr>\n",
       "      <th>1</th>\n",
       "      <td>2023-01-02</td>\n",
       "      <td>2023-01-08</td>\n",
       "      <td>0.180638</td>\n",
       "      <td>Week</td>\n",
       "      <td>old_demo_score</td>\n",
       "      <td>1.1.0</td>\n",
       "      <td>FSTPD30</td>\n",
       "    </tr>\n",
       "    <tr>\n",
       "      <th>2</th>\n",
       "      <td>2023-01-09</td>\n",
       "      <td>2023-01-15</td>\n",
       "      <td>0.043003</td>\n",
       "      <td>Week</td>\n",
       "      <td>old_demo_score</td>\n",
       "      <td>1.1.0</td>\n",
       "      <td>FSTPD30</td>\n",
       "    </tr>\n",
       "    <tr>\n",
       "      <th>3</th>\n",
       "      <td>2023-01-16</td>\n",
       "      <td>2023-01-22</td>\n",
       "      <td>0.139188</td>\n",
       "      <td>Week</td>\n",
       "      <td>old_demo_score</td>\n",
       "      <td>1.1.0</td>\n",
       "      <td>FSTPD30</td>\n",
       "    </tr>\n",
       "    <tr>\n",
       "      <th>4</th>\n",
       "      <td>2023-01-23</td>\n",
       "      <td>2023-01-29</td>\n",
       "      <td>0.128160</td>\n",
       "      <td>Week</td>\n",
       "      <td>old_demo_score</td>\n",
       "      <td>1.1.0</td>\n",
       "      <td>FSTPD30</td>\n",
       "    </tr>\n",
       "  </tbody>\n",
       "</table>\n",
       "</div>"
      ],
      "text/plain": [
       "  start_date   end_date  old_demo_score_FSTPD30_gini period      Model_Name  \\\n",
       "0 2023-01-01 2023-01-31                     0.121696  Month  old_demo_score   \n",
       "1 2023-01-02 2023-01-08                     0.180638   Week  old_demo_score   \n",
       "2 2023-01-09 2023-01-15                     0.043003   Week  old_demo_score   \n",
       "3 2023-01-16 2023-01-22                     0.139188   Week  old_demo_score   \n",
       "4 2023-01-23 2023-01-29                     0.128160   Week  old_demo_score   \n",
       "\n",
       "  version bad_rate  \n",
       "0   1.1.0  FSTPD30  \n",
       "1   1.1.0  FSTPD30  \n",
       "2   1.1.0  FSTPD30  \n",
       "3   1.1.0  FSTPD30  \n",
       "4   1.1.0  FSTPD30  "
      ]
     },
     "execution_count": 153,
     "metadata": {},
     "output_type": "execute_result"
    }
   ],
   "source": [
    "\n",
    "\n",
    "sq = \"\"\"\n",
    "with old_demo_score as \n",
    "(SELECT \n",
    "    ln_disb_dtime disbursementdate,\n",
    "\tdigitalLoanAccountId,\n",
    "    old_demo_score,\n",
    "    ln_fpd10_flag,\n",
    "\tln_mature_fpd10_flag,\t\n",
    "\tFROM \n",
    "    prj-prod-dataplatform.risk_mart.sil_risk_ds_master_20230101_20250206\n",
    "  WHERE \n",
    "     -- ln_disb_dtime >= '2023-07-01'\n",
    "    ln_appln_submit_datetime >= '2023-01-01'\n",
    "  -- AND\n",
    "  --   format_date('%Y-%m', ln_disb_dtime) = '2024-09'\n",
    "  AND\n",
    "    ln_fpd10_flag is not null\n",
    "  AND\n",
    "    old_demo_score is not null\n",
    "  AND\n",
    "    ln_mature_fpd10_flag = 1\n",
    ")\n",
    "select * from old_demo_score;\n",
    "\"\"\"\n",
    "\n",
    "old_demo_scorefpd10 = client.query(sq).to_dataframe(progress_bar_type='tqdm')\n",
    "\n",
    "old_demo_scorefpd10.head()\n",
    "\n",
    "gini_results = calculate_periodic_hybrid_gini(old_demo_scorefpd10, 'old_demo_score', 'ln_fpd10_flag', 'FPD10')\n",
    "M1FPD10 = gini_results.copy()\n",
    "print(f\"The shape of dataframe after copy is:\\t{M1FPD10.shape}\")\n",
    "M1FPD10.columns.values\n",
    "\n",
    "# FPD30\n",
    "\n",
    "sq = \"\"\"\n",
    "with old_demo_score as \n",
    "(SELECT \n",
    "    ln_disb_dtime disbursementdate,\n",
    "\tdigitalLoanAccountId,\n",
    "    old_demo_score,\n",
    "    ln_fpd30_flag,\n",
    "\tln_mature_fpd30_flag,\t\n",
    "\tFROM \n",
    "    prj-prod-dataplatform.risk_mart.sil_risk_ds_master_20230101_20250206\n",
    "  WHERE \n",
    "     -- ln_disb_dtime >= '2023-07-01'\n",
    "    ln_appln_submit_datetime >= '2023-01-01'\n",
    "  -- AND\n",
    "  --   format_date('%Y-%m', ln_disb_dtime) = '2024-09'\n",
    "  AND\n",
    "    ln_fpd30_flag is not null\n",
    "  AND\n",
    "    old_demo_score is not null\n",
    "  AND\n",
    "    ln_mature_fpd30_flag = 1\n",
    ")\n",
    "select * from old_demo_score;\n",
    "\"\"\"\n",
    "\n",
    "old_demo_scorefpd30 = client.query(sq).to_dataframe(progress_bar_type='tqdm')\n",
    "\n",
    "old_demo_scorefpd30.head()\n",
    "\n",
    "gini_results = calculate_periodic_hybrid_gini(old_demo_scorefpd30, 'old_demo_score', 'ln_fpd30_flag', 'FPD30')\n",
    "M2FPD30 = gini_results.copy()\n",
    "print(f\"The shape of dataframe after copy is:\\t{M2FPD30.shape}\")\n",
    "M2FPD30.columns.values\n",
    "\n",
    "sq = \"\"\"\n",
    "with old_demo_score as \n",
    "(SELECT \n",
    "    ln_disb_dtime disbursementdate,\n",
    "\tdigitalLoanAccountId,\n",
    "    old_demo_score,\n",
    "    ln_fspd30_flag,\n",
    "\tln_mature_fspd30_flag,\t\n",
    "\tFROM \n",
    "    prj-prod-dataplatform.risk_mart.sil_risk_ds_master_20230101_20250206\n",
    "  WHERE \n",
    "     -- ln_disb_dtime >= '2023-07-01'\n",
    "    ln_appln_submit_datetime >= '2023-01-01'\n",
    "  -- AND\n",
    "  --   format_date('%Y-%m', ln_disb_dtime) = '2024-09'\n",
    "  AND\n",
    "    ln_fspd30_flag is not null\n",
    "  AND\n",
    "    old_demo_score is not null\n",
    "  AND\n",
    "    ln_mature_fspd30_flag = 1\n",
    ")\n",
    "select * from old_demo_score;\n",
    "\"\"\"\n",
    "\n",
    "old_demo_scorefspd30 = client.query(sq).to_dataframe(progress_bar_type='tqdm')\n",
    "\n",
    "print(old_demo_scorefspd30.head(2))\n",
    "\n",
    "gini_results = calculate_periodic_hybrid_gini(old_demo_scorefspd30, 'old_demo_score', 'ln_fspd30_flag', 'FSPD30')\n",
    "M3FSPD30 = gini_results.copy()\n",
    "print(f\"The shape of dataframe after copy is:\\t{M3FSPD30.shape}\")\n",
    "print(M3FSPD30.columns.values)\n",
    "\n",
    "M3FSPD30.head()\n",
    "\n",
    "sq = \"\"\"\n",
    "with old_demo_score as \n",
    "(SELECT \n",
    "    ln_disb_dtime disbursementdate,\n",
    "\tdigitalLoanAccountId,\n",
    "    old_demo_score,\n",
    "    ln_fstpd30_flag,\n",
    "\tln_mature_fstpd30_flag,\t\n",
    "\tFROM \n",
    "    prj-prod-dataplatform.risk_mart.sil_risk_ds_master_20230101_20250206\n",
    "  WHERE \n",
    "     -- ln_disb_dtime >= '2023-07-01'\n",
    "    ln_appln_submit_datetime >= '2023-01-01'\n",
    "  -- AND\n",
    "  --   format_date('%Y-%m', ln_disb_dtime) = '2024-09'\n",
    "  AND\n",
    "    ln_fstpd30_flag is not null\n",
    "  AND\n",
    "    old_demo_score is not null\n",
    "  AND\n",
    "    ln_mature_fstpd30_flag = 1\n",
    ")\n",
    "select * from old_demo_score;\n",
    "\"\"\"\n",
    "\n",
    "old_demo_scorefstpd30 = client.query(sq).to_dataframe(progress_bar_type='tqdm')\n",
    "\n",
    "print(old_demo_scorefstpd30.head(2))\n",
    "\n",
    "gini_results = calculate_periodic_hybrid_gini(old_demo_scorefstpd30, 'old_demo_score', 'ln_fstpd30_flag', 'FSTPD30')\n",
    "M4FSTPD30 = gini_results.copy()\n",
    "print(f\"The shape of dataframe after copy is:\\t{M4FSTPD30.shape}\")\n",
    "print(M4FSTPD30.columns.values)\n",
    "\n",
    "M4FSTPD30.head()\n",
    "\n"
   ]
  },
  {
   "cell_type": "code",
   "execution_count": null,
   "metadata": {},
   "outputs": [],
   "source": []
  },
  {
   "cell_type": "markdown",
   "metadata": {},
   "source": [
    "## Combining data"
   ]
  },
  {
   "cell_type": "code",
   "execution_count": 154,
   "metadata": {},
   "outputs": [
    {
     "data": {
      "text/plain": [
       "array(['start_date', 'end_date', 'old_demo_score_FPD10_gini', 'period',\n",
       "       'Model_Name', 'version', 'bad_rate', 'old_demo_score_FPD30_gini',\n",
       "       'old_demo_score_FSPD30_gini', 'old_demo_score_FSTPD30_gini'],\n",
       "      dtype=object)"
      ]
     },
     "execution_count": 154,
     "metadata": {},
     "output_type": "execute_result"
    }
   ],
   "source": [
    "import functools\n",
    "\n",
    "dataframes = [M1FPD10, M2FPD30, M3FSPD30, M4FSTPD30]\n",
    "common_columns = ['start_date', 'end_date', 'period', 'Model_Name','version', 'bad_rate']\n",
    "\n",
    "def merge_dataframes(df1, df2):\n",
    "    return pd.merge(df1, df2, on=common_columns, how='outer')\n",
    "\n",
    "final_df = functools.reduce(merge_dataframes, dataframes)\n",
    "\n",
    "final_df.columns.values"
   ]
  },
  {
   "cell_type": "code",
   "execution_count": 155,
   "metadata": {},
   "outputs": [],
   "source": [
    "final_df = final_df[['start_date', 'end_date', 'period',   'Model_Name', 'version', 'bad_rate','old_demo_score_FPD10_gini','old_demo_score_FPD30_gini',    'old_demo_score_FSPD30_gini', 'old_demo_score_FSTPD30_gini']].copy()"
   ]
  },
  {
   "cell_type": "code",
   "execution_count": 156,
   "metadata": {},
   "outputs": [
    {
     "data": {
      "text/plain": [
       "QueryJob<project=prj-prod-dataplatform, location=asia-southeast1, id=825ed0ba-7a4a-4800-91db-960a7e3aca35>"
      ]
     },
     "execution_count": 156,
     "metadata": {},
     "output_type": "execute_result"
    }
   ],
   "source": [
    "sq = \"\"\"drop table if exists prj-prod-dataplatform.dap_ds_poweruser_playground.Model_gini_old_demo_score;\"\"\"\n",
    "client.query(sq)"
   ]
  },
  {
   "cell_type": "code",
   "execution_count": 157,
   "metadata": {},
   "outputs": [
    {
     "data": {
      "text/plain": [
       "LoadJob<project=prj-prod-dataplatform, location=asia-southeast1, id=b3a3e1b6-22c8-48d8-8e1d-1a741e5d433e>"
      ]
     },
     "execution_count": 157,
     "metadata": {},
     "output_type": "execute_result"
    }
   ],
   "source": [
    "import pandas as pd\n",
    "from google.cloud import bigquery\n",
    "\n",
    "# Create a BigQuery client\n",
    "client = bigquery.Client('prj-prod-dataplatform')\n",
    "\n",
    "# Define your table schema\n",
    "table_schema = [\n",
    "    bigquery.SchemaField('start_date', 'TIMESTAMP'),\n",
    "    bigquery.SchemaField('end_date', 'TIMESTAMP'),\n",
    "    bigquery.SchemaField('period', 'STRING'),\n",
    "    bigquery.SchemaField('Model_Name', 'STRING'),\n",
    "    bigquery.SchemaField('version', 'STRING'),\n",
    "    bigquery.SchemaField('Badrate', 'STRING'),\n",
    "    bigquery.SchemaField('old_demo_score_FPD10_gini', 'FLOAT'),\n",
    "    bigquery.SchemaField('old_demo_score_FPD30_gini', 'FLOAT'),    \n",
    "    bigquery.SchemaField('old_demo_score_FSPD30_gini', 'FLOAT'),\n",
    "    bigquery.SchemaField('old_demo_score_FSTPD30_gini', 'FLOAT')\n",
    "    \n",
    "]\n",
    "\n",
    "# Create your BigQuery table\n",
    "table_id = 'prj-prod-dataplatform.dap_ds_poweruser_playground.Model_gini_old_demo_score'\n",
    "table = bigquery.Table(table_id, schema=table_schema)\n",
    "table = client.create_table(table)\n",
    "\n",
    "# Load your DataFrame into BigQuery\n",
    "job_config = bigquery.LoadJobConfig(\n",
    "    write_disposition='WRITE_TRUNCATE'\n",
    ")\n",
    "\n",
    "load_job = client.load_table_from_dataframe(\n",
    "    final_df, table_id, job_config=job_config\n",
    ")\n",
    "\n",
    "load_job.result()"
   ]
  },
  {
   "cell_type": "markdown",
   "metadata": {},
   "source": [
    "# bu_bureau_score"
   ]
  },
  {
   "cell_type": "code",
   "execution_count": 158,
   "metadata": {},
   "outputs": [
    {
     "name": "stdout",
     "output_type": "stream",
     "text": [
      "Job ID 80baf5d0-1fc3-4f49-9f6c-de4fe1118269 successfully executed: 100%|\u001b[32m██████████\u001b[0m|"
     ]
    },
    {
     "name": "stderr",
     "output_type": "stream",
     "text": [
      "d:\\Anaconda3\\envs\\inc_env\\lib\\site-packages\\google\\cloud\\bigquery\\table.py:1820: UserWarning: BigQuery Storage module not found, fetch data with the REST endpoint instead.\n",
      "  warnings.warn(\n"
     ]
    },
    {
     "name": "stdout",
     "output_type": "stream",
     "text": [
      "\n",
      "Downloading: 100%|\u001b[32m██████████\u001b[0m|\n",
      "The shape of dataframe after copy is:\t(92, 7)\n",
      "Job ID 2d9422c7-6023-4128-8c41-b53175f9245e successfully executed: 100%|\u001b[32m██████████\u001b[0m|"
     ]
    },
    {
     "name": "stderr",
     "output_type": "stream",
     "text": [
      "d:\\Anaconda3\\envs\\inc_env\\lib\\site-packages\\google\\cloud\\bigquery\\table.py:1820: UserWarning: BigQuery Storage module not found, fetch data with the REST endpoint instead.\n",
      "  warnings.warn(\n"
     ]
    },
    {
     "name": "stdout",
     "output_type": "stream",
     "text": [
      "\n",
      "Downloading: 100%|\u001b[32m██████████\u001b[0m|\n",
      "The shape of dataframe after copy is:\t(92, 7)\n",
      "Job ID bb39097c-5e2c-435c-92dc-acecd5c436e2 successfully executed: 100%|\u001b[32m██████████\u001b[0m|"
     ]
    },
    {
     "name": "stderr",
     "output_type": "stream",
     "text": [
      "d:\\Anaconda3\\envs\\inc_env\\lib\\site-packages\\google\\cloud\\bigquery\\table.py:1820: UserWarning: BigQuery Storage module not found, fetch data with the REST endpoint instead.\n",
      "  warnings.warn(\n"
     ]
    },
    {
     "name": "stdout",
     "output_type": "stream",
     "text": [
      "\n",
      "Downloading: 100%|\u001b[32m██████████\u001b[0m|\n",
      "     disbursementdate                  digitalLoanAccountId  bu_bureau_score  \\\n",
      "0 2023-04-29 19:07:39  060c80e4-c373-4951-9eb8-022b5e10a242            151.0   \n",
      "1 2024-05-02 17:17:31  64be9c19-7dec-4a44-a506-edbadcac6263            504.0   \n",
      "\n",
      "   ln_fspd30_flag  ln_mature_fspd30_flag  \n",
      "0               0                      1  \n",
      "1               0                      1  \n",
      "The shape of dataframe after copy is:\t(92, 7)\n",
      "['start_date' 'end_date' 'bu_bureau_score_FSPD30_gini' 'period'\n",
      " 'Model_Name' 'version' 'bad_rate']\n",
      "Job ID 5d4237c0-08bf-498c-92f7-5cbc5046d11a successfully executed: 100%|\u001b[32m██████████\u001b[0m|"
     ]
    },
    {
     "name": "stderr",
     "output_type": "stream",
     "text": [
      "d:\\Anaconda3\\envs\\inc_env\\lib\\site-packages\\google\\cloud\\bigquery\\table.py:1820: UserWarning: BigQuery Storage module not found, fetch data with the REST endpoint instead.\n",
      "  warnings.warn(\n"
     ]
    },
    {
     "name": "stdout",
     "output_type": "stream",
     "text": [
      "\n",
      "Downloading: 100%|\u001b[32m██████████\u001b[0m|\n",
      "     disbursementdate                  digitalLoanAccountId  bu_bureau_score  \\\n",
      "0 2024-04-27 16:27:30  3dd4e296-814b-4ce2-9af8-d38bbfb1518c            258.0   \n",
      "1 2024-04-30 19:27:39  5601b9ed-e5bd-4eb5-8c11-9ebb55bc2c59            286.0   \n",
      "\n",
      "   ln_fstpd30_flag  ln_mature_fstpd30_flag  \n",
      "0                0                       1  \n",
      "1                0                       1  \n",
      "The shape of dataframe after copy is:\t(92, 7)\n",
      "['start_date' 'end_date' 'bu_bureau_score_FSTPD30_gini' 'period'\n",
      " 'Model_Name' 'version' 'bad_rate']\n"
     ]
    },
    {
     "data": {
      "text/html": [
       "<div>\n",
       "<style scoped>\n",
       "    .dataframe tbody tr th:only-of-type {\n",
       "        vertical-align: middle;\n",
       "    }\n",
       "\n",
       "    .dataframe tbody tr th {\n",
       "        vertical-align: top;\n",
       "    }\n",
       "\n",
       "    .dataframe thead th {\n",
       "        text-align: right;\n",
       "    }\n",
       "</style>\n",
       "<table border=\"1\" class=\"dataframe\">\n",
       "  <thead>\n",
       "    <tr style=\"text-align: right;\">\n",
       "      <th></th>\n",
       "      <th>start_date</th>\n",
       "      <th>end_date</th>\n",
       "      <th>bu_bureau_score_FSTPD30_gini</th>\n",
       "      <th>period</th>\n",
       "      <th>Model_Name</th>\n",
       "      <th>version</th>\n",
       "      <th>bad_rate</th>\n",
       "    </tr>\n",
       "  </thead>\n",
       "  <tbody>\n",
       "    <tr>\n",
       "      <th>0</th>\n",
       "      <td>2023-01-01</td>\n",
       "      <td>2023-01-31</td>\n",
       "      <td>0.022917</td>\n",
       "      <td>Month</td>\n",
       "      <td>bu_bureau_score</td>\n",
       "      <td>1.1.0</td>\n",
       "      <td>FSTPD30</td>\n",
       "    </tr>\n",
       "    <tr>\n",
       "      <th>1</th>\n",
       "      <td>2023-01-09</td>\n",
       "      <td>2023-01-15</td>\n",
       "      <td>-0.106667</td>\n",
       "      <td>Week</td>\n",
       "      <td>bu_bureau_score</td>\n",
       "      <td>1.1.0</td>\n",
       "      <td>FSTPD30</td>\n",
       "    </tr>\n",
       "    <tr>\n",
       "      <th>2</th>\n",
       "      <td>2023-01-16</td>\n",
       "      <td>2023-01-22</td>\n",
       "      <td>-0.833333</td>\n",
       "      <td>Week</td>\n",
       "      <td>bu_bureau_score</td>\n",
       "      <td>1.1.0</td>\n",
       "      <td>FSTPD30</td>\n",
       "    </tr>\n",
       "    <tr>\n",
       "      <th>3</th>\n",
       "      <td>2023-01-23</td>\n",
       "      <td>2023-01-29</td>\n",
       "      <td>0.416667</td>\n",
       "      <td>Week</td>\n",
       "      <td>bu_bureau_score</td>\n",
       "      <td>1.1.0</td>\n",
       "      <td>FSTPD30</td>\n",
       "    </tr>\n",
       "    <tr>\n",
       "      <th>4</th>\n",
       "      <td>2023-01-30</td>\n",
       "      <td>2023-02-05</td>\n",
       "      <td>0.266667</td>\n",
       "      <td>Week</td>\n",
       "      <td>bu_bureau_score</td>\n",
       "      <td>1.1.0</td>\n",
       "      <td>FSTPD30</td>\n",
       "    </tr>\n",
       "  </tbody>\n",
       "</table>\n",
       "</div>"
      ],
      "text/plain": [
       "  start_date   end_date  bu_bureau_score_FSTPD30_gini period       Model_Name  \\\n",
       "0 2023-01-01 2023-01-31                      0.022917  Month  bu_bureau_score   \n",
       "1 2023-01-09 2023-01-15                     -0.106667   Week  bu_bureau_score   \n",
       "2 2023-01-16 2023-01-22                     -0.833333   Week  bu_bureau_score   \n",
       "3 2023-01-23 2023-01-29                      0.416667   Week  bu_bureau_score   \n",
       "4 2023-01-30 2023-02-05                      0.266667   Week  bu_bureau_score   \n",
       "\n",
       "  version bad_rate  \n",
       "0   1.1.0  FSTPD30  \n",
       "1   1.1.0  FSTPD30  \n",
       "2   1.1.0  FSTPD30  \n",
       "3   1.1.0  FSTPD30  \n",
       "4   1.1.0  FSTPD30  "
      ]
     },
     "execution_count": 158,
     "metadata": {},
     "output_type": "execute_result"
    }
   ],
   "source": [
    "sq = \"\"\"\n",
    "with bu_bureau_score as \n",
    "(SELECT \n",
    "    ln_disb_dtime disbursementdate,\n",
    "\tdigitalLoanAccountId,\n",
    "    bu_bureau_score,\n",
    "    ln_fpd10_flag,\n",
    "\tln_mature_fpd10_flag,\t\n",
    "\tFROM \n",
    "    prj-prod-dataplatform.risk_mart.sil_risk_ds_master_20230101_20250206\n",
    "  WHERE \n",
    "     -- ln_disb_dtime >= '2023-07-01'\n",
    "    ln_appln_submit_datetime >= '2023-01-01'\n",
    "  -- AND\n",
    "  --   format_date('%Y-%m', ln_disb_dtime) = '2024-09'\n",
    "  AND\n",
    "    ln_fpd10_flag is not null\n",
    "  AND\n",
    "    coalesce(bu_bureau_score, 0.0) > 0.0\n",
    "  AND\n",
    "    ln_mature_fpd10_flag = 1\n",
    ")\n",
    "select * from bu_bureau_score;\n",
    "\"\"\"\n",
    "\n",
    "bu_bureau_scorefpd10 = client.query(sq).to_dataframe(progress_bar_type='tqdm')\n",
    "\n",
    "bu_bureau_scorefpd10.head()\n",
    "\n",
    "gini_results = calculate_periodic_gini_threedigit(bu_bureau_scorefpd10, 'bu_bureau_score', 'ln_fpd10_flag', 'FPD10')\n",
    "M1FPD10 = gini_results.copy()\n",
    "print(f\"The shape of dataframe after copy is:\\t{M1FPD10.shape}\")\n",
    "M1FPD10.columns.values\n",
    "\n",
    "# FPD30\n",
    "\n",
    "sq = \"\"\"\n",
    "with bu_bureau_score as \n",
    "(SELECT \n",
    "    ln_disb_dtime disbursementdate,\n",
    "\tdigitalLoanAccountId,\n",
    "    bu_bureau_score,\n",
    "    ln_fpd30_flag,\n",
    "\tln_mature_fpd30_flag,\t\n",
    "\tFROM \n",
    "    prj-prod-dataplatform.risk_mart.sil_risk_ds_master_20230101_20250206\n",
    "  WHERE \n",
    "     -- ln_disb_dtime >= '2023-07-01'\n",
    "    ln_appln_submit_datetime >= '2023-01-01'\n",
    "  -- AND\n",
    "  --   format_date('%Y-%m', ln_disb_dtime) = '2024-09'\n",
    "  AND\n",
    "    ln_fpd30_flag is not null\n",
    "  AND\n",
    "    coalesce(bu_bureau_score, 0.0) > 0.0\n",
    "  AND\n",
    "    ln_mature_fpd30_flag = 1\n",
    ")\n",
    "select * from bu_bureau_score;\n",
    "\"\"\"\n",
    "\n",
    "bu_bureau_scorefpd30 = client.query(sq).to_dataframe(progress_bar_type='tqdm')\n",
    "\n",
    "bu_bureau_scorefpd30.head()\n",
    "\n",
    "gini_results = calculate_periodic_gini_threedigit(bu_bureau_scorefpd30, 'bu_bureau_score', 'ln_fpd30_flag', 'FPD30')\n",
    "M2FPD30 = gini_results.copy()\n",
    "print(f\"The shape of dataframe after copy is:\\t{M2FPD30.shape}\")\n",
    "M2FPD30.columns.values\n",
    "\n",
    "sq = \"\"\"\n",
    "with bu_bureau_score as \n",
    "(SELECT \n",
    "    ln_disb_dtime disbursementdate,\n",
    "\tdigitalLoanAccountId,\n",
    "    bu_bureau_score,\n",
    "    ln_fspd30_flag,\n",
    "\tln_mature_fspd30_flag,\t\n",
    "\tFROM \n",
    "    prj-prod-dataplatform.risk_mart.sil_risk_ds_master_20230101_20250206\n",
    "  WHERE \n",
    "     -- ln_disb_dtime >= '2023-07-01'\n",
    "    ln_appln_submit_datetime >= '2023-01-01'\n",
    "  -- AND\n",
    "  --   format_date('%Y-%m', ln_disb_dtime) = '2024-09'\n",
    "  AND\n",
    "    ln_fspd30_flag is not null\n",
    "  AND\n",
    "    coalesce(bu_bureau_score, 0.0) > 0.0\n",
    "  AND\n",
    "    ln_mature_fspd30_flag = 1\n",
    ")\n",
    "select * from bu_bureau_score;\n",
    "\"\"\"\n",
    "\n",
    "bu_bureau_scorefspd30 = client.query(sq).to_dataframe(progress_bar_type='tqdm')\n",
    "\n",
    "print(bu_bureau_scorefspd30.head(2))\n",
    "\n",
    "gini_results = calculate_periodic_gini_threedigit(bu_bureau_scorefspd30, 'bu_bureau_score', 'ln_fspd30_flag', 'FSPD30')\n",
    "M3FSPD30 = gini_results.copy()\n",
    "print(f\"The shape of dataframe after copy is:\\t{M3FSPD30.shape}\")\n",
    "print(M3FSPD30.columns.values)\n",
    "\n",
    "M3FSPD30.head()\n",
    "\n",
    "sq = \"\"\"\n",
    "with bu_bureau_score as \n",
    "(SELECT \n",
    "    ln_disb_dtime disbursementdate,\n",
    "\tdigitalLoanAccountId,\n",
    "    bu_bureau_score,\n",
    "    ln_fstpd30_flag,\n",
    "\tln_mature_fstpd30_flag,\t\n",
    "\tFROM \n",
    "    prj-prod-dataplatform.risk_mart.sil_risk_ds_master_20230101_20250206\n",
    "  WHERE \n",
    "     -- ln_disb_dtime >= '2023-07-01'\n",
    "    ln_appln_submit_datetime >= '2023-01-01'\n",
    "  -- AND\n",
    "  --   format_date('%Y-%m', ln_disb_dtime) = '2024-09'\n",
    "  AND\n",
    "    ln_fstpd30_flag is not null\n",
    "  AND\n",
    "    coalesce(bu_bureau_score, 0.0) > 0.0\n",
    "  AND\n",
    "    ln_mature_fstpd30_flag = 1\n",
    ")\n",
    "select * from bu_bureau_score;\n",
    "\"\"\"\n",
    "\n",
    "bu_bureau_scorefstpd30 = client.query(sq).to_dataframe(progress_bar_type='tqdm')\n",
    "\n",
    "print(bu_bureau_scorefstpd30.head(2))\n",
    "\n",
    "gini_results = calculate_periodic_gini_threedigit(bu_bureau_scorefstpd30, 'bu_bureau_score', 'ln_fstpd30_flag', 'FSTPD30')\n",
    "M4FSTPD30 = gini_results.copy()\n",
    "print(f\"The shape of dataframe after copy is:\\t{M4FSTPD30.shape}\")\n",
    "print(M4FSTPD30.columns.values)\n",
    "\n",
    "M4FSTPD30.head()\n",
    "\n"
   ]
  },
  {
   "cell_type": "code",
   "execution_count": null,
   "metadata": {},
   "outputs": [],
   "source": []
  },
  {
   "cell_type": "markdown",
   "metadata": {},
   "source": [
    "## Combining data"
   ]
  },
  {
   "cell_type": "code",
   "execution_count": 159,
   "metadata": {},
   "outputs": [
    {
     "data": {
      "text/plain": [
       "array(['start_date', 'end_date', 'bu_bureau_score_FPD10_gini', 'period',\n",
       "       'Model_Name', 'version', 'bad_rate', 'bu_bureau_score_FPD30_gini',\n",
       "       'bu_bureau_score_FSPD30_gini', 'bu_bureau_score_FSTPD30_gini'],\n",
       "      dtype=object)"
      ]
     },
     "execution_count": 159,
     "metadata": {},
     "output_type": "execute_result"
    }
   ],
   "source": [
    "import functools\n",
    "\n",
    "dataframes = [M1FPD10, M2FPD30, M3FSPD30, M4FSTPD30]\n",
    "common_columns = ['start_date', 'end_date', 'period', 'Model_Name','version', 'bad_rate']\n",
    "\n",
    "def merge_dataframes(df1, df2):\n",
    "    return pd.merge(df1, df2, on=common_columns, how='outer')\n",
    "\n",
    "final_df = functools.reduce(merge_dataframes, dataframes)\n",
    "\n",
    "final_df.columns.values"
   ]
  },
  {
   "cell_type": "code",
   "execution_count": 160,
   "metadata": {},
   "outputs": [],
   "source": [
    "final_df = final_df[['start_date', 'end_date', 'period',   'Model_Name', 'version', 'bad_rate','bu_bureau_score_FPD10_gini','bu_bureau_score_FPD30_gini',    'bu_bureau_score_FSPD30_gini', 'bu_bureau_score_FSTPD30_gini']].copy()"
   ]
  },
  {
   "cell_type": "code",
   "execution_count": 161,
   "metadata": {},
   "outputs": [
    {
     "data": {
      "text/plain": [
       "QueryJob<project=prj-prod-dataplatform, location=asia-southeast1, id=15dcdd74-ebf5-4387-9520-a083c1e3476c>"
      ]
     },
     "execution_count": 161,
     "metadata": {},
     "output_type": "execute_result"
    }
   ],
   "source": [
    "sq = \"\"\"drop table if exists prj-prod-dataplatform.dap_ds_poweruser_playground.Model_gini_bu_bureau_score;\"\"\"\n",
    "client.query(sq)"
   ]
  },
  {
   "cell_type": "code",
   "execution_count": 162,
   "metadata": {},
   "outputs": [
    {
     "data": {
      "text/plain": [
       "LoadJob<project=prj-prod-dataplatform, location=asia-southeast1, id=d89c8927-7e2f-4a5f-9fcc-7a835391126c>"
      ]
     },
     "execution_count": 162,
     "metadata": {},
     "output_type": "execute_result"
    }
   ],
   "source": [
    "import pandas as pd\n",
    "from google.cloud import bigquery\n",
    "\n",
    "# Create a BigQuery client\n",
    "client = bigquery.Client('prj-prod-dataplatform')\n",
    "\n",
    "# Define your table schema\n",
    "table_schema = [\n",
    "    bigquery.SchemaField('start_date', 'TIMESTAMP'),\n",
    "    bigquery.SchemaField('end_date', 'TIMESTAMP'),\n",
    "    bigquery.SchemaField('period', 'STRING'),\n",
    "    bigquery.SchemaField('Model_Name', 'STRING'),\n",
    "    bigquery.SchemaField('version', 'STRING'),\n",
    "    bigquery.SchemaField('Badrate', 'STRING'),\n",
    "    bigquery.SchemaField('bu_bureau_score_FPD10_gini', 'FLOAT'),\n",
    "    bigquery.SchemaField('bu_bureau_score_FPD30_gini', 'FLOAT'),    \n",
    "    bigquery.SchemaField('bu_bureau_score_FSPD30_gini', 'FLOAT'),\n",
    "    bigquery.SchemaField('bu_bureau_score_FSTPD30_gini', 'FLOAT')\n",
    "    \n",
    "]\n",
    "\n",
    "# Create your BigQuery table\n",
    "table_id = 'prj-prod-dataplatform.dap_ds_poweruser_playground.Model_gini_bu_bureau_score'\n",
    "table = bigquery.Table(table_id, schema=table_schema)\n",
    "table = client.create_table(table)\n",
    "\n",
    "# Load your DataFrame into BigQuery\n",
    "job_config = bigquery.LoadJobConfig(\n",
    "    write_disposition='WRITE_TRUNCATE'\n",
    ")\n",
    "\n",
    "load_job = client.load_table_from_dataframe(\n",
    "    final_df, table_id, job_config=job_config\n",
    ")\n",
    "\n",
    "load_job.result()"
   ]
  },
  {
   "cell_type": "code",
   "execution_count": null,
   "metadata": {},
   "outputs": [],
   "source": []
  }
 ],
 "metadata": {
  "kernelspec": {
   "display_name": "inc_env",
   "language": "python",
   "name": "python3"
  },
  "language_info": {
   "codemirror_mode": {
    "name": "ipython",
    "version": 3
   },
   "file_extension": ".py",
   "mimetype": "text/x-python",
   "name": "python",
   "nbconvert_exporter": "python",
   "pygments_lexer": "ipython3",
   "version": "3.8.20"
  }
 },
 "nbformat": 4,
 "nbformat_minor": 2
}
