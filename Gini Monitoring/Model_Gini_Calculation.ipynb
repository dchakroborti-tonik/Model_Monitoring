{
 "cells": [
  {
   "cell_type": "markdown",
   "metadata": {},
   "source": [
    "# <center> Model Gini Calculation </center>"
   ]
  },
  {
   "cell_type": "code",
   "execution_count": 1,
   "metadata": {},
   "outputs": [],
   "source": [
    "# %% [markdown]\n",
    "# # Jupyter Notebook Loading Header\n",
    "#\n",
    "# This is a custom loading header for Jupyter Notebooks in Visual Studio Code.\n",
    "# It includes common imports and settings to get you started quickly.\n",
    "\n",
    "# %% [markdown]\n",
    "## Import Libraries\n",
    "import pandas as pd\n",
    "import numpy as np\n",
    "import matplotlib.pyplot as plt\n",
    "import seaborn as sns\n",
    "from google.cloud import bigquery\n",
    "from google.cloud import storage\n",
    "import os\n",
    "path = r'C:\\Users\\DwaipayanChakroborti\\AppData\\Roaming\\gcloud\\legacy_credentials\\dchakroborti@tonikbank.com\\adc.json'\n",
    "os.environ['GOOGLE_APPLICATION_CREDENTIALS'] = path\n",
    "client = bigquery.Client(project='prj-prod-dataplatform')\n",
    "\n",
    "from sklearn.metrics import roc_auc_score\n",
    "from datetime import datetime, timedelta\n",
    "# %% [markdown]\n",
    "## Configure Settings\n",
    "# Set options or configurations as needed\n",
    "# Example: pd.set_option('display.max_columns', None)"
   ]
  },
  {
   "cell_type": "markdown",
   "metadata": {},
   "source": [
    "# Function"
   ]
  },
  {
   "cell_type": "markdown",
   "metadata": {},
   "source": [
    "## calculate_gini_for_threedigitscore"
   ]
  },
  {
   "cell_type": "code",
   "execution_count": 2,
   "metadata": {},
   "outputs": [],
   "source": [
    "# def calculate_gini_for_threedigitscore(scores, labels):\n",
    "#     \"\"\"\n",
    "#     Calculate Gini coefficient for three-digit scores and binary labels\n",
    "    \n",
    "#     Parameters:\n",
    "#     scores: array-like, three-digit scores (higher is better)\n",
    "#     labels: array-like, binary values (0 or 1, where 1 indicates default)\n",
    "    \n",
    "#     Returns:\n",
    "#     float: Gini coefficient\n",
    "#     \"\"\"\n",
    "#     # Combine scores and labels into a DataFrame\n",
    "#     df = pd.DataFrame({'score': scores, 'label': labels})\n",
    "    \n",
    "#     # Sort by score in descending order (assuming higher score is better)\n",
    "#     df = df.sort_values('score', ascending=False)\n",
    "    \n",
    "#     # Calculate cumulative values\n",
    "#     total_pos = df['label'].sum()\n",
    "#     total_neg = len(df) - total_pos\n",
    "    \n",
    "#     if total_pos == 0 or total_neg == 0:\n",
    "#         return 0\n",
    "    \n",
    "#     # Calculate cumulative proportions\n",
    "#     cum_pos = df['label'].cumsum()\n",
    "#     cum_neg = np.arange(1, len(df) + 1) - cum_pos\n",
    "    \n",
    "#     # Convert to proportions\n",
    "#     cum_pos_prop = cum_pos / total_pos\n",
    "#     cum_neg_prop = cum_neg / total_neg\n",
    "    \n",
    "#     # Calculate Gini\n",
    "#     gini = 1 - np.trapz(cum_pos_prop, cum_neg_prop)\n",
    "    \n",
    "#     return gini\n",
    "\n",
    "\n",
    "## Modified one\n",
    "\n",
    "def calculate_gini_for_threedigitscore(scores, labels):\n",
    "    \"\"\"\n",
    "    Calculate Gini coefficient for three-digit scores and binary labels\n",
    "    \n",
    "    Parameters:\n",
    "    scores: array-like, three-digit scores (higher is better)\n",
    "    labels: array-like, binary values (0 or 1, where 1 indicates default)\n",
    "    \n",
    "    Returns:\n",
    "    float: Gini coefficient\n",
    "    \"\"\"\n",
    "    # Combine scores and labels into a DataFrame\n",
    "    df = pd.DataFrame({'score': scores, 'label': labels})\n",
    "    \n",
    "    # Sort by score in descending order (assuming higher score means lower risk)\n",
    "    # For default prediction, we want to sort scores in ascending order \n",
    "    # since higher default probability should correspond to higher risk\n",
    "    df = df.sort_values('score', ascending=True)  # Changed to ascending=True\n",
    "    \n",
    "    # Calculate cumulative values\n",
    "    total_pos = df['label'].sum()\n",
    "    total_neg = len(df) - total_pos\n",
    "    \n",
    "    if total_pos == 0 or total_neg == 0:\n",
    "        return 0\n",
    "    \n",
    "    # Calculate cumulative proportions\n",
    "    cum_pos = df['label'].cumsum()\n",
    "    cum_neg = np.arange(1, len(df) + 1) - cum_pos\n",
    "    \n",
    "    # Convert to proportions\n",
    "    cum_pos_prop = cum_pos / total_pos\n",
    "    cum_neg_prop = cum_neg / total_neg\n",
    "    \n",
    "    # Calculate area under curve\n",
    "    auc = np.trapz(cum_pos_prop, cum_neg_prop)\n",
    "    \n",
    "    # Calculate Gini\n",
    "    gini = 2 * auc - 1\n",
    "    \n",
    "    return gini"
   ]
  },
  {
   "cell_type": "markdown",
   "metadata": {},
   "source": [
    "## calculate_gini"
   ]
  },
  {
   "cell_type": "code",
   "execution_count": 3,
   "metadata": {},
   "outputs": [],
   "source": [
    "def calculate_gini(pd_scores, bad_indicators):\n",
    "    \"\"\"\n",
    "    Calculate Gini coefficient from scores and binary indicators\n",
    "    \n",
    "    Parameters:\n",
    "    pd_scores: array-like of scores/probabilities\n",
    "    bad_indicators: array-like of binary outcomes (0/1)\n",
    "    \n",
    "    Returns:\n",
    "    float: Gini coefficient\n",
    "    \"\"\"\n",
    "    # Convert inputs to numpy arrays and ensure they're numeric\n",
    "    pd_scores = np.array(pd_scores, dtype=float)\n",
    "    bad_indicators = np.array(bad_indicators, dtype=int)\n",
    "    \n",
    "    # Check for valid input data\n",
    "    if len(pd_scores) == 0 or len(bad_indicators) == 0:\n",
    "        return np.nan\n",
    "    \n",
    "    # Check if we have both good and bad cases (needed for ROC AUC)\n",
    "    if len(np.unique(bad_indicators)) < 2:\n",
    "        return np.nan\n",
    "    \n",
    "    # Calculate AUC using sklearn\n",
    "    try:\n",
    "        auc = roc_auc_score(bad_indicators, pd_scores)\n",
    "        # Calculate Gini from AUC\n",
    "        gini = 2 * auc - 1\n",
    "        return gini\n",
    "    except ValueError:\n",
    "        return np.nan"
   ]
  },
  {
   "cell_type": "markdown",
   "metadata": {},
   "source": [
    "## calculate_hybrid_gini"
   ]
  },
  {
   "cell_type": "code",
   "execution_count": 4,
   "metadata": {},
   "outputs": [],
   "source": [
    "# def calculate_hybrid_gini(scores, labels):\n",
    "#     \"\"\"\n",
    "#     Calculate Gini coefficient handling both PD values and three-digit scores\n",
    "    \n",
    "#     Parameters:\n",
    "#     scores: array-like, contains either PD values (0-1) or three-digit scores\n",
    "#     labels: array-like, binary values (0 or 1, where 1 indicates default)\n",
    "    \n",
    "#     Returns:\n",
    "#     float: Gini coefficient\n",
    "#     \"\"\"\n",
    "#     # Convert inputs to numpy arrays\n",
    "#     scores = np.array(scores, dtype=float)\n",
    "#     labels = np.array(labels, dtype=int)\n",
    "    \n",
    "#     # Basic validation\n",
    "#     if len(scores) == 0 or len(labels) == 0:\n",
    "#         return np.nan\n",
    "    \n",
    "#     if len(np.unique(labels)) < 2:\n",
    "#         return np.nan\n",
    "        \n",
    "#     # Determine if scores are PD values or three-digit scores\n",
    "#     # PD values are between 0 and 1\n",
    "#     is_pd = np.all((scores >= 0) & (scores <= 1))\n",
    "    \n",
    "#     if is_pd:\n",
    "#         try:\n",
    "#             auc = roc_auc_score(labels, scores)\n",
    "#             gini = 2 * auc - 1\n",
    "#             return gini\n",
    "#         except ValueError:\n",
    "#             return np.nan\n",
    "#     else:\n",
    "#         # Handle as three-digit score\n",
    "#         df = pd.DataFrame({'score': scores, 'label': labels})\n",
    "#         df = df.sort_values('score', ascending=False)\n",
    "        \n",
    "#         total_pos = df['label'].sum()\n",
    "#         total_neg = len(df) - total_pos\n",
    "        \n",
    "#         if total_pos == 0 or total_neg == 0:\n",
    "#             return np.nan\n",
    "        \n",
    "#         cum_pos = df['label'].cumsum()\n",
    "#         cum_neg = np.arange(1, len(df) + 1) - cum_pos\n",
    "        \n",
    "#         cum_pos_prop = cum_pos / total_pos\n",
    "#         cum_neg_prop = cum_neg / total_neg\n",
    "        \n",
    "#         gini = 1 - np.trapz(cum_pos_prop, cum_neg_prop)\n",
    "#         return gini\n",
    "\n",
    "## Modified one\n",
    "\n",
    "def calculate_hybrid_gini(scores, labels):\n",
    "    \"\"\"\n",
    "    Calculate Gini coefficient handling both PD values and three-digit scores\n",
    "    \n",
    "    Parameters:\n",
    "    scores: array-like, contains either PD values (0-1) or three-digit scores\n",
    "    labels: array-like, binary values (0 or 1, where 1 indicates default)\n",
    "    \n",
    "    Returns:\n",
    "    float: Gini coefficient\n",
    "    \"\"\"\n",
    "    # Convert inputs to numpy arrays\n",
    "    scores = np.array(scores, dtype=float)\n",
    "    labels = np.array(labels, dtype=int)\n",
    "    \n",
    "    # Basic validation\n",
    "    if len(scores) == 0 or len(labels) == 0:\n",
    "        return np.nan\n",
    "    \n",
    "    if len(np.unique(labels)) < 2:\n",
    "        return np.nan\n",
    "        \n",
    "    # Determine if scores are PD values or three-digit scores\n",
    "    # PD values are between 0 and 1\n",
    "    is_pd = np.all((scores >= 0) & (scores <= 1))\n",
    "    \n",
    "    if is_pd:\n",
    "        try:\n",
    "            auc = roc_auc_score(labels, scores)\n",
    "            gini = 2 * auc - 1\n",
    "            return gini\n",
    "        except ValueError:\n",
    "            return np.nan\n",
    "    else:\n",
    "        # Handle as three-digit score\n",
    "        df = pd.DataFrame({'score': scores, 'label': labels})\n",
    "        # Sort by score in ascending order since higher score means higher risk\n",
    "        df = df.sort_values('score', ascending=True)\n",
    "        \n",
    "        total_pos = df['label'].sum()\n",
    "        total_neg = len(df) - total_pos\n",
    "        \n",
    "        if total_pos == 0 or total_neg == 0:\n",
    "            return np.nan\n",
    "        \n",
    "        cum_pos = df['label'].cumsum()\n",
    "        cum_neg = np.arange(1, len(df) + 1) - cum_pos\n",
    "        \n",
    "        cum_pos_prop = cum_pos / total_pos\n",
    "        cum_neg_prop = cum_neg / total_neg\n",
    "        \n",
    "        # Calculate area under curve\n",
    "        auc = np.trapz(cum_pos_prop, cum_neg_prop)\n",
    "        \n",
    "        # Calculate Gini using the same formula as PD values\n",
    "        gini = 2 * auc - 1\n",
    "        return gini"
   ]
  },
  {
   "cell_type": "markdown",
   "metadata": {},
   "source": [
    "## calculate_periodic_gini_threedigit"
   ]
  },
  {
   "cell_type": "code",
   "execution_count": 5,
   "metadata": {},
   "outputs": [],
   "source": [
    "# Main processing code\n",
    "def calculate_periodic_gini_threedigit(df, score_column, label_column, namecolumn):\n",
    "    \"\"\"\n",
    "    Calculate periodic Gini coefficients\n",
    "    \n",
    "    Parameters:\n",
    "    df: DataFrame with disbursement dates and score/label columns\n",
    "    score_column: name of the score column\n",
    "    label_column: name of the label column\n",
    "    \"\"\"\n",
    "    # Ensure date is datetime type\n",
    "    df['disbursementdate'] = pd.to_datetime(df['disbursementdate'])\n",
    "    \n",
    "    # Calculate weekly Gini\n",
    "    df['week'] = df['disbursementdate'].dt.to_period('W')\n",
    "    weekly_gini = df.groupby('week').apply(\n",
    "        lambda x: calculate_gini_for_threedigitscore(x[score_column], x[label_column])\n",
    "    ).reset_index(name='gini')\n",
    "    weekly_gini['period'] = 'Week'\n",
    "    weekly_gini['start_date'] = weekly_gini['week'].apply(lambda x: x.to_timestamp())\n",
    "    weekly_gini['end_date'] = weekly_gini['start_date'] + timedelta(days=6)\n",
    "    weekly_gini = weekly_gini[['start_date', 'end_date', 'gini', 'period']]\n",
    "    \n",
    "    # Calculate monthly Gini\n",
    "    df['month'] = df['disbursementdate'].dt.to_period('M')\n",
    "    monthly_gini = df.groupby('month').apply(\n",
    "        lambda x: calculate_gini_for_threedigitscore(x[score_column], x[label_column])\n",
    "    ).reset_index(name='gini')\n",
    "    monthly_gini['period'] = 'Month'\n",
    "    monthly_gini['start_date'] = monthly_gini['month'].apply(lambda x: x.to_timestamp())\n",
    "    monthly_gini['end_date'] = monthly_gini['start_date'] + pd.DateOffset(months=1) - pd.Timedelta(days=1)\n",
    "    monthly_gini = monthly_gini[['start_date', 'end_date', 'gini', 'period']]\n",
    "    \n",
    "    # Combine and sort results\n",
    "    gini_results = pd.concat([weekly_gini, monthly_gini])\n",
    "    gini_results = gini_results.sort_values(by='start_date').reset_index(drop=True)\n",
    "    \n",
    "    # Add metadata columns\n",
    "    gini_results['Model_Name'] = score_column\n",
    "    gini_results['version'] = '1.1.0'\n",
    "    gini_results['bad_rate'] = namecolumn\n",
    "    gini_results.rename(columns={'gini': f'{score_column}_{namecolumn}_gini'}, inplace=True)\n",
    "    \n",
    "    return gini_results"
   ]
  },
  {
   "cell_type": "markdown",
   "metadata": {},
   "source": [
    "## calculate_periodic_gini"
   ]
  },
  {
   "cell_type": "code",
   "execution_count": 6,
   "metadata": {},
   "outputs": [],
   "source": [
    "def calculate_periodic_gini(df, score_column, label_column, namecolumn):\n",
    "    \"\"\"\n",
    "    Calculate periodic Gini coefficients\n",
    "    \n",
    "    Parameters:\n",
    "    df: DataFrame with disbursement dates and score/label columns\n",
    "    score_column: name of the score column\n",
    "    label_column: name of the label column\n",
    "    \"\"\"\n",
    "    # Input validation\n",
    "    required_columns = ['disbursementdate', score_column, label_column]\n",
    "    if not all(col in df.columns for col in required_columns):\n",
    "        raise ValueError(f\"Missing required columns. Need: {required_columns}\")\n",
    "        \n",
    "    # Create a copy to avoid modifying original dataframe\n",
    "    df = df.copy()\n",
    "    \n",
    "    # Ensure date is datetime type\n",
    "    df['disbursementdate'] = pd.to_datetime(df['disbursementdate'])\n",
    "    \n",
    "    # Ensure score and label columns are numeric\n",
    "    df[score_column] = pd.to_numeric(df[score_column], errors='coerce')\n",
    "    df[label_column] = pd.to_numeric(df[label_column], errors='coerce')\n",
    "    \n",
    "    # Drop rows with invalid values\n",
    "    df = df.dropna(subset=[score_column, label_column])\n",
    "    \n",
    "    # Calculate weekly Gini\n",
    "    df['week'] = df['disbursementdate'].dt.to_period('W')\n",
    "    weekly_gini = df.groupby('week').apply(\n",
    "        lambda x: calculate_gini(x[score_column], x[label_column])\n",
    "        if len(x) >= 10 else np.nan  # Only calculate if we have enough samples\n",
    "    ).reset_index(name='gini')\n",
    "    weekly_gini['period'] = 'Week'\n",
    "    weekly_gini['start_date'] = weekly_gini['week'].apply(lambda x: x.to_timestamp())\n",
    "    weekly_gini['end_date'] = weekly_gini['start_date'] + timedelta(days=6)\n",
    "    weekly_gini = weekly_gini[['start_date', 'end_date', 'gini', 'period']]\n",
    "    \n",
    "    # Calculate monthly Gini\n",
    "    df['month'] = df['disbursementdate'].dt.to_period('M')\n",
    "    monthly_gini = df.groupby('month').apply(\n",
    "        lambda x: calculate_gini(x[score_column], x[label_column])\n",
    "        if len(x) >= 20 else np.nan  # Only calculate if we have enough samples\n",
    "    ).reset_index(name='gini')\n",
    "    monthly_gini['period'] = 'Month'\n",
    "    monthly_gini['start_date'] = monthly_gini['month'].apply(lambda x: x.to_timestamp())\n",
    "    monthly_gini['end_date'] = monthly_gini['start_date'] + pd.DateOffset(months=1) - pd.Timedelta(days=1)\n",
    "    monthly_gini = monthly_gini[['start_date', 'end_date', 'gini', 'period']]\n",
    "    \n",
    "    # Combine and sort results\n",
    "    gini_results = pd.concat([weekly_gini, monthly_gini])\n",
    "    gini_results = gini_results.sort_values(by='start_date').reset_index(drop=True)\n",
    "    \n",
    "    # Add metadata columns\n",
    "    gini_results['Model_Name'] = score_column\n",
    "    gini_results['version'] = '1.1.0'\n",
    "    gini_results['bad_rate'] = namecolumn\n",
    "    gini_results.rename(columns={'gini': f'{score_column}_{namecolumn}_gini'}, inplace=True)\n",
    "    \n",
    "    return gini_results"
   ]
  },
  {
   "cell_type": "markdown",
   "metadata": {},
   "source": [
    "## calculate_periodic_hybrid_gini"
   ]
  },
  {
   "cell_type": "code",
   "execution_count": 7,
   "metadata": {},
   "outputs": [],
   "source": [
    "def calculate_periodic_hybrid_gini(df, score_column, label_column, namecolumn):\n",
    "    \"\"\"\n",
    "    Calculate periodic Gini coefficients for mixed score types\n",
    "    \n",
    "    Parameters:\n",
    "    df: DataFrame with disbursement dates and score/label columns\n",
    "    score_column: name of the score column\n",
    "    label_column: name of the label column\n",
    "    \"\"\"\n",
    "    # Input validation\n",
    "    required_columns = ['disbursementdate', score_column, label_column]\n",
    "    if not all(col in df.columns for col in required_columns):\n",
    "        raise ValueError(f\"Missing required columns. Need: {required_columns}\")\n",
    "        \n",
    "    # Create a copy to avoid modifying original dataframe\n",
    "    df = df.copy()\n",
    "    \n",
    "    # Ensure date is datetime type\n",
    "    df['disbursementdate'] = pd.to_datetime(df['disbursementdate'])\n",
    "    \n",
    "    # Ensure score and label columns are numeric\n",
    "    df[score_column] = pd.to_numeric(df[score_column], errors='coerce')\n",
    "    df[label_column] = pd.to_numeric(df[label_column], errors='coerce')\n",
    "    \n",
    "    # Drop rows with invalid values\n",
    "    df = df.dropna(subset=[score_column, label_column])\n",
    "    \n",
    "    # Calculate weekly Gini\n",
    "    df['week'] = df['disbursementdate'].dt.to_period('W')\n",
    "    weekly_gini = df.groupby('week').apply(\n",
    "        lambda x: calculate_hybrid_gini(x[score_column], x[label_column])\n",
    "        if len(x) >= 10 else np.nan  # Only calculate if we have enough samples\n",
    "    ).reset_index(name='gini')\n",
    "    weekly_gini['period'] = 'Week'\n",
    "    weekly_gini['start_date'] = weekly_gini['week'].apply(lambda x: x.to_timestamp())\n",
    "    weekly_gini['end_date'] = weekly_gini['start_date'] + pd.Timedelta(days=6)\n",
    "    weekly_gini = weekly_gini[['start_date', 'end_date', 'gini', 'period']]\n",
    "    \n",
    "    # Calculate monthly Gini\n",
    "    df['month'] = df['disbursementdate'].dt.to_period('M')\n",
    "    monthly_gini = df.groupby('month').apply(\n",
    "        lambda x: calculate_hybrid_gini(x[score_column], x[label_column])\n",
    "        if len(x) >= 20 else np.nan  # Only calculate if we have enough samples\n",
    "    ).reset_index(name='gini')\n",
    "    monthly_gini['period'] = 'Month'\n",
    "    monthly_gini['start_date'] = monthly_gini['month'].apply(lambda x: x.to_timestamp())\n",
    "    monthly_gini['end_date'] = monthly_gini['start_date'] + pd.DateOffset(months=1) - pd.Timedelta(days=1)\n",
    "    monthly_gini = monthly_gini[['start_date', 'end_date', 'gini', 'period']]\n",
    "    \n",
    "    # Combine and sort results\n",
    "    gini_results = pd.concat([weekly_gini, monthly_gini])\n",
    "    gini_results = gini_results.sort_values(by='start_date').reset_index(drop=True)\n",
    "    \n",
    "    # Add metadata columns\n",
    "    gini_results['Model_Name'] = score_column\n",
    "    gini_results['version'] = '1.1.0'\n",
    "    gini_results['bad_rate'] = namecolumn\n",
    "    gini_results.rename(columns={'gini': f'{score_column}_{namecolumn}_gini'}, inplace=True)\n",
    "    \n",
    "    return gini_results"
   ]
  },
  {
   "cell_type": "markdown",
   "metadata": {},
   "source": [
    "# App Score FPD10"
   ]
  },
  {
   "cell_type": "code",
   "execution_count": 8,
   "metadata": {},
   "outputs": [
    {
     "name": "stdout",
     "output_type": "stream",
     "text": [
      "Job ID 3e9e00d9-cc95-4399-881e-bde7805b916b successfully executed: 100%|\u001b[32m██████████\u001b[0m|"
     ]
    },
    {
     "name": "stderr",
     "output_type": "stream",
     "text": [
      "d:\\Anaconda3\\envs\\inc_env\\lib\\site-packages\\google\\cloud\\bigquery\\table.py:1820: UserWarning: BigQuery Storage module not found, fetch data with the REST endpoint instead.\n",
      "  warnings.warn(\n"
     ]
    },
    {
     "name": "stdout",
     "output_type": "stream",
     "text": [
      "\n",
      "Downloading: 100%|\u001b[32m██████████\u001b[0m|\n"
     ]
    }
   ],
   "source": [
    "sq = \"\"\"with appscore as \n",
    "(SELECT \n",
    "    ln_disb_dtime disbursementdate,\n",
    "\tdigitalLoanAccountId,\n",
    "    s_apps_score,\n",
    "    ln_fpd10_flag,\n",
    "\tln_mature_fpd10_flag,\t\n",
    "\tFROM \n",
    "    prj-prod-dataplatform.risk_mart.sil_risk_ds_master_20230101_20250206\n",
    "  WHERE \n",
    "     -- ln_disb_dtime >= '2023-07-01'\n",
    "    ln_appln_submit_datetime >= '2023-06-01'\n",
    "  -- AND\n",
    "  --   format_date('%Y-%m', ln_disb_dtime) = '2024-09'\n",
    "  AND\n",
    "    ln_fpd10_flag is not null\n",
    "  AND\n",
    "    s_apps_score is not null\n",
    "  AND\n",
    "    ln_mature_fpd10_flag = 1\n",
    ")\n",
    "select * from appscore;\"\"\"\n",
    "\n",
    "dfappscorefpd10 = client.query(sq).to_dataframe(progress_bar_type = 'tqdm')"
   ]
  },
  {
   "cell_type": "code",
   "execution_count": 9,
   "metadata": {},
   "outputs": [
    {
     "data": {
      "application/vnd.microsoft.datawrangler.viewer.v0+json": {
       "columns": [
        {
         "name": "index",
         "rawType": "int64",
         "type": "integer"
        },
        {
         "name": "disbursementdate",
         "rawType": "datetime64[us]",
         "type": "unknown"
        },
        {
         "name": "digitalLoanAccountId",
         "rawType": "object",
         "type": "string"
        },
        {
         "name": "s_apps_score",
         "rawType": "float64",
         "type": "float"
        },
        {
         "name": "ln_fpd10_flag",
         "rawType": "Int64",
         "type": "integer"
        },
        {
         "name": "ln_mature_fpd10_flag",
         "rawType": "Int64",
         "type": "integer"
        }
       ],
       "conversionMethod": "pd.DataFrame",
       "ref": "4ef3f6d2-b6f5-4dc9-b672-b8c83b99dacd",
       "rows": [
        [
         "72992",
         "2024-11-02 15:07:32",
         "4dc657f1-32c7-4f20-a688-ef84341c0f18",
         "0.501227284794583",
         "0",
         "1"
        ],
        [
         "60489",
         "2024-09-10 12:42:28",
         "590f2667-abbe-44da-8e35-2698deece937",
         "0.46650710690722025",
         "0",
         "1"
        ],
        [
         "86805",
         "2024-05-30 18:42:16",
         "8c973664-b630-429f-835b-243a39586fbf",
         "0.5645912430952493",
         "0",
         "1"
        ],
        [
         "97127",
         "2024-11-15 13:05:18",
         "11201cd3-8a41-43ca-9270-428d65c0a831",
         "0.5403532222021523",
         "0",
         "1"
        ],
        [
         "8327",
         "2024-05-12 17:35:16",
         "d6818a61-9b8a-4f91-b694-a65a9fc0cab1",
         "0.6158612804272008",
         "0",
         "1"
        ]
       ],
       "shape": {
        "columns": 5,
        "rows": 5
       }
      },
      "text/html": [
       "<div>\n",
       "<style scoped>\n",
       "    .dataframe tbody tr th:only-of-type {\n",
       "        vertical-align: middle;\n",
       "    }\n",
       "\n",
       "    .dataframe tbody tr th {\n",
       "        vertical-align: top;\n",
       "    }\n",
       "\n",
       "    .dataframe thead th {\n",
       "        text-align: right;\n",
       "    }\n",
       "</style>\n",
       "<table border=\"1\" class=\"dataframe\">\n",
       "  <thead>\n",
       "    <tr style=\"text-align: right;\">\n",
       "      <th></th>\n",
       "      <th>disbursementdate</th>\n",
       "      <th>digitalLoanAccountId</th>\n",
       "      <th>s_apps_score</th>\n",
       "      <th>ln_fpd10_flag</th>\n",
       "      <th>ln_mature_fpd10_flag</th>\n",
       "    </tr>\n",
       "  </thead>\n",
       "  <tbody>\n",
       "    <tr>\n",
       "      <th>72992</th>\n",
       "      <td>2024-11-02 15:07:32</td>\n",
       "      <td>4dc657f1-32c7-4f20-a688-ef84341c0f18</td>\n",
       "      <td>0.501227</td>\n",
       "      <td>0</td>\n",
       "      <td>1</td>\n",
       "    </tr>\n",
       "    <tr>\n",
       "      <th>60489</th>\n",
       "      <td>2024-09-10 12:42:28</td>\n",
       "      <td>590f2667-abbe-44da-8e35-2698deece937</td>\n",
       "      <td>0.466507</td>\n",
       "      <td>0</td>\n",
       "      <td>1</td>\n",
       "    </tr>\n",
       "    <tr>\n",
       "      <th>86805</th>\n",
       "      <td>2024-05-30 18:42:16</td>\n",
       "      <td>8c973664-b630-429f-835b-243a39586fbf</td>\n",
       "      <td>0.564591</td>\n",
       "      <td>0</td>\n",
       "      <td>1</td>\n",
       "    </tr>\n",
       "    <tr>\n",
       "      <th>97127</th>\n",
       "      <td>2024-11-15 13:05:18</td>\n",
       "      <td>11201cd3-8a41-43ca-9270-428d65c0a831</td>\n",
       "      <td>0.540353</td>\n",
       "      <td>0</td>\n",
       "      <td>1</td>\n",
       "    </tr>\n",
       "    <tr>\n",
       "      <th>8327</th>\n",
       "      <td>2024-05-12 17:35:16</td>\n",
       "      <td>d6818a61-9b8a-4f91-b694-a65a9fc0cab1</td>\n",
       "      <td>0.615861</td>\n",
       "      <td>0</td>\n",
       "      <td>1</td>\n",
       "    </tr>\n",
       "  </tbody>\n",
       "</table>\n",
       "</div>"
      ],
      "text/plain": [
       "         disbursementdate                  digitalLoanAccountId  s_apps_score  \\\n",
       "72992 2024-11-02 15:07:32  4dc657f1-32c7-4f20-a688-ef84341c0f18      0.501227   \n",
       "60489 2024-09-10 12:42:28  590f2667-abbe-44da-8e35-2698deece937      0.466507   \n",
       "86805 2024-05-30 18:42:16  8c973664-b630-429f-835b-243a39586fbf      0.564591   \n",
       "97127 2024-11-15 13:05:18  11201cd3-8a41-43ca-9270-428d65c0a831      0.540353   \n",
       "8327  2024-05-12 17:35:16  d6818a61-9b8a-4f91-b694-a65a9fc0cab1      0.615861   \n",
       "\n",
       "       ln_fpd10_flag  ln_mature_fpd10_flag  \n",
       "72992              0                     1  \n",
       "60489              0                     1  \n",
       "86805              0                     1  \n",
       "97127              0                     1  \n",
       "8327               0                     1  "
      ]
     },
     "execution_count": 9,
     "metadata": {},
     "output_type": "execute_result"
    }
   ],
   "source": [
    "dfappscorefpd10.sample(5)"
   ]
  },
  {
   "cell_type": "code",
   "execution_count": 10,
   "metadata": {},
   "outputs": [],
   "source": [
    "gini_results = calculate_periodic_gini(dfappscorefpd10, 's_apps_score', 'ln_fpd10_flag', 'FPD10')"
   ]
  },
  {
   "cell_type": "code",
   "execution_count": 11,
   "metadata": {},
   "outputs": [
    {
     "data": {
      "application/vnd.microsoft.datawrangler.viewer.v0+json": {
       "columns": [
        {
         "name": "index",
         "rawType": "int64",
         "type": "integer"
        },
        {
         "name": "start_date",
         "rawType": "datetime64[ns]",
         "type": "datetime"
        },
        {
         "name": "end_date",
         "rawType": "datetime64[ns]",
         "type": "datetime"
        },
        {
         "name": "s_apps_score_FPD10_gini",
         "rawType": "float64",
         "type": "float"
        },
        {
         "name": "period",
         "rawType": "object",
         "type": "string"
        },
        {
         "name": "Model_Name",
         "rawType": "object",
         "type": "string"
        },
        {
         "name": "version",
         "rawType": "object",
         "type": "string"
        },
        {
         "name": "bad_rate",
         "rawType": "object",
         "type": "string"
        }
       ],
       "conversionMethod": "pd.DataFrame",
       "ref": "0c9f6d5c-2e29-4000-b0a1-f552125af9c7",
       "rows": [
        [
         "0",
         "2023-05-29 00:00:00",
         "2023-06-04 00:00:00",
         "0.5482295482295481",
         "Week",
         "s_apps_score",
         "1.1.0",
         "FPD10"
        ],
        [
         "1",
         "2023-06-01 00:00:00",
         "2023-06-30 00:00:00",
         "0.3846483704974273",
         "Month",
         "s_apps_score",
         "1.1.0",
         "FPD10"
        ],
        [
         "2",
         "2023-06-05 00:00:00",
         "2023-06-11 00:00:00",
         "0.5",
         "Week",
         "s_apps_score",
         "1.1.0",
         "FPD10"
        ],
        [
         "3",
         "2023-06-12 00:00:00",
         "2023-06-18 00:00:00",
         "0.5551948051948052",
         "Week",
         "s_apps_score",
         "1.1.0",
         "FPD10"
        ],
        [
         "4",
         "2023-06-19 00:00:00",
         "2023-06-25 00:00:00",
         "0.004830917874396157",
         "Week",
         "s_apps_score",
         "1.1.0",
         "FPD10"
        ]
       ],
       "shape": {
        "columns": 7,
        "rows": 5
       }
      },
      "text/html": [
       "<div>\n",
       "<style scoped>\n",
       "    .dataframe tbody tr th:only-of-type {\n",
       "        vertical-align: middle;\n",
       "    }\n",
       "\n",
       "    .dataframe tbody tr th {\n",
       "        vertical-align: top;\n",
       "    }\n",
       "\n",
       "    .dataframe thead th {\n",
       "        text-align: right;\n",
       "    }\n",
       "</style>\n",
       "<table border=\"1\" class=\"dataframe\">\n",
       "  <thead>\n",
       "    <tr style=\"text-align: right;\">\n",
       "      <th></th>\n",
       "      <th>start_date</th>\n",
       "      <th>end_date</th>\n",
       "      <th>s_apps_score_FPD10_gini</th>\n",
       "      <th>period</th>\n",
       "      <th>Model_Name</th>\n",
       "      <th>version</th>\n",
       "      <th>bad_rate</th>\n",
       "    </tr>\n",
       "  </thead>\n",
       "  <tbody>\n",
       "    <tr>\n",
       "      <th>0</th>\n",
       "      <td>2023-05-29</td>\n",
       "      <td>2023-06-04</td>\n",
       "      <td>0.548230</td>\n",
       "      <td>Week</td>\n",
       "      <td>s_apps_score</td>\n",
       "      <td>1.1.0</td>\n",
       "      <td>FPD10</td>\n",
       "    </tr>\n",
       "    <tr>\n",
       "      <th>1</th>\n",
       "      <td>2023-06-01</td>\n",
       "      <td>2023-06-30</td>\n",
       "      <td>0.384648</td>\n",
       "      <td>Month</td>\n",
       "      <td>s_apps_score</td>\n",
       "      <td>1.1.0</td>\n",
       "      <td>FPD10</td>\n",
       "    </tr>\n",
       "    <tr>\n",
       "      <th>2</th>\n",
       "      <td>2023-06-05</td>\n",
       "      <td>2023-06-11</td>\n",
       "      <td>0.500000</td>\n",
       "      <td>Week</td>\n",
       "      <td>s_apps_score</td>\n",
       "      <td>1.1.0</td>\n",
       "      <td>FPD10</td>\n",
       "    </tr>\n",
       "    <tr>\n",
       "      <th>3</th>\n",
       "      <td>2023-06-12</td>\n",
       "      <td>2023-06-18</td>\n",
       "      <td>0.555195</td>\n",
       "      <td>Week</td>\n",
       "      <td>s_apps_score</td>\n",
       "      <td>1.1.0</td>\n",
       "      <td>FPD10</td>\n",
       "    </tr>\n",
       "    <tr>\n",
       "      <th>4</th>\n",
       "      <td>2023-06-19</td>\n",
       "      <td>2023-06-25</td>\n",
       "      <td>0.004831</td>\n",
       "      <td>Week</td>\n",
       "      <td>s_apps_score</td>\n",
       "      <td>1.1.0</td>\n",
       "      <td>FPD10</td>\n",
       "    </tr>\n",
       "  </tbody>\n",
       "</table>\n",
       "</div>"
      ],
      "text/plain": [
       "  start_date   end_date  s_apps_score_FPD10_gini period    Model_Name version  \\\n",
       "0 2023-05-29 2023-06-04                 0.548230   Week  s_apps_score   1.1.0   \n",
       "1 2023-06-01 2023-06-30                 0.384648  Month  s_apps_score   1.1.0   \n",
       "2 2023-06-05 2023-06-11                 0.500000   Week  s_apps_score   1.1.0   \n",
       "3 2023-06-12 2023-06-18                 0.555195   Week  s_apps_score   1.1.0   \n",
       "4 2023-06-19 2023-06-25                 0.004831   Week  s_apps_score   1.1.0   \n",
       "\n",
       "  bad_rate  \n",
       "0    FPD10  \n",
       "1    FPD10  \n",
       "2    FPD10  \n",
       "3    FPD10  \n",
       "4    FPD10  "
      ]
     },
     "execution_count": 11,
     "metadata": {},
     "output_type": "execute_result"
    }
   ],
   "source": [
    "gini_results.head()"
   ]
  },
  {
   "cell_type": "code",
   "execution_count": 12,
   "metadata": {},
   "outputs": [
    {
     "name": "stdout",
     "output_type": "stream",
     "text": [
      "The shape of dataframe after copy is:\t(105, 7)\n"
     ]
    },
    {
     "data": {
      "text/plain": [
       "array(['start_date', 'end_date', 's_apps_score_FPD10_gini', 'period',\n",
       "       'Model_Name', 'version', 'bad_rate'], dtype=object)"
      ]
     },
     "execution_count": 12,
     "metadata": {},
     "output_type": "execute_result"
    }
   ],
   "source": [
    "appscoreFPD10 = gini_results.copy()\n",
    "print(f\"The shape of dataframe after copy is:\\t{appscoreFPD10.shape}\")\n",
    "appscoreFPD10.columns.values"
   ]
  },
  {
   "cell_type": "code",
   "execution_count": 13,
   "metadata": {},
   "outputs": [
    {
     "data": {
      "application/vnd.microsoft.datawrangler.viewer.v0+json": {
       "columns": [
        {
         "name": "index",
         "rawType": "int64",
         "type": "integer"
        },
        {
         "name": "start_date",
         "rawType": "datetime64[ns]",
         "type": "datetime"
        },
        {
         "name": "end_date",
         "rawType": "datetime64[ns]",
         "type": "datetime"
        },
        {
         "name": "s_apps_score_FPD10_gini",
         "rawType": "float64",
         "type": "float"
        },
        {
         "name": "period",
         "rawType": "object",
         "type": "string"
        },
        {
         "name": "Model_Name",
         "rawType": "object",
         "type": "string"
        },
        {
         "name": "version",
         "rawType": "object",
         "type": "string"
        },
        {
         "name": "bad_rate",
         "rawType": "object",
         "type": "string"
        }
       ],
       "conversionMethod": "pd.DataFrame",
       "ref": "3e28b1af-04f8-4343-ac85-b1e44140bb2b",
       "rows": [
        [
         "0",
         "2023-05-29 00:00:00",
         "2023-06-04 00:00:00",
         "0.5482295482295481",
         "Week",
         "s_apps_score",
         "1.1.0",
         "FPD10"
        ],
        [
         "1",
         "2023-06-01 00:00:00",
         "2023-06-30 00:00:00",
         "0.3846483704974273",
         "Month",
         "s_apps_score",
         "1.1.0",
         "FPD10"
        ],
        [
         "2",
         "2023-06-05 00:00:00",
         "2023-06-11 00:00:00",
         "0.5",
         "Week",
         "s_apps_score",
         "1.1.0",
         "FPD10"
        ],
        [
         "3",
         "2023-06-12 00:00:00",
         "2023-06-18 00:00:00",
         "0.5551948051948052",
         "Week",
         "s_apps_score",
         "1.1.0",
         "FPD10"
        ],
        [
         "4",
         "2023-06-19 00:00:00",
         "2023-06-25 00:00:00",
         "0.004830917874396157",
         "Week",
         "s_apps_score",
         "1.1.0",
         "FPD10"
        ]
       ],
       "shape": {
        "columns": 7,
        "rows": 5
       }
      },
      "text/html": [
       "<div>\n",
       "<style scoped>\n",
       "    .dataframe tbody tr th:only-of-type {\n",
       "        vertical-align: middle;\n",
       "    }\n",
       "\n",
       "    .dataframe tbody tr th {\n",
       "        vertical-align: top;\n",
       "    }\n",
       "\n",
       "    .dataframe thead th {\n",
       "        text-align: right;\n",
       "    }\n",
       "</style>\n",
       "<table border=\"1\" class=\"dataframe\">\n",
       "  <thead>\n",
       "    <tr style=\"text-align: right;\">\n",
       "      <th></th>\n",
       "      <th>start_date</th>\n",
       "      <th>end_date</th>\n",
       "      <th>s_apps_score_FPD10_gini</th>\n",
       "      <th>period</th>\n",
       "      <th>Model_Name</th>\n",
       "      <th>version</th>\n",
       "      <th>bad_rate</th>\n",
       "    </tr>\n",
       "  </thead>\n",
       "  <tbody>\n",
       "    <tr>\n",
       "      <th>0</th>\n",
       "      <td>2023-05-29</td>\n",
       "      <td>2023-06-04</td>\n",
       "      <td>0.548230</td>\n",
       "      <td>Week</td>\n",
       "      <td>s_apps_score</td>\n",
       "      <td>1.1.0</td>\n",
       "      <td>FPD10</td>\n",
       "    </tr>\n",
       "    <tr>\n",
       "      <th>1</th>\n",
       "      <td>2023-06-01</td>\n",
       "      <td>2023-06-30</td>\n",
       "      <td>0.384648</td>\n",
       "      <td>Month</td>\n",
       "      <td>s_apps_score</td>\n",
       "      <td>1.1.0</td>\n",
       "      <td>FPD10</td>\n",
       "    </tr>\n",
       "    <tr>\n",
       "      <th>2</th>\n",
       "      <td>2023-06-05</td>\n",
       "      <td>2023-06-11</td>\n",
       "      <td>0.500000</td>\n",
       "      <td>Week</td>\n",
       "      <td>s_apps_score</td>\n",
       "      <td>1.1.0</td>\n",
       "      <td>FPD10</td>\n",
       "    </tr>\n",
       "    <tr>\n",
       "      <th>3</th>\n",
       "      <td>2023-06-12</td>\n",
       "      <td>2023-06-18</td>\n",
       "      <td>0.555195</td>\n",
       "      <td>Week</td>\n",
       "      <td>s_apps_score</td>\n",
       "      <td>1.1.0</td>\n",
       "      <td>FPD10</td>\n",
       "    </tr>\n",
       "    <tr>\n",
       "      <th>4</th>\n",
       "      <td>2023-06-19</td>\n",
       "      <td>2023-06-25</td>\n",
       "      <td>0.004831</td>\n",
       "      <td>Week</td>\n",
       "      <td>s_apps_score</td>\n",
       "      <td>1.1.0</td>\n",
       "      <td>FPD10</td>\n",
       "    </tr>\n",
       "  </tbody>\n",
       "</table>\n",
       "</div>"
      ],
      "text/plain": [
       "  start_date   end_date  s_apps_score_FPD10_gini period    Model_Name version  \\\n",
       "0 2023-05-29 2023-06-04                 0.548230   Week  s_apps_score   1.1.0   \n",
       "1 2023-06-01 2023-06-30                 0.384648  Month  s_apps_score   1.1.0   \n",
       "2 2023-06-05 2023-06-11                 0.500000   Week  s_apps_score   1.1.0   \n",
       "3 2023-06-12 2023-06-18                 0.555195   Week  s_apps_score   1.1.0   \n",
       "4 2023-06-19 2023-06-25                 0.004831   Week  s_apps_score   1.1.0   \n",
       "\n",
       "  bad_rate  \n",
       "0    FPD10  \n",
       "1    FPD10  \n",
       "2    FPD10  \n",
       "3    FPD10  \n",
       "4    FPD10  "
      ]
     },
     "execution_count": 13,
     "metadata": {},
     "output_type": "execute_result"
    }
   ],
   "source": [
    "gini_results.head()"
   ]
  },
  {
   "cell_type": "markdown",
   "metadata": {},
   "source": [
    "# App Score FPD30"
   ]
  },
  {
   "cell_type": "code",
   "execution_count": 14,
   "metadata": {},
   "outputs": [
    {
     "name": "stdout",
     "output_type": "stream",
     "text": [
      "Job ID 4ae9a45a-3821-4b5e-af33-90d194deaac4 successfully executed: 100%|\u001b[32m██████████\u001b[0m|"
     ]
    },
    {
     "name": "stderr",
     "output_type": "stream",
     "text": [
      "d:\\Anaconda3\\envs\\inc_env\\lib\\site-packages\\google\\cloud\\bigquery\\table.py:1820: UserWarning: BigQuery Storage module not found, fetch data with the REST endpoint instead.\n",
      "  warnings.warn(\n"
     ]
    },
    {
     "name": "stdout",
     "output_type": "stream",
     "text": [
      "\n",
      "Downloading: 100%|\u001b[32m██████████\u001b[0m|\n"
     ]
    }
   ],
   "source": [
    "sq = \"\"\"\n",
    "with appscore as \n",
    "(SELECT \n",
    "    ln_disb_dtime disbursementdate,\n",
    "\tdigitalLoanAccountId,\n",
    "    s_apps_score,\n",
    "    ln_fpd30_flag,\n",
    "\tln_mature_fpd30_flag,\t\n",
    "\tFROM \n",
    "    prj-prod-dataplatform.risk_mart.sil_risk_ds_master_20230101_20250206\n",
    "  WHERE \n",
    "     -- ln_disb_dtime >= '2023-07-01'\n",
    "    ln_appln_submit_datetime >= '2023-06-01'\n",
    "  -- AND\n",
    "  --   format_date('%Y-%m', ln_disb_dtime) = '2024-09'\n",
    "  AND\n",
    "    ln_fpd30_flag is not null\n",
    "  AND\n",
    "    s_apps_score is not null\n",
    "  AND\n",
    "    ln_mature_fpd30_flag = 1\n",
    ")\n",
    "select * from appscore;\n",
    "\"\"\"\n",
    "\n",
    "dfappscorefpd30 = client.query(sq).to_dataframe(progress_bar_type = 'tqdm')"
   ]
  },
  {
   "cell_type": "code",
   "execution_count": 15,
   "metadata": {},
   "outputs": [
    {
     "data": {
      "application/vnd.microsoft.datawrangler.viewer.v0+json": {
       "columns": [
        {
         "name": "index",
         "rawType": "int64",
         "type": "integer"
        },
        {
         "name": "disbursementdate",
         "rawType": "datetime64[us]",
         "type": "unknown"
        },
        {
         "name": "digitalLoanAccountId",
         "rawType": "object",
         "type": "string"
        },
        {
         "name": "s_apps_score",
         "rawType": "float64",
         "type": "float"
        },
        {
         "name": "ln_fpd30_flag",
         "rawType": "Int64",
         "type": "integer"
        },
        {
         "name": "ln_mature_fpd30_flag",
         "rawType": "Int64",
         "type": "integer"
        }
       ],
       "conversionMethod": "pd.DataFrame",
       "ref": "ccc5b50f-4f48-4972-89db-6bf011c8ddaa",
       "rows": [
        [
         "0",
         "2023-06-01 11:02:18",
         "7e7e7678-b36d-4b26-ad01-272565b54780",
         "0.4831152103350716",
         "0",
         "1"
        ],
        [
         "1",
         "2023-06-01 12:36:51",
         "855bccd7-f3d4-461f-9748-bb50b07e0327",
         "0.5416688494388897",
         "0",
         "1"
        ],
        [
         "2",
         "2023-06-01 12:56:23",
         "e585b35d-bc13-494d-970d-2272d976991b",
         "0.4110071001869977",
         "0",
         "1"
        ],
        [
         "3",
         "2023-06-01 15:52:56",
         "b11e0b23-1b34-4d8c-984d-1239a7b389c1",
         "0.3851157235369278",
         "0",
         "1"
        ],
        [
         "4",
         "2023-06-01 18:40:13",
         "ab22972c-29cf-4209-967c-3af7b19f382d",
         "0.35526729293765225",
         "0",
         "1"
        ]
       ],
       "shape": {
        "columns": 5,
        "rows": 5
       }
      },
      "text/html": [
       "<div>\n",
       "<style scoped>\n",
       "    .dataframe tbody tr th:only-of-type {\n",
       "        vertical-align: middle;\n",
       "    }\n",
       "\n",
       "    .dataframe tbody tr th {\n",
       "        vertical-align: top;\n",
       "    }\n",
       "\n",
       "    .dataframe thead th {\n",
       "        text-align: right;\n",
       "    }\n",
       "</style>\n",
       "<table border=\"1\" class=\"dataframe\">\n",
       "  <thead>\n",
       "    <tr style=\"text-align: right;\">\n",
       "      <th></th>\n",
       "      <th>disbursementdate</th>\n",
       "      <th>digitalLoanAccountId</th>\n",
       "      <th>s_apps_score</th>\n",
       "      <th>ln_fpd30_flag</th>\n",
       "      <th>ln_mature_fpd30_flag</th>\n",
       "    </tr>\n",
       "  </thead>\n",
       "  <tbody>\n",
       "    <tr>\n",
       "      <th>0</th>\n",
       "      <td>2023-06-01 11:02:18</td>\n",
       "      <td>7e7e7678-b36d-4b26-ad01-272565b54780</td>\n",
       "      <td>0.483115</td>\n",
       "      <td>0</td>\n",
       "      <td>1</td>\n",
       "    </tr>\n",
       "    <tr>\n",
       "      <th>1</th>\n",
       "      <td>2023-06-01 12:36:51</td>\n",
       "      <td>855bccd7-f3d4-461f-9748-bb50b07e0327</td>\n",
       "      <td>0.541669</td>\n",
       "      <td>0</td>\n",
       "      <td>1</td>\n",
       "    </tr>\n",
       "    <tr>\n",
       "      <th>2</th>\n",
       "      <td>2023-06-01 12:56:23</td>\n",
       "      <td>e585b35d-bc13-494d-970d-2272d976991b</td>\n",
       "      <td>0.411007</td>\n",
       "      <td>0</td>\n",
       "      <td>1</td>\n",
       "    </tr>\n",
       "    <tr>\n",
       "      <th>3</th>\n",
       "      <td>2023-06-01 15:52:56</td>\n",
       "      <td>b11e0b23-1b34-4d8c-984d-1239a7b389c1</td>\n",
       "      <td>0.385116</td>\n",
       "      <td>0</td>\n",
       "      <td>1</td>\n",
       "    </tr>\n",
       "    <tr>\n",
       "      <th>4</th>\n",
       "      <td>2023-06-01 18:40:13</td>\n",
       "      <td>ab22972c-29cf-4209-967c-3af7b19f382d</td>\n",
       "      <td>0.355267</td>\n",
       "      <td>0</td>\n",
       "      <td>1</td>\n",
       "    </tr>\n",
       "  </tbody>\n",
       "</table>\n",
       "</div>"
      ],
      "text/plain": [
       "     disbursementdate                  digitalLoanAccountId  s_apps_score  \\\n",
       "0 2023-06-01 11:02:18  7e7e7678-b36d-4b26-ad01-272565b54780      0.483115   \n",
       "1 2023-06-01 12:36:51  855bccd7-f3d4-461f-9748-bb50b07e0327      0.541669   \n",
       "2 2023-06-01 12:56:23  e585b35d-bc13-494d-970d-2272d976991b      0.411007   \n",
       "3 2023-06-01 15:52:56  b11e0b23-1b34-4d8c-984d-1239a7b389c1      0.385116   \n",
       "4 2023-06-01 18:40:13  ab22972c-29cf-4209-967c-3af7b19f382d      0.355267   \n",
       "\n",
       "   ln_fpd30_flag  ln_mature_fpd30_flag  \n",
       "0              0                     1  \n",
       "1              0                     1  \n",
       "2              0                     1  \n",
       "3              0                     1  \n",
       "4              0                     1  "
      ]
     },
     "execution_count": 15,
     "metadata": {},
     "output_type": "execute_result"
    }
   ],
   "source": [
    "dfappscorefpd30.head()"
   ]
  },
  {
   "cell_type": "code",
   "execution_count": 16,
   "metadata": {},
   "outputs": [
    {
     "name": "stdout",
     "output_type": "stream",
     "text": [
      "The shape of dataframe after copy is:\t(101, 7)\n"
     ]
    },
    {
     "data": {
      "text/plain": [
       "array(['start_date', 'end_date', 's_apps_score_FPD30_gini', 'period',\n",
       "       'Model_Name', 'version', 'bad_rate'], dtype=object)"
      ]
     },
     "execution_count": 16,
     "metadata": {},
     "output_type": "execute_result"
    }
   ],
   "source": [
    "gini_results = calculate_periodic_gini(dfappscorefpd30, 's_apps_score', 'ln_fpd30_flag', 'FPD30')\n",
    "# gini_results['bad_rate'] = 'FPD30'\n",
    "appscoreFPD30 = gini_results.copy()\n",
    "print(f\"The shape of dataframe after copy is:\\t{appscoreFPD30.shape}\")\n",
    "appscoreFPD30.columns.values"
   ]
  },
  {
   "cell_type": "code",
   "execution_count": 17,
   "metadata": {},
   "outputs": [
    {
     "data": {
      "application/vnd.microsoft.datawrangler.viewer.v0+json": {
       "columns": [
        {
         "name": "index",
         "rawType": "int64",
         "type": "integer"
        },
        {
         "name": "start_date",
         "rawType": "datetime64[ns]",
         "type": "datetime"
        },
        {
         "name": "end_date",
         "rawType": "datetime64[ns]",
         "type": "datetime"
        },
        {
         "name": "s_apps_score_FPD30_gini",
         "rawType": "float64",
         "type": "float"
        },
        {
         "name": "period",
         "rawType": "object",
         "type": "string"
        },
        {
         "name": "Model_Name",
         "rawType": "object",
         "type": "string"
        },
        {
         "name": "version",
         "rawType": "object",
         "type": "string"
        },
        {
         "name": "bad_rate",
         "rawType": "object",
         "type": "string"
        }
       ],
       "conversionMethod": "pd.DataFrame",
       "ref": "9999ad0d-20c6-4e76-bebc-915bb2cb2979",
       "rows": [
        [
         "66",
         "2024-06-03 00:00:00",
         "2024-06-09 00:00:00",
         "0.45133634267528344",
         "Week",
         "s_apps_score",
         "1.1.0",
         "FPD30"
        ],
        [
         "72",
         "2024-07-08 00:00:00",
         "2024-07-14 00:00:00",
         "0.31858566396138666",
         "Week",
         "s_apps_score",
         "1.1.0",
         "FPD30"
        ],
        [
         "37",
         "2023-12-25 00:00:00",
         "2023-12-31 00:00:00",
         "0.4174347941665584",
         "Week",
         "s_apps_score",
         "1.1.0",
         "FPD30"
        ],
        [
         "50",
         "2024-03-04 00:00:00",
         "2024-03-10 00:00:00",
         "0.4350980089519987",
         "Week",
         "s_apps_score",
         "1.1.0",
         "FPD30"
        ],
        [
         "98",
         "2024-12-02 00:00:00",
         "2024-12-08 00:00:00",
         "0.3291444371097427",
         "Week",
         "s_apps_score",
         "1.1.0",
         "FPD30"
        ]
       ],
       "shape": {
        "columns": 7,
        "rows": 5
       }
      },
      "text/html": [
       "<div>\n",
       "<style scoped>\n",
       "    .dataframe tbody tr th:only-of-type {\n",
       "        vertical-align: middle;\n",
       "    }\n",
       "\n",
       "    .dataframe tbody tr th {\n",
       "        vertical-align: top;\n",
       "    }\n",
       "\n",
       "    .dataframe thead th {\n",
       "        text-align: right;\n",
       "    }\n",
       "</style>\n",
       "<table border=\"1\" class=\"dataframe\">\n",
       "  <thead>\n",
       "    <tr style=\"text-align: right;\">\n",
       "      <th></th>\n",
       "      <th>start_date</th>\n",
       "      <th>end_date</th>\n",
       "      <th>s_apps_score_FPD30_gini</th>\n",
       "      <th>period</th>\n",
       "      <th>Model_Name</th>\n",
       "      <th>version</th>\n",
       "      <th>bad_rate</th>\n",
       "    </tr>\n",
       "  </thead>\n",
       "  <tbody>\n",
       "    <tr>\n",
       "      <th>66</th>\n",
       "      <td>2024-06-03</td>\n",
       "      <td>2024-06-09</td>\n",
       "      <td>0.451336</td>\n",
       "      <td>Week</td>\n",
       "      <td>s_apps_score</td>\n",
       "      <td>1.1.0</td>\n",
       "      <td>FPD30</td>\n",
       "    </tr>\n",
       "    <tr>\n",
       "      <th>72</th>\n",
       "      <td>2024-07-08</td>\n",
       "      <td>2024-07-14</td>\n",
       "      <td>0.318586</td>\n",
       "      <td>Week</td>\n",
       "      <td>s_apps_score</td>\n",
       "      <td>1.1.0</td>\n",
       "      <td>FPD30</td>\n",
       "    </tr>\n",
       "    <tr>\n",
       "      <th>37</th>\n",
       "      <td>2023-12-25</td>\n",
       "      <td>2023-12-31</td>\n",
       "      <td>0.417435</td>\n",
       "      <td>Week</td>\n",
       "      <td>s_apps_score</td>\n",
       "      <td>1.1.0</td>\n",
       "      <td>FPD30</td>\n",
       "    </tr>\n",
       "    <tr>\n",
       "      <th>50</th>\n",
       "      <td>2024-03-04</td>\n",
       "      <td>2024-03-10</td>\n",
       "      <td>0.435098</td>\n",
       "      <td>Week</td>\n",
       "      <td>s_apps_score</td>\n",
       "      <td>1.1.0</td>\n",
       "      <td>FPD30</td>\n",
       "    </tr>\n",
       "    <tr>\n",
       "      <th>98</th>\n",
       "      <td>2024-12-02</td>\n",
       "      <td>2024-12-08</td>\n",
       "      <td>0.329144</td>\n",
       "      <td>Week</td>\n",
       "      <td>s_apps_score</td>\n",
       "      <td>1.1.0</td>\n",
       "      <td>FPD30</td>\n",
       "    </tr>\n",
       "  </tbody>\n",
       "</table>\n",
       "</div>"
      ],
      "text/plain": [
       "   start_date   end_date  s_apps_score_FPD30_gini period    Model_Name  \\\n",
       "66 2024-06-03 2024-06-09                 0.451336   Week  s_apps_score   \n",
       "72 2024-07-08 2024-07-14                 0.318586   Week  s_apps_score   \n",
       "37 2023-12-25 2023-12-31                 0.417435   Week  s_apps_score   \n",
       "50 2024-03-04 2024-03-10                 0.435098   Week  s_apps_score   \n",
       "98 2024-12-02 2024-12-08                 0.329144   Week  s_apps_score   \n",
       "\n",
       "   version bad_rate  \n",
       "66   1.1.0    FPD30  \n",
       "72   1.1.0    FPD30  \n",
       "37   1.1.0    FPD30  \n",
       "50   1.1.0    FPD30  \n",
       "98   1.1.0    FPD30  "
      ]
     },
     "execution_count": 17,
     "metadata": {},
     "output_type": "execute_result"
    }
   ],
   "source": [
    "gini_results.sample(5)"
   ]
  },
  {
   "cell_type": "markdown",
   "metadata": {},
   "source": [
    "# App Score FSPD30"
   ]
  },
  {
   "cell_type": "code",
   "execution_count": 18,
   "metadata": {},
   "outputs": [
    {
     "name": "stdout",
     "output_type": "stream",
     "text": [
      "Job ID d945cba3-bfaa-450d-bce7-5d851afb2dfc successfully executed: 100%|\u001b[32m██████████\u001b[0m|"
     ]
    },
    {
     "name": "stderr",
     "output_type": "stream",
     "text": [
      "d:\\Anaconda3\\envs\\inc_env\\lib\\site-packages\\google\\cloud\\bigquery\\table.py:1820: UserWarning: BigQuery Storage module not found, fetch data with the REST endpoint instead.\n",
      "  warnings.warn(\n"
     ]
    },
    {
     "name": "stdout",
     "output_type": "stream",
     "text": [
      "\n",
      "Downloading: 100%|\u001b[32m██████████\u001b[0m|\n"
     ]
    }
   ],
   "source": [
    "sq = \"\"\"with appscore as \n",
    "(SELECT \n",
    "    ln_disb_dtime disbursementdate,\n",
    "\tdigitalLoanAccountId,\n",
    "    s_apps_score,\n",
    "    ln_fspd30_flag,\n",
    "\tln_mature_fspd30_flag,\t\n",
    "\tFROM \n",
    "    prj-prod-dataplatform.risk_mart.sil_risk_ds_master_20230101_20250206\n",
    "  WHERE \n",
    "     -- ln_disb_dtime >= '2023-07-01'\n",
    "    ln_appln_submit_datetime >= '2023-06-01'\n",
    "  -- AND\n",
    "  --   format_date('%Y-%m', ln_disb_dtime) = '2024-09'\n",
    "  AND\n",
    "    ln_fspd30_flag is not null\n",
    "  AND\n",
    "    s_apps_score is not null\n",
    "  AND\n",
    "    ln_mature_fspd30_flag = 1\n",
    ")\n",
    "select * from appscore;\n",
    "\"\"\"\n",
    "\n",
    "dfappscorefspd30 = client.query(sq).to_dataframe(progress_bar_type = 'tqdm')"
   ]
  },
  {
   "cell_type": "code",
   "execution_count": 19,
   "metadata": {},
   "outputs": [
    {
     "name": "stdout",
     "output_type": "stream",
     "text": [
      "The shape of dataframe after copy is:\t(96, 7)\n"
     ]
    },
    {
     "data": {
      "text/plain": [
       "array(['start_date', 'end_date', 's_apps_score_FSPD30_gini', 'period',\n",
       "       'Model_Name', 'version', 'bad_rate'], dtype=object)"
      ]
     },
     "execution_count": 19,
     "metadata": {},
     "output_type": "execute_result"
    }
   ],
   "source": [
    "gini_results = calculate_periodic_gini(dfappscorefspd30, 's_apps_score', 'ln_fspd30_flag', 'FSPD30')\n",
    "# gini_results['bad_rate'] = 'FSPD30'\n",
    "appscoreFSPD30 = gini_results.copy()\n",
    "print(f\"The shape of dataframe after copy is:\\t{appscoreFSPD30.shape}\")\n",
    "appscoreFSPD30.columns.values"
   ]
  },
  {
   "cell_type": "code",
   "execution_count": 20,
   "metadata": {},
   "outputs": [
    {
     "data": {
      "application/vnd.microsoft.datawrangler.viewer.v0+json": {
       "columns": [
        {
         "name": "index",
         "rawType": "int64",
         "type": "integer"
        },
        {
         "name": "start_date",
         "rawType": "datetime64[ns]",
         "type": "datetime"
        },
        {
         "name": "end_date",
         "rawType": "datetime64[ns]",
         "type": "datetime"
        },
        {
         "name": "s_apps_score_FSPD30_gini",
         "rawType": "float64",
         "type": "float"
        },
        {
         "name": "period",
         "rawType": "object",
         "type": "string"
        },
        {
         "name": "Model_Name",
         "rawType": "object",
         "type": "string"
        },
        {
         "name": "version",
         "rawType": "object",
         "type": "string"
        },
        {
         "name": "bad_rate",
         "rawType": "object",
         "type": "string"
        }
       ],
       "conversionMethod": "pd.DataFrame",
       "ref": "7183e4b5-025f-4518-bb93-a64a50e49f27",
       "rows": [
        [
         "91",
         "2024-10-28 00:00:00",
         "2024-11-03 00:00:00",
         "0.2856611987046771",
         "Week",
         "s_apps_score",
         "1.1.0",
         "FSPD30"
        ],
        [
         "92",
         "2024-11-01 00:00:00",
         "2024-11-30 00:00:00",
         "0.3121365200022277",
         "Month",
         "s_apps_score",
         "1.1.0",
         "FSPD30"
        ],
        [
         "93",
         "2024-11-04 00:00:00",
         "2024-11-10 00:00:00",
         "0.29569770289959396",
         "Week",
         "s_apps_score",
         "1.1.0",
         "FSPD30"
        ],
        [
         "94",
         "2024-11-11 00:00:00",
         "2024-11-17 00:00:00",
         "0.3189560705973622",
         "Week",
         "s_apps_score",
         "1.1.0",
         "FSPD30"
        ],
        [
         "95",
         "2024-11-18 00:00:00",
         "2024-11-24 00:00:00",
         "0.3170616561231234",
         "Week",
         "s_apps_score",
         "1.1.0",
         "FSPD30"
        ]
       ],
       "shape": {
        "columns": 7,
        "rows": 5
       }
      },
      "text/html": [
       "<div>\n",
       "<style scoped>\n",
       "    .dataframe tbody tr th:only-of-type {\n",
       "        vertical-align: middle;\n",
       "    }\n",
       "\n",
       "    .dataframe tbody tr th {\n",
       "        vertical-align: top;\n",
       "    }\n",
       "\n",
       "    .dataframe thead th {\n",
       "        text-align: right;\n",
       "    }\n",
       "</style>\n",
       "<table border=\"1\" class=\"dataframe\">\n",
       "  <thead>\n",
       "    <tr style=\"text-align: right;\">\n",
       "      <th></th>\n",
       "      <th>start_date</th>\n",
       "      <th>end_date</th>\n",
       "      <th>s_apps_score_FSPD30_gini</th>\n",
       "      <th>period</th>\n",
       "      <th>Model_Name</th>\n",
       "      <th>version</th>\n",
       "      <th>bad_rate</th>\n",
       "    </tr>\n",
       "  </thead>\n",
       "  <tbody>\n",
       "    <tr>\n",
       "      <th>91</th>\n",
       "      <td>2024-10-28</td>\n",
       "      <td>2024-11-03</td>\n",
       "      <td>0.285661</td>\n",
       "      <td>Week</td>\n",
       "      <td>s_apps_score</td>\n",
       "      <td>1.1.0</td>\n",
       "      <td>FSPD30</td>\n",
       "    </tr>\n",
       "    <tr>\n",
       "      <th>92</th>\n",
       "      <td>2024-11-01</td>\n",
       "      <td>2024-11-30</td>\n",
       "      <td>0.312137</td>\n",
       "      <td>Month</td>\n",
       "      <td>s_apps_score</td>\n",
       "      <td>1.1.0</td>\n",
       "      <td>FSPD30</td>\n",
       "    </tr>\n",
       "    <tr>\n",
       "      <th>93</th>\n",
       "      <td>2024-11-04</td>\n",
       "      <td>2024-11-10</td>\n",
       "      <td>0.295698</td>\n",
       "      <td>Week</td>\n",
       "      <td>s_apps_score</td>\n",
       "      <td>1.1.0</td>\n",
       "      <td>FSPD30</td>\n",
       "    </tr>\n",
       "    <tr>\n",
       "      <th>94</th>\n",
       "      <td>2024-11-11</td>\n",
       "      <td>2024-11-17</td>\n",
       "      <td>0.318956</td>\n",
       "      <td>Week</td>\n",
       "      <td>s_apps_score</td>\n",
       "      <td>1.1.0</td>\n",
       "      <td>FSPD30</td>\n",
       "    </tr>\n",
       "    <tr>\n",
       "      <th>95</th>\n",
       "      <td>2024-11-18</td>\n",
       "      <td>2024-11-24</td>\n",
       "      <td>0.317062</td>\n",
       "      <td>Week</td>\n",
       "      <td>s_apps_score</td>\n",
       "      <td>1.1.0</td>\n",
       "      <td>FSPD30</td>\n",
       "    </tr>\n",
       "  </tbody>\n",
       "</table>\n",
       "</div>"
      ],
      "text/plain": [
       "   start_date   end_date  s_apps_score_FSPD30_gini period    Model_Name  \\\n",
       "91 2024-10-28 2024-11-03                  0.285661   Week  s_apps_score   \n",
       "92 2024-11-01 2024-11-30                  0.312137  Month  s_apps_score   \n",
       "93 2024-11-04 2024-11-10                  0.295698   Week  s_apps_score   \n",
       "94 2024-11-11 2024-11-17                  0.318956   Week  s_apps_score   \n",
       "95 2024-11-18 2024-11-24                  0.317062   Week  s_apps_score   \n",
       "\n",
       "   version bad_rate  \n",
       "91   1.1.0   FSPD30  \n",
       "92   1.1.0   FSPD30  \n",
       "93   1.1.0   FSPD30  \n",
       "94   1.1.0   FSPD30  \n",
       "95   1.1.0   FSPD30  "
      ]
     },
     "execution_count": 20,
     "metadata": {},
     "output_type": "execute_result"
    }
   ],
   "source": [
    "gini_results.tail()"
   ]
  },
  {
   "cell_type": "markdown",
   "metadata": {},
   "source": [
    "# App Score FSTPD30"
   ]
  },
  {
   "cell_type": "code",
   "execution_count": 21,
   "metadata": {},
   "outputs": [
    {
     "name": "stdout",
     "output_type": "stream",
     "text": [
      "Job ID 4b543b4f-6753-40cb-96e0-598450aff9f6 successfully executed: 100%|\u001b[32m██████████\u001b[0m|"
     ]
    },
    {
     "name": "stderr",
     "output_type": "stream",
     "text": [
      "d:\\Anaconda3\\envs\\inc_env\\lib\\site-packages\\google\\cloud\\bigquery\\table.py:1820: UserWarning: BigQuery Storage module not found, fetch data with the REST endpoint instead.\n",
      "  warnings.warn(\n"
     ]
    },
    {
     "name": "stdout",
     "output_type": "stream",
     "text": [
      "\n",
      "Downloading: 100%|\u001b[32m██████████\u001b[0m|\n"
     ]
    }
   ],
   "source": [
    "sq = \"\"\"with appscore as \n",
    "(SELECT \n",
    "    ln_disb_dtime disbursementdate,\n",
    "\tdigitalLoanAccountId,\n",
    "    s_apps_score,\n",
    "    ln_fstpd30_flag,\n",
    "\tln_mature_fstpd30_flag,\t\n",
    "\tFROM \n",
    "    prj-prod-dataplatform.risk_mart.sil_risk_ds_master_20230101_20250206\n",
    "  WHERE \n",
    "     -- ln_disb_dtime >= '2023-07-01'\n",
    "    ln_appln_submit_datetime >= '2023-06-01'\n",
    "  -- AND\n",
    "  --   format_date('%Y-%m', ln_disb_dtime) = '2024-09'\n",
    "  AND\n",
    "    ln_fstpd30_flag is not null\n",
    "  AND\n",
    "    s_apps_score is not null\n",
    "  AND\n",
    "    ln_mature_fstpd30_flag = 1\n",
    ")\n",
    "select * from appscore;\n",
    "\"\"\"\n",
    "\n",
    "dfappscorefstpd30 = client.query(sq).to_dataframe(progress_bar_type = 'tqdm')"
   ]
  },
  {
   "cell_type": "code",
   "execution_count": 22,
   "metadata": {},
   "outputs": [
    {
     "name": "stdout",
     "output_type": "stream",
     "text": [
      "The shape of dataframe after copy is:\t(90, 7)\n"
     ]
    },
    {
     "data": {
      "text/plain": [
       "array(['start_date', 'end_date', 's_apps_score_FSTPD30_gini', 'period',\n",
       "       'Model_Name', 'version', 'bad_rate'], dtype=object)"
      ]
     },
     "execution_count": 22,
     "metadata": {},
     "output_type": "execute_result"
    }
   ],
   "source": [
    "gini_results = calculate_periodic_gini(dfappscorefstpd30, 's_apps_score', 'ln_fstpd30_flag', 'FSTPD30')\n",
    "# gini_results['bad_rate'] = 'FSTPD30'\n",
    "appscoreFSTPD30 = gini_results.copy()\n",
    "print(f\"The shape of dataframe after copy is:\\t{appscoreFSTPD30.shape}\")\n",
    "appscoreFSTPD30.columns.values"
   ]
  },
  {
   "cell_type": "code",
   "execution_count": 23,
   "metadata": {},
   "outputs": [
    {
     "data": {
      "application/vnd.microsoft.datawrangler.viewer.v0+json": {
       "columns": [
        {
         "name": "index",
         "rawType": "int64",
         "type": "integer"
        },
        {
         "name": "start_date",
         "rawType": "datetime64[ns]",
         "type": "datetime"
        },
        {
         "name": "end_date",
         "rawType": "datetime64[ns]",
         "type": "datetime"
        },
        {
         "name": "s_apps_score_FSTPD30_gini",
         "rawType": "float64",
         "type": "float"
        },
        {
         "name": "period",
         "rawType": "object",
         "type": "string"
        },
        {
         "name": "Model_Name",
         "rawType": "object",
         "type": "string"
        },
        {
         "name": "version",
         "rawType": "object",
         "type": "string"
        },
        {
         "name": "bad_rate",
         "rawType": "object",
         "type": "string"
        }
       ],
       "conversionMethod": "pd.DataFrame",
       "ref": "430f399c-db0e-4503-b4c4-9cc1b899142e",
       "rows": [
        [
         "0",
         "2023-05-29 00:00:00",
         "2023-06-04 00:00:00",
         "0.46509803921568627",
         "Week",
         "s_apps_score",
         "1.1.0",
         "FSTPD30"
        ],
        [
         "1",
         "2023-06-01 00:00:00",
         "2023-06-30 00:00:00",
         "0.3374202879495103",
         "Month",
         "s_apps_score",
         "1.1.0",
         "FSTPD30"
        ],
        [
         "2",
         "2023-06-05 00:00:00",
         "2023-06-11 00:00:00",
         "0.41330049261083746",
         "Week",
         "s_apps_score",
         "1.1.0",
         "FSTPD30"
        ],
        [
         "3",
         "2023-06-12 00:00:00",
         "2023-06-18 00:00:00",
         "0.3956762192056311",
         "Week",
         "s_apps_score",
         "1.1.0",
         "FSTPD30"
        ],
        [
         "4",
         "2023-06-19 00:00:00",
         "2023-06-25 00:00:00",
         "0.31449745252431693",
         "Week",
         "s_apps_score",
         "1.1.0",
         "FSTPD30"
        ]
       ],
       "shape": {
        "columns": 7,
        "rows": 5
       }
      },
      "text/html": [
       "<div>\n",
       "<style scoped>\n",
       "    .dataframe tbody tr th:only-of-type {\n",
       "        vertical-align: middle;\n",
       "    }\n",
       "\n",
       "    .dataframe tbody tr th {\n",
       "        vertical-align: top;\n",
       "    }\n",
       "\n",
       "    .dataframe thead th {\n",
       "        text-align: right;\n",
       "    }\n",
       "</style>\n",
       "<table border=\"1\" class=\"dataframe\">\n",
       "  <thead>\n",
       "    <tr style=\"text-align: right;\">\n",
       "      <th></th>\n",
       "      <th>start_date</th>\n",
       "      <th>end_date</th>\n",
       "      <th>s_apps_score_FSTPD30_gini</th>\n",
       "      <th>period</th>\n",
       "      <th>Model_Name</th>\n",
       "      <th>version</th>\n",
       "      <th>bad_rate</th>\n",
       "    </tr>\n",
       "  </thead>\n",
       "  <tbody>\n",
       "    <tr>\n",
       "      <th>0</th>\n",
       "      <td>2023-05-29</td>\n",
       "      <td>2023-06-04</td>\n",
       "      <td>0.465098</td>\n",
       "      <td>Week</td>\n",
       "      <td>s_apps_score</td>\n",
       "      <td>1.1.0</td>\n",
       "      <td>FSTPD30</td>\n",
       "    </tr>\n",
       "    <tr>\n",
       "      <th>1</th>\n",
       "      <td>2023-06-01</td>\n",
       "      <td>2023-06-30</td>\n",
       "      <td>0.337420</td>\n",
       "      <td>Month</td>\n",
       "      <td>s_apps_score</td>\n",
       "      <td>1.1.0</td>\n",
       "      <td>FSTPD30</td>\n",
       "    </tr>\n",
       "    <tr>\n",
       "      <th>2</th>\n",
       "      <td>2023-06-05</td>\n",
       "      <td>2023-06-11</td>\n",
       "      <td>0.413300</td>\n",
       "      <td>Week</td>\n",
       "      <td>s_apps_score</td>\n",
       "      <td>1.1.0</td>\n",
       "      <td>FSTPD30</td>\n",
       "    </tr>\n",
       "    <tr>\n",
       "      <th>3</th>\n",
       "      <td>2023-06-12</td>\n",
       "      <td>2023-06-18</td>\n",
       "      <td>0.395676</td>\n",
       "      <td>Week</td>\n",
       "      <td>s_apps_score</td>\n",
       "      <td>1.1.0</td>\n",
       "      <td>FSTPD30</td>\n",
       "    </tr>\n",
       "    <tr>\n",
       "      <th>4</th>\n",
       "      <td>2023-06-19</td>\n",
       "      <td>2023-06-25</td>\n",
       "      <td>0.314497</td>\n",
       "      <td>Week</td>\n",
       "      <td>s_apps_score</td>\n",
       "      <td>1.1.0</td>\n",
       "      <td>FSTPD30</td>\n",
       "    </tr>\n",
       "  </tbody>\n",
       "</table>\n",
       "</div>"
      ],
      "text/plain": [
       "  start_date   end_date  s_apps_score_FSTPD30_gini period    Model_Name  \\\n",
       "0 2023-05-29 2023-06-04                   0.465098   Week  s_apps_score   \n",
       "1 2023-06-01 2023-06-30                   0.337420  Month  s_apps_score   \n",
       "2 2023-06-05 2023-06-11                   0.413300   Week  s_apps_score   \n",
       "3 2023-06-12 2023-06-18                   0.395676   Week  s_apps_score   \n",
       "4 2023-06-19 2023-06-25                   0.314497   Week  s_apps_score   \n",
       "\n",
       "  version bad_rate  \n",
       "0   1.1.0  FSTPD30  \n",
       "1   1.1.0  FSTPD30  \n",
       "2   1.1.0  FSTPD30  \n",
       "3   1.1.0  FSTPD30  \n",
       "4   1.1.0  FSTPD30  "
      ]
     },
     "execution_count": 23,
     "metadata": {},
     "output_type": "execute_result"
    }
   ],
   "source": [
    "appscoreFSTPD30.head()"
   ]
  },
  {
   "cell_type": "markdown",
   "metadata": {},
   "source": [
    "# Combining App Score"
   ]
  },
  {
   "cell_type": "code",
   "execution_count": 24,
   "metadata": {},
   "outputs": [
    {
     "data": {
      "text/plain": [
       "array(['start_date', 'end_date', 's_apps_score_FPD10_gini', 'period',\n",
       "       'Model_Name', 'version', 'bad_rate', 's_apps_score_FPD30_gini',\n",
       "       's_apps_score_FSPD30_gini', 's_apps_score_FSTPD30_gini'],\n",
       "      dtype=object)"
      ]
     },
     "execution_count": 24,
     "metadata": {},
     "output_type": "execute_result"
    }
   ],
   "source": [
    "import functools\n",
    "\n",
    "dataframes = [appscoreFPD10, appscoreFPD30, appscoreFSPD30, appscoreFSTPD30]\n",
    "common_columns = ['start_date', 'end_date', 'period', 'Model_Name','version', 'bad_rate']\n",
    "\n",
    "def merge_dataframes(df1, df2):\n",
    "    return pd.merge(df1, df2, on=common_columns, how='outer')\n",
    "\n",
    "final_df = functools.reduce(merge_dataframes, dataframes)\n",
    "\n",
    "final_df.columns.values"
   ]
  },
  {
   "cell_type": "code",
   "execution_count": 25,
   "metadata": {},
   "outputs": [
    {
     "data": {
      "text/plain": [
       "start_date                   datetime64[ns]\n",
       "end_date                     datetime64[ns]\n",
       "period                               object\n",
       "Model_Name                           object\n",
       "version                              object\n",
       "bad_rate                             object\n",
       "s_apps_score_FSTPD30_gini           float64\n",
       "s_apps_score_FSPD30_gini            float64\n",
       "s_apps_score_FPD30_gini             float64\n",
       "s_apps_score_FPD10_gini             float64\n",
       "dtype: object"
      ]
     },
     "execution_count": 25,
     "metadata": {},
     "output_type": "execute_result"
    }
   ],
   "source": [
    "final_df = final_df[['start_date', 'end_date', 'period',   'Model_Name', 'version', 'bad_rate','s_apps_score_FSTPD30_gini','s_apps_score_FSPD30_gini',\n",
    "       's_apps_score_FPD30_gini', 's_apps_score_FPD10_gini']].copy()\n",
    "final_df.dtypes"
   ]
  },
  {
   "cell_type": "markdown",
   "metadata": {},
   "source": [
    "## Creating app score table "
   ]
  },
  {
   "cell_type": "code",
   "execution_count": 26,
   "metadata": {},
   "outputs": [
    {
     "data": {
      "text/plain": [
       "QueryJob<project=prj-prod-dataplatform, location=asia-southeast1, id=0e826f4d-a8d1-45be-98c5-96f24d077086>"
      ]
     },
     "execution_count": 26,
     "metadata": {},
     "output_type": "execute_result"
    }
   ],
   "source": [
    "sq = \"\"\"drop table if exists prj-prod-dataplatform.dap_ds_poweruser_playground.Model_gini_s_apps_score;\"\"\"\n",
    "client.query(sq)"
   ]
  },
  {
   "cell_type": "code",
   "execution_count": 27,
   "metadata": {},
   "outputs": [
    {
     "data": {
      "text/plain": [
       "LoadJob<project=prj-prod-dataplatform, location=asia-southeast1, id=1a5e2d32-7e8d-4b92-b526-36ce27191630>"
      ]
     },
     "execution_count": 27,
     "metadata": {},
     "output_type": "execute_result"
    }
   ],
   "source": [
    "import pandas as pd\n",
    "from google.cloud import bigquery\n",
    "\n",
    "# Create a BigQuery client\n",
    "client = bigquery.Client('prj-prod-dataplatform')\n",
    "\n",
    "# Define your table schema\n",
    "table_schema = [\n",
    "    bigquery.SchemaField('start_date', 'TIMESTAMP'),\n",
    "    bigquery.SchemaField('end_date', 'TIMESTAMP'),\n",
    "    bigquery.SchemaField('period', 'STRING'),\n",
    "    bigquery.SchemaField('Model_Name', 'STRING'),\n",
    "    bigquery.SchemaField('version', 'STRING'),\n",
    "    bigquery.SchemaField('Badrate', 'STRING'),\n",
    "    bigquery.SchemaField('s_apps_score_FSTPD30_gini', 'FLOAT'),\n",
    "    bigquery.SchemaField('s_apps_score_FSPD30_gini', 'FLOAT'),\n",
    "    bigquery.SchemaField('s_apps_score_FPD30_gini', 'FLOAT'),\n",
    "    bigquery.SchemaField('s_apps_score_fpd10_gini', 'FLOAT')\n",
    "]\n",
    "\n",
    "# Create your BigQuery table\n",
    "table_id = 'prj-prod-dataplatform.dap_ds_poweruser_playground.Model_gini_s_apps_score'\n",
    "table = bigquery.Table(table_id, schema=table_schema)\n",
    "table = client.create_table(table)\n",
    "\n",
    "# Load your DataFrame into BigQuery\n",
    "job_config = bigquery.LoadJobConfig(\n",
    "    write_disposition='WRITE_TRUNCATE'\n",
    ")\n",
    "\n",
    "load_job = client.load_table_from_dataframe(\n",
    "    final_df, table_id, job_config=job_config\n",
    ")\n",
    "\n",
    "load_job.result()"
   ]
  },
  {
   "cell_type": "markdown",
   "metadata": {},
   "source": [
    "# sb_demo_score"
   ]
  },
  {
   "cell_type": "markdown",
   "metadata": {},
   "source": [
    "## FPD10"
   ]
  },
  {
   "cell_type": "code",
   "execution_count": 28,
   "metadata": {},
   "outputs": [
    {
     "name": "stdout",
     "output_type": "stream",
     "text": [
      "Job ID 9d2b23ad-399f-4be3-9132-b8f04de49f3b successfully executed: 100%|\u001b[32m██████████\u001b[0m|"
     ]
    },
    {
     "name": "stderr",
     "output_type": "stream",
     "text": [
      "d:\\Anaconda3\\envs\\inc_env\\lib\\site-packages\\google\\cloud\\bigquery\\table.py:1820: UserWarning: BigQuery Storage module not found, fetch data with the REST endpoint instead.\n",
      "  warnings.warn(\n"
     ]
    },
    {
     "name": "stdout",
     "output_type": "stream",
     "text": [
      "\n",
      "Downloading: 100%|\u001b[32m██████████\u001b[0m|\n"
     ]
    }
   ],
   "source": [
    "sq = \"\"\"\n",
    "with sb_demo_score as \n",
    "(SELECT \n",
    "    ln_disb_dtime disbursementdate,\n",
    "\tdigitalLoanAccountId,\n",
    "    sb_demo_score,\n",
    "    ln_fpd10_flag,\n",
    "\tln_mature_fpd10_flag,\t\n",
    "\tFROM \n",
    "    prj-prod-dataplatform.risk_mart.sil_risk_ds_master_20230101_20250206\n",
    "  WHERE \n",
    "     -- ln_disb_dtime >= '2023-07-01'\n",
    "    ln_appln_submit_datetime >= '2023-06-01'\n",
    "  -- AND\n",
    "  --   format_date('%Y-%m', ln_disb_dtime) = '2024-09'\n",
    "  AND\n",
    "    ln_fpd10_flag is not null\n",
    "  AND\n",
    "    sb_demo_score is not null\n",
    "  AND\n",
    "    ln_mature_fpd10_flag = 1\n",
    ")\n",
    "select * from sb_demo_score;\n",
    "\"\"\"\n",
    "\n",
    "df_sb_demo_scorefpd10 = client.query(sq).to_dataframe(progress_bar_type='tqdm')"
   ]
  },
  {
   "cell_type": "code",
   "execution_count": 29,
   "metadata": {},
   "outputs": [
    {
     "data": {
      "application/vnd.microsoft.datawrangler.viewer.v0+json": {
       "columns": [
        {
         "name": "index",
         "rawType": "int64",
         "type": "integer"
        },
        {
         "name": "disbursementdate",
         "rawType": "datetime64[us]",
         "type": "unknown"
        },
        {
         "name": "digitalLoanAccountId",
         "rawType": "object",
         "type": "string"
        },
        {
         "name": "sb_demo_score",
         "rawType": "float64",
         "type": "float"
        },
        {
         "name": "ln_fpd10_flag",
         "rawType": "Int64",
         "type": "integer"
        },
        {
         "name": "ln_mature_fpd10_flag",
         "rawType": "Int64",
         "type": "integer"
        }
       ],
       "conversionMethod": "pd.DataFrame",
       "ref": "3e7ea28f-4c55-44de-86a2-5e26e9962c65",
       "rows": [
        [
         "0",
         "2023-06-01 10:40:18",
         "ac002041-b0be-446e-b173-65effe340651",
         "0.17728293287635946",
         "0",
         "1"
        ],
        [
         "1",
         "2023-06-01 10:42:34",
         "f91cba31-7630-477a-8cdd-d010b63c4900",
         "0.09503327398288322",
         "0",
         "1"
        ],
        [
         "2",
         "2023-06-01 12:17:20",
         "4fddb4fa-6e60-42b0-adec-295658bd1093",
         "0.15913254042477745",
         "0",
         "1"
        ],
        [
         "3",
         "2023-06-01 14:43:46",
         "4e78ebf3-256e-426c-8840-a7f9e1403a97",
         "0.15429464271719148",
         "0",
         "1"
        ],
        [
         "4",
         "2023-06-01 15:36:13",
         "a3dc185d-0118-4ebc-bf03-117fdd8f9c64",
         "0.1301984410560667",
         "0",
         "1"
        ]
       ],
       "shape": {
        "columns": 5,
        "rows": 5
       }
      },
      "text/html": [
       "<div>\n",
       "<style scoped>\n",
       "    .dataframe tbody tr th:only-of-type {\n",
       "        vertical-align: middle;\n",
       "    }\n",
       "\n",
       "    .dataframe tbody tr th {\n",
       "        vertical-align: top;\n",
       "    }\n",
       "\n",
       "    .dataframe thead th {\n",
       "        text-align: right;\n",
       "    }\n",
       "</style>\n",
       "<table border=\"1\" class=\"dataframe\">\n",
       "  <thead>\n",
       "    <tr style=\"text-align: right;\">\n",
       "      <th></th>\n",
       "      <th>disbursementdate</th>\n",
       "      <th>digitalLoanAccountId</th>\n",
       "      <th>sb_demo_score</th>\n",
       "      <th>ln_fpd10_flag</th>\n",
       "      <th>ln_mature_fpd10_flag</th>\n",
       "    </tr>\n",
       "  </thead>\n",
       "  <tbody>\n",
       "    <tr>\n",
       "      <th>0</th>\n",
       "      <td>2023-06-01 10:40:18</td>\n",
       "      <td>ac002041-b0be-446e-b173-65effe340651</td>\n",
       "      <td>0.177283</td>\n",
       "      <td>0</td>\n",
       "      <td>1</td>\n",
       "    </tr>\n",
       "    <tr>\n",
       "      <th>1</th>\n",
       "      <td>2023-06-01 10:42:34</td>\n",
       "      <td>f91cba31-7630-477a-8cdd-d010b63c4900</td>\n",
       "      <td>0.095033</td>\n",
       "      <td>0</td>\n",
       "      <td>1</td>\n",
       "    </tr>\n",
       "    <tr>\n",
       "      <th>2</th>\n",
       "      <td>2023-06-01 12:17:20</td>\n",
       "      <td>4fddb4fa-6e60-42b0-adec-295658bd1093</td>\n",
       "      <td>0.159133</td>\n",
       "      <td>0</td>\n",
       "      <td>1</td>\n",
       "    </tr>\n",
       "    <tr>\n",
       "      <th>3</th>\n",
       "      <td>2023-06-01 14:43:46</td>\n",
       "      <td>4e78ebf3-256e-426c-8840-a7f9e1403a97</td>\n",
       "      <td>0.154295</td>\n",
       "      <td>0</td>\n",
       "      <td>1</td>\n",
       "    </tr>\n",
       "    <tr>\n",
       "      <th>4</th>\n",
       "      <td>2023-06-01 15:36:13</td>\n",
       "      <td>a3dc185d-0118-4ebc-bf03-117fdd8f9c64</td>\n",
       "      <td>0.130198</td>\n",
       "      <td>0</td>\n",
       "      <td>1</td>\n",
       "    </tr>\n",
       "  </tbody>\n",
       "</table>\n",
       "</div>"
      ],
      "text/plain": [
       "     disbursementdate                  digitalLoanAccountId  sb_demo_score  \\\n",
       "0 2023-06-01 10:40:18  ac002041-b0be-446e-b173-65effe340651       0.177283   \n",
       "1 2023-06-01 10:42:34  f91cba31-7630-477a-8cdd-d010b63c4900       0.095033   \n",
       "2 2023-06-01 12:17:20  4fddb4fa-6e60-42b0-adec-295658bd1093       0.159133   \n",
       "3 2023-06-01 14:43:46  4e78ebf3-256e-426c-8840-a7f9e1403a97       0.154295   \n",
       "4 2023-06-01 15:36:13  a3dc185d-0118-4ebc-bf03-117fdd8f9c64       0.130198   \n",
       "\n",
       "   ln_fpd10_flag  ln_mature_fpd10_flag  \n",
       "0              0                     1  \n",
       "1              0                     1  \n",
       "2              0                     1  \n",
       "3              0                     1  \n",
       "4              0                     1  "
      ]
     },
     "execution_count": 29,
     "metadata": {},
     "output_type": "execute_result"
    }
   ],
   "source": [
    "df_sb_demo_scorefpd10.head()"
   ]
  },
  {
   "cell_type": "code",
   "execution_count": 30,
   "metadata": {},
   "outputs": [
    {
     "name": "stdout",
     "output_type": "stream",
     "text": [
      "The shape of dataframe after copy is:\t(105, 7)\n"
     ]
    },
    {
     "data": {
      "text/plain": [
       "array(['start_date', 'end_date', 'sb_demo_score_FPD10_gini', 'period',\n",
       "       'Model_Name', 'version', 'bad_rate'], dtype=object)"
      ]
     },
     "execution_count": 30,
     "metadata": {},
     "output_type": "execute_result"
    }
   ],
   "source": [
    "gini_results = calculate_periodic_gini(df_sb_demo_scorefpd10, 'sb_demo_score', 'ln_fpd10_flag', 'FPD10')\n",
    "sb_demo_scoreFPD10 = gini_results.copy()\n",
    "print(f\"The shape of dataframe after copy is:\\t{sb_demo_scoreFPD10.shape}\")\n",
    "sb_demo_scoreFPD10.columns.values"
   ]
  },
  {
   "cell_type": "code",
   "execution_count": 31,
   "metadata": {},
   "outputs": [
    {
     "data": {
      "application/vnd.microsoft.datawrangler.viewer.v0+json": {
       "columns": [
        {
         "name": "index",
         "rawType": "int64",
         "type": "integer"
        },
        {
         "name": "start_date",
         "rawType": "datetime64[ns]",
         "type": "datetime"
        },
        {
         "name": "end_date",
         "rawType": "datetime64[ns]",
         "type": "datetime"
        },
        {
         "name": "sb_demo_score_FPD10_gini",
         "rawType": "float64",
         "type": "float"
        },
        {
         "name": "period",
         "rawType": "object",
         "type": "string"
        },
        {
         "name": "Model_Name",
         "rawType": "object",
         "type": "string"
        },
        {
         "name": "version",
         "rawType": "object",
         "type": "string"
        },
        {
         "name": "bad_rate",
         "rawType": "object",
         "type": "string"
        }
       ],
       "conversionMethod": "pd.DataFrame",
       "ref": "ffd9920d-945a-43b2-94ee-e8d47437f8e0",
       "rows": [
        [
         "100",
         "2024-12-16 00:00:00",
         "2024-12-22 00:00:00",
         "0.24167789219752533",
         "Week",
         "sb_demo_score",
         "1.1.0",
         "FPD10"
        ],
        [
         "101",
         "2024-12-23 00:00:00",
         "2024-12-29 00:00:00",
         "0.23638745186718002",
         "Week",
         "sb_demo_score",
         "1.1.0",
         "FPD10"
        ],
        [
         "102",
         "2024-12-30 00:00:00",
         "2025-01-05 00:00:00",
         "0.2322203400464269",
         "Week",
         "sb_demo_score",
         "1.1.0",
         "FPD10"
        ],
        [
         "103",
         "2025-01-01 00:00:00",
         "2025-01-31 00:00:00",
         "0.23222283098566643",
         "Month",
         "sb_demo_score",
         "1.1.0",
         "FPD10"
        ],
        [
         "104",
         "2025-01-06 00:00:00",
         "2025-01-12 00:00:00",
         "0.2106412856919957",
         "Week",
         "sb_demo_score",
         "1.1.0",
         "FPD10"
        ]
       ],
       "shape": {
        "columns": 7,
        "rows": 5
       }
      },
      "text/html": [
       "<div>\n",
       "<style scoped>\n",
       "    .dataframe tbody tr th:only-of-type {\n",
       "        vertical-align: middle;\n",
       "    }\n",
       "\n",
       "    .dataframe tbody tr th {\n",
       "        vertical-align: top;\n",
       "    }\n",
       "\n",
       "    .dataframe thead th {\n",
       "        text-align: right;\n",
       "    }\n",
       "</style>\n",
       "<table border=\"1\" class=\"dataframe\">\n",
       "  <thead>\n",
       "    <tr style=\"text-align: right;\">\n",
       "      <th></th>\n",
       "      <th>start_date</th>\n",
       "      <th>end_date</th>\n",
       "      <th>sb_demo_score_FPD10_gini</th>\n",
       "      <th>period</th>\n",
       "      <th>Model_Name</th>\n",
       "      <th>version</th>\n",
       "      <th>bad_rate</th>\n",
       "    </tr>\n",
       "  </thead>\n",
       "  <tbody>\n",
       "    <tr>\n",
       "      <th>100</th>\n",
       "      <td>2024-12-16</td>\n",
       "      <td>2024-12-22</td>\n",
       "      <td>0.241678</td>\n",
       "      <td>Week</td>\n",
       "      <td>sb_demo_score</td>\n",
       "      <td>1.1.0</td>\n",
       "      <td>FPD10</td>\n",
       "    </tr>\n",
       "    <tr>\n",
       "      <th>101</th>\n",
       "      <td>2024-12-23</td>\n",
       "      <td>2024-12-29</td>\n",
       "      <td>0.236387</td>\n",
       "      <td>Week</td>\n",
       "      <td>sb_demo_score</td>\n",
       "      <td>1.1.0</td>\n",
       "      <td>FPD10</td>\n",
       "    </tr>\n",
       "    <tr>\n",
       "      <th>102</th>\n",
       "      <td>2024-12-30</td>\n",
       "      <td>2025-01-05</td>\n",
       "      <td>0.232220</td>\n",
       "      <td>Week</td>\n",
       "      <td>sb_demo_score</td>\n",
       "      <td>1.1.0</td>\n",
       "      <td>FPD10</td>\n",
       "    </tr>\n",
       "    <tr>\n",
       "      <th>103</th>\n",
       "      <td>2025-01-01</td>\n",
       "      <td>2025-01-31</td>\n",
       "      <td>0.232223</td>\n",
       "      <td>Month</td>\n",
       "      <td>sb_demo_score</td>\n",
       "      <td>1.1.0</td>\n",
       "      <td>FPD10</td>\n",
       "    </tr>\n",
       "    <tr>\n",
       "      <th>104</th>\n",
       "      <td>2025-01-06</td>\n",
       "      <td>2025-01-12</td>\n",
       "      <td>0.210641</td>\n",
       "      <td>Week</td>\n",
       "      <td>sb_demo_score</td>\n",
       "      <td>1.1.0</td>\n",
       "      <td>FPD10</td>\n",
       "    </tr>\n",
       "  </tbody>\n",
       "</table>\n",
       "</div>"
      ],
      "text/plain": [
       "    start_date   end_date  sb_demo_score_FPD10_gini period     Model_Name  \\\n",
       "100 2024-12-16 2024-12-22                  0.241678   Week  sb_demo_score   \n",
       "101 2024-12-23 2024-12-29                  0.236387   Week  sb_demo_score   \n",
       "102 2024-12-30 2025-01-05                  0.232220   Week  sb_demo_score   \n",
       "103 2025-01-01 2025-01-31                  0.232223  Month  sb_demo_score   \n",
       "104 2025-01-06 2025-01-12                  0.210641   Week  sb_demo_score   \n",
       "\n",
       "    version bad_rate  \n",
       "100   1.1.0    FPD10  \n",
       "101   1.1.0    FPD10  \n",
       "102   1.1.0    FPD10  \n",
       "103   1.1.0    FPD10  \n",
       "104   1.1.0    FPD10  "
      ]
     },
     "execution_count": 31,
     "metadata": {},
     "output_type": "execute_result"
    }
   ],
   "source": [
    "sb_demo_scoreFPD10.tail()"
   ]
  },
  {
   "cell_type": "markdown",
   "metadata": {},
   "source": [
    "## FPD30"
   ]
  },
  {
   "cell_type": "code",
   "execution_count": 32,
   "metadata": {},
   "outputs": [
    {
     "name": "stdout",
     "output_type": "stream",
     "text": [
      "Job ID 81999897-7964-432c-a8fa-2b5be9b7cfc6 successfully executed: 100%|\u001b[32m██████████\u001b[0m|"
     ]
    },
    {
     "name": "stderr",
     "output_type": "stream",
     "text": [
      "d:\\Anaconda3\\envs\\inc_env\\lib\\site-packages\\google\\cloud\\bigquery\\table.py:1820: UserWarning: BigQuery Storage module not found, fetch data with the REST endpoint instead.\n",
      "  warnings.warn(\n"
     ]
    },
    {
     "name": "stdout",
     "output_type": "stream",
     "text": [
      "\n",
      "Downloading: 100%|\u001b[32m██████████\u001b[0m|\n"
     ]
    }
   ],
   "source": [
    "sq = \"\"\"\n",
    "with sb_demo_score as \n",
    "(SELECT \n",
    "    ln_disb_dtime disbursementdate,\n",
    "\tdigitalLoanAccountId,\n",
    "    sb_demo_score,\n",
    "    ln_fpd30_flag,\n",
    "\tln_mature_fpd30_flag,\t\n",
    "\tFROM \n",
    "    prj-prod-dataplatform.risk_mart.sil_risk_ds_master_20230101_20250206\n",
    "  WHERE \n",
    "     -- ln_disb_dtime >= '2023-07-01'\n",
    "    ln_appln_submit_datetime >= '2023-06-01'\n",
    "  -- AND\n",
    "  --   format_date('%Y-%m', ln_disb_dtime) = '2024-09'\n",
    "  AND\n",
    "    ln_fpd30_flag is not null\n",
    "  AND\n",
    "    sb_demo_score is not null\n",
    "  AND\n",
    "    ln_mature_fpd30_flag = 1\n",
    ")\n",
    "select * from sb_demo_score;\n",
    "\"\"\"\n",
    "\n",
    "df_sb_demo_scorefpd30 = client.query(sq).to_dataframe(progress_bar_type='tqdm')"
   ]
  },
  {
   "cell_type": "code",
   "execution_count": 33,
   "metadata": {},
   "outputs": [
    {
     "name": "stdout",
     "output_type": "stream",
     "text": [
      "The shape of dataframe after copy is:\t(101, 7)\n"
     ]
    },
    {
     "data": {
      "text/plain": [
       "array(['start_date', 'end_date', 'sb_demo_score_FPD30_gini', 'period',\n",
       "       'Model_Name', 'version', 'bad_rate'], dtype=object)"
      ]
     },
     "execution_count": 33,
     "metadata": {},
     "output_type": "execute_result"
    }
   ],
   "source": [
    "gini_results = calculate_periodic_gini(df_sb_demo_scorefpd30, 'sb_demo_score', 'ln_fpd30_flag', 'FPD30')\n",
    "sb_demo_scoreFPD30 = gini_results.copy()\n",
    "print(f\"The shape of dataframe after copy is:\\t{sb_demo_scoreFPD30.shape}\")\n",
    "sb_demo_scoreFPD30.columns.values"
   ]
  },
  {
   "cell_type": "code",
   "execution_count": 34,
   "metadata": {},
   "outputs": [
    {
     "data": {
      "application/vnd.microsoft.datawrangler.viewer.v0+json": {
       "columns": [
        {
         "name": "index",
         "rawType": "int64",
         "type": "integer"
        },
        {
         "name": "start_date",
         "rawType": "datetime64[ns]",
         "type": "datetime"
        },
        {
         "name": "end_date",
         "rawType": "datetime64[ns]",
         "type": "datetime"
        },
        {
         "name": "sb_demo_score_FPD30_gini",
         "rawType": "float64",
         "type": "float"
        },
        {
         "name": "period",
         "rawType": "object",
         "type": "string"
        },
        {
         "name": "Model_Name",
         "rawType": "object",
         "type": "string"
        },
        {
         "name": "version",
         "rawType": "object",
         "type": "string"
        },
        {
         "name": "bad_rate",
         "rawType": "object",
         "type": "string"
        }
       ],
       "conversionMethod": "pd.DataFrame",
       "ref": "5b9d5580-2093-4f7f-bd3f-3006ee7e0ec4",
       "rows": [
        [
         "0",
         "2023-05-29 00:00:00",
         "2023-06-04 00:00:00",
         "0.33090909090909104",
         "Week",
         "sb_demo_score",
         "1.1.0",
         "FPD30"
        ],
        [
         "1",
         "2023-06-01 00:00:00",
         "2023-06-30 00:00:00",
         "0.22045152722443562",
         "Month",
         "sb_demo_score",
         "1.1.0",
         "FPD30"
        ],
        [
         "2",
         "2023-06-05 00:00:00",
         "2023-06-11 00:00:00",
         "0.15037037037037027",
         "Week",
         "sb_demo_score",
         "1.1.0",
         "FPD30"
        ],
        [
         "3",
         "2023-06-12 00:00:00",
         "2023-06-18 00:00:00",
         "0.47842056932966015",
         "Week",
         "sb_demo_score",
         "1.1.0",
         "FPD30"
        ],
        [
         "4",
         "2023-06-19 00:00:00",
         "2023-06-25 00:00:00",
         "-0.06425702811244982",
         "Week",
         "sb_demo_score",
         "1.1.0",
         "FPD30"
        ]
       ],
       "shape": {
        "columns": 7,
        "rows": 5
       }
      },
      "text/html": [
       "<div>\n",
       "<style scoped>\n",
       "    .dataframe tbody tr th:only-of-type {\n",
       "        vertical-align: middle;\n",
       "    }\n",
       "\n",
       "    .dataframe tbody tr th {\n",
       "        vertical-align: top;\n",
       "    }\n",
       "\n",
       "    .dataframe thead th {\n",
       "        text-align: right;\n",
       "    }\n",
       "</style>\n",
       "<table border=\"1\" class=\"dataframe\">\n",
       "  <thead>\n",
       "    <tr style=\"text-align: right;\">\n",
       "      <th></th>\n",
       "      <th>start_date</th>\n",
       "      <th>end_date</th>\n",
       "      <th>sb_demo_score_FPD30_gini</th>\n",
       "      <th>period</th>\n",
       "      <th>Model_Name</th>\n",
       "      <th>version</th>\n",
       "      <th>bad_rate</th>\n",
       "    </tr>\n",
       "  </thead>\n",
       "  <tbody>\n",
       "    <tr>\n",
       "      <th>0</th>\n",
       "      <td>2023-05-29</td>\n",
       "      <td>2023-06-04</td>\n",
       "      <td>0.330909</td>\n",
       "      <td>Week</td>\n",
       "      <td>sb_demo_score</td>\n",
       "      <td>1.1.0</td>\n",
       "      <td>FPD30</td>\n",
       "    </tr>\n",
       "    <tr>\n",
       "      <th>1</th>\n",
       "      <td>2023-06-01</td>\n",
       "      <td>2023-06-30</td>\n",
       "      <td>0.220452</td>\n",
       "      <td>Month</td>\n",
       "      <td>sb_demo_score</td>\n",
       "      <td>1.1.0</td>\n",
       "      <td>FPD30</td>\n",
       "    </tr>\n",
       "    <tr>\n",
       "      <th>2</th>\n",
       "      <td>2023-06-05</td>\n",
       "      <td>2023-06-11</td>\n",
       "      <td>0.150370</td>\n",
       "      <td>Week</td>\n",
       "      <td>sb_demo_score</td>\n",
       "      <td>1.1.0</td>\n",
       "      <td>FPD30</td>\n",
       "    </tr>\n",
       "    <tr>\n",
       "      <th>3</th>\n",
       "      <td>2023-06-12</td>\n",
       "      <td>2023-06-18</td>\n",
       "      <td>0.478421</td>\n",
       "      <td>Week</td>\n",
       "      <td>sb_demo_score</td>\n",
       "      <td>1.1.0</td>\n",
       "      <td>FPD30</td>\n",
       "    </tr>\n",
       "    <tr>\n",
       "      <th>4</th>\n",
       "      <td>2023-06-19</td>\n",
       "      <td>2023-06-25</td>\n",
       "      <td>-0.064257</td>\n",
       "      <td>Week</td>\n",
       "      <td>sb_demo_score</td>\n",
       "      <td>1.1.0</td>\n",
       "      <td>FPD30</td>\n",
       "    </tr>\n",
       "  </tbody>\n",
       "</table>\n",
       "</div>"
      ],
      "text/plain": [
       "  start_date   end_date  sb_demo_score_FPD30_gini period     Model_Name  \\\n",
       "0 2023-05-29 2023-06-04                  0.330909   Week  sb_demo_score   \n",
       "1 2023-06-01 2023-06-30                  0.220452  Month  sb_demo_score   \n",
       "2 2023-06-05 2023-06-11                  0.150370   Week  sb_demo_score   \n",
       "3 2023-06-12 2023-06-18                  0.478421   Week  sb_demo_score   \n",
       "4 2023-06-19 2023-06-25                 -0.064257   Week  sb_demo_score   \n",
       "\n",
       "  version bad_rate  \n",
       "0   1.1.0    FPD30  \n",
       "1   1.1.0    FPD30  \n",
       "2   1.1.0    FPD30  \n",
       "3   1.1.0    FPD30  \n",
       "4   1.1.0    FPD30  "
      ]
     },
     "execution_count": 34,
     "metadata": {},
     "output_type": "execute_result"
    }
   ],
   "source": [
    "sb_demo_scoreFPD30.head() "
   ]
  },
  {
   "cell_type": "markdown",
   "metadata": {},
   "source": [
    "## FSPD30"
   ]
  },
  {
   "cell_type": "code",
   "execution_count": 35,
   "metadata": {},
   "outputs": [
    {
     "name": "stdout",
     "output_type": "stream",
     "text": [
      "Job ID ae618c1a-08e8-4323-9db7-64bc30a5299a successfully executed: 100%|\u001b[32m██████████\u001b[0m|"
     ]
    },
    {
     "name": "stderr",
     "output_type": "stream",
     "text": [
      "d:\\Anaconda3\\envs\\inc_env\\lib\\site-packages\\google\\cloud\\bigquery\\table.py:1820: UserWarning: BigQuery Storage module not found, fetch data with the REST endpoint instead.\n",
      "  warnings.warn(\n"
     ]
    },
    {
     "name": "stdout",
     "output_type": "stream",
     "text": [
      "\n",
      "Downloading: 100%|\u001b[32m██████████\u001b[0m|\n"
     ]
    }
   ],
   "source": [
    "sq = \"\"\"\n",
    "with sb_demo_score as \n",
    "(SELECT \n",
    "    ln_disb_dtime disbursementdate,\n",
    "\tdigitalLoanAccountId,\n",
    "    sb_demo_score,\n",
    "    ln_fspd30_flag,   -- fspd30\n",
    "\tln_mature_fspd30_flag,\t--- fspd30 observation\n",
    "\tFROM \n",
    "    prj-prod-dataplatform.risk_mart.sil_risk_ds_master_20230101_20250206\n",
    "  WHERE \n",
    "     -- ln_disb_dtime >= '2023-07-01'\n",
    "    ln_appln_submit_datetime >= '2023-06-01'\n",
    "  -- AND\n",
    "  --   format_date('%Y-%m', ln_disb_dtime) = '2024-09'\n",
    "  AND\n",
    "    ln_fspd30_flag is not null\n",
    "  AND\n",
    "    sb_demo_score is not null\n",
    "  AND\n",
    "    ln_mature_fspd30_flag = 1\n",
    ")\n",
    "select * from sb_demo_score;\n",
    "\"\"\"\n",
    "\n",
    "df_sb_demo_scorefspd30 = client.query(sq).to_dataframe(progress_bar_type='tqdm')"
   ]
  },
  {
   "cell_type": "code",
   "execution_count": 36,
   "metadata": {},
   "outputs": [
    {
     "name": "stdout",
     "output_type": "stream",
     "text": [
      "The shape of dataframe after copy is:\t(96, 7)\n"
     ]
    },
    {
     "data": {
      "text/plain": [
       "array(['start_date', 'end_date', 'sb_demo_score_FSPD30_gini', 'period',\n",
       "       'Model_Name', 'version', 'bad_rate'], dtype=object)"
      ]
     },
     "execution_count": 36,
     "metadata": {},
     "output_type": "execute_result"
    }
   ],
   "source": [
    "gini_results = calculate_periodic_gini(df_sb_demo_scorefspd30, 'sb_demo_score', 'ln_fspd30_flag', 'FSPD30')\n",
    "sb_demo_scoreFSPD30 = gini_results.copy()\n",
    "print(f\"The shape of dataframe after copy is:\\t{sb_demo_scoreFSPD30.shape}\")\n",
    "sb_demo_scoreFSPD30.columns.values"
   ]
  },
  {
   "cell_type": "code",
   "execution_count": 37,
   "metadata": {},
   "outputs": [
    {
     "data": {
      "application/vnd.microsoft.datawrangler.viewer.v0+json": {
       "columns": [
        {
         "name": "index",
         "rawType": "int64",
         "type": "integer"
        },
        {
         "name": "start_date",
         "rawType": "datetime64[ns]",
         "type": "datetime"
        },
        {
         "name": "end_date",
         "rawType": "datetime64[ns]",
         "type": "datetime"
        },
        {
         "name": "sb_demo_score_FSPD30_gini",
         "rawType": "float64",
         "type": "float"
        },
        {
         "name": "period",
         "rawType": "object",
         "type": "string"
        },
        {
         "name": "Model_Name",
         "rawType": "object",
         "type": "string"
        },
        {
         "name": "version",
         "rawType": "object",
         "type": "string"
        },
        {
         "name": "bad_rate",
         "rawType": "object",
         "type": "string"
        }
       ],
       "conversionMethod": "pd.DataFrame",
       "ref": "703d48b8-c536-4049-90e9-548f3f124184",
       "rows": [
        [
         "0",
         "2023-05-29 00:00:00",
         "2023-06-04 00:00:00",
         "0.12668463611859826",
         "Week",
         "sb_demo_score",
         "1.1.0",
         "FSPD30"
        ],
        [
         "1",
         "2023-06-01 00:00:00",
         "2023-06-30 00:00:00",
         "0.20980669495520976",
         "Month",
         "sb_demo_score",
         "1.1.0",
         "FSPD30"
        ],
        [
         "2",
         "2023-06-05 00:00:00",
         "2023-06-11 00:00:00",
         "0.23919191919191918",
         "Week",
         "sb_demo_score",
         "1.1.0",
         "FSPD30"
        ],
        [
         "3",
         "2023-06-12 00:00:00",
         "2023-06-18 00:00:00",
         "0.41935483870967727",
         "Week",
         "sb_demo_score",
         "1.1.0",
         "FSPD30"
        ],
        [
         "4",
         "2023-06-19 00:00:00",
         "2023-06-25 00:00:00",
         "-0.00877192982456143",
         "Week",
         "sb_demo_score",
         "1.1.0",
         "FSPD30"
        ]
       ],
       "shape": {
        "columns": 7,
        "rows": 5
       }
      },
      "text/html": [
       "<div>\n",
       "<style scoped>\n",
       "    .dataframe tbody tr th:only-of-type {\n",
       "        vertical-align: middle;\n",
       "    }\n",
       "\n",
       "    .dataframe tbody tr th {\n",
       "        vertical-align: top;\n",
       "    }\n",
       "\n",
       "    .dataframe thead th {\n",
       "        text-align: right;\n",
       "    }\n",
       "</style>\n",
       "<table border=\"1\" class=\"dataframe\">\n",
       "  <thead>\n",
       "    <tr style=\"text-align: right;\">\n",
       "      <th></th>\n",
       "      <th>start_date</th>\n",
       "      <th>end_date</th>\n",
       "      <th>sb_demo_score_FSPD30_gini</th>\n",
       "      <th>period</th>\n",
       "      <th>Model_Name</th>\n",
       "      <th>version</th>\n",
       "      <th>bad_rate</th>\n",
       "    </tr>\n",
       "  </thead>\n",
       "  <tbody>\n",
       "    <tr>\n",
       "      <th>0</th>\n",
       "      <td>2023-05-29</td>\n",
       "      <td>2023-06-04</td>\n",
       "      <td>0.126685</td>\n",
       "      <td>Week</td>\n",
       "      <td>sb_demo_score</td>\n",
       "      <td>1.1.0</td>\n",
       "      <td>FSPD30</td>\n",
       "    </tr>\n",
       "    <tr>\n",
       "      <th>1</th>\n",
       "      <td>2023-06-01</td>\n",
       "      <td>2023-06-30</td>\n",
       "      <td>0.209807</td>\n",
       "      <td>Month</td>\n",
       "      <td>sb_demo_score</td>\n",
       "      <td>1.1.0</td>\n",
       "      <td>FSPD30</td>\n",
       "    </tr>\n",
       "    <tr>\n",
       "      <th>2</th>\n",
       "      <td>2023-06-05</td>\n",
       "      <td>2023-06-11</td>\n",
       "      <td>0.239192</td>\n",
       "      <td>Week</td>\n",
       "      <td>sb_demo_score</td>\n",
       "      <td>1.1.0</td>\n",
       "      <td>FSPD30</td>\n",
       "    </tr>\n",
       "    <tr>\n",
       "      <th>3</th>\n",
       "      <td>2023-06-12</td>\n",
       "      <td>2023-06-18</td>\n",
       "      <td>0.419355</td>\n",
       "      <td>Week</td>\n",
       "      <td>sb_demo_score</td>\n",
       "      <td>1.1.0</td>\n",
       "      <td>FSPD30</td>\n",
       "    </tr>\n",
       "    <tr>\n",
       "      <th>4</th>\n",
       "      <td>2023-06-19</td>\n",
       "      <td>2023-06-25</td>\n",
       "      <td>-0.008772</td>\n",
       "      <td>Week</td>\n",
       "      <td>sb_demo_score</td>\n",
       "      <td>1.1.0</td>\n",
       "      <td>FSPD30</td>\n",
       "    </tr>\n",
       "  </tbody>\n",
       "</table>\n",
       "</div>"
      ],
      "text/plain": [
       "  start_date   end_date  sb_demo_score_FSPD30_gini period     Model_Name  \\\n",
       "0 2023-05-29 2023-06-04                   0.126685   Week  sb_demo_score   \n",
       "1 2023-06-01 2023-06-30                   0.209807  Month  sb_demo_score   \n",
       "2 2023-06-05 2023-06-11                   0.239192   Week  sb_demo_score   \n",
       "3 2023-06-12 2023-06-18                   0.419355   Week  sb_demo_score   \n",
       "4 2023-06-19 2023-06-25                  -0.008772   Week  sb_demo_score   \n",
       "\n",
       "  version bad_rate  \n",
       "0   1.1.0   FSPD30  \n",
       "1   1.1.0   FSPD30  \n",
       "2   1.1.0   FSPD30  \n",
       "3   1.1.0   FSPD30  \n",
       "4   1.1.0   FSPD30  "
      ]
     },
     "execution_count": 37,
     "metadata": {},
     "output_type": "execute_result"
    }
   ],
   "source": [
    "sb_demo_scoreFSPD30.head()"
   ]
  },
  {
   "cell_type": "markdown",
   "metadata": {},
   "source": [
    "## FSTPD30"
   ]
  },
  {
   "cell_type": "code",
   "execution_count": 38,
   "metadata": {},
   "outputs": [
    {
     "name": "stdout",
     "output_type": "stream",
     "text": [
      "Job ID 100980ef-c348-4be9-b097-b77030f7165c successfully executed: 100%|\u001b[32m██████████\u001b[0m|"
     ]
    },
    {
     "name": "stderr",
     "output_type": "stream",
     "text": [
      "d:\\Anaconda3\\envs\\inc_env\\lib\\site-packages\\google\\cloud\\bigquery\\table.py:1820: UserWarning: BigQuery Storage module not found, fetch data with the REST endpoint instead.\n",
      "  warnings.warn(\n"
     ]
    },
    {
     "name": "stdout",
     "output_type": "stream",
     "text": [
      "\n",
      "Downloading: 100%|\u001b[32m██████████\u001b[0m|\n"
     ]
    }
   ],
   "source": [
    "sq = \"\"\"\n",
    "with sb_demo_score as \n",
    "(SELECT \n",
    "    ln_disb_dtime disbursementdate,\n",
    "\tdigitalLoanAccountId,\n",
    "    sb_demo_score,\n",
    "    ln_fstpd30_flag,   -- fstpd30\n",
    "\tln_mature_fstpd30_flag,\t--- fstpd30 observation\n",
    "\tFROM \n",
    "    prj-prod-dataplatform.risk_mart.sil_risk_ds_master_20230101_20250206\n",
    "  WHERE \n",
    "     -- ln_disb_dtime >= '2023-07-01'\n",
    "    ln_appln_submit_datetime >= '2023-06-01'\n",
    "  -- AND\n",
    "  --   format_date('%Y-%m', ln_disb_dtime) = '2024-09'\n",
    "  AND\n",
    "    ln_fstpd30_flag is not null\n",
    "  AND\n",
    "    sb_demo_score is not null\n",
    "  AND\n",
    "    ln_mature_fstpd30_flag = 1\n",
    ")\n",
    "select * from sb_demo_score;\n",
    "\"\"\"\n",
    "\n",
    "df_sb_demo_scorefstpd30 = client.query(sq).to_dataframe(progress_bar_type='tqdm')"
   ]
  },
  {
   "cell_type": "code",
   "execution_count": 39,
   "metadata": {},
   "outputs": [
    {
     "name": "stdout",
     "output_type": "stream",
     "text": [
      "The shape of dataframe after copy is:\t(90, 7)\n"
     ]
    },
    {
     "data": {
      "text/plain": [
       "array(['start_date', 'end_date', 'sb_demo_score_FSTPD30_gini', 'period',\n",
       "       'Model_Name', 'version', 'bad_rate'], dtype=object)"
      ]
     },
     "execution_count": 39,
     "metadata": {},
     "output_type": "execute_result"
    }
   ],
   "source": [
    "gini_results = calculate_periodic_gini(df_sb_demo_scorefstpd30, 'sb_demo_score', 'ln_fstpd30_flag', 'FSTPD30')\n",
    "sb_demo_scoreFSTPD30 = gini_results.copy()\n",
    "print(f\"The shape of dataframe after copy is:\\t{sb_demo_scoreFSTPD30.shape}\")\n",
    "sb_demo_scoreFSTPD30.columns.values"
   ]
  },
  {
   "cell_type": "code",
   "execution_count": 40,
   "metadata": {},
   "outputs": [
    {
     "data": {
      "application/vnd.microsoft.datawrangler.viewer.v0+json": {
       "columns": [
        {
         "name": "index",
         "rawType": "int64",
         "type": "integer"
        },
        {
         "name": "start_date",
         "rawType": "datetime64[ns]",
         "type": "datetime"
        },
        {
         "name": "end_date",
         "rawType": "datetime64[ns]",
         "type": "datetime"
        },
        {
         "name": "sb_demo_score_FSTPD30_gini",
         "rawType": "float64",
         "type": "float"
        },
        {
         "name": "period",
         "rawType": "object",
         "type": "string"
        },
        {
         "name": "Model_Name",
         "rawType": "object",
         "type": "string"
        },
        {
         "name": "version",
         "rawType": "object",
         "type": "string"
        },
        {
         "name": "bad_rate",
         "rawType": "object",
         "type": "string"
        }
       ],
       "conversionMethod": "pd.DataFrame",
       "ref": "2562b78e-3b6b-49cf-945a-9de43cb52c10",
       "rows": [
        [
         "0",
         "2023-05-29 00:00:00",
         "2023-06-04 00:00:00",
         "0.24183006535947715",
         "Week",
         "sb_demo_score",
         "1.1.0",
         "FSTPD30"
        ],
        [
         "1",
         "2023-06-01 00:00:00",
         "2023-06-30 00:00:00",
         "0.18841010401188707",
         "Month",
         "sb_demo_score",
         "1.1.0",
         "FSTPD30"
        ],
        [
         "2",
         "2023-06-05 00:00:00",
         "2023-06-11 00:00:00",
         "0.2728860936408106",
         "Week",
         "sb_demo_score",
         "1.1.0",
         "FSTPD30"
        ],
        [
         "3",
         "2023-06-12 00:00:00",
         "2023-06-18 00:00:00",
         "0.2305400372439479",
         "Week",
         "sb_demo_score",
         "1.1.0",
         "FSTPD30"
        ],
        [
         "4",
         "2023-06-19 00:00:00",
         "2023-06-25 00:00:00",
         "0.07413333333333338",
         "Week",
         "sb_demo_score",
         "1.1.0",
         "FSTPD30"
        ]
       ],
       "shape": {
        "columns": 7,
        "rows": 5
       }
      },
      "text/html": [
       "<div>\n",
       "<style scoped>\n",
       "    .dataframe tbody tr th:only-of-type {\n",
       "        vertical-align: middle;\n",
       "    }\n",
       "\n",
       "    .dataframe tbody tr th {\n",
       "        vertical-align: top;\n",
       "    }\n",
       "\n",
       "    .dataframe thead th {\n",
       "        text-align: right;\n",
       "    }\n",
       "</style>\n",
       "<table border=\"1\" class=\"dataframe\">\n",
       "  <thead>\n",
       "    <tr style=\"text-align: right;\">\n",
       "      <th></th>\n",
       "      <th>start_date</th>\n",
       "      <th>end_date</th>\n",
       "      <th>sb_demo_score_FSTPD30_gini</th>\n",
       "      <th>period</th>\n",
       "      <th>Model_Name</th>\n",
       "      <th>version</th>\n",
       "      <th>bad_rate</th>\n",
       "    </tr>\n",
       "  </thead>\n",
       "  <tbody>\n",
       "    <tr>\n",
       "      <th>0</th>\n",
       "      <td>2023-05-29</td>\n",
       "      <td>2023-06-04</td>\n",
       "      <td>0.241830</td>\n",
       "      <td>Week</td>\n",
       "      <td>sb_demo_score</td>\n",
       "      <td>1.1.0</td>\n",
       "      <td>FSTPD30</td>\n",
       "    </tr>\n",
       "    <tr>\n",
       "      <th>1</th>\n",
       "      <td>2023-06-01</td>\n",
       "      <td>2023-06-30</td>\n",
       "      <td>0.188410</td>\n",
       "      <td>Month</td>\n",
       "      <td>sb_demo_score</td>\n",
       "      <td>1.1.0</td>\n",
       "      <td>FSTPD30</td>\n",
       "    </tr>\n",
       "    <tr>\n",
       "      <th>2</th>\n",
       "      <td>2023-06-05</td>\n",
       "      <td>2023-06-11</td>\n",
       "      <td>0.272886</td>\n",
       "      <td>Week</td>\n",
       "      <td>sb_demo_score</td>\n",
       "      <td>1.1.0</td>\n",
       "      <td>FSTPD30</td>\n",
       "    </tr>\n",
       "    <tr>\n",
       "      <th>3</th>\n",
       "      <td>2023-06-12</td>\n",
       "      <td>2023-06-18</td>\n",
       "      <td>0.230540</td>\n",
       "      <td>Week</td>\n",
       "      <td>sb_demo_score</td>\n",
       "      <td>1.1.0</td>\n",
       "      <td>FSTPD30</td>\n",
       "    </tr>\n",
       "    <tr>\n",
       "      <th>4</th>\n",
       "      <td>2023-06-19</td>\n",
       "      <td>2023-06-25</td>\n",
       "      <td>0.074133</td>\n",
       "      <td>Week</td>\n",
       "      <td>sb_demo_score</td>\n",
       "      <td>1.1.0</td>\n",
       "      <td>FSTPD30</td>\n",
       "    </tr>\n",
       "  </tbody>\n",
       "</table>\n",
       "</div>"
      ],
      "text/plain": [
       "  start_date   end_date  sb_demo_score_FSTPD30_gini period     Model_Name  \\\n",
       "0 2023-05-29 2023-06-04                    0.241830   Week  sb_demo_score   \n",
       "1 2023-06-01 2023-06-30                    0.188410  Month  sb_demo_score   \n",
       "2 2023-06-05 2023-06-11                    0.272886   Week  sb_demo_score   \n",
       "3 2023-06-12 2023-06-18                    0.230540   Week  sb_demo_score   \n",
       "4 2023-06-19 2023-06-25                    0.074133   Week  sb_demo_score   \n",
       "\n",
       "  version bad_rate  \n",
       "0   1.1.0  FSTPD30  \n",
       "1   1.1.0  FSTPD30  \n",
       "2   1.1.0  FSTPD30  \n",
       "3   1.1.0  FSTPD30  \n",
       "4   1.1.0  FSTPD30  "
      ]
     },
     "execution_count": 40,
     "metadata": {},
     "output_type": "execute_result"
    }
   ],
   "source": [
    "sb_demo_scoreFSTPD30.head()"
   ]
  },
  {
   "cell_type": "markdown",
   "metadata": {},
   "source": [
    "# Combining sb demo score"
   ]
  },
  {
   "cell_type": "code",
   "execution_count": 41,
   "metadata": {},
   "outputs": [
    {
     "data": {
      "text/plain": [
       "array(['start_date', 'end_date', 'sb_demo_score_FPD10_gini', 'period',\n",
       "       'Model_Name', 'version', 'bad_rate', 'sb_demo_score_FPD30_gini',\n",
       "       'sb_demo_score_FSPD30_gini', 'sb_demo_score_FSTPD30_gini'],\n",
       "      dtype=object)"
      ]
     },
     "execution_count": 41,
     "metadata": {},
     "output_type": "execute_result"
    }
   ],
   "source": [
    "import functools\n",
    "\n",
    "dataframes = [sb_demo_scoreFPD10, sb_demo_scoreFPD30, sb_demo_scoreFSPD30, sb_demo_scoreFSTPD30]\n",
    "common_columns = ['start_date', 'end_date', 'period', 'Model_Name','version', 'bad_rate']\n",
    "\n",
    "def merge_dataframes(df1, df2):\n",
    "    return pd.merge(df1, df2, on=common_columns, how='outer')\n",
    "\n",
    "final_df = functools.reduce(merge_dataframes, dataframes)\n",
    "\n",
    "final_df.columns.values"
   ]
  },
  {
   "cell_type": "code",
   "execution_count": 42,
   "metadata": {},
   "outputs": [],
   "source": [
    "final_df = final_df[['start_date', 'end_date', 'period',\n",
    "       'Model_Name', 'version', 'bad_rate','sb_demo_score_FPD10_gini','sb_demo_score_FPD30_gini',\n",
    "       'sb_demo_score_FSPD30_gini', 'sb_demo_score_FSTPD30_gini']].copy()"
   ]
  },
  {
   "cell_type": "markdown",
   "metadata": {},
   "source": [
    "## creating sb demo score table "
   ]
  },
  {
   "cell_type": "code",
   "execution_count": 43,
   "metadata": {},
   "outputs": [
    {
     "data": {
      "text/plain": [
       "QueryJob<project=prj-prod-dataplatform, location=asia-southeast1, id=ceb6a62f-47cd-4923-ae74-432bc4c27059>"
      ]
     },
     "execution_count": 43,
     "metadata": {},
     "output_type": "execute_result"
    }
   ],
   "source": [
    "sq = \"\"\"drop table if exists prj-prod-dataplatform.dap_ds_poweruser_playground.Model_gini_sb_demo_score;\"\"\"\n",
    "client.query(sq)"
   ]
  },
  {
   "cell_type": "code",
   "execution_count": 44,
   "metadata": {},
   "outputs": [
    {
     "data": {
      "text/plain": [
       "LoadJob<project=prj-prod-dataplatform, location=asia-southeast1, id=7f9cc3fc-5ac9-4753-b019-140256e45b3a>"
      ]
     },
     "execution_count": 44,
     "metadata": {},
     "output_type": "execute_result"
    }
   ],
   "source": [
    "\n",
    "\n",
    "import pandas as pd\n",
    "from google.cloud import bigquery\n",
    "\n",
    "# Create a BigQuery client\n",
    "client = bigquery.Client('prj-prod-dataplatform')\n",
    "\n",
    "# Define your table schema\n",
    "table_schema = [\n",
    "    bigquery.SchemaField('start_date', 'TIMESTAMP'),\n",
    "    bigquery.SchemaField('end_date', 'TIMESTAMP'),\n",
    "    bigquery.SchemaField('period', 'STRING'),\n",
    "    bigquery.SchemaField('Model_Name', 'STRING'),\n",
    "    bigquery.SchemaField('version', 'STRING'),\n",
    "    bigquery.SchemaField('Badrate', 'STRING'),\n",
    "    bigquery.SchemaField('sb_demo_score_FPD10_gini', 'FLOAT'),\n",
    "    bigquery.SchemaField('sb_demo_score_FPD30_gini', 'FLOAT'),    \n",
    "    bigquery.SchemaField('sb_demo_score_FSPD30_gini', 'FLOAT'),\n",
    "    bigquery.SchemaField('sb_demo_score_FSTPD30_gini', 'FLOAT')\n",
    "    \n",
    "]\n",
    "\n",
    "# Create your BigQuery table\n",
    "table_id = 'prj-prod-dataplatform.dap_ds_poweruser_playground.Model_gini_sb_demo_score'\n",
    "table = bigquery.Table(table_id, schema=table_schema)\n",
    "table = client.create_table(table)\n",
    "\n",
    "# Load your DataFrame into BigQuery\n",
    "job_config = bigquery.LoadJobConfig(\n",
    "    write_disposition='WRITE_TRUNCATE'\n",
    ")\n",
    "\n",
    "load_job = client.load_table_from_dataframe(\n",
    "    final_df, table_id, job_config=job_config\n",
    ")\n",
    "\n",
    "load_job.result()"
   ]
  },
  {
   "cell_type": "markdown",
   "metadata": {},
   "source": [
    "# s_cic_score"
   ]
  },
  {
   "cell_type": "markdown",
   "metadata": {},
   "source": [
    "## FPD10"
   ]
  },
  {
   "cell_type": "code",
   "execution_count": 45,
   "metadata": {},
   "outputs": [
    {
     "name": "stdout",
     "output_type": "stream",
     "text": [
      "Job ID b79613e6-f539-433c-a27c-800c591e446d successfully executed: 100%|\u001b[32m██████████\u001b[0m|"
     ]
    },
    {
     "name": "stderr",
     "output_type": "stream",
     "text": [
      "d:\\Anaconda3\\envs\\inc_env\\lib\\site-packages\\google\\cloud\\bigquery\\table.py:1820: UserWarning: BigQuery Storage module not found, fetch data with the REST endpoint instead.\n",
      "  warnings.warn(\n"
     ]
    },
    {
     "name": "stdout",
     "output_type": "stream",
     "text": [
      "\n",
      "Downloading: 100%|\u001b[32m██████████\u001b[0m|\n"
     ]
    }
   ],
   "source": [
    "sq = \"\"\"\n",
    "with s_cic_score as \n",
    "(SELECT \n",
    "    ln_disb_dtime disbursementdate,\n",
    "\tdigitalLoanAccountId,\n",
    "    s_cic_score,\n",
    "    ln_fpd10_flag,\n",
    "\tln_mature_fpd10_flag,\t\n",
    "\tFROM \n",
    "    prj-prod-dataplatform.risk_mart.sil_risk_ds_master_20230101_20250206\n",
    "  WHERE \n",
    "     -- ln_disb_dtime >= '2023-07-01'\n",
    "    ln_appln_submit_datetime >= '2023-06-01'\n",
    "  -- AND\n",
    "  --   format_date('%Y-%m', ln_disb_dtime) = '2024-09'\n",
    "  AND\n",
    "    ln_fpd10_flag is not null\n",
    "  AND\n",
    "    s_cic_score is not null\n",
    "  AND\n",
    "    ln_mature_fpd10_flag = 1\n",
    ")\n",
    "select * from s_cic_score;\n",
    "\"\"\"\n",
    "\n",
    "df_s_cic_scorefpd10 = client.query(sq).to_dataframe(progress_bar_type='tqdm')"
   ]
  },
  {
   "cell_type": "code",
   "execution_count": 46,
   "metadata": {},
   "outputs": [
    {
     "data": {
      "application/vnd.microsoft.datawrangler.viewer.v0+json": {
       "columns": [
        {
         "name": "index",
         "rawType": "int64",
         "type": "integer"
        },
        {
         "name": "disbursementdate",
         "rawType": "datetime64[us]",
         "type": "unknown"
        },
        {
         "name": "digitalLoanAccountId",
         "rawType": "object",
         "type": "string"
        },
        {
         "name": "s_cic_score",
         "rawType": "float64",
         "type": "float"
        },
        {
         "name": "ln_fpd10_flag",
         "rawType": "Int64",
         "type": "integer"
        },
        {
         "name": "ln_mature_fpd10_flag",
         "rawType": "Int64",
         "type": "integer"
        }
       ],
       "conversionMethod": "pd.DataFrame",
       "ref": "5736103a-1dc9-4168-bb6a-467699a9051e",
       "rows": [
        [
         "0",
         "2023-06-01 11:02:18",
         "7e7e7678-b36d-4b26-ad01-272565b54780",
         "0.08686005401552158",
         "0",
         "1"
        ],
        [
         "1",
         "2023-06-02 13:49:38",
         "69f07f7a-77ce-4f3d-87da-cf27b346ac52",
         "0.08631689666501192",
         "0",
         "1"
        ],
        [
         "2",
         "2023-06-02 14:41:10",
         "832f93ae-46bb-4fdf-94ff-66db94b716c9",
         "0.12092719313592998",
         "1",
         "1"
        ],
        [
         "3",
         "2023-06-02 16:25:26",
         "5dae7da0-f426-4402-b552-f84ab33d38bf",
         "0.08379614071967678",
         "1",
         "1"
        ],
        [
         "4",
         "2023-06-02 17:11:42",
         "1d7abbe4-a62a-4f4b-91b2-bb360b9e61c2",
         "0.14231488955434998",
         "0",
         "1"
        ]
       ],
       "shape": {
        "columns": 5,
        "rows": 5
       }
      },
      "text/html": [
       "<div>\n",
       "<style scoped>\n",
       "    .dataframe tbody tr th:only-of-type {\n",
       "        vertical-align: middle;\n",
       "    }\n",
       "\n",
       "    .dataframe tbody tr th {\n",
       "        vertical-align: top;\n",
       "    }\n",
       "\n",
       "    .dataframe thead th {\n",
       "        text-align: right;\n",
       "    }\n",
       "</style>\n",
       "<table border=\"1\" class=\"dataframe\">\n",
       "  <thead>\n",
       "    <tr style=\"text-align: right;\">\n",
       "      <th></th>\n",
       "      <th>disbursementdate</th>\n",
       "      <th>digitalLoanAccountId</th>\n",
       "      <th>s_cic_score</th>\n",
       "      <th>ln_fpd10_flag</th>\n",
       "      <th>ln_mature_fpd10_flag</th>\n",
       "    </tr>\n",
       "  </thead>\n",
       "  <tbody>\n",
       "    <tr>\n",
       "      <th>0</th>\n",
       "      <td>2023-06-01 11:02:18</td>\n",
       "      <td>7e7e7678-b36d-4b26-ad01-272565b54780</td>\n",
       "      <td>0.086860</td>\n",
       "      <td>0</td>\n",
       "      <td>1</td>\n",
       "    </tr>\n",
       "    <tr>\n",
       "      <th>1</th>\n",
       "      <td>2023-06-02 13:49:38</td>\n",
       "      <td>69f07f7a-77ce-4f3d-87da-cf27b346ac52</td>\n",
       "      <td>0.086317</td>\n",
       "      <td>0</td>\n",
       "      <td>1</td>\n",
       "    </tr>\n",
       "    <tr>\n",
       "      <th>2</th>\n",
       "      <td>2023-06-02 14:41:10</td>\n",
       "      <td>832f93ae-46bb-4fdf-94ff-66db94b716c9</td>\n",
       "      <td>0.120927</td>\n",
       "      <td>1</td>\n",
       "      <td>1</td>\n",
       "    </tr>\n",
       "    <tr>\n",
       "      <th>3</th>\n",
       "      <td>2023-06-02 16:25:26</td>\n",
       "      <td>5dae7da0-f426-4402-b552-f84ab33d38bf</td>\n",
       "      <td>0.083796</td>\n",
       "      <td>1</td>\n",
       "      <td>1</td>\n",
       "    </tr>\n",
       "    <tr>\n",
       "      <th>4</th>\n",
       "      <td>2023-06-02 17:11:42</td>\n",
       "      <td>1d7abbe4-a62a-4f4b-91b2-bb360b9e61c2</td>\n",
       "      <td>0.142315</td>\n",
       "      <td>0</td>\n",
       "      <td>1</td>\n",
       "    </tr>\n",
       "  </tbody>\n",
       "</table>\n",
       "</div>"
      ],
      "text/plain": [
       "     disbursementdate                  digitalLoanAccountId  s_cic_score  \\\n",
       "0 2023-06-01 11:02:18  7e7e7678-b36d-4b26-ad01-272565b54780     0.086860   \n",
       "1 2023-06-02 13:49:38  69f07f7a-77ce-4f3d-87da-cf27b346ac52     0.086317   \n",
       "2 2023-06-02 14:41:10  832f93ae-46bb-4fdf-94ff-66db94b716c9     0.120927   \n",
       "3 2023-06-02 16:25:26  5dae7da0-f426-4402-b552-f84ab33d38bf     0.083796   \n",
       "4 2023-06-02 17:11:42  1d7abbe4-a62a-4f4b-91b2-bb360b9e61c2     0.142315   \n",
       "\n",
       "   ln_fpd10_flag  ln_mature_fpd10_flag  \n",
       "0              0                     1  \n",
       "1              0                     1  \n",
       "2              1                     1  \n",
       "3              1                     1  \n",
       "4              0                     1  "
      ]
     },
     "execution_count": 46,
     "metadata": {},
     "output_type": "execute_result"
    }
   ],
   "source": [
    "df_s_cic_scorefpd10.head()"
   ]
  },
  {
   "cell_type": "code",
   "execution_count": 47,
   "metadata": {},
   "outputs": [
    {
     "name": "stdout",
     "output_type": "stream",
     "text": [
      "The shape of dataframe after copy is:\t(104, 7)\n"
     ]
    },
    {
     "data": {
      "text/plain": [
       "array(['start_date', 'end_date', 's_cic_score_FPD10_gini', 'period',\n",
       "       'Model_Name', 'version', 'bad_rate'], dtype=object)"
      ]
     },
     "execution_count": 47,
     "metadata": {},
     "output_type": "execute_result"
    }
   ],
   "source": [
    "gini_results = calculate_periodic_gini(df_s_cic_scorefpd10, 's_cic_score', 'ln_fpd10_flag', 'FPD10')\n",
    "s_cic_scoreFPD10 = gini_results.copy()\n",
    "print(f\"The shape of dataframe after copy is:\\t{s_cic_scoreFPD10.shape}\")\n",
    "s_cic_scoreFPD10.columns.values"
   ]
  },
  {
   "cell_type": "code",
   "execution_count": 48,
   "metadata": {},
   "outputs": [
    {
     "data": {
      "application/vnd.microsoft.datawrangler.viewer.v0+json": {
       "columns": [
        {
         "name": "index",
         "rawType": "int64",
         "type": "integer"
        },
        {
         "name": "start_date",
         "rawType": "datetime64[ns]",
         "type": "datetime"
        },
        {
         "name": "end_date",
         "rawType": "datetime64[ns]",
         "type": "datetime"
        },
        {
         "name": "s_cic_score_FPD10_gini",
         "rawType": "float64",
         "type": "float"
        },
        {
         "name": "period",
         "rawType": "object",
         "type": "string"
        },
        {
         "name": "Model_Name",
         "rawType": "object",
         "type": "string"
        },
        {
         "name": "version",
         "rawType": "object",
         "type": "string"
        },
        {
         "name": "bad_rate",
         "rawType": "object",
         "type": "string"
        }
       ],
       "conversionMethod": "pd.DataFrame",
       "ref": "f279d65a-a62a-495d-bff0-e8dd126b6eb1",
       "rows": [
        [
         "99",
         "2024-12-16 00:00:00",
         "2024-12-22 00:00:00",
         "0.24615598076296985",
         "Week",
         "s_cic_score",
         "1.1.0",
         "FPD10"
        ],
        [
         "100",
         "2024-12-23 00:00:00",
         "2024-12-29 00:00:00",
         "0.1564569871987158",
         "Week",
         "s_cic_score",
         "1.1.0",
         "FPD10"
        ],
        [
         "101",
         "2024-12-30 00:00:00",
         "2025-01-05 00:00:00",
         "0.2285760225103004",
         "Week",
         "s_cic_score",
         "1.1.0",
         "FPD10"
        ],
        [
         "102",
         "2025-01-01 00:00:00",
         "2025-01-31 00:00:00",
         "0.23718609379311895",
         "Month",
         "s_cic_score",
         "1.1.0",
         "FPD10"
        ],
        [
         "103",
         "2025-01-06 00:00:00",
         "2025-01-12 00:00:00",
         "0.15488095238095245",
         "Week",
         "s_cic_score",
         "1.1.0",
         "FPD10"
        ]
       ],
       "shape": {
        "columns": 7,
        "rows": 5
       }
      },
      "text/html": [
       "<div>\n",
       "<style scoped>\n",
       "    .dataframe tbody tr th:only-of-type {\n",
       "        vertical-align: middle;\n",
       "    }\n",
       "\n",
       "    .dataframe tbody tr th {\n",
       "        vertical-align: top;\n",
       "    }\n",
       "\n",
       "    .dataframe thead th {\n",
       "        text-align: right;\n",
       "    }\n",
       "</style>\n",
       "<table border=\"1\" class=\"dataframe\">\n",
       "  <thead>\n",
       "    <tr style=\"text-align: right;\">\n",
       "      <th></th>\n",
       "      <th>start_date</th>\n",
       "      <th>end_date</th>\n",
       "      <th>s_cic_score_FPD10_gini</th>\n",
       "      <th>period</th>\n",
       "      <th>Model_Name</th>\n",
       "      <th>version</th>\n",
       "      <th>bad_rate</th>\n",
       "    </tr>\n",
       "  </thead>\n",
       "  <tbody>\n",
       "    <tr>\n",
       "      <th>99</th>\n",
       "      <td>2024-12-16</td>\n",
       "      <td>2024-12-22</td>\n",
       "      <td>0.246156</td>\n",
       "      <td>Week</td>\n",
       "      <td>s_cic_score</td>\n",
       "      <td>1.1.0</td>\n",
       "      <td>FPD10</td>\n",
       "    </tr>\n",
       "    <tr>\n",
       "      <th>100</th>\n",
       "      <td>2024-12-23</td>\n",
       "      <td>2024-12-29</td>\n",
       "      <td>0.156457</td>\n",
       "      <td>Week</td>\n",
       "      <td>s_cic_score</td>\n",
       "      <td>1.1.0</td>\n",
       "      <td>FPD10</td>\n",
       "    </tr>\n",
       "    <tr>\n",
       "      <th>101</th>\n",
       "      <td>2024-12-30</td>\n",
       "      <td>2025-01-05</td>\n",
       "      <td>0.228576</td>\n",
       "      <td>Week</td>\n",
       "      <td>s_cic_score</td>\n",
       "      <td>1.1.0</td>\n",
       "      <td>FPD10</td>\n",
       "    </tr>\n",
       "    <tr>\n",
       "      <th>102</th>\n",
       "      <td>2025-01-01</td>\n",
       "      <td>2025-01-31</td>\n",
       "      <td>0.237186</td>\n",
       "      <td>Month</td>\n",
       "      <td>s_cic_score</td>\n",
       "      <td>1.1.0</td>\n",
       "      <td>FPD10</td>\n",
       "    </tr>\n",
       "    <tr>\n",
       "      <th>103</th>\n",
       "      <td>2025-01-06</td>\n",
       "      <td>2025-01-12</td>\n",
       "      <td>0.154881</td>\n",
       "      <td>Week</td>\n",
       "      <td>s_cic_score</td>\n",
       "      <td>1.1.0</td>\n",
       "      <td>FPD10</td>\n",
       "    </tr>\n",
       "  </tbody>\n",
       "</table>\n",
       "</div>"
      ],
      "text/plain": [
       "    start_date   end_date  s_cic_score_FPD10_gini period   Model_Name version  \\\n",
       "99  2024-12-16 2024-12-22                0.246156   Week  s_cic_score   1.1.0   \n",
       "100 2024-12-23 2024-12-29                0.156457   Week  s_cic_score   1.1.0   \n",
       "101 2024-12-30 2025-01-05                0.228576   Week  s_cic_score   1.1.0   \n",
       "102 2025-01-01 2025-01-31                0.237186  Month  s_cic_score   1.1.0   \n",
       "103 2025-01-06 2025-01-12                0.154881   Week  s_cic_score   1.1.0   \n",
       "\n",
       "    bad_rate  \n",
       "99     FPD10  \n",
       "100    FPD10  \n",
       "101    FPD10  \n",
       "102    FPD10  \n",
       "103    FPD10  "
      ]
     },
     "execution_count": 48,
     "metadata": {},
     "output_type": "execute_result"
    }
   ],
   "source": [
    "s_cic_scoreFPD10.tail()"
   ]
  },
  {
   "cell_type": "markdown",
   "metadata": {},
   "source": [
    "## FPD30"
   ]
  },
  {
   "cell_type": "code",
   "execution_count": 49,
   "metadata": {},
   "outputs": [
    {
     "name": "stdout",
     "output_type": "stream",
     "text": [
      "Job ID b451b89a-a9b3-4ea2-9aa0-39bde865d724 successfully executed: 100%|\u001b[32m██████████\u001b[0m|"
     ]
    },
    {
     "name": "stderr",
     "output_type": "stream",
     "text": [
      "d:\\Anaconda3\\envs\\inc_env\\lib\\site-packages\\google\\cloud\\bigquery\\table.py:1820: UserWarning: BigQuery Storage module not found, fetch data with the REST endpoint instead.\n",
      "  warnings.warn(\n"
     ]
    },
    {
     "name": "stdout",
     "output_type": "stream",
     "text": [
      "\n",
      "Downloading: 100%|\u001b[32m██████████\u001b[0m|\n"
     ]
    }
   ],
   "source": [
    "sq = \"\"\"\n",
    "with s_cic_score as \n",
    "(SELECT \n",
    "    ln_disb_dtime disbursementdate,\n",
    "\tdigitalLoanAccountId,\n",
    "    s_cic_score,\n",
    "    ln_fpd30_flag,\n",
    "\tln_mature_fpd30_flag,\t\n",
    "\tFROM \n",
    "    prj-prod-dataplatform.risk_mart.sil_risk_ds_master_20230101_20250206\n",
    "  WHERE \n",
    "     -- ln_disb_dtime >= '2023-07-01'\n",
    "    ln_appln_submit_datetime >= '2023-06-01'\n",
    "  -- AND\n",
    "  --   format_date('%Y-%m', ln_disb_dtime) = '2024-09'\n",
    "  AND\n",
    "    ln_fpd30_flag is not null\n",
    "  AND\n",
    "    s_cic_score is not null\n",
    "  AND\n",
    "    ln_mature_fpd30_flag = 1\n",
    ")\n",
    "select * from s_cic_score;\n",
    "\"\"\"\n",
    "\n",
    "df_s_cic_scorefpd30 = client.query(sq).to_dataframe(progress_bar_type='tqdm')"
   ]
  },
  {
   "cell_type": "code",
   "execution_count": 50,
   "metadata": {},
   "outputs": [
    {
     "data": {
      "application/vnd.microsoft.datawrangler.viewer.v0+json": {
       "columns": [
        {
         "name": "index",
         "rawType": "int64",
         "type": "integer"
        },
        {
         "name": "disbursementdate",
         "rawType": "datetime64[us]",
         "type": "unknown"
        },
        {
         "name": "digitalLoanAccountId",
         "rawType": "object",
         "type": "string"
        },
        {
         "name": "s_cic_score",
         "rawType": "float64",
         "type": "float"
        },
        {
         "name": "ln_fpd30_flag",
         "rawType": "Int64",
         "type": "integer"
        },
        {
         "name": "ln_mature_fpd30_flag",
         "rawType": "Int64",
         "type": "integer"
        }
       ],
       "conversionMethod": "pd.DataFrame",
       "ref": "97864ade-a182-4919-9c9d-d11f8a72e3a3",
       "rows": [
        [
         "0",
         "2023-06-01 11:02:18",
         "7e7e7678-b36d-4b26-ad01-272565b54780",
         "0.08686005401552158",
         "0",
         "1"
        ],
        [
         "1",
         "2023-06-02 13:49:38",
         "69f07f7a-77ce-4f3d-87da-cf27b346ac52",
         "0.08631689666501192",
         "0",
         "1"
        ],
        [
         "2",
         "2023-06-02 14:41:10",
         "832f93ae-46bb-4fdf-94ff-66db94b716c9",
         "0.12092719313592998",
         "1",
         "1"
        ],
        [
         "3",
         "2023-06-02 16:25:26",
         "5dae7da0-f426-4402-b552-f84ab33d38bf",
         "0.08379614071967678",
         "1",
         "1"
        ],
        [
         "4",
         "2023-06-02 17:11:42",
         "1d7abbe4-a62a-4f4b-91b2-bb360b9e61c2",
         "0.14231488955434998",
         "0",
         "1"
        ]
       ],
       "shape": {
        "columns": 5,
        "rows": 5
       }
      },
      "text/html": [
       "<div>\n",
       "<style scoped>\n",
       "    .dataframe tbody tr th:only-of-type {\n",
       "        vertical-align: middle;\n",
       "    }\n",
       "\n",
       "    .dataframe tbody tr th {\n",
       "        vertical-align: top;\n",
       "    }\n",
       "\n",
       "    .dataframe thead th {\n",
       "        text-align: right;\n",
       "    }\n",
       "</style>\n",
       "<table border=\"1\" class=\"dataframe\">\n",
       "  <thead>\n",
       "    <tr style=\"text-align: right;\">\n",
       "      <th></th>\n",
       "      <th>disbursementdate</th>\n",
       "      <th>digitalLoanAccountId</th>\n",
       "      <th>s_cic_score</th>\n",
       "      <th>ln_fpd30_flag</th>\n",
       "      <th>ln_mature_fpd30_flag</th>\n",
       "    </tr>\n",
       "  </thead>\n",
       "  <tbody>\n",
       "    <tr>\n",
       "      <th>0</th>\n",
       "      <td>2023-06-01 11:02:18</td>\n",
       "      <td>7e7e7678-b36d-4b26-ad01-272565b54780</td>\n",
       "      <td>0.086860</td>\n",
       "      <td>0</td>\n",
       "      <td>1</td>\n",
       "    </tr>\n",
       "    <tr>\n",
       "      <th>1</th>\n",
       "      <td>2023-06-02 13:49:38</td>\n",
       "      <td>69f07f7a-77ce-4f3d-87da-cf27b346ac52</td>\n",
       "      <td>0.086317</td>\n",
       "      <td>0</td>\n",
       "      <td>1</td>\n",
       "    </tr>\n",
       "    <tr>\n",
       "      <th>2</th>\n",
       "      <td>2023-06-02 14:41:10</td>\n",
       "      <td>832f93ae-46bb-4fdf-94ff-66db94b716c9</td>\n",
       "      <td>0.120927</td>\n",
       "      <td>1</td>\n",
       "      <td>1</td>\n",
       "    </tr>\n",
       "    <tr>\n",
       "      <th>3</th>\n",
       "      <td>2023-06-02 16:25:26</td>\n",
       "      <td>5dae7da0-f426-4402-b552-f84ab33d38bf</td>\n",
       "      <td>0.083796</td>\n",
       "      <td>1</td>\n",
       "      <td>1</td>\n",
       "    </tr>\n",
       "    <tr>\n",
       "      <th>4</th>\n",
       "      <td>2023-06-02 17:11:42</td>\n",
       "      <td>1d7abbe4-a62a-4f4b-91b2-bb360b9e61c2</td>\n",
       "      <td>0.142315</td>\n",
       "      <td>0</td>\n",
       "      <td>1</td>\n",
       "    </tr>\n",
       "  </tbody>\n",
       "</table>\n",
       "</div>"
      ],
      "text/plain": [
       "     disbursementdate                  digitalLoanAccountId  s_cic_score  \\\n",
       "0 2023-06-01 11:02:18  7e7e7678-b36d-4b26-ad01-272565b54780     0.086860   \n",
       "1 2023-06-02 13:49:38  69f07f7a-77ce-4f3d-87da-cf27b346ac52     0.086317   \n",
       "2 2023-06-02 14:41:10  832f93ae-46bb-4fdf-94ff-66db94b716c9     0.120927   \n",
       "3 2023-06-02 16:25:26  5dae7da0-f426-4402-b552-f84ab33d38bf     0.083796   \n",
       "4 2023-06-02 17:11:42  1d7abbe4-a62a-4f4b-91b2-bb360b9e61c2     0.142315   \n",
       "\n",
       "   ln_fpd30_flag  ln_mature_fpd30_flag  \n",
       "0              0                     1  \n",
       "1              0                     1  \n",
       "2              1                     1  \n",
       "3              1                     1  \n",
       "4              0                     1  "
      ]
     },
     "execution_count": 50,
     "metadata": {},
     "output_type": "execute_result"
    }
   ],
   "source": [
    "df_s_cic_scorefpd30.head()"
   ]
  },
  {
   "cell_type": "code",
   "execution_count": 51,
   "metadata": {},
   "outputs": [
    {
     "name": "stdout",
     "output_type": "stream",
     "text": [
      "The shape of dataframe after copy is:\t(100, 7)\n"
     ]
    },
    {
     "data": {
      "text/plain": [
       "array(['start_date', 'end_date', 's_cic_score_FPD30_gini', 'period',\n",
       "       'Model_Name', 'version', 'bad_rate'], dtype=object)"
      ]
     },
     "execution_count": 51,
     "metadata": {},
     "output_type": "execute_result"
    }
   ],
   "source": [
    "gini_results = calculate_periodic_gini(df_s_cic_scorefpd30, 's_cic_score', 'ln_fpd30_flag', 'FPD30')\n",
    "s_cic_scoreFPD30 = gini_results.copy()\n",
    "print(f\"The shape of dataframe after copy is:\\t{s_cic_scoreFPD30.shape}\")\n",
    "s_cic_scoreFPD30.columns.values"
   ]
  },
  {
   "cell_type": "code",
   "execution_count": 52,
   "metadata": {},
   "outputs": [
    {
     "data": {
      "application/vnd.microsoft.datawrangler.viewer.v0+json": {
       "columns": [
        {
         "name": "index",
         "rawType": "int64",
         "type": "integer"
        },
        {
         "name": "start_date",
         "rawType": "datetime64[ns]",
         "type": "datetime"
        },
        {
         "name": "end_date",
         "rawType": "datetime64[ns]",
         "type": "datetime"
        },
        {
         "name": "s_cic_score_FPD30_gini",
         "rawType": "float64",
         "type": "float"
        },
        {
         "name": "period",
         "rawType": "object",
         "type": "string"
        },
        {
         "name": "Model_Name",
         "rawType": "object",
         "type": "string"
        },
        {
         "name": "version",
         "rawType": "object",
         "type": "string"
        },
        {
         "name": "bad_rate",
         "rawType": "object",
         "type": "string"
        }
       ],
       "conversionMethod": "pd.DataFrame",
       "ref": "23215fcc-d02a-4778-a4aa-36cce4124716",
       "rows": [
        [
         "0",
         "2023-05-29 00:00:00",
         "2023-06-04 00:00:00",
         "0.523076923076923",
         "Week",
         "s_cic_score",
         "1.1.0",
         "FPD30"
        ],
        [
         "1",
         "2023-06-01 00:00:00",
         "2023-06-30 00:00:00",
         "0.2970760233918128",
         "Month",
         "s_cic_score",
         "1.1.0",
         "FPD30"
        ],
        [
         "2",
         "2023-06-05 00:00:00",
         "2023-06-11 00:00:00",
         "0.4372294372294372",
         "Week",
         "s_cic_score",
         "1.1.0",
         "FPD30"
        ],
        [
         "3",
         "2023-06-12 00:00:00",
         "2023-06-18 00:00:00",
         "0.611764705882353",
         "Week",
         "s_cic_score",
         "1.1.0",
         "FPD30"
        ],
        [
         "4",
         "2023-06-19 00:00:00",
         "2023-06-25 00:00:00",
         "0.03548387096774208",
         "Week",
         "s_cic_score",
         "1.1.0",
         "FPD30"
        ]
       ],
       "shape": {
        "columns": 7,
        "rows": 5
       }
      },
      "text/html": [
       "<div>\n",
       "<style scoped>\n",
       "    .dataframe tbody tr th:only-of-type {\n",
       "        vertical-align: middle;\n",
       "    }\n",
       "\n",
       "    .dataframe tbody tr th {\n",
       "        vertical-align: top;\n",
       "    }\n",
       "\n",
       "    .dataframe thead th {\n",
       "        text-align: right;\n",
       "    }\n",
       "</style>\n",
       "<table border=\"1\" class=\"dataframe\">\n",
       "  <thead>\n",
       "    <tr style=\"text-align: right;\">\n",
       "      <th></th>\n",
       "      <th>start_date</th>\n",
       "      <th>end_date</th>\n",
       "      <th>s_cic_score_FPD30_gini</th>\n",
       "      <th>period</th>\n",
       "      <th>Model_Name</th>\n",
       "      <th>version</th>\n",
       "      <th>bad_rate</th>\n",
       "    </tr>\n",
       "  </thead>\n",
       "  <tbody>\n",
       "    <tr>\n",
       "      <th>0</th>\n",
       "      <td>2023-05-29</td>\n",
       "      <td>2023-06-04</td>\n",
       "      <td>0.523077</td>\n",
       "      <td>Week</td>\n",
       "      <td>s_cic_score</td>\n",
       "      <td>1.1.0</td>\n",
       "      <td>FPD30</td>\n",
       "    </tr>\n",
       "    <tr>\n",
       "      <th>1</th>\n",
       "      <td>2023-06-01</td>\n",
       "      <td>2023-06-30</td>\n",
       "      <td>0.297076</td>\n",
       "      <td>Month</td>\n",
       "      <td>s_cic_score</td>\n",
       "      <td>1.1.0</td>\n",
       "      <td>FPD30</td>\n",
       "    </tr>\n",
       "    <tr>\n",
       "      <th>2</th>\n",
       "      <td>2023-06-05</td>\n",
       "      <td>2023-06-11</td>\n",
       "      <td>0.437229</td>\n",
       "      <td>Week</td>\n",
       "      <td>s_cic_score</td>\n",
       "      <td>1.1.0</td>\n",
       "      <td>FPD30</td>\n",
       "    </tr>\n",
       "    <tr>\n",
       "      <th>3</th>\n",
       "      <td>2023-06-12</td>\n",
       "      <td>2023-06-18</td>\n",
       "      <td>0.611765</td>\n",
       "      <td>Week</td>\n",
       "      <td>s_cic_score</td>\n",
       "      <td>1.1.0</td>\n",
       "      <td>FPD30</td>\n",
       "    </tr>\n",
       "    <tr>\n",
       "      <th>4</th>\n",
       "      <td>2023-06-19</td>\n",
       "      <td>2023-06-25</td>\n",
       "      <td>0.035484</td>\n",
       "      <td>Week</td>\n",
       "      <td>s_cic_score</td>\n",
       "      <td>1.1.0</td>\n",
       "      <td>FPD30</td>\n",
       "    </tr>\n",
       "  </tbody>\n",
       "</table>\n",
       "</div>"
      ],
      "text/plain": [
       "  start_date   end_date  s_cic_score_FPD30_gini period   Model_Name version  \\\n",
       "0 2023-05-29 2023-06-04                0.523077   Week  s_cic_score   1.1.0   \n",
       "1 2023-06-01 2023-06-30                0.297076  Month  s_cic_score   1.1.0   \n",
       "2 2023-06-05 2023-06-11                0.437229   Week  s_cic_score   1.1.0   \n",
       "3 2023-06-12 2023-06-18                0.611765   Week  s_cic_score   1.1.0   \n",
       "4 2023-06-19 2023-06-25                0.035484   Week  s_cic_score   1.1.0   \n",
       "\n",
       "  bad_rate  \n",
       "0    FPD30  \n",
       "1    FPD30  \n",
       "2    FPD30  \n",
       "3    FPD30  \n",
       "4    FPD30  "
      ]
     },
     "execution_count": 52,
     "metadata": {},
     "output_type": "execute_result"
    }
   ],
   "source": [
    "s_cic_scoreFPD30.head()"
   ]
  },
  {
   "cell_type": "code",
   "execution_count": 53,
   "metadata": {},
   "outputs": [
    {
     "data": {
      "application/vnd.microsoft.datawrangler.viewer.v0+json": {
       "columns": [
        {
         "name": "index",
         "rawType": "object",
         "type": "string"
        },
        {
         "name": "start_date",
         "rawType": "object",
         "type": "unknown"
        },
        {
         "name": "end_date",
         "rawType": "object",
         "type": "unknown"
        },
        {
         "name": "s_cic_score_FPD30_gini",
         "rawType": "float64",
         "type": "float"
        }
       ],
       "conversionMethod": "pd.DataFrame",
       "ref": "10440f2e-5929-4cd6-a4ba-aee4941666be",
       "rows": [
        [
         "count",
         "100",
         "100",
         "100.0"
        ],
        [
         "mean",
         "2024-03-08 15:36:00",
         "2024-03-19 02:52:48",
         "0.3296732790120198"
        ],
        [
         "min",
         "2023-05-29 00:00:00",
         "2023-06-04 00:00:00",
         "0.03548387096774208"
        ],
        [
         "25%",
         "2023-10-21 06:00:00",
         "2023-10-30 12:00:00",
         "0.2739326423213179"
        ],
        [
         "50%",
         "2024-03-07 12:00:00",
         "2024-03-20 12:00:00",
         "0.3192167579312132"
        ],
        [
         "75%",
         "2024-07-29 18:00:00",
         "2024-08-05 18:00:00",
         "0.3802210467335343"
        ],
        [
         "max",
         "2024-12-16 00:00:00",
         "2024-12-31 00:00:00",
         "0.9404761904761905"
        ],
        [
         "std",
         null,
         null,
         "0.11625217458362158"
        ]
       ],
       "shape": {
        "columns": 3,
        "rows": 8
       }
      },
      "text/html": [
       "<div>\n",
       "<style scoped>\n",
       "    .dataframe tbody tr th:only-of-type {\n",
       "        vertical-align: middle;\n",
       "    }\n",
       "\n",
       "    .dataframe tbody tr th {\n",
       "        vertical-align: top;\n",
       "    }\n",
       "\n",
       "    .dataframe thead th {\n",
       "        text-align: right;\n",
       "    }\n",
       "</style>\n",
       "<table border=\"1\" class=\"dataframe\">\n",
       "  <thead>\n",
       "    <tr style=\"text-align: right;\">\n",
       "      <th></th>\n",
       "      <th>start_date</th>\n",
       "      <th>end_date</th>\n",
       "      <th>s_cic_score_FPD30_gini</th>\n",
       "    </tr>\n",
       "  </thead>\n",
       "  <tbody>\n",
       "    <tr>\n",
       "      <th>count</th>\n",
       "      <td>100</td>\n",
       "      <td>100</td>\n",
       "      <td>100.000000</td>\n",
       "    </tr>\n",
       "    <tr>\n",
       "      <th>mean</th>\n",
       "      <td>2024-03-08 15:36:00</td>\n",
       "      <td>2024-03-19 02:52:48</td>\n",
       "      <td>0.329673</td>\n",
       "    </tr>\n",
       "    <tr>\n",
       "      <th>min</th>\n",
       "      <td>2023-05-29 00:00:00</td>\n",
       "      <td>2023-06-04 00:00:00</td>\n",
       "      <td>0.035484</td>\n",
       "    </tr>\n",
       "    <tr>\n",
       "      <th>25%</th>\n",
       "      <td>2023-10-21 06:00:00</td>\n",
       "      <td>2023-10-30 12:00:00</td>\n",
       "      <td>0.273933</td>\n",
       "    </tr>\n",
       "    <tr>\n",
       "      <th>50%</th>\n",
       "      <td>2024-03-07 12:00:00</td>\n",
       "      <td>2024-03-20 12:00:00</td>\n",
       "      <td>0.319217</td>\n",
       "    </tr>\n",
       "    <tr>\n",
       "      <th>75%</th>\n",
       "      <td>2024-07-29 18:00:00</td>\n",
       "      <td>2024-08-05 18:00:00</td>\n",
       "      <td>0.380221</td>\n",
       "    </tr>\n",
       "    <tr>\n",
       "      <th>max</th>\n",
       "      <td>2024-12-16 00:00:00</td>\n",
       "      <td>2024-12-31 00:00:00</td>\n",
       "      <td>0.940476</td>\n",
       "    </tr>\n",
       "    <tr>\n",
       "      <th>std</th>\n",
       "      <td>NaN</td>\n",
       "      <td>NaN</td>\n",
       "      <td>0.116252</td>\n",
       "    </tr>\n",
       "  </tbody>\n",
       "</table>\n",
       "</div>"
      ],
      "text/plain": [
       "                start_date             end_date  s_cic_score_FPD30_gini\n",
       "count                  100                  100              100.000000\n",
       "mean   2024-03-08 15:36:00  2024-03-19 02:52:48                0.329673\n",
       "min    2023-05-29 00:00:00  2023-06-04 00:00:00                0.035484\n",
       "25%    2023-10-21 06:00:00  2023-10-30 12:00:00                0.273933\n",
       "50%    2024-03-07 12:00:00  2024-03-20 12:00:00                0.319217\n",
       "75%    2024-07-29 18:00:00  2024-08-05 18:00:00                0.380221\n",
       "max    2024-12-16 00:00:00  2024-12-31 00:00:00                0.940476\n",
       "std                    NaN                  NaN                0.116252"
      ]
     },
     "execution_count": 53,
     "metadata": {},
     "output_type": "execute_result"
    }
   ],
   "source": [
    "s_cic_scoreFPD30.describe()"
   ]
  },
  {
   "cell_type": "markdown",
   "metadata": {},
   "source": [
    "## FSPD30"
   ]
  },
  {
   "cell_type": "code",
   "execution_count": 54,
   "metadata": {},
   "outputs": [
    {
     "name": "stdout",
     "output_type": "stream",
     "text": [
      "Job ID dc435351-fe0d-49f1-86ab-56a35dfbbe8d successfully executed: 100%|\u001b[32m██████████\u001b[0m|"
     ]
    },
    {
     "name": "stderr",
     "output_type": "stream",
     "text": [
      "d:\\Anaconda3\\envs\\inc_env\\lib\\site-packages\\google\\cloud\\bigquery\\table.py:1820: UserWarning: BigQuery Storage module not found, fetch data with the REST endpoint instead.\n",
      "  warnings.warn(\n"
     ]
    },
    {
     "name": "stdout",
     "output_type": "stream",
     "text": [
      "\n",
      "Downloading: 100%|\u001b[32m██████████\u001b[0m|\n"
     ]
    }
   ],
   "source": [
    "sq = \"\"\"\n",
    "with s_cic_score as \n",
    "(SELECT \n",
    "    ln_disb_dtime disbursementdate,\n",
    "\tdigitalLoanAccountId,\n",
    "    s_cic_score,\n",
    "    ln_fspd30_flag,\n",
    "\tln_mature_fspd30_flag,\t\n",
    "\tFROM \n",
    "    prj-prod-dataplatform.risk_mart.sil_risk_ds_master_20230101_20250206\n",
    "  WHERE \n",
    "     -- ln_disb_dtime >= '2023-07-01'\n",
    "    ln_appln_submit_datetime >= '2023-06-01'\n",
    "  -- AND\n",
    "  --   format_date('%Y-%m', ln_disb_dtime) = '2024-09'\n",
    "  AND\n",
    "    ln_fspd30_flag is not null\n",
    "  AND\n",
    "    s_cic_score is not null\n",
    "  AND\n",
    "    ln_mature_fspd30_flag = 1\n",
    ")\n",
    "select * from s_cic_score;\n",
    "\"\"\"\n",
    "\n",
    "df_s_cic_scorefspd30 = client.query(sq).to_dataframe(progress_bar_type='tqdm')"
   ]
  },
  {
   "cell_type": "code",
   "execution_count": 55,
   "metadata": {},
   "outputs": [
    {
     "name": "stdout",
     "output_type": "stream",
     "text": [
      "The shape of dataframe after copy is:\t(95, 7)\n"
     ]
    },
    {
     "data": {
      "text/plain": [
       "array(['start_date', 'end_date', 's_cic_score_FSPD30_gini', 'period',\n",
       "       'Model_Name', 'version', 'bad_rate'], dtype=object)"
      ]
     },
     "execution_count": 55,
     "metadata": {},
     "output_type": "execute_result"
    }
   ],
   "source": [
    "gini_results = calculate_periodic_gini(df_s_cic_scorefspd30, 's_cic_score', 'ln_fspd30_flag', 'FSPD30')\n",
    "s_cic_scoreFSPD30 = gini_results.copy()\n",
    "print(f\"The shape of dataframe after copy is:\\t{s_cic_scoreFSPD30.shape}\")\n",
    "s_cic_scoreFSPD30.columns.values"
   ]
  },
  {
   "cell_type": "code",
   "execution_count": 56,
   "metadata": {},
   "outputs": [
    {
     "data": {
      "application/vnd.microsoft.datawrangler.viewer.v0+json": {
       "columns": [
        {
         "name": "index",
         "rawType": "object",
         "type": "string"
        },
        {
         "name": "start_date",
         "rawType": "object",
         "type": "unknown"
        },
        {
         "name": "end_date",
         "rawType": "object",
         "type": "unknown"
        },
        {
         "name": "s_cic_score_FSPD30_gini",
         "rawType": "float64",
         "type": "float"
        }
       ],
       "conversionMethod": "pd.DataFrame",
       "ref": "1a0c07d9-477d-4d92-bbed-bfec94de3e78",
       "rows": [
        [
         "count",
         "95",
         "95",
         "95.0"
        ],
        [
         "mean",
         "2024-02-23 09:20:50.526315776",
         "2024-03-04 20:12:37.894736896",
         "0.3242552084248592"
        ],
        [
         "min",
         "2023-05-29 00:00:00",
         "2023-06-04 00:00:00",
         "0.06686930091185417"
        ],
        [
         "25%",
         "2023-10-12 12:00:00",
         "2023-10-25 12:00:00",
         "0.27900318199012286"
        ],
        [
         "50%",
         "2024-02-26 00:00:00",
         "2024-03-03 00:00:00",
         "0.31947439353099716"
        ],
        [
         "75%",
         "2024-07-04 12:00:00",
         "2024-07-17 12:00:00",
         "0.3604165612505539"
        ],
        [
         "max",
         "2024-11-18 00:00:00",
         "2024-11-30 00:00:00",
         "0.6807142857142858"
        ],
        [
         "std",
         null,
         null,
         "0.08329341764206095"
        ]
       ],
       "shape": {
        "columns": 3,
        "rows": 8
       }
      },
      "text/html": [
       "<div>\n",
       "<style scoped>\n",
       "    .dataframe tbody tr th:only-of-type {\n",
       "        vertical-align: middle;\n",
       "    }\n",
       "\n",
       "    .dataframe tbody tr th {\n",
       "        vertical-align: top;\n",
       "    }\n",
       "\n",
       "    .dataframe thead th {\n",
       "        text-align: right;\n",
       "    }\n",
       "</style>\n",
       "<table border=\"1\" class=\"dataframe\">\n",
       "  <thead>\n",
       "    <tr style=\"text-align: right;\">\n",
       "      <th></th>\n",
       "      <th>start_date</th>\n",
       "      <th>end_date</th>\n",
       "      <th>s_cic_score_FSPD30_gini</th>\n",
       "    </tr>\n",
       "  </thead>\n",
       "  <tbody>\n",
       "    <tr>\n",
       "      <th>count</th>\n",
       "      <td>95</td>\n",
       "      <td>95</td>\n",
       "      <td>95.000000</td>\n",
       "    </tr>\n",
       "    <tr>\n",
       "      <th>mean</th>\n",
       "      <td>2024-02-23 09:20:50.526315776</td>\n",
       "      <td>2024-03-04 20:12:37.894736896</td>\n",
       "      <td>0.324255</td>\n",
       "    </tr>\n",
       "    <tr>\n",
       "      <th>min</th>\n",
       "      <td>2023-05-29 00:00:00</td>\n",
       "      <td>2023-06-04 00:00:00</td>\n",
       "      <td>0.066869</td>\n",
       "    </tr>\n",
       "    <tr>\n",
       "      <th>25%</th>\n",
       "      <td>2023-10-12 12:00:00</td>\n",
       "      <td>2023-10-25 12:00:00</td>\n",
       "      <td>0.279003</td>\n",
       "    </tr>\n",
       "    <tr>\n",
       "      <th>50%</th>\n",
       "      <td>2024-02-26 00:00:00</td>\n",
       "      <td>2024-03-03 00:00:00</td>\n",
       "      <td>0.319474</td>\n",
       "    </tr>\n",
       "    <tr>\n",
       "      <th>75%</th>\n",
       "      <td>2024-07-04 12:00:00</td>\n",
       "      <td>2024-07-17 12:00:00</td>\n",
       "      <td>0.360417</td>\n",
       "    </tr>\n",
       "    <tr>\n",
       "      <th>max</th>\n",
       "      <td>2024-11-18 00:00:00</td>\n",
       "      <td>2024-11-30 00:00:00</td>\n",
       "      <td>0.680714</td>\n",
       "    </tr>\n",
       "    <tr>\n",
       "      <th>std</th>\n",
       "      <td>NaN</td>\n",
       "      <td>NaN</td>\n",
       "      <td>0.083293</td>\n",
       "    </tr>\n",
       "  </tbody>\n",
       "</table>\n",
       "</div>"
      ],
      "text/plain": [
       "                          start_date                       end_date  \\\n",
       "count                             95                             95   \n",
       "mean   2024-02-23 09:20:50.526315776  2024-03-04 20:12:37.894736896   \n",
       "min              2023-05-29 00:00:00            2023-06-04 00:00:00   \n",
       "25%              2023-10-12 12:00:00            2023-10-25 12:00:00   \n",
       "50%              2024-02-26 00:00:00            2024-03-03 00:00:00   \n",
       "75%              2024-07-04 12:00:00            2024-07-17 12:00:00   \n",
       "max              2024-11-18 00:00:00            2024-11-30 00:00:00   \n",
       "std                              NaN                            NaN   \n",
       "\n",
       "       s_cic_score_FSPD30_gini  \n",
       "count                95.000000  \n",
       "mean                  0.324255  \n",
       "min                   0.066869  \n",
       "25%                   0.279003  \n",
       "50%                   0.319474  \n",
       "75%                   0.360417  \n",
       "max                   0.680714  \n",
       "std                   0.083293  "
      ]
     },
     "execution_count": 56,
     "metadata": {},
     "output_type": "execute_result"
    }
   ],
   "source": [
    "s_cic_scoreFSPD30.describe()"
   ]
  },
  {
   "cell_type": "code",
   "execution_count": 57,
   "metadata": {},
   "outputs": [
    {
     "data": {
      "application/vnd.microsoft.datawrangler.viewer.v0+json": {
       "columns": [
        {
         "name": "index",
         "rawType": "int64",
         "type": "integer"
        },
        {
         "name": "start_date",
         "rawType": "datetime64[ns]",
         "type": "datetime"
        },
        {
         "name": "end_date",
         "rawType": "datetime64[ns]",
         "type": "datetime"
        },
        {
         "name": "s_cic_score_FSPD30_gini",
         "rawType": "float64",
         "type": "float"
        },
        {
         "name": "period",
         "rawType": "object",
         "type": "string"
        },
        {
         "name": "Model_Name",
         "rawType": "object",
         "type": "string"
        },
        {
         "name": "version",
         "rawType": "object",
         "type": "string"
        },
        {
         "name": "bad_rate",
         "rawType": "object",
         "type": "string"
        }
       ],
       "conversionMethod": "pd.DataFrame",
       "ref": "38a1d7f1-0702-4038-8cdb-285975d83b7b",
       "rows": [
        [
         "90",
         "2024-10-28 00:00:00",
         "2024-11-03 00:00:00",
         "0.25887934889276343",
         "Week",
         "s_cic_score",
         "1.1.0",
         "FSPD30"
        ],
        [
         "91",
         "2024-11-01 00:00:00",
         "2024-11-30 00:00:00",
         "0.276322625636531",
         "Month",
         "s_cic_score",
         "1.1.0",
         "FSPD30"
        ],
        [
         "92",
         "2024-11-04 00:00:00",
         "2024-11-10 00:00:00",
         "0.34219515957306723",
         "Week",
         "s_cic_score",
         "1.1.0",
         "FSPD30"
        ],
        [
         "93",
         "2024-11-11 00:00:00",
         "2024-11-17 00:00:00",
         "0.21575272879666274",
         "Week",
         "s_cic_score",
         "1.1.0",
         "FSPD30"
        ],
        [
         "94",
         "2024-11-18 00:00:00",
         "2024-11-24 00:00:00",
         "0.3072696930490708",
         "Week",
         "s_cic_score",
         "1.1.0",
         "FSPD30"
        ]
       ],
       "shape": {
        "columns": 7,
        "rows": 5
       }
      },
      "text/html": [
       "<div>\n",
       "<style scoped>\n",
       "    .dataframe tbody tr th:only-of-type {\n",
       "        vertical-align: middle;\n",
       "    }\n",
       "\n",
       "    .dataframe tbody tr th {\n",
       "        vertical-align: top;\n",
       "    }\n",
       "\n",
       "    .dataframe thead th {\n",
       "        text-align: right;\n",
       "    }\n",
       "</style>\n",
       "<table border=\"1\" class=\"dataframe\">\n",
       "  <thead>\n",
       "    <tr style=\"text-align: right;\">\n",
       "      <th></th>\n",
       "      <th>start_date</th>\n",
       "      <th>end_date</th>\n",
       "      <th>s_cic_score_FSPD30_gini</th>\n",
       "      <th>period</th>\n",
       "      <th>Model_Name</th>\n",
       "      <th>version</th>\n",
       "      <th>bad_rate</th>\n",
       "    </tr>\n",
       "  </thead>\n",
       "  <tbody>\n",
       "    <tr>\n",
       "      <th>90</th>\n",
       "      <td>2024-10-28</td>\n",
       "      <td>2024-11-03</td>\n",
       "      <td>0.258879</td>\n",
       "      <td>Week</td>\n",
       "      <td>s_cic_score</td>\n",
       "      <td>1.1.0</td>\n",
       "      <td>FSPD30</td>\n",
       "    </tr>\n",
       "    <tr>\n",
       "      <th>91</th>\n",
       "      <td>2024-11-01</td>\n",
       "      <td>2024-11-30</td>\n",
       "      <td>0.276323</td>\n",
       "      <td>Month</td>\n",
       "      <td>s_cic_score</td>\n",
       "      <td>1.1.0</td>\n",
       "      <td>FSPD30</td>\n",
       "    </tr>\n",
       "    <tr>\n",
       "      <th>92</th>\n",
       "      <td>2024-11-04</td>\n",
       "      <td>2024-11-10</td>\n",
       "      <td>0.342195</td>\n",
       "      <td>Week</td>\n",
       "      <td>s_cic_score</td>\n",
       "      <td>1.1.0</td>\n",
       "      <td>FSPD30</td>\n",
       "    </tr>\n",
       "    <tr>\n",
       "      <th>93</th>\n",
       "      <td>2024-11-11</td>\n",
       "      <td>2024-11-17</td>\n",
       "      <td>0.215753</td>\n",
       "      <td>Week</td>\n",
       "      <td>s_cic_score</td>\n",
       "      <td>1.1.0</td>\n",
       "      <td>FSPD30</td>\n",
       "    </tr>\n",
       "    <tr>\n",
       "      <th>94</th>\n",
       "      <td>2024-11-18</td>\n",
       "      <td>2024-11-24</td>\n",
       "      <td>0.307270</td>\n",
       "      <td>Week</td>\n",
       "      <td>s_cic_score</td>\n",
       "      <td>1.1.0</td>\n",
       "      <td>FSPD30</td>\n",
       "    </tr>\n",
       "  </tbody>\n",
       "</table>\n",
       "</div>"
      ],
      "text/plain": [
       "   start_date   end_date  s_cic_score_FSPD30_gini period   Model_Name version  \\\n",
       "90 2024-10-28 2024-11-03                 0.258879   Week  s_cic_score   1.1.0   \n",
       "91 2024-11-01 2024-11-30                 0.276323  Month  s_cic_score   1.1.0   \n",
       "92 2024-11-04 2024-11-10                 0.342195   Week  s_cic_score   1.1.0   \n",
       "93 2024-11-11 2024-11-17                 0.215753   Week  s_cic_score   1.1.0   \n",
       "94 2024-11-18 2024-11-24                 0.307270   Week  s_cic_score   1.1.0   \n",
       "\n",
       "   bad_rate  \n",
       "90   FSPD30  \n",
       "91   FSPD30  \n",
       "92   FSPD30  \n",
       "93   FSPD30  \n",
       "94   FSPD30  "
      ]
     },
     "execution_count": 57,
     "metadata": {},
     "output_type": "execute_result"
    }
   ],
   "source": [
    "s_cic_scoreFSPD30.tail()"
   ]
  },
  {
   "cell_type": "markdown",
   "metadata": {},
   "source": [
    "## FSTPD30"
   ]
  },
  {
   "cell_type": "code",
   "execution_count": 58,
   "metadata": {},
   "outputs": [
    {
     "name": "stdout",
     "output_type": "stream",
     "text": [
      "Job ID c4331c60-f0de-4262-b57f-b2359669948a successfully executed: 100%|\u001b[32m██████████\u001b[0m|"
     ]
    },
    {
     "name": "stderr",
     "output_type": "stream",
     "text": [
      "d:\\Anaconda3\\envs\\inc_env\\lib\\site-packages\\google\\cloud\\bigquery\\table.py:1820: UserWarning: BigQuery Storage module not found, fetch data with the REST endpoint instead.\n",
      "  warnings.warn(\n"
     ]
    },
    {
     "name": "stdout",
     "output_type": "stream",
     "text": [
      "\n",
      "Downloading: 100%|\u001b[32m██████████\u001b[0m|\n"
     ]
    }
   ],
   "source": [
    "sq = \"\"\"\n",
    "with s_cic_score as \n",
    "(SELECT \n",
    "    ln_disb_dtime disbursementdate,\n",
    "\tdigitalLoanAccountId,\n",
    "    s_cic_score,\n",
    "    ln_fstpd30_flag,\n",
    "\tln_mature_fstpd30_flag,\t\n",
    "\tFROM \n",
    "    prj-prod-dataplatform.risk_mart.sil_risk_ds_master_20230101_20250206\n",
    "  WHERE \n",
    "     -- ln_disb_dtime >= '2023-07-01'\n",
    "    ln_appln_submit_datetime >= '2023-06-01'\n",
    "  -- AND\n",
    "  --   format_date('%Y-%m', ln_disb_dtime) = '2024-09'\n",
    "  AND\n",
    "    ln_fstpd30_flag is not null\n",
    "  AND\n",
    "    s_cic_score is not null\n",
    "  AND\n",
    "    ln_mature_fstpd30_flag = 1\n",
    ")\n",
    "select * from s_cic_score;\n",
    "\"\"\"\n",
    "\n",
    "df_s_cic_scorefstpd30 = client.query(sq).to_dataframe(progress_bar_type='tqdm')"
   ]
  },
  {
   "cell_type": "code",
   "execution_count": 59,
   "metadata": {},
   "outputs": [
    {
     "name": "stdout",
     "output_type": "stream",
     "text": [
      "The shape of dataframe after copy is:\t(89, 7)\n"
     ]
    },
    {
     "data": {
      "text/plain": [
       "array(['start_date', 'end_date', 's_cic_score_FSTPD30_gini', 'period',\n",
       "       'Model_Name', 'version', 'bad_rate'], dtype=object)"
      ]
     },
     "execution_count": 59,
     "metadata": {},
     "output_type": "execute_result"
    }
   ],
   "source": [
    "gini_results = calculate_periodic_gini(df_s_cic_scorefstpd30, 's_cic_score', 'ln_fstpd30_flag', 'FSTPD30')\n",
    "s_cic_scoreFSTPD30 = gini_results.copy()\n",
    "print(f\"The shape of dataframe after copy is:\\t{s_cic_scoreFSTPD30.shape}\")\n",
    "s_cic_scoreFSTPD30.columns.values"
   ]
  },
  {
   "cell_type": "code",
   "execution_count": 60,
   "metadata": {},
   "outputs": [
    {
     "data": {
      "application/vnd.microsoft.datawrangler.viewer.v0+json": {
       "columns": [
        {
         "name": "index",
         "rawType": "object",
         "type": "string"
        },
        {
         "name": "start_date",
         "rawType": "object",
         "type": "unknown"
        },
        {
         "name": "end_date",
         "rawType": "object",
         "type": "unknown"
        },
        {
         "name": "s_cic_score_FSTPD30_gini",
         "rawType": "float64",
         "type": "float"
        }
       ],
       "conversionMethod": "pd.DataFrame",
       "ref": "1bed2c81-63dc-4111-a802-6d5672f464a3",
       "rows": [
        [
         "count",
         "89",
         "89",
         "89.0"
        ],
        [
         "mean",
         "2024-02-06 06:12:08.089887744",
         "2024-02-16 18:04:02.696629248",
         "0.30795118753289297"
        ],
        [
         "min",
         "2023-05-29 00:00:00",
         "2023-06-04 00:00:00",
         "0.15442176870748292"
        ],
        [
         "25%",
         "2023-10-02 00:00:00",
         "2023-10-15 00:00:00",
         "0.25905615818756744"
        ],
        [
         "50%",
         "2024-02-05 00:00:00",
         "2024-02-18 00:00:00",
         "0.30130894222599847"
        ],
        [
         "75%",
         "2024-06-10 00:00:00",
         "2024-06-23 00:00:00",
         "0.325650923402967"
        ],
        [
         "max",
         "2024-10-14 00:00:00",
         "2024-10-31 00:00:00",
         "0.5718128025820335"
        ],
        [
         "std",
         null,
         null,
         "0.07284119503253435"
        ]
       ],
       "shape": {
        "columns": 3,
        "rows": 8
       }
      },
      "text/html": [
       "<div>\n",
       "<style scoped>\n",
       "    .dataframe tbody tr th:only-of-type {\n",
       "        vertical-align: middle;\n",
       "    }\n",
       "\n",
       "    .dataframe tbody tr th {\n",
       "        vertical-align: top;\n",
       "    }\n",
       "\n",
       "    .dataframe thead th {\n",
       "        text-align: right;\n",
       "    }\n",
       "</style>\n",
       "<table border=\"1\" class=\"dataframe\">\n",
       "  <thead>\n",
       "    <tr style=\"text-align: right;\">\n",
       "      <th></th>\n",
       "      <th>start_date</th>\n",
       "      <th>end_date</th>\n",
       "      <th>s_cic_score_FSTPD30_gini</th>\n",
       "    </tr>\n",
       "  </thead>\n",
       "  <tbody>\n",
       "    <tr>\n",
       "      <th>count</th>\n",
       "      <td>89</td>\n",
       "      <td>89</td>\n",
       "      <td>89.000000</td>\n",
       "    </tr>\n",
       "    <tr>\n",
       "      <th>mean</th>\n",
       "      <td>2024-02-06 06:12:08.089887744</td>\n",
       "      <td>2024-02-16 18:04:02.696629248</td>\n",
       "      <td>0.307951</td>\n",
       "    </tr>\n",
       "    <tr>\n",
       "      <th>min</th>\n",
       "      <td>2023-05-29 00:00:00</td>\n",
       "      <td>2023-06-04 00:00:00</td>\n",
       "      <td>0.154422</td>\n",
       "    </tr>\n",
       "    <tr>\n",
       "      <th>25%</th>\n",
       "      <td>2023-10-02 00:00:00</td>\n",
       "      <td>2023-10-15 00:00:00</td>\n",
       "      <td>0.259056</td>\n",
       "    </tr>\n",
       "    <tr>\n",
       "      <th>50%</th>\n",
       "      <td>2024-02-05 00:00:00</td>\n",
       "      <td>2024-02-18 00:00:00</td>\n",
       "      <td>0.301309</td>\n",
       "    </tr>\n",
       "    <tr>\n",
       "      <th>75%</th>\n",
       "      <td>2024-06-10 00:00:00</td>\n",
       "      <td>2024-06-23 00:00:00</td>\n",
       "      <td>0.325651</td>\n",
       "    </tr>\n",
       "    <tr>\n",
       "      <th>max</th>\n",
       "      <td>2024-10-14 00:00:00</td>\n",
       "      <td>2024-10-31 00:00:00</td>\n",
       "      <td>0.571813</td>\n",
       "    </tr>\n",
       "    <tr>\n",
       "      <th>std</th>\n",
       "      <td>NaN</td>\n",
       "      <td>NaN</td>\n",
       "      <td>0.072841</td>\n",
       "    </tr>\n",
       "  </tbody>\n",
       "</table>\n",
       "</div>"
      ],
      "text/plain": [
       "                          start_date                       end_date  \\\n",
       "count                             89                             89   \n",
       "mean   2024-02-06 06:12:08.089887744  2024-02-16 18:04:02.696629248   \n",
       "min              2023-05-29 00:00:00            2023-06-04 00:00:00   \n",
       "25%              2023-10-02 00:00:00            2023-10-15 00:00:00   \n",
       "50%              2024-02-05 00:00:00            2024-02-18 00:00:00   \n",
       "75%              2024-06-10 00:00:00            2024-06-23 00:00:00   \n",
       "max              2024-10-14 00:00:00            2024-10-31 00:00:00   \n",
       "std                              NaN                            NaN   \n",
       "\n",
       "       s_cic_score_FSTPD30_gini  \n",
       "count                 89.000000  \n",
       "mean                   0.307951  \n",
       "min                    0.154422  \n",
       "25%                    0.259056  \n",
       "50%                    0.301309  \n",
       "75%                    0.325651  \n",
       "max                    0.571813  \n",
       "std                    0.072841  "
      ]
     },
     "execution_count": 60,
     "metadata": {},
     "output_type": "execute_result"
    }
   ],
   "source": [
    "s_cic_scoreFSTPD30.describe()"
   ]
  },
  {
   "cell_type": "code",
   "execution_count": 61,
   "metadata": {},
   "outputs": [
    {
     "data": {
      "application/vnd.microsoft.datawrangler.viewer.v0+json": {
       "columns": [
        {
         "name": "index",
         "rawType": "int64",
         "type": "integer"
        },
        {
         "name": "start_date",
         "rawType": "datetime64[ns]",
         "type": "datetime"
        },
        {
         "name": "end_date",
         "rawType": "datetime64[ns]",
         "type": "datetime"
        },
        {
         "name": "s_cic_score_FSTPD30_gini",
         "rawType": "float64",
         "type": "float"
        },
        {
         "name": "period",
         "rawType": "object",
         "type": "string"
        },
        {
         "name": "Model_Name",
         "rawType": "object",
         "type": "string"
        },
        {
         "name": "version",
         "rawType": "object",
         "type": "string"
        },
        {
         "name": "bad_rate",
         "rawType": "object",
         "type": "string"
        }
       ],
       "conversionMethod": "pd.DataFrame",
       "ref": "5a16f1a4-1f1c-4a4b-be05-cf74feb4e220",
       "rows": [
        [
         "84",
         "2024-09-23 00:00:00",
         "2024-09-29 00:00:00",
         "0.3155682453153972",
         "Week",
         "s_cic_score",
         "1.1.0",
         "FSTPD30"
        ],
        [
         "85",
         "2024-09-30 00:00:00",
         "2024-10-06 00:00:00",
         "0.31306172006329636",
         "Week",
         "s_cic_score",
         "1.1.0",
         "FSTPD30"
        ],
        [
         "86",
         "2024-10-01 00:00:00",
         "2024-10-31 00:00:00",
         "0.3068041167169193",
         "Month",
         "s_cic_score",
         "1.1.0",
         "FSTPD30"
        ],
        [
         "87",
         "2024-10-07 00:00:00",
         "2024-10-13 00:00:00",
         "0.32104135704201475",
         "Week",
         "s_cic_score",
         "1.1.0",
         "FSTPD30"
        ],
        [
         "88",
         "2024-10-14 00:00:00",
         "2024-10-20 00:00:00",
         "0.2734558523237769",
         "Week",
         "s_cic_score",
         "1.1.0",
         "FSTPD30"
        ]
       ],
       "shape": {
        "columns": 7,
        "rows": 5
       }
      },
      "text/html": [
       "<div>\n",
       "<style scoped>\n",
       "    .dataframe tbody tr th:only-of-type {\n",
       "        vertical-align: middle;\n",
       "    }\n",
       "\n",
       "    .dataframe tbody tr th {\n",
       "        vertical-align: top;\n",
       "    }\n",
       "\n",
       "    .dataframe thead th {\n",
       "        text-align: right;\n",
       "    }\n",
       "</style>\n",
       "<table border=\"1\" class=\"dataframe\">\n",
       "  <thead>\n",
       "    <tr style=\"text-align: right;\">\n",
       "      <th></th>\n",
       "      <th>start_date</th>\n",
       "      <th>end_date</th>\n",
       "      <th>s_cic_score_FSTPD30_gini</th>\n",
       "      <th>period</th>\n",
       "      <th>Model_Name</th>\n",
       "      <th>version</th>\n",
       "      <th>bad_rate</th>\n",
       "    </tr>\n",
       "  </thead>\n",
       "  <tbody>\n",
       "    <tr>\n",
       "      <th>84</th>\n",
       "      <td>2024-09-23</td>\n",
       "      <td>2024-09-29</td>\n",
       "      <td>0.315568</td>\n",
       "      <td>Week</td>\n",
       "      <td>s_cic_score</td>\n",
       "      <td>1.1.0</td>\n",
       "      <td>FSTPD30</td>\n",
       "    </tr>\n",
       "    <tr>\n",
       "      <th>85</th>\n",
       "      <td>2024-09-30</td>\n",
       "      <td>2024-10-06</td>\n",
       "      <td>0.313062</td>\n",
       "      <td>Week</td>\n",
       "      <td>s_cic_score</td>\n",
       "      <td>1.1.0</td>\n",
       "      <td>FSTPD30</td>\n",
       "    </tr>\n",
       "    <tr>\n",
       "      <th>86</th>\n",
       "      <td>2024-10-01</td>\n",
       "      <td>2024-10-31</td>\n",
       "      <td>0.306804</td>\n",
       "      <td>Month</td>\n",
       "      <td>s_cic_score</td>\n",
       "      <td>1.1.0</td>\n",
       "      <td>FSTPD30</td>\n",
       "    </tr>\n",
       "    <tr>\n",
       "      <th>87</th>\n",
       "      <td>2024-10-07</td>\n",
       "      <td>2024-10-13</td>\n",
       "      <td>0.321041</td>\n",
       "      <td>Week</td>\n",
       "      <td>s_cic_score</td>\n",
       "      <td>1.1.0</td>\n",
       "      <td>FSTPD30</td>\n",
       "    </tr>\n",
       "    <tr>\n",
       "      <th>88</th>\n",
       "      <td>2024-10-14</td>\n",
       "      <td>2024-10-20</td>\n",
       "      <td>0.273456</td>\n",
       "      <td>Week</td>\n",
       "      <td>s_cic_score</td>\n",
       "      <td>1.1.0</td>\n",
       "      <td>FSTPD30</td>\n",
       "    </tr>\n",
       "  </tbody>\n",
       "</table>\n",
       "</div>"
      ],
      "text/plain": [
       "   start_date   end_date  s_cic_score_FSTPD30_gini period   Model_Name  \\\n",
       "84 2024-09-23 2024-09-29                  0.315568   Week  s_cic_score   \n",
       "85 2024-09-30 2024-10-06                  0.313062   Week  s_cic_score   \n",
       "86 2024-10-01 2024-10-31                  0.306804  Month  s_cic_score   \n",
       "87 2024-10-07 2024-10-13                  0.321041   Week  s_cic_score   \n",
       "88 2024-10-14 2024-10-20                  0.273456   Week  s_cic_score   \n",
       "\n",
       "   version bad_rate  \n",
       "84   1.1.0  FSTPD30  \n",
       "85   1.1.0  FSTPD30  \n",
       "86   1.1.0  FSTPD30  \n",
       "87   1.1.0  FSTPD30  \n",
       "88   1.1.0  FSTPD30  "
      ]
     },
     "execution_count": 61,
     "metadata": {},
     "output_type": "execute_result"
    }
   ],
   "source": [
    "s_cic_scoreFSTPD30.tail()"
   ]
  },
  {
   "cell_type": "markdown",
   "metadata": {},
   "source": [
    "# Combining s_cic_score"
   ]
  },
  {
   "cell_type": "code",
   "execution_count": 62,
   "metadata": {},
   "outputs": [
    {
     "data": {
      "text/plain": [
       "array(['start_date', 'end_date', 's_cic_score_FPD10_gini', 'period',\n",
       "       'Model_Name', 'version', 'bad_rate', 's_cic_score_FPD30_gini',\n",
       "       's_cic_score_FSPD30_gini', 's_cic_score_FSTPD30_gini'],\n",
       "      dtype=object)"
      ]
     },
     "execution_count": 62,
     "metadata": {},
     "output_type": "execute_result"
    }
   ],
   "source": [
    "import functools\n",
    "\n",
    "dataframes = [s_cic_scoreFPD10, s_cic_scoreFPD30, s_cic_scoreFSPD30, s_cic_scoreFSTPD30]\n",
    "common_columns = ['start_date', 'end_date', 'period', 'Model_Name','version', 'bad_rate']\n",
    "\n",
    "def merge_dataframes(df1, df2):\n",
    "    return pd.merge(df1, df2, on=common_columns, how='outer')\n",
    "\n",
    "final_df = functools.reduce(merge_dataframes, dataframes)\n",
    "\n",
    "final_df.columns.values"
   ]
  },
  {
   "cell_type": "code",
   "execution_count": 63,
   "metadata": {},
   "outputs": [],
   "source": [
    "final_df = final_df[['start_date', 'end_date', 'period',\n",
    "       'Model_Name', 'version', 'bad_rate','s_cic_score_FPD10_gini','s_cic_score_FPD30_gini', 's_cic_score_FSPD30_gini', 's_cic_score_FSTPD30_gini']].copy()"
   ]
  },
  {
   "cell_type": "markdown",
   "metadata": {},
   "source": [
    "## Creating the table"
   ]
  },
  {
   "cell_type": "code",
   "execution_count": 64,
   "metadata": {},
   "outputs": [
    {
     "data": {
      "text/plain": [
       "QueryJob<project=prj-prod-dataplatform, location=asia-southeast1, id=64f4c456-adf2-4874-b23a-a960d89cbf77>"
      ]
     },
     "execution_count": 64,
     "metadata": {},
     "output_type": "execute_result"
    }
   ],
   "source": [
    "sq = \"\"\"drop table if exists prj-prod-dataplatform.dap_ds_poweruser_playground.Model_gini_s_cic_score;\"\"\"\n",
    "\n",
    "client.query(sq)"
   ]
  },
  {
   "cell_type": "code",
   "execution_count": 65,
   "metadata": {},
   "outputs": [
    {
     "data": {
      "text/plain": [
       "LoadJob<project=prj-prod-dataplatform, location=asia-southeast1, id=6d03ecf1-821c-4404-917d-e96ccf1ef7a6>"
      ]
     },
     "execution_count": 65,
     "metadata": {},
     "output_type": "execute_result"
    }
   ],
   "source": [
    "\n",
    "\n",
    "import pandas as pd\n",
    "from google.cloud import bigquery\n",
    "\n",
    "# Create a BigQuery client\n",
    "client = bigquery.Client('prj-prod-dataplatform')\n",
    "\n",
    "# Define your table schema\n",
    "table_schema = [\n",
    "    bigquery.SchemaField('start_date', 'TIMESTAMP'),\n",
    "    bigquery.SchemaField('end_date', 'TIMESTAMP'),\n",
    "    bigquery.SchemaField('period', 'STRING'),\n",
    "    bigquery.SchemaField('Model_Name', 'STRING'),\n",
    "    bigquery.SchemaField('version', 'STRING'),\n",
    "    bigquery.SchemaField('Badrate', 'STRING'),\n",
    "    bigquery.SchemaField('s_cic_score_FPD10_gini', 'FLOAT'),\n",
    "    bigquery.SchemaField('s_cic_score_FPD30_gini', 'FLOAT'),    \n",
    "    bigquery.SchemaField('s_cic_score_FSPD30_gini', 'FLOAT'),\n",
    "    bigquery.SchemaField('s_cic_score_FSTPD30_gini', 'FLOAT')\n",
    "    \n",
    "]\n",
    "\n",
    "# Create your BigQuery table\n",
    "table_id = 'prj-prod-dataplatform.dap_ds_poweruser_playground.Model_gini_s_cic_score'\n",
    "table = bigquery.Table(table_id, schema=table_schema)\n",
    "table = client.create_table(table)\n",
    "\n",
    "# Load your DataFrame into BigQuery\n",
    "job_config = bigquery.LoadJobConfig(\n",
    "    write_disposition='WRITE_TRUNCATE'\n",
    ")\n",
    "\n",
    "load_job = client.load_table_from_dataframe(\n",
    "    final_df, table_id, job_config=job_config\n",
    ")\n",
    "\n",
    "load_job.result()"
   ]
  },
  {
   "cell_type": "markdown",
   "metadata": {},
   "source": [
    "# sb_stack_score"
   ]
  },
  {
   "cell_type": "markdown",
   "metadata": {},
   "source": [
    "## FPD10"
   ]
  },
  {
   "cell_type": "code",
   "execution_count": 66,
   "metadata": {},
   "outputs": [
    {
     "name": "stdout",
     "output_type": "stream",
     "text": [
      "Job ID 7d9d4d42-9cb3-4236-a732-64c12286d2f0 successfully executed: 100%|\u001b[32m██████████\u001b[0m|"
     ]
    },
    {
     "name": "stderr",
     "output_type": "stream",
     "text": [
      "d:\\Anaconda3\\envs\\inc_env\\lib\\site-packages\\google\\cloud\\bigquery\\table.py:1820: UserWarning: BigQuery Storage module not found, fetch data with the REST endpoint instead.\n",
      "  warnings.warn(\n"
     ]
    },
    {
     "name": "stdout",
     "output_type": "stream",
     "text": [
      "\n",
      "Downloading: 100%|\u001b[32m██████████\u001b[0m|\n"
     ]
    },
    {
     "data": {
      "application/vnd.microsoft.datawrangler.viewer.v0+json": {
       "columns": [
        {
         "name": "index",
         "rawType": "int64",
         "type": "integer"
        },
        {
         "name": "disbursementdate",
         "rawType": "datetime64[us]",
         "type": "unknown"
        },
        {
         "name": "digitalLoanAccountId",
         "rawType": "object",
         "type": "string"
        },
        {
         "name": "sb_stack_score",
         "rawType": "float64",
         "type": "float"
        },
        {
         "name": "ln_fpd10_flag",
         "rawType": "Int64",
         "type": "integer"
        },
        {
         "name": "ln_mature_fpd10_flag",
         "rawType": "Int64",
         "type": "integer"
        }
       ],
       "conversionMethod": "pd.DataFrame",
       "ref": "a3780fb8-2df8-4b07-b274-1eb4e69e8f81",
       "rows": [
        [
         "0",
         "2023-06-01 11:02:18",
         "7e7e7678-b36d-4b26-ad01-272565b54780",
         "0.05551696950166597",
         "0",
         "1"
        ],
        [
         "1",
         "2023-06-01 12:36:51",
         "855bccd7-f3d4-461f-9748-bb50b07e0327",
         "0.1430190165243615",
         "0",
         "1"
        ],
        [
         "2",
         "2023-06-01 12:56:23",
         "e585b35d-bc13-494d-970d-2272d976991b",
         "0.04383780971782166",
         "0",
         "1"
        ],
        [
         "3",
         "2023-06-01 14:57:43",
         "ac518432-9362-4014-86d4-565c0125b27b",
         "0.07866585610299799",
         "0",
         "1"
        ],
        [
         "4",
         "2023-06-01 15:52:56",
         "b11e0b23-1b34-4d8c-984d-1239a7b389c1",
         "0.02395970319161175",
         "0",
         "1"
        ]
       ],
       "shape": {
        "columns": 5,
        "rows": 5
       }
      },
      "text/html": [
       "<div>\n",
       "<style scoped>\n",
       "    .dataframe tbody tr th:only-of-type {\n",
       "        vertical-align: middle;\n",
       "    }\n",
       "\n",
       "    .dataframe tbody tr th {\n",
       "        vertical-align: top;\n",
       "    }\n",
       "\n",
       "    .dataframe thead th {\n",
       "        text-align: right;\n",
       "    }\n",
       "</style>\n",
       "<table border=\"1\" class=\"dataframe\">\n",
       "  <thead>\n",
       "    <tr style=\"text-align: right;\">\n",
       "      <th></th>\n",
       "      <th>disbursementdate</th>\n",
       "      <th>digitalLoanAccountId</th>\n",
       "      <th>sb_stack_score</th>\n",
       "      <th>ln_fpd10_flag</th>\n",
       "      <th>ln_mature_fpd10_flag</th>\n",
       "    </tr>\n",
       "  </thead>\n",
       "  <tbody>\n",
       "    <tr>\n",
       "      <th>0</th>\n",
       "      <td>2023-06-01 11:02:18</td>\n",
       "      <td>7e7e7678-b36d-4b26-ad01-272565b54780</td>\n",
       "      <td>0.055517</td>\n",
       "      <td>0</td>\n",
       "      <td>1</td>\n",
       "    </tr>\n",
       "    <tr>\n",
       "      <th>1</th>\n",
       "      <td>2023-06-01 12:36:51</td>\n",
       "      <td>855bccd7-f3d4-461f-9748-bb50b07e0327</td>\n",
       "      <td>0.143019</td>\n",
       "      <td>0</td>\n",
       "      <td>1</td>\n",
       "    </tr>\n",
       "    <tr>\n",
       "      <th>2</th>\n",
       "      <td>2023-06-01 12:56:23</td>\n",
       "      <td>e585b35d-bc13-494d-970d-2272d976991b</td>\n",
       "      <td>0.043838</td>\n",
       "      <td>0</td>\n",
       "      <td>1</td>\n",
       "    </tr>\n",
       "    <tr>\n",
       "      <th>3</th>\n",
       "      <td>2023-06-01 14:57:43</td>\n",
       "      <td>ac518432-9362-4014-86d4-565c0125b27b</td>\n",
       "      <td>0.078666</td>\n",
       "      <td>0</td>\n",
       "      <td>1</td>\n",
       "    </tr>\n",
       "    <tr>\n",
       "      <th>4</th>\n",
       "      <td>2023-06-01 15:52:56</td>\n",
       "      <td>b11e0b23-1b34-4d8c-984d-1239a7b389c1</td>\n",
       "      <td>0.023960</td>\n",
       "      <td>0</td>\n",
       "      <td>1</td>\n",
       "    </tr>\n",
       "  </tbody>\n",
       "</table>\n",
       "</div>"
      ],
      "text/plain": [
       "     disbursementdate                  digitalLoanAccountId  sb_stack_score  \\\n",
       "0 2023-06-01 11:02:18  7e7e7678-b36d-4b26-ad01-272565b54780        0.055517   \n",
       "1 2023-06-01 12:36:51  855bccd7-f3d4-461f-9748-bb50b07e0327        0.143019   \n",
       "2 2023-06-01 12:56:23  e585b35d-bc13-494d-970d-2272d976991b        0.043838   \n",
       "3 2023-06-01 14:57:43  ac518432-9362-4014-86d4-565c0125b27b        0.078666   \n",
       "4 2023-06-01 15:52:56  b11e0b23-1b34-4d8c-984d-1239a7b389c1        0.023960   \n",
       "\n",
       "   ln_fpd10_flag  ln_mature_fpd10_flag  \n",
       "0              0                     1  \n",
       "1              0                     1  \n",
       "2              0                     1  \n",
       "3              0                     1  \n",
       "4              0                     1  "
      ]
     },
     "execution_count": 66,
     "metadata": {},
     "output_type": "execute_result"
    }
   ],
   "source": [
    "# sb_stack_score\n",
    "\n",
    "sq = \"\"\"\n",
    "with sb_stack_score as \n",
    "(SELECT \n",
    "    ln_disb_dtime disbursementdate,\n",
    "\tdigitalLoanAccountId,\n",
    "    sb_stack_score,\n",
    "    ln_fpd10_flag,\n",
    "\tln_mature_fpd10_flag,\t\n",
    "\tFROM \n",
    "    prj-prod-dataplatform.risk_mart.sil_risk_ds_master_20230101_20250206\n",
    "  WHERE \n",
    "     -- ln_disb_dtime >= '2023-07-01'\n",
    "    ln_appln_submit_datetime >= '2023-06-01'\n",
    "  -- AND\n",
    "  --   format_date('%Y-%m', ln_disb_dtime) = '2024-09'\n",
    "  AND\n",
    "    ln_fpd10_flag is not null\n",
    "  AND\n",
    "    sb_stack_score is not null\n",
    "  AND\n",
    "    ln_mature_fpd10_flag = 1\n",
    ")\n",
    "select * from sb_stack_score;\n",
    "\"\"\"\n",
    "\n",
    "df_sb_stack_scorefpd10 = client.query(sq).to_dataframe(progress_bar_type='tqdm')\n",
    "\n",
    "df_sb_stack_scorefpd10.head()"
   ]
  },
  {
   "cell_type": "code",
   "execution_count": 67,
   "metadata": {},
   "outputs": [
    {
     "name": "stdout",
     "output_type": "stream",
     "text": [
      "The shape of dataframe after copy is:\t(105, 7)\n"
     ]
    },
    {
     "data": {
      "text/plain": [
       "array(['start_date', 'end_date', 'sb_stack_score_FPD10_gini', 'period',\n",
       "       'Model_Name', 'version', 'bad_rate'], dtype=object)"
      ]
     },
     "execution_count": 67,
     "metadata": {},
     "output_type": "execute_result"
    }
   ],
   "source": [
    "gini_results = calculate_periodic_gini(df_sb_stack_scorefpd10, 'sb_stack_score', 'ln_fpd10_flag', 'FPD10')\n",
    "M1FPD10 = gini_results.copy()\n",
    "print(f\"The shape of dataframe after copy is:\\t{M1FPD10.shape}\")\n",
    "M1FPD10.columns.values"
   ]
  },
  {
   "cell_type": "code",
   "execution_count": 68,
   "metadata": {},
   "outputs": [
    {
     "data": {
      "application/vnd.microsoft.datawrangler.viewer.v0+json": {
       "columns": [
        {
         "name": "index",
         "rawType": "object",
         "type": "string"
        },
        {
         "name": "start_date",
         "rawType": "object",
         "type": "unknown"
        },
        {
         "name": "end_date",
         "rawType": "object",
         "type": "unknown"
        },
        {
         "name": "sb_stack_score_FPD10_gini",
         "rawType": "float64",
         "type": "float"
        }
       ],
       "conversionMethod": "pd.DataFrame",
       "ref": "889670c3-a12e-4cbd-80be-d2f5a824430a",
       "rows": [
        [
         "count",
         "105",
         "105",
         "105.0"
        ],
        [
         "mean",
         "2024-03-17 18:44:34.285714176",
         "2024-03-28 06:24:00",
         "0.347360825241305"
        ],
        [
         "min",
         "2023-05-29 00:00:00",
         "2023-06-04 00:00:00",
         "-0.07272727272727264"
        ],
        [
         "25%",
         "2023-10-23 00:00:00",
         "2023-10-31 00:00:00",
         "0.29921615774849064"
        ],
        [
         "50%",
         "2024-03-18 00:00:00",
         "2024-03-31 00:00:00",
         "0.3361513687600646"
        ],
        [
         "75%",
         "2024-08-12 00:00:00",
         "2024-08-25 00:00:00",
         "0.40683297859020895"
        ],
        [
         "max",
         "2025-01-06 00:00:00",
         "2025-01-31 00:00:00",
         "0.6759729272419626"
        ],
        [
         "std",
         null,
         null,
         "0.09799784894629966"
        ]
       ],
       "shape": {
        "columns": 3,
        "rows": 8
       }
      },
      "text/html": [
       "<div>\n",
       "<style scoped>\n",
       "    .dataframe tbody tr th:only-of-type {\n",
       "        vertical-align: middle;\n",
       "    }\n",
       "\n",
       "    .dataframe tbody tr th {\n",
       "        vertical-align: top;\n",
       "    }\n",
       "\n",
       "    .dataframe thead th {\n",
       "        text-align: right;\n",
       "    }\n",
       "</style>\n",
       "<table border=\"1\" class=\"dataframe\">\n",
       "  <thead>\n",
       "    <tr style=\"text-align: right;\">\n",
       "      <th></th>\n",
       "      <th>start_date</th>\n",
       "      <th>end_date</th>\n",
       "      <th>sb_stack_score_FPD10_gini</th>\n",
       "    </tr>\n",
       "  </thead>\n",
       "  <tbody>\n",
       "    <tr>\n",
       "      <th>count</th>\n",
       "      <td>105</td>\n",
       "      <td>105</td>\n",
       "      <td>105.000000</td>\n",
       "    </tr>\n",
       "    <tr>\n",
       "      <th>mean</th>\n",
       "      <td>2024-03-17 18:44:34.285714176</td>\n",
       "      <td>2024-03-28 06:24:00</td>\n",
       "      <td>0.347361</td>\n",
       "    </tr>\n",
       "    <tr>\n",
       "      <th>min</th>\n",
       "      <td>2023-05-29 00:00:00</td>\n",
       "      <td>2023-06-04 00:00:00</td>\n",
       "      <td>-0.072727</td>\n",
       "    </tr>\n",
       "    <tr>\n",
       "      <th>25%</th>\n",
       "      <td>2023-10-23 00:00:00</td>\n",
       "      <td>2023-10-31 00:00:00</td>\n",
       "      <td>0.299216</td>\n",
       "    </tr>\n",
       "    <tr>\n",
       "      <th>50%</th>\n",
       "      <td>2024-03-18 00:00:00</td>\n",
       "      <td>2024-03-31 00:00:00</td>\n",
       "      <td>0.336151</td>\n",
       "    </tr>\n",
       "    <tr>\n",
       "      <th>75%</th>\n",
       "      <td>2024-08-12 00:00:00</td>\n",
       "      <td>2024-08-25 00:00:00</td>\n",
       "      <td>0.406833</td>\n",
       "    </tr>\n",
       "    <tr>\n",
       "      <th>max</th>\n",
       "      <td>2025-01-06 00:00:00</td>\n",
       "      <td>2025-01-31 00:00:00</td>\n",
       "      <td>0.675973</td>\n",
       "    </tr>\n",
       "    <tr>\n",
       "      <th>std</th>\n",
       "      <td>NaN</td>\n",
       "      <td>NaN</td>\n",
       "      <td>0.097998</td>\n",
       "    </tr>\n",
       "  </tbody>\n",
       "</table>\n",
       "</div>"
      ],
      "text/plain": [
       "                          start_date             end_date  \\\n",
       "count                            105                  105   \n",
       "mean   2024-03-17 18:44:34.285714176  2024-03-28 06:24:00   \n",
       "min              2023-05-29 00:00:00  2023-06-04 00:00:00   \n",
       "25%              2023-10-23 00:00:00  2023-10-31 00:00:00   \n",
       "50%              2024-03-18 00:00:00  2024-03-31 00:00:00   \n",
       "75%              2024-08-12 00:00:00  2024-08-25 00:00:00   \n",
       "max              2025-01-06 00:00:00  2025-01-31 00:00:00   \n",
       "std                              NaN                  NaN   \n",
       "\n",
       "       sb_stack_score_FPD10_gini  \n",
       "count                 105.000000  \n",
       "mean                    0.347361  \n",
       "min                    -0.072727  \n",
       "25%                     0.299216  \n",
       "50%                     0.336151  \n",
       "75%                     0.406833  \n",
       "max                     0.675973  \n",
       "std                     0.097998  "
      ]
     },
     "execution_count": 68,
     "metadata": {},
     "output_type": "execute_result"
    }
   ],
   "source": [
    "M1FPD10.describe()"
   ]
  },
  {
   "cell_type": "code",
   "execution_count": 69,
   "metadata": {},
   "outputs": [
    {
     "data": {
      "application/vnd.microsoft.datawrangler.viewer.v0+json": {
       "columns": [
        {
         "name": "index",
         "rawType": "int64",
         "type": "integer"
        },
        {
         "name": "start_date",
         "rawType": "datetime64[ns]",
         "type": "datetime"
        },
        {
         "name": "end_date",
         "rawType": "datetime64[ns]",
         "type": "datetime"
        },
        {
         "name": "sb_stack_score_FPD10_gini",
         "rawType": "float64",
         "type": "float"
        },
        {
         "name": "period",
         "rawType": "object",
         "type": "string"
        },
        {
         "name": "Model_Name",
         "rawType": "object",
         "type": "string"
        },
        {
         "name": "version",
         "rawType": "object",
         "type": "string"
        },
        {
         "name": "bad_rate",
         "rawType": "object",
         "type": "string"
        }
       ],
       "conversionMethod": "pd.DataFrame",
       "ref": "1bd0ec6e-59c7-4476-98d9-acf601d7492b",
       "rows": [
        [
         "0",
         "2023-05-29 00:00:00",
         "2023-06-04 00:00:00",
         "0.48790658882401994",
         "Week",
         "sb_stack_score",
         "1.1.0",
         "FPD10"
        ],
        [
         "1",
         "2023-06-01 00:00:00",
         "2023-06-30 00:00:00",
         "0.3286479250334673",
         "Month",
         "sb_stack_score",
         "1.1.0",
         "FPD10"
        ],
        [
         "2",
         "2023-06-05 00:00:00",
         "2023-06-11 00:00:00",
         "0.41242564441506935",
         "Week",
         "sb_stack_score",
         "1.1.0",
         "FPD10"
        ],
        [
         "3",
         "2023-06-12 00:00:00",
         "2023-06-18 00:00:00",
         "0.6759729272419626",
         "Week",
         "sb_stack_score",
         "1.1.0",
         "FPD10"
        ],
        [
         "4",
         "2023-06-19 00:00:00",
         "2023-06-25 00:00:00",
         "-0.07272727272727264",
         "Week",
         "sb_stack_score",
         "1.1.0",
         "FPD10"
        ]
       ],
       "shape": {
        "columns": 7,
        "rows": 5
       }
      },
      "text/html": [
       "<div>\n",
       "<style scoped>\n",
       "    .dataframe tbody tr th:only-of-type {\n",
       "        vertical-align: middle;\n",
       "    }\n",
       "\n",
       "    .dataframe tbody tr th {\n",
       "        vertical-align: top;\n",
       "    }\n",
       "\n",
       "    .dataframe thead th {\n",
       "        text-align: right;\n",
       "    }\n",
       "</style>\n",
       "<table border=\"1\" class=\"dataframe\">\n",
       "  <thead>\n",
       "    <tr style=\"text-align: right;\">\n",
       "      <th></th>\n",
       "      <th>start_date</th>\n",
       "      <th>end_date</th>\n",
       "      <th>sb_stack_score_FPD10_gini</th>\n",
       "      <th>period</th>\n",
       "      <th>Model_Name</th>\n",
       "      <th>version</th>\n",
       "      <th>bad_rate</th>\n",
       "    </tr>\n",
       "  </thead>\n",
       "  <tbody>\n",
       "    <tr>\n",
       "      <th>0</th>\n",
       "      <td>2023-05-29</td>\n",
       "      <td>2023-06-04</td>\n",
       "      <td>0.487907</td>\n",
       "      <td>Week</td>\n",
       "      <td>sb_stack_score</td>\n",
       "      <td>1.1.0</td>\n",
       "      <td>FPD10</td>\n",
       "    </tr>\n",
       "    <tr>\n",
       "      <th>1</th>\n",
       "      <td>2023-06-01</td>\n",
       "      <td>2023-06-30</td>\n",
       "      <td>0.328648</td>\n",
       "      <td>Month</td>\n",
       "      <td>sb_stack_score</td>\n",
       "      <td>1.1.0</td>\n",
       "      <td>FPD10</td>\n",
       "    </tr>\n",
       "    <tr>\n",
       "      <th>2</th>\n",
       "      <td>2023-06-05</td>\n",
       "      <td>2023-06-11</td>\n",
       "      <td>0.412426</td>\n",
       "      <td>Week</td>\n",
       "      <td>sb_stack_score</td>\n",
       "      <td>1.1.0</td>\n",
       "      <td>FPD10</td>\n",
       "    </tr>\n",
       "    <tr>\n",
       "      <th>3</th>\n",
       "      <td>2023-06-12</td>\n",
       "      <td>2023-06-18</td>\n",
       "      <td>0.675973</td>\n",
       "      <td>Week</td>\n",
       "      <td>sb_stack_score</td>\n",
       "      <td>1.1.0</td>\n",
       "      <td>FPD10</td>\n",
       "    </tr>\n",
       "    <tr>\n",
       "      <th>4</th>\n",
       "      <td>2023-06-19</td>\n",
       "      <td>2023-06-25</td>\n",
       "      <td>-0.072727</td>\n",
       "      <td>Week</td>\n",
       "      <td>sb_stack_score</td>\n",
       "      <td>1.1.0</td>\n",
       "      <td>FPD10</td>\n",
       "    </tr>\n",
       "  </tbody>\n",
       "</table>\n",
       "</div>"
      ],
      "text/plain": [
       "  start_date   end_date  sb_stack_score_FPD10_gini period      Model_Name  \\\n",
       "0 2023-05-29 2023-06-04                   0.487907   Week  sb_stack_score   \n",
       "1 2023-06-01 2023-06-30                   0.328648  Month  sb_stack_score   \n",
       "2 2023-06-05 2023-06-11                   0.412426   Week  sb_stack_score   \n",
       "3 2023-06-12 2023-06-18                   0.675973   Week  sb_stack_score   \n",
       "4 2023-06-19 2023-06-25                  -0.072727   Week  sb_stack_score   \n",
       "\n",
       "  version bad_rate  \n",
       "0   1.1.0    FPD10  \n",
       "1   1.1.0    FPD10  \n",
       "2   1.1.0    FPD10  \n",
       "3   1.1.0    FPD10  \n",
       "4   1.1.0    FPD10  "
      ]
     },
     "execution_count": 69,
     "metadata": {},
     "output_type": "execute_result"
    }
   ],
   "source": [
    "M1FPD10.head()"
   ]
  },
  {
   "cell_type": "markdown",
   "metadata": {},
   "source": [
    "## FPD30"
   ]
  },
  {
   "cell_type": "code",
   "execution_count": 70,
   "metadata": {},
   "outputs": [
    {
     "name": "stdout",
     "output_type": "stream",
     "text": [
      "Job ID 1815ee65-cf65-453e-b190-0675272dbcc7 successfully executed: 100%|\u001b[32m██████████\u001b[0m|"
     ]
    },
    {
     "name": "stderr",
     "output_type": "stream",
     "text": [
      "d:\\Anaconda3\\envs\\inc_env\\lib\\site-packages\\google\\cloud\\bigquery\\table.py:1820: UserWarning: BigQuery Storage module not found, fetch data with the REST endpoint instead.\n",
      "  warnings.warn(\n"
     ]
    },
    {
     "name": "stdout",
     "output_type": "stream",
     "text": [
      "\n",
      "Downloading: 100%|\u001b[32m██████████\u001b[0m|\n"
     ]
    },
    {
     "data": {
      "application/vnd.microsoft.datawrangler.viewer.v0+json": {
       "columns": [
        {
         "name": "index",
         "rawType": "int64",
         "type": "integer"
        },
        {
         "name": "disbursementdate",
         "rawType": "datetime64[us]",
         "type": "unknown"
        },
        {
         "name": "digitalLoanAccountId",
         "rawType": "object",
         "type": "string"
        },
        {
         "name": "sb_stack_score",
         "rawType": "float64",
         "type": "float"
        },
        {
         "name": "ln_fpd30_flag",
         "rawType": "Int64",
         "type": "integer"
        },
        {
         "name": "ln_mature_fpd30_flag",
         "rawType": "Int64",
         "type": "integer"
        }
       ],
       "conversionMethod": "pd.DataFrame",
       "ref": "c284ae3d-1c92-4a36-a0a3-db0c96187895",
       "rows": [
        [
         "0",
         "2023-06-01 10:40:18",
         "ac002041-b0be-446e-b173-65effe340651",
         "0.13337769970161573",
         "0",
         "1"
        ],
        [
         "1",
         "2023-06-01 10:42:34",
         "f91cba31-7630-477a-8cdd-d010b63c4900",
         "0.02009022669408563",
         "0",
         "1"
        ],
        [
         "2",
         "2023-06-01 12:17:20",
         "4fddb4fa-6e60-42b0-adec-295658bd1093",
         "0.04892996344463717",
         "0",
         "1"
        ],
        [
         "3",
         "2023-06-01 14:43:46",
         "4e78ebf3-256e-426c-8840-a7f9e1403a97",
         "0.08497247349117663",
         "0",
         "1"
        ],
        [
         "4",
         "2023-06-01 15:36:13",
         "a3dc185d-0118-4ebc-bf03-117fdd8f9c64",
         "0.08597590962736756",
         "0",
         "1"
        ]
       ],
       "shape": {
        "columns": 5,
        "rows": 5
       }
      },
      "text/html": [
       "<div>\n",
       "<style scoped>\n",
       "    .dataframe tbody tr th:only-of-type {\n",
       "        vertical-align: middle;\n",
       "    }\n",
       "\n",
       "    .dataframe tbody tr th {\n",
       "        vertical-align: top;\n",
       "    }\n",
       "\n",
       "    .dataframe thead th {\n",
       "        text-align: right;\n",
       "    }\n",
       "</style>\n",
       "<table border=\"1\" class=\"dataframe\">\n",
       "  <thead>\n",
       "    <tr style=\"text-align: right;\">\n",
       "      <th></th>\n",
       "      <th>disbursementdate</th>\n",
       "      <th>digitalLoanAccountId</th>\n",
       "      <th>sb_stack_score</th>\n",
       "      <th>ln_fpd30_flag</th>\n",
       "      <th>ln_mature_fpd30_flag</th>\n",
       "    </tr>\n",
       "  </thead>\n",
       "  <tbody>\n",
       "    <tr>\n",
       "      <th>0</th>\n",
       "      <td>2023-06-01 10:40:18</td>\n",
       "      <td>ac002041-b0be-446e-b173-65effe340651</td>\n",
       "      <td>0.133378</td>\n",
       "      <td>0</td>\n",
       "      <td>1</td>\n",
       "    </tr>\n",
       "    <tr>\n",
       "      <th>1</th>\n",
       "      <td>2023-06-01 10:42:34</td>\n",
       "      <td>f91cba31-7630-477a-8cdd-d010b63c4900</td>\n",
       "      <td>0.020090</td>\n",
       "      <td>0</td>\n",
       "      <td>1</td>\n",
       "    </tr>\n",
       "    <tr>\n",
       "      <th>2</th>\n",
       "      <td>2023-06-01 12:17:20</td>\n",
       "      <td>4fddb4fa-6e60-42b0-adec-295658bd1093</td>\n",
       "      <td>0.048930</td>\n",
       "      <td>0</td>\n",
       "      <td>1</td>\n",
       "    </tr>\n",
       "    <tr>\n",
       "      <th>3</th>\n",
       "      <td>2023-06-01 14:43:46</td>\n",
       "      <td>4e78ebf3-256e-426c-8840-a7f9e1403a97</td>\n",
       "      <td>0.084972</td>\n",
       "      <td>0</td>\n",
       "      <td>1</td>\n",
       "    </tr>\n",
       "    <tr>\n",
       "      <th>4</th>\n",
       "      <td>2023-06-01 15:36:13</td>\n",
       "      <td>a3dc185d-0118-4ebc-bf03-117fdd8f9c64</td>\n",
       "      <td>0.085976</td>\n",
       "      <td>0</td>\n",
       "      <td>1</td>\n",
       "    </tr>\n",
       "  </tbody>\n",
       "</table>\n",
       "</div>"
      ],
      "text/plain": [
       "     disbursementdate                  digitalLoanAccountId  sb_stack_score  \\\n",
       "0 2023-06-01 10:40:18  ac002041-b0be-446e-b173-65effe340651        0.133378   \n",
       "1 2023-06-01 10:42:34  f91cba31-7630-477a-8cdd-d010b63c4900        0.020090   \n",
       "2 2023-06-01 12:17:20  4fddb4fa-6e60-42b0-adec-295658bd1093        0.048930   \n",
       "3 2023-06-01 14:43:46  4e78ebf3-256e-426c-8840-a7f9e1403a97        0.084972   \n",
       "4 2023-06-01 15:36:13  a3dc185d-0118-4ebc-bf03-117fdd8f9c64        0.085976   \n",
       "\n",
       "   ln_fpd30_flag  ln_mature_fpd30_flag  \n",
       "0              0                     1  \n",
       "1              0                     1  \n",
       "2              0                     1  \n",
       "3              0                     1  \n",
       "4              0                     1  "
      ]
     },
     "execution_count": 70,
     "metadata": {},
     "output_type": "execute_result"
    }
   ],
   "source": [
    "# sb_stack_score\n",
    "\n",
    "sq = \"\"\"\n",
    "with sb_stack_score as \n",
    "(SELECT \n",
    "    ln_disb_dtime disbursementdate,\n",
    "\tdigitalLoanAccountId,\n",
    "    sb_stack_score,\n",
    "    ln_fpd30_flag,\n",
    "\tln_mature_fpd30_flag,\t\n",
    "\tFROM \n",
    "    prj-prod-dataplatform.risk_mart.sil_risk_ds_master_20230101_20250206\n",
    "  WHERE \n",
    "     -- ln_disb_dtime >= '2023-07-01'\n",
    "    ln_appln_submit_datetime >= '2023-06-01'\n",
    "  -- AND\n",
    "  --   format_date('%Y-%m', ln_disb_dtime) = '2024-09'\n",
    "  AND\n",
    "    ln_fpd30_flag is not null\n",
    "  AND\n",
    "    sb_stack_score is not null\n",
    "  AND\n",
    "    ln_mature_fpd30_flag = 1\n",
    ")\n",
    "select * from sb_stack_score;\n",
    "\"\"\"\n",
    "\n",
    "df_sb_stack_scorefpd30 = client.query(sq).to_dataframe(progress_bar_type='tqdm')\n",
    "\n",
    "df_sb_stack_scorefpd30.head()"
   ]
  },
  {
   "cell_type": "code",
   "execution_count": 71,
   "metadata": {},
   "outputs": [
    {
     "name": "stdout",
     "output_type": "stream",
     "text": [
      "The shape of dataframe after copy is:\t(101, 7)\n"
     ]
    },
    {
     "data": {
      "text/plain": [
       "array(['start_date', 'end_date', 'sb_stack_score_FPD30_gini', 'period',\n",
       "       'Model_Name', 'version', 'bad_rate'], dtype=object)"
      ]
     },
     "execution_count": 71,
     "metadata": {},
     "output_type": "execute_result"
    }
   ],
   "source": [
    "gini_results = calculate_periodic_gini(df_sb_stack_scorefpd30, 'sb_stack_score', 'ln_fpd30_flag', 'FPD30')\n",
    "M2FPD30 = gini_results.copy()\n",
    "print(f\"The shape of dataframe after copy is:\\t{M2FPD30.shape}\")\n",
    "M2FPD30.columns.values"
   ]
  },
  {
   "cell_type": "code",
   "execution_count": 72,
   "metadata": {},
   "outputs": [
    {
     "data": {
      "application/vnd.microsoft.datawrangler.viewer.v0+json": {
       "columns": [
        {
         "name": "index",
         "rawType": "object",
         "type": "string"
        },
        {
         "name": "start_date",
         "rawType": "object",
         "type": "unknown"
        },
        {
         "name": "end_date",
         "rawType": "object",
         "type": "unknown"
        },
        {
         "name": "sb_stack_score_FPD30_gini",
         "rawType": "float64",
         "type": "float"
        }
       ],
       "conversionMethod": "pd.DataFrame",
       "ref": "06ea7989-f016-440d-b4d6-535e3708ebc4",
       "rows": [
        [
         "count",
         "101",
         "101",
         "101.0"
        ],
        [
         "mean",
         "2024-03-06 09:16:02.376237568",
         "2024-03-16 19:29:06.534653440",
         "0.3703132903157925"
        ],
        [
         "min",
         "2023-05-29 00:00:00",
         "2023-06-04 00:00:00",
         "-0.018741633199464536"
        ],
        [
         "25%",
         "2023-10-16 00:00:00",
         "2023-10-29 00:00:00",
         "0.32733982688555985"
        ],
        [
         "50%",
         "2024-03-04 00:00:00",
         "2024-03-17 00:00:00",
         "0.36204763377667804"
        ],
        [
         "75%",
         "2024-07-29 00:00:00",
         "2024-08-04 00:00:00",
         "0.427349901574803"
        ],
        [
         "max",
         "2024-12-16 00:00:00",
         "2024-12-31 00:00:00",
         "0.6538108356290175"
        ],
        [
         "std",
         null,
         null,
         "0.09645915294801173"
        ]
       ],
       "shape": {
        "columns": 3,
        "rows": 8
       }
      },
      "text/html": [
       "<div>\n",
       "<style scoped>\n",
       "    .dataframe tbody tr th:only-of-type {\n",
       "        vertical-align: middle;\n",
       "    }\n",
       "\n",
       "    .dataframe tbody tr th {\n",
       "        vertical-align: top;\n",
       "    }\n",
       "\n",
       "    .dataframe thead th {\n",
       "        text-align: right;\n",
       "    }\n",
       "</style>\n",
       "<table border=\"1\" class=\"dataframe\">\n",
       "  <thead>\n",
       "    <tr style=\"text-align: right;\">\n",
       "      <th></th>\n",
       "      <th>start_date</th>\n",
       "      <th>end_date</th>\n",
       "      <th>sb_stack_score_FPD30_gini</th>\n",
       "    </tr>\n",
       "  </thead>\n",
       "  <tbody>\n",
       "    <tr>\n",
       "      <th>count</th>\n",
       "      <td>101</td>\n",
       "      <td>101</td>\n",
       "      <td>101.000000</td>\n",
       "    </tr>\n",
       "    <tr>\n",
       "      <th>mean</th>\n",
       "      <td>2024-03-06 09:16:02.376237568</td>\n",
       "      <td>2024-03-16 19:29:06.534653440</td>\n",
       "      <td>0.370313</td>\n",
       "    </tr>\n",
       "    <tr>\n",
       "      <th>min</th>\n",
       "      <td>2023-05-29 00:00:00</td>\n",
       "      <td>2023-06-04 00:00:00</td>\n",
       "      <td>-0.018742</td>\n",
       "    </tr>\n",
       "    <tr>\n",
       "      <th>25%</th>\n",
       "      <td>2023-10-16 00:00:00</td>\n",
       "      <td>2023-10-29 00:00:00</td>\n",
       "      <td>0.327340</td>\n",
       "    </tr>\n",
       "    <tr>\n",
       "      <th>50%</th>\n",
       "      <td>2024-03-04 00:00:00</td>\n",
       "      <td>2024-03-17 00:00:00</td>\n",
       "      <td>0.362048</td>\n",
       "    </tr>\n",
       "    <tr>\n",
       "      <th>75%</th>\n",
       "      <td>2024-07-29 00:00:00</td>\n",
       "      <td>2024-08-04 00:00:00</td>\n",
       "      <td>0.427350</td>\n",
       "    </tr>\n",
       "    <tr>\n",
       "      <th>max</th>\n",
       "      <td>2024-12-16 00:00:00</td>\n",
       "      <td>2024-12-31 00:00:00</td>\n",
       "      <td>0.653811</td>\n",
       "    </tr>\n",
       "    <tr>\n",
       "      <th>std</th>\n",
       "      <td>NaN</td>\n",
       "      <td>NaN</td>\n",
       "      <td>0.096459</td>\n",
       "    </tr>\n",
       "  </tbody>\n",
       "</table>\n",
       "</div>"
      ],
      "text/plain": [
       "                          start_date                       end_date  \\\n",
       "count                            101                            101   \n",
       "mean   2024-03-06 09:16:02.376237568  2024-03-16 19:29:06.534653440   \n",
       "min              2023-05-29 00:00:00            2023-06-04 00:00:00   \n",
       "25%              2023-10-16 00:00:00            2023-10-29 00:00:00   \n",
       "50%              2024-03-04 00:00:00            2024-03-17 00:00:00   \n",
       "75%              2024-07-29 00:00:00            2024-08-04 00:00:00   \n",
       "max              2024-12-16 00:00:00            2024-12-31 00:00:00   \n",
       "std                              NaN                            NaN   \n",
       "\n",
       "       sb_stack_score_FPD30_gini  \n",
       "count                 101.000000  \n",
       "mean                    0.370313  \n",
       "min                    -0.018742  \n",
       "25%                     0.327340  \n",
       "50%                     0.362048  \n",
       "75%                     0.427350  \n",
       "max                     0.653811  \n",
       "std                     0.096459  "
      ]
     },
     "execution_count": 72,
     "metadata": {},
     "output_type": "execute_result"
    }
   ],
   "source": [
    "M2FPD30.describe()"
   ]
  },
  {
   "cell_type": "code",
   "execution_count": 73,
   "metadata": {},
   "outputs": [
    {
     "data": {
      "application/vnd.microsoft.datawrangler.viewer.v0+json": {
       "columns": [
        {
         "name": "index",
         "rawType": "int64",
         "type": "integer"
        },
        {
         "name": "start_date",
         "rawType": "datetime64[ns]",
         "type": "datetime"
        },
        {
         "name": "end_date",
         "rawType": "datetime64[ns]",
         "type": "datetime"
        },
        {
         "name": "sb_stack_score_FPD30_gini",
         "rawType": "float64",
         "type": "float"
        },
        {
         "name": "period",
         "rawType": "object",
         "type": "string"
        },
        {
         "name": "Model_Name",
         "rawType": "object",
         "type": "string"
        },
        {
         "name": "version",
         "rawType": "object",
         "type": "string"
        },
        {
         "name": "bad_rate",
         "rawType": "object",
         "type": "string"
        }
       ],
       "conversionMethod": "pd.DataFrame",
       "ref": "e4468adb-d414-4d1e-912a-fff70ff0fa5e",
       "rows": [
        [
         "96",
         "2024-11-25 00:00:00",
         "2024-12-01 00:00:00",
         "0.33388096373170995",
         "Week",
         "sb_stack_score",
         "1.1.0",
         "FPD30"
        ],
        [
         "97",
         "2024-12-01 00:00:00",
         "2024-12-31 00:00:00",
         "0.33711803060428247",
         "Month",
         "sb_stack_score",
         "1.1.0",
         "FPD30"
        ],
        [
         "98",
         "2024-12-02 00:00:00",
         "2024-12-08 00:00:00",
         "0.3722135841532259",
         "Week",
         "sb_stack_score",
         "1.1.0",
         "FPD30"
        ],
        [
         "99",
         "2024-12-09 00:00:00",
         "2024-12-15 00:00:00",
         "0.3051340637022284",
         "Week",
         "sb_stack_score",
         "1.1.0",
         "FPD30"
        ],
        [
         "100",
         "2024-12-16 00:00:00",
         "2024-12-22 00:00:00",
         "0.33218874501992035",
         "Week",
         "sb_stack_score",
         "1.1.0",
         "FPD30"
        ]
       ],
       "shape": {
        "columns": 7,
        "rows": 5
       }
      },
      "text/html": [
       "<div>\n",
       "<style scoped>\n",
       "    .dataframe tbody tr th:only-of-type {\n",
       "        vertical-align: middle;\n",
       "    }\n",
       "\n",
       "    .dataframe tbody tr th {\n",
       "        vertical-align: top;\n",
       "    }\n",
       "\n",
       "    .dataframe thead th {\n",
       "        text-align: right;\n",
       "    }\n",
       "</style>\n",
       "<table border=\"1\" class=\"dataframe\">\n",
       "  <thead>\n",
       "    <tr style=\"text-align: right;\">\n",
       "      <th></th>\n",
       "      <th>start_date</th>\n",
       "      <th>end_date</th>\n",
       "      <th>sb_stack_score_FPD30_gini</th>\n",
       "      <th>period</th>\n",
       "      <th>Model_Name</th>\n",
       "      <th>version</th>\n",
       "      <th>bad_rate</th>\n",
       "    </tr>\n",
       "  </thead>\n",
       "  <tbody>\n",
       "    <tr>\n",
       "      <th>96</th>\n",
       "      <td>2024-11-25</td>\n",
       "      <td>2024-12-01</td>\n",
       "      <td>0.333881</td>\n",
       "      <td>Week</td>\n",
       "      <td>sb_stack_score</td>\n",
       "      <td>1.1.0</td>\n",
       "      <td>FPD30</td>\n",
       "    </tr>\n",
       "    <tr>\n",
       "      <th>97</th>\n",
       "      <td>2024-12-01</td>\n",
       "      <td>2024-12-31</td>\n",
       "      <td>0.337118</td>\n",
       "      <td>Month</td>\n",
       "      <td>sb_stack_score</td>\n",
       "      <td>1.1.0</td>\n",
       "      <td>FPD30</td>\n",
       "    </tr>\n",
       "    <tr>\n",
       "      <th>98</th>\n",
       "      <td>2024-12-02</td>\n",
       "      <td>2024-12-08</td>\n",
       "      <td>0.372214</td>\n",
       "      <td>Week</td>\n",
       "      <td>sb_stack_score</td>\n",
       "      <td>1.1.0</td>\n",
       "      <td>FPD30</td>\n",
       "    </tr>\n",
       "    <tr>\n",
       "      <th>99</th>\n",
       "      <td>2024-12-09</td>\n",
       "      <td>2024-12-15</td>\n",
       "      <td>0.305134</td>\n",
       "      <td>Week</td>\n",
       "      <td>sb_stack_score</td>\n",
       "      <td>1.1.0</td>\n",
       "      <td>FPD30</td>\n",
       "    </tr>\n",
       "    <tr>\n",
       "      <th>100</th>\n",
       "      <td>2024-12-16</td>\n",
       "      <td>2024-12-22</td>\n",
       "      <td>0.332189</td>\n",
       "      <td>Week</td>\n",
       "      <td>sb_stack_score</td>\n",
       "      <td>1.1.0</td>\n",
       "      <td>FPD30</td>\n",
       "    </tr>\n",
       "  </tbody>\n",
       "</table>\n",
       "</div>"
      ],
      "text/plain": [
       "    start_date   end_date  sb_stack_score_FPD30_gini period      Model_Name  \\\n",
       "96  2024-11-25 2024-12-01                   0.333881   Week  sb_stack_score   \n",
       "97  2024-12-01 2024-12-31                   0.337118  Month  sb_stack_score   \n",
       "98  2024-12-02 2024-12-08                   0.372214   Week  sb_stack_score   \n",
       "99  2024-12-09 2024-12-15                   0.305134   Week  sb_stack_score   \n",
       "100 2024-12-16 2024-12-22                   0.332189   Week  sb_stack_score   \n",
       "\n",
       "    version bad_rate  \n",
       "96    1.1.0    FPD30  \n",
       "97    1.1.0    FPD30  \n",
       "98    1.1.0    FPD30  \n",
       "99    1.1.0    FPD30  \n",
       "100   1.1.0    FPD30  "
      ]
     },
     "execution_count": 73,
     "metadata": {},
     "output_type": "execute_result"
    }
   ],
   "source": [
    "M2FPD30.tail()"
   ]
  },
  {
   "cell_type": "markdown",
   "metadata": {},
   "source": [
    "## FSPD30"
   ]
  },
  {
   "cell_type": "code",
   "execution_count": 74,
   "metadata": {},
   "outputs": [
    {
     "name": "stdout",
     "output_type": "stream",
     "text": [
      "Job ID d67344ec-e3d1-4a0a-940e-6575a602c08f successfully executed: 100%|\u001b[32m██████████\u001b[0m|"
     ]
    },
    {
     "name": "stderr",
     "output_type": "stream",
     "text": [
      "d:\\Anaconda3\\envs\\inc_env\\lib\\site-packages\\google\\cloud\\bigquery\\table.py:1820: UserWarning: BigQuery Storage module not found, fetch data with the REST endpoint instead.\n",
      "  warnings.warn(\n"
     ]
    },
    {
     "name": "stdout",
     "output_type": "stream",
     "text": [
      "\n",
      "Downloading: 100%|\u001b[32m██████████\u001b[0m|\n"
     ]
    },
    {
     "data": {
      "application/vnd.microsoft.datawrangler.viewer.v0+json": {
       "columns": [
        {
         "name": "index",
         "rawType": "int64",
         "type": "integer"
        },
        {
         "name": "disbursementdate",
         "rawType": "datetime64[us]",
         "type": "unknown"
        },
        {
         "name": "digitalLoanAccountId",
         "rawType": "object",
         "type": "string"
        },
        {
         "name": "sb_stack_score",
         "rawType": "float64",
         "type": "float"
        },
        {
         "name": "ln_fspd30_flag",
         "rawType": "Int64",
         "type": "integer"
        },
        {
         "name": "ln_mature_fspd30_flag",
         "rawType": "Int64",
         "type": "integer"
        }
       ],
       "conversionMethod": "pd.DataFrame",
       "ref": "0462c78e-ae7b-42d2-9e3a-efc3d9afdf10",
       "rows": [
        [
         "0",
         "2023-06-01 10:40:18",
         "ac002041-b0be-446e-b173-65effe340651",
         "0.13337769970161573",
         "0",
         "1"
        ],
        [
         "1",
         "2023-06-01 10:42:34",
         "f91cba31-7630-477a-8cdd-d010b63c4900",
         "0.02009022669408563",
         "0",
         "1"
        ],
        [
         "2",
         "2023-06-01 12:17:20",
         "4fddb4fa-6e60-42b0-adec-295658bd1093",
         "0.04892996344463717",
         "0",
         "1"
        ],
        [
         "3",
         "2023-06-01 14:43:46",
         "4e78ebf3-256e-426c-8840-a7f9e1403a97",
         "0.08497247349117663",
         "0",
         "1"
        ],
        [
         "4",
         "2023-06-01 15:36:13",
         "a3dc185d-0118-4ebc-bf03-117fdd8f9c64",
         "0.08597590962736756",
         "0",
         "1"
        ]
       ],
       "shape": {
        "columns": 5,
        "rows": 5
       }
      },
      "text/html": [
       "<div>\n",
       "<style scoped>\n",
       "    .dataframe tbody tr th:only-of-type {\n",
       "        vertical-align: middle;\n",
       "    }\n",
       "\n",
       "    .dataframe tbody tr th {\n",
       "        vertical-align: top;\n",
       "    }\n",
       "\n",
       "    .dataframe thead th {\n",
       "        text-align: right;\n",
       "    }\n",
       "</style>\n",
       "<table border=\"1\" class=\"dataframe\">\n",
       "  <thead>\n",
       "    <tr style=\"text-align: right;\">\n",
       "      <th></th>\n",
       "      <th>disbursementdate</th>\n",
       "      <th>digitalLoanAccountId</th>\n",
       "      <th>sb_stack_score</th>\n",
       "      <th>ln_fspd30_flag</th>\n",
       "      <th>ln_mature_fspd30_flag</th>\n",
       "    </tr>\n",
       "  </thead>\n",
       "  <tbody>\n",
       "    <tr>\n",
       "      <th>0</th>\n",
       "      <td>2023-06-01 10:40:18</td>\n",
       "      <td>ac002041-b0be-446e-b173-65effe340651</td>\n",
       "      <td>0.133378</td>\n",
       "      <td>0</td>\n",
       "      <td>1</td>\n",
       "    </tr>\n",
       "    <tr>\n",
       "      <th>1</th>\n",
       "      <td>2023-06-01 10:42:34</td>\n",
       "      <td>f91cba31-7630-477a-8cdd-d010b63c4900</td>\n",
       "      <td>0.020090</td>\n",
       "      <td>0</td>\n",
       "      <td>1</td>\n",
       "    </tr>\n",
       "    <tr>\n",
       "      <th>2</th>\n",
       "      <td>2023-06-01 12:17:20</td>\n",
       "      <td>4fddb4fa-6e60-42b0-adec-295658bd1093</td>\n",
       "      <td>0.048930</td>\n",
       "      <td>0</td>\n",
       "      <td>1</td>\n",
       "    </tr>\n",
       "    <tr>\n",
       "      <th>3</th>\n",
       "      <td>2023-06-01 14:43:46</td>\n",
       "      <td>4e78ebf3-256e-426c-8840-a7f9e1403a97</td>\n",
       "      <td>0.084972</td>\n",
       "      <td>0</td>\n",
       "      <td>1</td>\n",
       "    </tr>\n",
       "    <tr>\n",
       "      <th>4</th>\n",
       "      <td>2023-06-01 15:36:13</td>\n",
       "      <td>a3dc185d-0118-4ebc-bf03-117fdd8f9c64</td>\n",
       "      <td>0.085976</td>\n",
       "      <td>0</td>\n",
       "      <td>1</td>\n",
       "    </tr>\n",
       "  </tbody>\n",
       "</table>\n",
       "</div>"
      ],
      "text/plain": [
       "     disbursementdate                  digitalLoanAccountId  sb_stack_score  \\\n",
       "0 2023-06-01 10:40:18  ac002041-b0be-446e-b173-65effe340651        0.133378   \n",
       "1 2023-06-01 10:42:34  f91cba31-7630-477a-8cdd-d010b63c4900        0.020090   \n",
       "2 2023-06-01 12:17:20  4fddb4fa-6e60-42b0-adec-295658bd1093        0.048930   \n",
       "3 2023-06-01 14:43:46  4e78ebf3-256e-426c-8840-a7f9e1403a97        0.084972   \n",
       "4 2023-06-01 15:36:13  a3dc185d-0118-4ebc-bf03-117fdd8f9c64        0.085976   \n",
       "\n",
       "   ln_fspd30_flag  ln_mature_fspd30_flag  \n",
       "0               0                      1  \n",
       "1               0                      1  \n",
       "2               0                      1  \n",
       "3               0                      1  \n",
       "4               0                      1  "
      ]
     },
     "execution_count": 74,
     "metadata": {},
     "output_type": "execute_result"
    }
   ],
   "source": [
    "# sb_stack_score\n",
    "\n",
    "sq = \"\"\"\n",
    "with sb_stack_score as \n",
    "(SELECT \n",
    "    ln_disb_dtime disbursementdate,\n",
    "\tdigitalLoanAccountId,\n",
    "    sb_stack_score,\n",
    "    ln_fspd30_flag,\n",
    "\tln_mature_fspd30_flag,\t\n",
    "\tFROM \n",
    "    prj-prod-dataplatform.risk_mart.sil_risk_ds_master_20230101_20250206\n",
    "  WHERE \n",
    "     -- ln_disb_dtime >= '2023-07-01'\n",
    "    ln_appln_submit_datetime >= '2023-06-01'\n",
    "  -- AND\n",
    "  --   format_date('%Y-%m', ln_disb_dtime) = '2024-09'\n",
    "  AND\n",
    "    ln_fspd30_flag is not null\n",
    "  AND\n",
    "    sb_stack_score is not null\n",
    "  AND\n",
    "    ln_mature_fspd30_flag = 1\n",
    ")\n",
    "select * from sb_stack_score;\n",
    "\"\"\"\n",
    "\n",
    "df_sb_stack_scorefspd30 = client.query(sq).to_dataframe(progress_bar_type='tqdm')\n",
    "\n",
    "df_sb_stack_scorefspd30.head()"
   ]
  },
  {
   "cell_type": "code",
   "execution_count": 75,
   "metadata": {},
   "outputs": [
    {
     "name": "stdout",
     "output_type": "stream",
     "text": [
      "The shape of dataframe after copy is:\t(96, 7)\n"
     ]
    },
    {
     "data": {
      "text/plain": [
       "array(['start_date', 'end_date', 'sb_stack_score_FSPD30_gini', 'period',\n",
       "       'Model_Name', 'version', 'bad_rate'], dtype=object)"
      ]
     },
     "execution_count": 75,
     "metadata": {},
     "output_type": "execute_result"
    }
   ],
   "source": [
    "gini_results = calculate_periodic_gini(df_sb_stack_scorefspd30, 'sb_stack_score', 'ln_fspd30_flag', 'FSPD30')\n",
    "M3FSPD30 = gini_results.copy()\n",
    "print(f\"The shape of dataframe after copy is:\\t{M3FSPD30.shape}\")\n",
    "M3FSPD30.columns.values"
   ]
  },
  {
   "cell_type": "code",
   "execution_count": 76,
   "metadata": {},
   "outputs": [
    {
     "data": {
      "application/vnd.microsoft.datawrangler.viewer.v0+json": {
       "columns": [
        {
         "name": "index",
         "rawType": "object",
         "type": "string"
        },
        {
         "name": "start_date",
         "rawType": "object",
         "type": "unknown"
        },
        {
         "name": "end_date",
         "rawType": "object",
         "type": "unknown"
        },
        {
         "name": "sb_stack_score_FSPD30_gini",
         "rawType": "float64",
         "type": "float"
        }
       ],
       "conversionMethod": "pd.DataFrame",
       "ref": "7be693e7-992e-41af-af1a-67b3115482ce",
       "rows": [
        [
         "count",
         "96",
         "96",
         "96.0"
        ],
        [
         "mean",
         "2024-02-21 03:45:00",
         "2024-03-02 13:30:00",
         "0.37253438272894224"
        ],
        [
         "min",
         "2023-05-29 00:00:00",
         "2023-06-04 00:00:00",
         "0.12887989203778671"
        ],
        [
         "25%",
         "2023-10-07 06:00:00",
         "2023-10-20 06:00:00",
         "0.32547684338470584"
        ],
        [
         "50%",
         "2024-02-22 12:00:00",
         "2024-03-01 12:00:00",
         "0.36107290973483086"
        ],
        [
         "75%",
         "2024-07-02 18:00:00",
         "2024-07-15 18:00:00",
         "0.4229065784343622"
        ],
        [
         "max",
         "2024-11-18 00:00:00",
         "2024-11-30 00:00:00",
         "0.5806451612903227"
        ],
        [
         "std",
         null,
         null,
         "0.07754722385074997"
        ]
       ],
       "shape": {
        "columns": 3,
        "rows": 8
       }
      },
      "text/html": [
       "<div>\n",
       "<style scoped>\n",
       "    .dataframe tbody tr th:only-of-type {\n",
       "        vertical-align: middle;\n",
       "    }\n",
       "\n",
       "    .dataframe tbody tr th {\n",
       "        vertical-align: top;\n",
       "    }\n",
       "\n",
       "    .dataframe thead th {\n",
       "        text-align: right;\n",
       "    }\n",
       "</style>\n",
       "<table border=\"1\" class=\"dataframe\">\n",
       "  <thead>\n",
       "    <tr style=\"text-align: right;\">\n",
       "      <th></th>\n",
       "      <th>start_date</th>\n",
       "      <th>end_date</th>\n",
       "      <th>sb_stack_score_FSPD30_gini</th>\n",
       "    </tr>\n",
       "  </thead>\n",
       "  <tbody>\n",
       "    <tr>\n",
       "      <th>count</th>\n",
       "      <td>96</td>\n",
       "      <td>96</td>\n",
       "      <td>96.000000</td>\n",
       "    </tr>\n",
       "    <tr>\n",
       "      <th>mean</th>\n",
       "      <td>2024-02-21 03:45:00</td>\n",
       "      <td>2024-03-02 13:30:00</td>\n",
       "      <td>0.372534</td>\n",
       "    </tr>\n",
       "    <tr>\n",
       "      <th>min</th>\n",
       "      <td>2023-05-29 00:00:00</td>\n",
       "      <td>2023-06-04 00:00:00</td>\n",
       "      <td>0.128880</td>\n",
       "    </tr>\n",
       "    <tr>\n",
       "      <th>25%</th>\n",
       "      <td>2023-10-07 06:00:00</td>\n",
       "      <td>2023-10-20 06:00:00</td>\n",
       "      <td>0.325477</td>\n",
       "    </tr>\n",
       "    <tr>\n",
       "      <th>50%</th>\n",
       "      <td>2024-02-22 12:00:00</td>\n",
       "      <td>2024-03-01 12:00:00</td>\n",
       "      <td>0.361073</td>\n",
       "    </tr>\n",
       "    <tr>\n",
       "      <th>75%</th>\n",
       "      <td>2024-07-02 18:00:00</td>\n",
       "      <td>2024-07-15 18:00:00</td>\n",
       "      <td>0.422907</td>\n",
       "    </tr>\n",
       "    <tr>\n",
       "      <th>max</th>\n",
       "      <td>2024-11-18 00:00:00</td>\n",
       "      <td>2024-11-30 00:00:00</td>\n",
       "      <td>0.580645</td>\n",
       "    </tr>\n",
       "    <tr>\n",
       "      <th>std</th>\n",
       "      <td>NaN</td>\n",
       "      <td>NaN</td>\n",
       "      <td>0.077547</td>\n",
       "    </tr>\n",
       "  </tbody>\n",
       "</table>\n",
       "</div>"
      ],
      "text/plain": [
       "                start_date             end_date  sb_stack_score_FSPD30_gini\n",
       "count                   96                   96                   96.000000\n",
       "mean   2024-02-21 03:45:00  2024-03-02 13:30:00                    0.372534\n",
       "min    2023-05-29 00:00:00  2023-06-04 00:00:00                    0.128880\n",
       "25%    2023-10-07 06:00:00  2023-10-20 06:00:00                    0.325477\n",
       "50%    2024-02-22 12:00:00  2024-03-01 12:00:00                    0.361073\n",
       "75%    2024-07-02 18:00:00  2024-07-15 18:00:00                    0.422907\n",
       "max    2024-11-18 00:00:00  2024-11-30 00:00:00                    0.580645\n",
       "std                    NaN                  NaN                    0.077547"
      ]
     },
     "execution_count": 76,
     "metadata": {},
     "output_type": "execute_result"
    }
   ],
   "source": [
    "M3FSPD30.describe()"
   ]
  },
  {
   "cell_type": "code",
   "execution_count": 77,
   "metadata": {},
   "outputs": [
    {
     "data": {
      "application/vnd.microsoft.datawrangler.viewer.v0+json": {
       "columns": [
        {
         "name": "index",
         "rawType": "int64",
         "type": "integer"
        },
        {
         "name": "start_date",
         "rawType": "datetime64[ns]",
         "type": "datetime"
        },
        {
         "name": "end_date",
         "rawType": "datetime64[ns]",
         "type": "datetime"
        },
        {
         "name": "sb_stack_score_FSPD30_gini",
         "rawType": "float64",
         "type": "float"
        },
        {
         "name": "period",
         "rawType": "object",
         "type": "string"
        },
        {
         "name": "Model_Name",
         "rawType": "object",
         "type": "string"
        },
        {
         "name": "version",
         "rawType": "object",
         "type": "string"
        },
        {
         "name": "bad_rate",
         "rawType": "object",
         "type": "string"
        }
       ],
       "conversionMethod": "pd.DataFrame",
       "ref": "e29b0f5c-4e2a-4ada-ac37-5809f4259b4b",
       "rows": [
        [
         "91",
         "2024-10-28 00:00:00",
         "2024-11-03 00:00:00",
         "0.3325787066963539",
         "Week",
         "sb_stack_score",
         "1.1.0",
         "FSPD30"
        ],
        [
         "92",
         "2024-11-01 00:00:00",
         "2024-11-30 00:00:00",
         "0.3409765808912799",
         "Month",
         "sb_stack_score",
         "1.1.0",
         "FSPD30"
        ],
        [
         "93",
         "2024-11-04 00:00:00",
         "2024-11-10 00:00:00",
         "0.30987938275642435",
         "Week",
         "sb_stack_score",
         "1.1.0",
         "FSPD30"
        ],
        [
         "94",
         "2024-11-11 00:00:00",
         "2024-11-17 00:00:00",
         "0.3600120842330474",
         "Week",
         "sb_stack_score",
         "1.1.0",
         "FSPD30"
        ],
        [
         "95",
         "2024-11-18 00:00:00",
         "2024-11-24 00:00:00",
         "0.3022327742978377",
         "Week",
         "sb_stack_score",
         "1.1.0",
         "FSPD30"
        ]
       ],
       "shape": {
        "columns": 7,
        "rows": 5
       }
      },
      "text/html": [
       "<div>\n",
       "<style scoped>\n",
       "    .dataframe tbody tr th:only-of-type {\n",
       "        vertical-align: middle;\n",
       "    }\n",
       "\n",
       "    .dataframe tbody tr th {\n",
       "        vertical-align: top;\n",
       "    }\n",
       "\n",
       "    .dataframe thead th {\n",
       "        text-align: right;\n",
       "    }\n",
       "</style>\n",
       "<table border=\"1\" class=\"dataframe\">\n",
       "  <thead>\n",
       "    <tr style=\"text-align: right;\">\n",
       "      <th></th>\n",
       "      <th>start_date</th>\n",
       "      <th>end_date</th>\n",
       "      <th>sb_stack_score_FSPD30_gini</th>\n",
       "      <th>period</th>\n",
       "      <th>Model_Name</th>\n",
       "      <th>version</th>\n",
       "      <th>bad_rate</th>\n",
       "    </tr>\n",
       "  </thead>\n",
       "  <tbody>\n",
       "    <tr>\n",
       "      <th>91</th>\n",
       "      <td>2024-10-28</td>\n",
       "      <td>2024-11-03</td>\n",
       "      <td>0.332579</td>\n",
       "      <td>Week</td>\n",
       "      <td>sb_stack_score</td>\n",
       "      <td>1.1.0</td>\n",
       "      <td>FSPD30</td>\n",
       "    </tr>\n",
       "    <tr>\n",
       "      <th>92</th>\n",
       "      <td>2024-11-01</td>\n",
       "      <td>2024-11-30</td>\n",
       "      <td>0.340977</td>\n",
       "      <td>Month</td>\n",
       "      <td>sb_stack_score</td>\n",
       "      <td>1.1.0</td>\n",
       "      <td>FSPD30</td>\n",
       "    </tr>\n",
       "    <tr>\n",
       "      <th>93</th>\n",
       "      <td>2024-11-04</td>\n",
       "      <td>2024-11-10</td>\n",
       "      <td>0.309879</td>\n",
       "      <td>Week</td>\n",
       "      <td>sb_stack_score</td>\n",
       "      <td>1.1.0</td>\n",
       "      <td>FSPD30</td>\n",
       "    </tr>\n",
       "    <tr>\n",
       "      <th>94</th>\n",
       "      <td>2024-11-11</td>\n",
       "      <td>2024-11-17</td>\n",
       "      <td>0.360012</td>\n",
       "      <td>Week</td>\n",
       "      <td>sb_stack_score</td>\n",
       "      <td>1.1.0</td>\n",
       "      <td>FSPD30</td>\n",
       "    </tr>\n",
       "    <tr>\n",
       "      <th>95</th>\n",
       "      <td>2024-11-18</td>\n",
       "      <td>2024-11-24</td>\n",
       "      <td>0.302233</td>\n",
       "      <td>Week</td>\n",
       "      <td>sb_stack_score</td>\n",
       "      <td>1.1.0</td>\n",
       "      <td>FSPD30</td>\n",
       "    </tr>\n",
       "  </tbody>\n",
       "</table>\n",
       "</div>"
      ],
      "text/plain": [
       "   start_date   end_date  sb_stack_score_FSPD30_gini period      Model_Name  \\\n",
       "91 2024-10-28 2024-11-03                    0.332579   Week  sb_stack_score   \n",
       "92 2024-11-01 2024-11-30                    0.340977  Month  sb_stack_score   \n",
       "93 2024-11-04 2024-11-10                    0.309879   Week  sb_stack_score   \n",
       "94 2024-11-11 2024-11-17                    0.360012   Week  sb_stack_score   \n",
       "95 2024-11-18 2024-11-24                    0.302233   Week  sb_stack_score   \n",
       "\n",
       "   version bad_rate  \n",
       "91   1.1.0   FSPD30  \n",
       "92   1.1.0   FSPD30  \n",
       "93   1.1.0   FSPD30  \n",
       "94   1.1.0   FSPD30  \n",
       "95   1.1.0   FSPD30  "
      ]
     },
     "execution_count": 77,
     "metadata": {},
     "output_type": "execute_result"
    }
   ],
   "source": [
    "M3FSPD30.tail()"
   ]
  },
  {
   "cell_type": "markdown",
   "metadata": {},
   "source": [
    "## FSTPD30"
   ]
  },
  {
   "cell_type": "code",
   "execution_count": 78,
   "metadata": {},
   "outputs": [
    {
     "name": "stdout",
     "output_type": "stream",
     "text": [
      "Job ID ef1be34d-c730-4951-a9f3-e9d63a3ae395 successfully executed: 100%|\u001b[32m██████████\u001b[0m|"
     ]
    },
    {
     "name": "stderr",
     "output_type": "stream",
     "text": [
      "d:\\Anaconda3\\envs\\inc_env\\lib\\site-packages\\google\\cloud\\bigquery\\table.py:1820: UserWarning: BigQuery Storage module not found, fetch data with the REST endpoint instead.\n",
      "  warnings.warn(\n"
     ]
    },
    {
     "name": "stdout",
     "output_type": "stream",
     "text": [
      "\n",
      "Downloading: 100%|\u001b[32m██████████\u001b[0m|\n"
     ]
    },
    {
     "data": {
      "application/vnd.microsoft.datawrangler.viewer.v0+json": {
       "columns": [
        {
         "name": "index",
         "rawType": "int64",
         "type": "integer"
        },
        {
         "name": "disbursementdate",
         "rawType": "datetime64[us]",
         "type": "unknown"
        },
        {
         "name": "digitalLoanAccountId",
         "rawType": "object",
         "type": "string"
        },
        {
         "name": "sb_stack_score",
         "rawType": "float64",
         "type": "float"
        },
        {
         "name": "ln_fstpd30_flag",
         "rawType": "Int64",
         "type": "integer"
        },
        {
         "name": "ln_mature_fstpd30_flag",
         "rawType": "Int64",
         "type": "integer"
        }
       ],
       "conversionMethod": "pd.DataFrame",
       "ref": "a43a093b-3584-4d42-9516-3ee378518472",
       "rows": [
        [
         "0",
         "2023-06-01 10:40:18",
         "ac002041-b0be-446e-b173-65effe340651",
         "0.13337769970161573",
         "0",
         "1"
        ],
        [
         "1",
         "2023-06-01 10:42:34",
         "f91cba31-7630-477a-8cdd-d010b63c4900",
         "0.02009022669408563",
         "0",
         "1"
        ],
        [
         "2",
         "2023-06-01 12:17:20",
         "4fddb4fa-6e60-42b0-adec-295658bd1093",
         "0.04892996344463717",
         "0",
         "1"
        ],
        [
         "3",
         "2023-06-01 14:43:46",
         "4e78ebf3-256e-426c-8840-a7f9e1403a97",
         "0.08497247349117663",
         "0",
         "1"
        ],
        [
         "4",
         "2023-06-01 15:36:13",
         "a3dc185d-0118-4ebc-bf03-117fdd8f9c64",
         "0.08597590962736756",
         "0",
         "1"
        ]
       ],
       "shape": {
        "columns": 5,
        "rows": 5
       }
      },
      "text/html": [
       "<div>\n",
       "<style scoped>\n",
       "    .dataframe tbody tr th:only-of-type {\n",
       "        vertical-align: middle;\n",
       "    }\n",
       "\n",
       "    .dataframe tbody tr th {\n",
       "        vertical-align: top;\n",
       "    }\n",
       "\n",
       "    .dataframe thead th {\n",
       "        text-align: right;\n",
       "    }\n",
       "</style>\n",
       "<table border=\"1\" class=\"dataframe\">\n",
       "  <thead>\n",
       "    <tr style=\"text-align: right;\">\n",
       "      <th></th>\n",
       "      <th>disbursementdate</th>\n",
       "      <th>digitalLoanAccountId</th>\n",
       "      <th>sb_stack_score</th>\n",
       "      <th>ln_fstpd30_flag</th>\n",
       "      <th>ln_mature_fstpd30_flag</th>\n",
       "    </tr>\n",
       "  </thead>\n",
       "  <tbody>\n",
       "    <tr>\n",
       "      <th>0</th>\n",
       "      <td>2023-06-01 10:40:18</td>\n",
       "      <td>ac002041-b0be-446e-b173-65effe340651</td>\n",
       "      <td>0.133378</td>\n",
       "      <td>0</td>\n",
       "      <td>1</td>\n",
       "    </tr>\n",
       "    <tr>\n",
       "      <th>1</th>\n",
       "      <td>2023-06-01 10:42:34</td>\n",
       "      <td>f91cba31-7630-477a-8cdd-d010b63c4900</td>\n",
       "      <td>0.020090</td>\n",
       "      <td>0</td>\n",
       "      <td>1</td>\n",
       "    </tr>\n",
       "    <tr>\n",
       "      <th>2</th>\n",
       "      <td>2023-06-01 12:17:20</td>\n",
       "      <td>4fddb4fa-6e60-42b0-adec-295658bd1093</td>\n",
       "      <td>0.048930</td>\n",
       "      <td>0</td>\n",
       "      <td>1</td>\n",
       "    </tr>\n",
       "    <tr>\n",
       "      <th>3</th>\n",
       "      <td>2023-06-01 14:43:46</td>\n",
       "      <td>4e78ebf3-256e-426c-8840-a7f9e1403a97</td>\n",
       "      <td>0.084972</td>\n",
       "      <td>0</td>\n",
       "      <td>1</td>\n",
       "    </tr>\n",
       "    <tr>\n",
       "      <th>4</th>\n",
       "      <td>2023-06-01 15:36:13</td>\n",
       "      <td>a3dc185d-0118-4ebc-bf03-117fdd8f9c64</td>\n",
       "      <td>0.085976</td>\n",
       "      <td>0</td>\n",
       "      <td>1</td>\n",
       "    </tr>\n",
       "  </tbody>\n",
       "</table>\n",
       "</div>"
      ],
      "text/plain": [
       "     disbursementdate                  digitalLoanAccountId  sb_stack_score  \\\n",
       "0 2023-06-01 10:40:18  ac002041-b0be-446e-b173-65effe340651        0.133378   \n",
       "1 2023-06-01 10:42:34  f91cba31-7630-477a-8cdd-d010b63c4900        0.020090   \n",
       "2 2023-06-01 12:17:20  4fddb4fa-6e60-42b0-adec-295658bd1093        0.048930   \n",
       "3 2023-06-01 14:43:46  4e78ebf3-256e-426c-8840-a7f9e1403a97        0.084972   \n",
       "4 2023-06-01 15:36:13  a3dc185d-0118-4ebc-bf03-117fdd8f9c64        0.085976   \n",
       "\n",
       "   ln_fstpd30_flag  ln_mature_fstpd30_flag  \n",
       "0                0                       1  \n",
       "1                0                       1  \n",
       "2                0                       1  \n",
       "3                0                       1  \n",
       "4                0                       1  "
      ]
     },
     "execution_count": 78,
     "metadata": {},
     "output_type": "execute_result"
    }
   ],
   "source": [
    "# sb_stack_score\n",
    "\n",
    "sq = \"\"\"\n",
    "with sb_stack_score as \n",
    "(SELECT \n",
    "    ln_disb_dtime disbursementdate,\n",
    "\tdigitalLoanAccountId,\n",
    "    sb_stack_score,\n",
    "    ln_fstpd30_flag,\n",
    "\tln_mature_fstpd30_flag,\t\n",
    "\tFROM \n",
    "    prj-prod-dataplatform.risk_mart.sil_risk_ds_master_20230101_20250206\n",
    "  WHERE \n",
    "     -- ln_disb_dtime >= '2023-07-01'\n",
    "    ln_appln_submit_datetime >= '2023-06-01'\n",
    "  -- AND\n",
    "  --   format_date('%Y-%m', ln_disb_dtime) = '2024-09'\n",
    "  AND\n",
    "    ln_fstpd30_flag is not null\n",
    "  AND\n",
    "    sb_stack_score is not null\n",
    "  AND\n",
    "    ln_mature_fstpd30_flag = 1\n",
    ")\n",
    "select * from sb_stack_score;\n",
    "\"\"\"\n",
    "\n",
    "df_sb_stack_scorefstpd30 = client.query(sq).to_dataframe(progress_bar_type='tqdm')\n",
    "\n",
    "df_sb_stack_scorefstpd30.head()"
   ]
  },
  {
   "cell_type": "code",
   "execution_count": 79,
   "metadata": {},
   "outputs": [
    {
     "name": "stdout",
     "output_type": "stream",
     "text": [
      "The shape of dataframe after copy is:\t(90, 7)\n"
     ]
    },
    {
     "data": {
      "text/plain": [
       "array(['start_date', 'end_date', 'sb_stack_score_FSTPD30_gini', 'period',\n",
       "       'Model_Name', 'version', 'bad_rate'], dtype=object)"
      ]
     },
     "execution_count": 79,
     "metadata": {},
     "output_type": "execute_result"
    }
   ],
   "source": [
    "gini_results = calculate_periodic_gini(df_sb_stack_scorefstpd30, 'sb_stack_score', 'ln_fstpd30_flag', 'FSTPD30')\n",
    "M4FSTPD30 = gini_results.copy()\n",
    "print(f\"The shape of dataframe after copy is:\\t{M4FSTPD30.shape}\")\n",
    "M4FSTPD30.columns.values"
   ]
  },
  {
   "cell_type": "code",
   "execution_count": 80,
   "metadata": {},
   "outputs": [
    {
     "data": {
      "application/vnd.microsoft.datawrangler.viewer.v0+json": {
       "columns": [
        {
         "name": "index",
         "rawType": "object",
         "type": "string"
        },
        {
         "name": "start_date",
         "rawType": "object",
         "type": "unknown"
        },
        {
         "name": "end_date",
         "rawType": "object",
         "type": "unknown"
        },
        {
         "name": "sb_stack_score_FSTPD30_gini",
         "rawType": "float64",
         "type": "float"
        }
       ],
       "conversionMethod": "pd.DataFrame",
       "ref": "69f7c629-f76f-4f90-837d-66145a3541c7",
       "rows": [
        [
         "count",
         "90",
         "90",
         "90.0"
        ],
        [
         "mean",
         "2024-02-04 01:36:00",
         "2024-02-14 12:16:00",
         "0.34758711022124467"
        ],
        [
         "min",
         "2023-05-29 00:00:00",
         "2023-06-04 00:00:00",
         "0.14970536709667148"
        ],
        [
         "25%",
         "2023-10-01 06:00:00",
         "2023-10-09 18:00:00",
         "0.3107364560546655"
        ],
        [
         "50%",
         "2024-02-03 00:00:00",
         "2024-02-14 12:00:00",
         "0.338724955413109"
        ],
        [
         "75%",
         "2024-06-08 06:00:00",
         "2024-06-21 06:00:00",
         "0.38705537147038305"
        ],
        [
         "max",
         "2024-10-14 00:00:00",
         "2024-10-31 00:00:00",
         "0.5015924947960835"
        ],
        [
         "std",
         null,
         null,
         "0.0617462140799913"
        ]
       ],
       "shape": {
        "columns": 3,
        "rows": 8
       }
      },
      "text/html": [
       "<div>\n",
       "<style scoped>\n",
       "    .dataframe tbody tr th:only-of-type {\n",
       "        vertical-align: middle;\n",
       "    }\n",
       "\n",
       "    .dataframe tbody tr th {\n",
       "        vertical-align: top;\n",
       "    }\n",
       "\n",
       "    .dataframe thead th {\n",
       "        text-align: right;\n",
       "    }\n",
       "</style>\n",
       "<table border=\"1\" class=\"dataframe\">\n",
       "  <thead>\n",
       "    <tr style=\"text-align: right;\">\n",
       "      <th></th>\n",
       "      <th>start_date</th>\n",
       "      <th>end_date</th>\n",
       "      <th>sb_stack_score_FSTPD30_gini</th>\n",
       "    </tr>\n",
       "  </thead>\n",
       "  <tbody>\n",
       "    <tr>\n",
       "      <th>count</th>\n",
       "      <td>90</td>\n",
       "      <td>90</td>\n",
       "      <td>90.000000</td>\n",
       "    </tr>\n",
       "    <tr>\n",
       "      <th>mean</th>\n",
       "      <td>2024-02-04 01:36:00</td>\n",
       "      <td>2024-02-14 12:16:00</td>\n",
       "      <td>0.347587</td>\n",
       "    </tr>\n",
       "    <tr>\n",
       "      <th>min</th>\n",
       "      <td>2023-05-29 00:00:00</td>\n",
       "      <td>2023-06-04 00:00:00</td>\n",
       "      <td>0.149705</td>\n",
       "    </tr>\n",
       "    <tr>\n",
       "      <th>25%</th>\n",
       "      <td>2023-10-01 06:00:00</td>\n",
       "      <td>2023-10-09 18:00:00</td>\n",
       "      <td>0.310736</td>\n",
       "    </tr>\n",
       "    <tr>\n",
       "      <th>50%</th>\n",
       "      <td>2024-02-03 00:00:00</td>\n",
       "      <td>2024-02-14 12:00:00</td>\n",
       "      <td>0.338725</td>\n",
       "    </tr>\n",
       "    <tr>\n",
       "      <th>75%</th>\n",
       "      <td>2024-06-08 06:00:00</td>\n",
       "      <td>2024-06-21 06:00:00</td>\n",
       "      <td>0.387055</td>\n",
       "    </tr>\n",
       "    <tr>\n",
       "      <th>max</th>\n",
       "      <td>2024-10-14 00:00:00</td>\n",
       "      <td>2024-10-31 00:00:00</td>\n",
       "      <td>0.501592</td>\n",
       "    </tr>\n",
       "    <tr>\n",
       "      <th>std</th>\n",
       "      <td>NaN</td>\n",
       "      <td>NaN</td>\n",
       "      <td>0.061746</td>\n",
       "    </tr>\n",
       "  </tbody>\n",
       "</table>\n",
       "</div>"
      ],
      "text/plain": [
       "                start_date             end_date  sb_stack_score_FSTPD30_gini\n",
       "count                   90                   90                    90.000000\n",
       "mean   2024-02-04 01:36:00  2024-02-14 12:16:00                     0.347587\n",
       "min    2023-05-29 00:00:00  2023-06-04 00:00:00                     0.149705\n",
       "25%    2023-10-01 06:00:00  2023-10-09 18:00:00                     0.310736\n",
       "50%    2024-02-03 00:00:00  2024-02-14 12:00:00                     0.338725\n",
       "75%    2024-06-08 06:00:00  2024-06-21 06:00:00                     0.387055\n",
       "max    2024-10-14 00:00:00  2024-10-31 00:00:00                     0.501592\n",
       "std                    NaN                  NaN                     0.061746"
      ]
     },
     "execution_count": 80,
     "metadata": {},
     "output_type": "execute_result"
    }
   ],
   "source": [
    "M4FSTPD30.describe()"
   ]
  },
  {
   "cell_type": "code",
   "execution_count": 81,
   "metadata": {},
   "outputs": [
    {
     "data": {
      "application/vnd.microsoft.datawrangler.viewer.v0+json": {
       "columns": [
        {
         "name": "index",
         "rawType": "int64",
         "type": "integer"
        },
        {
         "name": "start_date",
         "rawType": "datetime64[ns]",
         "type": "datetime"
        },
        {
         "name": "end_date",
         "rawType": "datetime64[ns]",
         "type": "datetime"
        },
        {
         "name": "sb_stack_score_FSTPD30_gini",
         "rawType": "float64",
         "type": "float"
        },
        {
         "name": "period",
         "rawType": "object",
         "type": "string"
        },
        {
         "name": "Model_Name",
         "rawType": "object",
         "type": "string"
        },
        {
         "name": "version",
         "rawType": "object",
         "type": "string"
        },
        {
         "name": "bad_rate",
         "rawType": "object",
         "type": "string"
        }
       ],
       "conversionMethod": "pd.DataFrame",
       "ref": "0c27b3d8-9e25-4a88-ac66-e2a9d49be031",
       "rows": [
        [
         "85",
         "2024-09-23 00:00:00",
         "2024-09-29 00:00:00",
         "0.3308628658522752",
         "Week",
         "sb_stack_score",
         "1.1.0",
         "FSTPD30"
        ],
        [
         "86",
         "2024-09-30 00:00:00",
         "2024-10-06 00:00:00",
         "0.31766531686538935",
         "Week",
         "sb_stack_score",
         "1.1.0",
         "FSTPD30"
        ],
        [
         "87",
         "2024-10-01 00:00:00",
         "2024-10-31 00:00:00",
         "0.31040852791677964",
         "Month",
         "sb_stack_score",
         "1.1.0",
         "FSTPD30"
        ],
        [
         "88",
         "2024-10-07 00:00:00",
         "2024-10-13 00:00:00",
         "0.32973466713845",
         "Week",
         "sb_stack_score",
         "1.1.0",
         "FSTPD30"
        ],
        [
         "89",
         "2024-10-14 00:00:00",
         "2024-10-20 00:00:00",
         "0.29315876350540226",
         "Week",
         "sb_stack_score",
         "1.1.0",
         "FSTPD30"
        ]
       ],
       "shape": {
        "columns": 7,
        "rows": 5
       }
      },
      "text/html": [
       "<div>\n",
       "<style scoped>\n",
       "    .dataframe tbody tr th:only-of-type {\n",
       "        vertical-align: middle;\n",
       "    }\n",
       "\n",
       "    .dataframe tbody tr th {\n",
       "        vertical-align: top;\n",
       "    }\n",
       "\n",
       "    .dataframe thead th {\n",
       "        text-align: right;\n",
       "    }\n",
       "</style>\n",
       "<table border=\"1\" class=\"dataframe\">\n",
       "  <thead>\n",
       "    <tr style=\"text-align: right;\">\n",
       "      <th></th>\n",
       "      <th>start_date</th>\n",
       "      <th>end_date</th>\n",
       "      <th>sb_stack_score_FSTPD30_gini</th>\n",
       "      <th>period</th>\n",
       "      <th>Model_Name</th>\n",
       "      <th>version</th>\n",
       "      <th>bad_rate</th>\n",
       "    </tr>\n",
       "  </thead>\n",
       "  <tbody>\n",
       "    <tr>\n",
       "      <th>85</th>\n",
       "      <td>2024-09-23</td>\n",
       "      <td>2024-09-29</td>\n",
       "      <td>0.330863</td>\n",
       "      <td>Week</td>\n",
       "      <td>sb_stack_score</td>\n",
       "      <td>1.1.0</td>\n",
       "      <td>FSTPD30</td>\n",
       "    </tr>\n",
       "    <tr>\n",
       "      <th>86</th>\n",
       "      <td>2024-09-30</td>\n",
       "      <td>2024-10-06</td>\n",
       "      <td>0.317665</td>\n",
       "      <td>Week</td>\n",
       "      <td>sb_stack_score</td>\n",
       "      <td>1.1.0</td>\n",
       "      <td>FSTPD30</td>\n",
       "    </tr>\n",
       "    <tr>\n",
       "      <th>87</th>\n",
       "      <td>2024-10-01</td>\n",
       "      <td>2024-10-31</td>\n",
       "      <td>0.310409</td>\n",
       "      <td>Month</td>\n",
       "      <td>sb_stack_score</td>\n",
       "      <td>1.1.0</td>\n",
       "      <td>FSTPD30</td>\n",
       "    </tr>\n",
       "    <tr>\n",
       "      <th>88</th>\n",
       "      <td>2024-10-07</td>\n",
       "      <td>2024-10-13</td>\n",
       "      <td>0.329735</td>\n",
       "      <td>Week</td>\n",
       "      <td>sb_stack_score</td>\n",
       "      <td>1.1.0</td>\n",
       "      <td>FSTPD30</td>\n",
       "    </tr>\n",
       "    <tr>\n",
       "      <th>89</th>\n",
       "      <td>2024-10-14</td>\n",
       "      <td>2024-10-20</td>\n",
       "      <td>0.293159</td>\n",
       "      <td>Week</td>\n",
       "      <td>sb_stack_score</td>\n",
       "      <td>1.1.0</td>\n",
       "      <td>FSTPD30</td>\n",
       "    </tr>\n",
       "  </tbody>\n",
       "</table>\n",
       "</div>"
      ],
      "text/plain": [
       "   start_date   end_date  sb_stack_score_FSTPD30_gini period      Model_Name  \\\n",
       "85 2024-09-23 2024-09-29                     0.330863   Week  sb_stack_score   \n",
       "86 2024-09-30 2024-10-06                     0.317665   Week  sb_stack_score   \n",
       "87 2024-10-01 2024-10-31                     0.310409  Month  sb_stack_score   \n",
       "88 2024-10-07 2024-10-13                     0.329735   Week  sb_stack_score   \n",
       "89 2024-10-14 2024-10-20                     0.293159   Week  sb_stack_score   \n",
       "\n",
       "   version bad_rate  \n",
       "85   1.1.0  FSTPD30  \n",
       "86   1.1.0  FSTPD30  \n",
       "87   1.1.0  FSTPD30  \n",
       "88   1.1.0  FSTPD30  \n",
       "89   1.1.0  FSTPD30  "
      ]
     },
     "execution_count": 81,
     "metadata": {},
     "output_type": "execute_result"
    }
   ],
   "source": [
    "M4FSTPD30.tail()"
   ]
  },
  {
   "cell_type": "markdown",
   "metadata": {},
   "source": [
    "## Combining the dataframes"
   ]
  },
  {
   "cell_type": "code",
   "execution_count": 82,
   "metadata": {},
   "outputs": [
    {
     "data": {
      "text/plain": [
       "array(['start_date', 'end_date', 'sb_stack_score_FPD10_gini', 'period',\n",
       "       'Model_Name', 'version', 'bad_rate', 'sb_stack_score_FPD30_gini',\n",
       "       'sb_stack_score_FSPD30_gini', 'sb_stack_score_FSTPD30_gini'],\n",
       "      dtype=object)"
      ]
     },
     "execution_count": 82,
     "metadata": {},
     "output_type": "execute_result"
    }
   ],
   "source": [
    "import functools\n",
    "\n",
    "dataframes = [M1FPD10, M2FPD30, M3FSPD30, M4FSTPD30]\n",
    "common_columns = ['start_date', 'end_date', 'period', 'Model_Name','version', 'bad_rate']\n",
    "\n",
    "def merge_dataframes(df1, df2):\n",
    "    return pd.merge(df1, df2, on=common_columns, how='outer')\n",
    "\n",
    "final_df = functools.reduce(merge_dataframes, dataframes)\n",
    "\n",
    "final_df.columns.values"
   ]
  },
  {
   "cell_type": "code",
   "execution_count": 83,
   "metadata": {},
   "outputs": [],
   "source": [
    "final_df = final_df[['start_date', 'end_date', 'period', 'Model_Name', 'version', 'bad_rate', 'sb_stack_score_FPD10_gini', 'sb_stack_score_FPD30_gini',  'sb_stack_score_FSPD30_gini', 'sb_stack_score_FSTPD30_gini']].copy()"
   ]
  },
  {
   "cell_type": "markdown",
   "metadata": {},
   "source": [
    "## Creating the table "
   ]
  },
  {
   "cell_type": "code",
   "execution_count": 84,
   "metadata": {},
   "outputs": [
    {
     "data": {
      "text/plain": [
       "QueryJob<project=prj-prod-dataplatform, location=asia-southeast1, id=8e199684-d760-4848-9e5a-2752eb248fea>"
      ]
     },
     "execution_count": 84,
     "metadata": {},
     "output_type": "execute_result"
    }
   ],
   "source": [
    "sq = \"\"\"drop table if exists prj-prod-dataplatform.dap_ds_poweruser_playground.Model_gini_sb_stack_score;\"\"\"\n",
    "\n",
    "client.query(sq)"
   ]
  },
  {
   "cell_type": "code",
   "execution_count": 85,
   "metadata": {},
   "outputs": [
    {
     "data": {
      "text/plain": [
       "LoadJob<project=prj-prod-dataplatform, location=asia-southeast1, id=d2c38b40-9079-4ecd-8efa-5120e4657d56>"
      ]
     },
     "execution_count": 85,
     "metadata": {},
     "output_type": "execute_result"
    }
   ],
   "source": [
    "import pandas as pd\n",
    "from google.cloud import bigquery\n",
    "\n",
    "# Create a BigQuery client\n",
    "client = bigquery.Client('prj-prod-dataplatform')\n",
    "\n",
    "# Define your table schema\n",
    "table_schema = [\n",
    "    bigquery.SchemaField('start_date', 'TIMESTAMP'),\n",
    "    bigquery.SchemaField('end_date', 'TIMESTAMP'),\n",
    "    bigquery.SchemaField('period', 'STRING'),\n",
    "    bigquery.SchemaField('Model_Name', 'STRING'),\n",
    "    bigquery.SchemaField('version', 'STRING'),\n",
    "    bigquery.SchemaField('Badrate', 'STRING'),\n",
    "    bigquery.SchemaField('sb_stack_score_FPD10_gini', 'FLOAT'),\n",
    "    bigquery.SchemaField('sb_stack_score_FPD30_gini', 'FLOAT'),    \n",
    "    bigquery.SchemaField('sb_stack_score_FSPD30_gini', 'FLOAT'),\n",
    "    bigquery.SchemaField('sb_stack_score_FSTPD30_gini', 'FLOAT')\n",
    "    \n",
    "]\n",
    "\n",
    "# Create your BigQuery table\n",
    "table_id = 'prj-prod-dataplatform.dap_ds_poweruser_playground.Model_gini_sb_stack_score'\n",
    "table = bigquery.Table(table_id, schema=table_schema)\n",
    "table = client.create_table(table)\n",
    "\n",
    "# Load your DataFrame into BigQuery\n",
    "job_config = bigquery.LoadJobConfig(\n",
    "    write_disposition='WRITE_TRUNCATE'\n",
    ")\n",
    "\n",
    "load_job = client.load_table_from_dataframe(\n",
    "    final_df, table_id, job_config=job_config\n",
    ")\n",
    "\n",
    "load_job.result()"
   ]
  },
  {
   "cell_type": "markdown",
   "metadata": {},
   "source": [
    "# sa_stack_score"
   ]
  },
  {
   "cell_type": "markdown",
   "metadata": {},
   "source": [
    "## FPD10"
   ]
  },
  {
   "cell_type": "code",
   "execution_count": 86,
   "metadata": {},
   "outputs": [
    {
     "name": "stdout",
     "output_type": "stream",
     "text": [
      "Job ID 2f473982-5c97-4b49-a701-986ca9c469c7 successfully executed: 100%|\u001b[32m██████████\u001b[0m|"
     ]
    },
    {
     "name": "stderr",
     "output_type": "stream",
     "text": [
      "d:\\Anaconda3\\envs\\inc_env\\lib\\site-packages\\google\\cloud\\bigquery\\table.py:1820: UserWarning: BigQuery Storage module not found, fetch data with the REST endpoint instead.\n",
      "  warnings.warn(\n"
     ]
    },
    {
     "name": "stdout",
     "output_type": "stream",
     "text": [
      "\n",
      "Downloading: 100%|\u001b[32m██████████\u001b[0m|\n"
     ]
    },
    {
     "data": {
      "application/vnd.microsoft.datawrangler.viewer.v0+json": {
       "columns": [
        {
         "name": "index",
         "rawType": "int64",
         "type": "integer"
        },
        {
         "name": "disbursementdate",
         "rawType": "datetime64[us]",
         "type": "unknown"
        },
        {
         "name": "digitalLoanAccountId",
         "rawType": "object",
         "type": "string"
        },
        {
         "name": "sa_stack_score",
         "rawType": "float64",
         "type": "float"
        },
        {
         "name": "ln_fpd10_flag",
         "rawType": "Int64",
         "type": "integer"
        },
        {
         "name": "ln_mature_fpd10_flag",
         "rawType": "Int64",
         "type": "integer"
        }
       ],
       "conversionMethod": "pd.DataFrame",
       "ref": "c8ca5f53-0a8a-4777-bbc7-55a09533538b",
       "rows": [
        [
         "0",
         "2023-06-01 10:40:18",
         "ac002041-b0be-446e-b173-65effe340651",
         "0.12261188519492588",
         "0",
         "1"
        ],
        [
         "1",
         "2023-06-01 10:42:34",
         "f91cba31-7630-477a-8cdd-d010b63c4900",
         "0.02099213583984373",
         "0",
         "1"
        ],
        [
         "2",
         "2023-06-01 12:17:20",
         "4fddb4fa-6e60-42b0-adec-295658bd1093",
         "0.04317180020360538",
         "0",
         "1"
        ],
        [
         "3",
         "2023-06-01 14:43:46",
         "4e78ebf3-256e-426c-8840-a7f9e1403a97",
         "0.07667683232993837",
         "0",
         "1"
        ],
        [
         "4",
         "2023-06-01 15:36:13",
         "a3dc185d-0118-4ebc-bf03-117fdd8f9c64",
         "0.0746438544800379",
         "0",
         "1"
        ]
       ],
       "shape": {
        "columns": 5,
        "rows": 5
       }
      },
      "text/html": [
       "<div>\n",
       "<style scoped>\n",
       "    .dataframe tbody tr th:only-of-type {\n",
       "        vertical-align: middle;\n",
       "    }\n",
       "\n",
       "    .dataframe tbody tr th {\n",
       "        vertical-align: top;\n",
       "    }\n",
       "\n",
       "    .dataframe thead th {\n",
       "        text-align: right;\n",
       "    }\n",
       "</style>\n",
       "<table border=\"1\" class=\"dataframe\">\n",
       "  <thead>\n",
       "    <tr style=\"text-align: right;\">\n",
       "      <th></th>\n",
       "      <th>disbursementdate</th>\n",
       "      <th>digitalLoanAccountId</th>\n",
       "      <th>sa_stack_score</th>\n",
       "      <th>ln_fpd10_flag</th>\n",
       "      <th>ln_mature_fpd10_flag</th>\n",
       "    </tr>\n",
       "  </thead>\n",
       "  <tbody>\n",
       "    <tr>\n",
       "      <th>0</th>\n",
       "      <td>2023-06-01 10:40:18</td>\n",
       "      <td>ac002041-b0be-446e-b173-65effe340651</td>\n",
       "      <td>0.122612</td>\n",
       "      <td>0</td>\n",
       "      <td>1</td>\n",
       "    </tr>\n",
       "    <tr>\n",
       "      <th>1</th>\n",
       "      <td>2023-06-01 10:42:34</td>\n",
       "      <td>f91cba31-7630-477a-8cdd-d010b63c4900</td>\n",
       "      <td>0.020992</td>\n",
       "      <td>0</td>\n",
       "      <td>1</td>\n",
       "    </tr>\n",
       "    <tr>\n",
       "      <th>2</th>\n",
       "      <td>2023-06-01 12:17:20</td>\n",
       "      <td>4fddb4fa-6e60-42b0-adec-295658bd1093</td>\n",
       "      <td>0.043172</td>\n",
       "      <td>0</td>\n",
       "      <td>1</td>\n",
       "    </tr>\n",
       "    <tr>\n",
       "      <th>3</th>\n",
       "      <td>2023-06-01 14:43:46</td>\n",
       "      <td>4e78ebf3-256e-426c-8840-a7f9e1403a97</td>\n",
       "      <td>0.076677</td>\n",
       "      <td>0</td>\n",
       "      <td>1</td>\n",
       "    </tr>\n",
       "    <tr>\n",
       "      <th>4</th>\n",
       "      <td>2023-06-01 15:36:13</td>\n",
       "      <td>a3dc185d-0118-4ebc-bf03-117fdd8f9c64</td>\n",
       "      <td>0.074644</td>\n",
       "      <td>0</td>\n",
       "      <td>1</td>\n",
       "    </tr>\n",
       "  </tbody>\n",
       "</table>\n",
       "</div>"
      ],
      "text/plain": [
       "     disbursementdate                  digitalLoanAccountId  sa_stack_score  \\\n",
       "0 2023-06-01 10:40:18  ac002041-b0be-446e-b173-65effe340651        0.122612   \n",
       "1 2023-06-01 10:42:34  f91cba31-7630-477a-8cdd-d010b63c4900        0.020992   \n",
       "2 2023-06-01 12:17:20  4fddb4fa-6e60-42b0-adec-295658bd1093        0.043172   \n",
       "3 2023-06-01 14:43:46  4e78ebf3-256e-426c-8840-a7f9e1403a97        0.076677   \n",
       "4 2023-06-01 15:36:13  a3dc185d-0118-4ebc-bf03-117fdd8f9c64        0.074644   \n",
       "\n",
       "   ln_fpd10_flag  ln_mature_fpd10_flag  \n",
       "0              0                     1  \n",
       "1              0                     1  \n",
       "2              0                     1  \n",
       "3              0                     1  \n",
       "4              0                     1  "
      ]
     },
     "execution_count": 86,
     "metadata": {},
     "output_type": "execute_result"
    }
   ],
   "source": [
    "# sa_stack_score\n",
    "\n",
    "sq = \"\"\"\n",
    "with sa_stack_score as \n",
    "(SELECT \n",
    "    ln_disb_dtime disbursementdate,\n",
    "\tdigitalLoanAccountId,\n",
    "    sa_stack_score,\n",
    "    ln_fpd10_flag,\n",
    "\tln_mature_fpd10_flag,\t\n",
    "\tFROM \n",
    "    prj-prod-dataplatform.risk_mart.sil_risk_ds_master_20230101_20250206\n",
    "  WHERE \n",
    "     -- ln_disb_dtime >= '2023-07-01'\n",
    "    ln_appln_submit_datetime >= '2023-06-01'\n",
    "  -- AND\n",
    "  --   format_date('%Y-%m', ln_disb_dtime) = '2024-09'\n",
    "  AND\n",
    "    ln_fpd10_flag is not null\n",
    "  AND\n",
    "    sa_stack_score is not null\n",
    "  AND\n",
    "    ln_mature_fpd10_flag = 1\n",
    ")\n",
    "select * from sa_stack_score;\n",
    "\"\"\"\n",
    "\n",
    "sa_stack_scorefpd10 = client.query(sq).to_dataframe(progress_bar_type='tqdm')\n",
    "\n",
    "sa_stack_scorefpd10.head()"
   ]
  },
  {
   "cell_type": "code",
   "execution_count": 87,
   "metadata": {},
   "outputs": [
    {
     "data": {
      "application/vnd.microsoft.datawrangler.viewer.v0+json": {
       "columns": [
        {
         "name": "index",
         "rawType": "int64",
         "type": "integer"
        },
        {
         "name": "disbursementdate",
         "rawType": "datetime64[us]",
         "type": "unknown"
        },
        {
         "name": "digitalLoanAccountId",
         "rawType": "object",
         "type": "string"
        },
        {
         "name": "sa_stack_score",
         "rawType": "float64",
         "type": "float"
        },
        {
         "name": "ln_fpd10_flag",
         "rawType": "Int64",
         "type": "integer"
        },
        {
         "name": "ln_mature_fpd10_flag",
         "rawType": "Int64",
         "type": "integer"
        }
       ],
       "conversionMethod": "pd.DataFrame",
       "ref": "947f3a76-c979-4dce-84e2-66bc52441ebd",
       "rows": [
        [
         "0",
         "2023-06-01 10:40:18",
         "ac002041-b0be-446e-b173-65effe340651",
         "0.12261188519492588",
         "0",
         "1"
        ],
        [
         "1",
         "2023-06-01 10:42:34",
         "f91cba31-7630-477a-8cdd-d010b63c4900",
         "0.02099213583984373",
         "0",
         "1"
        ],
        [
         "2",
         "2023-06-01 12:17:20",
         "4fddb4fa-6e60-42b0-adec-295658bd1093",
         "0.04317180020360538",
         "0",
         "1"
        ],
        [
         "3",
         "2023-06-01 14:43:46",
         "4e78ebf3-256e-426c-8840-a7f9e1403a97",
         "0.07667683232993837",
         "0",
         "1"
        ],
        [
         "4",
         "2023-06-01 15:36:13",
         "a3dc185d-0118-4ebc-bf03-117fdd8f9c64",
         "0.0746438544800379",
         "0",
         "1"
        ]
       ],
       "shape": {
        "columns": 5,
        "rows": 5
       }
      },
      "text/html": [
       "<div>\n",
       "<style scoped>\n",
       "    .dataframe tbody tr th:only-of-type {\n",
       "        vertical-align: middle;\n",
       "    }\n",
       "\n",
       "    .dataframe tbody tr th {\n",
       "        vertical-align: top;\n",
       "    }\n",
       "\n",
       "    .dataframe thead th {\n",
       "        text-align: right;\n",
       "    }\n",
       "</style>\n",
       "<table border=\"1\" class=\"dataframe\">\n",
       "  <thead>\n",
       "    <tr style=\"text-align: right;\">\n",
       "      <th></th>\n",
       "      <th>disbursementdate</th>\n",
       "      <th>digitalLoanAccountId</th>\n",
       "      <th>sa_stack_score</th>\n",
       "      <th>ln_fpd10_flag</th>\n",
       "      <th>ln_mature_fpd10_flag</th>\n",
       "    </tr>\n",
       "  </thead>\n",
       "  <tbody>\n",
       "    <tr>\n",
       "      <th>0</th>\n",
       "      <td>2023-06-01 10:40:18</td>\n",
       "      <td>ac002041-b0be-446e-b173-65effe340651</td>\n",
       "      <td>0.122612</td>\n",
       "      <td>0</td>\n",
       "      <td>1</td>\n",
       "    </tr>\n",
       "    <tr>\n",
       "      <th>1</th>\n",
       "      <td>2023-06-01 10:42:34</td>\n",
       "      <td>f91cba31-7630-477a-8cdd-d010b63c4900</td>\n",
       "      <td>0.020992</td>\n",
       "      <td>0</td>\n",
       "      <td>1</td>\n",
       "    </tr>\n",
       "    <tr>\n",
       "      <th>2</th>\n",
       "      <td>2023-06-01 12:17:20</td>\n",
       "      <td>4fddb4fa-6e60-42b0-adec-295658bd1093</td>\n",
       "      <td>0.043172</td>\n",
       "      <td>0</td>\n",
       "      <td>1</td>\n",
       "    </tr>\n",
       "    <tr>\n",
       "      <th>3</th>\n",
       "      <td>2023-06-01 14:43:46</td>\n",
       "      <td>4e78ebf3-256e-426c-8840-a7f9e1403a97</td>\n",
       "      <td>0.076677</td>\n",
       "      <td>0</td>\n",
       "      <td>1</td>\n",
       "    </tr>\n",
       "    <tr>\n",
       "      <th>4</th>\n",
       "      <td>2023-06-01 15:36:13</td>\n",
       "      <td>a3dc185d-0118-4ebc-bf03-117fdd8f9c64</td>\n",
       "      <td>0.074644</td>\n",
       "      <td>0</td>\n",
       "      <td>1</td>\n",
       "    </tr>\n",
       "  </tbody>\n",
       "</table>\n",
       "</div>"
      ],
      "text/plain": [
       "     disbursementdate                  digitalLoanAccountId  sa_stack_score  \\\n",
       "0 2023-06-01 10:40:18  ac002041-b0be-446e-b173-65effe340651        0.122612   \n",
       "1 2023-06-01 10:42:34  f91cba31-7630-477a-8cdd-d010b63c4900        0.020992   \n",
       "2 2023-06-01 12:17:20  4fddb4fa-6e60-42b0-adec-295658bd1093        0.043172   \n",
       "3 2023-06-01 14:43:46  4e78ebf3-256e-426c-8840-a7f9e1403a97        0.076677   \n",
       "4 2023-06-01 15:36:13  a3dc185d-0118-4ebc-bf03-117fdd8f9c64        0.074644   \n",
       "\n",
       "   ln_fpd10_flag  ln_mature_fpd10_flag  \n",
       "0              0                     1  \n",
       "1              0                     1  \n",
       "2              0                     1  \n",
       "3              0                     1  \n",
       "4              0                     1  "
      ]
     },
     "execution_count": 87,
     "metadata": {},
     "output_type": "execute_result"
    }
   ],
   "source": [
    "sa_stack_scorefpd10.head()"
   ]
  },
  {
   "cell_type": "code",
   "execution_count": 88,
   "metadata": {},
   "outputs": [
    {
     "name": "stdout",
     "output_type": "stream",
     "text": [
      "The shape of dataframe after copy is:\t(105, 7)\n"
     ]
    },
    {
     "data": {
      "text/plain": [
       "array(['start_date', 'end_date', 'sa_stack_score_FPD10_gini', 'period',\n",
       "       'Model_Name', 'version', 'bad_rate'], dtype=object)"
      ]
     },
     "execution_count": 88,
     "metadata": {},
     "output_type": "execute_result"
    }
   ],
   "source": [
    "gini_results = calculate_periodic_gini(sa_stack_scorefpd10, 'sa_stack_score', 'ln_fpd10_flag', 'FPD10')\n",
    "M1FPD10 = gini_results.copy()\n",
    "print(f\"The shape of dataframe after copy is:\\t{M1FPD10.shape}\")\n",
    "M1FPD10.columns.values"
   ]
  },
  {
   "cell_type": "code",
   "execution_count": 89,
   "metadata": {},
   "outputs": [
    {
     "data": {
      "application/vnd.microsoft.datawrangler.viewer.v0+json": {
       "columns": [
        {
         "name": "index",
         "rawType": "object",
         "type": "string"
        },
        {
         "name": "start_date",
         "rawType": "object",
         "type": "unknown"
        },
        {
         "name": "end_date",
         "rawType": "object",
         "type": "unknown"
        },
        {
         "name": "sa_stack_score_FPD10_gini",
         "rawType": "float64",
         "type": "float"
        }
       ],
       "conversionMethod": "pd.DataFrame",
       "ref": "a52aa12f-b7b3-4ed6-b29a-6cca9a4ff210",
       "rows": [
        [
         "count",
         "105",
         "105",
         "105.0"
        ],
        [
         "mean",
         "2024-03-17 18:44:34.285714176",
         "2024-03-28 06:24:00",
         "0.37153108518041034"
        ],
        [
         "min",
         "2023-05-29 00:00:00",
         "2023-06-04 00:00:00",
         "-0.07030303030303031"
        ],
        [
         "25%",
         "2023-10-23 00:00:00",
         "2023-10-31 00:00:00",
         "0.32890225998036127"
        ],
        [
         "50%",
         "2024-03-18 00:00:00",
         "2024-03-31 00:00:00",
         "0.35705116449660745"
        ],
        [
         "75%",
         "2024-08-12 00:00:00",
         "2024-08-25 00:00:00",
         "0.4338743864346275"
        ],
        [
         "max",
         "2025-01-06 00:00:00",
         "2025-01-31 00:00:00",
         "0.6641285956006768"
        ],
        [
         "std",
         null,
         null,
         "0.0969579749826121"
        ]
       ],
       "shape": {
        "columns": 3,
        "rows": 8
       }
      },
      "text/html": [
       "<div>\n",
       "<style scoped>\n",
       "    .dataframe tbody tr th:only-of-type {\n",
       "        vertical-align: middle;\n",
       "    }\n",
       "\n",
       "    .dataframe tbody tr th {\n",
       "        vertical-align: top;\n",
       "    }\n",
       "\n",
       "    .dataframe thead th {\n",
       "        text-align: right;\n",
       "    }\n",
       "</style>\n",
       "<table border=\"1\" class=\"dataframe\">\n",
       "  <thead>\n",
       "    <tr style=\"text-align: right;\">\n",
       "      <th></th>\n",
       "      <th>start_date</th>\n",
       "      <th>end_date</th>\n",
       "      <th>sa_stack_score_FPD10_gini</th>\n",
       "    </tr>\n",
       "  </thead>\n",
       "  <tbody>\n",
       "    <tr>\n",
       "      <th>count</th>\n",
       "      <td>105</td>\n",
       "      <td>105</td>\n",
       "      <td>105.000000</td>\n",
       "    </tr>\n",
       "    <tr>\n",
       "      <th>mean</th>\n",
       "      <td>2024-03-17 18:44:34.285714176</td>\n",
       "      <td>2024-03-28 06:24:00</td>\n",
       "      <td>0.371531</td>\n",
       "    </tr>\n",
       "    <tr>\n",
       "      <th>min</th>\n",
       "      <td>2023-05-29 00:00:00</td>\n",
       "      <td>2023-06-04 00:00:00</td>\n",
       "      <td>-0.070303</td>\n",
       "    </tr>\n",
       "    <tr>\n",
       "      <th>25%</th>\n",
       "      <td>2023-10-23 00:00:00</td>\n",
       "      <td>2023-10-31 00:00:00</td>\n",
       "      <td>0.328902</td>\n",
       "    </tr>\n",
       "    <tr>\n",
       "      <th>50%</th>\n",
       "      <td>2024-03-18 00:00:00</td>\n",
       "      <td>2024-03-31 00:00:00</td>\n",
       "      <td>0.357051</td>\n",
       "    </tr>\n",
       "    <tr>\n",
       "      <th>75%</th>\n",
       "      <td>2024-08-12 00:00:00</td>\n",
       "      <td>2024-08-25 00:00:00</td>\n",
       "      <td>0.433874</td>\n",
       "    </tr>\n",
       "    <tr>\n",
       "      <th>max</th>\n",
       "      <td>2025-01-06 00:00:00</td>\n",
       "      <td>2025-01-31 00:00:00</td>\n",
       "      <td>0.664129</td>\n",
       "    </tr>\n",
       "    <tr>\n",
       "      <th>std</th>\n",
       "      <td>NaN</td>\n",
       "      <td>NaN</td>\n",
       "      <td>0.096958</td>\n",
       "    </tr>\n",
       "  </tbody>\n",
       "</table>\n",
       "</div>"
      ],
      "text/plain": [
       "                          start_date             end_date  \\\n",
       "count                            105                  105   \n",
       "mean   2024-03-17 18:44:34.285714176  2024-03-28 06:24:00   \n",
       "min              2023-05-29 00:00:00  2023-06-04 00:00:00   \n",
       "25%              2023-10-23 00:00:00  2023-10-31 00:00:00   \n",
       "50%              2024-03-18 00:00:00  2024-03-31 00:00:00   \n",
       "75%              2024-08-12 00:00:00  2024-08-25 00:00:00   \n",
       "max              2025-01-06 00:00:00  2025-01-31 00:00:00   \n",
       "std                              NaN                  NaN   \n",
       "\n",
       "       sa_stack_score_FPD10_gini  \n",
       "count                 105.000000  \n",
       "mean                    0.371531  \n",
       "min                    -0.070303  \n",
       "25%                     0.328902  \n",
       "50%                     0.357051  \n",
       "75%                     0.433874  \n",
       "max                     0.664129  \n",
       "std                     0.096958  "
      ]
     },
     "execution_count": 89,
     "metadata": {},
     "output_type": "execute_result"
    }
   ],
   "source": [
    "M1FPD10.describe()"
   ]
  },
  {
   "cell_type": "code",
   "execution_count": 90,
   "metadata": {},
   "outputs": [
    {
     "data": {
      "application/vnd.microsoft.datawrangler.viewer.v0+json": {
       "columns": [
        {
         "name": "index",
         "rawType": "int64",
         "type": "integer"
        },
        {
         "name": "start_date",
         "rawType": "datetime64[ns]",
         "type": "datetime"
        },
        {
         "name": "end_date",
         "rawType": "datetime64[ns]",
         "type": "datetime"
        },
        {
         "name": "sa_stack_score_FPD10_gini",
         "rawType": "float64",
         "type": "float"
        },
        {
         "name": "period",
         "rawType": "object",
         "type": "string"
        },
        {
         "name": "Model_Name",
         "rawType": "object",
         "type": "string"
        },
        {
         "name": "version",
         "rawType": "object",
         "type": "string"
        },
        {
         "name": "bad_rate",
         "rawType": "object",
         "type": "string"
        }
       ],
       "conversionMethod": "pd.DataFrame",
       "ref": "6a208966-6bcc-41aa-8a80-fef763a0d7e5",
       "rows": [
        [
         "0",
         "2023-05-29 00:00:00",
         "2023-06-04 00:00:00",
         "0.5813177648040033",
         "Week",
         "sa_stack_score",
         "1.1.0",
         "FPD10"
        ],
        [
         "1",
         "2023-06-01 00:00:00",
         "2023-06-30 00:00:00",
         "0.3602505259131765",
         "Month",
         "sa_stack_score",
         "1.1.0",
         "FPD10"
        ],
        [
         "2",
         "2023-06-05 00:00:00",
         "2023-06-11 00:00:00",
         "0.46662260409781897",
         "Week",
         "sa_stack_score",
         "1.1.0",
         "FPD10"
        ],
        [
         "3",
         "2023-06-12 00:00:00",
         "2023-06-18 00:00:00",
         "0.6641285956006768",
         "Week",
         "sa_stack_score",
         "1.1.0",
         "FPD10"
        ],
        [
         "4",
         "2023-06-19 00:00:00",
         "2023-06-25 00:00:00",
         "-0.07030303030303031",
         "Week",
         "sa_stack_score",
         "1.1.0",
         "FPD10"
        ]
       ],
       "shape": {
        "columns": 7,
        "rows": 5
       }
      },
      "text/html": [
       "<div>\n",
       "<style scoped>\n",
       "    .dataframe tbody tr th:only-of-type {\n",
       "        vertical-align: middle;\n",
       "    }\n",
       "\n",
       "    .dataframe tbody tr th {\n",
       "        vertical-align: top;\n",
       "    }\n",
       "\n",
       "    .dataframe thead th {\n",
       "        text-align: right;\n",
       "    }\n",
       "</style>\n",
       "<table border=\"1\" class=\"dataframe\">\n",
       "  <thead>\n",
       "    <tr style=\"text-align: right;\">\n",
       "      <th></th>\n",
       "      <th>start_date</th>\n",
       "      <th>end_date</th>\n",
       "      <th>sa_stack_score_FPD10_gini</th>\n",
       "      <th>period</th>\n",
       "      <th>Model_Name</th>\n",
       "      <th>version</th>\n",
       "      <th>bad_rate</th>\n",
       "    </tr>\n",
       "  </thead>\n",
       "  <tbody>\n",
       "    <tr>\n",
       "      <th>0</th>\n",
       "      <td>2023-05-29</td>\n",
       "      <td>2023-06-04</td>\n",
       "      <td>0.581318</td>\n",
       "      <td>Week</td>\n",
       "      <td>sa_stack_score</td>\n",
       "      <td>1.1.0</td>\n",
       "      <td>FPD10</td>\n",
       "    </tr>\n",
       "    <tr>\n",
       "      <th>1</th>\n",
       "      <td>2023-06-01</td>\n",
       "      <td>2023-06-30</td>\n",
       "      <td>0.360251</td>\n",
       "      <td>Month</td>\n",
       "      <td>sa_stack_score</td>\n",
       "      <td>1.1.0</td>\n",
       "      <td>FPD10</td>\n",
       "    </tr>\n",
       "    <tr>\n",
       "      <th>2</th>\n",
       "      <td>2023-06-05</td>\n",
       "      <td>2023-06-11</td>\n",
       "      <td>0.466623</td>\n",
       "      <td>Week</td>\n",
       "      <td>sa_stack_score</td>\n",
       "      <td>1.1.0</td>\n",
       "      <td>FPD10</td>\n",
       "    </tr>\n",
       "    <tr>\n",
       "      <th>3</th>\n",
       "      <td>2023-06-12</td>\n",
       "      <td>2023-06-18</td>\n",
       "      <td>0.664129</td>\n",
       "      <td>Week</td>\n",
       "      <td>sa_stack_score</td>\n",
       "      <td>1.1.0</td>\n",
       "      <td>FPD10</td>\n",
       "    </tr>\n",
       "    <tr>\n",
       "      <th>4</th>\n",
       "      <td>2023-06-19</td>\n",
       "      <td>2023-06-25</td>\n",
       "      <td>-0.070303</td>\n",
       "      <td>Week</td>\n",
       "      <td>sa_stack_score</td>\n",
       "      <td>1.1.0</td>\n",
       "      <td>FPD10</td>\n",
       "    </tr>\n",
       "  </tbody>\n",
       "</table>\n",
       "</div>"
      ],
      "text/plain": [
       "  start_date   end_date  sa_stack_score_FPD10_gini period      Model_Name  \\\n",
       "0 2023-05-29 2023-06-04                   0.581318   Week  sa_stack_score   \n",
       "1 2023-06-01 2023-06-30                   0.360251  Month  sa_stack_score   \n",
       "2 2023-06-05 2023-06-11                   0.466623   Week  sa_stack_score   \n",
       "3 2023-06-12 2023-06-18                   0.664129   Week  sa_stack_score   \n",
       "4 2023-06-19 2023-06-25                  -0.070303   Week  sa_stack_score   \n",
       "\n",
       "  version bad_rate  \n",
       "0   1.1.0    FPD10  \n",
       "1   1.1.0    FPD10  \n",
       "2   1.1.0    FPD10  \n",
       "3   1.1.0    FPD10  \n",
       "4   1.1.0    FPD10  "
      ]
     },
     "execution_count": 90,
     "metadata": {},
     "output_type": "execute_result"
    }
   ],
   "source": [
    "M1FPD10.head()"
   ]
  },
  {
   "cell_type": "markdown",
   "metadata": {},
   "source": [
    "## FPD30"
   ]
  },
  {
   "cell_type": "code",
   "execution_count": 91,
   "metadata": {},
   "outputs": [
    {
     "name": "stdout",
     "output_type": "stream",
     "text": [
      "Job ID 7b866dd3-6d4c-40d0-877b-14abf70a20e9 successfully executed: 100%|\u001b[32m██████████\u001b[0m|"
     ]
    },
    {
     "name": "stderr",
     "output_type": "stream",
     "text": [
      "d:\\Anaconda3\\envs\\inc_env\\lib\\site-packages\\google\\cloud\\bigquery\\table.py:1820: UserWarning: BigQuery Storage module not found, fetch data with the REST endpoint instead.\n",
      "  warnings.warn(\n"
     ]
    },
    {
     "name": "stdout",
     "output_type": "stream",
     "text": [
      "\n",
      "Downloading: 100%|\u001b[32m██████████\u001b[0m|\n"
     ]
    },
    {
     "data": {
      "application/vnd.microsoft.datawrangler.viewer.v0+json": {
       "columns": [
        {
         "name": "index",
         "rawType": "int64",
         "type": "integer"
        },
        {
         "name": "disbursementdate",
         "rawType": "datetime64[us]",
         "type": "unknown"
        },
        {
         "name": "digitalLoanAccountId",
         "rawType": "object",
         "type": "string"
        },
        {
         "name": "sa_stack_score",
         "rawType": "float64",
         "type": "float"
        },
        {
         "name": "ln_fpd30_flag",
         "rawType": "Int64",
         "type": "integer"
        },
        {
         "name": "ln_mature_fpd30_flag",
         "rawType": "Int64",
         "type": "integer"
        }
       ],
       "conversionMethod": "pd.DataFrame",
       "ref": "34f5b944-1bc7-4c55-9a3d-cbc9e5523323",
       "rows": [
        [
         "0",
         "2023-06-01 10:40:18",
         "ac002041-b0be-446e-b173-65effe340651",
         "0.12261188519492588",
         "0",
         "1"
        ],
        [
         "1",
         "2023-06-01 10:42:34",
         "f91cba31-7630-477a-8cdd-d010b63c4900",
         "0.02099213583984373",
         "0",
         "1"
        ],
        [
         "2",
         "2023-06-01 12:17:20",
         "4fddb4fa-6e60-42b0-adec-295658bd1093",
         "0.04317180020360538",
         "0",
         "1"
        ],
        [
         "3",
         "2023-06-01 14:43:46",
         "4e78ebf3-256e-426c-8840-a7f9e1403a97",
         "0.07667683232993837",
         "0",
         "1"
        ],
        [
         "4",
         "2023-06-01 15:36:13",
         "a3dc185d-0118-4ebc-bf03-117fdd8f9c64",
         "0.0746438544800379",
         "0",
         "1"
        ]
       ],
       "shape": {
        "columns": 5,
        "rows": 5
       }
      },
      "text/html": [
       "<div>\n",
       "<style scoped>\n",
       "    .dataframe tbody tr th:only-of-type {\n",
       "        vertical-align: middle;\n",
       "    }\n",
       "\n",
       "    .dataframe tbody tr th {\n",
       "        vertical-align: top;\n",
       "    }\n",
       "\n",
       "    .dataframe thead th {\n",
       "        text-align: right;\n",
       "    }\n",
       "</style>\n",
       "<table border=\"1\" class=\"dataframe\">\n",
       "  <thead>\n",
       "    <tr style=\"text-align: right;\">\n",
       "      <th></th>\n",
       "      <th>disbursementdate</th>\n",
       "      <th>digitalLoanAccountId</th>\n",
       "      <th>sa_stack_score</th>\n",
       "      <th>ln_fpd30_flag</th>\n",
       "      <th>ln_mature_fpd30_flag</th>\n",
       "    </tr>\n",
       "  </thead>\n",
       "  <tbody>\n",
       "    <tr>\n",
       "      <th>0</th>\n",
       "      <td>2023-06-01 10:40:18</td>\n",
       "      <td>ac002041-b0be-446e-b173-65effe340651</td>\n",
       "      <td>0.122612</td>\n",
       "      <td>0</td>\n",
       "      <td>1</td>\n",
       "    </tr>\n",
       "    <tr>\n",
       "      <th>1</th>\n",
       "      <td>2023-06-01 10:42:34</td>\n",
       "      <td>f91cba31-7630-477a-8cdd-d010b63c4900</td>\n",
       "      <td>0.020992</td>\n",
       "      <td>0</td>\n",
       "      <td>1</td>\n",
       "    </tr>\n",
       "    <tr>\n",
       "      <th>2</th>\n",
       "      <td>2023-06-01 12:17:20</td>\n",
       "      <td>4fddb4fa-6e60-42b0-adec-295658bd1093</td>\n",
       "      <td>0.043172</td>\n",
       "      <td>0</td>\n",
       "      <td>1</td>\n",
       "    </tr>\n",
       "    <tr>\n",
       "      <th>3</th>\n",
       "      <td>2023-06-01 14:43:46</td>\n",
       "      <td>4e78ebf3-256e-426c-8840-a7f9e1403a97</td>\n",
       "      <td>0.076677</td>\n",
       "      <td>0</td>\n",
       "      <td>1</td>\n",
       "    </tr>\n",
       "    <tr>\n",
       "      <th>4</th>\n",
       "      <td>2023-06-01 15:36:13</td>\n",
       "      <td>a3dc185d-0118-4ebc-bf03-117fdd8f9c64</td>\n",
       "      <td>0.074644</td>\n",
       "      <td>0</td>\n",
       "      <td>1</td>\n",
       "    </tr>\n",
       "  </tbody>\n",
       "</table>\n",
       "</div>"
      ],
      "text/plain": [
       "     disbursementdate                  digitalLoanAccountId  sa_stack_score  \\\n",
       "0 2023-06-01 10:40:18  ac002041-b0be-446e-b173-65effe340651        0.122612   \n",
       "1 2023-06-01 10:42:34  f91cba31-7630-477a-8cdd-d010b63c4900        0.020992   \n",
       "2 2023-06-01 12:17:20  4fddb4fa-6e60-42b0-adec-295658bd1093        0.043172   \n",
       "3 2023-06-01 14:43:46  4e78ebf3-256e-426c-8840-a7f9e1403a97        0.076677   \n",
       "4 2023-06-01 15:36:13  a3dc185d-0118-4ebc-bf03-117fdd8f9c64        0.074644   \n",
       "\n",
       "   ln_fpd30_flag  ln_mature_fpd30_flag  \n",
       "0              0                     1  \n",
       "1              0                     1  \n",
       "2              0                     1  \n",
       "3              0                     1  \n",
       "4              0                     1  "
      ]
     },
     "execution_count": 91,
     "metadata": {},
     "output_type": "execute_result"
    }
   ],
   "source": [
    "# sa_stack_score\n",
    "\n",
    "sq = \"\"\"\n",
    "with sa_stack_score as \n",
    "(SELECT \n",
    "    ln_disb_dtime disbursementdate,\n",
    "\tdigitalLoanAccountId,\n",
    "    sa_stack_score,\n",
    "    ln_fpd30_flag,\n",
    "\tln_mature_fpd30_flag,\t\n",
    "\tFROM \n",
    "    prj-prod-dataplatform.risk_mart.sil_risk_ds_master_20230101_20250206\n",
    "  WHERE \n",
    "     -- ln_disb_dtime >= '2023-07-01'\n",
    "    ln_appln_submit_datetime >= '2023-06-01'\n",
    "  -- AND\n",
    "  --   format_date('%Y-%m', ln_disb_dtime) = '2024-09'\n",
    "  AND\n",
    "    ln_fpd30_flag is not null\n",
    "  AND\n",
    "    sa_stack_score is not null\n",
    "  AND\n",
    "    ln_mature_fpd30_flag = 1\n",
    ")\n",
    "select * from sa_stack_score;\n",
    "\"\"\"\n",
    "\n",
    "sa_stack_scorefpd30 = client.query(sq).to_dataframe(progress_bar_type='tqdm')\n",
    "\n",
    "sa_stack_scorefpd30.head()"
   ]
  },
  {
   "cell_type": "code",
   "execution_count": 92,
   "metadata": {},
   "outputs": [
    {
     "data": {
      "application/vnd.microsoft.datawrangler.viewer.v0+json": {
       "columns": [
        {
         "name": "index",
         "rawType": "int64",
         "type": "integer"
        },
        {
         "name": "disbursementdate",
         "rawType": "datetime64[us]",
         "type": "unknown"
        },
        {
         "name": "digitalLoanAccountId",
         "rawType": "object",
         "type": "string"
        },
        {
         "name": "sa_stack_score",
         "rawType": "float64",
         "type": "float"
        },
        {
         "name": "ln_fpd30_flag",
         "rawType": "Int64",
         "type": "integer"
        },
        {
         "name": "ln_mature_fpd30_flag",
         "rawType": "Int64",
         "type": "integer"
        }
       ],
       "conversionMethod": "pd.DataFrame",
       "ref": "b3f633fa-b23b-4f08-a944-71be4f989eb8",
       "rows": [
        [
         "0",
         "2023-06-01 10:40:18",
         "ac002041-b0be-446e-b173-65effe340651",
         "0.12261188519492588",
         "0",
         "1"
        ],
        [
         "1",
         "2023-06-01 10:42:34",
         "f91cba31-7630-477a-8cdd-d010b63c4900",
         "0.02099213583984373",
         "0",
         "1"
        ],
        [
         "2",
         "2023-06-01 12:17:20",
         "4fddb4fa-6e60-42b0-adec-295658bd1093",
         "0.04317180020360538",
         "0",
         "1"
        ],
        [
         "3",
         "2023-06-01 14:43:46",
         "4e78ebf3-256e-426c-8840-a7f9e1403a97",
         "0.07667683232993837",
         "0",
         "1"
        ],
        [
         "4",
         "2023-06-01 15:36:13",
         "a3dc185d-0118-4ebc-bf03-117fdd8f9c64",
         "0.0746438544800379",
         "0",
         "1"
        ]
       ],
       "shape": {
        "columns": 5,
        "rows": 5
       }
      },
      "text/html": [
       "<div>\n",
       "<style scoped>\n",
       "    .dataframe tbody tr th:only-of-type {\n",
       "        vertical-align: middle;\n",
       "    }\n",
       "\n",
       "    .dataframe tbody tr th {\n",
       "        vertical-align: top;\n",
       "    }\n",
       "\n",
       "    .dataframe thead th {\n",
       "        text-align: right;\n",
       "    }\n",
       "</style>\n",
       "<table border=\"1\" class=\"dataframe\">\n",
       "  <thead>\n",
       "    <tr style=\"text-align: right;\">\n",
       "      <th></th>\n",
       "      <th>disbursementdate</th>\n",
       "      <th>digitalLoanAccountId</th>\n",
       "      <th>sa_stack_score</th>\n",
       "      <th>ln_fpd30_flag</th>\n",
       "      <th>ln_mature_fpd30_flag</th>\n",
       "    </tr>\n",
       "  </thead>\n",
       "  <tbody>\n",
       "    <tr>\n",
       "      <th>0</th>\n",
       "      <td>2023-06-01 10:40:18</td>\n",
       "      <td>ac002041-b0be-446e-b173-65effe340651</td>\n",
       "      <td>0.122612</td>\n",
       "      <td>0</td>\n",
       "      <td>1</td>\n",
       "    </tr>\n",
       "    <tr>\n",
       "      <th>1</th>\n",
       "      <td>2023-06-01 10:42:34</td>\n",
       "      <td>f91cba31-7630-477a-8cdd-d010b63c4900</td>\n",
       "      <td>0.020992</td>\n",
       "      <td>0</td>\n",
       "      <td>1</td>\n",
       "    </tr>\n",
       "    <tr>\n",
       "      <th>2</th>\n",
       "      <td>2023-06-01 12:17:20</td>\n",
       "      <td>4fddb4fa-6e60-42b0-adec-295658bd1093</td>\n",
       "      <td>0.043172</td>\n",
       "      <td>0</td>\n",
       "      <td>1</td>\n",
       "    </tr>\n",
       "    <tr>\n",
       "      <th>3</th>\n",
       "      <td>2023-06-01 14:43:46</td>\n",
       "      <td>4e78ebf3-256e-426c-8840-a7f9e1403a97</td>\n",
       "      <td>0.076677</td>\n",
       "      <td>0</td>\n",
       "      <td>1</td>\n",
       "    </tr>\n",
       "    <tr>\n",
       "      <th>4</th>\n",
       "      <td>2023-06-01 15:36:13</td>\n",
       "      <td>a3dc185d-0118-4ebc-bf03-117fdd8f9c64</td>\n",
       "      <td>0.074644</td>\n",
       "      <td>0</td>\n",
       "      <td>1</td>\n",
       "    </tr>\n",
       "  </tbody>\n",
       "</table>\n",
       "</div>"
      ],
      "text/plain": [
       "     disbursementdate                  digitalLoanAccountId  sa_stack_score  \\\n",
       "0 2023-06-01 10:40:18  ac002041-b0be-446e-b173-65effe340651        0.122612   \n",
       "1 2023-06-01 10:42:34  f91cba31-7630-477a-8cdd-d010b63c4900        0.020992   \n",
       "2 2023-06-01 12:17:20  4fddb4fa-6e60-42b0-adec-295658bd1093        0.043172   \n",
       "3 2023-06-01 14:43:46  4e78ebf3-256e-426c-8840-a7f9e1403a97        0.076677   \n",
       "4 2023-06-01 15:36:13  a3dc185d-0118-4ebc-bf03-117fdd8f9c64        0.074644   \n",
       "\n",
       "   ln_fpd30_flag  ln_mature_fpd30_flag  \n",
       "0              0                     1  \n",
       "1              0                     1  \n",
       "2              0                     1  \n",
       "3              0                     1  \n",
       "4              0                     1  "
      ]
     },
     "execution_count": 92,
     "metadata": {},
     "output_type": "execute_result"
    }
   ],
   "source": [
    "sa_stack_scorefpd30.head()"
   ]
  },
  {
   "cell_type": "code",
   "execution_count": 93,
   "metadata": {},
   "outputs": [
    {
     "name": "stdout",
     "output_type": "stream",
     "text": [
      "The shape of dataframe after copy is:\t(101, 7)\n"
     ]
    },
    {
     "data": {
      "text/plain": [
       "array(['start_date', 'end_date', 'sa_stack_score_FPD30_gini', 'period',\n",
       "       'Model_Name', 'version', 'bad_rate'], dtype=object)"
      ]
     },
     "execution_count": 93,
     "metadata": {},
     "output_type": "execute_result"
    }
   ],
   "source": [
    "gini_results = calculate_periodic_gini(sa_stack_scorefpd30, 'sa_stack_score', 'ln_fpd30_flag', 'FPD30')\n",
    "M2FPD30 = gini_results.copy()\n",
    "print(f\"The shape of dataframe after copy is:\\t{M2FPD30.shape}\")\n",
    "M2FPD30.columns.values"
   ]
  },
  {
   "cell_type": "code",
   "execution_count": 94,
   "metadata": {},
   "outputs": [
    {
     "data": {
      "application/vnd.microsoft.datawrangler.viewer.v0+json": {
       "columns": [
        {
         "name": "index",
         "rawType": "object",
         "type": "string"
        },
        {
         "name": "start_date",
         "rawType": "object",
         "type": "unknown"
        },
        {
         "name": "end_date",
         "rawType": "object",
         "type": "unknown"
        },
        {
         "name": "sa_stack_score_FPD30_gini",
         "rawType": "float64",
         "type": "float"
        }
       ],
       "conversionMethod": "pd.DataFrame",
       "ref": "881bbf9c-739e-4558-8715-145fe3573cf8",
       "rows": [
        [
         "count",
         "101",
         "101",
         "101.0"
        ],
        [
         "mean",
         "2024-03-06 09:16:02.376237568",
         "2024-03-16 19:29:06.534653440",
         "0.39682698299253844"
        ],
        [
         "min",
         "2023-05-29 00:00:00",
         "2023-06-04 00:00:00",
         "-0.012048192771084265"
        ],
        [
         "25%",
         "2023-10-16 00:00:00",
         "2023-10-29 00:00:00",
         "0.35826297583884426"
        ],
        [
         "50%",
         "2024-03-04 00:00:00",
         "2024-03-17 00:00:00",
         "0.38650548954730013"
        ],
        [
         "75%",
         "2024-07-29 00:00:00",
         "2024-08-04 00:00:00",
         "0.45436386335262746"
        ],
        [
         "max",
         "2024-12-16 00:00:00",
         "2024-12-31 00:00:00",
         "0.6336088154269972"
        ],
        [
         "std",
         null,
         null,
         "0.09377018703370385"
        ]
       ],
       "shape": {
        "columns": 3,
        "rows": 8
       }
      },
      "text/html": [
       "<div>\n",
       "<style scoped>\n",
       "    .dataframe tbody tr th:only-of-type {\n",
       "        vertical-align: middle;\n",
       "    }\n",
       "\n",
       "    .dataframe tbody tr th {\n",
       "        vertical-align: top;\n",
       "    }\n",
       "\n",
       "    .dataframe thead th {\n",
       "        text-align: right;\n",
       "    }\n",
       "</style>\n",
       "<table border=\"1\" class=\"dataframe\">\n",
       "  <thead>\n",
       "    <tr style=\"text-align: right;\">\n",
       "      <th></th>\n",
       "      <th>start_date</th>\n",
       "      <th>end_date</th>\n",
       "      <th>sa_stack_score_FPD30_gini</th>\n",
       "    </tr>\n",
       "  </thead>\n",
       "  <tbody>\n",
       "    <tr>\n",
       "      <th>count</th>\n",
       "      <td>101</td>\n",
       "      <td>101</td>\n",
       "      <td>101.000000</td>\n",
       "    </tr>\n",
       "    <tr>\n",
       "      <th>mean</th>\n",
       "      <td>2024-03-06 09:16:02.376237568</td>\n",
       "      <td>2024-03-16 19:29:06.534653440</td>\n",
       "      <td>0.396827</td>\n",
       "    </tr>\n",
       "    <tr>\n",
       "      <th>min</th>\n",
       "      <td>2023-05-29 00:00:00</td>\n",
       "      <td>2023-06-04 00:00:00</td>\n",
       "      <td>-0.012048</td>\n",
       "    </tr>\n",
       "    <tr>\n",
       "      <th>25%</th>\n",
       "      <td>2023-10-16 00:00:00</td>\n",
       "      <td>2023-10-29 00:00:00</td>\n",
       "      <td>0.358263</td>\n",
       "    </tr>\n",
       "    <tr>\n",
       "      <th>50%</th>\n",
       "      <td>2024-03-04 00:00:00</td>\n",
       "      <td>2024-03-17 00:00:00</td>\n",
       "      <td>0.386505</td>\n",
       "    </tr>\n",
       "    <tr>\n",
       "      <th>75%</th>\n",
       "      <td>2024-07-29 00:00:00</td>\n",
       "      <td>2024-08-04 00:00:00</td>\n",
       "      <td>0.454364</td>\n",
       "    </tr>\n",
       "    <tr>\n",
       "      <th>max</th>\n",
       "      <td>2024-12-16 00:00:00</td>\n",
       "      <td>2024-12-31 00:00:00</td>\n",
       "      <td>0.633609</td>\n",
       "    </tr>\n",
       "    <tr>\n",
       "      <th>std</th>\n",
       "      <td>NaN</td>\n",
       "      <td>NaN</td>\n",
       "      <td>0.093770</td>\n",
       "    </tr>\n",
       "  </tbody>\n",
       "</table>\n",
       "</div>"
      ],
      "text/plain": [
       "                          start_date                       end_date  \\\n",
       "count                            101                            101   \n",
       "mean   2024-03-06 09:16:02.376237568  2024-03-16 19:29:06.534653440   \n",
       "min              2023-05-29 00:00:00            2023-06-04 00:00:00   \n",
       "25%              2023-10-16 00:00:00            2023-10-29 00:00:00   \n",
       "50%              2024-03-04 00:00:00            2024-03-17 00:00:00   \n",
       "75%              2024-07-29 00:00:00            2024-08-04 00:00:00   \n",
       "max              2024-12-16 00:00:00            2024-12-31 00:00:00   \n",
       "std                              NaN                            NaN   \n",
       "\n",
       "       sa_stack_score_FPD30_gini  \n",
       "count                 101.000000  \n",
       "mean                    0.396827  \n",
       "min                    -0.012048  \n",
       "25%                     0.358263  \n",
       "50%                     0.386505  \n",
       "75%                     0.454364  \n",
       "max                     0.633609  \n",
       "std                     0.093770  "
      ]
     },
     "execution_count": 94,
     "metadata": {},
     "output_type": "execute_result"
    }
   ],
   "source": [
    "M2FPD30.describe()"
   ]
  },
  {
   "cell_type": "code",
   "execution_count": 95,
   "metadata": {},
   "outputs": [
    {
     "data": {
      "application/vnd.microsoft.datawrangler.viewer.v0+json": {
       "columns": [
        {
         "name": "index",
         "rawType": "int64",
         "type": "integer"
        },
        {
         "name": "start_date",
         "rawType": "datetime64[ns]",
         "type": "datetime"
        },
        {
         "name": "end_date",
         "rawType": "datetime64[ns]",
         "type": "datetime"
        },
        {
         "name": "sa_stack_score_FPD30_gini",
         "rawType": "float64",
         "type": "float"
        },
        {
         "name": "period",
         "rawType": "object",
         "type": "string"
        },
        {
         "name": "Model_Name",
         "rawType": "object",
         "type": "string"
        },
        {
         "name": "version",
         "rawType": "object",
         "type": "string"
        },
        {
         "name": "bad_rate",
         "rawType": "object",
         "type": "string"
        }
       ],
       "conversionMethod": "pd.DataFrame",
       "ref": "fd51004c-01af-43e4-a23d-6e01b6e5c45e",
       "rows": [
        [
         "0",
         "2023-05-29 00:00:00",
         "2023-06-04 00:00:00",
         "0.5490909090909091",
         "Week",
         "sa_stack_score",
         "1.1.0",
         "FPD30"
        ],
        [
         "1",
         "2023-06-01 00:00:00",
         "2023-06-30 00:00:00",
         "0.35383798140770284",
         "Month",
         "sa_stack_score",
         "1.1.0",
         "FPD30"
        ],
        [
         "2",
         "2023-06-05 00:00:00",
         "2023-06-11 00:00:00",
         "0.4244444444444444",
         "Week",
         "sa_stack_score",
         "1.1.0",
         "FPD30"
        ],
        [
         "3",
         "2023-06-12 00:00:00",
         "2023-06-18 00:00:00",
         "0.6336088154269972",
         "Week",
         "sa_stack_score",
         "1.1.0",
         "FPD30"
        ],
        [
         "4",
         "2023-06-19 00:00:00",
         "2023-06-25 00:00:00",
         "-0.012048192771084265",
         "Week",
         "sa_stack_score",
         "1.1.0",
         "FPD30"
        ]
       ],
       "shape": {
        "columns": 7,
        "rows": 5
       }
      },
      "text/html": [
       "<div>\n",
       "<style scoped>\n",
       "    .dataframe tbody tr th:only-of-type {\n",
       "        vertical-align: middle;\n",
       "    }\n",
       "\n",
       "    .dataframe tbody tr th {\n",
       "        vertical-align: top;\n",
       "    }\n",
       "\n",
       "    .dataframe thead th {\n",
       "        text-align: right;\n",
       "    }\n",
       "</style>\n",
       "<table border=\"1\" class=\"dataframe\">\n",
       "  <thead>\n",
       "    <tr style=\"text-align: right;\">\n",
       "      <th></th>\n",
       "      <th>start_date</th>\n",
       "      <th>end_date</th>\n",
       "      <th>sa_stack_score_FPD30_gini</th>\n",
       "      <th>period</th>\n",
       "      <th>Model_Name</th>\n",
       "      <th>version</th>\n",
       "      <th>bad_rate</th>\n",
       "    </tr>\n",
       "  </thead>\n",
       "  <tbody>\n",
       "    <tr>\n",
       "      <th>0</th>\n",
       "      <td>2023-05-29</td>\n",
       "      <td>2023-06-04</td>\n",
       "      <td>0.549091</td>\n",
       "      <td>Week</td>\n",
       "      <td>sa_stack_score</td>\n",
       "      <td>1.1.0</td>\n",
       "      <td>FPD30</td>\n",
       "    </tr>\n",
       "    <tr>\n",
       "      <th>1</th>\n",
       "      <td>2023-06-01</td>\n",
       "      <td>2023-06-30</td>\n",
       "      <td>0.353838</td>\n",
       "      <td>Month</td>\n",
       "      <td>sa_stack_score</td>\n",
       "      <td>1.1.0</td>\n",
       "      <td>FPD30</td>\n",
       "    </tr>\n",
       "    <tr>\n",
       "      <th>2</th>\n",
       "      <td>2023-06-05</td>\n",
       "      <td>2023-06-11</td>\n",
       "      <td>0.424444</td>\n",
       "      <td>Week</td>\n",
       "      <td>sa_stack_score</td>\n",
       "      <td>1.1.0</td>\n",
       "      <td>FPD30</td>\n",
       "    </tr>\n",
       "    <tr>\n",
       "      <th>3</th>\n",
       "      <td>2023-06-12</td>\n",
       "      <td>2023-06-18</td>\n",
       "      <td>0.633609</td>\n",
       "      <td>Week</td>\n",
       "      <td>sa_stack_score</td>\n",
       "      <td>1.1.0</td>\n",
       "      <td>FPD30</td>\n",
       "    </tr>\n",
       "    <tr>\n",
       "      <th>4</th>\n",
       "      <td>2023-06-19</td>\n",
       "      <td>2023-06-25</td>\n",
       "      <td>-0.012048</td>\n",
       "      <td>Week</td>\n",
       "      <td>sa_stack_score</td>\n",
       "      <td>1.1.0</td>\n",
       "      <td>FPD30</td>\n",
       "    </tr>\n",
       "  </tbody>\n",
       "</table>\n",
       "</div>"
      ],
      "text/plain": [
       "  start_date   end_date  sa_stack_score_FPD30_gini period      Model_Name  \\\n",
       "0 2023-05-29 2023-06-04                   0.549091   Week  sa_stack_score   \n",
       "1 2023-06-01 2023-06-30                   0.353838  Month  sa_stack_score   \n",
       "2 2023-06-05 2023-06-11                   0.424444   Week  sa_stack_score   \n",
       "3 2023-06-12 2023-06-18                   0.633609   Week  sa_stack_score   \n",
       "4 2023-06-19 2023-06-25                  -0.012048   Week  sa_stack_score   \n",
       "\n",
       "  version bad_rate  \n",
       "0   1.1.0    FPD30  \n",
       "1   1.1.0    FPD30  \n",
       "2   1.1.0    FPD30  \n",
       "3   1.1.0    FPD30  \n",
       "4   1.1.0    FPD30  "
      ]
     },
     "execution_count": 95,
     "metadata": {},
     "output_type": "execute_result"
    }
   ],
   "source": [
    "M2FPD30.head()"
   ]
  },
  {
   "cell_type": "markdown",
   "metadata": {},
   "source": [
    "## FSTPD30"
   ]
  },
  {
   "cell_type": "code",
   "execution_count": 96,
   "metadata": {},
   "outputs": [
    {
     "name": "stdout",
     "output_type": "stream",
     "text": [
      "Job ID ef317cdd-6a6e-44cd-bda0-00352ad4e818 successfully executed: 100%|\u001b[32m██████████\u001b[0m|"
     ]
    },
    {
     "name": "stderr",
     "output_type": "stream",
     "text": [
      "d:\\Anaconda3\\envs\\inc_env\\lib\\site-packages\\google\\cloud\\bigquery\\table.py:1820: UserWarning: BigQuery Storage module not found, fetch data with the REST endpoint instead.\n",
      "  warnings.warn(\n"
     ]
    },
    {
     "name": "stdout",
     "output_type": "stream",
     "text": [
      "\n",
      "Downloading: 100%|\u001b[32m██████████\u001b[0m|\n"
     ]
    },
    {
     "data": {
      "application/vnd.microsoft.datawrangler.viewer.v0+json": {
       "columns": [
        {
         "name": "index",
         "rawType": "int64",
         "type": "integer"
        },
        {
         "name": "disbursementdate",
         "rawType": "datetime64[us]",
         "type": "unknown"
        },
        {
         "name": "digitalLoanAccountId",
         "rawType": "object",
         "type": "string"
        },
        {
         "name": "sa_stack_score",
         "rawType": "float64",
         "type": "float"
        },
        {
         "name": "ln_fspd30_flag",
         "rawType": "Int64",
         "type": "integer"
        },
        {
         "name": "ln_mature_fspd30_flag",
         "rawType": "Int64",
         "type": "integer"
        }
       ],
       "conversionMethod": "pd.DataFrame",
       "ref": "ba38efaf-117d-4228-8ba8-7ce2ef562ef4",
       "rows": [
        [
         "0",
         "2023-06-01 10:40:18",
         "ac002041-b0be-446e-b173-65effe340651",
         "0.12261188519492588",
         "0",
         "1"
        ],
        [
         "1",
         "2023-06-01 10:42:34",
         "f91cba31-7630-477a-8cdd-d010b63c4900",
         "0.02099213583984373",
         "0",
         "1"
        ],
        [
         "2",
         "2023-06-01 12:17:20",
         "4fddb4fa-6e60-42b0-adec-295658bd1093",
         "0.04317180020360538",
         "0",
         "1"
        ],
        [
         "3",
         "2023-06-01 14:43:46",
         "4e78ebf3-256e-426c-8840-a7f9e1403a97",
         "0.07667683232993837",
         "0",
         "1"
        ],
        [
         "4",
         "2023-06-01 15:36:13",
         "a3dc185d-0118-4ebc-bf03-117fdd8f9c64",
         "0.0746438544800379",
         "0",
         "1"
        ]
       ],
       "shape": {
        "columns": 5,
        "rows": 5
       }
      },
      "text/html": [
       "<div>\n",
       "<style scoped>\n",
       "    .dataframe tbody tr th:only-of-type {\n",
       "        vertical-align: middle;\n",
       "    }\n",
       "\n",
       "    .dataframe tbody tr th {\n",
       "        vertical-align: top;\n",
       "    }\n",
       "\n",
       "    .dataframe thead th {\n",
       "        text-align: right;\n",
       "    }\n",
       "</style>\n",
       "<table border=\"1\" class=\"dataframe\">\n",
       "  <thead>\n",
       "    <tr style=\"text-align: right;\">\n",
       "      <th></th>\n",
       "      <th>disbursementdate</th>\n",
       "      <th>digitalLoanAccountId</th>\n",
       "      <th>sa_stack_score</th>\n",
       "      <th>ln_fspd30_flag</th>\n",
       "      <th>ln_mature_fspd30_flag</th>\n",
       "    </tr>\n",
       "  </thead>\n",
       "  <tbody>\n",
       "    <tr>\n",
       "      <th>0</th>\n",
       "      <td>2023-06-01 10:40:18</td>\n",
       "      <td>ac002041-b0be-446e-b173-65effe340651</td>\n",
       "      <td>0.122612</td>\n",
       "      <td>0</td>\n",
       "      <td>1</td>\n",
       "    </tr>\n",
       "    <tr>\n",
       "      <th>1</th>\n",
       "      <td>2023-06-01 10:42:34</td>\n",
       "      <td>f91cba31-7630-477a-8cdd-d010b63c4900</td>\n",
       "      <td>0.020992</td>\n",
       "      <td>0</td>\n",
       "      <td>1</td>\n",
       "    </tr>\n",
       "    <tr>\n",
       "      <th>2</th>\n",
       "      <td>2023-06-01 12:17:20</td>\n",
       "      <td>4fddb4fa-6e60-42b0-adec-295658bd1093</td>\n",
       "      <td>0.043172</td>\n",
       "      <td>0</td>\n",
       "      <td>1</td>\n",
       "    </tr>\n",
       "    <tr>\n",
       "      <th>3</th>\n",
       "      <td>2023-06-01 14:43:46</td>\n",
       "      <td>4e78ebf3-256e-426c-8840-a7f9e1403a97</td>\n",
       "      <td>0.076677</td>\n",
       "      <td>0</td>\n",
       "      <td>1</td>\n",
       "    </tr>\n",
       "    <tr>\n",
       "      <th>4</th>\n",
       "      <td>2023-06-01 15:36:13</td>\n",
       "      <td>a3dc185d-0118-4ebc-bf03-117fdd8f9c64</td>\n",
       "      <td>0.074644</td>\n",
       "      <td>0</td>\n",
       "      <td>1</td>\n",
       "    </tr>\n",
       "  </tbody>\n",
       "</table>\n",
       "</div>"
      ],
      "text/plain": [
       "     disbursementdate                  digitalLoanAccountId  sa_stack_score  \\\n",
       "0 2023-06-01 10:40:18  ac002041-b0be-446e-b173-65effe340651        0.122612   \n",
       "1 2023-06-01 10:42:34  f91cba31-7630-477a-8cdd-d010b63c4900        0.020992   \n",
       "2 2023-06-01 12:17:20  4fddb4fa-6e60-42b0-adec-295658bd1093        0.043172   \n",
       "3 2023-06-01 14:43:46  4e78ebf3-256e-426c-8840-a7f9e1403a97        0.076677   \n",
       "4 2023-06-01 15:36:13  a3dc185d-0118-4ebc-bf03-117fdd8f9c64        0.074644   \n",
       "\n",
       "   ln_fspd30_flag  ln_mature_fspd30_flag  \n",
       "0               0                      1  \n",
       "1               0                      1  \n",
       "2               0                      1  \n",
       "3               0                      1  \n",
       "4               0                      1  "
      ]
     },
     "execution_count": 96,
     "metadata": {},
     "output_type": "execute_result"
    }
   ],
   "source": [
    "# sa_stack_score\n",
    "\n",
    "sq = \"\"\"\n",
    "with sa_stack_score as \n",
    "(SELECT \n",
    "    ln_disb_dtime disbursementdate,\n",
    "\tdigitalLoanAccountId,\n",
    "    sa_stack_score,\n",
    "    ln_fspd30_flag,\n",
    "\tln_mature_fspd30_flag,\t\n",
    "\tFROM \n",
    "    prj-prod-dataplatform.risk_mart.sil_risk_ds_master_20230101_20250206\n",
    "  WHERE \n",
    "     -- ln_disb_dtime >= '2023-07-01'\n",
    "    ln_appln_submit_datetime >= '2023-06-01'\n",
    "  -- AND\n",
    "  --   format_date('%Y-%m', ln_disb_dtime) = '2024-09'\n",
    "  AND\n",
    "    ln_fspd30_flag is not null\n",
    "  AND\n",
    "    sa_stack_score is not null\n",
    "  AND\n",
    "    ln_mature_fspd30_flag = 1\n",
    ")\n",
    "select * from sa_stack_score;\n",
    "\"\"\"\n",
    "\n",
    "sa_stack_scorefspd30 = client.query(sq).to_dataframe(progress_bar_type='tqdm')\n",
    "\n",
    "sa_stack_scorefspd30.head()"
   ]
  },
  {
   "cell_type": "code",
   "execution_count": 97,
   "metadata": {},
   "outputs": [
    {
     "name": "stdout",
     "output_type": "stream",
     "text": [
      "The shape of dataframe after copy is:\t(96, 7)\n"
     ]
    },
    {
     "data": {
      "text/plain": [
       "array(['start_date', 'end_date', 'sa_stack_score_FSPD30_gini', 'period',\n",
       "       'Model_Name', 'version', 'bad_rate'], dtype=object)"
      ]
     },
     "execution_count": 97,
     "metadata": {},
     "output_type": "execute_result"
    }
   ],
   "source": [
    "gini_results = calculate_periodic_gini(sa_stack_scorefspd30, 'sa_stack_score', 'ln_fspd30_flag', 'FSPD30')\n",
    "M3FSPD30 = gini_results.copy()\n",
    "print(f\"The shape of dataframe after copy is:\\t{M3FSPD30.shape}\")\n",
    "M3FSPD30.columns.values"
   ]
  },
  {
   "cell_type": "code",
   "execution_count": 98,
   "metadata": {},
   "outputs": [
    {
     "data": {
      "application/vnd.microsoft.datawrangler.viewer.v0+json": {
       "columns": [
        {
         "name": "index",
         "rawType": "int64",
         "type": "integer"
        },
        {
         "name": "start_date",
         "rawType": "datetime64[ns]",
         "type": "datetime"
        },
        {
         "name": "end_date",
         "rawType": "datetime64[ns]",
         "type": "datetime"
        },
        {
         "name": "sa_stack_score_FSPD30_gini",
         "rawType": "float64",
         "type": "float"
        },
        {
         "name": "period",
         "rawType": "object",
         "type": "string"
        },
        {
         "name": "Model_Name",
         "rawType": "object",
         "type": "string"
        },
        {
         "name": "version",
         "rawType": "object",
         "type": "string"
        },
        {
         "name": "bad_rate",
         "rawType": "object",
         "type": "string"
        }
       ],
       "conversionMethod": "pd.DataFrame",
       "ref": "28a4c77a-bc0e-4e3c-aae7-8e575f4e153d",
       "rows": [
        [
         "91",
         "2024-10-28 00:00:00",
         "2024-11-03 00:00:00",
         "0.3656271397447868",
         "Week",
         "sa_stack_score",
         "1.1.0",
         "FSPD30"
        ],
        [
         "92",
         "2024-11-01 00:00:00",
         "2024-11-30 00:00:00",
         "0.36863780665081824",
         "Month",
         "sa_stack_score",
         "1.1.0",
         "FSPD30"
        ],
        [
         "93",
         "2024-11-04 00:00:00",
         "2024-11-10 00:00:00",
         "0.3454653424445322",
         "Week",
         "sa_stack_score",
         "1.1.0",
         "FSPD30"
        ],
        [
         "94",
         "2024-11-11 00:00:00",
         "2024-11-17 00:00:00",
         "0.3733651617504308",
         "Week",
         "sa_stack_score",
         "1.1.0",
         "FSPD30"
        ],
        [
         "95",
         "2024-11-18 00:00:00",
         "2024-11-24 00:00:00",
         "0.35570317235805216",
         "Week",
         "sa_stack_score",
         "1.1.0",
         "FSPD30"
        ]
       ],
       "shape": {
        "columns": 7,
        "rows": 5
       }
      },
      "text/html": [
       "<div>\n",
       "<style scoped>\n",
       "    .dataframe tbody tr th:only-of-type {\n",
       "        vertical-align: middle;\n",
       "    }\n",
       "\n",
       "    .dataframe tbody tr th {\n",
       "        vertical-align: top;\n",
       "    }\n",
       "\n",
       "    .dataframe thead th {\n",
       "        text-align: right;\n",
       "    }\n",
       "</style>\n",
       "<table border=\"1\" class=\"dataframe\">\n",
       "  <thead>\n",
       "    <tr style=\"text-align: right;\">\n",
       "      <th></th>\n",
       "      <th>start_date</th>\n",
       "      <th>end_date</th>\n",
       "      <th>sa_stack_score_FSPD30_gini</th>\n",
       "      <th>period</th>\n",
       "      <th>Model_Name</th>\n",
       "      <th>version</th>\n",
       "      <th>bad_rate</th>\n",
       "    </tr>\n",
       "  </thead>\n",
       "  <tbody>\n",
       "    <tr>\n",
       "      <th>91</th>\n",
       "      <td>2024-10-28</td>\n",
       "      <td>2024-11-03</td>\n",
       "      <td>0.365627</td>\n",
       "      <td>Week</td>\n",
       "      <td>sa_stack_score</td>\n",
       "      <td>1.1.0</td>\n",
       "      <td>FSPD30</td>\n",
       "    </tr>\n",
       "    <tr>\n",
       "      <th>92</th>\n",
       "      <td>2024-11-01</td>\n",
       "      <td>2024-11-30</td>\n",
       "      <td>0.368638</td>\n",
       "      <td>Month</td>\n",
       "      <td>sa_stack_score</td>\n",
       "      <td>1.1.0</td>\n",
       "      <td>FSPD30</td>\n",
       "    </tr>\n",
       "    <tr>\n",
       "      <th>93</th>\n",
       "      <td>2024-11-04</td>\n",
       "      <td>2024-11-10</td>\n",
       "      <td>0.345465</td>\n",
       "      <td>Week</td>\n",
       "      <td>sa_stack_score</td>\n",
       "      <td>1.1.0</td>\n",
       "      <td>FSPD30</td>\n",
       "    </tr>\n",
       "    <tr>\n",
       "      <th>94</th>\n",
       "      <td>2024-11-11</td>\n",
       "      <td>2024-11-17</td>\n",
       "      <td>0.373365</td>\n",
       "      <td>Week</td>\n",
       "      <td>sa_stack_score</td>\n",
       "      <td>1.1.0</td>\n",
       "      <td>FSPD30</td>\n",
       "    </tr>\n",
       "    <tr>\n",
       "      <th>95</th>\n",
       "      <td>2024-11-18</td>\n",
       "      <td>2024-11-24</td>\n",
       "      <td>0.355703</td>\n",
       "      <td>Week</td>\n",
       "      <td>sa_stack_score</td>\n",
       "      <td>1.1.0</td>\n",
       "      <td>FSPD30</td>\n",
       "    </tr>\n",
       "  </tbody>\n",
       "</table>\n",
       "</div>"
      ],
      "text/plain": [
       "   start_date   end_date  sa_stack_score_FSPD30_gini period      Model_Name  \\\n",
       "91 2024-10-28 2024-11-03                    0.365627   Week  sa_stack_score   \n",
       "92 2024-11-01 2024-11-30                    0.368638  Month  sa_stack_score   \n",
       "93 2024-11-04 2024-11-10                    0.345465   Week  sa_stack_score   \n",
       "94 2024-11-11 2024-11-17                    0.373365   Week  sa_stack_score   \n",
       "95 2024-11-18 2024-11-24                    0.355703   Week  sa_stack_score   \n",
       "\n",
       "   version bad_rate  \n",
       "91   1.1.0   FSPD30  \n",
       "92   1.1.0   FSPD30  \n",
       "93   1.1.0   FSPD30  \n",
       "94   1.1.0   FSPD30  \n",
       "95   1.1.0   FSPD30  "
      ]
     },
     "execution_count": 98,
     "metadata": {},
     "output_type": "execute_result"
    }
   ],
   "source": [
    "M3FSPD30.tail()"
   ]
  },
  {
   "cell_type": "markdown",
   "metadata": {},
   "source": [
    "## FSTPD30"
   ]
  },
  {
   "cell_type": "code",
   "execution_count": 99,
   "metadata": {},
   "outputs": [
    {
     "name": "stdout",
     "output_type": "stream",
     "text": [
      "Job ID acf162c4-c9d0-46a6-a6ec-3f84ad96230a successfully executed: 100%|\u001b[32m██████████\u001b[0m|"
     ]
    },
    {
     "name": "stderr",
     "output_type": "stream",
     "text": [
      "d:\\Anaconda3\\envs\\inc_env\\lib\\site-packages\\google\\cloud\\bigquery\\table.py:1820: UserWarning: BigQuery Storage module not found, fetch data with the REST endpoint instead.\n",
      "  warnings.warn(\n"
     ]
    },
    {
     "name": "stdout",
     "output_type": "stream",
     "text": [
      "\n",
      "Downloading: 100%|\u001b[32m██████████\u001b[0m|\n"
     ]
    },
    {
     "data": {
      "application/vnd.microsoft.datawrangler.viewer.v0+json": {
       "columns": [
        {
         "name": "index",
         "rawType": "int64",
         "type": "integer"
        },
        {
         "name": "disbursementdate",
         "rawType": "datetime64[us]",
         "type": "unknown"
        },
        {
         "name": "digitalLoanAccountId",
         "rawType": "object",
         "type": "string"
        },
        {
         "name": "sa_stack_score",
         "rawType": "float64",
         "type": "float"
        },
        {
         "name": "ln_fstpd30_flag",
         "rawType": "Int64",
         "type": "integer"
        },
        {
         "name": "ln_mature_fstpd30_flag",
         "rawType": "Int64",
         "type": "integer"
        }
       ],
       "conversionMethod": "pd.DataFrame",
       "ref": "ffe8b7ad-9bac-4a40-90d1-aa56fc1b2592",
       "rows": [
        [
         "0",
         "2023-06-01 11:02:18",
         "7e7e7678-b36d-4b26-ad01-272565b54780",
         "0.04650437871303063",
         "0",
         "1"
        ],
        [
         "1",
         "2023-06-01 12:36:51",
         "855bccd7-f3d4-461f-9748-bb50b07e0327",
         "0.12636743334014625",
         "0",
         "1"
        ],
        [
         "2",
         "2023-06-01 12:56:23",
         "e585b35d-bc13-494d-970d-2272d976991b",
         "0.038082998160325975",
         "0",
         "1"
        ],
        [
         "3",
         "2023-06-01 14:57:43",
         "ac518432-9362-4014-86d4-565c0125b27b",
         "0.07271583225520438",
         "0",
         "1"
        ],
        [
         "4",
         "2023-06-01 15:52:56",
         "b11e0b23-1b34-4d8c-984d-1239a7b389c1",
         "0.023263396833648496",
         "0",
         "1"
        ]
       ],
       "shape": {
        "columns": 5,
        "rows": 5
       }
      },
      "text/html": [
       "<div>\n",
       "<style scoped>\n",
       "    .dataframe tbody tr th:only-of-type {\n",
       "        vertical-align: middle;\n",
       "    }\n",
       "\n",
       "    .dataframe tbody tr th {\n",
       "        vertical-align: top;\n",
       "    }\n",
       "\n",
       "    .dataframe thead th {\n",
       "        text-align: right;\n",
       "    }\n",
       "</style>\n",
       "<table border=\"1\" class=\"dataframe\">\n",
       "  <thead>\n",
       "    <tr style=\"text-align: right;\">\n",
       "      <th></th>\n",
       "      <th>disbursementdate</th>\n",
       "      <th>digitalLoanAccountId</th>\n",
       "      <th>sa_stack_score</th>\n",
       "      <th>ln_fstpd30_flag</th>\n",
       "      <th>ln_mature_fstpd30_flag</th>\n",
       "    </tr>\n",
       "  </thead>\n",
       "  <tbody>\n",
       "    <tr>\n",
       "      <th>0</th>\n",
       "      <td>2023-06-01 11:02:18</td>\n",
       "      <td>7e7e7678-b36d-4b26-ad01-272565b54780</td>\n",
       "      <td>0.046504</td>\n",
       "      <td>0</td>\n",
       "      <td>1</td>\n",
       "    </tr>\n",
       "    <tr>\n",
       "      <th>1</th>\n",
       "      <td>2023-06-01 12:36:51</td>\n",
       "      <td>855bccd7-f3d4-461f-9748-bb50b07e0327</td>\n",
       "      <td>0.126367</td>\n",
       "      <td>0</td>\n",
       "      <td>1</td>\n",
       "    </tr>\n",
       "    <tr>\n",
       "      <th>2</th>\n",
       "      <td>2023-06-01 12:56:23</td>\n",
       "      <td>e585b35d-bc13-494d-970d-2272d976991b</td>\n",
       "      <td>0.038083</td>\n",
       "      <td>0</td>\n",
       "      <td>1</td>\n",
       "    </tr>\n",
       "    <tr>\n",
       "      <th>3</th>\n",
       "      <td>2023-06-01 14:57:43</td>\n",
       "      <td>ac518432-9362-4014-86d4-565c0125b27b</td>\n",
       "      <td>0.072716</td>\n",
       "      <td>0</td>\n",
       "      <td>1</td>\n",
       "    </tr>\n",
       "    <tr>\n",
       "      <th>4</th>\n",
       "      <td>2023-06-01 15:52:56</td>\n",
       "      <td>b11e0b23-1b34-4d8c-984d-1239a7b389c1</td>\n",
       "      <td>0.023263</td>\n",
       "      <td>0</td>\n",
       "      <td>1</td>\n",
       "    </tr>\n",
       "  </tbody>\n",
       "</table>\n",
       "</div>"
      ],
      "text/plain": [
       "     disbursementdate                  digitalLoanAccountId  sa_stack_score  \\\n",
       "0 2023-06-01 11:02:18  7e7e7678-b36d-4b26-ad01-272565b54780        0.046504   \n",
       "1 2023-06-01 12:36:51  855bccd7-f3d4-461f-9748-bb50b07e0327        0.126367   \n",
       "2 2023-06-01 12:56:23  e585b35d-bc13-494d-970d-2272d976991b        0.038083   \n",
       "3 2023-06-01 14:57:43  ac518432-9362-4014-86d4-565c0125b27b        0.072716   \n",
       "4 2023-06-01 15:52:56  b11e0b23-1b34-4d8c-984d-1239a7b389c1        0.023263   \n",
       "\n",
       "   ln_fstpd30_flag  ln_mature_fstpd30_flag  \n",
       "0                0                       1  \n",
       "1                0                       1  \n",
       "2                0                       1  \n",
       "3                0                       1  \n",
       "4                0                       1  "
      ]
     },
     "execution_count": 99,
     "metadata": {},
     "output_type": "execute_result"
    }
   ],
   "source": [
    "# sa_stack_score\n",
    "\n",
    "sq = \"\"\"\n",
    "with sa_stack_score as \n",
    "(SELECT \n",
    "    ln_disb_dtime disbursementdate,\n",
    "\tdigitalLoanAccountId,\n",
    "    sa_stack_score,\n",
    "    ln_fstpd30_flag,\n",
    "\tln_mature_fstpd30_flag,\t\n",
    "\tFROM \n",
    "    prj-prod-dataplatform.risk_mart.sil_risk_ds_master_20230101_20250206\n",
    "  WHERE \n",
    "     -- ln_disb_dtime >= '2023-07-01'\n",
    "    ln_appln_submit_datetime >= '2023-06-01'\n",
    "  -- AND\n",
    "  --   format_date('%Y-%m', ln_disb_dtime) = '2024-09'\n",
    "  AND\n",
    "    ln_fstpd30_flag is not null\n",
    "  AND\n",
    "    sa_stack_score is not null\n",
    "  AND\n",
    "    ln_mature_fstpd30_flag = 1\n",
    ")\n",
    "select * from sa_stack_score;\n",
    "\"\"\"\n",
    "\n",
    "sa_stack_scorefstpd30 = client.query(sq).to_dataframe(progress_bar_type='tqdm')\n",
    "\n",
    "sa_stack_scorefstpd30.head()"
   ]
  },
  {
   "cell_type": "code",
   "execution_count": 100,
   "metadata": {},
   "outputs": [
    {
     "data": {
      "application/vnd.microsoft.datawrangler.viewer.v0+json": {
       "columns": [
        {
         "name": "index",
         "rawType": "int64",
         "type": "integer"
        },
        {
         "name": "disbursementdate",
         "rawType": "datetime64[us]",
         "type": "unknown"
        },
        {
         "name": "digitalLoanAccountId",
         "rawType": "object",
         "type": "string"
        },
        {
         "name": "sa_stack_score",
         "rawType": "float64",
         "type": "float"
        },
        {
         "name": "ln_fstpd30_flag",
         "rawType": "Int64",
         "type": "integer"
        },
        {
         "name": "ln_mature_fstpd30_flag",
         "rawType": "Int64",
         "type": "integer"
        }
       ],
       "conversionMethod": "pd.DataFrame",
       "ref": "c27ba4d3-0550-4bb2-9bc2-620476a057a5",
       "rows": [
        [
         "122234",
         "2024-09-10 14:12:34",
         "56658481-bec0-4b00-8cb2-ee74f8bb8264",
         "0.06401620101128493",
         "0",
         "1"
        ],
        [
         "122235",
         "2024-06-16 12:44:25",
         "12b10be4-53ce-4351-891e-4ec475e5048e",
         "0.07079898159762518",
         "0",
         "1"
        ],
        [
         "122236",
         "2024-02-25 12:50:09",
         "c9e4ddc8-66b2-41f6-b2e4-8b2b745b9dad",
         "0.014829967801619782",
         "0",
         "1"
        ],
        [
         "122237",
         "2023-08-01 19:11:47",
         "631755c2-727c-4b21-af6a-c081a668920e",
         "0.10261268072465271",
         "0",
         "1"
        ],
        [
         "122238",
         "2023-11-02 13:47:25",
         "f86e4525-0762-454a-a929-84a2cc9d09a6",
         "0.02279467459414952",
         "0",
         "1"
        ]
       ],
       "shape": {
        "columns": 5,
        "rows": 5
       }
      },
      "text/html": [
       "<div>\n",
       "<style scoped>\n",
       "    .dataframe tbody tr th:only-of-type {\n",
       "        vertical-align: middle;\n",
       "    }\n",
       "\n",
       "    .dataframe tbody tr th {\n",
       "        vertical-align: top;\n",
       "    }\n",
       "\n",
       "    .dataframe thead th {\n",
       "        text-align: right;\n",
       "    }\n",
       "</style>\n",
       "<table border=\"1\" class=\"dataframe\">\n",
       "  <thead>\n",
       "    <tr style=\"text-align: right;\">\n",
       "      <th></th>\n",
       "      <th>disbursementdate</th>\n",
       "      <th>digitalLoanAccountId</th>\n",
       "      <th>sa_stack_score</th>\n",
       "      <th>ln_fstpd30_flag</th>\n",
       "      <th>ln_mature_fstpd30_flag</th>\n",
       "    </tr>\n",
       "  </thead>\n",
       "  <tbody>\n",
       "    <tr>\n",
       "      <th>122234</th>\n",
       "      <td>2024-09-10 14:12:34</td>\n",
       "      <td>56658481-bec0-4b00-8cb2-ee74f8bb8264</td>\n",
       "      <td>0.064016</td>\n",
       "      <td>0</td>\n",
       "      <td>1</td>\n",
       "    </tr>\n",
       "    <tr>\n",
       "      <th>122235</th>\n",
       "      <td>2024-06-16 12:44:25</td>\n",
       "      <td>12b10be4-53ce-4351-891e-4ec475e5048e</td>\n",
       "      <td>0.070799</td>\n",
       "      <td>0</td>\n",
       "      <td>1</td>\n",
       "    </tr>\n",
       "    <tr>\n",
       "      <th>122236</th>\n",
       "      <td>2024-02-25 12:50:09</td>\n",
       "      <td>c9e4ddc8-66b2-41f6-b2e4-8b2b745b9dad</td>\n",
       "      <td>0.014830</td>\n",
       "      <td>0</td>\n",
       "      <td>1</td>\n",
       "    </tr>\n",
       "    <tr>\n",
       "      <th>122237</th>\n",
       "      <td>2023-08-01 19:11:47</td>\n",
       "      <td>631755c2-727c-4b21-af6a-c081a668920e</td>\n",
       "      <td>0.102613</td>\n",
       "      <td>0</td>\n",
       "      <td>1</td>\n",
       "    </tr>\n",
       "    <tr>\n",
       "      <th>122238</th>\n",
       "      <td>2023-11-02 13:47:25</td>\n",
       "      <td>f86e4525-0762-454a-a929-84a2cc9d09a6</td>\n",
       "      <td>0.022795</td>\n",
       "      <td>0</td>\n",
       "      <td>1</td>\n",
       "    </tr>\n",
       "  </tbody>\n",
       "</table>\n",
       "</div>"
      ],
      "text/plain": [
       "          disbursementdate                  digitalLoanAccountId  \\\n",
       "122234 2024-09-10 14:12:34  56658481-bec0-4b00-8cb2-ee74f8bb8264   \n",
       "122235 2024-06-16 12:44:25  12b10be4-53ce-4351-891e-4ec475e5048e   \n",
       "122236 2024-02-25 12:50:09  c9e4ddc8-66b2-41f6-b2e4-8b2b745b9dad   \n",
       "122237 2023-08-01 19:11:47  631755c2-727c-4b21-af6a-c081a668920e   \n",
       "122238 2023-11-02 13:47:25  f86e4525-0762-454a-a929-84a2cc9d09a6   \n",
       "\n",
       "        sa_stack_score  ln_fstpd30_flag  ln_mature_fstpd30_flag  \n",
       "122234        0.064016                0                       1  \n",
       "122235        0.070799                0                       1  \n",
       "122236        0.014830                0                       1  \n",
       "122237        0.102613                0                       1  \n",
       "122238        0.022795                0                       1  "
      ]
     },
     "execution_count": 100,
     "metadata": {},
     "output_type": "execute_result"
    }
   ],
   "source": [
    "sa_stack_scorefstpd30.tail()"
   ]
  },
  {
   "cell_type": "code",
   "execution_count": 101,
   "metadata": {},
   "outputs": [
    {
     "name": "stdout",
     "output_type": "stream",
     "text": [
      "The shape of dataframe after copy is:\t(90, 7)\n"
     ]
    },
    {
     "data": {
      "text/plain": [
       "array(['start_date', 'end_date', 'sa_stack_score_FSTPD30_gini', 'period',\n",
       "       'Model_Name', 'version', 'bad_rate'], dtype=object)"
      ]
     },
     "execution_count": 101,
     "metadata": {},
     "output_type": "execute_result"
    }
   ],
   "source": [
    "gini_results = calculate_periodic_gini(sa_stack_scorefstpd30, 'sa_stack_score', 'ln_fstpd30_flag', 'FSTPD30')\n",
    "M4FSTPD30 = gini_results.copy()\n",
    "print(f\"The shape of dataframe after copy is:\\t{M4FSTPD30.shape}\")\n",
    "M4FSTPD30.columns.values"
   ]
  },
  {
   "cell_type": "markdown",
   "metadata": {},
   "source": [
    "## Combining the dataframes"
   ]
  },
  {
   "cell_type": "code",
   "execution_count": 102,
   "metadata": {},
   "outputs": [
    {
     "data": {
      "text/plain": [
       "array(['start_date', 'end_date', 'sa_stack_score_FPD10_gini', 'period',\n",
       "       'Model_Name', 'version', 'bad_rate', 'sa_stack_score_FPD30_gini',\n",
       "       'sa_stack_score_FSPD30_gini', 'sa_stack_score_FSTPD30_gini'],\n",
       "      dtype=object)"
      ]
     },
     "execution_count": 102,
     "metadata": {},
     "output_type": "execute_result"
    }
   ],
   "source": [
    "import functools\n",
    "\n",
    "dataframes = [M1FPD10, M2FPD30, M3FSPD30, M4FSTPD30]\n",
    "common_columns = ['start_date', 'end_date', 'period', 'Model_Name','version', 'bad_rate']\n",
    "\n",
    "def merge_dataframes(df1, df2):\n",
    "    return pd.merge(df1, df2, on=common_columns, how='outer')\n",
    "\n",
    "final_df = functools.reduce(merge_dataframes, dataframes)\n",
    "\n",
    "final_df.columns.values"
   ]
  },
  {
   "cell_type": "code",
   "execution_count": 103,
   "metadata": {},
   "outputs": [],
   "source": [
    "final_df = final_df[['start_date', 'end_date', 'period', 'Model_Name', 'version', 'bad_rate', 'sa_stack_score_FPD10_gini', 'sa_stack_score_FPD30_gini',  'sa_stack_score_FSPD30_gini', 'sa_stack_score_FSTPD30_gini']].copy()"
   ]
  },
  {
   "cell_type": "markdown",
   "metadata": {},
   "source": [
    "## Creating the table "
   ]
  },
  {
   "cell_type": "code",
   "execution_count": 104,
   "metadata": {},
   "outputs": [
    {
     "data": {
      "text/plain": [
       "QueryJob<project=prj-prod-dataplatform, location=asia-southeast1, id=ab529c8f-998f-4624-994e-aeb28bd203f5>"
      ]
     },
     "execution_count": 104,
     "metadata": {},
     "output_type": "execute_result"
    }
   ],
   "source": [
    "sq = \"\"\"drop table if exists prj-prod-dataplatform.dap_ds_poweruser_playground.Model_gini_sa_stack_score;\"\"\"\n",
    "\n",
    "client.query(sq)"
   ]
  },
  {
   "cell_type": "code",
   "execution_count": 105,
   "metadata": {},
   "outputs": [
    {
     "data": {
      "text/plain": [
       "LoadJob<project=prj-prod-dataplatform, location=asia-southeast1, id=76a97f2e-f499-4ba4-8fc4-f859abc769fc>"
      ]
     },
     "execution_count": 105,
     "metadata": {},
     "output_type": "execute_result"
    }
   ],
   "source": [
    "import pandas as pd\n",
    "from google.cloud import bigquery\n",
    "\n",
    "# Create a BigQuery client\n",
    "client = bigquery.Client('prj-prod-dataplatform')\n",
    "\n",
    "# Define your table schema\n",
    "table_schema = [\n",
    "    bigquery.SchemaField('start_date', 'TIMESTAMP'),\n",
    "    bigquery.SchemaField('end_date', 'TIMESTAMP'),\n",
    "    bigquery.SchemaField('period', 'STRING'),\n",
    "    bigquery.SchemaField('Model_Name', 'STRING'),\n",
    "    bigquery.SchemaField('version', 'STRING'),\n",
    "    bigquery.SchemaField('Badrate', 'STRING'),\n",
    "    bigquery.SchemaField('sa_stack_score_FPD10_gini', 'FLOAT'),\n",
    "    bigquery.SchemaField('sa_stack_score_FPD30_gini', 'FLOAT'),    \n",
    "    bigquery.SchemaField('sa_stack_score_FSPD30_gini', 'FLOAT'),\n",
    "    bigquery.SchemaField('sa_stack_score_FSTPD30_gini', 'FLOAT')\n",
    "    \n",
    "]\n",
    "\n",
    "# Create your BigQuery table\n",
    "table_id = 'prj-prod-dataplatform.dap_ds_poweruser_playground.Model_gini_sa_stack_score'\n",
    "table = bigquery.Table(table_id, schema=table_schema)\n",
    "table = client.create_table(table)\n",
    "\n",
    "# Load your DataFrame into BigQuery\n",
    "job_config = bigquery.LoadJobConfig(\n",
    "    write_disposition='WRITE_TRUNCATE'\n",
    ")\n",
    "\n",
    "load_job = client.load_table_from_dataframe(\n",
    "    final_df, table_id, job_config=job_config\n",
    ")\n",
    "\n",
    "load_job.result()"
   ]
  },
  {
   "cell_type": "markdown",
   "metadata": {},
   "source": [
    "# gen_credo_score"
   ]
  },
  {
   "cell_type": "markdown",
   "metadata": {},
   "source": [
    "## FPD10"
   ]
  },
  {
   "cell_type": "code",
   "execution_count": 106,
   "metadata": {},
   "outputs": [
    {
     "name": "stdout",
     "output_type": "stream",
     "text": [
      "Job ID 76ea0e6b-ca54-4528-9ed5-ae86e04a2bb7 successfully executed: 100%|\u001b[32m██████████\u001b[0m|"
     ]
    },
    {
     "name": "stderr",
     "output_type": "stream",
     "text": [
      "d:\\Anaconda3\\envs\\inc_env\\lib\\site-packages\\google\\cloud\\bigquery\\table.py:1820: UserWarning: BigQuery Storage module not found, fetch data with the REST endpoint instead.\n",
      "  warnings.warn(\n"
     ]
    },
    {
     "name": "stdout",
     "output_type": "stream",
     "text": [
      "\n",
      "Downloading: 100%|\u001b[32m██████████\u001b[0m|\n"
     ]
    },
    {
     "data": {
      "application/vnd.microsoft.datawrangler.viewer.v0+json": {
       "columns": [
        {
         "name": "index",
         "rawType": "int64",
         "type": "integer"
        },
        {
         "name": "disbursementdate",
         "rawType": "datetime64[us]",
         "type": "unknown"
        },
        {
         "name": "digitalLoanAccountId",
         "rawType": "object",
         "type": "string"
        },
        {
         "name": "gen_credo_score",
         "rawType": "float64",
         "type": "float"
        },
        {
         "name": "ln_fpd10_flag",
         "rawType": "Int64",
         "type": "integer"
        },
        {
         "name": "ln_mature_fpd10_flag",
         "rawType": "Int64",
         "type": "integer"
        }
       ],
       "conversionMethod": "pd.DataFrame",
       "ref": "ea0e62a5-d156-416a-a275-1601b6f5da15",
       "rows": [
        [
         "0",
         "2023-01-02 10:19:54",
         "73902306-ce07-4625-9d1e-a611eeb83166",
         "0.175299412578973",
         "0",
         "1"
        ],
        [
         "1",
         "2023-01-02 10:56:20",
         "ac41223e-0d42-4569-b21f-789bce021291",
         "0.0729910026707899",
         "0",
         "1"
        ],
        [
         "2",
         "2023-01-02 11:39:36",
         "d438dd4f-4c6c-44b5-ba83-58585ba8530a",
         "0.150079436426167",
         "0",
         "1"
        ],
        [
         "3",
         "2023-01-02 12:04:44",
         "44247f51-ac7a-4035-8d34-af7af2d9548c",
         "0.0992739683147453",
         "1",
         "1"
        ],
        [
         "4",
         "2023-01-02 12:44:11",
         "f0a9e5c7-560d-46a3-9c4c-16d518d1a605",
         "0.187075506128385",
         "0",
         "1"
        ]
       ],
       "shape": {
        "columns": 5,
        "rows": 5
       }
      },
      "text/html": [
       "<div>\n",
       "<style scoped>\n",
       "    .dataframe tbody tr th:only-of-type {\n",
       "        vertical-align: middle;\n",
       "    }\n",
       "\n",
       "    .dataframe tbody tr th {\n",
       "        vertical-align: top;\n",
       "    }\n",
       "\n",
       "    .dataframe thead th {\n",
       "        text-align: right;\n",
       "    }\n",
       "</style>\n",
       "<table border=\"1\" class=\"dataframe\">\n",
       "  <thead>\n",
       "    <tr style=\"text-align: right;\">\n",
       "      <th></th>\n",
       "      <th>disbursementdate</th>\n",
       "      <th>digitalLoanAccountId</th>\n",
       "      <th>gen_credo_score</th>\n",
       "      <th>ln_fpd10_flag</th>\n",
       "      <th>ln_mature_fpd10_flag</th>\n",
       "    </tr>\n",
       "  </thead>\n",
       "  <tbody>\n",
       "    <tr>\n",
       "      <th>0</th>\n",
       "      <td>2023-01-02 10:19:54</td>\n",
       "      <td>73902306-ce07-4625-9d1e-a611eeb83166</td>\n",
       "      <td>0.175299</td>\n",
       "      <td>0</td>\n",
       "      <td>1</td>\n",
       "    </tr>\n",
       "    <tr>\n",
       "      <th>1</th>\n",
       "      <td>2023-01-02 10:56:20</td>\n",
       "      <td>ac41223e-0d42-4569-b21f-789bce021291</td>\n",
       "      <td>0.072991</td>\n",
       "      <td>0</td>\n",
       "      <td>1</td>\n",
       "    </tr>\n",
       "    <tr>\n",
       "      <th>2</th>\n",
       "      <td>2023-01-02 11:39:36</td>\n",
       "      <td>d438dd4f-4c6c-44b5-ba83-58585ba8530a</td>\n",
       "      <td>0.150079</td>\n",
       "      <td>0</td>\n",
       "      <td>1</td>\n",
       "    </tr>\n",
       "    <tr>\n",
       "      <th>3</th>\n",
       "      <td>2023-01-02 12:04:44</td>\n",
       "      <td>44247f51-ac7a-4035-8d34-af7af2d9548c</td>\n",
       "      <td>0.099274</td>\n",
       "      <td>1</td>\n",
       "      <td>1</td>\n",
       "    </tr>\n",
       "    <tr>\n",
       "      <th>4</th>\n",
       "      <td>2023-01-02 12:44:11</td>\n",
       "      <td>f0a9e5c7-560d-46a3-9c4c-16d518d1a605</td>\n",
       "      <td>0.187076</td>\n",
       "      <td>0</td>\n",
       "      <td>1</td>\n",
       "    </tr>\n",
       "  </tbody>\n",
       "</table>\n",
       "</div>"
      ],
      "text/plain": [
       "     disbursementdate                  digitalLoanAccountId  gen_credo_score  \\\n",
       "0 2023-01-02 10:19:54  73902306-ce07-4625-9d1e-a611eeb83166         0.175299   \n",
       "1 2023-01-02 10:56:20  ac41223e-0d42-4569-b21f-789bce021291         0.072991   \n",
       "2 2023-01-02 11:39:36  d438dd4f-4c6c-44b5-ba83-58585ba8530a         0.150079   \n",
       "3 2023-01-02 12:04:44  44247f51-ac7a-4035-8d34-af7af2d9548c         0.099274   \n",
       "4 2023-01-02 12:44:11  f0a9e5c7-560d-46a3-9c4c-16d518d1a605         0.187076   \n",
       "\n",
       "   ln_fpd10_flag  ln_mature_fpd10_flag  \n",
       "0              0                     1  \n",
       "1              0                     1  \n",
       "2              0                     1  \n",
       "3              1                     1  \n",
       "4              0                     1  "
      ]
     },
     "execution_count": 106,
     "metadata": {},
     "output_type": "execute_result"
    }
   ],
   "source": [
    "\n",
    "\n",
    "sq = \"\"\"\n",
    "with gen_credo_score as \n",
    "(SELECT \n",
    "    ln_disb_dtime disbursementdate,\n",
    "\tdigitalLoanAccountId,\n",
    "    gen_credo_score,\n",
    "    ln_fpd10_flag,\n",
    "\tln_mature_fpd10_flag,\t\n",
    "\tFROM \n",
    "    prj-prod-dataplatform.risk_mart.sil_risk_ds_master_20230101_20250206\n",
    "  WHERE \n",
    "     -- ln_disb_dtime >= '2023-07-01'\n",
    "    ln_appln_submit_datetime >= '2023-01-01'\n",
    "  -- AND\n",
    "  --   format_date('%Y-%m', ln_disb_dtime) = '2024-09'\n",
    "  AND\n",
    "    ln_fpd10_flag is not null\n",
    "  AND\n",
    "    gen_credo_score is not null\n",
    "  AND\n",
    "    ln_mature_fpd10_flag = 1\n",
    ")\n",
    "select * from gen_credo_score;\n",
    "\"\"\"\n",
    "\n",
    "gen_credo_scorefpd10 = client.query(sq).to_dataframe(progress_bar_type='tqdm')\n",
    "\n",
    "gen_credo_scorefpd10.head()"
   ]
  },
  {
   "cell_type": "code",
   "execution_count": 107,
   "metadata": {},
   "outputs": [
    {
     "name": "stdout",
     "output_type": "stream",
     "text": [
      "The shape of dataframe after copy is:\t(131, 7)\n"
     ]
    },
    {
     "data": {
      "text/plain": [
       "array(['start_date', 'end_date', 'gen_credo_score_FPD10_gini', 'period',\n",
       "       'Model_Name', 'version', 'bad_rate'], dtype=object)"
      ]
     },
     "execution_count": 107,
     "metadata": {},
     "output_type": "execute_result"
    }
   ],
   "source": [
    "gini_results = calculate_periodic_gini(gen_credo_scorefpd10, 'gen_credo_score', 'ln_fpd10_flag', 'FPD10')\n",
    "M1FPD10 = gini_results.copy()\n",
    "print(f\"The shape of dataframe after copy is:\\t{M1FPD10.shape}\")\n",
    "M1FPD10.columns.values"
   ]
  },
  {
   "cell_type": "code",
   "execution_count": 108,
   "metadata": {},
   "outputs": [
    {
     "data": {
      "application/vnd.microsoft.datawrangler.viewer.v0+json": {
       "columns": [
        {
         "name": "index",
         "rawType": "int64",
         "type": "integer"
        },
        {
         "name": "start_date",
         "rawType": "datetime64[ns]",
         "type": "datetime"
        },
        {
         "name": "end_date",
         "rawType": "datetime64[ns]",
         "type": "datetime"
        },
        {
         "name": "gen_credo_score_FPD10_gini",
         "rawType": "float64",
         "type": "float"
        },
        {
         "name": "period",
         "rawType": "object",
         "type": "string"
        },
        {
         "name": "Model_Name",
         "rawType": "object",
         "type": "string"
        },
        {
         "name": "version",
         "rawType": "object",
         "type": "string"
        },
        {
         "name": "bad_rate",
         "rawType": "object",
         "type": "string"
        }
       ],
       "conversionMethod": "pd.DataFrame",
       "ref": "b2ccebdc-8884-4406-9874-c9b11be17121",
       "rows": [
        [
         "0",
         "2023-01-01 00:00:00",
         "2023-01-31 00:00:00",
         "0.24672479320366647",
         "Month",
         "gen_credo_score",
         "1.1.0",
         "FPD10"
        ],
        [
         "1",
         "2023-01-02 00:00:00",
         "2023-01-08 00:00:00",
         "0.3011247443762781",
         "Week",
         "gen_credo_score",
         "1.1.0",
         "FPD10"
        ],
        [
         "2",
         "2023-01-09 00:00:00",
         "2023-01-15 00:00:00",
         "0.273399926008139",
         "Week",
         "gen_credo_score",
         "1.1.0",
         "FPD10"
        ],
        [
         "3",
         "2023-01-16 00:00:00",
         "2023-01-22 00:00:00",
         "0.6675324675324676",
         "Week",
         "gen_credo_score",
         "1.1.0",
         "FPD10"
        ],
        [
         "4",
         "2023-01-23 00:00:00",
         "2023-01-29 00:00:00",
         "0.08650519031141868",
         "Week",
         "gen_credo_score",
         "1.1.0",
         "FPD10"
        ]
       ],
       "shape": {
        "columns": 7,
        "rows": 5
       }
      },
      "text/html": [
       "<div>\n",
       "<style scoped>\n",
       "    .dataframe tbody tr th:only-of-type {\n",
       "        vertical-align: middle;\n",
       "    }\n",
       "\n",
       "    .dataframe tbody tr th {\n",
       "        vertical-align: top;\n",
       "    }\n",
       "\n",
       "    .dataframe thead th {\n",
       "        text-align: right;\n",
       "    }\n",
       "</style>\n",
       "<table border=\"1\" class=\"dataframe\">\n",
       "  <thead>\n",
       "    <tr style=\"text-align: right;\">\n",
       "      <th></th>\n",
       "      <th>start_date</th>\n",
       "      <th>end_date</th>\n",
       "      <th>gen_credo_score_FPD10_gini</th>\n",
       "      <th>period</th>\n",
       "      <th>Model_Name</th>\n",
       "      <th>version</th>\n",
       "      <th>bad_rate</th>\n",
       "    </tr>\n",
       "  </thead>\n",
       "  <tbody>\n",
       "    <tr>\n",
       "      <th>0</th>\n",
       "      <td>2023-01-01</td>\n",
       "      <td>2023-01-31</td>\n",
       "      <td>0.246725</td>\n",
       "      <td>Month</td>\n",
       "      <td>gen_credo_score</td>\n",
       "      <td>1.1.0</td>\n",
       "      <td>FPD10</td>\n",
       "    </tr>\n",
       "    <tr>\n",
       "      <th>1</th>\n",
       "      <td>2023-01-02</td>\n",
       "      <td>2023-01-08</td>\n",
       "      <td>0.301125</td>\n",
       "      <td>Week</td>\n",
       "      <td>gen_credo_score</td>\n",
       "      <td>1.1.0</td>\n",
       "      <td>FPD10</td>\n",
       "    </tr>\n",
       "    <tr>\n",
       "      <th>2</th>\n",
       "      <td>2023-01-09</td>\n",
       "      <td>2023-01-15</td>\n",
       "      <td>0.273400</td>\n",
       "      <td>Week</td>\n",
       "      <td>gen_credo_score</td>\n",
       "      <td>1.1.0</td>\n",
       "      <td>FPD10</td>\n",
       "    </tr>\n",
       "    <tr>\n",
       "      <th>3</th>\n",
       "      <td>2023-01-16</td>\n",
       "      <td>2023-01-22</td>\n",
       "      <td>0.667532</td>\n",
       "      <td>Week</td>\n",
       "      <td>gen_credo_score</td>\n",
       "      <td>1.1.0</td>\n",
       "      <td>FPD10</td>\n",
       "    </tr>\n",
       "    <tr>\n",
       "      <th>4</th>\n",
       "      <td>2023-01-23</td>\n",
       "      <td>2023-01-29</td>\n",
       "      <td>0.086505</td>\n",
       "      <td>Week</td>\n",
       "      <td>gen_credo_score</td>\n",
       "      <td>1.1.0</td>\n",
       "      <td>FPD10</td>\n",
       "    </tr>\n",
       "  </tbody>\n",
       "</table>\n",
       "</div>"
      ],
      "text/plain": [
       "  start_date   end_date  gen_credo_score_FPD10_gini period       Model_Name  \\\n",
       "0 2023-01-01 2023-01-31                    0.246725  Month  gen_credo_score   \n",
       "1 2023-01-02 2023-01-08                    0.301125   Week  gen_credo_score   \n",
       "2 2023-01-09 2023-01-15                    0.273400   Week  gen_credo_score   \n",
       "3 2023-01-16 2023-01-22                    0.667532   Week  gen_credo_score   \n",
       "4 2023-01-23 2023-01-29                    0.086505   Week  gen_credo_score   \n",
       "\n",
       "  version bad_rate  \n",
       "0   1.1.0    FPD10  \n",
       "1   1.1.0    FPD10  \n",
       "2   1.1.0    FPD10  \n",
       "3   1.1.0    FPD10  \n",
       "4   1.1.0    FPD10  "
      ]
     },
     "execution_count": 108,
     "metadata": {},
     "output_type": "execute_result"
    }
   ],
   "source": [
    "M1FPD10.head()"
   ]
  },
  {
   "cell_type": "markdown",
   "metadata": {},
   "source": [
    "## FPD30"
   ]
  },
  {
   "cell_type": "code",
   "execution_count": 109,
   "metadata": {},
   "outputs": [
    {
     "name": "stdout",
     "output_type": "stream",
     "text": [
      "Job ID 1fd580da-630f-4fa1-9dc7-465ae4f2a795 successfully executed: 100%|\u001b[32m██████████\u001b[0m|"
     ]
    },
    {
     "name": "stderr",
     "output_type": "stream",
     "text": [
      "d:\\Anaconda3\\envs\\inc_env\\lib\\site-packages\\google\\cloud\\bigquery\\table.py:1820: UserWarning: BigQuery Storage module not found, fetch data with the REST endpoint instead.\n",
      "  warnings.warn(\n"
     ]
    },
    {
     "name": "stdout",
     "output_type": "stream",
     "text": [
      "\n",
      "Downloading: 100%|\u001b[32m██████████\u001b[0m|\n"
     ]
    },
    {
     "data": {
      "application/vnd.microsoft.datawrangler.viewer.v0+json": {
       "columns": [
        {
         "name": "index",
         "rawType": "int64",
         "type": "integer"
        },
        {
         "name": "disbursementdate",
         "rawType": "datetime64[us]",
         "type": "unknown"
        },
        {
         "name": "digitalLoanAccountId",
         "rawType": "object",
         "type": "string"
        },
        {
         "name": "gen_credo_score",
         "rawType": "float64",
         "type": "float"
        },
        {
         "name": "ln_fpd30_flag",
         "rawType": "Int64",
         "type": "integer"
        },
        {
         "name": "ln_mature_fpd30_flag",
         "rawType": "Int64",
         "type": "integer"
        }
       ],
       "conversionMethod": "pd.DataFrame",
       "ref": "4f5e3016-6ac8-4b8e-ac32-241d866d2caa",
       "rows": [
        [
         "0",
         "2023-01-02 12:13:00",
         "5e85ce9b-fb16-48a4-9f62-c543782b54e1",
         "0.152458956421623",
         "0",
         "1"
        ],
        [
         "1",
         "2023-01-02 12:28:35",
         "92a04afd-ec2e-4941-a1be-0e3af52aab1f",
         "0.0744514230221316",
         "0",
         "1"
        ],
        [
         "2",
         "2023-01-02 12:53:05",
         "6c53ccd6-5de3-4b2a-8216-caa1b1146cd6",
         "0.10012833305561",
         "1",
         "1"
        ],
        [
         "3",
         "2023-01-02 13:19:37",
         "ea076112-bc60-4a12-9463-37a9be7da3e2",
         "0.169417108458677",
         "0",
         "1"
        ],
        [
         "4",
         "2023-01-02 13:46:09",
         "cfb70c1e-bd39-4202-a376-fc003a6b231d",
         "0.0470181505742306",
         "0",
         "1"
        ]
       ],
       "shape": {
        "columns": 5,
        "rows": 5
       }
      },
      "text/html": [
       "<div>\n",
       "<style scoped>\n",
       "    .dataframe tbody tr th:only-of-type {\n",
       "        vertical-align: middle;\n",
       "    }\n",
       "\n",
       "    .dataframe tbody tr th {\n",
       "        vertical-align: top;\n",
       "    }\n",
       "\n",
       "    .dataframe thead th {\n",
       "        text-align: right;\n",
       "    }\n",
       "</style>\n",
       "<table border=\"1\" class=\"dataframe\">\n",
       "  <thead>\n",
       "    <tr style=\"text-align: right;\">\n",
       "      <th></th>\n",
       "      <th>disbursementdate</th>\n",
       "      <th>digitalLoanAccountId</th>\n",
       "      <th>gen_credo_score</th>\n",
       "      <th>ln_fpd30_flag</th>\n",
       "      <th>ln_mature_fpd30_flag</th>\n",
       "    </tr>\n",
       "  </thead>\n",
       "  <tbody>\n",
       "    <tr>\n",
       "      <th>0</th>\n",
       "      <td>2023-01-02 12:13:00</td>\n",
       "      <td>5e85ce9b-fb16-48a4-9f62-c543782b54e1</td>\n",
       "      <td>0.152459</td>\n",
       "      <td>0</td>\n",
       "      <td>1</td>\n",
       "    </tr>\n",
       "    <tr>\n",
       "      <th>1</th>\n",
       "      <td>2023-01-02 12:28:35</td>\n",
       "      <td>92a04afd-ec2e-4941-a1be-0e3af52aab1f</td>\n",
       "      <td>0.074451</td>\n",
       "      <td>0</td>\n",
       "      <td>1</td>\n",
       "    </tr>\n",
       "    <tr>\n",
       "      <th>2</th>\n",
       "      <td>2023-01-02 12:53:05</td>\n",
       "      <td>6c53ccd6-5de3-4b2a-8216-caa1b1146cd6</td>\n",
       "      <td>0.100128</td>\n",
       "      <td>1</td>\n",
       "      <td>1</td>\n",
       "    </tr>\n",
       "    <tr>\n",
       "      <th>3</th>\n",
       "      <td>2023-01-02 13:19:37</td>\n",
       "      <td>ea076112-bc60-4a12-9463-37a9be7da3e2</td>\n",
       "      <td>0.169417</td>\n",
       "      <td>0</td>\n",
       "      <td>1</td>\n",
       "    </tr>\n",
       "    <tr>\n",
       "      <th>4</th>\n",
       "      <td>2023-01-02 13:46:09</td>\n",
       "      <td>cfb70c1e-bd39-4202-a376-fc003a6b231d</td>\n",
       "      <td>0.047018</td>\n",
       "      <td>0</td>\n",
       "      <td>1</td>\n",
       "    </tr>\n",
       "  </tbody>\n",
       "</table>\n",
       "</div>"
      ],
      "text/plain": [
       "     disbursementdate                  digitalLoanAccountId  gen_credo_score  \\\n",
       "0 2023-01-02 12:13:00  5e85ce9b-fb16-48a4-9f62-c543782b54e1         0.152459   \n",
       "1 2023-01-02 12:28:35  92a04afd-ec2e-4941-a1be-0e3af52aab1f         0.074451   \n",
       "2 2023-01-02 12:53:05  6c53ccd6-5de3-4b2a-8216-caa1b1146cd6         0.100128   \n",
       "3 2023-01-02 13:19:37  ea076112-bc60-4a12-9463-37a9be7da3e2         0.169417   \n",
       "4 2023-01-02 13:46:09  cfb70c1e-bd39-4202-a376-fc003a6b231d         0.047018   \n",
       "\n",
       "   ln_fpd30_flag  ln_mature_fpd30_flag  \n",
       "0              0                     1  \n",
       "1              0                     1  \n",
       "2              1                     1  \n",
       "3              0                     1  \n",
       "4              0                     1  "
      ]
     },
     "execution_count": 109,
     "metadata": {},
     "output_type": "execute_result"
    }
   ],
   "source": [
    "sq = \"\"\"\n",
    "with gen_credo_score as \n",
    "(SELECT \n",
    "    ln_disb_dtime disbursementdate,\n",
    "\tdigitalLoanAccountId,\n",
    "    gen_credo_score,\n",
    "    ln_fpd30_flag,\n",
    "\tln_mature_fpd30_flag,\t\n",
    "\tFROM \n",
    "    prj-prod-dataplatform.risk_mart.sil_risk_ds_master_20230101_20250206\n",
    "  WHERE \n",
    "     -- ln_disb_dtime >= '2023-07-01'\n",
    "    ln_appln_submit_datetime >= '2023-01-01'\n",
    "  -- AND\n",
    "  --   format_date('%Y-%m', ln_disb_dtime) = '2024-09'\n",
    "  AND\n",
    "    ln_fpd30_flag is not null\n",
    "  AND\n",
    "    gen_credo_score is not null\n",
    "  AND\n",
    "    ln_mature_fpd30_flag = 1\n",
    ")\n",
    "select * from gen_credo_score;\n",
    "\"\"\"\n",
    "\n",
    "gen_credo_scorefpd30 = client.query(sq).to_dataframe(progress_bar_type='tqdm')\n",
    "\n",
    "gen_credo_scorefpd30.head()"
   ]
  },
  {
   "cell_type": "code",
   "execution_count": 110,
   "metadata": {},
   "outputs": [
    {
     "data": {
      "application/vnd.microsoft.datawrangler.viewer.v0+json": {
       "columns": [
        {
         "name": "index",
         "rawType": "int64",
         "type": "integer"
        },
        {
         "name": "disbursementdate",
         "rawType": "datetime64[us]",
         "type": "unknown"
        },
        {
         "name": "digitalLoanAccountId",
         "rawType": "object",
         "type": "string"
        },
        {
         "name": "gen_credo_score",
         "rawType": "float64",
         "type": "float"
        },
        {
         "name": "ln_fpd30_flag",
         "rawType": "Int64",
         "type": "integer"
        },
        {
         "name": "ln_mature_fpd30_flag",
         "rawType": "Int64",
         "type": "integer"
        }
       ],
       "conversionMethod": "pd.DataFrame",
       "ref": "2d738e92-ed88-45a8-b25c-3d110a233fb7",
       "rows": [
        [
         "0",
         "2023-01-02 12:13:00",
         "5e85ce9b-fb16-48a4-9f62-c543782b54e1",
         "0.152458956421623",
         "0",
         "1"
        ],
        [
         "1",
         "2023-01-02 12:28:35",
         "92a04afd-ec2e-4941-a1be-0e3af52aab1f",
         "0.0744514230221316",
         "0",
         "1"
        ],
        [
         "2",
         "2023-01-02 12:53:05",
         "6c53ccd6-5de3-4b2a-8216-caa1b1146cd6",
         "0.10012833305561",
         "1",
         "1"
        ],
        [
         "3",
         "2023-01-02 13:19:37",
         "ea076112-bc60-4a12-9463-37a9be7da3e2",
         "0.169417108458677",
         "0",
         "1"
        ],
        [
         "4",
         "2023-01-02 13:46:09",
         "cfb70c1e-bd39-4202-a376-fc003a6b231d",
         "0.0470181505742306",
         "0",
         "1"
        ]
       ],
       "shape": {
        "columns": 5,
        "rows": 5
       }
      },
      "text/html": [
       "<div>\n",
       "<style scoped>\n",
       "    .dataframe tbody tr th:only-of-type {\n",
       "        vertical-align: middle;\n",
       "    }\n",
       "\n",
       "    .dataframe tbody tr th {\n",
       "        vertical-align: top;\n",
       "    }\n",
       "\n",
       "    .dataframe thead th {\n",
       "        text-align: right;\n",
       "    }\n",
       "</style>\n",
       "<table border=\"1\" class=\"dataframe\">\n",
       "  <thead>\n",
       "    <tr style=\"text-align: right;\">\n",
       "      <th></th>\n",
       "      <th>disbursementdate</th>\n",
       "      <th>digitalLoanAccountId</th>\n",
       "      <th>gen_credo_score</th>\n",
       "      <th>ln_fpd30_flag</th>\n",
       "      <th>ln_mature_fpd30_flag</th>\n",
       "    </tr>\n",
       "  </thead>\n",
       "  <tbody>\n",
       "    <tr>\n",
       "      <th>0</th>\n",
       "      <td>2023-01-02 12:13:00</td>\n",
       "      <td>5e85ce9b-fb16-48a4-9f62-c543782b54e1</td>\n",
       "      <td>0.152459</td>\n",
       "      <td>0</td>\n",
       "      <td>1</td>\n",
       "    </tr>\n",
       "    <tr>\n",
       "      <th>1</th>\n",
       "      <td>2023-01-02 12:28:35</td>\n",
       "      <td>92a04afd-ec2e-4941-a1be-0e3af52aab1f</td>\n",
       "      <td>0.074451</td>\n",
       "      <td>0</td>\n",
       "      <td>1</td>\n",
       "    </tr>\n",
       "    <tr>\n",
       "      <th>2</th>\n",
       "      <td>2023-01-02 12:53:05</td>\n",
       "      <td>6c53ccd6-5de3-4b2a-8216-caa1b1146cd6</td>\n",
       "      <td>0.100128</td>\n",
       "      <td>1</td>\n",
       "      <td>1</td>\n",
       "    </tr>\n",
       "    <tr>\n",
       "      <th>3</th>\n",
       "      <td>2023-01-02 13:19:37</td>\n",
       "      <td>ea076112-bc60-4a12-9463-37a9be7da3e2</td>\n",
       "      <td>0.169417</td>\n",
       "      <td>0</td>\n",
       "      <td>1</td>\n",
       "    </tr>\n",
       "    <tr>\n",
       "      <th>4</th>\n",
       "      <td>2023-01-02 13:46:09</td>\n",
       "      <td>cfb70c1e-bd39-4202-a376-fc003a6b231d</td>\n",
       "      <td>0.047018</td>\n",
       "      <td>0</td>\n",
       "      <td>1</td>\n",
       "    </tr>\n",
       "  </tbody>\n",
       "</table>\n",
       "</div>"
      ],
      "text/plain": [
       "     disbursementdate                  digitalLoanAccountId  gen_credo_score  \\\n",
       "0 2023-01-02 12:13:00  5e85ce9b-fb16-48a4-9f62-c543782b54e1         0.152459   \n",
       "1 2023-01-02 12:28:35  92a04afd-ec2e-4941-a1be-0e3af52aab1f         0.074451   \n",
       "2 2023-01-02 12:53:05  6c53ccd6-5de3-4b2a-8216-caa1b1146cd6         0.100128   \n",
       "3 2023-01-02 13:19:37  ea076112-bc60-4a12-9463-37a9be7da3e2         0.169417   \n",
       "4 2023-01-02 13:46:09  cfb70c1e-bd39-4202-a376-fc003a6b231d         0.047018   \n",
       "\n",
       "   ln_fpd30_flag  ln_mature_fpd30_flag  \n",
       "0              0                     1  \n",
       "1              0                     1  \n",
       "2              1                     1  \n",
       "3              0                     1  \n",
       "4              0                     1  "
      ]
     },
     "execution_count": 110,
     "metadata": {},
     "output_type": "execute_result"
    }
   ],
   "source": [
    "gen_credo_scorefpd30.head()"
   ]
  },
  {
   "cell_type": "code",
   "execution_count": 111,
   "metadata": {},
   "outputs": [
    {
     "name": "stdout",
     "output_type": "stream",
     "text": [
      "The shape of dataframe after copy is:\t(127, 7)\n"
     ]
    },
    {
     "data": {
      "text/plain": [
       "array(['start_date', 'end_date', 'gen_credo_score_FPD30_gini', 'period',\n",
       "       'Model_Name', 'version', 'bad_rate'], dtype=object)"
      ]
     },
     "execution_count": 111,
     "metadata": {},
     "output_type": "execute_result"
    }
   ],
   "source": [
    "gini_results = calculate_periodic_gini(gen_credo_scorefpd30, 'gen_credo_score', 'ln_fpd30_flag', 'FPD30')\n",
    "M2FPD30 = gini_results.copy()\n",
    "print(f\"The shape of dataframe after copy is:\\t{M2FPD30.shape}\")\n",
    "M2FPD30.columns.values"
   ]
  },
  {
   "cell_type": "code",
   "execution_count": 112,
   "metadata": {},
   "outputs": [
    {
     "data": {
      "application/vnd.microsoft.datawrangler.viewer.v0+json": {
       "columns": [
        {
         "name": "index",
         "rawType": "int64",
         "type": "integer"
        },
        {
         "name": "start_date",
         "rawType": "datetime64[ns]",
         "type": "datetime"
        },
        {
         "name": "end_date",
         "rawType": "datetime64[ns]",
         "type": "datetime"
        },
        {
         "name": "gen_credo_score_FPD30_gini",
         "rawType": "float64",
         "type": "float"
        },
        {
         "name": "period",
         "rawType": "object",
         "type": "string"
        },
        {
         "name": "Model_Name",
         "rawType": "object",
         "type": "string"
        },
        {
         "name": "version",
         "rawType": "object",
         "type": "string"
        },
        {
         "name": "bad_rate",
         "rawType": "object",
         "type": "string"
        }
       ],
       "conversionMethod": "pd.DataFrame",
       "ref": "922d7f8f-ebb9-4a73-b75a-5ee545ad8e50",
       "rows": [
        [
         "0",
         "2023-01-01 00:00:00",
         "2023-01-31 00:00:00",
         "0.25300462249614797",
         "Month",
         "gen_credo_score",
         "1.1.0",
         "FPD30"
        ],
        [
         "1",
         "2023-01-02 00:00:00",
         "2023-01-08 00:00:00",
         "0.3421487603305784",
         "Week",
         "gen_credo_score",
         "1.1.0",
         "FPD30"
        ],
        [
         "2",
         "2023-01-09 00:00:00",
         "2023-01-15 00:00:00",
         "0.4071625344352616",
         "Week",
         "gen_credo_score",
         "1.1.0",
         "FPD30"
        ],
        [
         "3",
         "2023-01-16 00:00:00",
         "2023-01-22 00:00:00",
         "0.6675324675324676",
         "Week",
         "gen_credo_score",
         "1.1.0",
         "FPD30"
        ],
        [
         "4",
         "2023-01-23 00:00:00",
         "2023-01-29 00:00:00",
         "0.025547445255474477",
         "Week",
         "gen_credo_score",
         "1.1.0",
         "FPD30"
        ]
       ],
       "shape": {
        "columns": 7,
        "rows": 5
       }
      },
      "text/html": [
       "<div>\n",
       "<style scoped>\n",
       "    .dataframe tbody tr th:only-of-type {\n",
       "        vertical-align: middle;\n",
       "    }\n",
       "\n",
       "    .dataframe tbody tr th {\n",
       "        vertical-align: top;\n",
       "    }\n",
       "\n",
       "    .dataframe thead th {\n",
       "        text-align: right;\n",
       "    }\n",
       "</style>\n",
       "<table border=\"1\" class=\"dataframe\">\n",
       "  <thead>\n",
       "    <tr style=\"text-align: right;\">\n",
       "      <th></th>\n",
       "      <th>start_date</th>\n",
       "      <th>end_date</th>\n",
       "      <th>gen_credo_score_FPD30_gini</th>\n",
       "      <th>period</th>\n",
       "      <th>Model_Name</th>\n",
       "      <th>version</th>\n",
       "      <th>bad_rate</th>\n",
       "    </tr>\n",
       "  </thead>\n",
       "  <tbody>\n",
       "    <tr>\n",
       "      <th>0</th>\n",
       "      <td>2023-01-01</td>\n",
       "      <td>2023-01-31</td>\n",
       "      <td>0.253005</td>\n",
       "      <td>Month</td>\n",
       "      <td>gen_credo_score</td>\n",
       "      <td>1.1.0</td>\n",
       "      <td>FPD30</td>\n",
       "    </tr>\n",
       "    <tr>\n",
       "      <th>1</th>\n",
       "      <td>2023-01-02</td>\n",
       "      <td>2023-01-08</td>\n",
       "      <td>0.342149</td>\n",
       "      <td>Week</td>\n",
       "      <td>gen_credo_score</td>\n",
       "      <td>1.1.0</td>\n",
       "      <td>FPD30</td>\n",
       "    </tr>\n",
       "    <tr>\n",
       "      <th>2</th>\n",
       "      <td>2023-01-09</td>\n",
       "      <td>2023-01-15</td>\n",
       "      <td>0.407163</td>\n",
       "      <td>Week</td>\n",
       "      <td>gen_credo_score</td>\n",
       "      <td>1.1.0</td>\n",
       "      <td>FPD30</td>\n",
       "    </tr>\n",
       "    <tr>\n",
       "      <th>3</th>\n",
       "      <td>2023-01-16</td>\n",
       "      <td>2023-01-22</td>\n",
       "      <td>0.667532</td>\n",
       "      <td>Week</td>\n",
       "      <td>gen_credo_score</td>\n",
       "      <td>1.1.0</td>\n",
       "      <td>FPD30</td>\n",
       "    </tr>\n",
       "    <tr>\n",
       "      <th>4</th>\n",
       "      <td>2023-01-23</td>\n",
       "      <td>2023-01-29</td>\n",
       "      <td>0.025547</td>\n",
       "      <td>Week</td>\n",
       "      <td>gen_credo_score</td>\n",
       "      <td>1.1.0</td>\n",
       "      <td>FPD30</td>\n",
       "    </tr>\n",
       "  </tbody>\n",
       "</table>\n",
       "</div>"
      ],
      "text/plain": [
       "  start_date   end_date  gen_credo_score_FPD30_gini period       Model_Name  \\\n",
       "0 2023-01-01 2023-01-31                    0.253005  Month  gen_credo_score   \n",
       "1 2023-01-02 2023-01-08                    0.342149   Week  gen_credo_score   \n",
       "2 2023-01-09 2023-01-15                    0.407163   Week  gen_credo_score   \n",
       "3 2023-01-16 2023-01-22                    0.667532   Week  gen_credo_score   \n",
       "4 2023-01-23 2023-01-29                    0.025547   Week  gen_credo_score   \n",
       "\n",
       "  version bad_rate  \n",
       "0   1.1.0    FPD30  \n",
       "1   1.1.0    FPD30  \n",
       "2   1.1.0    FPD30  \n",
       "3   1.1.0    FPD30  \n",
       "4   1.1.0    FPD30  "
      ]
     },
     "execution_count": 112,
     "metadata": {},
     "output_type": "execute_result"
    }
   ],
   "source": [
    "M2FPD30.head()"
   ]
  },
  {
   "cell_type": "markdown",
   "metadata": {},
   "source": [
    "## FSPD30"
   ]
  },
  {
   "cell_type": "code",
   "execution_count": 113,
   "metadata": {},
   "outputs": [
    {
     "name": "stdout",
     "output_type": "stream",
     "text": [
      "Job ID 0ccce1d3-f031-40ba-bbb5-ad6575857140 successfully executed: 100%|\u001b[32m██████████\u001b[0m|"
     ]
    },
    {
     "name": "stderr",
     "output_type": "stream",
     "text": [
      "d:\\Anaconda3\\envs\\inc_env\\lib\\site-packages\\google\\cloud\\bigquery\\table.py:1820: UserWarning: BigQuery Storage module not found, fetch data with the REST endpoint instead.\n",
      "  warnings.warn(\n"
     ]
    },
    {
     "name": "stdout",
     "output_type": "stream",
     "text": [
      "\n",
      "Downloading: 100%|\u001b[32m██████████\u001b[0m|\n",
      "     disbursementdate                  digitalLoanAccountId  gen_credo_score  \\\n",
      "0 2023-01-02 10:19:54  73902306-ce07-4625-9d1e-a611eeb83166         0.175299   \n",
      "1 2023-01-02 10:56:20  ac41223e-0d42-4569-b21f-789bce021291         0.072991   \n",
      "\n",
      "   ln_fspd30_flag  ln_mature_fspd30_flag  \n",
      "0               0                      1  \n",
      "1               0                      1  \n",
      "The shape of dataframe after copy is:\t(122, 7)\n",
      "['start_date' 'end_date' 'gen_credo_score_FSPD30_gini' 'period'\n",
      " 'Model_Name' 'version' 'bad_rate']\n"
     ]
    },
    {
     "data": {
      "application/vnd.microsoft.datawrangler.viewer.v0+json": {
       "columns": [
        {
         "name": "index",
         "rawType": "int64",
         "type": "integer"
        },
        {
         "name": "start_date",
         "rawType": "datetime64[ns]",
         "type": "datetime"
        },
        {
         "name": "end_date",
         "rawType": "datetime64[ns]",
         "type": "datetime"
        },
        {
         "name": "gen_credo_score_FSPD30_gini",
         "rawType": "float64",
         "type": "float"
        },
        {
         "name": "period",
         "rawType": "object",
         "type": "string"
        },
        {
         "name": "Model_Name",
         "rawType": "object",
         "type": "string"
        },
        {
         "name": "version",
         "rawType": "object",
         "type": "string"
        },
        {
         "name": "bad_rate",
         "rawType": "object",
         "type": "string"
        }
       ],
       "conversionMethod": "pd.DataFrame",
       "ref": "b692d69a-0a2b-4a2a-afe5-90963e6e77e5",
       "rows": [
        [
         "0",
         "2023-01-01 00:00:00",
         "2023-01-31 00:00:00",
         "0.17205509242479167",
         "Month",
         "gen_credo_score",
         "1.1.0",
         "FSPD30"
        ],
        [
         "1",
         "2023-01-02 00:00:00",
         "2023-01-08 00:00:00",
         "0.26280323450134757",
         "Week",
         "gen_credo_score",
         "1.1.0",
         "FSPD30"
        ],
        [
         "2",
         "2023-01-09 00:00:00",
         "2023-01-15 00:00:00",
         "0.18974358974358974",
         "Week",
         "gen_credo_score",
         "1.1.0",
         "FSPD30"
        ],
        [
         "3",
         "2023-01-16 00:00:00",
         "2023-01-22 00:00:00",
         "0.4107382550335572",
         "Week",
         "gen_credo_score",
         "1.1.0",
         "FSPD30"
        ],
        [
         "4",
         "2023-01-23 00:00:00",
         "2023-01-29 00:00:00",
         "0.0735785953177257",
         "Week",
         "gen_credo_score",
         "1.1.0",
         "FSPD30"
        ]
       ],
       "shape": {
        "columns": 7,
        "rows": 5
       }
      },
      "text/html": [
       "<div>\n",
       "<style scoped>\n",
       "    .dataframe tbody tr th:only-of-type {\n",
       "        vertical-align: middle;\n",
       "    }\n",
       "\n",
       "    .dataframe tbody tr th {\n",
       "        vertical-align: top;\n",
       "    }\n",
       "\n",
       "    .dataframe thead th {\n",
       "        text-align: right;\n",
       "    }\n",
       "</style>\n",
       "<table border=\"1\" class=\"dataframe\">\n",
       "  <thead>\n",
       "    <tr style=\"text-align: right;\">\n",
       "      <th></th>\n",
       "      <th>start_date</th>\n",
       "      <th>end_date</th>\n",
       "      <th>gen_credo_score_FSPD30_gini</th>\n",
       "      <th>period</th>\n",
       "      <th>Model_Name</th>\n",
       "      <th>version</th>\n",
       "      <th>bad_rate</th>\n",
       "    </tr>\n",
       "  </thead>\n",
       "  <tbody>\n",
       "    <tr>\n",
       "      <th>0</th>\n",
       "      <td>2023-01-01</td>\n",
       "      <td>2023-01-31</td>\n",
       "      <td>0.172055</td>\n",
       "      <td>Month</td>\n",
       "      <td>gen_credo_score</td>\n",
       "      <td>1.1.0</td>\n",
       "      <td>FSPD30</td>\n",
       "    </tr>\n",
       "    <tr>\n",
       "      <th>1</th>\n",
       "      <td>2023-01-02</td>\n",
       "      <td>2023-01-08</td>\n",
       "      <td>0.262803</td>\n",
       "      <td>Week</td>\n",
       "      <td>gen_credo_score</td>\n",
       "      <td>1.1.0</td>\n",
       "      <td>FSPD30</td>\n",
       "    </tr>\n",
       "    <tr>\n",
       "      <th>2</th>\n",
       "      <td>2023-01-09</td>\n",
       "      <td>2023-01-15</td>\n",
       "      <td>0.189744</td>\n",
       "      <td>Week</td>\n",
       "      <td>gen_credo_score</td>\n",
       "      <td>1.1.0</td>\n",
       "      <td>FSPD30</td>\n",
       "    </tr>\n",
       "    <tr>\n",
       "      <th>3</th>\n",
       "      <td>2023-01-16</td>\n",
       "      <td>2023-01-22</td>\n",
       "      <td>0.410738</td>\n",
       "      <td>Week</td>\n",
       "      <td>gen_credo_score</td>\n",
       "      <td>1.1.0</td>\n",
       "      <td>FSPD30</td>\n",
       "    </tr>\n",
       "    <tr>\n",
       "      <th>4</th>\n",
       "      <td>2023-01-23</td>\n",
       "      <td>2023-01-29</td>\n",
       "      <td>0.073579</td>\n",
       "      <td>Week</td>\n",
       "      <td>gen_credo_score</td>\n",
       "      <td>1.1.0</td>\n",
       "      <td>FSPD30</td>\n",
       "    </tr>\n",
       "  </tbody>\n",
       "</table>\n",
       "</div>"
      ],
      "text/plain": [
       "  start_date   end_date  gen_credo_score_FSPD30_gini period       Model_Name  \\\n",
       "0 2023-01-01 2023-01-31                     0.172055  Month  gen_credo_score   \n",
       "1 2023-01-02 2023-01-08                     0.262803   Week  gen_credo_score   \n",
       "2 2023-01-09 2023-01-15                     0.189744   Week  gen_credo_score   \n",
       "3 2023-01-16 2023-01-22                     0.410738   Week  gen_credo_score   \n",
       "4 2023-01-23 2023-01-29                     0.073579   Week  gen_credo_score   \n",
       "\n",
       "  version bad_rate  \n",
       "0   1.1.0   FSPD30  \n",
       "1   1.1.0   FSPD30  \n",
       "2   1.1.0   FSPD30  \n",
       "3   1.1.0   FSPD30  \n",
       "4   1.1.0   FSPD30  "
      ]
     },
     "execution_count": 113,
     "metadata": {},
     "output_type": "execute_result"
    }
   ],
   "source": [
    "sq = \"\"\"\n",
    "with gen_credo_score as \n",
    "(SELECT \n",
    "    ln_disb_dtime disbursementdate,\n",
    "\tdigitalLoanAccountId,\n",
    "    gen_credo_score,\n",
    "    ln_fspd30_flag,\n",
    "\tln_mature_fspd30_flag,\t\n",
    "\tFROM \n",
    "    prj-prod-dataplatform.risk_mart.sil_risk_ds_master_20230101_20250206\n",
    "  WHERE \n",
    "     -- ln_disb_dtime >= '2023-07-01'\n",
    "    ln_appln_submit_datetime >= '2023-01-01'\n",
    "  -- AND\n",
    "  --   format_date('%Y-%m', ln_disb_dtime) = '2024-09'\n",
    "  AND\n",
    "    ln_fspd30_flag is not null\n",
    "  AND\n",
    "    gen_credo_score is not null\n",
    "  AND\n",
    "    ln_mature_fspd30_flag = 1\n",
    ")\n",
    "select * from gen_credo_score;\n",
    "\"\"\"\n",
    "\n",
    "gen_credo_scorefspd30 = client.query(sq).to_dataframe(progress_bar_type='tqdm')\n",
    "\n",
    "print(gen_credo_scorefspd30.head(2))\n",
    "\n",
    "gini_results = calculate_periodic_gini(gen_credo_scorefspd30, 'gen_credo_score', 'ln_fspd30_flag', 'FSPD30')\n",
    "M3FSPD30 = gini_results.copy()\n",
    "print(f\"The shape of dataframe after copy is:\\t{M3FSPD30.shape}\")\n",
    "print(M3FSPD30.columns.values)\n",
    "\n",
    "M3FSPD30.head()"
   ]
  },
  {
   "cell_type": "markdown",
   "metadata": {},
   "source": [
    "## FSTPD30"
   ]
  },
  {
   "cell_type": "code",
   "execution_count": 114,
   "metadata": {},
   "outputs": [
    {
     "name": "stdout",
     "output_type": "stream",
     "text": [
      "Job ID 235addc4-0b68-4279-8dfc-38033a38e394 successfully executed: 100%|\u001b[32m██████████\u001b[0m|"
     ]
    },
    {
     "name": "stderr",
     "output_type": "stream",
     "text": [
      "d:\\Anaconda3\\envs\\inc_env\\lib\\site-packages\\google\\cloud\\bigquery\\table.py:1820: UserWarning: BigQuery Storage module not found, fetch data with the REST endpoint instead.\n",
      "  warnings.warn(\n"
     ]
    },
    {
     "name": "stdout",
     "output_type": "stream",
     "text": [
      "\n",
      "Downloading: 100%|\u001b[32m██████████\u001b[0m|\n",
      "     disbursementdate                  digitalLoanAccountId  gen_credo_score  \\\n",
      "0 2023-01-02 10:19:54  73902306-ce07-4625-9d1e-a611eeb83166         0.175299   \n",
      "1 2023-01-02 10:56:20  ac41223e-0d42-4569-b21f-789bce021291         0.072991   \n",
      "\n",
      "   ln_fstpd30_flag  ln_mature_fstpd30_flag  \n",
      "0                0                       1  \n",
      "1                0                       1  \n",
      "The shape of dataframe after copy is:\t(116, 7)\n",
      "['start_date' 'end_date' 'gen_credo_score_FSTPD30_gini' 'period'\n",
      " 'Model_Name' 'version' 'bad_rate']\n"
     ]
    },
    {
     "data": {
      "application/vnd.microsoft.datawrangler.viewer.v0+json": {
       "columns": [
        {
         "name": "index",
         "rawType": "int64",
         "type": "integer"
        },
        {
         "name": "start_date",
         "rawType": "datetime64[ns]",
         "type": "datetime"
        },
        {
         "name": "end_date",
         "rawType": "datetime64[ns]",
         "type": "datetime"
        },
        {
         "name": "gen_credo_score_FSTPD30_gini",
         "rawType": "float64",
         "type": "float"
        },
        {
         "name": "period",
         "rawType": "object",
         "type": "string"
        },
        {
         "name": "Model_Name",
         "rawType": "object",
         "type": "string"
        },
        {
         "name": "version",
         "rawType": "object",
         "type": "string"
        },
        {
         "name": "bad_rate",
         "rawType": "object",
         "type": "string"
        }
       ],
       "conversionMethod": "pd.DataFrame",
       "ref": "31f7e41b-3228-43a7-9250-b1d0d6550dd3",
       "rows": [
        [
         "0",
         "2023-01-01 00:00:00",
         "2023-01-31 00:00:00",
         "0.180836847419374",
         "Month",
         "gen_credo_score",
         "1.1.0",
         "FSTPD30"
        ],
        [
         "1",
         "2023-01-02 00:00:00",
         "2023-01-08 00:00:00",
         "0.28295946477764655",
         "Week",
         "gen_credo_score",
         "1.1.0",
         "FSTPD30"
        ],
        [
         "2",
         "2023-01-09 00:00:00",
         "2023-01-15 00:00:00",
         "0.18990802883420344",
         "Week",
         "gen_credo_score",
         "1.1.0",
         "FSTPD30"
        ],
        [
         "3",
         "2023-01-16 00:00:00",
         "2023-01-22 00:00:00",
         "0.19884009942004988",
         "Week",
         "gen_credo_score",
         "1.1.0",
         "FSTPD30"
        ],
        [
         "4",
         "2023-01-23 00:00:00",
         "2023-01-29 00:00:00",
         "0.16284538506760726",
         "Week",
         "gen_credo_score",
         "1.1.0",
         "FSTPD30"
        ]
       ],
       "shape": {
        "columns": 7,
        "rows": 5
       }
      },
      "text/html": [
       "<div>\n",
       "<style scoped>\n",
       "    .dataframe tbody tr th:only-of-type {\n",
       "        vertical-align: middle;\n",
       "    }\n",
       "\n",
       "    .dataframe tbody tr th {\n",
       "        vertical-align: top;\n",
       "    }\n",
       "\n",
       "    .dataframe thead th {\n",
       "        text-align: right;\n",
       "    }\n",
       "</style>\n",
       "<table border=\"1\" class=\"dataframe\">\n",
       "  <thead>\n",
       "    <tr style=\"text-align: right;\">\n",
       "      <th></th>\n",
       "      <th>start_date</th>\n",
       "      <th>end_date</th>\n",
       "      <th>gen_credo_score_FSTPD30_gini</th>\n",
       "      <th>period</th>\n",
       "      <th>Model_Name</th>\n",
       "      <th>version</th>\n",
       "      <th>bad_rate</th>\n",
       "    </tr>\n",
       "  </thead>\n",
       "  <tbody>\n",
       "    <tr>\n",
       "      <th>0</th>\n",
       "      <td>2023-01-01</td>\n",
       "      <td>2023-01-31</td>\n",
       "      <td>0.180837</td>\n",
       "      <td>Month</td>\n",
       "      <td>gen_credo_score</td>\n",
       "      <td>1.1.0</td>\n",
       "      <td>FSTPD30</td>\n",
       "    </tr>\n",
       "    <tr>\n",
       "      <th>1</th>\n",
       "      <td>2023-01-02</td>\n",
       "      <td>2023-01-08</td>\n",
       "      <td>0.282959</td>\n",
       "      <td>Week</td>\n",
       "      <td>gen_credo_score</td>\n",
       "      <td>1.1.0</td>\n",
       "      <td>FSTPD30</td>\n",
       "    </tr>\n",
       "    <tr>\n",
       "      <th>2</th>\n",
       "      <td>2023-01-09</td>\n",
       "      <td>2023-01-15</td>\n",
       "      <td>0.189908</td>\n",
       "      <td>Week</td>\n",
       "      <td>gen_credo_score</td>\n",
       "      <td>1.1.0</td>\n",
       "      <td>FSTPD30</td>\n",
       "    </tr>\n",
       "    <tr>\n",
       "      <th>3</th>\n",
       "      <td>2023-01-16</td>\n",
       "      <td>2023-01-22</td>\n",
       "      <td>0.198840</td>\n",
       "      <td>Week</td>\n",
       "      <td>gen_credo_score</td>\n",
       "      <td>1.1.0</td>\n",
       "      <td>FSTPD30</td>\n",
       "    </tr>\n",
       "    <tr>\n",
       "      <th>4</th>\n",
       "      <td>2023-01-23</td>\n",
       "      <td>2023-01-29</td>\n",
       "      <td>0.162845</td>\n",
       "      <td>Week</td>\n",
       "      <td>gen_credo_score</td>\n",
       "      <td>1.1.0</td>\n",
       "      <td>FSTPD30</td>\n",
       "    </tr>\n",
       "  </tbody>\n",
       "</table>\n",
       "</div>"
      ],
      "text/plain": [
       "  start_date   end_date  gen_credo_score_FSTPD30_gini period       Model_Name  \\\n",
       "0 2023-01-01 2023-01-31                      0.180837  Month  gen_credo_score   \n",
       "1 2023-01-02 2023-01-08                      0.282959   Week  gen_credo_score   \n",
       "2 2023-01-09 2023-01-15                      0.189908   Week  gen_credo_score   \n",
       "3 2023-01-16 2023-01-22                      0.198840   Week  gen_credo_score   \n",
       "4 2023-01-23 2023-01-29                      0.162845   Week  gen_credo_score   \n",
       "\n",
       "  version bad_rate  \n",
       "0   1.1.0  FSTPD30  \n",
       "1   1.1.0  FSTPD30  \n",
       "2   1.1.0  FSTPD30  \n",
       "3   1.1.0  FSTPD30  \n",
       "4   1.1.0  FSTPD30  "
      ]
     },
     "execution_count": 114,
     "metadata": {},
     "output_type": "execute_result"
    }
   ],
   "source": [
    "sq = \"\"\"\n",
    "with gen_credo_score as \n",
    "(SELECT \n",
    "    ln_disb_dtime disbursementdate,\n",
    "\tdigitalLoanAccountId,\n",
    "    gen_credo_score,\n",
    "    ln_fstpd30_flag,\n",
    "\tln_mature_fstpd30_flag,\t\n",
    "\tFROM \n",
    "    prj-prod-dataplatform.risk_mart.sil_risk_ds_master_20230101_20250206\n",
    "  WHERE \n",
    "     -- ln_disb_dtime >= '2023-07-01'\n",
    "    ln_appln_submit_datetime >= '2023-01-01'\n",
    "  -- AND\n",
    "  --   format_date('%Y-%m', ln_disb_dtime) = '2024-09'\n",
    "  AND\n",
    "    ln_fstpd30_flag is not null\n",
    "  AND\n",
    "    gen_credo_score is not null\n",
    "  AND\n",
    "    ln_mature_fstpd30_flag = 1\n",
    ")\n",
    "select * from gen_credo_score;\n",
    "\"\"\"\n",
    "\n",
    "gen_credo_scorefstpd30 = client.query(sq).to_dataframe(progress_bar_type='tqdm')\n",
    "\n",
    "print(gen_credo_scorefstpd30.head(2))\n",
    "\n",
    "gini_results = calculate_periodic_gini(gen_credo_scorefstpd30, 'gen_credo_score', 'ln_fstpd30_flag', 'FSTPD30')\n",
    "M4FSTPD30 = gini_results.copy()\n",
    "print(f\"The shape of dataframe after copy is:\\t{M4FSTPD30.shape}\")\n",
    "print(M4FSTPD30.columns.values)\n",
    "\n",
    "M4FSTPD30.head()"
   ]
  },
  {
   "cell_type": "markdown",
   "metadata": {},
   "source": [
    "## Combining tables "
   ]
  },
  {
   "cell_type": "code",
   "execution_count": 115,
   "metadata": {},
   "outputs": [
    {
     "data": {
      "text/plain": [
       "array(['start_date', 'end_date', 'gen_credo_score_FPD10_gini', 'period',\n",
       "       'Model_Name', 'version', 'bad_rate', 'gen_credo_score_FPD30_gini',\n",
       "       'gen_credo_score_FSPD30_gini', 'gen_credo_score_FSTPD30_gini'],\n",
       "      dtype=object)"
      ]
     },
     "execution_count": 115,
     "metadata": {},
     "output_type": "execute_result"
    }
   ],
   "source": [
    "import functools\n",
    "\n",
    "dataframes = [M1FPD10, M2FPD30, M3FSPD30, M4FSTPD30]\n",
    "common_columns = ['start_date', 'end_date', 'period', 'Model_Name','version', 'bad_rate']\n",
    "\n",
    "def merge_dataframes(df1, df2):\n",
    "    return pd.merge(df1, df2, on=common_columns, how='outer')\n",
    "\n",
    "final_df = functools.reduce(merge_dataframes, dataframes)\n",
    "\n",
    "final_df.columns.values"
   ]
  },
  {
   "cell_type": "code",
   "execution_count": 116,
   "metadata": {},
   "outputs": [],
   "source": [
    "final_df = final_df[['start_date', 'end_date','period',\n",
    "       'Model_Name', 'version', 'bad_rate', 'gen_credo_score_FPD10_gini','gen_credo_score_FPD30_gini',   'gen_credo_score_FSPD30_gini', 'gen_credo_score_FSTPD30_gini']].copy()"
   ]
  },
  {
   "cell_type": "code",
   "execution_count": 117,
   "metadata": {},
   "outputs": [
    {
     "data": {
      "text/plain": [
       "QueryJob<project=prj-prod-dataplatform, location=asia-southeast1, id=1e2e4552-7c95-46ac-b858-c58802a648e1>"
      ]
     },
     "execution_count": 117,
     "metadata": {},
     "output_type": "execute_result"
    }
   ],
   "source": [
    "sq = \"\"\"drop table if exists prj-prod-dataplatform.dap_ds_poweruser_playground.Model_gini_gen_credo_score;\"\"\"\n",
    "\n",
    "client.query(sq)"
   ]
  },
  {
   "cell_type": "code",
   "execution_count": 118,
   "metadata": {},
   "outputs": [
    {
     "data": {
      "text/plain": [
       "LoadJob<project=prj-prod-dataplatform, location=asia-southeast1, id=e6933728-87a8-432d-a10f-bd1323896bc2>"
      ]
     },
     "execution_count": 118,
     "metadata": {},
     "output_type": "execute_result"
    }
   ],
   "source": [
    "import pandas as pd\n",
    "from google.cloud import bigquery\n",
    "\n",
    "# Create a BigQuery client\n",
    "client = bigquery.Client('prj-prod-dataplatform')\n",
    "\n",
    "# Define your table schema\n",
    "table_schema = [\n",
    "    bigquery.SchemaField('start_date', 'TIMESTAMP'),\n",
    "    bigquery.SchemaField('end_date', 'TIMESTAMP'),\n",
    "    bigquery.SchemaField('period', 'STRING'),\n",
    "    bigquery.SchemaField('Model_Name', 'STRING'),\n",
    "    bigquery.SchemaField('version', 'STRING'),\n",
    "    bigquery.SchemaField('Badrate', 'STRING'),\n",
    "    bigquery.SchemaField('gen_credo_score_FPD10_gini', 'FLOAT'),\n",
    "    bigquery.SchemaField('gen_credo_score_FPD30_gini', 'FLOAT'),    \n",
    "    bigquery.SchemaField('gen_credo_score_FSPD30_gini', 'FLOAT'),\n",
    "    bigquery.SchemaField('gen_credo_score_FSTPD30_gini', 'FLOAT')\n",
    "    \n",
    "]\n",
    "\n",
    "# Create your BigQuery table\n",
    "table_id = 'prj-prod-dataplatform.dap_ds_poweruser_playground.Model_gini_gen_credo_score'\n",
    "table = bigquery.Table(table_id, schema=table_schema)\n",
    "table = client.create_table(table)\n",
    "\n",
    "# Load your DataFrame into BigQuery\n",
    "job_config = bigquery.LoadJobConfig(\n",
    "    write_disposition='WRITE_TRUNCATE'\n",
    ")\n",
    "\n",
    "load_job = client.load_table_from_dataframe(\n",
    "    final_df, table_id, job_config=job_config\n",
    ")\n",
    "\n",
    "load_job.result()"
   ]
  },
  {
   "cell_type": "markdown",
   "metadata": {},
   "source": [
    "# c_credo_score"
   ]
  },
  {
   "cell_type": "code",
   "execution_count": 119,
   "metadata": {},
   "outputs": [
    {
     "name": "stdout",
     "output_type": "stream",
     "text": [
      "Job ID d05b1820-85aa-428d-9e56-d5e7c7055ba1 successfully executed: 100%|\u001b[32m██████████\u001b[0m|"
     ]
    },
    {
     "name": "stderr",
     "output_type": "stream",
     "text": [
      "d:\\Anaconda3\\envs\\inc_env\\lib\\site-packages\\google\\cloud\\bigquery\\table.py:1820: UserWarning: BigQuery Storage module not found, fetch data with the REST endpoint instead.\n",
      "  warnings.warn(\n"
     ]
    },
    {
     "name": "stdout",
     "output_type": "stream",
     "text": [
      "\n",
      "Downloading: 100%|\u001b[32m██████████\u001b[0m|\n",
      "The shape of dataframe after copy is:\t(131, 7)\n",
      "Job ID d092f0c9-30aa-4181-bdcd-0c70511bc205 successfully executed: 100%|\u001b[32m██████████\u001b[0m|"
     ]
    },
    {
     "name": "stderr",
     "output_type": "stream",
     "text": [
      "d:\\Anaconda3\\envs\\inc_env\\lib\\site-packages\\google\\cloud\\bigquery\\table.py:1820: UserWarning: BigQuery Storage module not found, fetch data with the REST endpoint instead.\n",
      "  warnings.warn(\n"
     ]
    },
    {
     "name": "stdout",
     "output_type": "stream",
     "text": [
      "\n",
      "Downloading: 100%|\u001b[32m██████████\u001b[0m|\n",
      "The shape of dataframe after copy is:\t(127, 7)\n",
      "Job ID 3aa61840-7649-488b-b9bd-3159d1287129 successfully executed: 100%|\u001b[32m██████████\u001b[0m|"
     ]
    },
    {
     "name": "stderr",
     "output_type": "stream",
     "text": [
      "d:\\Anaconda3\\envs\\inc_env\\lib\\site-packages\\google\\cloud\\bigquery\\table.py:1820: UserWarning: BigQuery Storage module not found, fetch data with the REST endpoint instead.\n",
      "  warnings.warn(\n"
     ]
    },
    {
     "name": "stdout",
     "output_type": "stream",
     "text": [
      "\n",
      "Downloading: 100%|\u001b[32m██████████\u001b[0m|\n",
      "     disbursementdate                  digitalLoanAccountId  c_credo_score  \\\n",
      "0 2023-01-02 12:13:00  5e85ce9b-fb16-48a4-9f62-c543782b54e1       0.219463   \n",
      "1 2023-01-02 12:28:35  92a04afd-ec2e-4941-a1be-0e3af52aab1f       0.281711   \n",
      "\n",
      "   ln_fspd30_flag  ln_mature_fspd30_flag  \n",
      "0               0                      1  \n",
      "1               0                      1  \n",
      "The shape of dataframe after copy is:\t(122, 7)\n",
      "['start_date' 'end_date' 'c_credo_score_FSPD30_gini' 'period' 'Model_Name'\n",
      " 'version' 'bad_rate']\n",
      "Job ID e1c6ce22-071a-4699-bc7c-0b2d8bb22d9f successfully executed: 100%|\u001b[32m██████████\u001b[0m|"
     ]
    },
    {
     "name": "stderr",
     "output_type": "stream",
     "text": [
      "d:\\Anaconda3\\envs\\inc_env\\lib\\site-packages\\google\\cloud\\bigquery\\table.py:1820: UserWarning: BigQuery Storage module not found, fetch data with the REST endpoint instead.\n",
      "  warnings.warn(\n"
     ]
    },
    {
     "name": "stdout",
     "output_type": "stream",
     "text": [
      "\n",
      "Downloading: 100%|\u001b[32m██████████\u001b[0m|\n",
      "     disbursementdate                  digitalLoanAccountId  c_credo_score  \\\n",
      "0 2023-01-02 10:19:54  73902306-ce07-4625-9d1e-a611eeb83166       0.198732   \n",
      "1 2023-01-02 10:56:20  ac41223e-0d42-4569-b21f-789bce021291       0.205840   \n",
      "\n",
      "   ln_fstpd30_flag  ln_mature_fstpd30_flag  \n",
      "0                0                       1  \n",
      "1                0                       1  \n",
      "The shape of dataframe after copy is:\t(116, 7)\n",
      "['start_date' 'end_date' 'c_credo_score_FSTPD30_gini' 'period'\n",
      " 'Model_Name' 'version' 'bad_rate']\n"
     ]
    },
    {
     "data": {
      "application/vnd.microsoft.datawrangler.viewer.v0+json": {
       "columns": [
        {
         "name": "index",
         "rawType": "int64",
         "type": "integer"
        },
        {
         "name": "start_date",
         "rawType": "datetime64[ns]",
         "type": "datetime"
        },
        {
         "name": "end_date",
         "rawType": "datetime64[ns]",
         "type": "datetime"
        },
        {
         "name": "c_credo_score_FSTPD30_gini",
         "rawType": "float64",
         "type": "float"
        },
        {
         "name": "period",
         "rawType": "object",
         "type": "string"
        },
        {
         "name": "Model_Name",
         "rawType": "object",
         "type": "string"
        },
        {
         "name": "version",
         "rawType": "object",
         "type": "string"
        },
        {
         "name": "bad_rate",
         "rawType": "object",
         "type": "string"
        }
       ],
       "conversionMethod": "pd.DataFrame",
       "ref": "4b9239e0-4ee5-43dd-bb42-a97467585b77",
       "rows": [
        [
         "0",
         "2023-01-01 00:00:00",
         "2023-01-31 00:00:00",
         "0.03594761537090929",
         "Month",
         "c_credo_score",
         "1.1.0",
         "FSTPD30"
        ],
        [
         "1",
         "2023-01-02 00:00:00",
         "2023-01-08 00:00:00",
         "0.03600944510035431",
         "Week",
         "c_credo_score",
         "1.1.0",
         "FSTPD30"
        ],
        [
         "2",
         "2023-01-09 00:00:00",
         "2023-01-15 00:00:00",
         "0.062142679592343875",
         "Week",
         "c_credo_score",
         "1.1.0",
         "FSTPD30"
        ],
        [
         "3",
         "2023-01-16 00:00:00",
         "2023-01-22 00:00:00",
         "0.275890637945319",
         "Week",
         "c_credo_score",
         "1.1.0",
         "FSTPD30"
        ],
        [
         "4",
         "2023-01-23 00:00:00",
         "2023-01-29 00:00:00",
         "-0.05055849500293941",
         "Week",
         "c_credo_score",
         "1.1.0",
         "FSTPD30"
        ]
       ],
       "shape": {
        "columns": 7,
        "rows": 5
       }
      },
      "text/html": [
       "<div>\n",
       "<style scoped>\n",
       "    .dataframe tbody tr th:only-of-type {\n",
       "        vertical-align: middle;\n",
       "    }\n",
       "\n",
       "    .dataframe tbody tr th {\n",
       "        vertical-align: top;\n",
       "    }\n",
       "\n",
       "    .dataframe thead th {\n",
       "        text-align: right;\n",
       "    }\n",
       "</style>\n",
       "<table border=\"1\" class=\"dataframe\">\n",
       "  <thead>\n",
       "    <tr style=\"text-align: right;\">\n",
       "      <th></th>\n",
       "      <th>start_date</th>\n",
       "      <th>end_date</th>\n",
       "      <th>c_credo_score_FSTPD30_gini</th>\n",
       "      <th>period</th>\n",
       "      <th>Model_Name</th>\n",
       "      <th>version</th>\n",
       "      <th>bad_rate</th>\n",
       "    </tr>\n",
       "  </thead>\n",
       "  <tbody>\n",
       "    <tr>\n",
       "      <th>0</th>\n",
       "      <td>2023-01-01</td>\n",
       "      <td>2023-01-31</td>\n",
       "      <td>0.035948</td>\n",
       "      <td>Month</td>\n",
       "      <td>c_credo_score</td>\n",
       "      <td>1.1.0</td>\n",
       "      <td>FSTPD30</td>\n",
       "    </tr>\n",
       "    <tr>\n",
       "      <th>1</th>\n",
       "      <td>2023-01-02</td>\n",
       "      <td>2023-01-08</td>\n",
       "      <td>0.036009</td>\n",
       "      <td>Week</td>\n",
       "      <td>c_credo_score</td>\n",
       "      <td>1.1.0</td>\n",
       "      <td>FSTPD30</td>\n",
       "    </tr>\n",
       "    <tr>\n",
       "      <th>2</th>\n",
       "      <td>2023-01-09</td>\n",
       "      <td>2023-01-15</td>\n",
       "      <td>0.062143</td>\n",
       "      <td>Week</td>\n",
       "      <td>c_credo_score</td>\n",
       "      <td>1.1.0</td>\n",
       "      <td>FSTPD30</td>\n",
       "    </tr>\n",
       "    <tr>\n",
       "      <th>3</th>\n",
       "      <td>2023-01-16</td>\n",
       "      <td>2023-01-22</td>\n",
       "      <td>0.275891</td>\n",
       "      <td>Week</td>\n",
       "      <td>c_credo_score</td>\n",
       "      <td>1.1.0</td>\n",
       "      <td>FSTPD30</td>\n",
       "    </tr>\n",
       "    <tr>\n",
       "      <th>4</th>\n",
       "      <td>2023-01-23</td>\n",
       "      <td>2023-01-29</td>\n",
       "      <td>-0.050558</td>\n",
       "      <td>Week</td>\n",
       "      <td>c_credo_score</td>\n",
       "      <td>1.1.0</td>\n",
       "      <td>FSTPD30</td>\n",
       "    </tr>\n",
       "  </tbody>\n",
       "</table>\n",
       "</div>"
      ],
      "text/plain": [
       "  start_date   end_date  c_credo_score_FSTPD30_gini period     Model_Name  \\\n",
       "0 2023-01-01 2023-01-31                    0.035948  Month  c_credo_score   \n",
       "1 2023-01-02 2023-01-08                    0.036009   Week  c_credo_score   \n",
       "2 2023-01-09 2023-01-15                    0.062143   Week  c_credo_score   \n",
       "3 2023-01-16 2023-01-22                    0.275891   Week  c_credo_score   \n",
       "4 2023-01-23 2023-01-29                   -0.050558   Week  c_credo_score   \n",
       "\n",
       "  version bad_rate  \n",
       "0   1.1.0  FSTPD30  \n",
       "1   1.1.0  FSTPD30  \n",
       "2   1.1.0  FSTPD30  \n",
       "3   1.1.0  FSTPD30  \n",
       "4   1.1.0  FSTPD30  "
      ]
     },
     "execution_count": 119,
     "metadata": {},
     "output_type": "execute_result"
    }
   ],
   "source": [
    "sq = \"\"\"\n",
    "with c_credo_score as \n",
    "(SELECT \n",
    "    ln_disb_dtime disbursementdate,\n",
    "\tdigitalLoanAccountId,\n",
    "    c_credo_score,\n",
    "    ln_fpd10_flag,\n",
    "\tln_mature_fpd10_flag,\t\n",
    "\tFROM \n",
    "    prj-prod-dataplatform.risk_mart.sil_risk_ds_master_20230101_20250206\n",
    "  WHERE \n",
    "     -- ln_disb_dtime >= '2023-07-01'\n",
    "    ln_appln_submit_datetime >= '2023-01-01'\n",
    "  -- AND\n",
    "  --   format_date('%Y-%m', ln_disb_dtime) = '2024-09'\n",
    "  AND\n",
    "    ln_fpd10_flag is not null\n",
    "  AND\n",
    "    c_credo_score is not null\n",
    "  AND\n",
    "    ln_mature_fpd10_flag = 1\n",
    ")\n",
    "select * from c_credo_score;\n",
    "\"\"\"\n",
    "\n",
    "c_credo_scorefpd10 = client.query(sq).to_dataframe(progress_bar_type='tqdm')\n",
    "\n",
    "c_credo_scorefpd10.head()\n",
    "\n",
    "gini_results = calculate_periodic_gini(c_credo_scorefpd10, 'c_credo_score', 'ln_fpd10_flag', 'FPD10')\n",
    "M1FPD10 = gini_results.copy()\n",
    "print(f\"The shape of dataframe after copy is:\\t{M1FPD10.shape}\")\n",
    "M1FPD10.columns.values\n",
    "\n",
    "# FPD30\n",
    "\n",
    "sq = \"\"\"\n",
    "with c_credo_score as \n",
    "(SELECT \n",
    "    ln_disb_dtime disbursementdate,\n",
    "\tdigitalLoanAccountId,\n",
    "    c_credo_score,\n",
    "    ln_fpd30_flag,\n",
    "\tln_mature_fpd30_flag,\t\n",
    "\tFROM \n",
    "    prj-prod-dataplatform.risk_mart.sil_risk_ds_master_20230101_20250206\n",
    "  WHERE \n",
    "     -- ln_disb_dtime >= '2023-07-01'\n",
    "    ln_appln_submit_datetime >= '2023-01-01'\n",
    "  -- AND\n",
    "  --   format_date('%Y-%m', ln_disb_dtime) = '2024-09'\n",
    "  AND\n",
    "    ln_fpd30_flag is not null\n",
    "  AND\n",
    "    c_credo_score is not null\n",
    "  AND\n",
    "    ln_mature_fpd30_flag = 1\n",
    ")\n",
    "select * from c_credo_score;\n",
    "\"\"\"\n",
    "\n",
    "c_credo_scorefpd30 = client.query(sq).to_dataframe(progress_bar_type='tqdm')\n",
    "\n",
    "c_credo_scorefpd30.head()\n",
    "\n",
    "gini_results = calculate_periodic_gini(c_credo_scorefpd30, 'c_credo_score', 'ln_fpd30_flag', 'FPD30')\n",
    "M2FPD30 = gini_results.copy()\n",
    "print(f\"The shape of dataframe after copy is:\\t{M2FPD30.shape}\")\n",
    "M2FPD30.columns.values\n",
    "\n",
    "sq = \"\"\"\n",
    "with c_credo_score as \n",
    "(SELECT \n",
    "    ln_disb_dtime disbursementdate,\n",
    "\tdigitalLoanAccountId,\n",
    "    c_credo_score,\n",
    "    ln_fspd30_flag,\n",
    "\tln_mature_fspd30_flag,\t\n",
    "\tFROM \n",
    "    prj-prod-dataplatform.risk_mart.sil_risk_ds_master_20230101_20250206\n",
    "  WHERE \n",
    "     -- ln_disb_dtime >= '2023-07-01'\n",
    "    ln_appln_submit_datetime >= '2023-01-01'\n",
    "  -- AND\n",
    "  --   format_date('%Y-%m', ln_disb_dtime) = '2024-09'\n",
    "  AND\n",
    "    ln_fspd30_flag is not null\n",
    "  AND\n",
    "    c_credo_score is not null\n",
    "  AND\n",
    "    ln_mature_fspd30_flag = 1\n",
    ")\n",
    "select * from c_credo_score;\n",
    "\"\"\"\n",
    "\n",
    "c_credo_scorefspd30 = client.query(sq).to_dataframe(progress_bar_type='tqdm')\n",
    "\n",
    "print(c_credo_scorefspd30.head(2))\n",
    "\n",
    "gini_results = calculate_periodic_gini(c_credo_scorefspd30, 'c_credo_score', 'ln_fspd30_flag', 'FSPD30')\n",
    "M3FSPD30 = gini_results.copy()\n",
    "print(f\"The shape of dataframe after copy is:\\t{M3FSPD30.shape}\")\n",
    "print(M3FSPD30.columns.values)\n",
    "\n",
    "M3FSPD30.head()\n",
    "\n",
    "sq = \"\"\"\n",
    "with c_credo_score as \n",
    "(SELECT \n",
    "    ln_disb_dtime disbursementdate,\n",
    "\tdigitalLoanAccountId,\n",
    "    c_credo_score,\n",
    "    ln_fstpd30_flag,\n",
    "\tln_mature_fstpd30_flag,\t\n",
    "\tFROM \n",
    "    prj-prod-dataplatform.risk_mart.sil_risk_ds_master_20230101_20250206\n",
    "  WHERE \n",
    "     -- ln_disb_dtime >= '2023-07-01'\n",
    "    ln_appln_submit_datetime >= '2023-01-01'\n",
    "  -- AND\n",
    "  --   format_date('%Y-%m', ln_disb_dtime) = '2024-09'\n",
    "  AND\n",
    "    ln_fstpd30_flag is not null\n",
    "  AND\n",
    "    c_credo_score is not null\n",
    "  AND\n",
    "    ln_mature_fstpd30_flag = 1\n",
    ")\n",
    "select * from c_credo_score;\n",
    "\"\"\"\n",
    "\n",
    "c_credo_scorefstpd30 = client.query(sq).to_dataframe(progress_bar_type='tqdm')\n",
    "\n",
    "print(c_credo_scorefstpd30.head(2))\n",
    "\n",
    "gini_results = calculate_periodic_gini(c_credo_scorefstpd30, 'c_credo_score', 'ln_fstpd30_flag', 'FSTPD30')\n",
    "M4FSTPD30 = gini_results.copy()\n",
    "print(f\"The shape of dataframe after copy is:\\t{M4FSTPD30.shape}\")\n",
    "print(M4FSTPD30.columns.values)\n",
    "\n",
    "M4FSTPD30.head()\n",
    "\n"
   ]
  },
  {
   "cell_type": "code",
   "execution_count": 120,
   "metadata": {},
   "outputs": [
    {
     "data": {
      "text/plain": [
       "array(['start_date', 'end_date', 'c_credo_score_FPD10_gini', 'period',\n",
       "       'Model_Name', 'version', 'bad_rate', 'c_credo_score_FPD30_gini',\n",
       "       'c_credo_score_FSPD30_gini', 'c_credo_score_FSTPD30_gini'],\n",
       "      dtype=object)"
      ]
     },
     "execution_count": 120,
     "metadata": {},
     "output_type": "execute_result"
    }
   ],
   "source": [
    "import functools\n",
    "\n",
    "dataframes = [M1FPD10, M2FPD30, M3FSPD30, M4FSTPD30]\n",
    "common_columns = ['start_date', 'end_date', 'period', 'Model_Name','version', 'bad_rate']\n",
    "\n",
    "def merge_dataframes(df1, df2):\n",
    "    return pd.merge(df1, df2, on=common_columns, how='outer')\n",
    "\n",
    "final_df = functools.reduce(merge_dataframes, dataframes)\n",
    "\n",
    "final_df.columns.values"
   ]
  },
  {
   "cell_type": "code",
   "execution_count": 121,
   "metadata": {},
   "outputs": [],
   "source": [
    "final_df = final_df[['start_date', 'end_date','period',    'Model_Name', 'version', 'bad_rate','c_credo_score_FPD10_gini', 'c_credo_score_FPD30_gini',    'c_credo_score_FSPD30_gini', 'c_credo_score_FSTPD30_gini']].copy()"
   ]
  },
  {
   "cell_type": "code",
   "execution_count": 122,
   "metadata": {},
   "outputs": [
    {
     "data": {
      "text/plain": [
       "QueryJob<project=prj-prod-dataplatform, location=asia-southeast1, id=a0a288cc-e72b-4c82-9872-1ddeb115ce69>"
      ]
     },
     "execution_count": 122,
     "metadata": {},
     "output_type": "execute_result"
    }
   ],
   "source": [
    "sq = \"\"\"drop table if exists prj-prod-dataplatform.dap_ds_poweruser_playground.Model_gini_c_credo_score;\"\"\"\n",
    "client.query(sq)"
   ]
  },
  {
   "cell_type": "code",
   "execution_count": 123,
   "metadata": {},
   "outputs": [
    {
     "data": {
      "text/plain": [
       "LoadJob<project=prj-prod-dataplatform, location=asia-southeast1, id=320030b9-eaf7-4844-869b-5803603ebae8>"
      ]
     },
     "execution_count": 123,
     "metadata": {},
     "output_type": "execute_result"
    }
   ],
   "source": [
    "import pandas as pd\n",
    "from google.cloud import bigquery\n",
    "\n",
    "# Create a BigQuery client\n",
    "client = bigquery.Client('prj-prod-dataplatform')\n",
    "\n",
    "# Define your table schema\n",
    "table_schema = [\n",
    "    bigquery.SchemaField('start_date', 'TIMESTAMP'),\n",
    "    bigquery.SchemaField('end_date', 'TIMESTAMP'),\n",
    "    bigquery.SchemaField('period', 'STRING'),\n",
    "    bigquery.SchemaField('Model_Name', 'STRING'),\n",
    "    bigquery.SchemaField('version', 'STRING'),\n",
    "    bigquery.SchemaField('Badrate', 'STRING'),\n",
    "    bigquery.SchemaField('c_credo_score_FPD10_gini', 'FLOAT'),\n",
    "    bigquery.SchemaField('c_credo_score_FPD30_gini', 'FLOAT'),    \n",
    "    bigquery.SchemaField('c_credo_score_FSPD30_gini', 'FLOAT'),\n",
    "    bigquery.SchemaField('c_credo_score_FSTPD30_gini', 'FLOAT')\n",
    "    \n",
    "]\n",
    "\n",
    "# Create your BigQuery table\n",
    "table_id = 'prj-prod-dataplatform.dap_ds_poweruser_playground.Model_gini_c_credo_score'\n",
    "table = bigquery.Table(table_id, schema=table_schema)\n",
    "table = client.create_table(table)\n",
    "\n",
    "# Load your DataFrame into BigQuery\n",
    "job_config = bigquery.LoadJobConfig(\n",
    "    write_disposition='WRITE_TRUNCATE'\n",
    ")\n",
    "\n",
    "load_job = client.load_table_from_dataframe(\n",
    "    final_df, table_id, job_config=job_config\n",
    ")\n",
    "\n",
    "load_job.result()"
   ]
  },
  {
   "cell_type": "markdown",
   "metadata": {},
   "source": [
    "# s_credo_score"
   ]
  },
  {
   "cell_type": "code",
   "execution_count": 124,
   "metadata": {},
   "outputs": [
    {
     "name": "stdout",
     "output_type": "stream",
     "text": [
      "Job ID f2ae9f3f-aa46-4116-8d06-89f4ce68a901 successfully executed: 100%|\u001b[32m██████████\u001b[0m|"
     ]
    },
    {
     "name": "stderr",
     "output_type": "stream",
     "text": [
      "d:\\Anaconda3\\envs\\inc_env\\lib\\site-packages\\google\\cloud\\bigquery\\table.py:1820: UserWarning: BigQuery Storage module not found, fetch data with the REST endpoint instead.\n",
      "  warnings.warn(\n"
     ]
    },
    {
     "name": "stdout",
     "output_type": "stream",
     "text": [
      "\n",
      "Downloading: 100%|\u001b[32m██████████\u001b[0m|\n",
      "The shape of dataframe after copy is:\t(131, 7)\n",
      "Job ID e0de8efa-a6fa-4dc0-af7f-9d9a45677fbf successfully executed: 100%|\u001b[32m██████████\u001b[0m|"
     ]
    },
    {
     "name": "stderr",
     "output_type": "stream",
     "text": [
      "d:\\Anaconda3\\envs\\inc_env\\lib\\site-packages\\google\\cloud\\bigquery\\table.py:1820: UserWarning: BigQuery Storage module not found, fetch data with the REST endpoint instead.\n",
      "  warnings.warn(\n"
     ]
    },
    {
     "name": "stdout",
     "output_type": "stream",
     "text": [
      "\n",
      "Downloading: 100%|\u001b[32m██████████\u001b[0m|\n",
      "The shape of dataframe after copy is:\t(127, 7)\n",
      "Job ID 4ab6e394-6cc7-4dcc-b2d9-1c3e4d4f49f1 successfully executed: 100%|\u001b[32m██████████\u001b[0m|"
     ]
    },
    {
     "name": "stderr",
     "output_type": "stream",
     "text": [
      "d:\\Anaconda3\\envs\\inc_env\\lib\\site-packages\\google\\cloud\\bigquery\\table.py:1820: UserWarning: BigQuery Storage module not found, fetch data with the REST endpoint instead.\n",
      "  warnings.warn(\n"
     ]
    },
    {
     "name": "stdout",
     "output_type": "stream",
     "text": [
      "\n",
      "Downloading: 100%|\u001b[32m██████████\u001b[0m|\n",
      "     disbursementdate                  digitalLoanAccountId  s_credo_score  \\\n",
      "0 2023-01-02 10:19:54  73902306-ce07-4625-9d1e-a611eeb83166       0.151148   \n",
      "1 2023-01-02 10:56:20  ac41223e-0d42-4569-b21f-789bce021291       0.093295   \n",
      "\n",
      "   ln_fspd30_flag  ln_mature_fspd30_flag  \n",
      "0               0                      1  \n",
      "1               0                      1  \n",
      "The shape of dataframe after copy is:\t(122, 7)\n",
      "['start_date' 'end_date' 's_credo_score_FSPD30_gini' 'period' 'Model_Name'\n",
      " 'version' 'bad_rate']\n",
      "Job ID 3c2fba14-5d44-4179-b217-a146b1757902 successfully executed: 100%|\u001b[32m██████████\u001b[0m|"
     ]
    },
    {
     "name": "stderr",
     "output_type": "stream",
     "text": [
      "d:\\Anaconda3\\envs\\inc_env\\lib\\site-packages\\google\\cloud\\bigquery\\table.py:1820: UserWarning: BigQuery Storage module not found, fetch data with the REST endpoint instead.\n",
      "  warnings.warn(\n"
     ]
    },
    {
     "name": "stdout",
     "output_type": "stream",
     "text": [
      "\n",
      "Downloading: 100%|\u001b[32m██████████\u001b[0m|\n",
      "     disbursementdate                  digitalLoanAccountId  s_credo_score  \\\n",
      "0 2023-01-02 12:13:00  5e85ce9b-fb16-48a4-9f62-c543782b54e1       0.113832   \n",
      "1 2023-01-02 12:28:35  92a04afd-ec2e-4941-a1be-0e3af52aab1f       0.073284   \n",
      "\n",
      "   ln_fstpd30_flag  ln_mature_fstpd30_flag  \n",
      "0                0                       1  \n",
      "1                0                       1  \n",
      "The shape of dataframe after copy is:\t(116, 7)\n",
      "['start_date' 'end_date' 's_credo_score_FSTPD30_gini' 'period'\n",
      " 'Model_Name' 'version' 'bad_rate']\n"
     ]
    },
    {
     "data": {
      "application/vnd.microsoft.datawrangler.viewer.v0+json": {
       "columns": [
        {
         "name": "index",
         "rawType": "int64",
         "type": "integer"
        },
        {
         "name": "start_date",
         "rawType": "datetime64[ns]",
         "type": "datetime"
        },
        {
         "name": "end_date",
         "rawType": "datetime64[ns]",
         "type": "datetime"
        },
        {
         "name": "s_credo_score_FSTPD30_gini",
         "rawType": "float64",
         "type": "float"
        },
        {
         "name": "period",
         "rawType": "object",
         "type": "string"
        },
        {
         "name": "Model_Name",
         "rawType": "object",
         "type": "string"
        },
        {
         "name": "version",
         "rawType": "object",
         "type": "string"
        },
        {
         "name": "bad_rate",
         "rawType": "object",
         "type": "string"
        }
       ],
       "conversionMethod": "pd.DataFrame",
       "ref": "246fb678-121d-44c9-b52c-a0639ff13828",
       "rows": [
        [
         "0",
         "2023-01-01 00:00:00",
         "2023-01-31 00:00:00",
         "0.21908594167607065",
         "Month",
         "s_credo_score",
         "1.1.0",
         "FSTPD30"
        ],
        [
         "1",
         "2023-01-02 00:00:00",
         "2023-01-08 00:00:00",
         "0.26170798898071634",
         "Week",
         "s_credo_score",
         "1.1.0",
         "FSTPD30"
        ],
        [
         "2",
         "2023-01-09 00:00:00",
         "2023-01-15 00:00:00",
         "0.25105642555306984",
         "Week",
         "s_credo_score",
         "1.1.0",
         "FSTPD30"
        ],
        [
         "3",
         "2023-01-16 00:00:00",
         "2023-01-22 00:00:00",
         "0.2750621375310687",
         "Week",
         "s_credo_score",
         "1.1.0",
         "FSTPD30"
        ],
        [
         "4",
         "2023-01-23 00:00:00",
         "2023-01-29 00:00:00",
         "0.15755437977660192",
         "Week",
         "s_credo_score",
         "1.1.0",
         "FSTPD30"
        ]
       ],
       "shape": {
        "columns": 7,
        "rows": 5
       }
      },
      "text/html": [
       "<div>\n",
       "<style scoped>\n",
       "    .dataframe tbody tr th:only-of-type {\n",
       "        vertical-align: middle;\n",
       "    }\n",
       "\n",
       "    .dataframe tbody tr th {\n",
       "        vertical-align: top;\n",
       "    }\n",
       "\n",
       "    .dataframe thead th {\n",
       "        text-align: right;\n",
       "    }\n",
       "</style>\n",
       "<table border=\"1\" class=\"dataframe\">\n",
       "  <thead>\n",
       "    <tr style=\"text-align: right;\">\n",
       "      <th></th>\n",
       "      <th>start_date</th>\n",
       "      <th>end_date</th>\n",
       "      <th>s_credo_score_FSTPD30_gini</th>\n",
       "      <th>period</th>\n",
       "      <th>Model_Name</th>\n",
       "      <th>version</th>\n",
       "      <th>bad_rate</th>\n",
       "    </tr>\n",
       "  </thead>\n",
       "  <tbody>\n",
       "    <tr>\n",
       "      <th>0</th>\n",
       "      <td>2023-01-01</td>\n",
       "      <td>2023-01-31</td>\n",
       "      <td>0.219086</td>\n",
       "      <td>Month</td>\n",
       "      <td>s_credo_score</td>\n",
       "      <td>1.1.0</td>\n",
       "      <td>FSTPD30</td>\n",
       "    </tr>\n",
       "    <tr>\n",
       "      <th>1</th>\n",
       "      <td>2023-01-02</td>\n",
       "      <td>2023-01-08</td>\n",
       "      <td>0.261708</td>\n",
       "      <td>Week</td>\n",
       "      <td>s_credo_score</td>\n",
       "      <td>1.1.0</td>\n",
       "      <td>FSTPD30</td>\n",
       "    </tr>\n",
       "    <tr>\n",
       "      <th>2</th>\n",
       "      <td>2023-01-09</td>\n",
       "      <td>2023-01-15</td>\n",
       "      <td>0.251056</td>\n",
       "      <td>Week</td>\n",
       "      <td>s_credo_score</td>\n",
       "      <td>1.1.0</td>\n",
       "      <td>FSTPD30</td>\n",
       "    </tr>\n",
       "    <tr>\n",
       "      <th>3</th>\n",
       "      <td>2023-01-16</td>\n",
       "      <td>2023-01-22</td>\n",
       "      <td>0.275062</td>\n",
       "      <td>Week</td>\n",
       "      <td>s_credo_score</td>\n",
       "      <td>1.1.0</td>\n",
       "      <td>FSTPD30</td>\n",
       "    </tr>\n",
       "    <tr>\n",
       "      <th>4</th>\n",
       "      <td>2023-01-23</td>\n",
       "      <td>2023-01-29</td>\n",
       "      <td>0.157554</td>\n",
       "      <td>Week</td>\n",
       "      <td>s_credo_score</td>\n",
       "      <td>1.1.0</td>\n",
       "      <td>FSTPD30</td>\n",
       "    </tr>\n",
       "  </tbody>\n",
       "</table>\n",
       "</div>"
      ],
      "text/plain": [
       "  start_date   end_date  s_credo_score_FSTPD30_gini period     Model_Name  \\\n",
       "0 2023-01-01 2023-01-31                    0.219086  Month  s_credo_score   \n",
       "1 2023-01-02 2023-01-08                    0.261708   Week  s_credo_score   \n",
       "2 2023-01-09 2023-01-15                    0.251056   Week  s_credo_score   \n",
       "3 2023-01-16 2023-01-22                    0.275062   Week  s_credo_score   \n",
       "4 2023-01-23 2023-01-29                    0.157554   Week  s_credo_score   \n",
       "\n",
       "  version bad_rate  \n",
       "0   1.1.0  FSTPD30  \n",
       "1   1.1.0  FSTPD30  \n",
       "2   1.1.0  FSTPD30  \n",
       "3   1.1.0  FSTPD30  \n",
       "4   1.1.0  FSTPD30  "
      ]
     },
     "execution_count": 124,
     "metadata": {},
     "output_type": "execute_result"
    }
   ],
   "source": [
    "\n",
    "\n",
    "sq = \"\"\"\n",
    "with s_credo_score as \n",
    "(SELECT \n",
    "    ln_disb_dtime disbursementdate,\n",
    "\tdigitalLoanAccountId,\n",
    "    s_credo_score,\n",
    "    ln_fpd10_flag,\n",
    "\tln_mature_fpd10_flag,\t\n",
    "\tFROM \n",
    "    prj-prod-dataplatform.risk_mart.sil_risk_ds_master_20230101_20250206\n",
    "  WHERE \n",
    "     -- ln_disb_dtime >= '2023-07-01'\n",
    "    ln_appln_submit_datetime >= '2023-01-01'\n",
    "  -- AND\n",
    "  --   format_date('%Y-%m', ln_disb_dtime) = '2024-09'\n",
    "  AND\n",
    "    ln_fpd10_flag is not null\n",
    "  AND\n",
    "    s_credo_score is not null\n",
    "  AND\n",
    "    ln_mature_fpd10_flag = 1\n",
    ")\n",
    "select * from s_credo_score;\n",
    "\"\"\"\n",
    "\n",
    "s_credo_scorefpd10 = client.query(sq).to_dataframe(progress_bar_type='tqdm')\n",
    "\n",
    "s_credo_scorefpd10.head()\n",
    "\n",
    "gini_results = calculate_periodic_gini(s_credo_scorefpd10, 's_credo_score', 'ln_fpd10_flag', 'FPD10')\n",
    "M1FPD10 = gini_results.copy()\n",
    "print(f\"The shape of dataframe after copy is:\\t{M1FPD10.shape}\")\n",
    "M1FPD10.columns.values\n",
    "\n",
    "# FPD30\n",
    "\n",
    "sq = \"\"\"\n",
    "with s_credo_score as \n",
    "(SELECT \n",
    "    ln_disb_dtime disbursementdate,\n",
    "\tdigitalLoanAccountId,\n",
    "    s_credo_score,\n",
    "    ln_fpd30_flag,\n",
    "\tln_mature_fpd30_flag,\t\n",
    "\tFROM \n",
    "    prj-prod-dataplatform.risk_mart.sil_risk_ds_master_20230101_20250206\n",
    "  WHERE \n",
    "     -- ln_disb_dtime >= '2023-07-01'\n",
    "    ln_appln_submit_datetime >= '2023-01-01'\n",
    "  -- AND\n",
    "  --   format_date('%Y-%m', ln_disb_dtime) = '2024-09'\n",
    "  AND\n",
    "    ln_fpd30_flag is not null\n",
    "  AND\n",
    "    s_credo_score is not null\n",
    "  AND\n",
    "    ln_mature_fpd30_flag = 1\n",
    ")\n",
    "select * from s_credo_score;\n",
    "\"\"\"\n",
    "\n",
    "s_credo_scorefpd30 = client.query(sq).to_dataframe(progress_bar_type='tqdm')\n",
    "\n",
    "s_credo_scorefpd30.head()\n",
    "\n",
    "gini_results = calculate_periodic_gini(s_credo_scorefpd30, 's_credo_score', 'ln_fpd30_flag', 'FPD30')\n",
    "M2FPD30 = gini_results.copy()\n",
    "print(f\"The shape of dataframe after copy is:\\t{M2FPD30.shape}\")\n",
    "M2FPD30.columns.values\n",
    "\n",
    "sq = \"\"\"\n",
    "with s_credo_score as \n",
    "(SELECT \n",
    "    ln_disb_dtime disbursementdate,\n",
    "\tdigitalLoanAccountId,\n",
    "    s_credo_score,\n",
    "    ln_fspd30_flag,\n",
    "\tln_mature_fspd30_flag,\t\n",
    "\tFROM \n",
    "    prj-prod-dataplatform.risk_mart.sil_risk_ds_master_20230101_20250206\n",
    "  WHERE \n",
    "     -- ln_disb_dtime >= '2023-07-01'\n",
    "    ln_appln_submit_datetime >= '2023-01-01'\n",
    "  -- AND\n",
    "  --   format_date('%Y-%m', ln_disb_dtime) = '2024-09'\n",
    "  AND\n",
    "    ln_fspd30_flag is not null\n",
    "  AND\n",
    "    s_credo_score is not null\n",
    "  AND\n",
    "    ln_mature_fspd30_flag = 1\n",
    ")\n",
    "select * from s_credo_score;\n",
    "\"\"\"\n",
    "\n",
    "s_credo_scorefspd30 = client.query(sq).to_dataframe(progress_bar_type='tqdm')\n",
    "\n",
    "print(s_credo_scorefspd30.head(2))\n",
    "\n",
    "gini_results = calculate_periodic_gini(s_credo_scorefspd30, 's_credo_score', 'ln_fspd30_flag', 'FSPD30')\n",
    "M3FSPD30 = gini_results.copy()\n",
    "print(f\"The shape of dataframe after copy is:\\t{M3FSPD30.shape}\")\n",
    "print(M3FSPD30.columns.values)\n",
    "\n",
    "M3FSPD30.head()\n",
    "\n",
    "sq = \"\"\"\n",
    "with s_credo_score as \n",
    "(SELECT \n",
    "    ln_disb_dtime disbursementdate,\n",
    "\tdigitalLoanAccountId,\n",
    "    s_credo_score,\n",
    "    ln_fstpd30_flag,\n",
    "\tln_mature_fstpd30_flag,\t\n",
    "\tFROM \n",
    "    prj-prod-dataplatform.risk_mart.sil_risk_ds_master_20230101_20250206\n",
    "  WHERE \n",
    "     -- ln_disb_dtime >= '2023-07-01'\n",
    "    ln_appln_submit_datetime >= '2023-01-01'\n",
    "  -- AND\n",
    "  --   format_date('%Y-%m', ln_disb_dtime) = '2024-09'\n",
    "  AND\n",
    "    ln_fstpd30_flag is not null\n",
    "  AND\n",
    "    s_credo_score is not null\n",
    "  AND\n",
    "    ln_mature_fstpd30_flag = 1\n",
    ")\n",
    "select * from s_credo_score;\n",
    "\"\"\"\n",
    "\n",
    "s_credo_scorefstpd30 = client.query(sq).to_dataframe(progress_bar_type='tqdm')\n",
    "\n",
    "print(s_credo_scorefstpd30.head(2))\n",
    "\n",
    "gini_results = calculate_periodic_gini(s_credo_scorefstpd30, 's_credo_score', 'ln_fstpd30_flag', 'FSTPD30')\n",
    "M4FSTPD30 = gini_results.copy()\n",
    "print(f\"The shape of dataframe after copy is:\\t{M4FSTPD30.shape}\")\n",
    "print(M4FSTPD30.columns.values)\n",
    "\n",
    "M4FSTPD30.head()\n",
    "\n"
   ]
  },
  {
   "cell_type": "markdown",
   "metadata": {},
   "source": [
    "## Combining data"
   ]
  },
  {
   "cell_type": "code",
   "execution_count": 125,
   "metadata": {},
   "outputs": [
    {
     "data": {
      "text/plain": [
       "array(['start_date', 'end_date', 's_credo_score_FPD10_gini', 'period',\n",
       "       'Model_Name', 'version', 'bad_rate', 's_credo_score_FPD30_gini',\n",
       "       's_credo_score_FSPD30_gini', 's_credo_score_FSTPD30_gini'],\n",
       "      dtype=object)"
      ]
     },
     "execution_count": 125,
     "metadata": {},
     "output_type": "execute_result"
    }
   ],
   "source": [
    "import functools\n",
    "\n",
    "dataframes = [M1FPD10, M2FPD30, M3FSPD30, M4FSTPD30]\n",
    "common_columns = ['start_date', 'end_date', 'period', 'Model_Name','version', 'bad_rate']\n",
    "\n",
    "def merge_dataframes(df1, df2):\n",
    "    return pd.merge(df1, df2, on=common_columns, how='outer')\n",
    "\n",
    "final_df = functools.reduce(merge_dataframes, dataframes)\n",
    "\n",
    "final_df.columns.values"
   ]
  },
  {
   "cell_type": "code",
   "execution_count": 126,
   "metadata": {},
   "outputs": [],
   "source": [
    "final_df = final_df[['start_date', 'end_date','period',    'Model_Name', 'version', 'bad_rate','s_credo_score_FPD10_gini', 's_credo_score_FPD30_gini',    's_credo_score_FSPD30_gini', 's_credo_score_FSTPD30_gini']].copy()"
   ]
  },
  {
   "cell_type": "code",
   "execution_count": 127,
   "metadata": {},
   "outputs": [
    {
     "data": {
      "text/plain": [
       "QueryJob<project=prj-prod-dataplatform, location=asia-southeast1, id=e6953855-c9d3-4d8f-a28d-ca88f44bce2e>"
      ]
     },
     "execution_count": 127,
     "metadata": {},
     "output_type": "execute_result"
    }
   ],
   "source": [
    "sq = \"\"\"drop table if exists prj-prod-dataplatform.dap_ds_poweruser_playground.Model_gini_s_credo_score;\"\"\"\n",
    "\n",
    "client.query(sq)"
   ]
  },
  {
   "cell_type": "code",
   "execution_count": 128,
   "metadata": {},
   "outputs": [
    {
     "data": {
      "text/plain": [
       "LoadJob<project=prj-prod-dataplatform, location=asia-southeast1, id=01153609-3a9b-46a2-a5cd-3b699438c22a>"
      ]
     },
     "execution_count": 128,
     "metadata": {},
     "output_type": "execute_result"
    }
   ],
   "source": [
    "import pandas as pd\n",
    "from google.cloud import bigquery\n",
    "\n",
    "# Create a BigQuery client\n",
    "client = bigquery.Client('prj-prod-dataplatform')\n",
    "\n",
    "# Define your table schema\n",
    "table_schema = [\n",
    "    bigquery.SchemaField('start_date', 'TIMESTAMP'),\n",
    "    bigquery.SchemaField('end_date', 'TIMESTAMP'),\n",
    "    bigquery.SchemaField('period', 'STRING'),\n",
    "    bigquery.SchemaField('Model_Name', 'STRING'),\n",
    "    bigquery.SchemaField('version', 'STRING'),\n",
    "    bigquery.SchemaField('Badrate', 'STRING'),\n",
    "    bigquery.SchemaField('s_credo_score_FPD10_gini', 'FLOAT'),\n",
    "    bigquery.SchemaField('s_credo_score_FPD30_gini', 'FLOAT'),    \n",
    "    bigquery.SchemaField('s_credo_score_FSPD30_gini', 'FLOAT'),\n",
    "    bigquery.SchemaField('s_credo_score_FSTPD30_gini', 'FLOAT')\n",
    "    \n",
    "]\n",
    "\n",
    "# Create your BigQuery table\n",
    "table_id = 'prj-prod-dataplatform.dap_ds_poweruser_playground.Model_gini_s_credo_score'\n",
    "table = bigquery.Table(table_id, schema=table_schema)\n",
    "table = client.create_table(table)\n",
    "\n",
    "# Load your DataFrame into BigQuery\n",
    "job_config = bigquery.LoadJobConfig(\n",
    "    write_disposition='WRITE_TRUNCATE'\n",
    ")\n",
    "\n",
    "load_job = client.load_table_from_dataframe(\n",
    "    final_df, table_id, job_config=job_config\n",
    ")\n",
    "\n",
    "load_job.result()"
   ]
  },
  {
   "cell_type": "code",
   "execution_count": 129,
   "metadata": {},
   "outputs": [
    {
     "data": {
      "application/vnd.microsoft.datawrangler.viewer.v0+json": {
       "columns": [
        {
         "name": "index",
         "rawType": "int64",
         "type": "integer"
        },
        {
         "name": "start_date",
         "rawType": "datetime64[ns]",
         "type": "datetime"
        },
        {
         "name": "end_date",
         "rawType": "datetime64[ns]",
         "type": "datetime"
        },
        {
         "name": "period",
         "rawType": "object",
         "type": "string"
        },
        {
         "name": "Model_Name",
         "rawType": "object",
         "type": "string"
        },
        {
         "name": "version",
         "rawType": "object",
         "type": "string"
        },
        {
         "name": "bad_rate",
         "rawType": "object",
         "type": "string"
        },
        {
         "name": "s_credo_score_FPD10_gini",
         "rawType": "float64",
         "type": "float"
        },
        {
         "name": "s_credo_score_FPD30_gini",
         "rawType": "float64",
         "type": "float"
        },
        {
         "name": "s_credo_score_FSPD30_gini",
         "rawType": "float64",
         "type": "float"
        },
        {
         "name": "s_credo_score_FSTPD30_gini",
         "rawType": "float64",
         "type": "float"
        }
       ],
       "conversionMethod": "pd.DataFrame",
       "ref": "3a7b4777-3e7e-4117-9da1-f2f7b1886280",
       "rows": [
        [
         "0",
         "2023-01-01 00:00:00",
         "2023-01-31 00:00:00",
         "Month",
         "s_credo_score",
         "1.1.0",
         "FPD10",
         "0.2301810865191145",
         null,
         null,
         null
        ],
        [
         "1",
         "2023-01-02 00:00:00",
         "2023-01-08 00:00:00",
         "Week",
         "s_credo_score",
         "1.1.0",
         "FPD10",
         "0.2489775051124743",
         null,
         null,
         null
        ],
        [
         "2",
         "2023-01-09 00:00:00",
         "2023-01-15 00:00:00",
         "Week",
         "s_credo_score",
         "1.1.0",
         "FPD10",
         "0.29633740288568244",
         null,
         null,
         null
        ],
        [
         "3",
         "2023-01-16 00:00:00",
         "2023-01-22 00:00:00",
         "Week",
         "s_credo_score",
         "1.1.0",
         "FPD10",
         "0.52987012987013",
         null,
         null,
         null
        ],
        [
         "4",
         "2023-01-23 00:00:00",
         "2023-01-29 00:00:00",
         "Week",
         "s_credo_score",
         "1.1.0",
         "FPD10",
         "0.07958477508650508",
         null,
         null,
         null
        ]
       ],
       "shape": {
        "columns": 10,
        "rows": 5
       }
      },
      "text/html": [
       "<div>\n",
       "<style scoped>\n",
       "    .dataframe tbody tr th:only-of-type {\n",
       "        vertical-align: middle;\n",
       "    }\n",
       "\n",
       "    .dataframe tbody tr th {\n",
       "        vertical-align: top;\n",
       "    }\n",
       "\n",
       "    .dataframe thead th {\n",
       "        text-align: right;\n",
       "    }\n",
       "</style>\n",
       "<table border=\"1\" class=\"dataframe\">\n",
       "  <thead>\n",
       "    <tr style=\"text-align: right;\">\n",
       "      <th></th>\n",
       "      <th>start_date</th>\n",
       "      <th>end_date</th>\n",
       "      <th>period</th>\n",
       "      <th>Model_Name</th>\n",
       "      <th>version</th>\n",
       "      <th>bad_rate</th>\n",
       "      <th>s_credo_score_FPD10_gini</th>\n",
       "      <th>s_credo_score_FPD30_gini</th>\n",
       "      <th>s_credo_score_FSPD30_gini</th>\n",
       "      <th>s_credo_score_FSTPD30_gini</th>\n",
       "    </tr>\n",
       "  </thead>\n",
       "  <tbody>\n",
       "    <tr>\n",
       "      <th>0</th>\n",
       "      <td>2023-01-01</td>\n",
       "      <td>2023-01-31</td>\n",
       "      <td>Month</td>\n",
       "      <td>s_credo_score</td>\n",
       "      <td>1.1.0</td>\n",
       "      <td>FPD10</td>\n",
       "      <td>0.230181</td>\n",
       "      <td>NaN</td>\n",
       "      <td>NaN</td>\n",
       "      <td>NaN</td>\n",
       "    </tr>\n",
       "    <tr>\n",
       "      <th>1</th>\n",
       "      <td>2023-01-02</td>\n",
       "      <td>2023-01-08</td>\n",
       "      <td>Week</td>\n",
       "      <td>s_credo_score</td>\n",
       "      <td>1.1.0</td>\n",
       "      <td>FPD10</td>\n",
       "      <td>0.248978</td>\n",
       "      <td>NaN</td>\n",
       "      <td>NaN</td>\n",
       "      <td>NaN</td>\n",
       "    </tr>\n",
       "    <tr>\n",
       "      <th>2</th>\n",
       "      <td>2023-01-09</td>\n",
       "      <td>2023-01-15</td>\n",
       "      <td>Week</td>\n",
       "      <td>s_credo_score</td>\n",
       "      <td>1.1.0</td>\n",
       "      <td>FPD10</td>\n",
       "      <td>0.296337</td>\n",
       "      <td>NaN</td>\n",
       "      <td>NaN</td>\n",
       "      <td>NaN</td>\n",
       "    </tr>\n",
       "    <tr>\n",
       "      <th>3</th>\n",
       "      <td>2023-01-16</td>\n",
       "      <td>2023-01-22</td>\n",
       "      <td>Week</td>\n",
       "      <td>s_credo_score</td>\n",
       "      <td>1.1.0</td>\n",
       "      <td>FPD10</td>\n",
       "      <td>0.529870</td>\n",
       "      <td>NaN</td>\n",
       "      <td>NaN</td>\n",
       "      <td>NaN</td>\n",
       "    </tr>\n",
       "    <tr>\n",
       "      <th>4</th>\n",
       "      <td>2023-01-23</td>\n",
       "      <td>2023-01-29</td>\n",
       "      <td>Week</td>\n",
       "      <td>s_credo_score</td>\n",
       "      <td>1.1.0</td>\n",
       "      <td>FPD10</td>\n",
       "      <td>0.079585</td>\n",
       "      <td>NaN</td>\n",
       "      <td>NaN</td>\n",
       "      <td>NaN</td>\n",
       "    </tr>\n",
       "  </tbody>\n",
       "</table>\n",
       "</div>"
      ],
      "text/plain": [
       "  start_date   end_date period     Model_Name version bad_rate  \\\n",
       "0 2023-01-01 2023-01-31  Month  s_credo_score   1.1.0    FPD10   \n",
       "1 2023-01-02 2023-01-08   Week  s_credo_score   1.1.0    FPD10   \n",
       "2 2023-01-09 2023-01-15   Week  s_credo_score   1.1.0    FPD10   \n",
       "3 2023-01-16 2023-01-22   Week  s_credo_score   1.1.0    FPD10   \n",
       "4 2023-01-23 2023-01-29   Week  s_credo_score   1.1.0    FPD10   \n",
       "\n",
       "   s_credo_score_FPD10_gini  s_credo_score_FPD30_gini  \\\n",
       "0                  0.230181                       NaN   \n",
       "1                  0.248978                       NaN   \n",
       "2                  0.296337                       NaN   \n",
       "3                  0.529870                       NaN   \n",
       "4                  0.079585                       NaN   \n",
       "\n",
       "   s_credo_score_FSPD30_gini  s_credo_score_FSTPD30_gini  \n",
       "0                        NaN                         NaN  \n",
       "1                        NaN                         NaN  \n",
       "2                        NaN                         NaN  \n",
       "3                        NaN                         NaN  \n",
       "4                        NaN                         NaN  "
      ]
     },
     "execution_count": 129,
     "metadata": {},
     "output_type": "execute_result"
    }
   ],
   "source": [
    "final_df.head()"
   ]
  },
  {
   "cell_type": "markdown",
   "metadata": {},
   "source": [
    "# fu_credo_score"
   ]
  },
  {
   "cell_type": "code",
   "execution_count": 130,
   "metadata": {},
   "outputs": [
    {
     "name": "stdout",
     "output_type": "stream",
     "text": [
      "Job ID 833dc06a-66ed-415c-9cf1-f27600c4d59f successfully executed: 100%|\u001b[32m██████████\u001b[0m|"
     ]
    },
    {
     "name": "stderr",
     "output_type": "stream",
     "text": [
      "d:\\Anaconda3\\envs\\inc_env\\lib\\site-packages\\google\\cloud\\bigquery\\table.py:1820: UserWarning: BigQuery Storage module not found, fetch data with the REST endpoint instead.\n",
      "  warnings.warn(\n"
     ]
    },
    {
     "name": "stdout",
     "output_type": "stream",
     "text": [
      "\n",
      "Downloading: 100%|\u001b[32m██████████\u001b[0m|\n",
      "The shape of dataframe after copy is:\t(131, 7)\n",
      "Job ID 62c1ef3b-1ac4-47d8-870e-621a275c6311 successfully executed: 100%|\u001b[32m██████████\u001b[0m|"
     ]
    },
    {
     "name": "stderr",
     "output_type": "stream",
     "text": [
      "d:\\Anaconda3\\envs\\inc_env\\lib\\site-packages\\google\\cloud\\bigquery\\table.py:1820: UserWarning: BigQuery Storage module not found, fetch data with the REST endpoint instead.\n",
      "  warnings.warn(\n"
     ]
    },
    {
     "name": "stdout",
     "output_type": "stream",
     "text": [
      "\n",
      "Downloading: 100%|\u001b[32m██████████\u001b[0m|\n",
      "The shape of dataframe after copy is:\t(127, 7)\n",
      "Job ID fa04f87c-2248-42e4-a0fa-4dd1bc8d2588 successfully executed: 100%|\u001b[32m██████████\u001b[0m|"
     ]
    },
    {
     "name": "stderr",
     "output_type": "stream",
     "text": [
      "d:\\Anaconda3\\envs\\inc_env\\lib\\site-packages\\google\\cloud\\bigquery\\table.py:1820: UserWarning: BigQuery Storage module not found, fetch data with the REST endpoint instead.\n",
      "  warnings.warn(\n"
     ]
    },
    {
     "name": "stdout",
     "output_type": "stream",
     "text": [
      "\n",
      "Downloading: 100%|\u001b[32m██████████\u001b[0m|\n",
      "     disbursementdate                  digitalLoanAccountId  fu_credo_score  \\\n",
      "0 2023-01-02 10:19:54  73902306-ce07-4625-9d1e-a611eeb83166        0.096835   \n",
      "1 2023-01-02 10:56:20  ac41223e-0d42-4569-b21f-789bce021291        0.070143   \n",
      "\n",
      "   ln_fspd30_flag  ln_mature_fspd30_flag  \n",
      "0               0                      1  \n",
      "1               0                      1  \n",
      "The shape of dataframe after copy is:\t(122, 7)\n",
      "['start_date' 'end_date' 'fu_credo_score_FSPD30_gini' 'period'\n",
      " 'Model_Name' 'version' 'bad_rate']\n",
      "Job ID 72f56254-3762-41a5-9cba-a454146c2d04 successfully executed: 100%|\u001b[32m██████████\u001b[0m|"
     ]
    },
    {
     "name": "stderr",
     "output_type": "stream",
     "text": [
      "d:\\Anaconda3\\envs\\inc_env\\lib\\site-packages\\google\\cloud\\bigquery\\table.py:1820: UserWarning: BigQuery Storage module not found, fetch data with the REST endpoint instead.\n",
      "  warnings.warn(\n"
     ]
    },
    {
     "name": "stdout",
     "output_type": "stream",
     "text": [
      "\n",
      "Downloading: 100%|\u001b[32m██████████\u001b[0m|\n",
      "     disbursementdate                  digitalLoanAccountId  fu_credo_score  \\\n",
      "0 2023-01-02 10:19:54  73902306-ce07-4625-9d1e-a611eeb83166        0.096835   \n",
      "1 2023-01-02 10:56:20  ac41223e-0d42-4569-b21f-789bce021291        0.070143   \n",
      "\n",
      "   ln_fstpd30_flag  ln_mature_fstpd30_flag  \n",
      "0                0                       1  \n",
      "1                0                       1  \n",
      "The shape of dataframe after copy is:\t(116, 7)\n",
      "['start_date' 'end_date' 'fu_credo_score_FSTPD30_gini' 'period'\n",
      " 'Model_Name' 'version' 'bad_rate']\n"
     ]
    },
    {
     "data": {
      "application/vnd.microsoft.datawrangler.viewer.v0+json": {
       "columns": [
        {
         "name": "index",
         "rawType": "int64",
         "type": "integer"
        },
        {
         "name": "start_date",
         "rawType": "datetime64[ns]",
         "type": "datetime"
        },
        {
         "name": "end_date",
         "rawType": "datetime64[ns]",
         "type": "datetime"
        },
        {
         "name": "fu_credo_score_FSTPD30_gini",
         "rawType": "float64",
         "type": "float"
        },
        {
         "name": "period",
         "rawType": "object",
         "type": "string"
        },
        {
         "name": "Model_Name",
         "rawType": "object",
         "type": "string"
        },
        {
         "name": "version",
         "rawType": "object",
         "type": "string"
        },
        {
         "name": "bad_rate",
         "rawType": "object",
         "type": "string"
        }
       ],
       "conversionMethod": "pd.DataFrame",
       "ref": "79e05398-a6d0-4037-968c-4c63f09bb528",
       "rows": [
        [
         "0",
         "2023-01-01 00:00:00",
         "2023-01-31 00:00:00",
         "0.07286036704876153",
         "Month",
         "fu_credo_score",
         "1.1.0",
         "FSTPD30"
        ],
        [
         "1",
         "2023-01-02 00:00:00",
         "2023-01-08 00:00:00",
         "0.0021645021645022577",
         "Week",
         "fu_credo_score",
         "1.1.0",
         "FSTPD30"
        ],
        [
         "2",
         "2023-01-09 00:00:00",
         "2023-01-15 00:00:00",
         "0.05667412378821779",
         "Week",
         "fu_credo_score",
         "1.1.0",
         "FSTPD30"
        ],
        [
         "3",
         "2023-01-16 00:00:00",
         "2023-01-22 00:00:00",
         "0.3264291632145815",
         "Week",
         "fu_credo_score",
         "1.1.0",
         "FSTPD30"
        ],
        [
         "4",
         "2023-01-23 00:00:00",
         "2023-01-29 00:00:00",
         "0.10993533215755424",
         "Week",
         "fu_credo_score",
         "1.1.0",
         "FSTPD30"
        ]
       ],
       "shape": {
        "columns": 7,
        "rows": 5
       }
      },
      "text/html": [
       "<div>\n",
       "<style scoped>\n",
       "    .dataframe tbody tr th:only-of-type {\n",
       "        vertical-align: middle;\n",
       "    }\n",
       "\n",
       "    .dataframe tbody tr th {\n",
       "        vertical-align: top;\n",
       "    }\n",
       "\n",
       "    .dataframe thead th {\n",
       "        text-align: right;\n",
       "    }\n",
       "</style>\n",
       "<table border=\"1\" class=\"dataframe\">\n",
       "  <thead>\n",
       "    <tr style=\"text-align: right;\">\n",
       "      <th></th>\n",
       "      <th>start_date</th>\n",
       "      <th>end_date</th>\n",
       "      <th>fu_credo_score_FSTPD30_gini</th>\n",
       "      <th>period</th>\n",
       "      <th>Model_Name</th>\n",
       "      <th>version</th>\n",
       "      <th>bad_rate</th>\n",
       "    </tr>\n",
       "  </thead>\n",
       "  <tbody>\n",
       "    <tr>\n",
       "      <th>0</th>\n",
       "      <td>2023-01-01</td>\n",
       "      <td>2023-01-31</td>\n",
       "      <td>0.072860</td>\n",
       "      <td>Month</td>\n",
       "      <td>fu_credo_score</td>\n",
       "      <td>1.1.0</td>\n",
       "      <td>FSTPD30</td>\n",
       "    </tr>\n",
       "    <tr>\n",
       "      <th>1</th>\n",
       "      <td>2023-01-02</td>\n",
       "      <td>2023-01-08</td>\n",
       "      <td>0.002165</td>\n",
       "      <td>Week</td>\n",
       "      <td>fu_credo_score</td>\n",
       "      <td>1.1.0</td>\n",
       "      <td>FSTPD30</td>\n",
       "    </tr>\n",
       "    <tr>\n",
       "      <th>2</th>\n",
       "      <td>2023-01-09</td>\n",
       "      <td>2023-01-15</td>\n",
       "      <td>0.056674</td>\n",
       "      <td>Week</td>\n",
       "      <td>fu_credo_score</td>\n",
       "      <td>1.1.0</td>\n",
       "      <td>FSTPD30</td>\n",
       "    </tr>\n",
       "    <tr>\n",
       "      <th>3</th>\n",
       "      <td>2023-01-16</td>\n",
       "      <td>2023-01-22</td>\n",
       "      <td>0.326429</td>\n",
       "      <td>Week</td>\n",
       "      <td>fu_credo_score</td>\n",
       "      <td>1.1.0</td>\n",
       "      <td>FSTPD30</td>\n",
       "    </tr>\n",
       "    <tr>\n",
       "      <th>4</th>\n",
       "      <td>2023-01-23</td>\n",
       "      <td>2023-01-29</td>\n",
       "      <td>0.109935</td>\n",
       "      <td>Week</td>\n",
       "      <td>fu_credo_score</td>\n",
       "      <td>1.1.0</td>\n",
       "      <td>FSTPD30</td>\n",
       "    </tr>\n",
       "  </tbody>\n",
       "</table>\n",
       "</div>"
      ],
      "text/plain": [
       "  start_date   end_date  fu_credo_score_FSTPD30_gini period      Model_Name  \\\n",
       "0 2023-01-01 2023-01-31                     0.072860  Month  fu_credo_score   \n",
       "1 2023-01-02 2023-01-08                     0.002165   Week  fu_credo_score   \n",
       "2 2023-01-09 2023-01-15                     0.056674   Week  fu_credo_score   \n",
       "3 2023-01-16 2023-01-22                     0.326429   Week  fu_credo_score   \n",
       "4 2023-01-23 2023-01-29                     0.109935   Week  fu_credo_score   \n",
       "\n",
       "  version bad_rate  \n",
       "0   1.1.0  FSTPD30  \n",
       "1   1.1.0  FSTPD30  \n",
       "2   1.1.0  FSTPD30  \n",
       "3   1.1.0  FSTPD30  \n",
       "4   1.1.0  FSTPD30  "
      ]
     },
     "execution_count": 130,
     "metadata": {},
     "output_type": "execute_result"
    }
   ],
   "source": [
    "\n",
    "\n",
    "sq = \"\"\"\n",
    "with fu_credo_score as \n",
    "(SELECT \n",
    "    ln_disb_dtime disbursementdate,\n",
    "\tdigitalLoanAccountId,\n",
    "    fu_credo_score,\n",
    "    ln_fpd10_flag,\n",
    "\tln_mature_fpd10_flag,\t\n",
    "\tFROM \n",
    "    prj-prod-dataplatform.risk_mart.sil_risk_ds_master_20230101_20250206\n",
    "  WHERE \n",
    "     -- ln_disb_dtime >= '2023-07-01'\n",
    "    ln_appln_submit_datetime >= '2023-01-01'\n",
    "  -- AND\n",
    "  --   format_date('%Y-%m', ln_disb_dtime) = '2024-09'\n",
    "  AND\n",
    "    ln_fpd10_flag is not null\n",
    "  AND\n",
    "    fu_credo_score is not null\n",
    "  AND\n",
    "    ln_mature_fpd10_flag = 1\n",
    ")\n",
    "select * from fu_credo_score;\n",
    "\"\"\"\n",
    "\n",
    "fu_credo_scorefpd10 = client.query(sq).to_dataframe(progress_bar_type='tqdm')\n",
    "\n",
    "fu_credo_scorefpd10.head()\n",
    "\n",
    "gini_results = calculate_periodic_gini(fu_credo_scorefpd10, 'fu_credo_score', 'ln_fpd10_flag', 'FPD10')\n",
    "M1FPD10 = gini_results.copy()\n",
    "print(f\"The shape of dataframe after copy is:\\t{M1FPD10.shape}\")\n",
    "M1FPD10.columns.values\n",
    "\n",
    "# FPD30\n",
    "\n",
    "sq = \"\"\"\n",
    "with fu_credo_score as \n",
    "(SELECT \n",
    "    ln_disb_dtime disbursementdate,\n",
    "\tdigitalLoanAccountId,\n",
    "    fu_credo_score,\n",
    "    ln_fpd30_flag,\n",
    "\tln_mature_fpd30_flag,\t\n",
    "\tFROM \n",
    "    prj-prod-dataplatform.risk_mart.sil_risk_ds_master_20230101_20250206\n",
    "  WHERE \n",
    "     -- ln_disb_dtime >= '2023-07-01'\n",
    "    ln_appln_submit_datetime >= '2023-01-01'\n",
    "  -- AND\n",
    "  --   format_date('%Y-%m', ln_disb_dtime) = '2024-09'\n",
    "  AND\n",
    "    ln_fpd30_flag is not null\n",
    "  AND\n",
    "    fu_credo_score is not null\n",
    "  AND\n",
    "    ln_mature_fpd30_flag = 1\n",
    ")\n",
    "select * from fu_credo_score;\n",
    "\"\"\"\n",
    "\n",
    "fu_credo_scorefpd30 = client.query(sq).to_dataframe(progress_bar_type='tqdm')\n",
    "\n",
    "fu_credo_scorefpd30.head()\n",
    "\n",
    "gini_results = calculate_periodic_gini(fu_credo_scorefpd30, 'fu_credo_score', 'ln_fpd30_flag', 'FPD30')\n",
    "M2FPD30 = gini_results.copy()\n",
    "print(f\"The shape of dataframe after copy is:\\t{M2FPD30.shape}\")\n",
    "M2FPD30.columns.values\n",
    "\n",
    "sq = \"\"\"\n",
    "with fu_credo_score as \n",
    "(SELECT \n",
    "    ln_disb_dtime disbursementdate,\n",
    "\tdigitalLoanAccountId,\n",
    "    fu_credo_score,\n",
    "    ln_fspd30_flag,\n",
    "\tln_mature_fspd30_flag,\t\n",
    "\tFROM \n",
    "    prj-prod-dataplatform.risk_mart.sil_risk_ds_master_20230101_20250206\n",
    "  WHERE \n",
    "     -- ln_disb_dtime >= '2023-07-01'\n",
    "    ln_appln_submit_datetime >= '2023-01-01'\n",
    "  -- AND\n",
    "  --   format_date('%Y-%m', ln_disb_dtime) = '2024-09'\n",
    "  AND\n",
    "    ln_fspd30_flag is not null\n",
    "  AND\n",
    "    fu_credo_score is not null\n",
    "  AND\n",
    "    ln_mature_fspd30_flag = 1\n",
    ")\n",
    "select * from fu_credo_score;\n",
    "\"\"\"\n",
    "\n",
    "fu_credo_scorefspd30 = client.query(sq).to_dataframe(progress_bar_type='tqdm')\n",
    "\n",
    "print(fu_credo_scorefspd30.head(2))\n",
    "\n",
    "gini_results = calculate_periodic_gini(fu_credo_scorefspd30, 'fu_credo_score', 'ln_fspd30_flag', 'FSPD30')\n",
    "M3FSPD30 = gini_results.copy()\n",
    "print(f\"The shape of dataframe after copy is:\\t{M3FSPD30.shape}\")\n",
    "print(M3FSPD30.columns.values)\n",
    "\n",
    "M3FSPD30.head()\n",
    "\n",
    "sq = \"\"\"\n",
    "with fu_credo_score as \n",
    "(SELECT \n",
    "    ln_disb_dtime disbursementdate,\n",
    "\tdigitalLoanAccountId,\n",
    "    fu_credo_score,\n",
    "    ln_fstpd30_flag,\n",
    "\tln_mature_fstpd30_flag,\t\n",
    "\tFROM \n",
    "    prj-prod-dataplatform.risk_mart.sil_risk_ds_master_20230101_20250206\n",
    "  WHERE \n",
    "     -- ln_disb_dtime >= '2023-07-01'\n",
    "    ln_appln_submit_datetime >= '2023-01-01'\n",
    "  -- AND\n",
    "  --   format_date('%Y-%m', ln_disb_dtime) = '2024-09'\n",
    "  AND\n",
    "    ln_fstpd30_flag is not null\n",
    "  AND\n",
    "    fu_credo_score is not null\n",
    "  AND\n",
    "    ln_mature_fstpd30_flag = 1\n",
    ")\n",
    "select * from fu_credo_score;\n",
    "\"\"\"\n",
    "\n",
    "fu_credo_scorefstpd30 = client.query(sq).to_dataframe(progress_bar_type='tqdm')\n",
    "\n",
    "print(fu_credo_scorefstpd30.head(2))\n",
    "\n",
    "gini_results = calculate_periodic_gini(fu_credo_scorefstpd30, 'fu_credo_score', 'ln_fstpd30_flag', 'FSTPD30')\n",
    "M4FSTPD30 = gini_results.copy()\n",
    "print(f\"The shape of dataframe after copy is:\\t{M4FSTPD30.shape}\")\n",
    "print(M4FSTPD30.columns.values)\n",
    "\n",
    "M4FSTPD30.head()\n",
    "\n"
   ]
  },
  {
   "cell_type": "code",
   "execution_count": null,
   "metadata": {},
   "outputs": [],
   "source": []
  },
  {
   "cell_type": "markdown",
   "metadata": {},
   "source": [
    "## Combining data"
   ]
  },
  {
   "cell_type": "code",
   "execution_count": 131,
   "metadata": {},
   "outputs": [
    {
     "data": {
      "text/plain": [
       "array(['start_date', 'end_date', 'fu_credo_score_FPD10_gini', 'period',\n",
       "       'Model_Name', 'version', 'bad_rate', 'fu_credo_score_FPD30_gini',\n",
       "       'fu_credo_score_FSPD30_gini', 'fu_credo_score_FSTPD30_gini'],\n",
       "      dtype=object)"
      ]
     },
     "execution_count": 131,
     "metadata": {},
     "output_type": "execute_result"
    }
   ],
   "source": [
    "import functools\n",
    "\n",
    "dataframes = [M1FPD10, M2FPD30, M3FSPD30, M4FSTPD30]\n",
    "common_columns = ['start_date', 'end_date', 'period', 'Model_Name','version', 'bad_rate']\n",
    "\n",
    "def merge_dataframes(df1, df2):\n",
    "    return pd.merge(df1, df2, on=common_columns, how='outer')\n",
    "\n",
    "final_df = functools.reduce(merge_dataframes, dataframes)\n",
    "\n",
    "final_df.columns.values"
   ]
  },
  {
   "cell_type": "code",
   "execution_count": 132,
   "metadata": {},
   "outputs": [],
   "source": [
    "final_df = final_df[['start_date', 'end_date','period',    'Model_Name', 'version', 'bad_rate','fu_credo_score_FPD10_gini', 'fu_credo_score_FPD30_gini',    'fu_credo_score_FSPD30_gini', 'fu_credo_score_FSTPD30_gini']].copy()"
   ]
  },
  {
   "cell_type": "code",
   "execution_count": 133,
   "metadata": {},
   "outputs": [
    {
     "data": {
      "text/plain": [
       "QueryJob<project=prj-prod-dataplatform, location=asia-southeast1, id=36a4586a-a75f-486e-bdac-4f094edd8555>"
      ]
     },
     "execution_count": 133,
     "metadata": {},
     "output_type": "execute_result"
    }
   ],
   "source": [
    "sq = \"\"\"drop table if exists prj-prod-dataplatform.dap_ds_poweruser_playground.Model_gini_fu_credo_score\"\"\"\n",
    "client.query(sq)"
   ]
  },
  {
   "cell_type": "code",
   "execution_count": 134,
   "metadata": {},
   "outputs": [
    {
     "data": {
      "text/plain": [
       "LoadJob<project=prj-prod-dataplatform, location=asia-southeast1, id=689ef1f4-acf6-4774-a52f-e1a3cbc6da1f>"
      ]
     },
     "execution_count": 134,
     "metadata": {},
     "output_type": "execute_result"
    }
   ],
   "source": [
    "import pandas as pd\n",
    "from google.cloud import bigquery\n",
    "\n",
    "# Create a BigQuery client\n",
    "client = bigquery.Client('prj-prod-dataplatform')\n",
    "\n",
    "# Define your table schema\n",
    "table_schema = [\n",
    "    bigquery.SchemaField('start_date', 'TIMESTAMP'),\n",
    "    bigquery.SchemaField('end_date', 'TIMESTAMP'),\n",
    "    bigquery.SchemaField('period', 'STRING'),\n",
    "    bigquery.SchemaField('Model_Name', 'STRING'),\n",
    "    bigquery.SchemaField('version', 'STRING'),\n",
    "    bigquery.SchemaField('Badrate', 'STRING'),\n",
    "    bigquery.SchemaField('fu_credo_score_FPD10_gini', 'FLOAT'),\n",
    "    bigquery.SchemaField('fu_credo_score_FPD30_gini', 'FLOAT'),    \n",
    "    bigquery.SchemaField('fu_credo_score_FSPD30_gini', 'FLOAT'),\n",
    "    bigquery.SchemaField('fu_credo_score_FSTPD30_gini', 'FLOAT')\n",
    "    \n",
    "]\n",
    "\n",
    "# Create your BigQuery table\n",
    "table_id = 'prj-prod-dataplatform.dap_ds_poweruser_playground.Model_gini_fu_credo_score'\n",
    "table = bigquery.Table(table_id, schema=table_schema)\n",
    "table = client.create_table(table)\n",
    "\n",
    "# Load your DataFrame into BigQuery\n",
    "job_config = bigquery.LoadJobConfig(\n",
    "    write_disposition='WRITE_TRUNCATE'\n",
    ")\n",
    "\n",
    "load_job = client.load_table_from_dataframe(\n",
    "    final_df, table_id, job_config=job_config\n",
    ")\n",
    "\n",
    "load_job.result()"
   ]
  },
  {
   "cell_type": "code",
   "execution_count": 135,
   "metadata": {},
   "outputs": [
    {
     "data": {
      "application/vnd.microsoft.datawrangler.viewer.v0+json": {
       "columns": [
        {
         "name": "index",
         "rawType": "int64",
         "type": "integer"
        },
        {
         "name": "start_date",
         "rawType": "datetime64[ns]",
         "type": "datetime"
        },
        {
         "name": "end_date",
         "rawType": "datetime64[ns]",
         "type": "datetime"
        },
        {
         "name": "period",
         "rawType": "object",
         "type": "string"
        },
        {
         "name": "Model_Name",
         "rawType": "object",
         "type": "string"
        },
        {
         "name": "version",
         "rawType": "object",
         "type": "string"
        },
        {
         "name": "bad_rate",
         "rawType": "object",
         "type": "string"
        },
        {
         "name": "fu_credo_score_FPD10_gini",
         "rawType": "float64",
         "type": "float"
        },
        {
         "name": "fu_credo_score_FPD30_gini",
         "rawType": "float64",
         "type": "float"
        },
        {
         "name": "fu_credo_score_FSPD30_gini",
         "rawType": "float64",
         "type": "float"
        },
        {
         "name": "fu_credo_score_FSTPD30_gini",
         "rawType": "float64",
         "type": "float"
        }
       ],
       "conversionMethod": "pd.DataFrame",
       "ref": "ad928c1c-8bcc-4c81-ae48-2520ec3a4bf9",
       "rows": [
        [
         "0",
         "2023-01-01 00:00:00",
         "2023-01-31 00:00:00",
         "Month",
         "fu_credo_score",
         "1.1.0",
         "FPD10",
         "0.023608316566062992",
         null,
         null,
         null
        ],
        [
         "1",
         "2023-01-02 00:00:00",
         "2023-01-08 00:00:00",
         "Week",
         "fu_credo_score",
         "1.1.0",
         "FPD10",
         "-0.03246421267893651",
         null,
         null,
         null
        ],
        [
         "2",
         "2023-01-09 00:00:00",
         "2023-01-15 00:00:00",
         "Week",
         "fu_credo_score",
         "1.1.0",
         "FPD10",
         "0.016278209396966226",
         null,
         null,
         null
        ],
        [
         "3",
         "2023-01-16 00:00:00",
         "2023-01-22 00:00:00",
         "Week",
         "fu_credo_score",
         "1.1.0",
         "FPD10",
         "0.1532467532467532",
         null,
         null,
         null
        ],
        [
         "4",
         "2023-01-23 00:00:00",
         "2023-01-29 00:00:00",
         "Week",
         "fu_credo_score",
         "1.1.0",
         "FPD10",
         "0.12024221453287187",
         null,
         null,
         null
        ]
       ],
       "shape": {
        "columns": 10,
        "rows": 5
       }
      },
      "text/html": [
       "<div>\n",
       "<style scoped>\n",
       "    .dataframe tbody tr th:only-of-type {\n",
       "        vertical-align: middle;\n",
       "    }\n",
       "\n",
       "    .dataframe tbody tr th {\n",
       "        vertical-align: top;\n",
       "    }\n",
       "\n",
       "    .dataframe thead th {\n",
       "        text-align: right;\n",
       "    }\n",
       "</style>\n",
       "<table border=\"1\" class=\"dataframe\">\n",
       "  <thead>\n",
       "    <tr style=\"text-align: right;\">\n",
       "      <th></th>\n",
       "      <th>start_date</th>\n",
       "      <th>end_date</th>\n",
       "      <th>period</th>\n",
       "      <th>Model_Name</th>\n",
       "      <th>version</th>\n",
       "      <th>bad_rate</th>\n",
       "      <th>fu_credo_score_FPD10_gini</th>\n",
       "      <th>fu_credo_score_FPD30_gini</th>\n",
       "      <th>fu_credo_score_FSPD30_gini</th>\n",
       "      <th>fu_credo_score_FSTPD30_gini</th>\n",
       "    </tr>\n",
       "  </thead>\n",
       "  <tbody>\n",
       "    <tr>\n",
       "      <th>0</th>\n",
       "      <td>2023-01-01</td>\n",
       "      <td>2023-01-31</td>\n",
       "      <td>Month</td>\n",
       "      <td>fu_credo_score</td>\n",
       "      <td>1.1.0</td>\n",
       "      <td>FPD10</td>\n",
       "      <td>0.023608</td>\n",
       "      <td>NaN</td>\n",
       "      <td>NaN</td>\n",
       "      <td>NaN</td>\n",
       "    </tr>\n",
       "    <tr>\n",
       "      <th>1</th>\n",
       "      <td>2023-01-02</td>\n",
       "      <td>2023-01-08</td>\n",
       "      <td>Week</td>\n",
       "      <td>fu_credo_score</td>\n",
       "      <td>1.1.0</td>\n",
       "      <td>FPD10</td>\n",
       "      <td>-0.032464</td>\n",
       "      <td>NaN</td>\n",
       "      <td>NaN</td>\n",
       "      <td>NaN</td>\n",
       "    </tr>\n",
       "    <tr>\n",
       "      <th>2</th>\n",
       "      <td>2023-01-09</td>\n",
       "      <td>2023-01-15</td>\n",
       "      <td>Week</td>\n",
       "      <td>fu_credo_score</td>\n",
       "      <td>1.1.0</td>\n",
       "      <td>FPD10</td>\n",
       "      <td>0.016278</td>\n",
       "      <td>NaN</td>\n",
       "      <td>NaN</td>\n",
       "      <td>NaN</td>\n",
       "    </tr>\n",
       "    <tr>\n",
       "      <th>3</th>\n",
       "      <td>2023-01-16</td>\n",
       "      <td>2023-01-22</td>\n",
       "      <td>Week</td>\n",
       "      <td>fu_credo_score</td>\n",
       "      <td>1.1.0</td>\n",
       "      <td>FPD10</td>\n",
       "      <td>0.153247</td>\n",
       "      <td>NaN</td>\n",
       "      <td>NaN</td>\n",
       "      <td>NaN</td>\n",
       "    </tr>\n",
       "    <tr>\n",
       "      <th>4</th>\n",
       "      <td>2023-01-23</td>\n",
       "      <td>2023-01-29</td>\n",
       "      <td>Week</td>\n",
       "      <td>fu_credo_score</td>\n",
       "      <td>1.1.0</td>\n",
       "      <td>FPD10</td>\n",
       "      <td>0.120242</td>\n",
       "      <td>NaN</td>\n",
       "      <td>NaN</td>\n",
       "      <td>NaN</td>\n",
       "    </tr>\n",
       "  </tbody>\n",
       "</table>\n",
       "</div>"
      ],
      "text/plain": [
       "  start_date   end_date period      Model_Name version bad_rate  \\\n",
       "0 2023-01-01 2023-01-31  Month  fu_credo_score   1.1.0    FPD10   \n",
       "1 2023-01-02 2023-01-08   Week  fu_credo_score   1.1.0    FPD10   \n",
       "2 2023-01-09 2023-01-15   Week  fu_credo_score   1.1.0    FPD10   \n",
       "3 2023-01-16 2023-01-22   Week  fu_credo_score   1.1.0    FPD10   \n",
       "4 2023-01-23 2023-01-29   Week  fu_credo_score   1.1.0    FPD10   \n",
       "\n",
       "   fu_credo_score_FPD10_gini  fu_credo_score_FPD30_gini  \\\n",
       "0                   0.023608                        NaN   \n",
       "1                  -0.032464                        NaN   \n",
       "2                   0.016278                        NaN   \n",
       "3                   0.153247                        NaN   \n",
       "4                   0.120242                        NaN   \n",
       "\n",
       "   fu_credo_score_FSPD30_gini  fu_credo_score_FSTPD30_gini  \n",
       "0                         NaN                          NaN  \n",
       "1                         NaN                          NaN  \n",
       "2                         NaN                          NaN  \n",
       "3                         NaN                          NaN  \n",
       "4                         NaN                          NaN  "
      ]
     },
     "execution_count": 135,
     "metadata": {},
     "output_type": "execute_result"
    }
   ],
   "source": [
    "final_df.head()"
   ]
  },
  {
   "cell_type": "markdown",
   "metadata": {},
   "source": [
    "# r_credo_score"
   ]
  },
  {
   "cell_type": "code",
   "execution_count": 136,
   "metadata": {},
   "outputs": [
    {
     "name": "stdout",
     "output_type": "stream",
     "text": [
      "Job ID f6bbd0f5-8cf4-48e9-b505-0747290fa958 successfully executed: 100%|\u001b[32m██████████\u001b[0m|"
     ]
    },
    {
     "name": "stderr",
     "output_type": "stream",
     "text": [
      "d:\\Anaconda3\\envs\\inc_env\\lib\\site-packages\\google\\cloud\\bigquery\\table.py:1820: UserWarning: BigQuery Storage module not found, fetch data with the REST endpoint instead.\n",
      "  warnings.warn(\n"
     ]
    },
    {
     "name": "stdout",
     "output_type": "stream",
     "text": [
      "\n",
      "Downloading: 100%|\u001b[32m██████████\u001b[0m|\n",
      "The shape of dataframe after copy is:\t(131, 7)\n",
      "Job ID 7eb4fd75-9f60-4476-a5d8-24f08b006dbd successfully executed: 100%|\u001b[32m██████████\u001b[0m|"
     ]
    },
    {
     "name": "stderr",
     "output_type": "stream",
     "text": [
      "d:\\Anaconda3\\envs\\inc_env\\lib\\site-packages\\google\\cloud\\bigquery\\table.py:1820: UserWarning: BigQuery Storage module not found, fetch data with the REST endpoint instead.\n",
      "  warnings.warn(\n"
     ]
    },
    {
     "name": "stdout",
     "output_type": "stream",
     "text": [
      "\n",
      "Downloading: 100%|\u001b[32m██████████\u001b[0m|\n",
      "The shape of dataframe after copy is:\t(127, 7)\n",
      "Job ID 371fe1b2-37fc-4ad3-956c-1c37f8195eee successfully executed: 100%|\u001b[32m██████████\u001b[0m|"
     ]
    },
    {
     "name": "stderr",
     "output_type": "stream",
     "text": [
      "d:\\Anaconda3\\envs\\inc_env\\lib\\site-packages\\google\\cloud\\bigquery\\table.py:1820: UserWarning: BigQuery Storage module not found, fetch data with the REST endpoint instead.\n",
      "  warnings.warn(\n"
     ]
    },
    {
     "name": "stdout",
     "output_type": "stream",
     "text": [
      "\n",
      "Downloading: 100%|\u001b[32m██████████\u001b[0m|\n",
      "     disbursementdate                  digitalLoanAccountId  r_credo_score  \\\n",
      "0 2023-01-02 12:13:00  5e85ce9b-fb16-48a4-9f62-c543782b54e1       0.344378   \n",
      "1 2023-01-02 12:28:35  92a04afd-ec2e-4941-a1be-0e3af52aab1f       0.112691   \n",
      "\n",
      "   ln_fspd30_flag  ln_mature_fspd30_flag  \n",
      "0               0                      1  \n",
      "1               0                      1  \n",
      "The shape of dataframe after copy is:\t(122, 7)\n",
      "['start_date' 'end_date' 'r_credo_score_FSPD30_gini' 'period' 'Model_Name'\n",
      " 'version' 'bad_rate']\n",
      "Job ID 4c860fa7-fbfb-4baf-92f2-a4ed9e19a73d successfully executed: 100%|\u001b[32m██████████\u001b[0m|"
     ]
    },
    {
     "name": "stderr",
     "output_type": "stream",
     "text": [
      "d:\\Anaconda3\\envs\\inc_env\\lib\\site-packages\\google\\cloud\\bigquery\\table.py:1820: UserWarning: BigQuery Storage module not found, fetch data with the REST endpoint instead.\n",
      "  warnings.warn(\n"
     ]
    },
    {
     "name": "stdout",
     "output_type": "stream",
     "text": [
      "\n",
      "Downloading: 100%|\u001b[32m██████████\u001b[0m|\n",
      "     disbursementdate                  digitalLoanAccountId  r_credo_score  \\\n",
      "0 2023-01-02 10:19:54  73902306-ce07-4625-9d1e-a611eeb83166       0.276277   \n",
      "1 2023-01-02 10:56:20  ac41223e-0d42-4569-b21f-789bce021291       0.328053   \n",
      "\n",
      "   ln_fstpd30_flag  ln_mature_fstpd30_flag  \n",
      "0                0                       1  \n",
      "1                0                       1  \n",
      "The shape of dataframe after copy is:\t(116, 7)\n",
      "['start_date' 'end_date' 'r_credo_score_FSTPD30_gini' 'period'\n",
      " 'Model_Name' 'version' 'bad_rate']\n"
     ]
    },
    {
     "data": {
      "application/vnd.microsoft.datawrangler.viewer.v0+json": {
       "columns": [
        {
         "name": "index",
         "rawType": "int64",
         "type": "integer"
        },
        {
         "name": "start_date",
         "rawType": "datetime64[ns]",
         "type": "datetime"
        },
        {
         "name": "end_date",
         "rawType": "datetime64[ns]",
         "type": "datetime"
        },
        {
         "name": "r_credo_score_FSTPD30_gini",
         "rawType": "float64",
         "type": "float"
        },
        {
         "name": "period",
         "rawType": "object",
         "type": "string"
        },
        {
         "name": "Model_Name",
         "rawType": "object",
         "type": "string"
        },
        {
         "name": "version",
         "rawType": "object",
         "type": "string"
        },
        {
         "name": "bad_rate",
         "rawType": "object",
         "type": "string"
        }
       ],
       "conversionMethod": "pd.DataFrame",
       "ref": "8ae8bf04-9d49-4181-a4c7-2fe4c723fa40",
       "rows": [
        [
         "0",
         "2023-01-01 00:00:00",
         "2023-01-31 00:00:00",
         "0.0489843796400784",
         "Month",
         "r_credo_score",
         "1.1.0",
         "FSTPD30"
        ],
        [
         "1",
         "2023-01-02 00:00:00",
         "2023-01-08 00:00:00",
         "0.014954742227469398",
         "Week",
         "r_credo_score",
         "1.1.0",
         "FSTPD30"
        ],
        [
         "2",
         "2023-01-09 00:00:00",
         "2023-01-15 00:00:00",
         "0.1938851603281131",
         "Week",
         "r_credo_score",
         "1.1.0",
         "FSTPD30"
        ],
        [
         "3",
         "2023-01-16 00:00:00",
         "2023-01-22 00:00:00",
         "-0.01905550952775481",
         "Week",
         "r_credo_score",
         "1.1.0",
         "FSTPD30"
        ],
        [
         "4",
         "2023-01-23 00:00:00",
         "2023-01-29 00:00:00",
         "0.024691358024691468",
         "Week",
         "r_credo_score",
         "1.1.0",
         "FSTPD30"
        ]
       ],
       "shape": {
        "columns": 7,
        "rows": 5
       }
      },
      "text/html": [
       "<div>\n",
       "<style scoped>\n",
       "    .dataframe tbody tr th:only-of-type {\n",
       "        vertical-align: middle;\n",
       "    }\n",
       "\n",
       "    .dataframe tbody tr th {\n",
       "        vertical-align: top;\n",
       "    }\n",
       "\n",
       "    .dataframe thead th {\n",
       "        text-align: right;\n",
       "    }\n",
       "</style>\n",
       "<table border=\"1\" class=\"dataframe\">\n",
       "  <thead>\n",
       "    <tr style=\"text-align: right;\">\n",
       "      <th></th>\n",
       "      <th>start_date</th>\n",
       "      <th>end_date</th>\n",
       "      <th>r_credo_score_FSTPD30_gini</th>\n",
       "      <th>period</th>\n",
       "      <th>Model_Name</th>\n",
       "      <th>version</th>\n",
       "      <th>bad_rate</th>\n",
       "    </tr>\n",
       "  </thead>\n",
       "  <tbody>\n",
       "    <tr>\n",
       "      <th>0</th>\n",
       "      <td>2023-01-01</td>\n",
       "      <td>2023-01-31</td>\n",
       "      <td>0.048984</td>\n",
       "      <td>Month</td>\n",
       "      <td>r_credo_score</td>\n",
       "      <td>1.1.0</td>\n",
       "      <td>FSTPD30</td>\n",
       "    </tr>\n",
       "    <tr>\n",
       "      <th>1</th>\n",
       "      <td>2023-01-02</td>\n",
       "      <td>2023-01-08</td>\n",
       "      <td>0.014955</td>\n",
       "      <td>Week</td>\n",
       "      <td>r_credo_score</td>\n",
       "      <td>1.1.0</td>\n",
       "      <td>FSTPD30</td>\n",
       "    </tr>\n",
       "    <tr>\n",
       "      <th>2</th>\n",
       "      <td>2023-01-09</td>\n",
       "      <td>2023-01-15</td>\n",
       "      <td>0.193885</td>\n",
       "      <td>Week</td>\n",
       "      <td>r_credo_score</td>\n",
       "      <td>1.1.0</td>\n",
       "      <td>FSTPD30</td>\n",
       "    </tr>\n",
       "    <tr>\n",
       "      <th>3</th>\n",
       "      <td>2023-01-16</td>\n",
       "      <td>2023-01-22</td>\n",
       "      <td>-0.019056</td>\n",
       "      <td>Week</td>\n",
       "      <td>r_credo_score</td>\n",
       "      <td>1.1.0</td>\n",
       "      <td>FSTPD30</td>\n",
       "    </tr>\n",
       "    <tr>\n",
       "      <th>4</th>\n",
       "      <td>2023-01-23</td>\n",
       "      <td>2023-01-29</td>\n",
       "      <td>0.024691</td>\n",
       "      <td>Week</td>\n",
       "      <td>r_credo_score</td>\n",
       "      <td>1.1.0</td>\n",
       "      <td>FSTPD30</td>\n",
       "    </tr>\n",
       "  </tbody>\n",
       "</table>\n",
       "</div>"
      ],
      "text/plain": [
       "  start_date   end_date  r_credo_score_FSTPD30_gini period     Model_Name  \\\n",
       "0 2023-01-01 2023-01-31                    0.048984  Month  r_credo_score   \n",
       "1 2023-01-02 2023-01-08                    0.014955   Week  r_credo_score   \n",
       "2 2023-01-09 2023-01-15                    0.193885   Week  r_credo_score   \n",
       "3 2023-01-16 2023-01-22                   -0.019056   Week  r_credo_score   \n",
       "4 2023-01-23 2023-01-29                    0.024691   Week  r_credo_score   \n",
       "\n",
       "  version bad_rate  \n",
       "0   1.1.0  FSTPD30  \n",
       "1   1.1.0  FSTPD30  \n",
       "2   1.1.0  FSTPD30  \n",
       "3   1.1.0  FSTPD30  \n",
       "4   1.1.0  FSTPD30  "
      ]
     },
     "execution_count": 136,
     "metadata": {},
     "output_type": "execute_result"
    }
   ],
   "source": [
    "\n",
    "\n",
    "sq = \"\"\"\n",
    "with r_credo_score as \n",
    "(SELECT \n",
    "    ln_disb_dtime disbursementdate,\n",
    "\tdigitalLoanAccountId,\n",
    "    r_credo_score,\n",
    "    ln_fpd10_flag,\n",
    "\tln_mature_fpd10_flag,\t\n",
    "\tFROM \n",
    "    prj-prod-dataplatform.risk_mart.sil_risk_ds_master_20230101_20250206\n",
    "  WHERE \n",
    "     -- ln_disb_dtime >= '2023-07-01'\n",
    "    ln_appln_submit_datetime >= '2023-01-01'\n",
    "  -- AND\n",
    "  --   format_date('%Y-%m', ln_disb_dtime) = '2024-09'\n",
    "  AND\n",
    "    ln_fpd10_flag is not null\n",
    "  AND\n",
    "    r_credo_score is not null\n",
    "  AND\n",
    "    ln_mature_fpd10_flag = 1\n",
    ")\n",
    "select * from r_credo_score;\n",
    "\"\"\"\n",
    "\n",
    "r_credo_scorefpd10 = client.query(sq).to_dataframe(progress_bar_type='tqdm')\n",
    "\n",
    "r_credo_scorefpd10.head()\n",
    "\n",
    "gini_results = calculate_periodic_gini(r_credo_scorefpd10, 'r_credo_score', 'ln_fpd10_flag', 'FPD10')\n",
    "M1FPD10 = gini_results.copy()\n",
    "print(f\"The shape of dataframe after copy is:\\t{M1FPD10.shape}\")\n",
    "M1FPD10.columns.values\n",
    "\n",
    "# FPD30\n",
    "\n",
    "sq = \"\"\"\n",
    "with r_credo_score as \n",
    "(SELECT \n",
    "    ln_disb_dtime disbursementdate,\n",
    "\tdigitalLoanAccountId,\n",
    "    r_credo_score,\n",
    "    ln_fpd30_flag,\n",
    "\tln_mature_fpd30_flag,\t\n",
    "\tFROM \n",
    "    prj-prod-dataplatform.risk_mart.sil_risk_ds_master_20230101_20250206\n",
    "  WHERE \n",
    "     -- ln_disb_dtime >= '2023-07-01'\n",
    "    ln_appln_submit_datetime >= '2023-01-01'\n",
    "  -- AND\n",
    "  --   format_date('%Y-%m', ln_disb_dtime) = '2024-09'\n",
    "  AND\n",
    "    ln_fpd30_flag is not null\n",
    "  AND\n",
    "    r_credo_score is not null\n",
    "  AND\n",
    "    ln_mature_fpd30_flag = 1\n",
    ")\n",
    "select * from r_credo_score;\n",
    "\"\"\"\n",
    "\n",
    "r_credo_scorefpd30 = client.query(sq).to_dataframe(progress_bar_type='tqdm')\n",
    "\n",
    "r_credo_scorefpd30.head()\n",
    "\n",
    "gini_results = calculate_periodic_gini(r_credo_scorefpd30, 'r_credo_score', 'ln_fpd30_flag', 'FPD30')\n",
    "M2FPD30 = gini_results.copy()\n",
    "print(f\"The shape of dataframe after copy is:\\t{M2FPD30.shape}\")\n",
    "M2FPD30.columns.values\n",
    "\n",
    "sq = \"\"\"\n",
    "with r_credo_score as \n",
    "(SELECT \n",
    "    ln_disb_dtime disbursementdate,\n",
    "\tdigitalLoanAccountId,\n",
    "    r_credo_score,\n",
    "    ln_fspd30_flag,\n",
    "\tln_mature_fspd30_flag,\t\n",
    "\tFROM \n",
    "    prj-prod-dataplatform.risk_mart.sil_risk_ds_master_20230101_20250206\n",
    "  WHERE \n",
    "     -- ln_disb_dtime >= '2023-07-01'\n",
    "    ln_appln_submit_datetime >= '2023-01-01'\n",
    "  -- AND\n",
    "  --   format_date('%Y-%m', ln_disb_dtime) = '2024-09'\n",
    "  AND\n",
    "    ln_fspd30_flag is not null\n",
    "  AND\n",
    "    r_credo_score is not null\n",
    "  AND\n",
    "    ln_mature_fspd30_flag = 1\n",
    ")\n",
    "select * from r_credo_score;\n",
    "\"\"\"\n",
    "\n",
    "r_credo_scorefspd30 = client.query(sq).to_dataframe(progress_bar_type='tqdm')\n",
    "\n",
    "print(r_credo_scorefspd30.head(2))\n",
    "\n",
    "gini_results = calculate_periodic_gini(r_credo_scorefspd30, 'r_credo_score', 'ln_fspd30_flag', 'FSPD30')\n",
    "M3FSPD30 = gini_results.copy()\n",
    "print(f\"The shape of dataframe after copy is:\\t{M3FSPD30.shape}\")\n",
    "print(M3FSPD30.columns.values)\n",
    "\n",
    "M3FSPD30.head()\n",
    "\n",
    "sq = \"\"\"\n",
    "with r_credo_score as \n",
    "(SELECT \n",
    "    ln_disb_dtime disbursementdate,\n",
    "\tdigitalLoanAccountId,\n",
    "    r_credo_score,\n",
    "    ln_fstpd30_flag,\n",
    "\tln_mature_fstpd30_flag,\t\n",
    "\tFROM \n",
    "    prj-prod-dataplatform.risk_mart.sil_risk_ds_master_20230101_20250206\n",
    "  WHERE \n",
    "     -- ln_disb_dtime >= '2023-07-01'\n",
    "    ln_appln_submit_datetime >= '2023-01-01'\n",
    "  -- AND\n",
    "  --   format_date('%Y-%m', ln_disb_dtime) = '2024-09'\n",
    "  AND\n",
    "    ln_fstpd30_flag is not null\n",
    "  AND\n",
    "    r_credo_score is not null\n",
    "  AND\n",
    "    ln_mature_fstpd30_flag = 1\n",
    ")\n",
    "select * from r_credo_score;\n",
    "\"\"\"\n",
    "\n",
    "r_credo_scorefstpd30 = client.query(sq).to_dataframe(progress_bar_type='tqdm')\n",
    "\n",
    "print(r_credo_scorefstpd30.head(2))\n",
    "\n",
    "gini_results = calculate_periodic_gini(r_credo_scorefstpd30, 'r_credo_score', 'ln_fstpd30_flag', 'FSTPD30')\n",
    "M4FSTPD30 = gini_results.copy()\n",
    "print(f\"The shape of dataframe after copy is:\\t{M4FSTPD30.shape}\")\n",
    "print(M4FSTPD30.columns.values)\n",
    "\n",
    "M4FSTPD30.head()\n",
    "\n"
   ]
  },
  {
   "cell_type": "markdown",
   "metadata": {},
   "source": [
    "## Combining data"
   ]
  },
  {
   "cell_type": "code",
   "execution_count": 137,
   "metadata": {},
   "outputs": [
    {
     "data": {
      "text/plain": [
       "array(['start_date', 'end_date', 'r_credo_score_FPD10_gini', 'period',\n",
       "       'Model_Name', 'version', 'bad_rate', 'r_credo_score_FPD30_gini',\n",
       "       'r_credo_score_FSPD30_gini', 'r_credo_score_FSTPD30_gini'],\n",
       "      dtype=object)"
      ]
     },
     "execution_count": 137,
     "metadata": {},
     "output_type": "execute_result"
    }
   ],
   "source": [
    "import functools\n",
    "\n",
    "dataframes = [M1FPD10, M2FPD30, M3FSPD30, M4FSTPD30]\n",
    "common_columns = ['start_date', 'end_date', 'period', 'Model_Name','version', 'bad_rate']\n",
    "\n",
    "def merge_dataframes(df1, df2):\n",
    "    return pd.merge(df1, df2, on=common_columns, how='outer')\n",
    "\n",
    "final_df = functools.reduce(merge_dataframes, dataframes)\n",
    "\n",
    "final_df.columns.values"
   ]
  },
  {
   "cell_type": "code",
   "execution_count": 138,
   "metadata": {},
   "outputs": [],
   "source": [
    "final_df = final_df[['start_date', 'end_date', 'period',   'Model_Name', 'version', 'bad_rate','r_credo_score_FPD10_gini','r_credo_score_FPD30_gini',    'r_credo_score_FSPD30_gini', 'r_credo_score_FSTPD30_gini']].copy()"
   ]
  },
  {
   "cell_type": "code",
   "execution_count": null,
   "metadata": {},
   "outputs": [],
   "source": []
  },
  {
   "cell_type": "code",
   "execution_count": 139,
   "metadata": {},
   "outputs": [
    {
     "data": {
      "text/plain": [
       "QueryJob<project=prj-prod-dataplatform, location=asia-southeast1, id=b3e4f38a-5e2b-40f2-b42a-027c4501a5cd>"
      ]
     },
     "execution_count": 139,
     "metadata": {},
     "output_type": "execute_result"
    }
   ],
   "source": [
    "sq = \"\"\"drop table if exists prj-prod-dataplatform.dap_ds_poweruser_playground.Model_gini_r_credo_score;\"\"\"\n",
    "client.query(sq)"
   ]
  },
  {
   "cell_type": "code",
   "execution_count": 140,
   "metadata": {},
   "outputs": [
    {
     "data": {
      "text/plain": [
       "LoadJob<project=prj-prod-dataplatform, location=asia-southeast1, id=750fbf99-705c-454f-a925-fcd04572dc31>"
      ]
     },
     "execution_count": 140,
     "metadata": {},
     "output_type": "execute_result"
    }
   ],
   "source": [
    "import pandas as pd\n",
    "from google.cloud import bigquery\n",
    "\n",
    "# Create a BigQuery client\n",
    "client = bigquery.Client('prj-prod-dataplatform')\n",
    "\n",
    "# Define your table schema\n",
    "table_schema = [\n",
    "    bigquery.SchemaField('start_date', 'TIMESTAMP'),\n",
    "    bigquery.SchemaField('end_date', 'TIMESTAMP'),\n",
    "    bigquery.SchemaField('period', 'STRING'),\n",
    "    bigquery.SchemaField('Model_Name', 'STRING'),\n",
    "    bigquery.SchemaField('version', 'STRING'),\n",
    "    bigquery.SchemaField('Badrate', 'STRING'),\n",
    "    bigquery.SchemaField('r_credo_score_FPD10_gini', 'FLOAT'),\n",
    "    bigquery.SchemaField('r_credo_score_FPD30_gini', 'FLOAT'),    \n",
    "    bigquery.SchemaField('r_credo_score_FSPD30_gini', 'FLOAT'),\n",
    "    bigquery.SchemaField('r_credo_score_FSTPD30_gini', 'FLOAT')\n",
    "    \n",
    "]\n",
    "\n",
    "# Create your BigQuery table\n",
    "table_id = 'prj-prod-dataplatform.dap_ds_poweruser_playground.Model_gini_r_credo_score'\n",
    "table = bigquery.Table(table_id, schema=table_schema)\n",
    "table = client.create_table(table)\n",
    "\n",
    "# Load your DataFrame into BigQuery\n",
    "job_config = bigquery.LoadJobConfig(\n",
    "    write_disposition='WRITE_TRUNCATE'\n",
    ")\n",
    "\n",
    "load_job = client.load_table_from_dataframe(\n",
    "    final_df, table_id, job_config=job_config\n",
    ")\n",
    "\n",
    "load_job.result()"
   ]
  },
  {
   "cell_type": "markdown",
   "metadata": {},
   "source": [
    "# old_gen_credo_score"
   ]
  },
  {
   "cell_type": "code",
   "execution_count": 141,
   "metadata": {},
   "outputs": [
    {
     "name": "stdout",
     "output_type": "stream",
     "text": [
      "Job ID 3db1853b-d77b-4082-8e3a-a1115c81c667 successfully executed: 100%|\u001b[32m██████████\u001b[0m|"
     ]
    },
    {
     "name": "stderr",
     "output_type": "stream",
     "text": [
      "d:\\Anaconda3\\envs\\inc_env\\lib\\site-packages\\google\\cloud\\bigquery\\table.py:1820: UserWarning: BigQuery Storage module not found, fetch data with the REST endpoint instead.\n",
      "  warnings.warn(\n"
     ]
    },
    {
     "name": "stdout",
     "output_type": "stream",
     "text": [
      "\n",
      "Downloading: 100%|\u001b[32m██████████\u001b[0m|\n",
      "The shape of dataframe after copy is:\t(131, 7)\n",
      "Job ID b9defdd9-74a5-40b5-9771-45a5b03f3d97 successfully executed: 100%|\u001b[32m██████████\u001b[0m|"
     ]
    },
    {
     "name": "stderr",
     "output_type": "stream",
     "text": [
      "d:\\Anaconda3\\envs\\inc_env\\lib\\site-packages\\google\\cloud\\bigquery\\table.py:1820: UserWarning: BigQuery Storage module not found, fetch data with the REST endpoint instead.\n",
      "  warnings.warn(\n"
     ]
    },
    {
     "name": "stdout",
     "output_type": "stream",
     "text": [
      "\n",
      "Downloading: 100%|\u001b[32m██████████\u001b[0m|\n",
      "The shape of dataframe after copy is:\t(127, 7)\n",
      "Job ID 0649cf0e-1888-4363-927c-c4a27870a4fc successfully executed: 100%|\u001b[32m██████████\u001b[0m|"
     ]
    },
    {
     "name": "stderr",
     "output_type": "stream",
     "text": [
      "d:\\Anaconda3\\envs\\inc_env\\lib\\site-packages\\google\\cloud\\bigquery\\table.py:1820: UserWarning: BigQuery Storage module not found, fetch data with the REST endpoint instead.\n",
      "  warnings.warn(\n"
     ]
    },
    {
     "name": "stdout",
     "output_type": "stream",
     "text": [
      "\n",
      "Downloading: 100%|\u001b[32m██████████\u001b[0m|\n",
      "     disbursementdate                  digitalLoanAccountId  \\\n",
      "0 2023-01-02 12:53:05  6c53ccd6-5de3-4b2a-8216-caa1b1146cd6   \n",
      "1 2023-01-02 13:19:37  ea076112-bc60-4a12-9463-37a9be7da3e2   \n",
      "\n",
      "  old_gen_credo_score  ln_fspd30_flag  ln_mature_fspd30_flag  \n",
      "0               481.0               1                      1  \n",
      "1               500.0               0                      1  \n",
      "The shape of dataframe after copy is:\t(122, 7)\n",
      "['start_date' 'end_date' 'old_gen_credo_score_FSPD30_gini' 'period'\n",
      " 'Model_Name' 'version' 'bad_rate']\n",
      "Job ID 57363b82-4e8c-47e5-911b-1629469db2eb successfully executed: 100%|\u001b[32m██████████\u001b[0m|"
     ]
    },
    {
     "name": "stderr",
     "output_type": "stream",
     "text": [
      "d:\\Anaconda3\\envs\\inc_env\\lib\\site-packages\\google\\cloud\\bigquery\\table.py:1820: UserWarning: BigQuery Storage module not found, fetch data with the REST endpoint instead.\n",
      "  warnings.warn(\n"
     ]
    },
    {
     "name": "stdout",
     "output_type": "stream",
     "text": [
      "\n",
      "Downloading: 100%|\u001b[32m██████████\u001b[0m|\n",
      "     disbursementdate                  digitalLoanAccountId  \\\n",
      "0 2023-01-02 12:04:44  44247f51-ac7a-4035-8d34-af7af2d9548c   \n",
      "1 2023-01-02 12:44:11  f0a9e5c7-560d-46a3-9c4c-16d518d1a605   \n",
      "\n",
      "  old_gen_credo_score  ln_fstpd30_flag  ln_mature_fstpd30_flag  \n",
      "0               498.0                1                       1  \n",
      "1               510.0                0                       1  \n",
      "The shape of dataframe after copy is:\t(116, 7)\n",
      "['start_date' 'end_date' 'old_gen_credo_score_FSTPD30_gini' 'period'\n",
      " 'Model_Name' 'version' 'bad_rate']\n"
     ]
    },
    {
     "data": {
      "application/vnd.microsoft.datawrangler.viewer.v0+json": {
       "columns": [
        {
         "name": "index",
         "rawType": "int64",
         "type": "integer"
        },
        {
         "name": "start_date",
         "rawType": "datetime64[ns]",
         "type": "datetime"
        },
        {
         "name": "end_date",
         "rawType": "datetime64[ns]",
         "type": "datetime"
        },
        {
         "name": "old_gen_credo_score_FSTPD30_gini",
         "rawType": "float64",
         "type": "float"
        },
        {
         "name": "period",
         "rawType": "object",
         "type": "string"
        },
        {
         "name": "Model_Name",
         "rawType": "object",
         "type": "string"
        },
        {
         "name": "version",
         "rawType": "object",
         "type": "string"
        },
        {
         "name": "bad_rate",
         "rawType": "object",
         "type": "string"
        }
       ],
       "conversionMethod": "pd.DataFrame",
       "ref": "25a5a415-e167-415c-93bd-b76c4b34a8ec",
       "rows": [
        [
         "0",
         "2023-01-01 00:00:00",
         "2023-01-31 00:00:00",
         "0.12203851390780285",
         "Month",
         "old_gen_credo_score",
         "1.1.0",
         "FSTPD30"
        ],
        [
         "1",
         "2023-01-02 00:00:00",
         "2023-01-08 00:00:00",
         "0.23084886128364324",
         "Week",
         "old_gen_credo_score",
         "1.1.0",
         "FSTPD30"
        ],
        [
         "2",
         "2023-01-09 00:00:00",
         "2023-01-15 00:00:00",
         "0.14341336794289328",
         "Week",
         "old_gen_credo_score",
         "1.1.0",
         "FSTPD30"
        ],
        [
         "3",
         "2023-01-16 00:00:00",
         "2023-01-22 00:00:00",
         "0.13248847926267238",
         "Week",
         "old_gen_credo_score",
         "1.1.0",
         "FSTPD30"
        ],
        [
         "4",
         "2023-01-23 00:00:00",
         "2023-01-29 00:00:00",
         "-0.0037202380952383596",
         "Week",
         "old_gen_credo_score",
         "1.1.0",
         "FSTPD30"
        ]
       ],
       "shape": {
        "columns": 7,
        "rows": 5
       }
      },
      "text/html": [
       "<div>\n",
       "<style scoped>\n",
       "    .dataframe tbody tr th:only-of-type {\n",
       "        vertical-align: middle;\n",
       "    }\n",
       "\n",
       "    .dataframe tbody tr th {\n",
       "        vertical-align: top;\n",
       "    }\n",
       "\n",
       "    .dataframe thead th {\n",
       "        text-align: right;\n",
       "    }\n",
       "</style>\n",
       "<table border=\"1\" class=\"dataframe\">\n",
       "  <thead>\n",
       "    <tr style=\"text-align: right;\">\n",
       "      <th></th>\n",
       "      <th>start_date</th>\n",
       "      <th>end_date</th>\n",
       "      <th>old_gen_credo_score_FSTPD30_gini</th>\n",
       "      <th>period</th>\n",
       "      <th>Model_Name</th>\n",
       "      <th>version</th>\n",
       "      <th>bad_rate</th>\n",
       "    </tr>\n",
       "  </thead>\n",
       "  <tbody>\n",
       "    <tr>\n",
       "      <th>0</th>\n",
       "      <td>2023-01-01</td>\n",
       "      <td>2023-01-31</td>\n",
       "      <td>0.122039</td>\n",
       "      <td>Month</td>\n",
       "      <td>old_gen_credo_score</td>\n",
       "      <td>1.1.0</td>\n",
       "      <td>FSTPD30</td>\n",
       "    </tr>\n",
       "    <tr>\n",
       "      <th>1</th>\n",
       "      <td>2023-01-02</td>\n",
       "      <td>2023-01-08</td>\n",
       "      <td>0.230849</td>\n",
       "      <td>Week</td>\n",
       "      <td>old_gen_credo_score</td>\n",
       "      <td>1.1.0</td>\n",
       "      <td>FSTPD30</td>\n",
       "    </tr>\n",
       "    <tr>\n",
       "      <th>2</th>\n",
       "      <td>2023-01-09</td>\n",
       "      <td>2023-01-15</td>\n",
       "      <td>0.143413</td>\n",
       "      <td>Week</td>\n",
       "      <td>old_gen_credo_score</td>\n",
       "      <td>1.1.0</td>\n",
       "      <td>FSTPD30</td>\n",
       "    </tr>\n",
       "    <tr>\n",
       "      <th>3</th>\n",
       "      <td>2023-01-16</td>\n",
       "      <td>2023-01-22</td>\n",
       "      <td>0.132488</td>\n",
       "      <td>Week</td>\n",
       "      <td>old_gen_credo_score</td>\n",
       "      <td>1.1.0</td>\n",
       "      <td>FSTPD30</td>\n",
       "    </tr>\n",
       "    <tr>\n",
       "      <th>4</th>\n",
       "      <td>2023-01-23</td>\n",
       "      <td>2023-01-29</td>\n",
       "      <td>-0.003720</td>\n",
       "      <td>Week</td>\n",
       "      <td>old_gen_credo_score</td>\n",
       "      <td>1.1.0</td>\n",
       "      <td>FSTPD30</td>\n",
       "    </tr>\n",
       "  </tbody>\n",
       "</table>\n",
       "</div>"
      ],
      "text/plain": [
       "  start_date   end_date  old_gen_credo_score_FSTPD30_gini period  \\\n",
       "0 2023-01-01 2023-01-31                          0.122039  Month   \n",
       "1 2023-01-02 2023-01-08                          0.230849   Week   \n",
       "2 2023-01-09 2023-01-15                          0.143413   Week   \n",
       "3 2023-01-16 2023-01-22                          0.132488   Week   \n",
       "4 2023-01-23 2023-01-29                         -0.003720   Week   \n",
       "\n",
       "            Model_Name version bad_rate  \n",
       "0  old_gen_credo_score   1.1.0  FSTPD30  \n",
       "1  old_gen_credo_score   1.1.0  FSTPD30  \n",
       "2  old_gen_credo_score   1.1.0  FSTPD30  \n",
       "3  old_gen_credo_score   1.1.0  FSTPD30  \n",
       "4  old_gen_credo_score   1.1.0  FSTPD30  "
      ]
     },
     "execution_count": 141,
     "metadata": {},
     "output_type": "execute_result"
    }
   ],
   "source": [
    "\n",
    "\n",
    "sq = \"\"\"\n",
    "with old_gen_credo_score as \n",
    "(SELECT \n",
    "    ln_disb_dtime disbursementdate,\n",
    "\tdigitalLoanAccountId,\n",
    "    old_gen_credo_score,\n",
    "    ln_fpd10_flag,\n",
    "\tln_mature_fpd10_flag,\t\n",
    "\tFROM \n",
    "    prj-prod-dataplatform.risk_mart.sil_risk_ds_master_20230101_20250206\n",
    "  WHERE \n",
    "     -- ln_disb_dtime >= '2023-07-01'\n",
    "    ln_appln_submit_datetime >= '2023-01-01'\n",
    "  -- AND\n",
    "  --   format_date('%Y-%m', ln_disb_dtime) = '2024-09'\n",
    "  AND\n",
    "    ln_fpd10_flag is not null\n",
    "  AND\n",
    "    old_gen_credo_score is not null\n",
    "  AND\n",
    "    ln_mature_fpd10_flag = 1\n",
    ")\n",
    "select * from old_gen_credo_score;\n",
    "\"\"\"\n",
    "\n",
    "old_gen_credo_scorefpd10 = client.query(sq).to_dataframe(progress_bar_type='tqdm')\n",
    "\n",
    "old_gen_credo_scorefpd10.head()\n",
    "\n",
    "gini_results = calculate_periodic_gini_threedigit(old_gen_credo_scorefpd10, 'old_gen_credo_score', 'ln_fpd10_flag', 'FPD10')\n",
    "M1FPD10 = gini_results.copy()\n",
    "print(f\"The shape of dataframe after copy is:\\t{M1FPD10.shape}\")\n",
    "M1FPD10.columns.values\n",
    "\n",
    "# FPD30\n",
    "\n",
    "sq = \"\"\"\n",
    "with old_gen_credo_score as \n",
    "(SELECT \n",
    "    ln_disb_dtime disbursementdate,\n",
    "\tdigitalLoanAccountId,\n",
    "    old_gen_credo_score,\n",
    "    ln_fpd30_flag,\n",
    "\tln_mature_fpd30_flag,\t\n",
    "\tFROM \n",
    "    prj-prod-dataplatform.risk_mart.sil_risk_ds_master_20230101_20250206\n",
    "  WHERE \n",
    "     -- ln_disb_dtime >= '2023-07-01'\n",
    "    ln_appln_submit_datetime >= '2023-01-01'\n",
    "  -- AND\n",
    "  --   format_date('%Y-%m', ln_disb_dtime) = '2024-09'\n",
    "  AND\n",
    "    ln_fpd30_flag is not null\n",
    "  AND\n",
    "    old_gen_credo_score is not null\n",
    "  AND\n",
    "    ln_mature_fpd30_flag = 1\n",
    ")\n",
    "select * from old_gen_credo_score;\n",
    "\"\"\"\n",
    "\n",
    "old_gen_credo_scorefpd30 = client.query(sq).to_dataframe(progress_bar_type='tqdm')\n",
    "\n",
    "old_gen_credo_scorefpd30.head()\n",
    "\n",
    "gini_results = calculate_periodic_gini_threedigit(old_gen_credo_scorefpd30, 'old_gen_credo_score', 'ln_fpd30_flag', 'FPD30')\n",
    "M2FPD30 = gini_results.copy()\n",
    "print(f\"The shape of dataframe after copy is:\\t{M2FPD30.shape}\")\n",
    "M2FPD30.columns.values\n",
    "\n",
    "sq = \"\"\"\n",
    "with old_gen_credo_score as \n",
    "(SELECT \n",
    "    ln_disb_dtime disbursementdate,\n",
    "\tdigitalLoanAccountId,\n",
    "    old_gen_credo_score,\n",
    "    ln_fspd30_flag,\n",
    "\tln_mature_fspd30_flag,\t\n",
    "\tFROM \n",
    "    prj-prod-dataplatform.risk_mart.sil_risk_ds_master_20230101_20250206\n",
    "  WHERE \n",
    "     -- ln_disb_dtime >= '2023-07-01'\n",
    "    ln_appln_submit_datetime >= '2023-01-01'\n",
    "  -- AND\n",
    "  --   format_date('%Y-%m', ln_disb_dtime) = '2024-09'\n",
    "  AND\n",
    "    ln_fspd30_flag is not null\n",
    "  AND\n",
    "    old_gen_credo_score is not null\n",
    "  AND\n",
    "    ln_mature_fspd30_flag = 1\n",
    ")\n",
    "select * from old_gen_credo_score;\n",
    "\"\"\"\n",
    "\n",
    "old_gen_credo_scorefspd30 = client.query(sq).to_dataframe(progress_bar_type='tqdm')\n",
    "\n",
    "print(old_gen_credo_scorefspd30.head(2))\n",
    "\n",
    "gini_results = calculate_periodic_gini_threedigit(old_gen_credo_scorefspd30, 'old_gen_credo_score', 'ln_fspd30_flag', 'FSPD30')\n",
    "M3FSPD30 = gini_results.copy()\n",
    "print(f\"The shape of dataframe after copy is:\\t{M3FSPD30.shape}\")\n",
    "print(M3FSPD30.columns.values)\n",
    "\n",
    "M3FSPD30.head()\n",
    "\n",
    "sq = \"\"\"\n",
    "with old_gen_credo_score as \n",
    "(SELECT \n",
    "    ln_disb_dtime disbursementdate,\n",
    "\tdigitalLoanAccountId,\n",
    "    old_gen_credo_score,\n",
    "    ln_fstpd30_flag,\n",
    "\tln_mature_fstpd30_flag,\t\n",
    "\tFROM \n",
    "    prj-prod-dataplatform.risk_mart.sil_risk_ds_master_20230101_20250206\n",
    "  WHERE \n",
    "     -- ln_disb_dtime >= '2023-07-01'\n",
    "    ln_appln_submit_datetime >= '2023-01-01'\n",
    "  -- AND\n",
    "  --   format_date('%Y-%m', ln_disb_dtime) = '2024-09'\n",
    "  AND\n",
    "    ln_fstpd30_flag is not null\n",
    "  AND\n",
    "    old_gen_credo_score is not null\n",
    "  AND\n",
    "    ln_mature_fstpd30_flag = 1\n",
    ")\n",
    "select * from old_gen_credo_score;\n",
    "\"\"\"\n",
    "\n",
    "old_gen_credo_scorefstpd30 = client.query(sq).to_dataframe(progress_bar_type='tqdm')\n",
    "\n",
    "print(old_gen_credo_scorefstpd30.head(2))\n",
    "\n",
    "gini_results = calculate_periodic_gini_threedigit(old_gen_credo_scorefstpd30, 'old_gen_credo_score', 'ln_fstpd30_flag', 'FSTPD30')\n",
    "M4FSTPD30 = gini_results.copy()\n",
    "print(f\"The shape of dataframe after copy is:\\t{M4FSTPD30.shape}\")\n",
    "print(M4FSTPD30.columns.values)\n",
    "\n",
    "M4FSTPD30.head()\n",
    "\n"
   ]
  },
  {
   "cell_type": "markdown",
   "metadata": {},
   "source": [
    "## Combining data"
   ]
  },
  {
   "cell_type": "code",
   "execution_count": 142,
   "metadata": {},
   "outputs": [
    {
     "data": {
      "text/plain": [
       "array(['start_date', 'end_date', 'old_gen_credo_score_FPD10_gini',\n",
       "       'period', 'Model_Name', 'version', 'bad_rate',\n",
       "       'old_gen_credo_score_FPD30_gini',\n",
       "       'old_gen_credo_score_FSPD30_gini',\n",
       "       'old_gen_credo_score_FSTPD30_gini'], dtype=object)"
      ]
     },
     "execution_count": 142,
     "metadata": {},
     "output_type": "execute_result"
    }
   ],
   "source": [
    "import functools\n",
    "\n",
    "dataframes = [M1FPD10, M2FPD30, M3FSPD30, M4FSTPD30]\n",
    "common_columns = ['start_date', 'end_date', 'period', 'Model_Name','version', 'bad_rate']\n",
    "\n",
    "def merge_dataframes(df1, df2):\n",
    "    return pd.merge(df1, df2, on=common_columns, how='outer')\n",
    "\n",
    "final_df = functools.reduce(merge_dataframes, dataframes)\n",
    "\n",
    "final_df.columns.values"
   ]
  },
  {
   "cell_type": "code",
   "execution_count": 143,
   "metadata": {},
   "outputs": [],
   "source": [
    "final_df = final_df[['start_date', 'end_date', 'period',   'Model_Name', 'version', 'bad_rate','old_gen_credo_score_FPD10_gini','old_gen_credo_score_FPD30_gini',    'old_gen_credo_score_FSPD30_gini', 'old_gen_credo_score_FSTPD30_gini']].copy()"
   ]
  },
  {
   "cell_type": "code",
   "execution_count": null,
   "metadata": {},
   "outputs": [],
   "source": []
  },
  {
   "cell_type": "code",
   "execution_count": 144,
   "metadata": {},
   "outputs": [
    {
     "data": {
      "text/plain": [
       "QueryJob<project=prj-prod-dataplatform, location=asia-southeast1, id=802cc6c4-002d-4245-a9e8-0bdb6848c545>"
      ]
     },
     "execution_count": 144,
     "metadata": {},
     "output_type": "execute_result"
    }
   ],
   "source": [
    "sq = \"\"\"drop table if exists prj-prod-dataplatform.dap_ds_poweruser_playground.Model_gini_old_gen_credo_score;\"\"\"\n",
    "client.query(sq)"
   ]
  },
  {
   "cell_type": "code",
   "execution_count": 145,
   "metadata": {},
   "outputs": [
    {
     "data": {
      "text/plain": [
       "LoadJob<project=prj-prod-dataplatform, location=asia-southeast1, id=d4e1de2e-53c3-4d80-bfe7-7d93ea2bfab3>"
      ]
     },
     "execution_count": 145,
     "metadata": {},
     "output_type": "execute_result"
    }
   ],
   "source": [
    "import pandas as pd\n",
    "from google.cloud import bigquery\n",
    "\n",
    "# Create a BigQuery client\n",
    "client = bigquery.Client('prj-prod-dataplatform')\n",
    "\n",
    "# Define your table schema\n",
    "table_schema = [\n",
    "    bigquery.SchemaField('start_date', 'TIMESTAMP'),\n",
    "    bigquery.SchemaField('end_date', 'TIMESTAMP'),\n",
    "    bigquery.SchemaField('period', 'STRING'),\n",
    "    bigquery.SchemaField('Model_Name', 'STRING'),\n",
    "    bigquery.SchemaField('version', 'STRING'),\n",
    "    bigquery.SchemaField('Badrate', 'STRING'),\n",
    "    bigquery.SchemaField('old_gen_credo_score_FPD10_gini', 'FLOAT'),\n",
    "    bigquery.SchemaField('old_gen_credo_score_FPD30_gini', 'FLOAT'),    \n",
    "    bigquery.SchemaField('old_gen_credo_score_FSPD30_gini', 'FLOAT'),\n",
    "    bigquery.SchemaField('old_gen_credo_score_FSTPD30_gini', 'FLOAT')\n",
    "    \n",
    "]\n",
    "\n",
    "# Create your BigQuery table\n",
    "table_id = 'prj-prod-dataplatform.dap_ds_poweruser_playground.Model_gini_old_gen_credo_score'\n",
    "table = bigquery.Table(table_id, schema=table_schema)\n",
    "table = client.create_table(table)\n",
    "\n",
    "# Load your DataFrame into BigQuery\n",
    "job_config = bigquery.LoadJobConfig(\n",
    "    write_disposition='WRITE_TRUNCATE'\n",
    ")\n",
    "\n",
    "load_job = client.load_table_from_dataframe(\n",
    "    final_df, table_id, job_config=job_config\n",
    ")\n",
    "\n",
    "load_job.result()"
   ]
  },
  {
   "cell_type": "code",
   "execution_count": 146,
   "metadata": {},
   "outputs": [
    {
     "name": "stdout",
     "output_type": "stream",
     "text": [
      "Job ID a1413798-06f2-4775-9b66-df58c8d26f70 successfully executed: 100%|\u001b[32m██████████\u001b[0m|"
     ]
    },
    {
     "name": "stderr",
     "output_type": "stream",
     "text": [
      "d:\\Anaconda3\\envs\\inc_env\\lib\\site-packages\\google\\cloud\\bigquery\\table.py:1820: UserWarning: BigQuery Storage module not found, fetch data with the REST endpoint instead.\n",
      "  warnings.warn(\n"
     ]
    },
    {
     "name": "stdout",
     "output_type": "stream",
     "text": [
      "\n",
      "Downloading: 100%|\u001b[32m██████████\u001b[0m|\n"
     ]
    }
   ],
   "source": [
    "sq = \"\"\"select * from prj-prod-dataplatform.dap_ds_poweruser_playground.Model_gini_old_gen_credo_score;\"\"\"\n",
    "\n",
    "df = client.query(sq).to_dataframe(progress_bar_type='tqdm')"
   ]
  },
  {
   "cell_type": "code",
   "execution_count": 147,
   "metadata": {},
   "outputs": [
    {
     "data": {
      "text/plain": [
       "bad_rate\n",
       "FPD10      131\n",
       "FPD30      127\n",
       "FSPD30     122\n",
       "FSTPD30    116\n",
       "Name: count, dtype: int64"
      ]
     },
     "execution_count": 147,
     "metadata": {},
     "output_type": "execute_result"
    }
   ],
   "source": [
    "df['bad_rate'].value_counts()"
   ]
  },
  {
   "cell_type": "markdown",
   "metadata": {},
   "source": [
    "# old_cic_score"
   ]
  },
  {
   "cell_type": "code",
   "execution_count": 148,
   "metadata": {},
   "outputs": [
    {
     "name": "stdout",
     "output_type": "stream",
     "text": [
      "Job ID c590b88c-8c4b-4860-8c34-bfb7d8c8fac0 successfully executed: 100%|\u001b[32m██████████\u001b[0m|"
     ]
    },
    {
     "name": "stderr",
     "output_type": "stream",
     "text": [
      "d:\\Anaconda3\\envs\\inc_env\\lib\\site-packages\\google\\cloud\\bigquery\\table.py:1820: UserWarning: BigQuery Storage module not found, fetch data with the REST endpoint instead.\n",
      "  warnings.warn(\n"
     ]
    },
    {
     "name": "stdout",
     "output_type": "stream",
     "text": [
      "\n",
      "Downloading: 100%|\u001b[32m██████████\u001b[0m|\n",
      "The shape of dataframe after copy is:\t(91, 7)\n",
      "Job ID cbcb7a1b-80f1-4817-ba77-281c86b0155a successfully executed: 100%|\u001b[32m██████████\u001b[0m|"
     ]
    },
    {
     "name": "stderr",
     "output_type": "stream",
     "text": [
      "d:\\Anaconda3\\envs\\inc_env\\lib\\site-packages\\google\\cloud\\bigquery\\table.py:1820: UserWarning: BigQuery Storage module not found, fetch data with the REST endpoint instead.\n",
      "  warnings.warn(\n"
     ]
    },
    {
     "name": "stdout",
     "output_type": "stream",
     "text": [
      "\n",
      "Downloading: 100%|\u001b[32m██████████\u001b[0m|\n",
      "The shape of dataframe after copy is:\t(87, 7)\n",
      "Job ID 17079e08-7de3-4145-820e-0b10f8005071 successfully executed: 100%|\u001b[32m██████████\u001b[0m|"
     ]
    },
    {
     "name": "stderr",
     "output_type": "stream",
     "text": [
      "d:\\Anaconda3\\envs\\inc_env\\lib\\site-packages\\google\\cloud\\bigquery\\table.py:1820: UserWarning: BigQuery Storage module not found, fetch data with the REST endpoint instead.\n",
      "  warnings.warn(\n"
     ]
    },
    {
     "name": "stdout",
     "output_type": "stream",
     "text": [
      "\n",
      "Downloading: 100%|\u001b[32m██████████\u001b[0m|\n",
      "     disbursementdate                  digitalLoanAccountId old_cic_score  \\\n",
      "0 2023-08-23 10:30:20  799382a3-b224-48b5-ad0b-ac075c638651       484.000   \n",
      "1 2023-08-23 20:04:02  9c7f4086-33c8-4b8f-b1b1-f95cc0b104b2       480.000   \n",
      "\n",
      "   ln_fspd30_flag  ln_mature_fspd30_flag  \n",
      "0               1                      1  \n",
      "1               1                      1  \n",
      "The shape of dataframe after copy is:\t(82, 7)\n",
      "['start_date' 'end_date' 'old_cic_score_FSPD30_gini' 'period' 'Model_Name'\n",
      " 'version' 'bad_rate']\n",
      "Job ID 96264287-b4d1-42fa-94d2-c0afdb54e128 successfully executed: 100%|\u001b[32m██████████\u001b[0m|"
     ]
    },
    {
     "name": "stderr",
     "output_type": "stream",
     "text": [
      "d:\\Anaconda3\\envs\\inc_env\\lib\\site-packages\\google\\cloud\\bigquery\\table.py:1820: UserWarning: BigQuery Storage module not found, fetch data with the REST endpoint instead.\n",
      "  warnings.warn(\n"
     ]
    },
    {
     "name": "stdout",
     "output_type": "stream",
     "text": [
      "\n",
      "Downloading: 100%|\u001b[32m██████████\u001b[0m|\n",
      "     disbursementdate                  digitalLoanAccountId old_cic_score  \\\n",
      "0 2023-08-23 15:36:50  c8e6977b-a5ca-48b0-9ef0-e6e9581a7229       484.000   \n",
      "1 2023-08-24 17:04:19  5c2c2e8b-7c9e-46d0-9216-990d9dc3aad7       484.000   \n",
      "\n",
      "   ln_fstpd30_flag  ln_mature_fstpd30_flag  \n",
      "0                1                       1  \n",
      "1                0                       1  \n",
      "The shape of dataframe after copy is:\t(76, 7)\n",
      "['start_date' 'end_date' 'old_cic_score_FSTPD30_gini' 'period'\n",
      " 'Model_Name' 'version' 'bad_rate']\n"
     ]
    },
    {
     "data": {
      "application/vnd.microsoft.datawrangler.viewer.v0+json": {
       "columns": [
        {
         "name": "index",
         "rawType": "int64",
         "type": "integer"
        },
        {
         "name": "start_date",
         "rawType": "datetime64[ns]",
         "type": "datetime"
        },
        {
         "name": "end_date",
         "rawType": "datetime64[ns]",
         "type": "datetime"
        },
        {
         "name": "old_cic_score_FSTPD30_gini",
         "rawType": "float64",
         "type": "float"
        },
        {
         "name": "period",
         "rawType": "object",
         "type": "string"
        },
        {
         "name": "Model_Name",
         "rawType": "object",
         "type": "string"
        },
        {
         "name": "version",
         "rawType": "object",
         "type": "string"
        },
        {
         "name": "bad_rate",
         "rawType": "object",
         "type": "string"
        }
       ],
       "conversionMethod": "pd.DataFrame",
       "ref": "595343bd-6921-4b2a-bdf5-f912a8ace750",
       "rows": [
        [
         "0",
         "2023-08-01 00:00:00",
         "2023-08-31 00:00:00",
         "0.1483622350674374",
         "Month",
         "old_cic_score",
         "1.1.0",
         "FSTPD30"
        ],
        [
         "1",
         "2023-08-21 00:00:00",
         "2023-08-27 00:00:00",
         "0.07172413793103427",
         "Week",
         "old_cic_score",
         "1.1.0",
         "FSTPD30"
        ],
        [
         "2",
         "2023-08-28 00:00:00",
         "2023-09-03 00:00:00",
         "0.17375661375661378",
         "Week",
         "old_cic_score",
         "1.1.0",
         "FSTPD30"
        ],
        [
         "3",
         "2023-09-01 00:00:00",
         "2023-09-30 00:00:00",
         "0.23209676533582302",
         "Month",
         "old_cic_score",
         "1.1.0",
         "FSTPD30"
        ],
        [
         "4",
         "2023-09-04 00:00:00",
         "2023-09-10 00:00:00",
         "0.2474747474747474",
         "Week",
         "old_cic_score",
         "1.1.0",
         "FSTPD30"
        ]
       ],
       "shape": {
        "columns": 7,
        "rows": 5
       }
      },
      "text/html": [
       "<div>\n",
       "<style scoped>\n",
       "    .dataframe tbody tr th:only-of-type {\n",
       "        vertical-align: middle;\n",
       "    }\n",
       "\n",
       "    .dataframe tbody tr th {\n",
       "        vertical-align: top;\n",
       "    }\n",
       "\n",
       "    .dataframe thead th {\n",
       "        text-align: right;\n",
       "    }\n",
       "</style>\n",
       "<table border=\"1\" class=\"dataframe\">\n",
       "  <thead>\n",
       "    <tr style=\"text-align: right;\">\n",
       "      <th></th>\n",
       "      <th>start_date</th>\n",
       "      <th>end_date</th>\n",
       "      <th>old_cic_score_FSTPD30_gini</th>\n",
       "      <th>period</th>\n",
       "      <th>Model_Name</th>\n",
       "      <th>version</th>\n",
       "      <th>bad_rate</th>\n",
       "    </tr>\n",
       "  </thead>\n",
       "  <tbody>\n",
       "    <tr>\n",
       "      <th>0</th>\n",
       "      <td>2023-08-01</td>\n",
       "      <td>2023-08-31</td>\n",
       "      <td>0.148362</td>\n",
       "      <td>Month</td>\n",
       "      <td>old_cic_score</td>\n",
       "      <td>1.1.0</td>\n",
       "      <td>FSTPD30</td>\n",
       "    </tr>\n",
       "    <tr>\n",
       "      <th>1</th>\n",
       "      <td>2023-08-21</td>\n",
       "      <td>2023-08-27</td>\n",
       "      <td>0.071724</td>\n",
       "      <td>Week</td>\n",
       "      <td>old_cic_score</td>\n",
       "      <td>1.1.0</td>\n",
       "      <td>FSTPD30</td>\n",
       "    </tr>\n",
       "    <tr>\n",
       "      <th>2</th>\n",
       "      <td>2023-08-28</td>\n",
       "      <td>2023-09-03</td>\n",
       "      <td>0.173757</td>\n",
       "      <td>Week</td>\n",
       "      <td>old_cic_score</td>\n",
       "      <td>1.1.0</td>\n",
       "      <td>FSTPD30</td>\n",
       "    </tr>\n",
       "    <tr>\n",
       "      <th>3</th>\n",
       "      <td>2023-09-01</td>\n",
       "      <td>2023-09-30</td>\n",
       "      <td>0.232097</td>\n",
       "      <td>Month</td>\n",
       "      <td>old_cic_score</td>\n",
       "      <td>1.1.0</td>\n",
       "      <td>FSTPD30</td>\n",
       "    </tr>\n",
       "    <tr>\n",
       "      <th>4</th>\n",
       "      <td>2023-09-04</td>\n",
       "      <td>2023-09-10</td>\n",
       "      <td>0.247475</td>\n",
       "      <td>Week</td>\n",
       "      <td>old_cic_score</td>\n",
       "      <td>1.1.0</td>\n",
       "      <td>FSTPD30</td>\n",
       "    </tr>\n",
       "  </tbody>\n",
       "</table>\n",
       "</div>"
      ],
      "text/plain": [
       "  start_date   end_date  old_cic_score_FSTPD30_gini period     Model_Name  \\\n",
       "0 2023-08-01 2023-08-31                    0.148362  Month  old_cic_score   \n",
       "1 2023-08-21 2023-08-27                    0.071724   Week  old_cic_score   \n",
       "2 2023-08-28 2023-09-03                    0.173757   Week  old_cic_score   \n",
       "3 2023-09-01 2023-09-30                    0.232097  Month  old_cic_score   \n",
       "4 2023-09-04 2023-09-10                    0.247475   Week  old_cic_score   \n",
       "\n",
       "  version bad_rate  \n",
       "0   1.1.0  FSTPD30  \n",
       "1   1.1.0  FSTPD30  \n",
       "2   1.1.0  FSTPD30  \n",
       "3   1.1.0  FSTPD30  \n",
       "4   1.1.0  FSTPD30  "
      ]
     },
     "execution_count": 148,
     "metadata": {},
     "output_type": "execute_result"
    }
   ],
   "source": [
    "\n",
    "\n",
    "sq = \"\"\"\n",
    "with old_cic_score as \n",
    "(SELECT \n",
    "    ln_disb_dtime disbursementdate,\n",
    "\tdigitalLoanAccountId,\n",
    "    old_cic_score,\n",
    "    ln_fpd10_flag,\n",
    "\tln_mature_fpd10_flag,\t\n",
    "\tFROM \n",
    "    prj-prod-dataplatform.risk_mart.sil_risk_ds_master_20230101_20250206\n",
    "  WHERE \n",
    "     -- ln_disb_dtime >= '2023-07-01'\n",
    "    ln_appln_submit_datetime >= '2023-01-01'\n",
    "  -- AND\n",
    "  --   format_date('%Y-%m', ln_disb_dtime) = '2024-09'\n",
    "  AND\n",
    "    ln_fpd10_flag is not null\n",
    "  AND\n",
    "    old_cic_score is not null\n",
    "  AND\n",
    "    ln_mature_fpd10_flag = 1\n",
    ")\n",
    "select * from old_cic_score;\n",
    "\"\"\"\n",
    "\n",
    "old_cic_scorefpd10 = client.query(sq).to_dataframe(progress_bar_type='tqdm')\n",
    "\n",
    "old_cic_scorefpd10.head()\n",
    "\n",
    "gini_results = calculate_periodic_hybrid_gini(old_cic_scorefpd10, 'old_cic_score', 'ln_fpd10_flag', 'FPD10')\n",
    "M1FPD10 = gini_results.copy()\n",
    "print(f\"The shape of dataframe after copy is:\\t{M1FPD10.shape}\")\n",
    "M1FPD10.columns.values\n",
    "\n",
    "# FPD30\n",
    "\n",
    "sq = \"\"\"\n",
    "with old_cic_score as \n",
    "(SELECT \n",
    "    ln_disb_dtime disbursementdate,\n",
    "\tdigitalLoanAccountId,\n",
    "    old_cic_score,\n",
    "    ln_fpd30_flag,\n",
    "\tln_mature_fpd30_flag,\t\n",
    "\tFROM \n",
    "    prj-prod-dataplatform.risk_mart.sil_risk_ds_master_20230101_20250206\n",
    "  WHERE \n",
    "     -- ln_disb_dtime >= '2023-07-01'\n",
    "    ln_appln_submit_datetime >= '2023-01-01'\n",
    "  -- AND\n",
    "  --   format_date('%Y-%m', ln_disb_dtime) = '2024-09'\n",
    "  AND\n",
    "    ln_fpd30_flag is not null\n",
    "  AND\n",
    "    old_cic_score is not null\n",
    "  AND\n",
    "    ln_mature_fpd30_flag = 1\n",
    ")\n",
    "select * from old_cic_score;\n",
    "\"\"\"\n",
    "\n",
    "old_cic_scorefpd30 = client.query(sq).to_dataframe(progress_bar_type='tqdm')\n",
    "\n",
    "old_cic_scorefpd30.head()\n",
    "\n",
    "gini_results = calculate_periodic_hybrid_gini(old_cic_scorefpd30, 'old_cic_score', 'ln_fpd30_flag', 'FPD30')\n",
    "M2FPD30 = gini_results.copy()\n",
    "print(f\"The shape of dataframe after copy is:\\t{M2FPD30.shape}\")\n",
    "M2FPD30.columns.values\n",
    "\n",
    "sq = \"\"\"\n",
    "with old_cic_score as \n",
    "(SELECT \n",
    "    ln_disb_dtime disbursementdate,\n",
    "\tdigitalLoanAccountId,\n",
    "    old_cic_score,\n",
    "    ln_fspd30_flag,\n",
    "\tln_mature_fspd30_flag,\t\n",
    "\tFROM \n",
    "    prj-prod-dataplatform.risk_mart.sil_risk_ds_master_20230101_20250206\n",
    "  WHERE \n",
    "     -- ln_disb_dtime >= '2023-07-01'\n",
    "    ln_appln_submit_datetime >= '2023-01-01'\n",
    "  -- AND\n",
    "  --   format_date('%Y-%m', ln_disb_dtime) = '2024-09'\n",
    "  AND\n",
    "    ln_fspd30_flag is not null\n",
    "  AND\n",
    "    old_cic_score is not null\n",
    "  AND\n",
    "    ln_mature_fspd30_flag = 1\n",
    ")\n",
    "select * from old_cic_score;\n",
    "\"\"\"\n",
    "\n",
    "old_cic_scorefspd30 = client.query(sq).to_dataframe(progress_bar_type='tqdm')\n",
    "\n",
    "print(old_cic_scorefspd30.head(2))\n",
    "\n",
    "gini_results = calculate_periodic_hybrid_gini(old_cic_scorefspd30, 'old_cic_score', 'ln_fspd30_flag', 'FSPD30')\n",
    "M3FSPD30 = gini_results.copy()\n",
    "print(f\"The shape of dataframe after copy is:\\t{M3FSPD30.shape}\")\n",
    "print(M3FSPD30.columns.values)\n",
    "\n",
    "M3FSPD30.head()\n",
    "\n",
    "sq = \"\"\"\n",
    "with old_cic_score as \n",
    "(SELECT \n",
    "    ln_disb_dtime disbursementdate,\n",
    "\tdigitalLoanAccountId,\n",
    "    old_cic_score,\n",
    "    ln_fstpd30_flag,\n",
    "\tln_mature_fstpd30_flag,\t\n",
    "\tFROM \n",
    "    prj-prod-dataplatform.risk_mart.sil_risk_ds_master_20230101_20250206\n",
    "  WHERE \n",
    "     -- ln_disb_dtime >= '2023-07-01'\n",
    "    ln_appln_submit_datetime >= '2023-01-01'\n",
    "  -- AND\n",
    "  --   format_date('%Y-%m', ln_disb_dtime) = '2024-09'\n",
    "  AND\n",
    "    ln_fstpd30_flag is not null\n",
    "  AND\n",
    "    old_cic_score is not null\n",
    "  AND\n",
    "    ln_mature_fstpd30_flag = 1\n",
    ")\n",
    "select * from old_cic_score;\n",
    "\"\"\"\n",
    "\n",
    "old_cic_scorefstpd30 = client.query(sq).to_dataframe(progress_bar_type='tqdm')\n",
    "\n",
    "print(old_cic_scorefstpd30.head(2))\n",
    "\n",
    "gini_results = calculate_periodic_hybrid_gini(old_cic_scorefstpd30, 'old_cic_score', 'ln_fstpd30_flag', 'FSTPD30')\n",
    "M4FSTPD30 = gini_results.copy()\n",
    "print(f\"The shape of dataframe after copy is:\\t{M4FSTPD30.shape}\")\n",
    "print(M4FSTPD30.columns.values)\n",
    "\n",
    "M4FSTPD30.head()\n",
    "\n"
   ]
  },
  {
   "cell_type": "markdown",
   "metadata": {},
   "source": [
    "## Combining data"
   ]
  },
  {
   "cell_type": "code",
   "execution_count": 149,
   "metadata": {},
   "outputs": [
    {
     "data": {
      "text/plain": [
       "array(['start_date', 'end_date', 'old_cic_score_FPD10_gini', 'period',\n",
       "       'Model_Name', 'version', 'bad_rate', 'old_cic_score_FPD30_gini',\n",
       "       'old_cic_score_FSPD30_gini', 'old_cic_score_FSTPD30_gini'],\n",
       "      dtype=object)"
      ]
     },
     "execution_count": 149,
     "metadata": {},
     "output_type": "execute_result"
    }
   ],
   "source": [
    "import functools\n",
    "\n",
    "dataframes = [M1FPD10, M2FPD30, M3FSPD30, M4FSTPD30]\n",
    "common_columns = ['start_date', 'end_date', 'period', 'Model_Name','version', 'bad_rate']\n",
    "\n",
    "def merge_dataframes(df1, df2):\n",
    "    return pd.merge(df1, df2, on=common_columns, how='outer')\n",
    "\n",
    "final_df = functools.reduce(merge_dataframes, dataframes)\n",
    "\n",
    "final_df.columns.values"
   ]
  },
  {
   "cell_type": "code",
   "execution_count": 150,
   "metadata": {},
   "outputs": [],
   "source": [
    "final_df = final_df[['start_date', 'end_date', 'period',   'Model_Name', 'version', 'bad_rate','old_cic_score_FPD10_gini','old_cic_score_FPD30_gini',    'old_cic_score_FSPD30_gini', 'old_cic_score_FSTPD30_gini']].copy()"
   ]
  },
  {
   "cell_type": "code",
   "execution_count": 151,
   "metadata": {},
   "outputs": [
    {
     "data": {
      "text/plain": [
       "QueryJob<project=prj-prod-dataplatform, location=asia-southeast1, id=972a1b0f-fbc5-4d16-abda-eaa1ad0329ad>"
      ]
     },
     "execution_count": 151,
     "metadata": {},
     "output_type": "execute_result"
    }
   ],
   "source": [
    "sq = \"\"\"drop table if exists prj-prod-dataplatform.dap_ds_poweruser_playground.Model_gini_old_cic_score;\"\"\"\n",
    "client.query(sq)"
   ]
  },
  {
   "cell_type": "code",
   "execution_count": 152,
   "metadata": {},
   "outputs": [
    {
     "data": {
      "text/plain": [
       "LoadJob<project=prj-prod-dataplatform, location=asia-southeast1, id=9975b9d6-7826-404e-a732-51d5b09951db>"
      ]
     },
     "execution_count": 152,
     "metadata": {},
     "output_type": "execute_result"
    }
   ],
   "source": [
    "import pandas as pd\n",
    "from google.cloud import bigquery\n",
    "\n",
    "# Create a BigQuery client\n",
    "client = bigquery.Client('prj-prod-dataplatform')\n",
    "\n",
    "# Define your table schema\n",
    "table_schema = [\n",
    "    bigquery.SchemaField('start_date', 'TIMESTAMP'),\n",
    "    bigquery.SchemaField('end_date', 'TIMESTAMP'),\n",
    "    bigquery.SchemaField('period', 'STRING'),\n",
    "    bigquery.SchemaField('Model_Name', 'STRING'),\n",
    "    bigquery.SchemaField('version', 'STRING'),\n",
    "    bigquery.SchemaField('Badrate', 'STRING'),\n",
    "    bigquery.SchemaField('old_cic_score_FPD10_gini', 'FLOAT'),\n",
    "    bigquery.SchemaField('old_cic_score_FPD30_gini', 'FLOAT'),    \n",
    "    bigquery.SchemaField('old_cic_score_FSPD30_gini', 'FLOAT'),\n",
    "    bigquery.SchemaField('old_cic_score_FSTPD30_gini', 'FLOAT')\n",
    "    \n",
    "]\n",
    "\n",
    "# Create your BigQuery table\n",
    "table_id = 'prj-prod-dataplatform.dap_ds_poweruser_playground.Model_gini_old_cic_score'\n",
    "table = bigquery.Table(table_id, schema=table_schema)\n",
    "table = client.create_table(table)\n",
    "\n",
    "# Load your DataFrame into BigQuery\n",
    "job_config = bigquery.LoadJobConfig(\n",
    "    write_disposition='WRITE_TRUNCATE'\n",
    ")\n",
    "\n",
    "load_job = client.load_table_from_dataframe(\n",
    "    final_df, table_id, job_config=job_config\n",
    ")\n",
    "\n",
    "load_job.result()"
   ]
  },
  {
   "cell_type": "markdown",
   "metadata": {},
   "source": [
    "# old_demo_score"
   ]
  },
  {
   "cell_type": "code",
   "execution_count": 153,
   "metadata": {},
   "outputs": [
    {
     "name": "stdout",
     "output_type": "stream",
     "text": [
      "Job ID cb094ed4-5cf9-4e37-9ff6-e44094a20828 successfully executed: 100%|\u001b[32m██████████\u001b[0m|"
     ]
    },
    {
     "name": "stderr",
     "output_type": "stream",
     "text": [
      "d:\\Anaconda3\\envs\\inc_env\\lib\\site-packages\\google\\cloud\\bigquery\\table.py:1820: UserWarning: BigQuery Storage module not found, fetch data with the REST endpoint instead.\n",
      "  warnings.warn(\n"
     ]
    },
    {
     "name": "stdout",
     "output_type": "stream",
     "text": [
      "\n",
      "Downloading: 100%|\u001b[32m██████████\u001b[0m|\n",
      "The shape of dataframe after copy is:\t(131, 7)\n",
      "Job ID 87c16b23-8b6c-46f6-9c80-35f75366efac successfully executed: 100%|\u001b[32m██████████\u001b[0m|"
     ]
    },
    {
     "name": "stderr",
     "output_type": "stream",
     "text": [
      "d:\\Anaconda3\\envs\\inc_env\\lib\\site-packages\\google\\cloud\\bigquery\\table.py:1820: UserWarning: BigQuery Storage module not found, fetch data with the REST endpoint instead.\n",
      "  warnings.warn(\n"
     ]
    },
    {
     "name": "stdout",
     "output_type": "stream",
     "text": [
      "\n",
      "Downloading: 100%|\u001b[32m██████████\u001b[0m|\n",
      "The shape of dataframe after copy is:\t(127, 7)\n",
      "Job ID ce43cceb-6b75-473b-8f07-d45869ad025f successfully executed: 100%|\u001b[32m██████████\u001b[0m|"
     ]
    },
    {
     "name": "stderr",
     "output_type": "stream",
     "text": [
      "d:\\Anaconda3\\envs\\inc_env\\lib\\site-packages\\google\\cloud\\bigquery\\table.py:1820: UserWarning: BigQuery Storage module not found, fetch data with the REST endpoint instead.\n",
      "  warnings.warn(\n"
     ]
    },
    {
     "name": "stdout",
     "output_type": "stream",
     "text": [
      "\n",
      "Downloading: 100%|\u001b[32m██████████\u001b[0m|\n",
      "     disbursementdate                  digitalLoanAccountId  old_demo_score  \\\n",
      "0 2023-01-02 12:13:00  5e85ce9b-fb16-48a4-9f62-c543782b54e1           406.0   \n",
      "1 2023-01-02 12:28:35  92a04afd-ec2e-4941-a1be-0e3af52aab1f           411.0   \n",
      "\n",
      "   ln_fspd30_flag  ln_mature_fspd30_flag  \n",
      "0               0                      1  \n",
      "1               0                      1  \n",
      "The shape of dataframe after copy is:\t(122, 7)\n",
      "['start_date' 'end_date' 'old_demo_score_FSPD30_gini' 'period'\n",
      " 'Model_Name' 'version' 'bad_rate']\n",
      "Job ID 8d9af353-367b-46c7-ae2d-4cf02483b19b successfully executed: 100%|\u001b[32m██████████\u001b[0m|"
     ]
    },
    {
     "name": "stderr",
     "output_type": "stream",
     "text": [
      "d:\\Anaconda3\\envs\\inc_env\\lib\\site-packages\\google\\cloud\\bigquery\\table.py:1820: UserWarning: BigQuery Storage module not found, fetch data with the REST endpoint instead.\n",
      "  warnings.warn(\n"
     ]
    },
    {
     "name": "stdout",
     "output_type": "stream",
     "text": [
      "\n",
      "Downloading: 100%|\u001b[32m██████████\u001b[0m|\n",
      "     disbursementdate                  digitalLoanAccountId  old_demo_score  \\\n",
      "0 2023-01-02 12:13:00  5e85ce9b-fb16-48a4-9f62-c543782b54e1           406.0   \n",
      "1 2023-01-02 12:28:35  92a04afd-ec2e-4941-a1be-0e3af52aab1f           411.0   \n",
      "\n",
      "   ln_fstpd30_flag  ln_mature_fstpd30_flag  \n",
      "0                0                       1  \n",
      "1                0                       1  \n",
      "The shape of dataframe after copy is:\t(116, 7)\n",
      "['start_date' 'end_date' 'old_demo_score_FSTPD30_gini' 'period'\n",
      " 'Model_Name' 'version' 'bad_rate']\n"
     ]
    },
    {
     "data": {
      "application/vnd.microsoft.datawrangler.viewer.v0+json": {
       "columns": [
        {
         "name": "index",
         "rawType": "int64",
         "type": "integer"
        },
        {
         "name": "start_date",
         "rawType": "datetime64[ns]",
         "type": "datetime"
        },
        {
         "name": "end_date",
         "rawType": "datetime64[ns]",
         "type": "datetime"
        },
        {
         "name": "old_demo_score_FSTPD30_gini",
         "rawType": "float64",
         "type": "float"
        },
        {
         "name": "period",
         "rawType": "object",
         "type": "string"
        },
        {
         "name": "Model_Name",
         "rawType": "object",
         "type": "string"
        },
        {
         "name": "version",
         "rawType": "object",
         "type": "string"
        },
        {
         "name": "bad_rate",
         "rawType": "object",
         "type": "string"
        }
       ],
       "conversionMethod": "pd.DataFrame",
       "ref": "f88e149b-153a-47b4-95d2-256ca6c89b2d",
       "rows": [
        [
         "0",
         "2023-01-01 00:00:00",
         "2023-01-31 00:00:00",
         "0.12324048227118856",
         "Month",
         "old_demo_score",
         "1.1.0",
         "FSTPD30"
        ],
        [
         "1",
         "2023-01-02 00:00:00",
         "2023-01-08 00:00:00",
         "0.1826052735143644",
         "Week",
         "old_demo_score",
         "1.1.0",
         "FSTPD30"
        ],
        [
         "2",
         "2023-01-09 00:00:00",
         "2023-01-15 00:00:00",
         "0.039522744220730655",
         "Week",
         "old_demo_score",
         "1.1.0",
         "FSTPD30"
        ],
        [
         "3",
         "2023-01-16 00:00:00",
         "2023-01-22 00:00:00",
         "0.13587406793703405",
         "Week",
         "old_demo_score",
         "1.1.0",
         "FSTPD30"
        ],
        [
         "4",
         "2023-01-23 00:00:00",
         "2023-01-29 00:00:00",
         "0.12639623750734863",
         "Week",
         "old_demo_score",
         "1.1.0",
         "FSTPD30"
        ]
       ],
       "shape": {
        "columns": 7,
        "rows": 5
       }
      },
      "text/html": [
       "<div>\n",
       "<style scoped>\n",
       "    .dataframe tbody tr th:only-of-type {\n",
       "        vertical-align: middle;\n",
       "    }\n",
       "\n",
       "    .dataframe tbody tr th {\n",
       "        vertical-align: top;\n",
       "    }\n",
       "\n",
       "    .dataframe thead th {\n",
       "        text-align: right;\n",
       "    }\n",
       "</style>\n",
       "<table border=\"1\" class=\"dataframe\">\n",
       "  <thead>\n",
       "    <tr style=\"text-align: right;\">\n",
       "      <th></th>\n",
       "      <th>start_date</th>\n",
       "      <th>end_date</th>\n",
       "      <th>old_demo_score_FSTPD30_gini</th>\n",
       "      <th>period</th>\n",
       "      <th>Model_Name</th>\n",
       "      <th>version</th>\n",
       "      <th>bad_rate</th>\n",
       "    </tr>\n",
       "  </thead>\n",
       "  <tbody>\n",
       "    <tr>\n",
       "      <th>0</th>\n",
       "      <td>2023-01-01</td>\n",
       "      <td>2023-01-31</td>\n",
       "      <td>0.123240</td>\n",
       "      <td>Month</td>\n",
       "      <td>old_demo_score</td>\n",
       "      <td>1.1.0</td>\n",
       "      <td>FSTPD30</td>\n",
       "    </tr>\n",
       "    <tr>\n",
       "      <th>1</th>\n",
       "      <td>2023-01-02</td>\n",
       "      <td>2023-01-08</td>\n",
       "      <td>0.182605</td>\n",
       "      <td>Week</td>\n",
       "      <td>old_demo_score</td>\n",
       "      <td>1.1.0</td>\n",
       "      <td>FSTPD30</td>\n",
       "    </tr>\n",
       "    <tr>\n",
       "      <th>2</th>\n",
       "      <td>2023-01-09</td>\n",
       "      <td>2023-01-15</td>\n",
       "      <td>0.039523</td>\n",
       "      <td>Week</td>\n",
       "      <td>old_demo_score</td>\n",
       "      <td>1.1.0</td>\n",
       "      <td>FSTPD30</td>\n",
       "    </tr>\n",
       "    <tr>\n",
       "      <th>3</th>\n",
       "      <td>2023-01-16</td>\n",
       "      <td>2023-01-22</td>\n",
       "      <td>0.135874</td>\n",
       "      <td>Week</td>\n",
       "      <td>old_demo_score</td>\n",
       "      <td>1.1.0</td>\n",
       "      <td>FSTPD30</td>\n",
       "    </tr>\n",
       "    <tr>\n",
       "      <th>4</th>\n",
       "      <td>2023-01-23</td>\n",
       "      <td>2023-01-29</td>\n",
       "      <td>0.126396</td>\n",
       "      <td>Week</td>\n",
       "      <td>old_demo_score</td>\n",
       "      <td>1.1.0</td>\n",
       "      <td>FSTPD30</td>\n",
       "    </tr>\n",
       "  </tbody>\n",
       "</table>\n",
       "</div>"
      ],
      "text/plain": [
       "  start_date   end_date  old_demo_score_FSTPD30_gini period      Model_Name  \\\n",
       "0 2023-01-01 2023-01-31                     0.123240  Month  old_demo_score   \n",
       "1 2023-01-02 2023-01-08                     0.182605   Week  old_demo_score   \n",
       "2 2023-01-09 2023-01-15                     0.039523   Week  old_demo_score   \n",
       "3 2023-01-16 2023-01-22                     0.135874   Week  old_demo_score   \n",
       "4 2023-01-23 2023-01-29                     0.126396   Week  old_demo_score   \n",
       "\n",
       "  version bad_rate  \n",
       "0   1.1.0  FSTPD30  \n",
       "1   1.1.0  FSTPD30  \n",
       "2   1.1.0  FSTPD30  \n",
       "3   1.1.0  FSTPD30  \n",
       "4   1.1.0  FSTPD30  "
      ]
     },
     "execution_count": 153,
     "metadata": {},
     "output_type": "execute_result"
    }
   ],
   "source": [
    "\n",
    "\n",
    "sq = \"\"\"\n",
    "with old_demo_score as \n",
    "(SELECT \n",
    "    ln_disb_dtime disbursementdate,\n",
    "\tdigitalLoanAccountId,\n",
    "    old_demo_score,\n",
    "    ln_fpd10_flag,\n",
    "\tln_mature_fpd10_flag,\t\n",
    "\tFROM \n",
    "    prj-prod-dataplatform.risk_mart.sil_risk_ds_master_20230101_20250206\n",
    "  WHERE \n",
    "     -- ln_disb_dtime >= '2023-07-01'\n",
    "    ln_appln_submit_datetime >= '2023-01-01'\n",
    "  -- AND\n",
    "  --   format_date('%Y-%m', ln_disb_dtime) = '2024-09'\n",
    "  AND\n",
    "    ln_fpd10_flag is not null\n",
    "  AND\n",
    "    old_demo_score is not null\n",
    "  AND\n",
    "    ln_mature_fpd10_flag = 1\n",
    ")\n",
    "select * from old_demo_score;\n",
    "\"\"\"\n",
    "\n",
    "old_demo_scorefpd10 = client.query(sq).to_dataframe(progress_bar_type='tqdm')\n",
    "\n",
    "old_demo_scorefpd10.head()\n",
    "\n",
    "gini_results = calculate_periodic_hybrid_gini(old_demo_scorefpd10, 'old_demo_score', 'ln_fpd10_flag', 'FPD10')\n",
    "M1FPD10 = gini_results.copy()\n",
    "print(f\"The shape of dataframe after copy is:\\t{M1FPD10.shape}\")\n",
    "M1FPD10.columns.values\n",
    "\n",
    "# FPD30\n",
    "\n",
    "sq = \"\"\"\n",
    "with old_demo_score as \n",
    "(SELECT \n",
    "    ln_disb_dtime disbursementdate,\n",
    "\tdigitalLoanAccountId,\n",
    "    old_demo_score,\n",
    "    ln_fpd30_flag,\n",
    "\tln_mature_fpd30_flag,\t\n",
    "\tFROM \n",
    "    prj-prod-dataplatform.risk_mart.sil_risk_ds_master_20230101_20250206\n",
    "  WHERE \n",
    "     -- ln_disb_dtime >= '2023-07-01'\n",
    "    ln_appln_submit_datetime >= '2023-01-01'\n",
    "  -- AND\n",
    "  --   format_date('%Y-%m', ln_disb_dtime) = '2024-09'\n",
    "  AND\n",
    "    ln_fpd30_flag is not null\n",
    "  AND\n",
    "    old_demo_score is not null\n",
    "  AND\n",
    "    ln_mature_fpd30_flag = 1\n",
    ")\n",
    "select * from old_demo_score;\n",
    "\"\"\"\n",
    "\n",
    "old_demo_scorefpd30 = client.query(sq).to_dataframe(progress_bar_type='tqdm')\n",
    "\n",
    "old_demo_scorefpd30.head()\n",
    "\n",
    "gini_results = calculate_periodic_hybrid_gini(old_demo_scorefpd30, 'old_demo_score', 'ln_fpd30_flag', 'FPD30')\n",
    "M2FPD30 = gini_results.copy()\n",
    "print(f\"The shape of dataframe after copy is:\\t{M2FPD30.shape}\")\n",
    "M2FPD30.columns.values\n",
    "\n",
    "sq = \"\"\"\n",
    "with old_demo_score as \n",
    "(SELECT \n",
    "    ln_disb_dtime disbursementdate,\n",
    "\tdigitalLoanAccountId,\n",
    "    old_demo_score,\n",
    "    ln_fspd30_flag,\n",
    "\tln_mature_fspd30_flag,\t\n",
    "\tFROM \n",
    "    prj-prod-dataplatform.risk_mart.sil_risk_ds_master_20230101_20250206\n",
    "  WHERE \n",
    "     -- ln_disb_dtime >= '2023-07-01'\n",
    "    ln_appln_submit_datetime >= '2023-01-01'\n",
    "  -- AND\n",
    "  --   format_date('%Y-%m', ln_disb_dtime) = '2024-09'\n",
    "  AND\n",
    "    ln_fspd30_flag is not null\n",
    "  AND\n",
    "    old_demo_score is not null\n",
    "  AND\n",
    "    ln_mature_fspd30_flag = 1\n",
    ")\n",
    "select * from old_demo_score;\n",
    "\"\"\"\n",
    "\n",
    "old_demo_scorefspd30 = client.query(sq).to_dataframe(progress_bar_type='tqdm')\n",
    "\n",
    "print(old_demo_scorefspd30.head(2))\n",
    "\n",
    "gini_results = calculate_periodic_hybrid_gini(old_demo_scorefspd30, 'old_demo_score', 'ln_fspd30_flag', 'FSPD30')\n",
    "M3FSPD30 = gini_results.copy()\n",
    "print(f\"The shape of dataframe after copy is:\\t{M3FSPD30.shape}\")\n",
    "print(M3FSPD30.columns.values)\n",
    "\n",
    "M3FSPD30.head()\n",
    "\n",
    "sq = \"\"\"\n",
    "with old_demo_score as \n",
    "(SELECT \n",
    "    ln_disb_dtime disbursementdate,\n",
    "\tdigitalLoanAccountId,\n",
    "    old_demo_score,\n",
    "    ln_fstpd30_flag,\n",
    "\tln_mature_fstpd30_flag,\t\n",
    "\tFROM \n",
    "    prj-prod-dataplatform.risk_mart.sil_risk_ds_master_20230101_20250206\n",
    "  WHERE \n",
    "     -- ln_disb_dtime >= '2023-07-01'\n",
    "    ln_appln_submit_datetime >= '2023-01-01'\n",
    "  -- AND\n",
    "  --   format_date('%Y-%m', ln_disb_dtime) = '2024-09'\n",
    "  AND\n",
    "    ln_fstpd30_flag is not null\n",
    "  AND\n",
    "    old_demo_score is not null\n",
    "  AND\n",
    "    ln_mature_fstpd30_flag = 1\n",
    ")\n",
    "select * from old_demo_score;\n",
    "\"\"\"\n",
    "\n",
    "old_demo_scorefstpd30 = client.query(sq).to_dataframe(progress_bar_type='tqdm')\n",
    "\n",
    "print(old_demo_scorefstpd30.head(2))\n",
    "\n",
    "gini_results = calculate_periodic_hybrid_gini(old_demo_scorefstpd30, 'old_demo_score', 'ln_fstpd30_flag', 'FSTPD30')\n",
    "M4FSTPD30 = gini_results.copy()\n",
    "print(f\"The shape of dataframe after copy is:\\t{M4FSTPD30.shape}\")\n",
    "print(M4FSTPD30.columns.values)\n",
    "\n",
    "M4FSTPD30.head()\n",
    "\n"
   ]
  },
  {
   "cell_type": "code",
   "execution_count": null,
   "metadata": {},
   "outputs": [],
   "source": []
  },
  {
   "cell_type": "markdown",
   "metadata": {},
   "source": [
    "## Combining data"
   ]
  },
  {
   "cell_type": "code",
   "execution_count": 154,
   "metadata": {},
   "outputs": [
    {
     "data": {
      "text/plain": [
       "array(['start_date', 'end_date', 'old_demo_score_FPD10_gini', 'period',\n",
       "       'Model_Name', 'version', 'bad_rate', 'old_demo_score_FPD30_gini',\n",
       "       'old_demo_score_FSPD30_gini', 'old_demo_score_FSTPD30_gini'],\n",
       "      dtype=object)"
      ]
     },
     "execution_count": 154,
     "metadata": {},
     "output_type": "execute_result"
    }
   ],
   "source": [
    "import functools\n",
    "\n",
    "dataframes = [M1FPD10, M2FPD30, M3FSPD30, M4FSTPD30]\n",
    "common_columns = ['start_date', 'end_date', 'period', 'Model_Name','version', 'bad_rate']\n",
    "\n",
    "def merge_dataframes(df1, df2):\n",
    "    return pd.merge(df1, df2, on=common_columns, how='outer')\n",
    "\n",
    "final_df = functools.reduce(merge_dataframes, dataframes)\n",
    "\n",
    "final_df.columns.values"
   ]
  },
  {
   "cell_type": "code",
   "execution_count": 155,
   "metadata": {},
   "outputs": [],
   "source": [
    "final_df = final_df[['start_date', 'end_date', 'period',   'Model_Name', 'version', 'bad_rate','old_demo_score_FPD10_gini','old_demo_score_FPD30_gini',    'old_demo_score_FSPD30_gini', 'old_demo_score_FSTPD30_gini']].copy()"
   ]
  },
  {
   "cell_type": "code",
   "execution_count": 156,
   "metadata": {},
   "outputs": [
    {
     "data": {
      "text/plain": [
       "QueryJob<project=prj-prod-dataplatform, location=asia-southeast1, id=4ad7801f-1e8a-438e-82ca-4e2839eb05ee>"
      ]
     },
     "execution_count": 156,
     "metadata": {},
     "output_type": "execute_result"
    }
   ],
   "source": [
    "sq = \"\"\"drop table if exists prj-prod-dataplatform.dap_ds_poweruser_playground.Model_gini_old_demo_score;\"\"\"\n",
    "client.query(sq)"
   ]
  },
  {
   "cell_type": "code",
   "execution_count": 157,
   "metadata": {},
   "outputs": [
    {
     "data": {
      "text/plain": [
       "LoadJob<project=prj-prod-dataplatform, location=asia-southeast1, id=c18acac4-c706-4d7f-bc89-a7fc461a9896>"
      ]
     },
     "execution_count": 157,
     "metadata": {},
     "output_type": "execute_result"
    }
   ],
   "source": [
    "import pandas as pd\n",
    "from google.cloud import bigquery\n",
    "\n",
    "# Create a BigQuery client\n",
    "client = bigquery.Client('prj-prod-dataplatform')\n",
    "\n",
    "# Define your table schema\n",
    "table_schema = [\n",
    "    bigquery.SchemaField('start_date', 'TIMESTAMP'),\n",
    "    bigquery.SchemaField('end_date', 'TIMESTAMP'),\n",
    "    bigquery.SchemaField('period', 'STRING'),\n",
    "    bigquery.SchemaField('Model_Name', 'STRING'),\n",
    "    bigquery.SchemaField('version', 'STRING'),\n",
    "    bigquery.SchemaField('Badrate', 'STRING'),\n",
    "    bigquery.SchemaField('old_demo_score_FPD10_gini', 'FLOAT'),\n",
    "    bigquery.SchemaField('old_demo_score_FPD30_gini', 'FLOAT'),    \n",
    "    bigquery.SchemaField('old_demo_score_FSPD30_gini', 'FLOAT'),\n",
    "    bigquery.SchemaField('old_demo_score_FSTPD30_gini', 'FLOAT')\n",
    "    \n",
    "]\n",
    "\n",
    "# Create your BigQuery table\n",
    "table_id = 'prj-prod-dataplatform.dap_ds_poweruser_playground.Model_gini_old_demo_score'\n",
    "table = bigquery.Table(table_id, schema=table_schema)\n",
    "table = client.create_table(table)\n",
    "\n",
    "# Load your DataFrame into BigQuery\n",
    "job_config = bigquery.LoadJobConfig(\n",
    "    write_disposition='WRITE_TRUNCATE'\n",
    ")\n",
    "\n",
    "load_job = client.load_table_from_dataframe(\n",
    "    final_df, table_id, job_config=job_config\n",
    ")\n",
    "\n",
    "load_job.result()"
   ]
  },
  {
   "cell_type": "markdown",
   "metadata": {},
   "source": [
    "# bu_bureau_score"
   ]
  },
  {
   "cell_type": "code",
   "execution_count": 158,
   "metadata": {},
   "outputs": [
    {
     "name": "stdout",
     "output_type": "stream",
     "text": [
      "Job ID 49a25b27-b3b9-44e1-b5d2-db2a8c97aec9 successfully executed: 100%|\u001b[32m██████████\u001b[0m|"
     ]
    },
    {
     "name": "stderr",
     "output_type": "stream",
     "text": [
      "d:\\Anaconda3\\envs\\inc_env\\lib\\site-packages\\google\\cloud\\bigquery\\table.py:1820: UserWarning: BigQuery Storage module not found, fetch data with the REST endpoint instead.\n",
      "  warnings.warn(\n"
     ]
    },
    {
     "name": "stdout",
     "output_type": "stream",
     "text": [
      "\n",
      "Downloading: 100%|\u001b[32m██████████\u001b[0m|\n",
      "The shape of dataframe after copy is:\t(92, 7)\n",
      "Job ID ec30ad38-6a29-4995-8d84-5bc6ff5c97ab successfully executed: 100%|\u001b[32m██████████\u001b[0m|"
     ]
    },
    {
     "name": "stderr",
     "output_type": "stream",
     "text": [
      "d:\\Anaconda3\\envs\\inc_env\\lib\\site-packages\\google\\cloud\\bigquery\\table.py:1820: UserWarning: BigQuery Storage module not found, fetch data with the REST endpoint instead.\n",
      "  warnings.warn(\n"
     ]
    },
    {
     "name": "stdout",
     "output_type": "stream",
     "text": [
      "\n",
      "Downloading: 100%|\u001b[32m██████████\u001b[0m|\n",
      "The shape of dataframe after copy is:\t(92, 7)\n",
      "Job ID 4e067dcc-4eaf-4cd6-acf3-83a6598ed65d successfully executed: 100%|\u001b[32m██████████\u001b[0m|"
     ]
    },
    {
     "name": "stderr",
     "output_type": "stream",
     "text": [
      "d:\\Anaconda3\\envs\\inc_env\\lib\\site-packages\\google\\cloud\\bigquery\\table.py:1820: UserWarning: BigQuery Storage module not found, fetch data with the REST endpoint instead.\n",
      "  warnings.warn(\n"
     ]
    },
    {
     "name": "stdout",
     "output_type": "stream",
     "text": [
      "\n",
      "Downloading: 100%|\u001b[32m██████████\u001b[0m|\n",
      "     disbursementdate                  digitalLoanAccountId  bu_bureau_score  \\\n",
      "0 2023-01-10 13:04:21  a9a82293-c02a-44b9-a901-433ed8867b91            369.0   \n",
      "1 2023-01-10 16:49:53  f7506ebf-ba0b-40a4-b0bd-8ec91ea0ab96            339.0   \n",
      "\n",
      "   ln_fspd30_flag  ln_mature_fspd30_flag  \n",
      "0               0                      1  \n",
      "1               1                      1  \n",
      "The shape of dataframe after copy is:\t(92, 7)\n",
      "['start_date' 'end_date' 'bu_bureau_score_FSPD30_gini' 'period'\n",
      " 'Model_Name' 'version' 'bad_rate']\n",
      "Job ID 4c238682-a209-49ec-a624-a66b2394fc3f successfully executed: 100%|\u001b[32m██████████\u001b[0m|"
     ]
    },
    {
     "name": "stderr",
     "output_type": "stream",
     "text": [
      "d:\\Anaconda3\\envs\\inc_env\\lib\\site-packages\\google\\cloud\\bigquery\\table.py:1820: UserWarning: BigQuery Storage module not found, fetch data with the REST endpoint instead.\n",
      "  warnings.warn(\n"
     ]
    },
    {
     "name": "stdout",
     "output_type": "stream",
     "text": [
      "\n",
      "Downloading: 100%|\u001b[32m██████████\u001b[0m|\n",
      "     disbursementdate                  digitalLoanAccountId  bu_bureau_score  \\\n",
      "0 2023-01-13 18:19:41  546fd78e-d4c0-4eb6-8667-00aa187b0ddd            401.0   \n",
      "1 2023-01-14 14:49:17  483095b5-2399-444e-b547-aba3fe31a3e0            347.0   \n",
      "\n",
      "   ln_fstpd30_flag  ln_mature_fstpd30_flag  \n",
      "0                0                       1  \n",
      "1                1                       1  \n",
      "The shape of dataframe after copy is:\t(92, 7)\n",
      "['start_date' 'end_date' 'bu_bureau_score_FSTPD30_gini' 'period'\n",
      " 'Model_Name' 'version' 'bad_rate']\n"
     ]
    },
    {
     "data": {
      "application/vnd.microsoft.datawrangler.viewer.v0+json": {
       "columns": [
        {
         "name": "index",
         "rawType": "int64",
         "type": "integer"
        },
        {
         "name": "start_date",
         "rawType": "datetime64[ns]",
         "type": "datetime"
        },
        {
         "name": "end_date",
         "rawType": "datetime64[ns]",
         "type": "datetime"
        },
        {
         "name": "bu_bureau_score_FSTPD30_gini",
         "rawType": "float64",
         "type": "float"
        },
        {
         "name": "period",
         "rawType": "object",
         "type": "string"
        },
        {
         "name": "Model_Name",
         "rawType": "object",
         "type": "string"
        },
        {
         "name": "version",
         "rawType": "object",
         "type": "string"
        },
        {
         "name": "bad_rate",
         "rawType": "object",
         "type": "string"
        }
       ],
       "conversionMethod": "pd.DataFrame",
       "ref": "56ebc4d9-e027-4360-971b-3480252b43d2",
       "rows": [
        [
         "0",
         "2023-01-01 00:00:00",
         "2023-01-31 00:00:00",
         "0.02916666666666634",
         "Month",
         "bu_bureau_score",
         "1.1.0",
         "FSTPD30"
        ],
        [
         "1",
         "2023-01-09 00:00:00",
         "2023-01-15 00:00:00",
         "-0.07999999999999974",
         "Week",
         "bu_bureau_score",
         "1.1.0",
         "FSTPD30"
        ],
        [
         "2",
         "2023-01-16 00:00:00",
         "2023-01-22 00:00:00",
         "-0.8333333333333334",
         "Week",
         "bu_bureau_score",
         "1.1.0",
         "FSTPD30"
        ],
        [
         "3",
         "2023-01-23 00:00:00",
         "2023-01-29 00:00:00",
         "0.4166666666666665",
         "Week",
         "bu_bureau_score",
         "1.1.0",
         "FSTPD30"
        ],
        [
         "4",
         "2023-01-30 00:00:00",
         "2023-02-05 00:00:00",
         "0.24444444444444446",
         "Week",
         "bu_bureau_score",
         "1.1.0",
         "FSTPD30"
        ]
       ],
       "shape": {
        "columns": 7,
        "rows": 5
       }
      },
      "text/html": [
       "<div>\n",
       "<style scoped>\n",
       "    .dataframe tbody tr th:only-of-type {\n",
       "        vertical-align: middle;\n",
       "    }\n",
       "\n",
       "    .dataframe tbody tr th {\n",
       "        vertical-align: top;\n",
       "    }\n",
       "\n",
       "    .dataframe thead th {\n",
       "        text-align: right;\n",
       "    }\n",
       "</style>\n",
       "<table border=\"1\" class=\"dataframe\">\n",
       "  <thead>\n",
       "    <tr style=\"text-align: right;\">\n",
       "      <th></th>\n",
       "      <th>start_date</th>\n",
       "      <th>end_date</th>\n",
       "      <th>bu_bureau_score_FSTPD30_gini</th>\n",
       "      <th>period</th>\n",
       "      <th>Model_Name</th>\n",
       "      <th>version</th>\n",
       "      <th>bad_rate</th>\n",
       "    </tr>\n",
       "  </thead>\n",
       "  <tbody>\n",
       "    <tr>\n",
       "      <th>0</th>\n",
       "      <td>2023-01-01</td>\n",
       "      <td>2023-01-31</td>\n",
       "      <td>0.029167</td>\n",
       "      <td>Month</td>\n",
       "      <td>bu_bureau_score</td>\n",
       "      <td>1.1.0</td>\n",
       "      <td>FSTPD30</td>\n",
       "    </tr>\n",
       "    <tr>\n",
       "      <th>1</th>\n",
       "      <td>2023-01-09</td>\n",
       "      <td>2023-01-15</td>\n",
       "      <td>-0.080000</td>\n",
       "      <td>Week</td>\n",
       "      <td>bu_bureau_score</td>\n",
       "      <td>1.1.0</td>\n",
       "      <td>FSTPD30</td>\n",
       "    </tr>\n",
       "    <tr>\n",
       "      <th>2</th>\n",
       "      <td>2023-01-16</td>\n",
       "      <td>2023-01-22</td>\n",
       "      <td>-0.833333</td>\n",
       "      <td>Week</td>\n",
       "      <td>bu_bureau_score</td>\n",
       "      <td>1.1.0</td>\n",
       "      <td>FSTPD30</td>\n",
       "    </tr>\n",
       "    <tr>\n",
       "      <th>3</th>\n",
       "      <td>2023-01-23</td>\n",
       "      <td>2023-01-29</td>\n",
       "      <td>0.416667</td>\n",
       "      <td>Week</td>\n",
       "      <td>bu_bureau_score</td>\n",
       "      <td>1.1.0</td>\n",
       "      <td>FSTPD30</td>\n",
       "    </tr>\n",
       "    <tr>\n",
       "      <th>4</th>\n",
       "      <td>2023-01-30</td>\n",
       "      <td>2023-02-05</td>\n",
       "      <td>0.244444</td>\n",
       "      <td>Week</td>\n",
       "      <td>bu_bureau_score</td>\n",
       "      <td>1.1.0</td>\n",
       "      <td>FSTPD30</td>\n",
       "    </tr>\n",
       "  </tbody>\n",
       "</table>\n",
       "</div>"
      ],
      "text/plain": [
       "  start_date   end_date  bu_bureau_score_FSTPD30_gini period       Model_Name  \\\n",
       "0 2023-01-01 2023-01-31                      0.029167  Month  bu_bureau_score   \n",
       "1 2023-01-09 2023-01-15                     -0.080000   Week  bu_bureau_score   \n",
       "2 2023-01-16 2023-01-22                     -0.833333   Week  bu_bureau_score   \n",
       "3 2023-01-23 2023-01-29                      0.416667   Week  bu_bureau_score   \n",
       "4 2023-01-30 2023-02-05                      0.244444   Week  bu_bureau_score   \n",
       "\n",
       "  version bad_rate  \n",
       "0   1.1.0  FSTPD30  \n",
       "1   1.1.0  FSTPD30  \n",
       "2   1.1.0  FSTPD30  \n",
       "3   1.1.0  FSTPD30  \n",
       "4   1.1.0  FSTPD30  "
      ]
     },
     "execution_count": 158,
     "metadata": {},
     "output_type": "execute_result"
    }
   ],
   "source": [
    "sq = \"\"\"\n",
    "with bu_bureau_score as \n",
    "(SELECT \n",
    "    ln_disb_dtime disbursementdate,\n",
    "\tdigitalLoanAccountId,\n",
    "    bu_bureau_score,\n",
    "    ln_fpd10_flag,\n",
    "\tln_mature_fpd10_flag,\t\n",
    "\tFROM \n",
    "    prj-prod-dataplatform.risk_mart.sil_risk_ds_master_20230101_20250206\n",
    "  WHERE \n",
    "     -- ln_disb_dtime >= '2023-07-01'\n",
    "    ln_appln_submit_datetime >= '2023-01-01'\n",
    "  -- AND\n",
    "  --   format_date('%Y-%m', ln_disb_dtime) = '2024-09'\n",
    "  AND\n",
    "    ln_fpd10_flag is not null\n",
    "  AND\n",
    "    coalesce(bu_bureau_score, 0.0) > 0.0\n",
    "  AND\n",
    "    ln_mature_fpd10_flag = 1\n",
    ")\n",
    "select * from bu_bureau_score;\n",
    "\"\"\"\n",
    "\n",
    "bu_bureau_scorefpd10 = client.query(sq).to_dataframe(progress_bar_type='tqdm')\n",
    "\n",
    "bu_bureau_scorefpd10.head()\n",
    "\n",
    "gini_results = calculate_periodic_gini_threedigit(bu_bureau_scorefpd10, 'bu_bureau_score', 'ln_fpd10_flag', 'FPD10')\n",
    "M1FPD10 = gini_results.copy()\n",
    "print(f\"The shape of dataframe after copy is:\\t{M1FPD10.shape}\")\n",
    "M1FPD10.columns.values\n",
    "\n",
    "# FPD30\n",
    "\n",
    "sq = \"\"\"\n",
    "with bu_bureau_score as \n",
    "(SELECT \n",
    "    ln_disb_dtime disbursementdate,\n",
    "\tdigitalLoanAccountId,\n",
    "    bu_bureau_score,\n",
    "    ln_fpd30_flag,\n",
    "\tln_mature_fpd30_flag,\t\n",
    "\tFROM \n",
    "    prj-prod-dataplatform.risk_mart.sil_risk_ds_master_20230101_20250206\n",
    "  WHERE \n",
    "     -- ln_disb_dtime >= '2023-07-01'\n",
    "    ln_appln_submit_datetime >= '2023-01-01'\n",
    "  -- AND\n",
    "  --   format_date('%Y-%m', ln_disb_dtime) = '2024-09'\n",
    "  AND\n",
    "    ln_fpd30_flag is not null\n",
    "  AND\n",
    "    coalesce(bu_bureau_score, 0.0) > 0.0\n",
    "  AND\n",
    "    ln_mature_fpd30_flag = 1\n",
    ")\n",
    "select * from bu_bureau_score;\n",
    "\"\"\"\n",
    "\n",
    "bu_bureau_scorefpd30 = client.query(sq).to_dataframe(progress_bar_type='tqdm')\n",
    "\n",
    "bu_bureau_scorefpd30.head()\n",
    "\n",
    "gini_results = calculate_periodic_gini_threedigit(bu_bureau_scorefpd30, 'bu_bureau_score', 'ln_fpd30_flag', 'FPD30')\n",
    "M2FPD30 = gini_results.copy()\n",
    "print(f\"The shape of dataframe after copy is:\\t{M2FPD30.shape}\")\n",
    "M2FPD30.columns.values\n",
    "\n",
    "sq = \"\"\"\n",
    "with bu_bureau_score as \n",
    "(SELECT \n",
    "    ln_disb_dtime disbursementdate,\n",
    "\tdigitalLoanAccountId,\n",
    "    bu_bureau_score,\n",
    "    ln_fspd30_flag,\n",
    "\tln_mature_fspd30_flag,\t\n",
    "\tFROM \n",
    "    prj-prod-dataplatform.risk_mart.sil_risk_ds_master_20230101_20250206\n",
    "  WHERE \n",
    "     -- ln_disb_dtime >= '2023-07-01'\n",
    "    ln_appln_submit_datetime >= '2023-01-01'\n",
    "  -- AND\n",
    "  --   format_date('%Y-%m', ln_disb_dtime) = '2024-09'\n",
    "  AND\n",
    "    ln_fspd30_flag is not null\n",
    "  AND\n",
    "    coalesce(bu_bureau_score, 0.0) > 0.0\n",
    "  AND\n",
    "    ln_mature_fspd30_flag = 1\n",
    ")\n",
    "select * from bu_bureau_score;\n",
    "\"\"\"\n",
    "\n",
    "bu_bureau_scorefspd30 = client.query(sq).to_dataframe(progress_bar_type='tqdm')\n",
    "\n",
    "print(bu_bureau_scorefspd30.head(2))\n",
    "\n",
    "gini_results = calculate_periodic_gini_threedigit(bu_bureau_scorefspd30, 'bu_bureau_score', 'ln_fspd30_flag', 'FSPD30')\n",
    "M3FSPD30 = gini_results.copy()\n",
    "print(f\"The shape of dataframe after copy is:\\t{M3FSPD30.shape}\")\n",
    "print(M3FSPD30.columns.values)\n",
    "\n",
    "M3FSPD30.head()\n",
    "\n",
    "sq = \"\"\"\n",
    "with bu_bureau_score as \n",
    "(SELECT \n",
    "    ln_disb_dtime disbursementdate,\n",
    "\tdigitalLoanAccountId,\n",
    "    bu_bureau_score,\n",
    "    ln_fstpd30_flag,\n",
    "\tln_mature_fstpd30_flag,\t\n",
    "\tFROM \n",
    "    prj-prod-dataplatform.risk_mart.sil_risk_ds_master_20230101_20250206\n",
    "  WHERE \n",
    "     -- ln_disb_dtime >= '2023-07-01'\n",
    "    ln_appln_submit_datetime >= '2023-01-01'\n",
    "  -- AND\n",
    "  --   format_date('%Y-%m', ln_disb_dtime) = '2024-09'\n",
    "  AND\n",
    "    ln_fstpd30_flag is not null\n",
    "  AND\n",
    "    coalesce(bu_bureau_score, 0.0) > 0.0\n",
    "  AND\n",
    "    ln_mature_fstpd30_flag = 1\n",
    ")\n",
    "select * from bu_bureau_score;\n",
    "\"\"\"\n",
    "\n",
    "bu_bureau_scorefstpd30 = client.query(sq).to_dataframe(progress_bar_type='tqdm')\n",
    "\n",
    "print(bu_bureau_scorefstpd30.head(2))\n",
    "\n",
    "gini_results = calculate_periodic_gini_threedigit(bu_bureau_scorefstpd30, 'bu_bureau_score', 'ln_fstpd30_flag', 'FSTPD30')\n",
    "M4FSTPD30 = gini_results.copy()\n",
    "print(f\"The shape of dataframe after copy is:\\t{M4FSTPD30.shape}\")\n",
    "print(M4FSTPD30.columns.values)\n",
    "\n",
    "M4FSTPD30.head()\n",
    "\n"
   ]
  },
  {
   "cell_type": "code",
   "execution_count": null,
   "metadata": {},
   "outputs": [],
   "source": []
  },
  {
   "cell_type": "markdown",
   "metadata": {},
   "source": [
    "## Combining data"
   ]
  },
  {
   "cell_type": "code",
   "execution_count": 159,
   "metadata": {},
   "outputs": [
    {
     "data": {
      "text/plain": [
       "array(['start_date', 'end_date', 'bu_bureau_score_FPD10_gini', 'period',\n",
       "       'Model_Name', 'version', 'bad_rate', 'bu_bureau_score_FPD30_gini',\n",
       "       'bu_bureau_score_FSPD30_gini', 'bu_bureau_score_FSTPD30_gini'],\n",
       "      dtype=object)"
      ]
     },
     "execution_count": 159,
     "metadata": {},
     "output_type": "execute_result"
    }
   ],
   "source": [
    "import functools\n",
    "\n",
    "dataframes = [M1FPD10, M2FPD30, M3FSPD30, M4FSTPD30]\n",
    "common_columns = ['start_date', 'end_date', 'period', 'Model_Name','version', 'bad_rate']\n",
    "\n",
    "def merge_dataframes(df1, df2):\n",
    "    return pd.merge(df1, df2, on=common_columns, how='outer')\n",
    "\n",
    "final_df = functools.reduce(merge_dataframes, dataframes)\n",
    "\n",
    "final_df.columns.values"
   ]
  },
  {
   "cell_type": "code",
   "execution_count": 160,
   "metadata": {},
   "outputs": [],
   "source": [
    "final_df = final_df[['start_date', 'end_date', 'period',   'Model_Name', 'version', 'bad_rate','bu_bureau_score_FPD10_gini','bu_bureau_score_FPD30_gini',    'bu_bureau_score_FSPD30_gini', 'bu_bureau_score_FSTPD30_gini']].copy()"
   ]
  },
  {
   "cell_type": "code",
   "execution_count": 161,
   "metadata": {},
   "outputs": [
    {
     "data": {
      "text/plain": [
       "QueryJob<project=prj-prod-dataplatform, location=asia-southeast1, id=c805060c-43d6-4682-8d21-0dba9bd18a5a>"
      ]
     },
     "execution_count": 161,
     "metadata": {},
     "output_type": "execute_result"
    }
   ],
   "source": [
    "sq = \"\"\"drop table if exists prj-prod-dataplatform.dap_ds_poweruser_playground.Model_gini_bu_bureau_score;\"\"\"\n",
    "client.query(sq)"
   ]
  },
  {
   "cell_type": "code",
   "execution_count": 162,
   "metadata": {},
   "outputs": [
    {
     "data": {
      "text/plain": [
       "LoadJob<project=prj-prod-dataplatform, location=asia-southeast1, id=c0a4de31-5591-42ec-a995-b926f0eae46a>"
      ]
     },
     "execution_count": 162,
     "metadata": {},
     "output_type": "execute_result"
    }
   ],
   "source": [
    "import pandas as pd\n",
    "from google.cloud import bigquery\n",
    "\n",
    "# Create a BigQuery client\n",
    "client = bigquery.Client('prj-prod-dataplatform')\n",
    "\n",
    "# Define your table schema\n",
    "table_schema = [\n",
    "    bigquery.SchemaField('start_date', 'TIMESTAMP'),\n",
    "    bigquery.SchemaField('end_date', 'TIMESTAMP'),\n",
    "    bigquery.SchemaField('period', 'STRING'),\n",
    "    bigquery.SchemaField('Model_Name', 'STRING'),\n",
    "    bigquery.SchemaField('version', 'STRING'),\n",
    "    bigquery.SchemaField('Badrate', 'STRING'),\n",
    "    bigquery.SchemaField('bu_bureau_score_FPD10_gini', 'FLOAT'),\n",
    "    bigquery.SchemaField('bu_bureau_score_FPD30_gini', 'FLOAT'),    \n",
    "    bigquery.SchemaField('bu_bureau_score_FSPD30_gini', 'FLOAT'),\n",
    "    bigquery.SchemaField('bu_bureau_score_FSTPD30_gini', 'FLOAT')\n",
    "    \n",
    "]\n",
    "\n",
    "# Create your BigQuery table\n",
    "table_id = 'prj-prod-dataplatform.dap_ds_poweruser_playground.Model_gini_bu_bureau_score'\n",
    "table = bigquery.Table(table_id, schema=table_schema)\n",
    "table = client.create_table(table)\n",
    "\n",
    "# Load your DataFrame into BigQuery\n",
    "job_config = bigquery.LoadJobConfig(\n",
    "    write_disposition='WRITE_TRUNCATE'\n",
    ")\n",
    "\n",
    "load_job = client.load_table_from_dataframe(\n",
    "    final_df, table_id, job_config=job_config\n",
    ")\n",
    "\n",
    "load_job.result()"
   ]
  },
  {
   "cell_type": "code",
   "execution_count": null,
   "metadata": {},
   "outputs": [],
   "source": []
  }
 ],
 "metadata": {
  "kernelspec": {
   "display_name": "inc_env",
   "language": "python",
   "name": "python3"
  },
  "language_info": {
   "codemirror_mode": {
    "name": "ipython",
    "version": 3
   },
   "file_extension": ".py",
   "mimetype": "text/x-python",
   "name": "python",
   "nbconvert_exporter": "python",
   "pygments_lexer": "ipython3",
   "version": "3.8.20"
  }
 },
 "nbformat": 4,
 "nbformat_minor": 2
}
