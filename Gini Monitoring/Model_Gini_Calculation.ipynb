{
 "cells": [
  {
   "cell_type": "markdown",
   "metadata": {},
   "source": [
    "# <center> Model Gini Calculation </center>"
   ]
  },
  {
   "cell_type": "code",
   "execution_count": 1,
   "metadata": {},
   "outputs": [],
   "source": [
    "# %% [markdown]\n",
    "# # Jupyter Notebook Loading Header\n",
    "#\n",
    "# This is a custom loading header for Jupyter Notebooks in Visual Studio Code.\n",
    "# It includes common imports and settings to get you started quickly.\n",
    "\n",
    "# %% [markdown]\n",
    "## Import Libraries\n",
    "import pandas as pd\n",
    "import numpy as np\n",
    "import matplotlib.pyplot as plt\n",
    "import seaborn as sns\n",
    "from google.cloud import bigquery\n",
    "from google.cloud import storage\n",
    "import os\n",
    "path = r'C:\\Users\\DwaipayanChakroborti\\AppData\\Roaming\\gcloud\\legacy_credentials\\dchakroborti@tonikbank.com\\adc.json'\n",
    "os.environ['GOOGLE_APPLICATION_CREDENTIALS'] = path\n",
    "client = bigquery.Client(project='prj-prod-dataplatform')\n",
    "\n",
    "from sklearn.metrics import roc_auc_score\n",
    "from datetime import datetime, timedelta\n",
    "# %% [markdown]\n",
    "## Configure Settings\n",
    "# Set options or configurations as needed\n",
    "# Example: pd.set_option('display.max_columns', None)"
   ]
  },
  {
   "cell_type": "markdown",
   "metadata": {},
   "source": [
    "# Function"
   ]
  },
  {
   "cell_type": "markdown",
   "metadata": {},
   "source": [
    "## calculate_gini_for_threedigitscore"
   ]
  },
  {
   "cell_type": "code",
   "execution_count": 2,
   "metadata": {},
   "outputs": [],
   "source": [
    "# def calculate_gini_for_threedigitscore(scores, labels):\n",
    "#     \"\"\"\n",
    "#     Calculate Gini coefficient for three-digit scores and binary labels\n",
    "    \n",
    "#     Parameters:\n",
    "#     scores: array-like, three-digit scores (higher is better)\n",
    "#     labels: array-like, binary values (0 or 1, where 1 indicates default)\n",
    "    \n",
    "#     Returns:\n",
    "#     float: Gini coefficient\n",
    "#     \"\"\"\n",
    "#     # Combine scores and labels into a DataFrame\n",
    "#     df = pd.DataFrame({'score': scores, 'label': labels})\n",
    "    \n",
    "#     # Sort by score in descending order (assuming higher score is better)\n",
    "#     df = df.sort_values('score', ascending=False)\n",
    "    \n",
    "#     # Calculate cumulative values\n",
    "#     total_pos = df['label'].sum()\n",
    "#     total_neg = len(df) - total_pos\n",
    "    \n",
    "#     if total_pos == 0 or total_neg == 0:\n",
    "#         return 0\n",
    "    \n",
    "#     # Calculate cumulative proportions\n",
    "#     cum_pos = df['label'].cumsum()\n",
    "#     cum_neg = np.arange(1, len(df) + 1) - cum_pos\n",
    "    \n",
    "#     # Convert to proportions\n",
    "#     cum_pos_prop = cum_pos / total_pos\n",
    "#     cum_neg_prop = cum_neg / total_neg\n",
    "    \n",
    "#     # Calculate Gini\n",
    "#     gini = 1 - np.trapz(cum_pos_prop, cum_neg_prop)\n",
    "    \n",
    "#     return gini\n",
    "\n",
    "\n",
    "## Modified one\n",
    "\n",
    "def calculate_gini_for_threedigitscore(scores, labels):\n",
    "    \"\"\"\n",
    "    Calculate Gini coefficient for three-digit scores and binary labels\n",
    "    \n",
    "    Parameters:\n",
    "    scores: array-like, three-digit scores (higher is better)\n",
    "    labels: array-like, binary values (0 or 1, where 1 indicates default)\n",
    "    \n",
    "    Returns:\n",
    "    float: Gini coefficient\n",
    "    \"\"\"\n",
    "    # Combine scores and labels into a DataFrame\n",
    "    df = pd.DataFrame({'score': scores, 'label': labels})\n",
    "    \n",
    "    # Sort by score in descending order (assuming higher score means lower risk)\n",
    "    # For default prediction, we want to sort scores in ascending order \n",
    "    # since higher default probability should correspond to higher risk\n",
    "    df = df.sort_values('score', ascending=True)  # Changed to ascending=True\n",
    "    \n",
    "    # Calculate cumulative values\n",
    "    total_pos = df['label'].sum()\n",
    "    total_neg = len(df) - total_pos\n",
    "    \n",
    "    if total_pos == 0 or total_neg == 0:\n",
    "        return 0\n",
    "    \n",
    "    # Calculate cumulative proportions\n",
    "    cum_pos = df['label'].cumsum()\n",
    "    cum_neg = np.arange(1, len(df) + 1) - cum_pos\n",
    "    \n",
    "    # Convert to proportions\n",
    "    cum_pos_prop = cum_pos / total_pos\n",
    "    cum_neg_prop = cum_neg / total_neg\n",
    "    \n",
    "    # Calculate area under curve\n",
    "    auc = np.trapz(cum_pos_prop, cum_neg_prop)\n",
    "    \n",
    "    # Calculate Gini\n",
    "    gini = 2 * auc - 1\n",
    "    \n",
    "    return gini"
   ]
  },
  {
   "cell_type": "markdown",
   "metadata": {},
   "source": [
    "## calculate_gini"
   ]
  },
  {
   "cell_type": "code",
   "execution_count": 3,
   "metadata": {},
   "outputs": [],
   "source": [
    "def calculate_gini(pd_scores, bad_indicators):\n",
    "    \"\"\"\n",
    "    Calculate Gini coefficient from scores and binary indicators\n",
    "    \n",
    "    Parameters:\n",
    "    pd_scores: array-like of scores/probabilities\n",
    "    bad_indicators: array-like of binary outcomes (0/1)\n",
    "    \n",
    "    Returns:\n",
    "    float: Gini coefficient\n",
    "    \"\"\"\n",
    "    # Convert inputs to numpy arrays and ensure they're numeric\n",
    "    pd_scores = np.array(pd_scores, dtype=float)\n",
    "    bad_indicators = np.array(bad_indicators, dtype=int)\n",
    "    \n",
    "    # Check for valid input data\n",
    "    if len(pd_scores) == 0 or len(bad_indicators) == 0:\n",
    "        return np.nan\n",
    "    \n",
    "    # Check if we have both good and bad cases (needed for ROC AUC)\n",
    "    if len(np.unique(bad_indicators)) < 2:\n",
    "        return np.nan\n",
    "    \n",
    "    # Calculate AUC using sklearn\n",
    "    try:\n",
    "        auc = roc_auc_score(bad_indicators, pd_scores)\n",
    "        # Calculate Gini from AUC\n",
    "        gini = 2 * auc - 1\n",
    "        return gini\n",
    "    except ValueError:\n",
    "        return np.nan"
   ]
  },
  {
   "cell_type": "markdown",
   "metadata": {},
   "source": [
    "## calculate_hybrid_gini"
   ]
  },
  {
   "cell_type": "code",
   "execution_count": 4,
   "metadata": {},
   "outputs": [],
   "source": [
    "# def calculate_hybrid_gini(scores, labels):\n",
    "#     \"\"\"\n",
    "#     Calculate Gini coefficient handling both PD values and three-digit scores\n",
    "    \n",
    "#     Parameters:\n",
    "#     scores: array-like, contains either PD values (0-1) or three-digit scores\n",
    "#     labels: array-like, binary values (0 or 1, where 1 indicates default)\n",
    "    \n",
    "#     Returns:\n",
    "#     float: Gini coefficient\n",
    "#     \"\"\"\n",
    "#     # Convert inputs to numpy arrays\n",
    "#     scores = np.array(scores, dtype=float)\n",
    "#     labels = np.array(labels, dtype=int)\n",
    "    \n",
    "#     # Basic validation\n",
    "#     if len(scores) == 0 or len(labels) == 0:\n",
    "#         return np.nan\n",
    "    \n",
    "#     if len(np.unique(labels)) < 2:\n",
    "#         return np.nan\n",
    "        \n",
    "#     # Determine if scores are PD values or three-digit scores\n",
    "#     # PD values are between 0 and 1\n",
    "#     is_pd = np.all((scores >= 0) & (scores <= 1))\n",
    "    \n",
    "#     if is_pd:\n",
    "#         try:\n",
    "#             auc = roc_auc_score(labels, scores)\n",
    "#             gini = 2 * auc - 1\n",
    "#             return gini\n",
    "#         except ValueError:\n",
    "#             return np.nan\n",
    "#     else:\n",
    "#         # Handle as three-digit score\n",
    "#         df = pd.DataFrame({'score': scores, 'label': labels})\n",
    "#         df = df.sort_values('score', ascending=False)\n",
    "        \n",
    "#         total_pos = df['label'].sum()\n",
    "#         total_neg = len(df) - total_pos\n",
    "        \n",
    "#         if total_pos == 0 or total_neg == 0:\n",
    "#             return np.nan\n",
    "        \n",
    "#         cum_pos = df['label'].cumsum()\n",
    "#         cum_neg = np.arange(1, len(df) + 1) - cum_pos\n",
    "        \n",
    "#         cum_pos_prop = cum_pos / total_pos\n",
    "#         cum_neg_prop = cum_neg / total_neg\n",
    "        \n",
    "#         gini = 1 - np.trapz(cum_pos_prop, cum_neg_prop)\n",
    "#         return gini\n",
    "\n",
    "## Modified one\n",
    "\n",
    "def calculate_hybrid_gini(scores, labels):\n",
    "    \"\"\"\n",
    "    Calculate Gini coefficient handling both PD values and three-digit scores\n",
    "    \n",
    "    Parameters:\n",
    "    scores: array-like, contains either PD values (0-1) or three-digit scores\n",
    "    labels: array-like, binary values (0 or 1, where 1 indicates default)\n",
    "    \n",
    "    Returns:\n",
    "    float: Gini coefficient\n",
    "    \"\"\"\n",
    "    # Convert inputs to numpy arrays\n",
    "    scores = np.array(scores, dtype=float)\n",
    "    labels = np.array(labels, dtype=int)\n",
    "    \n",
    "    # Basic validation\n",
    "    if len(scores) == 0 or len(labels) == 0:\n",
    "        return np.nan\n",
    "    \n",
    "    if len(np.unique(labels)) < 2:\n",
    "        return np.nan\n",
    "        \n",
    "    # Determine if scores are PD values or three-digit scores\n",
    "    # PD values are between 0 and 1\n",
    "    is_pd = np.all((scores >= 0) & (scores <= 1))\n",
    "    \n",
    "    if is_pd:\n",
    "        try:\n",
    "            auc = roc_auc_score(labels, scores)\n",
    "            gini = 2 * auc - 1\n",
    "            return gini\n",
    "        except ValueError:\n",
    "            return np.nan\n",
    "    else:\n",
    "        # Handle as three-digit score\n",
    "        df = pd.DataFrame({'score': scores, 'label': labels})\n",
    "        # Sort by score in ascending order since higher score means higher risk\n",
    "        df = df.sort_values('score', ascending=True)\n",
    "        \n",
    "        total_pos = df['label'].sum()\n",
    "        total_neg = len(df) - total_pos\n",
    "        \n",
    "        if total_pos == 0 or total_neg == 0:\n",
    "            return np.nan\n",
    "        \n",
    "        cum_pos = df['label'].cumsum()\n",
    "        cum_neg = np.arange(1, len(df) + 1) - cum_pos\n",
    "        \n",
    "        cum_pos_prop = cum_pos / total_pos\n",
    "        cum_neg_prop = cum_neg / total_neg\n",
    "        \n",
    "        # Calculate area under curve\n",
    "        auc = np.trapz(cum_pos_prop, cum_neg_prop)\n",
    "        \n",
    "        # Calculate Gini using the same formula as PD values\n",
    "        gini = 2 * auc - 1\n",
    "        return gini"
   ]
  },
  {
   "cell_type": "markdown",
   "metadata": {},
   "source": [
    "## calculate_periodic_gini_threedigit"
   ]
  },
  {
   "cell_type": "code",
   "execution_count": 5,
   "metadata": {},
   "outputs": [],
   "source": [
    "# Main processing code\n",
    "def calculate_periodic_gini_threedigit(df, score_column, label_column, namecolumn):\n",
    "    \"\"\"\n",
    "    Calculate periodic Gini coefficients\n",
    "    \n",
    "    Parameters:\n",
    "    df: DataFrame with disbursement dates and score/label columns\n",
    "    score_column: name of the score column\n",
    "    label_column: name of the label column\n",
    "    \"\"\"\n",
    "    # Ensure date is datetime type\n",
    "    df['disbursementdate'] = pd.to_datetime(df['disbursementdate'])\n",
    "    \n",
    "    # Calculate weekly Gini\n",
    "    df['week'] = df['disbursementdate'].dt.to_period('W')\n",
    "    weekly_gini = df.groupby('week').apply(\n",
    "        lambda x: calculate_gini_for_threedigitscore(x[score_column], x[label_column])\n",
    "    ).reset_index(name='gini')\n",
    "    weekly_gini['period'] = 'Week'\n",
    "    weekly_gini['start_date'] = weekly_gini['week'].apply(lambda x: x.to_timestamp())\n",
    "    weekly_gini['end_date'] = weekly_gini['start_date'] + timedelta(days=6)\n",
    "    weekly_gini = weekly_gini[['start_date', 'end_date', 'gini', 'period']]\n",
    "    \n",
    "    # Calculate monthly Gini\n",
    "    df['month'] = df['disbursementdate'].dt.to_period('M')\n",
    "    monthly_gini = df.groupby('month').apply(\n",
    "        lambda x: calculate_gini_for_threedigitscore(x[score_column], x[label_column])\n",
    "    ).reset_index(name='gini')\n",
    "    monthly_gini['period'] = 'Month'\n",
    "    monthly_gini['start_date'] = monthly_gini['month'].apply(lambda x: x.to_timestamp())\n",
    "    monthly_gini['end_date'] = monthly_gini['start_date'] + pd.DateOffset(months=1) - pd.Timedelta(days=1)\n",
    "    monthly_gini = monthly_gini[['start_date', 'end_date', 'gini', 'period']]\n",
    "    \n",
    "    # Combine and sort results\n",
    "    gini_results = pd.concat([weekly_gini, monthly_gini])\n",
    "    gini_results = gini_results.sort_values(by='start_date').reset_index(drop=True)\n",
    "    \n",
    "    # Add metadata columns\n",
    "    gini_results['Model_Name'] = score_column\n",
    "    gini_results['version'] = '1.1.0'\n",
    "    gini_results['bad_rate'] = namecolumn\n",
    "    gini_results.rename(columns={'gini': f'{score_column}_{namecolumn}_gini'}, inplace=True)\n",
    "    \n",
    "    return gini_results"
   ]
  },
  {
   "cell_type": "markdown",
   "metadata": {},
   "source": [
    "## calculate_periodic_gini"
   ]
  },
  {
   "cell_type": "code",
   "execution_count": 6,
   "metadata": {},
   "outputs": [],
   "source": [
    "def calculate_periodic_gini(df, score_column, label_column, namecolumn):\n",
    "    \"\"\"\n",
    "    Calculate periodic Gini coefficients\n",
    "    \n",
    "    Parameters:\n",
    "    df: DataFrame with disbursement dates and score/label columns\n",
    "    score_column: name of the score column\n",
    "    label_column: name of the label column\n",
    "    \"\"\"\n",
    "    # Input validation\n",
    "    required_columns = ['disbursementdate', score_column, label_column]\n",
    "    if not all(col in df.columns for col in required_columns):\n",
    "        raise ValueError(f\"Missing required columns. Need: {required_columns}\")\n",
    "        \n",
    "    # Create a copy to avoid modifying original dataframe\n",
    "    df = df.copy()\n",
    "    \n",
    "    # Ensure date is datetime type\n",
    "    df['disbursementdate'] = pd.to_datetime(df['disbursementdate'])\n",
    "    \n",
    "    # Ensure score and label columns are numeric\n",
    "    df[score_column] = pd.to_numeric(df[score_column], errors='coerce')\n",
    "    df[label_column] = pd.to_numeric(df[label_column], errors='coerce')\n",
    "    \n",
    "    # Drop rows with invalid values\n",
    "    df = df.dropna(subset=[score_column, label_column])\n",
    "    \n",
    "    # Calculate weekly Gini\n",
    "    df['week'] = df['disbursementdate'].dt.to_period('W')\n",
    "    weekly_gini = df.groupby('week').apply(\n",
    "        lambda x: calculate_gini(x[score_column], x[label_column])\n",
    "        if len(x) >= 10 else np.nan  # Only calculate if we have enough samples\n",
    "    ).reset_index(name='gini')\n",
    "    weekly_gini['period'] = 'Week'\n",
    "    weekly_gini['start_date'] = weekly_gini['week'].apply(lambda x: x.to_timestamp())\n",
    "    weekly_gini['end_date'] = weekly_gini['start_date'] + timedelta(days=6)\n",
    "    weekly_gini = weekly_gini[['start_date', 'end_date', 'gini', 'period']]\n",
    "    \n",
    "    # Calculate monthly Gini\n",
    "    df['month'] = df['disbursementdate'].dt.to_period('M')\n",
    "    monthly_gini = df.groupby('month').apply(\n",
    "        lambda x: calculate_gini(x[score_column], x[label_column])\n",
    "        if len(x) >= 20 else np.nan  # Only calculate if we have enough samples\n",
    "    ).reset_index(name='gini')\n",
    "    monthly_gini['period'] = 'Month'\n",
    "    monthly_gini['start_date'] = monthly_gini['month'].apply(lambda x: x.to_timestamp())\n",
    "    monthly_gini['end_date'] = monthly_gini['start_date'] + pd.DateOffset(months=1) - pd.Timedelta(days=1)\n",
    "    monthly_gini = monthly_gini[['start_date', 'end_date', 'gini', 'period']]\n",
    "    \n",
    "    # Combine and sort results\n",
    "    gini_results = pd.concat([weekly_gini, monthly_gini])\n",
    "    gini_results = gini_results.sort_values(by='start_date').reset_index(drop=True)\n",
    "    \n",
    "    # Add metadata columns\n",
    "    gini_results['Model_Name'] = score_column\n",
    "    gini_results['version'] = '1.1.0'\n",
    "    gini_results['bad_rate'] = namecolumn\n",
    "    gini_results.rename(columns={'gini': f'{score_column}_{namecolumn}_gini'}, inplace=True)\n",
    "    \n",
    "    return gini_results"
   ]
  },
  {
   "cell_type": "markdown",
   "metadata": {},
   "source": [
    "## calculate_periodic_hybrid_gini"
   ]
  },
  {
   "cell_type": "code",
   "execution_count": 7,
   "metadata": {},
   "outputs": [],
   "source": [
    "def calculate_periodic_hybrid_gini(df, score_column, label_column, namecolumn):\n",
    "    \"\"\"\n",
    "    Calculate periodic Gini coefficients for mixed score types\n",
    "    \n",
    "    Parameters:\n",
    "    df: DataFrame with disbursement dates and score/label columns\n",
    "    score_column: name of the score column\n",
    "    label_column: name of the label column\n",
    "    \"\"\"\n",
    "    # Input validation\n",
    "    required_columns = ['disbursementdate', score_column, label_column]\n",
    "    if not all(col in df.columns for col in required_columns):\n",
    "        raise ValueError(f\"Missing required columns. Need: {required_columns}\")\n",
    "        \n",
    "    # Create a copy to avoid modifying original dataframe\n",
    "    df = df.copy()\n",
    "    \n",
    "    # Ensure date is datetime type\n",
    "    df['disbursementdate'] = pd.to_datetime(df['disbursementdate'])\n",
    "    \n",
    "    # Ensure score and label columns are numeric\n",
    "    df[score_column] = pd.to_numeric(df[score_column], errors='coerce')\n",
    "    df[label_column] = pd.to_numeric(df[label_column], errors='coerce')\n",
    "    \n",
    "    # Drop rows with invalid values\n",
    "    df = df.dropna(subset=[score_column, label_column])\n",
    "    \n",
    "    # Calculate weekly Gini\n",
    "    df['week'] = df['disbursementdate'].dt.to_period('W')\n",
    "    weekly_gini = df.groupby('week').apply(\n",
    "        lambda x: calculate_hybrid_gini(x[score_column], x[label_column])\n",
    "        if len(x) >= 10 else np.nan  # Only calculate if we have enough samples\n",
    "    ).reset_index(name='gini')\n",
    "    weekly_gini['period'] = 'Week'\n",
    "    weekly_gini['start_date'] = weekly_gini['week'].apply(lambda x: x.to_timestamp())\n",
    "    weekly_gini['end_date'] = weekly_gini['start_date'] + pd.Timedelta(days=6)\n",
    "    weekly_gini = weekly_gini[['start_date', 'end_date', 'gini', 'period']]\n",
    "    \n",
    "    # Calculate monthly Gini\n",
    "    df['month'] = df['disbursementdate'].dt.to_period('M')\n",
    "    monthly_gini = df.groupby('month').apply(\n",
    "        lambda x: calculate_hybrid_gini(x[score_column], x[label_column])\n",
    "        if len(x) >= 20 else np.nan  # Only calculate if we have enough samples\n",
    "    ).reset_index(name='gini')\n",
    "    monthly_gini['period'] = 'Month'\n",
    "    monthly_gini['start_date'] = monthly_gini['month'].apply(lambda x: x.to_timestamp())\n",
    "    monthly_gini['end_date'] = monthly_gini['start_date'] + pd.DateOffset(months=1) - pd.Timedelta(days=1)\n",
    "    monthly_gini = monthly_gini[['start_date', 'end_date', 'gini', 'period']]\n",
    "    \n",
    "    # Combine and sort results\n",
    "    gini_results = pd.concat([weekly_gini, monthly_gini])\n",
    "    gini_results = gini_results.sort_values(by='start_date').reset_index(drop=True)\n",
    "    \n",
    "    # Add metadata columns\n",
    "    gini_results['Model_Name'] = score_column\n",
    "    gini_results['version'] = '1.1.0'\n",
    "    gini_results['bad_rate'] = namecolumn\n",
    "    gini_results.rename(columns={'gini': f'{score_column}_{namecolumn}_gini'}, inplace=True)\n",
    "    \n",
    "    return gini_results"
   ]
  },
  {
   "cell_type": "markdown",
   "metadata": {},
   "source": [
    "# App Score FPD10"
   ]
  },
  {
   "cell_type": "code",
   "execution_count": 8,
   "metadata": {},
   "outputs": [
    {
     "name": "stdout",
     "output_type": "stream",
     "text": [
      "Job ID 45e969da-1f74-4171-8dde-e4d49e37fe50 successfully executed: 100%|\u001b[32m██████████\u001b[0m|"
     ]
    },
    {
     "name": "stderr",
     "output_type": "stream",
     "text": [
      "d:\\Anaconda3\\envs\\inc_env\\lib\\site-packages\\google\\cloud\\bigquery\\table.py:1820: UserWarning: BigQuery Storage module not found, fetch data with the REST endpoint instead.\n",
      "  warnings.warn(\n"
     ]
    },
    {
     "name": "stdout",
     "output_type": "stream",
     "text": [
      "\n",
      "Downloading: 100%|\u001b[32m██████████\u001b[0m|\n"
     ]
    }
   ],
   "source": [
    "sq = \"\"\"with appscore as \n",
    "(SELECT \n",
    "    ln_disb_dtime disbursementdate,\n",
    "\tdigitalLoanAccountId,\n",
    "    s_apps_score,\n",
    "    ln_fpd10_flag,\n",
    "\tln_mature_fpd10_flag,\t\n",
    "\tFROM \n",
    "    prj-prod-dataplatform.risk_mart.sil_risk_ds_master_20230101_20250206\n",
    "  WHERE \n",
    "     -- ln_disb_dtime >= '2023-07-01'\n",
    "    ln_appln_submit_datetime >= '2023-06-01'\n",
    "  -- AND\n",
    "  --   format_date('%Y-%m', ln_disb_dtime) = '2024-09'\n",
    "  AND\n",
    "    ln_fpd10_flag is not null\n",
    "  AND\n",
    "    s_apps_score is not null\n",
    "  AND\n",
    "    ln_mature_fpd10_flag = 1\n",
    ")\n",
    "select * from appscore;\"\"\"\n",
    "\n",
    "dfappscorefpd10 = client.query(sq).to_dataframe(progress_bar_type = 'tqdm')"
   ]
  },
  {
   "cell_type": "code",
   "execution_count": 9,
   "metadata": {},
   "outputs": [
    {
     "data": {
      "application/vnd.microsoft.datawrangler.viewer.v0+json": {
       "columns": [
        {
         "name": "index",
         "rawType": "int64",
         "type": "integer"
        },
        {
         "name": "disbursementdate",
         "rawType": "datetime64[us]",
         "type": "unknown"
        },
        {
         "name": "digitalLoanAccountId",
         "rawType": "object",
         "type": "string"
        },
        {
         "name": "s_apps_score",
         "rawType": "float64",
         "type": "float"
        },
        {
         "name": "ln_fpd10_flag",
         "rawType": "Int64",
         "type": "integer"
        },
        {
         "name": "ln_mature_fpd10_flag",
         "rawType": "Int64",
         "type": "integer"
        }
       ],
       "conversionMethod": "pd.DataFrame",
       "ref": "4c2fdfa1-32ed-4555-8524-9027a620c7d7",
       "rows": [
        [
         "138384",
         "2023-10-22 15:25:04",
         "617ef401-4412-40ae-a01b-26099bb593c1",
         "0.52858733283099",
         "0",
         "1"
        ],
        [
         "46091",
         "2024-04-17 10:33:31",
         "24cc0606-ef24-48ba-af06-484515fe5af2",
         "0.615570967027145",
         "0",
         "1"
        ],
        [
         "155656",
         "2024-07-25 11:31:38",
         "c589fad1-c912-4309-a8ef-cc473d657764",
         "0.5135347268722255",
         "0",
         "1"
        ],
        [
         "112590",
         "2024-12-26 15:01:29",
         "0be88b43-b9d4-4d02-b32f-579e3d39501f",
         "0.6613458632691597",
         "0",
         "1"
        ],
        [
         "133524",
         "2023-09-28 18:10:26",
         "29127657-92df-4bfc-93cb-170fb709b232",
         "0.4054369870345734",
         "0",
         "1"
        ]
       ],
       "shape": {
        "columns": 5,
        "rows": 5
       }
      },
      "text/html": [
       "<div>\n",
       "<style scoped>\n",
       "    .dataframe tbody tr th:only-of-type {\n",
       "        vertical-align: middle;\n",
       "    }\n",
       "\n",
       "    .dataframe tbody tr th {\n",
       "        vertical-align: top;\n",
       "    }\n",
       "\n",
       "    .dataframe thead th {\n",
       "        text-align: right;\n",
       "    }\n",
       "</style>\n",
       "<table border=\"1\" class=\"dataframe\">\n",
       "  <thead>\n",
       "    <tr style=\"text-align: right;\">\n",
       "      <th></th>\n",
       "      <th>disbursementdate</th>\n",
       "      <th>digitalLoanAccountId</th>\n",
       "      <th>s_apps_score</th>\n",
       "      <th>ln_fpd10_flag</th>\n",
       "      <th>ln_mature_fpd10_flag</th>\n",
       "    </tr>\n",
       "  </thead>\n",
       "  <tbody>\n",
       "    <tr>\n",
       "      <th>138384</th>\n",
       "      <td>2023-10-22 15:25:04</td>\n",
       "      <td>617ef401-4412-40ae-a01b-26099bb593c1</td>\n",
       "      <td>0.528587</td>\n",
       "      <td>0</td>\n",
       "      <td>1</td>\n",
       "    </tr>\n",
       "    <tr>\n",
       "      <th>46091</th>\n",
       "      <td>2024-04-17 10:33:31</td>\n",
       "      <td>24cc0606-ef24-48ba-af06-484515fe5af2</td>\n",
       "      <td>0.615571</td>\n",
       "      <td>0</td>\n",
       "      <td>1</td>\n",
       "    </tr>\n",
       "    <tr>\n",
       "      <th>155656</th>\n",
       "      <td>2024-07-25 11:31:38</td>\n",
       "      <td>c589fad1-c912-4309-a8ef-cc473d657764</td>\n",
       "      <td>0.513535</td>\n",
       "      <td>0</td>\n",
       "      <td>1</td>\n",
       "    </tr>\n",
       "    <tr>\n",
       "      <th>112590</th>\n",
       "      <td>2024-12-26 15:01:29</td>\n",
       "      <td>0be88b43-b9d4-4d02-b32f-579e3d39501f</td>\n",
       "      <td>0.661346</td>\n",
       "      <td>0</td>\n",
       "      <td>1</td>\n",
       "    </tr>\n",
       "    <tr>\n",
       "      <th>133524</th>\n",
       "      <td>2023-09-28 18:10:26</td>\n",
       "      <td>29127657-92df-4bfc-93cb-170fb709b232</td>\n",
       "      <td>0.405437</td>\n",
       "      <td>0</td>\n",
       "      <td>1</td>\n",
       "    </tr>\n",
       "  </tbody>\n",
       "</table>\n",
       "</div>"
      ],
      "text/plain": [
       "          disbursementdate                  digitalLoanAccountId  \\\n",
       "138384 2023-10-22 15:25:04  617ef401-4412-40ae-a01b-26099bb593c1   \n",
       "46091  2024-04-17 10:33:31  24cc0606-ef24-48ba-af06-484515fe5af2   \n",
       "155656 2024-07-25 11:31:38  c589fad1-c912-4309-a8ef-cc473d657764   \n",
       "112590 2024-12-26 15:01:29  0be88b43-b9d4-4d02-b32f-579e3d39501f   \n",
       "133524 2023-09-28 18:10:26  29127657-92df-4bfc-93cb-170fb709b232   \n",
       "\n",
       "        s_apps_score  ln_fpd10_flag  ln_mature_fpd10_flag  \n",
       "138384      0.528587              0                     1  \n",
       "46091       0.615571              0                     1  \n",
       "155656      0.513535              0                     1  \n",
       "112590      0.661346              0                     1  \n",
       "133524      0.405437              0                     1  "
      ]
     },
     "execution_count": 9,
     "metadata": {},
     "output_type": "execute_result"
    }
   ],
   "source": [
    "dfappscorefpd10.sample(5)"
   ]
  },
  {
   "cell_type": "code",
   "execution_count": 10,
   "metadata": {},
   "outputs": [],
   "source": [
    "gini_results = calculate_periodic_gini(dfappscorefpd10, 's_apps_score', 'ln_fpd10_flag', 'FPD10')"
   ]
  },
  {
   "cell_type": "code",
   "execution_count": 11,
   "metadata": {},
   "outputs": [
    {
     "data": {
      "application/vnd.microsoft.datawrangler.viewer.v0+json": {
       "columns": [
        {
         "name": "index",
         "rawType": "int64",
         "type": "integer"
        },
        {
         "name": "start_date",
         "rawType": "datetime64[ns]",
         "type": "datetime"
        },
        {
         "name": "end_date",
         "rawType": "datetime64[ns]",
         "type": "datetime"
        },
        {
         "name": "s_apps_score_FPD10_gini",
         "rawType": "float64",
         "type": "float"
        },
        {
         "name": "period",
         "rawType": "object",
         "type": "string"
        },
        {
         "name": "Model_Name",
         "rawType": "object",
         "type": "string"
        },
        {
         "name": "version",
         "rawType": "object",
         "type": "string"
        },
        {
         "name": "bad_rate",
         "rawType": "object",
         "type": "string"
        }
       ],
       "conversionMethod": "pd.DataFrame",
       "ref": "893d89c3-709d-4f5f-a81e-06cdd4b54ba2",
       "rows": [
        [
         "0",
         "2023-05-29 00:00:00",
         "2023-06-04 00:00:00",
         "0.5482295482295481",
         "Week",
         "s_apps_score",
         "1.1.0",
         "FPD10"
        ],
        [
         "1",
         "2023-06-01 00:00:00",
         "2023-06-30 00:00:00",
         "0.3846483704974273",
         "Month",
         "s_apps_score",
         "1.1.0",
         "FPD10"
        ],
        [
         "2",
         "2023-06-05 00:00:00",
         "2023-06-11 00:00:00",
         "0.5",
         "Week",
         "s_apps_score",
         "1.1.0",
         "FPD10"
        ],
        [
         "3",
         "2023-06-12 00:00:00",
         "2023-06-18 00:00:00",
         "0.5551948051948052",
         "Week",
         "s_apps_score",
         "1.1.0",
         "FPD10"
        ],
        [
         "4",
         "2023-06-19 00:00:00",
         "2023-06-25 00:00:00",
         "0.004830917874396157",
         "Week",
         "s_apps_score",
         "1.1.0",
         "FPD10"
        ]
       ],
       "shape": {
        "columns": 7,
        "rows": 5
       }
      },
      "text/html": [
       "<div>\n",
       "<style scoped>\n",
       "    .dataframe tbody tr th:only-of-type {\n",
       "        vertical-align: middle;\n",
       "    }\n",
       "\n",
       "    .dataframe tbody tr th {\n",
       "        vertical-align: top;\n",
       "    }\n",
       "\n",
       "    .dataframe thead th {\n",
       "        text-align: right;\n",
       "    }\n",
       "</style>\n",
       "<table border=\"1\" class=\"dataframe\">\n",
       "  <thead>\n",
       "    <tr style=\"text-align: right;\">\n",
       "      <th></th>\n",
       "      <th>start_date</th>\n",
       "      <th>end_date</th>\n",
       "      <th>s_apps_score_FPD10_gini</th>\n",
       "      <th>period</th>\n",
       "      <th>Model_Name</th>\n",
       "      <th>version</th>\n",
       "      <th>bad_rate</th>\n",
       "    </tr>\n",
       "  </thead>\n",
       "  <tbody>\n",
       "    <tr>\n",
       "      <th>0</th>\n",
       "      <td>2023-05-29</td>\n",
       "      <td>2023-06-04</td>\n",
       "      <td>0.548230</td>\n",
       "      <td>Week</td>\n",
       "      <td>s_apps_score</td>\n",
       "      <td>1.1.0</td>\n",
       "      <td>FPD10</td>\n",
       "    </tr>\n",
       "    <tr>\n",
       "      <th>1</th>\n",
       "      <td>2023-06-01</td>\n",
       "      <td>2023-06-30</td>\n",
       "      <td>0.384648</td>\n",
       "      <td>Month</td>\n",
       "      <td>s_apps_score</td>\n",
       "      <td>1.1.0</td>\n",
       "      <td>FPD10</td>\n",
       "    </tr>\n",
       "    <tr>\n",
       "      <th>2</th>\n",
       "      <td>2023-06-05</td>\n",
       "      <td>2023-06-11</td>\n",
       "      <td>0.500000</td>\n",
       "      <td>Week</td>\n",
       "      <td>s_apps_score</td>\n",
       "      <td>1.1.0</td>\n",
       "      <td>FPD10</td>\n",
       "    </tr>\n",
       "    <tr>\n",
       "      <th>3</th>\n",
       "      <td>2023-06-12</td>\n",
       "      <td>2023-06-18</td>\n",
       "      <td>0.555195</td>\n",
       "      <td>Week</td>\n",
       "      <td>s_apps_score</td>\n",
       "      <td>1.1.0</td>\n",
       "      <td>FPD10</td>\n",
       "    </tr>\n",
       "    <tr>\n",
       "      <th>4</th>\n",
       "      <td>2023-06-19</td>\n",
       "      <td>2023-06-25</td>\n",
       "      <td>0.004831</td>\n",
       "      <td>Week</td>\n",
       "      <td>s_apps_score</td>\n",
       "      <td>1.1.0</td>\n",
       "      <td>FPD10</td>\n",
       "    </tr>\n",
       "  </tbody>\n",
       "</table>\n",
       "</div>"
      ],
      "text/plain": [
       "  start_date   end_date  s_apps_score_FPD10_gini period    Model_Name version  \\\n",
       "0 2023-05-29 2023-06-04                 0.548230   Week  s_apps_score   1.1.0   \n",
       "1 2023-06-01 2023-06-30                 0.384648  Month  s_apps_score   1.1.0   \n",
       "2 2023-06-05 2023-06-11                 0.500000   Week  s_apps_score   1.1.0   \n",
       "3 2023-06-12 2023-06-18                 0.555195   Week  s_apps_score   1.1.0   \n",
       "4 2023-06-19 2023-06-25                 0.004831   Week  s_apps_score   1.1.0   \n",
       "\n",
       "  bad_rate  \n",
       "0    FPD10  \n",
       "1    FPD10  \n",
       "2    FPD10  \n",
       "3    FPD10  \n",
       "4    FPD10  "
      ]
     },
     "execution_count": 11,
     "metadata": {},
     "output_type": "execute_result"
    }
   ],
   "source": [
    "gini_results.head()"
   ]
  },
  {
   "cell_type": "code",
   "execution_count": 12,
   "metadata": {},
   "outputs": [
    {
     "name": "stdout",
     "output_type": "stream",
     "text": [
      "The shape of dataframe after copy is:\t(106, 7)\n"
     ]
    },
    {
     "data": {
      "text/plain": [
       "array(['start_date', 'end_date', 's_apps_score_FPD10_gini', 'period',\n",
       "       'Model_Name', 'version', 'bad_rate'], dtype=object)"
      ]
     },
     "execution_count": 12,
     "metadata": {},
     "output_type": "execute_result"
    }
   ],
   "source": [
    "appscoreFPD10 = gini_results.copy()\n",
    "print(f\"The shape of dataframe after copy is:\\t{appscoreFPD10.shape}\")\n",
    "appscoreFPD10.columns.values"
   ]
  },
  {
   "cell_type": "code",
   "execution_count": 13,
   "metadata": {},
   "outputs": [
    {
     "data": {
      "application/vnd.microsoft.datawrangler.viewer.v0+json": {
       "columns": [
        {
         "name": "index",
         "rawType": "int64",
         "type": "integer"
        },
        {
         "name": "start_date",
         "rawType": "datetime64[ns]",
         "type": "datetime"
        },
        {
         "name": "end_date",
         "rawType": "datetime64[ns]",
         "type": "datetime"
        },
        {
         "name": "s_apps_score_FPD10_gini",
         "rawType": "float64",
         "type": "float"
        },
        {
         "name": "period",
         "rawType": "object",
         "type": "string"
        },
        {
         "name": "Model_Name",
         "rawType": "object",
         "type": "string"
        },
        {
         "name": "version",
         "rawType": "object",
         "type": "string"
        },
        {
         "name": "bad_rate",
         "rawType": "object",
         "type": "string"
        }
       ],
       "conversionMethod": "pd.DataFrame",
       "ref": "9182c171-807f-4cf3-a895-5501281d00a6",
       "rows": [
        [
         "0",
         "2023-05-29 00:00:00",
         "2023-06-04 00:00:00",
         "0.5482295482295481",
         "Week",
         "s_apps_score",
         "1.1.0",
         "FPD10"
        ],
        [
         "1",
         "2023-06-01 00:00:00",
         "2023-06-30 00:00:00",
         "0.3846483704974273",
         "Month",
         "s_apps_score",
         "1.1.0",
         "FPD10"
        ],
        [
         "2",
         "2023-06-05 00:00:00",
         "2023-06-11 00:00:00",
         "0.5",
         "Week",
         "s_apps_score",
         "1.1.0",
         "FPD10"
        ],
        [
         "3",
         "2023-06-12 00:00:00",
         "2023-06-18 00:00:00",
         "0.5551948051948052",
         "Week",
         "s_apps_score",
         "1.1.0",
         "FPD10"
        ],
        [
         "4",
         "2023-06-19 00:00:00",
         "2023-06-25 00:00:00",
         "0.004830917874396157",
         "Week",
         "s_apps_score",
         "1.1.0",
         "FPD10"
        ]
       ],
       "shape": {
        "columns": 7,
        "rows": 5
       }
      },
      "text/html": [
       "<div>\n",
       "<style scoped>\n",
       "    .dataframe tbody tr th:only-of-type {\n",
       "        vertical-align: middle;\n",
       "    }\n",
       "\n",
       "    .dataframe tbody tr th {\n",
       "        vertical-align: top;\n",
       "    }\n",
       "\n",
       "    .dataframe thead th {\n",
       "        text-align: right;\n",
       "    }\n",
       "</style>\n",
       "<table border=\"1\" class=\"dataframe\">\n",
       "  <thead>\n",
       "    <tr style=\"text-align: right;\">\n",
       "      <th></th>\n",
       "      <th>start_date</th>\n",
       "      <th>end_date</th>\n",
       "      <th>s_apps_score_FPD10_gini</th>\n",
       "      <th>period</th>\n",
       "      <th>Model_Name</th>\n",
       "      <th>version</th>\n",
       "      <th>bad_rate</th>\n",
       "    </tr>\n",
       "  </thead>\n",
       "  <tbody>\n",
       "    <tr>\n",
       "      <th>0</th>\n",
       "      <td>2023-05-29</td>\n",
       "      <td>2023-06-04</td>\n",
       "      <td>0.548230</td>\n",
       "      <td>Week</td>\n",
       "      <td>s_apps_score</td>\n",
       "      <td>1.1.0</td>\n",
       "      <td>FPD10</td>\n",
       "    </tr>\n",
       "    <tr>\n",
       "      <th>1</th>\n",
       "      <td>2023-06-01</td>\n",
       "      <td>2023-06-30</td>\n",
       "      <td>0.384648</td>\n",
       "      <td>Month</td>\n",
       "      <td>s_apps_score</td>\n",
       "      <td>1.1.0</td>\n",
       "      <td>FPD10</td>\n",
       "    </tr>\n",
       "    <tr>\n",
       "      <th>2</th>\n",
       "      <td>2023-06-05</td>\n",
       "      <td>2023-06-11</td>\n",
       "      <td>0.500000</td>\n",
       "      <td>Week</td>\n",
       "      <td>s_apps_score</td>\n",
       "      <td>1.1.0</td>\n",
       "      <td>FPD10</td>\n",
       "    </tr>\n",
       "    <tr>\n",
       "      <th>3</th>\n",
       "      <td>2023-06-12</td>\n",
       "      <td>2023-06-18</td>\n",
       "      <td>0.555195</td>\n",
       "      <td>Week</td>\n",
       "      <td>s_apps_score</td>\n",
       "      <td>1.1.0</td>\n",
       "      <td>FPD10</td>\n",
       "    </tr>\n",
       "    <tr>\n",
       "      <th>4</th>\n",
       "      <td>2023-06-19</td>\n",
       "      <td>2023-06-25</td>\n",
       "      <td>0.004831</td>\n",
       "      <td>Week</td>\n",
       "      <td>s_apps_score</td>\n",
       "      <td>1.1.0</td>\n",
       "      <td>FPD10</td>\n",
       "    </tr>\n",
       "  </tbody>\n",
       "</table>\n",
       "</div>"
      ],
      "text/plain": [
       "  start_date   end_date  s_apps_score_FPD10_gini period    Model_Name version  \\\n",
       "0 2023-05-29 2023-06-04                 0.548230   Week  s_apps_score   1.1.0   \n",
       "1 2023-06-01 2023-06-30                 0.384648  Month  s_apps_score   1.1.0   \n",
       "2 2023-06-05 2023-06-11                 0.500000   Week  s_apps_score   1.1.0   \n",
       "3 2023-06-12 2023-06-18                 0.555195   Week  s_apps_score   1.1.0   \n",
       "4 2023-06-19 2023-06-25                 0.004831   Week  s_apps_score   1.1.0   \n",
       "\n",
       "  bad_rate  \n",
       "0    FPD10  \n",
       "1    FPD10  \n",
       "2    FPD10  \n",
       "3    FPD10  \n",
       "4    FPD10  "
      ]
     },
     "execution_count": 13,
     "metadata": {},
     "output_type": "execute_result"
    }
   ],
   "source": [
    "gini_results.head()"
   ]
  },
  {
   "cell_type": "markdown",
   "metadata": {},
   "source": [
    "# App Score FPD30"
   ]
  },
  {
   "cell_type": "code",
   "execution_count": 14,
   "metadata": {},
   "outputs": [
    {
     "name": "stdout",
     "output_type": "stream",
     "text": [
      "Job ID 7af57b01-7b68-4704-b9ef-7c458e9f6570 successfully executed: 100%|\u001b[32m██████████\u001b[0m|"
     ]
    },
    {
     "name": "stderr",
     "output_type": "stream",
     "text": [
      "d:\\Anaconda3\\envs\\inc_env\\lib\\site-packages\\google\\cloud\\bigquery\\table.py:1820: UserWarning: BigQuery Storage module not found, fetch data with the REST endpoint instead.\n",
      "  warnings.warn(\n"
     ]
    },
    {
     "name": "stdout",
     "output_type": "stream",
     "text": [
      "\n",
      "Downloading: 100%|\u001b[32m██████████\u001b[0m|\n"
     ]
    }
   ],
   "source": [
    "sq = \"\"\"\n",
    "with appscore as \n",
    "(SELECT \n",
    "    ln_disb_dtime disbursementdate,\n",
    "\tdigitalLoanAccountId,\n",
    "    s_apps_score,\n",
    "    ln_fpd30_flag,\n",
    "\tln_mature_fpd30_flag,\t\n",
    "\tFROM \n",
    "    prj-prod-dataplatform.risk_mart.sil_risk_ds_master_20230101_20250206\n",
    "  WHERE \n",
    "     -- ln_disb_dtime >= '2023-07-01'\n",
    "    ln_appln_submit_datetime >= '2023-06-01'\n",
    "  -- AND\n",
    "  --   format_date('%Y-%m', ln_disb_dtime) = '2024-09'\n",
    "  AND\n",
    "    ln_fpd30_flag is not null\n",
    "  AND\n",
    "    s_apps_score is not null\n",
    "  AND\n",
    "    ln_mature_fpd30_flag = 1\n",
    ")\n",
    "select * from appscore;\n",
    "\"\"\"\n",
    "\n",
    "dfappscorefpd30 = client.query(sq).to_dataframe(progress_bar_type = 'tqdm')"
   ]
  },
  {
   "cell_type": "code",
   "execution_count": 15,
   "metadata": {},
   "outputs": [
    {
     "data": {
      "application/vnd.microsoft.datawrangler.viewer.v0+json": {
       "columns": [
        {
         "name": "index",
         "rawType": "int64",
         "type": "integer"
        },
        {
         "name": "disbursementdate",
         "rawType": "datetime64[us]",
         "type": "unknown"
        },
        {
         "name": "digitalLoanAccountId",
         "rawType": "object",
         "type": "string"
        },
        {
         "name": "s_apps_score",
         "rawType": "float64",
         "type": "float"
        },
        {
         "name": "ln_fpd30_flag",
         "rawType": "Int64",
         "type": "integer"
        },
        {
         "name": "ln_mature_fpd30_flag",
         "rawType": "Int64",
         "type": "integer"
        }
       ],
       "conversionMethod": "pd.DataFrame",
       "ref": "63b50014-83f6-41cc-8b6f-d818ee88ae80",
       "rows": [
        [
         "0",
         "2023-06-01 10:42:34",
         "f91cba31-7630-477a-8cdd-d010b63c4900",
         "0.370617500264789",
         "0",
         "1"
        ],
        [
         "1",
         "2023-06-01 11:02:18",
         "7e7e7678-b36d-4b26-ad01-272565b54780",
         "0.4831152103350716",
         "0",
         "1"
        ],
        [
         "2",
         "2023-06-01 12:56:23",
         "e585b35d-bc13-494d-970d-2272d976991b",
         "0.4110071001869977",
         "0",
         "1"
        ],
        [
         "3",
         "2023-06-01 14:43:46",
         "4e78ebf3-256e-426c-8840-a7f9e1403a97",
         "0.5012665800155627",
         "0",
         "1"
        ],
        [
         "4",
         "2023-06-01 15:36:13",
         "a3dc185d-0118-4ebc-bf03-117fdd8f9c64",
         "0.5501044548152101",
         "0",
         "1"
        ]
       ],
       "shape": {
        "columns": 5,
        "rows": 5
       }
      },
      "text/html": [
       "<div>\n",
       "<style scoped>\n",
       "    .dataframe tbody tr th:only-of-type {\n",
       "        vertical-align: middle;\n",
       "    }\n",
       "\n",
       "    .dataframe tbody tr th {\n",
       "        vertical-align: top;\n",
       "    }\n",
       "\n",
       "    .dataframe thead th {\n",
       "        text-align: right;\n",
       "    }\n",
       "</style>\n",
       "<table border=\"1\" class=\"dataframe\">\n",
       "  <thead>\n",
       "    <tr style=\"text-align: right;\">\n",
       "      <th></th>\n",
       "      <th>disbursementdate</th>\n",
       "      <th>digitalLoanAccountId</th>\n",
       "      <th>s_apps_score</th>\n",
       "      <th>ln_fpd30_flag</th>\n",
       "      <th>ln_mature_fpd30_flag</th>\n",
       "    </tr>\n",
       "  </thead>\n",
       "  <tbody>\n",
       "    <tr>\n",
       "      <th>0</th>\n",
       "      <td>2023-06-01 10:42:34</td>\n",
       "      <td>f91cba31-7630-477a-8cdd-d010b63c4900</td>\n",
       "      <td>0.370618</td>\n",
       "      <td>0</td>\n",
       "      <td>1</td>\n",
       "    </tr>\n",
       "    <tr>\n",
       "      <th>1</th>\n",
       "      <td>2023-06-01 11:02:18</td>\n",
       "      <td>7e7e7678-b36d-4b26-ad01-272565b54780</td>\n",
       "      <td>0.483115</td>\n",
       "      <td>0</td>\n",
       "      <td>1</td>\n",
       "    </tr>\n",
       "    <tr>\n",
       "      <th>2</th>\n",
       "      <td>2023-06-01 12:56:23</td>\n",
       "      <td>e585b35d-bc13-494d-970d-2272d976991b</td>\n",
       "      <td>0.411007</td>\n",
       "      <td>0</td>\n",
       "      <td>1</td>\n",
       "    </tr>\n",
       "    <tr>\n",
       "      <th>3</th>\n",
       "      <td>2023-06-01 14:43:46</td>\n",
       "      <td>4e78ebf3-256e-426c-8840-a7f9e1403a97</td>\n",
       "      <td>0.501267</td>\n",
       "      <td>0</td>\n",
       "      <td>1</td>\n",
       "    </tr>\n",
       "    <tr>\n",
       "      <th>4</th>\n",
       "      <td>2023-06-01 15:36:13</td>\n",
       "      <td>a3dc185d-0118-4ebc-bf03-117fdd8f9c64</td>\n",
       "      <td>0.550104</td>\n",
       "      <td>0</td>\n",
       "      <td>1</td>\n",
       "    </tr>\n",
       "  </tbody>\n",
       "</table>\n",
       "</div>"
      ],
      "text/plain": [
       "     disbursementdate                  digitalLoanAccountId  s_apps_score  \\\n",
       "0 2023-06-01 10:42:34  f91cba31-7630-477a-8cdd-d010b63c4900      0.370618   \n",
       "1 2023-06-01 11:02:18  7e7e7678-b36d-4b26-ad01-272565b54780      0.483115   \n",
       "2 2023-06-01 12:56:23  e585b35d-bc13-494d-970d-2272d976991b      0.411007   \n",
       "3 2023-06-01 14:43:46  4e78ebf3-256e-426c-8840-a7f9e1403a97      0.501267   \n",
       "4 2023-06-01 15:36:13  a3dc185d-0118-4ebc-bf03-117fdd8f9c64      0.550104   \n",
       "\n",
       "   ln_fpd30_flag  ln_mature_fpd30_flag  \n",
       "0              0                     1  \n",
       "1              0                     1  \n",
       "2              0                     1  \n",
       "3              0                     1  \n",
       "4              0                     1  "
      ]
     },
     "execution_count": 15,
     "metadata": {},
     "output_type": "execute_result"
    }
   ],
   "source": [
    "dfappscorefpd30.head()"
   ]
  },
  {
   "cell_type": "code",
   "execution_count": 16,
   "metadata": {},
   "outputs": [
    {
     "name": "stdout",
     "output_type": "stream",
     "text": [
      "The shape of dataframe after copy is:\t(102, 7)\n"
     ]
    },
    {
     "data": {
      "text/plain": [
       "array(['start_date', 'end_date', 's_apps_score_FPD30_gini', 'period',\n",
       "       'Model_Name', 'version', 'bad_rate'], dtype=object)"
      ]
     },
     "execution_count": 16,
     "metadata": {},
     "output_type": "execute_result"
    }
   ],
   "source": [
    "gini_results = calculate_periodic_gini(dfappscorefpd30, 's_apps_score', 'ln_fpd30_flag', 'FPD30')\n",
    "# gini_results['bad_rate'] = 'FPD30'\n",
    "appscoreFPD30 = gini_results.copy()\n",
    "print(f\"The shape of dataframe after copy is:\\t{appscoreFPD30.shape}\")\n",
    "appscoreFPD30.columns.values"
   ]
  },
  {
   "cell_type": "code",
   "execution_count": 17,
   "metadata": {},
   "outputs": [
    {
     "data": {
      "application/vnd.microsoft.datawrangler.viewer.v0+json": {
       "columns": [
        {
         "name": "index",
         "rawType": "int64",
         "type": "integer"
        },
        {
         "name": "start_date",
         "rawType": "datetime64[ns]",
         "type": "datetime"
        },
        {
         "name": "end_date",
         "rawType": "datetime64[ns]",
         "type": "datetime"
        },
        {
         "name": "s_apps_score_FPD30_gini",
         "rawType": "float64",
         "type": "float"
        },
        {
         "name": "period",
         "rawType": "object",
         "type": "string"
        },
        {
         "name": "Model_Name",
         "rawType": "object",
         "type": "string"
        },
        {
         "name": "version",
         "rawType": "object",
         "type": "string"
        },
        {
         "name": "bad_rate",
         "rawType": "object",
         "type": "string"
        }
       ],
       "conversionMethod": "pd.DataFrame",
       "ref": "600948e5-5104-4d72-be31-7430844832ed",
       "rows": [
        [
         "98",
         "2024-12-02 00:00:00",
         "2024-12-08 00:00:00",
         "0.3291444371097427",
         "Week",
         "s_apps_score",
         "1.1.0",
         "FPD30"
        ],
        [
         "37",
         "2023-12-25 00:00:00",
         "2023-12-31 00:00:00",
         "0.4174347941665584",
         "Week",
         "s_apps_score",
         "1.1.0",
         "FPD30"
        ],
        [
         "49",
         "2024-03-01 00:00:00",
         "2024-03-31 00:00:00",
         "0.41353254531568107",
         "Month",
         "s_apps_score",
         "1.1.0",
         "FPD30"
        ],
        [
         "20",
         "2023-09-18 00:00:00",
         "2023-09-24 00:00:00",
         "0.16941540843979874",
         "Week",
         "s_apps_score",
         "1.1.0",
         "FPD30"
        ],
        [
         "27",
         "2023-10-30 00:00:00",
         "2023-11-05 00:00:00",
         "0.39136567801328903",
         "Week",
         "s_apps_score",
         "1.1.0",
         "FPD30"
        ]
       ],
       "shape": {
        "columns": 7,
        "rows": 5
       }
      },
      "text/html": [
       "<div>\n",
       "<style scoped>\n",
       "    .dataframe tbody tr th:only-of-type {\n",
       "        vertical-align: middle;\n",
       "    }\n",
       "\n",
       "    .dataframe tbody tr th {\n",
       "        vertical-align: top;\n",
       "    }\n",
       "\n",
       "    .dataframe thead th {\n",
       "        text-align: right;\n",
       "    }\n",
       "</style>\n",
       "<table border=\"1\" class=\"dataframe\">\n",
       "  <thead>\n",
       "    <tr style=\"text-align: right;\">\n",
       "      <th></th>\n",
       "      <th>start_date</th>\n",
       "      <th>end_date</th>\n",
       "      <th>s_apps_score_FPD30_gini</th>\n",
       "      <th>period</th>\n",
       "      <th>Model_Name</th>\n",
       "      <th>version</th>\n",
       "      <th>bad_rate</th>\n",
       "    </tr>\n",
       "  </thead>\n",
       "  <tbody>\n",
       "    <tr>\n",
       "      <th>98</th>\n",
       "      <td>2024-12-02</td>\n",
       "      <td>2024-12-08</td>\n",
       "      <td>0.329144</td>\n",
       "      <td>Week</td>\n",
       "      <td>s_apps_score</td>\n",
       "      <td>1.1.0</td>\n",
       "      <td>FPD30</td>\n",
       "    </tr>\n",
       "    <tr>\n",
       "      <th>37</th>\n",
       "      <td>2023-12-25</td>\n",
       "      <td>2023-12-31</td>\n",
       "      <td>0.417435</td>\n",
       "      <td>Week</td>\n",
       "      <td>s_apps_score</td>\n",
       "      <td>1.1.0</td>\n",
       "      <td>FPD30</td>\n",
       "    </tr>\n",
       "    <tr>\n",
       "      <th>49</th>\n",
       "      <td>2024-03-01</td>\n",
       "      <td>2024-03-31</td>\n",
       "      <td>0.413533</td>\n",
       "      <td>Month</td>\n",
       "      <td>s_apps_score</td>\n",
       "      <td>1.1.0</td>\n",
       "      <td>FPD30</td>\n",
       "    </tr>\n",
       "    <tr>\n",
       "      <th>20</th>\n",
       "      <td>2023-09-18</td>\n",
       "      <td>2023-09-24</td>\n",
       "      <td>0.169415</td>\n",
       "      <td>Week</td>\n",
       "      <td>s_apps_score</td>\n",
       "      <td>1.1.0</td>\n",
       "      <td>FPD30</td>\n",
       "    </tr>\n",
       "    <tr>\n",
       "      <th>27</th>\n",
       "      <td>2023-10-30</td>\n",
       "      <td>2023-11-05</td>\n",
       "      <td>0.391366</td>\n",
       "      <td>Week</td>\n",
       "      <td>s_apps_score</td>\n",
       "      <td>1.1.0</td>\n",
       "      <td>FPD30</td>\n",
       "    </tr>\n",
       "  </tbody>\n",
       "</table>\n",
       "</div>"
      ],
      "text/plain": [
       "   start_date   end_date  s_apps_score_FPD30_gini period    Model_Name  \\\n",
       "98 2024-12-02 2024-12-08                 0.329144   Week  s_apps_score   \n",
       "37 2023-12-25 2023-12-31                 0.417435   Week  s_apps_score   \n",
       "49 2024-03-01 2024-03-31                 0.413533  Month  s_apps_score   \n",
       "20 2023-09-18 2023-09-24                 0.169415   Week  s_apps_score   \n",
       "27 2023-10-30 2023-11-05                 0.391366   Week  s_apps_score   \n",
       "\n",
       "   version bad_rate  \n",
       "98   1.1.0    FPD30  \n",
       "37   1.1.0    FPD30  \n",
       "49   1.1.0    FPD30  \n",
       "20   1.1.0    FPD30  \n",
       "27   1.1.0    FPD30  "
      ]
     },
     "execution_count": 17,
     "metadata": {},
     "output_type": "execute_result"
    }
   ],
   "source": [
    "gini_results.sample(5)"
   ]
  },
  {
   "cell_type": "markdown",
   "metadata": {},
   "source": [
    "# App Score FSPD30"
   ]
  },
  {
   "cell_type": "code",
   "execution_count": 18,
   "metadata": {},
   "outputs": [
    {
     "name": "stdout",
     "output_type": "stream",
     "text": [
      "Job ID 656ea9d7-dae6-4105-a1f8-5ad5ca963b4a successfully executed: 100%|\u001b[32m██████████\u001b[0m|"
     ]
    },
    {
     "name": "stderr",
     "output_type": "stream",
     "text": [
      "d:\\Anaconda3\\envs\\inc_env\\lib\\site-packages\\google\\cloud\\bigquery\\table.py:1820: UserWarning: BigQuery Storage module not found, fetch data with the REST endpoint instead.\n",
      "  warnings.warn(\n"
     ]
    },
    {
     "name": "stdout",
     "output_type": "stream",
     "text": [
      "\n",
      "Downloading: 100%|\u001b[32m██████████\u001b[0m|\n"
     ]
    }
   ],
   "source": [
    "sq = \"\"\"with appscore as \n",
    "(SELECT \n",
    "    ln_disb_dtime disbursementdate,\n",
    "\tdigitalLoanAccountId,\n",
    "    s_apps_score,\n",
    "    ln_fspd30_flag,\n",
    "\tln_mature_fspd30_flag,\t\n",
    "\tFROM \n",
    "    prj-prod-dataplatform.risk_mart.sil_risk_ds_master_20230101_20250206\n",
    "  WHERE \n",
    "     -- ln_disb_dtime >= '2023-07-01'\n",
    "    ln_appln_submit_datetime >= '2023-06-01'\n",
    "  -- AND\n",
    "  --   format_date('%Y-%m', ln_disb_dtime) = '2024-09'\n",
    "  AND\n",
    "    ln_fspd30_flag is not null\n",
    "  AND\n",
    "    s_apps_score is not null\n",
    "  AND\n",
    "    ln_mature_fspd30_flag = 1\n",
    ")\n",
    "select * from appscore;\n",
    "\"\"\"\n",
    "\n",
    "dfappscorefspd30 = client.query(sq).to_dataframe(progress_bar_type = 'tqdm')"
   ]
  },
  {
   "cell_type": "code",
   "execution_count": 19,
   "metadata": {},
   "outputs": [
    {
     "name": "stdout",
     "output_type": "stream",
     "text": [
      "The shape of dataframe after copy is:\t(97, 7)\n"
     ]
    },
    {
     "data": {
      "text/plain": [
       "array(['start_date', 'end_date', 's_apps_score_FSPD30_gini', 'period',\n",
       "       'Model_Name', 'version', 'bad_rate'], dtype=object)"
      ]
     },
     "execution_count": 19,
     "metadata": {},
     "output_type": "execute_result"
    }
   ],
   "source": [
    "gini_results = calculate_periodic_gini(dfappscorefspd30, 's_apps_score', 'ln_fspd30_flag', 'FSPD30')\n",
    "# gini_results['bad_rate'] = 'FSPD30'\n",
    "appscoreFSPD30 = gini_results.copy()\n",
    "print(f\"The shape of dataframe after copy is:\\t{appscoreFSPD30.shape}\")\n",
    "appscoreFSPD30.columns.values"
   ]
  },
  {
   "cell_type": "code",
   "execution_count": 20,
   "metadata": {},
   "outputs": [
    {
     "data": {
      "application/vnd.microsoft.datawrangler.viewer.v0+json": {
       "columns": [
        {
         "name": "index",
         "rawType": "int64",
         "type": "integer"
        },
        {
         "name": "start_date",
         "rawType": "datetime64[ns]",
         "type": "datetime"
        },
        {
         "name": "end_date",
         "rawType": "datetime64[ns]",
         "type": "datetime"
        },
        {
         "name": "s_apps_score_FSPD30_gini",
         "rawType": "float64",
         "type": "float"
        },
        {
         "name": "period",
         "rawType": "object",
         "type": "string"
        },
        {
         "name": "Model_Name",
         "rawType": "object",
         "type": "string"
        },
        {
         "name": "version",
         "rawType": "object",
         "type": "string"
        },
        {
         "name": "bad_rate",
         "rawType": "object",
         "type": "string"
        }
       ],
       "conversionMethod": "pd.DataFrame",
       "ref": "385b4eff-4c6c-40bd-a6b7-372d0acc87c8",
       "rows": [
        [
         "92",
         "2024-11-01 00:00:00",
         "2024-11-30 00:00:00",
         "0.2985952496401718",
         "Month",
         "s_apps_score",
         "1.1.0",
         "FSPD30"
        ],
        [
         "93",
         "2024-11-04 00:00:00",
         "2024-11-10 00:00:00",
         "0.29569770289959396",
         "Week",
         "s_apps_score",
         "1.1.0",
         "FSPD30"
        ],
        [
         "94",
         "2024-11-11 00:00:00",
         "2024-11-17 00:00:00",
         "0.3067296340023613",
         "Week",
         "s_apps_score",
         "1.1.0",
         "FSPD30"
        ],
        [
         "95",
         "2024-11-18 00:00:00",
         "2024-11-24 00:00:00",
         "0.2777362862757071",
         "Week",
         "s_apps_score",
         "1.1.0",
         "FSPD30"
        ],
        [
         "96",
         "2024-11-25 00:00:00",
         "2024-12-01 00:00:00",
         "0.24597207303974233",
         "Week",
         "s_apps_score",
         "1.1.0",
         "FSPD30"
        ]
       ],
       "shape": {
        "columns": 7,
        "rows": 5
       }
      },
      "text/html": [
       "<div>\n",
       "<style scoped>\n",
       "    .dataframe tbody tr th:only-of-type {\n",
       "        vertical-align: middle;\n",
       "    }\n",
       "\n",
       "    .dataframe tbody tr th {\n",
       "        vertical-align: top;\n",
       "    }\n",
       "\n",
       "    .dataframe thead th {\n",
       "        text-align: right;\n",
       "    }\n",
       "</style>\n",
       "<table border=\"1\" class=\"dataframe\">\n",
       "  <thead>\n",
       "    <tr style=\"text-align: right;\">\n",
       "      <th></th>\n",
       "      <th>start_date</th>\n",
       "      <th>end_date</th>\n",
       "      <th>s_apps_score_FSPD30_gini</th>\n",
       "      <th>period</th>\n",
       "      <th>Model_Name</th>\n",
       "      <th>version</th>\n",
       "      <th>bad_rate</th>\n",
       "    </tr>\n",
       "  </thead>\n",
       "  <tbody>\n",
       "    <tr>\n",
       "      <th>92</th>\n",
       "      <td>2024-11-01</td>\n",
       "      <td>2024-11-30</td>\n",
       "      <td>0.298595</td>\n",
       "      <td>Month</td>\n",
       "      <td>s_apps_score</td>\n",
       "      <td>1.1.0</td>\n",
       "      <td>FSPD30</td>\n",
       "    </tr>\n",
       "    <tr>\n",
       "      <th>93</th>\n",
       "      <td>2024-11-04</td>\n",
       "      <td>2024-11-10</td>\n",
       "      <td>0.295698</td>\n",
       "      <td>Week</td>\n",
       "      <td>s_apps_score</td>\n",
       "      <td>1.1.0</td>\n",
       "      <td>FSPD30</td>\n",
       "    </tr>\n",
       "    <tr>\n",
       "      <th>94</th>\n",
       "      <td>2024-11-11</td>\n",
       "      <td>2024-11-17</td>\n",
       "      <td>0.306730</td>\n",
       "      <td>Week</td>\n",
       "      <td>s_apps_score</td>\n",
       "      <td>1.1.0</td>\n",
       "      <td>FSPD30</td>\n",
       "    </tr>\n",
       "    <tr>\n",
       "      <th>95</th>\n",
       "      <td>2024-11-18</td>\n",
       "      <td>2024-11-24</td>\n",
       "      <td>0.277736</td>\n",
       "      <td>Week</td>\n",
       "      <td>s_apps_score</td>\n",
       "      <td>1.1.0</td>\n",
       "      <td>FSPD30</td>\n",
       "    </tr>\n",
       "    <tr>\n",
       "      <th>96</th>\n",
       "      <td>2024-11-25</td>\n",
       "      <td>2024-12-01</td>\n",
       "      <td>0.245972</td>\n",
       "      <td>Week</td>\n",
       "      <td>s_apps_score</td>\n",
       "      <td>1.1.0</td>\n",
       "      <td>FSPD30</td>\n",
       "    </tr>\n",
       "  </tbody>\n",
       "</table>\n",
       "</div>"
      ],
      "text/plain": [
       "   start_date   end_date  s_apps_score_FSPD30_gini period    Model_Name  \\\n",
       "92 2024-11-01 2024-11-30                  0.298595  Month  s_apps_score   \n",
       "93 2024-11-04 2024-11-10                  0.295698   Week  s_apps_score   \n",
       "94 2024-11-11 2024-11-17                  0.306730   Week  s_apps_score   \n",
       "95 2024-11-18 2024-11-24                  0.277736   Week  s_apps_score   \n",
       "96 2024-11-25 2024-12-01                  0.245972   Week  s_apps_score   \n",
       "\n",
       "   version bad_rate  \n",
       "92   1.1.0   FSPD30  \n",
       "93   1.1.0   FSPD30  \n",
       "94   1.1.0   FSPD30  \n",
       "95   1.1.0   FSPD30  \n",
       "96   1.1.0   FSPD30  "
      ]
     },
     "execution_count": 20,
     "metadata": {},
     "output_type": "execute_result"
    }
   ],
   "source": [
    "gini_results.tail()"
   ]
  },
  {
   "cell_type": "markdown",
   "metadata": {},
   "source": [
    "# App Score FSTPD30"
   ]
  },
  {
   "cell_type": "code",
   "execution_count": 21,
   "metadata": {},
   "outputs": [
    {
     "name": "stdout",
     "output_type": "stream",
     "text": [
      "Job ID fa27dab1-8554-4eb5-9027-8744f67f02be successfully executed: 100%|\u001b[32m██████████\u001b[0m|"
     ]
    },
    {
     "name": "stderr",
     "output_type": "stream",
     "text": [
      "d:\\Anaconda3\\envs\\inc_env\\lib\\site-packages\\google\\cloud\\bigquery\\table.py:1820: UserWarning: BigQuery Storage module not found, fetch data with the REST endpoint instead.\n",
      "  warnings.warn(\n"
     ]
    },
    {
     "name": "stdout",
     "output_type": "stream",
     "text": [
      "\n",
      "Downloading: 100%|\u001b[32m██████████\u001b[0m|\n"
     ]
    }
   ],
   "source": [
    "sq = \"\"\"with appscore as \n",
    "(SELECT \n",
    "    ln_disb_dtime disbursementdate,\n",
    "\tdigitalLoanAccountId,\n",
    "    s_apps_score,\n",
    "    ln_fstpd30_flag,\n",
    "\tln_mature_fstpd30_flag,\t\n",
    "\tFROM \n",
    "    prj-prod-dataplatform.risk_mart.sil_risk_ds_master_20230101_20250206\n",
    "  WHERE \n",
    "     -- ln_disb_dtime >= '2023-07-01'\n",
    "    ln_appln_submit_datetime >= '2023-06-01'\n",
    "  -- AND\n",
    "  --   format_date('%Y-%m', ln_disb_dtime) = '2024-09'\n",
    "  AND\n",
    "    ln_fstpd30_flag is not null\n",
    "  AND\n",
    "    s_apps_score is not null\n",
    "  AND\n",
    "    ln_mature_fstpd30_flag = 1\n",
    ")\n",
    "select * from appscore;\n",
    "\"\"\"\n",
    "\n",
    "dfappscorefstpd30 = client.query(sq).to_dataframe(progress_bar_type = 'tqdm')"
   ]
  },
  {
   "cell_type": "code",
   "execution_count": 22,
   "metadata": {},
   "outputs": [
    {
     "name": "stdout",
     "output_type": "stream",
     "text": [
      "The shape of dataframe after copy is:\t(91, 7)\n"
     ]
    },
    {
     "data": {
      "text/plain": [
       "array(['start_date', 'end_date', 's_apps_score_FSTPD30_gini', 'period',\n",
       "       'Model_Name', 'version', 'bad_rate'], dtype=object)"
      ]
     },
     "execution_count": 22,
     "metadata": {},
     "output_type": "execute_result"
    }
   ],
   "source": [
    "gini_results = calculate_periodic_gini(dfappscorefstpd30, 's_apps_score', 'ln_fstpd30_flag', 'FSTPD30')\n",
    "# gini_results['bad_rate'] = 'FSTPD30'\n",
    "appscoreFSTPD30 = gini_results.copy()\n",
    "print(f\"The shape of dataframe after copy is:\\t{appscoreFSTPD30.shape}\")\n",
    "appscoreFSTPD30.columns.values"
   ]
  },
  {
   "cell_type": "code",
   "execution_count": 23,
   "metadata": {},
   "outputs": [
    {
     "data": {
      "application/vnd.microsoft.datawrangler.viewer.v0+json": {
       "columns": [
        {
         "name": "index",
         "rawType": "int64",
         "type": "integer"
        },
        {
         "name": "start_date",
         "rawType": "datetime64[ns]",
         "type": "datetime"
        },
        {
         "name": "end_date",
         "rawType": "datetime64[ns]",
         "type": "datetime"
        },
        {
         "name": "s_apps_score_FSTPD30_gini",
         "rawType": "float64",
         "type": "float"
        },
        {
         "name": "period",
         "rawType": "object",
         "type": "string"
        },
        {
         "name": "Model_Name",
         "rawType": "object",
         "type": "string"
        },
        {
         "name": "version",
         "rawType": "object",
         "type": "string"
        },
        {
         "name": "bad_rate",
         "rawType": "object",
         "type": "string"
        }
       ],
       "conversionMethod": "pd.DataFrame",
       "ref": "006c4ca0-314e-4d03-84fb-b2123f091287",
       "rows": [
        [
         "0",
         "2023-05-29 00:00:00",
         "2023-06-04 00:00:00",
         "0.46509803921568627",
         "Week",
         "s_apps_score",
         "1.1.0",
         "FSTPD30"
        ],
        [
         "1",
         "2023-06-01 00:00:00",
         "2023-06-30 00:00:00",
         "0.3374202879495103",
         "Month",
         "s_apps_score",
         "1.1.0",
         "FSTPD30"
        ],
        [
         "2",
         "2023-06-05 00:00:00",
         "2023-06-11 00:00:00",
         "0.41330049261083746",
         "Week",
         "s_apps_score",
         "1.1.0",
         "FSTPD30"
        ],
        [
         "3",
         "2023-06-12 00:00:00",
         "2023-06-18 00:00:00",
         "0.3956762192056311",
         "Week",
         "s_apps_score",
         "1.1.0",
         "FSTPD30"
        ],
        [
         "4",
         "2023-06-19 00:00:00",
         "2023-06-25 00:00:00",
         "0.31449745252431693",
         "Week",
         "s_apps_score",
         "1.1.0",
         "FSTPD30"
        ]
       ],
       "shape": {
        "columns": 7,
        "rows": 5
       }
      },
      "text/html": [
       "<div>\n",
       "<style scoped>\n",
       "    .dataframe tbody tr th:only-of-type {\n",
       "        vertical-align: middle;\n",
       "    }\n",
       "\n",
       "    .dataframe tbody tr th {\n",
       "        vertical-align: top;\n",
       "    }\n",
       "\n",
       "    .dataframe thead th {\n",
       "        text-align: right;\n",
       "    }\n",
       "</style>\n",
       "<table border=\"1\" class=\"dataframe\">\n",
       "  <thead>\n",
       "    <tr style=\"text-align: right;\">\n",
       "      <th></th>\n",
       "      <th>start_date</th>\n",
       "      <th>end_date</th>\n",
       "      <th>s_apps_score_FSTPD30_gini</th>\n",
       "      <th>period</th>\n",
       "      <th>Model_Name</th>\n",
       "      <th>version</th>\n",
       "      <th>bad_rate</th>\n",
       "    </tr>\n",
       "  </thead>\n",
       "  <tbody>\n",
       "    <tr>\n",
       "      <th>0</th>\n",
       "      <td>2023-05-29</td>\n",
       "      <td>2023-06-04</td>\n",
       "      <td>0.465098</td>\n",
       "      <td>Week</td>\n",
       "      <td>s_apps_score</td>\n",
       "      <td>1.1.0</td>\n",
       "      <td>FSTPD30</td>\n",
       "    </tr>\n",
       "    <tr>\n",
       "      <th>1</th>\n",
       "      <td>2023-06-01</td>\n",
       "      <td>2023-06-30</td>\n",
       "      <td>0.337420</td>\n",
       "      <td>Month</td>\n",
       "      <td>s_apps_score</td>\n",
       "      <td>1.1.0</td>\n",
       "      <td>FSTPD30</td>\n",
       "    </tr>\n",
       "    <tr>\n",
       "      <th>2</th>\n",
       "      <td>2023-06-05</td>\n",
       "      <td>2023-06-11</td>\n",
       "      <td>0.413300</td>\n",
       "      <td>Week</td>\n",
       "      <td>s_apps_score</td>\n",
       "      <td>1.1.0</td>\n",
       "      <td>FSTPD30</td>\n",
       "    </tr>\n",
       "    <tr>\n",
       "      <th>3</th>\n",
       "      <td>2023-06-12</td>\n",
       "      <td>2023-06-18</td>\n",
       "      <td>0.395676</td>\n",
       "      <td>Week</td>\n",
       "      <td>s_apps_score</td>\n",
       "      <td>1.1.0</td>\n",
       "      <td>FSTPD30</td>\n",
       "    </tr>\n",
       "    <tr>\n",
       "      <th>4</th>\n",
       "      <td>2023-06-19</td>\n",
       "      <td>2023-06-25</td>\n",
       "      <td>0.314497</td>\n",
       "      <td>Week</td>\n",
       "      <td>s_apps_score</td>\n",
       "      <td>1.1.0</td>\n",
       "      <td>FSTPD30</td>\n",
       "    </tr>\n",
       "  </tbody>\n",
       "</table>\n",
       "</div>"
      ],
      "text/plain": [
       "  start_date   end_date  s_apps_score_FSTPD30_gini period    Model_Name  \\\n",
       "0 2023-05-29 2023-06-04                   0.465098   Week  s_apps_score   \n",
       "1 2023-06-01 2023-06-30                   0.337420  Month  s_apps_score   \n",
       "2 2023-06-05 2023-06-11                   0.413300   Week  s_apps_score   \n",
       "3 2023-06-12 2023-06-18                   0.395676   Week  s_apps_score   \n",
       "4 2023-06-19 2023-06-25                   0.314497   Week  s_apps_score   \n",
       "\n",
       "  version bad_rate  \n",
       "0   1.1.0  FSTPD30  \n",
       "1   1.1.0  FSTPD30  \n",
       "2   1.1.0  FSTPD30  \n",
       "3   1.1.0  FSTPD30  \n",
       "4   1.1.0  FSTPD30  "
      ]
     },
     "execution_count": 23,
     "metadata": {},
     "output_type": "execute_result"
    }
   ],
   "source": [
    "appscoreFSTPD30.head()"
   ]
  },
  {
   "cell_type": "markdown",
   "metadata": {},
   "source": [
    "# Combining App Score"
   ]
  },
  {
   "cell_type": "code",
   "execution_count": 24,
   "metadata": {},
   "outputs": [
    {
     "data": {
      "text/plain": [
       "array(['start_date', 'end_date', 's_apps_score_FPD10_gini', 'period',\n",
       "       'Model_Name', 'version', 'bad_rate', 's_apps_score_FPD30_gini',\n",
       "       's_apps_score_FSPD30_gini', 's_apps_score_FSTPD30_gini'],\n",
       "      dtype=object)"
      ]
     },
     "execution_count": 24,
     "metadata": {},
     "output_type": "execute_result"
    }
   ],
   "source": [
    "import functools\n",
    "\n",
    "dataframes = [appscoreFPD10, appscoreFPD30, appscoreFSPD30, appscoreFSTPD30]\n",
    "common_columns = ['start_date', 'end_date', 'period', 'Model_Name','version', 'bad_rate']\n",
    "\n",
    "def merge_dataframes(df1, df2):\n",
    "    return pd.merge(df1, df2, on=common_columns, how='outer')\n",
    "\n",
    "final_df = functools.reduce(merge_dataframes, dataframes)\n",
    "\n",
    "final_df.columns.values"
   ]
  },
  {
   "cell_type": "code",
   "execution_count": 25,
   "metadata": {},
   "outputs": [
    {
     "data": {
      "text/plain": [
       "start_date                   datetime64[ns]\n",
       "end_date                     datetime64[ns]\n",
       "period                               object\n",
       "Model_Name                           object\n",
       "version                              object\n",
       "bad_rate                             object\n",
       "s_apps_score_FSTPD30_gini           float64\n",
       "s_apps_score_FSPD30_gini            float64\n",
       "s_apps_score_FPD30_gini             float64\n",
       "s_apps_score_FPD10_gini             float64\n",
       "dtype: object"
      ]
     },
     "execution_count": 25,
     "metadata": {},
     "output_type": "execute_result"
    }
   ],
   "source": [
    "final_df = final_df[['start_date', 'end_date', 'period',   'Model_Name', 'version', 'bad_rate','s_apps_score_FSTPD30_gini','s_apps_score_FSPD30_gini',\n",
    "       's_apps_score_FPD30_gini', 's_apps_score_FPD10_gini']].copy()\n",
    "final_df.dtypes"
   ]
  },
  {
   "cell_type": "markdown",
   "metadata": {},
   "source": [
    "## Creating app score table "
   ]
  },
  {
   "cell_type": "code",
   "execution_count": 26,
   "metadata": {},
   "outputs": [
    {
     "data": {
      "text/plain": [
       "QueryJob<project=prj-prod-dataplatform, location=asia-southeast1, id=256bef3a-35e6-442b-ab53-064742035d6f>"
      ]
     },
     "execution_count": 26,
     "metadata": {},
     "output_type": "execute_result"
    }
   ],
   "source": [
    "sq = \"\"\"drop table if exists prj-prod-dataplatform.dap_ds_poweruser_playground.Model_gini_s_apps_score;\"\"\"\n",
    "client.query(sq)"
   ]
  },
  {
   "cell_type": "code",
   "execution_count": 27,
   "metadata": {},
   "outputs": [
    {
     "data": {
      "text/plain": [
       "LoadJob<project=prj-prod-dataplatform, location=asia-southeast1, id=36ea271f-d6e6-4bd5-8d0f-7a30262d06b3>"
      ]
     },
     "execution_count": 27,
     "metadata": {},
     "output_type": "execute_result"
    }
   ],
   "source": [
    "import pandas as pd\n",
    "from google.cloud import bigquery\n",
    "\n",
    "# Create a BigQuery client\n",
    "client = bigquery.Client('prj-prod-dataplatform')\n",
    "\n",
    "# Define your table schema\n",
    "table_schema = [\n",
    "    bigquery.SchemaField('start_date', 'TIMESTAMP'),\n",
    "    bigquery.SchemaField('end_date', 'TIMESTAMP'),\n",
    "    bigquery.SchemaField('period', 'STRING'),\n",
    "    bigquery.SchemaField('Model_Name', 'STRING'),\n",
    "    bigquery.SchemaField('version', 'STRING'),\n",
    "    bigquery.SchemaField('Badrate', 'STRING'),\n",
    "    bigquery.SchemaField('s_apps_score_FSTPD30_gini', 'FLOAT'),\n",
    "    bigquery.SchemaField('s_apps_score_FSPD30_gini', 'FLOAT'),\n",
    "    bigquery.SchemaField('s_apps_score_FPD30_gini', 'FLOAT'),\n",
    "    bigquery.SchemaField('s_apps_score_fpd10_gini', 'FLOAT')\n",
    "]\n",
    "\n",
    "# Create your BigQuery table\n",
    "table_id = 'prj-prod-dataplatform.dap_ds_poweruser_playground.Model_gini_s_apps_score'\n",
    "table = bigquery.Table(table_id, schema=table_schema)\n",
    "table = client.create_table(table)\n",
    "\n",
    "# Load your DataFrame into BigQuery\n",
    "job_config = bigquery.LoadJobConfig(\n",
    "    write_disposition='WRITE_TRUNCATE'\n",
    ")\n",
    "\n",
    "load_job = client.load_table_from_dataframe(\n",
    "    final_df, table_id, job_config=job_config\n",
    ")\n",
    "\n",
    "load_job.result()"
   ]
  },
  {
   "cell_type": "markdown",
   "metadata": {},
   "source": [
    "# sb_demo_score"
   ]
  },
  {
   "cell_type": "markdown",
   "metadata": {},
   "source": [
    "## FPD10"
   ]
  },
  {
   "cell_type": "code",
   "execution_count": 28,
   "metadata": {},
   "outputs": [
    {
     "name": "stdout",
     "output_type": "stream",
     "text": [
      "Job ID cc006fcb-a356-40cf-aa35-9fce466d77b0 successfully executed: 100%|\u001b[32m██████████\u001b[0m|"
     ]
    },
    {
     "name": "stderr",
     "output_type": "stream",
     "text": [
      "d:\\Anaconda3\\envs\\inc_env\\lib\\site-packages\\google\\cloud\\bigquery\\table.py:1820: UserWarning: BigQuery Storage module not found, fetch data with the REST endpoint instead.\n",
      "  warnings.warn(\n"
     ]
    },
    {
     "name": "stdout",
     "output_type": "stream",
     "text": [
      "\n",
      "Downloading: 100%|\u001b[32m██████████\u001b[0m|\n"
     ]
    }
   ],
   "source": [
    "sq = \"\"\"\n",
    "with sb_demo_score as \n",
    "(SELECT \n",
    "    ln_disb_dtime disbursementdate,\n",
    "\tdigitalLoanAccountId,\n",
    "    sb_demo_score,\n",
    "    ln_fpd10_flag,\n",
    "\tln_mature_fpd10_flag,\t\n",
    "\tFROM \n",
    "    prj-prod-dataplatform.risk_mart.sil_risk_ds_master_20230101_20250206\n",
    "  WHERE \n",
    "     -- ln_disb_dtime >= '2023-07-01'\n",
    "    ln_appln_submit_datetime >= '2023-06-01'\n",
    "  -- AND\n",
    "  --   format_date('%Y-%m', ln_disb_dtime) = '2024-09'\n",
    "  AND\n",
    "    ln_fpd10_flag is not null\n",
    "  AND\n",
    "    sb_demo_score is not null\n",
    "  AND\n",
    "    ln_mature_fpd10_flag = 1\n",
    ")\n",
    "select * from sb_demo_score;\n",
    "\"\"\"\n",
    "\n",
    "df_sb_demo_scorefpd10 = client.query(sq).to_dataframe(progress_bar_type='tqdm')"
   ]
  },
  {
   "cell_type": "code",
   "execution_count": 29,
   "metadata": {},
   "outputs": [
    {
     "data": {
      "application/vnd.microsoft.datawrangler.viewer.v0+json": {
       "columns": [
        {
         "name": "index",
         "rawType": "int64",
         "type": "integer"
        },
        {
         "name": "disbursementdate",
         "rawType": "datetime64[us]",
         "type": "unknown"
        },
        {
         "name": "digitalLoanAccountId",
         "rawType": "object",
         "type": "string"
        },
        {
         "name": "sb_demo_score",
         "rawType": "float64",
         "type": "float"
        },
        {
         "name": "ln_fpd10_flag",
         "rawType": "Int64",
         "type": "integer"
        },
        {
         "name": "ln_mature_fpd10_flag",
         "rawType": "Int64",
         "type": "integer"
        }
       ],
       "conversionMethod": "pd.DataFrame",
       "ref": "3df3d013-16e5-44e6-b040-add9fec74c76",
       "rows": [
        [
         "0",
         "2023-06-01 10:42:34",
         "f91cba31-7630-477a-8cdd-d010b63c4900",
         "0.09503327398288322",
         "0",
         "1"
        ],
        [
         "1",
         "2023-06-01 11:02:18",
         "7e7e7678-b36d-4b26-ad01-272565b54780",
         "0.1363688689626788",
         "0",
         "1"
        ],
        [
         "2",
         "2023-06-01 12:56:23",
         "e585b35d-bc13-494d-970d-2272d976991b",
         "0.11397225468427526",
         "0",
         "1"
        ],
        [
         "3",
         "2023-06-01 14:43:46",
         "4e78ebf3-256e-426c-8840-a7f9e1403a97",
         "0.15429464271719148",
         "0",
         "1"
        ],
        [
         "4",
         "2023-06-01 15:36:13",
         "a3dc185d-0118-4ebc-bf03-117fdd8f9c64",
         "0.1301984410560667",
         "0",
         "1"
        ]
       ],
       "shape": {
        "columns": 5,
        "rows": 5
       }
      },
      "text/html": [
       "<div>\n",
       "<style scoped>\n",
       "    .dataframe tbody tr th:only-of-type {\n",
       "        vertical-align: middle;\n",
       "    }\n",
       "\n",
       "    .dataframe tbody tr th {\n",
       "        vertical-align: top;\n",
       "    }\n",
       "\n",
       "    .dataframe thead th {\n",
       "        text-align: right;\n",
       "    }\n",
       "</style>\n",
       "<table border=\"1\" class=\"dataframe\">\n",
       "  <thead>\n",
       "    <tr style=\"text-align: right;\">\n",
       "      <th></th>\n",
       "      <th>disbursementdate</th>\n",
       "      <th>digitalLoanAccountId</th>\n",
       "      <th>sb_demo_score</th>\n",
       "      <th>ln_fpd10_flag</th>\n",
       "      <th>ln_mature_fpd10_flag</th>\n",
       "    </tr>\n",
       "  </thead>\n",
       "  <tbody>\n",
       "    <tr>\n",
       "      <th>0</th>\n",
       "      <td>2023-06-01 10:42:34</td>\n",
       "      <td>f91cba31-7630-477a-8cdd-d010b63c4900</td>\n",
       "      <td>0.095033</td>\n",
       "      <td>0</td>\n",
       "      <td>1</td>\n",
       "    </tr>\n",
       "    <tr>\n",
       "      <th>1</th>\n",
       "      <td>2023-06-01 11:02:18</td>\n",
       "      <td>7e7e7678-b36d-4b26-ad01-272565b54780</td>\n",
       "      <td>0.136369</td>\n",
       "      <td>0</td>\n",
       "      <td>1</td>\n",
       "    </tr>\n",
       "    <tr>\n",
       "      <th>2</th>\n",
       "      <td>2023-06-01 12:56:23</td>\n",
       "      <td>e585b35d-bc13-494d-970d-2272d976991b</td>\n",
       "      <td>0.113972</td>\n",
       "      <td>0</td>\n",
       "      <td>1</td>\n",
       "    </tr>\n",
       "    <tr>\n",
       "      <th>3</th>\n",
       "      <td>2023-06-01 14:43:46</td>\n",
       "      <td>4e78ebf3-256e-426c-8840-a7f9e1403a97</td>\n",
       "      <td>0.154295</td>\n",
       "      <td>0</td>\n",
       "      <td>1</td>\n",
       "    </tr>\n",
       "    <tr>\n",
       "      <th>4</th>\n",
       "      <td>2023-06-01 15:36:13</td>\n",
       "      <td>a3dc185d-0118-4ebc-bf03-117fdd8f9c64</td>\n",
       "      <td>0.130198</td>\n",
       "      <td>0</td>\n",
       "      <td>1</td>\n",
       "    </tr>\n",
       "  </tbody>\n",
       "</table>\n",
       "</div>"
      ],
      "text/plain": [
       "     disbursementdate                  digitalLoanAccountId  sb_demo_score  \\\n",
       "0 2023-06-01 10:42:34  f91cba31-7630-477a-8cdd-d010b63c4900       0.095033   \n",
       "1 2023-06-01 11:02:18  7e7e7678-b36d-4b26-ad01-272565b54780       0.136369   \n",
       "2 2023-06-01 12:56:23  e585b35d-bc13-494d-970d-2272d976991b       0.113972   \n",
       "3 2023-06-01 14:43:46  4e78ebf3-256e-426c-8840-a7f9e1403a97       0.154295   \n",
       "4 2023-06-01 15:36:13  a3dc185d-0118-4ebc-bf03-117fdd8f9c64       0.130198   \n",
       "\n",
       "   ln_fpd10_flag  ln_mature_fpd10_flag  \n",
       "0              0                     1  \n",
       "1              0                     1  \n",
       "2              0                     1  \n",
       "3              0                     1  \n",
       "4              0                     1  "
      ]
     },
     "execution_count": 29,
     "metadata": {},
     "output_type": "execute_result"
    }
   ],
   "source": [
    "df_sb_demo_scorefpd10.head()"
   ]
  },
  {
   "cell_type": "code",
   "execution_count": 30,
   "metadata": {},
   "outputs": [
    {
     "name": "stdout",
     "output_type": "stream",
     "text": [
      "The shape of dataframe after copy is:\t(106, 7)\n"
     ]
    },
    {
     "data": {
      "text/plain": [
       "array(['start_date', 'end_date', 'sb_demo_score_FPD10_gini', 'period',\n",
       "       'Model_Name', 'version', 'bad_rate'], dtype=object)"
      ]
     },
     "execution_count": 30,
     "metadata": {},
     "output_type": "execute_result"
    }
   ],
   "source": [
    "gini_results = calculate_periodic_gini(df_sb_demo_scorefpd10, 'sb_demo_score', 'ln_fpd10_flag', 'FPD10')\n",
    "sb_demo_scoreFPD10 = gini_results.copy()\n",
    "print(f\"The shape of dataframe after copy is:\\t{sb_demo_scoreFPD10.shape}\")\n",
    "sb_demo_scoreFPD10.columns.values"
   ]
  },
  {
   "cell_type": "code",
   "execution_count": 31,
   "metadata": {},
   "outputs": [
    {
     "data": {
      "application/vnd.microsoft.datawrangler.viewer.v0+json": {
       "columns": [
        {
         "name": "index",
         "rawType": "int64",
         "type": "integer"
        },
        {
         "name": "start_date",
         "rawType": "datetime64[ns]",
         "type": "datetime"
        },
        {
         "name": "end_date",
         "rawType": "datetime64[ns]",
         "type": "datetime"
        },
        {
         "name": "sb_demo_score_FPD10_gini",
         "rawType": "float64",
         "type": "float"
        },
        {
         "name": "period",
         "rawType": "object",
         "type": "string"
        },
        {
         "name": "Model_Name",
         "rawType": "object",
         "type": "string"
        },
        {
         "name": "version",
         "rawType": "object",
         "type": "string"
        },
        {
         "name": "bad_rate",
         "rawType": "object",
         "type": "string"
        }
       ],
       "conversionMethod": "pd.DataFrame",
       "ref": "25c16062-c231-488c-9375-40fdfbab8720",
       "rows": [
        [
         "101",
         "2024-12-23 00:00:00",
         "2024-12-29 00:00:00",
         "0.23638745186718002",
         "Week",
         "sb_demo_score",
         "1.1.0",
         "FPD10"
        ],
        [
         "102",
         "2024-12-30 00:00:00",
         "2025-01-05 00:00:00",
         "0.2546182873730043",
         "Week",
         "sb_demo_score",
         "1.1.0",
         "FPD10"
        ],
        [
         "103",
         "2025-01-01 00:00:00",
         "2025-01-31 00:00:00",
         "0.24261330909352719",
         "Month",
         "sb_demo_score",
         "1.1.0",
         "FPD10"
        ],
        [
         "104",
         "2025-01-06 00:00:00",
         "2025-01-12 00:00:00",
         "0.17262994941566356",
         "Week",
         "sb_demo_score",
         "1.1.0",
         "FPD10"
        ],
        [
         "105",
         "2025-01-13 00:00:00",
         "2025-01-19 00:00:00",
         "0.444206268958544",
         "Week",
         "sb_demo_score",
         "1.1.0",
         "FPD10"
        ]
       ],
       "shape": {
        "columns": 7,
        "rows": 5
       }
      },
      "text/html": [
       "<div>\n",
       "<style scoped>\n",
       "    .dataframe tbody tr th:only-of-type {\n",
       "        vertical-align: middle;\n",
       "    }\n",
       "\n",
       "    .dataframe tbody tr th {\n",
       "        vertical-align: top;\n",
       "    }\n",
       "\n",
       "    .dataframe thead th {\n",
       "        text-align: right;\n",
       "    }\n",
       "</style>\n",
       "<table border=\"1\" class=\"dataframe\">\n",
       "  <thead>\n",
       "    <tr style=\"text-align: right;\">\n",
       "      <th></th>\n",
       "      <th>start_date</th>\n",
       "      <th>end_date</th>\n",
       "      <th>sb_demo_score_FPD10_gini</th>\n",
       "      <th>period</th>\n",
       "      <th>Model_Name</th>\n",
       "      <th>version</th>\n",
       "      <th>bad_rate</th>\n",
       "    </tr>\n",
       "  </thead>\n",
       "  <tbody>\n",
       "    <tr>\n",
       "      <th>101</th>\n",
       "      <td>2024-12-23</td>\n",
       "      <td>2024-12-29</td>\n",
       "      <td>0.236387</td>\n",
       "      <td>Week</td>\n",
       "      <td>sb_demo_score</td>\n",
       "      <td>1.1.0</td>\n",
       "      <td>FPD10</td>\n",
       "    </tr>\n",
       "    <tr>\n",
       "      <th>102</th>\n",
       "      <td>2024-12-30</td>\n",
       "      <td>2025-01-05</td>\n",
       "      <td>0.254618</td>\n",
       "      <td>Week</td>\n",
       "      <td>sb_demo_score</td>\n",
       "      <td>1.1.0</td>\n",
       "      <td>FPD10</td>\n",
       "    </tr>\n",
       "    <tr>\n",
       "      <th>103</th>\n",
       "      <td>2025-01-01</td>\n",
       "      <td>2025-01-31</td>\n",
       "      <td>0.242613</td>\n",
       "      <td>Month</td>\n",
       "      <td>sb_demo_score</td>\n",
       "      <td>1.1.0</td>\n",
       "      <td>FPD10</td>\n",
       "    </tr>\n",
       "    <tr>\n",
       "      <th>104</th>\n",
       "      <td>2025-01-06</td>\n",
       "      <td>2025-01-12</td>\n",
       "      <td>0.172630</td>\n",
       "      <td>Week</td>\n",
       "      <td>sb_demo_score</td>\n",
       "      <td>1.1.0</td>\n",
       "      <td>FPD10</td>\n",
       "    </tr>\n",
       "    <tr>\n",
       "      <th>105</th>\n",
       "      <td>2025-01-13</td>\n",
       "      <td>2025-01-19</td>\n",
       "      <td>0.444206</td>\n",
       "      <td>Week</td>\n",
       "      <td>sb_demo_score</td>\n",
       "      <td>1.1.0</td>\n",
       "      <td>FPD10</td>\n",
       "    </tr>\n",
       "  </tbody>\n",
       "</table>\n",
       "</div>"
      ],
      "text/plain": [
       "    start_date   end_date  sb_demo_score_FPD10_gini period     Model_Name  \\\n",
       "101 2024-12-23 2024-12-29                  0.236387   Week  sb_demo_score   \n",
       "102 2024-12-30 2025-01-05                  0.254618   Week  sb_demo_score   \n",
       "103 2025-01-01 2025-01-31                  0.242613  Month  sb_demo_score   \n",
       "104 2025-01-06 2025-01-12                  0.172630   Week  sb_demo_score   \n",
       "105 2025-01-13 2025-01-19                  0.444206   Week  sb_demo_score   \n",
       "\n",
       "    version bad_rate  \n",
       "101   1.1.0    FPD10  \n",
       "102   1.1.0    FPD10  \n",
       "103   1.1.0    FPD10  \n",
       "104   1.1.0    FPD10  \n",
       "105   1.1.0    FPD10  "
      ]
     },
     "execution_count": 31,
     "metadata": {},
     "output_type": "execute_result"
    }
   ],
   "source": [
    "sb_demo_scoreFPD10.tail()"
   ]
  },
  {
   "cell_type": "markdown",
   "metadata": {},
   "source": [
    "## FPD30"
   ]
  },
  {
   "cell_type": "code",
   "execution_count": 32,
   "metadata": {},
   "outputs": [
    {
     "name": "stdout",
     "output_type": "stream",
     "text": [
      "Job ID 26b6cd24-e8e9-43fc-9576-882ca0c1ddc0 successfully executed: 100%|\u001b[32m██████████\u001b[0m|"
     ]
    },
    {
     "name": "stderr",
     "output_type": "stream",
     "text": [
      "d:\\Anaconda3\\envs\\inc_env\\lib\\site-packages\\google\\cloud\\bigquery\\table.py:1820: UserWarning: BigQuery Storage module not found, fetch data with the REST endpoint instead.\n",
      "  warnings.warn(\n"
     ]
    },
    {
     "name": "stdout",
     "output_type": "stream",
     "text": [
      "\n",
      "Downloading: 100%|\u001b[32m██████████\u001b[0m|\n"
     ]
    }
   ],
   "source": [
    "sq = \"\"\"\n",
    "with sb_demo_score as \n",
    "(SELECT \n",
    "    ln_disb_dtime disbursementdate,\n",
    "\tdigitalLoanAccountId,\n",
    "    sb_demo_score,\n",
    "    ln_fpd30_flag,\n",
    "\tln_mature_fpd30_flag,\t\n",
    "\tFROM \n",
    "    prj-prod-dataplatform.risk_mart.sil_risk_ds_master_20230101_20250206\n",
    "  WHERE \n",
    "     -- ln_disb_dtime >= '2023-07-01'\n",
    "    ln_appln_submit_datetime >= '2023-06-01'\n",
    "  -- AND\n",
    "  --   format_date('%Y-%m', ln_disb_dtime) = '2024-09'\n",
    "  AND\n",
    "    ln_fpd30_flag is not null\n",
    "  AND\n",
    "    sb_demo_score is not null\n",
    "  AND\n",
    "    ln_mature_fpd30_flag = 1\n",
    ")\n",
    "select * from sb_demo_score;\n",
    "\"\"\"\n",
    "\n",
    "df_sb_demo_scorefpd30 = client.query(sq).to_dataframe(progress_bar_type='tqdm')"
   ]
  },
  {
   "cell_type": "code",
   "execution_count": 33,
   "metadata": {},
   "outputs": [
    {
     "name": "stdout",
     "output_type": "stream",
     "text": [
      "The shape of dataframe after copy is:\t(102, 7)\n"
     ]
    },
    {
     "data": {
      "text/plain": [
       "array(['start_date', 'end_date', 'sb_demo_score_FPD30_gini', 'period',\n",
       "       'Model_Name', 'version', 'bad_rate'], dtype=object)"
      ]
     },
     "execution_count": 33,
     "metadata": {},
     "output_type": "execute_result"
    }
   ],
   "source": [
    "gini_results = calculate_periodic_gini(df_sb_demo_scorefpd30, 'sb_demo_score', 'ln_fpd30_flag', 'FPD30')\n",
    "sb_demo_scoreFPD30 = gini_results.copy()\n",
    "print(f\"The shape of dataframe after copy is:\\t{sb_demo_scoreFPD30.shape}\")\n",
    "sb_demo_scoreFPD30.columns.values"
   ]
  },
  {
   "cell_type": "code",
   "execution_count": 34,
   "metadata": {},
   "outputs": [
    {
     "data": {
      "application/vnd.microsoft.datawrangler.viewer.v0+json": {
       "columns": [
        {
         "name": "index",
         "rawType": "int64",
         "type": "integer"
        },
        {
         "name": "start_date",
         "rawType": "datetime64[ns]",
         "type": "datetime"
        },
        {
         "name": "end_date",
         "rawType": "datetime64[ns]",
         "type": "datetime"
        },
        {
         "name": "sb_demo_score_FPD30_gini",
         "rawType": "float64",
         "type": "float"
        },
        {
         "name": "period",
         "rawType": "object",
         "type": "string"
        },
        {
         "name": "Model_Name",
         "rawType": "object",
         "type": "string"
        },
        {
         "name": "version",
         "rawType": "object",
         "type": "string"
        },
        {
         "name": "bad_rate",
         "rawType": "object",
         "type": "string"
        }
       ],
       "conversionMethod": "pd.DataFrame",
       "ref": "15520469-581c-4971-8e23-14df07daad35",
       "rows": [
        [
         "0",
         "2023-05-29 00:00:00",
         "2023-06-04 00:00:00",
         "0.33090909090909104",
         "Week",
         "sb_demo_score",
         "1.1.0",
         "FPD30"
        ],
        [
         "1",
         "2023-06-01 00:00:00",
         "2023-06-30 00:00:00",
         "0.19661458333333326",
         "Month",
         "sb_demo_score",
         "1.1.0",
         "FPD30"
        ],
        [
         "2",
         "2023-06-05 00:00:00",
         "2023-06-11 00:00:00",
         "0.15037037037037027",
         "Week",
         "sb_demo_score",
         "1.1.0",
         "FPD30"
        ],
        [
         "3",
         "2023-06-12 00:00:00",
         "2023-06-18 00:00:00",
         "0.3743064447289799",
         "Week",
         "sb_demo_score",
         "1.1.0",
         "FPD30"
        ],
        [
         "4",
         "2023-06-19 00:00:00",
         "2023-06-25 00:00:00",
         "-0.06425702811244982",
         "Week",
         "sb_demo_score",
         "1.1.0",
         "FPD30"
        ]
       ],
       "shape": {
        "columns": 7,
        "rows": 5
       }
      },
      "text/html": [
       "<div>\n",
       "<style scoped>\n",
       "    .dataframe tbody tr th:only-of-type {\n",
       "        vertical-align: middle;\n",
       "    }\n",
       "\n",
       "    .dataframe tbody tr th {\n",
       "        vertical-align: top;\n",
       "    }\n",
       "\n",
       "    .dataframe thead th {\n",
       "        text-align: right;\n",
       "    }\n",
       "</style>\n",
       "<table border=\"1\" class=\"dataframe\">\n",
       "  <thead>\n",
       "    <tr style=\"text-align: right;\">\n",
       "      <th></th>\n",
       "      <th>start_date</th>\n",
       "      <th>end_date</th>\n",
       "      <th>sb_demo_score_FPD30_gini</th>\n",
       "      <th>period</th>\n",
       "      <th>Model_Name</th>\n",
       "      <th>version</th>\n",
       "      <th>bad_rate</th>\n",
       "    </tr>\n",
       "  </thead>\n",
       "  <tbody>\n",
       "    <tr>\n",
       "      <th>0</th>\n",
       "      <td>2023-05-29</td>\n",
       "      <td>2023-06-04</td>\n",
       "      <td>0.330909</td>\n",
       "      <td>Week</td>\n",
       "      <td>sb_demo_score</td>\n",
       "      <td>1.1.0</td>\n",
       "      <td>FPD30</td>\n",
       "    </tr>\n",
       "    <tr>\n",
       "      <th>1</th>\n",
       "      <td>2023-06-01</td>\n",
       "      <td>2023-06-30</td>\n",
       "      <td>0.196615</td>\n",
       "      <td>Month</td>\n",
       "      <td>sb_demo_score</td>\n",
       "      <td>1.1.0</td>\n",
       "      <td>FPD30</td>\n",
       "    </tr>\n",
       "    <tr>\n",
       "      <th>2</th>\n",
       "      <td>2023-06-05</td>\n",
       "      <td>2023-06-11</td>\n",
       "      <td>0.150370</td>\n",
       "      <td>Week</td>\n",
       "      <td>sb_demo_score</td>\n",
       "      <td>1.1.0</td>\n",
       "      <td>FPD30</td>\n",
       "    </tr>\n",
       "    <tr>\n",
       "      <th>3</th>\n",
       "      <td>2023-06-12</td>\n",
       "      <td>2023-06-18</td>\n",
       "      <td>0.374306</td>\n",
       "      <td>Week</td>\n",
       "      <td>sb_demo_score</td>\n",
       "      <td>1.1.0</td>\n",
       "      <td>FPD30</td>\n",
       "    </tr>\n",
       "    <tr>\n",
       "      <th>4</th>\n",
       "      <td>2023-06-19</td>\n",
       "      <td>2023-06-25</td>\n",
       "      <td>-0.064257</td>\n",
       "      <td>Week</td>\n",
       "      <td>sb_demo_score</td>\n",
       "      <td>1.1.0</td>\n",
       "      <td>FPD30</td>\n",
       "    </tr>\n",
       "  </tbody>\n",
       "</table>\n",
       "</div>"
      ],
      "text/plain": [
       "  start_date   end_date  sb_demo_score_FPD30_gini period     Model_Name  \\\n",
       "0 2023-05-29 2023-06-04                  0.330909   Week  sb_demo_score   \n",
       "1 2023-06-01 2023-06-30                  0.196615  Month  sb_demo_score   \n",
       "2 2023-06-05 2023-06-11                  0.150370   Week  sb_demo_score   \n",
       "3 2023-06-12 2023-06-18                  0.374306   Week  sb_demo_score   \n",
       "4 2023-06-19 2023-06-25                 -0.064257   Week  sb_demo_score   \n",
       "\n",
       "  version bad_rate  \n",
       "0   1.1.0    FPD30  \n",
       "1   1.1.0    FPD30  \n",
       "2   1.1.0    FPD30  \n",
       "3   1.1.0    FPD30  \n",
       "4   1.1.0    FPD30  "
      ]
     },
     "execution_count": 34,
     "metadata": {},
     "output_type": "execute_result"
    }
   ],
   "source": [
    "sb_demo_scoreFPD30.head() "
   ]
  },
  {
   "cell_type": "markdown",
   "metadata": {},
   "source": [
    "## FSPD30"
   ]
  },
  {
   "cell_type": "code",
   "execution_count": 35,
   "metadata": {},
   "outputs": [
    {
     "name": "stdout",
     "output_type": "stream",
     "text": [
      "Job ID 1c6b508a-7824-4779-91fd-418a48d3b28b successfully executed: 100%|\u001b[32m██████████\u001b[0m|"
     ]
    },
    {
     "name": "stderr",
     "output_type": "stream",
     "text": [
      "d:\\Anaconda3\\envs\\inc_env\\lib\\site-packages\\google\\cloud\\bigquery\\table.py:1820: UserWarning: BigQuery Storage module not found, fetch data with the REST endpoint instead.\n",
      "  warnings.warn(\n"
     ]
    },
    {
     "name": "stdout",
     "output_type": "stream",
     "text": [
      "\n",
      "Downloading: 100%|\u001b[32m██████████\u001b[0m|\n"
     ]
    }
   ],
   "source": [
    "sq = \"\"\"\n",
    "with sb_demo_score as \n",
    "(SELECT \n",
    "    ln_disb_dtime disbursementdate,\n",
    "\tdigitalLoanAccountId,\n",
    "    sb_demo_score,\n",
    "    ln_fspd30_flag,   -- fspd30\n",
    "\tln_mature_fspd30_flag,\t--- fspd30 observation\n",
    "\tFROM \n",
    "    prj-prod-dataplatform.risk_mart.sil_risk_ds_master_20230101_20250206\n",
    "  WHERE \n",
    "     -- ln_disb_dtime >= '2023-07-01'\n",
    "    ln_appln_submit_datetime >= '2023-06-01'\n",
    "  -- AND\n",
    "  --   format_date('%Y-%m', ln_disb_dtime) = '2024-09'\n",
    "  AND\n",
    "    ln_fspd30_flag is not null\n",
    "  AND\n",
    "    sb_demo_score is not null\n",
    "  AND\n",
    "    ln_mature_fspd30_flag = 1\n",
    ")\n",
    "select * from sb_demo_score;\n",
    "\"\"\"\n",
    "\n",
    "df_sb_demo_scorefspd30 = client.query(sq).to_dataframe(progress_bar_type='tqdm')"
   ]
  },
  {
   "cell_type": "code",
   "execution_count": 36,
   "metadata": {},
   "outputs": [
    {
     "name": "stdout",
     "output_type": "stream",
     "text": [
      "The shape of dataframe after copy is:\t(97, 7)\n"
     ]
    },
    {
     "data": {
      "text/plain": [
       "array(['start_date', 'end_date', 'sb_demo_score_FSPD30_gini', 'period',\n",
       "       'Model_Name', 'version', 'bad_rate'], dtype=object)"
      ]
     },
     "execution_count": 36,
     "metadata": {},
     "output_type": "execute_result"
    }
   ],
   "source": [
    "gini_results = calculate_periodic_gini(df_sb_demo_scorefspd30, 'sb_demo_score', 'ln_fspd30_flag', 'FSPD30')\n",
    "sb_demo_scoreFSPD30 = gini_results.copy()\n",
    "print(f\"The shape of dataframe after copy is:\\t{sb_demo_scoreFSPD30.shape}\")\n",
    "sb_demo_scoreFSPD30.columns.values"
   ]
  },
  {
   "cell_type": "code",
   "execution_count": 37,
   "metadata": {},
   "outputs": [
    {
     "data": {
      "application/vnd.microsoft.datawrangler.viewer.v0+json": {
       "columns": [
        {
         "name": "index",
         "rawType": "int64",
         "type": "integer"
        },
        {
         "name": "start_date",
         "rawType": "datetime64[ns]",
         "type": "datetime"
        },
        {
         "name": "end_date",
         "rawType": "datetime64[ns]",
         "type": "datetime"
        },
        {
         "name": "sb_demo_score_FSPD30_gini",
         "rawType": "float64",
         "type": "float"
        },
        {
         "name": "period",
         "rawType": "object",
         "type": "string"
        },
        {
         "name": "Model_Name",
         "rawType": "object",
         "type": "string"
        },
        {
         "name": "version",
         "rawType": "object",
         "type": "string"
        },
        {
         "name": "bad_rate",
         "rawType": "object",
         "type": "string"
        }
       ],
       "conversionMethod": "pd.DataFrame",
       "ref": "aff59299-43e9-47ff-b023-477a20bfc12a",
       "rows": [
        [
         "0",
         "2023-05-29 00:00:00",
         "2023-06-04 00:00:00",
         "0.12668463611859826",
         "Week",
         "sb_demo_score",
         "1.1.0",
         "FSPD30"
        ],
        [
         "1",
         "2023-06-01 00:00:00",
         "2023-06-30 00:00:00",
         "0.18467220683287167",
         "Month",
         "sb_demo_score",
         "1.1.0",
         "FSPD30"
        ],
        [
         "2",
         "2023-06-05 00:00:00",
         "2023-06-11 00:00:00",
         "0.23919191919191918",
         "Week",
         "sb_demo_score",
         "1.1.0",
         "FSPD30"
        ],
        [
         "3",
         "2023-06-12 00:00:00",
         "2023-06-18 00:00:00",
         "0.31343283582089554",
         "Week",
         "sb_demo_score",
         "1.1.0",
         "FSPD30"
        ],
        [
         "4",
         "2023-06-19 00:00:00",
         "2023-06-25 00:00:00",
         "-0.00877192982456143",
         "Week",
         "sb_demo_score",
         "1.1.0",
         "FSPD30"
        ]
       ],
       "shape": {
        "columns": 7,
        "rows": 5
       }
      },
      "text/html": [
       "<div>\n",
       "<style scoped>\n",
       "    .dataframe tbody tr th:only-of-type {\n",
       "        vertical-align: middle;\n",
       "    }\n",
       "\n",
       "    .dataframe tbody tr th {\n",
       "        vertical-align: top;\n",
       "    }\n",
       "\n",
       "    .dataframe thead th {\n",
       "        text-align: right;\n",
       "    }\n",
       "</style>\n",
       "<table border=\"1\" class=\"dataframe\">\n",
       "  <thead>\n",
       "    <tr style=\"text-align: right;\">\n",
       "      <th></th>\n",
       "      <th>start_date</th>\n",
       "      <th>end_date</th>\n",
       "      <th>sb_demo_score_FSPD30_gini</th>\n",
       "      <th>period</th>\n",
       "      <th>Model_Name</th>\n",
       "      <th>version</th>\n",
       "      <th>bad_rate</th>\n",
       "    </tr>\n",
       "  </thead>\n",
       "  <tbody>\n",
       "    <tr>\n",
       "      <th>0</th>\n",
       "      <td>2023-05-29</td>\n",
       "      <td>2023-06-04</td>\n",
       "      <td>0.126685</td>\n",
       "      <td>Week</td>\n",
       "      <td>sb_demo_score</td>\n",
       "      <td>1.1.0</td>\n",
       "      <td>FSPD30</td>\n",
       "    </tr>\n",
       "    <tr>\n",
       "      <th>1</th>\n",
       "      <td>2023-06-01</td>\n",
       "      <td>2023-06-30</td>\n",
       "      <td>0.184672</td>\n",
       "      <td>Month</td>\n",
       "      <td>sb_demo_score</td>\n",
       "      <td>1.1.0</td>\n",
       "      <td>FSPD30</td>\n",
       "    </tr>\n",
       "    <tr>\n",
       "      <th>2</th>\n",
       "      <td>2023-06-05</td>\n",
       "      <td>2023-06-11</td>\n",
       "      <td>0.239192</td>\n",
       "      <td>Week</td>\n",
       "      <td>sb_demo_score</td>\n",
       "      <td>1.1.0</td>\n",
       "      <td>FSPD30</td>\n",
       "    </tr>\n",
       "    <tr>\n",
       "      <th>3</th>\n",
       "      <td>2023-06-12</td>\n",
       "      <td>2023-06-18</td>\n",
       "      <td>0.313433</td>\n",
       "      <td>Week</td>\n",
       "      <td>sb_demo_score</td>\n",
       "      <td>1.1.0</td>\n",
       "      <td>FSPD30</td>\n",
       "    </tr>\n",
       "    <tr>\n",
       "      <th>4</th>\n",
       "      <td>2023-06-19</td>\n",
       "      <td>2023-06-25</td>\n",
       "      <td>-0.008772</td>\n",
       "      <td>Week</td>\n",
       "      <td>sb_demo_score</td>\n",
       "      <td>1.1.0</td>\n",
       "      <td>FSPD30</td>\n",
       "    </tr>\n",
       "  </tbody>\n",
       "</table>\n",
       "</div>"
      ],
      "text/plain": [
       "  start_date   end_date  sb_demo_score_FSPD30_gini period     Model_Name  \\\n",
       "0 2023-05-29 2023-06-04                   0.126685   Week  sb_demo_score   \n",
       "1 2023-06-01 2023-06-30                   0.184672  Month  sb_demo_score   \n",
       "2 2023-06-05 2023-06-11                   0.239192   Week  sb_demo_score   \n",
       "3 2023-06-12 2023-06-18                   0.313433   Week  sb_demo_score   \n",
       "4 2023-06-19 2023-06-25                  -0.008772   Week  sb_demo_score   \n",
       "\n",
       "  version bad_rate  \n",
       "0   1.1.0   FSPD30  \n",
       "1   1.1.0   FSPD30  \n",
       "2   1.1.0   FSPD30  \n",
       "3   1.1.0   FSPD30  \n",
       "4   1.1.0   FSPD30  "
      ]
     },
     "execution_count": 37,
     "metadata": {},
     "output_type": "execute_result"
    }
   ],
   "source": [
    "sb_demo_scoreFSPD30.head()"
   ]
  },
  {
   "cell_type": "markdown",
   "metadata": {},
   "source": [
    "## FSTPD30"
   ]
  },
  {
   "cell_type": "code",
   "execution_count": 38,
   "metadata": {},
   "outputs": [
    {
     "name": "stdout",
     "output_type": "stream",
     "text": [
      "Job ID dcf03d7f-33b1-4225-ae2a-753cafd80ead successfully executed: 100%|\u001b[32m██████████\u001b[0m|"
     ]
    },
    {
     "name": "stderr",
     "output_type": "stream",
     "text": [
      "d:\\Anaconda3\\envs\\inc_env\\lib\\site-packages\\google\\cloud\\bigquery\\table.py:1820: UserWarning: BigQuery Storage module not found, fetch data with the REST endpoint instead.\n",
      "  warnings.warn(\n"
     ]
    },
    {
     "name": "stdout",
     "output_type": "stream",
     "text": [
      "\n",
      "Downloading: 100%|\u001b[32m██████████\u001b[0m|\n"
     ]
    }
   ],
   "source": [
    "sq = \"\"\"\n",
    "with sb_demo_score as \n",
    "(SELECT \n",
    "    ln_disb_dtime disbursementdate,\n",
    "\tdigitalLoanAccountId,\n",
    "    sb_demo_score,\n",
    "    ln_fstpd30_flag,   -- fstpd30\n",
    "\tln_mature_fstpd30_flag,\t--- fstpd30 observation\n",
    "\tFROM \n",
    "    prj-prod-dataplatform.risk_mart.sil_risk_ds_master_20230101_20250206\n",
    "  WHERE \n",
    "     -- ln_disb_dtime >= '2023-07-01'\n",
    "    ln_appln_submit_datetime >= '2023-06-01'\n",
    "  -- AND\n",
    "  --   format_date('%Y-%m', ln_disb_dtime) = '2024-09'\n",
    "  AND\n",
    "    ln_fstpd30_flag is not null\n",
    "  AND\n",
    "    sb_demo_score is not null\n",
    "  AND\n",
    "    ln_mature_fstpd30_flag = 1\n",
    ")\n",
    "select * from sb_demo_score;\n",
    "\"\"\"\n",
    "\n",
    "df_sb_demo_scorefstpd30 = client.query(sq).to_dataframe(progress_bar_type='tqdm')"
   ]
  },
  {
   "cell_type": "code",
   "execution_count": 39,
   "metadata": {},
   "outputs": [
    {
     "name": "stdout",
     "output_type": "stream",
     "text": [
      "The shape of dataframe after copy is:\t(91, 7)\n"
     ]
    },
    {
     "data": {
      "text/plain": [
       "array(['start_date', 'end_date', 'sb_demo_score_FSTPD30_gini', 'period',\n",
       "       'Model_Name', 'version', 'bad_rate'], dtype=object)"
      ]
     },
     "execution_count": 39,
     "metadata": {},
     "output_type": "execute_result"
    }
   ],
   "source": [
    "gini_results = calculate_periodic_gini(df_sb_demo_scorefstpd30, 'sb_demo_score', 'ln_fstpd30_flag', 'FSTPD30')\n",
    "sb_demo_scoreFSTPD30 = gini_results.copy()\n",
    "print(f\"The shape of dataframe after copy is:\\t{sb_demo_scoreFSTPD30.shape}\")\n",
    "sb_demo_scoreFSTPD30.columns.values"
   ]
  },
  {
   "cell_type": "code",
   "execution_count": 40,
   "metadata": {},
   "outputs": [
    {
     "data": {
      "application/vnd.microsoft.datawrangler.viewer.v0+json": {
       "columns": [
        {
         "name": "index",
         "rawType": "int64",
         "type": "integer"
        },
        {
         "name": "start_date",
         "rawType": "datetime64[ns]",
         "type": "datetime"
        },
        {
         "name": "end_date",
         "rawType": "datetime64[ns]",
         "type": "datetime"
        },
        {
         "name": "sb_demo_score_FSTPD30_gini",
         "rawType": "float64",
         "type": "float"
        },
        {
         "name": "period",
         "rawType": "object",
         "type": "string"
        },
        {
         "name": "Model_Name",
         "rawType": "object",
         "type": "string"
        },
        {
         "name": "version",
         "rawType": "object",
         "type": "string"
        },
        {
         "name": "bad_rate",
         "rawType": "object",
         "type": "string"
        }
       ],
       "conversionMethod": "pd.DataFrame",
       "ref": "7b7988a5-ad23-45b5-8e0d-cde0ddf07ceb",
       "rows": [
        [
         "0",
         "2023-05-29 00:00:00",
         "2023-06-04 00:00:00",
         "0.24183006535947715",
         "Week",
         "sb_demo_score",
         "1.1.0",
         "FSTPD30"
        ],
        [
         "1",
         "2023-06-01 00:00:00",
         "2023-06-30 00:00:00",
         "0.1625000000000001",
         "Month",
         "sb_demo_score",
         "1.1.0",
         "FSTPD30"
        ],
        [
         "2",
         "2023-06-05 00:00:00",
         "2023-06-11 00:00:00",
         "0.2728860936408106",
         "Week",
         "sb_demo_score",
         "1.1.0",
         "FSTPD30"
        ],
        [
         "3",
         "2023-06-12 00:00:00",
         "2023-06-18 00:00:00",
         "0.1353951890034364",
         "Week",
         "sb_demo_score",
         "1.1.0",
         "FSTPD30"
        ],
        [
         "4",
         "2023-06-19 00:00:00",
         "2023-06-25 00:00:00",
         "0.07413333333333338",
         "Week",
         "sb_demo_score",
         "1.1.0",
         "FSTPD30"
        ]
       ],
       "shape": {
        "columns": 7,
        "rows": 5
       }
      },
      "text/html": [
       "<div>\n",
       "<style scoped>\n",
       "    .dataframe tbody tr th:only-of-type {\n",
       "        vertical-align: middle;\n",
       "    }\n",
       "\n",
       "    .dataframe tbody tr th {\n",
       "        vertical-align: top;\n",
       "    }\n",
       "\n",
       "    .dataframe thead th {\n",
       "        text-align: right;\n",
       "    }\n",
       "</style>\n",
       "<table border=\"1\" class=\"dataframe\">\n",
       "  <thead>\n",
       "    <tr style=\"text-align: right;\">\n",
       "      <th></th>\n",
       "      <th>start_date</th>\n",
       "      <th>end_date</th>\n",
       "      <th>sb_demo_score_FSTPD30_gini</th>\n",
       "      <th>period</th>\n",
       "      <th>Model_Name</th>\n",
       "      <th>version</th>\n",
       "      <th>bad_rate</th>\n",
       "    </tr>\n",
       "  </thead>\n",
       "  <tbody>\n",
       "    <tr>\n",
       "      <th>0</th>\n",
       "      <td>2023-05-29</td>\n",
       "      <td>2023-06-04</td>\n",
       "      <td>0.241830</td>\n",
       "      <td>Week</td>\n",
       "      <td>sb_demo_score</td>\n",
       "      <td>1.1.0</td>\n",
       "      <td>FSTPD30</td>\n",
       "    </tr>\n",
       "    <tr>\n",
       "      <th>1</th>\n",
       "      <td>2023-06-01</td>\n",
       "      <td>2023-06-30</td>\n",
       "      <td>0.162500</td>\n",
       "      <td>Month</td>\n",
       "      <td>sb_demo_score</td>\n",
       "      <td>1.1.0</td>\n",
       "      <td>FSTPD30</td>\n",
       "    </tr>\n",
       "    <tr>\n",
       "      <th>2</th>\n",
       "      <td>2023-06-05</td>\n",
       "      <td>2023-06-11</td>\n",
       "      <td>0.272886</td>\n",
       "      <td>Week</td>\n",
       "      <td>sb_demo_score</td>\n",
       "      <td>1.1.0</td>\n",
       "      <td>FSTPD30</td>\n",
       "    </tr>\n",
       "    <tr>\n",
       "      <th>3</th>\n",
       "      <td>2023-06-12</td>\n",
       "      <td>2023-06-18</td>\n",
       "      <td>0.135395</td>\n",
       "      <td>Week</td>\n",
       "      <td>sb_demo_score</td>\n",
       "      <td>1.1.0</td>\n",
       "      <td>FSTPD30</td>\n",
       "    </tr>\n",
       "    <tr>\n",
       "      <th>4</th>\n",
       "      <td>2023-06-19</td>\n",
       "      <td>2023-06-25</td>\n",
       "      <td>0.074133</td>\n",
       "      <td>Week</td>\n",
       "      <td>sb_demo_score</td>\n",
       "      <td>1.1.0</td>\n",
       "      <td>FSTPD30</td>\n",
       "    </tr>\n",
       "  </tbody>\n",
       "</table>\n",
       "</div>"
      ],
      "text/plain": [
       "  start_date   end_date  sb_demo_score_FSTPD30_gini period     Model_Name  \\\n",
       "0 2023-05-29 2023-06-04                    0.241830   Week  sb_demo_score   \n",
       "1 2023-06-01 2023-06-30                    0.162500  Month  sb_demo_score   \n",
       "2 2023-06-05 2023-06-11                    0.272886   Week  sb_demo_score   \n",
       "3 2023-06-12 2023-06-18                    0.135395   Week  sb_demo_score   \n",
       "4 2023-06-19 2023-06-25                    0.074133   Week  sb_demo_score   \n",
       "\n",
       "  version bad_rate  \n",
       "0   1.1.0  FSTPD30  \n",
       "1   1.1.0  FSTPD30  \n",
       "2   1.1.0  FSTPD30  \n",
       "3   1.1.0  FSTPD30  \n",
       "4   1.1.0  FSTPD30  "
      ]
     },
     "execution_count": 40,
     "metadata": {},
     "output_type": "execute_result"
    }
   ],
   "source": [
    "sb_demo_scoreFSTPD30.head()"
   ]
  },
  {
   "cell_type": "markdown",
   "metadata": {},
   "source": [
    "# Combining sb demo score"
   ]
  },
  {
   "cell_type": "code",
   "execution_count": 41,
   "metadata": {},
   "outputs": [
    {
     "data": {
      "text/plain": [
       "array(['start_date', 'end_date', 'sb_demo_score_FPD10_gini', 'period',\n",
       "       'Model_Name', 'version', 'bad_rate', 'sb_demo_score_FPD30_gini',\n",
       "       'sb_demo_score_FSPD30_gini', 'sb_demo_score_FSTPD30_gini'],\n",
       "      dtype=object)"
      ]
     },
     "execution_count": 41,
     "metadata": {},
     "output_type": "execute_result"
    }
   ],
   "source": [
    "import functools\n",
    "\n",
    "dataframes = [sb_demo_scoreFPD10, sb_demo_scoreFPD30, sb_demo_scoreFSPD30, sb_demo_scoreFSTPD30]\n",
    "common_columns = ['start_date', 'end_date', 'period', 'Model_Name','version', 'bad_rate']\n",
    "\n",
    "def merge_dataframes(df1, df2):\n",
    "    return pd.merge(df1, df2, on=common_columns, how='outer')\n",
    "\n",
    "final_df = functools.reduce(merge_dataframes, dataframes)\n",
    "\n",
    "final_df.columns.values"
   ]
  },
  {
   "cell_type": "code",
   "execution_count": 42,
   "metadata": {},
   "outputs": [],
   "source": [
    "final_df = final_df[['start_date', 'end_date', 'period',\n",
    "       'Model_Name', 'version', 'bad_rate','sb_demo_score_FPD10_gini','sb_demo_score_FPD30_gini',\n",
    "       'sb_demo_score_FSPD30_gini', 'sb_demo_score_FSTPD30_gini']].copy()"
   ]
  },
  {
   "cell_type": "markdown",
   "metadata": {},
   "source": [
    "## creating sb demo score table "
   ]
  },
  {
   "cell_type": "code",
   "execution_count": 43,
   "metadata": {},
   "outputs": [
    {
     "data": {
      "text/plain": [
       "QueryJob<project=prj-prod-dataplatform, location=asia-southeast1, id=a062ff72-5a6b-4627-ba19-1e03790fd333>"
      ]
     },
     "execution_count": 43,
     "metadata": {},
     "output_type": "execute_result"
    }
   ],
   "source": [
    "sq = \"\"\"drop table if exists prj-prod-dataplatform.dap_ds_poweruser_playground.Model_gini_sb_demo_score;\"\"\"\n",
    "client.query(sq)"
   ]
  },
  {
   "cell_type": "code",
   "execution_count": 44,
   "metadata": {},
   "outputs": [
    {
     "data": {
      "text/plain": [
       "LoadJob<project=prj-prod-dataplatform, location=asia-southeast1, id=76d644d5-6379-4340-b41e-a3de3f454067>"
      ]
     },
     "execution_count": 44,
     "metadata": {},
     "output_type": "execute_result"
    }
   ],
   "source": [
    "\n",
    "\n",
    "import pandas as pd\n",
    "from google.cloud import bigquery\n",
    "\n",
    "# Create a BigQuery client\n",
    "client = bigquery.Client('prj-prod-dataplatform')\n",
    "\n",
    "# Define your table schema\n",
    "table_schema = [\n",
    "    bigquery.SchemaField('start_date', 'TIMESTAMP'),\n",
    "    bigquery.SchemaField('end_date', 'TIMESTAMP'),\n",
    "    bigquery.SchemaField('period', 'STRING'),\n",
    "    bigquery.SchemaField('Model_Name', 'STRING'),\n",
    "    bigquery.SchemaField('version', 'STRING'),\n",
    "    bigquery.SchemaField('Badrate', 'STRING'),\n",
    "    bigquery.SchemaField('sb_demo_score_FPD10_gini', 'FLOAT'),\n",
    "    bigquery.SchemaField('sb_demo_score_FPD30_gini', 'FLOAT'),    \n",
    "    bigquery.SchemaField('sb_demo_score_FSPD30_gini', 'FLOAT'),\n",
    "    bigquery.SchemaField('sb_demo_score_FSTPD30_gini', 'FLOAT')\n",
    "    \n",
    "]\n",
    "\n",
    "# Create your BigQuery table\n",
    "table_id = 'prj-prod-dataplatform.dap_ds_poweruser_playground.Model_gini_sb_demo_score'\n",
    "table = bigquery.Table(table_id, schema=table_schema)\n",
    "table = client.create_table(table)\n",
    "\n",
    "# Load your DataFrame into BigQuery\n",
    "job_config = bigquery.LoadJobConfig(\n",
    "    write_disposition='WRITE_TRUNCATE'\n",
    ")\n",
    "\n",
    "load_job = client.load_table_from_dataframe(\n",
    "    final_df, table_id, job_config=job_config\n",
    ")\n",
    "\n",
    "load_job.result()"
   ]
  },
  {
   "cell_type": "markdown",
   "metadata": {},
   "source": [
    "# s_cic_score"
   ]
  },
  {
   "cell_type": "markdown",
   "metadata": {},
   "source": [
    "## FPD10"
   ]
  },
  {
   "cell_type": "code",
   "execution_count": 45,
   "metadata": {},
   "outputs": [
    {
     "name": "stdout",
     "output_type": "stream",
     "text": [
      "Job ID 1d5ad047-3bfb-4e72-baee-18e9b2c93f7e successfully executed: 100%|\u001b[32m██████████\u001b[0m|"
     ]
    },
    {
     "name": "stderr",
     "output_type": "stream",
     "text": [
      "d:\\Anaconda3\\envs\\inc_env\\lib\\site-packages\\google\\cloud\\bigquery\\table.py:1820: UserWarning: BigQuery Storage module not found, fetch data with the REST endpoint instead.\n",
      "  warnings.warn(\n"
     ]
    },
    {
     "name": "stdout",
     "output_type": "stream",
     "text": [
      "\n",
      "Downloading: 100%|\u001b[32m██████████\u001b[0m|\n"
     ]
    }
   ],
   "source": [
    "sq = \"\"\"\n",
    "with s_cic_score as \n",
    "(SELECT \n",
    "    ln_disb_dtime disbursementdate,\n",
    "\tdigitalLoanAccountId,\n",
    "    s_cic_score,\n",
    "    ln_fpd10_flag,\n",
    "\tln_mature_fpd10_flag,\t\n",
    "\tFROM \n",
    "    prj-prod-dataplatform.risk_mart.sil_risk_ds_master_20230101_20250206\n",
    "  WHERE \n",
    "     -- ln_disb_dtime >= '2023-07-01'\n",
    "    ln_appln_submit_datetime >= '2023-06-01'\n",
    "  -- AND\n",
    "  --   format_date('%Y-%m', ln_disb_dtime) = '2024-09'\n",
    "  AND\n",
    "    ln_fpd10_flag is not null\n",
    "  AND\n",
    "    s_cic_score is not null\n",
    "  AND\n",
    "    ln_mature_fpd10_flag = 1\n",
    ")\n",
    "select * from s_cic_score;\n",
    "\"\"\"\n",
    "\n",
    "df_s_cic_scorefpd10 = client.query(sq).to_dataframe(progress_bar_type='tqdm')"
   ]
  },
  {
   "cell_type": "code",
   "execution_count": 46,
   "metadata": {},
   "outputs": [
    {
     "data": {
      "application/vnd.microsoft.datawrangler.viewer.v0+json": {
       "columns": [
        {
         "name": "index",
         "rawType": "int64",
         "type": "integer"
        },
        {
         "name": "disbursementdate",
         "rawType": "datetime64[us]",
         "type": "unknown"
        },
        {
         "name": "digitalLoanAccountId",
         "rawType": "object",
         "type": "string"
        },
        {
         "name": "s_cic_score",
         "rawType": "float64",
         "type": "float"
        },
        {
         "name": "ln_fpd10_flag",
         "rawType": "Int64",
         "type": "integer"
        },
        {
         "name": "ln_mature_fpd10_flag",
         "rawType": "Int64",
         "type": "integer"
        }
       ],
       "conversionMethod": "pd.DataFrame",
       "ref": "e8b16261-55f9-4364-b397-13d2c77e339d",
       "rows": [
        [
         "0",
         "2023-06-02 13:49:38",
         "69f07f7a-77ce-4f3d-87da-cf27b346ac52",
         "0.08631689666501192",
         "0",
         "1"
        ],
        [
         "1",
         "2023-06-02 14:43:59",
         "b2770138-2905-48d7-a9bf-7af35014a465",
         "0.17716683214790385",
         "0",
         "1"
        ],
        [
         "2",
         "2023-06-02 15:41:58",
         "6a98d1eb-50d9-4f70-83db-5297bc452475",
         "0.09321747310944721",
         "0",
         "1"
        ],
        [
         "3",
         "2023-06-03 11:35:43",
         "5e3ca494-7918-406b-b437-a76164ff4ba6",
         "0.06733867482183582",
         "0",
         "1"
        ],
        [
         "4",
         "2023-06-03 11:44:25",
         "9088cf01-f299-473c-9b29-23c49d289bc8",
         "0.13769046238974186",
         "1",
         "1"
        ]
       ],
       "shape": {
        "columns": 5,
        "rows": 5
       }
      },
      "text/html": [
       "<div>\n",
       "<style scoped>\n",
       "    .dataframe tbody tr th:only-of-type {\n",
       "        vertical-align: middle;\n",
       "    }\n",
       "\n",
       "    .dataframe tbody tr th {\n",
       "        vertical-align: top;\n",
       "    }\n",
       "\n",
       "    .dataframe thead th {\n",
       "        text-align: right;\n",
       "    }\n",
       "</style>\n",
       "<table border=\"1\" class=\"dataframe\">\n",
       "  <thead>\n",
       "    <tr style=\"text-align: right;\">\n",
       "      <th></th>\n",
       "      <th>disbursementdate</th>\n",
       "      <th>digitalLoanAccountId</th>\n",
       "      <th>s_cic_score</th>\n",
       "      <th>ln_fpd10_flag</th>\n",
       "      <th>ln_mature_fpd10_flag</th>\n",
       "    </tr>\n",
       "  </thead>\n",
       "  <tbody>\n",
       "    <tr>\n",
       "      <th>0</th>\n",
       "      <td>2023-06-02 13:49:38</td>\n",
       "      <td>69f07f7a-77ce-4f3d-87da-cf27b346ac52</td>\n",
       "      <td>0.086317</td>\n",
       "      <td>0</td>\n",
       "      <td>1</td>\n",
       "    </tr>\n",
       "    <tr>\n",
       "      <th>1</th>\n",
       "      <td>2023-06-02 14:43:59</td>\n",
       "      <td>b2770138-2905-48d7-a9bf-7af35014a465</td>\n",
       "      <td>0.177167</td>\n",
       "      <td>0</td>\n",
       "      <td>1</td>\n",
       "    </tr>\n",
       "    <tr>\n",
       "      <th>2</th>\n",
       "      <td>2023-06-02 15:41:58</td>\n",
       "      <td>6a98d1eb-50d9-4f70-83db-5297bc452475</td>\n",
       "      <td>0.093217</td>\n",
       "      <td>0</td>\n",
       "      <td>1</td>\n",
       "    </tr>\n",
       "    <tr>\n",
       "      <th>3</th>\n",
       "      <td>2023-06-03 11:35:43</td>\n",
       "      <td>5e3ca494-7918-406b-b437-a76164ff4ba6</td>\n",
       "      <td>0.067339</td>\n",
       "      <td>0</td>\n",
       "      <td>1</td>\n",
       "    </tr>\n",
       "    <tr>\n",
       "      <th>4</th>\n",
       "      <td>2023-06-03 11:44:25</td>\n",
       "      <td>9088cf01-f299-473c-9b29-23c49d289bc8</td>\n",
       "      <td>0.137690</td>\n",
       "      <td>1</td>\n",
       "      <td>1</td>\n",
       "    </tr>\n",
       "  </tbody>\n",
       "</table>\n",
       "</div>"
      ],
      "text/plain": [
       "     disbursementdate                  digitalLoanAccountId  s_cic_score  \\\n",
       "0 2023-06-02 13:49:38  69f07f7a-77ce-4f3d-87da-cf27b346ac52     0.086317   \n",
       "1 2023-06-02 14:43:59  b2770138-2905-48d7-a9bf-7af35014a465     0.177167   \n",
       "2 2023-06-02 15:41:58  6a98d1eb-50d9-4f70-83db-5297bc452475     0.093217   \n",
       "3 2023-06-03 11:35:43  5e3ca494-7918-406b-b437-a76164ff4ba6     0.067339   \n",
       "4 2023-06-03 11:44:25  9088cf01-f299-473c-9b29-23c49d289bc8     0.137690   \n",
       "\n",
       "   ln_fpd10_flag  ln_mature_fpd10_flag  \n",
       "0              0                     1  \n",
       "1              0                     1  \n",
       "2              0                     1  \n",
       "3              0                     1  \n",
       "4              1                     1  "
      ]
     },
     "execution_count": 46,
     "metadata": {},
     "output_type": "execute_result"
    }
   ],
   "source": [
    "df_s_cic_scorefpd10.head()"
   ]
  },
  {
   "cell_type": "code",
   "execution_count": 47,
   "metadata": {},
   "outputs": [
    {
     "name": "stdout",
     "output_type": "stream",
     "text": [
      "The shape of dataframe after copy is:\t(105, 7)\n"
     ]
    },
    {
     "data": {
      "text/plain": [
       "array(['start_date', 'end_date', 's_cic_score_FPD10_gini', 'period',\n",
       "       'Model_Name', 'version', 'bad_rate'], dtype=object)"
      ]
     },
     "execution_count": 47,
     "metadata": {},
     "output_type": "execute_result"
    }
   ],
   "source": [
    "gini_results = calculate_periodic_gini(df_s_cic_scorefpd10, 's_cic_score', 'ln_fpd10_flag', 'FPD10')\n",
    "s_cic_scoreFPD10 = gini_results.copy()\n",
    "print(f\"The shape of dataframe after copy is:\\t{s_cic_scoreFPD10.shape}\")\n",
    "s_cic_scoreFPD10.columns.values"
   ]
  },
  {
   "cell_type": "code",
   "execution_count": 48,
   "metadata": {},
   "outputs": [
    {
     "data": {
      "application/vnd.microsoft.datawrangler.viewer.v0+json": {
       "columns": [
        {
         "name": "index",
         "rawType": "int64",
         "type": "integer"
        },
        {
         "name": "start_date",
         "rawType": "datetime64[ns]",
         "type": "datetime"
        },
        {
         "name": "end_date",
         "rawType": "datetime64[ns]",
         "type": "datetime"
        },
        {
         "name": "s_cic_score_FPD10_gini",
         "rawType": "float64",
         "type": "float"
        },
        {
         "name": "period",
         "rawType": "object",
         "type": "string"
        },
        {
         "name": "Model_Name",
         "rawType": "object",
         "type": "string"
        },
        {
         "name": "version",
         "rawType": "object",
         "type": "string"
        },
        {
         "name": "bad_rate",
         "rawType": "object",
         "type": "string"
        }
       ],
       "conversionMethod": "pd.DataFrame",
       "ref": "d29f4bd8-44e8-488e-a01b-218820ce0c8d",
       "rows": [
        [
         "100",
         "2024-12-23 00:00:00",
         "2024-12-29 00:00:00",
         "0.1564569871987158",
         "Week",
         "s_cic_score",
         "1.1.0",
         "FPD10"
        ],
        [
         "101",
         "2024-12-30 00:00:00",
         "2025-01-05 00:00:00",
         "0.22523608466484535",
         "Week",
         "s_cic_score",
         "1.1.0",
         "FPD10"
        ],
        [
         "102",
         "2025-01-01 00:00:00",
         "2025-01-31 00:00:00",
         "0.18940124897379373",
         "Month",
         "s_cic_score",
         "1.1.0",
         "FPD10"
        ],
        [
         "103",
         "2025-01-06 00:00:00",
         "2025-01-12 00:00:00",
         "0.166525618754918",
         "Week",
         "s_cic_score",
         "1.1.0",
         "FPD10"
        ],
        [
         "104",
         "2025-01-13 00:00:00",
         "2025-01-19 00:00:00",
         "0.07534056157909386",
         "Week",
         "s_cic_score",
         "1.1.0",
         "FPD10"
        ]
       ],
       "shape": {
        "columns": 7,
        "rows": 5
       }
      },
      "text/html": [
       "<div>\n",
       "<style scoped>\n",
       "    .dataframe tbody tr th:only-of-type {\n",
       "        vertical-align: middle;\n",
       "    }\n",
       "\n",
       "    .dataframe tbody tr th {\n",
       "        vertical-align: top;\n",
       "    }\n",
       "\n",
       "    .dataframe thead th {\n",
       "        text-align: right;\n",
       "    }\n",
       "</style>\n",
       "<table border=\"1\" class=\"dataframe\">\n",
       "  <thead>\n",
       "    <tr style=\"text-align: right;\">\n",
       "      <th></th>\n",
       "      <th>start_date</th>\n",
       "      <th>end_date</th>\n",
       "      <th>s_cic_score_FPD10_gini</th>\n",
       "      <th>period</th>\n",
       "      <th>Model_Name</th>\n",
       "      <th>version</th>\n",
       "      <th>bad_rate</th>\n",
       "    </tr>\n",
       "  </thead>\n",
       "  <tbody>\n",
       "    <tr>\n",
       "      <th>100</th>\n",
       "      <td>2024-12-23</td>\n",
       "      <td>2024-12-29</td>\n",
       "      <td>0.156457</td>\n",
       "      <td>Week</td>\n",
       "      <td>s_cic_score</td>\n",
       "      <td>1.1.0</td>\n",
       "      <td>FPD10</td>\n",
       "    </tr>\n",
       "    <tr>\n",
       "      <th>101</th>\n",
       "      <td>2024-12-30</td>\n",
       "      <td>2025-01-05</td>\n",
       "      <td>0.225236</td>\n",
       "      <td>Week</td>\n",
       "      <td>s_cic_score</td>\n",
       "      <td>1.1.0</td>\n",
       "      <td>FPD10</td>\n",
       "    </tr>\n",
       "    <tr>\n",
       "      <th>102</th>\n",
       "      <td>2025-01-01</td>\n",
       "      <td>2025-01-31</td>\n",
       "      <td>0.189401</td>\n",
       "      <td>Month</td>\n",
       "      <td>s_cic_score</td>\n",
       "      <td>1.1.0</td>\n",
       "      <td>FPD10</td>\n",
       "    </tr>\n",
       "    <tr>\n",
       "      <th>103</th>\n",
       "      <td>2025-01-06</td>\n",
       "      <td>2025-01-12</td>\n",
       "      <td>0.166526</td>\n",
       "      <td>Week</td>\n",
       "      <td>s_cic_score</td>\n",
       "      <td>1.1.0</td>\n",
       "      <td>FPD10</td>\n",
       "    </tr>\n",
       "    <tr>\n",
       "      <th>104</th>\n",
       "      <td>2025-01-13</td>\n",
       "      <td>2025-01-19</td>\n",
       "      <td>0.075341</td>\n",
       "      <td>Week</td>\n",
       "      <td>s_cic_score</td>\n",
       "      <td>1.1.0</td>\n",
       "      <td>FPD10</td>\n",
       "    </tr>\n",
       "  </tbody>\n",
       "</table>\n",
       "</div>"
      ],
      "text/plain": [
       "    start_date   end_date  s_cic_score_FPD10_gini period   Model_Name version  \\\n",
       "100 2024-12-23 2024-12-29                0.156457   Week  s_cic_score   1.1.0   \n",
       "101 2024-12-30 2025-01-05                0.225236   Week  s_cic_score   1.1.0   \n",
       "102 2025-01-01 2025-01-31                0.189401  Month  s_cic_score   1.1.0   \n",
       "103 2025-01-06 2025-01-12                0.166526   Week  s_cic_score   1.1.0   \n",
       "104 2025-01-13 2025-01-19                0.075341   Week  s_cic_score   1.1.0   \n",
       "\n",
       "    bad_rate  \n",
       "100    FPD10  \n",
       "101    FPD10  \n",
       "102    FPD10  \n",
       "103    FPD10  \n",
       "104    FPD10  "
      ]
     },
     "execution_count": 48,
     "metadata": {},
     "output_type": "execute_result"
    }
   ],
   "source": [
    "s_cic_scoreFPD10.tail()"
   ]
  },
  {
   "cell_type": "markdown",
   "metadata": {},
   "source": [
    "## FPD30"
   ]
  },
  {
   "cell_type": "code",
   "execution_count": 49,
   "metadata": {},
   "outputs": [
    {
     "name": "stdout",
     "output_type": "stream",
     "text": [
      "Job ID 5f9c493a-06ce-4cc0-8c92-a78ec8953615 successfully executed: 100%|\u001b[32m██████████\u001b[0m|"
     ]
    },
    {
     "name": "stderr",
     "output_type": "stream",
     "text": [
      "d:\\Anaconda3\\envs\\inc_env\\lib\\site-packages\\google\\cloud\\bigquery\\table.py:1820: UserWarning: BigQuery Storage module not found, fetch data with the REST endpoint instead.\n",
      "  warnings.warn(\n"
     ]
    },
    {
     "name": "stdout",
     "output_type": "stream",
     "text": [
      "\n",
      "Downloading: 100%|\u001b[32m██████████\u001b[0m|\n"
     ]
    }
   ],
   "source": [
    "sq = \"\"\"\n",
    "with s_cic_score as \n",
    "(SELECT \n",
    "    ln_disb_dtime disbursementdate,\n",
    "\tdigitalLoanAccountId,\n",
    "    s_cic_score,\n",
    "    ln_fpd30_flag,\n",
    "\tln_mature_fpd30_flag,\t\n",
    "\tFROM \n",
    "    prj-prod-dataplatform.risk_mart.sil_risk_ds_master_20230101_20250206\n",
    "  WHERE \n",
    "     -- ln_disb_dtime >= '2023-07-01'\n",
    "    ln_appln_submit_datetime >= '2023-06-01'\n",
    "  -- AND\n",
    "  --   format_date('%Y-%m', ln_disb_dtime) = '2024-09'\n",
    "  AND\n",
    "    ln_fpd30_flag is not null\n",
    "  AND\n",
    "    s_cic_score is not null\n",
    "  AND\n",
    "    ln_mature_fpd30_flag = 1\n",
    ")\n",
    "select * from s_cic_score;\n",
    "\"\"\"\n",
    "\n",
    "df_s_cic_scorefpd30 = client.query(sq).to_dataframe(progress_bar_type='tqdm')"
   ]
  },
  {
   "cell_type": "code",
   "execution_count": 50,
   "metadata": {},
   "outputs": [
    {
     "data": {
      "application/vnd.microsoft.datawrangler.viewer.v0+json": {
       "columns": [
        {
         "name": "index",
         "rawType": "int64",
         "type": "integer"
        },
        {
         "name": "disbursementdate",
         "rawType": "datetime64[us]",
         "type": "unknown"
        },
        {
         "name": "digitalLoanAccountId",
         "rawType": "object",
         "type": "string"
        },
        {
         "name": "s_cic_score",
         "rawType": "float64",
         "type": "float"
        },
        {
         "name": "ln_fpd30_flag",
         "rawType": "Int64",
         "type": "integer"
        },
        {
         "name": "ln_mature_fpd30_flag",
         "rawType": "Int64",
         "type": "integer"
        }
       ],
       "conversionMethod": "pd.DataFrame",
       "ref": "603cc557-014c-41fb-9ba0-776a5fade842",
       "rows": [
        [
         "0",
         "2023-06-01 11:02:18",
         "7e7e7678-b36d-4b26-ad01-272565b54780",
         "0.08686005401552158",
         "0",
         "1"
        ],
        [
         "1",
         "2023-06-02 14:41:10",
         "832f93ae-46bb-4fdf-94ff-66db94b716c9",
         "0.12092719313592998",
         "1",
         "1"
        ],
        [
         "2",
         "2023-06-02 15:33:58",
         "531e98fe-749e-471e-9960-6dd80d55e86f",
         "0.1418703257826261",
         "1",
         "1"
        ],
        [
         "3",
         "2023-06-02 16:25:26",
         "5dae7da0-f426-4402-b552-f84ab33d38bf",
         "0.08379614071967678",
         "1",
         "1"
        ],
        [
         "4",
         "2023-06-02 17:11:42",
         "1d7abbe4-a62a-4f4b-91b2-bb360b9e61c2",
         "0.14231488955434998",
         "0",
         "1"
        ]
       ],
       "shape": {
        "columns": 5,
        "rows": 5
       }
      },
      "text/html": [
       "<div>\n",
       "<style scoped>\n",
       "    .dataframe tbody tr th:only-of-type {\n",
       "        vertical-align: middle;\n",
       "    }\n",
       "\n",
       "    .dataframe tbody tr th {\n",
       "        vertical-align: top;\n",
       "    }\n",
       "\n",
       "    .dataframe thead th {\n",
       "        text-align: right;\n",
       "    }\n",
       "</style>\n",
       "<table border=\"1\" class=\"dataframe\">\n",
       "  <thead>\n",
       "    <tr style=\"text-align: right;\">\n",
       "      <th></th>\n",
       "      <th>disbursementdate</th>\n",
       "      <th>digitalLoanAccountId</th>\n",
       "      <th>s_cic_score</th>\n",
       "      <th>ln_fpd30_flag</th>\n",
       "      <th>ln_mature_fpd30_flag</th>\n",
       "    </tr>\n",
       "  </thead>\n",
       "  <tbody>\n",
       "    <tr>\n",
       "      <th>0</th>\n",
       "      <td>2023-06-01 11:02:18</td>\n",
       "      <td>7e7e7678-b36d-4b26-ad01-272565b54780</td>\n",
       "      <td>0.086860</td>\n",
       "      <td>0</td>\n",
       "      <td>1</td>\n",
       "    </tr>\n",
       "    <tr>\n",
       "      <th>1</th>\n",
       "      <td>2023-06-02 14:41:10</td>\n",
       "      <td>832f93ae-46bb-4fdf-94ff-66db94b716c9</td>\n",
       "      <td>0.120927</td>\n",
       "      <td>1</td>\n",
       "      <td>1</td>\n",
       "    </tr>\n",
       "    <tr>\n",
       "      <th>2</th>\n",
       "      <td>2023-06-02 15:33:58</td>\n",
       "      <td>531e98fe-749e-471e-9960-6dd80d55e86f</td>\n",
       "      <td>0.141870</td>\n",
       "      <td>1</td>\n",
       "      <td>1</td>\n",
       "    </tr>\n",
       "    <tr>\n",
       "      <th>3</th>\n",
       "      <td>2023-06-02 16:25:26</td>\n",
       "      <td>5dae7da0-f426-4402-b552-f84ab33d38bf</td>\n",
       "      <td>0.083796</td>\n",
       "      <td>1</td>\n",
       "      <td>1</td>\n",
       "    </tr>\n",
       "    <tr>\n",
       "      <th>4</th>\n",
       "      <td>2023-06-02 17:11:42</td>\n",
       "      <td>1d7abbe4-a62a-4f4b-91b2-bb360b9e61c2</td>\n",
       "      <td>0.142315</td>\n",
       "      <td>0</td>\n",
       "      <td>1</td>\n",
       "    </tr>\n",
       "  </tbody>\n",
       "</table>\n",
       "</div>"
      ],
      "text/plain": [
       "     disbursementdate                  digitalLoanAccountId  s_cic_score  \\\n",
       "0 2023-06-01 11:02:18  7e7e7678-b36d-4b26-ad01-272565b54780     0.086860   \n",
       "1 2023-06-02 14:41:10  832f93ae-46bb-4fdf-94ff-66db94b716c9     0.120927   \n",
       "2 2023-06-02 15:33:58  531e98fe-749e-471e-9960-6dd80d55e86f     0.141870   \n",
       "3 2023-06-02 16:25:26  5dae7da0-f426-4402-b552-f84ab33d38bf     0.083796   \n",
       "4 2023-06-02 17:11:42  1d7abbe4-a62a-4f4b-91b2-bb360b9e61c2     0.142315   \n",
       "\n",
       "   ln_fpd30_flag  ln_mature_fpd30_flag  \n",
       "0              0                     1  \n",
       "1              1                     1  \n",
       "2              1                     1  \n",
       "3              1                     1  \n",
       "4              0                     1  "
      ]
     },
     "execution_count": 50,
     "metadata": {},
     "output_type": "execute_result"
    }
   ],
   "source": [
    "df_s_cic_scorefpd30.head()"
   ]
  },
  {
   "cell_type": "code",
   "execution_count": 51,
   "metadata": {},
   "outputs": [
    {
     "name": "stdout",
     "output_type": "stream",
     "text": [
      "The shape of dataframe after copy is:\t(101, 7)\n"
     ]
    },
    {
     "data": {
      "text/plain": [
       "array(['start_date', 'end_date', 's_cic_score_FPD30_gini', 'period',\n",
       "       'Model_Name', 'version', 'bad_rate'], dtype=object)"
      ]
     },
     "execution_count": 51,
     "metadata": {},
     "output_type": "execute_result"
    }
   ],
   "source": [
    "gini_results = calculate_periodic_gini(df_s_cic_scorefpd30, 's_cic_score', 'ln_fpd30_flag', 'FPD30')\n",
    "s_cic_scoreFPD30 = gini_results.copy()\n",
    "print(f\"The shape of dataframe after copy is:\\t{s_cic_scoreFPD30.shape}\")\n",
    "s_cic_scoreFPD30.columns.values"
   ]
  },
  {
   "cell_type": "code",
   "execution_count": 52,
   "metadata": {},
   "outputs": [
    {
     "data": {
      "application/vnd.microsoft.datawrangler.viewer.v0+json": {
       "columns": [
        {
         "name": "index",
         "rawType": "int64",
         "type": "integer"
        },
        {
         "name": "start_date",
         "rawType": "datetime64[ns]",
         "type": "datetime"
        },
        {
         "name": "end_date",
         "rawType": "datetime64[ns]",
         "type": "datetime"
        },
        {
         "name": "s_cic_score_FPD30_gini",
         "rawType": "float64",
         "type": "float"
        },
        {
         "name": "period",
         "rawType": "object",
         "type": "string"
        },
        {
         "name": "Model_Name",
         "rawType": "object",
         "type": "string"
        },
        {
         "name": "version",
         "rawType": "object",
         "type": "string"
        },
        {
         "name": "bad_rate",
         "rawType": "object",
         "type": "string"
        }
       ],
       "conversionMethod": "pd.DataFrame",
       "ref": "5b9ca1af-0dc3-4641-bb1c-e8be8c8af295",
       "rows": [
        [
         "0",
         "2023-05-29 00:00:00",
         "2023-06-04 00:00:00",
         "0.523076923076923",
         "Week",
         "s_cic_score",
         "1.1.0",
         "FPD30"
        ],
        [
         "1",
         "2023-06-01 00:00:00",
         "2023-06-30 00:00:00",
         "0.24837842113589614",
         "Month",
         "s_cic_score",
         "1.1.0",
         "FPD30"
        ],
        [
         "2",
         "2023-06-05 00:00:00",
         "2023-06-11 00:00:00",
         "0.4372294372294372",
         "Week",
         "s_cic_score",
         "1.1.0",
         "FPD30"
        ],
        [
         "3",
         "2023-06-12 00:00:00",
         "2023-06-18 00:00:00",
         "0.5148514851485149",
         "Week",
         "s_cic_score",
         "1.1.0",
         "FPD30"
        ],
        [
         "4",
         "2023-06-19 00:00:00",
         "2023-06-25 00:00:00",
         "0.03548387096774208",
         "Week",
         "s_cic_score",
         "1.1.0",
         "FPD30"
        ]
       ],
       "shape": {
        "columns": 7,
        "rows": 5
       }
      },
      "text/html": [
       "<div>\n",
       "<style scoped>\n",
       "    .dataframe tbody tr th:only-of-type {\n",
       "        vertical-align: middle;\n",
       "    }\n",
       "\n",
       "    .dataframe tbody tr th {\n",
       "        vertical-align: top;\n",
       "    }\n",
       "\n",
       "    .dataframe thead th {\n",
       "        text-align: right;\n",
       "    }\n",
       "</style>\n",
       "<table border=\"1\" class=\"dataframe\">\n",
       "  <thead>\n",
       "    <tr style=\"text-align: right;\">\n",
       "      <th></th>\n",
       "      <th>start_date</th>\n",
       "      <th>end_date</th>\n",
       "      <th>s_cic_score_FPD30_gini</th>\n",
       "      <th>period</th>\n",
       "      <th>Model_Name</th>\n",
       "      <th>version</th>\n",
       "      <th>bad_rate</th>\n",
       "    </tr>\n",
       "  </thead>\n",
       "  <tbody>\n",
       "    <tr>\n",
       "      <th>0</th>\n",
       "      <td>2023-05-29</td>\n",
       "      <td>2023-06-04</td>\n",
       "      <td>0.523077</td>\n",
       "      <td>Week</td>\n",
       "      <td>s_cic_score</td>\n",
       "      <td>1.1.0</td>\n",
       "      <td>FPD30</td>\n",
       "    </tr>\n",
       "    <tr>\n",
       "      <th>1</th>\n",
       "      <td>2023-06-01</td>\n",
       "      <td>2023-06-30</td>\n",
       "      <td>0.248378</td>\n",
       "      <td>Month</td>\n",
       "      <td>s_cic_score</td>\n",
       "      <td>1.1.0</td>\n",
       "      <td>FPD30</td>\n",
       "    </tr>\n",
       "    <tr>\n",
       "      <th>2</th>\n",
       "      <td>2023-06-05</td>\n",
       "      <td>2023-06-11</td>\n",
       "      <td>0.437229</td>\n",
       "      <td>Week</td>\n",
       "      <td>s_cic_score</td>\n",
       "      <td>1.1.0</td>\n",
       "      <td>FPD30</td>\n",
       "    </tr>\n",
       "    <tr>\n",
       "      <th>3</th>\n",
       "      <td>2023-06-12</td>\n",
       "      <td>2023-06-18</td>\n",
       "      <td>0.514851</td>\n",
       "      <td>Week</td>\n",
       "      <td>s_cic_score</td>\n",
       "      <td>1.1.0</td>\n",
       "      <td>FPD30</td>\n",
       "    </tr>\n",
       "    <tr>\n",
       "      <th>4</th>\n",
       "      <td>2023-06-19</td>\n",
       "      <td>2023-06-25</td>\n",
       "      <td>0.035484</td>\n",
       "      <td>Week</td>\n",
       "      <td>s_cic_score</td>\n",
       "      <td>1.1.0</td>\n",
       "      <td>FPD30</td>\n",
       "    </tr>\n",
       "  </tbody>\n",
       "</table>\n",
       "</div>"
      ],
      "text/plain": [
       "  start_date   end_date  s_cic_score_FPD30_gini period   Model_Name version  \\\n",
       "0 2023-05-29 2023-06-04                0.523077   Week  s_cic_score   1.1.0   \n",
       "1 2023-06-01 2023-06-30                0.248378  Month  s_cic_score   1.1.0   \n",
       "2 2023-06-05 2023-06-11                0.437229   Week  s_cic_score   1.1.0   \n",
       "3 2023-06-12 2023-06-18                0.514851   Week  s_cic_score   1.1.0   \n",
       "4 2023-06-19 2023-06-25                0.035484   Week  s_cic_score   1.1.0   \n",
       "\n",
       "  bad_rate  \n",
       "0    FPD30  \n",
       "1    FPD30  \n",
       "2    FPD30  \n",
       "3    FPD30  \n",
       "4    FPD30  "
      ]
     },
     "execution_count": 52,
     "metadata": {},
     "output_type": "execute_result"
    }
   ],
   "source": [
    "s_cic_scoreFPD30.head()"
   ]
  },
  {
   "cell_type": "code",
   "execution_count": 53,
   "metadata": {},
   "outputs": [
    {
     "data": {
      "application/vnd.microsoft.datawrangler.viewer.v0+json": {
       "columns": [
        {
         "name": "index",
         "rawType": "object",
         "type": "string"
        },
        {
         "name": "start_date",
         "rawType": "object",
         "type": "unknown"
        },
        {
         "name": "end_date",
         "rawType": "object",
         "type": "unknown"
        },
        {
         "name": "s_cic_score_FPD30_gini",
         "rawType": "float64",
         "type": "float"
        }
       ],
       "conversionMethod": "pd.DataFrame",
       "ref": "e1362eab-e5a2-4625-93bf-324f5225569a",
       "rows": [
        [
         "count",
         "101",
         "101",
         "101.0"
        ],
        [
         "mean",
         "2024-03-11 12:21:23.168316928",
         "2024-03-21 22:34:27.326732800",
         "0.3271253203141253"
        ],
        [
         "min",
         "2023-05-29 00:00:00",
         "2023-06-04 00:00:00",
         "0.03548387096774208"
        ],
        [
         "25%",
         "2023-10-23 00:00:00",
         "2023-10-31 00:00:00",
         "0.2688954441166831"
        ],
        [
         "50%",
         "2024-03-11 00:00:00",
         "2024-03-24 00:00:00",
         "0.3152656561016691"
        ],
        [
         "75%",
         "2024-08-01 00:00:00",
         "2024-08-11 00:00:00",
         "0.38020833333333304"
        ],
        [
         "max",
         "2024-12-23 00:00:00",
         "2024-12-31 00:00:00",
         "0.9404761904761905"
        ],
        [
         "std",
         null,
         null,
         "0.11455627317061848"
        ]
       ],
       "shape": {
        "columns": 3,
        "rows": 8
       }
      },
      "text/html": [
       "<div>\n",
       "<style scoped>\n",
       "    .dataframe tbody tr th:only-of-type {\n",
       "        vertical-align: middle;\n",
       "    }\n",
       "\n",
       "    .dataframe tbody tr th {\n",
       "        vertical-align: top;\n",
       "    }\n",
       "\n",
       "    .dataframe thead th {\n",
       "        text-align: right;\n",
       "    }\n",
       "</style>\n",
       "<table border=\"1\" class=\"dataframe\">\n",
       "  <thead>\n",
       "    <tr style=\"text-align: right;\">\n",
       "      <th></th>\n",
       "      <th>start_date</th>\n",
       "      <th>end_date</th>\n",
       "      <th>s_cic_score_FPD30_gini</th>\n",
       "    </tr>\n",
       "  </thead>\n",
       "  <tbody>\n",
       "    <tr>\n",
       "      <th>count</th>\n",
       "      <td>101</td>\n",
       "      <td>101</td>\n",
       "      <td>101.000000</td>\n",
       "    </tr>\n",
       "    <tr>\n",
       "      <th>mean</th>\n",
       "      <td>2024-03-11 12:21:23.168316928</td>\n",
       "      <td>2024-03-21 22:34:27.326732800</td>\n",
       "      <td>0.327125</td>\n",
       "    </tr>\n",
       "    <tr>\n",
       "      <th>min</th>\n",
       "      <td>2023-05-29 00:00:00</td>\n",
       "      <td>2023-06-04 00:00:00</td>\n",
       "      <td>0.035484</td>\n",
       "    </tr>\n",
       "    <tr>\n",
       "      <th>25%</th>\n",
       "      <td>2023-10-23 00:00:00</td>\n",
       "      <td>2023-10-31 00:00:00</td>\n",
       "      <td>0.268895</td>\n",
       "    </tr>\n",
       "    <tr>\n",
       "      <th>50%</th>\n",
       "      <td>2024-03-11 00:00:00</td>\n",
       "      <td>2024-03-24 00:00:00</td>\n",
       "      <td>0.315266</td>\n",
       "    </tr>\n",
       "    <tr>\n",
       "      <th>75%</th>\n",
       "      <td>2024-08-01 00:00:00</td>\n",
       "      <td>2024-08-11 00:00:00</td>\n",
       "      <td>0.380208</td>\n",
       "    </tr>\n",
       "    <tr>\n",
       "      <th>max</th>\n",
       "      <td>2024-12-23 00:00:00</td>\n",
       "      <td>2024-12-31 00:00:00</td>\n",
       "      <td>0.940476</td>\n",
       "    </tr>\n",
       "    <tr>\n",
       "      <th>std</th>\n",
       "      <td>NaN</td>\n",
       "      <td>NaN</td>\n",
       "      <td>0.114556</td>\n",
       "    </tr>\n",
       "  </tbody>\n",
       "</table>\n",
       "</div>"
      ],
      "text/plain": [
       "                          start_date                       end_date  \\\n",
       "count                            101                            101   \n",
       "mean   2024-03-11 12:21:23.168316928  2024-03-21 22:34:27.326732800   \n",
       "min              2023-05-29 00:00:00            2023-06-04 00:00:00   \n",
       "25%              2023-10-23 00:00:00            2023-10-31 00:00:00   \n",
       "50%              2024-03-11 00:00:00            2024-03-24 00:00:00   \n",
       "75%              2024-08-01 00:00:00            2024-08-11 00:00:00   \n",
       "max              2024-12-23 00:00:00            2024-12-31 00:00:00   \n",
       "std                              NaN                            NaN   \n",
       "\n",
       "       s_cic_score_FPD30_gini  \n",
       "count              101.000000  \n",
       "mean                 0.327125  \n",
       "min                  0.035484  \n",
       "25%                  0.268895  \n",
       "50%                  0.315266  \n",
       "75%                  0.380208  \n",
       "max                  0.940476  \n",
       "std                  0.114556  "
      ]
     },
     "execution_count": 53,
     "metadata": {},
     "output_type": "execute_result"
    }
   ],
   "source": [
    "s_cic_scoreFPD30.describe()"
   ]
  },
  {
   "cell_type": "markdown",
   "metadata": {},
   "source": [
    "## FSPD30"
   ]
  },
  {
   "cell_type": "code",
   "execution_count": 54,
   "metadata": {},
   "outputs": [
    {
     "name": "stdout",
     "output_type": "stream",
     "text": [
      "Job ID 44eb0a4e-efa8-484c-929c-bffd58fef9ab successfully executed: 100%|\u001b[32m██████████\u001b[0m|"
     ]
    },
    {
     "name": "stderr",
     "output_type": "stream",
     "text": [
      "d:\\Anaconda3\\envs\\inc_env\\lib\\site-packages\\google\\cloud\\bigquery\\table.py:1820: UserWarning: BigQuery Storage module not found, fetch data with the REST endpoint instead.\n",
      "  warnings.warn(\n"
     ]
    },
    {
     "name": "stdout",
     "output_type": "stream",
     "text": [
      "\n",
      "Downloading: 100%|\u001b[32m██████████\u001b[0m|\n"
     ]
    }
   ],
   "source": [
    "sq = \"\"\"\n",
    "with s_cic_score as \n",
    "(SELECT \n",
    "    ln_disb_dtime disbursementdate,\n",
    "\tdigitalLoanAccountId,\n",
    "    s_cic_score,\n",
    "    ln_fspd30_flag,\n",
    "\tln_mature_fspd30_flag,\t\n",
    "\tFROM \n",
    "    prj-prod-dataplatform.risk_mart.sil_risk_ds_master_20230101_20250206\n",
    "  WHERE \n",
    "     -- ln_disb_dtime >= '2023-07-01'\n",
    "    ln_appln_submit_datetime >= '2023-06-01'\n",
    "  -- AND\n",
    "  --   format_date('%Y-%m', ln_disb_dtime) = '2024-09'\n",
    "  AND\n",
    "    ln_fspd30_flag is not null\n",
    "  AND\n",
    "    s_cic_score is not null\n",
    "  AND\n",
    "    ln_mature_fspd30_flag = 1\n",
    ")\n",
    "select * from s_cic_score;\n",
    "\"\"\"\n",
    "\n",
    "df_s_cic_scorefspd30 = client.query(sq).to_dataframe(progress_bar_type='tqdm')"
   ]
  },
  {
   "cell_type": "code",
   "execution_count": 55,
   "metadata": {},
   "outputs": [
    {
     "name": "stdout",
     "output_type": "stream",
     "text": [
      "The shape of dataframe after copy is:\t(96, 7)\n"
     ]
    },
    {
     "data": {
      "text/plain": [
       "array(['start_date', 'end_date', 's_cic_score_FSPD30_gini', 'period',\n",
       "       'Model_Name', 'version', 'bad_rate'], dtype=object)"
      ]
     },
     "execution_count": 55,
     "metadata": {},
     "output_type": "execute_result"
    }
   ],
   "source": [
    "gini_results = calculate_periodic_gini(df_s_cic_scorefspd30, 's_cic_score', 'ln_fspd30_flag', 'FSPD30')\n",
    "s_cic_scoreFSPD30 = gini_results.copy()\n",
    "print(f\"The shape of dataframe after copy is:\\t{s_cic_scoreFSPD30.shape}\")\n",
    "s_cic_scoreFSPD30.columns.values"
   ]
  },
  {
   "cell_type": "code",
   "execution_count": 56,
   "metadata": {},
   "outputs": [
    {
     "data": {
      "application/vnd.microsoft.datawrangler.viewer.v0+json": {
       "columns": [
        {
         "name": "index",
         "rawType": "object",
         "type": "string"
        },
        {
         "name": "start_date",
         "rawType": "object",
         "type": "unknown"
        },
        {
         "name": "end_date",
         "rawType": "object",
         "type": "unknown"
        },
        {
         "name": "s_cic_score_FSPD30_gini",
         "rawType": "float64",
         "type": "float"
        }
       ],
       "conversionMethod": "pd.DataFrame",
       "ref": "0b0b8e17-3f3a-4824-82c0-1bdce6d7bbc0",
       "rows": [
        [
         "count",
         "96",
         "96",
         "96.0"
        ],
        [
         "mean",
         "2024-02-26 06:15:00",
         "2024-03-07 16:00:00",
         "0.3202920855510321"
        ],
        [
         "min",
         "2023-05-29 00:00:00",
         "2023-06-04 00:00:00",
         "0.06686930091185417"
        ],
        [
         "25%",
         "2023-10-14 06:00:00",
         "2023-10-27 06:00:00",
         "0.27047154036097587"
        ],
        [
         "50%",
         "2024-02-28 00:00:00",
         "2024-03-06 12:00:00",
         "0.3197905087657633"
        ],
        [
         "75%",
         "2024-07-09 18:00:00",
         "2024-07-22 18:00:00",
         "0.35961664600797616"
        ],
        [
         "max",
         "2024-11-25 00:00:00",
         "2024-12-01 00:00:00",
         "0.6807142857142858"
        ],
        [
         "std",
         null,
         null,
         "0.08732332891911447"
        ]
       ],
       "shape": {
        "columns": 3,
        "rows": 8
       }
      },
      "text/html": [
       "<div>\n",
       "<style scoped>\n",
       "    .dataframe tbody tr th:only-of-type {\n",
       "        vertical-align: middle;\n",
       "    }\n",
       "\n",
       "    .dataframe tbody tr th {\n",
       "        vertical-align: top;\n",
       "    }\n",
       "\n",
       "    .dataframe thead th {\n",
       "        text-align: right;\n",
       "    }\n",
       "</style>\n",
       "<table border=\"1\" class=\"dataframe\">\n",
       "  <thead>\n",
       "    <tr style=\"text-align: right;\">\n",
       "      <th></th>\n",
       "      <th>start_date</th>\n",
       "      <th>end_date</th>\n",
       "      <th>s_cic_score_FSPD30_gini</th>\n",
       "    </tr>\n",
       "  </thead>\n",
       "  <tbody>\n",
       "    <tr>\n",
       "      <th>count</th>\n",
       "      <td>96</td>\n",
       "      <td>96</td>\n",
       "      <td>96.000000</td>\n",
       "    </tr>\n",
       "    <tr>\n",
       "      <th>mean</th>\n",
       "      <td>2024-02-26 06:15:00</td>\n",
       "      <td>2024-03-07 16:00:00</td>\n",
       "      <td>0.320292</td>\n",
       "    </tr>\n",
       "    <tr>\n",
       "      <th>min</th>\n",
       "      <td>2023-05-29 00:00:00</td>\n",
       "      <td>2023-06-04 00:00:00</td>\n",
       "      <td>0.066869</td>\n",
       "    </tr>\n",
       "    <tr>\n",
       "      <th>25%</th>\n",
       "      <td>2023-10-14 06:00:00</td>\n",
       "      <td>2023-10-27 06:00:00</td>\n",
       "      <td>0.270472</td>\n",
       "    </tr>\n",
       "    <tr>\n",
       "      <th>50%</th>\n",
       "      <td>2024-02-28 00:00:00</td>\n",
       "      <td>2024-03-06 12:00:00</td>\n",
       "      <td>0.319791</td>\n",
       "    </tr>\n",
       "    <tr>\n",
       "      <th>75%</th>\n",
       "      <td>2024-07-09 18:00:00</td>\n",
       "      <td>2024-07-22 18:00:00</td>\n",
       "      <td>0.359617</td>\n",
       "    </tr>\n",
       "    <tr>\n",
       "      <th>max</th>\n",
       "      <td>2024-11-25 00:00:00</td>\n",
       "      <td>2024-12-01 00:00:00</td>\n",
       "      <td>0.680714</td>\n",
       "    </tr>\n",
       "    <tr>\n",
       "      <th>std</th>\n",
       "      <td>NaN</td>\n",
       "      <td>NaN</td>\n",
       "      <td>0.087323</td>\n",
       "    </tr>\n",
       "  </tbody>\n",
       "</table>\n",
       "</div>"
      ],
      "text/plain": [
       "                start_date             end_date  s_cic_score_FSPD30_gini\n",
       "count                   96                   96                96.000000\n",
       "mean   2024-02-26 06:15:00  2024-03-07 16:00:00                 0.320292\n",
       "min    2023-05-29 00:00:00  2023-06-04 00:00:00                 0.066869\n",
       "25%    2023-10-14 06:00:00  2023-10-27 06:00:00                 0.270472\n",
       "50%    2024-02-28 00:00:00  2024-03-06 12:00:00                 0.319791\n",
       "75%    2024-07-09 18:00:00  2024-07-22 18:00:00                 0.359617\n",
       "max    2024-11-25 00:00:00  2024-12-01 00:00:00                 0.680714\n",
       "std                    NaN                  NaN                 0.087323"
      ]
     },
     "execution_count": 56,
     "metadata": {},
     "output_type": "execute_result"
    }
   ],
   "source": [
    "s_cic_scoreFSPD30.describe()"
   ]
  },
  {
   "cell_type": "code",
   "execution_count": 57,
   "metadata": {},
   "outputs": [
    {
     "data": {
      "application/vnd.microsoft.datawrangler.viewer.v0+json": {
       "columns": [
        {
         "name": "index",
         "rawType": "int64",
         "type": "integer"
        },
        {
         "name": "start_date",
         "rawType": "datetime64[ns]",
         "type": "datetime"
        },
        {
         "name": "end_date",
         "rawType": "datetime64[ns]",
         "type": "datetime"
        },
        {
         "name": "s_cic_score_FSPD30_gini",
         "rawType": "float64",
         "type": "float"
        },
        {
         "name": "period",
         "rawType": "object",
         "type": "string"
        },
        {
         "name": "Model_Name",
         "rawType": "object",
         "type": "string"
        },
        {
         "name": "version",
         "rawType": "object",
         "type": "string"
        },
        {
         "name": "bad_rate",
         "rawType": "object",
         "type": "string"
        }
       ],
       "conversionMethod": "pd.DataFrame",
       "ref": "372729d1-ea4d-4d93-a6a8-ac0b1deda83b",
       "rows": [
        [
         "91",
         "2024-11-01 00:00:00",
         "2024-11-30 00:00:00",
         "0.26330799558706075",
         "Month",
         "s_cic_score",
         "1.1.0",
         "FSPD30"
        ],
        [
         "92",
         "2024-11-04 00:00:00",
         "2024-11-10 00:00:00",
         "0.34219515957306723",
         "Week",
         "s_cic_score",
         "1.1.0",
         "FSPD30"
        ],
        [
         "93",
         "2024-11-11 00:00:00",
         "2024-11-17 00:00:00",
         "0.20235519117355727",
         "Week",
         "s_cic_score",
         "1.1.0",
         "FSPD30"
        ],
        [
         "94",
         "2024-11-18 00:00:00",
         "2024-11-24 00:00:00",
         "0.2732216965471448",
         "Week",
         "s_cic_score",
         "1.1.0",
         "FSPD30"
        ],
        [
         "95",
         "2024-11-25 00:00:00",
         "2024-12-01 00:00:00",
         "0.1059027777777779",
         "Week",
         "s_cic_score",
         "1.1.0",
         "FSPD30"
        ]
       ],
       "shape": {
        "columns": 7,
        "rows": 5
       }
      },
      "text/html": [
       "<div>\n",
       "<style scoped>\n",
       "    .dataframe tbody tr th:only-of-type {\n",
       "        vertical-align: middle;\n",
       "    }\n",
       "\n",
       "    .dataframe tbody tr th {\n",
       "        vertical-align: top;\n",
       "    }\n",
       "\n",
       "    .dataframe thead th {\n",
       "        text-align: right;\n",
       "    }\n",
       "</style>\n",
       "<table border=\"1\" class=\"dataframe\">\n",
       "  <thead>\n",
       "    <tr style=\"text-align: right;\">\n",
       "      <th></th>\n",
       "      <th>start_date</th>\n",
       "      <th>end_date</th>\n",
       "      <th>s_cic_score_FSPD30_gini</th>\n",
       "      <th>period</th>\n",
       "      <th>Model_Name</th>\n",
       "      <th>version</th>\n",
       "      <th>bad_rate</th>\n",
       "    </tr>\n",
       "  </thead>\n",
       "  <tbody>\n",
       "    <tr>\n",
       "      <th>91</th>\n",
       "      <td>2024-11-01</td>\n",
       "      <td>2024-11-30</td>\n",
       "      <td>0.263308</td>\n",
       "      <td>Month</td>\n",
       "      <td>s_cic_score</td>\n",
       "      <td>1.1.0</td>\n",
       "      <td>FSPD30</td>\n",
       "    </tr>\n",
       "    <tr>\n",
       "      <th>92</th>\n",
       "      <td>2024-11-04</td>\n",
       "      <td>2024-11-10</td>\n",
       "      <td>0.342195</td>\n",
       "      <td>Week</td>\n",
       "      <td>s_cic_score</td>\n",
       "      <td>1.1.0</td>\n",
       "      <td>FSPD30</td>\n",
       "    </tr>\n",
       "    <tr>\n",
       "      <th>93</th>\n",
       "      <td>2024-11-11</td>\n",
       "      <td>2024-11-17</td>\n",
       "      <td>0.202355</td>\n",
       "      <td>Week</td>\n",
       "      <td>s_cic_score</td>\n",
       "      <td>1.1.0</td>\n",
       "      <td>FSPD30</td>\n",
       "    </tr>\n",
       "    <tr>\n",
       "      <th>94</th>\n",
       "      <td>2024-11-18</td>\n",
       "      <td>2024-11-24</td>\n",
       "      <td>0.273222</td>\n",
       "      <td>Week</td>\n",
       "      <td>s_cic_score</td>\n",
       "      <td>1.1.0</td>\n",
       "      <td>FSPD30</td>\n",
       "    </tr>\n",
       "    <tr>\n",
       "      <th>95</th>\n",
       "      <td>2024-11-25</td>\n",
       "      <td>2024-12-01</td>\n",
       "      <td>0.105903</td>\n",
       "      <td>Week</td>\n",
       "      <td>s_cic_score</td>\n",
       "      <td>1.1.0</td>\n",
       "      <td>FSPD30</td>\n",
       "    </tr>\n",
       "  </tbody>\n",
       "</table>\n",
       "</div>"
      ],
      "text/plain": [
       "   start_date   end_date  s_cic_score_FSPD30_gini period   Model_Name version  \\\n",
       "91 2024-11-01 2024-11-30                 0.263308  Month  s_cic_score   1.1.0   \n",
       "92 2024-11-04 2024-11-10                 0.342195   Week  s_cic_score   1.1.0   \n",
       "93 2024-11-11 2024-11-17                 0.202355   Week  s_cic_score   1.1.0   \n",
       "94 2024-11-18 2024-11-24                 0.273222   Week  s_cic_score   1.1.0   \n",
       "95 2024-11-25 2024-12-01                 0.105903   Week  s_cic_score   1.1.0   \n",
       "\n",
       "   bad_rate  \n",
       "91   FSPD30  \n",
       "92   FSPD30  \n",
       "93   FSPD30  \n",
       "94   FSPD30  \n",
       "95   FSPD30  "
      ]
     },
     "execution_count": 57,
     "metadata": {},
     "output_type": "execute_result"
    }
   ],
   "source": [
    "s_cic_scoreFSPD30.tail()"
   ]
  },
  {
   "cell_type": "markdown",
   "metadata": {},
   "source": [
    "## FSTPD30"
   ]
  },
  {
   "cell_type": "code",
   "execution_count": 58,
   "metadata": {},
   "outputs": [
    {
     "name": "stdout",
     "output_type": "stream",
     "text": [
      "Job ID dff7f0c4-f3b9-4731-9f95-27a158f526aa successfully executed: 100%|\u001b[32m██████████\u001b[0m|"
     ]
    },
    {
     "name": "stderr",
     "output_type": "stream",
     "text": [
      "d:\\Anaconda3\\envs\\inc_env\\lib\\site-packages\\google\\cloud\\bigquery\\table.py:1820: UserWarning: BigQuery Storage module not found, fetch data with the REST endpoint instead.\n",
      "  warnings.warn(\n"
     ]
    },
    {
     "name": "stdout",
     "output_type": "stream",
     "text": [
      "\n",
      "Downloading: 100%|\u001b[32m██████████\u001b[0m|\n"
     ]
    }
   ],
   "source": [
    "sq = \"\"\"\n",
    "with s_cic_score as \n",
    "(SELECT \n",
    "    ln_disb_dtime disbursementdate,\n",
    "\tdigitalLoanAccountId,\n",
    "    s_cic_score,\n",
    "    ln_fstpd30_flag,\n",
    "\tln_mature_fstpd30_flag,\t\n",
    "\tFROM \n",
    "    prj-prod-dataplatform.risk_mart.sil_risk_ds_master_20230101_20250206\n",
    "  WHERE \n",
    "     -- ln_disb_dtime >= '2023-07-01'\n",
    "    ln_appln_submit_datetime >= '2023-06-01'\n",
    "  -- AND\n",
    "  --   format_date('%Y-%m', ln_disb_dtime) = '2024-09'\n",
    "  AND\n",
    "    ln_fstpd30_flag is not null\n",
    "  AND\n",
    "    s_cic_score is not null\n",
    "  AND\n",
    "    ln_mature_fstpd30_flag = 1\n",
    ")\n",
    "select * from s_cic_score;\n",
    "\"\"\"\n",
    "\n",
    "df_s_cic_scorefstpd30 = client.query(sq).to_dataframe(progress_bar_type='tqdm')"
   ]
  },
  {
   "cell_type": "code",
   "execution_count": 59,
   "metadata": {},
   "outputs": [
    {
     "name": "stdout",
     "output_type": "stream",
     "text": [
      "The shape of dataframe after copy is:\t(90, 7)\n"
     ]
    },
    {
     "data": {
      "text/plain": [
       "array(['start_date', 'end_date', 's_cic_score_FSTPD30_gini', 'period',\n",
       "       'Model_Name', 'version', 'bad_rate'], dtype=object)"
      ]
     },
     "execution_count": 59,
     "metadata": {},
     "output_type": "execute_result"
    }
   ],
   "source": [
    "gini_results = calculate_periodic_gini(df_s_cic_scorefstpd30, 's_cic_score', 'ln_fstpd30_flag', 'FSTPD30')\n",
    "s_cic_scoreFSTPD30 = gini_results.copy()\n",
    "print(f\"The shape of dataframe after copy is:\\t{s_cic_scoreFSTPD30.shape}\")\n",
    "s_cic_scoreFSTPD30.columns.values"
   ]
  },
  {
   "cell_type": "code",
   "execution_count": 60,
   "metadata": {},
   "outputs": [
    {
     "data": {
      "application/vnd.microsoft.datawrangler.viewer.v0+json": {
       "columns": [
        {
         "name": "index",
         "rawType": "object",
         "type": "string"
        },
        {
         "name": "start_date",
         "rawType": "object",
         "type": "unknown"
        },
        {
         "name": "end_date",
         "rawType": "object",
         "type": "unknown"
        },
        {
         "name": "s_cic_score_FSTPD30_gini",
         "rawType": "float64",
         "type": "float"
        }
       ],
       "conversionMethod": "pd.DataFrame",
       "ref": "e5a90979-f1c3-45c5-83b5-9bcdd339eb41",
       "rows": [
        [
         "count",
         "90",
         "90",
         "90.0"
        ],
        [
         "mean",
         "2024-02-09 02:56:00",
         "2024-02-19 13:36:00",
         "0.30648815381398775"
        ],
        [
         "min",
         "2023-05-29 00:00:00",
         "2023-06-04 00:00:00",
         "0.15442176870748292"
        ],
        [
         "25%",
         "2023-10-03 18:00:00",
         "2023-10-16 18:00:00",
         "0.2573542282026035"
        ],
        [
         "50%",
         "2024-02-08 12:00:00",
         "2024-02-21 12:00:00",
         "0.30035229728660506"
        ],
        [
         "75%",
         "2024-06-15 06:00:00",
         "2024-06-28 06:00:00",
         "0.32559808000051965"
        ],
        [
         "max",
         "2024-10-21 00:00:00",
         "2024-10-31 00:00:00",
         "0.5718128025820335"
        ],
        [
         "std",
         null,
         null,
         "0.07324127400564846"
        ]
       ],
       "shape": {
        "columns": 3,
        "rows": 8
       }
      },
      "text/html": [
       "<div>\n",
       "<style scoped>\n",
       "    .dataframe tbody tr th:only-of-type {\n",
       "        vertical-align: middle;\n",
       "    }\n",
       "\n",
       "    .dataframe tbody tr th {\n",
       "        vertical-align: top;\n",
       "    }\n",
       "\n",
       "    .dataframe thead th {\n",
       "        text-align: right;\n",
       "    }\n",
       "</style>\n",
       "<table border=\"1\" class=\"dataframe\">\n",
       "  <thead>\n",
       "    <tr style=\"text-align: right;\">\n",
       "      <th></th>\n",
       "      <th>start_date</th>\n",
       "      <th>end_date</th>\n",
       "      <th>s_cic_score_FSTPD30_gini</th>\n",
       "    </tr>\n",
       "  </thead>\n",
       "  <tbody>\n",
       "    <tr>\n",
       "      <th>count</th>\n",
       "      <td>90</td>\n",
       "      <td>90</td>\n",
       "      <td>90.000000</td>\n",
       "    </tr>\n",
       "    <tr>\n",
       "      <th>mean</th>\n",
       "      <td>2024-02-09 02:56:00</td>\n",
       "      <td>2024-02-19 13:36:00</td>\n",
       "      <td>0.306488</td>\n",
       "    </tr>\n",
       "    <tr>\n",
       "      <th>min</th>\n",
       "      <td>2023-05-29 00:00:00</td>\n",
       "      <td>2023-06-04 00:00:00</td>\n",
       "      <td>0.154422</td>\n",
       "    </tr>\n",
       "    <tr>\n",
       "      <th>25%</th>\n",
       "      <td>2023-10-03 18:00:00</td>\n",
       "      <td>2023-10-16 18:00:00</td>\n",
       "      <td>0.257354</td>\n",
       "    </tr>\n",
       "    <tr>\n",
       "      <th>50%</th>\n",
       "      <td>2024-02-08 12:00:00</td>\n",
       "      <td>2024-02-21 12:00:00</td>\n",
       "      <td>0.300352</td>\n",
       "    </tr>\n",
       "    <tr>\n",
       "      <th>75%</th>\n",
       "      <td>2024-06-15 06:00:00</td>\n",
       "      <td>2024-06-28 06:00:00</td>\n",
       "      <td>0.325598</td>\n",
       "    </tr>\n",
       "    <tr>\n",
       "      <th>max</th>\n",
       "      <td>2024-10-21 00:00:00</td>\n",
       "      <td>2024-10-31 00:00:00</td>\n",
       "      <td>0.571813</td>\n",
       "    </tr>\n",
       "    <tr>\n",
       "      <th>std</th>\n",
       "      <td>NaN</td>\n",
       "      <td>NaN</td>\n",
       "      <td>0.073241</td>\n",
       "    </tr>\n",
       "  </tbody>\n",
       "</table>\n",
       "</div>"
      ],
      "text/plain": [
       "                start_date             end_date  s_cic_score_FSTPD30_gini\n",
       "count                   90                   90                 90.000000\n",
       "mean   2024-02-09 02:56:00  2024-02-19 13:36:00                  0.306488\n",
       "min    2023-05-29 00:00:00  2023-06-04 00:00:00                  0.154422\n",
       "25%    2023-10-03 18:00:00  2023-10-16 18:00:00                  0.257354\n",
       "50%    2024-02-08 12:00:00  2024-02-21 12:00:00                  0.300352\n",
       "75%    2024-06-15 06:00:00  2024-06-28 06:00:00                  0.325598\n",
       "max    2024-10-21 00:00:00  2024-10-31 00:00:00                  0.571813\n",
       "std                    NaN                  NaN                  0.073241"
      ]
     },
     "execution_count": 60,
     "metadata": {},
     "output_type": "execute_result"
    }
   ],
   "source": [
    "s_cic_scoreFSTPD30.describe()"
   ]
  },
  {
   "cell_type": "code",
   "execution_count": 61,
   "metadata": {},
   "outputs": [
    {
     "data": {
      "application/vnd.microsoft.datawrangler.viewer.v0+json": {
       "columns": [
        {
         "name": "index",
         "rawType": "int64",
         "type": "integer"
        },
        {
         "name": "start_date",
         "rawType": "datetime64[ns]",
         "type": "datetime"
        },
        {
         "name": "end_date",
         "rawType": "datetime64[ns]",
         "type": "datetime"
        },
        {
         "name": "s_cic_score_FSTPD30_gini",
         "rawType": "float64",
         "type": "float"
        },
        {
         "name": "period",
         "rawType": "object",
         "type": "string"
        },
        {
         "name": "Model_Name",
         "rawType": "object",
         "type": "string"
        },
        {
         "name": "version",
         "rawType": "object",
         "type": "string"
        },
        {
         "name": "bad_rate",
         "rawType": "object",
         "type": "string"
        }
       ],
       "conversionMethod": "pd.DataFrame",
       "ref": "471478d9-b571-47d2-baa7-0d5b419e9003",
       "rows": [
        [
         "85",
         "2024-09-30 00:00:00",
         "2024-10-06 00:00:00",
         "0.31306172006329636",
         "Week",
         "s_cic_score",
         "1.1.0",
         "FSTPD30"
        ],
        [
         "86",
         "2024-10-01 00:00:00",
         "2024-10-31 00:00:00",
         "0.3027230289235878",
         "Month",
         "s_cic_score",
         "1.1.0",
         "FSTPD30"
        ],
        [
         "87",
         "2024-10-07 00:00:00",
         "2024-10-13 00:00:00",
         "0.32129397752110744",
         "Week",
         "s_cic_score",
         "1.1.0",
         "FSTPD30"
        ],
        [
         "88",
         "2024-10-14 00:00:00",
         "2024-10-20 00:00:00",
         "0.27174443258157566",
         "Week",
         "s_cic_score",
         "1.1.0",
         "FSTPD30"
        ],
        [
         "89",
         "2024-10-21 00:00:00",
         "2024-10-27 00:00:00",
         "0.29960778820563094",
         "Week",
         "s_cic_score",
         "1.1.0",
         "FSTPD30"
        ]
       ],
       "shape": {
        "columns": 7,
        "rows": 5
       }
      },
      "text/html": [
       "<div>\n",
       "<style scoped>\n",
       "    .dataframe tbody tr th:only-of-type {\n",
       "        vertical-align: middle;\n",
       "    }\n",
       "\n",
       "    .dataframe tbody tr th {\n",
       "        vertical-align: top;\n",
       "    }\n",
       "\n",
       "    .dataframe thead th {\n",
       "        text-align: right;\n",
       "    }\n",
       "</style>\n",
       "<table border=\"1\" class=\"dataframe\">\n",
       "  <thead>\n",
       "    <tr style=\"text-align: right;\">\n",
       "      <th></th>\n",
       "      <th>start_date</th>\n",
       "      <th>end_date</th>\n",
       "      <th>s_cic_score_FSTPD30_gini</th>\n",
       "      <th>period</th>\n",
       "      <th>Model_Name</th>\n",
       "      <th>version</th>\n",
       "      <th>bad_rate</th>\n",
       "    </tr>\n",
       "  </thead>\n",
       "  <tbody>\n",
       "    <tr>\n",
       "      <th>85</th>\n",
       "      <td>2024-09-30</td>\n",
       "      <td>2024-10-06</td>\n",
       "      <td>0.313062</td>\n",
       "      <td>Week</td>\n",
       "      <td>s_cic_score</td>\n",
       "      <td>1.1.0</td>\n",
       "      <td>FSTPD30</td>\n",
       "    </tr>\n",
       "    <tr>\n",
       "      <th>86</th>\n",
       "      <td>2024-10-01</td>\n",
       "      <td>2024-10-31</td>\n",
       "      <td>0.302723</td>\n",
       "      <td>Month</td>\n",
       "      <td>s_cic_score</td>\n",
       "      <td>1.1.0</td>\n",
       "      <td>FSTPD30</td>\n",
       "    </tr>\n",
       "    <tr>\n",
       "      <th>87</th>\n",
       "      <td>2024-10-07</td>\n",
       "      <td>2024-10-13</td>\n",
       "      <td>0.321294</td>\n",
       "      <td>Week</td>\n",
       "      <td>s_cic_score</td>\n",
       "      <td>1.1.0</td>\n",
       "      <td>FSTPD30</td>\n",
       "    </tr>\n",
       "    <tr>\n",
       "      <th>88</th>\n",
       "      <td>2024-10-14</td>\n",
       "      <td>2024-10-20</td>\n",
       "      <td>0.271744</td>\n",
       "      <td>Week</td>\n",
       "      <td>s_cic_score</td>\n",
       "      <td>1.1.0</td>\n",
       "      <td>FSTPD30</td>\n",
       "    </tr>\n",
       "    <tr>\n",
       "      <th>89</th>\n",
       "      <td>2024-10-21</td>\n",
       "      <td>2024-10-27</td>\n",
       "      <td>0.299608</td>\n",
       "      <td>Week</td>\n",
       "      <td>s_cic_score</td>\n",
       "      <td>1.1.0</td>\n",
       "      <td>FSTPD30</td>\n",
       "    </tr>\n",
       "  </tbody>\n",
       "</table>\n",
       "</div>"
      ],
      "text/plain": [
       "   start_date   end_date  s_cic_score_FSTPD30_gini period   Model_Name  \\\n",
       "85 2024-09-30 2024-10-06                  0.313062   Week  s_cic_score   \n",
       "86 2024-10-01 2024-10-31                  0.302723  Month  s_cic_score   \n",
       "87 2024-10-07 2024-10-13                  0.321294   Week  s_cic_score   \n",
       "88 2024-10-14 2024-10-20                  0.271744   Week  s_cic_score   \n",
       "89 2024-10-21 2024-10-27                  0.299608   Week  s_cic_score   \n",
       "\n",
       "   version bad_rate  \n",
       "85   1.1.0  FSTPD30  \n",
       "86   1.1.0  FSTPD30  \n",
       "87   1.1.0  FSTPD30  \n",
       "88   1.1.0  FSTPD30  \n",
       "89   1.1.0  FSTPD30  "
      ]
     },
     "execution_count": 61,
     "metadata": {},
     "output_type": "execute_result"
    }
   ],
   "source": [
    "s_cic_scoreFSTPD30.tail()"
   ]
  },
  {
   "cell_type": "markdown",
   "metadata": {},
   "source": [
    "# Combining s_cic_score"
   ]
  },
  {
   "cell_type": "code",
   "execution_count": 62,
   "metadata": {},
   "outputs": [
    {
     "data": {
      "text/plain": [
       "array(['start_date', 'end_date', 's_cic_score_FPD10_gini', 'period',\n",
       "       'Model_Name', 'version', 'bad_rate', 's_cic_score_FPD30_gini',\n",
       "       's_cic_score_FSPD30_gini', 's_cic_score_FSTPD30_gini'],\n",
       "      dtype=object)"
      ]
     },
     "execution_count": 62,
     "metadata": {},
     "output_type": "execute_result"
    }
   ],
   "source": [
    "import functools\n",
    "\n",
    "dataframes = [s_cic_scoreFPD10, s_cic_scoreFPD30, s_cic_scoreFSPD30, s_cic_scoreFSTPD30]\n",
    "common_columns = ['start_date', 'end_date', 'period', 'Model_Name','version', 'bad_rate']\n",
    "\n",
    "def merge_dataframes(df1, df2):\n",
    "    return pd.merge(df1, df2, on=common_columns, how='outer')\n",
    "\n",
    "final_df = functools.reduce(merge_dataframes, dataframes)\n",
    "\n",
    "final_df.columns.values"
   ]
  },
  {
   "cell_type": "code",
   "execution_count": 63,
   "metadata": {},
   "outputs": [],
   "source": [
    "final_df = final_df[['start_date', 'end_date', 'period',\n",
    "       'Model_Name', 'version', 'bad_rate','s_cic_score_FPD10_gini','s_cic_score_FPD30_gini', 's_cic_score_FSPD30_gini', 's_cic_score_FSTPD30_gini']].copy()"
   ]
  },
  {
   "cell_type": "markdown",
   "metadata": {},
   "source": [
    "## Creating the table"
   ]
  },
  {
   "cell_type": "code",
   "execution_count": 64,
   "metadata": {},
   "outputs": [
    {
     "data": {
      "text/plain": [
       "QueryJob<project=prj-prod-dataplatform, location=asia-southeast1, id=b0e794ed-a461-46d6-9581-c4aa91098e37>"
      ]
     },
     "execution_count": 64,
     "metadata": {},
     "output_type": "execute_result"
    }
   ],
   "source": [
    "sq = \"\"\"drop table if exists prj-prod-dataplatform.dap_ds_poweruser_playground.Model_gini_s_cic_score;\"\"\"\n",
    "\n",
    "client.query(sq)"
   ]
  },
  {
   "cell_type": "code",
   "execution_count": 65,
   "metadata": {},
   "outputs": [
    {
     "data": {
      "text/plain": [
       "LoadJob<project=prj-prod-dataplatform, location=asia-southeast1, id=10ecdb23-7e63-428b-99c5-15bcab52fd29>"
      ]
     },
     "execution_count": 65,
     "metadata": {},
     "output_type": "execute_result"
    }
   ],
   "source": [
    "\n",
    "\n",
    "import pandas as pd\n",
    "from google.cloud import bigquery\n",
    "\n",
    "# Create a BigQuery client\n",
    "client = bigquery.Client('prj-prod-dataplatform')\n",
    "\n",
    "# Define your table schema\n",
    "table_schema = [\n",
    "    bigquery.SchemaField('start_date', 'TIMESTAMP'),\n",
    "    bigquery.SchemaField('end_date', 'TIMESTAMP'),\n",
    "    bigquery.SchemaField('period', 'STRING'),\n",
    "    bigquery.SchemaField('Model_Name', 'STRING'),\n",
    "    bigquery.SchemaField('version', 'STRING'),\n",
    "    bigquery.SchemaField('Badrate', 'STRING'),\n",
    "    bigquery.SchemaField('s_cic_score_FPD10_gini', 'FLOAT'),\n",
    "    bigquery.SchemaField('s_cic_score_FPD30_gini', 'FLOAT'),    \n",
    "    bigquery.SchemaField('s_cic_score_FSPD30_gini', 'FLOAT'),\n",
    "    bigquery.SchemaField('s_cic_score_FSTPD30_gini', 'FLOAT')\n",
    "    \n",
    "]\n",
    "\n",
    "# Create your BigQuery table\n",
    "table_id = 'prj-prod-dataplatform.dap_ds_poweruser_playground.Model_gini_s_cic_score'\n",
    "table = bigquery.Table(table_id, schema=table_schema)\n",
    "table = client.create_table(table)\n",
    "\n",
    "# Load your DataFrame into BigQuery\n",
    "job_config = bigquery.LoadJobConfig(\n",
    "    write_disposition='WRITE_TRUNCATE'\n",
    ")\n",
    "\n",
    "load_job = client.load_table_from_dataframe(\n",
    "    final_df, table_id, job_config=job_config\n",
    ")\n",
    "\n",
    "load_job.result()"
   ]
  },
  {
   "cell_type": "markdown",
   "metadata": {},
   "source": [
    "# sb_stack_score"
   ]
  },
  {
   "cell_type": "markdown",
   "metadata": {},
   "source": [
    "## FPD10"
   ]
  },
  {
   "cell_type": "code",
   "execution_count": 66,
   "metadata": {},
   "outputs": [
    {
     "name": "stdout",
     "output_type": "stream",
     "text": [
      "Job ID 86fa4be3-da08-4a4a-93ae-fd0d9550b0b0 successfully executed: 100%|\u001b[32m██████████\u001b[0m|"
     ]
    },
    {
     "name": "stderr",
     "output_type": "stream",
     "text": [
      "d:\\Anaconda3\\envs\\inc_env\\lib\\site-packages\\google\\cloud\\bigquery\\table.py:1820: UserWarning: BigQuery Storage module not found, fetch data with the REST endpoint instead.\n",
      "  warnings.warn(\n"
     ]
    },
    {
     "name": "stdout",
     "output_type": "stream",
     "text": [
      "\n",
      "Downloading: 100%|\u001b[32m██████████\u001b[0m|\n"
     ]
    },
    {
     "data": {
      "application/vnd.microsoft.datawrangler.viewer.v0+json": {
       "columns": [
        {
         "name": "index",
         "rawType": "int64",
         "type": "integer"
        },
        {
         "name": "disbursementdate",
         "rawType": "datetime64[us]",
         "type": "unknown"
        },
        {
         "name": "digitalLoanAccountId",
         "rawType": "object",
         "type": "string"
        },
        {
         "name": "sb_stack_score",
         "rawType": "float64",
         "type": "float"
        },
        {
         "name": "ln_fpd10_flag",
         "rawType": "Int64",
         "type": "integer"
        },
        {
         "name": "ln_mature_fpd10_flag",
         "rawType": "Int64",
         "type": "integer"
        }
       ],
       "conversionMethod": "pd.DataFrame",
       "ref": "784c26ab-2f25-4193-8017-9efcb9e1cad2",
       "rows": [
        [
         "0",
         "2023-06-01 10:42:34",
         "f91cba31-7630-477a-8cdd-d010b63c4900",
         "0.02009022669408563",
         "0",
         "1"
        ],
        [
         "1",
         "2023-06-01 11:02:18",
         "7e7e7678-b36d-4b26-ad01-272565b54780",
         "0.05551696950166597",
         "0",
         "1"
        ],
        [
         "2",
         "2023-06-01 12:56:23",
         "e585b35d-bc13-494d-970d-2272d976991b",
         "0.04383780971782166",
         "0",
         "1"
        ],
        [
         "3",
         "2023-06-01 14:43:46",
         "4e78ebf3-256e-426c-8840-a7f9e1403a97",
         "0.08497247349117663",
         "0",
         "1"
        ],
        [
         "4",
         "2023-06-01 15:36:13",
         "a3dc185d-0118-4ebc-bf03-117fdd8f9c64",
         "0.08597590962736756",
         "0",
         "1"
        ]
       ],
       "shape": {
        "columns": 5,
        "rows": 5
       }
      },
      "text/html": [
       "<div>\n",
       "<style scoped>\n",
       "    .dataframe tbody tr th:only-of-type {\n",
       "        vertical-align: middle;\n",
       "    }\n",
       "\n",
       "    .dataframe tbody tr th {\n",
       "        vertical-align: top;\n",
       "    }\n",
       "\n",
       "    .dataframe thead th {\n",
       "        text-align: right;\n",
       "    }\n",
       "</style>\n",
       "<table border=\"1\" class=\"dataframe\">\n",
       "  <thead>\n",
       "    <tr style=\"text-align: right;\">\n",
       "      <th></th>\n",
       "      <th>disbursementdate</th>\n",
       "      <th>digitalLoanAccountId</th>\n",
       "      <th>sb_stack_score</th>\n",
       "      <th>ln_fpd10_flag</th>\n",
       "      <th>ln_mature_fpd10_flag</th>\n",
       "    </tr>\n",
       "  </thead>\n",
       "  <tbody>\n",
       "    <tr>\n",
       "      <th>0</th>\n",
       "      <td>2023-06-01 10:42:34</td>\n",
       "      <td>f91cba31-7630-477a-8cdd-d010b63c4900</td>\n",
       "      <td>0.020090</td>\n",
       "      <td>0</td>\n",
       "      <td>1</td>\n",
       "    </tr>\n",
       "    <tr>\n",
       "      <th>1</th>\n",
       "      <td>2023-06-01 11:02:18</td>\n",
       "      <td>7e7e7678-b36d-4b26-ad01-272565b54780</td>\n",
       "      <td>0.055517</td>\n",
       "      <td>0</td>\n",
       "      <td>1</td>\n",
       "    </tr>\n",
       "    <tr>\n",
       "      <th>2</th>\n",
       "      <td>2023-06-01 12:56:23</td>\n",
       "      <td>e585b35d-bc13-494d-970d-2272d976991b</td>\n",
       "      <td>0.043838</td>\n",
       "      <td>0</td>\n",
       "      <td>1</td>\n",
       "    </tr>\n",
       "    <tr>\n",
       "      <th>3</th>\n",
       "      <td>2023-06-01 14:43:46</td>\n",
       "      <td>4e78ebf3-256e-426c-8840-a7f9e1403a97</td>\n",
       "      <td>0.084972</td>\n",
       "      <td>0</td>\n",
       "      <td>1</td>\n",
       "    </tr>\n",
       "    <tr>\n",
       "      <th>4</th>\n",
       "      <td>2023-06-01 15:36:13</td>\n",
       "      <td>a3dc185d-0118-4ebc-bf03-117fdd8f9c64</td>\n",
       "      <td>0.085976</td>\n",
       "      <td>0</td>\n",
       "      <td>1</td>\n",
       "    </tr>\n",
       "  </tbody>\n",
       "</table>\n",
       "</div>"
      ],
      "text/plain": [
       "     disbursementdate                  digitalLoanAccountId  sb_stack_score  \\\n",
       "0 2023-06-01 10:42:34  f91cba31-7630-477a-8cdd-d010b63c4900        0.020090   \n",
       "1 2023-06-01 11:02:18  7e7e7678-b36d-4b26-ad01-272565b54780        0.055517   \n",
       "2 2023-06-01 12:56:23  e585b35d-bc13-494d-970d-2272d976991b        0.043838   \n",
       "3 2023-06-01 14:43:46  4e78ebf3-256e-426c-8840-a7f9e1403a97        0.084972   \n",
       "4 2023-06-01 15:36:13  a3dc185d-0118-4ebc-bf03-117fdd8f9c64        0.085976   \n",
       "\n",
       "   ln_fpd10_flag  ln_mature_fpd10_flag  \n",
       "0              0                     1  \n",
       "1              0                     1  \n",
       "2              0                     1  \n",
       "3              0                     1  \n",
       "4              0                     1  "
      ]
     },
     "execution_count": 66,
     "metadata": {},
     "output_type": "execute_result"
    }
   ],
   "source": [
    "# sb_stack_score\n",
    "\n",
    "sq = \"\"\"\n",
    "with sb_stack_score as \n",
    "(SELECT \n",
    "    ln_disb_dtime disbursementdate,\n",
    "\tdigitalLoanAccountId,\n",
    "    sb_stack_score,\n",
    "    ln_fpd10_flag,\n",
    "\tln_mature_fpd10_flag,\t\n",
    "\tFROM \n",
    "    prj-prod-dataplatform.risk_mart.sil_risk_ds_master_20230101_20250206\n",
    "  WHERE \n",
    "     -- ln_disb_dtime >= '2023-07-01'\n",
    "    ln_appln_submit_datetime >= '2023-06-01'\n",
    "  -- AND\n",
    "  --   format_date('%Y-%m', ln_disb_dtime) = '2024-09'\n",
    "  AND\n",
    "    ln_fpd10_flag is not null\n",
    "  AND\n",
    "    sb_stack_score is not null\n",
    "  AND\n",
    "    ln_mature_fpd10_flag = 1\n",
    ")\n",
    "select * from sb_stack_score;\n",
    "\"\"\"\n",
    "\n",
    "df_sb_stack_scorefpd10 = client.query(sq).to_dataframe(progress_bar_type='tqdm')\n",
    "\n",
    "df_sb_stack_scorefpd10.head()"
   ]
  },
  {
   "cell_type": "code",
   "execution_count": 67,
   "metadata": {},
   "outputs": [
    {
     "name": "stdout",
     "output_type": "stream",
     "text": [
      "The shape of dataframe after copy is:\t(106, 7)\n"
     ]
    },
    {
     "data": {
      "text/plain": [
       "array(['start_date', 'end_date', 'sb_stack_score_FPD10_gini', 'period',\n",
       "       'Model_Name', 'version', 'bad_rate'], dtype=object)"
      ]
     },
     "execution_count": 67,
     "metadata": {},
     "output_type": "execute_result"
    }
   ],
   "source": [
    "gini_results = calculate_periodic_gini(df_sb_stack_scorefpd10, 'sb_stack_score', 'ln_fpd10_flag', 'FPD10')\n",
    "M1FPD10 = gini_results.copy()\n",
    "print(f\"The shape of dataframe after copy is:\\t{M1FPD10.shape}\")\n",
    "M1FPD10.columns.values"
   ]
  },
  {
   "cell_type": "code",
   "execution_count": 68,
   "metadata": {},
   "outputs": [
    {
     "data": {
      "application/vnd.microsoft.datawrangler.viewer.v0+json": {
       "columns": [
        {
         "name": "index",
         "rawType": "object",
         "type": "string"
        },
        {
         "name": "start_date",
         "rawType": "object",
         "type": "unknown"
        },
        {
         "name": "end_date",
         "rawType": "object",
         "type": "unknown"
        },
        {
         "name": "sb_stack_score_FPD10_gini",
         "rawType": "float64",
         "type": "float"
        }
       ],
       "conversionMethod": "pd.DataFrame",
       "ref": "b15d08df-1fe4-4eca-8a66-1a7de6bb390b",
       "rows": [
        [
         "count",
         "106",
         "106",
         "106.0"
        ],
        [
         "mean",
         "2024-03-20 14:56:36.226415104",
         "2024-03-31 01:35:05.660377344",
         "0.3485317295894302"
        ],
        [
         "min",
         "2023-05-29 00:00:00",
         "2023-06-04 00:00:00",
         "-0.07272727272727264"
        ],
        [
         "25%",
         "2023-10-24 18:00:00",
         "2023-11-01 06:00:00",
         "0.2994068628982925"
        ],
        [
         "50%",
         "2024-03-21 12:00:00",
         "2024-03-31 00:00:00",
         "0.33664395665288027"
        ],
        [
         "75%",
         "2024-08-17 06:00:00",
         "2024-08-29 12:00:00",
         "0.4078670662329355"
        ],
        [
         "max",
         "2025-01-13 00:00:00",
         "2025-01-31 00:00:00",
         "0.6635220125786163"
        ],
        [
         "std",
         null,
         null,
         "0.09724577267193812"
        ]
       ],
       "shape": {
        "columns": 3,
        "rows": 8
       }
      },
      "text/html": [
       "<div>\n",
       "<style scoped>\n",
       "    .dataframe tbody tr th:only-of-type {\n",
       "        vertical-align: middle;\n",
       "    }\n",
       "\n",
       "    .dataframe tbody tr th {\n",
       "        vertical-align: top;\n",
       "    }\n",
       "\n",
       "    .dataframe thead th {\n",
       "        text-align: right;\n",
       "    }\n",
       "</style>\n",
       "<table border=\"1\" class=\"dataframe\">\n",
       "  <thead>\n",
       "    <tr style=\"text-align: right;\">\n",
       "      <th></th>\n",
       "      <th>start_date</th>\n",
       "      <th>end_date</th>\n",
       "      <th>sb_stack_score_FPD10_gini</th>\n",
       "    </tr>\n",
       "  </thead>\n",
       "  <tbody>\n",
       "    <tr>\n",
       "      <th>count</th>\n",
       "      <td>106</td>\n",
       "      <td>106</td>\n",
       "      <td>106.000000</td>\n",
       "    </tr>\n",
       "    <tr>\n",
       "      <th>mean</th>\n",
       "      <td>2024-03-20 14:56:36.226415104</td>\n",
       "      <td>2024-03-31 01:35:05.660377344</td>\n",
       "      <td>0.348532</td>\n",
       "    </tr>\n",
       "    <tr>\n",
       "      <th>min</th>\n",
       "      <td>2023-05-29 00:00:00</td>\n",
       "      <td>2023-06-04 00:00:00</td>\n",
       "      <td>-0.072727</td>\n",
       "    </tr>\n",
       "    <tr>\n",
       "      <th>25%</th>\n",
       "      <td>2023-10-24 18:00:00</td>\n",
       "      <td>2023-11-01 06:00:00</td>\n",
       "      <td>0.299407</td>\n",
       "    </tr>\n",
       "    <tr>\n",
       "      <th>50%</th>\n",
       "      <td>2024-03-21 12:00:00</td>\n",
       "      <td>2024-03-31 00:00:00</td>\n",
       "      <td>0.336644</td>\n",
       "    </tr>\n",
       "    <tr>\n",
       "      <th>75%</th>\n",
       "      <td>2024-08-17 06:00:00</td>\n",
       "      <td>2024-08-29 12:00:00</td>\n",
       "      <td>0.407867</td>\n",
       "    </tr>\n",
       "    <tr>\n",
       "      <th>max</th>\n",
       "      <td>2025-01-13 00:00:00</td>\n",
       "      <td>2025-01-31 00:00:00</td>\n",
       "      <td>0.663522</td>\n",
       "    </tr>\n",
       "    <tr>\n",
       "      <th>std</th>\n",
       "      <td>NaN</td>\n",
       "      <td>NaN</td>\n",
       "      <td>0.097246</td>\n",
       "    </tr>\n",
       "  </tbody>\n",
       "</table>\n",
       "</div>"
      ],
      "text/plain": [
       "                          start_date                       end_date  \\\n",
       "count                            106                            106   \n",
       "mean   2024-03-20 14:56:36.226415104  2024-03-31 01:35:05.660377344   \n",
       "min              2023-05-29 00:00:00            2023-06-04 00:00:00   \n",
       "25%              2023-10-24 18:00:00            2023-11-01 06:00:00   \n",
       "50%              2024-03-21 12:00:00            2024-03-31 00:00:00   \n",
       "75%              2024-08-17 06:00:00            2024-08-29 12:00:00   \n",
       "max              2025-01-13 00:00:00            2025-01-31 00:00:00   \n",
       "std                              NaN                            NaN   \n",
       "\n",
       "       sb_stack_score_FPD10_gini  \n",
       "count                 106.000000  \n",
       "mean                    0.348532  \n",
       "min                    -0.072727  \n",
       "25%                     0.299407  \n",
       "50%                     0.336644  \n",
       "75%                     0.407867  \n",
       "max                     0.663522  \n",
       "std                     0.097246  "
      ]
     },
     "execution_count": 68,
     "metadata": {},
     "output_type": "execute_result"
    }
   ],
   "source": [
    "M1FPD10.describe()"
   ]
  },
  {
   "cell_type": "code",
   "execution_count": 69,
   "metadata": {},
   "outputs": [
    {
     "data": {
      "application/vnd.microsoft.datawrangler.viewer.v0+json": {
       "columns": [
        {
         "name": "index",
         "rawType": "int64",
         "type": "integer"
        },
        {
         "name": "start_date",
         "rawType": "datetime64[ns]",
         "type": "datetime"
        },
        {
         "name": "end_date",
         "rawType": "datetime64[ns]",
         "type": "datetime"
        },
        {
         "name": "sb_stack_score_FPD10_gini",
         "rawType": "float64",
         "type": "float"
        },
        {
         "name": "period",
         "rawType": "object",
         "type": "string"
        },
        {
         "name": "Model_Name",
         "rawType": "object",
         "type": "string"
        },
        {
         "name": "version",
         "rawType": "object",
         "type": "string"
        },
        {
         "name": "bad_rate",
         "rawType": "object",
         "type": "string"
        }
       ],
       "conversionMethod": "pd.DataFrame",
       "ref": "7ee57384-7c54-4fbd-a94e-7c4bc807d233",
       "rows": [
        [
         "0",
         "2023-05-29 00:00:00",
         "2023-06-04 00:00:00",
         "0.48790658882401994",
         "Week",
         "sb_stack_score",
         "1.1.0",
         "FPD10"
        ],
        [
         "1",
         "2023-06-01 00:00:00",
         "2023-06-30 00:00:00",
         "0.31796025496812885",
         "Month",
         "sb_stack_score",
         "1.1.0",
         "FPD10"
        ],
        [
         "2",
         "2023-06-05 00:00:00",
         "2023-06-11 00:00:00",
         "0.41242564441506935",
         "Week",
         "sb_stack_score",
         "1.1.0",
         "FPD10"
        ],
        [
         "3",
         "2023-06-12 00:00:00",
         "2023-06-18 00:00:00",
         "0.6635220125786163",
         "Week",
         "sb_stack_score",
         "1.1.0",
         "FPD10"
        ],
        [
         "4",
         "2023-06-19 00:00:00",
         "2023-06-25 00:00:00",
         "-0.07272727272727264",
         "Week",
         "sb_stack_score",
         "1.1.0",
         "FPD10"
        ]
       ],
       "shape": {
        "columns": 7,
        "rows": 5
       }
      },
      "text/html": [
       "<div>\n",
       "<style scoped>\n",
       "    .dataframe tbody tr th:only-of-type {\n",
       "        vertical-align: middle;\n",
       "    }\n",
       "\n",
       "    .dataframe tbody tr th {\n",
       "        vertical-align: top;\n",
       "    }\n",
       "\n",
       "    .dataframe thead th {\n",
       "        text-align: right;\n",
       "    }\n",
       "</style>\n",
       "<table border=\"1\" class=\"dataframe\">\n",
       "  <thead>\n",
       "    <tr style=\"text-align: right;\">\n",
       "      <th></th>\n",
       "      <th>start_date</th>\n",
       "      <th>end_date</th>\n",
       "      <th>sb_stack_score_FPD10_gini</th>\n",
       "      <th>period</th>\n",
       "      <th>Model_Name</th>\n",
       "      <th>version</th>\n",
       "      <th>bad_rate</th>\n",
       "    </tr>\n",
       "  </thead>\n",
       "  <tbody>\n",
       "    <tr>\n",
       "      <th>0</th>\n",
       "      <td>2023-05-29</td>\n",
       "      <td>2023-06-04</td>\n",
       "      <td>0.487907</td>\n",
       "      <td>Week</td>\n",
       "      <td>sb_stack_score</td>\n",
       "      <td>1.1.0</td>\n",
       "      <td>FPD10</td>\n",
       "    </tr>\n",
       "    <tr>\n",
       "      <th>1</th>\n",
       "      <td>2023-06-01</td>\n",
       "      <td>2023-06-30</td>\n",
       "      <td>0.317960</td>\n",
       "      <td>Month</td>\n",
       "      <td>sb_stack_score</td>\n",
       "      <td>1.1.0</td>\n",
       "      <td>FPD10</td>\n",
       "    </tr>\n",
       "    <tr>\n",
       "      <th>2</th>\n",
       "      <td>2023-06-05</td>\n",
       "      <td>2023-06-11</td>\n",
       "      <td>0.412426</td>\n",
       "      <td>Week</td>\n",
       "      <td>sb_stack_score</td>\n",
       "      <td>1.1.0</td>\n",
       "      <td>FPD10</td>\n",
       "    </tr>\n",
       "    <tr>\n",
       "      <th>3</th>\n",
       "      <td>2023-06-12</td>\n",
       "      <td>2023-06-18</td>\n",
       "      <td>0.663522</td>\n",
       "      <td>Week</td>\n",
       "      <td>sb_stack_score</td>\n",
       "      <td>1.1.0</td>\n",
       "      <td>FPD10</td>\n",
       "    </tr>\n",
       "    <tr>\n",
       "      <th>4</th>\n",
       "      <td>2023-06-19</td>\n",
       "      <td>2023-06-25</td>\n",
       "      <td>-0.072727</td>\n",
       "      <td>Week</td>\n",
       "      <td>sb_stack_score</td>\n",
       "      <td>1.1.0</td>\n",
       "      <td>FPD10</td>\n",
       "    </tr>\n",
       "  </tbody>\n",
       "</table>\n",
       "</div>"
      ],
      "text/plain": [
       "  start_date   end_date  sb_stack_score_FPD10_gini period      Model_Name  \\\n",
       "0 2023-05-29 2023-06-04                   0.487907   Week  sb_stack_score   \n",
       "1 2023-06-01 2023-06-30                   0.317960  Month  sb_stack_score   \n",
       "2 2023-06-05 2023-06-11                   0.412426   Week  sb_stack_score   \n",
       "3 2023-06-12 2023-06-18                   0.663522   Week  sb_stack_score   \n",
       "4 2023-06-19 2023-06-25                  -0.072727   Week  sb_stack_score   \n",
       "\n",
       "  version bad_rate  \n",
       "0   1.1.0    FPD10  \n",
       "1   1.1.0    FPD10  \n",
       "2   1.1.0    FPD10  \n",
       "3   1.1.0    FPD10  \n",
       "4   1.1.0    FPD10  "
      ]
     },
     "execution_count": 69,
     "metadata": {},
     "output_type": "execute_result"
    }
   ],
   "source": [
    "M1FPD10.head()"
   ]
  },
  {
   "cell_type": "markdown",
   "metadata": {},
   "source": [
    "## FPD30"
   ]
  },
  {
   "cell_type": "code",
   "execution_count": 70,
   "metadata": {},
   "outputs": [
    {
     "name": "stdout",
     "output_type": "stream",
     "text": [
      "Job ID ac2f0fa5-b6d1-4461-8154-c46dbbeb382f successfully executed: 100%|\u001b[32m██████████\u001b[0m|"
     ]
    },
    {
     "name": "stderr",
     "output_type": "stream",
     "text": [
      "d:\\Anaconda3\\envs\\inc_env\\lib\\site-packages\\google\\cloud\\bigquery\\table.py:1820: UserWarning: BigQuery Storage module not found, fetch data with the REST endpoint instead.\n",
      "  warnings.warn(\n"
     ]
    },
    {
     "name": "stdout",
     "output_type": "stream",
     "text": [
      "\n",
      "Downloading: 100%|\u001b[32m██████████\u001b[0m|\n"
     ]
    },
    {
     "data": {
      "application/vnd.microsoft.datawrangler.viewer.v0+json": {
       "columns": [
        {
         "name": "index",
         "rawType": "int64",
         "type": "integer"
        },
        {
         "name": "disbursementdate",
         "rawType": "datetime64[us]",
         "type": "unknown"
        },
        {
         "name": "digitalLoanAccountId",
         "rawType": "object",
         "type": "string"
        },
        {
         "name": "sb_stack_score",
         "rawType": "float64",
         "type": "float"
        },
        {
         "name": "ln_fpd30_flag",
         "rawType": "Int64",
         "type": "integer"
        },
        {
         "name": "ln_mature_fpd30_flag",
         "rawType": "Int64",
         "type": "integer"
        }
       ],
       "conversionMethod": "pd.DataFrame",
       "ref": "95f03069-6ac5-4e73-899e-a15d3ac4ff65",
       "rows": [
        [
         "0",
         "2023-06-01 10:40:18",
         "ac002041-b0be-446e-b173-65effe340651",
         "0.13337769970161573",
         "0",
         "1"
        ],
        [
         "1",
         "2023-06-01 12:17:20",
         "4fddb4fa-6e60-42b0-adec-295658bd1093",
         "0.04892996344463717",
         "0",
         "1"
        ],
        [
         "2",
         "2023-06-01 12:36:51",
         "855bccd7-f3d4-461f-9748-bb50b07e0327",
         "0.1430190165243615",
         "0",
         "1"
        ],
        [
         "3",
         "2023-06-01 14:57:43",
         "ac518432-9362-4014-86d4-565c0125b27b",
         "0.07866585610299799",
         "0",
         "1"
        ],
        [
         "4",
         "2023-06-01 15:52:56",
         "b11e0b23-1b34-4d8c-984d-1239a7b389c1",
         "0.02395970319161175",
         "0",
         "1"
        ]
       ],
       "shape": {
        "columns": 5,
        "rows": 5
       }
      },
      "text/html": [
       "<div>\n",
       "<style scoped>\n",
       "    .dataframe tbody tr th:only-of-type {\n",
       "        vertical-align: middle;\n",
       "    }\n",
       "\n",
       "    .dataframe tbody tr th {\n",
       "        vertical-align: top;\n",
       "    }\n",
       "\n",
       "    .dataframe thead th {\n",
       "        text-align: right;\n",
       "    }\n",
       "</style>\n",
       "<table border=\"1\" class=\"dataframe\">\n",
       "  <thead>\n",
       "    <tr style=\"text-align: right;\">\n",
       "      <th></th>\n",
       "      <th>disbursementdate</th>\n",
       "      <th>digitalLoanAccountId</th>\n",
       "      <th>sb_stack_score</th>\n",
       "      <th>ln_fpd30_flag</th>\n",
       "      <th>ln_mature_fpd30_flag</th>\n",
       "    </tr>\n",
       "  </thead>\n",
       "  <tbody>\n",
       "    <tr>\n",
       "      <th>0</th>\n",
       "      <td>2023-06-01 10:40:18</td>\n",
       "      <td>ac002041-b0be-446e-b173-65effe340651</td>\n",
       "      <td>0.133378</td>\n",
       "      <td>0</td>\n",
       "      <td>1</td>\n",
       "    </tr>\n",
       "    <tr>\n",
       "      <th>1</th>\n",
       "      <td>2023-06-01 12:17:20</td>\n",
       "      <td>4fddb4fa-6e60-42b0-adec-295658bd1093</td>\n",
       "      <td>0.048930</td>\n",
       "      <td>0</td>\n",
       "      <td>1</td>\n",
       "    </tr>\n",
       "    <tr>\n",
       "      <th>2</th>\n",
       "      <td>2023-06-01 12:36:51</td>\n",
       "      <td>855bccd7-f3d4-461f-9748-bb50b07e0327</td>\n",
       "      <td>0.143019</td>\n",
       "      <td>0</td>\n",
       "      <td>1</td>\n",
       "    </tr>\n",
       "    <tr>\n",
       "      <th>3</th>\n",
       "      <td>2023-06-01 14:57:43</td>\n",
       "      <td>ac518432-9362-4014-86d4-565c0125b27b</td>\n",
       "      <td>0.078666</td>\n",
       "      <td>0</td>\n",
       "      <td>1</td>\n",
       "    </tr>\n",
       "    <tr>\n",
       "      <th>4</th>\n",
       "      <td>2023-06-01 15:52:56</td>\n",
       "      <td>b11e0b23-1b34-4d8c-984d-1239a7b389c1</td>\n",
       "      <td>0.023960</td>\n",
       "      <td>0</td>\n",
       "      <td>1</td>\n",
       "    </tr>\n",
       "  </tbody>\n",
       "</table>\n",
       "</div>"
      ],
      "text/plain": [
       "     disbursementdate                  digitalLoanAccountId  sb_stack_score  \\\n",
       "0 2023-06-01 10:40:18  ac002041-b0be-446e-b173-65effe340651        0.133378   \n",
       "1 2023-06-01 12:17:20  4fddb4fa-6e60-42b0-adec-295658bd1093        0.048930   \n",
       "2 2023-06-01 12:36:51  855bccd7-f3d4-461f-9748-bb50b07e0327        0.143019   \n",
       "3 2023-06-01 14:57:43  ac518432-9362-4014-86d4-565c0125b27b        0.078666   \n",
       "4 2023-06-01 15:52:56  b11e0b23-1b34-4d8c-984d-1239a7b389c1        0.023960   \n",
       "\n",
       "   ln_fpd30_flag  ln_mature_fpd30_flag  \n",
       "0              0                     1  \n",
       "1              0                     1  \n",
       "2              0                     1  \n",
       "3              0                     1  \n",
       "4              0                     1  "
      ]
     },
     "execution_count": 70,
     "metadata": {},
     "output_type": "execute_result"
    }
   ],
   "source": [
    "# sb_stack_score\n",
    "\n",
    "sq = \"\"\"\n",
    "with sb_stack_score as \n",
    "(SELECT \n",
    "    ln_disb_dtime disbursementdate,\n",
    "\tdigitalLoanAccountId,\n",
    "    sb_stack_score,\n",
    "    ln_fpd30_flag,\n",
    "\tln_mature_fpd30_flag,\t\n",
    "\tFROM \n",
    "    prj-prod-dataplatform.risk_mart.sil_risk_ds_master_20230101_20250206\n",
    "  WHERE \n",
    "     -- ln_disb_dtime >= '2023-07-01'\n",
    "    ln_appln_submit_datetime >= '2023-06-01'\n",
    "  -- AND\n",
    "  --   format_date('%Y-%m', ln_disb_dtime) = '2024-09'\n",
    "  AND\n",
    "    ln_fpd30_flag is not null\n",
    "  AND\n",
    "    sb_stack_score is not null\n",
    "  AND\n",
    "    ln_mature_fpd30_flag = 1\n",
    ")\n",
    "select * from sb_stack_score;\n",
    "\"\"\"\n",
    "\n",
    "df_sb_stack_scorefpd30 = client.query(sq).to_dataframe(progress_bar_type='tqdm')\n",
    "\n",
    "df_sb_stack_scorefpd30.head()"
   ]
  },
  {
   "cell_type": "code",
   "execution_count": 71,
   "metadata": {},
   "outputs": [
    {
     "name": "stdout",
     "output_type": "stream",
     "text": [
      "The shape of dataframe after copy is:\t(102, 7)\n"
     ]
    },
    {
     "data": {
      "text/plain": [
       "array(['start_date', 'end_date', 'sb_stack_score_FPD30_gini', 'period',\n",
       "       'Model_Name', 'version', 'bad_rate'], dtype=object)"
      ]
     },
     "execution_count": 71,
     "metadata": {},
     "output_type": "execute_result"
    }
   ],
   "source": [
    "gini_results = calculate_periodic_gini(df_sb_stack_scorefpd30, 'sb_stack_score', 'ln_fpd30_flag', 'FPD30')\n",
    "M2FPD30 = gini_results.copy()\n",
    "print(f\"The shape of dataframe after copy is:\\t{M2FPD30.shape}\")\n",
    "M2FPD30.columns.values"
   ]
  },
  {
   "cell_type": "code",
   "execution_count": 72,
   "metadata": {},
   "outputs": [
    {
     "data": {
      "application/vnd.microsoft.datawrangler.viewer.v0+json": {
       "columns": [
        {
         "name": "index",
         "rawType": "object",
         "type": "string"
        },
        {
         "name": "start_date",
         "rawType": "object",
         "type": "unknown"
        },
        {
         "name": "end_date",
         "rawType": "object",
         "type": "unknown"
        },
        {
         "name": "sb_stack_score_FPD30_gini",
         "rawType": "float64",
         "type": "float"
        }
       ],
       "conversionMethod": "pd.DataFrame",
       "ref": "98a746bb-0abd-49dd-a3c0-a50e0e816969",
       "rows": [
        [
         "count",
         "102",
         "102",
         "102.0"
        ],
        [
         "mean",
         "2024-03-09 05:52:56.470588160",
         "2024-03-19 15:03:31.764705792",
         "0.36901204842454083"
        ],
        [
         "min",
         "2023-05-29 00:00:00",
         "2023-06-04 00:00:00",
         "-0.018741633199464536"
        ],
        [
         "25%",
         "2023-10-17 18:00:00",
         "2023-10-29 12:00:00",
         "0.32404404307002926"
        ],
        [
         "50%",
         "2024-03-07 12:00:00",
         "2024-03-20 12:00:00",
         "0.3603205017620613"
        ],
        [
         "75%",
         "2024-07-31 06:00:00",
         "2024-08-09 06:00:00",
         "0.4265604837795474"
        ],
        [
         "max",
         "2024-12-23 00:00:00",
         "2024-12-31 00:00:00",
         "0.6397780623132736"
        ],
        [
         "std",
         null,
         null,
         "0.09630454231756519"
        ]
       ],
       "shape": {
        "columns": 3,
        "rows": 8
       }
      },
      "text/html": [
       "<div>\n",
       "<style scoped>\n",
       "    .dataframe tbody tr th:only-of-type {\n",
       "        vertical-align: middle;\n",
       "    }\n",
       "\n",
       "    .dataframe tbody tr th {\n",
       "        vertical-align: top;\n",
       "    }\n",
       "\n",
       "    .dataframe thead th {\n",
       "        text-align: right;\n",
       "    }\n",
       "</style>\n",
       "<table border=\"1\" class=\"dataframe\">\n",
       "  <thead>\n",
       "    <tr style=\"text-align: right;\">\n",
       "      <th></th>\n",
       "      <th>start_date</th>\n",
       "      <th>end_date</th>\n",
       "      <th>sb_stack_score_FPD30_gini</th>\n",
       "    </tr>\n",
       "  </thead>\n",
       "  <tbody>\n",
       "    <tr>\n",
       "      <th>count</th>\n",
       "      <td>102</td>\n",
       "      <td>102</td>\n",
       "      <td>102.000000</td>\n",
       "    </tr>\n",
       "    <tr>\n",
       "      <th>mean</th>\n",
       "      <td>2024-03-09 05:52:56.470588160</td>\n",
       "      <td>2024-03-19 15:03:31.764705792</td>\n",
       "      <td>0.369012</td>\n",
       "    </tr>\n",
       "    <tr>\n",
       "      <th>min</th>\n",
       "      <td>2023-05-29 00:00:00</td>\n",
       "      <td>2023-06-04 00:00:00</td>\n",
       "      <td>-0.018742</td>\n",
       "    </tr>\n",
       "    <tr>\n",
       "      <th>25%</th>\n",
       "      <td>2023-10-17 18:00:00</td>\n",
       "      <td>2023-10-29 12:00:00</td>\n",
       "      <td>0.324044</td>\n",
       "    </tr>\n",
       "    <tr>\n",
       "      <th>50%</th>\n",
       "      <td>2024-03-07 12:00:00</td>\n",
       "      <td>2024-03-20 12:00:00</td>\n",
       "      <td>0.360321</td>\n",
       "    </tr>\n",
       "    <tr>\n",
       "      <th>75%</th>\n",
       "      <td>2024-07-31 06:00:00</td>\n",
       "      <td>2024-08-09 06:00:00</td>\n",
       "      <td>0.426560</td>\n",
       "    </tr>\n",
       "    <tr>\n",
       "      <th>max</th>\n",
       "      <td>2024-12-23 00:00:00</td>\n",
       "      <td>2024-12-31 00:00:00</td>\n",
       "      <td>0.639778</td>\n",
       "    </tr>\n",
       "    <tr>\n",
       "      <th>std</th>\n",
       "      <td>NaN</td>\n",
       "      <td>NaN</td>\n",
       "      <td>0.096305</td>\n",
       "    </tr>\n",
       "  </tbody>\n",
       "</table>\n",
       "</div>"
      ],
      "text/plain": [
       "                          start_date                       end_date  \\\n",
       "count                            102                            102   \n",
       "mean   2024-03-09 05:52:56.470588160  2024-03-19 15:03:31.764705792   \n",
       "min              2023-05-29 00:00:00            2023-06-04 00:00:00   \n",
       "25%              2023-10-17 18:00:00            2023-10-29 12:00:00   \n",
       "50%              2024-03-07 12:00:00            2024-03-20 12:00:00   \n",
       "75%              2024-07-31 06:00:00            2024-08-09 06:00:00   \n",
       "max              2024-12-23 00:00:00            2024-12-31 00:00:00   \n",
       "std                              NaN                            NaN   \n",
       "\n",
       "       sb_stack_score_FPD30_gini  \n",
       "count                 102.000000  \n",
       "mean                    0.369012  \n",
       "min                    -0.018742  \n",
       "25%                     0.324044  \n",
       "50%                     0.360321  \n",
       "75%                     0.426560  \n",
       "max                     0.639778  \n",
       "std                     0.096305  "
      ]
     },
     "execution_count": 72,
     "metadata": {},
     "output_type": "execute_result"
    }
   ],
   "source": [
    "M2FPD30.describe()"
   ]
  },
  {
   "cell_type": "code",
   "execution_count": 73,
   "metadata": {},
   "outputs": [
    {
     "data": {
      "application/vnd.microsoft.datawrangler.viewer.v0+json": {
       "columns": [
        {
         "name": "index",
         "rawType": "int64",
         "type": "integer"
        },
        {
         "name": "start_date",
         "rawType": "datetime64[ns]",
         "type": "datetime"
        },
        {
         "name": "end_date",
         "rawType": "datetime64[ns]",
         "type": "datetime"
        },
        {
         "name": "sb_stack_score_FPD30_gini",
         "rawType": "float64",
         "type": "float"
        },
        {
         "name": "period",
         "rawType": "object",
         "type": "string"
        },
        {
         "name": "Model_Name",
         "rawType": "object",
         "type": "string"
        },
        {
         "name": "version",
         "rawType": "object",
         "type": "string"
        },
        {
         "name": "bad_rate",
         "rawType": "object",
         "type": "string"
        }
       ],
       "conversionMethod": "pd.DataFrame",
       "ref": "b36a6042-e93e-4708-ac82-15126382a05b",
       "rows": [
        [
         "97",
         "2024-12-01 00:00:00",
         "2024-12-31 00:00:00",
         "0.3303263572692612",
         "Month",
         "sb_stack_score",
         "1.1.0",
         "FPD30"
        ],
        [
         "98",
         "2024-12-02 00:00:00",
         "2024-12-08 00:00:00",
         "0.3722135841532259",
         "Week",
         "sb_stack_score",
         "1.1.0",
         "FPD30"
        ],
        [
         "99",
         "2024-12-09 00:00:00",
         "2024-12-15 00:00:00",
         "0.3051340637022284",
         "Week",
         "sb_stack_score",
         "1.1.0",
         "FPD30"
        ],
        [
         "100",
         "2024-12-16 00:00:00",
         "2024-12-22 00:00:00",
         "0.32449238026124827",
         "Week",
         "sb_stack_score",
         "1.1.0",
         "FPD30"
        ],
        [
         "101",
         "2024-12-23 00:00:00",
         "2024-12-29 00:00:00",
         "0.29611291711816845",
         "Week",
         "sb_stack_score",
         "1.1.0",
         "FPD30"
        ]
       ],
       "shape": {
        "columns": 7,
        "rows": 5
       }
      },
      "text/html": [
       "<div>\n",
       "<style scoped>\n",
       "    .dataframe tbody tr th:only-of-type {\n",
       "        vertical-align: middle;\n",
       "    }\n",
       "\n",
       "    .dataframe tbody tr th {\n",
       "        vertical-align: top;\n",
       "    }\n",
       "\n",
       "    .dataframe thead th {\n",
       "        text-align: right;\n",
       "    }\n",
       "</style>\n",
       "<table border=\"1\" class=\"dataframe\">\n",
       "  <thead>\n",
       "    <tr style=\"text-align: right;\">\n",
       "      <th></th>\n",
       "      <th>start_date</th>\n",
       "      <th>end_date</th>\n",
       "      <th>sb_stack_score_FPD30_gini</th>\n",
       "      <th>period</th>\n",
       "      <th>Model_Name</th>\n",
       "      <th>version</th>\n",
       "      <th>bad_rate</th>\n",
       "    </tr>\n",
       "  </thead>\n",
       "  <tbody>\n",
       "    <tr>\n",
       "      <th>97</th>\n",
       "      <td>2024-12-01</td>\n",
       "      <td>2024-12-31</td>\n",
       "      <td>0.330326</td>\n",
       "      <td>Month</td>\n",
       "      <td>sb_stack_score</td>\n",
       "      <td>1.1.0</td>\n",
       "      <td>FPD30</td>\n",
       "    </tr>\n",
       "    <tr>\n",
       "      <th>98</th>\n",
       "      <td>2024-12-02</td>\n",
       "      <td>2024-12-08</td>\n",
       "      <td>0.372214</td>\n",
       "      <td>Week</td>\n",
       "      <td>sb_stack_score</td>\n",
       "      <td>1.1.0</td>\n",
       "      <td>FPD30</td>\n",
       "    </tr>\n",
       "    <tr>\n",
       "      <th>99</th>\n",
       "      <td>2024-12-09</td>\n",
       "      <td>2024-12-15</td>\n",
       "      <td>0.305134</td>\n",
       "      <td>Week</td>\n",
       "      <td>sb_stack_score</td>\n",
       "      <td>1.1.0</td>\n",
       "      <td>FPD30</td>\n",
       "    </tr>\n",
       "    <tr>\n",
       "      <th>100</th>\n",
       "      <td>2024-12-16</td>\n",
       "      <td>2024-12-22</td>\n",
       "      <td>0.324492</td>\n",
       "      <td>Week</td>\n",
       "      <td>sb_stack_score</td>\n",
       "      <td>1.1.0</td>\n",
       "      <td>FPD30</td>\n",
       "    </tr>\n",
       "    <tr>\n",
       "      <th>101</th>\n",
       "      <td>2024-12-23</td>\n",
       "      <td>2024-12-29</td>\n",
       "      <td>0.296113</td>\n",
       "      <td>Week</td>\n",
       "      <td>sb_stack_score</td>\n",
       "      <td>1.1.0</td>\n",
       "      <td>FPD30</td>\n",
       "    </tr>\n",
       "  </tbody>\n",
       "</table>\n",
       "</div>"
      ],
      "text/plain": [
       "    start_date   end_date  sb_stack_score_FPD30_gini period      Model_Name  \\\n",
       "97  2024-12-01 2024-12-31                   0.330326  Month  sb_stack_score   \n",
       "98  2024-12-02 2024-12-08                   0.372214   Week  sb_stack_score   \n",
       "99  2024-12-09 2024-12-15                   0.305134   Week  sb_stack_score   \n",
       "100 2024-12-16 2024-12-22                   0.324492   Week  sb_stack_score   \n",
       "101 2024-12-23 2024-12-29                   0.296113   Week  sb_stack_score   \n",
       "\n",
       "    version bad_rate  \n",
       "97    1.1.0    FPD30  \n",
       "98    1.1.0    FPD30  \n",
       "99    1.1.0    FPD30  \n",
       "100   1.1.0    FPD30  \n",
       "101   1.1.0    FPD30  "
      ]
     },
     "execution_count": 73,
     "metadata": {},
     "output_type": "execute_result"
    }
   ],
   "source": [
    "M2FPD30.tail()"
   ]
  },
  {
   "cell_type": "markdown",
   "metadata": {},
   "source": [
    "## FSPD30"
   ]
  },
  {
   "cell_type": "code",
   "execution_count": 74,
   "metadata": {},
   "outputs": [
    {
     "name": "stdout",
     "output_type": "stream",
     "text": [
      "Job ID a296c595-3869-42fa-a53a-97b005757093 successfully executed: 100%|\u001b[32m██████████\u001b[0m|"
     ]
    },
    {
     "name": "stderr",
     "output_type": "stream",
     "text": [
      "d:\\Anaconda3\\envs\\inc_env\\lib\\site-packages\\google\\cloud\\bigquery\\table.py:1820: UserWarning: BigQuery Storage module not found, fetch data with the REST endpoint instead.\n",
      "  warnings.warn(\n"
     ]
    },
    {
     "name": "stdout",
     "output_type": "stream",
     "text": [
      "\n",
      "Downloading: 100%|\u001b[32m██████████\u001b[0m|\n"
     ]
    },
    {
     "data": {
      "application/vnd.microsoft.datawrangler.viewer.v0+json": {
       "columns": [
        {
         "name": "index",
         "rawType": "int64",
         "type": "integer"
        },
        {
         "name": "disbursementdate",
         "rawType": "datetime64[us]",
         "type": "unknown"
        },
        {
         "name": "digitalLoanAccountId",
         "rawType": "object",
         "type": "string"
        },
        {
         "name": "sb_stack_score",
         "rawType": "float64",
         "type": "float"
        },
        {
         "name": "ln_fspd30_flag",
         "rawType": "Int64",
         "type": "integer"
        },
        {
         "name": "ln_mature_fspd30_flag",
         "rawType": "Int64",
         "type": "integer"
        }
       ],
       "conversionMethod": "pd.DataFrame",
       "ref": "32c470c0-ba6e-43ed-87f9-26854b8ca506",
       "rows": [
        [
         "0",
         "2023-06-01 10:40:18",
         "ac002041-b0be-446e-b173-65effe340651",
         "0.13337769970161573",
         "0",
         "1"
        ],
        [
         "1",
         "2023-06-01 12:17:20",
         "4fddb4fa-6e60-42b0-adec-295658bd1093",
         "0.04892996344463717",
         "0",
         "1"
        ],
        [
         "2",
         "2023-06-01 12:36:51",
         "855bccd7-f3d4-461f-9748-bb50b07e0327",
         "0.1430190165243615",
         "0",
         "1"
        ],
        [
         "3",
         "2023-06-01 14:57:43",
         "ac518432-9362-4014-86d4-565c0125b27b",
         "0.07866585610299799",
         "0",
         "1"
        ],
        [
         "4",
         "2023-06-01 15:52:56",
         "b11e0b23-1b34-4d8c-984d-1239a7b389c1",
         "0.02395970319161175",
         "0",
         "1"
        ]
       ],
       "shape": {
        "columns": 5,
        "rows": 5
       }
      },
      "text/html": [
       "<div>\n",
       "<style scoped>\n",
       "    .dataframe tbody tr th:only-of-type {\n",
       "        vertical-align: middle;\n",
       "    }\n",
       "\n",
       "    .dataframe tbody tr th {\n",
       "        vertical-align: top;\n",
       "    }\n",
       "\n",
       "    .dataframe thead th {\n",
       "        text-align: right;\n",
       "    }\n",
       "</style>\n",
       "<table border=\"1\" class=\"dataframe\">\n",
       "  <thead>\n",
       "    <tr style=\"text-align: right;\">\n",
       "      <th></th>\n",
       "      <th>disbursementdate</th>\n",
       "      <th>digitalLoanAccountId</th>\n",
       "      <th>sb_stack_score</th>\n",
       "      <th>ln_fspd30_flag</th>\n",
       "      <th>ln_mature_fspd30_flag</th>\n",
       "    </tr>\n",
       "  </thead>\n",
       "  <tbody>\n",
       "    <tr>\n",
       "      <th>0</th>\n",
       "      <td>2023-06-01 10:40:18</td>\n",
       "      <td>ac002041-b0be-446e-b173-65effe340651</td>\n",
       "      <td>0.133378</td>\n",
       "      <td>0</td>\n",
       "      <td>1</td>\n",
       "    </tr>\n",
       "    <tr>\n",
       "      <th>1</th>\n",
       "      <td>2023-06-01 12:17:20</td>\n",
       "      <td>4fddb4fa-6e60-42b0-adec-295658bd1093</td>\n",
       "      <td>0.048930</td>\n",
       "      <td>0</td>\n",
       "      <td>1</td>\n",
       "    </tr>\n",
       "    <tr>\n",
       "      <th>2</th>\n",
       "      <td>2023-06-01 12:36:51</td>\n",
       "      <td>855bccd7-f3d4-461f-9748-bb50b07e0327</td>\n",
       "      <td>0.143019</td>\n",
       "      <td>0</td>\n",
       "      <td>1</td>\n",
       "    </tr>\n",
       "    <tr>\n",
       "      <th>3</th>\n",
       "      <td>2023-06-01 14:57:43</td>\n",
       "      <td>ac518432-9362-4014-86d4-565c0125b27b</td>\n",
       "      <td>0.078666</td>\n",
       "      <td>0</td>\n",
       "      <td>1</td>\n",
       "    </tr>\n",
       "    <tr>\n",
       "      <th>4</th>\n",
       "      <td>2023-06-01 15:52:56</td>\n",
       "      <td>b11e0b23-1b34-4d8c-984d-1239a7b389c1</td>\n",
       "      <td>0.023960</td>\n",
       "      <td>0</td>\n",
       "      <td>1</td>\n",
       "    </tr>\n",
       "  </tbody>\n",
       "</table>\n",
       "</div>"
      ],
      "text/plain": [
       "     disbursementdate                  digitalLoanAccountId  sb_stack_score  \\\n",
       "0 2023-06-01 10:40:18  ac002041-b0be-446e-b173-65effe340651        0.133378   \n",
       "1 2023-06-01 12:17:20  4fddb4fa-6e60-42b0-adec-295658bd1093        0.048930   \n",
       "2 2023-06-01 12:36:51  855bccd7-f3d4-461f-9748-bb50b07e0327        0.143019   \n",
       "3 2023-06-01 14:57:43  ac518432-9362-4014-86d4-565c0125b27b        0.078666   \n",
       "4 2023-06-01 15:52:56  b11e0b23-1b34-4d8c-984d-1239a7b389c1        0.023960   \n",
       "\n",
       "   ln_fspd30_flag  ln_mature_fspd30_flag  \n",
       "0               0                      1  \n",
       "1               0                      1  \n",
       "2               0                      1  \n",
       "3               0                      1  \n",
       "4               0                      1  "
      ]
     },
     "execution_count": 74,
     "metadata": {},
     "output_type": "execute_result"
    }
   ],
   "source": [
    "# sb_stack_score\n",
    "\n",
    "sq = \"\"\"\n",
    "with sb_stack_score as \n",
    "(SELECT \n",
    "    ln_disb_dtime disbursementdate,\n",
    "\tdigitalLoanAccountId,\n",
    "    sb_stack_score,\n",
    "    ln_fspd30_flag,\n",
    "\tln_mature_fspd30_flag,\t\n",
    "\tFROM \n",
    "    prj-prod-dataplatform.risk_mart.sil_risk_ds_master_20230101_20250206\n",
    "  WHERE \n",
    "     -- ln_disb_dtime >= '2023-07-01'\n",
    "    ln_appln_submit_datetime >= '2023-06-01'\n",
    "  -- AND\n",
    "  --   format_date('%Y-%m', ln_disb_dtime) = '2024-09'\n",
    "  AND\n",
    "    ln_fspd30_flag is not null\n",
    "  AND\n",
    "    sb_stack_score is not null\n",
    "  AND\n",
    "    ln_mature_fspd30_flag = 1\n",
    ")\n",
    "select * from sb_stack_score;\n",
    "\"\"\"\n",
    "\n",
    "df_sb_stack_scorefspd30 = client.query(sq).to_dataframe(progress_bar_type='tqdm')\n",
    "\n",
    "df_sb_stack_scorefspd30.head()"
   ]
  },
  {
   "cell_type": "code",
   "execution_count": 75,
   "metadata": {},
   "outputs": [
    {
     "name": "stdout",
     "output_type": "stream",
     "text": [
      "The shape of dataframe after copy is:\t(97, 7)\n"
     ]
    },
    {
     "data": {
      "text/plain": [
       "array(['start_date', 'end_date', 'sb_stack_score_FSPD30_gini', 'period',\n",
       "       'Model_Name', 'version', 'bad_rate'], dtype=object)"
      ]
     },
     "execution_count": 75,
     "metadata": {},
     "output_type": "execute_result"
    }
   ],
   "source": [
    "gini_results = calculate_periodic_gini(df_sb_stack_scorefspd30, 'sb_stack_score', 'ln_fspd30_flag', 'FSPD30')\n",
    "M3FSPD30 = gini_results.copy()\n",
    "print(f\"The shape of dataframe after copy is:\\t{M3FSPD30.shape}\")\n",
    "M3FSPD30.columns.values"
   ]
  },
  {
   "cell_type": "code",
   "execution_count": 76,
   "metadata": {},
   "outputs": [
    {
     "data": {
      "application/vnd.microsoft.datawrangler.viewer.v0+json": {
       "columns": [
        {
         "name": "index",
         "rawType": "object",
         "type": "string"
        },
        {
         "name": "start_date",
         "rawType": "object",
         "type": "unknown"
        },
        {
         "name": "end_date",
         "rawType": "object",
         "type": "unknown"
        },
        {
         "name": "sb_stack_score_FSPD30_gini",
         "rawType": "float64",
         "type": "float"
        }
       ],
       "conversionMethod": "pd.DataFrame",
       "ref": "358fb1b9-bcef-4f04-931f-1f65d3072ba0",
       "rows": [
        [
         "count",
         "97",
         "97",
         "97.0"
        ],
        [
         "mean",
         "2024-02-24 00:29:41.443299072",
         "2024-03-05 09:09:16.701030912",
         "0.3719708524413051"
        ],
        [
         "min",
         "2023-05-29 00:00:00",
         "2023-06-04 00:00:00",
         "0.12887989203778671"
        ],
        [
         "25%",
         "2023-10-09 00:00:00",
         "2023-10-22 00:00:00",
         "0.3254853997859657"
        ],
        [
         "50%",
         "2024-02-26 00:00:00",
         "2024-03-03 00:00:00",
         "0.3516026241799439"
        ],
        [
         "75%",
         "2024-07-08 00:00:00",
         "2024-07-21 00:00:00",
         "0.42222078306565014"
        ],
        [
         "max",
         "2024-11-25 00:00:00",
         "2024-12-01 00:00:00",
         "0.5535366645035691"
        ],
        [
         "std",
         null,
         null,
         "0.07689238724513842"
        ]
       ],
       "shape": {
        "columns": 3,
        "rows": 8
       }
      },
      "text/html": [
       "<div>\n",
       "<style scoped>\n",
       "    .dataframe tbody tr th:only-of-type {\n",
       "        vertical-align: middle;\n",
       "    }\n",
       "\n",
       "    .dataframe tbody tr th {\n",
       "        vertical-align: top;\n",
       "    }\n",
       "\n",
       "    .dataframe thead th {\n",
       "        text-align: right;\n",
       "    }\n",
       "</style>\n",
       "<table border=\"1\" class=\"dataframe\">\n",
       "  <thead>\n",
       "    <tr style=\"text-align: right;\">\n",
       "      <th></th>\n",
       "      <th>start_date</th>\n",
       "      <th>end_date</th>\n",
       "      <th>sb_stack_score_FSPD30_gini</th>\n",
       "    </tr>\n",
       "  </thead>\n",
       "  <tbody>\n",
       "    <tr>\n",
       "      <th>count</th>\n",
       "      <td>97</td>\n",
       "      <td>97</td>\n",
       "      <td>97.000000</td>\n",
       "    </tr>\n",
       "    <tr>\n",
       "      <th>mean</th>\n",
       "      <td>2024-02-24 00:29:41.443299072</td>\n",
       "      <td>2024-03-05 09:09:16.701030912</td>\n",
       "      <td>0.371971</td>\n",
       "    </tr>\n",
       "    <tr>\n",
       "      <th>min</th>\n",
       "      <td>2023-05-29 00:00:00</td>\n",
       "      <td>2023-06-04 00:00:00</td>\n",
       "      <td>0.128880</td>\n",
       "    </tr>\n",
       "    <tr>\n",
       "      <th>25%</th>\n",
       "      <td>2023-10-09 00:00:00</td>\n",
       "      <td>2023-10-22 00:00:00</td>\n",
       "      <td>0.325485</td>\n",
       "    </tr>\n",
       "    <tr>\n",
       "      <th>50%</th>\n",
       "      <td>2024-02-26 00:00:00</td>\n",
       "      <td>2024-03-03 00:00:00</td>\n",
       "      <td>0.351603</td>\n",
       "    </tr>\n",
       "    <tr>\n",
       "      <th>75%</th>\n",
       "      <td>2024-07-08 00:00:00</td>\n",
       "      <td>2024-07-21 00:00:00</td>\n",
       "      <td>0.422221</td>\n",
       "    </tr>\n",
       "    <tr>\n",
       "      <th>max</th>\n",
       "      <td>2024-11-25 00:00:00</td>\n",
       "      <td>2024-12-01 00:00:00</td>\n",
       "      <td>0.553537</td>\n",
       "    </tr>\n",
       "    <tr>\n",
       "      <th>std</th>\n",
       "      <td>NaN</td>\n",
       "      <td>NaN</td>\n",
       "      <td>0.076892</td>\n",
       "    </tr>\n",
       "  </tbody>\n",
       "</table>\n",
       "</div>"
      ],
      "text/plain": [
       "                          start_date                       end_date  \\\n",
       "count                             97                             97   \n",
       "mean   2024-02-24 00:29:41.443299072  2024-03-05 09:09:16.701030912   \n",
       "min              2023-05-29 00:00:00            2023-06-04 00:00:00   \n",
       "25%              2023-10-09 00:00:00            2023-10-22 00:00:00   \n",
       "50%              2024-02-26 00:00:00            2024-03-03 00:00:00   \n",
       "75%              2024-07-08 00:00:00            2024-07-21 00:00:00   \n",
       "max              2024-11-25 00:00:00            2024-12-01 00:00:00   \n",
       "std                              NaN                            NaN   \n",
       "\n",
       "       sb_stack_score_FSPD30_gini  \n",
       "count                   97.000000  \n",
       "mean                     0.371971  \n",
       "min                      0.128880  \n",
       "25%                      0.325485  \n",
       "50%                      0.351603  \n",
       "75%                      0.422221  \n",
       "max                      0.553537  \n",
       "std                      0.076892  "
      ]
     },
     "execution_count": 76,
     "metadata": {},
     "output_type": "execute_result"
    }
   ],
   "source": [
    "M3FSPD30.describe()"
   ]
  },
  {
   "cell_type": "code",
   "execution_count": 77,
   "metadata": {},
   "outputs": [
    {
     "data": {
      "application/vnd.microsoft.datawrangler.viewer.v0+json": {
       "columns": [
        {
         "name": "index",
         "rawType": "int64",
         "type": "integer"
        },
        {
         "name": "start_date",
         "rawType": "datetime64[ns]",
         "type": "datetime"
        },
        {
         "name": "end_date",
         "rawType": "datetime64[ns]",
         "type": "datetime"
        },
        {
         "name": "sb_stack_score_FSPD30_gini",
         "rawType": "float64",
         "type": "float"
        },
        {
         "name": "period",
         "rawType": "object",
         "type": "string"
        },
        {
         "name": "Model_Name",
         "rawType": "object",
         "type": "string"
        },
        {
         "name": "version",
         "rawType": "object",
         "type": "string"
        },
        {
         "name": "bad_rate",
         "rawType": "object",
         "type": "string"
        }
       ],
       "conversionMethod": "pd.DataFrame",
       "ref": "0904168e-340e-447d-8f52-1c359e77ece0",
       "rows": [
        [
         "92",
         "2024-11-01 00:00:00",
         "2024-11-30 00:00:00",
         "0.3320766253418095",
         "Month",
         "sb_stack_score",
         "1.1.0",
         "FSPD30"
        ],
        [
         "93",
         "2024-11-04 00:00:00",
         "2024-11-10 00:00:00",
         "0.30987938275642435",
         "Week",
         "sb_stack_score",
         "1.1.0",
         "FSPD30"
        ],
        [
         "94",
         "2024-11-11 00:00:00",
         "2024-11-17 00:00:00",
         "0.34436513086740206",
         "Week",
         "sb_stack_score",
         "1.1.0",
         "FSPD30"
        ],
        [
         "95",
         "2024-11-18 00:00:00",
         "2024-11-24 00:00:00",
         "0.30846303567009326",
         "Week",
         "sb_stack_score",
         "1.1.0",
         "FSPD30"
        ],
        [
         "96",
         "2024-11-25 00:00:00",
         "2024-12-01 00:00:00",
         "0.34411226357535085",
         "Week",
         "sb_stack_score",
         "1.1.0",
         "FSPD30"
        ]
       ],
       "shape": {
        "columns": 7,
        "rows": 5
       }
      },
      "text/html": [
       "<div>\n",
       "<style scoped>\n",
       "    .dataframe tbody tr th:only-of-type {\n",
       "        vertical-align: middle;\n",
       "    }\n",
       "\n",
       "    .dataframe tbody tr th {\n",
       "        vertical-align: top;\n",
       "    }\n",
       "\n",
       "    .dataframe thead th {\n",
       "        text-align: right;\n",
       "    }\n",
       "</style>\n",
       "<table border=\"1\" class=\"dataframe\">\n",
       "  <thead>\n",
       "    <tr style=\"text-align: right;\">\n",
       "      <th></th>\n",
       "      <th>start_date</th>\n",
       "      <th>end_date</th>\n",
       "      <th>sb_stack_score_FSPD30_gini</th>\n",
       "      <th>period</th>\n",
       "      <th>Model_Name</th>\n",
       "      <th>version</th>\n",
       "      <th>bad_rate</th>\n",
       "    </tr>\n",
       "  </thead>\n",
       "  <tbody>\n",
       "    <tr>\n",
       "      <th>92</th>\n",
       "      <td>2024-11-01</td>\n",
       "      <td>2024-11-30</td>\n",
       "      <td>0.332077</td>\n",
       "      <td>Month</td>\n",
       "      <td>sb_stack_score</td>\n",
       "      <td>1.1.0</td>\n",
       "      <td>FSPD30</td>\n",
       "    </tr>\n",
       "    <tr>\n",
       "      <th>93</th>\n",
       "      <td>2024-11-04</td>\n",
       "      <td>2024-11-10</td>\n",
       "      <td>0.309879</td>\n",
       "      <td>Week</td>\n",
       "      <td>sb_stack_score</td>\n",
       "      <td>1.1.0</td>\n",
       "      <td>FSPD30</td>\n",
       "    </tr>\n",
       "    <tr>\n",
       "      <th>94</th>\n",
       "      <td>2024-11-11</td>\n",
       "      <td>2024-11-17</td>\n",
       "      <td>0.344365</td>\n",
       "      <td>Week</td>\n",
       "      <td>sb_stack_score</td>\n",
       "      <td>1.1.0</td>\n",
       "      <td>FSPD30</td>\n",
       "    </tr>\n",
       "    <tr>\n",
       "      <th>95</th>\n",
       "      <td>2024-11-18</td>\n",
       "      <td>2024-11-24</td>\n",
       "      <td>0.308463</td>\n",
       "      <td>Week</td>\n",
       "      <td>sb_stack_score</td>\n",
       "      <td>1.1.0</td>\n",
       "      <td>FSPD30</td>\n",
       "    </tr>\n",
       "    <tr>\n",
       "      <th>96</th>\n",
       "      <td>2024-11-25</td>\n",
       "      <td>2024-12-01</td>\n",
       "      <td>0.344112</td>\n",
       "      <td>Week</td>\n",
       "      <td>sb_stack_score</td>\n",
       "      <td>1.1.0</td>\n",
       "      <td>FSPD30</td>\n",
       "    </tr>\n",
       "  </tbody>\n",
       "</table>\n",
       "</div>"
      ],
      "text/plain": [
       "   start_date   end_date  sb_stack_score_FSPD30_gini period      Model_Name  \\\n",
       "92 2024-11-01 2024-11-30                    0.332077  Month  sb_stack_score   \n",
       "93 2024-11-04 2024-11-10                    0.309879   Week  sb_stack_score   \n",
       "94 2024-11-11 2024-11-17                    0.344365   Week  sb_stack_score   \n",
       "95 2024-11-18 2024-11-24                    0.308463   Week  sb_stack_score   \n",
       "96 2024-11-25 2024-12-01                    0.344112   Week  sb_stack_score   \n",
       "\n",
       "   version bad_rate  \n",
       "92   1.1.0   FSPD30  \n",
       "93   1.1.0   FSPD30  \n",
       "94   1.1.0   FSPD30  \n",
       "95   1.1.0   FSPD30  \n",
       "96   1.1.0   FSPD30  "
      ]
     },
     "execution_count": 77,
     "metadata": {},
     "output_type": "execute_result"
    }
   ],
   "source": [
    "M3FSPD30.tail()"
   ]
  },
  {
   "cell_type": "markdown",
   "metadata": {},
   "source": [
    "## FSTPD30"
   ]
  },
  {
   "cell_type": "code",
   "execution_count": 78,
   "metadata": {},
   "outputs": [
    {
     "name": "stdout",
     "output_type": "stream",
     "text": [
      "Job ID 8f87de5d-eedf-47ec-8a95-9f9c077e8e2f successfully executed: 100%|\u001b[32m██████████\u001b[0m|"
     ]
    },
    {
     "name": "stderr",
     "output_type": "stream",
     "text": [
      "d:\\Anaconda3\\envs\\inc_env\\lib\\site-packages\\google\\cloud\\bigquery\\table.py:1820: UserWarning: BigQuery Storage module not found, fetch data with the REST endpoint instead.\n",
      "  warnings.warn(\n"
     ]
    },
    {
     "name": "stdout",
     "output_type": "stream",
     "text": [
      "\n",
      "Downloading: 100%|\u001b[32m██████████\u001b[0m|\n"
     ]
    },
    {
     "data": {
      "application/vnd.microsoft.datawrangler.viewer.v0+json": {
       "columns": [
        {
         "name": "index",
         "rawType": "int64",
         "type": "integer"
        },
        {
         "name": "disbursementdate",
         "rawType": "datetime64[us]",
         "type": "unknown"
        },
        {
         "name": "digitalLoanAccountId",
         "rawType": "object",
         "type": "string"
        },
        {
         "name": "sb_stack_score",
         "rawType": "float64",
         "type": "float"
        },
        {
         "name": "ln_fstpd30_flag",
         "rawType": "Int64",
         "type": "integer"
        },
        {
         "name": "ln_mature_fstpd30_flag",
         "rawType": "Int64",
         "type": "integer"
        }
       ],
       "conversionMethod": "pd.DataFrame",
       "ref": "f9d7c01b-081d-4841-b1f3-957e02032caf",
       "rows": [
        [
         "0",
         "2023-06-01 10:42:34",
         "f91cba31-7630-477a-8cdd-d010b63c4900",
         "0.02009022669408563",
         "0",
         "1"
        ],
        [
         "1",
         "2023-06-01 11:02:18",
         "7e7e7678-b36d-4b26-ad01-272565b54780",
         "0.05551696950166597",
         "0",
         "1"
        ],
        [
         "2",
         "2023-06-01 12:56:23",
         "e585b35d-bc13-494d-970d-2272d976991b",
         "0.04383780971782166",
         "0",
         "1"
        ],
        [
         "3",
         "2023-06-01 14:43:46",
         "4e78ebf3-256e-426c-8840-a7f9e1403a97",
         "0.08497247349117663",
         "0",
         "1"
        ],
        [
         "4",
         "2023-06-01 15:36:13",
         "a3dc185d-0118-4ebc-bf03-117fdd8f9c64",
         "0.08597590962736756",
         "0",
         "1"
        ]
       ],
       "shape": {
        "columns": 5,
        "rows": 5
       }
      },
      "text/html": [
       "<div>\n",
       "<style scoped>\n",
       "    .dataframe tbody tr th:only-of-type {\n",
       "        vertical-align: middle;\n",
       "    }\n",
       "\n",
       "    .dataframe tbody tr th {\n",
       "        vertical-align: top;\n",
       "    }\n",
       "\n",
       "    .dataframe thead th {\n",
       "        text-align: right;\n",
       "    }\n",
       "</style>\n",
       "<table border=\"1\" class=\"dataframe\">\n",
       "  <thead>\n",
       "    <tr style=\"text-align: right;\">\n",
       "      <th></th>\n",
       "      <th>disbursementdate</th>\n",
       "      <th>digitalLoanAccountId</th>\n",
       "      <th>sb_stack_score</th>\n",
       "      <th>ln_fstpd30_flag</th>\n",
       "      <th>ln_mature_fstpd30_flag</th>\n",
       "    </tr>\n",
       "  </thead>\n",
       "  <tbody>\n",
       "    <tr>\n",
       "      <th>0</th>\n",
       "      <td>2023-06-01 10:42:34</td>\n",
       "      <td>f91cba31-7630-477a-8cdd-d010b63c4900</td>\n",
       "      <td>0.020090</td>\n",
       "      <td>0</td>\n",
       "      <td>1</td>\n",
       "    </tr>\n",
       "    <tr>\n",
       "      <th>1</th>\n",
       "      <td>2023-06-01 11:02:18</td>\n",
       "      <td>7e7e7678-b36d-4b26-ad01-272565b54780</td>\n",
       "      <td>0.055517</td>\n",
       "      <td>0</td>\n",
       "      <td>1</td>\n",
       "    </tr>\n",
       "    <tr>\n",
       "      <th>2</th>\n",
       "      <td>2023-06-01 12:56:23</td>\n",
       "      <td>e585b35d-bc13-494d-970d-2272d976991b</td>\n",
       "      <td>0.043838</td>\n",
       "      <td>0</td>\n",
       "      <td>1</td>\n",
       "    </tr>\n",
       "    <tr>\n",
       "      <th>3</th>\n",
       "      <td>2023-06-01 14:43:46</td>\n",
       "      <td>4e78ebf3-256e-426c-8840-a7f9e1403a97</td>\n",
       "      <td>0.084972</td>\n",
       "      <td>0</td>\n",
       "      <td>1</td>\n",
       "    </tr>\n",
       "    <tr>\n",
       "      <th>4</th>\n",
       "      <td>2023-06-01 15:36:13</td>\n",
       "      <td>a3dc185d-0118-4ebc-bf03-117fdd8f9c64</td>\n",
       "      <td>0.085976</td>\n",
       "      <td>0</td>\n",
       "      <td>1</td>\n",
       "    </tr>\n",
       "  </tbody>\n",
       "</table>\n",
       "</div>"
      ],
      "text/plain": [
       "     disbursementdate                  digitalLoanAccountId  sb_stack_score  \\\n",
       "0 2023-06-01 10:42:34  f91cba31-7630-477a-8cdd-d010b63c4900        0.020090   \n",
       "1 2023-06-01 11:02:18  7e7e7678-b36d-4b26-ad01-272565b54780        0.055517   \n",
       "2 2023-06-01 12:56:23  e585b35d-bc13-494d-970d-2272d976991b        0.043838   \n",
       "3 2023-06-01 14:43:46  4e78ebf3-256e-426c-8840-a7f9e1403a97        0.084972   \n",
       "4 2023-06-01 15:36:13  a3dc185d-0118-4ebc-bf03-117fdd8f9c64        0.085976   \n",
       "\n",
       "   ln_fstpd30_flag  ln_mature_fstpd30_flag  \n",
       "0                0                       1  \n",
       "1                0                       1  \n",
       "2                0                       1  \n",
       "3                0                       1  \n",
       "4                0                       1  "
      ]
     },
     "execution_count": 78,
     "metadata": {},
     "output_type": "execute_result"
    }
   ],
   "source": [
    "# sb_stack_score\n",
    "\n",
    "sq = \"\"\"\n",
    "with sb_stack_score as \n",
    "(SELECT \n",
    "    ln_disb_dtime disbursementdate,\n",
    "\tdigitalLoanAccountId,\n",
    "    sb_stack_score,\n",
    "    ln_fstpd30_flag,\n",
    "\tln_mature_fstpd30_flag,\t\n",
    "\tFROM \n",
    "    prj-prod-dataplatform.risk_mart.sil_risk_ds_master_20230101_20250206\n",
    "  WHERE \n",
    "     -- ln_disb_dtime >= '2023-07-01'\n",
    "    ln_appln_submit_datetime >= '2023-06-01'\n",
    "  -- AND\n",
    "  --   format_date('%Y-%m', ln_disb_dtime) = '2024-09'\n",
    "  AND\n",
    "    ln_fstpd30_flag is not null\n",
    "  AND\n",
    "    sb_stack_score is not null\n",
    "  AND\n",
    "    ln_mature_fstpd30_flag = 1\n",
    ")\n",
    "select * from sb_stack_score;\n",
    "\"\"\"\n",
    "\n",
    "df_sb_stack_scorefstpd30 = client.query(sq).to_dataframe(progress_bar_type='tqdm')\n",
    "\n",
    "df_sb_stack_scorefstpd30.head()"
   ]
  },
  {
   "cell_type": "code",
   "execution_count": 79,
   "metadata": {},
   "outputs": [
    {
     "name": "stdout",
     "output_type": "stream",
     "text": [
      "The shape of dataframe after copy is:\t(91, 7)\n"
     ]
    },
    {
     "data": {
      "text/plain": [
       "array(['start_date', 'end_date', 'sb_stack_score_FSTPD30_gini', 'period',\n",
       "       'Model_Name', 'version', 'bad_rate'], dtype=object)"
      ]
     },
     "execution_count": 79,
     "metadata": {},
     "output_type": "execute_result"
    }
   ],
   "source": [
    "gini_results = calculate_periodic_gini(df_sb_stack_scorefstpd30, 'sb_stack_score', 'ln_fstpd30_flag', 'FSTPD30')\n",
    "M4FSTPD30 = gini_results.copy()\n",
    "print(f\"The shape of dataframe after copy is:\\t{M4FSTPD30.shape}\")\n",
    "M4FSTPD30.columns.values"
   ]
  },
  {
   "cell_type": "code",
   "execution_count": 80,
   "metadata": {},
   "outputs": [
    {
     "data": {
      "application/vnd.microsoft.datawrangler.viewer.v0+json": {
       "columns": [
        {
         "name": "index",
         "rawType": "object",
         "type": "string"
        },
        {
         "name": "start_date",
         "rawType": "object",
         "type": "unknown"
        },
        {
         "name": "end_date",
         "rawType": "object",
         "type": "unknown"
        },
        {
         "name": "sb_stack_score_FSTPD30_gini",
         "rawType": "float64",
         "type": "float"
        }
       ],
       "conversionMethod": "pd.DataFrame",
       "ref": "509cd9f4-7449-4518-a889-7b61e0d91691",
       "rows": [
        [
         "count",
         "91",
         "91",
         "91.0"
        ],
        [
         "mean",
         "2024-02-06 22:09:13.846153728",
         "2024-02-17 07:38:54.065934080",
         "0.3469109933416326"
        ],
        [
         "min",
         "2023-05-29 00:00:00",
         "2023-06-04 00:00:00",
         "0.14970536709667148"
        ],
        [
         "25%",
         "2023-10-01 12:00:00",
         "2023-10-11 12:00:00",
         "0.3084255890947749"
        ],
        [
         "50%",
         "2024-02-05 00:00:00",
         "2024-02-18 00:00:00",
         "0.3386672208367969"
        ],
        [
         "75%",
         "2024-06-13 12:00:00",
         "2024-06-26 12:00:00",
         "0.38900294909824407"
        ],
        [
         "max",
         "2024-10-21 00:00:00",
         "2024-10-31 00:00:00",
         "0.5015924947960835"
        ],
        [
         "std",
         null,
         null,
         "0.06145564719456036"
        ]
       ],
       "shape": {
        "columns": 3,
        "rows": 8
       }
      },
      "text/html": [
       "<div>\n",
       "<style scoped>\n",
       "    .dataframe tbody tr th:only-of-type {\n",
       "        vertical-align: middle;\n",
       "    }\n",
       "\n",
       "    .dataframe tbody tr th {\n",
       "        vertical-align: top;\n",
       "    }\n",
       "\n",
       "    .dataframe thead th {\n",
       "        text-align: right;\n",
       "    }\n",
       "</style>\n",
       "<table border=\"1\" class=\"dataframe\">\n",
       "  <thead>\n",
       "    <tr style=\"text-align: right;\">\n",
       "      <th></th>\n",
       "      <th>start_date</th>\n",
       "      <th>end_date</th>\n",
       "      <th>sb_stack_score_FSTPD30_gini</th>\n",
       "    </tr>\n",
       "  </thead>\n",
       "  <tbody>\n",
       "    <tr>\n",
       "      <th>count</th>\n",
       "      <td>91</td>\n",
       "      <td>91</td>\n",
       "      <td>91.000000</td>\n",
       "    </tr>\n",
       "    <tr>\n",
       "      <th>mean</th>\n",
       "      <td>2024-02-06 22:09:13.846153728</td>\n",
       "      <td>2024-02-17 07:38:54.065934080</td>\n",
       "      <td>0.346911</td>\n",
       "    </tr>\n",
       "    <tr>\n",
       "      <th>min</th>\n",
       "      <td>2023-05-29 00:00:00</td>\n",
       "      <td>2023-06-04 00:00:00</td>\n",
       "      <td>0.149705</td>\n",
       "    </tr>\n",
       "    <tr>\n",
       "      <th>25%</th>\n",
       "      <td>2023-10-01 12:00:00</td>\n",
       "      <td>2023-10-11 12:00:00</td>\n",
       "      <td>0.308426</td>\n",
       "    </tr>\n",
       "    <tr>\n",
       "      <th>50%</th>\n",
       "      <td>2024-02-05 00:00:00</td>\n",
       "      <td>2024-02-18 00:00:00</td>\n",
       "      <td>0.338667</td>\n",
       "    </tr>\n",
       "    <tr>\n",
       "      <th>75%</th>\n",
       "      <td>2024-06-13 12:00:00</td>\n",
       "      <td>2024-06-26 12:00:00</td>\n",
       "      <td>0.389003</td>\n",
       "    </tr>\n",
       "    <tr>\n",
       "      <th>max</th>\n",
       "      <td>2024-10-21 00:00:00</td>\n",
       "      <td>2024-10-31 00:00:00</td>\n",
       "      <td>0.501592</td>\n",
       "    </tr>\n",
       "    <tr>\n",
       "      <th>std</th>\n",
       "      <td>NaN</td>\n",
       "      <td>NaN</td>\n",
       "      <td>0.061456</td>\n",
       "    </tr>\n",
       "  </tbody>\n",
       "</table>\n",
       "</div>"
      ],
      "text/plain": [
       "                          start_date                       end_date  \\\n",
       "count                             91                             91   \n",
       "mean   2024-02-06 22:09:13.846153728  2024-02-17 07:38:54.065934080   \n",
       "min              2023-05-29 00:00:00            2023-06-04 00:00:00   \n",
       "25%              2023-10-01 12:00:00            2023-10-11 12:00:00   \n",
       "50%              2024-02-05 00:00:00            2024-02-18 00:00:00   \n",
       "75%              2024-06-13 12:00:00            2024-06-26 12:00:00   \n",
       "max              2024-10-21 00:00:00            2024-10-31 00:00:00   \n",
       "std                              NaN                            NaN   \n",
       "\n",
       "       sb_stack_score_FSTPD30_gini  \n",
       "count                    91.000000  \n",
       "mean                      0.346911  \n",
       "min                       0.149705  \n",
       "25%                       0.308426  \n",
       "50%                       0.338667  \n",
       "75%                       0.389003  \n",
       "max                       0.501592  \n",
       "std                       0.061456  "
      ]
     },
     "execution_count": 80,
     "metadata": {},
     "output_type": "execute_result"
    }
   ],
   "source": [
    "M4FSTPD30.describe()"
   ]
  },
  {
   "cell_type": "code",
   "execution_count": 81,
   "metadata": {},
   "outputs": [
    {
     "data": {
      "application/vnd.microsoft.datawrangler.viewer.v0+json": {
       "columns": [
        {
         "name": "index",
         "rawType": "int64",
         "type": "integer"
        },
        {
         "name": "start_date",
         "rawType": "datetime64[ns]",
         "type": "datetime"
        },
        {
         "name": "end_date",
         "rawType": "datetime64[ns]",
         "type": "datetime"
        },
        {
         "name": "sb_stack_score_FSTPD30_gini",
         "rawType": "float64",
         "type": "float"
        },
        {
         "name": "period",
         "rawType": "object",
         "type": "string"
        },
        {
         "name": "Model_Name",
         "rawType": "object",
         "type": "string"
        },
        {
         "name": "version",
         "rawType": "object",
         "type": "string"
        },
        {
         "name": "bad_rate",
         "rawType": "object",
         "type": "string"
        }
       ],
       "conversionMethod": "pd.DataFrame",
       "ref": "93584983-952f-4ae6-92c4-9e4250b642ce",
       "rows": [
        [
         "86",
         "2024-09-30 00:00:00",
         "2024-10-06 00:00:00",
         "0.31766531686538935",
         "Week",
         "sb_stack_score",
         "1.1.0",
         "FSTPD30"
        ],
        [
         "87",
         "2024-10-01 00:00:00",
         "2024-10-31 00:00:00",
         "0.30826136709967167",
         "Month",
         "sb_stack_score",
         "1.1.0",
         "FSTPD30"
        ],
        [
         "88",
         "2024-10-07 00:00:00",
         "2024-10-13 00:00:00",
         "0.32973466713845",
         "Week",
         "sb_stack_score",
         "1.1.0",
         "FSTPD30"
        ],
        [
         "89",
         "2024-10-14 00:00:00",
         "2024-10-20 00:00:00",
         "0.2928295764813118",
         "Week",
         "sb_stack_score",
         "1.1.0",
         "FSTPD30"
        ],
        [
         "90",
         "2024-10-21 00:00:00",
         "2024-10-27 00:00:00",
         "0.31418076667578454",
         "Week",
         "sb_stack_score",
         "1.1.0",
         "FSTPD30"
        ]
       ],
       "shape": {
        "columns": 7,
        "rows": 5
       }
      },
      "text/html": [
       "<div>\n",
       "<style scoped>\n",
       "    .dataframe tbody tr th:only-of-type {\n",
       "        vertical-align: middle;\n",
       "    }\n",
       "\n",
       "    .dataframe tbody tr th {\n",
       "        vertical-align: top;\n",
       "    }\n",
       "\n",
       "    .dataframe thead th {\n",
       "        text-align: right;\n",
       "    }\n",
       "</style>\n",
       "<table border=\"1\" class=\"dataframe\">\n",
       "  <thead>\n",
       "    <tr style=\"text-align: right;\">\n",
       "      <th></th>\n",
       "      <th>start_date</th>\n",
       "      <th>end_date</th>\n",
       "      <th>sb_stack_score_FSTPD30_gini</th>\n",
       "      <th>period</th>\n",
       "      <th>Model_Name</th>\n",
       "      <th>version</th>\n",
       "      <th>bad_rate</th>\n",
       "    </tr>\n",
       "  </thead>\n",
       "  <tbody>\n",
       "    <tr>\n",
       "      <th>86</th>\n",
       "      <td>2024-09-30</td>\n",
       "      <td>2024-10-06</td>\n",
       "      <td>0.317665</td>\n",
       "      <td>Week</td>\n",
       "      <td>sb_stack_score</td>\n",
       "      <td>1.1.0</td>\n",
       "      <td>FSTPD30</td>\n",
       "    </tr>\n",
       "    <tr>\n",
       "      <th>87</th>\n",
       "      <td>2024-10-01</td>\n",
       "      <td>2024-10-31</td>\n",
       "      <td>0.308261</td>\n",
       "      <td>Month</td>\n",
       "      <td>sb_stack_score</td>\n",
       "      <td>1.1.0</td>\n",
       "      <td>FSTPD30</td>\n",
       "    </tr>\n",
       "    <tr>\n",
       "      <th>88</th>\n",
       "      <td>2024-10-07</td>\n",
       "      <td>2024-10-13</td>\n",
       "      <td>0.329735</td>\n",
       "      <td>Week</td>\n",
       "      <td>sb_stack_score</td>\n",
       "      <td>1.1.0</td>\n",
       "      <td>FSTPD30</td>\n",
       "    </tr>\n",
       "    <tr>\n",
       "      <th>89</th>\n",
       "      <td>2024-10-14</td>\n",
       "      <td>2024-10-20</td>\n",
       "      <td>0.292830</td>\n",
       "      <td>Week</td>\n",
       "      <td>sb_stack_score</td>\n",
       "      <td>1.1.0</td>\n",
       "      <td>FSTPD30</td>\n",
       "    </tr>\n",
       "    <tr>\n",
       "      <th>90</th>\n",
       "      <td>2024-10-21</td>\n",
       "      <td>2024-10-27</td>\n",
       "      <td>0.314181</td>\n",
       "      <td>Week</td>\n",
       "      <td>sb_stack_score</td>\n",
       "      <td>1.1.0</td>\n",
       "      <td>FSTPD30</td>\n",
       "    </tr>\n",
       "  </tbody>\n",
       "</table>\n",
       "</div>"
      ],
      "text/plain": [
       "   start_date   end_date  sb_stack_score_FSTPD30_gini period      Model_Name  \\\n",
       "86 2024-09-30 2024-10-06                     0.317665   Week  sb_stack_score   \n",
       "87 2024-10-01 2024-10-31                     0.308261  Month  sb_stack_score   \n",
       "88 2024-10-07 2024-10-13                     0.329735   Week  sb_stack_score   \n",
       "89 2024-10-14 2024-10-20                     0.292830   Week  sb_stack_score   \n",
       "90 2024-10-21 2024-10-27                     0.314181   Week  sb_stack_score   \n",
       "\n",
       "   version bad_rate  \n",
       "86   1.1.0  FSTPD30  \n",
       "87   1.1.0  FSTPD30  \n",
       "88   1.1.0  FSTPD30  \n",
       "89   1.1.0  FSTPD30  \n",
       "90   1.1.0  FSTPD30  "
      ]
     },
     "execution_count": 81,
     "metadata": {},
     "output_type": "execute_result"
    }
   ],
   "source": [
    "M4FSTPD30.tail()"
   ]
  },
  {
   "cell_type": "markdown",
   "metadata": {},
   "source": [
    "## Combining the dataframes"
   ]
  },
  {
   "cell_type": "code",
   "execution_count": 82,
   "metadata": {},
   "outputs": [
    {
     "data": {
      "text/plain": [
       "array(['start_date', 'end_date', 'sb_stack_score_FPD10_gini', 'period',\n",
       "       'Model_Name', 'version', 'bad_rate', 'sb_stack_score_FPD30_gini',\n",
       "       'sb_stack_score_FSPD30_gini', 'sb_stack_score_FSTPD30_gini'],\n",
       "      dtype=object)"
      ]
     },
     "execution_count": 82,
     "metadata": {},
     "output_type": "execute_result"
    }
   ],
   "source": [
    "import functools\n",
    "\n",
    "dataframes = [M1FPD10, M2FPD30, M3FSPD30, M4FSTPD30]\n",
    "common_columns = ['start_date', 'end_date', 'period', 'Model_Name','version', 'bad_rate']\n",
    "\n",
    "def merge_dataframes(df1, df2):\n",
    "    return pd.merge(df1, df2, on=common_columns, how='outer')\n",
    "\n",
    "final_df = functools.reduce(merge_dataframes, dataframes)\n",
    "\n",
    "final_df.columns.values"
   ]
  },
  {
   "cell_type": "code",
   "execution_count": 83,
   "metadata": {},
   "outputs": [],
   "source": [
    "final_df = final_df[['start_date', 'end_date', 'period', 'Model_Name', 'version', 'bad_rate', 'sb_stack_score_FPD10_gini', 'sb_stack_score_FPD30_gini',  'sb_stack_score_FSPD30_gini', 'sb_stack_score_FSTPD30_gini']].copy()"
   ]
  },
  {
   "cell_type": "markdown",
   "metadata": {},
   "source": [
    "## Creating the table "
   ]
  },
  {
   "cell_type": "code",
   "execution_count": 84,
   "metadata": {},
   "outputs": [
    {
     "data": {
      "text/plain": [
       "QueryJob<project=prj-prod-dataplatform, location=asia-southeast1, id=fcb074eb-3b26-4bce-ad58-5492480f4897>"
      ]
     },
     "execution_count": 84,
     "metadata": {},
     "output_type": "execute_result"
    }
   ],
   "source": [
    "sq = \"\"\"drop table if exists prj-prod-dataplatform.dap_ds_poweruser_playground.Model_gini_sb_stack_score;\"\"\"\n",
    "\n",
    "client.query(sq)"
   ]
  },
  {
   "cell_type": "code",
   "execution_count": 85,
   "metadata": {},
   "outputs": [
    {
     "data": {
      "text/plain": [
       "LoadJob<project=prj-prod-dataplatform, location=asia-southeast1, id=b5b9f81f-71f3-45e6-9f40-822a19ef13d1>"
      ]
     },
     "execution_count": 85,
     "metadata": {},
     "output_type": "execute_result"
    }
   ],
   "source": [
    "import pandas as pd\n",
    "from google.cloud import bigquery\n",
    "\n",
    "# Create a BigQuery client\n",
    "client = bigquery.Client('prj-prod-dataplatform')\n",
    "\n",
    "# Define your table schema\n",
    "table_schema = [\n",
    "    bigquery.SchemaField('start_date', 'TIMESTAMP'),\n",
    "    bigquery.SchemaField('end_date', 'TIMESTAMP'),\n",
    "    bigquery.SchemaField('period', 'STRING'),\n",
    "    bigquery.SchemaField('Model_Name', 'STRING'),\n",
    "    bigquery.SchemaField('version', 'STRING'),\n",
    "    bigquery.SchemaField('Badrate', 'STRING'),\n",
    "    bigquery.SchemaField('sb_stack_score_FPD10_gini', 'FLOAT'),\n",
    "    bigquery.SchemaField('sb_stack_score_FPD30_gini', 'FLOAT'),    \n",
    "    bigquery.SchemaField('sb_stack_score_FSPD30_gini', 'FLOAT'),\n",
    "    bigquery.SchemaField('sb_stack_score_FSTPD30_gini', 'FLOAT')\n",
    "    \n",
    "]\n",
    "\n",
    "# Create your BigQuery table\n",
    "table_id = 'prj-prod-dataplatform.dap_ds_poweruser_playground.Model_gini_sb_stack_score'\n",
    "table = bigquery.Table(table_id, schema=table_schema)\n",
    "table = client.create_table(table)\n",
    "\n",
    "# Load your DataFrame into BigQuery\n",
    "job_config = bigquery.LoadJobConfig(\n",
    "    write_disposition='WRITE_TRUNCATE'\n",
    ")\n",
    "\n",
    "load_job = client.load_table_from_dataframe(\n",
    "    final_df, table_id, job_config=job_config\n",
    ")\n",
    "\n",
    "load_job.result()"
   ]
  },
  {
   "cell_type": "markdown",
   "metadata": {},
   "source": [
    "# sa_stack_score"
   ]
  },
  {
   "cell_type": "markdown",
   "metadata": {},
   "source": [
    "## FPD10"
   ]
  },
  {
   "cell_type": "code",
   "execution_count": 86,
   "metadata": {},
   "outputs": [
    {
     "name": "stdout",
     "output_type": "stream",
     "text": [
      "Job ID 68a003bf-12a5-4479-bb7b-e47e478a6e48 successfully executed: 100%|\u001b[32m██████████\u001b[0m|"
     ]
    },
    {
     "name": "stderr",
     "output_type": "stream",
     "text": [
      "d:\\Anaconda3\\envs\\inc_env\\lib\\site-packages\\google\\cloud\\bigquery\\table.py:1820: UserWarning: BigQuery Storage module not found, fetch data with the REST endpoint instead.\n",
      "  warnings.warn(\n"
     ]
    },
    {
     "name": "stdout",
     "output_type": "stream",
     "text": [
      "\n",
      "Downloading: 100%|\u001b[32m██████████\u001b[0m|\n"
     ]
    },
    {
     "data": {
      "application/vnd.microsoft.datawrangler.viewer.v0+json": {
       "columns": [
        {
         "name": "index",
         "rawType": "int64",
         "type": "integer"
        },
        {
         "name": "disbursementdate",
         "rawType": "datetime64[us]",
         "type": "unknown"
        },
        {
         "name": "digitalLoanAccountId",
         "rawType": "object",
         "type": "string"
        },
        {
         "name": "sa_stack_score",
         "rawType": "float64",
         "type": "float"
        },
        {
         "name": "ln_fpd10_flag",
         "rawType": "Int64",
         "type": "integer"
        },
        {
         "name": "ln_mature_fpd10_flag",
         "rawType": "Int64",
         "type": "integer"
        }
       ],
       "conversionMethod": "pd.DataFrame",
       "ref": "a1d32efb-aead-4623-bac8-26d83fd0033d",
       "rows": [
        [
         "0",
         "2023-06-01 10:40:18",
         "ac002041-b0be-446e-b173-65effe340651",
         "0.15686351815388877",
         "0",
         "1"
        ],
        [
         "1",
         "2023-06-01 12:17:20",
         "4fddb4fa-6e60-42b0-adec-295658bd1093",
         "0.05523550748883815",
         "0",
         "1"
        ],
        [
         "2",
         "2023-06-01 12:36:51",
         "855bccd7-f3d4-461f-9748-bb50b07e0327",
         "0.14841904587421414",
         "0",
         "1"
        ],
        [
         "3",
         "2023-06-01 14:57:43",
         "ac518432-9362-4014-86d4-565c0125b27b",
         "0.11422419857317341",
         "0",
         "1"
        ],
        [
         "4",
         "2023-06-01 15:52:56",
         "b11e0b23-1b34-4d8c-984d-1239a7b389c1",
         "0.031070778183240482",
         "0",
         "1"
        ]
       ],
       "shape": {
        "columns": 5,
        "rows": 5
       }
      },
      "text/html": [
       "<div>\n",
       "<style scoped>\n",
       "    .dataframe tbody tr th:only-of-type {\n",
       "        vertical-align: middle;\n",
       "    }\n",
       "\n",
       "    .dataframe tbody tr th {\n",
       "        vertical-align: top;\n",
       "    }\n",
       "\n",
       "    .dataframe thead th {\n",
       "        text-align: right;\n",
       "    }\n",
       "</style>\n",
       "<table border=\"1\" class=\"dataframe\">\n",
       "  <thead>\n",
       "    <tr style=\"text-align: right;\">\n",
       "      <th></th>\n",
       "      <th>disbursementdate</th>\n",
       "      <th>digitalLoanAccountId</th>\n",
       "      <th>sa_stack_score</th>\n",
       "      <th>ln_fpd10_flag</th>\n",
       "      <th>ln_mature_fpd10_flag</th>\n",
       "    </tr>\n",
       "  </thead>\n",
       "  <tbody>\n",
       "    <tr>\n",
       "      <th>0</th>\n",
       "      <td>2023-06-01 10:40:18</td>\n",
       "      <td>ac002041-b0be-446e-b173-65effe340651</td>\n",
       "      <td>0.156864</td>\n",
       "      <td>0</td>\n",
       "      <td>1</td>\n",
       "    </tr>\n",
       "    <tr>\n",
       "      <th>1</th>\n",
       "      <td>2023-06-01 12:17:20</td>\n",
       "      <td>4fddb4fa-6e60-42b0-adec-295658bd1093</td>\n",
       "      <td>0.055236</td>\n",
       "      <td>0</td>\n",
       "      <td>1</td>\n",
       "    </tr>\n",
       "    <tr>\n",
       "      <th>2</th>\n",
       "      <td>2023-06-01 12:36:51</td>\n",
       "      <td>855bccd7-f3d4-461f-9748-bb50b07e0327</td>\n",
       "      <td>0.148419</td>\n",
       "      <td>0</td>\n",
       "      <td>1</td>\n",
       "    </tr>\n",
       "    <tr>\n",
       "      <th>3</th>\n",
       "      <td>2023-06-01 14:57:43</td>\n",
       "      <td>ac518432-9362-4014-86d4-565c0125b27b</td>\n",
       "      <td>0.114224</td>\n",
       "      <td>0</td>\n",
       "      <td>1</td>\n",
       "    </tr>\n",
       "    <tr>\n",
       "      <th>4</th>\n",
       "      <td>2023-06-01 15:52:56</td>\n",
       "      <td>b11e0b23-1b34-4d8c-984d-1239a7b389c1</td>\n",
       "      <td>0.031071</td>\n",
       "      <td>0</td>\n",
       "      <td>1</td>\n",
       "    </tr>\n",
       "  </tbody>\n",
       "</table>\n",
       "</div>"
      ],
      "text/plain": [
       "     disbursementdate                  digitalLoanAccountId  sa_stack_score  \\\n",
       "0 2023-06-01 10:40:18  ac002041-b0be-446e-b173-65effe340651        0.156864   \n",
       "1 2023-06-01 12:17:20  4fddb4fa-6e60-42b0-adec-295658bd1093        0.055236   \n",
       "2 2023-06-01 12:36:51  855bccd7-f3d4-461f-9748-bb50b07e0327        0.148419   \n",
       "3 2023-06-01 14:57:43  ac518432-9362-4014-86d4-565c0125b27b        0.114224   \n",
       "4 2023-06-01 15:52:56  b11e0b23-1b34-4d8c-984d-1239a7b389c1        0.031071   \n",
       "\n",
       "   ln_fpd10_flag  ln_mature_fpd10_flag  \n",
       "0              0                     1  \n",
       "1              0                     1  \n",
       "2              0                     1  \n",
       "3              0                     1  \n",
       "4              0                     1  "
      ]
     },
     "execution_count": 86,
     "metadata": {},
     "output_type": "execute_result"
    }
   ],
   "source": [
    "# sa_stack_score\n",
    "\n",
    "sq = \"\"\"\n",
    "with sa_stack_score as \n",
    "(SELECT \n",
    "    ln_disb_dtime disbursementdate,\n",
    "\tdigitalLoanAccountId,\n",
    "    sa_stack_score,\n",
    "    ln_fpd10_flag,\n",
    "\tln_mature_fpd10_flag,\t\n",
    "\tFROM \n",
    "    prj-prod-dataplatform.risk_mart.sil_risk_ds_master_20230101_20250206\n",
    "  WHERE \n",
    "     -- ln_disb_dtime >= '2023-07-01'\n",
    "    ln_appln_submit_datetime >= '2023-06-01'\n",
    "  -- AND\n",
    "  --   format_date('%Y-%m', ln_disb_dtime) = '2024-09'\n",
    "  AND\n",
    "    ln_fpd10_flag is not null\n",
    "  AND\n",
    "    sa_stack_score is not null\n",
    "  AND\n",
    "    ln_mature_fpd10_flag = 1\n",
    ")\n",
    "select * from sa_stack_score;\n",
    "\"\"\"\n",
    "\n",
    "sa_stack_scorefpd10 = client.query(sq).to_dataframe(progress_bar_type='tqdm')\n",
    "\n",
    "sa_stack_scorefpd10.head()"
   ]
  },
  {
   "cell_type": "code",
   "execution_count": 87,
   "metadata": {},
   "outputs": [
    {
     "data": {
      "application/vnd.microsoft.datawrangler.viewer.v0+json": {
       "columns": [
        {
         "name": "index",
         "rawType": "int64",
         "type": "integer"
        },
        {
         "name": "disbursementdate",
         "rawType": "datetime64[us]",
         "type": "unknown"
        },
        {
         "name": "digitalLoanAccountId",
         "rawType": "object",
         "type": "string"
        },
        {
         "name": "sa_stack_score",
         "rawType": "float64",
         "type": "float"
        },
        {
         "name": "ln_fpd10_flag",
         "rawType": "Int64",
         "type": "integer"
        },
        {
         "name": "ln_mature_fpd10_flag",
         "rawType": "Int64",
         "type": "integer"
        }
       ],
       "conversionMethod": "pd.DataFrame",
       "ref": "7dc7644f-301f-4b67-bf7d-d57957e8ce58",
       "rows": [
        [
         "0",
         "2023-06-01 10:40:18",
         "ac002041-b0be-446e-b173-65effe340651",
         "0.15686351815388877",
         "0",
         "1"
        ],
        [
         "1",
         "2023-06-01 12:17:20",
         "4fddb4fa-6e60-42b0-adec-295658bd1093",
         "0.05523550748883815",
         "0",
         "1"
        ],
        [
         "2",
         "2023-06-01 12:36:51",
         "855bccd7-f3d4-461f-9748-bb50b07e0327",
         "0.14841904587421414",
         "0",
         "1"
        ],
        [
         "3",
         "2023-06-01 14:57:43",
         "ac518432-9362-4014-86d4-565c0125b27b",
         "0.11422419857317341",
         "0",
         "1"
        ],
        [
         "4",
         "2023-06-01 15:52:56",
         "b11e0b23-1b34-4d8c-984d-1239a7b389c1",
         "0.031070778183240482",
         "0",
         "1"
        ]
       ],
       "shape": {
        "columns": 5,
        "rows": 5
       }
      },
      "text/html": [
       "<div>\n",
       "<style scoped>\n",
       "    .dataframe tbody tr th:only-of-type {\n",
       "        vertical-align: middle;\n",
       "    }\n",
       "\n",
       "    .dataframe tbody tr th {\n",
       "        vertical-align: top;\n",
       "    }\n",
       "\n",
       "    .dataframe thead th {\n",
       "        text-align: right;\n",
       "    }\n",
       "</style>\n",
       "<table border=\"1\" class=\"dataframe\">\n",
       "  <thead>\n",
       "    <tr style=\"text-align: right;\">\n",
       "      <th></th>\n",
       "      <th>disbursementdate</th>\n",
       "      <th>digitalLoanAccountId</th>\n",
       "      <th>sa_stack_score</th>\n",
       "      <th>ln_fpd10_flag</th>\n",
       "      <th>ln_mature_fpd10_flag</th>\n",
       "    </tr>\n",
       "  </thead>\n",
       "  <tbody>\n",
       "    <tr>\n",
       "      <th>0</th>\n",
       "      <td>2023-06-01 10:40:18</td>\n",
       "      <td>ac002041-b0be-446e-b173-65effe340651</td>\n",
       "      <td>0.156864</td>\n",
       "      <td>0</td>\n",
       "      <td>1</td>\n",
       "    </tr>\n",
       "    <tr>\n",
       "      <th>1</th>\n",
       "      <td>2023-06-01 12:17:20</td>\n",
       "      <td>4fddb4fa-6e60-42b0-adec-295658bd1093</td>\n",
       "      <td>0.055236</td>\n",
       "      <td>0</td>\n",
       "      <td>1</td>\n",
       "    </tr>\n",
       "    <tr>\n",
       "      <th>2</th>\n",
       "      <td>2023-06-01 12:36:51</td>\n",
       "      <td>855bccd7-f3d4-461f-9748-bb50b07e0327</td>\n",
       "      <td>0.148419</td>\n",
       "      <td>0</td>\n",
       "      <td>1</td>\n",
       "    </tr>\n",
       "    <tr>\n",
       "      <th>3</th>\n",
       "      <td>2023-06-01 14:57:43</td>\n",
       "      <td>ac518432-9362-4014-86d4-565c0125b27b</td>\n",
       "      <td>0.114224</td>\n",
       "      <td>0</td>\n",
       "      <td>1</td>\n",
       "    </tr>\n",
       "    <tr>\n",
       "      <th>4</th>\n",
       "      <td>2023-06-01 15:52:56</td>\n",
       "      <td>b11e0b23-1b34-4d8c-984d-1239a7b389c1</td>\n",
       "      <td>0.031071</td>\n",
       "      <td>0</td>\n",
       "      <td>1</td>\n",
       "    </tr>\n",
       "  </tbody>\n",
       "</table>\n",
       "</div>"
      ],
      "text/plain": [
       "     disbursementdate                  digitalLoanAccountId  sa_stack_score  \\\n",
       "0 2023-06-01 10:40:18  ac002041-b0be-446e-b173-65effe340651        0.156864   \n",
       "1 2023-06-01 12:17:20  4fddb4fa-6e60-42b0-adec-295658bd1093        0.055236   \n",
       "2 2023-06-01 12:36:51  855bccd7-f3d4-461f-9748-bb50b07e0327        0.148419   \n",
       "3 2023-06-01 14:57:43  ac518432-9362-4014-86d4-565c0125b27b        0.114224   \n",
       "4 2023-06-01 15:52:56  b11e0b23-1b34-4d8c-984d-1239a7b389c1        0.031071   \n",
       "\n",
       "   ln_fpd10_flag  ln_mature_fpd10_flag  \n",
       "0              0                     1  \n",
       "1              0                     1  \n",
       "2              0                     1  \n",
       "3              0                     1  \n",
       "4              0                     1  "
      ]
     },
     "execution_count": 87,
     "metadata": {},
     "output_type": "execute_result"
    }
   ],
   "source": [
    "sa_stack_scorefpd10.head()"
   ]
  },
  {
   "cell_type": "code",
   "execution_count": 88,
   "metadata": {},
   "outputs": [
    {
     "name": "stdout",
     "output_type": "stream",
     "text": [
      "The shape of dataframe after copy is:\t(106, 7)\n"
     ]
    },
    {
     "data": {
      "text/plain": [
       "array(['start_date', 'end_date', 'sa_stack_score_FPD10_gini', 'period',\n",
       "       'Model_Name', 'version', 'bad_rate'], dtype=object)"
      ]
     },
     "execution_count": 88,
     "metadata": {},
     "output_type": "execute_result"
    }
   ],
   "source": [
    "gini_results = calculate_periodic_gini(sa_stack_scorefpd10, 'sa_stack_score', 'ln_fpd10_flag', 'FPD10')\n",
    "M1FPD10 = gini_results.copy()\n",
    "print(f\"The shape of dataframe after copy is:\\t{M1FPD10.shape}\")\n",
    "M1FPD10.columns.values"
   ]
  },
  {
   "cell_type": "code",
   "execution_count": 89,
   "metadata": {},
   "outputs": [
    {
     "data": {
      "application/vnd.microsoft.datawrangler.viewer.v0+json": {
       "columns": [
        {
         "name": "index",
         "rawType": "object",
         "type": "string"
        },
        {
         "name": "start_date",
         "rawType": "object",
         "type": "unknown"
        },
        {
         "name": "end_date",
         "rawType": "object",
         "type": "unknown"
        },
        {
         "name": "sa_stack_score_FPD10_gini",
         "rawType": "float64",
         "type": "float"
        }
       ],
       "conversionMethod": "pd.DataFrame",
       "ref": "ed42f5c1-462f-4a0e-9b79-cbc5994219db",
       "rows": [
        [
         "count",
         "106",
         "106",
         "106.0"
        ],
        [
         "mean",
         "2024-03-20 14:56:36.226415104",
         "2024-03-31 01:35:05.660377344",
         "0.37057677800036004"
        ],
        [
         "min",
         "2023-05-29 00:00:00",
         "2023-06-04 00:00:00",
         "-0.06303030303030299"
        ],
        [
         "25%",
         "2023-10-24 18:00:00",
         "2023-11-01 06:00:00",
         "0.3289600591406646"
        ],
        [
         "50%",
         "2024-03-21 12:00:00",
         "2024-03-31 00:00:00",
         "0.3570007595060648"
        ],
        [
         "75%",
         "2024-08-17 06:00:00",
         "2024-08-29 12:00:00",
         "0.4297124764902809"
        ],
        [
         "max",
         "2025-01-13 00:00:00",
         "2025-01-31 00:00:00",
         "0.6635220125786165"
        ],
        [
         "std",
         null,
         null,
         "0.09868395457353955"
        ]
       ],
       "shape": {
        "columns": 3,
        "rows": 8
       }
      },
      "text/html": [
       "<div>\n",
       "<style scoped>\n",
       "    .dataframe tbody tr th:only-of-type {\n",
       "        vertical-align: middle;\n",
       "    }\n",
       "\n",
       "    .dataframe tbody tr th {\n",
       "        vertical-align: top;\n",
       "    }\n",
       "\n",
       "    .dataframe thead th {\n",
       "        text-align: right;\n",
       "    }\n",
       "</style>\n",
       "<table border=\"1\" class=\"dataframe\">\n",
       "  <thead>\n",
       "    <tr style=\"text-align: right;\">\n",
       "      <th></th>\n",
       "      <th>start_date</th>\n",
       "      <th>end_date</th>\n",
       "      <th>sa_stack_score_FPD10_gini</th>\n",
       "    </tr>\n",
       "  </thead>\n",
       "  <tbody>\n",
       "    <tr>\n",
       "      <th>count</th>\n",
       "      <td>106</td>\n",
       "      <td>106</td>\n",
       "      <td>106.000000</td>\n",
       "    </tr>\n",
       "    <tr>\n",
       "      <th>mean</th>\n",
       "      <td>2024-03-20 14:56:36.226415104</td>\n",
       "      <td>2024-03-31 01:35:05.660377344</td>\n",
       "      <td>0.370577</td>\n",
       "    </tr>\n",
       "    <tr>\n",
       "      <th>min</th>\n",
       "      <td>2023-05-29 00:00:00</td>\n",
       "      <td>2023-06-04 00:00:00</td>\n",
       "      <td>-0.063030</td>\n",
       "    </tr>\n",
       "    <tr>\n",
       "      <th>25%</th>\n",
       "      <td>2023-10-24 18:00:00</td>\n",
       "      <td>2023-11-01 06:00:00</td>\n",
       "      <td>0.328960</td>\n",
       "    </tr>\n",
       "    <tr>\n",
       "      <th>50%</th>\n",
       "      <td>2024-03-21 12:00:00</td>\n",
       "      <td>2024-03-31 00:00:00</td>\n",
       "      <td>0.357001</td>\n",
       "    </tr>\n",
       "    <tr>\n",
       "      <th>75%</th>\n",
       "      <td>2024-08-17 06:00:00</td>\n",
       "      <td>2024-08-29 12:00:00</td>\n",
       "      <td>0.429712</td>\n",
       "    </tr>\n",
       "    <tr>\n",
       "      <th>max</th>\n",
       "      <td>2025-01-13 00:00:00</td>\n",
       "      <td>2025-01-31 00:00:00</td>\n",
       "      <td>0.663522</td>\n",
       "    </tr>\n",
       "    <tr>\n",
       "      <th>std</th>\n",
       "      <td>NaN</td>\n",
       "      <td>NaN</td>\n",
       "      <td>0.098684</td>\n",
       "    </tr>\n",
       "  </tbody>\n",
       "</table>\n",
       "</div>"
      ],
      "text/plain": [
       "                          start_date                       end_date  \\\n",
       "count                            106                            106   \n",
       "mean   2024-03-20 14:56:36.226415104  2024-03-31 01:35:05.660377344   \n",
       "min              2023-05-29 00:00:00            2023-06-04 00:00:00   \n",
       "25%              2023-10-24 18:00:00            2023-11-01 06:00:00   \n",
       "50%              2024-03-21 12:00:00            2024-03-31 00:00:00   \n",
       "75%              2024-08-17 06:00:00            2024-08-29 12:00:00   \n",
       "max              2025-01-13 00:00:00            2025-01-31 00:00:00   \n",
       "std                              NaN                            NaN   \n",
       "\n",
       "       sa_stack_score_FPD10_gini  \n",
       "count                 106.000000  \n",
       "mean                    0.370577  \n",
       "min                    -0.063030  \n",
       "25%                     0.328960  \n",
       "50%                     0.357001  \n",
       "75%                     0.429712  \n",
       "max                     0.663522  \n",
       "std                     0.098684  "
      ]
     },
     "execution_count": 89,
     "metadata": {},
     "output_type": "execute_result"
    }
   ],
   "source": [
    "M1FPD10.describe()"
   ]
  },
  {
   "cell_type": "code",
   "execution_count": 90,
   "metadata": {},
   "outputs": [
    {
     "data": {
      "application/vnd.microsoft.datawrangler.viewer.v0+json": {
       "columns": [
        {
         "name": "index",
         "rawType": "int64",
         "type": "integer"
        },
        {
         "name": "start_date",
         "rawType": "datetime64[ns]",
         "type": "datetime"
        },
        {
         "name": "end_date",
         "rawType": "datetime64[ns]",
         "type": "datetime"
        },
        {
         "name": "sa_stack_score_FPD10_gini",
         "rawType": "float64",
         "type": "float"
        },
        {
         "name": "period",
         "rawType": "object",
         "type": "string"
        },
        {
         "name": "Model_Name",
         "rawType": "object",
         "type": "string"
        },
        {
         "name": "version",
         "rawType": "object",
         "type": "string"
        },
        {
         "name": "bad_rate",
         "rawType": "object",
         "type": "string"
        }
       ],
       "conversionMethod": "pd.DataFrame",
       "ref": "ac07e189-d58c-4ad0-9adc-2ac6905b90bd",
       "rows": [
        [
         "0",
         "2023-05-29 00:00:00",
         "2023-06-04 00:00:00",
         "0.549624687239366",
         "Week",
         "sa_stack_score",
         "1.1.0",
         "FPD10"
        ],
        [
         "1",
         "2023-06-01 00:00:00",
         "2023-06-30 00:00:00",
         "0.344488188976378",
         "Month",
         "sa_stack_score",
         "1.1.0",
         "FPD10"
        ],
        [
         "2",
         "2023-06-05 00:00:00",
         "2023-06-11 00:00:00",
         "0.46662260409781897",
         "Week",
         "sa_stack_score",
         "1.1.0",
         "FPD10"
        ],
        [
         "3",
         "2023-06-12 00:00:00",
         "2023-06-18 00:00:00",
         "0.6635220125786165",
         "Week",
         "sa_stack_score",
         "1.1.0",
         "FPD10"
        ],
        [
         "4",
         "2023-06-19 00:00:00",
         "2023-06-25 00:00:00",
         "-0.06303030303030299",
         "Week",
         "sa_stack_score",
         "1.1.0",
         "FPD10"
        ]
       ],
       "shape": {
        "columns": 7,
        "rows": 5
       }
      },
      "text/html": [
       "<div>\n",
       "<style scoped>\n",
       "    .dataframe tbody tr th:only-of-type {\n",
       "        vertical-align: middle;\n",
       "    }\n",
       "\n",
       "    .dataframe tbody tr th {\n",
       "        vertical-align: top;\n",
       "    }\n",
       "\n",
       "    .dataframe thead th {\n",
       "        text-align: right;\n",
       "    }\n",
       "</style>\n",
       "<table border=\"1\" class=\"dataframe\">\n",
       "  <thead>\n",
       "    <tr style=\"text-align: right;\">\n",
       "      <th></th>\n",
       "      <th>start_date</th>\n",
       "      <th>end_date</th>\n",
       "      <th>sa_stack_score_FPD10_gini</th>\n",
       "      <th>period</th>\n",
       "      <th>Model_Name</th>\n",
       "      <th>version</th>\n",
       "      <th>bad_rate</th>\n",
       "    </tr>\n",
       "  </thead>\n",
       "  <tbody>\n",
       "    <tr>\n",
       "      <th>0</th>\n",
       "      <td>2023-05-29</td>\n",
       "      <td>2023-06-04</td>\n",
       "      <td>0.549625</td>\n",
       "      <td>Week</td>\n",
       "      <td>sa_stack_score</td>\n",
       "      <td>1.1.0</td>\n",
       "      <td>FPD10</td>\n",
       "    </tr>\n",
       "    <tr>\n",
       "      <th>1</th>\n",
       "      <td>2023-06-01</td>\n",
       "      <td>2023-06-30</td>\n",
       "      <td>0.344488</td>\n",
       "      <td>Month</td>\n",
       "      <td>sa_stack_score</td>\n",
       "      <td>1.1.0</td>\n",
       "      <td>FPD10</td>\n",
       "    </tr>\n",
       "    <tr>\n",
       "      <th>2</th>\n",
       "      <td>2023-06-05</td>\n",
       "      <td>2023-06-11</td>\n",
       "      <td>0.466623</td>\n",
       "      <td>Week</td>\n",
       "      <td>sa_stack_score</td>\n",
       "      <td>1.1.0</td>\n",
       "      <td>FPD10</td>\n",
       "    </tr>\n",
       "    <tr>\n",
       "      <th>3</th>\n",
       "      <td>2023-06-12</td>\n",
       "      <td>2023-06-18</td>\n",
       "      <td>0.663522</td>\n",
       "      <td>Week</td>\n",
       "      <td>sa_stack_score</td>\n",
       "      <td>1.1.0</td>\n",
       "      <td>FPD10</td>\n",
       "    </tr>\n",
       "    <tr>\n",
       "      <th>4</th>\n",
       "      <td>2023-06-19</td>\n",
       "      <td>2023-06-25</td>\n",
       "      <td>-0.063030</td>\n",
       "      <td>Week</td>\n",
       "      <td>sa_stack_score</td>\n",
       "      <td>1.1.0</td>\n",
       "      <td>FPD10</td>\n",
       "    </tr>\n",
       "  </tbody>\n",
       "</table>\n",
       "</div>"
      ],
      "text/plain": [
       "  start_date   end_date  sa_stack_score_FPD10_gini period      Model_Name  \\\n",
       "0 2023-05-29 2023-06-04                   0.549625   Week  sa_stack_score   \n",
       "1 2023-06-01 2023-06-30                   0.344488  Month  sa_stack_score   \n",
       "2 2023-06-05 2023-06-11                   0.466623   Week  sa_stack_score   \n",
       "3 2023-06-12 2023-06-18                   0.663522   Week  sa_stack_score   \n",
       "4 2023-06-19 2023-06-25                  -0.063030   Week  sa_stack_score   \n",
       "\n",
       "  version bad_rate  \n",
       "0   1.1.0    FPD10  \n",
       "1   1.1.0    FPD10  \n",
       "2   1.1.0    FPD10  \n",
       "3   1.1.0    FPD10  \n",
       "4   1.1.0    FPD10  "
      ]
     },
     "execution_count": 90,
     "metadata": {},
     "output_type": "execute_result"
    }
   ],
   "source": [
    "M1FPD10.head()"
   ]
  },
  {
   "cell_type": "markdown",
   "metadata": {},
   "source": [
    "## FPD30"
   ]
  },
  {
   "cell_type": "code",
   "execution_count": 91,
   "metadata": {},
   "outputs": [
    {
     "name": "stdout",
     "output_type": "stream",
     "text": [
      "Job ID b35c46fa-a957-45bf-9797-abde48d6d272 successfully executed: 100%|\u001b[32m██████████\u001b[0m|"
     ]
    },
    {
     "name": "stderr",
     "output_type": "stream",
     "text": [
      "d:\\Anaconda3\\envs\\inc_env\\lib\\site-packages\\google\\cloud\\bigquery\\table.py:1820: UserWarning: BigQuery Storage module not found, fetch data with the REST endpoint instead.\n",
      "  warnings.warn(\n"
     ]
    },
    {
     "name": "stdout",
     "output_type": "stream",
     "text": [
      "\n",
      "Downloading: 100%|\u001b[32m██████████\u001b[0m|\n"
     ]
    },
    {
     "data": {
      "application/vnd.microsoft.datawrangler.viewer.v0+json": {
       "columns": [
        {
         "name": "index",
         "rawType": "int64",
         "type": "integer"
        },
        {
         "name": "disbursementdate",
         "rawType": "datetime64[us]",
         "type": "unknown"
        },
        {
         "name": "digitalLoanAccountId",
         "rawType": "object",
         "type": "string"
        },
        {
         "name": "sa_stack_score",
         "rawType": "float64",
         "type": "float"
        },
        {
         "name": "ln_fpd30_flag",
         "rawType": "Int64",
         "type": "integer"
        },
        {
         "name": "ln_mature_fpd30_flag",
         "rawType": "Int64",
         "type": "integer"
        }
       ],
       "conversionMethod": "pd.DataFrame",
       "ref": "33c39945-dbf3-48c1-b498-85bc9a3064f9",
       "rows": [
        [
         "0",
         "2023-06-01 10:42:34",
         "f91cba31-7630-477a-8cdd-d010b63c4900",
         "0.0279206932315757",
         "0",
         "1"
        ],
        [
         "1",
         "2023-06-01 11:02:18",
         "7e7e7678-b36d-4b26-ad01-272565b54780",
         "0.04650437871303063",
         "0",
         "1"
        ],
        [
         "2",
         "2023-06-01 12:56:23",
         "e585b35d-bc13-494d-970d-2272d976991b",
         "0.049986375632120286",
         "0",
         "1"
        ],
        [
         "3",
         "2023-06-01 14:43:46",
         "4e78ebf3-256e-426c-8840-a7f9e1403a97",
         "0.09418409210011004",
         "0",
         "1"
        ],
        [
         "4",
         "2023-06-01 15:36:13",
         "a3dc185d-0118-4ebc-bf03-117fdd8f9c64",
         "0.08933879387112617",
         "0",
         "1"
        ]
       ],
       "shape": {
        "columns": 5,
        "rows": 5
       }
      },
      "text/html": [
       "<div>\n",
       "<style scoped>\n",
       "    .dataframe tbody tr th:only-of-type {\n",
       "        vertical-align: middle;\n",
       "    }\n",
       "\n",
       "    .dataframe tbody tr th {\n",
       "        vertical-align: top;\n",
       "    }\n",
       "\n",
       "    .dataframe thead th {\n",
       "        text-align: right;\n",
       "    }\n",
       "</style>\n",
       "<table border=\"1\" class=\"dataframe\">\n",
       "  <thead>\n",
       "    <tr style=\"text-align: right;\">\n",
       "      <th></th>\n",
       "      <th>disbursementdate</th>\n",
       "      <th>digitalLoanAccountId</th>\n",
       "      <th>sa_stack_score</th>\n",
       "      <th>ln_fpd30_flag</th>\n",
       "      <th>ln_mature_fpd30_flag</th>\n",
       "    </tr>\n",
       "  </thead>\n",
       "  <tbody>\n",
       "    <tr>\n",
       "      <th>0</th>\n",
       "      <td>2023-06-01 10:42:34</td>\n",
       "      <td>f91cba31-7630-477a-8cdd-d010b63c4900</td>\n",
       "      <td>0.027921</td>\n",
       "      <td>0</td>\n",
       "      <td>1</td>\n",
       "    </tr>\n",
       "    <tr>\n",
       "      <th>1</th>\n",
       "      <td>2023-06-01 11:02:18</td>\n",
       "      <td>7e7e7678-b36d-4b26-ad01-272565b54780</td>\n",
       "      <td>0.046504</td>\n",
       "      <td>0</td>\n",
       "      <td>1</td>\n",
       "    </tr>\n",
       "    <tr>\n",
       "      <th>2</th>\n",
       "      <td>2023-06-01 12:56:23</td>\n",
       "      <td>e585b35d-bc13-494d-970d-2272d976991b</td>\n",
       "      <td>0.049986</td>\n",
       "      <td>0</td>\n",
       "      <td>1</td>\n",
       "    </tr>\n",
       "    <tr>\n",
       "      <th>3</th>\n",
       "      <td>2023-06-01 14:43:46</td>\n",
       "      <td>4e78ebf3-256e-426c-8840-a7f9e1403a97</td>\n",
       "      <td>0.094184</td>\n",
       "      <td>0</td>\n",
       "      <td>1</td>\n",
       "    </tr>\n",
       "    <tr>\n",
       "      <th>4</th>\n",
       "      <td>2023-06-01 15:36:13</td>\n",
       "      <td>a3dc185d-0118-4ebc-bf03-117fdd8f9c64</td>\n",
       "      <td>0.089339</td>\n",
       "      <td>0</td>\n",
       "      <td>1</td>\n",
       "    </tr>\n",
       "  </tbody>\n",
       "</table>\n",
       "</div>"
      ],
      "text/plain": [
       "     disbursementdate                  digitalLoanAccountId  sa_stack_score  \\\n",
       "0 2023-06-01 10:42:34  f91cba31-7630-477a-8cdd-d010b63c4900        0.027921   \n",
       "1 2023-06-01 11:02:18  7e7e7678-b36d-4b26-ad01-272565b54780        0.046504   \n",
       "2 2023-06-01 12:56:23  e585b35d-bc13-494d-970d-2272d976991b        0.049986   \n",
       "3 2023-06-01 14:43:46  4e78ebf3-256e-426c-8840-a7f9e1403a97        0.094184   \n",
       "4 2023-06-01 15:36:13  a3dc185d-0118-4ebc-bf03-117fdd8f9c64        0.089339   \n",
       "\n",
       "   ln_fpd30_flag  ln_mature_fpd30_flag  \n",
       "0              0                     1  \n",
       "1              0                     1  \n",
       "2              0                     1  \n",
       "3              0                     1  \n",
       "4              0                     1  "
      ]
     },
     "execution_count": 91,
     "metadata": {},
     "output_type": "execute_result"
    }
   ],
   "source": [
    "# sa_stack_score\n",
    "\n",
    "sq = \"\"\"\n",
    "with sa_stack_score as \n",
    "(SELECT \n",
    "    ln_disb_dtime disbursementdate,\n",
    "\tdigitalLoanAccountId,\n",
    "    sa_stack_score,\n",
    "    ln_fpd30_flag,\n",
    "\tln_mature_fpd30_flag,\t\n",
    "\tFROM \n",
    "    prj-prod-dataplatform.risk_mart.sil_risk_ds_master_20230101_20250206\n",
    "  WHERE \n",
    "     -- ln_disb_dtime >= '2023-07-01'\n",
    "    ln_appln_submit_datetime >= '2023-06-01'\n",
    "  -- AND\n",
    "  --   format_date('%Y-%m', ln_disb_dtime) = '2024-09'\n",
    "  AND\n",
    "    ln_fpd30_flag is not null\n",
    "  AND\n",
    "    sa_stack_score is not null\n",
    "  AND\n",
    "    ln_mature_fpd30_flag = 1\n",
    ")\n",
    "select * from sa_stack_score;\n",
    "\"\"\"\n",
    "\n",
    "sa_stack_scorefpd30 = client.query(sq).to_dataframe(progress_bar_type='tqdm')\n",
    "\n",
    "sa_stack_scorefpd30.head()"
   ]
  },
  {
   "cell_type": "code",
   "execution_count": 92,
   "metadata": {},
   "outputs": [
    {
     "data": {
      "application/vnd.microsoft.datawrangler.viewer.v0+json": {
       "columns": [
        {
         "name": "index",
         "rawType": "int64",
         "type": "integer"
        },
        {
         "name": "disbursementdate",
         "rawType": "datetime64[us]",
         "type": "unknown"
        },
        {
         "name": "digitalLoanAccountId",
         "rawType": "object",
         "type": "string"
        },
        {
         "name": "sa_stack_score",
         "rawType": "float64",
         "type": "float"
        },
        {
         "name": "ln_fpd30_flag",
         "rawType": "Int64",
         "type": "integer"
        },
        {
         "name": "ln_mature_fpd30_flag",
         "rawType": "Int64",
         "type": "integer"
        }
       ],
       "conversionMethod": "pd.DataFrame",
       "ref": "55bca1b9-ef8f-4690-9dd8-07c071515d17",
       "rows": [
        [
         "0",
         "2023-06-01 10:42:34",
         "f91cba31-7630-477a-8cdd-d010b63c4900",
         "0.0279206932315757",
         "0",
         "1"
        ],
        [
         "1",
         "2023-06-01 11:02:18",
         "7e7e7678-b36d-4b26-ad01-272565b54780",
         "0.04650437871303063",
         "0",
         "1"
        ],
        [
         "2",
         "2023-06-01 12:56:23",
         "e585b35d-bc13-494d-970d-2272d976991b",
         "0.049986375632120286",
         "0",
         "1"
        ],
        [
         "3",
         "2023-06-01 14:43:46",
         "4e78ebf3-256e-426c-8840-a7f9e1403a97",
         "0.09418409210011004",
         "0",
         "1"
        ],
        [
         "4",
         "2023-06-01 15:36:13",
         "a3dc185d-0118-4ebc-bf03-117fdd8f9c64",
         "0.08933879387112617",
         "0",
         "1"
        ]
       ],
       "shape": {
        "columns": 5,
        "rows": 5
       }
      },
      "text/html": [
       "<div>\n",
       "<style scoped>\n",
       "    .dataframe tbody tr th:only-of-type {\n",
       "        vertical-align: middle;\n",
       "    }\n",
       "\n",
       "    .dataframe tbody tr th {\n",
       "        vertical-align: top;\n",
       "    }\n",
       "\n",
       "    .dataframe thead th {\n",
       "        text-align: right;\n",
       "    }\n",
       "</style>\n",
       "<table border=\"1\" class=\"dataframe\">\n",
       "  <thead>\n",
       "    <tr style=\"text-align: right;\">\n",
       "      <th></th>\n",
       "      <th>disbursementdate</th>\n",
       "      <th>digitalLoanAccountId</th>\n",
       "      <th>sa_stack_score</th>\n",
       "      <th>ln_fpd30_flag</th>\n",
       "      <th>ln_mature_fpd30_flag</th>\n",
       "    </tr>\n",
       "  </thead>\n",
       "  <tbody>\n",
       "    <tr>\n",
       "      <th>0</th>\n",
       "      <td>2023-06-01 10:42:34</td>\n",
       "      <td>f91cba31-7630-477a-8cdd-d010b63c4900</td>\n",
       "      <td>0.027921</td>\n",
       "      <td>0</td>\n",
       "      <td>1</td>\n",
       "    </tr>\n",
       "    <tr>\n",
       "      <th>1</th>\n",
       "      <td>2023-06-01 11:02:18</td>\n",
       "      <td>7e7e7678-b36d-4b26-ad01-272565b54780</td>\n",
       "      <td>0.046504</td>\n",
       "      <td>0</td>\n",
       "      <td>1</td>\n",
       "    </tr>\n",
       "    <tr>\n",
       "      <th>2</th>\n",
       "      <td>2023-06-01 12:56:23</td>\n",
       "      <td>e585b35d-bc13-494d-970d-2272d976991b</td>\n",
       "      <td>0.049986</td>\n",
       "      <td>0</td>\n",
       "      <td>1</td>\n",
       "    </tr>\n",
       "    <tr>\n",
       "      <th>3</th>\n",
       "      <td>2023-06-01 14:43:46</td>\n",
       "      <td>4e78ebf3-256e-426c-8840-a7f9e1403a97</td>\n",
       "      <td>0.094184</td>\n",
       "      <td>0</td>\n",
       "      <td>1</td>\n",
       "    </tr>\n",
       "    <tr>\n",
       "      <th>4</th>\n",
       "      <td>2023-06-01 15:36:13</td>\n",
       "      <td>a3dc185d-0118-4ebc-bf03-117fdd8f9c64</td>\n",
       "      <td>0.089339</td>\n",
       "      <td>0</td>\n",
       "      <td>1</td>\n",
       "    </tr>\n",
       "  </tbody>\n",
       "</table>\n",
       "</div>"
      ],
      "text/plain": [
       "     disbursementdate                  digitalLoanAccountId  sa_stack_score  \\\n",
       "0 2023-06-01 10:42:34  f91cba31-7630-477a-8cdd-d010b63c4900        0.027921   \n",
       "1 2023-06-01 11:02:18  7e7e7678-b36d-4b26-ad01-272565b54780        0.046504   \n",
       "2 2023-06-01 12:56:23  e585b35d-bc13-494d-970d-2272d976991b        0.049986   \n",
       "3 2023-06-01 14:43:46  4e78ebf3-256e-426c-8840-a7f9e1403a97        0.094184   \n",
       "4 2023-06-01 15:36:13  a3dc185d-0118-4ebc-bf03-117fdd8f9c64        0.089339   \n",
       "\n",
       "   ln_fpd30_flag  ln_mature_fpd30_flag  \n",
       "0              0                     1  \n",
       "1              0                     1  \n",
       "2              0                     1  \n",
       "3              0                     1  \n",
       "4              0                     1  "
      ]
     },
     "execution_count": 92,
     "metadata": {},
     "output_type": "execute_result"
    }
   ],
   "source": [
    "sa_stack_scorefpd30.head()"
   ]
  },
  {
   "cell_type": "code",
   "execution_count": 93,
   "metadata": {},
   "outputs": [
    {
     "name": "stdout",
     "output_type": "stream",
     "text": [
      "The shape of dataframe after copy is:\t(102, 7)\n"
     ]
    },
    {
     "data": {
      "text/plain": [
       "array(['start_date', 'end_date', 'sa_stack_score_FPD30_gini', 'period',\n",
       "       'Model_Name', 'version', 'bad_rate'], dtype=object)"
      ]
     },
     "execution_count": 93,
     "metadata": {},
     "output_type": "execute_result"
    }
   ],
   "source": [
    "gini_results = calculate_periodic_gini(sa_stack_scorefpd30, 'sa_stack_score', 'ln_fpd30_flag', 'FPD30')\n",
    "M2FPD30 = gini_results.copy()\n",
    "print(f\"The shape of dataframe after copy is:\\t{M2FPD30.shape}\")\n",
    "M2FPD30.columns.values"
   ]
  },
  {
   "cell_type": "code",
   "execution_count": 94,
   "metadata": {},
   "outputs": [
    {
     "data": {
      "application/vnd.microsoft.datawrangler.viewer.v0+json": {
       "columns": [
        {
         "name": "index",
         "rawType": "object",
         "type": "string"
        },
        {
         "name": "start_date",
         "rawType": "object",
         "type": "unknown"
        },
        {
         "name": "end_date",
         "rawType": "object",
         "type": "unknown"
        },
        {
         "name": "sa_stack_score_FPD30_gini",
         "rawType": "float64",
         "type": "float"
        }
       ],
       "conversionMethod": "pd.DataFrame",
       "ref": "db2ed0d6-be78-4362-b3be-2f007c47e1b1",
       "rows": [
        [
         "count",
         "102",
         "102",
         "102.0"
        ],
        [
         "mean",
         "2024-03-09 05:52:56.470588160",
         "2024-03-19 15:03:31.764705792",
         "0.3933433284167437"
        ],
        [
         "min",
         "2023-05-29 00:00:00",
         "2023-06-04 00:00:00",
         "-0.03346720214190102"
        ],
        [
         "25%",
         "2023-10-17 18:00:00",
         "2023-10-29 12:00:00",
         "0.35462747167705755"
        ],
        [
         "50%",
         "2024-03-07 12:00:00",
         "2024-03-20 12:00:00",
         "0.3879548858195042"
        ],
        [
         "75%",
         "2024-07-31 06:00:00",
         "2024-08-09 06:00:00",
         "0.44920650828934305"
        ],
        [
         "max",
         "2024-12-23 00:00:00",
         "2024-12-31 00:00:00",
         "0.6346564233888179"
        ],
        [
         "std",
         null,
         null,
         "0.09718653237687808"
        ]
       ],
       "shape": {
        "columns": 3,
        "rows": 8
       }
      },
      "text/html": [
       "<div>\n",
       "<style scoped>\n",
       "    .dataframe tbody tr th:only-of-type {\n",
       "        vertical-align: middle;\n",
       "    }\n",
       "\n",
       "    .dataframe tbody tr th {\n",
       "        vertical-align: top;\n",
       "    }\n",
       "\n",
       "    .dataframe thead th {\n",
       "        text-align: right;\n",
       "    }\n",
       "</style>\n",
       "<table border=\"1\" class=\"dataframe\">\n",
       "  <thead>\n",
       "    <tr style=\"text-align: right;\">\n",
       "      <th></th>\n",
       "      <th>start_date</th>\n",
       "      <th>end_date</th>\n",
       "      <th>sa_stack_score_FPD30_gini</th>\n",
       "    </tr>\n",
       "  </thead>\n",
       "  <tbody>\n",
       "    <tr>\n",
       "      <th>count</th>\n",
       "      <td>102</td>\n",
       "      <td>102</td>\n",
       "      <td>102.000000</td>\n",
       "    </tr>\n",
       "    <tr>\n",
       "      <th>mean</th>\n",
       "      <td>2024-03-09 05:52:56.470588160</td>\n",
       "      <td>2024-03-19 15:03:31.764705792</td>\n",
       "      <td>0.393343</td>\n",
       "    </tr>\n",
       "    <tr>\n",
       "      <th>min</th>\n",
       "      <td>2023-05-29 00:00:00</td>\n",
       "      <td>2023-06-04 00:00:00</td>\n",
       "      <td>-0.033467</td>\n",
       "    </tr>\n",
       "    <tr>\n",
       "      <th>25%</th>\n",
       "      <td>2023-10-17 18:00:00</td>\n",
       "      <td>2023-10-29 12:00:00</td>\n",
       "      <td>0.354627</td>\n",
       "    </tr>\n",
       "    <tr>\n",
       "      <th>50%</th>\n",
       "      <td>2024-03-07 12:00:00</td>\n",
       "      <td>2024-03-20 12:00:00</td>\n",
       "      <td>0.387955</td>\n",
       "    </tr>\n",
       "    <tr>\n",
       "      <th>75%</th>\n",
       "      <td>2024-07-31 06:00:00</td>\n",
       "      <td>2024-08-09 06:00:00</td>\n",
       "      <td>0.449207</td>\n",
       "    </tr>\n",
       "    <tr>\n",
       "      <th>max</th>\n",
       "      <td>2024-12-23 00:00:00</td>\n",
       "      <td>2024-12-31 00:00:00</td>\n",
       "      <td>0.634656</td>\n",
       "    </tr>\n",
       "    <tr>\n",
       "      <th>std</th>\n",
       "      <td>NaN</td>\n",
       "      <td>NaN</td>\n",
       "      <td>0.097187</td>\n",
       "    </tr>\n",
       "  </tbody>\n",
       "</table>\n",
       "</div>"
      ],
      "text/plain": [
       "                          start_date                       end_date  \\\n",
       "count                            102                            102   \n",
       "mean   2024-03-09 05:52:56.470588160  2024-03-19 15:03:31.764705792   \n",
       "min              2023-05-29 00:00:00            2023-06-04 00:00:00   \n",
       "25%              2023-10-17 18:00:00            2023-10-29 12:00:00   \n",
       "50%              2024-03-07 12:00:00            2024-03-20 12:00:00   \n",
       "75%              2024-07-31 06:00:00            2024-08-09 06:00:00   \n",
       "max              2024-12-23 00:00:00            2024-12-31 00:00:00   \n",
       "std                              NaN                            NaN   \n",
       "\n",
       "       sa_stack_score_FPD30_gini  \n",
       "count                 102.000000  \n",
       "mean                    0.393343  \n",
       "min                    -0.033467  \n",
       "25%                     0.354627  \n",
       "50%                     0.387955  \n",
       "75%                     0.449207  \n",
       "max                     0.634656  \n",
       "std                     0.097187  "
      ]
     },
     "execution_count": 94,
     "metadata": {},
     "output_type": "execute_result"
    }
   ],
   "source": [
    "M2FPD30.describe()"
   ]
  },
  {
   "cell_type": "code",
   "execution_count": 95,
   "metadata": {},
   "outputs": [
    {
     "data": {
      "application/vnd.microsoft.datawrangler.viewer.v0+json": {
       "columns": [
        {
         "name": "index",
         "rawType": "int64",
         "type": "integer"
        },
        {
         "name": "start_date",
         "rawType": "datetime64[ns]",
         "type": "datetime"
        },
        {
         "name": "end_date",
         "rawType": "datetime64[ns]",
         "type": "datetime"
        },
        {
         "name": "sa_stack_score_FPD30_gini",
         "rawType": "float64",
         "type": "float"
        },
        {
         "name": "period",
         "rawType": "object",
         "type": "string"
        },
        {
         "name": "Model_Name",
         "rawType": "object",
         "type": "string"
        },
        {
         "name": "version",
         "rawType": "object",
         "type": "string"
        },
        {
         "name": "bad_rate",
         "rawType": "object",
         "type": "string"
        }
       ],
       "conversionMethod": "pd.DataFrame",
       "ref": "bd7d1ffa-d51a-4c68-a795-a8e977a9d128",
       "rows": [
        [
         "0",
         "2023-05-29 00:00:00",
         "2023-06-04 00:00:00",
         "0.5127272727272727",
         "Week",
         "sa_stack_score",
         "1.1.0",
         "FPD30"
        ],
        [
         "1",
         "2023-06-01 00:00:00",
         "2023-06-30 00:00:00",
         "0.3315625",
         "Month",
         "sa_stack_score",
         "1.1.0",
         "FPD30"
        ],
        [
         "2",
         "2023-06-05 00:00:00",
         "2023-06-11 00:00:00",
         "0.4177777777777778",
         "Week",
         "sa_stack_score",
         "1.1.0",
         "FPD30"
        ],
        [
         "3",
         "2023-06-12 00:00:00",
         "2023-06-18 00:00:00",
         "0.6346564233888179",
         "Week",
         "sa_stack_score",
         "1.1.0",
         "FPD30"
        ],
        [
         "4",
         "2023-06-19 00:00:00",
         "2023-06-25 00:00:00",
         "-0.03346720214190102",
         "Week",
         "sa_stack_score",
         "1.1.0",
         "FPD30"
        ]
       ],
       "shape": {
        "columns": 7,
        "rows": 5
       }
      },
      "text/html": [
       "<div>\n",
       "<style scoped>\n",
       "    .dataframe tbody tr th:only-of-type {\n",
       "        vertical-align: middle;\n",
       "    }\n",
       "\n",
       "    .dataframe tbody tr th {\n",
       "        vertical-align: top;\n",
       "    }\n",
       "\n",
       "    .dataframe thead th {\n",
       "        text-align: right;\n",
       "    }\n",
       "</style>\n",
       "<table border=\"1\" class=\"dataframe\">\n",
       "  <thead>\n",
       "    <tr style=\"text-align: right;\">\n",
       "      <th></th>\n",
       "      <th>start_date</th>\n",
       "      <th>end_date</th>\n",
       "      <th>sa_stack_score_FPD30_gini</th>\n",
       "      <th>period</th>\n",
       "      <th>Model_Name</th>\n",
       "      <th>version</th>\n",
       "      <th>bad_rate</th>\n",
       "    </tr>\n",
       "  </thead>\n",
       "  <tbody>\n",
       "    <tr>\n",
       "      <th>0</th>\n",
       "      <td>2023-05-29</td>\n",
       "      <td>2023-06-04</td>\n",
       "      <td>0.512727</td>\n",
       "      <td>Week</td>\n",
       "      <td>sa_stack_score</td>\n",
       "      <td>1.1.0</td>\n",
       "      <td>FPD30</td>\n",
       "    </tr>\n",
       "    <tr>\n",
       "      <th>1</th>\n",
       "      <td>2023-06-01</td>\n",
       "      <td>2023-06-30</td>\n",
       "      <td>0.331562</td>\n",
       "      <td>Month</td>\n",
       "      <td>sa_stack_score</td>\n",
       "      <td>1.1.0</td>\n",
       "      <td>FPD30</td>\n",
       "    </tr>\n",
       "    <tr>\n",
       "      <th>2</th>\n",
       "      <td>2023-06-05</td>\n",
       "      <td>2023-06-11</td>\n",
       "      <td>0.417778</td>\n",
       "      <td>Week</td>\n",
       "      <td>sa_stack_score</td>\n",
       "      <td>1.1.0</td>\n",
       "      <td>FPD30</td>\n",
       "    </tr>\n",
       "    <tr>\n",
       "      <th>3</th>\n",
       "      <td>2023-06-12</td>\n",
       "      <td>2023-06-18</td>\n",
       "      <td>0.634656</td>\n",
       "      <td>Week</td>\n",
       "      <td>sa_stack_score</td>\n",
       "      <td>1.1.0</td>\n",
       "      <td>FPD30</td>\n",
       "    </tr>\n",
       "    <tr>\n",
       "      <th>4</th>\n",
       "      <td>2023-06-19</td>\n",
       "      <td>2023-06-25</td>\n",
       "      <td>-0.033467</td>\n",
       "      <td>Week</td>\n",
       "      <td>sa_stack_score</td>\n",
       "      <td>1.1.0</td>\n",
       "      <td>FPD30</td>\n",
       "    </tr>\n",
       "  </tbody>\n",
       "</table>\n",
       "</div>"
      ],
      "text/plain": [
       "  start_date   end_date  sa_stack_score_FPD30_gini period      Model_Name  \\\n",
       "0 2023-05-29 2023-06-04                   0.512727   Week  sa_stack_score   \n",
       "1 2023-06-01 2023-06-30                   0.331562  Month  sa_stack_score   \n",
       "2 2023-06-05 2023-06-11                   0.417778   Week  sa_stack_score   \n",
       "3 2023-06-12 2023-06-18                   0.634656   Week  sa_stack_score   \n",
       "4 2023-06-19 2023-06-25                  -0.033467   Week  sa_stack_score   \n",
       "\n",
       "  version bad_rate  \n",
       "0   1.1.0    FPD30  \n",
       "1   1.1.0    FPD30  \n",
       "2   1.1.0    FPD30  \n",
       "3   1.1.0    FPD30  \n",
       "4   1.1.0    FPD30  "
      ]
     },
     "execution_count": 95,
     "metadata": {},
     "output_type": "execute_result"
    }
   ],
   "source": [
    "M2FPD30.head()"
   ]
  },
  {
   "cell_type": "markdown",
   "metadata": {},
   "source": [
    "## FSTPD30"
   ]
  },
  {
   "cell_type": "code",
   "execution_count": 96,
   "metadata": {},
   "outputs": [
    {
     "name": "stdout",
     "output_type": "stream",
     "text": [
      "Job ID 42bea033-7d30-4b0d-891e-171574a70cca successfully executed: 100%|\u001b[32m██████████\u001b[0m|"
     ]
    },
    {
     "name": "stderr",
     "output_type": "stream",
     "text": [
      "d:\\Anaconda3\\envs\\inc_env\\lib\\site-packages\\google\\cloud\\bigquery\\table.py:1820: UserWarning: BigQuery Storage module not found, fetch data with the REST endpoint instead.\n",
      "  warnings.warn(\n"
     ]
    },
    {
     "name": "stdout",
     "output_type": "stream",
     "text": [
      "\n",
      "Downloading: 100%|\u001b[32m██████████\u001b[0m|\n"
     ]
    },
    {
     "data": {
      "application/vnd.microsoft.datawrangler.viewer.v0+json": {
       "columns": [
        {
         "name": "index",
         "rawType": "int64",
         "type": "integer"
        },
        {
         "name": "disbursementdate",
         "rawType": "datetime64[us]",
         "type": "unknown"
        },
        {
         "name": "digitalLoanAccountId",
         "rawType": "object",
         "type": "string"
        },
        {
         "name": "sa_stack_score",
         "rawType": "float64",
         "type": "float"
        },
        {
         "name": "ln_fspd30_flag",
         "rawType": "Int64",
         "type": "integer"
        },
        {
         "name": "ln_mature_fspd30_flag",
         "rawType": "Int64",
         "type": "integer"
        }
       ],
       "conversionMethod": "pd.DataFrame",
       "ref": "5b1bbf32-ff2d-4cc6-97e0-ab8698650ab5",
       "rows": [
        [
         "0",
         "2023-06-01 10:40:18",
         "ac002041-b0be-446e-b173-65effe340651",
         "0.15686351815388877",
         "0",
         "1"
        ],
        [
         "1",
         "2023-06-01 12:17:20",
         "4fddb4fa-6e60-42b0-adec-295658bd1093",
         "0.05523550748883815",
         "0",
         "1"
        ],
        [
         "2",
         "2023-06-01 12:36:51",
         "855bccd7-f3d4-461f-9748-bb50b07e0327",
         "0.14841904587421414",
         "0",
         "1"
        ],
        [
         "3",
         "2023-06-01 14:57:43",
         "ac518432-9362-4014-86d4-565c0125b27b",
         "0.11422419857317341",
         "0",
         "1"
        ],
        [
         "4",
         "2023-06-01 15:52:56",
         "b11e0b23-1b34-4d8c-984d-1239a7b389c1",
         "0.031070778183240482",
         "0",
         "1"
        ]
       ],
       "shape": {
        "columns": 5,
        "rows": 5
       }
      },
      "text/html": [
       "<div>\n",
       "<style scoped>\n",
       "    .dataframe tbody tr th:only-of-type {\n",
       "        vertical-align: middle;\n",
       "    }\n",
       "\n",
       "    .dataframe tbody tr th {\n",
       "        vertical-align: top;\n",
       "    }\n",
       "\n",
       "    .dataframe thead th {\n",
       "        text-align: right;\n",
       "    }\n",
       "</style>\n",
       "<table border=\"1\" class=\"dataframe\">\n",
       "  <thead>\n",
       "    <tr style=\"text-align: right;\">\n",
       "      <th></th>\n",
       "      <th>disbursementdate</th>\n",
       "      <th>digitalLoanAccountId</th>\n",
       "      <th>sa_stack_score</th>\n",
       "      <th>ln_fspd30_flag</th>\n",
       "      <th>ln_mature_fspd30_flag</th>\n",
       "    </tr>\n",
       "  </thead>\n",
       "  <tbody>\n",
       "    <tr>\n",
       "      <th>0</th>\n",
       "      <td>2023-06-01 10:40:18</td>\n",
       "      <td>ac002041-b0be-446e-b173-65effe340651</td>\n",
       "      <td>0.156864</td>\n",
       "      <td>0</td>\n",
       "      <td>1</td>\n",
       "    </tr>\n",
       "    <tr>\n",
       "      <th>1</th>\n",
       "      <td>2023-06-01 12:17:20</td>\n",
       "      <td>4fddb4fa-6e60-42b0-adec-295658bd1093</td>\n",
       "      <td>0.055236</td>\n",
       "      <td>0</td>\n",
       "      <td>1</td>\n",
       "    </tr>\n",
       "    <tr>\n",
       "      <th>2</th>\n",
       "      <td>2023-06-01 12:36:51</td>\n",
       "      <td>855bccd7-f3d4-461f-9748-bb50b07e0327</td>\n",
       "      <td>0.148419</td>\n",
       "      <td>0</td>\n",
       "      <td>1</td>\n",
       "    </tr>\n",
       "    <tr>\n",
       "      <th>3</th>\n",
       "      <td>2023-06-01 14:57:43</td>\n",
       "      <td>ac518432-9362-4014-86d4-565c0125b27b</td>\n",
       "      <td>0.114224</td>\n",
       "      <td>0</td>\n",
       "      <td>1</td>\n",
       "    </tr>\n",
       "    <tr>\n",
       "      <th>4</th>\n",
       "      <td>2023-06-01 15:52:56</td>\n",
       "      <td>b11e0b23-1b34-4d8c-984d-1239a7b389c1</td>\n",
       "      <td>0.031071</td>\n",
       "      <td>0</td>\n",
       "      <td>1</td>\n",
       "    </tr>\n",
       "  </tbody>\n",
       "</table>\n",
       "</div>"
      ],
      "text/plain": [
       "     disbursementdate                  digitalLoanAccountId  sa_stack_score  \\\n",
       "0 2023-06-01 10:40:18  ac002041-b0be-446e-b173-65effe340651        0.156864   \n",
       "1 2023-06-01 12:17:20  4fddb4fa-6e60-42b0-adec-295658bd1093        0.055236   \n",
       "2 2023-06-01 12:36:51  855bccd7-f3d4-461f-9748-bb50b07e0327        0.148419   \n",
       "3 2023-06-01 14:57:43  ac518432-9362-4014-86d4-565c0125b27b        0.114224   \n",
       "4 2023-06-01 15:52:56  b11e0b23-1b34-4d8c-984d-1239a7b389c1        0.031071   \n",
       "\n",
       "   ln_fspd30_flag  ln_mature_fspd30_flag  \n",
       "0               0                      1  \n",
       "1               0                      1  \n",
       "2               0                      1  \n",
       "3               0                      1  \n",
       "4               0                      1  "
      ]
     },
     "execution_count": 96,
     "metadata": {},
     "output_type": "execute_result"
    }
   ],
   "source": [
    "# sa_stack_score\n",
    "\n",
    "sq = \"\"\"\n",
    "with sa_stack_score as \n",
    "(SELECT \n",
    "    ln_disb_dtime disbursementdate,\n",
    "\tdigitalLoanAccountId,\n",
    "    sa_stack_score,\n",
    "    ln_fspd30_flag,\n",
    "\tln_mature_fspd30_flag,\t\n",
    "\tFROM \n",
    "    prj-prod-dataplatform.risk_mart.sil_risk_ds_master_20230101_20250206\n",
    "  WHERE \n",
    "     -- ln_disb_dtime >= '2023-07-01'\n",
    "    ln_appln_submit_datetime >= '2023-06-01'\n",
    "  -- AND\n",
    "  --   format_date('%Y-%m', ln_disb_dtime) = '2024-09'\n",
    "  AND\n",
    "    ln_fspd30_flag is not null\n",
    "  AND\n",
    "    sa_stack_score is not null\n",
    "  AND\n",
    "    ln_mature_fspd30_flag = 1\n",
    ")\n",
    "select * from sa_stack_score;\n",
    "\"\"\"\n",
    "\n",
    "sa_stack_scorefspd30 = client.query(sq).to_dataframe(progress_bar_type='tqdm')\n",
    "\n",
    "sa_stack_scorefspd30.head()"
   ]
  },
  {
   "cell_type": "code",
   "execution_count": 97,
   "metadata": {},
   "outputs": [
    {
     "name": "stdout",
     "output_type": "stream",
     "text": [
      "The shape of dataframe after copy is:\t(97, 7)\n"
     ]
    },
    {
     "data": {
      "text/plain": [
       "array(['start_date', 'end_date', 'sa_stack_score_FSPD30_gini', 'period',\n",
       "       'Model_Name', 'version', 'bad_rate'], dtype=object)"
      ]
     },
     "execution_count": 97,
     "metadata": {},
     "output_type": "execute_result"
    }
   ],
   "source": [
    "gini_results = calculate_periodic_gini(sa_stack_scorefspd30, 'sa_stack_score', 'ln_fspd30_flag', 'FSPD30')\n",
    "M3FSPD30 = gini_results.copy()\n",
    "print(f\"The shape of dataframe after copy is:\\t{M3FSPD30.shape}\")\n",
    "M3FSPD30.columns.values"
   ]
  },
  {
   "cell_type": "code",
   "execution_count": 98,
   "metadata": {},
   "outputs": [
    {
     "data": {
      "application/vnd.microsoft.datawrangler.viewer.v0+json": {
       "columns": [
        {
         "name": "index",
         "rawType": "int64",
         "type": "integer"
        },
        {
         "name": "start_date",
         "rawType": "datetime64[ns]",
         "type": "datetime"
        },
        {
         "name": "end_date",
         "rawType": "datetime64[ns]",
         "type": "datetime"
        },
        {
         "name": "sa_stack_score_FSPD30_gini",
         "rawType": "float64",
         "type": "float"
        },
        {
         "name": "period",
         "rawType": "object",
         "type": "string"
        },
        {
         "name": "Model_Name",
         "rawType": "object",
         "type": "string"
        },
        {
         "name": "version",
         "rawType": "object",
         "type": "string"
        },
        {
         "name": "bad_rate",
         "rawType": "object",
         "type": "string"
        }
       ],
       "conversionMethod": "pd.DataFrame",
       "ref": "e81d3b40-6aa4-47f1-8660-76467f5c7707",
       "rows": [
        [
         "92",
         "2024-11-01 00:00:00",
         "2024-11-30 00:00:00",
         "0.3555133733801019",
         "Month",
         "sa_stack_score",
         "1.1.0",
         "FSPD30"
        ],
        [
         "93",
         "2024-11-04 00:00:00",
         "2024-11-10 00:00:00",
         "0.3482279635781538",
         "Week",
         "sa_stack_score",
         "1.1.0",
         "FSPD30"
        ],
        [
         "94",
         "2024-11-11 00:00:00",
         "2024-11-17 00:00:00",
         "0.3570161614288807",
         "Week",
         "sa_stack_score",
         "1.1.0",
         "FSPD30"
        ],
        [
         "95",
         "2024-11-18 00:00:00",
         "2024-11-24 00:00:00",
         "0.33772816352192847",
         "Week",
         "sa_stack_score",
         "1.1.0",
         "FSPD30"
        ],
        [
         "96",
         "2024-11-25 00:00:00",
         "2024-12-01 00:00:00",
         "0.32458816351433795",
         "Week",
         "sa_stack_score",
         "1.1.0",
         "FSPD30"
        ]
       ],
       "shape": {
        "columns": 7,
        "rows": 5
       }
      },
      "text/html": [
       "<div>\n",
       "<style scoped>\n",
       "    .dataframe tbody tr th:only-of-type {\n",
       "        vertical-align: middle;\n",
       "    }\n",
       "\n",
       "    .dataframe tbody tr th {\n",
       "        vertical-align: top;\n",
       "    }\n",
       "\n",
       "    .dataframe thead th {\n",
       "        text-align: right;\n",
       "    }\n",
       "</style>\n",
       "<table border=\"1\" class=\"dataframe\">\n",
       "  <thead>\n",
       "    <tr style=\"text-align: right;\">\n",
       "      <th></th>\n",
       "      <th>start_date</th>\n",
       "      <th>end_date</th>\n",
       "      <th>sa_stack_score_FSPD30_gini</th>\n",
       "      <th>period</th>\n",
       "      <th>Model_Name</th>\n",
       "      <th>version</th>\n",
       "      <th>bad_rate</th>\n",
       "    </tr>\n",
       "  </thead>\n",
       "  <tbody>\n",
       "    <tr>\n",
       "      <th>92</th>\n",
       "      <td>2024-11-01</td>\n",
       "      <td>2024-11-30</td>\n",
       "      <td>0.355513</td>\n",
       "      <td>Month</td>\n",
       "      <td>sa_stack_score</td>\n",
       "      <td>1.1.0</td>\n",
       "      <td>FSPD30</td>\n",
       "    </tr>\n",
       "    <tr>\n",
       "      <th>93</th>\n",
       "      <td>2024-11-04</td>\n",
       "      <td>2024-11-10</td>\n",
       "      <td>0.348228</td>\n",
       "      <td>Week</td>\n",
       "      <td>sa_stack_score</td>\n",
       "      <td>1.1.0</td>\n",
       "      <td>FSPD30</td>\n",
       "    </tr>\n",
       "    <tr>\n",
       "      <th>94</th>\n",
       "      <td>2024-11-11</td>\n",
       "      <td>2024-11-17</td>\n",
       "      <td>0.357016</td>\n",
       "      <td>Week</td>\n",
       "      <td>sa_stack_score</td>\n",
       "      <td>1.1.0</td>\n",
       "      <td>FSPD30</td>\n",
       "    </tr>\n",
       "    <tr>\n",
       "      <th>95</th>\n",
       "      <td>2024-11-18</td>\n",
       "      <td>2024-11-24</td>\n",
       "      <td>0.337728</td>\n",
       "      <td>Week</td>\n",
       "      <td>sa_stack_score</td>\n",
       "      <td>1.1.0</td>\n",
       "      <td>FSPD30</td>\n",
       "    </tr>\n",
       "    <tr>\n",
       "      <th>96</th>\n",
       "      <td>2024-11-25</td>\n",
       "      <td>2024-12-01</td>\n",
       "      <td>0.324588</td>\n",
       "      <td>Week</td>\n",
       "      <td>sa_stack_score</td>\n",
       "      <td>1.1.0</td>\n",
       "      <td>FSPD30</td>\n",
       "    </tr>\n",
       "  </tbody>\n",
       "</table>\n",
       "</div>"
      ],
      "text/plain": [
       "   start_date   end_date  sa_stack_score_FSPD30_gini period      Model_Name  \\\n",
       "92 2024-11-01 2024-11-30                    0.355513  Month  sa_stack_score   \n",
       "93 2024-11-04 2024-11-10                    0.348228   Week  sa_stack_score   \n",
       "94 2024-11-11 2024-11-17                    0.357016   Week  sa_stack_score   \n",
       "95 2024-11-18 2024-11-24                    0.337728   Week  sa_stack_score   \n",
       "96 2024-11-25 2024-12-01                    0.324588   Week  sa_stack_score   \n",
       "\n",
       "   version bad_rate  \n",
       "92   1.1.0   FSPD30  \n",
       "93   1.1.0   FSPD30  \n",
       "94   1.1.0   FSPD30  \n",
       "95   1.1.0   FSPD30  \n",
       "96   1.1.0   FSPD30  "
      ]
     },
     "execution_count": 98,
     "metadata": {},
     "output_type": "execute_result"
    }
   ],
   "source": [
    "M3FSPD30.tail()"
   ]
  },
  {
   "cell_type": "markdown",
   "metadata": {},
   "source": [
    "## FSTPD30"
   ]
  },
  {
   "cell_type": "code",
   "execution_count": 99,
   "metadata": {},
   "outputs": [
    {
     "name": "stdout",
     "output_type": "stream",
     "text": [
      "Job ID 80f19c8a-326a-4d23-a139-decb64b26b78 successfully executed: 100%|\u001b[32m██████████\u001b[0m|"
     ]
    },
    {
     "name": "stderr",
     "output_type": "stream",
     "text": [
      "d:\\Anaconda3\\envs\\inc_env\\lib\\site-packages\\google\\cloud\\bigquery\\table.py:1820: UserWarning: BigQuery Storage module not found, fetch data with the REST endpoint instead.\n",
      "  warnings.warn(\n"
     ]
    },
    {
     "name": "stdout",
     "output_type": "stream",
     "text": [
      "\n",
      "Downloading: 100%|\u001b[32m██████████\u001b[0m|\n"
     ]
    },
    {
     "data": {
      "application/vnd.microsoft.datawrangler.viewer.v0+json": {
       "columns": [
        {
         "name": "index",
         "rawType": "int64",
         "type": "integer"
        },
        {
         "name": "disbursementdate",
         "rawType": "datetime64[us]",
         "type": "unknown"
        },
        {
         "name": "digitalLoanAccountId",
         "rawType": "object",
         "type": "string"
        },
        {
         "name": "sa_stack_score",
         "rawType": "float64",
         "type": "float"
        },
        {
         "name": "ln_fstpd30_flag",
         "rawType": "Int64",
         "type": "integer"
        },
        {
         "name": "ln_mature_fstpd30_flag",
         "rawType": "Int64",
         "type": "integer"
        }
       ],
       "conversionMethod": "pd.DataFrame",
       "ref": "b173ed8b-b803-442a-add3-6d09fcd3346a",
       "rows": [
        [
         "0",
         "2023-06-01 10:40:18",
         "ac002041-b0be-446e-b173-65effe340651",
         "0.15686351815388877",
         "0",
         "1"
        ],
        [
         "1",
         "2023-06-01 12:17:20",
         "4fddb4fa-6e60-42b0-adec-295658bd1093",
         "0.05523550748883815",
         "0",
         "1"
        ],
        [
         "2",
         "2023-06-01 12:36:51",
         "855bccd7-f3d4-461f-9748-bb50b07e0327",
         "0.14841904587421414",
         "0",
         "1"
        ],
        [
         "3",
         "2023-06-01 14:57:43",
         "ac518432-9362-4014-86d4-565c0125b27b",
         "0.11422419857317341",
         "0",
         "1"
        ],
        [
         "4",
         "2023-06-01 15:52:56",
         "b11e0b23-1b34-4d8c-984d-1239a7b389c1",
         "0.031070778183240482",
         "0",
         "1"
        ]
       ],
       "shape": {
        "columns": 5,
        "rows": 5
       }
      },
      "text/html": [
       "<div>\n",
       "<style scoped>\n",
       "    .dataframe tbody tr th:only-of-type {\n",
       "        vertical-align: middle;\n",
       "    }\n",
       "\n",
       "    .dataframe tbody tr th {\n",
       "        vertical-align: top;\n",
       "    }\n",
       "\n",
       "    .dataframe thead th {\n",
       "        text-align: right;\n",
       "    }\n",
       "</style>\n",
       "<table border=\"1\" class=\"dataframe\">\n",
       "  <thead>\n",
       "    <tr style=\"text-align: right;\">\n",
       "      <th></th>\n",
       "      <th>disbursementdate</th>\n",
       "      <th>digitalLoanAccountId</th>\n",
       "      <th>sa_stack_score</th>\n",
       "      <th>ln_fstpd30_flag</th>\n",
       "      <th>ln_mature_fstpd30_flag</th>\n",
       "    </tr>\n",
       "  </thead>\n",
       "  <tbody>\n",
       "    <tr>\n",
       "      <th>0</th>\n",
       "      <td>2023-06-01 10:40:18</td>\n",
       "      <td>ac002041-b0be-446e-b173-65effe340651</td>\n",
       "      <td>0.156864</td>\n",
       "      <td>0</td>\n",
       "      <td>1</td>\n",
       "    </tr>\n",
       "    <tr>\n",
       "      <th>1</th>\n",
       "      <td>2023-06-01 12:17:20</td>\n",
       "      <td>4fddb4fa-6e60-42b0-adec-295658bd1093</td>\n",
       "      <td>0.055236</td>\n",
       "      <td>0</td>\n",
       "      <td>1</td>\n",
       "    </tr>\n",
       "    <tr>\n",
       "      <th>2</th>\n",
       "      <td>2023-06-01 12:36:51</td>\n",
       "      <td>855bccd7-f3d4-461f-9748-bb50b07e0327</td>\n",
       "      <td>0.148419</td>\n",
       "      <td>0</td>\n",
       "      <td>1</td>\n",
       "    </tr>\n",
       "    <tr>\n",
       "      <th>3</th>\n",
       "      <td>2023-06-01 14:57:43</td>\n",
       "      <td>ac518432-9362-4014-86d4-565c0125b27b</td>\n",
       "      <td>0.114224</td>\n",
       "      <td>0</td>\n",
       "      <td>1</td>\n",
       "    </tr>\n",
       "    <tr>\n",
       "      <th>4</th>\n",
       "      <td>2023-06-01 15:52:56</td>\n",
       "      <td>b11e0b23-1b34-4d8c-984d-1239a7b389c1</td>\n",
       "      <td>0.031071</td>\n",
       "      <td>0</td>\n",
       "      <td>1</td>\n",
       "    </tr>\n",
       "  </tbody>\n",
       "</table>\n",
       "</div>"
      ],
      "text/plain": [
       "     disbursementdate                  digitalLoanAccountId  sa_stack_score  \\\n",
       "0 2023-06-01 10:40:18  ac002041-b0be-446e-b173-65effe340651        0.156864   \n",
       "1 2023-06-01 12:17:20  4fddb4fa-6e60-42b0-adec-295658bd1093        0.055236   \n",
       "2 2023-06-01 12:36:51  855bccd7-f3d4-461f-9748-bb50b07e0327        0.148419   \n",
       "3 2023-06-01 14:57:43  ac518432-9362-4014-86d4-565c0125b27b        0.114224   \n",
       "4 2023-06-01 15:52:56  b11e0b23-1b34-4d8c-984d-1239a7b389c1        0.031071   \n",
       "\n",
       "   ln_fstpd30_flag  ln_mature_fstpd30_flag  \n",
       "0                0                       1  \n",
       "1                0                       1  \n",
       "2                0                       1  \n",
       "3                0                       1  \n",
       "4                0                       1  "
      ]
     },
     "execution_count": 99,
     "metadata": {},
     "output_type": "execute_result"
    }
   ],
   "source": [
    "# sa_stack_score\n",
    "\n",
    "sq = \"\"\"\n",
    "with sa_stack_score as \n",
    "(SELECT \n",
    "    ln_disb_dtime disbursementdate,\n",
    "\tdigitalLoanAccountId,\n",
    "    sa_stack_score,\n",
    "    ln_fstpd30_flag,\n",
    "\tln_mature_fstpd30_flag,\t\n",
    "\tFROM \n",
    "    prj-prod-dataplatform.risk_mart.sil_risk_ds_master_20230101_20250206\n",
    "  WHERE \n",
    "     -- ln_disb_dtime >= '2023-07-01'\n",
    "    ln_appln_submit_datetime >= '2023-06-01'\n",
    "  -- AND\n",
    "  --   format_date('%Y-%m', ln_disb_dtime) = '2024-09'\n",
    "  AND\n",
    "    ln_fstpd30_flag is not null\n",
    "  AND\n",
    "    sa_stack_score is not null\n",
    "  AND\n",
    "    ln_mature_fstpd30_flag = 1\n",
    ")\n",
    "select * from sa_stack_score;\n",
    "\"\"\"\n",
    "\n",
    "sa_stack_scorefstpd30 = client.query(sq).to_dataframe(progress_bar_type='tqdm')\n",
    "\n",
    "sa_stack_scorefstpd30.head()"
   ]
  },
  {
   "cell_type": "code",
   "execution_count": 100,
   "metadata": {},
   "outputs": [
    {
     "data": {
      "application/vnd.microsoft.datawrangler.viewer.v0+json": {
       "columns": [
        {
         "name": "index",
         "rawType": "int64",
         "type": "integer"
        },
        {
         "name": "disbursementdate",
         "rawType": "datetime64[us]",
         "type": "unknown"
        },
        {
         "name": "digitalLoanAccountId",
         "rawType": "object",
         "type": "string"
        },
        {
         "name": "sa_stack_score",
         "rawType": "float64",
         "type": "float"
        },
        {
         "name": "ln_fstpd30_flag",
         "rawType": "Int64",
         "type": "integer"
        },
        {
         "name": "ln_mature_fstpd30_flag",
         "rawType": "Int64",
         "type": "integer"
        }
       ],
       "conversionMethod": "pd.DataFrame",
       "ref": "b3413bfe-db73-481a-a682-13e35fc84498",
       "rows": [
        [
         "124268",
         "2024-10-25 18:07:28",
         "cef44691-c5cb-48c8-8715-b84703fcceae",
         "0.0407529827177707",
         "0",
         "1"
        ],
        [
         "124269",
         "2024-10-25 18:17:03",
         "a8968b6a-fc0a-41bb-b360-76400145242d",
         "0.24315636765265025",
         "0",
         "1"
        ],
        [
         "124270",
         "2024-10-25 18:55:40",
         "00382444-7f98-4514-9dba-8c7a75438225",
         "0.04491822351751298",
         "0",
         "1"
        ],
        [
         "124271",
         "2024-10-25 19:03:28",
         "69c78eae-2c19-4718-bd65-9238df2f2ebc",
         "0.055356198980843686",
         "0",
         "1"
        ],
        [
         "124272",
         "2024-10-25 20:35:25",
         "35785f03-b84f-4b25-9fa9-d9b29bcab2ea",
         "0.07403913892465948",
         "0",
         "1"
        ]
       ],
       "shape": {
        "columns": 5,
        "rows": 5
       }
      },
      "text/html": [
       "<div>\n",
       "<style scoped>\n",
       "    .dataframe tbody tr th:only-of-type {\n",
       "        vertical-align: middle;\n",
       "    }\n",
       "\n",
       "    .dataframe tbody tr th {\n",
       "        vertical-align: top;\n",
       "    }\n",
       "\n",
       "    .dataframe thead th {\n",
       "        text-align: right;\n",
       "    }\n",
       "</style>\n",
       "<table border=\"1\" class=\"dataframe\">\n",
       "  <thead>\n",
       "    <tr style=\"text-align: right;\">\n",
       "      <th></th>\n",
       "      <th>disbursementdate</th>\n",
       "      <th>digitalLoanAccountId</th>\n",
       "      <th>sa_stack_score</th>\n",
       "      <th>ln_fstpd30_flag</th>\n",
       "      <th>ln_mature_fstpd30_flag</th>\n",
       "    </tr>\n",
       "  </thead>\n",
       "  <tbody>\n",
       "    <tr>\n",
       "      <th>124268</th>\n",
       "      <td>2024-10-25 18:07:28</td>\n",
       "      <td>cef44691-c5cb-48c8-8715-b84703fcceae</td>\n",
       "      <td>0.040753</td>\n",
       "      <td>0</td>\n",
       "      <td>1</td>\n",
       "    </tr>\n",
       "    <tr>\n",
       "      <th>124269</th>\n",
       "      <td>2024-10-25 18:17:03</td>\n",
       "      <td>a8968b6a-fc0a-41bb-b360-76400145242d</td>\n",
       "      <td>0.243156</td>\n",
       "      <td>0</td>\n",
       "      <td>1</td>\n",
       "    </tr>\n",
       "    <tr>\n",
       "      <th>124270</th>\n",
       "      <td>2024-10-25 18:55:40</td>\n",
       "      <td>00382444-7f98-4514-9dba-8c7a75438225</td>\n",
       "      <td>0.044918</td>\n",
       "      <td>0</td>\n",
       "      <td>1</td>\n",
       "    </tr>\n",
       "    <tr>\n",
       "      <th>124271</th>\n",
       "      <td>2024-10-25 19:03:28</td>\n",
       "      <td>69c78eae-2c19-4718-bd65-9238df2f2ebc</td>\n",
       "      <td>0.055356</td>\n",
       "      <td>0</td>\n",
       "      <td>1</td>\n",
       "    </tr>\n",
       "    <tr>\n",
       "      <th>124272</th>\n",
       "      <td>2024-10-25 20:35:25</td>\n",
       "      <td>35785f03-b84f-4b25-9fa9-d9b29bcab2ea</td>\n",
       "      <td>0.074039</td>\n",
       "      <td>0</td>\n",
       "      <td>1</td>\n",
       "    </tr>\n",
       "  </tbody>\n",
       "</table>\n",
       "</div>"
      ],
      "text/plain": [
       "          disbursementdate                  digitalLoanAccountId  \\\n",
       "124268 2024-10-25 18:07:28  cef44691-c5cb-48c8-8715-b84703fcceae   \n",
       "124269 2024-10-25 18:17:03  a8968b6a-fc0a-41bb-b360-76400145242d   \n",
       "124270 2024-10-25 18:55:40  00382444-7f98-4514-9dba-8c7a75438225   \n",
       "124271 2024-10-25 19:03:28  69c78eae-2c19-4718-bd65-9238df2f2ebc   \n",
       "124272 2024-10-25 20:35:25  35785f03-b84f-4b25-9fa9-d9b29bcab2ea   \n",
       "\n",
       "        sa_stack_score  ln_fstpd30_flag  ln_mature_fstpd30_flag  \n",
       "124268        0.040753                0                       1  \n",
       "124269        0.243156                0                       1  \n",
       "124270        0.044918                0                       1  \n",
       "124271        0.055356                0                       1  \n",
       "124272        0.074039                0                       1  "
      ]
     },
     "execution_count": 100,
     "metadata": {},
     "output_type": "execute_result"
    }
   ],
   "source": [
    "sa_stack_scorefstpd30.tail()"
   ]
  },
  {
   "cell_type": "code",
   "execution_count": 101,
   "metadata": {},
   "outputs": [
    {
     "name": "stdout",
     "output_type": "stream",
     "text": [
      "The shape of dataframe after copy is:\t(91, 7)\n"
     ]
    },
    {
     "data": {
      "text/plain": [
       "array(['start_date', 'end_date', 'sa_stack_score_FSTPD30_gini', 'period',\n",
       "       'Model_Name', 'version', 'bad_rate'], dtype=object)"
      ]
     },
     "execution_count": 101,
     "metadata": {},
     "output_type": "execute_result"
    }
   ],
   "source": [
    "gini_results = calculate_periodic_gini(sa_stack_scorefstpd30, 'sa_stack_score', 'ln_fstpd30_flag', 'FSTPD30')\n",
    "M4FSTPD30 = gini_results.copy()\n",
    "print(f\"The shape of dataframe after copy is:\\t{M4FSTPD30.shape}\")\n",
    "M4FSTPD30.columns.values"
   ]
  },
  {
   "cell_type": "markdown",
   "metadata": {},
   "source": [
    "## Combining the dataframes"
   ]
  },
  {
   "cell_type": "code",
   "execution_count": 102,
   "metadata": {},
   "outputs": [
    {
     "data": {
      "text/plain": [
       "array(['start_date', 'end_date', 'sa_stack_score_FPD10_gini', 'period',\n",
       "       'Model_Name', 'version', 'bad_rate', 'sa_stack_score_FPD30_gini',\n",
       "       'sa_stack_score_FSPD30_gini', 'sa_stack_score_FSTPD30_gini'],\n",
       "      dtype=object)"
      ]
     },
     "execution_count": 102,
     "metadata": {},
     "output_type": "execute_result"
    }
   ],
   "source": [
    "import functools\n",
    "\n",
    "dataframes = [M1FPD10, M2FPD30, M3FSPD30, M4FSTPD30]\n",
    "common_columns = ['start_date', 'end_date', 'period', 'Model_Name','version', 'bad_rate']\n",
    "\n",
    "def merge_dataframes(df1, df2):\n",
    "    return pd.merge(df1, df2, on=common_columns, how='outer')\n",
    "\n",
    "final_df = functools.reduce(merge_dataframes, dataframes)\n",
    "\n",
    "final_df.columns.values"
   ]
  },
  {
   "cell_type": "code",
   "execution_count": 103,
   "metadata": {},
   "outputs": [],
   "source": [
    "final_df = final_df[['start_date', 'end_date', 'period', 'Model_Name', 'version', 'bad_rate', 'sa_stack_score_FPD10_gini', 'sa_stack_score_FPD30_gini',  'sa_stack_score_FSPD30_gini', 'sa_stack_score_FSTPD30_gini']].copy()"
   ]
  },
  {
   "cell_type": "markdown",
   "metadata": {},
   "source": [
    "## Creating the table "
   ]
  },
  {
   "cell_type": "code",
   "execution_count": 104,
   "metadata": {},
   "outputs": [
    {
     "data": {
      "text/plain": [
       "QueryJob<project=prj-prod-dataplatform, location=asia-southeast1, id=a8af38c7-7e79-416e-b309-cb2f4c36a3da>"
      ]
     },
     "execution_count": 104,
     "metadata": {},
     "output_type": "execute_result"
    }
   ],
   "source": [
    "sq = \"\"\"drop table if exists prj-prod-dataplatform.dap_ds_poweruser_playground.Model_gini_sa_stack_score;\"\"\"\n",
    "\n",
    "client.query(sq)"
   ]
  },
  {
   "cell_type": "code",
   "execution_count": 105,
   "metadata": {},
   "outputs": [
    {
     "data": {
      "text/plain": [
       "LoadJob<project=prj-prod-dataplatform, location=asia-southeast1, id=ba2dffdd-85bf-4d8a-aece-85a6fd21c790>"
      ]
     },
     "execution_count": 105,
     "metadata": {},
     "output_type": "execute_result"
    }
   ],
   "source": [
    "import pandas as pd\n",
    "from google.cloud import bigquery\n",
    "\n",
    "# Create a BigQuery client\n",
    "client = bigquery.Client('prj-prod-dataplatform')\n",
    "\n",
    "# Define your table schema\n",
    "table_schema = [\n",
    "    bigquery.SchemaField('start_date', 'TIMESTAMP'),\n",
    "    bigquery.SchemaField('end_date', 'TIMESTAMP'),\n",
    "    bigquery.SchemaField('period', 'STRING'),\n",
    "    bigquery.SchemaField('Model_Name', 'STRING'),\n",
    "    bigquery.SchemaField('version', 'STRING'),\n",
    "    bigquery.SchemaField('Badrate', 'STRING'),\n",
    "    bigquery.SchemaField('sa_stack_score_FPD10_gini', 'FLOAT'),\n",
    "    bigquery.SchemaField('sa_stack_score_FPD30_gini', 'FLOAT'),    \n",
    "    bigquery.SchemaField('sa_stack_score_FSPD30_gini', 'FLOAT'),\n",
    "    bigquery.SchemaField('sa_stack_score_FSTPD30_gini', 'FLOAT')\n",
    "    \n",
    "]\n",
    "\n",
    "# Create your BigQuery table\n",
    "table_id = 'prj-prod-dataplatform.dap_ds_poweruser_playground.Model_gini_sa_stack_score'\n",
    "table = bigquery.Table(table_id, schema=table_schema)\n",
    "table = client.create_table(table)\n",
    "\n",
    "# Load your DataFrame into BigQuery\n",
    "job_config = bigquery.LoadJobConfig(\n",
    "    write_disposition='WRITE_TRUNCATE'\n",
    ")\n",
    "\n",
    "load_job = client.load_table_from_dataframe(\n",
    "    final_df, table_id, job_config=job_config\n",
    ")\n",
    "\n",
    "load_job.result()"
   ]
  },
  {
   "cell_type": "markdown",
   "metadata": {},
   "source": [
    "# gen_credo_score"
   ]
  },
  {
   "cell_type": "markdown",
   "metadata": {},
   "source": [
    "## FPD10"
   ]
  },
  {
   "cell_type": "code",
   "execution_count": 106,
   "metadata": {},
   "outputs": [
    {
     "name": "stdout",
     "output_type": "stream",
     "text": [
      "Job ID 620c05eb-47db-4fe3-acb0-76426183f217 successfully executed: 100%|\u001b[32m██████████\u001b[0m|"
     ]
    },
    {
     "name": "stderr",
     "output_type": "stream",
     "text": [
      "d:\\Anaconda3\\envs\\inc_env\\lib\\site-packages\\google\\cloud\\bigquery\\table.py:1820: UserWarning: BigQuery Storage module not found, fetch data with the REST endpoint instead.\n",
      "  warnings.warn(\n"
     ]
    },
    {
     "name": "stdout",
     "output_type": "stream",
     "text": [
      "\n",
      "Downloading: 100%|\u001b[32m██████████\u001b[0m|\n"
     ]
    },
    {
     "data": {
      "application/vnd.microsoft.datawrangler.viewer.v0+json": {
       "columns": [
        {
         "name": "index",
         "rawType": "int64",
         "type": "integer"
        },
        {
         "name": "disbursementdate",
         "rawType": "datetime64[us]",
         "type": "unknown"
        },
        {
         "name": "digitalLoanAccountId",
         "rawType": "object",
         "type": "string"
        },
        {
         "name": "gen_credo_score",
         "rawType": "float64",
         "type": "float"
        },
        {
         "name": "ln_fpd10_flag",
         "rawType": "Int64",
         "type": "integer"
        },
        {
         "name": "ln_mature_fpd10_flag",
         "rawType": "Int64",
         "type": "integer"
        }
       ],
       "conversionMethod": "pd.DataFrame",
       "ref": "87b2a375-c8f5-484d-b445-632158fdcfa3",
       "rows": [
        [
         "0",
         "2023-01-02 10:56:20",
         "ac41223e-0d42-4569-b21f-789bce021291",
         "0.0729910026707899",
         "0",
         "1"
        ],
        [
         "1",
         "2023-01-02 11:39:36",
         "d438dd4f-4c6c-44b5-ba83-58585ba8530a",
         "0.150079436426167",
         "0",
         "1"
        ],
        [
         "2",
         "2023-01-02 12:04:44",
         "44247f51-ac7a-4035-8d34-af7af2d9548c",
         "0.0992739683147453",
         "1",
         "1"
        ],
        [
         "3",
         "2023-01-02 12:13:00",
         "5e85ce9b-fb16-48a4-9f62-c543782b54e1",
         "0.152458956421623",
         "0",
         "1"
        ],
        [
         "4",
         "2023-01-02 13:46:09",
         "cfb70c1e-bd39-4202-a376-fc003a6b231d",
         "0.0470181505742306",
         "0",
         "1"
        ]
       ],
       "shape": {
        "columns": 5,
        "rows": 5
       }
      },
      "text/html": [
       "<div>\n",
       "<style scoped>\n",
       "    .dataframe tbody tr th:only-of-type {\n",
       "        vertical-align: middle;\n",
       "    }\n",
       "\n",
       "    .dataframe tbody tr th {\n",
       "        vertical-align: top;\n",
       "    }\n",
       "\n",
       "    .dataframe thead th {\n",
       "        text-align: right;\n",
       "    }\n",
       "</style>\n",
       "<table border=\"1\" class=\"dataframe\">\n",
       "  <thead>\n",
       "    <tr style=\"text-align: right;\">\n",
       "      <th></th>\n",
       "      <th>disbursementdate</th>\n",
       "      <th>digitalLoanAccountId</th>\n",
       "      <th>gen_credo_score</th>\n",
       "      <th>ln_fpd10_flag</th>\n",
       "      <th>ln_mature_fpd10_flag</th>\n",
       "    </tr>\n",
       "  </thead>\n",
       "  <tbody>\n",
       "    <tr>\n",
       "      <th>0</th>\n",
       "      <td>2023-01-02 10:56:20</td>\n",
       "      <td>ac41223e-0d42-4569-b21f-789bce021291</td>\n",
       "      <td>0.072991</td>\n",
       "      <td>0</td>\n",
       "      <td>1</td>\n",
       "    </tr>\n",
       "    <tr>\n",
       "      <th>1</th>\n",
       "      <td>2023-01-02 11:39:36</td>\n",
       "      <td>d438dd4f-4c6c-44b5-ba83-58585ba8530a</td>\n",
       "      <td>0.150079</td>\n",
       "      <td>0</td>\n",
       "      <td>1</td>\n",
       "    </tr>\n",
       "    <tr>\n",
       "      <th>2</th>\n",
       "      <td>2023-01-02 12:04:44</td>\n",
       "      <td>44247f51-ac7a-4035-8d34-af7af2d9548c</td>\n",
       "      <td>0.099274</td>\n",
       "      <td>1</td>\n",
       "      <td>1</td>\n",
       "    </tr>\n",
       "    <tr>\n",
       "      <th>3</th>\n",
       "      <td>2023-01-02 12:13:00</td>\n",
       "      <td>5e85ce9b-fb16-48a4-9f62-c543782b54e1</td>\n",
       "      <td>0.152459</td>\n",
       "      <td>0</td>\n",
       "      <td>1</td>\n",
       "    </tr>\n",
       "    <tr>\n",
       "      <th>4</th>\n",
       "      <td>2023-01-02 13:46:09</td>\n",
       "      <td>cfb70c1e-bd39-4202-a376-fc003a6b231d</td>\n",
       "      <td>0.047018</td>\n",
       "      <td>0</td>\n",
       "      <td>1</td>\n",
       "    </tr>\n",
       "  </tbody>\n",
       "</table>\n",
       "</div>"
      ],
      "text/plain": [
       "     disbursementdate                  digitalLoanAccountId  gen_credo_score  \\\n",
       "0 2023-01-02 10:56:20  ac41223e-0d42-4569-b21f-789bce021291         0.072991   \n",
       "1 2023-01-02 11:39:36  d438dd4f-4c6c-44b5-ba83-58585ba8530a         0.150079   \n",
       "2 2023-01-02 12:04:44  44247f51-ac7a-4035-8d34-af7af2d9548c         0.099274   \n",
       "3 2023-01-02 12:13:00  5e85ce9b-fb16-48a4-9f62-c543782b54e1         0.152459   \n",
       "4 2023-01-02 13:46:09  cfb70c1e-bd39-4202-a376-fc003a6b231d         0.047018   \n",
       "\n",
       "   ln_fpd10_flag  ln_mature_fpd10_flag  \n",
       "0              0                     1  \n",
       "1              0                     1  \n",
       "2              1                     1  \n",
       "3              0                     1  \n",
       "4              0                     1  "
      ]
     },
     "execution_count": 106,
     "metadata": {},
     "output_type": "execute_result"
    }
   ],
   "source": [
    "\n",
    "\n",
    "sq = \"\"\"\n",
    "with gen_credo_score as \n",
    "(SELECT \n",
    "    ln_disb_dtime disbursementdate,\n",
    "\tdigitalLoanAccountId,\n",
    "    gen_credo_score,\n",
    "    ln_fpd10_flag,\n",
    "\tln_mature_fpd10_flag,\t\n",
    "\tFROM \n",
    "    prj-prod-dataplatform.risk_mart.sil_risk_ds_master_20230101_20250206\n",
    "  WHERE \n",
    "     -- ln_disb_dtime >= '2023-07-01'\n",
    "    ln_appln_submit_datetime >= '2023-01-01'\n",
    "  -- AND\n",
    "  --   format_date('%Y-%m', ln_disb_dtime) = '2024-09'\n",
    "  AND\n",
    "    ln_fpd10_flag is not null\n",
    "  AND\n",
    "    gen_credo_score is not null\n",
    "  AND\n",
    "    ln_mature_fpd10_flag = 1\n",
    ")\n",
    "select * from gen_credo_score;\n",
    "\"\"\"\n",
    "\n",
    "gen_credo_scorefpd10 = client.query(sq).to_dataframe(progress_bar_type='tqdm')\n",
    "\n",
    "gen_credo_scorefpd10.head()"
   ]
  },
  {
   "cell_type": "code",
   "execution_count": 107,
   "metadata": {},
   "outputs": [
    {
     "name": "stdout",
     "output_type": "stream",
     "text": [
      "The shape of dataframe after copy is:\t(132, 7)\n"
     ]
    },
    {
     "data": {
      "text/plain": [
       "array(['start_date', 'end_date', 'gen_credo_score_FPD10_gini', 'period',\n",
       "       'Model_Name', 'version', 'bad_rate'], dtype=object)"
      ]
     },
     "execution_count": 107,
     "metadata": {},
     "output_type": "execute_result"
    }
   ],
   "source": [
    "gini_results = calculate_periodic_gini(gen_credo_scorefpd10, 'gen_credo_score', 'ln_fpd10_flag', 'FPD10')\n",
    "M1FPD10 = gini_results.copy()\n",
    "print(f\"The shape of dataframe after copy is:\\t{M1FPD10.shape}\")\n",
    "M1FPD10.columns.values"
   ]
  },
  {
   "cell_type": "code",
   "execution_count": 108,
   "metadata": {},
   "outputs": [
    {
     "data": {
      "application/vnd.microsoft.datawrangler.viewer.v0+json": {
       "columns": [
        {
         "name": "index",
         "rawType": "int64",
         "type": "integer"
        },
        {
         "name": "start_date",
         "rawType": "datetime64[ns]",
         "type": "datetime"
        },
        {
         "name": "end_date",
         "rawType": "datetime64[ns]",
         "type": "datetime"
        },
        {
         "name": "gen_credo_score_FPD10_gini",
         "rawType": "float64",
         "type": "float"
        },
        {
         "name": "period",
         "rawType": "object",
         "type": "string"
        },
        {
         "name": "Model_Name",
         "rawType": "object",
         "type": "string"
        },
        {
         "name": "version",
         "rawType": "object",
         "type": "string"
        },
        {
         "name": "bad_rate",
         "rawType": "object",
         "type": "string"
        }
       ],
       "conversionMethod": "pd.DataFrame",
       "ref": "fa7e9324-c371-4220-aaa4-0eec0bf752c4",
       "rows": [
        [
         "0",
         "2023-01-01 00:00:00",
         "2023-01-31 00:00:00",
         "0.24672479320366647",
         "Month",
         "gen_credo_score",
         "1.1.0",
         "FPD10"
        ],
        [
         "1",
         "2023-01-02 00:00:00",
         "2023-01-08 00:00:00",
         "0.3011247443762781",
         "Week",
         "gen_credo_score",
         "1.1.0",
         "FPD10"
        ],
        [
         "2",
         "2023-01-09 00:00:00",
         "2023-01-15 00:00:00",
         "0.273399926008139",
         "Week",
         "gen_credo_score",
         "1.1.0",
         "FPD10"
        ],
        [
         "3",
         "2023-01-16 00:00:00",
         "2023-01-22 00:00:00",
         "0.6675324675324676",
         "Week",
         "gen_credo_score",
         "1.1.0",
         "FPD10"
        ],
        [
         "4",
         "2023-01-23 00:00:00",
         "2023-01-29 00:00:00",
         "0.08650519031141868",
         "Week",
         "gen_credo_score",
         "1.1.0",
         "FPD10"
        ]
       ],
       "shape": {
        "columns": 7,
        "rows": 5
       }
      },
      "text/html": [
       "<div>\n",
       "<style scoped>\n",
       "    .dataframe tbody tr th:only-of-type {\n",
       "        vertical-align: middle;\n",
       "    }\n",
       "\n",
       "    .dataframe tbody tr th {\n",
       "        vertical-align: top;\n",
       "    }\n",
       "\n",
       "    .dataframe thead th {\n",
       "        text-align: right;\n",
       "    }\n",
       "</style>\n",
       "<table border=\"1\" class=\"dataframe\">\n",
       "  <thead>\n",
       "    <tr style=\"text-align: right;\">\n",
       "      <th></th>\n",
       "      <th>start_date</th>\n",
       "      <th>end_date</th>\n",
       "      <th>gen_credo_score_FPD10_gini</th>\n",
       "      <th>period</th>\n",
       "      <th>Model_Name</th>\n",
       "      <th>version</th>\n",
       "      <th>bad_rate</th>\n",
       "    </tr>\n",
       "  </thead>\n",
       "  <tbody>\n",
       "    <tr>\n",
       "      <th>0</th>\n",
       "      <td>2023-01-01</td>\n",
       "      <td>2023-01-31</td>\n",
       "      <td>0.246725</td>\n",
       "      <td>Month</td>\n",
       "      <td>gen_credo_score</td>\n",
       "      <td>1.1.0</td>\n",
       "      <td>FPD10</td>\n",
       "    </tr>\n",
       "    <tr>\n",
       "      <th>1</th>\n",
       "      <td>2023-01-02</td>\n",
       "      <td>2023-01-08</td>\n",
       "      <td>0.301125</td>\n",
       "      <td>Week</td>\n",
       "      <td>gen_credo_score</td>\n",
       "      <td>1.1.0</td>\n",
       "      <td>FPD10</td>\n",
       "    </tr>\n",
       "    <tr>\n",
       "      <th>2</th>\n",
       "      <td>2023-01-09</td>\n",
       "      <td>2023-01-15</td>\n",
       "      <td>0.273400</td>\n",
       "      <td>Week</td>\n",
       "      <td>gen_credo_score</td>\n",
       "      <td>1.1.0</td>\n",
       "      <td>FPD10</td>\n",
       "    </tr>\n",
       "    <tr>\n",
       "      <th>3</th>\n",
       "      <td>2023-01-16</td>\n",
       "      <td>2023-01-22</td>\n",
       "      <td>0.667532</td>\n",
       "      <td>Week</td>\n",
       "      <td>gen_credo_score</td>\n",
       "      <td>1.1.0</td>\n",
       "      <td>FPD10</td>\n",
       "    </tr>\n",
       "    <tr>\n",
       "      <th>4</th>\n",
       "      <td>2023-01-23</td>\n",
       "      <td>2023-01-29</td>\n",
       "      <td>0.086505</td>\n",
       "      <td>Week</td>\n",
       "      <td>gen_credo_score</td>\n",
       "      <td>1.1.0</td>\n",
       "      <td>FPD10</td>\n",
       "    </tr>\n",
       "  </tbody>\n",
       "</table>\n",
       "</div>"
      ],
      "text/plain": [
       "  start_date   end_date  gen_credo_score_FPD10_gini period       Model_Name  \\\n",
       "0 2023-01-01 2023-01-31                    0.246725  Month  gen_credo_score   \n",
       "1 2023-01-02 2023-01-08                    0.301125   Week  gen_credo_score   \n",
       "2 2023-01-09 2023-01-15                    0.273400   Week  gen_credo_score   \n",
       "3 2023-01-16 2023-01-22                    0.667532   Week  gen_credo_score   \n",
       "4 2023-01-23 2023-01-29                    0.086505   Week  gen_credo_score   \n",
       "\n",
       "  version bad_rate  \n",
       "0   1.1.0    FPD10  \n",
       "1   1.1.0    FPD10  \n",
       "2   1.1.0    FPD10  \n",
       "3   1.1.0    FPD10  \n",
       "4   1.1.0    FPD10  "
      ]
     },
     "execution_count": 108,
     "metadata": {},
     "output_type": "execute_result"
    }
   ],
   "source": [
    "M1FPD10.head()"
   ]
  },
  {
   "cell_type": "markdown",
   "metadata": {},
   "source": [
    "## FPD30"
   ]
  },
  {
   "cell_type": "code",
   "execution_count": 109,
   "metadata": {},
   "outputs": [
    {
     "name": "stdout",
     "output_type": "stream",
     "text": [
      "Job ID 42adbe4c-aa55-4ca3-93e6-7be61f72ca1e successfully executed: 100%|\u001b[32m██████████\u001b[0m|"
     ]
    },
    {
     "name": "stderr",
     "output_type": "stream",
     "text": [
      "d:\\Anaconda3\\envs\\inc_env\\lib\\site-packages\\google\\cloud\\bigquery\\table.py:1820: UserWarning: BigQuery Storage module not found, fetch data with the REST endpoint instead.\n",
      "  warnings.warn(\n"
     ]
    },
    {
     "name": "stdout",
     "output_type": "stream",
     "text": [
      "\n",
      "Downloading: 100%|\u001b[32m██████████\u001b[0m|\n"
     ]
    },
    {
     "data": {
      "application/vnd.microsoft.datawrangler.viewer.v0+json": {
       "columns": [
        {
         "name": "index",
         "rawType": "int64",
         "type": "integer"
        },
        {
         "name": "disbursementdate",
         "rawType": "datetime64[us]",
         "type": "unknown"
        },
        {
         "name": "digitalLoanAccountId",
         "rawType": "object",
         "type": "string"
        },
        {
         "name": "gen_credo_score",
         "rawType": "float64",
         "type": "float"
        },
        {
         "name": "ln_fpd30_flag",
         "rawType": "Int64",
         "type": "integer"
        },
        {
         "name": "ln_mature_fpd30_flag",
         "rawType": "Int64",
         "type": "integer"
        }
       ],
       "conversionMethod": "pd.DataFrame",
       "ref": "5ee17d45-873a-4160-b3dd-c50b0b558d53",
       "rows": [
        [
         "0",
         "2023-01-02 10:19:54",
         "73902306-ce07-4625-9d1e-a611eeb83166",
         "0.175299412578973",
         "0",
         "1"
        ],
        [
         "1",
         "2023-01-02 12:28:35",
         "92a04afd-ec2e-4941-a1be-0e3af52aab1f",
         "0.0744514230221316",
         "0",
         "1"
        ],
        [
         "2",
         "2023-01-02 12:44:11",
         "f0a9e5c7-560d-46a3-9c4c-16d518d1a605",
         "0.187075506128385",
         "0",
         "1"
        ],
        [
         "3",
         "2023-01-02 12:53:05",
         "6c53ccd6-5de3-4b2a-8216-caa1b1146cd6",
         "0.10012833305561",
         "1",
         "1"
        ],
        [
         "4",
         "2023-01-02 13:19:37",
         "ea076112-bc60-4a12-9463-37a9be7da3e2",
         "0.169417108458677",
         "0",
         "1"
        ]
       ],
       "shape": {
        "columns": 5,
        "rows": 5
       }
      },
      "text/html": [
       "<div>\n",
       "<style scoped>\n",
       "    .dataframe tbody tr th:only-of-type {\n",
       "        vertical-align: middle;\n",
       "    }\n",
       "\n",
       "    .dataframe tbody tr th {\n",
       "        vertical-align: top;\n",
       "    }\n",
       "\n",
       "    .dataframe thead th {\n",
       "        text-align: right;\n",
       "    }\n",
       "</style>\n",
       "<table border=\"1\" class=\"dataframe\">\n",
       "  <thead>\n",
       "    <tr style=\"text-align: right;\">\n",
       "      <th></th>\n",
       "      <th>disbursementdate</th>\n",
       "      <th>digitalLoanAccountId</th>\n",
       "      <th>gen_credo_score</th>\n",
       "      <th>ln_fpd30_flag</th>\n",
       "      <th>ln_mature_fpd30_flag</th>\n",
       "    </tr>\n",
       "  </thead>\n",
       "  <tbody>\n",
       "    <tr>\n",
       "      <th>0</th>\n",
       "      <td>2023-01-02 10:19:54</td>\n",
       "      <td>73902306-ce07-4625-9d1e-a611eeb83166</td>\n",
       "      <td>0.175299</td>\n",
       "      <td>0</td>\n",
       "      <td>1</td>\n",
       "    </tr>\n",
       "    <tr>\n",
       "      <th>1</th>\n",
       "      <td>2023-01-02 12:28:35</td>\n",
       "      <td>92a04afd-ec2e-4941-a1be-0e3af52aab1f</td>\n",
       "      <td>0.074451</td>\n",
       "      <td>0</td>\n",
       "      <td>1</td>\n",
       "    </tr>\n",
       "    <tr>\n",
       "      <th>2</th>\n",
       "      <td>2023-01-02 12:44:11</td>\n",
       "      <td>f0a9e5c7-560d-46a3-9c4c-16d518d1a605</td>\n",
       "      <td>0.187076</td>\n",
       "      <td>0</td>\n",
       "      <td>1</td>\n",
       "    </tr>\n",
       "    <tr>\n",
       "      <th>3</th>\n",
       "      <td>2023-01-02 12:53:05</td>\n",
       "      <td>6c53ccd6-5de3-4b2a-8216-caa1b1146cd6</td>\n",
       "      <td>0.100128</td>\n",
       "      <td>1</td>\n",
       "      <td>1</td>\n",
       "    </tr>\n",
       "    <tr>\n",
       "      <th>4</th>\n",
       "      <td>2023-01-02 13:19:37</td>\n",
       "      <td>ea076112-bc60-4a12-9463-37a9be7da3e2</td>\n",
       "      <td>0.169417</td>\n",
       "      <td>0</td>\n",
       "      <td>1</td>\n",
       "    </tr>\n",
       "  </tbody>\n",
       "</table>\n",
       "</div>"
      ],
      "text/plain": [
       "     disbursementdate                  digitalLoanAccountId  gen_credo_score  \\\n",
       "0 2023-01-02 10:19:54  73902306-ce07-4625-9d1e-a611eeb83166         0.175299   \n",
       "1 2023-01-02 12:28:35  92a04afd-ec2e-4941-a1be-0e3af52aab1f         0.074451   \n",
       "2 2023-01-02 12:44:11  f0a9e5c7-560d-46a3-9c4c-16d518d1a605         0.187076   \n",
       "3 2023-01-02 12:53:05  6c53ccd6-5de3-4b2a-8216-caa1b1146cd6         0.100128   \n",
       "4 2023-01-02 13:19:37  ea076112-bc60-4a12-9463-37a9be7da3e2         0.169417   \n",
       "\n",
       "   ln_fpd30_flag  ln_mature_fpd30_flag  \n",
       "0              0                     1  \n",
       "1              0                     1  \n",
       "2              0                     1  \n",
       "3              1                     1  \n",
       "4              0                     1  "
      ]
     },
     "execution_count": 109,
     "metadata": {},
     "output_type": "execute_result"
    }
   ],
   "source": [
    "sq = \"\"\"\n",
    "with gen_credo_score as \n",
    "(SELECT \n",
    "    ln_disb_dtime disbursementdate,\n",
    "\tdigitalLoanAccountId,\n",
    "    gen_credo_score,\n",
    "    ln_fpd30_flag,\n",
    "\tln_mature_fpd30_flag,\t\n",
    "\tFROM \n",
    "    prj-prod-dataplatform.risk_mart.sil_risk_ds_master_20230101_20250206\n",
    "  WHERE \n",
    "     -- ln_disb_dtime >= '2023-07-01'\n",
    "    ln_appln_submit_datetime >= '2023-01-01'\n",
    "  -- AND\n",
    "  --   format_date('%Y-%m', ln_disb_dtime) = '2024-09'\n",
    "  AND\n",
    "    ln_fpd30_flag is not null\n",
    "  AND\n",
    "    gen_credo_score is not null\n",
    "  AND\n",
    "    ln_mature_fpd30_flag = 1\n",
    ")\n",
    "select * from gen_credo_score;\n",
    "\"\"\"\n",
    "\n",
    "gen_credo_scorefpd30 = client.query(sq).to_dataframe(progress_bar_type='tqdm')\n",
    "\n",
    "gen_credo_scorefpd30.head()"
   ]
  },
  {
   "cell_type": "code",
   "execution_count": 110,
   "metadata": {},
   "outputs": [
    {
     "data": {
      "application/vnd.microsoft.datawrangler.viewer.v0+json": {
       "columns": [
        {
         "name": "index",
         "rawType": "int64",
         "type": "integer"
        },
        {
         "name": "disbursementdate",
         "rawType": "datetime64[us]",
         "type": "unknown"
        },
        {
         "name": "digitalLoanAccountId",
         "rawType": "object",
         "type": "string"
        },
        {
         "name": "gen_credo_score",
         "rawType": "float64",
         "type": "float"
        },
        {
         "name": "ln_fpd30_flag",
         "rawType": "Int64",
         "type": "integer"
        },
        {
         "name": "ln_mature_fpd30_flag",
         "rawType": "Int64",
         "type": "integer"
        }
       ],
       "conversionMethod": "pd.DataFrame",
       "ref": "307820ff-a592-4c59-9ad3-198b8d5d65a0",
       "rows": [
        [
         "0",
         "2023-01-02 10:19:54",
         "73902306-ce07-4625-9d1e-a611eeb83166",
         "0.175299412578973",
         "0",
         "1"
        ],
        [
         "1",
         "2023-01-02 12:28:35",
         "92a04afd-ec2e-4941-a1be-0e3af52aab1f",
         "0.0744514230221316",
         "0",
         "1"
        ],
        [
         "2",
         "2023-01-02 12:44:11",
         "f0a9e5c7-560d-46a3-9c4c-16d518d1a605",
         "0.187075506128385",
         "0",
         "1"
        ],
        [
         "3",
         "2023-01-02 12:53:05",
         "6c53ccd6-5de3-4b2a-8216-caa1b1146cd6",
         "0.10012833305561",
         "1",
         "1"
        ],
        [
         "4",
         "2023-01-02 13:19:37",
         "ea076112-bc60-4a12-9463-37a9be7da3e2",
         "0.169417108458677",
         "0",
         "1"
        ]
       ],
       "shape": {
        "columns": 5,
        "rows": 5
       }
      },
      "text/html": [
       "<div>\n",
       "<style scoped>\n",
       "    .dataframe tbody tr th:only-of-type {\n",
       "        vertical-align: middle;\n",
       "    }\n",
       "\n",
       "    .dataframe tbody tr th {\n",
       "        vertical-align: top;\n",
       "    }\n",
       "\n",
       "    .dataframe thead th {\n",
       "        text-align: right;\n",
       "    }\n",
       "</style>\n",
       "<table border=\"1\" class=\"dataframe\">\n",
       "  <thead>\n",
       "    <tr style=\"text-align: right;\">\n",
       "      <th></th>\n",
       "      <th>disbursementdate</th>\n",
       "      <th>digitalLoanAccountId</th>\n",
       "      <th>gen_credo_score</th>\n",
       "      <th>ln_fpd30_flag</th>\n",
       "      <th>ln_mature_fpd30_flag</th>\n",
       "    </tr>\n",
       "  </thead>\n",
       "  <tbody>\n",
       "    <tr>\n",
       "      <th>0</th>\n",
       "      <td>2023-01-02 10:19:54</td>\n",
       "      <td>73902306-ce07-4625-9d1e-a611eeb83166</td>\n",
       "      <td>0.175299</td>\n",
       "      <td>0</td>\n",
       "      <td>1</td>\n",
       "    </tr>\n",
       "    <tr>\n",
       "      <th>1</th>\n",
       "      <td>2023-01-02 12:28:35</td>\n",
       "      <td>92a04afd-ec2e-4941-a1be-0e3af52aab1f</td>\n",
       "      <td>0.074451</td>\n",
       "      <td>0</td>\n",
       "      <td>1</td>\n",
       "    </tr>\n",
       "    <tr>\n",
       "      <th>2</th>\n",
       "      <td>2023-01-02 12:44:11</td>\n",
       "      <td>f0a9e5c7-560d-46a3-9c4c-16d518d1a605</td>\n",
       "      <td>0.187076</td>\n",
       "      <td>0</td>\n",
       "      <td>1</td>\n",
       "    </tr>\n",
       "    <tr>\n",
       "      <th>3</th>\n",
       "      <td>2023-01-02 12:53:05</td>\n",
       "      <td>6c53ccd6-5de3-4b2a-8216-caa1b1146cd6</td>\n",
       "      <td>0.100128</td>\n",
       "      <td>1</td>\n",
       "      <td>1</td>\n",
       "    </tr>\n",
       "    <tr>\n",
       "      <th>4</th>\n",
       "      <td>2023-01-02 13:19:37</td>\n",
       "      <td>ea076112-bc60-4a12-9463-37a9be7da3e2</td>\n",
       "      <td>0.169417</td>\n",
       "      <td>0</td>\n",
       "      <td>1</td>\n",
       "    </tr>\n",
       "  </tbody>\n",
       "</table>\n",
       "</div>"
      ],
      "text/plain": [
       "     disbursementdate                  digitalLoanAccountId  gen_credo_score  \\\n",
       "0 2023-01-02 10:19:54  73902306-ce07-4625-9d1e-a611eeb83166         0.175299   \n",
       "1 2023-01-02 12:28:35  92a04afd-ec2e-4941-a1be-0e3af52aab1f         0.074451   \n",
       "2 2023-01-02 12:44:11  f0a9e5c7-560d-46a3-9c4c-16d518d1a605         0.187076   \n",
       "3 2023-01-02 12:53:05  6c53ccd6-5de3-4b2a-8216-caa1b1146cd6         0.100128   \n",
       "4 2023-01-02 13:19:37  ea076112-bc60-4a12-9463-37a9be7da3e2         0.169417   \n",
       "\n",
       "   ln_fpd30_flag  ln_mature_fpd30_flag  \n",
       "0              0                     1  \n",
       "1              0                     1  \n",
       "2              0                     1  \n",
       "3              1                     1  \n",
       "4              0                     1  "
      ]
     },
     "execution_count": 110,
     "metadata": {},
     "output_type": "execute_result"
    }
   ],
   "source": [
    "gen_credo_scorefpd30.head()"
   ]
  },
  {
   "cell_type": "code",
   "execution_count": 111,
   "metadata": {},
   "outputs": [
    {
     "name": "stdout",
     "output_type": "stream",
     "text": [
      "The shape of dataframe after copy is:\t(128, 7)\n"
     ]
    },
    {
     "data": {
      "text/plain": [
       "array(['start_date', 'end_date', 'gen_credo_score_FPD30_gini', 'period',\n",
       "       'Model_Name', 'version', 'bad_rate'], dtype=object)"
      ]
     },
     "execution_count": 111,
     "metadata": {},
     "output_type": "execute_result"
    }
   ],
   "source": [
    "gini_results = calculate_periodic_gini(gen_credo_scorefpd30, 'gen_credo_score', 'ln_fpd30_flag', 'FPD30')\n",
    "M2FPD30 = gini_results.copy()\n",
    "print(f\"The shape of dataframe after copy is:\\t{M2FPD30.shape}\")\n",
    "M2FPD30.columns.values"
   ]
  },
  {
   "cell_type": "code",
   "execution_count": 112,
   "metadata": {},
   "outputs": [
    {
     "data": {
      "application/vnd.microsoft.datawrangler.viewer.v0+json": {
       "columns": [
        {
         "name": "index",
         "rawType": "int64",
         "type": "integer"
        },
        {
         "name": "start_date",
         "rawType": "datetime64[ns]",
         "type": "datetime"
        },
        {
         "name": "end_date",
         "rawType": "datetime64[ns]",
         "type": "datetime"
        },
        {
         "name": "gen_credo_score_FPD30_gini",
         "rawType": "float64",
         "type": "float"
        },
        {
         "name": "period",
         "rawType": "object",
         "type": "string"
        },
        {
         "name": "Model_Name",
         "rawType": "object",
         "type": "string"
        },
        {
         "name": "version",
         "rawType": "object",
         "type": "string"
        },
        {
         "name": "bad_rate",
         "rawType": "object",
         "type": "string"
        }
       ],
       "conversionMethod": "pd.DataFrame",
       "ref": "9d30a94f-d626-4086-ac53-67aaada13201",
       "rows": [
        [
         "0",
         "2023-01-01 00:00:00",
         "2023-01-31 00:00:00",
         "0.25300462249614797",
         "Month",
         "gen_credo_score",
         "1.1.0",
         "FPD30"
        ],
        [
         "1",
         "2023-01-02 00:00:00",
         "2023-01-08 00:00:00",
         "0.3421487603305784",
         "Week",
         "gen_credo_score",
         "1.1.0",
         "FPD30"
        ],
        [
         "2",
         "2023-01-09 00:00:00",
         "2023-01-15 00:00:00",
         "0.4071625344352616",
         "Week",
         "gen_credo_score",
         "1.1.0",
         "FPD30"
        ],
        [
         "3",
         "2023-01-16 00:00:00",
         "2023-01-22 00:00:00",
         "0.6675324675324676",
         "Week",
         "gen_credo_score",
         "1.1.0",
         "FPD30"
        ],
        [
         "4",
         "2023-01-23 00:00:00",
         "2023-01-29 00:00:00",
         "0.025547445255474477",
         "Week",
         "gen_credo_score",
         "1.1.0",
         "FPD30"
        ]
       ],
       "shape": {
        "columns": 7,
        "rows": 5
       }
      },
      "text/html": [
       "<div>\n",
       "<style scoped>\n",
       "    .dataframe tbody tr th:only-of-type {\n",
       "        vertical-align: middle;\n",
       "    }\n",
       "\n",
       "    .dataframe tbody tr th {\n",
       "        vertical-align: top;\n",
       "    }\n",
       "\n",
       "    .dataframe thead th {\n",
       "        text-align: right;\n",
       "    }\n",
       "</style>\n",
       "<table border=\"1\" class=\"dataframe\">\n",
       "  <thead>\n",
       "    <tr style=\"text-align: right;\">\n",
       "      <th></th>\n",
       "      <th>start_date</th>\n",
       "      <th>end_date</th>\n",
       "      <th>gen_credo_score_FPD30_gini</th>\n",
       "      <th>period</th>\n",
       "      <th>Model_Name</th>\n",
       "      <th>version</th>\n",
       "      <th>bad_rate</th>\n",
       "    </tr>\n",
       "  </thead>\n",
       "  <tbody>\n",
       "    <tr>\n",
       "      <th>0</th>\n",
       "      <td>2023-01-01</td>\n",
       "      <td>2023-01-31</td>\n",
       "      <td>0.253005</td>\n",
       "      <td>Month</td>\n",
       "      <td>gen_credo_score</td>\n",
       "      <td>1.1.0</td>\n",
       "      <td>FPD30</td>\n",
       "    </tr>\n",
       "    <tr>\n",
       "      <th>1</th>\n",
       "      <td>2023-01-02</td>\n",
       "      <td>2023-01-08</td>\n",
       "      <td>0.342149</td>\n",
       "      <td>Week</td>\n",
       "      <td>gen_credo_score</td>\n",
       "      <td>1.1.0</td>\n",
       "      <td>FPD30</td>\n",
       "    </tr>\n",
       "    <tr>\n",
       "      <th>2</th>\n",
       "      <td>2023-01-09</td>\n",
       "      <td>2023-01-15</td>\n",
       "      <td>0.407163</td>\n",
       "      <td>Week</td>\n",
       "      <td>gen_credo_score</td>\n",
       "      <td>1.1.0</td>\n",
       "      <td>FPD30</td>\n",
       "    </tr>\n",
       "    <tr>\n",
       "      <th>3</th>\n",
       "      <td>2023-01-16</td>\n",
       "      <td>2023-01-22</td>\n",
       "      <td>0.667532</td>\n",
       "      <td>Week</td>\n",
       "      <td>gen_credo_score</td>\n",
       "      <td>1.1.0</td>\n",
       "      <td>FPD30</td>\n",
       "    </tr>\n",
       "    <tr>\n",
       "      <th>4</th>\n",
       "      <td>2023-01-23</td>\n",
       "      <td>2023-01-29</td>\n",
       "      <td>0.025547</td>\n",
       "      <td>Week</td>\n",
       "      <td>gen_credo_score</td>\n",
       "      <td>1.1.0</td>\n",
       "      <td>FPD30</td>\n",
       "    </tr>\n",
       "  </tbody>\n",
       "</table>\n",
       "</div>"
      ],
      "text/plain": [
       "  start_date   end_date  gen_credo_score_FPD30_gini period       Model_Name  \\\n",
       "0 2023-01-01 2023-01-31                    0.253005  Month  gen_credo_score   \n",
       "1 2023-01-02 2023-01-08                    0.342149   Week  gen_credo_score   \n",
       "2 2023-01-09 2023-01-15                    0.407163   Week  gen_credo_score   \n",
       "3 2023-01-16 2023-01-22                    0.667532   Week  gen_credo_score   \n",
       "4 2023-01-23 2023-01-29                    0.025547   Week  gen_credo_score   \n",
       "\n",
       "  version bad_rate  \n",
       "0   1.1.0    FPD30  \n",
       "1   1.1.0    FPD30  \n",
       "2   1.1.0    FPD30  \n",
       "3   1.1.0    FPD30  \n",
       "4   1.1.0    FPD30  "
      ]
     },
     "execution_count": 112,
     "metadata": {},
     "output_type": "execute_result"
    }
   ],
   "source": [
    "M2FPD30.head()"
   ]
  },
  {
   "cell_type": "markdown",
   "metadata": {},
   "source": [
    "## FSPD30"
   ]
  },
  {
   "cell_type": "code",
   "execution_count": 113,
   "metadata": {},
   "outputs": [
    {
     "name": "stdout",
     "output_type": "stream",
     "text": [
      "Job ID e7ba860e-8034-4c6f-b630-f3fac9c44cc0 successfully executed: 100%|\u001b[32m██████████\u001b[0m|"
     ]
    },
    {
     "name": "stderr",
     "output_type": "stream",
     "text": [
      "d:\\Anaconda3\\envs\\inc_env\\lib\\site-packages\\google\\cloud\\bigquery\\table.py:1820: UserWarning: BigQuery Storage module not found, fetch data with the REST endpoint instead.\n",
      "  warnings.warn(\n"
     ]
    },
    {
     "name": "stdout",
     "output_type": "stream",
     "text": [
      "\n",
      "Downloading: 100%|\u001b[32m██████████\u001b[0m|\n",
      "     disbursementdate                  digitalLoanAccountId  gen_credo_score  \\\n",
      "0 2023-01-02 10:19:54  73902306-ce07-4625-9d1e-a611eeb83166         0.175299   \n",
      "1 2023-01-02 12:28:35  92a04afd-ec2e-4941-a1be-0e3af52aab1f         0.074451   \n",
      "\n",
      "   ln_fspd30_flag  ln_mature_fspd30_flag  \n",
      "0               0                      1  \n",
      "1               0                      1  \n",
      "The shape of dataframe after copy is:\t(123, 7)\n",
      "['start_date' 'end_date' 'gen_credo_score_FSPD30_gini' 'period'\n",
      " 'Model_Name' 'version' 'bad_rate']\n"
     ]
    },
    {
     "data": {
      "application/vnd.microsoft.datawrangler.viewer.v0+json": {
       "columns": [
        {
         "name": "index",
         "rawType": "int64",
         "type": "integer"
        },
        {
         "name": "start_date",
         "rawType": "datetime64[ns]",
         "type": "datetime"
        },
        {
         "name": "end_date",
         "rawType": "datetime64[ns]",
         "type": "datetime"
        },
        {
         "name": "gen_credo_score_FSPD30_gini",
         "rawType": "float64",
         "type": "float"
        },
        {
         "name": "period",
         "rawType": "object",
         "type": "string"
        },
        {
         "name": "Model_Name",
         "rawType": "object",
         "type": "string"
        },
        {
         "name": "version",
         "rawType": "object",
         "type": "string"
        },
        {
         "name": "bad_rate",
         "rawType": "object",
         "type": "string"
        }
       ],
       "conversionMethod": "pd.DataFrame",
       "ref": "81821c47-93c4-4eeb-9136-450ac8c5faf8",
       "rows": [
        [
         "0",
         "2023-01-01 00:00:00",
         "2023-01-31 00:00:00",
         "0.17205509242479167",
         "Month",
         "gen_credo_score",
         "1.1.0",
         "FSPD30"
        ],
        [
         "1",
         "2023-01-02 00:00:00",
         "2023-01-08 00:00:00",
         "0.26280323450134757",
         "Week",
         "gen_credo_score",
         "1.1.0",
         "FSPD30"
        ],
        [
         "2",
         "2023-01-09 00:00:00",
         "2023-01-15 00:00:00",
         "0.18974358974358974",
         "Week",
         "gen_credo_score",
         "1.1.0",
         "FSPD30"
        ],
        [
         "3",
         "2023-01-16 00:00:00",
         "2023-01-22 00:00:00",
         "0.4107382550335572",
         "Week",
         "gen_credo_score",
         "1.1.0",
         "FSPD30"
        ],
        [
         "4",
         "2023-01-23 00:00:00",
         "2023-01-29 00:00:00",
         "0.0735785953177257",
         "Week",
         "gen_credo_score",
         "1.1.0",
         "FSPD30"
        ]
       ],
       "shape": {
        "columns": 7,
        "rows": 5
       }
      },
      "text/html": [
       "<div>\n",
       "<style scoped>\n",
       "    .dataframe tbody tr th:only-of-type {\n",
       "        vertical-align: middle;\n",
       "    }\n",
       "\n",
       "    .dataframe tbody tr th {\n",
       "        vertical-align: top;\n",
       "    }\n",
       "\n",
       "    .dataframe thead th {\n",
       "        text-align: right;\n",
       "    }\n",
       "</style>\n",
       "<table border=\"1\" class=\"dataframe\">\n",
       "  <thead>\n",
       "    <tr style=\"text-align: right;\">\n",
       "      <th></th>\n",
       "      <th>start_date</th>\n",
       "      <th>end_date</th>\n",
       "      <th>gen_credo_score_FSPD30_gini</th>\n",
       "      <th>period</th>\n",
       "      <th>Model_Name</th>\n",
       "      <th>version</th>\n",
       "      <th>bad_rate</th>\n",
       "    </tr>\n",
       "  </thead>\n",
       "  <tbody>\n",
       "    <tr>\n",
       "      <th>0</th>\n",
       "      <td>2023-01-01</td>\n",
       "      <td>2023-01-31</td>\n",
       "      <td>0.172055</td>\n",
       "      <td>Month</td>\n",
       "      <td>gen_credo_score</td>\n",
       "      <td>1.1.0</td>\n",
       "      <td>FSPD30</td>\n",
       "    </tr>\n",
       "    <tr>\n",
       "      <th>1</th>\n",
       "      <td>2023-01-02</td>\n",
       "      <td>2023-01-08</td>\n",
       "      <td>0.262803</td>\n",
       "      <td>Week</td>\n",
       "      <td>gen_credo_score</td>\n",
       "      <td>1.1.0</td>\n",
       "      <td>FSPD30</td>\n",
       "    </tr>\n",
       "    <tr>\n",
       "      <th>2</th>\n",
       "      <td>2023-01-09</td>\n",
       "      <td>2023-01-15</td>\n",
       "      <td>0.189744</td>\n",
       "      <td>Week</td>\n",
       "      <td>gen_credo_score</td>\n",
       "      <td>1.1.0</td>\n",
       "      <td>FSPD30</td>\n",
       "    </tr>\n",
       "    <tr>\n",
       "      <th>3</th>\n",
       "      <td>2023-01-16</td>\n",
       "      <td>2023-01-22</td>\n",
       "      <td>0.410738</td>\n",
       "      <td>Week</td>\n",
       "      <td>gen_credo_score</td>\n",
       "      <td>1.1.0</td>\n",
       "      <td>FSPD30</td>\n",
       "    </tr>\n",
       "    <tr>\n",
       "      <th>4</th>\n",
       "      <td>2023-01-23</td>\n",
       "      <td>2023-01-29</td>\n",
       "      <td>0.073579</td>\n",
       "      <td>Week</td>\n",
       "      <td>gen_credo_score</td>\n",
       "      <td>1.1.0</td>\n",
       "      <td>FSPD30</td>\n",
       "    </tr>\n",
       "  </tbody>\n",
       "</table>\n",
       "</div>"
      ],
      "text/plain": [
       "  start_date   end_date  gen_credo_score_FSPD30_gini period       Model_Name  \\\n",
       "0 2023-01-01 2023-01-31                     0.172055  Month  gen_credo_score   \n",
       "1 2023-01-02 2023-01-08                     0.262803   Week  gen_credo_score   \n",
       "2 2023-01-09 2023-01-15                     0.189744   Week  gen_credo_score   \n",
       "3 2023-01-16 2023-01-22                     0.410738   Week  gen_credo_score   \n",
       "4 2023-01-23 2023-01-29                     0.073579   Week  gen_credo_score   \n",
       "\n",
       "  version bad_rate  \n",
       "0   1.1.0   FSPD30  \n",
       "1   1.1.0   FSPD30  \n",
       "2   1.1.0   FSPD30  \n",
       "3   1.1.0   FSPD30  \n",
       "4   1.1.0   FSPD30  "
      ]
     },
     "execution_count": 113,
     "metadata": {},
     "output_type": "execute_result"
    }
   ],
   "source": [
    "sq = \"\"\"\n",
    "with gen_credo_score as \n",
    "(SELECT \n",
    "    ln_disb_dtime disbursementdate,\n",
    "\tdigitalLoanAccountId,\n",
    "    gen_credo_score,\n",
    "    ln_fspd30_flag,\n",
    "\tln_mature_fspd30_flag,\t\n",
    "\tFROM \n",
    "    prj-prod-dataplatform.risk_mart.sil_risk_ds_master_20230101_20250206\n",
    "  WHERE \n",
    "     -- ln_disb_dtime >= '2023-07-01'\n",
    "    ln_appln_submit_datetime >= '2023-01-01'\n",
    "  -- AND\n",
    "  --   format_date('%Y-%m', ln_disb_dtime) = '2024-09'\n",
    "  AND\n",
    "    ln_fspd30_flag is not null\n",
    "  AND\n",
    "    gen_credo_score is not null\n",
    "  AND\n",
    "    ln_mature_fspd30_flag = 1\n",
    ")\n",
    "select * from gen_credo_score;\n",
    "\"\"\"\n",
    "\n",
    "gen_credo_scorefspd30 = client.query(sq).to_dataframe(progress_bar_type='tqdm')\n",
    "\n",
    "print(gen_credo_scorefspd30.head(2))\n",
    "\n",
    "gini_results = calculate_periodic_gini(gen_credo_scorefspd30, 'gen_credo_score', 'ln_fspd30_flag', 'FSPD30')\n",
    "M3FSPD30 = gini_results.copy()\n",
    "print(f\"The shape of dataframe after copy is:\\t{M3FSPD30.shape}\")\n",
    "print(M3FSPD30.columns.values)\n",
    "\n",
    "M3FSPD30.head()"
   ]
  },
  {
   "cell_type": "markdown",
   "metadata": {},
   "source": [
    "## FSTPD30"
   ]
  },
  {
   "cell_type": "code",
   "execution_count": 114,
   "metadata": {},
   "outputs": [
    {
     "name": "stdout",
     "output_type": "stream",
     "text": [
      "Job ID d57e6b17-1b83-4db9-b21d-73bb2a7ed2f4 successfully executed: 100%|\u001b[32m██████████\u001b[0m|"
     ]
    },
    {
     "name": "stderr",
     "output_type": "stream",
     "text": [
      "d:\\Anaconda3\\envs\\inc_env\\lib\\site-packages\\google\\cloud\\bigquery\\table.py:1820: UserWarning: BigQuery Storage module not found, fetch data with the REST endpoint instead.\n",
      "  warnings.warn(\n"
     ]
    },
    {
     "name": "stdout",
     "output_type": "stream",
     "text": [
      "\n",
      "Downloading: 100%|\u001b[32m██████████\u001b[0m|\n",
      "     disbursementdate                  digitalLoanAccountId  gen_credo_score  \\\n",
      "0 2023-01-02 10:56:20  ac41223e-0d42-4569-b21f-789bce021291         0.072991   \n",
      "1 2023-01-02 11:39:36  d438dd4f-4c6c-44b5-ba83-58585ba8530a         0.150079   \n",
      "\n",
      "   ln_fstpd30_flag  ln_mature_fstpd30_flag  \n",
      "0                0                       1  \n",
      "1                0                       1  \n",
      "The shape of dataframe after copy is:\t(117, 7)\n",
      "['start_date' 'end_date' 'gen_credo_score_FSTPD30_gini' 'period'\n",
      " 'Model_Name' 'version' 'bad_rate']\n"
     ]
    },
    {
     "data": {
      "application/vnd.microsoft.datawrangler.viewer.v0+json": {
       "columns": [
        {
         "name": "index",
         "rawType": "int64",
         "type": "integer"
        },
        {
         "name": "start_date",
         "rawType": "datetime64[ns]",
         "type": "datetime"
        },
        {
         "name": "end_date",
         "rawType": "datetime64[ns]",
         "type": "datetime"
        },
        {
         "name": "gen_credo_score_FSTPD30_gini",
         "rawType": "float64",
         "type": "float"
        },
        {
         "name": "period",
         "rawType": "object",
         "type": "string"
        },
        {
         "name": "Model_Name",
         "rawType": "object",
         "type": "string"
        },
        {
         "name": "version",
         "rawType": "object",
         "type": "string"
        },
        {
         "name": "bad_rate",
         "rawType": "object",
         "type": "string"
        }
       ],
       "conversionMethod": "pd.DataFrame",
       "ref": "04f5e052-0bc9-4e49-a958-8ef98aab5a4d",
       "rows": [
        [
         "0",
         "2023-01-01 00:00:00",
         "2023-01-31 00:00:00",
         "0.180836847419374",
         "Month",
         "gen_credo_score",
         "1.1.0",
         "FSTPD30"
        ],
        [
         "1",
         "2023-01-02 00:00:00",
         "2023-01-08 00:00:00",
         "0.28295946477764655",
         "Week",
         "gen_credo_score",
         "1.1.0",
         "FSTPD30"
        ],
        [
         "2",
         "2023-01-09 00:00:00",
         "2023-01-15 00:00:00",
         "0.18990802883420344",
         "Week",
         "gen_credo_score",
         "1.1.0",
         "FSTPD30"
        ],
        [
         "3",
         "2023-01-16 00:00:00",
         "2023-01-22 00:00:00",
         "0.19884009942004988",
         "Week",
         "gen_credo_score",
         "1.1.0",
         "FSTPD30"
        ],
        [
         "4",
         "2023-01-23 00:00:00",
         "2023-01-29 00:00:00",
         "0.16284538506760726",
         "Week",
         "gen_credo_score",
         "1.1.0",
         "FSTPD30"
        ]
       ],
       "shape": {
        "columns": 7,
        "rows": 5
       }
      },
      "text/html": [
       "<div>\n",
       "<style scoped>\n",
       "    .dataframe tbody tr th:only-of-type {\n",
       "        vertical-align: middle;\n",
       "    }\n",
       "\n",
       "    .dataframe tbody tr th {\n",
       "        vertical-align: top;\n",
       "    }\n",
       "\n",
       "    .dataframe thead th {\n",
       "        text-align: right;\n",
       "    }\n",
       "</style>\n",
       "<table border=\"1\" class=\"dataframe\">\n",
       "  <thead>\n",
       "    <tr style=\"text-align: right;\">\n",
       "      <th></th>\n",
       "      <th>start_date</th>\n",
       "      <th>end_date</th>\n",
       "      <th>gen_credo_score_FSTPD30_gini</th>\n",
       "      <th>period</th>\n",
       "      <th>Model_Name</th>\n",
       "      <th>version</th>\n",
       "      <th>bad_rate</th>\n",
       "    </tr>\n",
       "  </thead>\n",
       "  <tbody>\n",
       "    <tr>\n",
       "      <th>0</th>\n",
       "      <td>2023-01-01</td>\n",
       "      <td>2023-01-31</td>\n",
       "      <td>0.180837</td>\n",
       "      <td>Month</td>\n",
       "      <td>gen_credo_score</td>\n",
       "      <td>1.1.0</td>\n",
       "      <td>FSTPD30</td>\n",
       "    </tr>\n",
       "    <tr>\n",
       "      <th>1</th>\n",
       "      <td>2023-01-02</td>\n",
       "      <td>2023-01-08</td>\n",
       "      <td>0.282959</td>\n",
       "      <td>Week</td>\n",
       "      <td>gen_credo_score</td>\n",
       "      <td>1.1.0</td>\n",
       "      <td>FSTPD30</td>\n",
       "    </tr>\n",
       "    <tr>\n",
       "      <th>2</th>\n",
       "      <td>2023-01-09</td>\n",
       "      <td>2023-01-15</td>\n",
       "      <td>0.189908</td>\n",
       "      <td>Week</td>\n",
       "      <td>gen_credo_score</td>\n",
       "      <td>1.1.0</td>\n",
       "      <td>FSTPD30</td>\n",
       "    </tr>\n",
       "    <tr>\n",
       "      <th>3</th>\n",
       "      <td>2023-01-16</td>\n",
       "      <td>2023-01-22</td>\n",
       "      <td>0.198840</td>\n",
       "      <td>Week</td>\n",
       "      <td>gen_credo_score</td>\n",
       "      <td>1.1.0</td>\n",
       "      <td>FSTPD30</td>\n",
       "    </tr>\n",
       "    <tr>\n",
       "      <th>4</th>\n",
       "      <td>2023-01-23</td>\n",
       "      <td>2023-01-29</td>\n",
       "      <td>0.162845</td>\n",
       "      <td>Week</td>\n",
       "      <td>gen_credo_score</td>\n",
       "      <td>1.1.0</td>\n",
       "      <td>FSTPD30</td>\n",
       "    </tr>\n",
       "  </tbody>\n",
       "</table>\n",
       "</div>"
      ],
      "text/plain": [
       "  start_date   end_date  gen_credo_score_FSTPD30_gini period       Model_Name  \\\n",
       "0 2023-01-01 2023-01-31                      0.180837  Month  gen_credo_score   \n",
       "1 2023-01-02 2023-01-08                      0.282959   Week  gen_credo_score   \n",
       "2 2023-01-09 2023-01-15                      0.189908   Week  gen_credo_score   \n",
       "3 2023-01-16 2023-01-22                      0.198840   Week  gen_credo_score   \n",
       "4 2023-01-23 2023-01-29                      0.162845   Week  gen_credo_score   \n",
       "\n",
       "  version bad_rate  \n",
       "0   1.1.0  FSTPD30  \n",
       "1   1.1.0  FSTPD30  \n",
       "2   1.1.0  FSTPD30  \n",
       "3   1.1.0  FSTPD30  \n",
       "4   1.1.0  FSTPD30  "
      ]
     },
     "execution_count": 114,
     "metadata": {},
     "output_type": "execute_result"
    }
   ],
   "source": [
    "sq = \"\"\"\n",
    "with gen_credo_score as \n",
    "(SELECT \n",
    "    ln_disb_dtime disbursementdate,\n",
    "\tdigitalLoanAccountId,\n",
    "    gen_credo_score,\n",
    "    ln_fstpd30_flag,\n",
    "\tln_mature_fstpd30_flag,\t\n",
    "\tFROM \n",
    "    prj-prod-dataplatform.risk_mart.sil_risk_ds_master_20230101_20250206\n",
    "  WHERE \n",
    "     -- ln_disb_dtime >= '2023-07-01'\n",
    "    ln_appln_submit_datetime >= '2023-01-01'\n",
    "  -- AND\n",
    "  --   format_date('%Y-%m', ln_disb_dtime) = '2024-09'\n",
    "  AND\n",
    "    ln_fstpd30_flag is not null\n",
    "  AND\n",
    "    gen_credo_score is not null\n",
    "  AND\n",
    "    ln_mature_fstpd30_flag = 1\n",
    ")\n",
    "select * from gen_credo_score;\n",
    "\"\"\"\n",
    "\n",
    "gen_credo_scorefstpd30 = client.query(sq).to_dataframe(progress_bar_type='tqdm')\n",
    "\n",
    "print(gen_credo_scorefstpd30.head(2))\n",
    "\n",
    "gini_results = calculate_periodic_gini(gen_credo_scorefstpd30, 'gen_credo_score', 'ln_fstpd30_flag', 'FSTPD30')\n",
    "M4FSTPD30 = gini_results.copy()\n",
    "print(f\"The shape of dataframe after copy is:\\t{M4FSTPD30.shape}\")\n",
    "print(M4FSTPD30.columns.values)\n",
    "\n",
    "M4FSTPD30.head()"
   ]
  },
  {
   "cell_type": "markdown",
   "metadata": {},
   "source": [
    "## Combining tables "
   ]
  },
  {
   "cell_type": "code",
   "execution_count": 115,
   "metadata": {},
   "outputs": [
    {
     "data": {
      "text/plain": [
       "array(['start_date', 'end_date', 'gen_credo_score_FPD10_gini', 'period',\n",
       "       'Model_Name', 'version', 'bad_rate', 'gen_credo_score_FPD30_gini',\n",
       "       'gen_credo_score_FSPD30_gini', 'gen_credo_score_FSTPD30_gini'],\n",
       "      dtype=object)"
      ]
     },
     "execution_count": 115,
     "metadata": {},
     "output_type": "execute_result"
    }
   ],
   "source": [
    "import functools\n",
    "\n",
    "dataframes = [M1FPD10, M2FPD30, M3FSPD30, M4FSTPD30]\n",
    "common_columns = ['start_date', 'end_date', 'period', 'Model_Name','version', 'bad_rate']\n",
    "\n",
    "def merge_dataframes(df1, df2):\n",
    "    return pd.merge(df1, df2, on=common_columns, how='outer')\n",
    "\n",
    "final_df = functools.reduce(merge_dataframes, dataframes)\n",
    "\n",
    "final_df.columns.values"
   ]
  },
  {
   "cell_type": "code",
   "execution_count": 116,
   "metadata": {},
   "outputs": [],
   "source": [
    "final_df = final_df[['start_date', 'end_date','period',\n",
    "       'Model_Name', 'version', 'bad_rate', 'gen_credo_score_FPD10_gini','gen_credo_score_FPD30_gini',   'gen_credo_score_FSPD30_gini', 'gen_credo_score_FSTPD30_gini']].copy()"
   ]
  },
  {
   "cell_type": "code",
   "execution_count": 117,
   "metadata": {},
   "outputs": [
    {
     "data": {
      "text/plain": [
       "QueryJob<project=prj-prod-dataplatform, location=asia-southeast1, id=d7b46b58-20c0-4519-a0e3-8f8392634e31>"
      ]
     },
     "execution_count": 117,
     "metadata": {},
     "output_type": "execute_result"
    }
   ],
   "source": [
    "sq = \"\"\"drop table if exists prj-prod-dataplatform.dap_ds_poweruser_playground.Model_gini_gen_credo_score;\"\"\"\n",
    "\n",
    "client.query(sq)"
   ]
  },
  {
   "cell_type": "code",
   "execution_count": 118,
   "metadata": {},
   "outputs": [
    {
     "data": {
      "text/plain": [
       "LoadJob<project=prj-prod-dataplatform, location=asia-southeast1, id=a5f466d7-7b68-4204-8b73-baf77cf615a9>"
      ]
     },
     "execution_count": 118,
     "metadata": {},
     "output_type": "execute_result"
    }
   ],
   "source": [
    "import pandas as pd\n",
    "from google.cloud import bigquery\n",
    "\n",
    "# Create a BigQuery client\n",
    "client = bigquery.Client('prj-prod-dataplatform')\n",
    "\n",
    "# Define your table schema\n",
    "table_schema = [\n",
    "    bigquery.SchemaField('start_date', 'TIMESTAMP'),\n",
    "    bigquery.SchemaField('end_date', 'TIMESTAMP'),\n",
    "    bigquery.SchemaField('period', 'STRING'),\n",
    "    bigquery.SchemaField('Model_Name', 'STRING'),\n",
    "    bigquery.SchemaField('version', 'STRING'),\n",
    "    bigquery.SchemaField('Badrate', 'STRING'),\n",
    "    bigquery.SchemaField('gen_credo_score_FPD10_gini', 'FLOAT'),\n",
    "    bigquery.SchemaField('gen_credo_score_FPD30_gini', 'FLOAT'),    \n",
    "    bigquery.SchemaField('gen_credo_score_FSPD30_gini', 'FLOAT'),\n",
    "    bigquery.SchemaField('gen_credo_score_FSTPD30_gini', 'FLOAT')\n",
    "    \n",
    "]\n",
    "\n",
    "# Create your BigQuery table\n",
    "table_id = 'prj-prod-dataplatform.dap_ds_poweruser_playground.Model_gini_gen_credo_score'\n",
    "table = bigquery.Table(table_id, schema=table_schema)\n",
    "table = client.create_table(table)\n",
    "\n",
    "# Load your DataFrame into BigQuery\n",
    "job_config = bigquery.LoadJobConfig(\n",
    "    write_disposition='WRITE_TRUNCATE'\n",
    ")\n",
    "\n",
    "load_job = client.load_table_from_dataframe(\n",
    "    final_df, table_id, job_config=job_config\n",
    ")\n",
    "\n",
    "load_job.result()"
   ]
  },
  {
   "cell_type": "markdown",
   "metadata": {},
   "source": [
    "# c_credo_score"
   ]
  },
  {
   "cell_type": "code",
   "execution_count": 119,
   "metadata": {},
   "outputs": [
    {
     "name": "stdout",
     "output_type": "stream",
     "text": [
      "Job ID 58efdb75-45be-4683-bfc0-35a69e4ac5a7 successfully executed: 100%|\u001b[32m██████████\u001b[0m|"
     ]
    },
    {
     "name": "stderr",
     "output_type": "stream",
     "text": [
      "d:\\Anaconda3\\envs\\inc_env\\lib\\site-packages\\google\\cloud\\bigquery\\table.py:1820: UserWarning: BigQuery Storage module not found, fetch data with the REST endpoint instead.\n",
      "  warnings.warn(\n"
     ]
    },
    {
     "name": "stdout",
     "output_type": "stream",
     "text": [
      "\n",
      "Downloading: 100%|\u001b[32m██████████\u001b[0m|\n",
      "The shape of dataframe after copy is:\t(132, 7)\n",
      "Job ID 661086f5-4f5f-4f90-9226-8d7973c01074 successfully executed: 100%|\u001b[32m██████████\u001b[0m|"
     ]
    },
    {
     "name": "stderr",
     "output_type": "stream",
     "text": [
      "d:\\Anaconda3\\envs\\inc_env\\lib\\site-packages\\google\\cloud\\bigquery\\table.py:1820: UserWarning: BigQuery Storage module not found, fetch data with the REST endpoint instead.\n",
      "  warnings.warn(\n"
     ]
    },
    {
     "name": "stdout",
     "output_type": "stream",
     "text": [
      "\n",
      "Downloading: 100%|\u001b[32m██████████\u001b[0m|\n",
      "The shape of dataframe after copy is:\t(128, 7)\n",
      "Job ID 9fbc5b61-664f-4404-baf1-8267cf965bd7 successfully executed: 100%|\u001b[32m██████████\u001b[0m|"
     ]
    },
    {
     "name": "stderr",
     "output_type": "stream",
     "text": [
      "d:\\Anaconda3\\envs\\inc_env\\lib\\site-packages\\google\\cloud\\bigquery\\table.py:1820: UserWarning: BigQuery Storage module not found, fetch data with the REST endpoint instead.\n",
      "  warnings.warn(\n"
     ]
    },
    {
     "name": "stdout",
     "output_type": "stream",
     "text": [
      "\n",
      "Downloading: 100%|\u001b[32m██████████\u001b[0m|\n",
      "     disbursementdate                  digitalLoanAccountId  c_credo_score  \\\n",
      "0 2023-01-02 10:19:54  73902306-ce07-4625-9d1e-a611eeb83166       0.198732   \n",
      "1 2023-01-02 12:28:35  92a04afd-ec2e-4941-a1be-0e3af52aab1f       0.281711   \n",
      "\n",
      "   ln_fspd30_flag  ln_mature_fspd30_flag  \n",
      "0               0                      1  \n",
      "1               0                      1  \n",
      "The shape of dataframe after copy is:\t(123, 7)\n",
      "['start_date' 'end_date' 'c_credo_score_FSPD30_gini' 'period' 'Model_Name'\n",
      " 'version' 'bad_rate']\n",
      "Job ID 466c48c5-7f75-4c89-b7dc-e8e2aedf7528 successfully executed: 100%|\u001b[32m██████████\u001b[0m|"
     ]
    },
    {
     "name": "stderr",
     "output_type": "stream",
     "text": [
      "d:\\Anaconda3\\envs\\inc_env\\lib\\site-packages\\google\\cloud\\bigquery\\table.py:1820: UserWarning: BigQuery Storage module not found, fetch data with the REST endpoint instead.\n",
      "  warnings.warn(\n"
     ]
    },
    {
     "name": "stdout",
     "output_type": "stream",
     "text": [
      "\n",
      "Downloading: 100%|\u001b[32m██████████\u001b[0m|\n",
      "     disbursementdate                  digitalLoanAccountId  c_credo_score  \\\n",
      "0 2023-01-02 10:56:20  ac41223e-0d42-4569-b21f-789bce021291        0.20584   \n",
      "1 2023-01-02 11:39:36  d438dd4f-4c6c-44b5-ba83-58585ba8530a        0.19817   \n",
      "\n",
      "   ln_fstpd30_flag  ln_mature_fstpd30_flag  \n",
      "0                0                       1  \n",
      "1                0                       1  \n",
      "The shape of dataframe after copy is:\t(117, 7)\n",
      "['start_date' 'end_date' 'c_credo_score_FSTPD30_gini' 'period'\n",
      " 'Model_Name' 'version' 'bad_rate']\n"
     ]
    },
    {
     "data": {
      "application/vnd.microsoft.datawrangler.viewer.v0+json": {
       "columns": [
        {
         "name": "index",
         "rawType": "int64",
         "type": "integer"
        },
        {
         "name": "start_date",
         "rawType": "datetime64[ns]",
         "type": "datetime"
        },
        {
         "name": "end_date",
         "rawType": "datetime64[ns]",
         "type": "datetime"
        },
        {
         "name": "c_credo_score_FSTPD30_gini",
         "rawType": "float64",
         "type": "float"
        },
        {
         "name": "period",
         "rawType": "object",
         "type": "string"
        },
        {
         "name": "Model_Name",
         "rawType": "object",
         "type": "string"
        },
        {
         "name": "version",
         "rawType": "object",
         "type": "string"
        },
        {
         "name": "bad_rate",
         "rawType": "object",
         "type": "string"
        }
       ],
       "conversionMethod": "pd.DataFrame",
       "ref": "8e4ec432-030b-43db-9dc3-951cc2703dfd",
       "rows": [
        [
         "0",
         "2023-01-01 00:00:00",
         "2023-01-31 00:00:00",
         "0.03594761537090929",
         "Month",
         "c_credo_score",
         "1.1.0",
         "FSTPD30"
        ],
        [
         "1",
         "2023-01-02 00:00:00",
         "2023-01-08 00:00:00",
         "0.03600944510035431",
         "Week",
         "c_credo_score",
         "1.1.0",
         "FSTPD30"
        ],
        [
         "2",
         "2023-01-09 00:00:00",
         "2023-01-15 00:00:00",
         "0.062142679592343875",
         "Week",
         "c_credo_score",
         "1.1.0",
         "FSTPD30"
        ],
        [
         "3",
         "2023-01-16 00:00:00",
         "2023-01-22 00:00:00",
         "0.275890637945319",
         "Week",
         "c_credo_score",
         "1.1.0",
         "FSTPD30"
        ],
        [
         "4",
         "2023-01-23 00:00:00",
         "2023-01-29 00:00:00",
         "-0.05055849500293941",
         "Week",
         "c_credo_score",
         "1.1.0",
         "FSTPD30"
        ]
       ],
       "shape": {
        "columns": 7,
        "rows": 5
       }
      },
      "text/html": [
       "<div>\n",
       "<style scoped>\n",
       "    .dataframe tbody tr th:only-of-type {\n",
       "        vertical-align: middle;\n",
       "    }\n",
       "\n",
       "    .dataframe tbody tr th {\n",
       "        vertical-align: top;\n",
       "    }\n",
       "\n",
       "    .dataframe thead th {\n",
       "        text-align: right;\n",
       "    }\n",
       "</style>\n",
       "<table border=\"1\" class=\"dataframe\">\n",
       "  <thead>\n",
       "    <tr style=\"text-align: right;\">\n",
       "      <th></th>\n",
       "      <th>start_date</th>\n",
       "      <th>end_date</th>\n",
       "      <th>c_credo_score_FSTPD30_gini</th>\n",
       "      <th>period</th>\n",
       "      <th>Model_Name</th>\n",
       "      <th>version</th>\n",
       "      <th>bad_rate</th>\n",
       "    </tr>\n",
       "  </thead>\n",
       "  <tbody>\n",
       "    <tr>\n",
       "      <th>0</th>\n",
       "      <td>2023-01-01</td>\n",
       "      <td>2023-01-31</td>\n",
       "      <td>0.035948</td>\n",
       "      <td>Month</td>\n",
       "      <td>c_credo_score</td>\n",
       "      <td>1.1.0</td>\n",
       "      <td>FSTPD30</td>\n",
       "    </tr>\n",
       "    <tr>\n",
       "      <th>1</th>\n",
       "      <td>2023-01-02</td>\n",
       "      <td>2023-01-08</td>\n",
       "      <td>0.036009</td>\n",
       "      <td>Week</td>\n",
       "      <td>c_credo_score</td>\n",
       "      <td>1.1.0</td>\n",
       "      <td>FSTPD30</td>\n",
       "    </tr>\n",
       "    <tr>\n",
       "      <th>2</th>\n",
       "      <td>2023-01-09</td>\n",
       "      <td>2023-01-15</td>\n",
       "      <td>0.062143</td>\n",
       "      <td>Week</td>\n",
       "      <td>c_credo_score</td>\n",
       "      <td>1.1.0</td>\n",
       "      <td>FSTPD30</td>\n",
       "    </tr>\n",
       "    <tr>\n",
       "      <th>3</th>\n",
       "      <td>2023-01-16</td>\n",
       "      <td>2023-01-22</td>\n",
       "      <td>0.275891</td>\n",
       "      <td>Week</td>\n",
       "      <td>c_credo_score</td>\n",
       "      <td>1.1.0</td>\n",
       "      <td>FSTPD30</td>\n",
       "    </tr>\n",
       "    <tr>\n",
       "      <th>4</th>\n",
       "      <td>2023-01-23</td>\n",
       "      <td>2023-01-29</td>\n",
       "      <td>-0.050558</td>\n",
       "      <td>Week</td>\n",
       "      <td>c_credo_score</td>\n",
       "      <td>1.1.0</td>\n",
       "      <td>FSTPD30</td>\n",
       "    </tr>\n",
       "  </tbody>\n",
       "</table>\n",
       "</div>"
      ],
      "text/plain": [
       "  start_date   end_date  c_credo_score_FSTPD30_gini period     Model_Name  \\\n",
       "0 2023-01-01 2023-01-31                    0.035948  Month  c_credo_score   \n",
       "1 2023-01-02 2023-01-08                    0.036009   Week  c_credo_score   \n",
       "2 2023-01-09 2023-01-15                    0.062143   Week  c_credo_score   \n",
       "3 2023-01-16 2023-01-22                    0.275891   Week  c_credo_score   \n",
       "4 2023-01-23 2023-01-29                   -0.050558   Week  c_credo_score   \n",
       "\n",
       "  version bad_rate  \n",
       "0   1.1.0  FSTPD30  \n",
       "1   1.1.0  FSTPD30  \n",
       "2   1.1.0  FSTPD30  \n",
       "3   1.1.0  FSTPD30  \n",
       "4   1.1.0  FSTPD30  "
      ]
     },
     "execution_count": 119,
     "metadata": {},
     "output_type": "execute_result"
    }
   ],
   "source": [
    "sq = \"\"\"\n",
    "with c_credo_score as \n",
    "(SELECT \n",
    "    ln_disb_dtime disbursementdate,\n",
    "\tdigitalLoanAccountId,\n",
    "    c_credo_score,\n",
    "    ln_fpd10_flag,\n",
    "\tln_mature_fpd10_flag,\t\n",
    "\tFROM \n",
    "    prj-prod-dataplatform.risk_mart.sil_risk_ds_master_20230101_20250206\n",
    "  WHERE \n",
    "     -- ln_disb_dtime >= '2023-07-01'\n",
    "    ln_appln_submit_datetime >= '2023-01-01'\n",
    "  -- AND\n",
    "  --   format_date('%Y-%m', ln_disb_dtime) = '2024-09'\n",
    "  AND\n",
    "    ln_fpd10_flag is not null\n",
    "  AND\n",
    "    c_credo_score is not null\n",
    "  AND\n",
    "    ln_mature_fpd10_flag = 1\n",
    ")\n",
    "select * from c_credo_score;\n",
    "\"\"\"\n",
    "\n",
    "c_credo_scorefpd10 = client.query(sq).to_dataframe(progress_bar_type='tqdm')\n",
    "\n",
    "c_credo_scorefpd10.head()\n",
    "\n",
    "gini_results = calculate_periodic_gini(c_credo_scorefpd10, 'c_credo_score', 'ln_fpd10_flag', 'FPD10')\n",
    "M1FPD10 = gini_results.copy()\n",
    "print(f\"The shape of dataframe after copy is:\\t{M1FPD10.shape}\")\n",
    "M1FPD10.columns.values\n",
    "\n",
    "# FPD30\n",
    "\n",
    "sq = \"\"\"\n",
    "with c_credo_score as \n",
    "(SELECT \n",
    "    ln_disb_dtime disbursementdate,\n",
    "\tdigitalLoanAccountId,\n",
    "    c_credo_score,\n",
    "    ln_fpd30_flag,\n",
    "\tln_mature_fpd30_flag,\t\n",
    "\tFROM \n",
    "    prj-prod-dataplatform.risk_mart.sil_risk_ds_master_20230101_20250206\n",
    "  WHERE \n",
    "     -- ln_disb_dtime >= '2023-07-01'\n",
    "    ln_appln_submit_datetime >= '2023-01-01'\n",
    "  -- AND\n",
    "  --   format_date('%Y-%m', ln_disb_dtime) = '2024-09'\n",
    "  AND\n",
    "    ln_fpd30_flag is not null\n",
    "  AND\n",
    "    c_credo_score is not null\n",
    "  AND\n",
    "    ln_mature_fpd30_flag = 1\n",
    ")\n",
    "select * from c_credo_score;\n",
    "\"\"\"\n",
    "\n",
    "c_credo_scorefpd30 = client.query(sq).to_dataframe(progress_bar_type='tqdm')\n",
    "\n",
    "c_credo_scorefpd30.head()\n",
    "\n",
    "gini_results = calculate_periodic_gini(c_credo_scorefpd30, 'c_credo_score', 'ln_fpd30_flag', 'FPD30')\n",
    "M2FPD30 = gini_results.copy()\n",
    "print(f\"The shape of dataframe after copy is:\\t{M2FPD30.shape}\")\n",
    "M2FPD30.columns.values\n",
    "\n",
    "sq = \"\"\"\n",
    "with c_credo_score as \n",
    "(SELECT \n",
    "    ln_disb_dtime disbursementdate,\n",
    "\tdigitalLoanAccountId,\n",
    "    c_credo_score,\n",
    "    ln_fspd30_flag,\n",
    "\tln_mature_fspd30_flag,\t\n",
    "\tFROM \n",
    "    prj-prod-dataplatform.risk_mart.sil_risk_ds_master_20230101_20250206\n",
    "  WHERE \n",
    "     -- ln_disb_dtime >= '2023-07-01'\n",
    "    ln_appln_submit_datetime >= '2023-01-01'\n",
    "  -- AND\n",
    "  --   format_date('%Y-%m', ln_disb_dtime) = '2024-09'\n",
    "  AND\n",
    "    ln_fspd30_flag is not null\n",
    "  AND\n",
    "    c_credo_score is not null\n",
    "  AND\n",
    "    ln_mature_fspd30_flag = 1\n",
    ")\n",
    "select * from c_credo_score;\n",
    "\"\"\"\n",
    "\n",
    "c_credo_scorefspd30 = client.query(sq).to_dataframe(progress_bar_type='tqdm')\n",
    "\n",
    "print(c_credo_scorefspd30.head(2))\n",
    "\n",
    "gini_results = calculate_periodic_gini(c_credo_scorefspd30, 'c_credo_score', 'ln_fspd30_flag', 'FSPD30')\n",
    "M3FSPD30 = gini_results.copy()\n",
    "print(f\"The shape of dataframe after copy is:\\t{M3FSPD30.shape}\")\n",
    "print(M3FSPD30.columns.values)\n",
    "\n",
    "M3FSPD30.head()\n",
    "\n",
    "sq = \"\"\"\n",
    "with c_credo_score as \n",
    "(SELECT \n",
    "    ln_disb_dtime disbursementdate,\n",
    "\tdigitalLoanAccountId,\n",
    "    c_credo_score,\n",
    "    ln_fstpd30_flag,\n",
    "\tln_mature_fstpd30_flag,\t\n",
    "\tFROM \n",
    "    prj-prod-dataplatform.risk_mart.sil_risk_ds_master_20230101_20250206\n",
    "  WHERE \n",
    "     -- ln_disb_dtime >= '2023-07-01'\n",
    "    ln_appln_submit_datetime >= '2023-01-01'\n",
    "  -- AND\n",
    "  --   format_date('%Y-%m', ln_disb_dtime) = '2024-09'\n",
    "  AND\n",
    "    ln_fstpd30_flag is not null\n",
    "  AND\n",
    "    c_credo_score is not null\n",
    "  AND\n",
    "    ln_mature_fstpd30_flag = 1\n",
    ")\n",
    "select * from c_credo_score;\n",
    "\"\"\"\n",
    "\n",
    "c_credo_scorefstpd30 = client.query(sq).to_dataframe(progress_bar_type='tqdm')\n",
    "\n",
    "print(c_credo_scorefstpd30.head(2))\n",
    "\n",
    "gini_results = calculate_periodic_gini(c_credo_scorefstpd30, 'c_credo_score', 'ln_fstpd30_flag', 'FSTPD30')\n",
    "M4FSTPD30 = gini_results.copy()\n",
    "print(f\"The shape of dataframe after copy is:\\t{M4FSTPD30.shape}\")\n",
    "print(M4FSTPD30.columns.values)\n",
    "\n",
    "M4FSTPD30.head()\n",
    "\n"
   ]
  },
  {
   "cell_type": "code",
   "execution_count": 120,
   "metadata": {},
   "outputs": [
    {
     "data": {
      "text/plain": [
       "array(['start_date', 'end_date', 'c_credo_score_FPD10_gini', 'period',\n",
       "       'Model_Name', 'version', 'bad_rate', 'c_credo_score_FPD30_gini',\n",
       "       'c_credo_score_FSPD30_gini', 'c_credo_score_FSTPD30_gini'],\n",
       "      dtype=object)"
      ]
     },
     "execution_count": 120,
     "metadata": {},
     "output_type": "execute_result"
    }
   ],
   "source": [
    "import functools\n",
    "\n",
    "dataframes = [M1FPD10, M2FPD30, M3FSPD30, M4FSTPD30]\n",
    "common_columns = ['start_date', 'end_date', 'period', 'Model_Name','version', 'bad_rate']\n",
    "\n",
    "def merge_dataframes(df1, df2):\n",
    "    return pd.merge(df1, df2, on=common_columns, how='outer')\n",
    "\n",
    "final_df = functools.reduce(merge_dataframes, dataframes)\n",
    "\n",
    "final_df.columns.values"
   ]
  },
  {
   "cell_type": "code",
   "execution_count": 121,
   "metadata": {},
   "outputs": [],
   "source": [
    "final_df = final_df[['start_date', 'end_date','period',    'Model_Name', 'version', 'bad_rate','c_credo_score_FPD10_gini', 'c_credo_score_FPD30_gini',    'c_credo_score_FSPD30_gini', 'c_credo_score_FSTPD30_gini']].copy()"
   ]
  },
  {
   "cell_type": "code",
   "execution_count": 122,
   "metadata": {},
   "outputs": [
    {
     "data": {
      "text/plain": [
       "QueryJob<project=prj-prod-dataplatform, location=asia-southeast1, id=8aa9198c-0945-4947-b206-e151d46beafc>"
      ]
     },
     "execution_count": 122,
     "metadata": {},
     "output_type": "execute_result"
    }
   ],
   "source": [
    "sq = \"\"\"drop table if exists prj-prod-dataplatform.dap_ds_poweruser_playground.Model_gini_c_credo_score;\"\"\"\n",
    "client.query(sq)"
   ]
  },
  {
   "cell_type": "code",
   "execution_count": 123,
   "metadata": {},
   "outputs": [
    {
     "data": {
      "text/plain": [
       "LoadJob<project=prj-prod-dataplatform, location=asia-southeast1, id=dfacf457-9c56-4249-85e8-49be1c985564>"
      ]
     },
     "execution_count": 123,
     "metadata": {},
     "output_type": "execute_result"
    }
   ],
   "source": [
    "import pandas as pd\n",
    "from google.cloud import bigquery\n",
    "\n",
    "# Create a BigQuery client\n",
    "client = bigquery.Client('prj-prod-dataplatform')\n",
    "\n",
    "# Define your table schema\n",
    "table_schema = [\n",
    "    bigquery.SchemaField('start_date', 'TIMESTAMP'),\n",
    "    bigquery.SchemaField('end_date', 'TIMESTAMP'),\n",
    "    bigquery.SchemaField('period', 'STRING'),\n",
    "    bigquery.SchemaField('Model_Name', 'STRING'),\n",
    "    bigquery.SchemaField('version', 'STRING'),\n",
    "    bigquery.SchemaField('Badrate', 'STRING'),\n",
    "    bigquery.SchemaField('c_credo_score_FPD10_gini', 'FLOAT'),\n",
    "    bigquery.SchemaField('c_credo_score_FPD30_gini', 'FLOAT'),    \n",
    "    bigquery.SchemaField('c_credo_score_FSPD30_gini', 'FLOAT'),\n",
    "    bigquery.SchemaField('c_credo_score_FSTPD30_gini', 'FLOAT')\n",
    "    \n",
    "]\n",
    "\n",
    "# Create your BigQuery table\n",
    "table_id = 'prj-prod-dataplatform.dap_ds_poweruser_playground.Model_gini_c_credo_score'\n",
    "table = bigquery.Table(table_id, schema=table_schema)\n",
    "table = client.create_table(table)\n",
    "\n",
    "# Load your DataFrame into BigQuery\n",
    "job_config = bigquery.LoadJobConfig(\n",
    "    write_disposition='WRITE_TRUNCATE'\n",
    ")\n",
    "\n",
    "load_job = client.load_table_from_dataframe(\n",
    "    final_df, table_id, job_config=job_config\n",
    ")\n",
    "\n",
    "load_job.result()"
   ]
  },
  {
   "cell_type": "markdown",
   "metadata": {},
   "source": [
    "# s_credo_score"
   ]
  },
  {
   "cell_type": "code",
   "execution_count": 124,
   "metadata": {},
   "outputs": [
    {
     "name": "stdout",
     "output_type": "stream",
     "text": [
      "Job ID a850d2e5-1218-437b-bda1-ffc1f72083af successfully executed: 100%|\u001b[32m██████████\u001b[0m|"
     ]
    },
    {
     "name": "stderr",
     "output_type": "stream",
     "text": [
      "d:\\Anaconda3\\envs\\inc_env\\lib\\site-packages\\google\\cloud\\bigquery\\table.py:1820: UserWarning: BigQuery Storage module not found, fetch data with the REST endpoint instead.\n",
      "  warnings.warn(\n"
     ]
    },
    {
     "name": "stdout",
     "output_type": "stream",
     "text": [
      "\n",
      "Downloading: 100%|\u001b[32m██████████\u001b[0m|\n",
      "The shape of dataframe after copy is:\t(132, 7)\n",
      "Job ID 176eae4b-c8e7-4a82-96b3-d086a0314e10 successfully executed: 100%|\u001b[32m██████████\u001b[0m|"
     ]
    },
    {
     "name": "stderr",
     "output_type": "stream",
     "text": [
      "d:\\Anaconda3\\envs\\inc_env\\lib\\site-packages\\google\\cloud\\bigquery\\table.py:1820: UserWarning: BigQuery Storage module not found, fetch data with the REST endpoint instead.\n",
      "  warnings.warn(\n"
     ]
    },
    {
     "name": "stdout",
     "output_type": "stream",
     "text": [
      "\n",
      "Downloading: 100%|\u001b[32m██████████\u001b[0m|\n",
      "The shape of dataframe after copy is:\t(128, 7)\n",
      "Job ID 6a9ce448-9866-4810-a55d-20524b27ec5d successfully executed: 100%|\u001b[32m██████████\u001b[0m|"
     ]
    },
    {
     "name": "stderr",
     "output_type": "stream",
     "text": [
      "d:\\Anaconda3\\envs\\inc_env\\lib\\site-packages\\google\\cloud\\bigquery\\table.py:1820: UserWarning: BigQuery Storage module not found, fetch data with the REST endpoint instead.\n",
      "  warnings.warn(\n"
     ]
    },
    {
     "name": "stdout",
     "output_type": "stream",
     "text": [
      "\n",
      "Downloading: 100%|\u001b[32m██████████\u001b[0m|\n",
      "     disbursementdate                  digitalLoanAccountId  s_credo_score  \\\n",
      "0 2023-01-02 10:56:20  ac41223e-0d42-4569-b21f-789bce021291       0.093295   \n",
      "1 2023-01-02 11:39:36  d438dd4f-4c6c-44b5-ba83-58585ba8530a       0.122682   \n",
      "\n",
      "   ln_fspd30_flag  ln_mature_fspd30_flag  \n",
      "0               0                      1  \n",
      "1               0                      1  \n",
      "The shape of dataframe after copy is:\t(123, 7)\n",
      "['start_date' 'end_date' 's_credo_score_FSPD30_gini' 'period' 'Model_Name'\n",
      " 'version' 'bad_rate']\n",
      "Job ID 935651b4-83a1-48e9-a06f-ea19cd4fc6ea successfully executed: 100%|\u001b[32m██████████\u001b[0m|"
     ]
    },
    {
     "name": "stderr",
     "output_type": "stream",
     "text": [
      "d:\\Anaconda3\\envs\\inc_env\\lib\\site-packages\\google\\cloud\\bigquery\\table.py:1820: UserWarning: BigQuery Storage module not found, fetch data with the REST endpoint instead.\n",
      "  warnings.warn(\n"
     ]
    },
    {
     "name": "stdout",
     "output_type": "stream",
     "text": [
      "\n",
      "Downloading: 100%|\u001b[32m██████████\u001b[0m|\n",
      "     disbursementdate                  digitalLoanAccountId  s_credo_score  \\\n",
      "0 2023-01-02 10:56:20  ac41223e-0d42-4569-b21f-789bce021291       0.093295   \n",
      "1 2023-01-02 11:39:36  d438dd4f-4c6c-44b5-ba83-58585ba8530a       0.122682   \n",
      "\n",
      "   ln_fstpd30_flag  ln_mature_fstpd30_flag  \n",
      "0                0                       1  \n",
      "1                0                       1  \n",
      "The shape of dataframe after copy is:\t(117, 7)\n",
      "['start_date' 'end_date' 's_credo_score_FSTPD30_gini' 'period'\n",
      " 'Model_Name' 'version' 'bad_rate']\n"
     ]
    },
    {
     "data": {
      "application/vnd.microsoft.datawrangler.viewer.v0+json": {
       "columns": [
        {
         "name": "index",
         "rawType": "int64",
         "type": "integer"
        },
        {
         "name": "start_date",
         "rawType": "datetime64[ns]",
         "type": "datetime"
        },
        {
         "name": "end_date",
         "rawType": "datetime64[ns]",
         "type": "datetime"
        },
        {
         "name": "s_credo_score_FSTPD30_gini",
         "rawType": "float64",
         "type": "float"
        },
        {
         "name": "period",
         "rawType": "object",
         "type": "string"
        },
        {
         "name": "Model_Name",
         "rawType": "object",
         "type": "string"
        },
        {
         "name": "version",
         "rawType": "object",
         "type": "string"
        },
        {
         "name": "bad_rate",
         "rawType": "object",
         "type": "string"
        }
       ],
       "conversionMethod": "pd.DataFrame",
       "ref": "2aeab250-caa9-4a24-9895-7a5b2e8d2630",
       "rows": [
        [
         "0",
         "2023-01-01 00:00:00",
         "2023-01-31 00:00:00",
         "0.21908594167607065",
         "Month",
         "s_credo_score",
         "1.1.0",
         "FSTPD30"
        ],
        [
         "1",
         "2023-01-02 00:00:00",
         "2023-01-08 00:00:00",
         "0.26170798898071634",
         "Week",
         "s_credo_score",
         "1.1.0",
         "FSTPD30"
        ],
        [
         "2",
         "2023-01-09 00:00:00",
         "2023-01-15 00:00:00",
         "0.25105642555306984",
         "Week",
         "s_credo_score",
         "1.1.0",
         "FSTPD30"
        ],
        [
         "3",
         "2023-01-16 00:00:00",
         "2023-01-22 00:00:00",
         "0.2750621375310687",
         "Week",
         "s_credo_score",
         "1.1.0",
         "FSTPD30"
        ],
        [
         "4",
         "2023-01-23 00:00:00",
         "2023-01-29 00:00:00",
         "0.15755437977660192",
         "Week",
         "s_credo_score",
         "1.1.0",
         "FSTPD30"
        ]
       ],
       "shape": {
        "columns": 7,
        "rows": 5
       }
      },
      "text/html": [
       "<div>\n",
       "<style scoped>\n",
       "    .dataframe tbody tr th:only-of-type {\n",
       "        vertical-align: middle;\n",
       "    }\n",
       "\n",
       "    .dataframe tbody tr th {\n",
       "        vertical-align: top;\n",
       "    }\n",
       "\n",
       "    .dataframe thead th {\n",
       "        text-align: right;\n",
       "    }\n",
       "</style>\n",
       "<table border=\"1\" class=\"dataframe\">\n",
       "  <thead>\n",
       "    <tr style=\"text-align: right;\">\n",
       "      <th></th>\n",
       "      <th>start_date</th>\n",
       "      <th>end_date</th>\n",
       "      <th>s_credo_score_FSTPD30_gini</th>\n",
       "      <th>period</th>\n",
       "      <th>Model_Name</th>\n",
       "      <th>version</th>\n",
       "      <th>bad_rate</th>\n",
       "    </tr>\n",
       "  </thead>\n",
       "  <tbody>\n",
       "    <tr>\n",
       "      <th>0</th>\n",
       "      <td>2023-01-01</td>\n",
       "      <td>2023-01-31</td>\n",
       "      <td>0.219086</td>\n",
       "      <td>Month</td>\n",
       "      <td>s_credo_score</td>\n",
       "      <td>1.1.0</td>\n",
       "      <td>FSTPD30</td>\n",
       "    </tr>\n",
       "    <tr>\n",
       "      <th>1</th>\n",
       "      <td>2023-01-02</td>\n",
       "      <td>2023-01-08</td>\n",
       "      <td>0.261708</td>\n",
       "      <td>Week</td>\n",
       "      <td>s_credo_score</td>\n",
       "      <td>1.1.0</td>\n",
       "      <td>FSTPD30</td>\n",
       "    </tr>\n",
       "    <tr>\n",
       "      <th>2</th>\n",
       "      <td>2023-01-09</td>\n",
       "      <td>2023-01-15</td>\n",
       "      <td>0.251056</td>\n",
       "      <td>Week</td>\n",
       "      <td>s_credo_score</td>\n",
       "      <td>1.1.0</td>\n",
       "      <td>FSTPD30</td>\n",
       "    </tr>\n",
       "    <tr>\n",
       "      <th>3</th>\n",
       "      <td>2023-01-16</td>\n",
       "      <td>2023-01-22</td>\n",
       "      <td>0.275062</td>\n",
       "      <td>Week</td>\n",
       "      <td>s_credo_score</td>\n",
       "      <td>1.1.0</td>\n",
       "      <td>FSTPD30</td>\n",
       "    </tr>\n",
       "    <tr>\n",
       "      <th>4</th>\n",
       "      <td>2023-01-23</td>\n",
       "      <td>2023-01-29</td>\n",
       "      <td>0.157554</td>\n",
       "      <td>Week</td>\n",
       "      <td>s_credo_score</td>\n",
       "      <td>1.1.0</td>\n",
       "      <td>FSTPD30</td>\n",
       "    </tr>\n",
       "  </tbody>\n",
       "</table>\n",
       "</div>"
      ],
      "text/plain": [
       "  start_date   end_date  s_credo_score_FSTPD30_gini period     Model_Name  \\\n",
       "0 2023-01-01 2023-01-31                    0.219086  Month  s_credo_score   \n",
       "1 2023-01-02 2023-01-08                    0.261708   Week  s_credo_score   \n",
       "2 2023-01-09 2023-01-15                    0.251056   Week  s_credo_score   \n",
       "3 2023-01-16 2023-01-22                    0.275062   Week  s_credo_score   \n",
       "4 2023-01-23 2023-01-29                    0.157554   Week  s_credo_score   \n",
       "\n",
       "  version bad_rate  \n",
       "0   1.1.0  FSTPD30  \n",
       "1   1.1.0  FSTPD30  \n",
       "2   1.1.0  FSTPD30  \n",
       "3   1.1.0  FSTPD30  \n",
       "4   1.1.0  FSTPD30  "
      ]
     },
     "execution_count": 124,
     "metadata": {},
     "output_type": "execute_result"
    }
   ],
   "source": [
    "\n",
    "\n",
    "sq = \"\"\"\n",
    "with s_credo_score as \n",
    "(SELECT \n",
    "    ln_disb_dtime disbursementdate,\n",
    "\tdigitalLoanAccountId,\n",
    "    s_credo_score,\n",
    "    ln_fpd10_flag,\n",
    "\tln_mature_fpd10_flag,\t\n",
    "\tFROM \n",
    "    prj-prod-dataplatform.risk_mart.sil_risk_ds_master_20230101_20250206\n",
    "  WHERE \n",
    "     -- ln_disb_dtime >= '2023-07-01'\n",
    "    ln_appln_submit_datetime >= '2023-01-01'\n",
    "  -- AND\n",
    "  --   format_date('%Y-%m', ln_disb_dtime) = '2024-09'\n",
    "  AND\n",
    "    ln_fpd10_flag is not null\n",
    "  AND\n",
    "    s_credo_score is not null\n",
    "  AND\n",
    "    ln_mature_fpd10_flag = 1\n",
    ")\n",
    "select * from s_credo_score;\n",
    "\"\"\"\n",
    "\n",
    "s_credo_scorefpd10 = client.query(sq).to_dataframe(progress_bar_type='tqdm')\n",
    "\n",
    "s_credo_scorefpd10.head()\n",
    "\n",
    "gini_results = calculate_periodic_gini(s_credo_scorefpd10, 's_credo_score', 'ln_fpd10_flag', 'FPD10')\n",
    "M1FPD10 = gini_results.copy()\n",
    "print(f\"The shape of dataframe after copy is:\\t{M1FPD10.shape}\")\n",
    "M1FPD10.columns.values\n",
    "\n",
    "# FPD30\n",
    "\n",
    "sq = \"\"\"\n",
    "with s_credo_score as \n",
    "(SELECT \n",
    "    ln_disb_dtime disbursementdate,\n",
    "\tdigitalLoanAccountId,\n",
    "    s_credo_score,\n",
    "    ln_fpd30_flag,\n",
    "\tln_mature_fpd30_flag,\t\n",
    "\tFROM \n",
    "    prj-prod-dataplatform.risk_mart.sil_risk_ds_master_20230101_20250206\n",
    "  WHERE \n",
    "     -- ln_disb_dtime >= '2023-07-01'\n",
    "    ln_appln_submit_datetime >= '2023-01-01'\n",
    "  -- AND\n",
    "  --   format_date('%Y-%m', ln_disb_dtime) = '2024-09'\n",
    "  AND\n",
    "    ln_fpd30_flag is not null\n",
    "  AND\n",
    "    s_credo_score is not null\n",
    "  AND\n",
    "    ln_mature_fpd30_flag = 1\n",
    ")\n",
    "select * from s_credo_score;\n",
    "\"\"\"\n",
    "\n",
    "s_credo_scorefpd30 = client.query(sq).to_dataframe(progress_bar_type='tqdm')\n",
    "\n",
    "s_credo_scorefpd30.head()\n",
    "\n",
    "gini_results = calculate_periodic_gini(s_credo_scorefpd30, 's_credo_score', 'ln_fpd30_flag', 'FPD30')\n",
    "M2FPD30 = gini_results.copy()\n",
    "print(f\"The shape of dataframe after copy is:\\t{M2FPD30.shape}\")\n",
    "M2FPD30.columns.values\n",
    "\n",
    "sq = \"\"\"\n",
    "with s_credo_score as \n",
    "(SELECT \n",
    "    ln_disb_dtime disbursementdate,\n",
    "\tdigitalLoanAccountId,\n",
    "    s_credo_score,\n",
    "    ln_fspd30_flag,\n",
    "\tln_mature_fspd30_flag,\t\n",
    "\tFROM \n",
    "    prj-prod-dataplatform.risk_mart.sil_risk_ds_master_20230101_20250206\n",
    "  WHERE \n",
    "     -- ln_disb_dtime >= '2023-07-01'\n",
    "    ln_appln_submit_datetime >= '2023-01-01'\n",
    "  -- AND\n",
    "  --   format_date('%Y-%m', ln_disb_dtime) = '2024-09'\n",
    "  AND\n",
    "    ln_fspd30_flag is not null\n",
    "  AND\n",
    "    s_credo_score is not null\n",
    "  AND\n",
    "    ln_mature_fspd30_flag = 1\n",
    ")\n",
    "select * from s_credo_score;\n",
    "\"\"\"\n",
    "\n",
    "s_credo_scorefspd30 = client.query(sq).to_dataframe(progress_bar_type='tqdm')\n",
    "\n",
    "print(s_credo_scorefspd30.head(2))\n",
    "\n",
    "gini_results = calculate_periodic_gini(s_credo_scorefspd30, 's_credo_score', 'ln_fspd30_flag', 'FSPD30')\n",
    "M3FSPD30 = gini_results.copy()\n",
    "print(f\"The shape of dataframe after copy is:\\t{M3FSPD30.shape}\")\n",
    "print(M3FSPD30.columns.values)\n",
    "\n",
    "M3FSPD30.head()\n",
    "\n",
    "sq = \"\"\"\n",
    "with s_credo_score as \n",
    "(SELECT \n",
    "    ln_disb_dtime disbursementdate,\n",
    "\tdigitalLoanAccountId,\n",
    "    s_credo_score,\n",
    "    ln_fstpd30_flag,\n",
    "\tln_mature_fstpd30_flag,\t\n",
    "\tFROM \n",
    "    prj-prod-dataplatform.risk_mart.sil_risk_ds_master_20230101_20250206\n",
    "  WHERE \n",
    "     -- ln_disb_dtime >= '2023-07-01'\n",
    "    ln_appln_submit_datetime >= '2023-01-01'\n",
    "  -- AND\n",
    "  --   format_date('%Y-%m', ln_disb_dtime) = '2024-09'\n",
    "  AND\n",
    "    ln_fstpd30_flag is not null\n",
    "  AND\n",
    "    s_credo_score is not null\n",
    "  AND\n",
    "    ln_mature_fstpd30_flag = 1\n",
    ")\n",
    "select * from s_credo_score;\n",
    "\"\"\"\n",
    "\n",
    "s_credo_scorefstpd30 = client.query(sq).to_dataframe(progress_bar_type='tqdm')\n",
    "\n",
    "print(s_credo_scorefstpd30.head(2))\n",
    "\n",
    "gini_results = calculate_periodic_gini(s_credo_scorefstpd30, 's_credo_score', 'ln_fstpd30_flag', 'FSTPD30')\n",
    "M4FSTPD30 = gini_results.copy()\n",
    "print(f\"The shape of dataframe after copy is:\\t{M4FSTPD30.shape}\")\n",
    "print(M4FSTPD30.columns.values)\n",
    "\n",
    "M4FSTPD30.head()\n",
    "\n"
   ]
  },
  {
   "cell_type": "markdown",
   "metadata": {},
   "source": [
    "## Combining data"
   ]
  },
  {
   "cell_type": "code",
   "execution_count": 125,
   "metadata": {},
   "outputs": [
    {
     "data": {
      "text/plain": [
       "array(['start_date', 'end_date', 's_credo_score_FPD10_gini', 'period',\n",
       "       'Model_Name', 'version', 'bad_rate', 's_credo_score_FPD30_gini',\n",
       "       's_credo_score_FSPD30_gini', 's_credo_score_FSTPD30_gini'],\n",
       "      dtype=object)"
      ]
     },
     "execution_count": 125,
     "metadata": {},
     "output_type": "execute_result"
    }
   ],
   "source": [
    "import functools\n",
    "\n",
    "dataframes = [M1FPD10, M2FPD30, M3FSPD30, M4FSTPD30]\n",
    "common_columns = ['start_date', 'end_date', 'period', 'Model_Name','version', 'bad_rate']\n",
    "\n",
    "def merge_dataframes(df1, df2):\n",
    "    return pd.merge(df1, df2, on=common_columns, how='outer')\n",
    "\n",
    "final_df = functools.reduce(merge_dataframes, dataframes)\n",
    "\n",
    "final_df.columns.values"
   ]
  },
  {
   "cell_type": "code",
   "execution_count": 126,
   "metadata": {},
   "outputs": [],
   "source": [
    "final_df = final_df[['start_date', 'end_date','period',    'Model_Name', 'version', 'bad_rate','s_credo_score_FPD10_gini', 's_credo_score_FPD30_gini',    's_credo_score_FSPD30_gini', 's_credo_score_FSTPD30_gini']].copy()"
   ]
  },
  {
   "cell_type": "code",
   "execution_count": 127,
   "metadata": {},
   "outputs": [
    {
     "data": {
      "text/plain": [
       "QueryJob<project=prj-prod-dataplatform, location=asia-southeast1, id=5aaad934-835f-43dc-b889-ace3dac93bef>"
      ]
     },
     "execution_count": 127,
     "metadata": {},
     "output_type": "execute_result"
    }
   ],
   "source": [
    "sq = \"\"\"drop table if exists prj-prod-dataplatform.dap_ds_poweruser_playground.Model_gini_s_credo_score;\"\"\"\n",
    "\n",
    "client.query(sq)"
   ]
  },
  {
   "cell_type": "code",
   "execution_count": 128,
   "metadata": {},
   "outputs": [
    {
     "data": {
      "text/plain": [
       "LoadJob<project=prj-prod-dataplatform, location=asia-southeast1, id=b6962150-c310-4e67-b7be-780413f5fbca>"
      ]
     },
     "execution_count": 128,
     "metadata": {},
     "output_type": "execute_result"
    }
   ],
   "source": [
    "import pandas as pd\n",
    "from google.cloud import bigquery\n",
    "\n",
    "# Create a BigQuery client\n",
    "client = bigquery.Client('prj-prod-dataplatform')\n",
    "\n",
    "# Define your table schema\n",
    "table_schema = [\n",
    "    bigquery.SchemaField('start_date', 'TIMESTAMP'),\n",
    "    bigquery.SchemaField('end_date', 'TIMESTAMP'),\n",
    "    bigquery.SchemaField('period', 'STRING'),\n",
    "    bigquery.SchemaField('Model_Name', 'STRING'),\n",
    "    bigquery.SchemaField('version', 'STRING'),\n",
    "    bigquery.SchemaField('Badrate', 'STRING'),\n",
    "    bigquery.SchemaField('s_credo_score_FPD10_gini', 'FLOAT'),\n",
    "    bigquery.SchemaField('s_credo_score_FPD30_gini', 'FLOAT'),    \n",
    "    bigquery.SchemaField('s_credo_score_FSPD30_gini', 'FLOAT'),\n",
    "    bigquery.SchemaField('s_credo_score_FSTPD30_gini', 'FLOAT')\n",
    "    \n",
    "]\n",
    "\n",
    "# Create your BigQuery table\n",
    "table_id = 'prj-prod-dataplatform.dap_ds_poweruser_playground.Model_gini_s_credo_score'\n",
    "table = bigquery.Table(table_id, schema=table_schema)\n",
    "table = client.create_table(table)\n",
    "\n",
    "# Load your DataFrame into BigQuery\n",
    "job_config = bigquery.LoadJobConfig(\n",
    "    write_disposition='WRITE_TRUNCATE'\n",
    ")\n",
    "\n",
    "load_job = client.load_table_from_dataframe(\n",
    "    final_df, table_id, job_config=job_config\n",
    ")\n",
    "\n",
    "load_job.result()"
   ]
  },
  {
   "cell_type": "code",
   "execution_count": 129,
   "metadata": {},
   "outputs": [
    {
     "data": {
      "application/vnd.microsoft.datawrangler.viewer.v0+json": {
       "columns": [
        {
         "name": "index",
         "rawType": "int64",
         "type": "integer"
        },
        {
         "name": "start_date",
         "rawType": "datetime64[ns]",
         "type": "datetime"
        },
        {
         "name": "end_date",
         "rawType": "datetime64[ns]",
         "type": "datetime"
        },
        {
         "name": "period",
         "rawType": "object",
         "type": "string"
        },
        {
         "name": "Model_Name",
         "rawType": "object",
         "type": "string"
        },
        {
         "name": "version",
         "rawType": "object",
         "type": "string"
        },
        {
         "name": "bad_rate",
         "rawType": "object",
         "type": "string"
        },
        {
         "name": "s_credo_score_FPD10_gini",
         "rawType": "float64",
         "type": "float"
        },
        {
         "name": "s_credo_score_FPD30_gini",
         "rawType": "float64",
         "type": "float"
        },
        {
         "name": "s_credo_score_FSPD30_gini",
         "rawType": "float64",
         "type": "float"
        },
        {
         "name": "s_credo_score_FSTPD30_gini",
         "rawType": "float64",
         "type": "float"
        }
       ],
       "conversionMethod": "pd.DataFrame",
       "ref": "a57fd7ae-92f8-4561-af55-22721eeaebca",
       "rows": [
        [
         "0",
         "2023-01-01 00:00:00",
         "2023-01-31 00:00:00",
         "Month",
         "s_credo_score",
         "1.1.0",
         "FPD10",
         "0.2301810865191145",
         null,
         null,
         null
        ],
        [
         "1",
         "2023-01-02 00:00:00",
         "2023-01-08 00:00:00",
         "Week",
         "s_credo_score",
         "1.1.0",
         "FPD10",
         "0.2489775051124743",
         null,
         null,
         null
        ],
        [
         "2",
         "2023-01-09 00:00:00",
         "2023-01-15 00:00:00",
         "Week",
         "s_credo_score",
         "1.1.0",
         "FPD10",
         "0.29633740288568244",
         null,
         null,
         null
        ],
        [
         "3",
         "2023-01-16 00:00:00",
         "2023-01-22 00:00:00",
         "Week",
         "s_credo_score",
         "1.1.0",
         "FPD10",
         "0.52987012987013",
         null,
         null,
         null
        ],
        [
         "4",
         "2023-01-23 00:00:00",
         "2023-01-29 00:00:00",
         "Week",
         "s_credo_score",
         "1.1.0",
         "FPD10",
         "0.07958477508650508",
         null,
         null,
         null
        ]
       ],
       "shape": {
        "columns": 10,
        "rows": 5
       }
      },
      "text/html": [
       "<div>\n",
       "<style scoped>\n",
       "    .dataframe tbody tr th:only-of-type {\n",
       "        vertical-align: middle;\n",
       "    }\n",
       "\n",
       "    .dataframe tbody tr th {\n",
       "        vertical-align: top;\n",
       "    }\n",
       "\n",
       "    .dataframe thead th {\n",
       "        text-align: right;\n",
       "    }\n",
       "</style>\n",
       "<table border=\"1\" class=\"dataframe\">\n",
       "  <thead>\n",
       "    <tr style=\"text-align: right;\">\n",
       "      <th></th>\n",
       "      <th>start_date</th>\n",
       "      <th>end_date</th>\n",
       "      <th>period</th>\n",
       "      <th>Model_Name</th>\n",
       "      <th>version</th>\n",
       "      <th>bad_rate</th>\n",
       "      <th>s_credo_score_FPD10_gini</th>\n",
       "      <th>s_credo_score_FPD30_gini</th>\n",
       "      <th>s_credo_score_FSPD30_gini</th>\n",
       "      <th>s_credo_score_FSTPD30_gini</th>\n",
       "    </tr>\n",
       "  </thead>\n",
       "  <tbody>\n",
       "    <tr>\n",
       "      <th>0</th>\n",
       "      <td>2023-01-01</td>\n",
       "      <td>2023-01-31</td>\n",
       "      <td>Month</td>\n",
       "      <td>s_credo_score</td>\n",
       "      <td>1.1.0</td>\n",
       "      <td>FPD10</td>\n",
       "      <td>0.230181</td>\n",
       "      <td>NaN</td>\n",
       "      <td>NaN</td>\n",
       "      <td>NaN</td>\n",
       "    </tr>\n",
       "    <tr>\n",
       "      <th>1</th>\n",
       "      <td>2023-01-02</td>\n",
       "      <td>2023-01-08</td>\n",
       "      <td>Week</td>\n",
       "      <td>s_credo_score</td>\n",
       "      <td>1.1.0</td>\n",
       "      <td>FPD10</td>\n",
       "      <td>0.248978</td>\n",
       "      <td>NaN</td>\n",
       "      <td>NaN</td>\n",
       "      <td>NaN</td>\n",
       "    </tr>\n",
       "    <tr>\n",
       "      <th>2</th>\n",
       "      <td>2023-01-09</td>\n",
       "      <td>2023-01-15</td>\n",
       "      <td>Week</td>\n",
       "      <td>s_credo_score</td>\n",
       "      <td>1.1.0</td>\n",
       "      <td>FPD10</td>\n",
       "      <td>0.296337</td>\n",
       "      <td>NaN</td>\n",
       "      <td>NaN</td>\n",
       "      <td>NaN</td>\n",
       "    </tr>\n",
       "    <tr>\n",
       "      <th>3</th>\n",
       "      <td>2023-01-16</td>\n",
       "      <td>2023-01-22</td>\n",
       "      <td>Week</td>\n",
       "      <td>s_credo_score</td>\n",
       "      <td>1.1.0</td>\n",
       "      <td>FPD10</td>\n",
       "      <td>0.529870</td>\n",
       "      <td>NaN</td>\n",
       "      <td>NaN</td>\n",
       "      <td>NaN</td>\n",
       "    </tr>\n",
       "    <tr>\n",
       "      <th>4</th>\n",
       "      <td>2023-01-23</td>\n",
       "      <td>2023-01-29</td>\n",
       "      <td>Week</td>\n",
       "      <td>s_credo_score</td>\n",
       "      <td>1.1.0</td>\n",
       "      <td>FPD10</td>\n",
       "      <td>0.079585</td>\n",
       "      <td>NaN</td>\n",
       "      <td>NaN</td>\n",
       "      <td>NaN</td>\n",
       "    </tr>\n",
       "  </tbody>\n",
       "</table>\n",
       "</div>"
      ],
      "text/plain": [
       "  start_date   end_date period     Model_Name version bad_rate  \\\n",
       "0 2023-01-01 2023-01-31  Month  s_credo_score   1.1.0    FPD10   \n",
       "1 2023-01-02 2023-01-08   Week  s_credo_score   1.1.0    FPD10   \n",
       "2 2023-01-09 2023-01-15   Week  s_credo_score   1.1.0    FPD10   \n",
       "3 2023-01-16 2023-01-22   Week  s_credo_score   1.1.0    FPD10   \n",
       "4 2023-01-23 2023-01-29   Week  s_credo_score   1.1.0    FPD10   \n",
       "\n",
       "   s_credo_score_FPD10_gini  s_credo_score_FPD30_gini  \\\n",
       "0                  0.230181                       NaN   \n",
       "1                  0.248978                       NaN   \n",
       "2                  0.296337                       NaN   \n",
       "3                  0.529870                       NaN   \n",
       "4                  0.079585                       NaN   \n",
       "\n",
       "   s_credo_score_FSPD30_gini  s_credo_score_FSTPD30_gini  \n",
       "0                        NaN                         NaN  \n",
       "1                        NaN                         NaN  \n",
       "2                        NaN                         NaN  \n",
       "3                        NaN                         NaN  \n",
       "4                        NaN                         NaN  "
      ]
     },
     "execution_count": 129,
     "metadata": {},
     "output_type": "execute_result"
    }
   ],
   "source": [
    "final_df.head()"
   ]
  },
  {
   "cell_type": "markdown",
   "metadata": {},
   "source": [
    "# fu_credo_score"
   ]
  },
  {
   "cell_type": "code",
   "execution_count": 130,
   "metadata": {},
   "outputs": [
    {
     "name": "stdout",
     "output_type": "stream",
     "text": [
      "Job ID 40c4da86-c40c-4b1e-9af6-602b6ce1b0ca successfully executed: 100%|\u001b[32m██████████\u001b[0m|"
     ]
    },
    {
     "name": "stderr",
     "output_type": "stream",
     "text": [
      "d:\\Anaconda3\\envs\\inc_env\\lib\\site-packages\\google\\cloud\\bigquery\\table.py:1820: UserWarning: BigQuery Storage module not found, fetch data with the REST endpoint instead.\n",
      "  warnings.warn(\n"
     ]
    },
    {
     "name": "stdout",
     "output_type": "stream",
     "text": [
      "\n",
      "Downloading: 100%|\u001b[32m██████████\u001b[0m|\n",
      "The shape of dataframe after copy is:\t(132, 7)\n",
      "Job ID 32d32bcb-7bb1-4026-8258-c21d0f752fbb successfully executed: 100%|\u001b[32m██████████\u001b[0m|"
     ]
    },
    {
     "name": "stderr",
     "output_type": "stream",
     "text": [
      "d:\\Anaconda3\\envs\\inc_env\\lib\\site-packages\\google\\cloud\\bigquery\\table.py:1820: UserWarning: BigQuery Storage module not found, fetch data with the REST endpoint instead.\n",
      "  warnings.warn(\n"
     ]
    },
    {
     "name": "stdout",
     "output_type": "stream",
     "text": [
      "\n",
      "Downloading: 100%|\u001b[32m██████████\u001b[0m|\n",
      "The shape of dataframe after copy is:\t(128, 7)\n",
      "Job ID da76cdf2-fbb4-40b7-ad71-e32722922b3d successfully executed: 100%|\u001b[32m██████████\u001b[0m|"
     ]
    },
    {
     "name": "stderr",
     "output_type": "stream",
     "text": [
      "d:\\Anaconda3\\envs\\inc_env\\lib\\site-packages\\google\\cloud\\bigquery\\table.py:1820: UserWarning: BigQuery Storage module not found, fetch data with the REST endpoint instead.\n",
      "  warnings.warn(\n"
     ]
    },
    {
     "name": "stdout",
     "output_type": "stream",
     "text": [
      "\n",
      "Downloading: 100%|\u001b[32m██████████\u001b[0m|\n",
      "     disbursementdate                  digitalLoanAccountId  fu_credo_score  \\\n",
      "0 2023-01-02 10:19:54  73902306-ce07-4625-9d1e-a611eeb83166        0.096835   \n",
      "1 2023-01-02 12:28:35  92a04afd-ec2e-4941-a1be-0e3af52aab1f        0.054208   \n",
      "\n",
      "   ln_fspd30_flag  ln_mature_fspd30_flag  \n",
      "0               0                      1  \n",
      "1               0                      1  \n",
      "The shape of dataframe after copy is:\t(123, 7)\n",
      "['start_date' 'end_date' 'fu_credo_score_FSPD30_gini' 'period'\n",
      " 'Model_Name' 'version' 'bad_rate']\n",
      "Job ID a83063f0-92df-400f-a8c8-aaca46438169 successfully executed: 100%|\u001b[32m██████████\u001b[0m|"
     ]
    },
    {
     "name": "stderr",
     "output_type": "stream",
     "text": [
      "d:\\Anaconda3\\envs\\inc_env\\lib\\site-packages\\google\\cloud\\bigquery\\table.py:1820: UserWarning: BigQuery Storage module not found, fetch data with the REST endpoint instead.\n",
      "  warnings.warn(\n"
     ]
    },
    {
     "name": "stdout",
     "output_type": "stream",
     "text": [
      "\n",
      "Downloading: 100%|\u001b[32m██████████\u001b[0m|\n",
      "     disbursementdate                  digitalLoanAccountId  fu_credo_score  \\\n",
      "0 2023-01-02 10:19:54  73902306-ce07-4625-9d1e-a611eeb83166        0.096835   \n",
      "1 2023-01-02 12:28:35  92a04afd-ec2e-4941-a1be-0e3af52aab1f        0.054208   \n",
      "\n",
      "   ln_fstpd30_flag  ln_mature_fstpd30_flag  \n",
      "0                0                       1  \n",
      "1                0                       1  \n",
      "The shape of dataframe after copy is:\t(117, 7)\n",
      "['start_date' 'end_date' 'fu_credo_score_FSTPD30_gini' 'period'\n",
      " 'Model_Name' 'version' 'bad_rate']\n"
     ]
    },
    {
     "data": {
      "application/vnd.microsoft.datawrangler.viewer.v0+json": {
       "columns": [
        {
         "name": "index",
         "rawType": "int64",
         "type": "integer"
        },
        {
         "name": "start_date",
         "rawType": "datetime64[ns]",
         "type": "datetime"
        },
        {
         "name": "end_date",
         "rawType": "datetime64[ns]",
         "type": "datetime"
        },
        {
         "name": "fu_credo_score_FSTPD30_gini",
         "rawType": "float64",
         "type": "float"
        },
        {
         "name": "period",
         "rawType": "object",
         "type": "string"
        },
        {
         "name": "Model_Name",
         "rawType": "object",
         "type": "string"
        },
        {
         "name": "version",
         "rawType": "object",
         "type": "string"
        },
        {
         "name": "bad_rate",
         "rawType": "object",
         "type": "string"
        }
       ],
       "conversionMethod": "pd.DataFrame",
       "ref": "147c42ec-9621-4b06-ace7-74bbcdbc670a",
       "rows": [
        [
         "0",
         "2023-01-01 00:00:00",
         "2023-01-31 00:00:00",
         "0.07286036704876153",
         "Month",
         "fu_credo_score",
         "1.1.0",
         "FSTPD30"
        ],
        [
         "1",
         "2023-01-02 00:00:00",
         "2023-01-08 00:00:00",
         "0.0021645021645022577",
         "Week",
         "fu_credo_score",
         "1.1.0",
         "FSTPD30"
        ],
        [
         "2",
         "2023-01-09 00:00:00",
         "2023-01-15 00:00:00",
         "0.05667412378821779",
         "Week",
         "fu_credo_score",
         "1.1.0",
         "FSTPD30"
        ],
        [
         "3",
         "2023-01-16 00:00:00",
         "2023-01-22 00:00:00",
         "0.3264291632145815",
         "Week",
         "fu_credo_score",
         "1.1.0",
         "FSTPD30"
        ],
        [
         "4",
         "2023-01-23 00:00:00",
         "2023-01-29 00:00:00",
         "0.10993533215755424",
         "Week",
         "fu_credo_score",
         "1.1.0",
         "FSTPD30"
        ]
       ],
       "shape": {
        "columns": 7,
        "rows": 5
       }
      },
      "text/html": [
       "<div>\n",
       "<style scoped>\n",
       "    .dataframe tbody tr th:only-of-type {\n",
       "        vertical-align: middle;\n",
       "    }\n",
       "\n",
       "    .dataframe tbody tr th {\n",
       "        vertical-align: top;\n",
       "    }\n",
       "\n",
       "    .dataframe thead th {\n",
       "        text-align: right;\n",
       "    }\n",
       "</style>\n",
       "<table border=\"1\" class=\"dataframe\">\n",
       "  <thead>\n",
       "    <tr style=\"text-align: right;\">\n",
       "      <th></th>\n",
       "      <th>start_date</th>\n",
       "      <th>end_date</th>\n",
       "      <th>fu_credo_score_FSTPD30_gini</th>\n",
       "      <th>period</th>\n",
       "      <th>Model_Name</th>\n",
       "      <th>version</th>\n",
       "      <th>bad_rate</th>\n",
       "    </tr>\n",
       "  </thead>\n",
       "  <tbody>\n",
       "    <tr>\n",
       "      <th>0</th>\n",
       "      <td>2023-01-01</td>\n",
       "      <td>2023-01-31</td>\n",
       "      <td>0.072860</td>\n",
       "      <td>Month</td>\n",
       "      <td>fu_credo_score</td>\n",
       "      <td>1.1.0</td>\n",
       "      <td>FSTPD30</td>\n",
       "    </tr>\n",
       "    <tr>\n",
       "      <th>1</th>\n",
       "      <td>2023-01-02</td>\n",
       "      <td>2023-01-08</td>\n",
       "      <td>0.002165</td>\n",
       "      <td>Week</td>\n",
       "      <td>fu_credo_score</td>\n",
       "      <td>1.1.0</td>\n",
       "      <td>FSTPD30</td>\n",
       "    </tr>\n",
       "    <tr>\n",
       "      <th>2</th>\n",
       "      <td>2023-01-09</td>\n",
       "      <td>2023-01-15</td>\n",
       "      <td>0.056674</td>\n",
       "      <td>Week</td>\n",
       "      <td>fu_credo_score</td>\n",
       "      <td>1.1.0</td>\n",
       "      <td>FSTPD30</td>\n",
       "    </tr>\n",
       "    <tr>\n",
       "      <th>3</th>\n",
       "      <td>2023-01-16</td>\n",
       "      <td>2023-01-22</td>\n",
       "      <td>0.326429</td>\n",
       "      <td>Week</td>\n",
       "      <td>fu_credo_score</td>\n",
       "      <td>1.1.0</td>\n",
       "      <td>FSTPD30</td>\n",
       "    </tr>\n",
       "    <tr>\n",
       "      <th>4</th>\n",
       "      <td>2023-01-23</td>\n",
       "      <td>2023-01-29</td>\n",
       "      <td>0.109935</td>\n",
       "      <td>Week</td>\n",
       "      <td>fu_credo_score</td>\n",
       "      <td>1.1.0</td>\n",
       "      <td>FSTPD30</td>\n",
       "    </tr>\n",
       "  </tbody>\n",
       "</table>\n",
       "</div>"
      ],
      "text/plain": [
       "  start_date   end_date  fu_credo_score_FSTPD30_gini period      Model_Name  \\\n",
       "0 2023-01-01 2023-01-31                     0.072860  Month  fu_credo_score   \n",
       "1 2023-01-02 2023-01-08                     0.002165   Week  fu_credo_score   \n",
       "2 2023-01-09 2023-01-15                     0.056674   Week  fu_credo_score   \n",
       "3 2023-01-16 2023-01-22                     0.326429   Week  fu_credo_score   \n",
       "4 2023-01-23 2023-01-29                     0.109935   Week  fu_credo_score   \n",
       "\n",
       "  version bad_rate  \n",
       "0   1.1.0  FSTPD30  \n",
       "1   1.1.0  FSTPD30  \n",
       "2   1.1.0  FSTPD30  \n",
       "3   1.1.0  FSTPD30  \n",
       "4   1.1.0  FSTPD30  "
      ]
     },
     "execution_count": 130,
     "metadata": {},
     "output_type": "execute_result"
    }
   ],
   "source": [
    "\n",
    "\n",
    "sq = \"\"\"\n",
    "with fu_credo_score as \n",
    "(SELECT \n",
    "    ln_disb_dtime disbursementdate,\n",
    "\tdigitalLoanAccountId,\n",
    "    fu_credo_score,\n",
    "    ln_fpd10_flag,\n",
    "\tln_mature_fpd10_flag,\t\n",
    "\tFROM \n",
    "    prj-prod-dataplatform.risk_mart.sil_risk_ds_master_20230101_20250206\n",
    "  WHERE \n",
    "     -- ln_disb_dtime >= '2023-07-01'\n",
    "    ln_appln_submit_datetime >= '2023-01-01'\n",
    "  -- AND\n",
    "  --   format_date('%Y-%m', ln_disb_dtime) = '2024-09'\n",
    "  AND\n",
    "    ln_fpd10_flag is not null\n",
    "  AND\n",
    "    fu_credo_score is not null\n",
    "  AND\n",
    "    ln_mature_fpd10_flag = 1\n",
    ")\n",
    "select * from fu_credo_score;\n",
    "\"\"\"\n",
    "\n",
    "fu_credo_scorefpd10 = client.query(sq).to_dataframe(progress_bar_type='tqdm')\n",
    "\n",
    "fu_credo_scorefpd10.head()\n",
    "\n",
    "gini_results = calculate_periodic_gini(fu_credo_scorefpd10, 'fu_credo_score', 'ln_fpd10_flag', 'FPD10')\n",
    "M1FPD10 = gini_results.copy()\n",
    "print(f\"The shape of dataframe after copy is:\\t{M1FPD10.shape}\")\n",
    "M1FPD10.columns.values\n",
    "\n",
    "# FPD30\n",
    "\n",
    "sq = \"\"\"\n",
    "with fu_credo_score as \n",
    "(SELECT \n",
    "    ln_disb_dtime disbursementdate,\n",
    "\tdigitalLoanAccountId,\n",
    "    fu_credo_score,\n",
    "    ln_fpd30_flag,\n",
    "\tln_mature_fpd30_flag,\t\n",
    "\tFROM \n",
    "    prj-prod-dataplatform.risk_mart.sil_risk_ds_master_20230101_20250206\n",
    "  WHERE \n",
    "     -- ln_disb_dtime >= '2023-07-01'\n",
    "    ln_appln_submit_datetime >= '2023-01-01'\n",
    "  -- AND\n",
    "  --   format_date('%Y-%m', ln_disb_dtime) = '2024-09'\n",
    "  AND\n",
    "    ln_fpd30_flag is not null\n",
    "  AND\n",
    "    fu_credo_score is not null\n",
    "  AND\n",
    "    ln_mature_fpd30_flag = 1\n",
    ")\n",
    "select * from fu_credo_score;\n",
    "\"\"\"\n",
    "\n",
    "fu_credo_scorefpd30 = client.query(sq).to_dataframe(progress_bar_type='tqdm')\n",
    "\n",
    "fu_credo_scorefpd30.head()\n",
    "\n",
    "gini_results = calculate_periodic_gini(fu_credo_scorefpd30, 'fu_credo_score', 'ln_fpd30_flag', 'FPD30')\n",
    "M2FPD30 = gini_results.copy()\n",
    "print(f\"The shape of dataframe after copy is:\\t{M2FPD30.shape}\")\n",
    "M2FPD30.columns.values\n",
    "\n",
    "sq = \"\"\"\n",
    "with fu_credo_score as \n",
    "(SELECT \n",
    "    ln_disb_dtime disbursementdate,\n",
    "\tdigitalLoanAccountId,\n",
    "    fu_credo_score,\n",
    "    ln_fspd30_flag,\n",
    "\tln_mature_fspd30_flag,\t\n",
    "\tFROM \n",
    "    prj-prod-dataplatform.risk_mart.sil_risk_ds_master_20230101_20250206\n",
    "  WHERE \n",
    "     -- ln_disb_dtime >= '2023-07-01'\n",
    "    ln_appln_submit_datetime >= '2023-01-01'\n",
    "  -- AND\n",
    "  --   format_date('%Y-%m', ln_disb_dtime) = '2024-09'\n",
    "  AND\n",
    "    ln_fspd30_flag is not null\n",
    "  AND\n",
    "    fu_credo_score is not null\n",
    "  AND\n",
    "    ln_mature_fspd30_flag = 1\n",
    ")\n",
    "select * from fu_credo_score;\n",
    "\"\"\"\n",
    "\n",
    "fu_credo_scorefspd30 = client.query(sq).to_dataframe(progress_bar_type='tqdm')\n",
    "\n",
    "print(fu_credo_scorefspd30.head(2))\n",
    "\n",
    "gini_results = calculate_periodic_gini(fu_credo_scorefspd30, 'fu_credo_score', 'ln_fspd30_flag', 'FSPD30')\n",
    "M3FSPD30 = gini_results.copy()\n",
    "print(f\"The shape of dataframe after copy is:\\t{M3FSPD30.shape}\")\n",
    "print(M3FSPD30.columns.values)\n",
    "\n",
    "M3FSPD30.head()\n",
    "\n",
    "sq = \"\"\"\n",
    "with fu_credo_score as \n",
    "(SELECT \n",
    "    ln_disb_dtime disbursementdate,\n",
    "\tdigitalLoanAccountId,\n",
    "    fu_credo_score,\n",
    "    ln_fstpd30_flag,\n",
    "\tln_mature_fstpd30_flag,\t\n",
    "\tFROM \n",
    "    prj-prod-dataplatform.risk_mart.sil_risk_ds_master_20230101_20250206\n",
    "  WHERE \n",
    "     -- ln_disb_dtime >= '2023-07-01'\n",
    "    ln_appln_submit_datetime >= '2023-01-01'\n",
    "  -- AND\n",
    "  --   format_date('%Y-%m', ln_disb_dtime) = '2024-09'\n",
    "  AND\n",
    "    ln_fstpd30_flag is not null\n",
    "  AND\n",
    "    fu_credo_score is not null\n",
    "  AND\n",
    "    ln_mature_fstpd30_flag = 1\n",
    ")\n",
    "select * from fu_credo_score;\n",
    "\"\"\"\n",
    "\n",
    "fu_credo_scorefstpd30 = client.query(sq).to_dataframe(progress_bar_type='tqdm')\n",
    "\n",
    "print(fu_credo_scorefstpd30.head(2))\n",
    "\n",
    "gini_results = calculate_periodic_gini(fu_credo_scorefstpd30, 'fu_credo_score', 'ln_fstpd30_flag', 'FSTPD30')\n",
    "M4FSTPD30 = gini_results.copy()\n",
    "print(f\"The shape of dataframe after copy is:\\t{M4FSTPD30.shape}\")\n",
    "print(M4FSTPD30.columns.values)\n",
    "\n",
    "M4FSTPD30.head()\n",
    "\n"
   ]
  },
  {
   "cell_type": "code",
   "execution_count": null,
   "metadata": {},
   "outputs": [],
   "source": []
  },
  {
   "cell_type": "markdown",
   "metadata": {},
   "source": [
    "## Combining data"
   ]
  },
  {
   "cell_type": "code",
   "execution_count": 131,
   "metadata": {},
   "outputs": [
    {
     "data": {
      "text/plain": [
       "array(['start_date', 'end_date', 'fu_credo_score_FPD10_gini', 'period',\n",
       "       'Model_Name', 'version', 'bad_rate', 'fu_credo_score_FPD30_gini',\n",
       "       'fu_credo_score_FSPD30_gini', 'fu_credo_score_FSTPD30_gini'],\n",
       "      dtype=object)"
      ]
     },
     "execution_count": 131,
     "metadata": {},
     "output_type": "execute_result"
    }
   ],
   "source": [
    "import functools\n",
    "\n",
    "dataframes = [M1FPD10, M2FPD30, M3FSPD30, M4FSTPD30]\n",
    "common_columns = ['start_date', 'end_date', 'period', 'Model_Name','version', 'bad_rate']\n",
    "\n",
    "def merge_dataframes(df1, df2):\n",
    "    return pd.merge(df1, df2, on=common_columns, how='outer')\n",
    "\n",
    "final_df = functools.reduce(merge_dataframes, dataframes)\n",
    "\n",
    "final_df.columns.values"
   ]
  },
  {
   "cell_type": "code",
   "execution_count": 132,
   "metadata": {},
   "outputs": [],
   "source": [
    "final_df = final_df[['start_date', 'end_date','period',    'Model_Name', 'version', 'bad_rate','fu_credo_score_FPD10_gini', 'fu_credo_score_FPD30_gini',    'fu_credo_score_FSPD30_gini', 'fu_credo_score_FSTPD30_gini']].copy()"
   ]
  },
  {
   "cell_type": "code",
   "execution_count": 133,
   "metadata": {},
   "outputs": [
    {
     "data": {
      "text/plain": [
       "QueryJob<project=prj-prod-dataplatform, location=asia-southeast1, id=20bf236a-67f4-4991-8a63-065b40869100>"
      ]
     },
     "execution_count": 133,
     "metadata": {},
     "output_type": "execute_result"
    }
   ],
   "source": [
    "sq = \"\"\"drop table if exists prj-prod-dataplatform.dap_ds_poweruser_playground.Model_gini_fu_credo_score\"\"\"\n",
    "client.query(sq)"
   ]
  },
  {
   "cell_type": "code",
   "execution_count": 134,
   "metadata": {},
   "outputs": [
    {
     "data": {
      "text/plain": [
       "LoadJob<project=prj-prod-dataplatform, location=asia-southeast1, id=a2a2ae3e-d4ce-47b1-a142-5249dd5421c6>"
      ]
     },
     "execution_count": 134,
     "metadata": {},
     "output_type": "execute_result"
    }
   ],
   "source": [
    "import pandas as pd\n",
    "from google.cloud import bigquery\n",
    "\n",
    "# Create a BigQuery client\n",
    "client = bigquery.Client('prj-prod-dataplatform')\n",
    "\n",
    "# Define your table schema\n",
    "table_schema = [\n",
    "    bigquery.SchemaField('start_date', 'TIMESTAMP'),\n",
    "    bigquery.SchemaField('end_date', 'TIMESTAMP'),\n",
    "    bigquery.SchemaField('period', 'STRING'),\n",
    "    bigquery.SchemaField('Model_Name', 'STRING'),\n",
    "    bigquery.SchemaField('version', 'STRING'),\n",
    "    bigquery.SchemaField('Badrate', 'STRING'),\n",
    "    bigquery.SchemaField('fu_credo_score_FPD10_gini', 'FLOAT'),\n",
    "    bigquery.SchemaField('fu_credo_score_FPD30_gini', 'FLOAT'),    \n",
    "    bigquery.SchemaField('fu_credo_score_FSPD30_gini', 'FLOAT'),\n",
    "    bigquery.SchemaField('fu_credo_score_FSTPD30_gini', 'FLOAT')\n",
    "    \n",
    "]\n",
    "\n",
    "# Create your BigQuery table\n",
    "table_id = 'prj-prod-dataplatform.dap_ds_poweruser_playground.Model_gini_fu_credo_score'\n",
    "table = bigquery.Table(table_id, schema=table_schema)\n",
    "table = client.create_table(table)\n",
    "\n",
    "# Load your DataFrame into BigQuery\n",
    "job_config = bigquery.LoadJobConfig(\n",
    "    write_disposition='WRITE_TRUNCATE'\n",
    ")\n",
    "\n",
    "load_job = client.load_table_from_dataframe(\n",
    "    final_df, table_id, job_config=job_config\n",
    ")\n",
    "\n",
    "load_job.result()"
   ]
  },
  {
   "cell_type": "code",
   "execution_count": 135,
   "metadata": {},
   "outputs": [
    {
     "data": {
      "application/vnd.microsoft.datawrangler.viewer.v0+json": {
       "columns": [
        {
         "name": "index",
         "rawType": "int64",
         "type": "integer"
        },
        {
         "name": "start_date",
         "rawType": "datetime64[ns]",
         "type": "datetime"
        },
        {
         "name": "end_date",
         "rawType": "datetime64[ns]",
         "type": "datetime"
        },
        {
         "name": "period",
         "rawType": "object",
         "type": "string"
        },
        {
         "name": "Model_Name",
         "rawType": "object",
         "type": "string"
        },
        {
         "name": "version",
         "rawType": "object",
         "type": "string"
        },
        {
         "name": "bad_rate",
         "rawType": "object",
         "type": "string"
        },
        {
         "name": "fu_credo_score_FPD10_gini",
         "rawType": "float64",
         "type": "float"
        },
        {
         "name": "fu_credo_score_FPD30_gini",
         "rawType": "float64",
         "type": "float"
        },
        {
         "name": "fu_credo_score_FSPD30_gini",
         "rawType": "float64",
         "type": "float"
        },
        {
         "name": "fu_credo_score_FSTPD30_gini",
         "rawType": "float64",
         "type": "float"
        }
       ],
       "conversionMethod": "pd.DataFrame",
       "ref": "bb582a1f-7fdd-4e63-a7b0-a5af4ee8d539",
       "rows": [
        [
         "0",
         "2023-01-01 00:00:00",
         "2023-01-31 00:00:00",
         "Month",
         "fu_credo_score",
         "1.1.0",
         "FPD10",
         "0.023608316566062992",
         null,
         null,
         null
        ],
        [
         "1",
         "2023-01-02 00:00:00",
         "2023-01-08 00:00:00",
         "Week",
         "fu_credo_score",
         "1.1.0",
         "FPD10",
         "-0.03246421267893651",
         null,
         null,
         null
        ],
        [
         "2",
         "2023-01-09 00:00:00",
         "2023-01-15 00:00:00",
         "Week",
         "fu_credo_score",
         "1.1.0",
         "FPD10",
         "0.016278209396966226",
         null,
         null,
         null
        ],
        [
         "3",
         "2023-01-16 00:00:00",
         "2023-01-22 00:00:00",
         "Week",
         "fu_credo_score",
         "1.1.0",
         "FPD10",
         "0.1532467532467532",
         null,
         null,
         null
        ],
        [
         "4",
         "2023-01-23 00:00:00",
         "2023-01-29 00:00:00",
         "Week",
         "fu_credo_score",
         "1.1.0",
         "FPD10",
         "0.12024221453287187",
         null,
         null,
         null
        ]
       ],
       "shape": {
        "columns": 10,
        "rows": 5
       }
      },
      "text/html": [
       "<div>\n",
       "<style scoped>\n",
       "    .dataframe tbody tr th:only-of-type {\n",
       "        vertical-align: middle;\n",
       "    }\n",
       "\n",
       "    .dataframe tbody tr th {\n",
       "        vertical-align: top;\n",
       "    }\n",
       "\n",
       "    .dataframe thead th {\n",
       "        text-align: right;\n",
       "    }\n",
       "</style>\n",
       "<table border=\"1\" class=\"dataframe\">\n",
       "  <thead>\n",
       "    <tr style=\"text-align: right;\">\n",
       "      <th></th>\n",
       "      <th>start_date</th>\n",
       "      <th>end_date</th>\n",
       "      <th>period</th>\n",
       "      <th>Model_Name</th>\n",
       "      <th>version</th>\n",
       "      <th>bad_rate</th>\n",
       "      <th>fu_credo_score_FPD10_gini</th>\n",
       "      <th>fu_credo_score_FPD30_gini</th>\n",
       "      <th>fu_credo_score_FSPD30_gini</th>\n",
       "      <th>fu_credo_score_FSTPD30_gini</th>\n",
       "    </tr>\n",
       "  </thead>\n",
       "  <tbody>\n",
       "    <tr>\n",
       "      <th>0</th>\n",
       "      <td>2023-01-01</td>\n",
       "      <td>2023-01-31</td>\n",
       "      <td>Month</td>\n",
       "      <td>fu_credo_score</td>\n",
       "      <td>1.1.0</td>\n",
       "      <td>FPD10</td>\n",
       "      <td>0.023608</td>\n",
       "      <td>NaN</td>\n",
       "      <td>NaN</td>\n",
       "      <td>NaN</td>\n",
       "    </tr>\n",
       "    <tr>\n",
       "      <th>1</th>\n",
       "      <td>2023-01-02</td>\n",
       "      <td>2023-01-08</td>\n",
       "      <td>Week</td>\n",
       "      <td>fu_credo_score</td>\n",
       "      <td>1.1.0</td>\n",
       "      <td>FPD10</td>\n",
       "      <td>-0.032464</td>\n",
       "      <td>NaN</td>\n",
       "      <td>NaN</td>\n",
       "      <td>NaN</td>\n",
       "    </tr>\n",
       "    <tr>\n",
       "      <th>2</th>\n",
       "      <td>2023-01-09</td>\n",
       "      <td>2023-01-15</td>\n",
       "      <td>Week</td>\n",
       "      <td>fu_credo_score</td>\n",
       "      <td>1.1.0</td>\n",
       "      <td>FPD10</td>\n",
       "      <td>0.016278</td>\n",
       "      <td>NaN</td>\n",
       "      <td>NaN</td>\n",
       "      <td>NaN</td>\n",
       "    </tr>\n",
       "    <tr>\n",
       "      <th>3</th>\n",
       "      <td>2023-01-16</td>\n",
       "      <td>2023-01-22</td>\n",
       "      <td>Week</td>\n",
       "      <td>fu_credo_score</td>\n",
       "      <td>1.1.0</td>\n",
       "      <td>FPD10</td>\n",
       "      <td>0.153247</td>\n",
       "      <td>NaN</td>\n",
       "      <td>NaN</td>\n",
       "      <td>NaN</td>\n",
       "    </tr>\n",
       "    <tr>\n",
       "      <th>4</th>\n",
       "      <td>2023-01-23</td>\n",
       "      <td>2023-01-29</td>\n",
       "      <td>Week</td>\n",
       "      <td>fu_credo_score</td>\n",
       "      <td>1.1.0</td>\n",
       "      <td>FPD10</td>\n",
       "      <td>0.120242</td>\n",
       "      <td>NaN</td>\n",
       "      <td>NaN</td>\n",
       "      <td>NaN</td>\n",
       "    </tr>\n",
       "  </tbody>\n",
       "</table>\n",
       "</div>"
      ],
      "text/plain": [
       "  start_date   end_date period      Model_Name version bad_rate  \\\n",
       "0 2023-01-01 2023-01-31  Month  fu_credo_score   1.1.0    FPD10   \n",
       "1 2023-01-02 2023-01-08   Week  fu_credo_score   1.1.0    FPD10   \n",
       "2 2023-01-09 2023-01-15   Week  fu_credo_score   1.1.0    FPD10   \n",
       "3 2023-01-16 2023-01-22   Week  fu_credo_score   1.1.0    FPD10   \n",
       "4 2023-01-23 2023-01-29   Week  fu_credo_score   1.1.0    FPD10   \n",
       "\n",
       "   fu_credo_score_FPD10_gini  fu_credo_score_FPD30_gini  \\\n",
       "0                   0.023608                        NaN   \n",
       "1                  -0.032464                        NaN   \n",
       "2                   0.016278                        NaN   \n",
       "3                   0.153247                        NaN   \n",
       "4                   0.120242                        NaN   \n",
       "\n",
       "   fu_credo_score_FSPD30_gini  fu_credo_score_FSTPD30_gini  \n",
       "0                         NaN                          NaN  \n",
       "1                         NaN                          NaN  \n",
       "2                         NaN                          NaN  \n",
       "3                         NaN                          NaN  \n",
       "4                         NaN                          NaN  "
      ]
     },
     "execution_count": 135,
     "metadata": {},
     "output_type": "execute_result"
    }
   ],
   "source": [
    "final_df.head()"
   ]
  },
  {
   "cell_type": "markdown",
   "metadata": {},
   "source": [
    "# r_credo_score"
   ]
  },
  {
   "cell_type": "code",
   "execution_count": 136,
   "metadata": {},
   "outputs": [
    {
     "name": "stdout",
     "output_type": "stream",
     "text": [
      "Job ID 6b0fcbce-c385-48fc-86d5-577fd00ce285 successfully executed: 100%|\u001b[32m██████████\u001b[0m|"
     ]
    },
    {
     "name": "stderr",
     "output_type": "stream",
     "text": [
      "d:\\Anaconda3\\envs\\inc_env\\lib\\site-packages\\google\\cloud\\bigquery\\table.py:1820: UserWarning: BigQuery Storage module not found, fetch data with the REST endpoint instead.\n",
      "  warnings.warn(\n"
     ]
    },
    {
     "name": "stdout",
     "output_type": "stream",
     "text": [
      "\n",
      "Downloading: 100%|\u001b[32m██████████\u001b[0m|\n",
      "The shape of dataframe after copy is:\t(132, 7)\n",
      "Job ID 5984e31d-cb56-4adc-b9b5-4cd98ee91985 successfully executed: 100%|\u001b[32m██████████\u001b[0m|"
     ]
    },
    {
     "name": "stderr",
     "output_type": "stream",
     "text": [
      "d:\\Anaconda3\\envs\\inc_env\\lib\\site-packages\\google\\cloud\\bigquery\\table.py:1820: UserWarning: BigQuery Storage module not found, fetch data with the REST endpoint instead.\n",
      "  warnings.warn(\n"
     ]
    },
    {
     "name": "stdout",
     "output_type": "stream",
     "text": [
      "\n",
      "Downloading: 100%|\u001b[32m██████████\u001b[0m|\n",
      "The shape of dataframe after copy is:\t(128, 7)\n",
      "Job ID 3405559a-2ba5-4ccc-9401-f2c7779aa1ba successfully executed: 100%|\u001b[32m██████████\u001b[0m|"
     ]
    },
    {
     "name": "stderr",
     "output_type": "stream",
     "text": [
      "d:\\Anaconda3\\envs\\inc_env\\lib\\site-packages\\google\\cloud\\bigquery\\table.py:1820: UserWarning: BigQuery Storage module not found, fetch data with the REST endpoint instead.\n",
      "  warnings.warn(\n"
     ]
    },
    {
     "name": "stdout",
     "output_type": "stream",
     "text": [
      "\n",
      "Downloading: 100%|\u001b[32m██████████\u001b[0m|\n",
      "     disbursementdate                  digitalLoanAccountId  r_credo_score  \\\n",
      "0 2023-01-02 10:56:20  ac41223e-0d42-4569-b21f-789bce021291       0.328053   \n",
      "1 2023-01-02 11:39:36  d438dd4f-4c6c-44b5-ba83-58585ba8530a       0.150079   \n",
      "\n",
      "   ln_fspd30_flag  ln_mature_fspd30_flag  \n",
      "0               0                      1  \n",
      "1               0                      1  \n",
      "The shape of dataframe after copy is:\t(123, 7)\n",
      "['start_date' 'end_date' 'r_credo_score_FSPD30_gini' 'period' 'Model_Name'\n",
      " 'version' 'bad_rate']\n",
      "Job ID eeaa3b46-f05b-4cc9-9b27-a8d3ec475126 successfully executed: 100%|\u001b[32m██████████\u001b[0m|"
     ]
    },
    {
     "name": "stderr",
     "output_type": "stream",
     "text": [
      "d:\\Anaconda3\\envs\\inc_env\\lib\\site-packages\\google\\cloud\\bigquery\\table.py:1820: UserWarning: BigQuery Storage module not found, fetch data with the REST endpoint instead.\n",
      "  warnings.warn(\n"
     ]
    },
    {
     "name": "stdout",
     "output_type": "stream",
     "text": [
      "\n",
      "Downloading: 100%|\u001b[32m██████████\u001b[0m|\n",
      "     disbursementdate                  digitalLoanAccountId  r_credo_score  \\\n",
      "0 2023-01-02 10:19:54  73902306-ce07-4625-9d1e-a611eeb83166       0.276277   \n",
      "1 2023-01-02 12:28:35  92a04afd-ec2e-4941-a1be-0e3af52aab1f       0.112691   \n",
      "\n",
      "   ln_fstpd30_flag  ln_mature_fstpd30_flag  \n",
      "0                0                       1  \n",
      "1                0                       1  \n",
      "The shape of dataframe after copy is:\t(117, 7)\n",
      "['start_date' 'end_date' 'r_credo_score_FSTPD30_gini' 'period'\n",
      " 'Model_Name' 'version' 'bad_rate']\n"
     ]
    },
    {
     "data": {
      "application/vnd.microsoft.datawrangler.viewer.v0+json": {
       "columns": [
        {
         "name": "index",
         "rawType": "int64",
         "type": "integer"
        },
        {
         "name": "start_date",
         "rawType": "datetime64[ns]",
         "type": "datetime"
        },
        {
         "name": "end_date",
         "rawType": "datetime64[ns]",
         "type": "datetime"
        },
        {
         "name": "r_credo_score_FSTPD30_gini",
         "rawType": "float64",
         "type": "float"
        },
        {
         "name": "period",
         "rawType": "object",
         "type": "string"
        },
        {
         "name": "Model_Name",
         "rawType": "object",
         "type": "string"
        },
        {
         "name": "version",
         "rawType": "object",
         "type": "string"
        },
        {
         "name": "bad_rate",
         "rawType": "object",
         "type": "string"
        }
       ],
       "conversionMethod": "pd.DataFrame",
       "ref": "3a873b17-ee29-4d5e-bed8-71156883fb4d",
       "rows": [
        [
         "0",
         "2023-01-01 00:00:00",
         "2023-01-31 00:00:00",
         "0.0489843796400784",
         "Month",
         "r_credo_score",
         "1.1.0",
         "FSTPD30"
        ],
        [
         "1",
         "2023-01-02 00:00:00",
         "2023-01-08 00:00:00",
         "0.014954742227469398",
         "Week",
         "r_credo_score",
         "1.1.0",
         "FSTPD30"
        ],
        [
         "2",
         "2023-01-09 00:00:00",
         "2023-01-15 00:00:00",
         "0.1938851603281131",
         "Week",
         "r_credo_score",
         "1.1.0",
         "FSTPD30"
        ],
        [
         "3",
         "2023-01-16 00:00:00",
         "2023-01-22 00:00:00",
         "-0.01905550952775481",
         "Week",
         "r_credo_score",
         "1.1.0",
         "FSTPD30"
        ],
        [
         "4",
         "2023-01-23 00:00:00",
         "2023-01-29 00:00:00",
         "0.024691358024691468",
         "Week",
         "r_credo_score",
         "1.1.0",
         "FSTPD30"
        ]
       ],
       "shape": {
        "columns": 7,
        "rows": 5
       }
      },
      "text/html": [
       "<div>\n",
       "<style scoped>\n",
       "    .dataframe tbody tr th:only-of-type {\n",
       "        vertical-align: middle;\n",
       "    }\n",
       "\n",
       "    .dataframe tbody tr th {\n",
       "        vertical-align: top;\n",
       "    }\n",
       "\n",
       "    .dataframe thead th {\n",
       "        text-align: right;\n",
       "    }\n",
       "</style>\n",
       "<table border=\"1\" class=\"dataframe\">\n",
       "  <thead>\n",
       "    <tr style=\"text-align: right;\">\n",
       "      <th></th>\n",
       "      <th>start_date</th>\n",
       "      <th>end_date</th>\n",
       "      <th>r_credo_score_FSTPD30_gini</th>\n",
       "      <th>period</th>\n",
       "      <th>Model_Name</th>\n",
       "      <th>version</th>\n",
       "      <th>bad_rate</th>\n",
       "    </tr>\n",
       "  </thead>\n",
       "  <tbody>\n",
       "    <tr>\n",
       "      <th>0</th>\n",
       "      <td>2023-01-01</td>\n",
       "      <td>2023-01-31</td>\n",
       "      <td>0.048984</td>\n",
       "      <td>Month</td>\n",
       "      <td>r_credo_score</td>\n",
       "      <td>1.1.0</td>\n",
       "      <td>FSTPD30</td>\n",
       "    </tr>\n",
       "    <tr>\n",
       "      <th>1</th>\n",
       "      <td>2023-01-02</td>\n",
       "      <td>2023-01-08</td>\n",
       "      <td>0.014955</td>\n",
       "      <td>Week</td>\n",
       "      <td>r_credo_score</td>\n",
       "      <td>1.1.0</td>\n",
       "      <td>FSTPD30</td>\n",
       "    </tr>\n",
       "    <tr>\n",
       "      <th>2</th>\n",
       "      <td>2023-01-09</td>\n",
       "      <td>2023-01-15</td>\n",
       "      <td>0.193885</td>\n",
       "      <td>Week</td>\n",
       "      <td>r_credo_score</td>\n",
       "      <td>1.1.0</td>\n",
       "      <td>FSTPD30</td>\n",
       "    </tr>\n",
       "    <tr>\n",
       "      <th>3</th>\n",
       "      <td>2023-01-16</td>\n",
       "      <td>2023-01-22</td>\n",
       "      <td>-0.019056</td>\n",
       "      <td>Week</td>\n",
       "      <td>r_credo_score</td>\n",
       "      <td>1.1.0</td>\n",
       "      <td>FSTPD30</td>\n",
       "    </tr>\n",
       "    <tr>\n",
       "      <th>4</th>\n",
       "      <td>2023-01-23</td>\n",
       "      <td>2023-01-29</td>\n",
       "      <td>0.024691</td>\n",
       "      <td>Week</td>\n",
       "      <td>r_credo_score</td>\n",
       "      <td>1.1.0</td>\n",
       "      <td>FSTPD30</td>\n",
       "    </tr>\n",
       "  </tbody>\n",
       "</table>\n",
       "</div>"
      ],
      "text/plain": [
       "  start_date   end_date  r_credo_score_FSTPD30_gini period     Model_Name  \\\n",
       "0 2023-01-01 2023-01-31                    0.048984  Month  r_credo_score   \n",
       "1 2023-01-02 2023-01-08                    0.014955   Week  r_credo_score   \n",
       "2 2023-01-09 2023-01-15                    0.193885   Week  r_credo_score   \n",
       "3 2023-01-16 2023-01-22                   -0.019056   Week  r_credo_score   \n",
       "4 2023-01-23 2023-01-29                    0.024691   Week  r_credo_score   \n",
       "\n",
       "  version bad_rate  \n",
       "0   1.1.0  FSTPD30  \n",
       "1   1.1.0  FSTPD30  \n",
       "2   1.1.0  FSTPD30  \n",
       "3   1.1.0  FSTPD30  \n",
       "4   1.1.0  FSTPD30  "
      ]
     },
     "execution_count": 136,
     "metadata": {},
     "output_type": "execute_result"
    }
   ],
   "source": [
    "\n",
    "\n",
    "sq = \"\"\"\n",
    "with r_credo_score as \n",
    "(SELECT \n",
    "    ln_disb_dtime disbursementdate,\n",
    "\tdigitalLoanAccountId,\n",
    "    r_credo_score,\n",
    "    ln_fpd10_flag,\n",
    "\tln_mature_fpd10_flag,\t\n",
    "\tFROM \n",
    "    prj-prod-dataplatform.risk_mart.sil_risk_ds_master_20230101_20250206\n",
    "  WHERE \n",
    "     -- ln_disb_dtime >= '2023-07-01'\n",
    "    ln_appln_submit_datetime >= '2023-01-01'\n",
    "  -- AND\n",
    "  --   format_date('%Y-%m', ln_disb_dtime) = '2024-09'\n",
    "  AND\n",
    "    ln_fpd10_flag is not null\n",
    "  AND\n",
    "    r_credo_score is not null\n",
    "  AND\n",
    "    ln_mature_fpd10_flag = 1\n",
    ")\n",
    "select * from r_credo_score;\n",
    "\"\"\"\n",
    "\n",
    "r_credo_scorefpd10 = client.query(sq).to_dataframe(progress_bar_type='tqdm')\n",
    "\n",
    "r_credo_scorefpd10.head()\n",
    "\n",
    "gini_results = calculate_periodic_gini(r_credo_scorefpd10, 'r_credo_score', 'ln_fpd10_flag', 'FPD10')\n",
    "M1FPD10 = gini_results.copy()\n",
    "print(f\"The shape of dataframe after copy is:\\t{M1FPD10.shape}\")\n",
    "M1FPD10.columns.values\n",
    "\n",
    "# FPD30\n",
    "\n",
    "sq = \"\"\"\n",
    "with r_credo_score as \n",
    "(SELECT \n",
    "    ln_disb_dtime disbursementdate,\n",
    "\tdigitalLoanAccountId,\n",
    "    r_credo_score,\n",
    "    ln_fpd30_flag,\n",
    "\tln_mature_fpd30_flag,\t\n",
    "\tFROM \n",
    "    prj-prod-dataplatform.risk_mart.sil_risk_ds_master_20230101_20250206\n",
    "  WHERE \n",
    "     -- ln_disb_dtime >= '2023-07-01'\n",
    "    ln_appln_submit_datetime >= '2023-01-01'\n",
    "  -- AND\n",
    "  --   format_date('%Y-%m', ln_disb_dtime) = '2024-09'\n",
    "  AND\n",
    "    ln_fpd30_flag is not null\n",
    "  AND\n",
    "    r_credo_score is not null\n",
    "  AND\n",
    "    ln_mature_fpd30_flag = 1\n",
    ")\n",
    "select * from r_credo_score;\n",
    "\"\"\"\n",
    "\n",
    "r_credo_scorefpd30 = client.query(sq).to_dataframe(progress_bar_type='tqdm')\n",
    "\n",
    "r_credo_scorefpd30.head()\n",
    "\n",
    "gini_results = calculate_periodic_gini(r_credo_scorefpd30, 'r_credo_score', 'ln_fpd30_flag', 'FPD30')\n",
    "M2FPD30 = gini_results.copy()\n",
    "print(f\"The shape of dataframe after copy is:\\t{M2FPD30.shape}\")\n",
    "M2FPD30.columns.values\n",
    "\n",
    "sq = \"\"\"\n",
    "with r_credo_score as \n",
    "(SELECT \n",
    "    ln_disb_dtime disbursementdate,\n",
    "\tdigitalLoanAccountId,\n",
    "    r_credo_score,\n",
    "    ln_fspd30_flag,\n",
    "\tln_mature_fspd30_flag,\t\n",
    "\tFROM \n",
    "    prj-prod-dataplatform.risk_mart.sil_risk_ds_master_20230101_20250206\n",
    "  WHERE \n",
    "     -- ln_disb_dtime >= '2023-07-01'\n",
    "    ln_appln_submit_datetime >= '2023-01-01'\n",
    "  -- AND\n",
    "  --   format_date('%Y-%m', ln_disb_dtime) = '2024-09'\n",
    "  AND\n",
    "    ln_fspd30_flag is not null\n",
    "  AND\n",
    "    r_credo_score is not null\n",
    "  AND\n",
    "    ln_mature_fspd30_flag = 1\n",
    ")\n",
    "select * from r_credo_score;\n",
    "\"\"\"\n",
    "\n",
    "r_credo_scorefspd30 = client.query(sq).to_dataframe(progress_bar_type='tqdm')\n",
    "\n",
    "print(r_credo_scorefspd30.head(2))\n",
    "\n",
    "gini_results = calculate_periodic_gini(r_credo_scorefspd30, 'r_credo_score', 'ln_fspd30_flag', 'FSPD30')\n",
    "M3FSPD30 = gini_results.copy()\n",
    "print(f\"The shape of dataframe after copy is:\\t{M3FSPD30.shape}\")\n",
    "print(M3FSPD30.columns.values)\n",
    "\n",
    "M3FSPD30.head()\n",
    "\n",
    "sq = \"\"\"\n",
    "with r_credo_score as \n",
    "(SELECT \n",
    "    ln_disb_dtime disbursementdate,\n",
    "\tdigitalLoanAccountId,\n",
    "    r_credo_score,\n",
    "    ln_fstpd30_flag,\n",
    "\tln_mature_fstpd30_flag,\t\n",
    "\tFROM \n",
    "    prj-prod-dataplatform.risk_mart.sil_risk_ds_master_20230101_20250206\n",
    "  WHERE \n",
    "     -- ln_disb_dtime >= '2023-07-01'\n",
    "    ln_appln_submit_datetime >= '2023-01-01'\n",
    "  -- AND\n",
    "  --   format_date('%Y-%m', ln_disb_dtime) = '2024-09'\n",
    "  AND\n",
    "    ln_fstpd30_flag is not null\n",
    "  AND\n",
    "    r_credo_score is not null\n",
    "  AND\n",
    "    ln_mature_fstpd30_flag = 1\n",
    ")\n",
    "select * from r_credo_score;\n",
    "\"\"\"\n",
    "\n",
    "r_credo_scorefstpd30 = client.query(sq).to_dataframe(progress_bar_type='tqdm')\n",
    "\n",
    "print(r_credo_scorefstpd30.head(2))\n",
    "\n",
    "gini_results = calculate_periodic_gini(r_credo_scorefstpd30, 'r_credo_score', 'ln_fstpd30_flag', 'FSTPD30')\n",
    "M4FSTPD30 = gini_results.copy()\n",
    "print(f\"The shape of dataframe after copy is:\\t{M4FSTPD30.shape}\")\n",
    "print(M4FSTPD30.columns.values)\n",
    "\n",
    "M4FSTPD30.head()\n",
    "\n"
   ]
  },
  {
   "cell_type": "markdown",
   "metadata": {},
   "source": [
    "## Combining data"
   ]
  },
  {
   "cell_type": "code",
   "execution_count": 137,
   "metadata": {},
   "outputs": [
    {
     "data": {
      "text/plain": [
       "array(['start_date', 'end_date', 'r_credo_score_FPD10_gini', 'period',\n",
       "       'Model_Name', 'version', 'bad_rate', 'r_credo_score_FPD30_gini',\n",
       "       'r_credo_score_FSPD30_gini', 'r_credo_score_FSTPD30_gini'],\n",
       "      dtype=object)"
      ]
     },
     "execution_count": 137,
     "metadata": {},
     "output_type": "execute_result"
    }
   ],
   "source": [
    "import functools\n",
    "\n",
    "dataframes = [M1FPD10, M2FPD30, M3FSPD30, M4FSTPD30]\n",
    "common_columns = ['start_date', 'end_date', 'period', 'Model_Name','version', 'bad_rate']\n",
    "\n",
    "def merge_dataframes(df1, df2):\n",
    "    return pd.merge(df1, df2, on=common_columns, how='outer')\n",
    "\n",
    "final_df = functools.reduce(merge_dataframes, dataframes)\n",
    "\n",
    "final_df.columns.values"
   ]
  },
  {
   "cell_type": "code",
   "execution_count": 138,
   "metadata": {},
   "outputs": [],
   "source": [
    "final_df = final_df[['start_date', 'end_date', 'period',   'Model_Name', 'version', 'bad_rate','r_credo_score_FPD10_gini','r_credo_score_FPD30_gini',    'r_credo_score_FSPD30_gini', 'r_credo_score_FSTPD30_gini']].copy()"
   ]
  },
  {
   "cell_type": "code",
   "execution_count": null,
   "metadata": {},
   "outputs": [],
   "source": []
  },
  {
   "cell_type": "code",
   "execution_count": 139,
   "metadata": {},
   "outputs": [
    {
     "data": {
      "text/plain": [
       "QueryJob<project=prj-prod-dataplatform, location=asia-southeast1, id=0efb9f3a-67e0-42f3-b4b2-507c1172f60b>"
      ]
     },
     "execution_count": 139,
     "metadata": {},
     "output_type": "execute_result"
    }
   ],
   "source": [
    "sq = \"\"\"drop table if exists prj-prod-dataplatform.dap_ds_poweruser_playground.Model_gini_r_credo_score;\"\"\"\n",
    "client.query(sq)"
   ]
  },
  {
   "cell_type": "code",
   "execution_count": 140,
   "metadata": {},
   "outputs": [
    {
     "data": {
      "text/plain": [
       "LoadJob<project=prj-prod-dataplatform, location=asia-southeast1, id=aa912535-0e11-49b3-a586-a94e30c9f374>"
      ]
     },
     "execution_count": 140,
     "metadata": {},
     "output_type": "execute_result"
    }
   ],
   "source": [
    "import pandas as pd\n",
    "from google.cloud import bigquery\n",
    "\n",
    "# Create a BigQuery client\n",
    "client = bigquery.Client('prj-prod-dataplatform')\n",
    "\n",
    "# Define your table schema\n",
    "table_schema = [\n",
    "    bigquery.SchemaField('start_date', 'TIMESTAMP'),\n",
    "    bigquery.SchemaField('end_date', 'TIMESTAMP'),\n",
    "    bigquery.SchemaField('period', 'STRING'),\n",
    "    bigquery.SchemaField('Model_Name', 'STRING'),\n",
    "    bigquery.SchemaField('version', 'STRING'),\n",
    "    bigquery.SchemaField('Badrate', 'STRING'),\n",
    "    bigquery.SchemaField('r_credo_score_FPD10_gini', 'FLOAT'),\n",
    "    bigquery.SchemaField('r_credo_score_FPD30_gini', 'FLOAT'),    \n",
    "    bigquery.SchemaField('r_credo_score_FSPD30_gini', 'FLOAT'),\n",
    "    bigquery.SchemaField('r_credo_score_FSTPD30_gini', 'FLOAT')\n",
    "    \n",
    "]\n",
    "\n",
    "# Create your BigQuery table\n",
    "table_id = 'prj-prod-dataplatform.dap_ds_poweruser_playground.Model_gini_r_credo_score'\n",
    "table = bigquery.Table(table_id, schema=table_schema)\n",
    "table = client.create_table(table)\n",
    "\n",
    "# Load your DataFrame into BigQuery\n",
    "job_config = bigquery.LoadJobConfig(\n",
    "    write_disposition='WRITE_TRUNCATE'\n",
    ")\n",
    "\n",
    "load_job = client.load_table_from_dataframe(\n",
    "    final_df, table_id, job_config=job_config\n",
    ")\n",
    "\n",
    "load_job.result()"
   ]
  },
  {
   "cell_type": "markdown",
   "metadata": {},
   "source": [
    "# old_gen_credo_score"
   ]
  },
  {
   "cell_type": "code",
   "execution_count": 141,
   "metadata": {},
   "outputs": [
    {
     "name": "stdout",
     "output_type": "stream",
     "text": [
      "Job ID 12159e5a-d843-4a35-a522-19f44be1ba1b successfully executed: 100%|\u001b[32m██████████\u001b[0m|"
     ]
    },
    {
     "name": "stderr",
     "output_type": "stream",
     "text": [
      "d:\\Anaconda3\\envs\\inc_env\\lib\\site-packages\\google\\cloud\\bigquery\\table.py:1820: UserWarning: BigQuery Storage module not found, fetch data with the REST endpoint instead.\n",
      "  warnings.warn(\n"
     ]
    },
    {
     "name": "stdout",
     "output_type": "stream",
     "text": [
      "\n",
      "Downloading: 100%|\u001b[32m██████████\u001b[0m|\n",
      "The shape of dataframe after copy is:\t(132, 7)\n",
      "Job ID 511c5b06-22f4-42c2-8729-1c5abbc3021c successfully executed: 100%|\u001b[32m██████████\u001b[0m|"
     ]
    },
    {
     "name": "stderr",
     "output_type": "stream",
     "text": [
      "d:\\Anaconda3\\envs\\inc_env\\lib\\site-packages\\google\\cloud\\bigquery\\table.py:1820: UserWarning: BigQuery Storage module not found, fetch data with the REST endpoint instead.\n",
      "  warnings.warn(\n"
     ]
    },
    {
     "name": "stdout",
     "output_type": "stream",
     "text": [
      "\n",
      "Downloading: 100%|\u001b[32m██████████\u001b[0m|\n",
      "The shape of dataframe after copy is:\t(128, 7)\n",
      "Job ID e43c975d-cb61-44ba-b20a-6db141d5df1c successfully executed: 100%|\u001b[32m██████████\u001b[0m|"
     ]
    },
    {
     "name": "stderr",
     "output_type": "stream",
     "text": [
      "d:\\Anaconda3\\envs\\inc_env\\lib\\site-packages\\google\\cloud\\bigquery\\table.py:1820: UserWarning: BigQuery Storage module not found, fetch data with the REST endpoint instead.\n",
      "  warnings.warn(\n"
     ]
    },
    {
     "name": "stdout",
     "output_type": "stream",
     "text": [
      "\n",
      "Downloading: 100%|\u001b[32m██████████\u001b[0m|\n",
      "     disbursementdate                  digitalLoanAccountId  \\\n",
      "0 2023-01-02 12:44:11  f0a9e5c7-560d-46a3-9c4c-16d518d1a605   \n",
      "1 2023-01-02 12:53:05  6c53ccd6-5de3-4b2a-8216-caa1b1146cd6   \n",
      "\n",
      "  old_gen_credo_score  ln_fspd30_flag  ln_mature_fspd30_flag  \n",
      "0               510.0               0                      1  \n",
      "1               481.0               1                      1  \n",
      "The shape of dataframe after copy is:\t(123, 7)\n",
      "['start_date' 'end_date' 'old_gen_credo_score_FSPD30_gini' 'period'\n",
      " 'Model_Name' 'version' 'bad_rate']\n",
      "Job ID c32515c9-0fe0-47ba-bda8-1a496ff360b0 successfully executed: 100%|\u001b[32m██████████\u001b[0m|"
     ]
    },
    {
     "name": "stderr",
     "output_type": "stream",
     "text": [
      "d:\\Anaconda3\\envs\\inc_env\\lib\\site-packages\\google\\cloud\\bigquery\\table.py:1820: UserWarning: BigQuery Storage module not found, fetch data with the REST endpoint instead.\n",
      "  warnings.warn(\n"
     ]
    },
    {
     "name": "stdout",
     "output_type": "stream",
     "text": [
      "\n",
      "Downloading: 100%|\u001b[32m██████████\u001b[0m|\n",
      "     disbursementdate                  digitalLoanAccountId  \\\n",
      "0 2023-01-02 12:44:11  f0a9e5c7-560d-46a3-9c4c-16d518d1a605   \n",
      "1 2023-01-02 12:53:05  6c53ccd6-5de3-4b2a-8216-caa1b1146cd6   \n",
      "\n",
      "  old_gen_credo_score  ln_fstpd30_flag  ln_mature_fstpd30_flag  \n",
      "0               510.0                0                       1  \n",
      "1               481.0                1                       1  \n",
      "The shape of dataframe after copy is:\t(117, 7)\n",
      "['start_date' 'end_date' 'old_gen_credo_score_FSTPD30_gini' 'period'\n",
      " 'Model_Name' 'version' 'bad_rate']\n"
     ]
    },
    {
     "data": {
      "application/vnd.microsoft.datawrangler.viewer.v0+json": {
       "columns": [
        {
         "name": "index",
         "rawType": "int64",
         "type": "integer"
        },
        {
         "name": "start_date",
         "rawType": "datetime64[ns]",
         "type": "datetime"
        },
        {
         "name": "end_date",
         "rawType": "datetime64[ns]",
         "type": "datetime"
        },
        {
         "name": "old_gen_credo_score_FSTPD30_gini",
         "rawType": "float64",
         "type": "float"
        },
        {
         "name": "period",
         "rawType": "object",
         "type": "string"
        },
        {
         "name": "Model_Name",
         "rawType": "object",
         "type": "string"
        },
        {
         "name": "version",
         "rawType": "object",
         "type": "string"
        },
        {
         "name": "bad_rate",
         "rawType": "object",
         "type": "string"
        }
       ],
       "conversionMethod": "pd.DataFrame",
       "ref": "a2721d15-64a0-475e-bcae-3981f4705e34",
       "rows": [
        [
         "0",
         "2023-01-01 00:00:00",
         "2023-01-31 00:00:00",
         "0.12207741684497497",
         "Month",
         "old_gen_credo_score",
         "1.1.0",
         "FSTPD30"
        ],
        [
         "1",
         "2023-01-02 00:00:00",
         "2023-01-08 00:00:00",
         "0.23033126293995787",
         "Week",
         "old_gen_credo_score",
         "1.1.0",
         "FSTPD30"
        ],
        [
         "2",
         "2023-01-09 00:00:00",
         "2023-01-15 00:00:00",
         "0.1486048020765729",
         "Week",
         "old_gen_credo_score",
         "1.1.0",
         "FSTPD30"
        ],
        [
         "3",
         "2023-01-16 00:00:00",
         "2023-01-22 00:00:00",
         "0.1301843317972342",
         "Week",
         "old_gen_credo_score",
         "1.1.0",
         "FSTPD30"
        ],
        [
         "4",
         "2023-01-23 00:00:00",
         "2023-01-29 00:00:00",
         "0.0007440476190476719",
         "Week",
         "old_gen_credo_score",
         "1.1.0",
         "FSTPD30"
        ]
       ],
       "shape": {
        "columns": 7,
        "rows": 5
       }
      },
      "text/html": [
       "<div>\n",
       "<style scoped>\n",
       "    .dataframe tbody tr th:only-of-type {\n",
       "        vertical-align: middle;\n",
       "    }\n",
       "\n",
       "    .dataframe tbody tr th {\n",
       "        vertical-align: top;\n",
       "    }\n",
       "\n",
       "    .dataframe thead th {\n",
       "        text-align: right;\n",
       "    }\n",
       "</style>\n",
       "<table border=\"1\" class=\"dataframe\">\n",
       "  <thead>\n",
       "    <tr style=\"text-align: right;\">\n",
       "      <th></th>\n",
       "      <th>start_date</th>\n",
       "      <th>end_date</th>\n",
       "      <th>old_gen_credo_score_FSTPD30_gini</th>\n",
       "      <th>period</th>\n",
       "      <th>Model_Name</th>\n",
       "      <th>version</th>\n",
       "      <th>bad_rate</th>\n",
       "    </tr>\n",
       "  </thead>\n",
       "  <tbody>\n",
       "    <tr>\n",
       "      <th>0</th>\n",
       "      <td>2023-01-01</td>\n",
       "      <td>2023-01-31</td>\n",
       "      <td>0.122077</td>\n",
       "      <td>Month</td>\n",
       "      <td>old_gen_credo_score</td>\n",
       "      <td>1.1.0</td>\n",
       "      <td>FSTPD30</td>\n",
       "    </tr>\n",
       "    <tr>\n",
       "      <th>1</th>\n",
       "      <td>2023-01-02</td>\n",
       "      <td>2023-01-08</td>\n",
       "      <td>0.230331</td>\n",
       "      <td>Week</td>\n",
       "      <td>old_gen_credo_score</td>\n",
       "      <td>1.1.0</td>\n",
       "      <td>FSTPD30</td>\n",
       "    </tr>\n",
       "    <tr>\n",
       "      <th>2</th>\n",
       "      <td>2023-01-09</td>\n",
       "      <td>2023-01-15</td>\n",
       "      <td>0.148605</td>\n",
       "      <td>Week</td>\n",
       "      <td>old_gen_credo_score</td>\n",
       "      <td>1.1.0</td>\n",
       "      <td>FSTPD30</td>\n",
       "    </tr>\n",
       "    <tr>\n",
       "      <th>3</th>\n",
       "      <td>2023-01-16</td>\n",
       "      <td>2023-01-22</td>\n",
       "      <td>0.130184</td>\n",
       "      <td>Week</td>\n",
       "      <td>old_gen_credo_score</td>\n",
       "      <td>1.1.0</td>\n",
       "      <td>FSTPD30</td>\n",
       "    </tr>\n",
       "    <tr>\n",
       "      <th>4</th>\n",
       "      <td>2023-01-23</td>\n",
       "      <td>2023-01-29</td>\n",
       "      <td>0.000744</td>\n",
       "      <td>Week</td>\n",
       "      <td>old_gen_credo_score</td>\n",
       "      <td>1.1.0</td>\n",
       "      <td>FSTPD30</td>\n",
       "    </tr>\n",
       "  </tbody>\n",
       "</table>\n",
       "</div>"
      ],
      "text/plain": [
       "  start_date   end_date  old_gen_credo_score_FSTPD30_gini period  \\\n",
       "0 2023-01-01 2023-01-31                          0.122077  Month   \n",
       "1 2023-01-02 2023-01-08                          0.230331   Week   \n",
       "2 2023-01-09 2023-01-15                          0.148605   Week   \n",
       "3 2023-01-16 2023-01-22                          0.130184   Week   \n",
       "4 2023-01-23 2023-01-29                          0.000744   Week   \n",
       "\n",
       "            Model_Name version bad_rate  \n",
       "0  old_gen_credo_score   1.1.0  FSTPD30  \n",
       "1  old_gen_credo_score   1.1.0  FSTPD30  \n",
       "2  old_gen_credo_score   1.1.0  FSTPD30  \n",
       "3  old_gen_credo_score   1.1.0  FSTPD30  \n",
       "4  old_gen_credo_score   1.1.0  FSTPD30  "
      ]
     },
     "execution_count": 141,
     "metadata": {},
     "output_type": "execute_result"
    }
   ],
   "source": [
    "\n",
    "\n",
    "sq = \"\"\"\n",
    "with old_gen_credo_score as \n",
    "(SELECT \n",
    "    ln_disb_dtime disbursementdate,\n",
    "\tdigitalLoanAccountId,\n",
    "    old_gen_credo_score,\n",
    "    ln_fpd10_flag,\n",
    "\tln_mature_fpd10_flag,\t\n",
    "\tFROM \n",
    "    prj-prod-dataplatform.risk_mart.sil_risk_ds_master_20230101_20250206\n",
    "  WHERE \n",
    "     -- ln_disb_dtime >= '2023-07-01'\n",
    "    ln_appln_submit_datetime >= '2023-01-01'\n",
    "  -- AND\n",
    "  --   format_date('%Y-%m', ln_disb_dtime) = '2024-09'\n",
    "  AND\n",
    "    ln_fpd10_flag is not null\n",
    "  AND\n",
    "    old_gen_credo_score is not null\n",
    "  AND\n",
    "    ln_mature_fpd10_flag = 1\n",
    ")\n",
    "select * from old_gen_credo_score;\n",
    "\"\"\"\n",
    "\n",
    "old_gen_credo_scorefpd10 = client.query(sq).to_dataframe(progress_bar_type='tqdm')\n",
    "\n",
    "old_gen_credo_scorefpd10.head()\n",
    "\n",
    "gini_results = calculate_periodic_gini_threedigit(old_gen_credo_scorefpd10, 'old_gen_credo_score', 'ln_fpd10_flag', 'FPD10')\n",
    "M1FPD10 = gini_results.copy()\n",
    "print(f\"The shape of dataframe after copy is:\\t{M1FPD10.shape}\")\n",
    "M1FPD10.columns.values\n",
    "\n",
    "# FPD30\n",
    "\n",
    "sq = \"\"\"\n",
    "with old_gen_credo_score as \n",
    "(SELECT \n",
    "    ln_disb_dtime disbursementdate,\n",
    "\tdigitalLoanAccountId,\n",
    "    old_gen_credo_score,\n",
    "    ln_fpd30_flag,\n",
    "\tln_mature_fpd30_flag,\t\n",
    "\tFROM \n",
    "    prj-prod-dataplatform.risk_mart.sil_risk_ds_master_20230101_20250206\n",
    "  WHERE \n",
    "     -- ln_disb_dtime >= '2023-07-01'\n",
    "    ln_appln_submit_datetime >= '2023-01-01'\n",
    "  -- AND\n",
    "  --   format_date('%Y-%m', ln_disb_dtime) = '2024-09'\n",
    "  AND\n",
    "    ln_fpd30_flag is not null\n",
    "  AND\n",
    "    old_gen_credo_score is not null\n",
    "  AND\n",
    "    ln_mature_fpd30_flag = 1\n",
    ")\n",
    "select * from old_gen_credo_score;\n",
    "\"\"\"\n",
    "\n",
    "old_gen_credo_scorefpd30 = client.query(sq).to_dataframe(progress_bar_type='tqdm')\n",
    "\n",
    "old_gen_credo_scorefpd30.head()\n",
    "\n",
    "gini_results = calculate_periodic_gini_threedigit(old_gen_credo_scorefpd30, 'old_gen_credo_score', 'ln_fpd30_flag', 'FPD30')\n",
    "M2FPD30 = gini_results.copy()\n",
    "print(f\"The shape of dataframe after copy is:\\t{M2FPD30.shape}\")\n",
    "M2FPD30.columns.values\n",
    "\n",
    "sq = \"\"\"\n",
    "with old_gen_credo_score as \n",
    "(SELECT \n",
    "    ln_disb_dtime disbursementdate,\n",
    "\tdigitalLoanAccountId,\n",
    "    old_gen_credo_score,\n",
    "    ln_fspd30_flag,\n",
    "\tln_mature_fspd30_flag,\t\n",
    "\tFROM \n",
    "    prj-prod-dataplatform.risk_mart.sil_risk_ds_master_20230101_20250206\n",
    "  WHERE \n",
    "     -- ln_disb_dtime >= '2023-07-01'\n",
    "    ln_appln_submit_datetime >= '2023-01-01'\n",
    "  -- AND\n",
    "  --   format_date('%Y-%m', ln_disb_dtime) = '2024-09'\n",
    "  AND\n",
    "    ln_fspd30_flag is not null\n",
    "  AND\n",
    "    old_gen_credo_score is not null\n",
    "  AND\n",
    "    ln_mature_fspd30_flag = 1\n",
    ")\n",
    "select * from old_gen_credo_score;\n",
    "\"\"\"\n",
    "\n",
    "old_gen_credo_scorefspd30 = client.query(sq).to_dataframe(progress_bar_type='tqdm')\n",
    "\n",
    "print(old_gen_credo_scorefspd30.head(2))\n",
    "\n",
    "gini_results = calculate_periodic_gini_threedigit(old_gen_credo_scorefspd30, 'old_gen_credo_score', 'ln_fspd30_flag', 'FSPD30')\n",
    "M3FSPD30 = gini_results.copy()\n",
    "print(f\"The shape of dataframe after copy is:\\t{M3FSPD30.shape}\")\n",
    "print(M3FSPD30.columns.values)\n",
    "\n",
    "M3FSPD30.head()\n",
    "\n",
    "sq = \"\"\"\n",
    "with old_gen_credo_score as \n",
    "(SELECT \n",
    "    ln_disb_dtime disbursementdate,\n",
    "\tdigitalLoanAccountId,\n",
    "    old_gen_credo_score,\n",
    "    ln_fstpd30_flag,\n",
    "\tln_mature_fstpd30_flag,\t\n",
    "\tFROM \n",
    "    prj-prod-dataplatform.risk_mart.sil_risk_ds_master_20230101_20250206\n",
    "  WHERE \n",
    "     -- ln_disb_dtime >= '2023-07-01'\n",
    "    ln_appln_submit_datetime >= '2023-01-01'\n",
    "  -- AND\n",
    "  --   format_date('%Y-%m', ln_disb_dtime) = '2024-09'\n",
    "  AND\n",
    "    ln_fstpd30_flag is not null\n",
    "  AND\n",
    "    old_gen_credo_score is not null\n",
    "  AND\n",
    "    ln_mature_fstpd30_flag = 1\n",
    ")\n",
    "select * from old_gen_credo_score;\n",
    "\"\"\"\n",
    "\n",
    "old_gen_credo_scorefstpd30 = client.query(sq).to_dataframe(progress_bar_type='tqdm')\n",
    "\n",
    "print(old_gen_credo_scorefstpd30.head(2))\n",
    "\n",
    "gini_results = calculate_periodic_gini_threedigit(old_gen_credo_scorefstpd30, 'old_gen_credo_score', 'ln_fstpd30_flag', 'FSTPD30')\n",
    "M4FSTPD30 = gini_results.copy()\n",
    "print(f\"The shape of dataframe after copy is:\\t{M4FSTPD30.shape}\")\n",
    "print(M4FSTPD30.columns.values)\n",
    "\n",
    "M4FSTPD30.head()\n",
    "\n"
   ]
  },
  {
   "cell_type": "markdown",
   "metadata": {},
   "source": [
    "## Combining data"
   ]
  },
  {
   "cell_type": "code",
   "execution_count": 142,
   "metadata": {},
   "outputs": [
    {
     "data": {
      "text/plain": [
       "array(['start_date', 'end_date', 'old_gen_credo_score_FPD10_gini',\n",
       "       'period', 'Model_Name', 'version', 'bad_rate',\n",
       "       'old_gen_credo_score_FPD30_gini',\n",
       "       'old_gen_credo_score_FSPD30_gini',\n",
       "       'old_gen_credo_score_FSTPD30_gini'], dtype=object)"
      ]
     },
     "execution_count": 142,
     "metadata": {},
     "output_type": "execute_result"
    }
   ],
   "source": [
    "import functools\n",
    "\n",
    "dataframes = [M1FPD10, M2FPD30, M3FSPD30, M4FSTPD30]\n",
    "common_columns = ['start_date', 'end_date', 'period', 'Model_Name','version', 'bad_rate']\n",
    "\n",
    "def merge_dataframes(df1, df2):\n",
    "    return pd.merge(df1, df2, on=common_columns, how='outer')\n",
    "\n",
    "final_df = functools.reduce(merge_dataframes, dataframes)\n",
    "\n",
    "final_df.columns.values"
   ]
  },
  {
   "cell_type": "code",
   "execution_count": 143,
   "metadata": {},
   "outputs": [],
   "source": [
    "final_df = final_df[['start_date', 'end_date', 'period',   'Model_Name', 'version', 'bad_rate','old_gen_credo_score_FPD10_gini','old_gen_credo_score_FPD30_gini',    'old_gen_credo_score_FSPD30_gini', 'old_gen_credo_score_FSTPD30_gini']].copy()"
   ]
  },
  {
   "cell_type": "code",
   "execution_count": null,
   "metadata": {},
   "outputs": [],
   "source": []
  },
  {
   "cell_type": "code",
   "execution_count": 144,
   "metadata": {},
   "outputs": [
    {
     "data": {
      "text/plain": [
       "QueryJob<project=prj-prod-dataplatform, location=asia-southeast1, id=8997bc39-abee-4103-be8d-dfbedeccc479>"
      ]
     },
     "execution_count": 144,
     "metadata": {},
     "output_type": "execute_result"
    }
   ],
   "source": [
    "sq = \"\"\"drop table if exists prj-prod-dataplatform.dap_ds_poweruser_playground.Model_gini_old_gen_credo_score;\"\"\"\n",
    "client.query(sq)"
   ]
  },
  {
   "cell_type": "code",
   "execution_count": 145,
   "metadata": {},
   "outputs": [
    {
     "data": {
      "text/plain": [
       "LoadJob<project=prj-prod-dataplatform, location=asia-southeast1, id=d5ce51b2-2895-4c2e-b34e-96f3e73f5d7b>"
      ]
     },
     "execution_count": 145,
     "metadata": {},
     "output_type": "execute_result"
    }
   ],
   "source": [
    "import pandas as pd\n",
    "from google.cloud import bigquery\n",
    "\n",
    "# Create a BigQuery client\n",
    "client = bigquery.Client('prj-prod-dataplatform')\n",
    "\n",
    "# Define your table schema\n",
    "table_schema = [\n",
    "    bigquery.SchemaField('start_date', 'TIMESTAMP'),\n",
    "    bigquery.SchemaField('end_date', 'TIMESTAMP'),\n",
    "    bigquery.SchemaField('period', 'STRING'),\n",
    "    bigquery.SchemaField('Model_Name', 'STRING'),\n",
    "    bigquery.SchemaField('version', 'STRING'),\n",
    "    bigquery.SchemaField('Badrate', 'STRING'),\n",
    "    bigquery.SchemaField('old_gen_credo_score_FPD10_gini', 'FLOAT'),\n",
    "    bigquery.SchemaField('old_gen_credo_score_FPD30_gini', 'FLOAT'),    \n",
    "    bigquery.SchemaField('old_gen_credo_score_FSPD30_gini', 'FLOAT'),\n",
    "    bigquery.SchemaField('old_gen_credo_score_FSTPD30_gini', 'FLOAT')\n",
    "    \n",
    "]\n",
    "\n",
    "# Create your BigQuery table\n",
    "table_id = 'prj-prod-dataplatform.dap_ds_poweruser_playground.Model_gini_old_gen_credo_score'\n",
    "table = bigquery.Table(table_id, schema=table_schema)\n",
    "table = client.create_table(table)\n",
    "\n",
    "# Load your DataFrame into BigQuery\n",
    "job_config = bigquery.LoadJobConfig(\n",
    "    write_disposition='WRITE_TRUNCATE'\n",
    ")\n",
    "\n",
    "load_job = client.load_table_from_dataframe(\n",
    "    final_df, table_id, job_config=job_config\n",
    ")\n",
    "\n",
    "load_job.result()"
   ]
  },
  {
   "cell_type": "code",
   "execution_count": 146,
   "metadata": {},
   "outputs": [
    {
     "name": "stdout",
     "output_type": "stream",
     "text": [
      "Job ID 3987c30d-e3f2-48f5-a655-a67ad9e78567 successfully executed: 100%|\u001b[32m██████████\u001b[0m|"
     ]
    },
    {
     "name": "stderr",
     "output_type": "stream",
     "text": [
      "d:\\Anaconda3\\envs\\inc_env\\lib\\site-packages\\google\\cloud\\bigquery\\table.py:1820: UserWarning: BigQuery Storage module not found, fetch data with the REST endpoint instead.\n",
      "  warnings.warn(\n"
     ]
    },
    {
     "name": "stdout",
     "output_type": "stream",
     "text": [
      "\n",
      "Downloading: 100%|\u001b[32m██████████\u001b[0m|\n"
     ]
    }
   ],
   "source": [
    "sq = \"\"\"select * from prj-prod-dataplatform.dap_ds_poweruser_playground.Model_gini_old_gen_credo_score;\"\"\"\n",
    "\n",
    "df = client.query(sq).to_dataframe(progress_bar_type='tqdm')"
   ]
  },
  {
   "cell_type": "code",
   "execution_count": 147,
   "metadata": {},
   "outputs": [
    {
     "data": {
      "text/plain": [
       "bad_rate\n",
       "FPD10      132\n",
       "FPD30      128\n",
       "FSPD30     123\n",
       "FSTPD30    117\n",
       "Name: count, dtype: int64"
      ]
     },
     "execution_count": 147,
     "metadata": {},
     "output_type": "execute_result"
    }
   ],
   "source": [
    "df['bad_rate'].value_counts()"
   ]
  },
  {
   "cell_type": "markdown",
   "metadata": {},
   "source": [
    "# old_cic_score"
   ]
  },
  {
   "cell_type": "code",
   "execution_count": 148,
   "metadata": {},
   "outputs": [
    {
     "name": "stdout",
     "output_type": "stream",
     "text": [
      "Job ID 4dfb9802-f38b-4bb3-986b-6d1b408acbad successfully executed: 100%|\u001b[32m██████████\u001b[0m|"
     ]
    },
    {
     "name": "stderr",
     "output_type": "stream",
     "text": [
      "d:\\Anaconda3\\envs\\inc_env\\lib\\site-packages\\google\\cloud\\bigquery\\table.py:1820: UserWarning: BigQuery Storage module not found, fetch data with the REST endpoint instead.\n",
      "  warnings.warn(\n"
     ]
    },
    {
     "name": "stdout",
     "output_type": "stream",
     "text": [
      "\n",
      "Downloading: 100%|\u001b[32m██████████\u001b[0m|\n",
      "The shape of dataframe after copy is:\t(92, 7)\n",
      "Job ID 49f370f2-b449-47f7-8c86-602a1af86d69 successfully executed: 100%|\u001b[32m██████████\u001b[0m|"
     ]
    },
    {
     "name": "stderr",
     "output_type": "stream",
     "text": [
      "d:\\Anaconda3\\envs\\inc_env\\lib\\site-packages\\google\\cloud\\bigquery\\table.py:1820: UserWarning: BigQuery Storage module not found, fetch data with the REST endpoint instead.\n",
      "  warnings.warn(\n"
     ]
    },
    {
     "name": "stdout",
     "output_type": "stream",
     "text": [
      "\n",
      "Downloading: 100%|\u001b[32m██████████\u001b[0m|\n",
      "The shape of dataframe after copy is:\t(88, 7)\n",
      "Job ID feff76c4-cbde-4558-8c05-6fc70f2bf98c successfully executed: 100%|\u001b[32m██████████\u001b[0m|"
     ]
    },
    {
     "name": "stderr",
     "output_type": "stream",
     "text": [
      "d:\\Anaconda3\\envs\\inc_env\\lib\\site-packages\\google\\cloud\\bigquery\\table.py:1820: UserWarning: BigQuery Storage module not found, fetch data with the REST endpoint instead.\n",
      "  warnings.warn(\n"
     ]
    },
    {
     "name": "stdout",
     "output_type": "stream",
     "text": [
      "\n",
      "Downloading: 100%|\u001b[32m██████████\u001b[0m|\n",
      "     disbursementdate                  digitalLoanAccountId old_cic_score  \\\n",
      "0 2023-08-23 10:30:20  799382a3-b224-48b5-ad0b-ac075c638651       484.000   \n",
      "1 2023-08-23 15:36:50  c8e6977b-a5ca-48b0-9ef0-e6e9581a7229       484.000   \n",
      "\n",
      "   ln_fspd30_flag  ln_mature_fspd30_flag  \n",
      "0               1                      1  \n",
      "1               0                      1  \n",
      "The shape of dataframe after copy is:\t(83, 7)\n",
      "['start_date' 'end_date' 'old_cic_score_FSPD30_gini' 'period' 'Model_Name'\n",
      " 'version' 'bad_rate']\n",
      "Job ID 97d2d910-bbaf-490a-be65-427237b130d8 successfully executed: 100%|\u001b[32m██████████\u001b[0m|"
     ]
    },
    {
     "name": "stderr",
     "output_type": "stream",
     "text": [
      "d:\\Anaconda3\\envs\\inc_env\\lib\\site-packages\\google\\cloud\\bigquery\\table.py:1820: UserWarning: BigQuery Storage module not found, fetch data with the REST endpoint instead.\n",
      "  warnings.warn(\n"
     ]
    },
    {
     "name": "stdout",
     "output_type": "stream",
     "text": [
      "\n",
      "Downloading: 100%|\u001b[32m██████████\u001b[0m|\n",
      "     disbursementdate                  digitalLoanAccountId old_cic_score  \\\n",
      "0 2023-08-23 20:04:02  9c7f4086-33c8-4b8f-b1b1-f95cc0b104b2       480.000   \n",
      "1 2023-08-23 20:32:30  93f8687b-b8fe-4fcd-a5ee-58c29003183b       484.000   \n",
      "\n",
      "   ln_fstpd30_flag  ln_mature_fstpd30_flag  \n",
      "0                1                       1  \n",
      "1                0                       1  \n",
      "The shape of dataframe after copy is:\t(77, 7)\n",
      "['start_date' 'end_date' 'old_cic_score_FSTPD30_gini' 'period'\n",
      " 'Model_Name' 'version' 'bad_rate']\n"
     ]
    },
    {
     "data": {
      "application/vnd.microsoft.datawrangler.viewer.v0+json": {
       "columns": [
        {
         "name": "index",
         "rawType": "int64",
         "type": "integer"
        },
        {
         "name": "start_date",
         "rawType": "datetime64[ns]",
         "type": "datetime"
        },
        {
         "name": "end_date",
         "rawType": "datetime64[ns]",
         "type": "datetime"
        },
        {
         "name": "old_cic_score_FSTPD30_gini",
         "rawType": "float64",
         "type": "float"
        },
        {
         "name": "period",
         "rawType": "object",
         "type": "string"
        },
        {
         "name": "Model_Name",
         "rawType": "object",
         "type": "string"
        },
        {
         "name": "version",
         "rawType": "object",
         "type": "string"
        },
        {
         "name": "bad_rate",
         "rawType": "object",
         "type": "string"
        }
       ],
       "conversionMethod": "pd.DataFrame",
       "ref": "559dd1d9-f8a1-40c0-9753-fcc078fd6c5f",
       "rows": [
        [
         "0",
         "2023-08-01 00:00:00",
         "2023-08-31 00:00:00",
         "0.10419445679561301",
         "Month",
         "old_cic_score",
         "1.1.0",
         "FSTPD30"
        ],
        [
         "1",
         "2023-08-21 00:00:00",
         "2023-08-27 00:00:00",
         "0.0868965517241378",
         "Week",
         "old_cic_score",
         "1.1.0",
         "FSTPD30"
        ],
        [
         "2",
         "2023-08-28 00:00:00",
         "2023-09-03 00:00:00",
         "0.17502645502645509",
         "Week",
         "old_cic_score",
         "1.1.0",
         "FSTPD30"
        ],
        [
         "3",
         "2023-09-01 00:00:00",
         "2023-09-30 00:00:00",
         "0.19660607391949037",
         "Month",
         "old_cic_score",
         "1.1.0",
         "FSTPD30"
        ],
        [
         "4",
         "2023-09-04 00:00:00",
         "2023-09-10 00:00:00",
         "0.1710437710437709",
         "Week",
         "old_cic_score",
         "1.1.0",
         "FSTPD30"
        ]
       ],
       "shape": {
        "columns": 7,
        "rows": 5
       }
      },
      "text/html": [
       "<div>\n",
       "<style scoped>\n",
       "    .dataframe tbody tr th:only-of-type {\n",
       "        vertical-align: middle;\n",
       "    }\n",
       "\n",
       "    .dataframe tbody tr th {\n",
       "        vertical-align: top;\n",
       "    }\n",
       "\n",
       "    .dataframe thead th {\n",
       "        text-align: right;\n",
       "    }\n",
       "</style>\n",
       "<table border=\"1\" class=\"dataframe\">\n",
       "  <thead>\n",
       "    <tr style=\"text-align: right;\">\n",
       "      <th></th>\n",
       "      <th>start_date</th>\n",
       "      <th>end_date</th>\n",
       "      <th>old_cic_score_FSTPD30_gini</th>\n",
       "      <th>period</th>\n",
       "      <th>Model_Name</th>\n",
       "      <th>version</th>\n",
       "      <th>bad_rate</th>\n",
       "    </tr>\n",
       "  </thead>\n",
       "  <tbody>\n",
       "    <tr>\n",
       "      <th>0</th>\n",
       "      <td>2023-08-01</td>\n",
       "      <td>2023-08-31</td>\n",
       "      <td>0.104194</td>\n",
       "      <td>Month</td>\n",
       "      <td>old_cic_score</td>\n",
       "      <td>1.1.0</td>\n",
       "      <td>FSTPD30</td>\n",
       "    </tr>\n",
       "    <tr>\n",
       "      <th>1</th>\n",
       "      <td>2023-08-21</td>\n",
       "      <td>2023-08-27</td>\n",
       "      <td>0.086897</td>\n",
       "      <td>Week</td>\n",
       "      <td>old_cic_score</td>\n",
       "      <td>1.1.0</td>\n",
       "      <td>FSTPD30</td>\n",
       "    </tr>\n",
       "    <tr>\n",
       "      <th>2</th>\n",
       "      <td>2023-08-28</td>\n",
       "      <td>2023-09-03</td>\n",
       "      <td>0.175026</td>\n",
       "      <td>Week</td>\n",
       "      <td>old_cic_score</td>\n",
       "      <td>1.1.0</td>\n",
       "      <td>FSTPD30</td>\n",
       "    </tr>\n",
       "    <tr>\n",
       "      <th>3</th>\n",
       "      <td>2023-09-01</td>\n",
       "      <td>2023-09-30</td>\n",
       "      <td>0.196606</td>\n",
       "      <td>Month</td>\n",
       "      <td>old_cic_score</td>\n",
       "      <td>1.1.0</td>\n",
       "      <td>FSTPD30</td>\n",
       "    </tr>\n",
       "    <tr>\n",
       "      <th>4</th>\n",
       "      <td>2023-09-04</td>\n",
       "      <td>2023-09-10</td>\n",
       "      <td>0.171044</td>\n",
       "      <td>Week</td>\n",
       "      <td>old_cic_score</td>\n",
       "      <td>1.1.0</td>\n",
       "      <td>FSTPD30</td>\n",
       "    </tr>\n",
       "  </tbody>\n",
       "</table>\n",
       "</div>"
      ],
      "text/plain": [
       "  start_date   end_date  old_cic_score_FSTPD30_gini period     Model_Name  \\\n",
       "0 2023-08-01 2023-08-31                    0.104194  Month  old_cic_score   \n",
       "1 2023-08-21 2023-08-27                    0.086897   Week  old_cic_score   \n",
       "2 2023-08-28 2023-09-03                    0.175026   Week  old_cic_score   \n",
       "3 2023-09-01 2023-09-30                    0.196606  Month  old_cic_score   \n",
       "4 2023-09-04 2023-09-10                    0.171044   Week  old_cic_score   \n",
       "\n",
       "  version bad_rate  \n",
       "0   1.1.0  FSTPD30  \n",
       "1   1.1.0  FSTPD30  \n",
       "2   1.1.0  FSTPD30  \n",
       "3   1.1.0  FSTPD30  \n",
       "4   1.1.0  FSTPD30  "
      ]
     },
     "execution_count": 148,
     "metadata": {},
     "output_type": "execute_result"
    }
   ],
   "source": [
    "\n",
    "\n",
    "sq = \"\"\"\n",
    "with old_cic_score as \n",
    "(SELECT \n",
    "    ln_disb_dtime disbursementdate,\n",
    "\tdigitalLoanAccountId,\n",
    "    old_cic_score,\n",
    "    ln_fpd10_flag,\n",
    "\tln_mature_fpd10_flag,\t\n",
    "\tFROM \n",
    "    prj-prod-dataplatform.risk_mart.sil_risk_ds_master_20230101_20250206\n",
    "  WHERE \n",
    "     -- ln_disb_dtime >= '2023-07-01'\n",
    "    ln_appln_submit_datetime >= '2023-01-01'\n",
    "  -- AND\n",
    "  --   format_date('%Y-%m', ln_disb_dtime) = '2024-09'\n",
    "  AND\n",
    "    ln_fpd10_flag is not null\n",
    "  AND\n",
    "    old_cic_score is not null\n",
    "  AND\n",
    "    ln_mature_fpd10_flag = 1\n",
    ")\n",
    "select * from old_cic_score;\n",
    "\"\"\"\n",
    "\n",
    "old_cic_scorefpd10 = client.query(sq).to_dataframe(progress_bar_type='tqdm')\n",
    "\n",
    "old_cic_scorefpd10.head()\n",
    "\n",
    "gini_results = calculate_periodic_hybrid_gini(old_cic_scorefpd10, 'old_cic_score', 'ln_fpd10_flag', 'FPD10')\n",
    "M1FPD10 = gini_results.copy()\n",
    "print(f\"The shape of dataframe after copy is:\\t{M1FPD10.shape}\")\n",
    "M1FPD10.columns.values\n",
    "\n",
    "# FPD30\n",
    "\n",
    "sq = \"\"\"\n",
    "with old_cic_score as \n",
    "(SELECT \n",
    "    ln_disb_dtime disbursementdate,\n",
    "\tdigitalLoanAccountId,\n",
    "    old_cic_score,\n",
    "    ln_fpd30_flag,\n",
    "\tln_mature_fpd30_flag,\t\n",
    "\tFROM \n",
    "    prj-prod-dataplatform.risk_mart.sil_risk_ds_master_20230101_20250206\n",
    "  WHERE \n",
    "     -- ln_disb_dtime >= '2023-07-01'\n",
    "    ln_appln_submit_datetime >= '2023-01-01'\n",
    "  -- AND\n",
    "  --   format_date('%Y-%m', ln_disb_dtime) = '2024-09'\n",
    "  AND\n",
    "    ln_fpd30_flag is not null\n",
    "  AND\n",
    "    old_cic_score is not null\n",
    "  AND\n",
    "    ln_mature_fpd30_flag = 1\n",
    ")\n",
    "select * from old_cic_score;\n",
    "\"\"\"\n",
    "\n",
    "old_cic_scorefpd30 = client.query(sq).to_dataframe(progress_bar_type='tqdm')\n",
    "\n",
    "old_cic_scorefpd30.head()\n",
    "\n",
    "gini_results = calculate_periodic_hybrid_gini(old_cic_scorefpd30, 'old_cic_score', 'ln_fpd30_flag', 'FPD30')\n",
    "M2FPD30 = gini_results.copy()\n",
    "print(f\"The shape of dataframe after copy is:\\t{M2FPD30.shape}\")\n",
    "M2FPD30.columns.values\n",
    "\n",
    "sq = \"\"\"\n",
    "with old_cic_score as \n",
    "(SELECT \n",
    "    ln_disb_dtime disbursementdate,\n",
    "\tdigitalLoanAccountId,\n",
    "    old_cic_score,\n",
    "    ln_fspd30_flag,\n",
    "\tln_mature_fspd30_flag,\t\n",
    "\tFROM \n",
    "    prj-prod-dataplatform.risk_mart.sil_risk_ds_master_20230101_20250206\n",
    "  WHERE \n",
    "     -- ln_disb_dtime >= '2023-07-01'\n",
    "    ln_appln_submit_datetime >= '2023-01-01'\n",
    "  -- AND\n",
    "  --   format_date('%Y-%m', ln_disb_dtime) = '2024-09'\n",
    "  AND\n",
    "    ln_fspd30_flag is not null\n",
    "  AND\n",
    "    old_cic_score is not null\n",
    "  AND\n",
    "    ln_mature_fspd30_flag = 1\n",
    ")\n",
    "select * from old_cic_score;\n",
    "\"\"\"\n",
    "\n",
    "old_cic_scorefspd30 = client.query(sq).to_dataframe(progress_bar_type='tqdm')\n",
    "\n",
    "print(old_cic_scorefspd30.head(2))\n",
    "\n",
    "gini_results = calculate_periodic_hybrid_gini(old_cic_scorefspd30, 'old_cic_score', 'ln_fspd30_flag', 'FSPD30')\n",
    "M3FSPD30 = gini_results.copy()\n",
    "print(f\"The shape of dataframe after copy is:\\t{M3FSPD30.shape}\")\n",
    "print(M3FSPD30.columns.values)\n",
    "\n",
    "M3FSPD30.head()\n",
    "\n",
    "sq = \"\"\"\n",
    "with old_cic_score as \n",
    "(SELECT \n",
    "    ln_disb_dtime disbursementdate,\n",
    "\tdigitalLoanAccountId,\n",
    "    old_cic_score,\n",
    "    ln_fstpd30_flag,\n",
    "\tln_mature_fstpd30_flag,\t\n",
    "\tFROM \n",
    "    prj-prod-dataplatform.risk_mart.sil_risk_ds_master_20230101_20250206\n",
    "  WHERE \n",
    "     -- ln_disb_dtime >= '2023-07-01'\n",
    "    ln_appln_submit_datetime >= '2023-01-01'\n",
    "  -- AND\n",
    "  --   format_date('%Y-%m', ln_disb_dtime) = '2024-09'\n",
    "  AND\n",
    "    ln_fstpd30_flag is not null\n",
    "  AND\n",
    "    old_cic_score is not null\n",
    "  AND\n",
    "    ln_mature_fstpd30_flag = 1\n",
    ")\n",
    "select * from old_cic_score;\n",
    "\"\"\"\n",
    "\n",
    "old_cic_scorefstpd30 = client.query(sq).to_dataframe(progress_bar_type='tqdm')\n",
    "\n",
    "print(old_cic_scorefstpd30.head(2))\n",
    "\n",
    "gini_results = calculate_periodic_hybrid_gini(old_cic_scorefstpd30, 'old_cic_score', 'ln_fstpd30_flag', 'FSTPD30')\n",
    "M4FSTPD30 = gini_results.copy()\n",
    "print(f\"The shape of dataframe after copy is:\\t{M4FSTPD30.shape}\")\n",
    "print(M4FSTPD30.columns.values)\n",
    "\n",
    "M4FSTPD30.head()\n",
    "\n"
   ]
  },
  {
   "cell_type": "markdown",
   "metadata": {},
   "source": [
    "## Combining data"
   ]
  },
  {
   "cell_type": "code",
   "execution_count": 149,
   "metadata": {},
   "outputs": [
    {
     "data": {
      "text/plain": [
       "array(['start_date', 'end_date', 'old_cic_score_FPD10_gini', 'period',\n",
       "       'Model_Name', 'version', 'bad_rate', 'old_cic_score_FPD30_gini',\n",
       "       'old_cic_score_FSPD30_gini', 'old_cic_score_FSTPD30_gini'],\n",
       "      dtype=object)"
      ]
     },
     "execution_count": 149,
     "metadata": {},
     "output_type": "execute_result"
    }
   ],
   "source": [
    "import functools\n",
    "\n",
    "dataframes = [M1FPD10, M2FPD30, M3FSPD30, M4FSTPD30]\n",
    "common_columns = ['start_date', 'end_date', 'period', 'Model_Name','version', 'bad_rate']\n",
    "\n",
    "def merge_dataframes(df1, df2):\n",
    "    return pd.merge(df1, df2, on=common_columns, how='outer')\n",
    "\n",
    "final_df = functools.reduce(merge_dataframes, dataframes)\n",
    "\n",
    "final_df.columns.values"
   ]
  },
  {
   "cell_type": "code",
   "execution_count": 150,
   "metadata": {},
   "outputs": [],
   "source": [
    "final_df = final_df[['start_date', 'end_date', 'period',   'Model_Name', 'version', 'bad_rate','old_cic_score_FPD10_gini','old_cic_score_FPD30_gini',    'old_cic_score_FSPD30_gini', 'old_cic_score_FSTPD30_gini']].copy()"
   ]
  },
  {
   "cell_type": "code",
   "execution_count": 151,
   "metadata": {},
   "outputs": [
    {
     "data": {
      "text/plain": [
       "QueryJob<project=prj-prod-dataplatform, location=asia-southeast1, id=7fc4d8e5-1a24-475e-b6f6-c9254959571d>"
      ]
     },
     "execution_count": 151,
     "metadata": {},
     "output_type": "execute_result"
    }
   ],
   "source": [
    "sq = \"\"\"drop table if exists prj-prod-dataplatform.dap_ds_poweruser_playground.Model_gini_old_cic_score;\"\"\"\n",
    "client.query(sq)"
   ]
  },
  {
   "cell_type": "code",
   "execution_count": 152,
   "metadata": {},
   "outputs": [
    {
     "data": {
      "text/plain": [
       "LoadJob<project=prj-prod-dataplatform, location=asia-southeast1, id=ce59050c-f23c-447b-929f-da6a6b2ddb49>"
      ]
     },
     "execution_count": 152,
     "metadata": {},
     "output_type": "execute_result"
    }
   ],
   "source": [
    "import pandas as pd\n",
    "from google.cloud import bigquery\n",
    "\n",
    "# Create a BigQuery client\n",
    "client = bigquery.Client('prj-prod-dataplatform')\n",
    "\n",
    "# Define your table schema\n",
    "table_schema = [\n",
    "    bigquery.SchemaField('start_date', 'TIMESTAMP'),\n",
    "    bigquery.SchemaField('end_date', 'TIMESTAMP'),\n",
    "    bigquery.SchemaField('period', 'STRING'),\n",
    "    bigquery.SchemaField('Model_Name', 'STRING'),\n",
    "    bigquery.SchemaField('version', 'STRING'),\n",
    "    bigquery.SchemaField('Badrate', 'STRING'),\n",
    "    bigquery.SchemaField('old_cic_score_FPD10_gini', 'FLOAT'),\n",
    "    bigquery.SchemaField('old_cic_score_FPD30_gini', 'FLOAT'),    \n",
    "    bigquery.SchemaField('old_cic_score_FSPD30_gini', 'FLOAT'),\n",
    "    bigquery.SchemaField('old_cic_score_FSTPD30_gini', 'FLOAT')\n",
    "    \n",
    "]\n",
    "\n",
    "# Create your BigQuery table\n",
    "table_id = 'prj-prod-dataplatform.dap_ds_poweruser_playground.Model_gini_old_cic_score'\n",
    "table = bigquery.Table(table_id, schema=table_schema)\n",
    "table = client.create_table(table)\n",
    "\n",
    "# Load your DataFrame into BigQuery\n",
    "job_config = bigquery.LoadJobConfig(\n",
    "    write_disposition='WRITE_TRUNCATE'\n",
    ")\n",
    "\n",
    "load_job = client.load_table_from_dataframe(\n",
    "    final_df, table_id, job_config=job_config\n",
    ")\n",
    "\n",
    "load_job.result()"
   ]
  },
  {
   "cell_type": "markdown",
   "metadata": {},
   "source": [
    "# old_demo_score"
   ]
  },
  {
   "cell_type": "code",
   "execution_count": 153,
   "metadata": {},
   "outputs": [
    {
     "name": "stdout",
     "output_type": "stream",
     "text": [
      "Job ID ddc67f80-3698-40c6-9523-b0f72cda4daf successfully executed: 100%|\u001b[32m██████████\u001b[0m|"
     ]
    },
    {
     "name": "stderr",
     "output_type": "stream",
     "text": [
      "d:\\Anaconda3\\envs\\inc_env\\lib\\site-packages\\google\\cloud\\bigquery\\table.py:1820: UserWarning: BigQuery Storage module not found, fetch data with the REST endpoint instead.\n",
      "  warnings.warn(\n"
     ]
    },
    {
     "name": "stdout",
     "output_type": "stream",
     "text": [
      "\n",
      "Downloading: 100%|\u001b[32m██████████\u001b[0m|\n",
      "The shape of dataframe after copy is:\t(132, 7)\n",
      "Job ID 12f1698e-ad2f-4d20-8ee2-7456e003f0aa successfully executed: 100%|\u001b[32m██████████\u001b[0m|"
     ]
    },
    {
     "name": "stderr",
     "output_type": "stream",
     "text": [
      "d:\\Anaconda3\\envs\\inc_env\\lib\\site-packages\\google\\cloud\\bigquery\\table.py:1820: UserWarning: BigQuery Storage module not found, fetch data with the REST endpoint instead.\n",
      "  warnings.warn(\n"
     ]
    },
    {
     "name": "stdout",
     "output_type": "stream",
     "text": [
      "\n",
      "Downloading: 100%|\u001b[32m██████████\u001b[0m|\n",
      "The shape of dataframe after copy is:\t(128, 7)\n",
      "Job ID 6636aaa1-f3de-4658-86c9-84e09639f001 successfully executed: 100%|\u001b[32m██████████\u001b[0m|"
     ]
    },
    {
     "name": "stderr",
     "output_type": "stream",
     "text": [
      "d:\\Anaconda3\\envs\\inc_env\\lib\\site-packages\\google\\cloud\\bigquery\\table.py:1820: UserWarning: BigQuery Storage module not found, fetch data with the REST endpoint instead.\n",
      "  warnings.warn(\n"
     ]
    },
    {
     "name": "stdout",
     "output_type": "stream",
     "text": [
      "\n",
      "Downloading: 100%|\u001b[32m██████████\u001b[0m|\n",
      "     disbursementdate                  digitalLoanAccountId  old_demo_score  \\\n",
      "0 2023-01-02 10:56:20  ac41223e-0d42-4569-b21f-789bce021291           402.0   \n",
      "1 2023-01-02 11:39:36  d438dd4f-4c6c-44b5-ba83-58585ba8530a           419.0   \n",
      "\n",
      "   ln_fspd30_flag  ln_mature_fspd30_flag  \n",
      "0               0                      1  \n",
      "1               0                      1  \n",
      "The shape of dataframe after copy is:\t(123, 7)\n",
      "['start_date' 'end_date' 'old_demo_score_FSPD30_gini' 'period'\n",
      " 'Model_Name' 'version' 'bad_rate']\n",
      "Job ID 212043f0-214d-4e2a-a724-5444dfa32493 successfully executed: 100%|\u001b[32m██████████\u001b[0m|"
     ]
    },
    {
     "name": "stderr",
     "output_type": "stream",
     "text": [
      "d:\\Anaconda3\\envs\\inc_env\\lib\\site-packages\\google\\cloud\\bigquery\\table.py:1820: UserWarning: BigQuery Storage module not found, fetch data with the REST endpoint instead.\n",
      "  warnings.warn(\n"
     ]
    },
    {
     "name": "stdout",
     "output_type": "stream",
     "text": [
      "\n",
      "Downloading: 100%|\u001b[32m██████████\u001b[0m|\n",
      "     disbursementdate                  digitalLoanAccountId  old_demo_score  \\\n",
      "0 2023-01-02 10:19:54  73902306-ce07-4625-9d1e-a611eeb83166           402.0   \n",
      "1 2023-01-02 12:28:35  92a04afd-ec2e-4941-a1be-0e3af52aab1f           411.0   \n",
      "\n",
      "   ln_fstpd30_flag  ln_mature_fstpd30_flag  \n",
      "0                0                       1  \n",
      "1                0                       1  \n",
      "The shape of dataframe after copy is:\t(117, 7)\n",
      "['start_date' 'end_date' 'old_demo_score_FSTPD30_gini' 'period'\n",
      " 'Model_Name' 'version' 'bad_rate']\n"
     ]
    },
    {
     "data": {
      "application/vnd.microsoft.datawrangler.viewer.v0+json": {
       "columns": [
        {
         "name": "index",
         "rawType": "int64",
         "type": "integer"
        },
        {
         "name": "start_date",
         "rawType": "datetime64[ns]",
         "type": "datetime"
        },
        {
         "name": "end_date",
         "rawType": "datetime64[ns]",
         "type": "datetime"
        },
        {
         "name": "old_demo_score_FSTPD30_gini",
         "rawType": "float64",
         "type": "float"
        },
        {
         "name": "period",
         "rawType": "object",
         "type": "string"
        },
        {
         "name": "Model_Name",
         "rawType": "object",
         "type": "string"
        },
        {
         "name": "version",
         "rawType": "object",
         "type": "string"
        },
        {
         "name": "bad_rate",
         "rawType": "object",
         "type": "string"
        }
       ],
       "conversionMethod": "pd.DataFrame",
       "ref": "51dd4bf0-f715-4154-9aaf-30871567b977",
       "rows": [
        [
         "0",
         "2023-01-01 00:00:00",
         "2023-01-31 00:00:00",
         "0.12612104294114146",
         "Month",
         "old_demo_score",
         "1.1.0",
         "FSTPD30"
        ],
        [
         "1",
         "2023-01-02 00:00:00",
         "2023-01-08 00:00:00",
         "0.17434081070444707",
         "Week",
         "old_demo_score",
         "1.1.0",
         "FSTPD30"
        ],
        [
         "2",
         "2023-01-09 00:00:00",
         "2023-01-15 00:00:00",
         "0.041511309967685595",
         "Week",
         "old_demo_score",
         "1.1.0",
         "FSTPD30"
        ],
        [
         "3",
         "2023-01-16 00:00:00",
         "2023-01-22 00:00:00",
         "0.13421706710853365",
         "Week",
         "old_demo_score",
         "1.1.0",
         "FSTPD30"
        ],
        [
         "4",
         "2023-01-23 00:00:00",
         "2023-01-29 00:00:00",
         "0.12815990593768367",
         "Week",
         "old_demo_score",
         "1.1.0",
         "FSTPD30"
        ]
       ],
       "shape": {
        "columns": 7,
        "rows": 5
       }
      },
      "text/html": [
       "<div>\n",
       "<style scoped>\n",
       "    .dataframe tbody tr th:only-of-type {\n",
       "        vertical-align: middle;\n",
       "    }\n",
       "\n",
       "    .dataframe tbody tr th {\n",
       "        vertical-align: top;\n",
       "    }\n",
       "\n",
       "    .dataframe thead th {\n",
       "        text-align: right;\n",
       "    }\n",
       "</style>\n",
       "<table border=\"1\" class=\"dataframe\">\n",
       "  <thead>\n",
       "    <tr style=\"text-align: right;\">\n",
       "      <th></th>\n",
       "      <th>start_date</th>\n",
       "      <th>end_date</th>\n",
       "      <th>old_demo_score_FSTPD30_gini</th>\n",
       "      <th>period</th>\n",
       "      <th>Model_Name</th>\n",
       "      <th>version</th>\n",
       "      <th>bad_rate</th>\n",
       "    </tr>\n",
       "  </thead>\n",
       "  <tbody>\n",
       "    <tr>\n",
       "      <th>0</th>\n",
       "      <td>2023-01-01</td>\n",
       "      <td>2023-01-31</td>\n",
       "      <td>0.126121</td>\n",
       "      <td>Month</td>\n",
       "      <td>old_demo_score</td>\n",
       "      <td>1.1.0</td>\n",
       "      <td>FSTPD30</td>\n",
       "    </tr>\n",
       "    <tr>\n",
       "      <th>1</th>\n",
       "      <td>2023-01-02</td>\n",
       "      <td>2023-01-08</td>\n",
       "      <td>0.174341</td>\n",
       "      <td>Week</td>\n",
       "      <td>old_demo_score</td>\n",
       "      <td>1.1.0</td>\n",
       "      <td>FSTPD30</td>\n",
       "    </tr>\n",
       "    <tr>\n",
       "      <th>2</th>\n",
       "      <td>2023-01-09</td>\n",
       "      <td>2023-01-15</td>\n",
       "      <td>0.041511</td>\n",
       "      <td>Week</td>\n",
       "      <td>old_demo_score</td>\n",
       "      <td>1.1.0</td>\n",
       "      <td>FSTPD30</td>\n",
       "    </tr>\n",
       "    <tr>\n",
       "      <th>3</th>\n",
       "      <td>2023-01-16</td>\n",
       "      <td>2023-01-22</td>\n",
       "      <td>0.134217</td>\n",
       "      <td>Week</td>\n",
       "      <td>old_demo_score</td>\n",
       "      <td>1.1.0</td>\n",
       "      <td>FSTPD30</td>\n",
       "    </tr>\n",
       "    <tr>\n",
       "      <th>4</th>\n",
       "      <td>2023-01-23</td>\n",
       "      <td>2023-01-29</td>\n",
       "      <td>0.128160</td>\n",
       "      <td>Week</td>\n",
       "      <td>old_demo_score</td>\n",
       "      <td>1.1.0</td>\n",
       "      <td>FSTPD30</td>\n",
       "    </tr>\n",
       "  </tbody>\n",
       "</table>\n",
       "</div>"
      ],
      "text/plain": [
       "  start_date   end_date  old_demo_score_FSTPD30_gini period      Model_Name  \\\n",
       "0 2023-01-01 2023-01-31                     0.126121  Month  old_demo_score   \n",
       "1 2023-01-02 2023-01-08                     0.174341   Week  old_demo_score   \n",
       "2 2023-01-09 2023-01-15                     0.041511   Week  old_demo_score   \n",
       "3 2023-01-16 2023-01-22                     0.134217   Week  old_demo_score   \n",
       "4 2023-01-23 2023-01-29                     0.128160   Week  old_demo_score   \n",
       "\n",
       "  version bad_rate  \n",
       "0   1.1.0  FSTPD30  \n",
       "1   1.1.0  FSTPD30  \n",
       "2   1.1.0  FSTPD30  \n",
       "3   1.1.0  FSTPD30  \n",
       "4   1.1.0  FSTPD30  "
      ]
     },
     "execution_count": 153,
     "metadata": {},
     "output_type": "execute_result"
    }
   ],
   "source": [
    "\n",
    "\n",
    "sq = \"\"\"\n",
    "with old_demo_score as \n",
    "(SELECT \n",
    "    ln_disb_dtime disbursementdate,\n",
    "\tdigitalLoanAccountId,\n",
    "    old_demo_score,\n",
    "    ln_fpd10_flag,\n",
    "\tln_mature_fpd10_flag,\t\n",
    "\tFROM \n",
    "    prj-prod-dataplatform.risk_mart.sil_risk_ds_master_20230101_20250206\n",
    "  WHERE \n",
    "     -- ln_disb_dtime >= '2023-07-01'\n",
    "    ln_appln_submit_datetime >= '2023-01-01'\n",
    "  -- AND\n",
    "  --   format_date('%Y-%m', ln_disb_dtime) = '2024-09'\n",
    "  AND\n",
    "    ln_fpd10_flag is not null\n",
    "  AND\n",
    "    old_demo_score is not null\n",
    "  AND\n",
    "    ln_mature_fpd10_flag = 1\n",
    ")\n",
    "select * from old_demo_score;\n",
    "\"\"\"\n",
    "\n",
    "old_demo_scorefpd10 = client.query(sq).to_dataframe(progress_bar_type='tqdm')\n",
    "\n",
    "old_demo_scorefpd10.head()\n",
    "\n",
    "gini_results = calculate_periodic_hybrid_gini(old_demo_scorefpd10, 'old_demo_score', 'ln_fpd10_flag', 'FPD10')\n",
    "M1FPD10 = gini_results.copy()\n",
    "print(f\"The shape of dataframe after copy is:\\t{M1FPD10.shape}\")\n",
    "M1FPD10.columns.values\n",
    "\n",
    "# FPD30\n",
    "\n",
    "sq = \"\"\"\n",
    "with old_demo_score as \n",
    "(SELECT \n",
    "    ln_disb_dtime disbursementdate,\n",
    "\tdigitalLoanAccountId,\n",
    "    old_demo_score,\n",
    "    ln_fpd30_flag,\n",
    "\tln_mature_fpd30_flag,\t\n",
    "\tFROM \n",
    "    prj-prod-dataplatform.risk_mart.sil_risk_ds_master_20230101_20250206\n",
    "  WHERE \n",
    "     -- ln_disb_dtime >= '2023-07-01'\n",
    "    ln_appln_submit_datetime >= '2023-01-01'\n",
    "  -- AND\n",
    "  --   format_date('%Y-%m', ln_disb_dtime) = '2024-09'\n",
    "  AND\n",
    "    ln_fpd30_flag is not null\n",
    "  AND\n",
    "    old_demo_score is not null\n",
    "  AND\n",
    "    ln_mature_fpd30_flag = 1\n",
    ")\n",
    "select * from old_demo_score;\n",
    "\"\"\"\n",
    "\n",
    "old_demo_scorefpd30 = client.query(sq).to_dataframe(progress_bar_type='tqdm')\n",
    "\n",
    "old_demo_scorefpd30.head()\n",
    "\n",
    "gini_results = calculate_periodic_hybrid_gini(old_demo_scorefpd30, 'old_demo_score', 'ln_fpd30_flag', 'FPD30')\n",
    "M2FPD30 = gini_results.copy()\n",
    "print(f\"The shape of dataframe after copy is:\\t{M2FPD30.shape}\")\n",
    "M2FPD30.columns.values\n",
    "\n",
    "sq = \"\"\"\n",
    "with old_demo_score as \n",
    "(SELECT \n",
    "    ln_disb_dtime disbursementdate,\n",
    "\tdigitalLoanAccountId,\n",
    "    old_demo_score,\n",
    "    ln_fspd30_flag,\n",
    "\tln_mature_fspd30_flag,\t\n",
    "\tFROM \n",
    "    prj-prod-dataplatform.risk_mart.sil_risk_ds_master_20230101_20250206\n",
    "  WHERE \n",
    "     -- ln_disb_dtime >= '2023-07-01'\n",
    "    ln_appln_submit_datetime >= '2023-01-01'\n",
    "  -- AND\n",
    "  --   format_date('%Y-%m', ln_disb_dtime) = '2024-09'\n",
    "  AND\n",
    "    ln_fspd30_flag is not null\n",
    "  AND\n",
    "    old_demo_score is not null\n",
    "  AND\n",
    "    ln_mature_fspd30_flag = 1\n",
    ")\n",
    "select * from old_demo_score;\n",
    "\"\"\"\n",
    "\n",
    "old_demo_scorefspd30 = client.query(sq).to_dataframe(progress_bar_type='tqdm')\n",
    "\n",
    "print(old_demo_scorefspd30.head(2))\n",
    "\n",
    "gini_results = calculate_periodic_hybrid_gini(old_demo_scorefspd30, 'old_demo_score', 'ln_fspd30_flag', 'FSPD30')\n",
    "M3FSPD30 = gini_results.copy()\n",
    "print(f\"The shape of dataframe after copy is:\\t{M3FSPD30.shape}\")\n",
    "print(M3FSPD30.columns.values)\n",
    "\n",
    "M3FSPD30.head()\n",
    "\n",
    "sq = \"\"\"\n",
    "with old_demo_score as \n",
    "(SELECT \n",
    "    ln_disb_dtime disbursementdate,\n",
    "\tdigitalLoanAccountId,\n",
    "    old_demo_score,\n",
    "    ln_fstpd30_flag,\n",
    "\tln_mature_fstpd30_flag,\t\n",
    "\tFROM \n",
    "    prj-prod-dataplatform.risk_mart.sil_risk_ds_master_20230101_20250206\n",
    "  WHERE \n",
    "     -- ln_disb_dtime >= '2023-07-01'\n",
    "    ln_appln_submit_datetime >= '2023-01-01'\n",
    "  -- AND\n",
    "  --   format_date('%Y-%m', ln_disb_dtime) = '2024-09'\n",
    "  AND\n",
    "    ln_fstpd30_flag is not null\n",
    "  AND\n",
    "    old_demo_score is not null\n",
    "  AND\n",
    "    ln_mature_fstpd30_flag = 1\n",
    ")\n",
    "select * from old_demo_score;\n",
    "\"\"\"\n",
    "\n",
    "old_demo_scorefstpd30 = client.query(sq).to_dataframe(progress_bar_type='tqdm')\n",
    "\n",
    "print(old_demo_scorefstpd30.head(2))\n",
    "\n",
    "gini_results = calculate_periodic_hybrid_gini(old_demo_scorefstpd30, 'old_demo_score', 'ln_fstpd30_flag', 'FSTPD30')\n",
    "M4FSTPD30 = gini_results.copy()\n",
    "print(f\"The shape of dataframe after copy is:\\t{M4FSTPD30.shape}\")\n",
    "print(M4FSTPD30.columns.values)\n",
    "\n",
    "M4FSTPD30.head()\n",
    "\n"
   ]
  },
  {
   "cell_type": "code",
   "execution_count": null,
   "metadata": {},
   "outputs": [],
   "source": []
  },
  {
   "cell_type": "markdown",
   "metadata": {},
   "source": [
    "## Combining data"
   ]
  },
  {
   "cell_type": "code",
   "execution_count": 154,
   "metadata": {},
   "outputs": [
    {
     "data": {
      "text/plain": [
       "array(['start_date', 'end_date', 'old_demo_score_FPD10_gini', 'period',\n",
       "       'Model_Name', 'version', 'bad_rate', 'old_demo_score_FPD30_gini',\n",
       "       'old_demo_score_FSPD30_gini', 'old_demo_score_FSTPD30_gini'],\n",
       "      dtype=object)"
      ]
     },
     "execution_count": 154,
     "metadata": {},
     "output_type": "execute_result"
    }
   ],
   "source": [
    "import functools\n",
    "\n",
    "dataframes = [M1FPD10, M2FPD30, M3FSPD30, M4FSTPD30]\n",
    "common_columns = ['start_date', 'end_date', 'period', 'Model_Name','version', 'bad_rate']\n",
    "\n",
    "def merge_dataframes(df1, df2):\n",
    "    return pd.merge(df1, df2, on=common_columns, how='outer')\n",
    "\n",
    "final_df = functools.reduce(merge_dataframes, dataframes)\n",
    "\n",
    "final_df.columns.values"
   ]
  },
  {
   "cell_type": "code",
   "execution_count": 155,
   "metadata": {},
   "outputs": [],
   "source": [
    "final_df = final_df[['start_date', 'end_date', 'period',   'Model_Name', 'version', 'bad_rate','old_demo_score_FPD10_gini','old_demo_score_FPD30_gini',    'old_demo_score_FSPD30_gini', 'old_demo_score_FSTPD30_gini']].copy()"
   ]
  },
  {
   "cell_type": "code",
   "execution_count": 156,
   "metadata": {},
   "outputs": [
    {
     "data": {
      "text/plain": [
       "QueryJob<project=prj-prod-dataplatform, location=asia-southeast1, id=3d0f7734-e98e-4c58-b2c8-307f66e2d0fe>"
      ]
     },
     "execution_count": 156,
     "metadata": {},
     "output_type": "execute_result"
    }
   ],
   "source": [
    "sq = \"\"\"drop table if exists prj-prod-dataplatform.dap_ds_poweruser_playground.Model_gini_old_demo_score;\"\"\"\n",
    "client.query(sq)"
   ]
  },
  {
   "cell_type": "code",
   "execution_count": 157,
   "metadata": {},
   "outputs": [
    {
     "data": {
      "text/plain": [
       "LoadJob<project=prj-prod-dataplatform, location=asia-southeast1, id=97eb4e6a-bdcd-4c45-934e-18ba5c176a97>"
      ]
     },
     "execution_count": 157,
     "metadata": {},
     "output_type": "execute_result"
    }
   ],
   "source": [
    "import pandas as pd\n",
    "from google.cloud import bigquery\n",
    "\n",
    "# Create a BigQuery client\n",
    "client = bigquery.Client('prj-prod-dataplatform')\n",
    "\n",
    "# Define your table schema\n",
    "table_schema = [\n",
    "    bigquery.SchemaField('start_date', 'TIMESTAMP'),\n",
    "    bigquery.SchemaField('end_date', 'TIMESTAMP'),\n",
    "    bigquery.SchemaField('period', 'STRING'),\n",
    "    bigquery.SchemaField('Model_Name', 'STRING'),\n",
    "    bigquery.SchemaField('version', 'STRING'),\n",
    "    bigquery.SchemaField('Badrate', 'STRING'),\n",
    "    bigquery.SchemaField('old_demo_score_FPD10_gini', 'FLOAT'),\n",
    "    bigquery.SchemaField('old_demo_score_FPD30_gini', 'FLOAT'),    \n",
    "    bigquery.SchemaField('old_demo_score_FSPD30_gini', 'FLOAT'),\n",
    "    bigquery.SchemaField('old_demo_score_FSTPD30_gini', 'FLOAT')\n",
    "    \n",
    "]\n",
    "\n",
    "# Create your BigQuery table\n",
    "table_id = 'prj-prod-dataplatform.dap_ds_poweruser_playground.Model_gini_old_demo_score'\n",
    "table = bigquery.Table(table_id, schema=table_schema)\n",
    "table = client.create_table(table)\n",
    "\n",
    "# Load your DataFrame into BigQuery\n",
    "job_config = bigquery.LoadJobConfig(\n",
    "    write_disposition='WRITE_TRUNCATE'\n",
    ")\n",
    "\n",
    "load_job = client.load_table_from_dataframe(\n",
    "    final_df, table_id, job_config=job_config\n",
    ")\n",
    "\n",
    "load_job.result()"
   ]
  },
  {
   "cell_type": "markdown",
   "metadata": {},
   "source": [
    "# bu_bureau_score"
   ]
  },
  {
   "cell_type": "code",
   "execution_count": 158,
   "metadata": {},
   "outputs": [
    {
     "name": "stdout",
     "output_type": "stream",
     "text": [
      "Job ID 901a4725-5267-46ae-a949-d91a49de575d successfully executed: 100%|\u001b[32m██████████\u001b[0m|"
     ]
    },
    {
     "name": "stderr",
     "output_type": "stream",
     "text": [
      "d:\\Anaconda3\\envs\\inc_env\\lib\\site-packages\\google\\cloud\\bigquery\\table.py:1820: UserWarning: BigQuery Storage module not found, fetch data with the REST endpoint instead.\n",
      "  warnings.warn(\n"
     ]
    },
    {
     "name": "stdout",
     "output_type": "stream",
     "text": [
      "\n",
      "Downloading: 100%|\u001b[32m██████████\u001b[0m|\n",
      "The shape of dataframe after copy is:\t(92, 7)\n",
      "Job ID 39950d1c-7f87-4449-b80c-366b007c7e5b successfully executed: 100%|\u001b[32m██████████\u001b[0m|"
     ]
    },
    {
     "name": "stderr",
     "output_type": "stream",
     "text": [
      "d:\\Anaconda3\\envs\\inc_env\\lib\\site-packages\\google\\cloud\\bigquery\\table.py:1820: UserWarning: BigQuery Storage module not found, fetch data with the REST endpoint instead.\n",
      "  warnings.warn(\n"
     ]
    },
    {
     "name": "stdout",
     "output_type": "stream",
     "text": [
      "\n",
      "Downloading: 100%|\u001b[32m██████████\u001b[0m|\n",
      "The shape of dataframe after copy is:\t(92, 7)\n",
      "Job ID 4bda9a6d-31dc-48a2-b7a9-dd4593415267 successfully executed: 100%|\u001b[32m██████████\u001b[0m|"
     ]
    },
    {
     "name": "stderr",
     "output_type": "stream",
     "text": [
      "d:\\Anaconda3\\envs\\inc_env\\lib\\site-packages\\google\\cloud\\bigquery\\table.py:1820: UserWarning: BigQuery Storage module not found, fetch data with the REST endpoint instead.\n",
      "  warnings.warn(\n"
     ]
    },
    {
     "name": "stdout",
     "output_type": "stream",
     "text": [
      "\n",
      "Downloading: 100%|\u001b[32m██████████\u001b[0m|\n",
      "     disbursementdate                  digitalLoanAccountId  bu_bureau_score  \\\n",
      "0 2023-01-10 16:49:53  f7506ebf-ba0b-40a4-b0bd-8ec91ea0ab96            339.0   \n",
      "1 2023-01-12 17:50:30  a2fd2c0e-ad17-48e2-aac9-b6a22ad444d8            357.0   \n",
      "\n",
      "   ln_fspd30_flag  ln_mature_fspd30_flag  \n",
      "0               1                      1  \n",
      "1               0                      1  \n",
      "The shape of dataframe after copy is:\t(92, 7)\n",
      "['start_date' 'end_date' 'bu_bureau_score_FSPD30_gini' 'period'\n",
      " 'Model_Name' 'version' 'bad_rate']\n",
      "Job ID 3646cb00-1a90-40dc-9b77-12155c7a0c81 successfully executed: 100%|\u001b[32m██████████\u001b[0m|"
     ]
    },
    {
     "name": "stderr",
     "output_type": "stream",
     "text": [
      "d:\\Anaconda3\\envs\\inc_env\\lib\\site-packages\\google\\cloud\\bigquery\\table.py:1820: UserWarning: BigQuery Storage module not found, fetch data with the REST endpoint instead.\n",
      "  warnings.warn(\n"
     ]
    },
    {
     "name": "stdout",
     "output_type": "stream",
     "text": [
      "\n",
      "Downloading: 100%|\u001b[32m██████████\u001b[0m|\n",
      "     disbursementdate                  digitalLoanAccountId  bu_bureau_score  \\\n",
      "0 2023-01-10 13:04:21  a9a82293-c02a-44b9-a901-433ed8867b91            369.0   \n",
      "1 2023-01-13 18:19:41  546fd78e-d4c0-4eb6-8667-00aa187b0ddd            401.0   \n",
      "\n",
      "   ln_fstpd30_flag  ln_mature_fstpd30_flag  \n",
      "0                0                       1  \n",
      "1                0                       1  \n",
      "The shape of dataframe after copy is:\t(92, 7)\n",
      "['start_date' 'end_date' 'bu_bureau_score_FSTPD30_gini' 'period'\n",
      " 'Model_Name' 'version' 'bad_rate']\n"
     ]
    },
    {
     "data": {
      "application/vnd.microsoft.datawrangler.viewer.v0+json": {
       "columns": [
        {
         "name": "index",
         "rawType": "int64",
         "type": "integer"
        },
        {
         "name": "start_date",
         "rawType": "datetime64[ns]",
         "type": "datetime"
        },
        {
         "name": "end_date",
         "rawType": "datetime64[ns]",
         "type": "datetime"
        },
        {
         "name": "bu_bureau_score_FSTPD30_gini",
         "rawType": "float64",
         "type": "float"
        },
        {
         "name": "period",
         "rawType": "object",
         "type": "string"
        },
        {
         "name": "Model_Name",
         "rawType": "object",
         "type": "string"
        },
        {
         "name": "version",
         "rawType": "object",
         "type": "string"
        },
        {
         "name": "bad_rate",
         "rawType": "object",
         "type": "string"
        }
       ],
       "conversionMethod": "pd.DataFrame",
       "ref": "8d6a2828-8548-49ce-b2d9-5224e93ebc00",
       "rows": [
        [
         "0",
         "2023-01-01 00:00:00",
         "2023-01-31 00:00:00",
         "0.031249999999999778",
         "Month",
         "bu_bureau_score",
         "1.1.0",
         "FSTPD30"
        ],
        [
         "1",
         "2023-01-09 00:00:00",
         "2023-01-15 00:00:00",
         "-0.05333333333333312",
         "Week",
         "bu_bureau_score",
         "1.1.0",
         "FSTPD30"
        ],
        [
         "2",
         "2023-01-16 00:00:00",
         "2023-01-22 00:00:00",
         "-0.8333333333333334",
         "Week",
         "bu_bureau_score",
         "1.1.0",
         "FSTPD30"
        ],
        [
         "3",
         "2023-01-23 00:00:00",
         "2023-01-29 00:00:00",
         "0.4166666666666665",
         "Week",
         "bu_bureau_score",
         "1.1.0",
         "FSTPD30"
        ],
        [
         "4",
         "2023-01-30 00:00:00",
         "2023-02-05 00:00:00",
         "0.2666666666666666",
         "Week",
         "bu_bureau_score",
         "1.1.0",
         "FSTPD30"
        ]
       ],
       "shape": {
        "columns": 7,
        "rows": 5
       }
      },
      "text/html": [
       "<div>\n",
       "<style scoped>\n",
       "    .dataframe tbody tr th:only-of-type {\n",
       "        vertical-align: middle;\n",
       "    }\n",
       "\n",
       "    .dataframe tbody tr th {\n",
       "        vertical-align: top;\n",
       "    }\n",
       "\n",
       "    .dataframe thead th {\n",
       "        text-align: right;\n",
       "    }\n",
       "</style>\n",
       "<table border=\"1\" class=\"dataframe\">\n",
       "  <thead>\n",
       "    <tr style=\"text-align: right;\">\n",
       "      <th></th>\n",
       "      <th>start_date</th>\n",
       "      <th>end_date</th>\n",
       "      <th>bu_bureau_score_FSTPD30_gini</th>\n",
       "      <th>period</th>\n",
       "      <th>Model_Name</th>\n",
       "      <th>version</th>\n",
       "      <th>bad_rate</th>\n",
       "    </tr>\n",
       "  </thead>\n",
       "  <tbody>\n",
       "    <tr>\n",
       "      <th>0</th>\n",
       "      <td>2023-01-01</td>\n",
       "      <td>2023-01-31</td>\n",
       "      <td>0.031250</td>\n",
       "      <td>Month</td>\n",
       "      <td>bu_bureau_score</td>\n",
       "      <td>1.1.0</td>\n",
       "      <td>FSTPD30</td>\n",
       "    </tr>\n",
       "    <tr>\n",
       "      <th>1</th>\n",
       "      <td>2023-01-09</td>\n",
       "      <td>2023-01-15</td>\n",
       "      <td>-0.053333</td>\n",
       "      <td>Week</td>\n",
       "      <td>bu_bureau_score</td>\n",
       "      <td>1.1.0</td>\n",
       "      <td>FSTPD30</td>\n",
       "    </tr>\n",
       "    <tr>\n",
       "      <th>2</th>\n",
       "      <td>2023-01-16</td>\n",
       "      <td>2023-01-22</td>\n",
       "      <td>-0.833333</td>\n",
       "      <td>Week</td>\n",
       "      <td>bu_bureau_score</td>\n",
       "      <td>1.1.0</td>\n",
       "      <td>FSTPD30</td>\n",
       "    </tr>\n",
       "    <tr>\n",
       "      <th>3</th>\n",
       "      <td>2023-01-23</td>\n",
       "      <td>2023-01-29</td>\n",
       "      <td>0.416667</td>\n",
       "      <td>Week</td>\n",
       "      <td>bu_bureau_score</td>\n",
       "      <td>1.1.0</td>\n",
       "      <td>FSTPD30</td>\n",
       "    </tr>\n",
       "    <tr>\n",
       "      <th>4</th>\n",
       "      <td>2023-01-30</td>\n",
       "      <td>2023-02-05</td>\n",
       "      <td>0.266667</td>\n",
       "      <td>Week</td>\n",
       "      <td>bu_bureau_score</td>\n",
       "      <td>1.1.0</td>\n",
       "      <td>FSTPD30</td>\n",
       "    </tr>\n",
       "  </tbody>\n",
       "</table>\n",
       "</div>"
      ],
      "text/plain": [
       "  start_date   end_date  bu_bureau_score_FSTPD30_gini period       Model_Name  \\\n",
       "0 2023-01-01 2023-01-31                      0.031250  Month  bu_bureau_score   \n",
       "1 2023-01-09 2023-01-15                     -0.053333   Week  bu_bureau_score   \n",
       "2 2023-01-16 2023-01-22                     -0.833333   Week  bu_bureau_score   \n",
       "3 2023-01-23 2023-01-29                      0.416667   Week  bu_bureau_score   \n",
       "4 2023-01-30 2023-02-05                      0.266667   Week  bu_bureau_score   \n",
       "\n",
       "  version bad_rate  \n",
       "0   1.1.0  FSTPD30  \n",
       "1   1.1.0  FSTPD30  \n",
       "2   1.1.0  FSTPD30  \n",
       "3   1.1.0  FSTPD30  \n",
       "4   1.1.0  FSTPD30  "
      ]
     },
     "execution_count": 158,
     "metadata": {},
     "output_type": "execute_result"
    }
   ],
   "source": [
    "sq = \"\"\"\n",
    "with bu_bureau_score as \n",
    "(SELECT \n",
    "    ln_disb_dtime disbursementdate,\n",
    "\tdigitalLoanAccountId,\n",
    "    bu_bureau_score,\n",
    "    ln_fpd10_flag,\n",
    "\tln_mature_fpd10_flag,\t\n",
    "\tFROM \n",
    "    prj-prod-dataplatform.risk_mart.sil_risk_ds_master_20230101_20250206\n",
    "  WHERE \n",
    "     -- ln_disb_dtime >= '2023-07-01'\n",
    "    ln_appln_submit_datetime >= '2023-01-01'\n",
    "  -- AND\n",
    "  --   format_date('%Y-%m', ln_disb_dtime) = '2024-09'\n",
    "  AND\n",
    "    ln_fpd10_flag is not null\n",
    "  AND\n",
    "    coalesce(bu_bureau_score, 0.0) > 0.0\n",
    "  AND\n",
    "    ln_mature_fpd10_flag = 1\n",
    ")\n",
    "select * from bu_bureau_score;\n",
    "\"\"\"\n",
    "\n",
    "bu_bureau_scorefpd10 = client.query(sq).to_dataframe(progress_bar_type='tqdm')\n",
    "\n",
    "bu_bureau_scorefpd10.head()\n",
    "\n",
    "gini_results = calculate_periodic_gini_threedigit(bu_bureau_scorefpd10, 'bu_bureau_score', 'ln_fpd10_flag', 'FPD10')\n",
    "M1FPD10 = gini_results.copy()\n",
    "print(f\"The shape of dataframe after copy is:\\t{M1FPD10.shape}\")\n",
    "M1FPD10.columns.values\n",
    "\n",
    "# FPD30\n",
    "\n",
    "sq = \"\"\"\n",
    "with bu_bureau_score as \n",
    "(SELECT \n",
    "    ln_disb_dtime disbursementdate,\n",
    "\tdigitalLoanAccountId,\n",
    "    bu_bureau_score,\n",
    "    ln_fpd30_flag,\n",
    "\tln_mature_fpd30_flag,\t\n",
    "\tFROM \n",
    "    prj-prod-dataplatform.risk_mart.sil_risk_ds_master_20230101_20250206\n",
    "  WHERE \n",
    "     -- ln_disb_dtime >= '2023-07-01'\n",
    "    ln_appln_submit_datetime >= '2023-01-01'\n",
    "  -- AND\n",
    "  --   format_date('%Y-%m', ln_disb_dtime) = '2024-09'\n",
    "  AND\n",
    "    ln_fpd30_flag is not null\n",
    "  AND\n",
    "    coalesce(bu_bureau_score, 0.0) > 0.0\n",
    "  AND\n",
    "    ln_mature_fpd30_flag = 1\n",
    ")\n",
    "select * from bu_bureau_score;\n",
    "\"\"\"\n",
    "\n",
    "bu_bureau_scorefpd30 = client.query(sq).to_dataframe(progress_bar_type='tqdm')\n",
    "\n",
    "bu_bureau_scorefpd30.head()\n",
    "\n",
    "gini_results = calculate_periodic_gini_threedigit(bu_bureau_scorefpd30, 'bu_bureau_score', 'ln_fpd30_flag', 'FPD30')\n",
    "M2FPD30 = gini_results.copy()\n",
    "print(f\"The shape of dataframe after copy is:\\t{M2FPD30.shape}\")\n",
    "M2FPD30.columns.values\n",
    "\n",
    "sq = \"\"\"\n",
    "with bu_bureau_score as \n",
    "(SELECT \n",
    "    ln_disb_dtime disbursementdate,\n",
    "\tdigitalLoanAccountId,\n",
    "    bu_bureau_score,\n",
    "    ln_fspd30_flag,\n",
    "\tln_mature_fspd30_flag,\t\n",
    "\tFROM \n",
    "    prj-prod-dataplatform.risk_mart.sil_risk_ds_master_20230101_20250206\n",
    "  WHERE \n",
    "     -- ln_disb_dtime >= '2023-07-01'\n",
    "    ln_appln_submit_datetime >= '2023-01-01'\n",
    "  -- AND\n",
    "  --   format_date('%Y-%m', ln_disb_dtime) = '2024-09'\n",
    "  AND\n",
    "    ln_fspd30_flag is not null\n",
    "  AND\n",
    "    coalesce(bu_bureau_score, 0.0) > 0.0\n",
    "  AND\n",
    "    ln_mature_fspd30_flag = 1\n",
    ")\n",
    "select * from bu_bureau_score;\n",
    "\"\"\"\n",
    "\n",
    "bu_bureau_scorefspd30 = client.query(sq).to_dataframe(progress_bar_type='tqdm')\n",
    "\n",
    "print(bu_bureau_scorefspd30.head(2))\n",
    "\n",
    "gini_results = calculate_periodic_gini_threedigit(bu_bureau_scorefspd30, 'bu_bureau_score', 'ln_fspd30_flag', 'FSPD30')\n",
    "M3FSPD30 = gini_results.copy()\n",
    "print(f\"The shape of dataframe after copy is:\\t{M3FSPD30.shape}\")\n",
    "print(M3FSPD30.columns.values)\n",
    "\n",
    "M3FSPD30.head()\n",
    "\n",
    "sq = \"\"\"\n",
    "with bu_bureau_score as \n",
    "(SELECT \n",
    "    ln_disb_dtime disbursementdate,\n",
    "\tdigitalLoanAccountId,\n",
    "    bu_bureau_score,\n",
    "    ln_fstpd30_flag,\n",
    "\tln_mature_fstpd30_flag,\t\n",
    "\tFROM \n",
    "    prj-prod-dataplatform.risk_mart.sil_risk_ds_master_20230101_20250206\n",
    "  WHERE \n",
    "     -- ln_disb_dtime >= '2023-07-01'\n",
    "    ln_appln_submit_datetime >= '2023-01-01'\n",
    "  -- AND\n",
    "  --   format_date('%Y-%m', ln_disb_dtime) = '2024-09'\n",
    "  AND\n",
    "    ln_fstpd30_flag is not null\n",
    "  AND\n",
    "    coalesce(bu_bureau_score, 0.0) > 0.0\n",
    "  AND\n",
    "    ln_mature_fstpd30_flag = 1\n",
    ")\n",
    "select * from bu_bureau_score;\n",
    "\"\"\"\n",
    "\n",
    "bu_bureau_scorefstpd30 = client.query(sq).to_dataframe(progress_bar_type='tqdm')\n",
    "\n",
    "print(bu_bureau_scorefstpd30.head(2))\n",
    "\n",
    "gini_results = calculate_periodic_gini_threedigit(bu_bureau_scorefstpd30, 'bu_bureau_score', 'ln_fstpd30_flag', 'FSTPD30')\n",
    "M4FSTPD30 = gini_results.copy()\n",
    "print(f\"The shape of dataframe after copy is:\\t{M4FSTPD30.shape}\")\n",
    "print(M4FSTPD30.columns.values)\n",
    "\n",
    "M4FSTPD30.head()\n",
    "\n"
   ]
  },
  {
   "cell_type": "code",
   "execution_count": null,
   "metadata": {},
   "outputs": [],
   "source": []
  },
  {
   "cell_type": "markdown",
   "metadata": {},
   "source": [
    "## Combining data"
   ]
  },
  {
   "cell_type": "code",
   "execution_count": 159,
   "metadata": {},
   "outputs": [
    {
     "data": {
      "text/plain": [
       "array(['start_date', 'end_date', 'bu_bureau_score_FPD10_gini', 'period',\n",
       "       'Model_Name', 'version', 'bad_rate', 'bu_bureau_score_FPD30_gini',\n",
       "       'bu_bureau_score_FSPD30_gini', 'bu_bureau_score_FSTPD30_gini'],\n",
       "      dtype=object)"
      ]
     },
     "execution_count": 159,
     "metadata": {},
     "output_type": "execute_result"
    }
   ],
   "source": [
    "import functools\n",
    "\n",
    "dataframes = [M1FPD10, M2FPD30, M3FSPD30, M4FSTPD30]\n",
    "common_columns = ['start_date', 'end_date', 'period', 'Model_Name','version', 'bad_rate']\n",
    "\n",
    "def merge_dataframes(df1, df2):\n",
    "    return pd.merge(df1, df2, on=common_columns, how='outer')\n",
    "\n",
    "final_df = functools.reduce(merge_dataframes, dataframes)\n",
    "\n",
    "final_df.columns.values"
   ]
  },
  {
   "cell_type": "code",
   "execution_count": 160,
   "metadata": {},
   "outputs": [],
   "source": [
    "final_df = final_df[['start_date', 'end_date', 'period',   'Model_Name', 'version', 'bad_rate','bu_bureau_score_FPD10_gini','bu_bureau_score_FPD30_gini',    'bu_bureau_score_FSPD30_gini', 'bu_bureau_score_FSTPD30_gini']].copy()"
   ]
  },
  {
   "cell_type": "code",
   "execution_count": 161,
   "metadata": {},
   "outputs": [
    {
     "data": {
      "text/plain": [
       "QueryJob<project=prj-prod-dataplatform, location=asia-southeast1, id=898aa4b7-6282-48d9-bd98-156ac485eff4>"
      ]
     },
     "execution_count": 161,
     "metadata": {},
     "output_type": "execute_result"
    }
   ],
   "source": [
    "sq = \"\"\"drop table if exists prj-prod-dataplatform.dap_ds_poweruser_playground.Model_gini_bu_bureau_score;\"\"\"\n",
    "client.query(sq)"
   ]
  },
  {
   "cell_type": "code",
   "execution_count": 162,
   "metadata": {},
   "outputs": [
    {
     "data": {
      "text/plain": [
       "LoadJob<project=prj-prod-dataplatform, location=asia-southeast1, id=952cbe39-4459-4b1c-8d7a-f4397b31e68b>"
      ]
     },
     "execution_count": 162,
     "metadata": {},
     "output_type": "execute_result"
    }
   ],
   "source": [
    "import pandas as pd\n",
    "from google.cloud import bigquery\n",
    "\n",
    "# Create a BigQuery client\n",
    "client = bigquery.Client('prj-prod-dataplatform')\n",
    "\n",
    "# Define your table schema\n",
    "table_schema = [\n",
    "    bigquery.SchemaField('start_date', 'TIMESTAMP'),\n",
    "    bigquery.SchemaField('end_date', 'TIMESTAMP'),\n",
    "    bigquery.SchemaField('period', 'STRING'),\n",
    "    bigquery.SchemaField('Model_Name', 'STRING'),\n",
    "    bigquery.SchemaField('version', 'STRING'),\n",
    "    bigquery.SchemaField('Badrate', 'STRING'),\n",
    "    bigquery.SchemaField('bu_bureau_score_FPD10_gini', 'FLOAT'),\n",
    "    bigquery.SchemaField('bu_bureau_score_FPD30_gini', 'FLOAT'),    \n",
    "    bigquery.SchemaField('bu_bureau_score_FSPD30_gini', 'FLOAT'),\n",
    "    bigquery.SchemaField('bu_bureau_score_FSTPD30_gini', 'FLOAT')\n",
    "    \n",
    "]\n",
    "\n",
    "# Create your BigQuery table\n",
    "table_id = 'prj-prod-dataplatform.dap_ds_poweruser_playground.Model_gini_bu_bureau_score'\n",
    "table = bigquery.Table(table_id, schema=table_schema)\n",
    "table = client.create_table(table)\n",
    "\n",
    "# Load your DataFrame into BigQuery\n",
    "job_config = bigquery.LoadJobConfig(\n",
    "    write_disposition='WRITE_TRUNCATE'\n",
    ")\n",
    "\n",
    "load_job = client.load_table_from_dataframe(\n",
    "    final_df, table_id, job_config=job_config\n",
    ")\n",
    "\n",
    "load_job.result()"
   ]
  },
  {
   "cell_type": "code",
   "execution_count": null,
   "metadata": {},
   "outputs": [],
   "source": []
  }
 ],
 "metadata": {
  "kernelspec": {
   "display_name": "inc_env",
   "language": "python",
   "name": "python3"
  },
  "language_info": {
   "codemirror_mode": {
    "name": "ipython",
    "version": 3
   },
   "file_extension": ".py",
   "mimetype": "text/x-python",
   "name": "python",
   "nbconvert_exporter": "python",
   "pygments_lexer": "ipython3",
   "version": "3.8.20"
  }
 },
 "nbformat": 4,
 "nbformat_minor": 2
}
