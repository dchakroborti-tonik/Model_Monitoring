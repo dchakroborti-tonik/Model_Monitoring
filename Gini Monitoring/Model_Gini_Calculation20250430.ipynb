{
 "cells": [
  {
   "cell_type": "markdown",
   "metadata": {},
   "source": [
    "# <center> Model Gini Calculation </center>"
   ]
  },
  {
   "cell_type": "code",
   "execution_count": 1,
   "metadata": {},
   "outputs": [],
   "source": [
    "# %% [markdown]\n",
    "# # Jupyter Notebook Loading Header\n",
    "#\n",
    "# This is a custom loading header for Jupyter Notebooks in Visual Studio Code.\n",
    "# It includes common imports and settings to get you started quickly.\n",
    "\n",
    "# %% [markdown]\n",
    "## Import Libraries\n",
    "import pandas as pd\n",
    "import numpy as np\n",
    "import matplotlib.pyplot as plt\n",
    "import seaborn as sns\n",
    "from google.cloud import bigquery\n",
    "from google.cloud import storage\n",
    "import os\n",
    "path = r'C:\\Users\\Dwaipayan\\AppData\\Roaming\\gcloud\\legacy_credentials\\dchakroborti@tonikbank.com\\adc.json'\n",
    "os.environ['GOOGLE_APPLICATION_CREDENTIALS'] = path\n",
    "client = bigquery.Client(project='prj-prod-dataplatform')\n",
    "\n",
    "from sklearn.metrics import roc_auc_score\n",
    "from datetime import datetime, timedelta\n",
    "# %% [markdown]\n",
    "## Configure Settings\n",
    "# Set options or configurations as needed\n",
    "# Example: pd.set_option('display.max_columns', None)"
   ]
  },
  {
   "cell_type": "markdown",
   "metadata": {},
   "source": [
    "# Function"
   ]
  },
  {
   "cell_type": "markdown",
   "metadata": {},
   "source": [
    "## calculate_gini_for_threedigitscore"
   ]
  },
  {
   "cell_type": "code",
   "execution_count": 2,
   "metadata": {},
   "outputs": [],
   "source": [
    "# def calculate_gini_for_threedigitscore(scores, labels):\n",
    "#     \"\"\"\n",
    "#     Calculate Gini coefficient for three-digit scores and binary labels\n",
    "    \n",
    "#     Parameters:\n",
    "#     scores: array-like, three-digit scores (higher is better)\n",
    "#     labels: array-like, binary values (0 or 1, where 1 indicates default)\n",
    "    \n",
    "#     Returns:\n",
    "#     float: Gini coefficient\n",
    "#     \"\"\"\n",
    "#     # Combine scores and labels into a DataFrame\n",
    "#     df = pd.DataFrame({'score': scores, 'label': labels})\n",
    "    \n",
    "#     # Sort by score in descending order (assuming higher score is better)\n",
    "#     df = df.sort_values('score', ascending=False)\n",
    "    \n",
    "#     # Calculate cumulative values\n",
    "#     total_pos = df['label'].sum()\n",
    "#     total_neg = len(df) - total_pos\n",
    "    \n",
    "#     if total_pos == 0 or total_neg == 0:\n",
    "#         return 0\n",
    "    \n",
    "#     # Calculate cumulative proportions\n",
    "#     cum_pos = df['label'].cumsum()\n",
    "#     cum_neg = np.arange(1, len(df) + 1) - cum_pos\n",
    "    \n",
    "#     # Convert to proportions\n",
    "#     cum_pos_prop = cum_pos / total_pos\n",
    "#     cum_neg_prop = cum_neg / total_neg\n",
    "    \n",
    "#     # Calculate Gini\n",
    "#     gini = 1 - np.trapz(cum_pos_prop, cum_neg_prop)\n",
    "    \n",
    "#     return gini\n",
    "\n",
    "\n",
    "## Modified one\n",
    "\n",
    "def calculate_gini_for_threedigitscore(scores, labels):\n",
    "    \"\"\"\n",
    "    Calculate Gini coefficient for three-digit scores and binary labels\n",
    "    \n",
    "    Parameters:\n",
    "    scores: array-like, three-digit scores (higher is better)\n",
    "    labels: array-like, binary values (0 or 1, where 1 indicates default)\n",
    "    \n",
    "    Returns:\n",
    "    float: Gini coefficient\n",
    "    \"\"\"\n",
    "    # Combine scores and labels into a DataFrame\n",
    "    df = pd.DataFrame({'score': scores, 'label': labels})\n",
    "    \n",
    "    # Sort by score in descending order (assuming higher score means lower risk)\n",
    "    # For default prediction, we want to sort scores in ascending order \n",
    "    # since higher default probability should correspond to higher risk\n",
    "    df = df.sort_values('score', ascending=True)  # Changed to ascending=True\n",
    "    \n",
    "    # Calculate cumulative values\n",
    "    total_pos = df['label'].sum()\n",
    "    total_neg = len(df) - total_pos\n",
    "    \n",
    "    if total_pos == 0 or total_neg == 0:\n",
    "        return 0\n",
    "    \n",
    "    # Calculate cumulative proportions\n",
    "    cum_pos = df['label'].cumsum()\n",
    "    cum_neg = np.arange(1, len(df) + 1) - cum_pos\n",
    "    \n",
    "    # Convert to proportions\n",
    "    cum_pos_prop = cum_pos / total_pos\n",
    "    cum_neg_prop = cum_neg / total_neg\n",
    "    \n",
    "    # Calculate area under curve\n",
    "    auc = np.trapz(cum_pos_prop, cum_neg_prop)\n",
    "    \n",
    "    # Calculate Gini\n",
    "    gini = 2 * auc - 1\n",
    "    \n",
    "    return gini"
   ]
  },
  {
   "cell_type": "markdown",
   "metadata": {},
   "source": [
    "## calculate_gini"
   ]
  },
  {
   "cell_type": "code",
   "execution_count": 3,
   "metadata": {},
   "outputs": [],
   "source": [
    "def calculate_gini(pd_scores, bad_indicators):\n",
    "    \"\"\"\n",
    "    Calculate Gini coefficient from scores and binary indicators\n",
    "    \n",
    "    Parameters:\n",
    "    pd_scores: array-like of scores/probabilities\n",
    "    bad_indicators: array-like of binary outcomes (0/1)\n",
    "    \n",
    "    Returns:\n",
    "    float: Gini coefficient\n",
    "    \"\"\"\n",
    "    # Convert inputs to numpy arrays and ensure they're numeric\n",
    "    pd_scores = np.array(pd_scores, dtype=float)\n",
    "    bad_indicators = np.array(bad_indicators, dtype=int)\n",
    "    \n",
    "    # Check for valid input data\n",
    "    if len(pd_scores) == 0 or len(bad_indicators) == 0:\n",
    "        return np.nan\n",
    "    \n",
    "    # Check if we have both good and bad cases (needed for ROC AUC)\n",
    "    if len(np.unique(bad_indicators)) < 2:\n",
    "        return np.nan\n",
    "    \n",
    "    # Calculate AUC using sklearn\n",
    "    try:\n",
    "        auc = roc_auc_score(bad_indicators, pd_scores)\n",
    "        # Calculate Gini from AUC\n",
    "        gini = 2 * auc - 1\n",
    "        return gini\n",
    "    except ValueError:\n",
    "        return np.nan"
   ]
  },
  {
   "cell_type": "markdown",
   "metadata": {},
   "source": [
    "## calculate_hybrid_gini"
   ]
  },
  {
   "cell_type": "code",
   "execution_count": 4,
   "metadata": {},
   "outputs": [],
   "source": [
    "# def calculate_hybrid_gini(scores, labels):\n",
    "#     \"\"\"\n",
    "#     Calculate Gini coefficient handling both PD values and three-digit scores\n",
    "    \n",
    "#     Parameters:\n",
    "#     scores: array-like, contains either PD values (0-1) or three-digit scores\n",
    "#     labels: array-like, binary values (0 or 1, where 1 indicates default)\n",
    "    \n",
    "#     Returns:\n",
    "#     float: Gini coefficient\n",
    "#     \"\"\"\n",
    "#     # Convert inputs to numpy arrays\n",
    "#     scores = np.array(scores, dtype=float)\n",
    "#     labels = np.array(labels, dtype=int)\n",
    "    \n",
    "#     # Basic validation\n",
    "#     if len(scores) == 0 or len(labels) == 0:\n",
    "#         return np.nan\n",
    "    \n",
    "#     if len(np.unique(labels)) < 2:\n",
    "#         return np.nan\n",
    "        \n",
    "#     # Determine if scores are PD values or three-digit scores\n",
    "#     # PD values are between 0 and 1\n",
    "#     is_pd = np.all((scores >= 0) & (scores <= 1))\n",
    "    \n",
    "#     if is_pd:\n",
    "#         try:\n",
    "#             auc = roc_auc_score(labels, scores)\n",
    "#             gini = 2 * auc - 1\n",
    "#             return gini\n",
    "#         except ValueError:\n",
    "#             return np.nan\n",
    "#     else:\n",
    "#         # Handle as three-digit score\n",
    "#         df = pd.DataFrame({'score': scores, 'label': labels})\n",
    "#         df = df.sort_values('score', ascending=False)\n",
    "        \n",
    "#         total_pos = df['label'].sum()\n",
    "#         total_neg = len(df) - total_pos\n",
    "        \n",
    "#         if total_pos == 0 or total_neg == 0:\n",
    "#             return np.nan\n",
    "        \n",
    "#         cum_pos = df['label'].cumsum()\n",
    "#         cum_neg = np.arange(1, len(df) + 1) - cum_pos\n",
    "        \n",
    "#         cum_pos_prop = cum_pos / total_pos\n",
    "#         cum_neg_prop = cum_neg / total_neg\n",
    "        \n",
    "#         gini = 1 - np.trapz(cum_pos_prop, cum_neg_prop)\n",
    "#         return gini\n",
    "\n",
    "## Modified one\n",
    "\n",
    "def calculate_hybrid_gini(scores, labels):\n",
    "    \"\"\"\n",
    "    Calculate Gini coefficient handling both PD values and three-digit scores\n",
    "    \n",
    "    Parameters:\n",
    "    scores: array-like, contains either PD values (0-1) or three-digit scores\n",
    "    labels: array-like, binary values (0 or 1, where 1 indicates default)\n",
    "    \n",
    "    Returns:\n",
    "    float: Gini coefficient\n",
    "    \"\"\"\n",
    "    # Convert inputs to numpy arrays\n",
    "    scores = np.array(scores, dtype=float)\n",
    "    labels = np.array(labels, dtype=int)\n",
    "    \n",
    "    # Basic validation\n",
    "    if len(scores) == 0 or len(labels) == 0:\n",
    "        return np.nan\n",
    "    \n",
    "    if len(np.unique(labels)) < 2:\n",
    "        return np.nan\n",
    "        \n",
    "    # Determine if scores are PD values or three-digit scores\n",
    "    # PD values are between 0 and 1\n",
    "    is_pd = np.all((scores >= 0) & (scores <= 1))\n",
    "    \n",
    "    if is_pd:\n",
    "        try:\n",
    "            auc = roc_auc_score(labels, scores)\n",
    "            gini = 2 * auc - 1\n",
    "            return gini\n",
    "        except ValueError:\n",
    "            return np.nan\n",
    "    else:\n",
    "        # Handle as three-digit score\n",
    "        df = pd.DataFrame({'score': scores, 'label': labels})\n",
    "        # Sort by score in ascending order since higher score means higher risk\n",
    "        df = df.sort_values('score', ascending=True)\n",
    "        \n",
    "        total_pos = df['label'].sum()\n",
    "        total_neg = len(df) - total_pos\n",
    "        \n",
    "        if total_pos == 0 or total_neg == 0:\n",
    "            return np.nan\n",
    "        \n",
    "        cum_pos = df['label'].cumsum()\n",
    "        cum_neg = np.arange(1, len(df) + 1) - cum_pos\n",
    "        \n",
    "        cum_pos_prop = cum_pos / total_pos\n",
    "        cum_neg_prop = cum_neg / total_neg\n",
    "        \n",
    "        # Calculate area under curve\n",
    "        auc = np.trapz(cum_pos_prop, cum_neg_prop)\n",
    "        \n",
    "        # Calculate Gini using the same formula as PD values\n",
    "        gini = 2 * auc - 1\n",
    "        return gini"
   ]
  },
  {
   "cell_type": "markdown",
   "metadata": {},
   "source": [
    "## calculate_periodic_gini_threedigit"
   ]
  },
  {
   "cell_type": "code",
   "execution_count": 5,
   "metadata": {},
   "outputs": [],
   "source": [
    "# Main processing code\n",
    "def calculate_periodic_gini_threedigit(df, score_column, label_column, namecolumn):\n",
    "    \"\"\"\n",
    "    Calculate periodic Gini coefficients\n",
    "    \n",
    "    Parameters:\n",
    "    df: DataFrame with disbursement dates and score/label columns\n",
    "    score_column: name of the score column\n",
    "    label_column: name of the label column\n",
    "    \"\"\"\n",
    "    # Ensure date is datetime type\n",
    "    df['disbursementdate'] = pd.to_datetime(df['disbursementdate'])\n",
    "    \n",
    "    # Calculate weekly Gini\n",
    "    df['week'] = df['disbursementdate'].dt.to_period('W')\n",
    "    weekly_gini = df.groupby('week').apply(\n",
    "        lambda x: calculate_gini_for_threedigitscore(x[score_column], x[label_column])\n",
    "    ).reset_index(name='gini')\n",
    "    weekly_gini['period'] = 'Week'\n",
    "    weekly_gini['start_date'] = weekly_gini['week'].apply(lambda x: x.to_timestamp())\n",
    "    weekly_gini['end_date'] = weekly_gini['start_date'] + timedelta(days=6)\n",
    "    weekly_gini = weekly_gini[['start_date', 'end_date', 'gini', 'period']]\n",
    "    \n",
    "    # Calculate monthly Gini\n",
    "    df['month'] = df['disbursementdate'].dt.to_period('M')\n",
    "    monthly_gini = df.groupby('month').apply(\n",
    "        lambda x: calculate_gini_for_threedigitscore(x[score_column], x[label_column])\n",
    "    ).reset_index(name='gini')\n",
    "    monthly_gini['period'] = 'Month'\n",
    "    monthly_gini['start_date'] = monthly_gini['month'].apply(lambda x: x.to_timestamp())\n",
    "    monthly_gini['end_date'] = monthly_gini['start_date'] + pd.DateOffset(months=1) - pd.Timedelta(days=1)\n",
    "    monthly_gini = monthly_gini[['start_date', 'end_date', 'gini', 'period']]\n",
    "    \n",
    "    # Combine and sort results\n",
    "    gini_results = pd.concat([weekly_gini, monthly_gini])\n",
    "    gini_results = gini_results.sort_values(by='start_date').reset_index(drop=True)\n",
    "    \n",
    "    # Add metadata columns\n",
    "    gini_results['Model_Name'] = score_column\n",
    "    gini_results['version'] = '1.1.0'\n",
    "    gini_results['bad_rate'] = namecolumn\n",
    "    gini_results.rename(columns={'gini': f'{score_column}_{namecolumn}_gini'}, inplace=True)\n",
    "    \n",
    "    return gini_results"
   ]
  },
  {
   "cell_type": "markdown",
   "metadata": {},
   "source": [
    "## calculate_periodic_gini"
   ]
  },
  {
   "cell_type": "code",
   "execution_count": 6,
   "metadata": {},
   "outputs": [],
   "source": [
    "def calculate_periodic_gini(df, score_column, label_column, namecolumn):\n",
    "    \"\"\"\n",
    "    Calculate periodic Gini coefficients\n",
    "    \n",
    "    Parameters:\n",
    "    df: DataFrame with disbursement dates and score/label columns\n",
    "    score_column: name of the score column\n",
    "    label_column: name of the label column\n",
    "    \"\"\"\n",
    "    # Input validation\n",
    "    required_columns = ['disbursementdate', score_column, label_column]\n",
    "    if not all(col in df.columns for col in required_columns):\n",
    "        raise ValueError(f\"Missing required columns. Need: {required_columns}\")\n",
    "        \n",
    "    # Create a copy to avoid modifying original dataframe\n",
    "    df = df.copy()\n",
    "    \n",
    "    # Ensure date is datetime type\n",
    "    df['disbursementdate'] = pd.to_datetime(df['disbursementdate'])\n",
    "    \n",
    "    # Ensure score and label columns are numeric\n",
    "    df[score_column] = pd.to_numeric(df[score_column], errors='coerce')\n",
    "    df[label_column] = pd.to_numeric(df[label_column], errors='coerce')\n",
    "    \n",
    "    # Drop rows with invalid values\n",
    "    df = df.dropna(subset=[score_column, label_column])\n",
    "    \n",
    "    # Calculate weekly Gini\n",
    "    df['week'] = df['disbursementdate'].dt.to_period('W')\n",
    "    weekly_gini = df.groupby('week').apply(\n",
    "        lambda x: calculate_gini(x[score_column], x[label_column])\n",
    "        if len(x) >= 10 else np.nan  # Only calculate if we have enough samples\n",
    "    ).reset_index(name='gini')\n",
    "    weekly_gini['period'] = 'Week'\n",
    "    weekly_gini['start_date'] = weekly_gini['week'].apply(lambda x: x.to_timestamp())\n",
    "    weekly_gini['end_date'] = weekly_gini['start_date'] + timedelta(days=6)\n",
    "    weekly_gini = weekly_gini[['start_date', 'end_date', 'gini', 'period']]\n",
    "    \n",
    "    # Calculate monthly Gini\n",
    "    df['month'] = df['disbursementdate'].dt.to_period('M')\n",
    "    monthly_gini = df.groupby('month').apply(\n",
    "        lambda x: calculate_gini(x[score_column], x[label_column])\n",
    "        if len(x) >= 20 else np.nan  # Only calculate if we have enough samples\n",
    "    ).reset_index(name='gini')\n",
    "    monthly_gini['period'] = 'Month'\n",
    "    monthly_gini['start_date'] = monthly_gini['month'].apply(lambda x: x.to_timestamp())\n",
    "    monthly_gini['end_date'] = monthly_gini['start_date'] + pd.DateOffset(months=1) - pd.Timedelta(days=1)\n",
    "    monthly_gini = monthly_gini[['start_date', 'end_date', 'gini', 'period']]\n",
    "    \n",
    "    # Combine and sort results\n",
    "    gini_results = pd.concat([weekly_gini, monthly_gini])\n",
    "    gini_results = gini_results.sort_values(by='start_date').reset_index(drop=True)\n",
    "    \n",
    "    # Add metadata columns\n",
    "    gini_results['Model_Name'] = score_column\n",
    "    gini_results['version'] = '1.1.0'\n",
    "    gini_results['bad_rate'] = namecolumn\n",
    "    gini_results.rename(columns={'gini': f'{score_column}_{namecolumn}_gini'}, inplace=True)\n",
    "    \n",
    "    return gini_results"
   ]
  },
  {
   "cell_type": "markdown",
   "metadata": {},
   "source": [
    "## calculate_periodic_hybrid_gini"
   ]
  },
  {
   "cell_type": "code",
   "execution_count": 7,
   "metadata": {},
   "outputs": [],
   "source": [
    "def calculate_periodic_hybrid_gini(df, score_column, label_column, namecolumn):\n",
    "    \"\"\"\n",
    "    Calculate periodic Gini coefficients for mixed score types\n",
    "    \n",
    "    Parameters:\n",
    "    df: DataFrame with disbursement dates and score/label columns\n",
    "    score_column: name of the score column\n",
    "    label_column: name of the label column\n",
    "    \"\"\"\n",
    "    # Input validation\n",
    "    required_columns = ['disbursementdate', score_column, label_column]\n",
    "    if not all(col in df.columns for col in required_columns):\n",
    "        raise ValueError(f\"Missing required columns. Need: {required_columns}\")\n",
    "        \n",
    "    # Create a copy to avoid modifying original dataframe\n",
    "    df = df.copy()\n",
    "    \n",
    "    # Ensure date is datetime type\n",
    "    df['disbursementdate'] = pd.to_datetime(df['disbursementdate'])\n",
    "    \n",
    "    # Ensure score and label columns are numeric\n",
    "    df[score_column] = pd.to_numeric(df[score_column], errors='coerce')\n",
    "    df[label_column] = pd.to_numeric(df[label_column], errors='coerce')\n",
    "    \n",
    "    # Drop rows with invalid values\n",
    "    df = df.dropna(subset=[score_column, label_column])\n",
    "    \n",
    "    # Calculate weekly Gini\n",
    "    df['week'] = df['disbursementdate'].dt.to_period('W')\n",
    "    weekly_gini = df.groupby('week').apply(\n",
    "        lambda x: calculate_hybrid_gini(x[score_column], x[label_column])\n",
    "        if len(x) >= 10 else np.nan  # Only calculate if we have enough samples\n",
    "    ).reset_index(name='gini')\n",
    "    weekly_gini['period'] = 'Week'\n",
    "    weekly_gini['start_date'] = weekly_gini['week'].apply(lambda x: x.to_timestamp())\n",
    "    weekly_gini['end_date'] = weekly_gini['start_date'] + pd.Timedelta(days=6)\n",
    "    weekly_gini = weekly_gini[['start_date', 'end_date', 'gini', 'period']]\n",
    "    \n",
    "    # Calculate monthly Gini\n",
    "    df['month'] = df['disbursementdate'].dt.to_period('M')\n",
    "    monthly_gini = df.groupby('month').apply(\n",
    "        lambda x: calculate_hybrid_gini(x[score_column], x[label_column])\n",
    "        if len(x) >= 20 else np.nan  # Only calculate if we have enough samples\n",
    "    ).reset_index(name='gini')\n",
    "    monthly_gini['period'] = 'Month'\n",
    "    monthly_gini['start_date'] = monthly_gini['month'].apply(lambda x: x.to_timestamp())\n",
    "    monthly_gini['end_date'] = monthly_gini['start_date'] + pd.DateOffset(months=1) - pd.Timedelta(days=1)\n",
    "    monthly_gini = monthly_gini[['start_date', 'end_date', 'gini', 'period']]\n",
    "    \n",
    "    # Combine and sort results\n",
    "    gini_results = pd.concat([weekly_gini, monthly_gini])\n",
    "    gini_results = gini_results.sort_values(by='start_date').reset_index(drop=True)\n",
    "    \n",
    "    # Add metadata columns\n",
    "    gini_results['Model_Name'] = score_column\n",
    "    gini_results['version'] = '1.1.0'\n",
    "    gini_results['bad_rate'] = namecolumn\n",
    "    gini_results.rename(columns={'gini': f'{score_column}_{namecolumn}_gini'}, inplace=True)\n",
    "    \n",
    "    return gini_results"
   ]
  },
  {
   "cell_type": "code",
   "execution_count": 8,
   "metadata": {},
   "outputs": [],
   "source": [
    "a = \" `prj-prod-dataplatform.risk_credit_mis.application_score_master`\""
   ]
  },
  {
   "cell_type": "markdown",
   "metadata": {},
   "source": [
    "# App Score FPD10"
   ]
  },
  {
   "cell_type": "code",
   "execution_count": 9,
   "metadata": {},
   "outputs": [
    {
     "name": "stdout",
     "output_type": "stream",
     "text": [
      "Job ID 224822bd-9bc6-41a5-be5c-f942da40681d successfully executed: 100%|\u001b[32m██████████\u001b[0m|"
     ]
    },
    {
     "name": "stderr",
     "output_type": "stream",
     "text": [
      "C:\\Users\\Dwaipayan\\AppData\\Roaming\\Python\\Python312\\site-packages\\google\\cloud\\bigquery\\table.py:1900: UserWarning: BigQuery Storage module not found, fetch data with the REST endpoint instead.\n",
      "  warnings.warn(\n"
     ]
    },
    {
     "name": "stdout",
     "output_type": "stream",
     "text": [
      "\n",
      "Downloading: 100%|\u001b[32m██████████\u001b[0m|\n"
     ]
    }
   ],
   "source": [
    "sq = f\"\"\"with appscore as \n",
    "(SELECT \n",
    "    ln_disb_dtime disbursementdate,\n",
    "\tdigitalLoanAccountId,\n",
    "    beta_apps_score apps_score ,\n",
    "    ln_fpd10_flag,\n",
    "\tln_mature_fpd10_flag,\t\n",
    "\tFROM \n",
    "    {a}\n",
    "  WHERE \n",
    "     -- ln_disb_dtime >= '2023-07-01'\n",
    "    ln_appln_submit_datetime >= '2023-06-01'\n",
    "  -- AND\n",
    "  --   format_date('%Y-%m', ln_disb_dtime) = '2024-09'\n",
    "  AND\n",
    "    ln_fpd10_flag is not null\n",
    "  AND\n",
    "    beta_apps_score is not null\n",
    "  AND\n",
    "    ln_mature_fpd10_flag = 1\n",
    ")\n",
    "select * from appscore;\"\"\"\n",
    "\n",
    "dfappscorefpd10 = client.query(sq).to_dataframe(progress_bar_type = 'tqdm')"
   ]
  },
  {
   "cell_type": "code",
   "execution_count": 10,
   "metadata": {},
   "outputs": [
    {
     "data": {
      "application/vnd.microsoft.datawrangler.viewer.v0+json": {
       "columns": [
        {
         "name": "index",
         "rawType": "int64",
         "type": "integer"
        },
        {
         "name": "disbursementdate",
         "rawType": "datetime64[us]",
         "type": "unknown"
        },
        {
         "name": "digitalLoanAccountId",
         "rawType": "object",
         "type": "string"
        },
        {
         "name": "apps_score",
         "rawType": "object",
         "type": "string"
        },
        {
         "name": "ln_fpd10_flag",
         "rawType": "Int64",
         "type": "integer"
        },
        {
         "name": "ln_mature_fpd10_flag",
         "rawType": "Int64",
         "type": "integer"
        }
       ],
       "conversionMethod": "pd.DataFrame",
       "ref": "2e773a9f-52c4-446e-b30f-a3e1a675afff",
       "rows": [
        [
         "110246",
         "2025-01-28 19:51:27",
         "94f65e53-e126-4b7b-93c2-1f2b9b2c36ea",
         "0.66564927235205862",
         "0",
         "1"
        ],
        [
         "31983",
         "2024-05-03 18:32:29",
         "796d9b2d-e790-4eb0-b9ac-bb738cbbbb3c",
         "0.6008270200660013",
         "0",
         "1"
        ],
        [
         "76274",
         "2025-01-06 19:53:34",
         "6d22b5cd-5aa7-4ca7-8c1d-0c43bd8a8ee3",
         "0.425646368102502",
         "0",
         "1"
        ],
        [
         "7008",
         "2024-07-07 18:25:09",
         "47b6ea58-94b4-4d57-9cf3-6f46e2f54d75",
         "0.58662670779224324",
         "0",
         "1"
        ],
        [
         "149295",
         "2024-01-15 15:01:07",
         "a0939d72-4a88-4bcd-80c2-dd602319684a",
         "0.51670572038537987",
         "0",
         "1"
        ]
       ],
       "shape": {
        "columns": 5,
        "rows": 5
       }
      },
      "text/html": [
       "<div>\n",
       "<style scoped>\n",
       "    .dataframe tbody tr th:only-of-type {\n",
       "        vertical-align: middle;\n",
       "    }\n",
       "\n",
       "    .dataframe tbody tr th {\n",
       "        vertical-align: top;\n",
       "    }\n",
       "\n",
       "    .dataframe thead th {\n",
       "        text-align: right;\n",
       "    }\n",
       "</style>\n",
       "<table border=\"1\" class=\"dataframe\">\n",
       "  <thead>\n",
       "    <tr style=\"text-align: right;\">\n",
       "      <th></th>\n",
       "      <th>disbursementdate</th>\n",
       "      <th>digitalLoanAccountId</th>\n",
       "      <th>apps_score</th>\n",
       "      <th>ln_fpd10_flag</th>\n",
       "      <th>ln_mature_fpd10_flag</th>\n",
       "    </tr>\n",
       "  </thead>\n",
       "  <tbody>\n",
       "    <tr>\n",
       "      <th>110246</th>\n",
       "      <td>2025-01-28 19:51:27</td>\n",
       "      <td>94f65e53-e126-4b7b-93c2-1f2b9b2c36ea</td>\n",
       "      <td>0.66564927235205862</td>\n",
       "      <td>0</td>\n",
       "      <td>1</td>\n",
       "    </tr>\n",
       "    <tr>\n",
       "      <th>31983</th>\n",
       "      <td>2024-05-03 18:32:29</td>\n",
       "      <td>796d9b2d-e790-4eb0-b9ac-bb738cbbbb3c</td>\n",
       "      <td>0.6008270200660013</td>\n",
       "      <td>0</td>\n",
       "      <td>1</td>\n",
       "    </tr>\n",
       "    <tr>\n",
       "      <th>76274</th>\n",
       "      <td>2025-01-06 19:53:34</td>\n",
       "      <td>6d22b5cd-5aa7-4ca7-8c1d-0c43bd8a8ee3</td>\n",
       "      <td>0.425646368102502</td>\n",
       "      <td>0</td>\n",
       "      <td>1</td>\n",
       "    </tr>\n",
       "    <tr>\n",
       "      <th>7008</th>\n",
       "      <td>2024-07-07 18:25:09</td>\n",
       "      <td>47b6ea58-94b4-4d57-9cf3-6f46e2f54d75</td>\n",
       "      <td>0.58662670779224324</td>\n",
       "      <td>0</td>\n",
       "      <td>1</td>\n",
       "    </tr>\n",
       "    <tr>\n",
       "      <th>149295</th>\n",
       "      <td>2024-01-15 15:01:07</td>\n",
       "      <td>a0939d72-4a88-4bcd-80c2-dd602319684a</td>\n",
       "      <td>0.51670572038537987</td>\n",
       "      <td>0</td>\n",
       "      <td>1</td>\n",
       "    </tr>\n",
       "  </tbody>\n",
       "</table>\n",
       "</div>"
      ],
      "text/plain": [
       "          disbursementdate                  digitalLoanAccountId  \\\n",
       "110246 2025-01-28 19:51:27  94f65e53-e126-4b7b-93c2-1f2b9b2c36ea   \n",
       "31983  2024-05-03 18:32:29  796d9b2d-e790-4eb0-b9ac-bb738cbbbb3c   \n",
       "76274  2025-01-06 19:53:34  6d22b5cd-5aa7-4ca7-8c1d-0c43bd8a8ee3   \n",
       "7008   2024-07-07 18:25:09  47b6ea58-94b4-4d57-9cf3-6f46e2f54d75   \n",
       "149295 2024-01-15 15:01:07  a0939d72-4a88-4bcd-80c2-dd602319684a   \n",
       "\n",
       "                 apps_score  ln_fpd10_flag  ln_mature_fpd10_flag  \n",
       "110246  0.66564927235205862              0                     1  \n",
       "31983    0.6008270200660013              0                     1  \n",
       "76274     0.425646368102502              0                     1  \n",
       "7008    0.58662670779224324              0                     1  \n",
       "149295  0.51670572038537987              0                     1  "
      ]
     },
     "execution_count": 10,
     "metadata": {},
     "output_type": "execute_result"
    }
   ],
   "source": [
    "dfappscorefpd10.sample(5)"
   ]
  },
  {
   "cell_type": "code",
   "execution_count": 11,
   "metadata": {},
   "outputs": [
    {
     "name": "stderr",
     "output_type": "stream",
     "text": [
      "C:\\Users\\Dwaipayan\\AppData\\Local\\Temp\\ipykernel_53324\\1204584280.py:30: DeprecationWarning: DataFrameGroupBy.apply operated on the grouping columns. This behavior is deprecated, and in a future version of pandas the grouping columns will be excluded from the operation. Either pass `include_groups=False` to exclude the groupings or explicitly select the grouping columns after groupby to silence this warning.\n",
      "  weekly_gini = df.groupby('week').apply(\n",
      "C:\\Users\\Dwaipayan\\AppData\\Local\\Temp\\ipykernel_53324\\1204584280.py:41: DeprecationWarning: DataFrameGroupBy.apply operated on the grouping columns. This behavior is deprecated, and in a future version of pandas the grouping columns will be excluded from the operation. Either pass `include_groups=False` to exclude the groupings or explicitly select the grouping columns after groupby to silence this warning.\n",
      "  monthly_gini = df.groupby('month').apply(\n"
     ]
    }
   ],
   "source": [
    "gini_results = calculate_periodic_gini(dfappscorefpd10, 'apps_score', 'ln_fpd10_flag', 'FPD10')"
   ]
  },
  {
   "cell_type": "code",
   "execution_count": 12,
   "metadata": {},
   "outputs": [
    {
     "data": {
      "application/vnd.microsoft.datawrangler.viewer.v0+json": {
       "columns": [
        {
         "name": "index",
         "rawType": "int64",
         "type": "integer"
        },
        {
         "name": "start_date",
         "rawType": "datetime64[ns]",
         "type": "datetime"
        },
        {
         "name": "end_date",
         "rawType": "datetime64[ns]",
         "type": "datetime"
        },
        {
         "name": "apps_score_FPD10_gini",
         "rawType": "float64",
         "type": "float"
        },
        {
         "name": "period",
         "rawType": "object",
         "type": "string"
        },
        {
         "name": "Model_Name",
         "rawType": "object",
         "type": "string"
        },
        {
         "name": "version",
         "rawType": "object",
         "type": "string"
        },
        {
         "name": "bad_rate",
         "rawType": "object",
         "type": "string"
        }
       ],
       "conversionMethod": "pd.DataFrame",
       "ref": "f7dc24d9-ac19-4d4d-939a-a3bacac4048f",
       "rows": [
        [
         "0",
         "2023-05-29 00:00:00",
         "2023-06-04 00:00:00",
         "0.5482295482295481",
         "Week",
         "apps_score",
         "1.1.0",
         "FPD10"
        ],
        [
         "1",
         "2023-06-01 00:00:00",
         "2023-06-30 00:00:00",
         "0.3846483704974273",
         "Month",
         "apps_score",
         "1.1.0",
         "FPD10"
        ],
        [
         "2",
         "2023-06-05 00:00:00",
         "2023-06-11 00:00:00",
         "0.5",
         "Week",
         "apps_score",
         "1.1.0",
         "FPD10"
        ],
        [
         "3",
         "2023-06-12 00:00:00",
         "2023-06-18 00:00:00",
         "0.5551948051948052",
         "Week",
         "apps_score",
         "1.1.0",
         "FPD10"
        ],
        [
         "4",
         "2023-06-19 00:00:00",
         "2023-06-25 00:00:00",
         "0.004830917874396157",
         "Week",
         "apps_score",
         "1.1.0",
         "FPD10"
        ]
       ],
       "shape": {
        "columns": 7,
        "rows": 5
       }
      },
      "text/html": [
       "<div>\n",
       "<style scoped>\n",
       "    .dataframe tbody tr th:only-of-type {\n",
       "        vertical-align: middle;\n",
       "    }\n",
       "\n",
       "    .dataframe tbody tr th {\n",
       "        vertical-align: top;\n",
       "    }\n",
       "\n",
       "    .dataframe thead th {\n",
       "        text-align: right;\n",
       "    }\n",
       "</style>\n",
       "<table border=\"1\" class=\"dataframe\">\n",
       "  <thead>\n",
       "    <tr style=\"text-align: right;\">\n",
       "      <th></th>\n",
       "      <th>start_date</th>\n",
       "      <th>end_date</th>\n",
       "      <th>apps_score_FPD10_gini</th>\n",
       "      <th>period</th>\n",
       "      <th>Model_Name</th>\n",
       "      <th>version</th>\n",
       "      <th>bad_rate</th>\n",
       "    </tr>\n",
       "  </thead>\n",
       "  <tbody>\n",
       "    <tr>\n",
       "      <th>0</th>\n",
       "      <td>2023-05-29</td>\n",
       "      <td>2023-06-04</td>\n",
       "      <td>0.548230</td>\n",
       "      <td>Week</td>\n",
       "      <td>apps_score</td>\n",
       "      <td>1.1.0</td>\n",
       "      <td>FPD10</td>\n",
       "    </tr>\n",
       "    <tr>\n",
       "      <th>1</th>\n",
       "      <td>2023-06-01</td>\n",
       "      <td>2023-06-30</td>\n",
       "      <td>0.384648</td>\n",
       "      <td>Month</td>\n",
       "      <td>apps_score</td>\n",
       "      <td>1.1.0</td>\n",
       "      <td>FPD10</td>\n",
       "    </tr>\n",
       "    <tr>\n",
       "      <th>2</th>\n",
       "      <td>2023-06-05</td>\n",
       "      <td>2023-06-11</td>\n",
       "      <td>0.500000</td>\n",
       "      <td>Week</td>\n",
       "      <td>apps_score</td>\n",
       "      <td>1.1.0</td>\n",
       "      <td>FPD10</td>\n",
       "    </tr>\n",
       "    <tr>\n",
       "      <th>3</th>\n",
       "      <td>2023-06-12</td>\n",
       "      <td>2023-06-18</td>\n",
       "      <td>0.555195</td>\n",
       "      <td>Week</td>\n",
       "      <td>apps_score</td>\n",
       "      <td>1.1.0</td>\n",
       "      <td>FPD10</td>\n",
       "    </tr>\n",
       "    <tr>\n",
       "      <th>4</th>\n",
       "      <td>2023-06-19</td>\n",
       "      <td>2023-06-25</td>\n",
       "      <td>0.004831</td>\n",
       "      <td>Week</td>\n",
       "      <td>apps_score</td>\n",
       "      <td>1.1.0</td>\n",
       "      <td>FPD10</td>\n",
       "    </tr>\n",
       "  </tbody>\n",
       "</table>\n",
       "</div>"
      ],
      "text/plain": [
       "  start_date   end_date  apps_score_FPD10_gini period  Model_Name version  \\\n",
       "0 2023-05-29 2023-06-04               0.548230   Week  apps_score   1.1.0   \n",
       "1 2023-06-01 2023-06-30               0.384648  Month  apps_score   1.1.0   \n",
       "2 2023-06-05 2023-06-11               0.500000   Week  apps_score   1.1.0   \n",
       "3 2023-06-12 2023-06-18               0.555195   Week  apps_score   1.1.0   \n",
       "4 2023-06-19 2023-06-25               0.004831   Week  apps_score   1.1.0   \n",
       "\n",
       "  bad_rate  \n",
       "0    FPD10  \n",
       "1    FPD10  \n",
       "2    FPD10  \n",
       "3    FPD10  \n",
       "4    FPD10  "
      ]
     },
     "execution_count": 12,
     "metadata": {},
     "output_type": "execute_result"
    }
   ],
   "source": [
    "gini_results.head()"
   ]
  },
  {
   "cell_type": "code",
   "execution_count": 13,
   "metadata": {},
   "outputs": [
    {
     "name": "stdout",
     "output_type": "stream",
     "text": [
      "The shape of dataframe after copy is:\t(119, 7)\n"
     ]
    },
    {
     "data": {
      "text/plain": [
       "array(['start_date', 'end_date', 'apps_score_FPD10_gini', 'period',\n",
       "       'Model_Name', 'version', 'bad_rate'], dtype=object)"
      ]
     },
     "execution_count": 13,
     "metadata": {},
     "output_type": "execute_result"
    }
   ],
   "source": [
    "appscoreFPD10 = gini_results.copy()\n",
    "print(f\"The shape of dataframe after copy is:\\t{appscoreFPD10.shape}\")\n",
    "appscoreFPD10.columns.values"
   ]
  },
  {
   "cell_type": "code",
   "execution_count": 14,
   "metadata": {},
   "outputs": [
    {
     "data": {
      "application/vnd.microsoft.datawrangler.viewer.v0+json": {
       "columns": [
        {
         "name": "index",
         "rawType": "int64",
         "type": "integer"
        },
        {
         "name": "start_date",
         "rawType": "datetime64[ns]",
         "type": "datetime"
        },
        {
         "name": "end_date",
         "rawType": "datetime64[ns]",
         "type": "datetime"
        },
        {
         "name": "apps_score_FPD10_gini",
         "rawType": "float64",
         "type": "float"
        },
        {
         "name": "period",
         "rawType": "object",
         "type": "string"
        },
        {
         "name": "Model_Name",
         "rawType": "object",
         "type": "string"
        },
        {
         "name": "version",
         "rawType": "object",
         "type": "string"
        },
        {
         "name": "bad_rate",
         "rawType": "object",
         "type": "string"
        }
       ],
       "conversionMethod": "pd.DataFrame",
       "ref": "cbecc3b4-2768-4e48-a748-da1f885b4896",
       "rows": [
        [
         "0",
         "2023-05-29 00:00:00",
         "2023-06-04 00:00:00",
         "0.5482295482295481",
         "Week",
         "apps_score",
         "1.1.0",
         "FPD10"
        ],
        [
         "1",
         "2023-06-01 00:00:00",
         "2023-06-30 00:00:00",
         "0.3846483704974273",
         "Month",
         "apps_score",
         "1.1.0",
         "FPD10"
        ],
        [
         "2",
         "2023-06-05 00:00:00",
         "2023-06-11 00:00:00",
         "0.5",
         "Week",
         "apps_score",
         "1.1.0",
         "FPD10"
        ],
        [
         "3",
         "2023-06-12 00:00:00",
         "2023-06-18 00:00:00",
         "0.5551948051948052",
         "Week",
         "apps_score",
         "1.1.0",
         "FPD10"
        ],
        [
         "4",
         "2023-06-19 00:00:00",
         "2023-06-25 00:00:00",
         "0.004830917874396157",
         "Week",
         "apps_score",
         "1.1.0",
         "FPD10"
        ]
       ],
       "shape": {
        "columns": 7,
        "rows": 5
       }
      },
      "text/html": [
       "<div>\n",
       "<style scoped>\n",
       "    .dataframe tbody tr th:only-of-type {\n",
       "        vertical-align: middle;\n",
       "    }\n",
       "\n",
       "    .dataframe tbody tr th {\n",
       "        vertical-align: top;\n",
       "    }\n",
       "\n",
       "    .dataframe thead th {\n",
       "        text-align: right;\n",
       "    }\n",
       "</style>\n",
       "<table border=\"1\" class=\"dataframe\">\n",
       "  <thead>\n",
       "    <tr style=\"text-align: right;\">\n",
       "      <th></th>\n",
       "      <th>start_date</th>\n",
       "      <th>end_date</th>\n",
       "      <th>apps_score_FPD10_gini</th>\n",
       "      <th>period</th>\n",
       "      <th>Model_Name</th>\n",
       "      <th>version</th>\n",
       "      <th>bad_rate</th>\n",
       "    </tr>\n",
       "  </thead>\n",
       "  <tbody>\n",
       "    <tr>\n",
       "      <th>0</th>\n",
       "      <td>2023-05-29</td>\n",
       "      <td>2023-06-04</td>\n",
       "      <td>0.548230</td>\n",
       "      <td>Week</td>\n",
       "      <td>apps_score</td>\n",
       "      <td>1.1.0</td>\n",
       "      <td>FPD10</td>\n",
       "    </tr>\n",
       "    <tr>\n",
       "      <th>1</th>\n",
       "      <td>2023-06-01</td>\n",
       "      <td>2023-06-30</td>\n",
       "      <td>0.384648</td>\n",
       "      <td>Month</td>\n",
       "      <td>apps_score</td>\n",
       "      <td>1.1.0</td>\n",
       "      <td>FPD10</td>\n",
       "    </tr>\n",
       "    <tr>\n",
       "      <th>2</th>\n",
       "      <td>2023-06-05</td>\n",
       "      <td>2023-06-11</td>\n",
       "      <td>0.500000</td>\n",
       "      <td>Week</td>\n",
       "      <td>apps_score</td>\n",
       "      <td>1.1.0</td>\n",
       "      <td>FPD10</td>\n",
       "    </tr>\n",
       "    <tr>\n",
       "      <th>3</th>\n",
       "      <td>2023-06-12</td>\n",
       "      <td>2023-06-18</td>\n",
       "      <td>0.555195</td>\n",
       "      <td>Week</td>\n",
       "      <td>apps_score</td>\n",
       "      <td>1.1.0</td>\n",
       "      <td>FPD10</td>\n",
       "    </tr>\n",
       "    <tr>\n",
       "      <th>4</th>\n",
       "      <td>2023-06-19</td>\n",
       "      <td>2023-06-25</td>\n",
       "      <td>0.004831</td>\n",
       "      <td>Week</td>\n",
       "      <td>apps_score</td>\n",
       "      <td>1.1.0</td>\n",
       "      <td>FPD10</td>\n",
       "    </tr>\n",
       "  </tbody>\n",
       "</table>\n",
       "</div>"
      ],
      "text/plain": [
       "  start_date   end_date  apps_score_FPD10_gini period  Model_Name version  \\\n",
       "0 2023-05-29 2023-06-04               0.548230   Week  apps_score   1.1.0   \n",
       "1 2023-06-01 2023-06-30               0.384648  Month  apps_score   1.1.0   \n",
       "2 2023-06-05 2023-06-11               0.500000   Week  apps_score   1.1.0   \n",
       "3 2023-06-12 2023-06-18               0.555195   Week  apps_score   1.1.0   \n",
       "4 2023-06-19 2023-06-25               0.004831   Week  apps_score   1.1.0   \n",
       "\n",
       "  bad_rate  \n",
       "0    FPD10  \n",
       "1    FPD10  \n",
       "2    FPD10  \n",
       "3    FPD10  \n",
       "4    FPD10  "
      ]
     },
     "execution_count": 14,
     "metadata": {},
     "output_type": "execute_result"
    }
   ],
   "source": [
    "gini_results.head()"
   ]
  },
  {
   "cell_type": "markdown",
   "metadata": {},
   "source": [
    "# App Score FPD30"
   ]
  },
  {
   "cell_type": "code",
   "execution_count": 15,
   "metadata": {},
   "outputs": [
    {
     "name": "stdout",
     "output_type": "stream",
     "text": [
      "Job ID b6266ec6-ec0f-4640-ad30-43257321018e successfully executed: 100%|\u001b[32m██████████\u001b[0m|"
     ]
    },
    {
     "name": "stderr",
     "output_type": "stream",
     "text": [
      "C:\\Users\\Dwaipayan\\AppData\\Roaming\\Python\\Python312\\site-packages\\google\\cloud\\bigquery\\table.py:1900: UserWarning: BigQuery Storage module not found, fetch data with the REST endpoint instead.\n",
      "  warnings.warn(\n"
     ]
    },
    {
     "name": "stdout",
     "output_type": "stream",
     "text": [
      "\n",
      "Downloading: 100%|\u001b[32m██████████\u001b[0m|\n"
     ]
    }
   ],
   "source": [
    "sq = f\"\"\"\n",
    "with appscore as \n",
    "(SELECT \n",
    "    ln_disb_dtime disbursementdate,\n",
    "\tdigitalLoanAccountId,\n",
    "    beta_apps_score apps_score,\n",
    "    ln_fpd30_flag,\n",
    "\tln_mature_fpd30_flag,\t\n",
    "\tFROM \n",
    "    {a}\n",
    "  WHERE \n",
    "     -- ln_disb_dtime >= '2023-07-01'\n",
    "    ln_appln_submit_datetime >= '2023-06-01'\n",
    "  -- AND\n",
    "  --   format_date('%Y-%m', ln_disb_dtime) = '2024-09'\n",
    "  AND\n",
    "    ln_fpd30_flag is not null\n",
    "  AND\n",
    "    beta_apps_score is not null\n",
    "  AND\n",
    "    ln_mature_fpd30_flag = 1\n",
    ")\n",
    "select * from appscore;\n",
    "\"\"\"\n",
    "\n",
    "dfappscorefpd30 = client.query(sq).to_dataframe(progress_bar_type = 'tqdm')"
   ]
  },
  {
   "cell_type": "code",
   "execution_count": 16,
   "metadata": {},
   "outputs": [
    {
     "data": {
      "application/vnd.microsoft.datawrangler.viewer.v0+json": {
       "columns": [
        {
         "name": "index",
         "rawType": "int64",
         "type": "integer"
        },
        {
         "name": "disbursementdate",
         "rawType": "datetime64[us]",
         "type": "unknown"
        },
        {
         "name": "digitalLoanAccountId",
         "rawType": "object",
         "type": "string"
        },
        {
         "name": "apps_score",
         "rawType": "object",
         "type": "string"
        },
        {
         "name": "ln_fpd30_flag",
         "rawType": "Int64",
         "type": "integer"
        },
        {
         "name": "ln_mature_fpd30_flag",
         "rawType": "Int64",
         "type": "integer"
        }
       ],
       "conversionMethod": "pd.DataFrame",
       "ref": "a33c1c51-d7b0-419b-adef-934e7b32dd2d",
       "rows": [
        [
         "0",
         "2024-07-16 19:09:27",
         "a731f941-ed8a-4278-9ba4-1fd41132aa5e",
         "0.49816273198016847",
         "0",
         "1"
        ],
        [
         "1",
         "2024-11-24 18:45:09",
         "5be2f2c7-2401-48bc-a384-6f62c22866db",
         "0.657169949961698",
         "0",
         "1"
        ],
        [
         "2",
         "2023-12-17 19:38:05",
         "0c97d2b7-3157-4f68-a502-636f59339b6d",
         "0.27425963635452633",
         "0",
         "1"
        ],
        [
         "3",
         "2024-12-01 12:21:56",
         "1eac1869-c3c5-4ed8-aa58-aeb90c730784",
         "0.23015090993991733",
         "0",
         "1"
        ],
        [
         "4",
         "2024-10-26 15:36:19",
         "4085569c-fc38-485b-9eb9-87e23466e91e",
         "0.537695869634077",
         "0",
         "1"
        ]
       ],
       "shape": {
        "columns": 5,
        "rows": 5
       }
      },
      "text/html": [
       "<div>\n",
       "<style scoped>\n",
       "    .dataframe tbody tr th:only-of-type {\n",
       "        vertical-align: middle;\n",
       "    }\n",
       "\n",
       "    .dataframe tbody tr th {\n",
       "        vertical-align: top;\n",
       "    }\n",
       "\n",
       "    .dataframe thead th {\n",
       "        text-align: right;\n",
       "    }\n",
       "</style>\n",
       "<table border=\"1\" class=\"dataframe\">\n",
       "  <thead>\n",
       "    <tr style=\"text-align: right;\">\n",
       "      <th></th>\n",
       "      <th>disbursementdate</th>\n",
       "      <th>digitalLoanAccountId</th>\n",
       "      <th>apps_score</th>\n",
       "      <th>ln_fpd30_flag</th>\n",
       "      <th>ln_mature_fpd30_flag</th>\n",
       "    </tr>\n",
       "  </thead>\n",
       "  <tbody>\n",
       "    <tr>\n",
       "      <th>0</th>\n",
       "      <td>2024-07-16 19:09:27</td>\n",
       "      <td>a731f941-ed8a-4278-9ba4-1fd41132aa5e</td>\n",
       "      <td>0.49816273198016847</td>\n",
       "      <td>0</td>\n",
       "      <td>1</td>\n",
       "    </tr>\n",
       "    <tr>\n",
       "      <th>1</th>\n",
       "      <td>2024-11-24 18:45:09</td>\n",
       "      <td>5be2f2c7-2401-48bc-a384-6f62c22866db</td>\n",
       "      <td>0.657169949961698</td>\n",
       "      <td>0</td>\n",
       "      <td>1</td>\n",
       "    </tr>\n",
       "    <tr>\n",
       "      <th>2</th>\n",
       "      <td>2023-12-17 19:38:05</td>\n",
       "      <td>0c97d2b7-3157-4f68-a502-636f59339b6d</td>\n",
       "      <td>0.27425963635452633</td>\n",
       "      <td>0</td>\n",
       "      <td>1</td>\n",
       "    </tr>\n",
       "    <tr>\n",
       "      <th>3</th>\n",
       "      <td>2024-12-01 12:21:56</td>\n",
       "      <td>1eac1869-c3c5-4ed8-aa58-aeb90c730784</td>\n",
       "      <td>0.23015090993991733</td>\n",
       "      <td>0</td>\n",
       "      <td>1</td>\n",
       "    </tr>\n",
       "    <tr>\n",
       "      <th>4</th>\n",
       "      <td>2024-10-26 15:36:19</td>\n",
       "      <td>4085569c-fc38-485b-9eb9-87e23466e91e</td>\n",
       "      <td>0.537695869634077</td>\n",
       "      <td>0</td>\n",
       "      <td>1</td>\n",
       "    </tr>\n",
       "  </tbody>\n",
       "</table>\n",
       "</div>"
      ],
      "text/plain": [
       "     disbursementdate                  digitalLoanAccountId  \\\n",
       "0 2024-07-16 19:09:27  a731f941-ed8a-4278-9ba4-1fd41132aa5e   \n",
       "1 2024-11-24 18:45:09  5be2f2c7-2401-48bc-a384-6f62c22866db   \n",
       "2 2023-12-17 19:38:05  0c97d2b7-3157-4f68-a502-636f59339b6d   \n",
       "3 2024-12-01 12:21:56  1eac1869-c3c5-4ed8-aa58-aeb90c730784   \n",
       "4 2024-10-26 15:36:19  4085569c-fc38-485b-9eb9-87e23466e91e   \n",
       "\n",
       "            apps_score  ln_fpd30_flag  ln_mature_fpd30_flag  \n",
       "0  0.49816273198016847              0                     1  \n",
       "1    0.657169949961698              0                     1  \n",
       "2  0.27425963635452633              0                     1  \n",
       "3  0.23015090993991733              0                     1  \n",
       "4    0.537695869634077              0                     1  "
      ]
     },
     "execution_count": 16,
     "metadata": {},
     "output_type": "execute_result"
    }
   ],
   "source": [
    "dfappscorefpd30.head()"
   ]
  },
  {
   "cell_type": "code",
   "execution_count": 17,
   "metadata": {},
   "outputs": [
    {
     "name": "stderr",
     "output_type": "stream",
     "text": [
      "C:\\Users\\Dwaipayan\\AppData\\Local\\Temp\\ipykernel_53324\\1204584280.py:30: DeprecationWarning: DataFrameGroupBy.apply operated on the grouping columns. This behavior is deprecated, and in a future version of pandas the grouping columns will be excluded from the operation. Either pass `include_groups=False` to exclude the groupings or explicitly select the grouping columns after groupby to silence this warning.\n",
      "  weekly_gini = df.groupby('week').apply(\n"
     ]
    },
    {
     "name": "stdout",
     "output_type": "stream",
     "text": [
      "The shape of dataframe after copy is:\t(116, 7)\n"
     ]
    },
    {
     "name": "stderr",
     "output_type": "stream",
     "text": [
      "C:\\Users\\Dwaipayan\\AppData\\Local\\Temp\\ipykernel_53324\\1204584280.py:41: DeprecationWarning: DataFrameGroupBy.apply operated on the grouping columns. This behavior is deprecated, and in a future version of pandas the grouping columns will be excluded from the operation. Either pass `include_groups=False` to exclude the groupings or explicitly select the grouping columns after groupby to silence this warning.\n",
      "  monthly_gini = df.groupby('month').apply(\n"
     ]
    },
    {
     "data": {
      "text/plain": [
       "array(['start_date', 'end_date', 'apps_score_FPD30_gini', 'period',\n",
       "       'Model_Name', 'version', 'bad_rate'], dtype=object)"
      ]
     },
     "execution_count": 17,
     "metadata": {},
     "output_type": "execute_result"
    }
   ],
   "source": [
    "gini_results = calculate_periodic_gini(dfappscorefpd30, 'apps_score', 'ln_fpd30_flag', 'FPD30')\n",
    "# gini_results['bad_rate'] = 'FPD30'\n",
    "appscoreFPD30 = gini_results.copy()\n",
    "print(f\"The shape of dataframe after copy is:\\t{appscoreFPD30.shape}\")\n",
    "appscoreFPD30.columns.values"
   ]
  },
  {
   "cell_type": "code",
   "execution_count": 18,
   "metadata": {},
   "outputs": [
    {
     "data": {
      "application/vnd.microsoft.datawrangler.viewer.v0+json": {
       "columns": [
        {
         "name": "index",
         "rawType": "int64",
         "type": "integer"
        },
        {
         "name": "start_date",
         "rawType": "datetime64[ns]",
         "type": "datetime"
        },
        {
         "name": "end_date",
         "rawType": "datetime64[ns]",
         "type": "datetime"
        },
        {
         "name": "apps_score_FPD30_gini",
         "rawType": "float64",
         "type": "float"
        },
        {
         "name": "period",
         "rawType": "object",
         "type": "string"
        },
        {
         "name": "Model_Name",
         "rawType": "object",
         "type": "string"
        },
        {
         "name": "version",
         "rawType": "object",
         "type": "string"
        },
        {
         "name": "bad_rate",
         "rawType": "object",
         "type": "string"
        }
       ],
       "conversionMethod": "pd.DataFrame",
       "ref": "eb11bae5-b477-42d6-aaba-7ce0928ad79a",
       "rows": [
        [
         "69",
         "2024-06-24 00:00:00",
         "2024-06-30 00:00:00",
         "0.45143342018225874",
         "Week",
         "apps_score",
         "1.1.0",
         "FPD30"
        ],
        [
         "41",
         "2024-01-15 00:00:00",
         "2024-01-21 00:00:00",
         "0.43134493940945573",
         "Week",
         "apps_score",
         "1.1.0",
         "FPD30"
        ],
        [
         "25",
         "2023-10-16 00:00:00",
         "2023-10-22 00:00:00",
         "0.2794506866416977",
         "Week",
         "apps_score",
         "1.1.0",
         "FPD30"
        ],
        [
         "83",
         "2024-09-09 00:00:00",
         "2024-09-15 00:00:00",
         "0.285448868071819",
         "Week",
         "apps_score",
         "1.1.0",
         "FPD30"
        ],
        [
         "98",
         "2024-12-02 00:00:00",
         "2024-12-08 00:00:00",
         "0.32972579073190333",
         "Week",
         "apps_score",
         "1.1.0",
         "FPD30"
        ]
       ],
       "shape": {
        "columns": 7,
        "rows": 5
       }
      },
      "text/html": [
       "<div>\n",
       "<style scoped>\n",
       "    .dataframe tbody tr th:only-of-type {\n",
       "        vertical-align: middle;\n",
       "    }\n",
       "\n",
       "    .dataframe tbody tr th {\n",
       "        vertical-align: top;\n",
       "    }\n",
       "\n",
       "    .dataframe thead th {\n",
       "        text-align: right;\n",
       "    }\n",
       "</style>\n",
       "<table border=\"1\" class=\"dataframe\">\n",
       "  <thead>\n",
       "    <tr style=\"text-align: right;\">\n",
       "      <th></th>\n",
       "      <th>start_date</th>\n",
       "      <th>end_date</th>\n",
       "      <th>apps_score_FPD30_gini</th>\n",
       "      <th>period</th>\n",
       "      <th>Model_Name</th>\n",
       "      <th>version</th>\n",
       "      <th>bad_rate</th>\n",
       "    </tr>\n",
       "  </thead>\n",
       "  <tbody>\n",
       "    <tr>\n",
       "      <th>69</th>\n",
       "      <td>2024-06-24</td>\n",
       "      <td>2024-06-30</td>\n",
       "      <td>0.451433</td>\n",
       "      <td>Week</td>\n",
       "      <td>apps_score</td>\n",
       "      <td>1.1.0</td>\n",
       "      <td>FPD30</td>\n",
       "    </tr>\n",
       "    <tr>\n",
       "      <th>41</th>\n",
       "      <td>2024-01-15</td>\n",
       "      <td>2024-01-21</td>\n",
       "      <td>0.431345</td>\n",
       "      <td>Week</td>\n",
       "      <td>apps_score</td>\n",
       "      <td>1.1.0</td>\n",
       "      <td>FPD30</td>\n",
       "    </tr>\n",
       "    <tr>\n",
       "      <th>25</th>\n",
       "      <td>2023-10-16</td>\n",
       "      <td>2023-10-22</td>\n",
       "      <td>0.279451</td>\n",
       "      <td>Week</td>\n",
       "      <td>apps_score</td>\n",
       "      <td>1.1.0</td>\n",
       "      <td>FPD30</td>\n",
       "    </tr>\n",
       "    <tr>\n",
       "      <th>83</th>\n",
       "      <td>2024-09-09</td>\n",
       "      <td>2024-09-15</td>\n",
       "      <td>0.285449</td>\n",
       "      <td>Week</td>\n",
       "      <td>apps_score</td>\n",
       "      <td>1.1.0</td>\n",
       "      <td>FPD30</td>\n",
       "    </tr>\n",
       "    <tr>\n",
       "      <th>98</th>\n",
       "      <td>2024-12-02</td>\n",
       "      <td>2024-12-08</td>\n",
       "      <td>0.329726</td>\n",
       "      <td>Week</td>\n",
       "      <td>apps_score</td>\n",
       "      <td>1.1.0</td>\n",
       "      <td>FPD30</td>\n",
       "    </tr>\n",
       "  </tbody>\n",
       "</table>\n",
       "</div>"
      ],
      "text/plain": [
       "   start_date   end_date  apps_score_FPD30_gini period  Model_Name version  \\\n",
       "69 2024-06-24 2024-06-30               0.451433   Week  apps_score   1.1.0   \n",
       "41 2024-01-15 2024-01-21               0.431345   Week  apps_score   1.1.0   \n",
       "25 2023-10-16 2023-10-22               0.279451   Week  apps_score   1.1.0   \n",
       "83 2024-09-09 2024-09-15               0.285449   Week  apps_score   1.1.0   \n",
       "98 2024-12-02 2024-12-08               0.329726   Week  apps_score   1.1.0   \n",
       "\n",
       "   bad_rate  \n",
       "69    FPD30  \n",
       "41    FPD30  \n",
       "25    FPD30  \n",
       "83    FPD30  \n",
       "98    FPD30  "
      ]
     },
     "execution_count": 18,
     "metadata": {},
     "output_type": "execute_result"
    }
   ],
   "source": [
    "gini_results.sample(5)"
   ]
  },
  {
   "cell_type": "markdown",
   "metadata": {},
   "source": [
    "# App Score FSPD30"
   ]
  },
  {
   "cell_type": "code",
   "execution_count": 19,
   "metadata": {},
   "outputs": [
    {
     "name": "stdout",
     "output_type": "stream",
     "text": [
      "Job ID 1daa4085-b859-4e24-ba0e-51ebe4d31be7 successfully executed: 100%|\u001b[32m██████████\u001b[0m|"
     ]
    },
    {
     "name": "stderr",
     "output_type": "stream",
     "text": [
      "C:\\Users\\Dwaipayan\\AppData\\Roaming\\Python\\Python312\\site-packages\\google\\cloud\\bigquery\\table.py:1900: UserWarning: BigQuery Storage module not found, fetch data with the REST endpoint instead.\n",
      "  warnings.warn(\n"
     ]
    },
    {
     "name": "stdout",
     "output_type": "stream",
     "text": [
      "\n",
      "Downloading: 100%|\u001b[32m██████████\u001b[0m|\n"
     ]
    }
   ],
   "source": [
    "sq = f\"\"\"with appscore as \n",
    "(SELECT \n",
    "    ln_disb_dtime disbursementdate,\n",
    "\tdigitalLoanAccountId,\n",
    "    beta_apps_score apps_score,\n",
    "    ln_fspd30_flag,\n",
    "\tln_mature_fspd30_flag,\t\n",
    "\tFROM \n",
    "    {a}\n",
    "  WHERE \n",
    "     -- ln_disb_dtime >= '2023-07-01'\n",
    "    ln_appln_submit_datetime >= '2023-06-01'\n",
    "  -- AND\n",
    "  --   format_date('%Y-%m', ln_disb_dtime) = '2024-09'\n",
    "  AND\n",
    "    ln_fspd30_flag is not null\n",
    "  AND\n",
    "    beta_apps_score is not null\n",
    "  AND\n",
    "    ln_mature_fspd30_flag = 1\n",
    ")\n",
    "select * from appscore;\n",
    "\"\"\"\n",
    "\n",
    "dfappscorefspd30 = client.query(sq).to_dataframe(progress_bar_type = 'tqdm')"
   ]
  },
  {
   "cell_type": "code",
   "execution_count": 20,
   "metadata": {},
   "outputs": [
    {
     "name": "stdout",
     "output_type": "stream",
     "text": [
      "The shape of dataframe after copy is:\t(111, 7)\n"
     ]
    },
    {
     "name": "stderr",
     "output_type": "stream",
     "text": [
      "C:\\Users\\Dwaipayan\\AppData\\Local\\Temp\\ipykernel_53324\\1204584280.py:30: DeprecationWarning: DataFrameGroupBy.apply operated on the grouping columns. This behavior is deprecated, and in a future version of pandas the grouping columns will be excluded from the operation. Either pass `include_groups=False` to exclude the groupings or explicitly select the grouping columns after groupby to silence this warning.\n",
      "  weekly_gini = df.groupby('week').apply(\n",
      "C:\\Users\\Dwaipayan\\AppData\\Local\\Temp\\ipykernel_53324\\1204584280.py:41: DeprecationWarning: DataFrameGroupBy.apply operated on the grouping columns. This behavior is deprecated, and in a future version of pandas the grouping columns will be excluded from the operation. Either pass `include_groups=False` to exclude the groupings or explicitly select the grouping columns after groupby to silence this warning.\n",
      "  monthly_gini = df.groupby('month').apply(\n"
     ]
    },
    {
     "data": {
      "text/plain": [
       "array(['start_date', 'end_date', 'apps_score_FSPD30_gini', 'period',\n",
       "       'Model_Name', 'version', 'bad_rate'], dtype=object)"
      ]
     },
     "execution_count": 20,
     "metadata": {},
     "output_type": "execute_result"
    }
   ],
   "source": [
    "gini_results = calculate_periodic_gini(dfappscorefspd30, 'apps_score', 'ln_fspd30_flag', 'FSPD30')\n",
    "# gini_results['bad_rate'] = 'FSPD30'\n",
    "appscoreFSPD30 = gini_results.copy()\n",
    "print(f\"The shape of dataframe after copy is:\\t{appscoreFSPD30.shape}\")\n",
    "appscoreFSPD30.columns.values"
   ]
  },
  {
   "cell_type": "code",
   "execution_count": 21,
   "metadata": {},
   "outputs": [
    {
     "data": {
      "application/vnd.microsoft.datawrangler.viewer.v0+json": {
       "columns": [
        {
         "name": "index",
         "rawType": "int64",
         "type": "integer"
        },
        {
         "name": "start_date",
         "rawType": "datetime64[ns]",
         "type": "datetime"
        },
        {
         "name": "end_date",
         "rawType": "datetime64[ns]",
         "type": "datetime"
        },
        {
         "name": "apps_score_FSPD30_gini",
         "rawType": "float64",
         "type": "float"
        },
        {
         "name": "period",
         "rawType": "object",
         "type": "string"
        },
        {
         "name": "Model_Name",
         "rawType": "object",
         "type": "string"
        },
        {
         "name": "version",
         "rawType": "object",
         "type": "string"
        },
        {
         "name": "bad_rate",
         "rawType": "object",
         "type": "string"
        }
       ],
       "conversionMethod": "pd.DataFrame",
       "ref": "ad04d3de-b956-47c3-be7a-65ae05208c2e",
       "rows": [
        [
         "106",
         "2025-01-20 00:00:00",
         "2025-01-26 00:00:00",
         "0.2719751022434169",
         "Week",
         "apps_score",
         "1.1.0",
         "FSPD30"
        ],
        [
         "107",
         "2025-01-27 00:00:00",
         "2025-02-02 00:00:00",
         "0.2692054235802708",
         "Week",
         "apps_score",
         "1.1.0",
         "FSPD30"
        ],
        [
         "108",
         "2025-02-01 00:00:00",
         "2025-02-28 00:00:00",
         "0.3134117994789196",
         "Month",
         "apps_score",
         "1.1.0",
         "FSPD30"
        ],
        [
         "109",
         "2025-02-03 00:00:00",
         "2025-02-09 00:00:00",
         "0.3002221526224935",
         "Week",
         "apps_score",
         "1.1.0",
         "FSPD30"
        ],
        [
         "110",
         "2025-02-10 00:00:00",
         "2025-02-16 00:00:00",
         "0.3773783028020319",
         "Week",
         "apps_score",
         "1.1.0",
         "FSPD30"
        ]
       ],
       "shape": {
        "columns": 7,
        "rows": 5
       }
      },
      "text/html": [
       "<div>\n",
       "<style scoped>\n",
       "    .dataframe tbody tr th:only-of-type {\n",
       "        vertical-align: middle;\n",
       "    }\n",
       "\n",
       "    .dataframe tbody tr th {\n",
       "        vertical-align: top;\n",
       "    }\n",
       "\n",
       "    .dataframe thead th {\n",
       "        text-align: right;\n",
       "    }\n",
       "</style>\n",
       "<table border=\"1\" class=\"dataframe\">\n",
       "  <thead>\n",
       "    <tr style=\"text-align: right;\">\n",
       "      <th></th>\n",
       "      <th>start_date</th>\n",
       "      <th>end_date</th>\n",
       "      <th>apps_score_FSPD30_gini</th>\n",
       "      <th>period</th>\n",
       "      <th>Model_Name</th>\n",
       "      <th>version</th>\n",
       "      <th>bad_rate</th>\n",
       "    </tr>\n",
       "  </thead>\n",
       "  <tbody>\n",
       "    <tr>\n",
       "      <th>106</th>\n",
       "      <td>2025-01-20</td>\n",
       "      <td>2025-01-26</td>\n",
       "      <td>0.271975</td>\n",
       "      <td>Week</td>\n",
       "      <td>apps_score</td>\n",
       "      <td>1.1.0</td>\n",
       "      <td>FSPD30</td>\n",
       "    </tr>\n",
       "    <tr>\n",
       "      <th>107</th>\n",
       "      <td>2025-01-27</td>\n",
       "      <td>2025-02-02</td>\n",
       "      <td>0.269205</td>\n",
       "      <td>Week</td>\n",
       "      <td>apps_score</td>\n",
       "      <td>1.1.0</td>\n",
       "      <td>FSPD30</td>\n",
       "    </tr>\n",
       "    <tr>\n",
       "      <th>108</th>\n",
       "      <td>2025-02-01</td>\n",
       "      <td>2025-02-28</td>\n",
       "      <td>0.313412</td>\n",
       "      <td>Month</td>\n",
       "      <td>apps_score</td>\n",
       "      <td>1.1.0</td>\n",
       "      <td>FSPD30</td>\n",
       "    </tr>\n",
       "    <tr>\n",
       "      <th>109</th>\n",
       "      <td>2025-02-03</td>\n",
       "      <td>2025-02-09</td>\n",
       "      <td>0.300222</td>\n",
       "      <td>Week</td>\n",
       "      <td>apps_score</td>\n",
       "      <td>1.1.0</td>\n",
       "      <td>FSPD30</td>\n",
       "    </tr>\n",
       "    <tr>\n",
       "      <th>110</th>\n",
       "      <td>2025-02-10</td>\n",
       "      <td>2025-02-16</td>\n",
       "      <td>0.377378</td>\n",
       "      <td>Week</td>\n",
       "      <td>apps_score</td>\n",
       "      <td>1.1.0</td>\n",
       "      <td>FSPD30</td>\n",
       "    </tr>\n",
       "  </tbody>\n",
       "</table>\n",
       "</div>"
      ],
      "text/plain": [
       "    start_date   end_date  apps_score_FSPD30_gini period  Model_Name version  \\\n",
       "106 2025-01-20 2025-01-26                0.271975   Week  apps_score   1.1.0   \n",
       "107 2025-01-27 2025-02-02                0.269205   Week  apps_score   1.1.0   \n",
       "108 2025-02-01 2025-02-28                0.313412  Month  apps_score   1.1.0   \n",
       "109 2025-02-03 2025-02-09                0.300222   Week  apps_score   1.1.0   \n",
       "110 2025-02-10 2025-02-16                0.377378   Week  apps_score   1.1.0   \n",
       "\n",
       "    bad_rate  \n",
       "106   FSPD30  \n",
       "107   FSPD30  \n",
       "108   FSPD30  \n",
       "109   FSPD30  \n",
       "110   FSPD30  "
      ]
     },
     "execution_count": 21,
     "metadata": {},
     "output_type": "execute_result"
    }
   ],
   "source": [
    "gini_results.tail()"
   ]
  },
  {
   "cell_type": "markdown",
   "metadata": {},
   "source": [
    "# App Score FSTPD30"
   ]
  },
  {
   "cell_type": "code",
   "execution_count": 22,
   "metadata": {},
   "outputs": [
    {
     "name": "stdout",
     "output_type": "stream",
     "text": [
      "Job ID 7920d7f5-4e81-426e-9a2b-b51fe8eedb80 successfully executed: 100%|\u001b[32m██████████\u001b[0m|"
     ]
    },
    {
     "name": "stderr",
     "output_type": "stream",
     "text": [
      "C:\\Users\\Dwaipayan\\AppData\\Roaming\\Python\\Python312\\site-packages\\google\\cloud\\bigquery\\table.py:1900: UserWarning: BigQuery Storage module not found, fetch data with the REST endpoint instead.\n",
      "  warnings.warn(\n"
     ]
    },
    {
     "name": "stdout",
     "output_type": "stream",
     "text": [
      "\n",
      "Downloading: 100%|\u001b[32m██████████\u001b[0m|\n"
     ]
    }
   ],
   "source": [
    "sq = f\"\"\"with appscore as \n",
    "(SELECT \n",
    "    ln_disb_dtime disbursementdate,\n",
    "\tdigitalLoanAccountId,\n",
    "    beta_apps_score apps_score,\n",
    "    ln_fstpd30_flag,\n",
    "\tln_mature_fstpd30_flag,\t\n",
    "\tFROM \n",
    "    {a}\n",
    "  WHERE \n",
    "     -- ln_disb_dtime >= '2023-07-01'\n",
    "    ln_appln_submit_datetime >= '2023-06-01'\n",
    "  -- AND\n",
    "  --   format_date('%Y-%m', ln_disb_dtime) = '2024-09'\n",
    "  AND\n",
    "    ln_fstpd30_flag is not null\n",
    "  AND\n",
    "    beta_apps_score is not null\n",
    "  AND\n",
    "    ln_mature_fstpd30_flag = 1\n",
    ")\n",
    "select * from appscore;\n",
    "\"\"\"\n",
    "\n",
    "dfappscorefstpd30 = client.query(sq).to_dataframe(progress_bar_type = 'tqdm')"
   ]
  },
  {
   "cell_type": "code",
   "execution_count": 23,
   "metadata": {},
   "outputs": [
    {
     "name": "stderr",
     "output_type": "stream",
     "text": [
      "C:\\Users\\Dwaipayan\\AppData\\Local\\Temp\\ipykernel_53324\\1204584280.py:30: DeprecationWarning: DataFrameGroupBy.apply operated on the grouping columns. This behavior is deprecated, and in a future version of pandas the grouping columns will be excluded from the operation. Either pass `include_groups=False` to exclude the groupings or explicitly select the grouping columns after groupby to silence this warning.\n",
      "  weekly_gini = df.groupby('week').apply(\n"
     ]
    },
    {
     "name": "stdout",
     "output_type": "stream",
     "text": [
      "The shape of dataframe after copy is:\t(106, 7)\n"
     ]
    },
    {
     "name": "stderr",
     "output_type": "stream",
     "text": [
      "C:\\Users\\Dwaipayan\\AppData\\Local\\Temp\\ipykernel_53324\\1204584280.py:41: DeprecationWarning: DataFrameGroupBy.apply operated on the grouping columns. This behavior is deprecated, and in a future version of pandas the grouping columns will be excluded from the operation. Either pass `include_groups=False` to exclude the groupings or explicitly select the grouping columns after groupby to silence this warning.\n",
      "  monthly_gini = df.groupby('month').apply(\n"
     ]
    },
    {
     "data": {
      "text/plain": [
       "array(['start_date', 'end_date', 'apps_score_FSTPD30_gini', 'period',\n",
       "       'Model_Name', 'version', 'bad_rate'], dtype=object)"
      ]
     },
     "execution_count": 23,
     "metadata": {},
     "output_type": "execute_result"
    }
   ],
   "source": [
    "gini_results = calculate_periodic_gini(dfappscorefstpd30, 'apps_score', 'ln_fstpd30_flag', 'FSTPD30')\n",
    "# gini_results['bad_rate'] = 'FSTPD30'\n",
    "appscoreFSTPD30 = gini_results.copy()\n",
    "print(f\"The shape of dataframe after copy is:\\t{appscoreFSTPD30.shape}\")\n",
    "appscoreFSTPD30.columns.values"
   ]
  },
  {
   "cell_type": "code",
   "execution_count": 24,
   "metadata": {},
   "outputs": [
    {
     "data": {
      "application/vnd.microsoft.datawrangler.viewer.v0+json": {
       "columns": [
        {
         "name": "index",
         "rawType": "int64",
         "type": "integer"
        },
        {
         "name": "start_date",
         "rawType": "datetime64[ns]",
         "type": "datetime"
        },
        {
         "name": "end_date",
         "rawType": "datetime64[ns]",
         "type": "datetime"
        },
        {
         "name": "apps_score_FSTPD30_gini",
         "rawType": "float64",
         "type": "float"
        },
        {
         "name": "period",
         "rawType": "object",
         "type": "string"
        },
        {
         "name": "Model_Name",
         "rawType": "object",
         "type": "string"
        },
        {
         "name": "version",
         "rawType": "object",
         "type": "string"
        },
        {
         "name": "bad_rate",
         "rawType": "object",
         "type": "string"
        }
       ],
       "conversionMethod": "pd.DataFrame",
       "ref": "6b59e32c-1887-40f5-ab49-a7f08f4a64cd",
       "rows": [
        [
         "0",
         "2023-05-29 00:00:00",
         "2023-06-04 00:00:00",
         "0.46509803921568627",
         "Week",
         "apps_score",
         "1.1.0",
         "FSTPD30"
        ],
        [
         "1",
         "2023-06-01 00:00:00",
         "2023-06-30 00:00:00",
         "0.3374202879495103",
         "Month",
         "apps_score",
         "1.1.0",
         "FSTPD30"
        ],
        [
         "2",
         "2023-06-05 00:00:00",
         "2023-06-11 00:00:00",
         "0.41330049261083746",
         "Week",
         "apps_score",
         "1.1.0",
         "FSTPD30"
        ],
        [
         "3",
         "2023-06-12 00:00:00",
         "2023-06-18 00:00:00",
         "0.3956762192056311",
         "Week",
         "apps_score",
         "1.1.0",
         "FSTPD30"
        ],
        [
         "4",
         "2023-06-19 00:00:00",
         "2023-06-25 00:00:00",
         "0.31449745252431693",
         "Week",
         "apps_score",
         "1.1.0",
         "FSTPD30"
        ]
       ],
       "shape": {
        "columns": 7,
        "rows": 5
       }
      },
      "text/html": [
       "<div>\n",
       "<style scoped>\n",
       "    .dataframe tbody tr th:only-of-type {\n",
       "        vertical-align: middle;\n",
       "    }\n",
       "\n",
       "    .dataframe tbody tr th {\n",
       "        vertical-align: top;\n",
       "    }\n",
       "\n",
       "    .dataframe thead th {\n",
       "        text-align: right;\n",
       "    }\n",
       "</style>\n",
       "<table border=\"1\" class=\"dataframe\">\n",
       "  <thead>\n",
       "    <tr style=\"text-align: right;\">\n",
       "      <th></th>\n",
       "      <th>start_date</th>\n",
       "      <th>end_date</th>\n",
       "      <th>apps_score_FSTPD30_gini</th>\n",
       "      <th>period</th>\n",
       "      <th>Model_Name</th>\n",
       "      <th>version</th>\n",
       "      <th>bad_rate</th>\n",
       "    </tr>\n",
       "  </thead>\n",
       "  <tbody>\n",
       "    <tr>\n",
       "      <th>0</th>\n",
       "      <td>2023-05-29</td>\n",
       "      <td>2023-06-04</td>\n",
       "      <td>0.465098</td>\n",
       "      <td>Week</td>\n",
       "      <td>apps_score</td>\n",
       "      <td>1.1.0</td>\n",
       "      <td>FSTPD30</td>\n",
       "    </tr>\n",
       "    <tr>\n",
       "      <th>1</th>\n",
       "      <td>2023-06-01</td>\n",
       "      <td>2023-06-30</td>\n",
       "      <td>0.337420</td>\n",
       "      <td>Month</td>\n",
       "      <td>apps_score</td>\n",
       "      <td>1.1.0</td>\n",
       "      <td>FSTPD30</td>\n",
       "    </tr>\n",
       "    <tr>\n",
       "      <th>2</th>\n",
       "      <td>2023-06-05</td>\n",
       "      <td>2023-06-11</td>\n",
       "      <td>0.413300</td>\n",
       "      <td>Week</td>\n",
       "      <td>apps_score</td>\n",
       "      <td>1.1.0</td>\n",
       "      <td>FSTPD30</td>\n",
       "    </tr>\n",
       "    <tr>\n",
       "      <th>3</th>\n",
       "      <td>2023-06-12</td>\n",
       "      <td>2023-06-18</td>\n",
       "      <td>0.395676</td>\n",
       "      <td>Week</td>\n",
       "      <td>apps_score</td>\n",
       "      <td>1.1.0</td>\n",
       "      <td>FSTPD30</td>\n",
       "    </tr>\n",
       "    <tr>\n",
       "      <th>4</th>\n",
       "      <td>2023-06-19</td>\n",
       "      <td>2023-06-25</td>\n",
       "      <td>0.314497</td>\n",
       "      <td>Week</td>\n",
       "      <td>apps_score</td>\n",
       "      <td>1.1.0</td>\n",
       "      <td>FSTPD30</td>\n",
       "    </tr>\n",
       "  </tbody>\n",
       "</table>\n",
       "</div>"
      ],
      "text/plain": [
       "  start_date   end_date  apps_score_FSTPD30_gini period  Model_Name version  \\\n",
       "0 2023-05-29 2023-06-04                 0.465098   Week  apps_score   1.1.0   \n",
       "1 2023-06-01 2023-06-30                 0.337420  Month  apps_score   1.1.0   \n",
       "2 2023-06-05 2023-06-11                 0.413300   Week  apps_score   1.1.0   \n",
       "3 2023-06-12 2023-06-18                 0.395676   Week  apps_score   1.1.0   \n",
       "4 2023-06-19 2023-06-25                 0.314497   Week  apps_score   1.1.0   \n",
       "\n",
       "  bad_rate  \n",
       "0  FSTPD30  \n",
       "1  FSTPD30  \n",
       "2  FSTPD30  \n",
       "3  FSTPD30  \n",
       "4  FSTPD30  "
      ]
     },
     "execution_count": 24,
     "metadata": {},
     "output_type": "execute_result"
    }
   ],
   "source": [
    "appscoreFSTPD30.head()"
   ]
  },
  {
   "cell_type": "markdown",
   "metadata": {},
   "source": [
    "# Combining App Score"
   ]
  },
  {
   "cell_type": "code",
   "execution_count": 25,
   "metadata": {},
   "outputs": [
    {
     "data": {
      "text/plain": [
       "array(['start_date', 'end_date', 'apps_score_FPD10_gini', 'period',\n",
       "       'Model_Name', 'version', 'bad_rate', 'apps_score_FPD30_gini',\n",
       "       'apps_score_FSPD30_gini', 'apps_score_FSTPD30_gini'], dtype=object)"
      ]
     },
     "execution_count": 25,
     "metadata": {},
     "output_type": "execute_result"
    }
   ],
   "source": [
    "import functools\n",
    "\n",
    "dataframes = [appscoreFPD10, appscoreFPD30, appscoreFSPD30, appscoreFSTPD30]\n",
    "common_columns = ['start_date', 'end_date', 'period', 'Model_Name','version', 'bad_rate']\n",
    "\n",
    "def merge_dataframes(df1, df2):\n",
    "    return pd.merge(df1, df2, on=common_columns, how='outer')\n",
    "\n",
    "final_df = functools.reduce(merge_dataframes, dataframes)\n",
    "\n",
    "final_df.columns.values"
   ]
  },
  {
   "cell_type": "code",
   "execution_count": 26,
   "metadata": {},
   "outputs": [
    {
     "data": {
      "text/plain": [
       "start_date                 datetime64[ns]\n",
       "end_date                   datetime64[ns]\n",
       "period                             object\n",
       "Model_Name                         object\n",
       "version                            object\n",
       "bad_rate                           object\n",
       "apps_score_FSTPD30_gini           float64\n",
       "apps_score_FSPD30_gini            float64\n",
       "apps_score_FPD30_gini             float64\n",
       "apps_score_FPD10_gini             float64\n",
       "dtype: object"
      ]
     },
     "execution_count": 26,
     "metadata": {},
     "output_type": "execute_result"
    }
   ],
   "source": [
    "final_df = final_df[['start_date', 'end_date', 'period',   'Model_Name', 'version', 'bad_rate','apps_score_FSTPD30_gini','apps_score_FSPD30_gini',\n",
    "       'apps_score_FPD30_gini', 'apps_score_FPD10_gini']].copy()\n",
    "final_df.dtypes"
   ]
  },
  {
   "cell_type": "markdown",
   "metadata": {},
   "source": [
    "## Creating app score table "
   ]
  },
  {
   "cell_type": "code",
   "execution_count": 27,
   "metadata": {},
   "outputs": [
    {
     "data": {
      "text/plain": [
       "QueryJob<project=prj-prod-dataplatform, location=asia-southeast1, id=0d3cbfe9-822c-43f2-bcd4-5f4e592b03aa>"
      ]
     },
     "execution_count": 27,
     "metadata": {},
     "output_type": "execute_result"
    }
   ],
   "source": [
    "sq = \"\"\"drop table if exists prj-prod-dataplatform.dap_ds_poweruser_playground.Model_gini_s_apps_score;\"\"\"\n",
    "client.query(sq)"
   ]
  },
  {
   "cell_type": "code",
   "execution_count": 28,
   "metadata": {},
   "outputs": [
    {
     "name": "stderr",
     "output_type": "stream",
     "text": [
      "C:\\Users\\Dwaipayan\\AppData\\Roaming\\Python\\Python312\\site-packages\\google\\cloud\\bigquery\\_pandas_helpers.py:483: FutureWarning: Loading pandas DataFrame into BigQuery will require pandas-gbq package version 0.26.1 or greater in the future. Tried to import pandas-gbq and got: No module named 'pandas_gbq'\n",
      "  warnings.warn(\n"
     ]
    },
    {
     "data": {
      "text/plain": [
       "LoadJob<project=prj-prod-dataplatform, location=asia-southeast1, id=31feac1b-64e3-42d9-83c3-cad3efc949d3>"
      ]
     },
     "execution_count": 28,
     "metadata": {},
     "output_type": "execute_result"
    }
   ],
   "source": [
    "import pandas as pd\n",
    "from google.cloud import bigquery\n",
    "\n",
    "# Create a BigQuery client\n",
    "client = bigquery.Client('prj-prod-dataplatform')\n",
    "\n",
    "# Define your table schema\n",
    "table_schema = [\n",
    "    bigquery.SchemaField('start_date', 'TIMESTAMP'),\n",
    "    bigquery.SchemaField('end_date', 'TIMESTAMP'),\n",
    "    bigquery.SchemaField('period', 'STRING'),\n",
    "    bigquery.SchemaField('Model_Name', 'STRING'),\n",
    "    bigquery.SchemaField('version', 'STRING'),\n",
    "    bigquery.SchemaField('Badrate', 'STRING'),\n",
    "    bigquery.SchemaField('apps_score_FSTPD30_gini', 'FLOAT'),\n",
    "    bigquery.SchemaField('apps_score_FSPD30_gini', 'FLOAT'),\n",
    "    bigquery.SchemaField('apps_score_FPD30_gini', 'FLOAT'),\n",
    "    bigquery.SchemaField('apps_score_fpd10_gini', 'FLOAT')\n",
    "]\n",
    "\n",
    "# Create your BigQuery table\n",
    "table_id = 'prj-prod-dataplatform.dap_ds_poweruser_playground.Model_gini_s_apps_score'\n",
    "table = bigquery.Table(table_id, schema=table_schema)\n",
    "table = client.create_table(table)\n",
    "\n",
    "# Load your DataFrame into BigQuery\n",
    "job_config = bigquery.LoadJobConfig(\n",
    "    write_disposition='WRITE_TRUNCATE'\n",
    ")\n",
    "\n",
    "load_job = client.load_table_from_dataframe(\n",
    "    final_df, table_id, job_config=job_config\n",
    ")\n",
    "\n",
    "load_job.result()"
   ]
  },
  {
   "cell_type": "markdown",
   "metadata": {},
   "source": [
    "# sb_demo_score"
   ]
  },
  {
   "cell_type": "markdown",
   "metadata": {},
   "source": [
    "## FPD10"
   ]
  },
  {
   "cell_type": "code",
   "execution_count": 29,
   "metadata": {},
   "outputs": [
    {
     "name": "stdout",
     "output_type": "stream",
     "text": [
      "Job ID db536116-14d1-4328-ba7a-fa2c385a7aff successfully executed: 100%|\u001b[32m██████████\u001b[0m|"
     ]
    },
    {
     "name": "stderr",
     "output_type": "stream",
     "text": [
      "C:\\Users\\Dwaipayan\\AppData\\Roaming\\Python\\Python312\\site-packages\\google\\cloud\\bigquery\\table.py:1900: UserWarning: BigQuery Storage module not found, fetch data with the REST endpoint instead.\n",
      "  warnings.warn(\n"
     ]
    },
    {
     "name": "stdout",
     "output_type": "stream",
     "text": [
      "\n",
      "Downloading: 100%|\u001b[32m██████████\u001b[0m|\n"
     ]
    }
   ],
   "source": [
    "sq = f\"\"\"\n",
    "with sb_demo_score as \n",
    "(SELECT \n",
    "    ln_disb_dtime disbursementdate,\n",
    "\tdigitalLoanAccountId,\n",
    "    beta_demo_score,\n",
    "    ln_fpd10_flag,\n",
    "\tln_mature_fpd10_flag,\t\n",
    "\tFROM \n",
    "    {a}\n",
    "  WHERE \n",
    "     -- ln_disb_dtime >= '2023-07-01'\n",
    "    ln_appln_submit_datetime >= '2023-06-01'\n",
    "  -- AND\n",
    "  --   format_date('%Y-%m', ln_disb_dtime) = '2024-09'\n",
    "  AND\n",
    "    ln_fpd10_flag is not null\n",
    "  AND\n",
    "    beta_demo_score is not null\n",
    "  AND\n",
    "    ln_mature_fpd10_flag = 1\n",
    ")\n",
    "select * from sb_demo_score;\n",
    "\"\"\"\n",
    "\n",
    "df_sb_demo_scorefpd10 = client.query(sq).to_dataframe(progress_bar_type='tqdm')"
   ]
  },
  {
   "cell_type": "code",
   "execution_count": 30,
   "metadata": {},
   "outputs": [
    {
     "data": {
      "application/vnd.microsoft.datawrangler.viewer.v0+json": {
       "columns": [
        {
         "name": "index",
         "rawType": "int64",
         "type": "integer"
        },
        {
         "name": "disbursementdate",
         "rawType": "datetime64[us]",
         "type": "unknown"
        },
        {
         "name": "digitalLoanAccountId",
         "rawType": "object",
         "type": "string"
        },
        {
         "name": "beta_demo_score",
         "rawType": "object",
         "type": "string"
        },
        {
         "name": "ln_fpd10_flag",
         "rawType": "Int64",
         "type": "integer"
        },
        {
         "name": "ln_mature_fpd10_flag",
         "rawType": "Int64",
         "type": "integer"
        }
       ],
       "conversionMethod": "pd.DataFrame",
       "ref": "0069b277-6cde-4e1b-b6f2-f0583649cceb",
       "rows": [
        [
         "0",
         "2024-07-16 19:09:27",
         "a731f941-ed8a-4278-9ba4-1fd41132aa5e",
         "0.1960012463880533",
         "0",
         "1"
        ],
        [
         "1",
         "2024-11-24 18:45:09",
         "5be2f2c7-2401-48bc-a384-6f62c22866db",
         "0.065214482091042317",
         "0",
         "1"
        ],
        [
         "2",
         "2023-12-17 19:38:05",
         "0c97d2b7-3157-4f68-a502-636f59339b6d",
         "0.055014663696521922",
         "0",
         "1"
        ],
        [
         "3",
         "2024-12-01 12:21:56",
         "1eac1869-c3c5-4ed8-aa58-aeb90c730784",
         "0.18984960452691726",
         "0",
         "1"
        ],
        [
         "4",
         "2024-10-26 15:36:19",
         "4085569c-fc38-485b-9eb9-87e23466e91e",
         "0.083131787024514639",
         "0",
         "1"
        ]
       ],
       "shape": {
        "columns": 5,
        "rows": 5
       }
      },
      "text/html": [
       "<div>\n",
       "<style scoped>\n",
       "    .dataframe tbody tr th:only-of-type {\n",
       "        vertical-align: middle;\n",
       "    }\n",
       "\n",
       "    .dataframe tbody tr th {\n",
       "        vertical-align: top;\n",
       "    }\n",
       "\n",
       "    .dataframe thead th {\n",
       "        text-align: right;\n",
       "    }\n",
       "</style>\n",
       "<table border=\"1\" class=\"dataframe\">\n",
       "  <thead>\n",
       "    <tr style=\"text-align: right;\">\n",
       "      <th></th>\n",
       "      <th>disbursementdate</th>\n",
       "      <th>digitalLoanAccountId</th>\n",
       "      <th>beta_demo_score</th>\n",
       "      <th>ln_fpd10_flag</th>\n",
       "      <th>ln_mature_fpd10_flag</th>\n",
       "    </tr>\n",
       "  </thead>\n",
       "  <tbody>\n",
       "    <tr>\n",
       "      <th>0</th>\n",
       "      <td>2024-07-16 19:09:27</td>\n",
       "      <td>a731f941-ed8a-4278-9ba4-1fd41132aa5e</td>\n",
       "      <td>0.1960012463880533</td>\n",
       "      <td>0</td>\n",
       "      <td>1</td>\n",
       "    </tr>\n",
       "    <tr>\n",
       "      <th>1</th>\n",
       "      <td>2024-11-24 18:45:09</td>\n",
       "      <td>5be2f2c7-2401-48bc-a384-6f62c22866db</td>\n",
       "      <td>0.065214482091042317</td>\n",
       "      <td>0</td>\n",
       "      <td>1</td>\n",
       "    </tr>\n",
       "    <tr>\n",
       "      <th>2</th>\n",
       "      <td>2023-12-17 19:38:05</td>\n",
       "      <td>0c97d2b7-3157-4f68-a502-636f59339b6d</td>\n",
       "      <td>0.055014663696521922</td>\n",
       "      <td>0</td>\n",
       "      <td>1</td>\n",
       "    </tr>\n",
       "    <tr>\n",
       "      <th>3</th>\n",
       "      <td>2024-12-01 12:21:56</td>\n",
       "      <td>1eac1869-c3c5-4ed8-aa58-aeb90c730784</td>\n",
       "      <td>0.18984960452691726</td>\n",
       "      <td>0</td>\n",
       "      <td>1</td>\n",
       "    </tr>\n",
       "    <tr>\n",
       "      <th>4</th>\n",
       "      <td>2024-10-26 15:36:19</td>\n",
       "      <td>4085569c-fc38-485b-9eb9-87e23466e91e</td>\n",
       "      <td>0.083131787024514639</td>\n",
       "      <td>0</td>\n",
       "      <td>1</td>\n",
       "    </tr>\n",
       "  </tbody>\n",
       "</table>\n",
       "</div>"
      ],
      "text/plain": [
       "     disbursementdate                  digitalLoanAccountId  \\\n",
       "0 2024-07-16 19:09:27  a731f941-ed8a-4278-9ba4-1fd41132aa5e   \n",
       "1 2024-11-24 18:45:09  5be2f2c7-2401-48bc-a384-6f62c22866db   \n",
       "2 2023-12-17 19:38:05  0c97d2b7-3157-4f68-a502-636f59339b6d   \n",
       "3 2024-12-01 12:21:56  1eac1869-c3c5-4ed8-aa58-aeb90c730784   \n",
       "4 2024-10-26 15:36:19  4085569c-fc38-485b-9eb9-87e23466e91e   \n",
       "\n",
       "        beta_demo_score  ln_fpd10_flag  ln_mature_fpd10_flag  \n",
       "0    0.1960012463880533              0                     1  \n",
       "1  0.065214482091042317              0                     1  \n",
       "2  0.055014663696521922              0                     1  \n",
       "3   0.18984960452691726              0                     1  \n",
       "4  0.083131787024514639              0                     1  "
      ]
     },
     "execution_count": 30,
     "metadata": {},
     "output_type": "execute_result"
    }
   ],
   "source": [
    "df_sb_demo_scorefpd10.head()"
   ]
  },
  {
   "cell_type": "code",
   "execution_count": 31,
   "metadata": {},
   "outputs": [
    {
     "name": "stderr",
     "output_type": "stream",
     "text": [
      "C:\\Users\\Dwaipayan\\AppData\\Local\\Temp\\ipykernel_53324\\1204584280.py:30: DeprecationWarning: DataFrameGroupBy.apply operated on the grouping columns. This behavior is deprecated, and in a future version of pandas the grouping columns will be excluded from the operation. Either pass `include_groups=False` to exclude the groupings or explicitly select the grouping columns after groupby to silence this warning.\n",
      "  weekly_gini = df.groupby('week').apply(\n",
      "C:\\Users\\Dwaipayan\\AppData\\Local\\Temp\\ipykernel_53324\\1204584280.py:41: DeprecationWarning: DataFrameGroupBy.apply operated on the grouping columns. This behavior is deprecated, and in a future version of pandas the grouping columns will be excluded from the operation. Either pass `include_groups=False` to exclude the groupings or explicitly select the grouping columns after groupby to silence this warning.\n",
      "  monthly_gini = df.groupby('month').apply(\n"
     ]
    },
    {
     "name": "stdout",
     "output_type": "stream",
     "text": [
      "The shape of dataframe after copy is:\t(119, 7)\n"
     ]
    },
    {
     "data": {
      "text/plain": [
       "array(['start_date', 'end_date', 'beta_demo_score_FPD10_gini', 'period',\n",
       "       'Model_Name', 'version', 'bad_rate'], dtype=object)"
      ]
     },
     "execution_count": 31,
     "metadata": {},
     "output_type": "execute_result"
    }
   ],
   "source": [
    "gini_results = calculate_periodic_gini(df_sb_demo_scorefpd10, 'beta_demo_score', 'ln_fpd10_flag', 'FPD10')\n",
    "sb_demo_scoreFPD10 = gini_results.copy()\n",
    "print(f\"The shape of dataframe after copy is:\\t{sb_demo_scoreFPD10.shape}\")\n",
    "sb_demo_scoreFPD10.columns.values"
   ]
  },
  {
   "cell_type": "code",
   "execution_count": 32,
   "metadata": {},
   "outputs": [
    {
     "data": {
      "application/vnd.microsoft.datawrangler.viewer.v0+json": {
       "columns": [
        {
         "name": "index",
         "rawType": "int64",
         "type": "integer"
        },
        {
         "name": "start_date",
         "rawType": "datetime64[ns]",
         "type": "datetime"
        },
        {
         "name": "end_date",
         "rawType": "datetime64[ns]",
         "type": "datetime"
        },
        {
         "name": "beta_demo_score_FPD10_gini",
         "rawType": "float64",
         "type": "float"
        },
        {
         "name": "period",
         "rawType": "object",
         "type": "string"
        },
        {
         "name": "Model_Name",
         "rawType": "object",
         "type": "string"
        },
        {
         "name": "version",
         "rawType": "object",
         "type": "string"
        },
        {
         "name": "bad_rate",
         "rawType": "object",
         "type": "string"
        }
       ],
       "conversionMethod": "pd.DataFrame",
       "ref": "0b598358-1f0e-497f-b5e6-0f90270292bd",
       "rows": [
        [
         "114",
         "2025-03-03 00:00:00",
         "2025-03-09 00:00:00",
         "0.25851665597546636",
         "Week",
         "beta_demo_score",
         "1.1.0",
         "FPD10"
        ],
        [
         "115",
         "2025-03-10 00:00:00",
         "2025-03-16 00:00:00",
         "-0.3846153846153847",
         "Week",
         "beta_demo_score",
         "1.1.0",
         "FPD10"
        ],
        [
         "116",
         "2025-03-24 00:00:00",
         "2025-03-30 00:00:00",
         "0.12876990850559134",
         "Week",
         "beta_demo_score",
         "1.1.0",
         "FPD10"
        ],
        [
         "117",
         "2025-03-31 00:00:00",
         "2025-04-06 00:00:00",
         "-0.06363636363636371",
         "Week",
         "beta_demo_score",
         "1.1.0",
         "FPD10"
        ],
        [
         "118",
         "2025-04-01 00:00:00",
         "2025-04-30 00:00:00",
         "-0.4916666666666667",
         "Month",
         "beta_demo_score",
         "1.1.0",
         "FPD10"
        ]
       ],
       "shape": {
        "columns": 7,
        "rows": 5
       }
      },
      "text/html": [
       "<div>\n",
       "<style scoped>\n",
       "    .dataframe tbody tr th:only-of-type {\n",
       "        vertical-align: middle;\n",
       "    }\n",
       "\n",
       "    .dataframe tbody tr th {\n",
       "        vertical-align: top;\n",
       "    }\n",
       "\n",
       "    .dataframe thead th {\n",
       "        text-align: right;\n",
       "    }\n",
       "</style>\n",
       "<table border=\"1\" class=\"dataframe\">\n",
       "  <thead>\n",
       "    <tr style=\"text-align: right;\">\n",
       "      <th></th>\n",
       "      <th>start_date</th>\n",
       "      <th>end_date</th>\n",
       "      <th>beta_demo_score_FPD10_gini</th>\n",
       "      <th>period</th>\n",
       "      <th>Model_Name</th>\n",
       "      <th>version</th>\n",
       "      <th>bad_rate</th>\n",
       "    </tr>\n",
       "  </thead>\n",
       "  <tbody>\n",
       "    <tr>\n",
       "      <th>114</th>\n",
       "      <td>2025-03-03</td>\n",
       "      <td>2025-03-09</td>\n",
       "      <td>0.258517</td>\n",
       "      <td>Week</td>\n",
       "      <td>beta_demo_score</td>\n",
       "      <td>1.1.0</td>\n",
       "      <td>FPD10</td>\n",
       "    </tr>\n",
       "    <tr>\n",
       "      <th>115</th>\n",
       "      <td>2025-03-10</td>\n",
       "      <td>2025-03-16</td>\n",
       "      <td>-0.384615</td>\n",
       "      <td>Week</td>\n",
       "      <td>beta_demo_score</td>\n",
       "      <td>1.1.0</td>\n",
       "      <td>FPD10</td>\n",
       "    </tr>\n",
       "    <tr>\n",
       "      <th>116</th>\n",
       "      <td>2025-03-24</td>\n",
       "      <td>2025-03-30</td>\n",
       "      <td>0.128770</td>\n",
       "      <td>Week</td>\n",
       "      <td>beta_demo_score</td>\n",
       "      <td>1.1.0</td>\n",
       "      <td>FPD10</td>\n",
       "    </tr>\n",
       "    <tr>\n",
       "      <th>117</th>\n",
       "      <td>2025-03-31</td>\n",
       "      <td>2025-04-06</td>\n",
       "      <td>-0.063636</td>\n",
       "      <td>Week</td>\n",
       "      <td>beta_demo_score</td>\n",
       "      <td>1.1.0</td>\n",
       "      <td>FPD10</td>\n",
       "    </tr>\n",
       "    <tr>\n",
       "      <th>118</th>\n",
       "      <td>2025-04-01</td>\n",
       "      <td>2025-04-30</td>\n",
       "      <td>-0.491667</td>\n",
       "      <td>Month</td>\n",
       "      <td>beta_demo_score</td>\n",
       "      <td>1.1.0</td>\n",
       "      <td>FPD10</td>\n",
       "    </tr>\n",
       "  </tbody>\n",
       "</table>\n",
       "</div>"
      ],
      "text/plain": [
       "    start_date   end_date  beta_demo_score_FPD10_gini period       Model_Name  \\\n",
       "114 2025-03-03 2025-03-09                    0.258517   Week  beta_demo_score   \n",
       "115 2025-03-10 2025-03-16                   -0.384615   Week  beta_demo_score   \n",
       "116 2025-03-24 2025-03-30                    0.128770   Week  beta_demo_score   \n",
       "117 2025-03-31 2025-04-06                   -0.063636   Week  beta_demo_score   \n",
       "118 2025-04-01 2025-04-30                   -0.491667  Month  beta_demo_score   \n",
       "\n",
       "    version bad_rate  \n",
       "114   1.1.0    FPD10  \n",
       "115   1.1.0    FPD10  \n",
       "116   1.1.0    FPD10  \n",
       "117   1.1.0    FPD10  \n",
       "118   1.1.0    FPD10  "
      ]
     },
     "execution_count": 32,
     "metadata": {},
     "output_type": "execute_result"
    }
   ],
   "source": [
    "sb_demo_scoreFPD10.tail()"
   ]
  },
  {
   "cell_type": "markdown",
   "metadata": {},
   "source": [
    "## FPD30"
   ]
  },
  {
   "cell_type": "code",
   "execution_count": 33,
   "metadata": {},
   "outputs": [
    {
     "name": "stdout",
     "output_type": "stream",
     "text": [
      "Job ID 42bf37bc-925a-42ba-86e9-d04fe369553c successfully executed: 100%|\u001b[32m██████████\u001b[0m|"
     ]
    },
    {
     "name": "stderr",
     "output_type": "stream",
     "text": [
      "C:\\Users\\Dwaipayan\\AppData\\Roaming\\Python\\Python312\\site-packages\\google\\cloud\\bigquery\\table.py:1900: UserWarning: BigQuery Storage module not found, fetch data with the REST endpoint instead.\n",
      "  warnings.warn(\n"
     ]
    },
    {
     "name": "stdout",
     "output_type": "stream",
     "text": [
      "\n",
      "Downloading: 100%|\u001b[32m██████████\u001b[0m|\n"
     ]
    }
   ],
   "source": [
    "sq = f\"\"\"\n",
    "with sb_demo_score as \n",
    "(SELECT \n",
    "    ln_disb_dtime disbursementdate,\n",
    "\tdigitalLoanAccountId,\n",
    "    beta_demo_score,\n",
    "    ln_fpd30_flag,\n",
    "\tln_mature_fpd30_flag,\t\n",
    "\tFROM \n",
    "    {a}\n",
    "  WHERE \n",
    "     -- ln_disb_dtime >= '2023-07-01'\n",
    "    ln_appln_submit_datetime >= '2023-06-01'\n",
    "  -- AND\n",
    "  --   format_date('%Y-%m', ln_disb_dtime) = '2024-09'\n",
    "  AND\n",
    "    ln_fpd30_flag is not null\n",
    "  AND\n",
    "    beta_demo_score is not null\n",
    "  AND\n",
    "    ln_mature_fpd30_flag = 1\n",
    ")\n",
    "select * from sb_demo_score;\n",
    "\"\"\"\n",
    "\n",
    "df_sb_demo_scorefpd30 = client.query(sq).to_dataframe(progress_bar_type='tqdm')"
   ]
  },
  {
   "cell_type": "code",
   "execution_count": 34,
   "metadata": {},
   "outputs": [
    {
     "name": "stderr",
     "output_type": "stream",
     "text": [
      "C:\\Users\\Dwaipayan\\AppData\\Local\\Temp\\ipykernel_53324\\1204584280.py:30: DeprecationWarning: DataFrameGroupBy.apply operated on the grouping columns. This behavior is deprecated, and in a future version of pandas the grouping columns will be excluded from the operation. Either pass `include_groups=False` to exclude the groupings or explicitly select the grouping columns after groupby to silence this warning.\n",
      "  weekly_gini = df.groupby('week').apply(\n"
     ]
    },
    {
     "name": "stdout",
     "output_type": "stream",
     "text": [
      "The shape of dataframe after copy is:\t(116, 7)\n"
     ]
    },
    {
     "name": "stderr",
     "output_type": "stream",
     "text": [
      "C:\\Users\\Dwaipayan\\AppData\\Local\\Temp\\ipykernel_53324\\1204584280.py:41: DeprecationWarning: DataFrameGroupBy.apply operated on the grouping columns. This behavior is deprecated, and in a future version of pandas the grouping columns will be excluded from the operation. Either pass `include_groups=False` to exclude the groupings or explicitly select the grouping columns after groupby to silence this warning.\n",
      "  monthly_gini = df.groupby('month').apply(\n"
     ]
    },
    {
     "data": {
      "text/plain": [
       "array(['start_date', 'end_date', 'beta_demo_score_FPD30_gini', 'period',\n",
       "       'Model_Name', 'version', 'bad_rate'], dtype=object)"
      ]
     },
     "execution_count": 34,
     "metadata": {},
     "output_type": "execute_result"
    }
   ],
   "source": [
    "gini_results = calculate_periodic_gini(df_sb_demo_scorefpd30, 'beta_demo_score', 'ln_fpd30_flag', 'FPD30')\n",
    "sb_demo_scoreFPD30 = gini_results.copy()\n",
    "print(f\"The shape of dataframe after copy is:\\t{sb_demo_scoreFPD30.shape}\")\n",
    "sb_demo_scoreFPD30.columns.values"
   ]
  },
  {
   "cell_type": "code",
   "execution_count": 35,
   "metadata": {},
   "outputs": [
    {
     "data": {
      "application/vnd.microsoft.datawrangler.viewer.v0+json": {
       "columns": [
        {
         "name": "index",
         "rawType": "int64",
         "type": "integer"
        },
        {
         "name": "start_date",
         "rawType": "datetime64[ns]",
         "type": "datetime"
        },
        {
         "name": "end_date",
         "rawType": "datetime64[ns]",
         "type": "datetime"
        },
        {
         "name": "beta_demo_score_FPD30_gini",
         "rawType": "float64",
         "type": "float"
        },
        {
         "name": "period",
         "rawType": "object",
         "type": "string"
        },
        {
         "name": "Model_Name",
         "rawType": "object",
         "type": "string"
        },
        {
         "name": "version",
         "rawType": "object",
         "type": "string"
        },
        {
         "name": "bad_rate",
         "rawType": "object",
         "type": "string"
        }
       ],
       "conversionMethod": "pd.DataFrame",
       "ref": "d83d0866-f3a2-4fd4-a31f-132e40360f82",
       "rows": [
        [
         "0",
         "2023-05-29 00:00:00",
         "2023-06-04 00:00:00",
         "0.28909090909090907",
         "Week",
         "beta_demo_score",
         "1.1.0",
         "FPD30"
        ],
        [
         "1",
         "2023-06-01 00:00:00",
         "2023-06-30 00:00:00",
         "0.18300132802124836",
         "Month",
         "beta_demo_score",
         "1.1.0",
         "FPD30"
        ],
        [
         "2",
         "2023-06-05 00:00:00",
         "2023-06-11 00:00:00",
         "0.20740740740740726",
         "Week",
         "beta_demo_score",
         "1.1.0",
         "FPD30"
        ],
        [
         "3",
         "2023-06-12 00:00:00",
         "2023-06-18 00:00:00",
         "0.4049586776859504",
         "Week",
         "beta_demo_score",
         "1.1.0",
         "FPD30"
        ],
        [
         "4",
         "2023-06-19 00:00:00",
         "2023-06-25 00:00:00",
         "-0.24364123159303896",
         "Week",
         "beta_demo_score",
         "1.1.0",
         "FPD30"
        ]
       ],
       "shape": {
        "columns": 7,
        "rows": 5
       }
      },
      "text/html": [
       "<div>\n",
       "<style scoped>\n",
       "    .dataframe tbody tr th:only-of-type {\n",
       "        vertical-align: middle;\n",
       "    }\n",
       "\n",
       "    .dataframe tbody tr th {\n",
       "        vertical-align: top;\n",
       "    }\n",
       "\n",
       "    .dataframe thead th {\n",
       "        text-align: right;\n",
       "    }\n",
       "</style>\n",
       "<table border=\"1\" class=\"dataframe\">\n",
       "  <thead>\n",
       "    <tr style=\"text-align: right;\">\n",
       "      <th></th>\n",
       "      <th>start_date</th>\n",
       "      <th>end_date</th>\n",
       "      <th>beta_demo_score_FPD30_gini</th>\n",
       "      <th>period</th>\n",
       "      <th>Model_Name</th>\n",
       "      <th>version</th>\n",
       "      <th>bad_rate</th>\n",
       "    </tr>\n",
       "  </thead>\n",
       "  <tbody>\n",
       "    <tr>\n",
       "      <th>0</th>\n",
       "      <td>2023-05-29</td>\n",
       "      <td>2023-06-04</td>\n",
       "      <td>0.289091</td>\n",
       "      <td>Week</td>\n",
       "      <td>beta_demo_score</td>\n",
       "      <td>1.1.0</td>\n",
       "      <td>FPD30</td>\n",
       "    </tr>\n",
       "    <tr>\n",
       "      <th>1</th>\n",
       "      <td>2023-06-01</td>\n",
       "      <td>2023-06-30</td>\n",
       "      <td>0.183001</td>\n",
       "      <td>Month</td>\n",
       "      <td>beta_demo_score</td>\n",
       "      <td>1.1.0</td>\n",
       "      <td>FPD30</td>\n",
       "    </tr>\n",
       "    <tr>\n",
       "      <th>2</th>\n",
       "      <td>2023-06-05</td>\n",
       "      <td>2023-06-11</td>\n",
       "      <td>0.207407</td>\n",
       "      <td>Week</td>\n",
       "      <td>beta_demo_score</td>\n",
       "      <td>1.1.0</td>\n",
       "      <td>FPD30</td>\n",
       "    </tr>\n",
       "    <tr>\n",
       "      <th>3</th>\n",
       "      <td>2023-06-12</td>\n",
       "      <td>2023-06-18</td>\n",
       "      <td>0.404959</td>\n",
       "      <td>Week</td>\n",
       "      <td>beta_demo_score</td>\n",
       "      <td>1.1.0</td>\n",
       "      <td>FPD30</td>\n",
       "    </tr>\n",
       "    <tr>\n",
       "      <th>4</th>\n",
       "      <td>2023-06-19</td>\n",
       "      <td>2023-06-25</td>\n",
       "      <td>-0.243641</td>\n",
       "      <td>Week</td>\n",
       "      <td>beta_demo_score</td>\n",
       "      <td>1.1.0</td>\n",
       "      <td>FPD30</td>\n",
       "    </tr>\n",
       "  </tbody>\n",
       "</table>\n",
       "</div>"
      ],
      "text/plain": [
       "  start_date   end_date  beta_demo_score_FPD30_gini period       Model_Name  \\\n",
       "0 2023-05-29 2023-06-04                    0.289091   Week  beta_demo_score   \n",
       "1 2023-06-01 2023-06-30                    0.183001  Month  beta_demo_score   \n",
       "2 2023-06-05 2023-06-11                    0.207407   Week  beta_demo_score   \n",
       "3 2023-06-12 2023-06-18                    0.404959   Week  beta_demo_score   \n",
       "4 2023-06-19 2023-06-25                   -0.243641   Week  beta_demo_score   \n",
       "\n",
       "  version bad_rate  \n",
       "0   1.1.0    FPD30  \n",
       "1   1.1.0    FPD30  \n",
       "2   1.1.0    FPD30  \n",
       "3   1.1.0    FPD30  \n",
       "4   1.1.0    FPD30  "
      ]
     },
     "execution_count": 35,
     "metadata": {},
     "output_type": "execute_result"
    }
   ],
   "source": [
    "sb_demo_scoreFPD30.head() "
   ]
  },
  {
   "cell_type": "markdown",
   "metadata": {},
   "source": [
    "## FSPD30"
   ]
  },
  {
   "cell_type": "code",
   "execution_count": 36,
   "metadata": {},
   "outputs": [
    {
     "name": "stdout",
     "output_type": "stream",
     "text": [
      "Job ID 2cbb203c-11f5-45ef-90ed-4fbc13ca1557 successfully executed: 100%|\u001b[32m██████████\u001b[0m|"
     ]
    },
    {
     "name": "stderr",
     "output_type": "stream",
     "text": [
      "C:\\Users\\Dwaipayan\\AppData\\Roaming\\Python\\Python312\\site-packages\\google\\cloud\\bigquery\\table.py:1900: UserWarning: BigQuery Storage module not found, fetch data with the REST endpoint instead.\n",
      "  warnings.warn(\n"
     ]
    },
    {
     "name": "stdout",
     "output_type": "stream",
     "text": [
      "\n",
      "Downloading: 100%|\u001b[32m██████████\u001b[0m|\n"
     ]
    }
   ],
   "source": [
    "sq = f\"\"\"\n",
    "with sb_demo_score as \n",
    "(SELECT \n",
    "    ln_disb_dtime disbursementdate,\n",
    "\tdigitalLoanAccountId,\n",
    "    beta_demo_score,\n",
    "    ln_fspd30_flag,   -- fspd30\n",
    "\tln_mature_fspd30_flag,\t--- fspd30 observation\n",
    "\tFROM \n",
    "   {a}\n",
    "  WHERE \n",
    "     -- ln_disb_dtime >= '2023-07-01'\n",
    "    ln_appln_submit_datetime >= '2023-06-01'\n",
    "  -- AND\n",
    "  --   format_date('%Y-%m', ln_disb_dtime) = '2024-09'\n",
    "  AND\n",
    "    ln_fspd30_flag is not null\n",
    "  AND\n",
    "    beta_demo_score is not null\n",
    "  AND\n",
    "    ln_mature_fspd30_flag = 1\n",
    ")\n",
    "select * from sb_demo_score;\n",
    "\"\"\"\n",
    "\n",
    "df_sb_demo_scorefspd30 = client.query(sq).to_dataframe(progress_bar_type='tqdm')"
   ]
  },
  {
   "cell_type": "code",
   "execution_count": 37,
   "metadata": {},
   "outputs": [
    {
     "name": "stderr",
     "output_type": "stream",
     "text": [
      "C:\\Users\\Dwaipayan\\AppData\\Local\\Temp\\ipykernel_53324\\1204584280.py:30: DeprecationWarning: DataFrameGroupBy.apply operated on the grouping columns. This behavior is deprecated, and in a future version of pandas the grouping columns will be excluded from the operation. Either pass `include_groups=False` to exclude the groupings or explicitly select the grouping columns after groupby to silence this warning.\n",
      "  weekly_gini = df.groupby('week').apply(\n"
     ]
    },
    {
     "name": "stdout",
     "output_type": "stream",
     "text": [
      "The shape of dataframe after copy is:\t(111, 7)\n"
     ]
    },
    {
     "name": "stderr",
     "output_type": "stream",
     "text": [
      "C:\\Users\\Dwaipayan\\AppData\\Local\\Temp\\ipykernel_53324\\1204584280.py:41: DeprecationWarning: DataFrameGroupBy.apply operated on the grouping columns. This behavior is deprecated, and in a future version of pandas the grouping columns will be excluded from the operation. Either pass `include_groups=False` to exclude the groupings or explicitly select the grouping columns after groupby to silence this warning.\n",
      "  monthly_gini = df.groupby('month').apply(\n"
     ]
    },
    {
     "data": {
      "text/plain": [
       "array(['start_date', 'end_date', 'beta_demo_score_FSPD30_gini', 'period',\n",
       "       'Model_Name', 'version', 'bad_rate'], dtype=object)"
      ]
     },
     "execution_count": 37,
     "metadata": {},
     "output_type": "execute_result"
    }
   ],
   "source": [
    "gini_results = calculate_periodic_gini(df_sb_demo_scorefspd30, 'beta_demo_score', 'ln_fspd30_flag', 'FSPD30')\n",
    "sb_demo_scoreFSPD30 = gini_results.copy()\n",
    "print(f\"The shape of dataframe after copy is:\\t{sb_demo_scoreFSPD30.shape}\")\n",
    "sb_demo_scoreFSPD30.columns.values"
   ]
  },
  {
   "cell_type": "code",
   "execution_count": 38,
   "metadata": {},
   "outputs": [
    {
     "data": {
      "application/vnd.microsoft.datawrangler.viewer.v0+json": {
       "columns": [
        {
         "name": "index",
         "rawType": "int64",
         "type": "integer"
        },
        {
         "name": "start_date",
         "rawType": "datetime64[ns]",
         "type": "datetime"
        },
        {
         "name": "end_date",
         "rawType": "datetime64[ns]",
         "type": "datetime"
        },
        {
         "name": "beta_demo_score_FSPD30_gini",
         "rawType": "float64",
         "type": "float"
        },
        {
         "name": "period",
         "rawType": "object",
         "type": "string"
        },
        {
         "name": "Model_Name",
         "rawType": "object",
         "type": "string"
        },
        {
         "name": "version",
         "rawType": "object",
         "type": "string"
        },
        {
         "name": "bad_rate",
         "rawType": "object",
         "type": "string"
        }
       ],
       "conversionMethod": "pd.DataFrame",
       "ref": "7c5e6a57-083d-4356-8007-4c0b28e569a1",
       "rows": [
        [
         "0",
         "2023-05-29 00:00:00",
         "2023-06-04 00:00:00",
         "0.08760107816711593",
         "Week",
         "beta_demo_score",
         "1.1.0",
         "FSPD30"
        ],
        [
         "1",
         "2023-06-01 00:00:00",
         "2023-06-30 00:00:00",
         "0.2126944837340876",
         "Month",
         "beta_demo_score",
         "1.1.0",
         "FSPD30"
        ],
        [
         "2",
         "2023-06-05 00:00:00",
         "2023-06-11 00:00:00",
         "0.23919191919191918",
         "Week",
         "beta_demo_score",
         "1.1.0",
         "FSPD30"
        ],
        [
         "3",
         "2023-06-12 00:00:00",
         "2023-06-18 00:00:00",
         "0.3655913978494625",
         "Week",
         "beta_demo_score",
         "1.1.0",
         "FSPD30"
        ],
        [
         "4",
         "2023-06-19 00:00:00",
         "2023-06-25 00:00:00",
         "0.07759784075573539",
         "Week",
         "beta_demo_score",
         "1.1.0",
         "FSPD30"
        ]
       ],
       "shape": {
        "columns": 7,
        "rows": 5
       }
      },
      "text/html": [
       "<div>\n",
       "<style scoped>\n",
       "    .dataframe tbody tr th:only-of-type {\n",
       "        vertical-align: middle;\n",
       "    }\n",
       "\n",
       "    .dataframe tbody tr th {\n",
       "        vertical-align: top;\n",
       "    }\n",
       "\n",
       "    .dataframe thead th {\n",
       "        text-align: right;\n",
       "    }\n",
       "</style>\n",
       "<table border=\"1\" class=\"dataframe\">\n",
       "  <thead>\n",
       "    <tr style=\"text-align: right;\">\n",
       "      <th></th>\n",
       "      <th>start_date</th>\n",
       "      <th>end_date</th>\n",
       "      <th>beta_demo_score_FSPD30_gini</th>\n",
       "      <th>period</th>\n",
       "      <th>Model_Name</th>\n",
       "      <th>version</th>\n",
       "      <th>bad_rate</th>\n",
       "    </tr>\n",
       "  </thead>\n",
       "  <tbody>\n",
       "    <tr>\n",
       "      <th>0</th>\n",
       "      <td>2023-05-29</td>\n",
       "      <td>2023-06-04</td>\n",
       "      <td>0.087601</td>\n",
       "      <td>Week</td>\n",
       "      <td>beta_demo_score</td>\n",
       "      <td>1.1.0</td>\n",
       "      <td>FSPD30</td>\n",
       "    </tr>\n",
       "    <tr>\n",
       "      <th>1</th>\n",
       "      <td>2023-06-01</td>\n",
       "      <td>2023-06-30</td>\n",
       "      <td>0.212694</td>\n",
       "      <td>Month</td>\n",
       "      <td>beta_demo_score</td>\n",
       "      <td>1.1.0</td>\n",
       "      <td>FSPD30</td>\n",
       "    </tr>\n",
       "    <tr>\n",
       "      <th>2</th>\n",
       "      <td>2023-06-05</td>\n",
       "      <td>2023-06-11</td>\n",
       "      <td>0.239192</td>\n",
       "      <td>Week</td>\n",
       "      <td>beta_demo_score</td>\n",
       "      <td>1.1.0</td>\n",
       "      <td>FSPD30</td>\n",
       "    </tr>\n",
       "    <tr>\n",
       "      <th>3</th>\n",
       "      <td>2023-06-12</td>\n",
       "      <td>2023-06-18</td>\n",
       "      <td>0.365591</td>\n",
       "      <td>Week</td>\n",
       "      <td>beta_demo_score</td>\n",
       "      <td>1.1.0</td>\n",
       "      <td>FSPD30</td>\n",
       "    </tr>\n",
       "    <tr>\n",
       "      <th>4</th>\n",
       "      <td>2023-06-19</td>\n",
       "      <td>2023-06-25</td>\n",
       "      <td>0.077598</td>\n",
       "      <td>Week</td>\n",
       "      <td>beta_demo_score</td>\n",
       "      <td>1.1.0</td>\n",
       "      <td>FSPD30</td>\n",
       "    </tr>\n",
       "  </tbody>\n",
       "</table>\n",
       "</div>"
      ],
      "text/plain": [
       "  start_date   end_date  beta_demo_score_FSPD30_gini period       Model_Name  \\\n",
       "0 2023-05-29 2023-06-04                     0.087601   Week  beta_demo_score   \n",
       "1 2023-06-01 2023-06-30                     0.212694  Month  beta_demo_score   \n",
       "2 2023-06-05 2023-06-11                     0.239192   Week  beta_demo_score   \n",
       "3 2023-06-12 2023-06-18                     0.365591   Week  beta_demo_score   \n",
       "4 2023-06-19 2023-06-25                     0.077598   Week  beta_demo_score   \n",
       "\n",
       "  version bad_rate  \n",
       "0   1.1.0   FSPD30  \n",
       "1   1.1.0   FSPD30  \n",
       "2   1.1.0   FSPD30  \n",
       "3   1.1.0   FSPD30  \n",
       "4   1.1.0   FSPD30  "
      ]
     },
     "execution_count": 38,
     "metadata": {},
     "output_type": "execute_result"
    }
   ],
   "source": [
    "sb_demo_scoreFSPD30.head()"
   ]
  },
  {
   "cell_type": "markdown",
   "metadata": {},
   "source": [
    "## FSTPD30"
   ]
  },
  {
   "cell_type": "code",
   "execution_count": 39,
   "metadata": {},
   "outputs": [
    {
     "name": "stdout",
     "output_type": "stream",
     "text": [
      "Job ID b594bfe4-9971-4e9b-8379-285c4c0091c5 successfully executed: 100%|\u001b[32m██████████\u001b[0m|"
     ]
    },
    {
     "name": "stderr",
     "output_type": "stream",
     "text": [
      "C:\\Users\\Dwaipayan\\AppData\\Roaming\\Python\\Python312\\site-packages\\google\\cloud\\bigquery\\table.py:1900: UserWarning: BigQuery Storage module not found, fetch data with the REST endpoint instead.\n",
      "  warnings.warn(\n"
     ]
    },
    {
     "name": "stdout",
     "output_type": "stream",
     "text": [
      "\n",
      "Downloading: 100%|\u001b[32m██████████\u001b[0m|\n"
     ]
    }
   ],
   "source": [
    "sq = f\"\"\"\n",
    "with sb_demo_score as \n",
    "(SELECT \n",
    "    ln_disb_dtime disbursementdate,\n",
    "\tdigitalLoanAccountId,\n",
    "    beta_demo_score ,\n",
    "    ln_fstpd30_flag,   -- fstpd30\n",
    "\tln_mature_fstpd30_flag,\t--- fstpd30 observation\n",
    "\tFROM \n",
    "    {a}\n",
    "  WHERE \n",
    "     -- ln_disb_dtime >= '2023-07-01'\n",
    "    ln_appln_submit_datetime >= '2023-06-01'\n",
    "  -- AND\n",
    "  --   format_date('%Y-%m', ln_disb_dtime) = '2024-09'\n",
    "  AND\n",
    "    ln_fstpd30_flag is not null\n",
    "  AND\n",
    "    beta_demo_score is not null\n",
    "  AND\n",
    "    ln_mature_fstpd30_flag = 1\n",
    ")\n",
    "select * from sb_demo_score;\n",
    "\"\"\"\n",
    "\n",
    "df_sb_demo_scorefstpd30 = client.query(sq).to_dataframe(progress_bar_type='tqdm')"
   ]
  },
  {
   "cell_type": "code",
   "execution_count": 40,
   "metadata": {},
   "outputs": [
    {
     "name": "stderr",
     "output_type": "stream",
     "text": [
      "C:\\Users\\Dwaipayan\\AppData\\Local\\Temp\\ipykernel_53324\\1204584280.py:30: DeprecationWarning: DataFrameGroupBy.apply operated on the grouping columns. This behavior is deprecated, and in a future version of pandas the grouping columns will be excluded from the operation. Either pass `include_groups=False` to exclude the groupings or explicitly select the grouping columns after groupby to silence this warning.\n",
      "  weekly_gini = df.groupby('week').apply(\n"
     ]
    },
    {
     "name": "stdout",
     "output_type": "stream",
     "text": [
      "The shape of dataframe after copy is:\t(106, 7)\n"
     ]
    },
    {
     "name": "stderr",
     "output_type": "stream",
     "text": [
      "C:\\Users\\Dwaipayan\\AppData\\Local\\Temp\\ipykernel_53324\\1204584280.py:41: DeprecationWarning: DataFrameGroupBy.apply operated on the grouping columns. This behavior is deprecated, and in a future version of pandas the grouping columns will be excluded from the operation. Either pass `include_groups=False` to exclude the groupings or explicitly select the grouping columns after groupby to silence this warning.\n",
      "  monthly_gini = df.groupby('month').apply(\n"
     ]
    },
    {
     "data": {
      "text/plain": [
       "array(['start_date', 'end_date', 'beta_demo_score_FSTPD30_gini', 'period',\n",
       "       'Model_Name', 'version', 'bad_rate'], dtype=object)"
      ]
     },
     "execution_count": 40,
     "metadata": {},
     "output_type": "execute_result"
    }
   ],
   "source": [
    "gini_results = calculate_periodic_gini(df_sb_demo_scorefstpd30, 'beta_demo_score', 'ln_fstpd30_flag', 'FSTPD30')\n",
    "sb_demo_scoreFSTPD30 = gini_results.copy()\n",
    "print(f\"The shape of dataframe after copy is:\\t{sb_demo_scoreFSTPD30.shape}\")\n",
    "sb_demo_scoreFSTPD30.columns.values"
   ]
  },
  {
   "cell_type": "code",
   "execution_count": 41,
   "metadata": {},
   "outputs": [
    {
     "data": {
      "application/vnd.microsoft.datawrangler.viewer.v0+json": {
       "columns": [
        {
         "name": "index",
         "rawType": "int64",
         "type": "integer"
        },
        {
         "name": "start_date",
         "rawType": "datetime64[ns]",
         "type": "datetime"
        },
        {
         "name": "end_date",
         "rawType": "datetime64[ns]",
         "type": "datetime"
        },
        {
         "name": "beta_demo_score_FSTPD30_gini",
         "rawType": "float64",
         "type": "float"
        },
        {
         "name": "period",
         "rawType": "object",
         "type": "string"
        },
        {
         "name": "Model_Name",
         "rawType": "object",
         "type": "string"
        },
        {
         "name": "version",
         "rawType": "object",
         "type": "string"
        },
        {
         "name": "bad_rate",
         "rawType": "object",
         "type": "string"
        }
       ],
       "conversionMethod": "pd.DataFrame",
       "ref": "c2a9a26b-70a0-4bc6-813c-eea7d916888f",
       "rows": [
        [
         "0",
         "2023-05-29 00:00:00",
         "2023-06-04 00:00:00",
         "0.210239651416122",
         "Week",
         "beta_demo_score",
         "1.1.0",
         "FSTPD30"
        ],
        [
         "1",
         "2023-06-01 00:00:00",
         "2023-06-30 00:00:00",
         "0.1920448051205852",
         "Month",
         "beta_demo_score",
         "1.1.0",
         "FSTPD30"
        ],
        [
         "2",
         "2023-06-05 00:00:00",
         "2023-06-11 00:00:00",
         "0.2917540181691125",
         "Week",
         "beta_demo_score",
         "1.1.0",
         "FSTPD30"
        ],
        [
         "3",
         "2023-06-12 00:00:00",
         "2023-06-18 00:00:00",
         "0.16387337057728102",
         "Week",
         "beta_demo_score",
         "1.1.0",
         "FSTPD30"
        ],
        [
         "4",
         "2023-06-19 00:00:00",
         "2023-06-25 00:00:00",
         "0.09813333333333318",
         "Week",
         "beta_demo_score",
         "1.1.0",
         "FSTPD30"
        ]
       ],
       "shape": {
        "columns": 7,
        "rows": 5
       }
      },
      "text/html": [
       "<div>\n",
       "<style scoped>\n",
       "    .dataframe tbody tr th:only-of-type {\n",
       "        vertical-align: middle;\n",
       "    }\n",
       "\n",
       "    .dataframe tbody tr th {\n",
       "        vertical-align: top;\n",
       "    }\n",
       "\n",
       "    .dataframe thead th {\n",
       "        text-align: right;\n",
       "    }\n",
       "</style>\n",
       "<table border=\"1\" class=\"dataframe\">\n",
       "  <thead>\n",
       "    <tr style=\"text-align: right;\">\n",
       "      <th></th>\n",
       "      <th>start_date</th>\n",
       "      <th>end_date</th>\n",
       "      <th>beta_demo_score_FSTPD30_gini</th>\n",
       "      <th>period</th>\n",
       "      <th>Model_Name</th>\n",
       "      <th>version</th>\n",
       "      <th>bad_rate</th>\n",
       "    </tr>\n",
       "  </thead>\n",
       "  <tbody>\n",
       "    <tr>\n",
       "      <th>0</th>\n",
       "      <td>2023-05-29</td>\n",
       "      <td>2023-06-04</td>\n",
       "      <td>0.210240</td>\n",
       "      <td>Week</td>\n",
       "      <td>beta_demo_score</td>\n",
       "      <td>1.1.0</td>\n",
       "      <td>FSTPD30</td>\n",
       "    </tr>\n",
       "    <tr>\n",
       "      <th>1</th>\n",
       "      <td>2023-06-01</td>\n",
       "      <td>2023-06-30</td>\n",
       "      <td>0.192045</td>\n",
       "      <td>Month</td>\n",
       "      <td>beta_demo_score</td>\n",
       "      <td>1.1.0</td>\n",
       "      <td>FSTPD30</td>\n",
       "    </tr>\n",
       "    <tr>\n",
       "      <th>2</th>\n",
       "      <td>2023-06-05</td>\n",
       "      <td>2023-06-11</td>\n",
       "      <td>0.291754</td>\n",
       "      <td>Week</td>\n",
       "      <td>beta_demo_score</td>\n",
       "      <td>1.1.0</td>\n",
       "      <td>FSTPD30</td>\n",
       "    </tr>\n",
       "    <tr>\n",
       "      <th>3</th>\n",
       "      <td>2023-06-12</td>\n",
       "      <td>2023-06-18</td>\n",
       "      <td>0.163873</td>\n",
       "      <td>Week</td>\n",
       "      <td>beta_demo_score</td>\n",
       "      <td>1.1.0</td>\n",
       "      <td>FSTPD30</td>\n",
       "    </tr>\n",
       "    <tr>\n",
       "      <th>4</th>\n",
       "      <td>2023-06-19</td>\n",
       "      <td>2023-06-25</td>\n",
       "      <td>0.098133</td>\n",
       "      <td>Week</td>\n",
       "      <td>beta_demo_score</td>\n",
       "      <td>1.1.0</td>\n",
       "      <td>FSTPD30</td>\n",
       "    </tr>\n",
       "  </tbody>\n",
       "</table>\n",
       "</div>"
      ],
      "text/plain": [
       "  start_date   end_date  beta_demo_score_FSTPD30_gini period       Model_Name  \\\n",
       "0 2023-05-29 2023-06-04                      0.210240   Week  beta_demo_score   \n",
       "1 2023-06-01 2023-06-30                      0.192045  Month  beta_demo_score   \n",
       "2 2023-06-05 2023-06-11                      0.291754   Week  beta_demo_score   \n",
       "3 2023-06-12 2023-06-18                      0.163873   Week  beta_demo_score   \n",
       "4 2023-06-19 2023-06-25                      0.098133   Week  beta_demo_score   \n",
       "\n",
       "  version bad_rate  \n",
       "0   1.1.0  FSTPD30  \n",
       "1   1.1.0  FSTPD30  \n",
       "2   1.1.0  FSTPD30  \n",
       "3   1.1.0  FSTPD30  \n",
       "4   1.1.0  FSTPD30  "
      ]
     },
     "execution_count": 41,
     "metadata": {},
     "output_type": "execute_result"
    }
   ],
   "source": [
    "sb_demo_scoreFSTPD30.head()"
   ]
  },
  {
   "cell_type": "markdown",
   "metadata": {},
   "source": [
    "# Combining sb demo score"
   ]
  },
  {
   "cell_type": "code",
   "execution_count": 42,
   "metadata": {},
   "outputs": [
    {
     "data": {
      "text/plain": [
       "array(['start_date', 'end_date', 'beta_demo_score_FPD10_gini', 'period',\n",
       "       'Model_Name', 'version', 'bad_rate', 'beta_demo_score_FPD30_gini',\n",
       "       'beta_demo_score_FSPD30_gini', 'beta_demo_score_FSTPD30_gini'],\n",
       "      dtype=object)"
      ]
     },
     "execution_count": 42,
     "metadata": {},
     "output_type": "execute_result"
    }
   ],
   "source": [
    "import functools\n",
    "\n",
    "dataframes = [sb_demo_scoreFPD10, sb_demo_scoreFPD30, sb_demo_scoreFSPD30, sb_demo_scoreFSTPD30]\n",
    "common_columns = ['start_date', 'end_date', 'period', 'Model_Name','version', 'bad_rate']\n",
    "\n",
    "def merge_dataframes(df1, df2):\n",
    "    return pd.merge(df1, df2, on=common_columns, how='outer')\n",
    "\n",
    "final_df = functools.reduce(merge_dataframes, dataframes)\n",
    "\n",
    "final_df.columns.values"
   ]
  },
  {
   "cell_type": "code",
   "execution_count": 43,
   "metadata": {},
   "outputs": [],
   "source": [
    "final_df = final_df[['start_date', 'end_date', 'period',\n",
    "       'Model_Name', 'version', 'bad_rate','beta_demo_score_FPD10_gini','beta_demo_score_FPD30_gini',\n",
    "       'beta_demo_score_FSPD30_gini', 'beta_demo_score_FSTPD30_gini']].copy()"
   ]
  },
  {
   "cell_type": "markdown",
   "metadata": {},
   "source": [
    "## creating sb demo score table "
   ]
  },
  {
   "cell_type": "code",
   "execution_count": 44,
   "metadata": {},
   "outputs": [
    {
     "data": {
      "text/plain": [
       "QueryJob<project=prj-prod-dataplatform, location=asia-southeast1, id=b2715a11-da5f-434f-be78-cb909670e083>"
      ]
     },
     "execution_count": 44,
     "metadata": {},
     "output_type": "execute_result"
    }
   ],
   "source": [
    "sq = \"\"\"drop table if exists prj-prod-dataplatform.dap_ds_poweruser_playground.Model_gini_sb_demo_score;\"\"\"\n",
    "client.query(sq)"
   ]
  },
  {
   "cell_type": "code",
   "execution_count": 45,
   "metadata": {},
   "outputs": [
    {
     "name": "stderr",
     "output_type": "stream",
     "text": [
      "C:\\Users\\Dwaipayan\\AppData\\Roaming\\Python\\Python312\\site-packages\\google\\cloud\\bigquery\\_pandas_helpers.py:483: FutureWarning: Loading pandas DataFrame into BigQuery will require pandas-gbq package version 0.26.1 or greater in the future. Tried to import pandas-gbq and got: No module named 'pandas_gbq'\n",
      "  warnings.warn(\n"
     ]
    },
    {
     "data": {
      "text/plain": [
       "LoadJob<project=prj-prod-dataplatform, location=asia-southeast1, id=bca44872-8cfc-4d2c-8f90-c499dd2c8528>"
      ]
     },
     "execution_count": 45,
     "metadata": {},
     "output_type": "execute_result"
    }
   ],
   "source": [
    "\n",
    "\n",
    "import pandas as pd\n",
    "from google.cloud import bigquery\n",
    "\n",
    "# Create a BigQuery client\n",
    "client = bigquery.Client('prj-prod-dataplatform')\n",
    "\n",
    "# Define your table schema\n",
    "table_schema = [\n",
    "    bigquery.SchemaField('start_date', 'TIMESTAMP'),\n",
    "    bigquery.SchemaField('end_date', 'TIMESTAMP'),\n",
    "    bigquery.SchemaField('period', 'STRING'),\n",
    "    bigquery.SchemaField('Model_Name', 'STRING'),\n",
    "    bigquery.SchemaField('version', 'STRING'),\n",
    "    bigquery.SchemaField('Badrate', 'STRING'),\n",
    "    bigquery.SchemaField('beta_demo_score_FPD10_gini', 'FLOAT'),\n",
    "    bigquery.SchemaField('beta_demo_score_FPD30_gini', 'FLOAT'),    \n",
    "    bigquery.SchemaField('beta_demo_score_FSPD30_gini', 'FLOAT'),\n",
    "    bigquery.SchemaField('beta_demo_score_FSTPD30_gini', 'FLOAT')\n",
    "    \n",
    "]\n",
    "\n",
    "# Create your BigQuery table\n",
    "table_id = 'prj-prod-dataplatform.dap_ds_poweruser_playground.Model_gini_sb_demo_score'\n",
    "table = bigquery.Table(table_id, schema=table_schema)\n",
    "table = client.create_table(table)\n",
    "\n",
    "# Load your DataFrame into BigQuery\n",
    "job_config = bigquery.LoadJobConfig(\n",
    "    write_disposition='WRITE_TRUNCATE'\n",
    ")\n",
    "\n",
    "load_job = client.load_table_from_dataframe(\n",
    "    final_df, table_id, job_config=job_config\n",
    ")\n",
    "\n",
    "load_job.result()"
   ]
  },
  {
   "cell_type": "markdown",
   "metadata": {},
   "source": [
    "# s_cic_score"
   ]
  },
  {
   "cell_type": "markdown",
   "metadata": {},
   "source": [
    "## FPD10"
   ]
  },
  {
   "cell_type": "code",
   "execution_count": 46,
   "metadata": {},
   "outputs": [
    {
     "name": "stdout",
     "output_type": "stream",
     "text": [
      "Job ID a208e16a-95a7-4c57-96cc-025cb4ed688b successfully executed: 100%|\u001b[32m██████████\u001b[0m|"
     ]
    },
    {
     "name": "stderr",
     "output_type": "stream",
     "text": [
      "C:\\Users\\Dwaipayan\\AppData\\Roaming\\Python\\Python312\\site-packages\\google\\cloud\\bigquery\\table.py:1900: UserWarning: BigQuery Storage module not found, fetch data with the REST endpoint instead.\n",
      "  warnings.warn(\n"
     ]
    },
    {
     "name": "stdout",
     "output_type": "stream",
     "text": [
      "\n",
      "Downloading: 100%|\u001b[32m██████████\u001b[0m|\n"
     ]
    }
   ],
   "source": [
    "sq = f\"\"\"\n",
    "with s_cic_score as \n",
    "(SELECT \n",
    "    ln_disb_dtime disbursementdate,\n",
    "\tdigitalLoanAccountId,\n",
    "    cic_score,\n",
    "    ln_fpd10_flag,\n",
    "\tln_mature_fpd10_flag,\t\n",
    "\tFROM \n",
    "    {a}\n",
    "  WHERE \n",
    "     -- ln_disb_dtime >= '2023-07-01'\n",
    "    ln_appln_submit_datetime >= '2023-06-01'\n",
    "  -- AND\n",
    "  --   format_date('%Y-%m', ln_disb_dtime) = '2024-09'\n",
    "  AND\n",
    "    ln_fpd10_flag is not null\n",
    "  AND\n",
    "    cic_score is not null\n",
    "  AND\n",
    "    ln_mature_fpd10_flag = 1\n",
    ")\n",
    "select * from s_cic_score;\n",
    "\"\"\"\n",
    "\n",
    "df_s_cic_scorefpd10 = client.query(sq).to_dataframe(progress_bar_type='tqdm')"
   ]
  },
  {
   "cell_type": "code",
   "execution_count": 47,
   "metadata": {},
   "outputs": [
    {
     "data": {
      "application/vnd.microsoft.datawrangler.viewer.v0+json": {
       "columns": [
        {
         "name": "index",
         "rawType": "int64",
         "type": "integer"
        },
        {
         "name": "disbursementdate",
         "rawType": "datetime64[us]",
         "type": "unknown"
        },
        {
         "name": "digitalLoanAccountId",
         "rawType": "object",
         "type": "string"
        },
        {
         "name": "cic_score",
         "rawType": "object",
         "type": "string"
        },
        {
         "name": "ln_fpd10_flag",
         "rawType": "Int64",
         "type": "integer"
        },
        {
         "name": "ln_mature_fpd10_flag",
         "rawType": "Int64",
         "type": "integer"
        }
       ],
       "conversionMethod": "pd.DataFrame",
       "ref": "80fdebba-fdc5-498f-b72c-fd952bbfd6d8",
       "rows": [
        [
         "0",
         "2024-08-11 13:28:11",
         "d41da9d2-9d65-4f4f-bfb6-398eaa9d10e1",
         "0.23230931496104035",
         "0",
         "1"
        ],
        [
         "1",
         "2025-01-25 19:05:49",
         "e549776f-7a2d-4b6c-9edc-e3b59e8955f6",
         "0.1536765617984415",
         "0",
         "1"
        ],
        [
         "2",
         "2024-05-02 17:24:11",
         "9b118965-74ea-4832-a640-8b5ea2cc140e",
         "0.12554077753482806",
         "0",
         "1"
        ],
        [
         "3",
         "2024-09-15 09:21:50",
         "2f8156e6-5c5b-454c-92d9-628291e6f99e",
         "0.12265990807872204",
         "0",
         "1"
        ],
        [
         "4",
         "2024-06-14 13:20:28",
         "5f412bbb-9b17-4761-8023-1a08640ad81c",
         "0.13473659522378317",
         "0",
         "1"
        ]
       ],
       "shape": {
        "columns": 5,
        "rows": 5
       }
      },
      "text/html": [
       "<div>\n",
       "<style scoped>\n",
       "    .dataframe tbody tr th:only-of-type {\n",
       "        vertical-align: middle;\n",
       "    }\n",
       "\n",
       "    .dataframe tbody tr th {\n",
       "        vertical-align: top;\n",
       "    }\n",
       "\n",
       "    .dataframe thead th {\n",
       "        text-align: right;\n",
       "    }\n",
       "</style>\n",
       "<table border=\"1\" class=\"dataframe\">\n",
       "  <thead>\n",
       "    <tr style=\"text-align: right;\">\n",
       "      <th></th>\n",
       "      <th>disbursementdate</th>\n",
       "      <th>digitalLoanAccountId</th>\n",
       "      <th>cic_score</th>\n",
       "      <th>ln_fpd10_flag</th>\n",
       "      <th>ln_mature_fpd10_flag</th>\n",
       "    </tr>\n",
       "  </thead>\n",
       "  <tbody>\n",
       "    <tr>\n",
       "      <th>0</th>\n",
       "      <td>2024-08-11 13:28:11</td>\n",
       "      <td>d41da9d2-9d65-4f4f-bfb6-398eaa9d10e1</td>\n",
       "      <td>0.23230931496104035</td>\n",
       "      <td>0</td>\n",
       "      <td>1</td>\n",
       "    </tr>\n",
       "    <tr>\n",
       "      <th>1</th>\n",
       "      <td>2025-01-25 19:05:49</td>\n",
       "      <td>e549776f-7a2d-4b6c-9edc-e3b59e8955f6</td>\n",
       "      <td>0.1536765617984415</td>\n",
       "      <td>0</td>\n",
       "      <td>1</td>\n",
       "    </tr>\n",
       "    <tr>\n",
       "      <th>2</th>\n",
       "      <td>2024-05-02 17:24:11</td>\n",
       "      <td>9b118965-74ea-4832-a640-8b5ea2cc140e</td>\n",
       "      <td>0.12554077753482806</td>\n",
       "      <td>0</td>\n",
       "      <td>1</td>\n",
       "    </tr>\n",
       "    <tr>\n",
       "      <th>3</th>\n",
       "      <td>2024-09-15 09:21:50</td>\n",
       "      <td>2f8156e6-5c5b-454c-92d9-628291e6f99e</td>\n",
       "      <td>0.12265990807872204</td>\n",
       "      <td>0</td>\n",
       "      <td>1</td>\n",
       "    </tr>\n",
       "    <tr>\n",
       "      <th>4</th>\n",
       "      <td>2024-06-14 13:20:28</td>\n",
       "      <td>5f412bbb-9b17-4761-8023-1a08640ad81c</td>\n",
       "      <td>0.13473659522378317</td>\n",
       "      <td>0</td>\n",
       "      <td>1</td>\n",
       "    </tr>\n",
       "  </tbody>\n",
       "</table>\n",
       "</div>"
      ],
      "text/plain": [
       "     disbursementdate                  digitalLoanAccountId  \\\n",
       "0 2024-08-11 13:28:11  d41da9d2-9d65-4f4f-bfb6-398eaa9d10e1   \n",
       "1 2025-01-25 19:05:49  e549776f-7a2d-4b6c-9edc-e3b59e8955f6   \n",
       "2 2024-05-02 17:24:11  9b118965-74ea-4832-a640-8b5ea2cc140e   \n",
       "3 2024-09-15 09:21:50  2f8156e6-5c5b-454c-92d9-628291e6f99e   \n",
       "4 2024-06-14 13:20:28  5f412bbb-9b17-4761-8023-1a08640ad81c   \n",
       "\n",
       "             cic_score  ln_fpd10_flag  ln_mature_fpd10_flag  \n",
       "0  0.23230931496104035              0                     1  \n",
       "1   0.1536765617984415              0                     1  \n",
       "2  0.12554077753482806              0                     1  \n",
       "3  0.12265990807872204              0                     1  \n",
       "4  0.13473659522378317              0                     1  "
      ]
     },
     "execution_count": 47,
     "metadata": {},
     "output_type": "execute_result"
    }
   ],
   "source": [
    "df_s_cic_scorefpd10.head()"
   ]
  },
  {
   "cell_type": "code",
   "execution_count": 48,
   "metadata": {},
   "outputs": [
    {
     "name": "stdout",
     "output_type": "stream",
     "text": [
      "The shape of dataframe after copy is:\t(118, 7)\n"
     ]
    },
    {
     "name": "stderr",
     "output_type": "stream",
     "text": [
      "C:\\Users\\Dwaipayan\\AppData\\Local\\Temp\\ipykernel_53324\\1204584280.py:30: DeprecationWarning: DataFrameGroupBy.apply operated on the grouping columns. This behavior is deprecated, and in a future version of pandas the grouping columns will be excluded from the operation. Either pass `include_groups=False` to exclude the groupings or explicitly select the grouping columns after groupby to silence this warning.\n",
      "  weekly_gini = df.groupby('week').apply(\n",
      "C:\\Users\\Dwaipayan\\AppData\\Local\\Temp\\ipykernel_53324\\1204584280.py:41: DeprecationWarning: DataFrameGroupBy.apply operated on the grouping columns. This behavior is deprecated, and in a future version of pandas the grouping columns will be excluded from the operation. Either pass `include_groups=False` to exclude the groupings or explicitly select the grouping columns after groupby to silence this warning.\n",
      "  monthly_gini = df.groupby('month').apply(\n"
     ]
    },
    {
     "data": {
      "text/plain": [
       "array(['start_date', 'end_date', 'cic_score_FPD10_gini', 'period',\n",
       "       'Model_Name', 'version', 'bad_rate'], dtype=object)"
      ]
     },
     "execution_count": 48,
     "metadata": {},
     "output_type": "execute_result"
    }
   ],
   "source": [
    "gini_results = calculate_periodic_gini(df_s_cic_scorefpd10, 'cic_score', 'ln_fpd10_flag', 'FPD10')\n",
    "s_cic_scoreFPD10 = gini_results.copy()\n",
    "print(f\"The shape of dataframe after copy is:\\t{s_cic_scoreFPD10.shape}\")\n",
    "s_cic_scoreFPD10.columns.values"
   ]
  },
  {
   "cell_type": "code",
   "execution_count": 49,
   "metadata": {},
   "outputs": [
    {
     "data": {
      "application/vnd.microsoft.datawrangler.viewer.v0+json": {
       "columns": [
        {
         "name": "index",
         "rawType": "int64",
         "type": "integer"
        },
        {
         "name": "start_date",
         "rawType": "datetime64[ns]",
         "type": "datetime"
        },
        {
         "name": "end_date",
         "rawType": "datetime64[ns]",
         "type": "datetime"
        },
        {
         "name": "cic_score_FPD10_gini",
         "rawType": "float64",
         "type": "float"
        },
        {
         "name": "period",
         "rawType": "object",
         "type": "string"
        },
        {
         "name": "Model_Name",
         "rawType": "object",
         "type": "string"
        },
        {
         "name": "version",
         "rawType": "object",
         "type": "string"
        },
        {
         "name": "bad_rate",
         "rawType": "object",
         "type": "string"
        }
       ],
       "conversionMethod": "pd.DataFrame",
       "ref": "0624b7bb-9029-4499-95b6-6d75ba3e322a",
       "rows": [
        [
         "113",
         "2025-03-03 00:00:00",
         "2025-03-09 00:00:00",
         "0.2234819722573762",
         "Week",
         "cic_score",
         "1.1.0",
         "FPD10"
        ],
        [
         "114",
         "2025-03-10 00:00:00",
         "2025-03-16 00:00:00",
         "-0.18181818181818177",
         "Week",
         "cic_score",
         "1.1.0",
         "FPD10"
        ],
        [
         "115",
         "2025-03-24 00:00:00",
         "2025-03-30 00:00:00",
         "0.3175514108082258",
         "Week",
         "cic_score",
         "1.1.0",
         "FPD10"
        ],
        [
         "116",
         "2025-03-31 00:00:00",
         "2025-04-06 00:00:00",
         "-0.06896551724137923",
         "Week",
         "cic_score",
         "1.1.0",
         "FPD10"
        ],
        [
         "117",
         "2025-04-01 00:00:00",
         "2025-04-30 00:00:00",
         "-0.14583333333333337",
         "Month",
         "cic_score",
         "1.1.0",
         "FPD10"
        ]
       ],
       "shape": {
        "columns": 7,
        "rows": 5
       }
      },
      "text/html": [
       "<div>\n",
       "<style scoped>\n",
       "    .dataframe tbody tr th:only-of-type {\n",
       "        vertical-align: middle;\n",
       "    }\n",
       "\n",
       "    .dataframe tbody tr th {\n",
       "        vertical-align: top;\n",
       "    }\n",
       "\n",
       "    .dataframe thead th {\n",
       "        text-align: right;\n",
       "    }\n",
       "</style>\n",
       "<table border=\"1\" class=\"dataframe\">\n",
       "  <thead>\n",
       "    <tr style=\"text-align: right;\">\n",
       "      <th></th>\n",
       "      <th>start_date</th>\n",
       "      <th>end_date</th>\n",
       "      <th>cic_score_FPD10_gini</th>\n",
       "      <th>period</th>\n",
       "      <th>Model_Name</th>\n",
       "      <th>version</th>\n",
       "      <th>bad_rate</th>\n",
       "    </tr>\n",
       "  </thead>\n",
       "  <tbody>\n",
       "    <tr>\n",
       "      <th>113</th>\n",
       "      <td>2025-03-03</td>\n",
       "      <td>2025-03-09</td>\n",
       "      <td>0.223482</td>\n",
       "      <td>Week</td>\n",
       "      <td>cic_score</td>\n",
       "      <td>1.1.0</td>\n",
       "      <td>FPD10</td>\n",
       "    </tr>\n",
       "    <tr>\n",
       "      <th>114</th>\n",
       "      <td>2025-03-10</td>\n",
       "      <td>2025-03-16</td>\n",
       "      <td>-0.181818</td>\n",
       "      <td>Week</td>\n",
       "      <td>cic_score</td>\n",
       "      <td>1.1.0</td>\n",
       "      <td>FPD10</td>\n",
       "    </tr>\n",
       "    <tr>\n",
       "      <th>115</th>\n",
       "      <td>2025-03-24</td>\n",
       "      <td>2025-03-30</td>\n",
       "      <td>0.317551</td>\n",
       "      <td>Week</td>\n",
       "      <td>cic_score</td>\n",
       "      <td>1.1.0</td>\n",
       "      <td>FPD10</td>\n",
       "    </tr>\n",
       "    <tr>\n",
       "      <th>116</th>\n",
       "      <td>2025-03-31</td>\n",
       "      <td>2025-04-06</td>\n",
       "      <td>-0.068966</td>\n",
       "      <td>Week</td>\n",
       "      <td>cic_score</td>\n",
       "      <td>1.1.0</td>\n",
       "      <td>FPD10</td>\n",
       "    </tr>\n",
       "    <tr>\n",
       "      <th>117</th>\n",
       "      <td>2025-04-01</td>\n",
       "      <td>2025-04-30</td>\n",
       "      <td>-0.145833</td>\n",
       "      <td>Month</td>\n",
       "      <td>cic_score</td>\n",
       "      <td>1.1.0</td>\n",
       "      <td>FPD10</td>\n",
       "    </tr>\n",
       "  </tbody>\n",
       "</table>\n",
       "</div>"
      ],
      "text/plain": [
       "    start_date   end_date  cic_score_FPD10_gini period Model_Name version  \\\n",
       "113 2025-03-03 2025-03-09              0.223482   Week  cic_score   1.1.0   \n",
       "114 2025-03-10 2025-03-16             -0.181818   Week  cic_score   1.1.0   \n",
       "115 2025-03-24 2025-03-30              0.317551   Week  cic_score   1.1.0   \n",
       "116 2025-03-31 2025-04-06             -0.068966   Week  cic_score   1.1.0   \n",
       "117 2025-04-01 2025-04-30             -0.145833  Month  cic_score   1.1.0   \n",
       "\n",
       "    bad_rate  \n",
       "113    FPD10  \n",
       "114    FPD10  \n",
       "115    FPD10  \n",
       "116    FPD10  \n",
       "117    FPD10  "
      ]
     },
     "execution_count": 49,
     "metadata": {},
     "output_type": "execute_result"
    }
   ],
   "source": [
    "s_cic_scoreFPD10.tail()"
   ]
  },
  {
   "cell_type": "markdown",
   "metadata": {},
   "source": [
    "## FPD30"
   ]
  },
  {
   "cell_type": "code",
   "execution_count": 50,
   "metadata": {},
   "outputs": [
    {
     "name": "stdout",
     "output_type": "stream",
     "text": [
      "Job ID 2f7d407e-6be9-4d86-8636-1c661d668462 successfully executed: 100%|\u001b[32m██████████\u001b[0m|"
     ]
    },
    {
     "name": "stderr",
     "output_type": "stream",
     "text": [
      "C:\\Users\\Dwaipayan\\AppData\\Roaming\\Python\\Python312\\site-packages\\google\\cloud\\bigquery\\table.py:1900: UserWarning: BigQuery Storage module not found, fetch data with the REST endpoint instead.\n",
      "  warnings.warn(\n"
     ]
    },
    {
     "name": "stdout",
     "output_type": "stream",
     "text": [
      "\n",
      "Downloading: 100%|\u001b[32m██████████\u001b[0m|\n"
     ]
    }
   ],
   "source": [
    "sq = f\"\"\"\n",
    "with s_cic_score as \n",
    "(SELECT \n",
    "    ln_disb_dtime disbursementdate,\n",
    "\tdigitalLoanAccountId,\n",
    "    cic_score,\n",
    "    ln_fpd30_flag,\n",
    "\tln_mature_fpd30_flag,\t\n",
    "\tFROM \n",
    "  {a}\n",
    "  WHERE \n",
    "     -- ln_disb_dtime >= '2023-07-01'\n",
    "    ln_appln_submit_datetime >= '2023-06-01'\n",
    "  -- AND\n",
    "  --   format_date('%Y-%m', ln_disb_dtime) = '2024-09'\n",
    "  AND\n",
    "    ln_fpd30_flag is not null\n",
    "  AND\n",
    "    cic_score is not null\n",
    "  AND\n",
    "    ln_mature_fpd30_flag = 1\n",
    ")\n",
    "select * from s_cic_score;\n",
    "\"\"\"\n",
    "\n",
    "df_s_cic_scorefpd30 = client.query(sq).to_dataframe(progress_bar_type='tqdm')"
   ]
  },
  {
   "cell_type": "code",
   "execution_count": 51,
   "metadata": {},
   "outputs": [
    {
     "data": {
      "application/vnd.microsoft.datawrangler.viewer.v0+json": {
       "columns": [
        {
         "name": "index",
         "rawType": "int64",
         "type": "integer"
        },
        {
         "name": "disbursementdate",
         "rawType": "datetime64[us]",
         "type": "unknown"
        },
        {
         "name": "digitalLoanAccountId",
         "rawType": "object",
         "type": "string"
        },
        {
         "name": "cic_score",
         "rawType": "object",
         "type": "string"
        },
        {
         "name": "ln_fpd30_flag",
         "rawType": "Int64",
         "type": "integer"
        },
        {
         "name": "ln_mature_fpd30_flag",
         "rawType": "Int64",
         "type": "integer"
        }
       ],
       "conversionMethod": "pd.DataFrame",
       "ref": "c3baa495-351e-4f2e-b70d-47446fb6efc9",
       "rows": [
        [
         "0",
         "2024-08-11 13:28:11",
         "d41da9d2-9d65-4f4f-bfb6-398eaa9d10e1",
         "0.23230931496104035",
         "0",
         "1"
        ],
        [
         "1",
         "2025-01-25 19:05:49",
         "e549776f-7a2d-4b6c-9edc-e3b59e8955f6",
         "0.1536765617984415",
         "0",
         "1"
        ],
        [
         "2",
         "2024-05-02 17:24:11",
         "9b118965-74ea-4832-a640-8b5ea2cc140e",
         "0.12554077753482806",
         "0",
         "1"
        ],
        [
         "3",
         "2024-09-15 09:21:50",
         "2f8156e6-5c5b-454c-92d9-628291e6f99e",
         "0.12265990807872204",
         "0",
         "1"
        ],
        [
         "4",
         "2024-06-14 13:20:28",
         "5f412bbb-9b17-4761-8023-1a08640ad81c",
         "0.13473659522378317",
         "0",
         "1"
        ]
       ],
       "shape": {
        "columns": 5,
        "rows": 5
       }
      },
      "text/html": [
       "<div>\n",
       "<style scoped>\n",
       "    .dataframe tbody tr th:only-of-type {\n",
       "        vertical-align: middle;\n",
       "    }\n",
       "\n",
       "    .dataframe tbody tr th {\n",
       "        vertical-align: top;\n",
       "    }\n",
       "\n",
       "    .dataframe thead th {\n",
       "        text-align: right;\n",
       "    }\n",
       "</style>\n",
       "<table border=\"1\" class=\"dataframe\">\n",
       "  <thead>\n",
       "    <tr style=\"text-align: right;\">\n",
       "      <th></th>\n",
       "      <th>disbursementdate</th>\n",
       "      <th>digitalLoanAccountId</th>\n",
       "      <th>cic_score</th>\n",
       "      <th>ln_fpd30_flag</th>\n",
       "      <th>ln_mature_fpd30_flag</th>\n",
       "    </tr>\n",
       "  </thead>\n",
       "  <tbody>\n",
       "    <tr>\n",
       "      <th>0</th>\n",
       "      <td>2024-08-11 13:28:11</td>\n",
       "      <td>d41da9d2-9d65-4f4f-bfb6-398eaa9d10e1</td>\n",
       "      <td>0.23230931496104035</td>\n",
       "      <td>0</td>\n",
       "      <td>1</td>\n",
       "    </tr>\n",
       "    <tr>\n",
       "      <th>1</th>\n",
       "      <td>2025-01-25 19:05:49</td>\n",
       "      <td>e549776f-7a2d-4b6c-9edc-e3b59e8955f6</td>\n",
       "      <td>0.1536765617984415</td>\n",
       "      <td>0</td>\n",
       "      <td>1</td>\n",
       "    </tr>\n",
       "    <tr>\n",
       "      <th>2</th>\n",
       "      <td>2024-05-02 17:24:11</td>\n",
       "      <td>9b118965-74ea-4832-a640-8b5ea2cc140e</td>\n",
       "      <td>0.12554077753482806</td>\n",
       "      <td>0</td>\n",
       "      <td>1</td>\n",
       "    </tr>\n",
       "    <tr>\n",
       "      <th>3</th>\n",
       "      <td>2024-09-15 09:21:50</td>\n",
       "      <td>2f8156e6-5c5b-454c-92d9-628291e6f99e</td>\n",
       "      <td>0.12265990807872204</td>\n",
       "      <td>0</td>\n",
       "      <td>1</td>\n",
       "    </tr>\n",
       "    <tr>\n",
       "      <th>4</th>\n",
       "      <td>2024-06-14 13:20:28</td>\n",
       "      <td>5f412bbb-9b17-4761-8023-1a08640ad81c</td>\n",
       "      <td>0.13473659522378317</td>\n",
       "      <td>0</td>\n",
       "      <td>1</td>\n",
       "    </tr>\n",
       "  </tbody>\n",
       "</table>\n",
       "</div>"
      ],
      "text/plain": [
       "     disbursementdate                  digitalLoanAccountId  \\\n",
       "0 2024-08-11 13:28:11  d41da9d2-9d65-4f4f-bfb6-398eaa9d10e1   \n",
       "1 2025-01-25 19:05:49  e549776f-7a2d-4b6c-9edc-e3b59e8955f6   \n",
       "2 2024-05-02 17:24:11  9b118965-74ea-4832-a640-8b5ea2cc140e   \n",
       "3 2024-09-15 09:21:50  2f8156e6-5c5b-454c-92d9-628291e6f99e   \n",
       "4 2024-06-14 13:20:28  5f412bbb-9b17-4761-8023-1a08640ad81c   \n",
       "\n",
       "             cic_score  ln_fpd30_flag  ln_mature_fpd30_flag  \n",
       "0  0.23230931496104035              0                     1  \n",
       "1   0.1536765617984415              0                     1  \n",
       "2  0.12554077753482806              0                     1  \n",
       "3  0.12265990807872204              0                     1  \n",
       "4  0.13473659522378317              0                     1  "
      ]
     },
     "execution_count": 51,
     "metadata": {},
     "output_type": "execute_result"
    }
   ],
   "source": [
    "df_s_cic_scorefpd30.head()"
   ]
  },
  {
   "cell_type": "code",
   "execution_count": 52,
   "metadata": {},
   "outputs": [
    {
     "name": "stdout",
     "output_type": "stream",
     "text": [
      "The shape of dataframe after copy is:\t(115, 7)\n"
     ]
    },
    {
     "name": "stderr",
     "output_type": "stream",
     "text": [
      "C:\\Users\\Dwaipayan\\AppData\\Local\\Temp\\ipykernel_53324\\1204584280.py:30: DeprecationWarning: DataFrameGroupBy.apply operated on the grouping columns. This behavior is deprecated, and in a future version of pandas the grouping columns will be excluded from the operation. Either pass `include_groups=False` to exclude the groupings or explicitly select the grouping columns after groupby to silence this warning.\n",
      "  weekly_gini = df.groupby('week').apply(\n",
      "C:\\Users\\Dwaipayan\\AppData\\Local\\Temp\\ipykernel_53324\\1204584280.py:41: DeprecationWarning: DataFrameGroupBy.apply operated on the grouping columns. This behavior is deprecated, and in a future version of pandas the grouping columns will be excluded from the operation. Either pass `include_groups=False` to exclude the groupings or explicitly select the grouping columns after groupby to silence this warning.\n",
      "  monthly_gini = df.groupby('month').apply(\n"
     ]
    },
    {
     "data": {
      "text/plain": [
       "array(['start_date', 'end_date', 'cic_score_FPD30_gini', 'period',\n",
       "       'Model_Name', 'version', 'bad_rate'], dtype=object)"
      ]
     },
     "execution_count": 52,
     "metadata": {},
     "output_type": "execute_result"
    }
   ],
   "source": [
    "gini_results = calculate_periodic_gini(df_s_cic_scorefpd30, 'cic_score', 'ln_fpd30_flag', 'FPD30')\n",
    "s_cic_scoreFPD30 = gini_results.copy()\n",
    "print(f\"The shape of dataframe after copy is:\\t{s_cic_scoreFPD30.shape}\")\n",
    "s_cic_scoreFPD30.columns.values"
   ]
  },
  {
   "cell_type": "code",
   "execution_count": 53,
   "metadata": {},
   "outputs": [
    {
     "data": {
      "application/vnd.microsoft.datawrangler.viewer.v0+json": {
       "columns": [
        {
         "name": "index",
         "rawType": "int64",
         "type": "integer"
        },
        {
         "name": "start_date",
         "rawType": "datetime64[ns]",
         "type": "datetime"
        },
        {
         "name": "end_date",
         "rawType": "datetime64[ns]",
         "type": "datetime"
        },
        {
         "name": "cic_score_FPD30_gini",
         "rawType": "float64",
         "type": "float"
        },
        {
         "name": "period",
         "rawType": "object",
         "type": "string"
        },
        {
         "name": "Model_Name",
         "rawType": "object",
         "type": "string"
        },
        {
         "name": "version",
         "rawType": "object",
         "type": "string"
        },
        {
         "name": "bad_rate",
         "rawType": "object",
         "type": "string"
        }
       ],
       "conversionMethod": "pd.DataFrame",
       "ref": "bcf596b2-8a62-4731-ab5c-103f6deabe8c",
       "rows": [
        [
         "0",
         "2023-05-29 00:00:00",
         "2023-06-04 00:00:00",
         "0.2615384615384615",
         "Week",
         "cic_score",
         "1.1.0",
         "FPD30"
        ],
        [
         "1",
         "2023-06-01 00:00:00",
         "2023-06-30 00:00:00",
         "0.2667332667332667",
         "Month",
         "cic_score",
         "1.1.0",
         "FPD30"
        ],
        [
         "2",
         "2023-06-05 00:00:00",
         "2023-06-11 00:00:00",
         "0.19696969696969702",
         "Week",
         "cic_score",
         "1.1.0",
         "FPD30"
        ],
        [
         "3",
         "2023-06-12 00:00:00",
         "2023-06-18 00:00:00",
         "-0.05232558139534893",
         "Week",
         "cic_score",
         "1.1.0",
         "FPD30"
        ],
        [
         "4",
         "2023-06-19 00:00:00",
         "2023-06-25 00:00:00",
         "0.435483870967742",
         "Week",
         "cic_score",
         "1.1.0",
         "FPD30"
        ]
       ],
       "shape": {
        "columns": 7,
        "rows": 5
       }
      },
      "text/html": [
       "<div>\n",
       "<style scoped>\n",
       "    .dataframe tbody tr th:only-of-type {\n",
       "        vertical-align: middle;\n",
       "    }\n",
       "\n",
       "    .dataframe tbody tr th {\n",
       "        vertical-align: top;\n",
       "    }\n",
       "\n",
       "    .dataframe thead th {\n",
       "        text-align: right;\n",
       "    }\n",
       "</style>\n",
       "<table border=\"1\" class=\"dataframe\">\n",
       "  <thead>\n",
       "    <tr style=\"text-align: right;\">\n",
       "      <th></th>\n",
       "      <th>start_date</th>\n",
       "      <th>end_date</th>\n",
       "      <th>cic_score_FPD30_gini</th>\n",
       "      <th>period</th>\n",
       "      <th>Model_Name</th>\n",
       "      <th>version</th>\n",
       "      <th>bad_rate</th>\n",
       "    </tr>\n",
       "  </thead>\n",
       "  <tbody>\n",
       "    <tr>\n",
       "      <th>0</th>\n",
       "      <td>2023-05-29</td>\n",
       "      <td>2023-06-04</td>\n",
       "      <td>0.261538</td>\n",
       "      <td>Week</td>\n",
       "      <td>cic_score</td>\n",
       "      <td>1.1.0</td>\n",
       "      <td>FPD30</td>\n",
       "    </tr>\n",
       "    <tr>\n",
       "      <th>1</th>\n",
       "      <td>2023-06-01</td>\n",
       "      <td>2023-06-30</td>\n",
       "      <td>0.266733</td>\n",
       "      <td>Month</td>\n",
       "      <td>cic_score</td>\n",
       "      <td>1.1.0</td>\n",
       "      <td>FPD30</td>\n",
       "    </tr>\n",
       "    <tr>\n",
       "      <th>2</th>\n",
       "      <td>2023-06-05</td>\n",
       "      <td>2023-06-11</td>\n",
       "      <td>0.196970</td>\n",
       "      <td>Week</td>\n",
       "      <td>cic_score</td>\n",
       "      <td>1.1.0</td>\n",
       "      <td>FPD30</td>\n",
       "    </tr>\n",
       "    <tr>\n",
       "      <th>3</th>\n",
       "      <td>2023-06-12</td>\n",
       "      <td>2023-06-18</td>\n",
       "      <td>-0.052326</td>\n",
       "      <td>Week</td>\n",
       "      <td>cic_score</td>\n",
       "      <td>1.1.0</td>\n",
       "      <td>FPD30</td>\n",
       "    </tr>\n",
       "    <tr>\n",
       "      <th>4</th>\n",
       "      <td>2023-06-19</td>\n",
       "      <td>2023-06-25</td>\n",
       "      <td>0.435484</td>\n",
       "      <td>Week</td>\n",
       "      <td>cic_score</td>\n",
       "      <td>1.1.0</td>\n",
       "      <td>FPD30</td>\n",
       "    </tr>\n",
       "  </tbody>\n",
       "</table>\n",
       "</div>"
      ],
      "text/plain": [
       "  start_date   end_date  cic_score_FPD30_gini period Model_Name version  \\\n",
       "0 2023-05-29 2023-06-04              0.261538   Week  cic_score   1.1.0   \n",
       "1 2023-06-01 2023-06-30              0.266733  Month  cic_score   1.1.0   \n",
       "2 2023-06-05 2023-06-11              0.196970   Week  cic_score   1.1.0   \n",
       "3 2023-06-12 2023-06-18             -0.052326   Week  cic_score   1.1.0   \n",
       "4 2023-06-19 2023-06-25              0.435484   Week  cic_score   1.1.0   \n",
       "\n",
       "  bad_rate  \n",
       "0    FPD30  \n",
       "1    FPD30  \n",
       "2    FPD30  \n",
       "3    FPD30  \n",
       "4    FPD30  "
      ]
     },
     "execution_count": 53,
     "metadata": {},
     "output_type": "execute_result"
    }
   ],
   "source": [
    "s_cic_scoreFPD30.head()"
   ]
  },
  {
   "cell_type": "code",
   "execution_count": 54,
   "metadata": {},
   "outputs": [
    {
     "data": {
      "application/vnd.microsoft.datawrangler.viewer.v0+json": {
       "columns": [
        {
         "name": "index",
         "rawType": "object",
         "type": "string"
        },
        {
         "name": "start_date",
         "rawType": "object",
         "type": "unknown"
        },
        {
         "name": "end_date",
         "rawType": "object",
         "type": "unknown"
        },
        {
         "name": "cic_score_FPD30_gini",
         "rawType": "float64",
         "type": "float"
        }
       ],
       "conversionMethod": "pd.DataFrame",
       "ref": "1704c96e-1f32-4272-918d-8c60159fe603",
       "rows": [
        [
         "count",
         "115",
         "115",
         "115.0"
        ],
        [
         "mean",
         "2024-04-20 10:13:33.913043456",
         "2024-04-30 21:54:46.956521728",
         "0.2571233080982921"
        ],
        [
         "min",
         "2023-05-29 00:00:00",
         "2023-06-04 00:00:00",
         "-0.125"
        ],
        [
         "25%",
         "2023-11-09 12:00:00",
         "2023-11-22 12:00:00",
         "0.19905956112852663"
        ],
        [
         "50%",
         "2024-04-22 00:00:00",
         "2024-04-30 00:00:00",
         "0.263293592067779"
        ],
        [
         "75%",
         "2024-09-30 12:00:00",
         "2024-10-09 12:00:00",
         "0.31713936613258276"
        ],
        [
         "max",
         "2025-03-10 00:00:00",
         "2025-03-31 00:00:00",
         "0.7491496598639455"
        ],
        [
         "std",
         null,
         null,
         "0.11613650860525482"
        ]
       ],
       "shape": {
        "columns": 3,
        "rows": 8
       }
      },
      "text/html": [
       "<div>\n",
       "<style scoped>\n",
       "    .dataframe tbody tr th:only-of-type {\n",
       "        vertical-align: middle;\n",
       "    }\n",
       "\n",
       "    .dataframe tbody tr th {\n",
       "        vertical-align: top;\n",
       "    }\n",
       "\n",
       "    .dataframe thead th {\n",
       "        text-align: right;\n",
       "    }\n",
       "</style>\n",
       "<table border=\"1\" class=\"dataframe\">\n",
       "  <thead>\n",
       "    <tr style=\"text-align: right;\">\n",
       "      <th></th>\n",
       "      <th>start_date</th>\n",
       "      <th>end_date</th>\n",
       "      <th>cic_score_FPD30_gini</th>\n",
       "    </tr>\n",
       "  </thead>\n",
       "  <tbody>\n",
       "    <tr>\n",
       "      <th>count</th>\n",
       "      <td>115</td>\n",
       "      <td>115</td>\n",
       "      <td>115.000000</td>\n",
       "    </tr>\n",
       "    <tr>\n",
       "      <th>mean</th>\n",
       "      <td>2024-04-20 10:13:33.913043456</td>\n",
       "      <td>2024-04-30 21:54:46.956521728</td>\n",
       "      <td>0.257123</td>\n",
       "    </tr>\n",
       "    <tr>\n",
       "      <th>min</th>\n",
       "      <td>2023-05-29 00:00:00</td>\n",
       "      <td>2023-06-04 00:00:00</td>\n",
       "      <td>-0.125000</td>\n",
       "    </tr>\n",
       "    <tr>\n",
       "      <th>25%</th>\n",
       "      <td>2023-11-09 12:00:00</td>\n",
       "      <td>2023-11-22 12:00:00</td>\n",
       "      <td>0.199060</td>\n",
       "    </tr>\n",
       "    <tr>\n",
       "      <th>50%</th>\n",
       "      <td>2024-04-22 00:00:00</td>\n",
       "      <td>2024-04-30 00:00:00</td>\n",
       "      <td>0.263294</td>\n",
       "    </tr>\n",
       "    <tr>\n",
       "      <th>75%</th>\n",
       "      <td>2024-09-30 12:00:00</td>\n",
       "      <td>2024-10-09 12:00:00</td>\n",
       "      <td>0.317139</td>\n",
       "    </tr>\n",
       "    <tr>\n",
       "      <th>max</th>\n",
       "      <td>2025-03-10 00:00:00</td>\n",
       "      <td>2025-03-31 00:00:00</td>\n",
       "      <td>0.749150</td>\n",
       "    </tr>\n",
       "    <tr>\n",
       "      <th>std</th>\n",
       "      <td>NaN</td>\n",
       "      <td>NaN</td>\n",
       "      <td>0.116137</td>\n",
       "    </tr>\n",
       "  </tbody>\n",
       "</table>\n",
       "</div>"
      ],
      "text/plain": [
       "                          start_date                       end_date  \\\n",
       "count                            115                            115   \n",
       "mean   2024-04-20 10:13:33.913043456  2024-04-30 21:54:46.956521728   \n",
       "min              2023-05-29 00:00:00            2023-06-04 00:00:00   \n",
       "25%              2023-11-09 12:00:00            2023-11-22 12:00:00   \n",
       "50%              2024-04-22 00:00:00            2024-04-30 00:00:00   \n",
       "75%              2024-09-30 12:00:00            2024-10-09 12:00:00   \n",
       "max              2025-03-10 00:00:00            2025-03-31 00:00:00   \n",
       "std                              NaN                            NaN   \n",
       "\n",
       "       cic_score_FPD30_gini  \n",
       "count            115.000000  \n",
       "mean               0.257123  \n",
       "min               -0.125000  \n",
       "25%                0.199060  \n",
       "50%                0.263294  \n",
       "75%                0.317139  \n",
       "max                0.749150  \n",
       "std                0.116137  "
      ]
     },
     "execution_count": 54,
     "metadata": {},
     "output_type": "execute_result"
    }
   ],
   "source": [
    "s_cic_scoreFPD30.describe()"
   ]
  },
  {
   "cell_type": "markdown",
   "metadata": {},
   "source": [
    "## FSPD30"
   ]
  },
  {
   "cell_type": "code",
   "execution_count": 55,
   "metadata": {},
   "outputs": [
    {
     "name": "stdout",
     "output_type": "stream",
     "text": [
      "Job ID e5811c28-8e1b-4d1c-96b7-7d403faafd31 successfully executed: 100%|\u001b[32m██████████\u001b[0m|"
     ]
    },
    {
     "name": "stderr",
     "output_type": "stream",
     "text": [
      "C:\\Users\\Dwaipayan\\AppData\\Roaming\\Python\\Python312\\site-packages\\google\\cloud\\bigquery\\table.py:1900: UserWarning: BigQuery Storage module not found, fetch data with the REST endpoint instead.\n",
      "  warnings.warn(\n"
     ]
    },
    {
     "name": "stdout",
     "output_type": "stream",
     "text": [
      "\n",
      "Downloading: 100%|\u001b[32m██████████\u001b[0m|\n"
     ]
    }
   ],
   "source": [
    "sq = f\"\"\"\n",
    "with s_cic_score as \n",
    "(SELECT \n",
    "    ln_disb_dtime disbursementdate,\n",
    "\tdigitalLoanAccountId,\n",
    "    cic_score,\n",
    "    ln_fspd30_flag,\n",
    "\tln_mature_fspd30_flag,\t\n",
    "\tFROM \n",
    "    {a}\n",
    "  WHERE \n",
    "     -- ln_disb_dtime >= '2023-07-01'\n",
    "    ln_appln_submit_datetime >= '2023-06-01'\n",
    "  -- AND\n",
    "  --   format_date('%Y-%m', ln_disb_dtime) = '2024-09'\n",
    "  AND\n",
    "    ln_fspd30_flag is not null\n",
    "  AND\n",
    "    cic_score is not null\n",
    "  AND\n",
    "    ln_mature_fspd30_flag = 1\n",
    ")\n",
    "select * from s_cic_score;\n",
    "\"\"\"\n",
    "\n",
    "df_s_cic_scorefspd30 = client.query(sq).to_dataframe(progress_bar_type='tqdm')"
   ]
  },
  {
   "cell_type": "code",
   "execution_count": 56,
   "metadata": {},
   "outputs": [
    {
     "name": "stdout",
     "output_type": "stream",
     "text": [
      "The shape of dataframe after copy is:\t(110, 7)\n"
     ]
    },
    {
     "name": "stderr",
     "output_type": "stream",
     "text": [
      "C:\\Users\\Dwaipayan\\AppData\\Local\\Temp\\ipykernel_53324\\1204584280.py:30: DeprecationWarning: DataFrameGroupBy.apply operated on the grouping columns. This behavior is deprecated, and in a future version of pandas the grouping columns will be excluded from the operation. Either pass `include_groups=False` to exclude the groupings or explicitly select the grouping columns after groupby to silence this warning.\n",
      "  weekly_gini = df.groupby('week').apply(\n",
      "C:\\Users\\Dwaipayan\\AppData\\Local\\Temp\\ipykernel_53324\\1204584280.py:41: DeprecationWarning: DataFrameGroupBy.apply operated on the grouping columns. This behavior is deprecated, and in a future version of pandas the grouping columns will be excluded from the operation. Either pass `include_groups=False` to exclude the groupings or explicitly select the grouping columns after groupby to silence this warning.\n",
      "  monthly_gini = df.groupby('month').apply(\n"
     ]
    },
    {
     "data": {
      "text/plain": [
       "array(['start_date', 'end_date', 'cic_score_FSPD30_gini', 'period',\n",
       "       'Model_Name', 'version', 'bad_rate'], dtype=object)"
      ]
     },
     "execution_count": 56,
     "metadata": {},
     "output_type": "execute_result"
    }
   ],
   "source": [
    "gini_results = calculate_periodic_gini(df_s_cic_scorefspd30, 'cic_score', 'ln_fspd30_flag', 'FSPD30')\n",
    "s_cic_scoreFSPD30 = gini_results.copy()\n",
    "print(f\"The shape of dataframe after copy is:\\t{s_cic_scoreFSPD30.shape}\")\n",
    "s_cic_scoreFSPD30.columns.values"
   ]
  },
  {
   "cell_type": "code",
   "execution_count": 57,
   "metadata": {},
   "outputs": [
    {
     "data": {
      "application/vnd.microsoft.datawrangler.viewer.v0+json": {
       "columns": [
        {
         "name": "index",
         "rawType": "object",
         "type": "string"
        },
        {
         "name": "start_date",
         "rawType": "object",
         "type": "unknown"
        },
        {
         "name": "end_date",
         "rawType": "object",
         "type": "unknown"
        },
        {
         "name": "cic_score_FSPD30_gini",
         "rawType": "float64",
         "type": "float"
        }
       ],
       "conversionMethod": "pd.DataFrame",
       "ref": "d975290d-0fb7-49cb-8557-09bfa93bc83a",
       "rows": [
        [
         "count",
         "110",
         "110",
         "110.0"
        ],
        [
         "mean",
         "2024-04-06 04:21:49.090909184",
         "2024-04-16 15:42:32.727272704",
         "0.26061501823138455"
        ],
        [
         "min",
         "2023-05-29 00:00:00",
         "2023-06-04 00:00:00",
         "0.08988556662975267"
        ],
        [
         "25%",
         "2023-11-02 06:00:00",
         "2023-11-13 18:00:00",
         "0.2092977512457576"
        ],
        [
         "50%",
         "2024-04-04 12:00:00",
         "2024-04-17 12:00:00",
         "0.2657839676096886"
        ],
        [
         "75%",
         "2024-09-07 06:00:00",
         "2024-09-20 06:00:00",
         "0.30381722592940497"
        ],
        [
         "max",
         "2025-02-10 00:00:00",
         "2025-02-28 00:00:00",
         "0.5452991452991454"
        ],
        [
         "std",
         null,
         null,
         "0.0762270089424202"
        ]
       ],
       "shape": {
        "columns": 3,
        "rows": 8
       }
      },
      "text/html": [
       "<div>\n",
       "<style scoped>\n",
       "    .dataframe tbody tr th:only-of-type {\n",
       "        vertical-align: middle;\n",
       "    }\n",
       "\n",
       "    .dataframe tbody tr th {\n",
       "        vertical-align: top;\n",
       "    }\n",
       "\n",
       "    .dataframe thead th {\n",
       "        text-align: right;\n",
       "    }\n",
       "</style>\n",
       "<table border=\"1\" class=\"dataframe\">\n",
       "  <thead>\n",
       "    <tr style=\"text-align: right;\">\n",
       "      <th></th>\n",
       "      <th>start_date</th>\n",
       "      <th>end_date</th>\n",
       "      <th>cic_score_FSPD30_gini</th>\n",
       "    </tr>\n",
       "  </thead>\n",
       "  <tbody>\n",
       "    <tr>\n",
       "      <th>count</th>\n",
       "      <td>110</td>\n",
       "      <td>110</td>\n",
       "      <td>110.000000</td>\n",
       "    </tr>\n",
       "    <tr>\n",
       "      <th>mean</th>\n",
       "      <td>2024-04-06 04:21:49.090909184</td>\n",
       "      <td>2024-04-16 15:42:32.727272704</td>\n",
       "      <td>0.260615</td>\n",
       "    </tr>\n",
       "    <tr>\n",
       "      <th>min</th>\n",
       "      <td>2023-05-29 00:00:00</td>\n",
       "      <td>2023-06-04 00:00:00</td>\n",
       "      <td>0.089886</td>\n",
       "    </tr>\n",
       "    <tr>\n",
       "      <th>25%</th>\n",
       "      <td>2023-11-02 06:00:00</td>\n",
       "      <td>2023-11-13 18:00:00</td>\n",
       "      <td>0.209298</td>\n",
       "    </tr>\n",
       "    <tr>\n",
       "      <th>50%</th>\n",
       "      <td>2024-04-04 12:00:00</td>\n",
       "      <td>2024-04-17 12:00:00</td>\n",
       "      <td>0.265784</td>\n",
       "    </tr>\n",
       "    <tr>\n",
       "      <th>75%</th>\n",
       "      <td>2024-09-07 06:00:00</td>\n",
       "      <td>2024-09-20 06:00:00</td>\n",
       "      <td>0.303817</td>\n",
       "    </tr>\n",
       "    <tr>\n",
       "      <th>max</th>\n",
       "      <td>2025-02-10 00:00:00</td>\n",
       "      <td>2025-02-28 00:00:00</td>\n",
       "      <td>0.545299</td>\n",
       "    </tr>\n",
       "    <tr>\n",
       "      <th>std</th>\n",
       "      <td>NaN</td>\n",
       "      <td>NaN</td>\n",
       "      <td>0.076227</td>\n",
       "    </tr>\n",
       "  </tbody>\n",
       "</table>\n",
       "</div>"
      ],
      "text/plain": [
       "                          start_date                       end_date  \\\n",
       "count                            110                            110   \n",
       "mean   2024-04-06 04:21:49.090909184  2024-04-16 15:42:32.727272704   \n",
       "min              2023-05-29 00:00:00            2023-06-04 00:00:00   \n",
       "25%              2023-11-02 06:00:00            2023-11-13 18:00:00   \n",
       "50%              2024-04-04 12:00:00            2024-04-17 12:00:00   \n",
       "75%              2024-09-07 06:00:00            2024-09-20 06:00:00   \n",
       "max              2025-02-10 00:00:00            2025-02-28 00:00:00   \n",
       "std                              NaN                            NaN   \n",
       "\n",
       "       cic_score_FSPD30_gini  \n",
       "count             110.000000  \n",
       "mean                0.260615  \n",
       "min                 0.089886  \n",
       "25%                 0.209298  \n",
       "50%                 0.265784  \n",
       "75%                 0.303817  \n",
       "max                 0.545299  \n",
       "std                 0.076227  "
      ]
     },
     "execution_count": 57,
     "metadata": {},
     "output_type": "execute_result"
    }
   ],
   "source": [
    "s_cic_scoreFSPD30.describe()"
   ]
  },
  {
   "cell_type": "code",
   "execution_count": 58,
   "metadata": {},
   "outputs": [
    {
     "data": {
      "application/vnd.microsoft.datawrangler.viewer.v0+json": {
       "columns": [
        {
         "name": "index",
         "rawType": "int64",
         "type": "integer"
        },
        {
         "name": "start_date",
         "rawType": "datetime64[ns]",
         "type": "datetime"
        },
        {
         "name": "end_date",
         "rawType": "datetime64[ns]",
         "type": "datetime"
        },
        {
         "name": "cic_score_FSPD30_gini",
         "rawType": "float64",
         "type": "float"
        },
        {
         "name": "period",
         "rawType": "object",
         "type": "string"
        },
        {
         "name": "Model_Name",
         "rawType": "object",
         "type": "string"
        },
        {
         "name": "version",
         "rawType": "object",
         "type": "string"
        },
        {
         "name": "bad_rate",
         "rawType": "object",
         "type": "string"
        }
       ],
       "conversionMethod": "pd.DataFrame",
       "ref": "b1f10886-847b-480e-bd89-debcfc2f6ae8",
       "rows": [
        [
         "105",
         "2025-01-20 00:00:00",
         "2025-01-26 00:00:00",
         "0.22363316169634562",
         "Week",
         "cic_score",
         "1.1.0",
         "FSPD30"
        ],
        [
         "106",
         "2025-01-27 00:00:00",
         "2025-02-02 00:00:00",
         "0.21080098641744627",
         "Week",
         "cic_score",
         "1.1.0",
         "FSPD30"
        ],
        [
         "107",
         "2025-02-01 00:00:00",
         "2025-02-28 00:00:00",
         "0.24011767713484544",
         "Month",
         "cic_score",
         "1.1.0",
         "FSPD30"
        ],
        [
         "108",
         "2025-02-03 00:00:00",
         "2025-02-09 00:00:00",
         "0.24540741406694822",
         "Week",
         "cic_score",
         "1.1.0",
         "FSPD30"
        ],
        [
         "109",
         "2025-02-10 00:00:00",
         "2025-02-16 00:00:00",
         "0.24828089415614585",
         "Week",
         "cic_score",
         "1.1.0",
         "FSPD30"
        ]
       ],
       "shape": {
        "columns": 7,
        "rows": 5
       }
      },
      "text/html": [
       "<div>\n",
       "<style scoped>\n",
       "    .dataframe tbody tr th:only-of-type {\n",
       "        vertical-align: middle;\n",
       "    }\n",
       "\n",
       "    .dataframe tbody tr th {\n",
       "        vertical-align: top;\n",
       "    }\n",
       "\n",
       "    .dataframe thead th {\n",
       "        text-align: right;\n",
       "    }\n",
       "</style>\n",
       "<table border=\"1\" class=\"dataframe\">\n",
       "  <thead>\n",
       "    <tr style=\"text-align: right;\">\n",
       "      <th></th>\n",
       "      <th>start_date</th>\n",
       "      <th>end_date</th>\n",
       "      <th>cic_score_FSPD30_gini</th>\n",
       "      <th>period</th>\n",
       "      <th>Model_Name</th>\n",
       "      <th>version</th>\n",
       "      <th>bad_rate</th>\n",
       "    </tr>\n",
       "  </thead>\n",
       "  <tbody>\n",
       "    <tr>\n",
       "      <th>105</th>\n",
       "      <td>2025-01-20</td>\n",
       "      <td>2025-01-26</td>\n",
       "      <td>0.223633</td>\n",
       "      <td>Week</td>\n",
       "      <td>cic_score</td>\n",
       "      <td>1.1.0</td>\n",
       "      <td>FSPD30</td>\n",
       "    </tr>\n",
       "    <tr>\n",
       "      <th>106</th>\n",
       "      <td>2025-01-27</td>\n",
       "      <td>2025-02-02</td>\n",
       "      <td>0.210801</td>\n",
       "      <td>Week</td>\n",
       "      <td>cic_score</td>\n",
       "      <td>1.1.0</td>\n",
       "      <td>FSPD30</td>\n",
       "    </tr>\n",
       "    <tr>\n",
       "      <th>107</th>\n",
       "      <td>2025-02-01</td>\n",
       "      <td>2025-02-28</td>\n",
       "      <td>0.240118</td>\n",
       "      <td>Month</td>\n",
       "      <td>cic_score</td>\n",
       "      <td>1.1.0</td>\n",
       "      <td>FSPD30</td>\n",
       "    </tr>\n",
       "    <tr>\n",
       "      <th>108</th>\n",
       "      <td>2025-02-03</td>\n",
       "      <td>2025-02-09</td>\n",
       "      <td>0.245407</td>\n",
       "      <td>Week</td>\n",
       "      <td>cic_score</td>\n",
       "      <td>1.1.0</td>\n",
       "      <td>FSPD30</td>\n",
       "    </tr>\n",
       "    <tr>\n",
       "      <th>109</th>\n",
       "      <td>2025-02-10</td>\n",
       "      <td>2025-02-16</td>\n",
       "      <td>0.248281</td>\n",
       "      <td>Week</td>\n",
       "      <td>cic_score</td>\n",
       "      <td>1.1.0</td>\n",
       "      <td>FSPD30</td>\n",
       "    </tr>\n",
       "  </tbody>\n",
       "</table>\n",
       "</div>"
      ],
      "text/plain": [
       "    start_date   end_date  cic_score_FSPD30_gini period Model_Name version  \\\n",
       "105 2025-01-20 2025-01-26               0.223633   Week  cic_score   1.1.0   \n",
       "106 2025-01-27 2025-02-02               0.210801   Week  cic_score   1.1.0   \n",
       "107 2025-02-01 2025-02-28               0.240118  Month  cic_score   1.1.0   \n",
       "108 2025-02-03 2025-02-09               0.245407   Week  cic_score   1.1.0   \n",
       "109 2025-02-10 2025-02-16               0.248281   Week  cic_score   1.1.0   \n",
       "\n",
       "    bad_rate  \n",
       "105   FSPD30  \n",
       "106   FSPD30  \n",
       "107   FSPD30  \n",
       "108   FSPD30  \n",
       "109   FSPD30  "
      ]
     },
     "execution_count": 58,
     "metadata": {},
     "output_type": "execute_result"
    }
   ],
   "source": [
    "s_cic_scoreFSPD30.tail()"
   ]
  },
  {
   "cell_type": "markdown",
   "metadata": {},
   "source": [
    "## FSTPD30"
   ]
  },
  {
   "cell_type": "code",
   "execution_count": 59,
   "metadata": {},
   "outputs": [
    {
     "name": "stdout",
     "output_type": "stream",
     "text": [
      "Job ID 0f62ce2c-23ca-478c-bea9-82d7439e349f successfully executed: 100%|\u001b[32m██████████\u001b[0m|"
     ]
    },
    {
     "name": "stderr",
     "output_type": "stream",
     "text": [
      "C:\\Users\\Dwaipayan\\AppData\\Roaming\\Python\\Python312\\site-packages\\google\\cloud\\bigquery\\table.py:1900: UserWarning: BigQuery Storage module not found, fetch data with the REST endpoint instead.\n",
      "  warnings.warn(\n"
     ]
    },
    {
     "name": "stdout",
     "output_type": "stream",
     "text": [
      "\n",
      "Downloading: 100%|\u001b[32m██████████\u001b[0m|\n"
     ]
    }
   ],
   "source": [
    "sq = f\"\"\"\n",
    "with s_cic_score as \n",
    "(SELECT \n",
    "    ln_disb_dtime disbursementdate,\n",
    "\tdigitalLoanAccountId,\n",
    "    cic_score,\n",
    "    ln_fstpd30_flag,\n",
    "\tln_mature_fstpd30_flag,\t\n",
    "\tFROM \n",
    "    {a}\n",
    "  WHERE \n",
    "     -- ln_disb_dtime >= '2023-07-01'\n",
    "    ln_appln_submit_datetime >= '2023-06-01'\n",
    "  -- AND\n",
    "  --   format_date('%Y-%m', ln_disb_dtime) = '2024-09'\n",
    "  AND\n",
    "    ln_fstpd30_flag is not null\n",
    "  AND\n",
    "    cic_score is not null\n",
    "  AND\n",
    "    ln_mature_fstpd30_flag = 1\n",
    ")\n",
    "select * from s_cic_score;\n",
    "\"\"\"\n",
    "\n",
    "df_s_cic_scorefstpd30 = client.query(sq).to_dataframe(progress_bar_type='tqdm')"
   ]
  },
  {
   "cell_type": "code",
   "execution_count": 60,
   "metadata": {},
   "outputs": [
    {
     "name": "stderr",
     "output_type": "stream",
     "text": [
      "C:\\Users\\Dwaipayan\\AppData\\Local\\Temp\\ipykernel_53324\\1204584280.py:30: DeprecationWarning: DataFrameGroupBy.apply operated on the grouping columns. This behavior is deprecated, and in a future version of pandas the grouping columns will be excluded from the operation. Either pass `include_groups=False` to exclude the groupings or explicitly select the grouping columns after groupby to silence this warning.\n",
      "  weekly_gini = df.groupby('week').apply(\n"
     ]
    },
    {
     "name": "stdout",
     "output_type": "stream",
     "text": [
      "The shape of dataframe after copy is:\t(105, 7)\n"
     ]
    },
    {
     "name": "stderr",
     "output_type": "stream",
     "text": [
      "C:\\Users\\Dwaipayan\\AppData\\Local\\Temp\\ipykernel_53324\\1204584280.py:41: DeprecationWarning: DataFrameGroupBy.apply operated on the grouping columns. This behavior is deprecated, and in a future version of pandas the grouping columns will be excluded from the operation. Either pass `include_groups=False` to exclude the groupings or explicitly select the grouping columns after groupby to silence this warning.\n",
      "  monthly_gini = df.groupby('month').apply(\n"
     ]
    },
    {
     "data": {
      "text/plain": [
       "array(['start_date', 'end_date', 'cic_score_FSTPD30_gini', 'period',\n",
       "       'Model_Name', 'version', 'bad_rate'], dtype=object)"
      ]
     },
     "execution_count": 60,
     "metadata": {},
     "output_type": "execute_result"
    }
   ],
   "source": [
    "gini_results = calculate_periodic_gini(df_s_cic_scorefstpd30, 'cic_score', 'ln_fstpd30_flag', 'FSTPD30')\n",
    "s_cic_scoreFSTPD30 = gini_results.copy()\n",
    "print(f\"The shape of dataframe after copy is:\\t{s_cic_scoreFSTPD30.shape}\")\n",
    "s_cic_scoreFSTPD30.columns.values"
   ]
  },
  {
   "cell_type": "code",
   "execution_count": 61,
   "metadata": {},
   "outputs": [
    {
     "data": {
      "application/vnd.microsoft.datawrangler.viewer.v0+json": {
       "columns": [
        {
         "name": "index",
         "rawType": "object",
         "type": "string"
        },
        {
         "name": "start_date",
         "rawType": "object",
         "type": "unknown"
        },
        {
         "name": "end_date",
         "rawType": "object",
         "type": "unknown"
        },
        {
         "name": "cic_score_FSTPD30_gini",
         "rawType": "float64",
         "type": "float"
        }
       ],
       "conversionMethod": "pd.DataFrame",
       "ref": "8c22668b-e854-4635-a287-04985b70be61",
       "rows": [
        [
         "count",
         "105",
         "105",
         "105.0"
        ],
        [
         "mean",
         "2024-03-22 21:56:34.285714176",
         "2024-04-02 09:36:00",
         "0.24833186019962192"
        ],
        [
         "min",
         "2023-05-29 00:00:00",
         "2023-06-04 00:00:00",
         "0.06574074074074088"
        ],
        [
         "25%",
         "2023-10-30 00:00:00",
         "2023-11-05 00:00:00",
         "0.20866353916889313"
        ],
        [
         "50%",
         "2024-03-25 00:00:00",
         "2024-03-31 00:00:00",
         "0.2514762255608587"
        ],
        [
         "75%",
         "2024-08-19 00:00:00",
         "2024-08-31 00:00:00",
         "0.2923287460851154"
        ],
        [
         "max",
         "2025-01-13 00:00:00",
         "2025-01-31 00:00:00",
         "0.47908232118758454"
        ],
        [
         "std",
         null,
         null,
         "0.07297485453009792"
        ]
       ],
       "shape": {
        "columns": 3,
        "rows": 8
       }
      },
      "text/html": [
       "<div>\n",
       "<style scoped>\n",
       "    .dataframe tbody tr th:only-of-type {\n",
       "        vertical-align: middle;\n",
       "    }\n",
       "\n",
       "    .dataframe tbody tr th {\n",
       "        vertical-align: top;\n",
       "    }\n",
       "\n",
       "    .dataframe thead th {\n",
       "        text-align: right;\n",
       "    }\n",
       "</style>\n",
       "<table border=\"1\" class=\"dataframe\">\n",
       "  <thead>\n",
       "    <tr style=\"text-align: right;\">\n",
       "      <th></th>\n",
       "      <th>start_date</th>\n",
       "      <th>end_date</th>\n",
       "      <th>cic_score_FSTPD30_gini</th>\n",
       "    </tr>\n",
       "  </thead>\n",
       "  <tbody>\n",
       "    <tr>\n",
       "      <th>count</th>\n",
       "      <td>105</td>\n",
       "      <td>105</td>\n",
       "      <td>105.000000</td>\n",
       "    </tr>\n",
       "    <tr>\n",
       "      <th>mean</th>\n",
       "      <td>2024-03-22 21:56:34.285714176</td>\n",
       "      <td>2024-04-02 09:36:00</td>\n",
       "      <td>0.248332</td>\n",
       "    </tr>\n",
       "    <tr>\n",
       "      <th>min</th>\n",
       "      <td>2023-05-29 00:00:00</td>\n",
       "      <td>2023-06-04 00:00:00</td>\n",
       "      <td>0.065741</td>\n",
       "    </tr>\n",
       "    <tr>\n",
       "      <th>25%</th>\n",
       "      <td>2023-10-30 00:00:00</td>\n",
       "      <td>2023-11-05 00:00:00</td>\n",
       "      <td>0.208664</td>\n",
       "    </tr>\n",
       "    <tr>\n",
       "      <th>50%</th>\n",
       "      <td>2024-03-25 00:00:00</td>\n",
       "      <td>2024-03-31 00:00:00</td>\n",
       "      <td>0.251476</td>\n",
       "    </tr>\n",
       "    <tr>\n",
       "      <th>75%</th>\n",
       "      <td>2024-08-19 00:00:00</td>\n",
       "      <td>2024-08-31 00:00:00</td>\n",
       "      <td>0.292329</td>\n",
       "    </tr>\n",
       "    <tr>\n",
       "      <th>max</th>\n",
       "      <td>2025-01-13 00:00:00</td>\n",
       "      <td>2025-01-31 00:00:00</td>\n",
       "      <td>0.479082</td>\n",
       "    </tr>\n",
       "    <tr>\n",
       "      <th>std</th>\n",
       "      <td>NaN</td>\n",
       "      <td>NaN</td>\n",
       "      <td>0.072975</td>\n",
       "    </tr>\n",
       "  </tbody>\n",
       "</table>\n",
       "</div>"
      ],
      "text/plain": [
       "                          start_date             end_date  \\\n",
       "count                            105                  105   \n",
       "mean   2024-03-22 21:56:34.285714176  2024-04-02 09:36:00   \n",
       "min              2023-05-29 00:00:00  2023-06-04 00:00:00   \n",
       "25%              2023-10-30 00:00:00  2023-11-05 00:00:00   \n",
       "50%              2024-03-25 00:00:00  2024-03-31 00:00:00   \n",
       "75%              2024-08-19 00:00:00  2024-08-31 00:00:00   \n",
       "max              2025-01-13 00:00:00  2025-01-31 00:00:00   \n",
       "std                              NaN                  NaN   \n",
       "\n",
       "       cic_score_FSTPD30_gini  \n",
       "count              105.000000  \n",
       "mean                 0.248332  \n",
       "min                  0.065741  \n",
       "25%                  0.208664  \n",
       "50%                  0.251476  \n",
       "75%                  0.292329  \n",
       "max                  0.479082  \n",
       "std                  0.072975  "
      ]
     },
     "execution_count": 61,
     "metadata": {},
     "output_type": "execute_result"
    }
   ],
   "source": [
    "s_cic_scoreFSTPD30.describe()"
   ]
  },
  {
   "cell_type": "code",
   "execution_count": 62,
   "metadata": {},
   "outputs": [
    {
     "data": {
      "application/vnd.microsoft.datawrangler.viewer.v0+json": {
       "columns": [
        {
         "name": "index",
         "rawType": "int64",
         "type": "integer"
        },
        {
         "name": "start_date",
         "rawType": "datetime64[ns]",
         "type": "datetime"
        },
        {
         "name": "end_date",
         "rawType": "datetime64[ns]",
         "type": "datetime"
        },
        {
         "name": "cic_score_FSTPD30_gini",
         "rawType": "float64",
         "type": "float"
        },
        {
         "name": "period",
         "rawType": "object",
         "type": "string"
        },
        {
         "name": "Model_Name",
         "rawType": "object",
         "type": "string"
        },
        {
         "name": "version",
         "rawType": "object",
         "type": "string"
        },
        {
         "name": "bad_rate",
         "rawType": "object",
         "type": "string"
        }
       ],
       "conversionMethod": "pd.DataFrame",
       "ref": "ca1303e1-19df-4cdb-a893-9dbd44da3f59",
       "rows": [
        [
         "100",
         "2024-12-23 00:00:00",
         "2024-12-29 00:00:00",
         "0.20866353916889313",
         "Week",
         "cic_score",
         "1.1.0",
         "FSTPD30"
        ],
        [
         "101",
         "2024-12-30 00:00:00",
         "2025-01-05 00:00:00",
         "0.19089500800668358",
         "Week",
         "cic_score",
         "1.1.0",
         "FSTPD30"
        ],
        [
         "102",
         "2025-01-01 00:00:00",
         "2025-01-31 00:00:00",
         "0.17677959961199985",
         "Month",
         "cic_score",
         "1.1.0",
         "FSTPD30"
        ],
        [
         "103",
         "2025-01-06 00:00:00",
         "2025-01-12 00:00:00",
         "0.1383687939884386",
         "Week",
         "cic_score",
         "1.1.0",
         "FSTPD30"
        ],
        [
         "104",
         "2025-01-13 00:00:00",
         "2025-01-19 00:00:00",
         "0.19187759475023425",
         "Week",
         "cic_score",
         "1.1.0",
         "FSTPD30"
        ]
       ],
       "shape": {
        "columns": 7,
        "rows": 5
       }
      },
      "text/html": [
       "<div>\n",
       "<style scoped>\n",
       "    .dataframe tbody tr th:only-of-type {\n",
       "        vertical-align: middle;\n",
       "    }\n",
       "\n",
       "    .dataframe tbody tr th {\n",
       "        vertical-align: top;\n",
       "    }\n",
       "\n",
       "    .dataframe thead th {\n",
       "        text-align: right;\n",
       "    }\n",
       "</style>\n",
       "<table border=\"1\" class=\"dataframe\">\n",
       "  <thead>\n",
       "    <tr style=\"text-align: right;\">\n",
       "      <th></th>\n",
       "      <th>start_date</th>\n",
       "      <th>end_date</th>\n",
       "      <th>cic_score_FSTPD30_gini</th>\n",
       "      <th>period</th>\n",
       "      <th>Model_Name</th>\n",
       "      <th>version</th>\n",
       "      <th>bad_rate</th>\n",
       "    </tr>\n",
       "  </thead>\n",
       "  <tbody>\n",
       "    <tr>\n",
       "      <th>100</th>\n",
       "      <td>2024-12-23</td>\n",
       "      <td>2024-12-29</td>\n",
       "      <td>0.208664</td>\n",
       "      <td>Week</td>\n",
       "      <td>cic_score</td>\n",
       "      <td>1.1.0</td>\n",
       "      <td>FSTPD30</td>\n",
       "    </tr>\n",
       "    <tr>\n",
       "      <th>101</th>\n",
       "      <td>2024-12-30</td>\n",
       "      <td>2025-01-05</td>\n",
       "      <td>0.190895</td>\n",
       "      <td>Week</td>\n",
       "      <td>cic_score</td>\n",
       "      <td>1.1.0</td>\n",
       "      <td>FSTPD30</td>\n",
       "    </tr>\n",
       "    <tr>\n",
       "      <th>102</th>\n",
       "      <td>2025-01-01</td>\n",
       "      <td>2025-01-31</td>\n",
       "      <td>0.176780</td>\n",
       "      <td>Month</td>\n",
       "      <td>cic_score</td>\n",
       "      <td>1.1.0</td>\n",
       "      <td>FSTPD30</td>\n",
       "    </tr>\n",
       "    <tr>\n",
       "      <th>103</th>\n",
       "      <td>2025-01-06</td>\n",
       "      <td>2025-01-12</td>\n",
       "      <td>0.138369</td>\n",
       "      <td>Week</td>\n",
       "      <td>cic_score</td>\n",
       "      <td>1.1.0</td>\n",
       "      <td>FSTPD30</td>\n",
       "    </tr>\n",
       "    <tr>\n",
       "      <th>104</th>\n",
       "      <td>2025-01-13</td>\n",
       "      <td>2025-01-19</td>\n",
       "      <td>0.191878</td>\n",
       "      <td>Week</td>\n",
       "      <td>cic_score</td>\n",
       "      <td>1.1.0</td>\n",
       "      <td>FSTPD30</td>\n",
       "    </tr>\n",
       "  </tbody>\n",
       "</table>\n",
       "</div>"
      ],
      "text/plain": [
       "    start_date   end_date  cic_score_FSTPD30_gini period Model_Name version  \\\n",
       "100 2024-12-23 2024-12-29                0.208664   Week  cic_score   1.1.0   \n",
       "101 2024-12-30 2025-01-05                0.190895   Week  cic_score   1.1.0   \n",
       "102 2025-01-01 2025-01-31                0.176780  Month  cic_score   1.1.0   \n",
       "103 2025-01-06 2025-01-12                0.138369   Week  cic_score   1.1.0   \n",
       "104 2025-01-13 2025-01-19                0.191878   Week  cic_score   1.1.0   \n",
       "\n",
       "    bad_rate  \n",
       "100  FSTPD30  \n",
       "101  FSTPD30  \n",
       "102  FSTPD30  \n",
       "103  FSTPD30  \n",
       "104  FSTPD30  "
      ]
     },
     "execution_count": 62,
     "metadata": {},
     "output_type": "execute_result"
    }
   ],
   "source": [
    "s_cic_scoreFSTPD30.tail()"
   ]
  },
  {
   "cell_type": "markdown",
   "metadata": {},
   "source": [
    "# Combining s_cic_score"
   ]
  },
  {
   "cell_type": "code",
   "execution_count": 63,
   "metadata": {},
   "outputs": [
    {
     "data": {
      "text/plain": [
       "array(['start_date', 'end_date', 'cic_score_FPD10_gini', 'period',\n",
       "       'Model_Name', 'version', 'bad_rate', 'cic_score_FPD30_gini',\n",
       "       'cic_score_FSPD30_gini', 'cic_score_FSTPD30_gini'], dtype=object)"
      ]
     },
     "execution_count": 63,
     "metadata": {},
     "output_type": "execute_result"
    }
   ],
   "source": [
    "import functools\n",
    "\n",
    "dataframes = [s_cic_scoreFPD10, s_cic_scoreFPD30, s_cic_scoreFSPD30, s_cic_scoreFSTPD30]\n",
    "common_columns = ['start_date', 'end_date', 'period', 'Model_Name','version', 'bad_rate']\n",
    "\n",
    "def merge_dataframes(df1, df2):\n",
    "    return pd.merge(df1, df2, on=common_columns, how='outer')\n",
    "\n",
    "final_df = functools.reduce(merge_dataframes, dataframes)\n",
    "\n",
    "final_df.columns.values"
   ]
  },
  {
   "cell_type": "code",
   "execution_count": 64,
   "metadata": {},
   "outputs": [],
   "source": [
    "final_df = final_df[['start_date', 'end_date', 'period',\n",
    "       'Model_Name', 'version', 'bad_rate','cic_score_FPD10_gini','cic_score_FPD30_gini', 'cic_score_FSPD30_gini', 'cic_score_FSTPD30_gini']].copy()"
   ]
  },
  {
   "cell_type": "markdown",
   "metadata": {},
   "source": [
    "## Creating the table"
   ]
  },
  {
   "cell_type": "code",
   "execution_count": 65,
   "metadata": {},
   "outputs": [
    {
     "data": {
      "text/plain": [
       "QueryJob<project=prj-prod-dataplatform, location=asia-southeast1, id=804d5105-7881-48c6-9cd9-8afa027318b1>"
      ]
     },
     "execution_count": 65,
     "metadata": {},
     "output_type": "execute_result"
    }
   ],
   "source": [
    "sq = \"\"\"drop table if exists prj-prod-dataplatform.dap_ds_poweruser_playground.Model_gini_s_cic_score;\"\"\"\n",
    "\n",
    "client.query(sq)"
   ]
  },
  {
   "cell_type": "code",
   "execution_count": 66,
   "metadata": {},
   "outputs": [
    {
     "name": "stderr",
     "output_type": "stream",
     "text": [
      "C:\\Users\\Dwaipayan\\AppData\\Roaming\\Python\\Python312\\site-packages\\google\\cloud\\bigquery\\_pandas_helpers.py:483: FutureWarning: Loading pandas DataFrame into BigQuery will require pandas-gbq package version 0.26.1 or greater in the future. Tried to import pandas-gbq and got: No module named 'pandas_gbq'\n",
      "  warnings.warn(\n"
     ]
    },
    {
     "data": {
      "text/plain": [
       "LoadJob<project=prj-prod-dataplatform, location=asia-southeast1, id=587c009d-d720-4bcc-94ab-894178d60e21>"
      ]
     },
     "execution_count": 66,
     "metadata": {},
     "output_type": "execute_result"
    }
   ],
   "source": [
    "\n",
    "\n",
    "import pandas as pd\n",
    "from google.cloud import bigquery\n",
    "\n",
    "# Create a BigQuery client\n",
    "client = bigquery.Client('prj-prod-dataplatform')\n",
    "\n",
    "# Define your table schema\n",
    "table_schema = [\n",
    "    bigquery.SchemaField('start_date', 'TIMESTAMP'),\n",
    "    bigquery.SchemaField('end_date', 'TIMESTAMP'),\n",
    "    bigquery.SchemaField('period', 'STRING'),\n",
    "    bigquery.SchemaField('Model_Name', 'STRING'),\n",
    "    bigquery.SchemaField('version', 'STRING'),\n",
    "    bigquery.SchemaField('Badrate', 'STRING'),\n",
    "    bigquery.SchemaField('cic_score_FPD10_gini', 'FLOAT'),\n",
    "    bigquery.SchemaField('cic_score_FPD30_gini', 'FLOAT'),    \n",
    "    bigquery.SchemaField('cic_score_FSPD30_gini', 'FLOAT'),\n",
    "    bigquery.SchemaField('cic_score_FSTPD30_gini', 'FLOAT')\n",
    "    \n",
    "]\n",
    "\n",
    "# Create your BigQuery table\n",
    "table_id = 'prj-prod-dataplatform.dap_ds_poweruser_playground.Model_gini_s_cic_score'\n",
    "table = bigquery.Table(table_id, schema=table_schema)\n",
    "table = client.create_table(table)\n",
    "\n",
    "# Load your DataFrame into BigQuery\n",
    "job_config = bigquery.LoadJobConfig(\n",
    "    write_disposition='WRITE_TRUNCATE'\n",
    ")\n",
    "\n",
    "load_job = client.load_table_from_dataframe(\n",
    "    final_df, table_id, job_config=job_config\n",
    ")\n",
    "\n",
    "load_job.result()"
   ]
  },
  {
   "cell_type": "markdown",
   "metadata": {},
   "source": [
    "# sb_stack_score"
   ]
  },
  {
   "cell_type": "markdown",
   "metadata": {},
   "source": [
    "## FPD10"
   ]
  },
  {
   "cell_type": "code",
   "execution_count": 67,
   "metadata": {},
   "outputs": [
    {
     "name": "stdout",
     "output_type": "stream",
     "text": [
      "Job ID 41f5dde8-a5ad-4815-909e-eaf3da73cd6c successfully executed: 100%|\u001b[32m██████████\u001b[0m|"
     ]
    },
    {
     "name": "stderr",
     "output_type": "stream",
     "text": [
      "C:\\Users\\Dwaipayan\\AppData\\Roaming\\Python\\Python312\\site-packages\\google\\cloud\\bigquery\\table.py:1900: UserWarning: BigQuery Storage module not found, fetch data with the REST endpoint instead.\n",
      "  warnings.warn(\n"
     ]
    },
    {
     "name": "stdout",
     "output_type": "stream",
     "text": [
      "\n",
      "Downloading: 100%|\u001b[32m██████████\u001b[0m|\n"
     ]
    },
    {
     "data": {
      "application/vnd.microsoft.datawrangler.viewer.v0+json": {
       "columns": [
        {
         "name": "index",
         "rawType": "int64",
         "type": "integer"
        },
        {
         "name": "disbursementdate",
         "rawType": "datetime64[us]",
         "type": "unknown"
        },
        {
         "name": "digitalLoanAccountId",
         "rawType": "object",
         "type": "string"
        },
        {
         "name": "beta_stack_score",
         "rawType": "object",
         "type": "string"
        },
        {
         "name": "ln_fpd10_flag",
         "rawType": "Int64",
         "type": "integer"
        },
        {
         "name": "ln_mature_fpd10_flag",
         "rawType": "Int64",
         "type": "integer"
        }
       ],
       "conversionMethod": "pd.DataFrame",
       "ref": "04271f88-50b1-4d6b-abc5-4470aa3b7cbf",
       "rows": [
        [
         "0",
         "2024-07-16 19:09:27",
         "a731f941-ed8a-4278-9ba4-1fd41132aa5e",
         "0.1079624429034287",
         "0",
         "1"
        ],
        [
         "1",
         "2024-11-24 18:45:09",
         "5be2f2c7-2401-48bc-a384-6f62c22866db",
         "0.097609274841853222",
         "0",
         "1"
        ],
        [
         "2",
         "2023-12-17 19:38:05",
         "0c97d2b7-3157-4f68-a502-636f59339b6d",
         "0.0093984609477240633",
         "0",
         "1"
        ],
        [
         "3",
         "2024-12-01 12:21:56",
         "1eac1869-c3c5-4ed8-aa58-aeb90c730784",
         "0.023456799806755153",
         "0",
         "1"
        ],
        [
         "4",
         "2024-10-26 15:36:19",
         "4085569c-fc38-485b-9eb9-87e23466e91e",
         "0.075726259678754751",
         "0",
         "1"
        ]
       ],
       "shape": {
        "columns": 5,
        "rows": 5
       }
      },
      "text/html": [
       "<div>\n",
       "<style scoped>\n",
       "    .dataframe tbody tr th:only-of-type {\n",
       "        vertical-align: middle;\n",
       "    }\n",
       "\n",
       "    .dataframe tbody tr th {\n",
       "        vertical-align: top;\n",
       "    }\n",
       "\n",
       "    .dataframe thead th {\n",
       "        text-align: right;\n",
       "    }\n",
       "</style>\n",
       "<table border=\"1\" class=\"dataframe\">\n",
       "  <thead>\n",
       "    <tr style=\"text-align: right;\">\n",
       "      <th></th>\n",
       "      <th>disbursementdate</th>\n",
       "      <th>digitalLoanAccountId</th>\n",
       "      <th>beta_stack_score</th>\n",
       "      <th>ln_fpd10_flag</th>\n",
       "      <th>ln_mature_fpd10_flag</th>\n",
       "    </tr>\n",
       "  </thead>\n",
       "  <tbody>\n",
       "    <tr>\n",
       "      <th>0</th>\n",
       "      <td>2024-07-16 19:09:27</td>\n",
       "      <td>a731f941-ed8a-4278-9ba4-1fd41132aa5e</td>\n",
       "      <td>0.1079624429034287</td>\n",
       "      <td>0</td>\n",
       "      <td>1</td>\n",
       "    </tr>\n",
       "    <tr>\n",
       "      <th>1</th>\n",
       "      <td>2024-11-24 18:45:09</td>\n",
       "      <td>5be2f2c7-2401-48bc-a384-6f62c22866db</td>\n",
       "      <td>0.097609274841853222</td>\n",
       "      <td>0</td>\n",
       "      <td>1</td>\n",
       "    </tr>\n",
       "    <tr>\n",
       "      <th>2</th>\n",
       "      <td>2023-12-17 19:38:05</td>\n",
       "      <td>0c97d2b7-3157-4f68-a502-636f59339b6d</td>\n",
       "      <td>0.0093984609477240633</td>\n",
       "      <td>0</td>\n",
       "      <td>1</td>\n",
       "    </tr>\n",
       "    <tr>\n",
       "      <th>3</th>\n",
       "      <td>2024-12-01 12:21:56</td>\n",
       "      <td>1eac1869-c3c5-4ed8-aa58-aeb90c730784</td>\n",
       "      <td>0.023456799806755153</td>\n",
       "      <td>0</td>\n",
       "      <td>1</td>\n",
       "    </tr>\n",
       "    <tr>\n",
       "      <th>4</th>\n",
       "      <td>2024-10-26 15:36:19</td>\n",
       "      <td>4085569c-fc38-485b-9eb9-87e23466e91e</td>\n",
       "      <td>0.075726259678754751</td>\n",
       "      <td>0</td>\n",
       "      <td>1</td>\n",
       "    </tr>\n",
       "  </tbody>\n",
       "</table>\n",
       "</div>"
      ],
      "text/plain": [
       "     disbursementdate                  digitalLoanAccountId  \\\n",
       "0 2024-07-16 19:09:27  a731f941-ed8a-4278-9ba4-1fd41132aa5e   \n",
       "1 2024-11-24 18:45:09  5be2f2c7-2401-48bc-a384-6f62c22866db   \n",
       "2 2023-12-17 19:38:05  0c97d2b7-3157-4f68-a502-636f59339b6d   \n",
       "3 2024-12-01 12:21:56  1eac1869-c3c5-4ed8-aa58-aeb90c730784   \n",
       "4 2024-10-26 15:36:19  4085569c-fc38-485b-9eb9-87e23466e91e   \n",
       "\n",
       "        beta_stack_score  ln_fpd10_flag  ln_mature_fpd10_flag  \n",
       "0     0.1079624429034287              0                     1  \n",
       "1   0.097609274841853222              0                     1  \n",
       "2  0.0093984609477240633              0                     1  \n",
       "3   0.023456799806755153              0                     1  \n",
       "4   0.075726259678754751              0                     1  "
      ]
     },
     "execution_count": 67,
     "metadata": {},
     "output_type": "execute_result"
    }
   ],
   "source": [
    "# sb_stack_score\n",
    "\n",
    "sq = f\"\"\"\n",
    "with sb_stack_score as \n",
    "(SELECT \n",
    "    ln_disb_dtime disbursementdate,\n",
    "\tdigitalLoanAccountId,\n",
    "    beta_stack_score beta_stack_score,\n",
    "    ln_fpd10_flag,\n",
    "\tln_mature_fpd10_flag,\t\n",
    "\tFROM \n",
    "    {a}\n",
    "  WHERE \n",
    "     -- ln_disb_dtime >= '2023-07-01'\n",
    "    ln_appln_submit_datetime >= '2023-06-01'\n",
    "  -- AND\n",
    "  --   format_date('%Y-%m', ln_disb_dtime) = '2024-09'\n",
    "  AND\n",
    "    ln_fpd10_flag is not null\n",
    "  AND\n",
    "    beta_stack_score is not null\n",
    "  AND\n",
    "    ln_mature_fpd10_flag = 1\n",
    ")\n",
    "select * from sb_stack_score;\n",
    "\"\"\"\n",
    "\n",
    "df_sb_stack_scorefpd10 = client.query(sq).to_dataframe(progress_bar_type='tqdm')\n",
    "\n",
    "df_sb_stack_scorefpd10.head()"
   ]
  },
  {
   "cell_type": "code",
   "execution_count": 68,
   "metadata": {},
   "outputs": [
    {
     "name": "stdout",
     "output_type": "stream",
     "text": [
      "The shape of dataframe after copy is:\t(119, 7)\n"
     ]
    },
    {
     "name": "stderr",
     "output_type": "stream",
     "text": [
      "C:\\Users\\Dwaipayan\\AppData\\Local\\Temp\\ipykernel_53324\\1204584280.py:30: DeprecationWarning: DataFrameGroupBy.apply operated on the grouping columns. This behavior is deprecated, and in a future version of pandas the grouping columns will be excluded from the operation. Either pass `include_groups=False` to exclude the groupings or explicitly select the grouping columns after groupby to silence this warning.\n",
      "  weekly_gini = df.groupby('week').apply(\n",
      "C:\\Users\\Dwaipayan\\AppData\\Local\\Temp\\ipykernel_53324\\1204584280.py:41: DeprecationWarning: DataFrameGroupBy.apply operated on the grouping columns. This behavior is deprecated, and in a future version of pandas the grouping columns will be excluded from the operation. Either pass `include_groups=False` to exclude the groupings or explicitly select the grouping columns after groupby to silence this warning.\n",
      "  monthly_gini = df.groupby('month').apply(\n"
     ]
    },
    {
     "data": {
      "text/plain": [
       "array(['start_date', 'end_date', 'beta_stack_score_FPD10_gini', 'period',\n",
       "       'Model_Name', 'version', 'bad_rate'], dtype=object)"
      ]
     },
     "execution_count": 68,
     "metadata": {},
     "output_type": "execute_result"
    }
   ],
   "source": [
    "gini_results = calculate_periodic_gini(df_sb_stack_scorefpd10, 'beta_stack_score', 'ln_fpd10_flag', 'FPD10')\n",
    "M1FPD10 = gini_results.copy()\n",
    "print(f\"The shape of dataframe after copy is:\\t{M1FPD10.shape}\")\n",
    "M1FPD10.columns.values"
   ]
  },
  {
   "cell_type": "code",
   "execution_count": 69,
   "metadata": {},
   "outputs": [
    {
     "data": {
      "application/vnd.microsoft.datawrangler.viewer.v0+json": {
       "columns": [
        {
         "name": "index",
         "rawType": "object",
         "type": "string"
        },
        {
         "name": "start_date",
         "rawType": "object",
         "type": "unknown"
        },
        {
         "name": "end_date",
         "rawType": "object",
         "type": "unknown"
        },
        {
         "name": "beta_stack_score_FPD10_gini",
         "rawType": "float64",
         "type": "float"
        }
       ],
       "conversionMethod": "pd.DataFrame",
       "ref": "e233d98f-b44a-4adf-b2f9-6c016d6aaeae",
       "rows": [
        [
         "count",
         "119",
         "119",
         "119.0"
        ],
        [
         "mean",
         "2024-04-26 18:45:22.689075712",
         "2024-05-07 07:27:43.865546240",
         "0.33572224434535447"
        ],
        [
         "min",
         "2023-05-29 00:00:00",
         "2023-06-04 00:00:00",
         "-0.030303030303030276"
        ],
        [
         "25%",
         "2023-11-09 12:00:00",
         "2023-11-22 12:00:00",
         "0.29281635077833756"
        ],
        [
         "50%",
         "2024-04-29 00:00:00",
         "2024-05-05 00:00:00",
         "0.3210624496305774"
        ],
        [
         "75%",
         "2024-10-10 12:00:00",
         "2024-10-23 12:00:00",
         "0.4097058271744469"
        ],
        [
         "max",
         "2025-04-01 00:00:00",
         "2025-04-30 00:00:00",
         "0.670896785109983"
        ],
        [
         "std",
         null,
         null,
         "0.10161645120910207"
        ]
       ],
       "shape": {
        "columns": 3,
        "rows": 8
       }
      },
      "text/html": [
       "<div>\n",
       "<style scoped>\n",
       "    .dataframe tbody tr th:only-of-type {\n",
       "        vertical-align: middle;\n",
       "    }\n",
       "\n",
       "    .dataframe tbody tr th {\n",
       "        vertical-align: top;\n",
       "    }\n",
       "\n",
       "    .dataframe thead th {\n",
       "        text-align: right;\n",
       "    }\n",
       "</style>\n",
       "<table border=\"1\" class=\"dataframe\">\n",
       "  <thead>\n",
       "    <tr style=\"text-align: right;\">\n",
       "      <th></th>\n",
       "      <th>start_date</th>\n",
       "      <th>end_date</th>\n",
       "      <th>beta_stack_score_FPD10_gini</th>\n",
       "    </tr>\n",
       "  </thead>\n",
       "  <tbody>\n",
       "    <tr>\n",
       "      <th>count</th>\n",
       "      <td>119</td>\n",
       "      <td>119</td>\n",
       "      <td>119.000000</td>\n",
       "    </tr>\n",
       "    <tr>\n",
       "      <th>mean</th>\n",
       "      <td>2024-04-26 18:45:22.689075712</td>\n",
       "      <td>2024-05-07 07:27:43.865546240</td>\n",
       "      <td>0.335722</td>\n",
       "    </tr>\n",
       "    <tr>\n",
       "      <th>min</th>\n",
       "      <td>2023-05-29 00:00:00</td>\n",
       "      <td>2023-06-04 00:00:00</td>\n",
       "      <td>-0.030303</td>\n",
       "    </tr>\n",
       "    <tr>\n",
       "      <th>25%</th>\n",
       "      <td>2023-11-09 12:00:00</td>\n",
       "      <td>2023-11-22 12:00:00</td>\n",
       "      <td>0.292816</td>\n",
       "    </tr>\n",
       "    <tr>\n",
       "      <th>50%</th>\n",
       "      <td>2024-04-29 00:00:00</td>\n",
       "      <td>2024-05-05 00:00:00</td>\n",
       "      <td>0.321062</td>\n",
       "    </tr>\n",
       "    <tr>\n",
       "      <th>75%</th>\n",
       "      <td>2024-10-10 12:00:00</td>\n",
       "      <td>2024-10-23 12:00:00</td>\n",
       "      <td>0.409706</td>\n",
       "    </tr>\n",
       "    <tr>\n",
       "      <th>max</th>\n",
       "      <td>2025-04-01 00:00:00</td>\n",
       "      <td>2025-04-30 00:00:00</td>\n",
       "      <td>0.670897</td>\n",
       "    </tr>\n",
       "    <tr>\n",
       "      <th>std</th>\n",
       "      <td>NaN</td>\n",
       "      <td>NaN</td>\n",
       "      <td>0.101616</td>\n",
       "    </tr>\n",
       "  </tbody>\n",
       "</table>\n",
       "</div>"
      ],
      "text/plain": [
       "                          start_date                       end_date  \\\n",
       "count                            119                            119   \n",
       "mean   2024-04-26 18:45:22.689075712  2024-05-07 07:27:43.865546240   \n",
       "min              2023-05-29 00:00:00            2023-06-04 00:00:00   \n",
       "25%              2023-11-09 12:00:00            2023-11-22 12:00:00   \n",
       "50%              2024-04-29 00:00:00            2024-05-05 00:00:00   \n",
       "75%              2024-10-10 12:00:00            2024-10-23 12:00:00   \n",
       "max              2025-04-01 00:00:00            2025-04-30 00:00:00   \n",
       "std                              NaN                            NaN   \n",
       "\n",
       "       beta_stack_score_FPD10_gini  \n",
       "count                   119.000000  \n",
       "mean                      0.335722  \n",
       "min                      -0.030303  \n",
       "25%                       0.292816  \n",
       "50%                       0.321062  \n",
       "75%                       0.409706  \n",
       "max                       0.670897  \n",
       "std                       0.101616  "
      ]
     },
     "execution_count": 69,
     "metadata": {},
     "output_type": "execute_result"
    }
   ],
   "source": [
    "M1FPD10.describe()"
   ]
  },
  {
   "cell_type": "code",
   "execution_count": 70,
   "metadata": {},
   "outputs": [
    {
     "data": {
      "application/vnd.microsoft.datawrangler.viewer.v0+json": {
       "columns": [
        {
         "name": "index",
         "rawType": "int64",
         "type": "integer"
        },
        {
         "name": "start_date",
         "rawType": "datetime64[ns]",
         "type": "datetime"
        },
        {
         "name": "end_date",
         "rawType": "datetime64[ns]",
         "type": "datetime"
        },
        {
         "name": "beta_stack_score_FPD10_gini",
         "rawType": "float64",
         "type": "float"
        },
        {
         "name": "period",
         "rawType": "object",
         "type": "string"
        },
        {
         "name": "Model_Name",
         "rawType": "object",
         "type": "string"
        },
        {
         "name": "version",
         "rawType": "object",
         "type": "string"
        },
        {
         "name": "bad_rate",
         "rawType": "object",
         "type": "string"
        }
       ],
       "conversionMethod": "pd.DataFrame",
       "ref": "7802e089-9671-412c-9b48-a2d9e7cbbffa",
       "rows": [
        [
         "0",
         "2023-05-29 00:00:00",
         "2023-06-04 00:00:00",
         "0.5062552126772308",
         "Week",
         "beta_stack_score",
         "1.1.0",
         "FPD10"
        ],
        [
         "1",
         "2023-06-01 00:00:00",
         "2023-06-30 00:00:00",
         "0.3456683878370628",
         "Month",
         "beta_stack_score",
         "1.1.0",
         "FPD10"
        ],
        [
         "2",
         "2023-06-05 00:00:00",
         "2023-06-11 00:00:00",
         "0.40779907468605403",
         "Week",
         "beta_stack_score",
         "1.1.0",
         "FPD10"
        ],
        [
         "3",
         "2023-06-12 00:00:00",
         "2023-06-18 00:00:00",
         "0.670896785109983",
         "Week",
         "beta_stack_score",
         "1.1.0",
         "FPD10"
        ],
        [
         "4",
         "2023-06-19 00:00:00",
         "2023-06-25 00:00:00",
         "-0.030303030303030276",
         "Week",
         "beta_stack_score",
         "1.1.0",
         "FPD10"
        ]
       ],
       "shape": {
        "columns": 7,
        "rows": 5
       }
      },
      "text/html": [
       "<div>\n",
       "<style scoped>\n",
       "    .dataframe tbody tr th:only-of-type {\n",
       "        vertical-align: middle;\n",
       "    }\n",
       "\n",
       "    .dataframe tbody tr th {\n",
       "        vertical-align: top;\n",
       "    }\n",
       "\n",
       "    .dataframe thead th {\n",
       "        text-align: right;\n",
       "    }\n",
       "</style>\n",
       "<table border=\"1\" class=\"dataframe\">\n",
       "  <thead>\n",
       "    <tr style=\"text-align: right;\">\n",
       "      <th></th>\n",
       "      <th>start_date</th>\n",
       "      <th>end_date</th>\n",
       "      <th>beta_stack_score_FPD10_gini</th>\n",
       "      <th>period</th>\n",
       "      <th>Model_Name</th>\n",
       "      <th>version</th>\n",
       "      <th>bad_rate</th>\n",
       "    </tr>\n",
       "  </thead>\n",
       "  <tbody>\n",
       "    <tr>\n",
       "      <th>0</th>\n",
       "      <td>2023-05-29</td>\n",
       "      <td>2023-06-04</td>\n",
       "      <td>0.506255</td>\n",
       "      <td>Week</td>\n",
       "      <td>beta_stack_score</td>\n",
       "      <td>1.1.0</td>\n",
       "      <td>FPD10</td>\n",
       "    </tr>\n",
       "    <tr>\n",
       "      <th>1</th>\n",
       "      <td>2023-06-01</td>\n",
       "      <td>2023-06-30</td>\n",
       "      <td>0.345668</td>\n",
       "      <td>Month</td>\n",
       "      <td>beta_stack_score</td>\n",
       "      <td>1.1.0</td>\n",
       "      <td>FPD10</td>\n",
       "    </tr>\n",
       "    <tr>\n",
       "      <th>2</th>\n",
       "      <td>2023-06-05</td>\n",
       "      <td>2023-06-11</td>\n",
       "      <td>0.407799</td>\n",
       "      <td>Week</td>\n",
       "      <td>beta_stack_score</td>\n",
       "      <td>1.1.0</td>\n",
       "      <td>FPD10</td>\n",
       "    </tr>\n",
       "    <tr>\n",
       "      <th>3</th>\n",
       "      <td>2023-06-12</td>\n",
       "      <td>2023-06-18</td>\n",
       "      <td>0.670897</td>\n",
       "      <td>Week</td>\n",
       "      <td>beta_stack_score</td>\n",
       "      <td>1.1.0</td>\n",
       "      <td>FPD10</td>\n",
       "    </tr>\n",
       "    <tr>\n",
       "      <th>4</th>\n",
       "      <td>2023-06-19</td>\n",
       "      <td>2023-06-25</td>\n",
       "      <td>-0.030303</td>\n",
       "      <td>Week</td>\n",
       "      <td>beta_stack_score</td>\n",
       "      <td>1.1.0</td>\n",
       "      <td>FPD10</td>\n",
       "    </tr>\n",
       "  </tbody>\n",
       "</table>\n",
       "</div>"
      ],
      "text/plain": [
       "  start_date   end_date  beta_stack_score_FPD10_gini period        Model_Name  \\\n",
       "0 2023-05-29 2023-06-04                     0.506255   Week  beta_stack_score   \n",
       "1 2023-06-01 2023-06-30                     0.345668  Month  beta_stack_score   \n",
       "2 2023-06-05 2023-06-11                     0.407799   Week  beta_stack_score   \n",
       "3 2023-06-12 2023-06-18                     0.670897   Week  beta_stack_score   \n",
       "4 2023-06-19 2023-06-25                    -0.030303   Week  beta_stack_score   \n",
       "\n",
       "  version bad_rate  \n",
       "0   1.1.0    FPD10  \n",
       "1   1.1.0    FPD10  \n",
       "2   1.1.0    FPD10  \n",
       "3   1.1.0    FPD10  \n",
       "4   1.1.0    FPD10  "
      ]
     },
     "execution_count": 70,
     "metadata": {},
     "output_type": "execute_result"
    }
   ],
   "source": [
    "M1FPD10.head()"
   ]
  },
  {
   "cell_type": "markdown",
   "metadata": {},
   "source": [
    "## FPD30"
   ]
  },
  {
   "cell_type": "code",
   "execution_count": 71,
   "metadata": {},
   "outputs": [
    {
     "name": "stdout",
     "output_type": "stream",
     "text": [
      "Job ID bb0323a8-6d5f-424e-9e9a-164fcdae6079 successfully executed: 100%|\u001b[32m██████████\u001b[0m|"
     ]
    },
    {
     "name": "stderr",
     "output_type": "stream",
     "text": [
      "C:\\Users\\Dwaipayan\\AppData\\Roaming\\Python\\Python312\\site-packages\\google\\cloud\\bigquery\\table.py:1900: UserWarning: BigQuery Storage module not found, fetch data with the REST endpoint instead.\n",
      "  warnings.warn(\n"
     ]
    },
    {
     "name": "stdout",
     "output_type": "stream",
     "text": [
      "\n",
      "Downloading: 100%|\u001b[32m██████████\u001b[0m|\n"
     ]
    },
    {
     "data": {
      "application/vnd.microsoft.datawrangler.viewer.v0+json": {
       "columns": [
        {
         "name": "index",
         "rawType": "int64",
         "type": "integer"
        },
        {
         "name": "disbursementdate",
         "rawType": "datetime64[us]",
         "type": "unknown"
        },
        {
         "name": "digitalLoanAccountId",
         "rawType": "object",
         "type": "string"
        },
        {
         "name": "beta_stack_score",
         "rawType": "object",
         "type": "string"
        },
        {
         "name": "ln_fpd30_flag",
         "rawType": "Int64",
         "type": "integer"
        },
        {
         "name": "ln_mature_fpd30_flag",
         "rawType": "Int64",
         "type": "integer"
        }
       ],
       "conversionMethod": "pd.DataFrame",
       "ref": "efac6297-db9d-41f1-9101-806cb48fc6a9",
       "rows": [
        [
         "0",
         "2024-08-11 13:28:11",
         "d41da9d2-9d65-4f4f-bfb6-398eaa9d10e1",
         "0.085363783680695166",
         "0",
         "1"
        ],
        [
         "1",
         "2025-01-25 19:05:49",
         "e549776f-7a2d-4b6c-9edc-e3b59e8955f6",
         "0.05915638999664239",
         "0",
         "1"
        ],
        [
         "2",
         "2024-05-02 17:24:11",
         "9b118965-74ea-4832-a640-8b5ea2cc140e",
         "0.011422789655498342",
         "0",
         "1"
        ],
        [
         "3",
         "2024-02-26 15:08:47",
         "acebf8de-bd42-4b00-83bc-d7c0999a7488",
         "0.060377819961786504",
         "0",
         "1"
        ],
        [
         "4",
         "2024-09-15 09:21:50",
         "2f8156e6-5c5b-454c-92d9-628291e6f99e",
         "0.075345569189698688",
         "0",
         "1"
        ]
       ],
       "shape": {
        "columns": 5,
        "rows": 5
       }
      },
      "text/html": [
       "<div>\n",
       "<style scoped>\n",
       "    .dataframe tbody tr th:only-of-type {\n",
       "        vertical-align: middle;\n",
       "    }\n",
       "\n",
       "    .dataframe tbody tr th {\n",
       "        vertical-align: top;\n",
       "    }\n",
       "\n",
       "    .dataframe thead th {\n",
       "        text-align: right;\n",
       "    }\n",
       "</style>\n",
       "<table border=\"1\" class=\"dataframe\">\n",
       "  <thead>\n",
       "    <tr style=\"text-align: right;\">\n",
       "      <th></th>\n",
       "      <th>disbursementdate</th>\n",
       "      <th>digitalLoanAccountId</th>\n",
       "      <th>beta_stack_score</th>\n",
       "      <th>ln_fpd30_flag</th>\n",
       "      <th>ln_mature_fpd30_flag</th>\n",
       "    </tr>\n",
       "  </thead>\n",
       "  <tbody>\n",
       "    <tr>\n",
       "      <th>0</th>\n",
       "      <td>2024-08-11 13:28:11</td>\n",
       "      <td>d41da9d2-9d65-4f4f-bfb6-398eaa9d10e1</td>\n",
       "      <td>0.085363783680695166</td>\n",
       "      <td>0</td>\n",
       "      <td>1</td>\n",
       "    </tr>\n",
       "    <tr>\n",
       "      <th>1</th>\n",
       "      <td>2025-01-25 19:05:49</td>\n",
       "      <td>e549776f-7a2d-4b6c-9edc-e3b59e8955f6</td>\n",
       "      <td>0.05915638999664239</td>\n",
       "      <td>0</td>\n",
       "      <td>1</td>\n",
       "    </tr>\n",
       "    <tr>\n",
       "      <th>2</th>\n",
       "      <td>2024-05-02 17:24:11</td>\n",
       "      <td>9b118965-74ea-4832-a640-8b5ea2cc140e</td>\n",
       "      <td>0.011422789655498342</td>\n",
       "      <td>0</td>\n",
       "      <td>1</td>\n",
       "    </tr>\n",
       "    <tr>\n",
       "      <th>3</th>\n",
       "      <td>2024-02-26 15:08:47</td>\n",
       "      <td>acebf8de-bd42-4b00-83bc-d7c0999a7488</td>\n",
       "      <td>0.060377819961786504</td>\n",
       "      <td>0</td>\n",
       "      <td>1</td>\n",
       "    </tr>\n",
       "    <tr>\n",
       "      <th>4</th>\n",
       "      <td>2024-09-15 09:21:50</td>\n",
       "      <td>2f8156e6-5c5b-454c-92d9-628291e6f99e</td>\n",
       "      <td>0.075345569189698688</td>\n",
       "      <td>0</td>\n",
       "      <td>1</td>\n",
       "    </tr>\n",
       "  </tbody>\n",
       "</table>\n",
       "</div>"
      ],
      "text/plain": [
       "     disbursementdate                  digitalLoanAccountId  \\\n",
       "0 2024-08-11 13:28:11  d41da9d2-9d65-4f4f-bfb6-398eaa9d10e1   \n",
       "1 2025-01-25 19:05:49  e549776f-7a2d-4b6c-9edc-e3b59e8955f6   \n",
       "2 2024-05-02 17:24:11  9b118965-74ea-4832-a640-8b5ea2cc140e   \n",
       "3 2024-02-26 15:08:47  acebf8de-bd42-4b00-83bc-d7c0999a7488   \n",
       "4 2024-09-15 09:21:50  2f8156e6-5c5b-454c-92d9-628291e6f99e   \n",
       "\n",
       "       beta_stack_score  ln_fpd30_flag  ln_mature_fpd30_flag  \n",
       "0  0.085363783680695166              0                     1  \n",
       "1   0.05915638999664239              0                     1  \n",
       "2  0.011422789655498342              0                     1  \n",
       "3  0.060377819961786504              0                     1  \n",
       "4  0.075345569189698688              0                     1  "
      ]
     },
     "execution_count": 71,
     "metadata": {},
     "output_type": "execute_result"
    }
   ],
   "source": [
    "# sb_stack_score\n",
    "\n",
    "sq = f\"\"\"\n",
    "with sb_stack_score as \n",
    "(SELECT \n",
    "    ln_disb_dtime disbursementdate,\n",
    "\tdigitalLoanAccountId,\n",
    "    beta_stack_score,\n",
    "    ln_fpd30_flag,\n",
    "\tln_mature_fpd30_flag,\t\n",
    "\tFROM \n",
    "    {a}\n",
    "  WHERE \n",
    "     -- ln_disb_dtime >= '2023-07-01'\n",
    "    ln_appln_submit_datetime >= '2023-06-01'\n",
    "  -- AND\n",
    "  --   format_date('%Y-%m', ln_disb_dtime) = '2024-09'\n",
    "  AND\n",
    "    ln_fpd30_flag is not null\n",
    "  AND\n",
    "    beta_stack_score is not null\n",
    "  AND\n",
    "    ln_mature_fpd30_flag = 1\n",
    ")\n",
    "select * from sb_stack_score;\n",
    "\"\"\"\n",
    "\n",
    "df_sb_stack_scorefpd30 = client.query(sq).to_dataframe(progress_bar_type='tqdm')\n",
    "\n",
    "df_sb_stack_scorefpd30.head()"
   ]
  },
  {
   "cell_type": "code",
   "execution_count": 72,
   "metadata": {},
   "outputs": [
    {
     "name": "stderr",
     "output_type": "stream",
     "text": [
      "C:\\Users\\Dwaipayan\\AppData\\Local\\Temp\\ipykernel_53324\\1204584280.py:30: DeprecationWarning: DataFrameGroupBy.apply operated on the grouping columns. This behavior is deprecated, and in a future version of pandas the grouping columns will be excluded from the operation. Either pass `include_groups=False` to exclude the groupings or explicitly select the grouping columns after groupby to silence this warning.\n",
      "  weekly_gini = df.groupby('week').apply(\n"
     ]
    },
    {
     "name": "stdout",
     "output_type": "stream",
     "text": [
      "The shape of dataframe after copy is:\t(116, 7)\n"
     ]
    },
    {
     "name": "stderr",
     "output_type": "stream",
     "text": [
      "C:\\Users\\Dwaipayan\\AppData\\Local\\Temp\\ipykernel_53324\\1204584280.py:41: DeprecationWarning: DataFrameGroupBy.apply operated on the grouping columns. This behavior is deprecated, and in a future version of pandas the grouping columns will be excluded from the operation. Either pass `include_groups=False` to exclude the groupings or explicitly select the grouping columns after groupby to silence this warning.\n",
      "  monthly_gini = df.groupby('month').apply(\n"
     ]
    },
    {
     "data": {
      "text/plain": [
       "array(['start_date', 'end_date', 'beta_stack_score_FPD30_gini', 'period',\n",
       "       'Model_Name', 'version', 'bad_rate'], dtype=object)"
      ]
     },
     "execution_count": 72,
     "metadata": {},
     "output_type": "execute_result"
    }
   ],
   "source": [
    "gini_results = calculate_periodic_gini(df_sb_stack_scorefpd30, 'beta_stack_score', 'ln_fpd30_flag', 'FPD30')\n",
    "M2FPD30 = gini_results.copy()\n",
    "print(f\"The shape of dataframe after copy is:\\t{M2FPD30.shape}\")\n",
    "M2FPD30.columns.values"
   ]
  },
  {
   "cell_type": "code",
   "execution_count": 73,
   "metadata": {},
   "outputs": [
    {
     "data": {
      "application/vnd.microsoft.datawrangler.viewer.v0+json": {
       "columns": [
        {
         "name": "index",
         "rawType": "object",
         "type": "string"
        },
        {
         "name": "start_date",
         "rawType": "object",
         "type": "unknown"
        },
        {
         "name": "end_date",
         "rawType": "object",
         "type": "unknown"
        },
        {
         "name": "beta_stack_score_FPD30_gini",
         "rawType": "float64",
         "type": "float"
        }
       ],
       "conversionMethod": "pd.DataFrame",
       "ref": "65588e50-e0c9-4b41-bacd-951a27490096",
       "rows": [
        [
         "count",
         "116",
         "116",
         "116.0"
        ],
        [
         "mean",
         "2024-04-18 02:04:08.275862016",
         "2024-04-28 12:49:39.310344704",
         "0.3570557550879935"
        ],
        [
         "min",
         "2023-05-29 00:00:00",
         "2023-06-04 00:00:00",
         "-0.03614457831325302"
        ],
        [
         "25%",
         "2023-11-04 18:00:00",
         "2023-11-17 06:00:00",
         "0.3087080757909186"
        ],
        [
         "50%",
         "2024-04-18 12:00:00",
         "2024-04-29 00:00:00",
         "0.34735710573665746"
        ],
        [
         "75%",
         "2024-09-30 06:00:00",
         "2024-10-07 18:00:00",
         "0.41646213050915215"
        ],
        [
         "max",
         "2025-03-10 00:00:00",
         "2025-03-31 00:00:00",
         "0.6547291092745637"
        ],
        [
         "std",
         null,
         null,
         "0.09906364375772232"
        ]
       ],
       "shape": {
        "columns": 3,
        "rows": 8
       }
      },
      "text/html": [
       "<div>\n",
       "<style scoped>\n",
       "    .dataframe tbody tr th:only-of-type {\n",
       "        vertical-align: middle;\n",
       "    }\n",
       "\n",
       "    .dataframe tbody tr th {\n",
       "        vertical-align: top;\n",
       "    }\n",
       "\n",
       "    .dataframe thead th {\n",
       "        text-align: right;\n",
       "    }\n",
       "</style>\n",
       "<table border=\"1\" class=\"dataframe\">\n",
       "  <thead>\n",
       "    <tr style=\"text-align: right;\">\n",
       "      <th></th>\n",
       "      <th>start_date</th>\n",
       "      <th>end_date</th>\n",
       "      <th>beta_stack_score_FPD30_gini</th>\n",
       "    </tr>\n",
       "  </thead>\n",
       "  <tbody>\n",
       "    <tr>\n",
       "      <th>count</th>\n",
       "      <td>116</td>\n",
       "      <td>116</td>\n",
       "      <td>116.000000</td>\n",
       "    </tr>\n",
       "    <tr>\n",
       "      <th>mean</th>\n",
       "      <td>2024-04-18 02:04:08.275862016</td>\n",
       "      <td>2024-04-28 12:49:39.310344704</td>\n",
       "      <td>0.357056</td>\n",
       "    </tr>\n",
       "    <tr>\n",
       "      <th>min</th>\n",
       "      <td>2023-05-29 00:00:00</td>\n",
       "      <td>2023-06-04 00:00:00</td>\n",
       "      <td>-0.036145</td>\n",
       "    </tr>\n",
       "    <tr>\n",
       "      <th>25%</th>\n",
       "      <td>2023-11-04 18:00:00</td>\n",
       "      <td>2023-11-17 06:00:00</td>\n",
       "      <td>0.308708</td>\n",
       "    </tr>\n",
       "    <tr>\n",
       "      <th>50%</th>\n",
       "      <td>2024-04-18 12:00:00</td>\n",
       "      <td>2024-04-29 00:00:00</td>\n",
       "      <td>0.347357</td>\n",
       "    </tr>\n",
       "    <tr>\n",
       "      <th>75%</th>\n",
       "      <td>2024-09-30 06:00:00</td>\n",
       "      <td>2024-10-07 18:00:00</td>\n",
       "      <td>0.416462</td>\n",
       "    </tr>\n",
       "    <tr>\n",
       "      <th>max</th>\n",
       "      <td>2025-03-10 00:00:00</td>\n",
       "      <td>2025-03-31 00:00:00</td>\n",
       "      <td>0.654729</td>\n",
       "    </tr>\n",
       "    <tr>\n",
       "      <th>std</th>\n",
       "      <td>NaN</td>\n",
       "      <td>NaN</td>\n",
       "      <td>0.099064</td>\n",
       "    </tr>\n",
       "  </tbody>\n",
       "</table>\n",
       "</div>"
      ],
      "text/plain": [
       "                          start_date                       end_date  \\\n",
       "count                            116                            116   \n",
       "mean   2024-04-18 02:04:08.275862016  2024-04-28 12:49:39.310344704   \n",
       "min              2023-05-29 00:00:00            2023-06-04 00:00:00   \n",
       "25%              2023-11-04 18:00:00            2023-11-17 06:00:00   \n",
       "50%              2024-04-18 12:00:00            2024-04-29 00:00:00   \n",
       "75%              2024-09-30 06:00:00            2024-10-07 18:00:00   \n",
       "max              2025-03-10 00:00:00            2025-03-31 00:00:00   \n",
       "std                              NaN                            NaN   \n",
       "\n",
       "       beta_stack_score_FPD30_gini  \n",
       "count                   116.000000  \n",
       "mean                      0.357056  \n",
       "min                      -0.036145  \n",
       "25%                       0.308708  \n",
       "50%                       0.347357  \n",
       "75%                       0.416462  \n",
       "max                       0.654729  \n",
       "std                       0.099064  "
      ]
     },
     "execution_count": 73,
     "metadata": {},
     "output_type": "execute_result"
    }
   ],
   "source": [
    "M2FPD30.describe()"
   ]
  },
  {
   "cell_type": "code",
   "execution_count": 74,
   "metadata": {},
   "outputs": [
    {
     "data": {
      "application/vnd.microsoft.datawrangler.viewer.v0+json": {
       "columns": [
        {
         "name": "index",
         "rawType": "int64",
         "type": "integer"
        },
        {
         "name": "start_date",
         "rawType": "datetime64[ns]",
         "type": "datetime"
        },
        {
         "name": "end_date",
         "rawType": "datetime64[ns]",
         "type": "datetime"
        },
        {
         "name": "beta_stack_score_FPD30_gini",
         "rawType": "float64",
         "type": "float"
        },
        {
         "name": "period",
         "rawType": "object",
         "type": "string"
        },
        {
         "name": "Model_Name",
         "rawType": "object",
         "type": "string"
        },
        {
         "name": "version",
         "rawType": "object",
         "type": "string"
        },
        {
         "name": "bad_rate",
         "rawType": "object",
         "type": "string"
        }
       ],
       "conversionMethod": "pd.DataFrame",
       "ref": "172a1eec-ff09-4508-b276-3d536ac49bb3",
       "rows": [
        [
         "111",
         "2025-02-17 00:00:00",
         "2025-02-23 00:00:00",
         "0.33403440506309634",
         "Week",
         "beta_stack_score",
         "1.1.0",
         "FPD30"
        ],
        [
         "112",
         "2025-02-24 00:00:00",
         "2025-03-02 00:00:00",
         "0.3513100834216103",
         "Week",
         "beta_stack_score",
         "1.1.0",
         "FPD30"
        ],
        [
         "113",
         "2025-03-01 00:00:00",
         "2025-03-31 00:00:00",
         "0.30488285778598434",
         "Month",
         "beta_stack_score",
         "1.1.0",
         "FPD30"
        ],
        [
         "114",
         "2025-03-03 00:00:00",
         "2025-03-09 00:00:00",
         "0.2898756761886687",
         "Week",
         "beta_stack_score",
         "1.1.0",
         "FPD30"
        ],
        [
         "115",
         "2025-03-10 00:00:00",
         "2025-03-16 00:00:00",
         "0.0",
         "Week",
         "beta_stack_score",
         "1.1.0",
         "FPD30"
        ]
       ],
       "shape": {
        "columns": 7,
        "rows": 5
       }
      },
      "text/html": [
       "<div>\n",
       "<style scoped>\n",
       "    .dataframe tbody tr th:only-of-type {\n",
       "        vertical-align: middle;\n",
       "    }\n",
       "\n",
       "    .dataframe tbody tr th {\n",
       "        vertical-align: top;\n",
       "    }\n",
       "\n",
       "    .dataframe thead th {\n",
       "        text-align: right;\n",
       "    }\n",
       "</style>\n",
       "<table border=\"1\" class=\"dataframe\">\n",
       "  <thead>\n",
       "    <tr style=\"text-align: right;\">\n",
       "      <th></th>\n",
       "      <th>start_date</th>\n",
       "      <th>end_date</th>\n",
       "      <th>beta_stack_score_FPD30_gini</th>\n",
       "      <th>period</th>\n",
       "      <th>Model_Name</th>\n",
       "      <th>version</th>\n",
       "      <th>bad_rate</th>\n",
       "    </tr>\n",
       "  </thead>\n",
       "  <tbody>\n",
       "    <tr>\n",
       "      <th>111</th>\n",
       "      <td>2025-02-17</td>\n",
       "      <td>2025-02-23</td>\n",
       "      <td>0.334034</td>\n",
       "      <td>Week</td>\n",
       "      <td>beta_stack_score</td>\n",
       "      <td>1.1.0</td>\n",
       "      <td>FPD30</td>\n",
       "    </tr>\n",
       "    <tr>\n",
       "      <th>112</th>\n",
       "      <td>2025-02-24</td>\n",
       "      <td>2025-03-02</td>\n",
       "      <td>0.351310</td>\n",
       "      <td>Week</td>\n",
       "      <td>beta_stack_score</td>\n",
       "      <td>1.1.0</td>\n",
       "      <td>FPD30</td>\n",
       "    </tr>\n",
       "    <tr>\n",
       "      <th>113</th>\n",
       "      <td>2025-03-01</td>\n",
       "      <td>2025-03-31</td>\n",
       "      <td>0.304883</td>\n",
       "      <td>Month</td>\n",
       "      <td>beta_stack_score</td>\n",
       "      <td>1.1.0</td>\n",
       "      <td>FPD30</td>\n",
       "    </tr>\n",
       "    <tr>\n",
       "      <th>114</th>\n",
       "      <td>2025-03-03</td>\n",
       "      <td>2025-03-09</td>\n",
       "      <td>0.289876</td>\n",
       "      <td>Week</td>\n",
       "      <td>beta_stack_score</td>\n",
       "      <td>1.1.0</td>\n",
       "      <td>FPD30</td>\n",
       "    </tr>\n",
       "    <tr>\n",
       "      <th>115</th>\n",
       "      <td>2025-03-10</td>\n",
       "      <td>2025-03-16</td>\n",
       "      <td>0.000000</td>\n",
       "      <td>Week</td>\n",
       "      <td>beta_stack_score</td>\n",
       "      <td>1.1.0</td>\n",
       "      <td>FPD30</td>\n",
       "    </tr>\n",
       "  </tbody>\n",
       "</table>\n",
       "</div>"
      ],
      "text/plain": [
       "    start_date   end_date  beta_stack_score_FPD30_gini period  \\\n",
       "111 2025-02-17 2025-02-23                     0.334034   Week   \n",
       "112 2025-02-24 2025-03-02                     0.351310   Week   \n",
       "113 2025-03-01 2025-03-31                     0.304883  Month   \n",
       "114 2025-03-03 2025-03-09                     0.289876   Week   \n",
       "115 2025-03-10 2025-03-16                     0.000000   Week   \n",
       "\n",
       "           Model_Name version bad_rate  \n",
       "111  beta_stack_score   1.1.0    FPD30  \n",
       "112  beta_stack_score   1.1.0    FPD30  \n",
       "113  beta_stack_score   1.1.0    FPD30  \n",
       "114  beta_stack_score   1.1.0    FPD30  \n",
       "115  beta_stack_score   1.1.0    FPD30  "
      ]
     },
     "execution_count": 74,
     "metadata": {},
     "output_type": "execute_result"
    }
   ],
   "source": [
    "M2FPD30.tail()"
   ]
  },
  {
   "cell_type": "markdown",
   "metadata": {},
   "source": [
    "## FSPD30"
   ]
  },
  {
   "cell_type": "code",
   "execution_count": 75,
   "metadata": {},
   "outputs": [
    {
     "name": "stdout",
     "output_type": "stream",
     "text": [
      "Job ID 3bf94ae4-8b58-41e6-8f50-13231632e5ff successfully executed: 100%|\u001b[32m██████████\u001b[0m|"
     ]
    },
    {
     "name": "stderr",
     "output_type": "stream",
     "text": [
      "C:\\Users\\Dwaipayan\\AppData\\Roaming\\Python\\Python312\\site-packages\\google\\cloud\\bigquery\\table.py:1900: UserWarning: BigQuery Storage module not found, fetch data with the REST endpoint instead.\n",
      "  warnings.warn(\n"
     ]
    },
    {
     "name": "stdout",
     "output_type": "stream",
     "text": [
      "\n",
      "Downloading: 100%|\u001b[32m██████████\u001b[0m|\n"
     ]
    },
    {
     "data": {
      "application/vnd.microsoft.datawrangler.viewer.v0+json": {
       "columns": [
        {
         "name": "index",
         "rawType": "int64",
         "type": "integer"
        },
        {
         "name": "disbursementdate",
         "rawType": "datetime64[us]",
         "type": "unknown"
        },
        {
         "name": "digitalLoanAccountId",
         "rawType": "object",
         "type": "string"
        },
        {
         "name": "beta_stack_score",
         "rawType": "object",
         "type": "string"
        },
        {
         "name": "ln_fspd30_flag",
         "rawType": "Int64",
         "type": "integer"
        },
        {
         "name": "ln_mature_fspd30_flag",
         "rawType": "Int64",
         "type": "integer"
        }
       ],
       "conversionMethod": "pd.DataFrame",
       "ref": "3826eb47-fbea-400e-aa94-6a913c4b8148",
       "rows": [
        [
         "0",
         "2024-07-16 19:09:27",
         "a731f941-ed8a-4278-9ba4-1fd41132aa5e",
         "0.1079624429034287",
         "0",
         "1"
        ],
        [
         "1",
         "2024-11-24 18:45:09",
         "5be2f2c7-2401-48bc-a384-6f62c22866db",
         "0.097609274841853222",
         "0",
         "1"
        ],
        [
         "2",
         "2023-12-17 19:38:05",
         "0c97d2b7-3157-4f68-a502-636f59339b6d",
         "0.0093984609477240633",
         "0",
         "1"
        ],
        [
         "3",
         "2024-12-01 12:21:56",
         "1eac1869-c3c5-4ed8-aa58-aeb90c730784",
         "0.023456799806755153",
         "0",
         "1"
        ],
        [
         "4",
         "2024-10-26 15:36:19",
         "4085569c-fc38-485b-9eb9-87e23466e91e",
         "0.075726259678754751",
         "0",
         "1"
        ]
       ],
       "shape": {
        "columns": 5,
        "rows": 5
       }
      },
      "text/html": [
       "<div>\n",
       "<style scoped>\n",
       "    .dataframe tbody tr th:only-of-type {\n",
       "        vertical-align: middle;\n",
       "    }\n",
       "\n",
       "    .dataframe tbody tr th {\n",
       "        vertical-align: top;\n",
       "    }\n",
       "\n",
       "    .dataframe thead th {\n",
       "        text-align: right;\n",
       "    }\n",
       "</style>\n",
       "<table border=\"1\" class=\"dataframe\">\n",
       "  <thead>\n",
       "    <tr style=\"text-align: right;\">\n",
       "      <th></th>\n",
       "      <th>disbursementdate</th>\n",
       "      <th>digitalLoanAccountId</th>\n",
       "      <th>beta_stack_score</th>\n",
       "      <th>ln_fspd30_flag</th>\n",
       "      <th>ln_mature_fspd30_flag</th>\n",
       "    </tr>\n",
       "  </thead>\n",
       "  <tbody>\n",
       "    <tr>\n",
       "      <th>0</th>\n",
       "      <td>2024-07-16 19:09:27</td>\n",
       "      <td>a731f941-ed8a-4278-9ba4-1fd41132aa5e</td>\n",
       "      <td>0.1079624429034287</td>\n",
       "      <td>0</td>\n",
       "      <td>1</td>\n",
       "    </tr>\n",
       "    <tr>\n",
       "      <th>1</th>\n",
       "      <td>2024-11-24 18:45:09</td>\n",
       "      <td>5be2f2c7-2401-48bc-a384-6f62c22866db</td>\n",
       "      <td>0.097609274841853222</td>\n",
       "      <td>0</td>\n",
       "      <td>1</td>\n",
       "    </tr>\n",
       "    <tr>\n",
       "      <th>2</th>\n",
       "      <td>2023-12-17 19:38:05</td>\n",
       "      <td>0c97d2b7-3157-4f68-a502-636f59339b6d</td>\n",
       "      <td>0.0093984609477240633</td>\n",
       "      <td>0</td>\n",
       "      <td>1</td>\n",
       "    </tr>\n",
       "    <tr>\n",
       "      <th>3</th>\n",
       "      <td>2024-12-01 12:21:56</td>\n",
       "      <td>1eac1869-c3c5-4ed8-aa58-aeb90c730784</td>\n",
       "      <td>0.023456799806755153</td>\n",
       "      <td>0</td>\n",
       "      <td>1</td>\n",
       "    </tr>\n",
       "    <tr>\n",
       "      <th>4</th>\n",
       "      <td>2024-10-26 15:36:19</td>\n",
       "      <td>4085569c-fc38-485b-9eb9-87e23466e91e</td>\n",
       "      <td>0.075726259678754751</td>\n",
       "      <td>0</td>\n",
       "      <td>1</td>\n",
       "    </tr>\n",
       "  </tbody>\n",
       "</table>\n",
       "</div>"
      ],
      "text/plain": [
       "     disbursementdate                  digitalLoanAccountId  \\\n",
       "0 2024-07-16 19:09:27  a731f941-ed8a-4278-9ba4-1fd41132aa5e   \n",
       "1 2024-11-24 18:45:09  5be2f2c7-2401-48bc-a384-6f62c22866db   \n",
       "2 2023-12-17 19:38:05  0c97d2b7-3157-4f68-a502-636f59339b6d   \n",
       "3 2024-12-01 12:21:56  1eac1869-c3c5-4ed8-aa58-aeb90c730784   \n",
       "4 2024-10-26 15:36:19  4085569c-fc38-485b-9eb9-87e23466e91e   \n",
       "\n",
       "        beta_stack_score  ln_fspd30_flag  ln_mature_fspd30_flag  \n",
       "0     0.1079624429034287               0                      1  \n",
       "1   0.097609274841853222               0                      1  \n",
       "2  0.0093984609477240633               0                      1  \n",
       "3   0.023456799806755153               0                      1  \n",
       "4   0.075726259678754751               0                      1  "
      ]
     },
     "execution_count": 75,
     "metadata": {},
     "output_type": "execute_result"
    }
   ],
   "source": [
    "# sb_stack_score\n",
    "\n",
    "sq = f\"\"\"\n",
    "with sb_stack_score as \n",
    "(SELECT \n",
    "    ln_disb_dtime disbursementdate,\n",
    "\tdigitalLoanAccountId,\n",
    "    beta_stack_score,\n",
    "    ln_fspd30_flag,\n",
    "\tln_mature_fspd30_flag,\t\n",
    "\tFROM \n",
    "    {a}\n",
    "  WHERE \n",
    "     -- ln_disb_dtime >= '2023-07-01'\n",
    "    ln_appln_submit_datetime >= '2023-06-01'\n",
    "  -- AND\n",
    "  --   format_date('%Y-%m', ln_disb_dtime) = '2024-09'\n",
    "  AND\n",
    "    ln_fspd30_flag is not null\n",
    "  AND\n",
    "    beta_stack_score is not null\n",
    "  AND\n",
    "    ln_mature_fspd30_flag = 1\n",
    ")\n",
    "select * from sb_stack_score;\n",
    "\"\"\"\n",
    "\n",
    "df_sb_stack_scorefspd30 = client.query(sq).to_dataframe(progress_bar_type='tqdm')\n",
    "\n",
    "df_sb_stack_scorefspd30.head()"
   ]
  },
  {
   "cell_type": "code",
   "execution_count": 76,
   "metadata": {},
   "outputs": [
    {
     "name": "stderr",
     "output_type": "stream",
     "text": [
      "C:\\Users\\Dwaipayan\\AppData\\Local\\Temp\\ipykernel_53324\\1204584280.py:30: DeprecationWarning: DataFrameGroupBy.apply operated on the grouping columns. This behavior is deprecated, and in a future version of pandas the grouping columns will be excluded from the operation. Either pass `include_groups=False` to exclude the groupings or explicitly select the grouping columns after groupby to silence this warning.\n",
      "  weekly_gini = df.groupby('week').apply(\n"
     ]
    },
    {
     "name": "stdout",
     "output_type": "stream",
     "text": [
      "The shape of dataframe after copy is:\t(111, 7)\n"
     ]
    },
    {
     "name": "stderr",
     "output_type": "stream",
     "text": [
      "C:\\Users\\Dwaipayan\\AppData\\Local\\Temp\\ipykernel_53324\\1204584280.py:41: DeprecationWarning: DataFrameGroupBy.apply operated on the grouping columns. This behavior is deprecated, and in a future version of pandas the grouping columns will be excluded from the operation. Either pass `include_groups=False` to exclude the groupings or explicitly select the grouping columns after groupby to silence this warning.\n",
      "  monthly_gini = df.groupby('month').apply(\n"
     ]
    },
    {
     "data": {
      "text/plain": [
       "array(['start_date', 'end_date', 'beta_stack_score_FSPD30_gini', 'period',\n",
       "       'Model_Name', 'version', 'bad_rate'], dtype=object)"
      ]
     },
     "execution_count": 76,
     "metadata": {},
     "output_type": "execute_result"
    }
   ],
   "source": [
    "gini_results = calculate_periodic_gini(df_sb_stack_scorefspd30, 'beta_stack_score', 'ln_fspd30_flag', 'FSPD30')\n",
    "M3FSPD30 = gini_results.copy()\n",
    "print(f\"The shape of dataframe after copy is:\\t{M3FSPD30.shape}\")\n",
    "M3FSPD30.columns.values"
   ]
  },
  {
   "cell_type": "code",
   "execution_count": 77,
   "metadata": {},
   "outputs": [
    {
     "data": {
      "application/vnd.microsoft.datawrangler.viewer.v0+json": {
       "columns": [
        {
         "name": "index",
         "rawType": "object",
         "type": "string"
        },
        {
         "name": "start_date",
         "rawType": "object",
         "type": "unknown"
        },
        {
         "name": "end_date",
         "rawType": "object",
         "type": "unknown"
        },
        {
         "name": "beta_stack_score_FSPD30_gini",
         "rawType": "float64",
         "type": "float"
        }
       ],
       "conversionMethod": "pd.DataFrame",
       "ref": "b0f211d9-ae52-461e-bb26-bf71c2790ddf",
       "rows": [
        [
         "count",
         "111",
         "111",
         "111.0"
        ],
        [
         "mean",
         "2024-04-03 20:45:24.324324352",
         "2024-04-14 07:08:06.486486528",
         "0.36200426253602164"
        ],
        [
         "min",
         "2023-05-29 00:00:00",
         "2023-06-04 00:00:00",
         "0.17958089668615984"
        ],
        [
         "25%",
         "2023-10-31 00:00:00",
         "2023-11-08 12:00:00",
         "0.3131030377712175"
        ],
        [
         "50%",
         "2024-04-01 00:00:00",
         "2024-04-14 00:00:00",
         "0.3437931061977242"
        ],
        [
         "75%",
         "2024-09-05 12:00:00",
         "2024-09-18 12:00:00",
         "0.4180107859793879"
        ],
        [
         "max",
         "2025-02-10 00:00:00",
         "2025-02-28 00:00:00",
         "0.5518861209964412"
        ],
        [
         "std",
         null,
         null,
         "0.07584121320017757"
        ]
       ],
       "shape": {
        "columns": 3,
        "rows": 8
       }
      },
      "text/html": [
       "<div>\n",
       "<style scoped>\n",
       "    .dataframe tbody tr th:only-of-type {\n",
       "        vertical-align: middle;\n",
       "    }\n",
       "\n",
       "    .dataframe tbody tr th {\n",
       "        vertical-align: top;\n",
       "    }\n",
       "\n",
       "    .dataframe thead th {\n",
       "        text-align: right;\n",
       "    }\n",
       "</style>\n",
       "<table border=\"1\" class=\"dataframe\">\n",
       "  <thead>\n",
       "    <tr style=\"text-align: right;\">\n",
       "      <th></th>\n",
       "      <th>start_date</th>\n",
       "      <th>end_date</th>\n",
       "      <th>beta_stack_score_FSPD30_gini</th>\n",
       "    </tr>\n",
       "  </thead>\n",
       "  <tbody>\n",
       "    <tr>\n",
       "      <th>count</th>\n",
       "      <td>111</td>\n",
       "      <td>111</td>\n",
       "      <td>111.000000</td>\n",
       "    </tr>\n",
       "    <tr>\n",
       "      <th>mean</th>\n",
       "      <td>2024-04-03 20:45:24.324324352</td>\n",
       "      <td>2024-04-14 07:08:06.486486528</td>\n",
       "      <td>0.362004</td>\n",
       "    </tr>\n",
       "    <tr>\n",
       "      <th>min</th>\n",
       "      <td>2023-05-29 00:00:00</td>\n",
       "      <td>2023-06-04 00:00:00</td>\n",
       "      <td>0.179581</td>\n",
       "    </tr>\n",
       "    <tr>\n",
       "      <th>25%</th>\n",
       "      <td>2023-10-31 00:00:00</td>\n",
       "      <td>2023-11-08 12:00:00</td>\n",
       "      <td>0.313103</td>\n",
       "    </tr>\n",
       "    <tr>\n",
       "      <th>50%</th>\n",
       "      <td>2024-04-01 00:00:00</td>\n",
       "      <td>2024-04-14 00:00:00</td>\n",
       "      <td>0.343793</td>\n",
       "    </tr>\n",
       "    <tr>\n",
       "      <th>75%</th>\n",
       "      <td>2024-09-05 12:00:00</td>\n",
       "      <td>2024-09-18 12:00:00</td>\n",
       "      <td>0.418011</td>\n",
       "    </tr>\n",
       "    <tr>\n",
       "      <th>max</th>\n",
       "      <td>2025-02-10 00:00:00</td>\n",
       "      <td>2025-02-28 00:00:00</td>\n",
       "      <td>0.551886</td>\n",
       "    </tr>\n",
       "    <tr>\n",
       "      <th>std</th>\n",
       "      <td>NaN</td>\n",
       "      <td>NaN</td>\n",
       "      <td>0.075841</td>\n",
       "    </tr>\n",
       "  </tbody>\n",
       "</table>\n",
       "</div>"
      ],
      "text/plain": [
       "                          start_date                       end_date  \\\n",
       "count                            111                            111   \n",
       "mean   2024-04-03 20:45:24.324324352  2024-04-14 07:08:06.486486528   \n",
       "min              2023-05-29 00:00:00            2023-06-04 00:00:00   \n",
       "25%              2023-10-31 00:00:00            2023-11-08 12:00:00   \n",
       "50%              2024-04-01 00:00:00            2024-04-14 00:00:00   \n",
       "75%              2024-09-05 12:00:00            2024-09-18 12:00:00   \n",
       "max              2025-02-10 00:00:00            2025-02-28 00:00:00   \n",
       "std                              NaN                            NaN   \n",
       "\n",
       "       beta_stack_score_FSPD30_gini  \n",
       "count                    111.000000  \n",
       "mean                       0.362004  \n",
       "min                        0.179581  \n",
       "25%                        0.313103  \n",
       "50%                        0.343793  \n",
       "75%                        0.418011  \n",
       "max                        0.551886  \n",
       "std                        0.075841  "
      ]
     },
     "execution_count": 77,
     "metadata": {},
     "output_type": "execute_result"
    }
   ],
   "source": [
    "M3FSPD30.describe()"
   ]
  },
  {
   "cell_type": "code",
   "execution_count": 78,
   "metadata": {},
   "outputs": [
    {
     "data": {
      "application/vnd.microsoft.datawrangler.viewer.v0+json": {
       "columns": [
        {
         "name": "index",
         "rawType": "int64",
         "type": "integer"
        },
        {
         "name": "start_date",
         "rawType": "datetime64[ns]",
         "type": "datetime"
        },
        {
         "name": "end_date",
         "rawType": "datetime64[ns]",
         "type": "datetime"
        },
        {
         "name": "beta_stack_score_FSPD30_gini",
         "rawType": "float64",
         "type": "float"
        },
        {
         "name": "period",
         "rawType": "object",
         "type": "string"
        },
        {
         "name": "Model_Name",
         "rawType": "object",
         "type": "string"
        },
        {
         "name": "version",
         "rawType": "object",
         "type": "string"
        },
        {
         "name": "bad_rate",
         "rawType": "object",
         "type": "string"
        }
       ],
       "conversionMethod": "pd.DataFrame",
       "ref": "9075544d-aa69-426f-8275-fb101edc063e",
       "rows": [
        [
         "106",
         "2025-01-20 00:00:00",
         "2025-01-26 00:00:00",
         "0.3185659855385108",
         "Week",
         "beta_stack_score",
         "1.1.0",
         "FSPD30"
        ],
        [
         "107",
         "2025-01-27 00:00:00",
         "2025-02-02 00:00:00",
         "0.3130464144740288",
         "Week",
         "beta_stack_score",
         "1.1.0",
         "FSPD30"
        ],
        [
         "108",
         "2025-02-01 00:00:00",
         "2025-02-28 00:00:00",
         "0.3406772575250836",
         "Month",
         "beta_stack_score",
         "1.1.0",
         "FSPD30"
        ],
        [
         "109",
         "2025-02-03 00:00:00",
         "2025-02-09 00:00:00",
         "0.3428379667739281",
         "Week",
         "beta_stack_score",
         "1.1.0",
         "FSPD30"
        ],
        [
         "110",
         "2025-02-10 00:00:00",
         "2025-02-16 00:00:00",
         "0.3712727966160463",
         "Week",
         "beta_stack_score",
         "1.1.0",
         "FSPD30"
        ]
       ],
       "shape": {
        "columns": 7,
        "rows": 5
       }
      },
      "text/html": [
       "<div>\n",
       "<style scoped>\n",
       "    .dataframe tbody tr th:only-of-type {\n",
       "        vertical-align: middle;\n",
       "    }\n",
       "\n",
       "    .dataframe tbody tr th {\n",
       "        vertical-align: top;\n",
       "    }\n",
       "\n",
       "    .dataframe thead th {\n",
       "        text-align: right;\n",
       "    }\n",
       "</style>\n",
       "<table border=\"1\" class=\"dataframe\">\n",
       "  <thead>\n",
       "    <tr style=\"text-align: right;\">\n",
       "      <th></th>\n",
       "      <th>start_date</th>\n",
       "      <th>end_date</th>\n",
       "      <th>beta_stack_score_FSPD30_gini</th>\n",
       "      <th>period</th>\n",
       "      <th>Model_Name</th>\n",
       "      <th>version</th>\n",
       "      <th>bad_rate</th>\n",
       "    </tr>\n",
       "  </thead>\n",
       "  <tbody>\n",
       "    <tr>\n",
       "      <th>106</th>\n",
       "      <td>2025-01-20</td>\n",
       "      <td>2025-01-26</td>\n",
       "      <td>0.318566</td>\n",
       "      <td>Week</td>\n",
       "      <td>beta_stack_score</td>\n",
       "      <td>1.1.0</td>\n",
       "      <td>FSPD30</td>\n",
       "    </tr>\n",
       "    <tr>\n",
       "      <th>107</th>\n",
       "      <td>2025-01-27</td>\n",
       "      <td>2025-02-02</td>\n",
       "      <td>0.313046</td>\n",
       "      <td>Week</td>\n",
       "      <td>beta_stack_score</td>\n",
       "      <td>1.1.0</td>\n",
       "      <td>FSPD30</td>\n",
       "    </tr>\n",
       "    <tr>\n",
       "      <th>108</th>\n",
       "      <td>2025-02-01</td>\n",
       "      <td>2025-02-28</td>\n",
       "      <td>0.340677</td>\n",
       "      <td>Month</td>\n",
       "      <td>beta_stack_score</td>\n",
       "      <td>1.1.0</td>\n",
       "      <td>FSPD30</td>\n",
       "    </tr>\n",
       "    <tr>\n",
       "      <th>109</th>\n",
       "      <td>2025-02-03</td>\n",
       "      <td>2025-02-09</td>\n",
       "      <td>0.342838</td>\n",
       "      <td>Week</td>\n",
       "      <td>beta_stack_score</td>\n",
       "      <td>1.1.0</td>\n",
       "      <td>FSPD30</td>\n",
       "    </tr>\n",
       "    <tr>\n",
       "      <th>110</th>\n",
       "      <td>2025-02-10</td>\n",
       "      <td>2025-02-16</td>\n",
       "      <td>0.371273</td>\n",
       "      <td>Week</td>\n",
       "      <td>beta_stack_score</td>\n",
       "      <td>1.1.0</td>\n",
       "      <td>FSPD30</td>\n",
       "    </tr>\n",
       "  </tbody>\n",
       "</table>\n",
       "</div>"
      ],
      "text/plain": [
       "    start_date   end_date  beta_stack_score_FSPD30_gini period  \\\n",
       "106 2025-01-20 2025-01-26                      0.318566   Week   \n",
       "107 2025-01-27 2025-02-02                      0.313046   Week   \n",
       "108 2025-02-01 2025-02-28                      0.340677  Month   \n",
       "109 2025-02-03 2025-02-09                      0.342838   Week   \n",
       "110 2025-02-10 2025-02-16                      0.371273   Week   \n",
       "\n",
       "           Model_Name version bad_rate  \n",
       "106  beta_stack_score   1.1.0   FSPD30  \n",
       "107  beta_stack_score   1.1.0   FSPD30  \n",
       "108  beta_stack_score   1.1.0   FSPD30  \n",
       "109  beta_stack_score   1.1.0   FSPD30  \n",
       "110  beta_stack_score   1.1.0   FSPD30  "
      ]
     },
     "execution_count": 78,
     "metadata": {},
     "output_type": "execute_result"
    }
   ],
   "source": [
    "M3FSPD30.tail()"
   ]
  },
  {
   "cell_type": "markdown",
   "metadata": {},
   "source": [
    "## FSTPD30"
   ]
  },
  {
   "cell_type": "code",
   "execution_count": 79,
   "metadata": {},
   "outputs": [
    {
     "name": "stdout",
     "output_type": "stream",
     "text": [
      "Job ID 56b476d5-c4f3-46fc-8fa1-2d847a49039d successfully executed: 100%|\u001b[32m██████████\u001b[0m|"
     ]
    },
    {
     "name": "stderr",
     "output_type": "stream",
     "text": [
      "C:\\Users\\Dwaipayan\\AppData\\Roaming\\Python\\Python312\\site-packages\\google\\cloud\\bigquery\\table.py:1900: UserWarning: BigQuery Storage module not found, fetch data with the REST endpoint instead.\n",
      "  warnings.warn(\n"
     ]
    },
    {
     "name": "stdout",
     "output_type": "stream",
     "text": [
      "\n",
      "Downloading: 100%|\u001b[32m██████████\u001b[0m|\n"
     ]
    },
    {
     "data": {
      "application/vnd.microsoft.datawrangler.viewer.v0+json": {
       "columns": [
        {
         "name": "index",
         "rawType": "int64",
         "type": "integer"
        },
        {
         "name": "disbursementdate",
         "rawType": "datetime64[us]",
         "type": "unknown"
        },
        {
         "name": "digitalLoanAccountId",
         "rawType": "object",
         "type": "string"
        },
        {
         "name": "beta_stack_score",
         "rawType": "object",
         "type": "string"
        },
        {
         "name": "ln_fstpd30_flag",
         "rawType": "Int64",
         "type": "integer"
        },
        {
         "name": "ln_mature_fstpd30_flag",
         "rawType": "Int64",
         "type": "integer"
        }
       ],
       "conversionMethod": "pd.DataFrame",
       "ref": "36e5fecc-417b-494b-b2b2-ff3ecd785ad2",
       "rows": [
        [
         "0",
         "2024-08-11 13:28:11",
         "d41da9d2-9d65-4f4f-bfb6-398eaa9d10e1",
         "0.085363783680695166",
         "0",
         "1"
        ],
        [
         "1",
         "2024-05-02 17:24:11",
         "9b118965-74ea-4832-a640-8b5ea2cc140e",
         "0.011422789655498342",
         "0",
         "1"
        ],
        [
         "2",
         "2024-02-26 15:08:47",
         "acebf8de-bd42-4b00-83bc-d7c0999a7488",
         "0.060377819961786504",
         "0",
         "1"
        ],
        [
         "3",
         "2024-09-15 09:21:50",
         "2f8156e6-5c5b-454c-92d9-628291e6f99e",
         "0.075345569189698688",
         "0",
         "1"
        ],
        [
         "4",
         "2024-06-14 13:20:28",
         "5f412bbb-9b17-4761-8023-1a08640ad81c",
         "0.050555582767076924",
         "0",
         "1"
        ]
       ],
       "shape": {
        "columns": 5,
        "rows": 5
       }
      },
      "text/html": [
       "<div>\n",
       "<style scoped>\n",
       "    .dataframe tbody tr th:only-of-type {\n",
       "        vertical-align: middle;\n",
       "    }\n",
       "\n",
       "    .dataframe tbody tr th {\n",
       "        vertical-align: top;\n",
       "    }\n",
       "\n",
       "    .dataframe thead th {\n",
       "        text-align: right;\n",
       "    }\n",
       "</style>\n",
       "<table border=\"1\" class=\"dataframe\">\n",
       "  <thead>\n",
       "    <tr style=\"text-align: right;\">\n",
       "      <th></th>\n",
       "      <th>disbursementdate</th>\n",
       "      <th>digitalLoanAccountId</th>\n",
       "      <th>beta_stack_score</th>\n",
       "      <th>ln_fstpd30_flag</th>\n",
       "      <th>ln_mature_fstpd30_flag</th>\n",
       "    </tr>\n",
       "  </thead>\n",
       "  <tbody>\n",
       "    <tr>\n",
       "      <th>0</th>\n",
       "      <td>2024-08-11 13:28:11</td>\n",
       "      <td>d41da9d2-9d65-4f4f-bfb6-398eaa9d10e1</td>\n",
       "      <td>0.085363783680695166</td>\n",
       "      <td>0</td>\n",
       "      <td>1</td>\n",
       "    </tr>\n",
       "    <tr>\n",
       "      <th>1</th>\n",
       "      <td>2024-05-02 17:24:11</td>\n",
       "      <td>9b118965-74ea-4832-a640-8b5ea2cc140e</td>\n",
       "      <td>0.011422789655498342</td>\n",
       "      <td>0</td>\n",
       "      <td>1</td>\n",
       "    </tr>\n",
       "    <tr>\n",
       "      <th>2</th>\n",
       "      <td>2024-02-26 15:08:47</td>\n",
       "      <td>acebf8de-bd42-4b00-83bc-d7c0999a7488</td>\n",
       "      <td>0.060377819961786504</td>\n",
       "      <td>0</td>\n",
       "      <td>1</td>\n",
       "    </tr>\n",
       "    <tr>\n",
       "      <th>3</th>\n",
       "      <td>2024-09-15 09:21:50</td>\n",
       "      <td>2f8156e6-5c5b-454c-92d9-628291e6f99e</td>\n",
       "      <td>0.075345569189698688</td>\n",
       "      <td>0</td>\n",
       "      <td>1</td>\n",
       "    </tr>\n",
       "    <tr>\n",
       "      <th>4</th>\n",
       "      <td>2024-06-14 13:20:28</td>\n",
       "      <td>5f412bbb-9b17-4761-8023-1a08640ad81c</td>\n",
       "      <td>0.050555582767076924</td>\n",
       "      <td>0</td>\n",
       "      <td>1</td>\n",
       "    </tr>\n",
       "  </tbody>\n",
       "</table>\n",
       "</div>"
      ],
      "text/plain": [
       "     disbursementdate                  digitalLoanAccountId  \\\n",
       "0 2024-08-11 13:28:11  d41da9d2-9d65-4f4f-bfb6-398eaa9d10e1   \n",
       "1 2024-05-02 17:24:11  9b118965-74ea-4832-a640-8b5ea2cc140e   \n",
       "2 2024-02-26 15:08:47  acebf8de-bd42-4b00-83bc-d7c0999a7488   \n",
       "3 2024-09-15 09:21:50  2f8156e6-5c5b-454c-92d9-628291e6f99e   \n",
       "4 2024-06-14 13:20:28  5f412bbb-9b17-4761-8023-1a08640ad81c   \n",
       "\n",
       "       beta_stack_score  ln_fstpd30_flag  ln_mature_fstpd30_flag  \n",
       "0  0.085363783680695166                0                       1  \n",
       "1  0.011422789655498342                0                       1  \n",
       "2  0.060377819961786504                0                       1  \n",
       "3  0.075345569189698688                0                       1  \n",
       "4  0.050555582767076924                0                       1  "
      ]
     },
     "execution_count": 79,
     "metadata": {},
     "output_type": "execute_result"
    }
   ],
   "source": [
    "# sb_stack_score\n",
    "\n",
    "sq = f\"\"\"\n",
    "with sb_stack_score as \n",
    "(SELECT \n",
    "    ln_disb_dtime disbursementdate,\n",
    "\tdigitalLoanAccountId,\n",
    "    beta_stack_score,\n",
    "    ln_fstpd30_flag,\n",
    "\tln_mature_fstpd30_flag,\t\n",
    "\tFROM \n",
    "    {a}\n",
    "  WHERE \n",
    "     -- ln_disb_dtime >= '2023-07-01'\n",
    "    ln_appln_submit_datetime >= '2023-06-01'\n",
    "  -- AND\n",
    "  --   format_date('%Y-%m', ln_disb_dtime) = '2024-09'\n",
    "  AND\n",
    "    ln_fstpd30_flag is not null\n",
    "  AND\n",
    "    beta_stack_score is not null\n",
    "  AND\n",
    "    ln_mature_fstpd30_flag = 1\n",
    ")\n",
    "select * from sb_stack_score;\n",
    "\"\"\"\n",
    "\n",
    "df_sb_stack_scorefstpd30 = client.query(sq).to_dataframe(progress_bar_type='tqdm')\n",
    "\n",
    "df_sb_stack_scorefstpd30.head()"
   ]
  },
  {
   "cell_type": "code",
   "execution_count": 80,
   "metadata": {},
   "outputs": [
    {
     "name": "stdout",
     "output_type": "stream",
     "text": [
      "The shape of dataframe after copy is:\t(106, 7)\n"
     ]
    },
    {
     "name": "stderr",
     "output_type": "stream",
     "text": [
      "C:\\Users\\Dwaipayan\\AppData\\Local\\Temp\\ipykernel_53324\\1204584280.py:30: DeprecationWarning: DataFrameGroupBy.apply operated on the grouping columns. This behavior is deprecated, and in a future version of pandas the grouping columns will be excluded from the operation. Either pass `include_groups=False` to exclude the groupings or explicitly select the grouping columns after groupby to silence this warning.\n",
      "  weekly_gini = df.groupby('week').apply(\n",
      "C:\\Users\\Dwaipayan\\AppData\\Local\\Temp\\ipykernel_53324\\1204584280.py:41: DeprecationWarning: DataFrameGroupBy.apply operated on the grouping columns. This behavior is deprecated, and in a future version of pandas the grouping columns will be excluded from the operation. Either pass `include_groups=False` to exclude the groupings or explicitly select the grouping columns after groupby to silence this warning.\n",
      "  monthly_gini = df.groupby('month').apply(\n"
     ]
    },
    {
     "data": {
      "text/plain": [
       "array(['start_date', 'end_date', 'beta_stack_score_FSTPD30_gini',\n",
       "       'period', 'Model_Name', 'version', 'bad_rate'], dtype=object)"
      ]
     },
     "execution_count": 80,
     "metadata": {},
     "output_type": "execute_result"
    }
   ],
   "source": [
    "gini_results = calculate_periodic_gini(df_sb_stack_scorefstpd30, 'beta_stack_score', 'ln_fstpd30_flag', 'FSTPD30')\n",
    "M4FSTPD30 = gini_results.copy()\n",
    "print(f\"The shape of dataframe after copy is:\\t{M4FSTPD30.shape}\")\n",
    "M4FSTPD30.columns.values"
   ]
  },
  {
   "cell_type": "code",
   "execution_count": 81,
   "metadata": {},
   "outputs": [
    {
     "data": {
      "application/vnd.microsoft.datawrangler.viewer.v0+json": {
       "columns": [
        {
         "name": "index",
         "rawType": "object",
         "type": "string"
        },
        {
         "name": "start_date",
         "rawType": "object",
         "type": "unknown"
        },
        {
         "name": "end_date",
         "rawType": "object",
         "type": "unknown"
        },
        {
         "name": "beta_stack_score_FSTPD30_gini",
         "rawType": "float64",
         "type": "float"
        }
       ],
       "conversionMethod": "pd.DataFrame",
       "ref": "20562a6b-33f8-42fb-850b-85b8b95c0b10",
       "rows": [
        [
         "count",
         "106",
         "106",
         "106.0"
        ],
        [
         "mean",
         "2024-03-20 14:56:36.226415104",
         "2024-03-31 01:35:05.660377344",
         "0.33865812080022173"
        ],
        [
         "min",
         "2023-05-29 00:00:00",
         "2023-06-04 00:00:00",
         "0.16005733397037747"
        ],
        [
         "25%",
         "2023-10-24 18:00:00",
         "2023-11-01 06:00:00",
         "0.29842075805265394"
        ],
        [
         "50%",
         "2024-03-21 12:00:00",
         "2024-03-31 00:00:00",
         "0.3274047879170555"
        ],
        [
         "75%",
         "2024-08-17 06:00:00",
         "2024-08-29 12:00:00",
         "0.3836269270695109"
        ],
        [
         "max",
         "2025-01-13 00:00:00",
         "2025-01-31 00:00:00",
         "0.5001325071312928"
        ],
        [
         "std",
         null,
         null,
         "0.05991006707411663"
        ]
       ],
       "shape": {
        "columns": 3,
        "rows": 8
       }
      },
      "text/html": [
       "<div>\n",
       "<style scoped>\n",
       "    .dataframe tbody tr th:only-of-type {\n",
       "        vertical-align: middle;\n",
       "    }\n",
       "\n",
       "    .dataframe tbody tr th {\n",
       "        vertical-align: top;\n",
       "    }\n",
       "\n",
       "    .dataframe thead th {\n",
       "        text-align: right;\n",
       "    }\n",
       "</style>\n",
       "<table border=\"1\" class=\"dataframe\">\n",
       "  <thead>\n",
       "    <tr style=\"text-align: right;\">\n",
       "      <th></th>\n",
       "      <th>start_date</th>\n",
       "      <th>end_date</th>\n",
       "      <th>beta_stack_score_FSTPD30_gini</th>\n",
       "    </tr>\n",
       "  </thead>\n",
       "  <tbody>\n",
       "    <tr>\n",
       "      <th>count</th>\n",
       "      <td>106</td>\n",
       "      <td>106</td>\n",
       "      <td>106.000000</td>\n",
       "    </tr>\n",
       "    <tr>\n",
       "      <th>mean</th>\n",
       "      <td>2024-03-20 14:56:36.226415104</td>\n",
       "      <td>2024-03-31 01:35:05.660377344</td>\n",
       "      <td>0.338658</td>\n",
       "    </tr>\n",
       "    <tr>\n",
       "      <th>min</th>\n",
       "      <td>2023-05-29 00:00:00</td>\n",
       "      <td>2023-06-04 00:00:00</td>\n",
       "      <td>0.160057</td>\n",
       "    </tr>\n",
       "    <tr>\n",
       "      <th>25%</th>\n",
       "      <td>2023-10-24 18:00:00</td>\n",
       "      <td>2023-11-01 06:00:00</td>\n",
       "      <td>0.298421</td>\n",
       "    </tr>\n",
       "    <tr>\n",
       "      <th>50%</th>\n",
       "      <td>2024-03-21 12:00:00</td>\n",
       "      <td>2024-03-31 00:00:00</td>\n",
       "      <td>0.327405</td>\n",
       "    </tr>\n",
       "    <tr>\n",
       "      <th>75%</th>\n",
       "      <td>2024-08-17 06:00:00</td>\n",
       "      <td>2024-08-29 12:00:00</td>\n",
       "      <td>0.383627</td>\n",
       "    </tr>\n",
       "    <tr>\n",
       "      <th>max</th>\n",
       "      <td>2025-01-13 00:00:00</td>\n",
       "      <td>2025-01-31 00:00:00</td>\n",
       "      <td>0.500133</td>\n",
       "    </tr>\n",
       "    <tr>\n",
       "      <th>std</th>\n",
       "      <td>NaN</td>\n",
       "      <td>NaN</td>\n",
       "      <td>0.059910</td>\n",
       "    </tr>\n",
       "  </tbody>\n",
       "</table>\n",
       "</div>"
      ],
      "text/plain": [
       "                          start_date                       end_date  \\\n",
       "count                            106                            106   \n",
       "mean   2024-03-20 14:56:36.226415104  2024-03-31 01:35:05.660377344   \n",
       "min              2023-05-29 00:00:00            2023-06-04 00:00:00   \n",
       "25%              2023-10-24 18:00:00            2023-11-01 06:00:00   \n",
       "50%              2024-03-21 12:00:00            2024-03-31 00:00:00   \n",
       "75%              2024-08-17 06:00:00            2024-08-29 12:00:00   \n",
       "max              2025-01-13 00:00:00            2025-01-31 00:00:00   \n",
       "std                              NaN                            NaN   \n",
       "\n",
       "       beta_stack_score_FSTPD30_gini  \n",
       "count                     106.000000  \n",
       "mean                        0.338658  \n",
       "min                         0.160057  \n",
       "25%                         0.298421  \n",
       "50%                         0.327405  \n",
       "75%                         0.383627  \n",
       "max                         0.500133  \n",
       "std                         0.059910  "
      ]
     },
     "execution_count": 81,
     "metadata": {},
     "output_type": "execute_result"
    }
   ],
   "source": [
    "M4FSTPD30.describe()"
   ]
  },
  {
   "cell_type": "code",
   "execution_count": 82,
   "metadata": {},
   "outputs": [
    {
     "data": {
      "application/vnd.microsoft.datawrangler.viewer.v0+json": {
       "columns": [
        {
         "name": "index",
         "rawType": "int64",
         "type": "integer"
        },
        {
         "name": "start_date",
         "rawType": "datetime64[ns]",
         "type": "datetime"
        },
        {
         "name": "end_date",
         "rawType": "datetime64[ns]",
         "type": "datetime"
        },
        {
         "name": "beta_stack_score_FSTPD30_gini",
         "rawType": "float64",
         "type": "float"
        },
        {
         "name": "period",
         "rawType": "object",
         "type": "string"
        },
        {
         "name": "Model_Name",
         "rawType": "object",
         "type": "string"
        },
        {
         "name": "version",
         "rawType": "object",
         "type": "string"
        },
        {
         "name": "bad_rate",
         "rawType": "object",
         "type": "string"
        }
       ],
       "conversionMethod": "pd.DataFrame",
       "ref": "020f39a4-5bad-456a-9d2b-351f37413359",
       "rows": [
        [
         "101",
         "2024-12-23 00:00:00",
         "2024-12-29 00:00:00",
         "0.30983378141437745",
         "Week",
         "beta_stack_score",
         "1.1.0",
         "FSTPD30"
        ],
        [
         "102",
         "2024-12-30 00:00:00",
         "2025-01-05 00:00:00",
         "0.3096480271465156",
         "Week",
         "beta_stack_score",
         "1.1.0",
         "FSTPD30"
        ],
        [
         "103",
         "2025-01-01 00:00:00",
         "2025-01-31 00:00:00",
         "0.3029420827480782",
         "Month",
         "beta_stack_score",
         "1.1.0",
         "FSTPD30"
        ],
        [
         "104",
         "2025-01-06 00:00:00",
         "2025-01-12 00:00:00",
         "0.3008962256797205",
         "Week",
         "beta_stack_score",
         "1.1.0",
         "FSTPD30"
        ],
        [
         "105",
         "2025-01-13 00:00:00",
         "2025-01-19 00:00:00",
         "0.4127158555729984",
         "Week",
         "beta_stack_score",
         "1.1.0",
         "FSTPD30"
        ]
       ],
       "shape": {
        "columns": 7,
        "rows": 5
       }
      },
      "text/html": [
       "<div>\n",
       "<style scoped>\n",
       "    .dataframe tbody tr th:only-of-type {\n",
       "        vertical-align: middle;\n",
       "    }\n",
       "\n",
       "    .dataframe tbody tr th {\n",
       "        vertical-align: top;\n",
       "    }\n",
       "\n",
       "    .dataframe thead th {\n",
       "        text-align: right;\n",
       "    }\n",
       "</style>\n",
       "<table border=\"1\" class=\"dataframe\">\n",
       "  <thead>\n",
       "    <tr style=\"text-align: right;\">\n",
       "      <th></th>\n",
       "      <th>start_date</th>\n",
       "      <th>end_date</th>\n",
       "      <th>beta_stack_score_FSTPD30_gini</th>\n",
       "      <th>period</th>\n",
       "      <th>Model_Name</th>\n",
       "      <th>version</th>\n",
       "      <th>bad_rate</th>\n",
       "    </tr>\n",
       "  </thead>\n",
       "  <tbody>\n",
       "    <tr>\n",
       "      <th>101</th>\n",
       "      <td>2024-12-23</td>\n",
       "      <td>2024-12-29</td>\n",
       "      <td>0.309834</td>\n",
       "      <td>Week</td>\n",
       "      <td>beta_stack_score</td>\n",
       "      <td>1.1.0</td>\n",
       "      <td>FSTPD30</td>\n",
       "    </tr>\n",
       "    <tr>\n",
       "      <th>102</th>\n",
       "      <td>2024-12-30</td>\n",
       "      <td>2025-01-05</td>\n",
       "      <td>0.309648</td>\n",
       "      <td>Week</td>\n",
       "      <td>beta_stack_score</td>\n",
       "      <td>1.1.0</td>\n",
       "      <td>FSTPD30</td>\n",
       "    </tr>\n",
       "    <tr>\n",
       "      <th>103</th>\n",
       "      <td>2025-01-01</td>\n",
       "      <td>2025-01-31</td>\n",
       "      <td>0.302942</td>\n",
       "      <td>Month</td>\n",
       "      <td>beta_stack_score</td>\n",
       "      <td>1.1.0</td>\n",
       "      <td>FSTPD30</td>\n",
       "    </tr>\n",
       "    <tr>\n",
       "      <th>104</th>\n",
       "      <td>2025-01-06</td>\n",
       "      <td>2025-01-12</td>\n",
       "      <td>0.300896</td>\n",
       "      <td>Week</td>\n",
       "      <td>beta_stack_score</td>\n",
       "      <td>1.1.0</td>\n",
       "      <td>FSTPD30</td>\n",
       "    </tr>\n",
       "    <tr>\n",
       "      <th>105</th>\n",
       "      <td>2025-01-13</td>\n",
       "      <td>2025-01-19</td>\n",
       "      <td>0.412716</td>\n",
       "      <td>Week</td>\n",
       "      <td>beta_stack_score</td>\n",
       "      <td>1.1.0</td>\n",
       "      <td>FSTPD30</td>\n",
       "    </tr>\n",
       "  </tbody>\n",
       "</table>\n",
       "</div>"
      ],
      "text/plain": [
       "    start_date   end_date  beta_stack_score_FSTPD30_gini period  \\\n",
       "101 2024-12-23 2024-12-29                       0.309834   Week   \n",
       "102 2024-12-30 2025-01-05                       0.309648   Week   \n",
       "103 2025-01-01 2025-01-31                       0.302942  Month   \n",
       "104 2025-01-06 2025-01-12                       0.300896   Week   \n",
       "105 2025-01-13 2025-01-19                       0.412716   Week   \n",
       "\n",
       "           Model_Name version bad_rate  \n",
       "101  beta_stack_score   1.1.0  FSTPD30  \n",
       "102  beta_stack_score   1.1.0  FSTPD30  \n",
       "103  beta_stack_score   1.1.0  FSTPD30  \n",
       "104  beta_stack_score   1.1.0  FSTPD30  \n",
       "105  beta_stack_score   1.1.0  FSTPD30  "
      ]
     },
     "execution_count": 82,
     "metadata": {},
     "output_type": "execute_result"
    }
   ],
   "source": [
    "M4FSTPD30.tail()"
   ]
  },
  {
   "cell_type": "markdown",
   "metadata": {},
   "source": [
    "## Combining the dataframes"
   ]
  },
  {
   "cell_type": "code",
   "execution_count": 83,
   "metadata": {},
   "outputs": [
    {
     "data": {
      "text/plain": [
       "array(['start_date', 'end_date', 'beta_stack_score_FPD10_gini', 'period',\n",
       "       'Model_Name', 'version', 'bad_rate', 'beta_stack_score_FPD30_gini',\n",
       "       'beta_stack_score_FSPD30_gini', 'beta_stack_score_FSTPD30_gini'],\n",
       "      dtype=object)"
      ]
     },
     "execution_count": 83,
     "metadata": {},
     "output_type": "execute_result"
    }
   ],
   "source": [
    "import functools\n",
    "\n",
    "dataframes = [M1FPD10, M2FPD30, M3FSPD30, M4FSTPD30]\n",
    "common_columns = ['start_date', 'end_date', 'period', 'Model_Name','version', 'bad_rate']\n",
    "\n",
    "def merge_dataframes(df1, df2):\n",
    "    return pd.merge(df1, df2, on=common_columns, how='outer')\n",
    "\n",
    "final_df = functools.reduce(merge_dataframes, dataframes)\n",
    "\n",
    "final_df.columns.values"
   ]
  },
  {
   "cell_type": "code",
   "execution_count": 84,
   "metadata": {},
   "outputs": [],
   "source": [
    "final_df = final_df[['start_date', 'end_date', 'period', 'Model_Name', 'version', 'bad_rate', 'beta_stack_score_FPD10_gini', 'beta_stack_score_FPD30_gini',\n",
    "                     'beta_stack_score_FSPD30_gini', 'beta_stack_score_FSTPD30_gini']].copy()"
   ]
  },
  {
   "cell_type": "markdown",
   "metadata": {},
   "source": [
    "## Creating the table "
   ]
  },
  {
   "cell_type": "code",
   "execution_count": 85,
   "metadata": {},
   "outputs": [
    {
     "data": {
      "text/plain": [
       "QueryJob<project=prj-prod-dataplatform, location=asia-southeast1, id=613b1bab-6d47-431c-8f11-7a25990abe96>"
      ]
     },
     "execution_count": 85,
     "metadata": {},
     "output_type": "execute_result"
    }
   ],
   "source": [
    "sq = \"\"\"drop table if exists prj-prod-dataplatform.dap_ds_poweruser_playground.Model_gini_sb_stack_score;\"\"\"\n",
    "\n",
    "client.query(sq)"
   ]
  },
  {
   "cell_type": "code",
   "execution_count": 86,
   "metadata": {},
   "outputs": [
    {
     "name": "stderr",
     "output_type": "stream",
     "text": [
      "C:\\Users\\Dwaipayan\\AppData\\Roaming\\Python\\Python312\\site-packages\\google\\cloud\\bigquery\\_pandas_helpers.py:483: FutureWarning: Loading pandas DataFrame into BigQuery will require pandas-gbq package version 0.26.1 or greater in the future. Tried to import pandas-gbq and got: No module named 'pandas_gbq'\n",
      "  warnings.warn(\n"
     ]
    },
    {
     "data": {
      "text/plain": [
       "LoadJob<project=prj-prod-dataplatform, location=asia-southeast1, id=386ccfc9-d452-43ea-8dc3-edb0980546eb>"
      ]
     },
     "execution_count": 86,
     "metadata": {},
     "output_type": "execute_result"
    }
   ],
   "source": [
    "import pandas as pd\n",
    "from google.cloud import bigquery\n",
    "\n",
    "# Create a BigQuery client\n",
    "client = bigquery.Client('prj-prod-dataplatform')\n",
    "\n",
    "# Define your table schema\n",
    "table_schema = [\n",
    "    bigquery.SchemaField('start_date', 'TIMESTAMP'),\n",
    "    bigquery.SchemaField('end_date', 'TIMESTAMP'),\n",
    "    bigquery.SchemaField('period', 'STRING'),\n",
    "    bigquery.SchemaField('Model_Name', 'STRING'),\n",
    "    bigquery.SchemaField('version', 'STRING'),\n",
    "    bigquery.SchemaField('Badrate', 'STRING'),\n",
    "    bigquery.SchemaField('beta_stack_score_FPD10_gini', 'FLOAT'),\n",
    "    bigquery.SchemaField('beta_stack_score_FPD30_gini', 'FLOAT'),    \n",
    "    bigquery.SchemaField('beta_stack_score_FSPD30_gini', 'FLOAT'),\n",
    "    bigquery.SchemaField('beta_stack_score_FSTPD30_gini', 'FLOAT')\n",
    "    \n",
    "]\n",
    "\n",
    "# Create your BigQuery table\n",
    "table_id = 'prj-prod-dataplatform.dap_ds_poweruser_playground.Model_gini_sb_stack_score'\n",
    "table = bigquery.Table(table_id, schema=table_schema)\n",
    "table = client.create_table(table)\n",
    "\n",
    "# Load your DataFrame into BigQuery\n",
    "job_config = bigquery.LoadJobConfig(\n",
    "    write_disposition='WRITE_TRUNCATE'\n",
    ")\n",
    "\n",
    "load_job = client.load_table_from_dataframe(\n",
    "    final_df, table_id, job_config=job_config\n",
    ")\n",
    "\n",
    "load_job.result()"
   ]
  },
  {
   "cell_type": "markdown",
   "metadata": {},
   "source": [
    "# sa_stack_score"
   ]
  },
  {
   "cell_type": "markdown",
   "metadata": {},
   "source": [
    "## FPD10"
   ]
  },
  {
   "cell_type": "code",
   "execution_count": 87,
   "metadata": {},
   "outputs": [
    {
     "name": "stdout",
     "output_type": "stream",
     "text": [
      "Job ID 5a481ff4-18aa-4311-8106-c2fa30628cda successfully executed: 100%|\u001b[32m██████████\u001b[0m|"
     ]
    },
    {
     "name": "stderr",
     "output_type": "stream",
     "text": [
      "C:\\Users\\Dwaipayan\\AppData\\Roaming\\Python\\Python312\\site-packages\\google\\cloud\\bigquery\\table.py:1900: UserWarning: BigQuery Storage module not found, fetch data with the REST endpoint instead.\n",
      "  warnings.warn(\n"
     ]
    },
    {
     "name": "stdout",
     "output_type": "stream",
     "text": [
      "\n",
      "Downloading: 100%|\u001b[32m██████████\u001b[0m|\n"
     ]
    },
    {
     "data": {
      "application/vnd.microsoft.datawrangler.viewer.v0+json": {
       "columns": [
        {
         "name": "index",
         "rawType": "int64",
         "type": "integer"
        },
        {
         "name": "disbursementdate",
         "rawType": "datetime64[us]",
         "type": "unknown"
        },
        {
         "name": "digitalLoanAccountId",
         "rawType": "object",
         "type": "string"
        },
        {
         "name": "alpha_stack_score",
         "rawType": "object",
         "type": "string"
        },
        {
         "name": "ln_fpd10_flag",
         "rawType": "Int64",
         "type": "integer"
        },
        {
         "name": "ln_mature_fpd10_flag",
         "rawType": "Int64",
         "type": "integer"
        }
       ],
       "conversionMethod": "pd.DataFrame",
       "ref": "f82e04e9-bbd8-40a9-9e16-e591a2cea96c",
       "rows": [
        [
         "0",
         "2024-07-16 19:09:27",
         "a731f941-ed8a-4278-9ba4-1fd41132aa5e",
         "0.069973806482369935",
         "0",
         "1"
        ],
        [
         "1",
         "2024-11-24 18:45:09",
         "5be2f2c7-2401-48bc-a384-6f62c22866db",
         "0.077115301205629469",
         "0",
         "1"
        ],
        [
         "2",
         "2024-12-01 12:21:56",
         "1eac1869-c3c5-4ed8-aa58-aeb90c730784",
         "0.026754988001112028",
         "0",
         "1"
        ],
        [
         "3",
         "2024-10-26 15:36:19",
         "4085569c-fc38-485b-9eb9-87e23466e91e",
         "0.0570348930097323",
         "0",
         "1"
        ],
        [
         "4",
         "2024-10-06 13:54:14",
         "beba4758-2d8a-48b5-81df-7aaabc7e133e",
         "0.059545727763827848",
         "0",
         "1"
        ]
       ],
       "shape": {
        "columns": 5,
        "rows": 5
       }
      },
      "text/html": [
       "<div>\n",
       "<style scoped>\n",
       "    .dataframe tbody tr th:only-of-type {\n",
       "        vertical-align: middle;\n",
       "    }\n",
       "\n",
       "    .dataframe tbody tr th {\n",
       "        vertical-align: top;\n",
       "    }\n",
       "\n",
       "    .dataframe thead th {\n",
       "        text-align: right;\n",
       "    }\n",
       "</style>\n",
       "<table border=\"1\" class=\"dataframe\">\n",
       "  <thead>\n",
       "    <tr style=\"text-align: right;\">\n",
       "      <th></th>\n",
       "      <th>disbursementdate</th>\n",
       "      <th>digitalLoanAccountId</th>\n",
       "      <th>alpha_stack_score</th>\n",
       "      <th>ln_fpd10_flag</th>\n",
       "      <th>ln_mature_fpd10_flag</th>\n",
       "    </tr>\n",
       "  </thead>\n",
       "  <tbody>\n",
       "    <tr>\n",
       "      <th>0</th>\n",
       "      <td>2024-07-16 19:09:27</td>\n",
       "      <td>a731f941-ed8a-4278-9ba4-1fd41132aa5e</td>\n",
       "      <td>0.069973806482369935</td>\n",
       "      <td>0</td>\n",
       "      <td>1</td>\n",
       "    </tr>\n",
       "    <tr>\n",
       "      <th>1</th>\n",
       "      <td>2024-11-24 18:45:09</td>\n",
       "      <td>5be2f2c7-2401-48bc-a384-6f62c22866db</td>\n",
       "      <td>0.077115301205629469</td>\n",
       "      <td>0</td>\n",
       "      <td>1</td>\n",
       "    </tr>\n",
       "    <tr>\n",
       "      <th>2</th>\n",
       "      <td>2024-12-01 12:21:56</td>\n",
       "      <td>1eac1869-c3c5-4ed8-aa58-aeb90c730784</td>\n",
       "      <td>0.026754988001112028</td>\n",
       "      <td>0</td>\n",
       "      <td>1</td>\n",
       "    </tr>\n",
       "    <tr>\n",
       "      <th>3</th>\n",
       "      <td>2024-10-26 15:36:19</td>\n",
       "      <td>4085569c-fc38-485b-9eb9-87e23466e91e</td>\n",
       "      <td>0.0570348930097323</td>\n",
       "      <td>0</td>\n",
       "      <td>1</td>\n",
       "    </tr>\n",
       "    <tr>\n",
       "      <th>4</th>\n",
       "      <td>2024-10-06 13:54:14</td>\n",
       "      <td>beba4758-2d8a-48b5-81df-7aaabc7e133e</td>\n",
       "      <td>0.059545727763827848</td>\n",
       "      <td>0</td>\n",
       "      <td>1</td>\n",
       "    </tr>\n",
       "  </tbody>\n",
       "</table>\n",
       "</div>"
      ],
      "text/plain": [
       "     disbursementdate                  digitalLoanAccountId  \\\n",
       "0 2024-07-16 19:09:27  a731f941-ed8a-4278-9ba4-1fd41132aa5e   \n",
       "1 2024-11-24 18:45:09  5be2f2c7-2401-48bc-a384-6f62c22866db   \n",
       "2 2024-12-01 12:21:56  1eac1869-c3c5-4ed8-aa58-aeb90c730784   \n",
       "3 2024-10-26 15:36:19  4085569c-fc38-485b-9eb9-87e23466e91e   \n",
       "4 2024-10-06 13:54:14  beba4758-2d8a-48b5-81df-7aaabc7e133e   \n",
       "\n",
       "      alpha_stack_score  ln_fpd10_flag  ln_mature_fpd10_flag  \n",
       "0  0.069973806482369935              0                     1  \n",
       "1  0.077115301205629469              0                     1  \n",
       "2  0.026754988001112028              0                     1  \n",
       "3    0.0570348930097323              0                     1  \n",
       "4  0.059545727763827848              0                     1  "
      ]
     },
     "execution_count": 87,
     "metadata": {},
     "output_type": "execute_result"
    }
   ],
   "source": [
    "# sa_stack_score\n",
    "\n",
    "sq = f\"\"\"\n",
    "with sa_stack_score as \n",
    "(SELECT \n",
    "    ln_disb_dtime disbursementdate,\n",
    "\tdigitalLoanAccountId,\n",
    "    alpha_stack_score ,\n",
    "    ln_fpd10_flag,\n",
    "\tln_mature_fpd10_flag,\t\n",
    "\tFROM \n",
    "    {a}\n",
    "  WHERE \n",
    "     -- ln_disb_dtime >= '2023-07-01'\n",
    "    ln_appln_submit_datetime >= '2023-06-01'\n",
    "  -- AND\n",
    "  --   format_date('%Y-%m', ln_disb_dtime) = '2024-09'\n",
    "  AND\n",
    "    ln_fpd10_flag is not null\n",
    "  AND\n",
    "    alpha_stack_score is not null\n",
    "  AND\n",
    "    ln_mature_fpd10_flag = 1\n",
    ")\n",
    "select * from sa_stack_score;\n",
    "\"\"\"\n",
    "\n",
    "sa_stack_scorefpd10 = client.query(sq).to_dataframe(progress_bar_type='tqdm')\n",
    "\n",
    "sa_stack_scorefpd10.head()"
   ]
  },
  {
   "cell_type": "code",
   "execution_count": 88,
   "metadata": {},
   "outputs": [
    {
     "data": {
      "application/vnd.microsoft.datawrangler.viewer.v0+json": {
       "columns": [
        {
         "name": "index",
         "rawType": "int64",
         "type": "integer"
        },
        {
         "name": "disbursementdate",
         "rawType": "datetime64[us]",
         "type": "unknown"
        },
        {
         "name": "digitalLoanAccountId",
         "rawType": "object",
         "type": "string"
        },
        {
         "name": "alpha_stack_score",
         "rawType": "object",
         "type": "string"
        },
        {
         "name": "ln_fpd10_flag",
         "rawType": "Int64",
         "type": "integer"
        },
        {
         "name": "ln_mature_fpd10_flag",
         "rawType": "Int64",
         "type": "integer"
        }
       ],
       "conversionMethod": "pd.DataFrame",
       "ref": "ebfd2fe5-fe41-4911-8095-8d52784ee2c2",
       "rows": [
        [
         "0",
         "2024-07-16 19:09:27",
         "a731f941-ed8a-4278-9ba4-1fd41132aa5e",
         "0.069973806482369935",
         "0",
         "1"
        ],
        [
         "1",
         "2024-11-24 18:45:09",
         "5be2f2c7-2401-48bc-a384-6f62c22866db",
         "0.077115301205629469",
         "0",
         "1"
        ],
        [
         "2",
         "2024-12-01 12:21:56",
         "1eac1869-c3c5-4ed8-aa58-aeb90c730784",
         "0.026754988001112028",
         "0",
         "1"
        ],
        [
         "3",
         "2024-10-26 15:36:19",
         "4085569c-fc38-485b-9eb9-87e23466e91e",
         "0.0570348930097323",
         "0",
         "1"
        ],
        [
         "4",
         "2024-10-06 13:54:14",
         "beba4758-2d8a-48b5-81df-7aaabc7e133e",
         "0.059545727763827848",
         "0",
         "1"
        ]
       ],
       "shape": {
        "columns": 5,
        "rows": 5
       }
      },
      "text/html": [
       "<div>\n",
       "<style scoped>\n",
       "    .dataframe tbody tr th:only-of-type {\n",
       "        vertical-align: middle;\n",
       "    }\n",
       "\n",
       "    .dataframe tbody tr th {\n",
       "        vertical-align: top;\n",
       "    }\n",
       "\n",
       "    .dataframe thead th {\n",
       "        text-align: right;\n",
       "    }\n",
       "</style>\n",
       "<table border=\"1\" class=\"dataframe\">\n",
       "  <thead>\n",
       "    <tr style=\"text-align: right;\">\n",
       "      <th></th>\n",
       "      <th>disbursementdate</th>\n",
       "      <th>digitalLoanAccountId</th>\n",
       "      <th>alpha_stack_score</th>\n",
       "      <th>ln_fpd10_flag</th>\n",
       "      <th>ln_mature_fpd10_flag</th>\n",
       "    </tr>\n",
       "  </thead>\n",
       "  <tbody>\n",
       "    <tr>\n",
       "      <th>0</th>\n",
       "      <td>2024-07-16 19:09:27</td>\n",
       "      <td>a731f941-ed8a-4278-9ba4-1fd41132aa5e</td>\n",
       "      <td>0.069973806482369935</td>\n",
       "      <td>0</td>\n",
       "      <td>1</td>\n",
       "    </tr>\n",
       "    <tr>\n",
       "      <th>1</th>\n",
       "      <td>2024-11-24 18:45:09</td>\n",
       "      <td>5be2f2c7-2401-48bc-a384-6f62c22866db</td>\n",
       "      <td>0.077115301205629469</td>\n",
       "      <td>0</td>\n",
       "      <td>1</td>\n",
       "    </tr>\n",
       "    <tr>\n",
       "      <th>2</th>\n",
       "      <td>2024-12-01 12:21:56</td>\n",
       "      <td>1eac1869-c3c5-4ed8-aa58-aeb90c730784</td>\n",
       "      <td>0.026754988001112028</td>\n",
       "      <td>0</td>\n",
       "      <td>1</td>\n",
       "    </tr>\n",
       "    <tr>\n",
       "      <th>3</th>\n",
       "      <td>2024-10-26 15:36:19</td>\n",
       "      <td>4085569c-fc38-485b-9eb9-87e23466e91e</td>\n",
       "      <td>0.0570348930097323</td>\n",
       "      <td>0</td>\n",
       "      <td>1</td>\n",
       "    </tr>\n",
       "    <tr>\n",
       "      <th>4</th>\n",
       "      <td>2024-10-06 13:54:14</td>\n",
       "      <td>beba4758-2d8a-48b5-81df-7aaabc7e133e</td>\n",
       "      <td>0.059545727763827848</td>\n",
       "      <td>0</td>\n",
       "      <td>1</td>\n",
       "    </tr>\n",
       "  </tbody>\n",
       "</table>\n",
       "</div>"
      ],
      "text/plain": [
       "     disbursementdate                  digitalLoanAccountId  \\\n",
       "0 2024-07-16 19:09:27  a731f941-ed8a-4278-9ba4-1fd41132aa5e   \n",
       "1 2024-11-24 18:45:09  5be2f2c7-2401-48bc-a384-6f62c22866db   \n",
       "2 2024-12-01 12:21:56  1eac1869-c3c5-4ed8-aa58-aeb90c730784   \n",
       "3 2024-10-26 15:36:19  4085569c-fc38-485b-9eb9-87e23466e91e   \n",
       "4 2024-10-06 13:54:14  beba4758-2d8a-48b5-81df-7aaabc7e133e   \n",
       "\n",
       "      alpha_stack_score  ln_fpd10_flag  ln_mature_fpd10_flag  \n",
       "0  0.069973806482369935              0                     1  \n",
       "1  0.077115301205629469              0                     1  \n",
       "2  0.026754988001112028              0                     1  \n",
       "3    0.0570348930097323              0                     1  \n",
       "4  0.059545727763827848              0                     1  "
      ]
     },
     "execution_count": 88,
     "metadata": {},
     "output_type": "execute_result"
    }
   ],
   "source": [
    "sa_stack_scorefpd10.head()"
   ]
  },
  {
   "cell_type": "code",
   "execution_count": 89,
   "metadata": {},
   "outputs": [
    {
     "name": "stderr",
     "output_type": "stream",
     "text": [
      "C:\\Users\\Dwaipayan\\AppData\\Local\\Temp\\ipykernel_53324\\1204584280.py:30: DeprecationWarning: DataFrameGroupBy.apply operated on the grouping columns. This behavior is deprecated, and in a future version of pandas the grouping columns will be excluded from the operation. Either pass `include_groups=False` to exclude the groupings or explicitly select the grouping columns after groupby to silence this warning.\n",
      "  weekly_gini = df.groupby('week').apply(\n"
     ]
    },
    {
     "name": "stdout",
     "output_type": "stream",
     "text": [
      "The shape of dataframe after copy is:\t(118, 7)\n"
     ]
    },
    {
     "name": "stderr",
     "output_type": "stream",
     "text": [
      "C:\\Users\\Dwaipayan\\AppData\\Local\\Temp\\ipykernel_53324\\1204584280.py:41: DeprecationWarning: DataFrameGroupBy.apply operated on the grouping columns. This behavior is deprecated, and in a future version of pandas the grouping columns will be excluded from the operation. Either pass `include_groups=False` to exclude the groupings or explicitly select the grouping columns after groupby to silence this warning.\n",
      "  monthly_gini = df.groupby('month').apply(\n"
     ]
    },
    {
     "data": {
      "application/vnd.microsoft.datawrangler.viewer.v0+json": {
       "columns": [
        {
         "name": "index",
         "rawType": "int64",
         "type": "integer"
        },
        {
         "name": "start_date",
         "rawType": "datetime64[ns]",
         "type": "datetime"
        },
        {
         "name": "end_date",
         "rawType": "datetime64[ns]",
         "type": "datetime"
        },
        {
         "name": "alpha_stack_score_FPD10_gini",
         "rawType": "float64",
         "type": "float"
        },
        {
         "name": "period",
         "rawType": "object",
         "type": "string"
        },
        {
         "name": "Model_Name",
         "rawType": "object",
         "type": "string"
        },
        {
         "name": "version",
         "rawType": "object",
         "type": "string"
        },
        {
         "name": "bad_rate",
         "rawType": "object",
         "type": "string"
        }
       ],
       "conversionMethod": "pd.DataFrame",
       "ref": "f8fb0b9b-afc7-487a-af5c-875044ee64d1",
       "rows": [
        [
         "0",
         "2023-05-29 00:00:00",
         "2023-06-04 00:00:00",
         "0.5794871794871796",
         "Week",
         "alpha_stack_score",
         "1.1.0",
         "FPD10"
        ],
        [
         "1",
         "2023-06-01 00:00:00",
         "2023-06-30 00:00:00",
         "0.3631353337415799",
         "Month",
         "alpha_stack_score",
         "1.1.0",
         "FPD10"
        ],
        [
         "2",
         "2023-06-05 00:00:00",
         "2023-06-11 00:00:00",
         "0.6320346320346322",
         "Week",
         "alpha_stack_score",
         "1.1.0",
         "FPD10"
        ],
        [
         "3",
         "2023-06-12 00:00:00",
         "2023-06-18 00:00:00",
         "0.7647058823529411",
         "Week",
         "alpha_stack_score",
         "1.1.0",
         "FPD10"
        ],
        [
         "4",
         "2023-06-19 00:00:00",
         "2023-06-25 00:00:00",
         "0.10322580645161294",
         "Week",
         "alpha_stack_score",
         "1.1.0",
         "FPD10"
        ]
       ],
       "shape": {
        "columns": 7,
        "rows": 5
       }
      },
      "text/html": [
       "<div>\n",
       "<style scoped>\n",
       "    .dataframe tbody tr th:only-of-type {\n",
       "        vertical-align: middle;\n",
       "    }\n",
       "\n",
       "    .dataframe tbody tr th {\n",
       "        vertical-align: top;\n",
       "    }\n",
       "\n",
       "    .dataframe thead th {\n",
       "        text-align: right;\n",
       "    }\n",
       "</style>\n",
       "<table border=\"1\" class=\"dataframe\">\n",
       "  <thead>\n",
       "    <tr style=\"text-align: right;\">\n",
       "      <th></th>\n",
       "      <th>start_date</th>\n",
       "      <th>end_date</th>\n",
       "      <th>alpha_stack_score_FPD10_gini</th>\n",
       "      <th>period</th>\n",
       "      <th>Model_Name</th>\n",
       "      <th>version</th>\n",
       "      <th>bad_rate</th>\n",
       "    </tr>\n",
       "  </thead>\n",
       "  <tbody>\n",
       "    <tr>\n",
       "      <th>0</th>\n",
       "      <td>2023-05-29</td>\n",
       "      <td>2023-06-04</td>\n",
       "      <td>0.579487</td>\n",
       "      <td>Week</td>\n",
       "      <td>alpha_stack_score</td>\n",
       "      <td>1.1.0</td>\n",
       "      <td>FPD10</td>\n",
       "    </tr>\n",
       "    <tr>\n",
       "      <th>1</th>\n",
       "      <td>2023-06-01</td>\n",
       "      <td>2023-06-30</td>\n",
       "      <td>0.363135</td>\n",
       "      <td>Month</td>\n",
       "      <td>alpha_stack_score</td>\n",
       "      <td>1.1.0</td>\n",
       "      <td>FPD10</td>\n",
       "    </tr>\n",
       "    <tr>\n",
       "      <th>2</th>\n",
       "      <td>2023-06-05</td>\n",
       "      <td>2023-06-11</td>\n",
       "      <td>0.632035</td>\n",
       "      <td>Week</td>\n",
       "      <td>alpha_stack_score</td>\n",
       "      <td>1.1.0</td>\n",
       "      <td>FPD10</td>\n",
       "    </tr>\n",
       "    <tr>\n",
       "      <th>3</th>\n",
       "      <td>2023-06-12</td>\n",
       "      <td>2023-06-18</td>\n",
       "      <td>0.764706</td>\n",
       "      <td>Week</td>\n",
       "      <td>alpha_stack_score</td>\n",
       "      <td>1.1.0</td>\n",
       "      <td>FPD10</td>\n",
       "    </tr>\n",
       "    <tr>\n",
       "      <th>4</th>\n",
       "      <td>2023-06-19</td>\n",
       "      <td>2023-06-25</td>\n",
       "      <td>0.103226</td>\n",
       "      <td>Week</td>\n",
       "      <td>alpha_stack_score</td>\n",
       "      <td>1.1.0</td>\n",
       "      <td>FPD10</td>\n",
       "    </tr>\n",
       "  </tbody>\n",
       "</table>\n",
       "</div>"
      ],
      "text/plain": [
       "  start_date   end_date  alpha_stack_score_FPD10_gini period  \\\n",
       "0 2023-05-29 2023-06-04                      0.579487   Week   \n",
       "1 2023-06-01 2023-06-30                      0.363135  Month   \n",
       "2 2023-06-05 2023-06-11                      0.632035   Week   \n",
       "3 2023-06-12 2023-06-18                      0.764706   Week   \n",
       "4 2023-06-19 2023-06-25                      0.103226   Week   \n",
       "\n",
       "          Model_Name version bad_rate  \n",
       "0  alpha_stack_score   1.1.0    FPD10  \n",
       "1  alpha_stack_score   1.1.0    FPD10  \n",
       "2  alpha_stack_score   1.1.0    FPD10  \n",
       "3  alpha_stack_score   1.1.0    FPD10  \n",
       "4  alpha_stack_score   1.1.0    FPD10  "
      ]
     },
     "execution_count": 89,
     "metadata": {},
     "output_type": "execute_result"
    }
   ],
   "source": [
    "gini_results = calculate_periodic_gini(sa_stack_scorefpd10, 'alpha_stack_score', 'ln_fpd10_flag', 'FPD10')\n",
    "M1FPD10 = gini_results.copy()\n",
    "print(f\"The shape of dataframe after copy is:\\t{M1FPD10.shape}\")\n",
    "M1FPD10.head()"
   ]
  },
  {
   "cell_type": "code",
   "execution_count": 90,
   "metadata": {},
   "outputs": [
    {
     "data": {
      "application/vnd.microsoft.datawrangler.viewer.v0+json": {
       "columns": [
        {
         "name": "index",
         "rawType": "object",
         "type": "string"
        },
        {
         "name": "start_date",
         "rawType": "object",
         "type": "unknown"
        },
        {
         "name": "end_date",
         "rawType": "object",
         "type": "unknown"
        },
        {
         "name": "alpha_stack_score_FPD10_gini",
         "rawType": "float64",
         "type": "float"
        }
       ],
       "conversionMethod": "pd.DataFrame",
       "ref": "d41b7701-6658-49a7-8ce0-b63a2551612c",
       "rows": [
        [
         "count",
         "118",
         "118",
         "118.0"
        ],
        [
         "mean",
         "2024-04-29 03:15:15.254237184",
         "2024-05-09 16:52:52.881356032",
         "0.3715421535466769"
        ],
        [
         "min",
         "2023-05-29 00:00:00",
         "2023-06-04 00:00:00",
         "-0.21875"
        ],
        [
         "25%",
         "2023-11-14 18:00:00",
         "2023-11-27 00:00:00",
         "0.33464748183383075"
        ],
        [
         "50%",
         "2024-04-30 00:00:00",
         "2024-05-08 12:00:00",
         "0.3741451533337382"
        ],
        [
         "75%",
         "2024-10-12 06:00:00",
         "2024-10-25 06:00:00",
         "0.4517564273049645"
        ],
        [
         "max",
         "2025-04-01 00:00:00",
         "2025-04-30 00:00:00",
         "0.7647058823529411"
        ],
        [
         "std",
         null,
         null,
         "0.1461160334824838"
        ]
       ],
       "shape": {
        "columns": 3,
        "rows": 8
       }
      },
      "text/html": [
       "<div>\n",
       "<style scoped>\n",
       "    .dataframe tbody tr th:only-of-type {\n",
       "        vertical-align: middle;\n",
       "    }\n",
       "\n",
       "    .dataframe tbody tr th {\n",
       "        vertical-align: top;\n",
       "    }\n",
       "\n",
       "    .dataframe thead th {\n",
       "        text-align: right;\n",
       "    }\n",
       "</style>\n",
       "<table border=\"1\" class=\"dataframe\">\n",
       "  <thead>\n",
       "    <tr style=\"text-align: right;\">\n",
       "      <th></th>\n",
       "      <th>start_date</th>\n",
       "      <th>end_date</th>\n",
       "      <th>alpha_stack_score_FPD10_gini</th>\n",
       "    </tr>\n",
       "  </thead>\n",
       "  <tbody>\n",
       "    <tr>\n",
       "      <th>count</th>\n",
       "      <td>118</td>\n",
       "      <td>118</td>\n",
       "      <td>118.000000</td>\n",
       "    </tr>\n",
       "    <tr>\n",
       "      <th>mean</th>\n",
       "      <td>2024-04-29 03:15:15.254237184</td>\n",
       "      <td>2024-05-09 16:52:52.881356032</td>\n",
       "      <td>0.371542</td>\n",
       "    </tr>\n",
       "    <tr>\n",
       "      <th>min</th>\n",
       "      <td>2023-05-29 00:00:00</td>\n",
       "      <td>2023-06-04 00:00:00</td>\n",
       "      <td>-0.218750</td>\n",
       "    </tr>\n",
       "    <tr>\n",
       "      <th>25%</th>\n",
       "      <td>2023-11-14 18:00:00</td>\n",
       "      <td>2023-11-27 00:00:00</td>\n",
       "      <td>0.334647</td>\n",
       "    </tr>\n",
       "    <tr>\n",
       "      <th>50%</th>\n",
       "      <td>2024-04-30 00:00:00</td>\n",
       "      <td>2024-05-08 12:00:00</td>\n",
       "      <td>0.374145</td>\n",
       "    </tr>\n",
       "    <tr>\n",
       "      <th>75%</th>\n",
       "      <td>2024-10-12 06:00:00</td>\n",
       "      <td>2024-10-25 06:00:00</td>\n",
       "      <td>0.451756</td>\n",
       "    </tr>\n",
       "    <tr>\n",
       "      <th>max</th>\n",
       "      <td>2025-04-01 00:00:00</td>\n",
       "      <td>2025-04-30 00:00:00</td>\n",
       "      <td>0.764706</td>\n",
       "    </tr>\n",
       "    <tr>\n",
       "      <th>std</th>\n",
       "      <td>NaN</td>\n",
       "      <td>NaN</td>\n",
       "      <td>0.146116</td>\n",
       "    </tr>\n",
       "  </tbody>\n",
       "</table>\n",
       "</div>"
      ],
      "text/plain": [
       "                          start_date                       end_date  \\\n",
       "count                            118                            118   \n",
       "mean   2024-04-29 03:15:15.254237184  2024-05-09 16:52:52.881356032   \n",
       "min              2023-05-29 00:00:00            2023-06-04 00:00:00   \n",
       "25%              2023-11-14 18:00:00            2023-11-27 00:00:00   \n",
       "50%              2024-04-30 00:00:00            2024-05-08 12:00:00   \n",
       "75%              2024-10-12 06:00:00            2024-10-25 06:00:00   \n",
       "max              2025-04-01 00:00:00            2025-04-30 00:00:00   \n",
       "std                              NaN                            NaN   \n",
       "\n",
       "       alpha_stack_score_FPD10_gini  \n",
       "count                    118.000000  \n",
       "mean                       0.371542  \n",
       "min                       -0.218750  \n",
       "25%                        0.334647  \n",
       "50%                        0.374145  \n",
       "75%                        0.451756  \n",
       "max                        0.764706  \n",
       "std                        0.146116  "
      ]
     },
     "execution_count": 90,
     "metadata": {},
     "output_type": "execute_result"
    }
   ],
   "source": [
    "M1FPD10.describe()"
   ]
  },
  {
   "cell_type": "code",
   "execution_count": 91,
   "metadata": {},
   "outputs": [
    {
     "data": {
      "application/vnd.microsoft.datawrangler.viewer.v0+json": {
       "columns": [
        {
         "name": "index",
         "rawType": "int64",
         "type": "integer"
        },
        {
         "name": "start_date",
         "rawType": "datetime64[ns]",
         "type": "datetime"
        },
        {
         "name": "end_date",
         "rawType": "datetime64[ns]",
         "type": "datetime"
        },
        {
         "name": "alpha_stack_score_FPD10_gini",
         "rawType": "float64",
         "type": "float"
        },
        {
         "name": "period",
         "rawType": "object",
         "type": "string"
        },
        {
         "name": "Model_Name",
         "rawType": "object",
         "type": "string"
        },
        {
         "name": "version",
         "rawType": "object",
         "type": "string"
        },
        {
         "name": "bad_rate",
         "rawType": "object",
         "type": "string"
        }
       ],
       "conversionMethod": "pd.DataFrame",
       "ref": "434670ca-3353-44d1-82ef-091d08401ddb",
       "rows": [
        [
         "0",
         "2023-05-29 00:00:00",
         "2023-06-04 00:00:00",
         "0.5794871794871796",
         "Week",
         "alpha_stack_score",
         "1.1.0",
         "FPD10"
        ],
        [
         "1",
         "2023-06-01 00:00:00",
         "2023-06-30 00:00:00",
         "0.3631353337415799",
         "Month",
         "alpha_stack_score",
         "1.1.0",
         "FPD10"
        ],
        [
         "2",
         "2023-06-05 00:00:00",
         "2023-06-11 00:00:00",
         "0.6320346320346322",
         "Week",
         "alpha_stack_score",
         "1.1.0",
         "FPD10"
        ],
        [
         "3",
         "2023-06-12 00:00:00",
         "2023-06-18 00:00:00",
         "0.7647058823529411",
         "Week",
         "alpha_stack_score",
         "1.1.0",
         "FPD10"
        ],
        [
         "4",
         "2023-06-19 00:00:00",
         "2023-06-25 00:00:00",
         "0.10322580645161294",
         "Week",
         "alpha_stack_score",
         "1.1.0",
         "FPD10"
        ]
       ],
       "shape": {
        "columns": 7,
        "rows": 5
       }
      },
      "text/html": [
       "<div>\n",
       "<style scoped>\n",
       "    .dataframe tbody tr th:only-of-type {\n",
       "        vertical-align: middle;\n",
       "    }\n",
       "\n",
       "    .dataframe tbody tr th {\n",
       "        vertical-align: top;\n",
       "    }\n",
       "\n",
       "    .dataframe thead th {\n",
       "        text-align: right;\n",
       "    }\n",
       "</style>\n",
       "<table border=\"1\" class=\"dataframe\">\n",
       "  <thead>\n",
       "    <tr style=\"text-align: right;\">\n",
       "      <th></th>\n",
       "      <th>start_date</th>\n",
       "      <th>end_date</th>\n",
       "      <th>alpha_stack_score_FPD10_gini</th>\n",
       "      <th>period</th>\n",
       "      <th>Model_Name</th>\n",
       "      <th>version</th>\n",
       "      <th>bad_rate</th>\n",
       "    </tr>\n",
       "  </thead>\n",
       "  <tbody>\n",
       "    <tr>\n",
       "      <th>0</th>\n",
       "      <td>2023-05-29</td>\n",
       "      <td>2023-06-04</td>\n",
       "      <td>0.579487</td>\n",
       "      <td>Week</td>\n",
       "      <td>alpha_stack_score</td>\n",
       "      <td>1.1.0</td>\n",
       "      <td>FPD10</td>\n",
       "    </tr>\n",
       "    <tr>\n",
       "      <th>1</th>\n",
       "      <td>2023-06-01</td>\n",
       "      <td>2023-06-30</td>\n",
       "      <td>0.363135</td>\n",
       "      <td>Month</td>\n",
       "      <td>alpha_stack_score</td>\n",
       "      <td>1.1.0</td>\n",
       "      <td>FPD10</td>\n",
       "    </tr>\n",
       "    <tr>\n",
       "      <th>2</th>\n",
       "      <td>2023-06-05</td>\n",
       "      <td>2023-06-11</td>\n",
       "      <td>0.632035</td>\n",
       "      <td>Week</td>\n",
       "      <td>alpha_stack_score</td>\n",
       "      <td>1.1.0</td>\n",
       "      <td>FPD10</td>\n",
       "    </tr>\n",
       "    <tr>\n",
       "      <th>3</th>\n",
       "      <td>2023-06-12</td>\n",
       "      <td>2023-06-18</td>\n",
       "      <td>0.764706</td>\n",
       "      <td>Week</td>\n",
       "      <td>alpha_stack_score</td>\n",
       "      <td>1.1.0</td>\n",
       "      <td>FPD10</td>\n",
       "    </tr>\n",
       "    <tr>\n",
       "      <th>4</th>\n",
       "      <td>2023-06-19</td>\n",
       "      <td>2023-06-25</td>\n",
       "      <td>0.103226</td>\n",
       "      <td>Week</td>\n",
       "      <td>alpha_stack_score</td>\n",
       "      <td>1.1.0</td>\n",
       "      <td>FPD10</td>\n",
       "    </tr>\n",
       "  </tbody>\n",
       "</table>\n",
       "</div>"
      ],
      "text/plain": [
       "  start_date   end_date  alpha_stack_score_FPD10_gini period  \\\n",
       "0 2023-05-29 2023-06-04                      0.579487   Week   \n",
       "1 2023-06-01 2023-06-30                      0.363135  Month   \n",
       "2 2023-06-05 2023-06-11                      0.632035   Week   \n",
       "3 2023-06-12 2023-06-18                      0.764706   Week   \n",
       "4 2023-06-19 2023-06-25                      0.103226   Week   \n",
       "\n",
       "          Model_Name version bad_rate  \n",
       "0  alpha_stack_score   1.1.0    FPD10  \n",
       "1  alpha_stack_score   1.1.0    FPD10  \n",
       "2  alpha_stack_score   1.1.0    FPD10  \n",
       "3  alpha_stack_score   1.1.0    FPD10  \n",
       "4  alpha_stack_score   1.1.0    FPD10  "
      ]
     },
     "execution_count": 91,
     "metadata": {},
     "output_type": "execute_result"
    }
   ],
   "source": [
    "M1FPD10.head()"
   ]
  },
  {
   "cell_type": "markdown",
   "metadata": {},
   "source": [
    "## FPD30"
   ]
  },
  {
   "cell_type": "code",
   "execution_count": 92,
   "metadata": {},
   "outputs": [
    {
     "name": "stdout",
     "output_type": "stream",
     "text": [
      "Job ID c2349b2c-f9a0-430d-93d0-c6c09159f4bb successfully executed: 100%|\u001b[32m██████████\u001b[0m|"
     ]
    },
    {
     "name": "stderr",
     "output_type": "stream",
     "text": [
      "C:\\Users\\Dwaipayan\\AppData\\Roaming\\Python\\Python312\\site-packages\\google\\cloud\\bigquery\\table.py:1900: UserWarning: BigQuery Storage module not found, fetch data with the REST endpoint instead.\n",
      "  warnings.warn(\n"
     ]
    },
    {
     "name": "stdout",
     "output_type": "stream",
     "text": [
      "\n",
      "Downloading: 100%|\u001b[32m██████████\u001b[0m|\n"
     ]
    },
    {
     "data": {
      "application/vnd.microsoft.datawrangler.viewer.v0+json": {
       "columns": [
        {
         "name": "index",
         "rawType": "int64",
         "type": "integer"
        },
        {
         "name": "disbursementdate",
         "rawType": "datetime64[us]",
         "type": "unknown"
        },
        {
         "name": "digitalLoanAccountId",
         "rawType": "object",
         "type": "string"
        },
        {
         "name": "alpha_stack_score",
         "rawType": "object",
         "type": "string"
        },
        {
         "name": "ln_fpd30_flag",
         "rawType": "Int64",
         "type": "integer"
        },
        {
         "name": "ln_mature_fpd30_flag",
         "rawType": "Int64",
         "type": "integer"
        }
       ],
       "conversionMethod": "pd.DataFrame",
       "ref": "901fa64d-6358-4c15-b35b-f06372fa5549",
       "rows": [
        [
         "0",
         "2024-07-16 19:09:27",
         "a731f941-ed8a-4278-9ba4-1fd41132aa5e",
         "0.069973806482369935",
         "0",
         "1"
        ],
        [
         "1",
         "2024-11-24 18:45:09",
         "5be2f2c7-2401-48bc-a384-6f62c22866db",
         "0.077115301205629469",
         "0",
         "1"
        ],
        [
         "2",
         "2024-12-01 12:21:56",
         "1eac1869-c3c5-4ed8-aa58-aeb90c730784",
         "0.026754988001112028",
         "0",
         "1"
        ],
        [
         "3",
         "2024-10-26 15:36:19",
         "4085569c-fc38-485b-9eb9-87e23466e91e",
         "0.0570348930097323",
         "0",
         "1"
        ],
        [
         "4",
         "2024-10-06 13:54:14",
         "beba4758-2d8a-48b5-81df-7aaabc7e133e",
         "0.059545727763827848",
         "0",
         "1"
        ]
       ],
       "shape": {
        "columns": 5,
        "rows": 5
       }
      },
      "text/html": [
       "<div>\n",
       "<style scoped>\n",
       "    .dataframe tbody tr th:only-of-type {\n",
       "        vertical-align: middle;\n",
       "    }\n",
       "\n",
       "    .dataframe tbody tr th {\n",
       "        vertical-align: top;\n",
       "    }\n",
       "\n",
       "    .dataframe thead th {\n",
       "        text-align: right;\n",
       "    }\n",
       "</style>\n",
       "<table border=\"1\" class=\"dataframe\">\n",
       "  <thead>\n",
       "    <tr style=\"text-align: right;\">\n",
       "      <th></th>\n",
       "      <th>disbursementdate</th>\n",
       "      <th>digitalLoanAccountId</th>\n",
       "      <th>alpha_stack_score</th>\n",
       "      <th>ln_fpd30_flag</th>\n",
       "      <th>ln_mature_fpd30_flag</th>\n",
       "    </tr>\n",
       "  </thead>\n",
       "  <tbody>\n",
       "    <tr>\n",
       "      <th>0</th>\n",
       "      <td>2024-07-16 19:09:27</td>\n",
       "      <td>a731f941-ed8a-4278-9ba4-1fd41132aa5e</td>\n",
       "      <td>0.069973806482369935</td>\n",
       "      <td>0</td>\n",
       "      <td>1</td>\n",
       "    </tr>\n",
       "    <tr>\n",
       "      <th>1</th>\n",
       "      <td>2024-11-24 18:45:09</td>\n",
       "      <td>5be2f2c7-2401-48bc-a384-6f62c22866db</td>\n",
       "      <td>0.077115301205629469</td>\n",
       "      <td>0</td>\n",
       "      <td>1</td>\n",
       "    </tr>\n",
       "    <tr>\n",
       "      <th>2</th>\n",
       "      <td>2024-12-01 12:21:56</td>\n",
       "      <td>1eac1869-c3c5-4ed8-aa58-aeb90c730784</td>\n",
       "      <td>0.026754988001112028</td>\n",
       "      <td>0</td>\n",
       "      <td>1</td>\n",
       "    </tr>\n",
       "    <tr>\n",
       "      <th>3</th>\n",
       "      <td>2024-10-26 15:36:19</td>\n",
       "      <td>4085569c-fc38-485b-9eb9-87e23466e91e</td>\n",
       "      <td>0.0570348930097323</td>\n",
       "      <td>0</td>\n",
       "      <td>1</td>\n",
       "    </tr>\n",
       "    <tr>\n",
       "      <th>4</th>\n",
       "      <td>2024-10-06 13:54:14</td>\n",
       "      <td>beba4758-2d8a-48b5-81df-7aaabc7e133e</td>\n",
       "      <td>0.059545727763827848</td>\n",
       "      <td>0</td>\n",
       "      <td>1</td>\n",
       "    </tr>\n",
       "  </tbody>\n",
       "</table>\n",
       "</div>"
      ],
      "text/plain": [
       "     disbursementdate                  digitalLoanAccountId  \\\n",
       "0 2024-07-16 19:09:27  a731f941-ed8a-4278-9ba4-1fd41132aa5e   \n",
       "1 2024-11-24 18:45:09  5be2f2c7-2401-48bc-a384-6f62c22866db   \n",
       "2 2024-12-01 12:21:56  1eac1869-c3c5-4ed8-aa58-aeb90c730784   \n",
       "3 2024-10-26 15:36:19  4085569c-fc38-485b-9eb9-87e23466e91e   \n",
       "4 2024-10-06 13:54:14  beba4758-2d8a-48b5-81df-7aaabc7e133e   \n",
       "\n",
       "      alpha_stack_score  ln_fpd30_flag  ln_mature_fpd30_flag  \n",
       "0  0.069973806482369935              0                     1  \n",
       "1  0.077115301205629469              0                     1  \n",
       "2  0.026754988001112028              0                     1  \n",
       "3    0.0570348930097323              0                     1  \n",
       "4  0.059545727763827848              0                     1  "
      ]
     },
     "execution_count": 92,
     "metadata": {},
     "output_type": "execute_result"
    }
   ],
   "source": [
    "# sa_stack_score\n",
    "\n",
    "sq = f\"\"\"\n",
    "with sa_stack_score as \n",
    "(SELECT \n",
    "    ln_disb_dtime disbursementdate,\n",
    "\tdigitalLoanAccountId,\n",
    "    alpha_stack_score,\n",
    "    ln_fpd30_flag,\n",
    "\tln_mature_fpd30_flag,\t\n",
    "\tFROM \n",
    "    {a}\n",
    "  WHERE \n",
    "     -- ln_disb_dtime >= '2023-07-01'\n",
    "    ln_appln_submit_datetime >= '2023-06-01'\n",
    "  -- AND\n",
    "  --   format_date('%Y-%m', ln_disb_dtime) = '2024-09'\n",
    "  AND\n",
    "    ln_fpd30_flag is not null\n",
    "  AND\n",
    "    alpha_stack_score  is not null\n",
    "  AND\n",
    "    ln_mature_fpd30_flag = 1\n",
    ")\n",
    "select * from sa_stack_score;\n",
    "\"\"\"\n",
    "\n",
    "sa_stack_scorefpd30 = client.query(sq).to_dataframe(progress_bar_type='tqdm')\n",
    "\n",
    "sa_stack_scorefpd30.head()"
   ]
  },
  {
   "cell_type": "code",
   "execution_count": 93,
   "metadata": {},
   "outputs": [
    {
     "data": {
      "application/vnd.microsoft.datawrangler.viewer.v0+json": {
       "columns": [
        {
         "name": "index",
         "rawType": "int64",
         "type": "integer"
        },
        {
         "name": "disbursementdate",
         "rawType": "datetime64[us]",
         "type": "unknown"
        },
        {
         "name": "digitalLoanAccountId",
         "rawType": "object",
         "type": "string"
        },
        {
         "name": "alpha_stack_score",
         "rawType": "object",
         "type": "string"
        },
        {
         "name": "ln_fpd30_flag",
         "rawType": "Int64",
         "type": "integer"
        },
        {
         "name": "ln_mature_fpd30_flag",
         "rawType": "Int64",
         "type": "integer"
        }
       ],
       "conversionMethod": "pd.DataFrame",
       "ref": "be3c9822-0726-4b74-afe4-90188d9515e1",
       "rows": [
        [
         "0",
         "2024-07-16 19:09:27",
         "a731f941-ed8a-4278-9ba4-1fd41132aa5e",
         "0.069973806482369935",
         "0",
         "1"
        ],
        [
         "1",
         "2024-11-24 18:45:09",
         "5be2f2c7-2401-48bc-a384-6f62c22866db",
         "0.077115301205629469",
         "0",
         "1"
        ],
        [
         "2",
         "2024-12-01 12:21:56",
         "1eac1869-c3c5-4ed8-aa58-aeb90c730784",
         "0.026754988001112028",
         "0",
         "1"
        ],
        [
         "3",
         "2024-10-26 15:36:19",
         "4085569c-fc38-485b-9eb9-87e23466e91e",
         "0.0570348930097323",
         "0",
         "1"
        ],
        [
         "4",
         "2024-10-06 13:54:14",
         "beba4758-2d8a-48b5-81df-7aaabc7e133e",
         "0.059545727763827848",
         "0",
         "1"
        ]
       ],
       "shape": {
        "columns": 5,
        "rows": 5
       }
      },
      "text/html": [
       "<div>\n",
       "<style scoped>\n",
       "    .dataframe tbody tr th:only-of-type {\n",
       "        vertical-align: middle;\n",
       "    }\n",
       "\n",
       "    .dataframe tbody tr th {\n",
       "        vertical-align: top;\n",
       "    }\n",
       "\n",
       "    .dataframe thead th {\n",
       "        text-align: right;\n",
       "    }\n",
       "</style>\n",
       "<table border=\"1\" class=\"dataframe\">\n",
       "  <thead>\n",
       "    <tr style=\"text-align: right;\">\n",
       "      <th></th>\n",
       "      <th>disbursementdate</th>\n",
       "      <th>digitalLoanAccountId</th>\n",
       "      <th>alpha_stack_score</th>\n",
       "      <th>ln_fpd30_flag</th>\n",
       "      <th>ln_mature_fpd30_flag</th>\n",
       "    </tr>\n",
       "  </thead>\n",
       "  <tbody>\n",
       "    <tr>\n",
       "      <th>0</th>\n",
       "      <td>2024-07-16 19:09:27</td>\n",
       "      <td>a731f941-ed8a-4278-9ba4-1fd41132aa5e</td>\n",
       "      <td>0.069973806482369935</td>\n",
       "      <td>0</td>\n",
       "      <td>1</td>\n",
       "    </tr>\n",
       "    <tr>\n",
       "      <th>1</th>\n",
       "      <td>2024-11-24 18:45:09</td>\n",
       "      <td>5be2f2c7-2401-48bc-a384-6f62c22866db</td>\n",
       "      <td>0.077115301205629469</td>\n",
       "      <td>0</td>\n",
       "      <td>1</td>\n",
       "    </tr>\n",
       "    <tr>\n",
       "      <th>2</th>\n",
       "      <td>2024-12-01 12:21:56</td>\n",
       "      <td>1eac1869-c3c5-4ed8-aa58-aeb90c730784</td>\n",
       "      <td>0.026754988001112028</td>\n",
       "      <td>0</td>\n",
       "      <td>1</td>\n",
       "    </tr>\n",
       "    <tr>\n",
       "      <th>3</th>\n",
       "      <td>2024-10-26 15:36:19</td>\n",
       "      <td>4085569c-fc38-485b-9eb9-87e23466e91e</td>\n",
       "      <td>0.0570348930097323</td>\n",
       "      <td>0</td>\n",
       "      <td>1</td>\n",
       "    </tr>\n",
       "    <tr>\n",
       "      <th>4</th>\n",
       "      <td>2024-10-06 13:54:14</td>\n",
       "      <td>beba4758-2d8a-48b5-81df-7aaabc7e133e</td>\n",
       "      <td>0.059545727763827848</td>\n",
       "      <td>0</td>\n",
       "      <td>1</td>\n",
       "    </tr>\n",
       "  </tbody>\n",
       "</table>\n",
       "</div>"
      ],
      "text/plain": [
       "     disbursementdate                  digitalLoanAccountId  \\\n",
       "0 2024-07-16 19:09:27  a731f941-ed8a-4278-9ba4-1fd41132aa5e   \n",
       "1 2024-11-24 18:45:09  5be2f2c7-2401-48bc-a384-6f62c22866db   \n",
       "2 2024-12-01 12:21:56  1eac1869-c3c5-4ed8-aa58-aeb90c730784   \n",
       "3 2024-10-26 15:36:19  4085569c-fc38-485b-9eb9-87e23466e91e   \n",
       "4 2024-10-06 13:54:14  beba4758-2d8a-48b5-81df-7aaabc7e133e   \n",
       "\n",
       "      alpha_stack_score  ln_fpd30_flag  ln_mature_fpd30_flag  \n",
       "0  0.069973806482369935              0                     1  \n",
       "1  0.077115301205629469              0                     1  \n",
       "2  0.026754988001112028              0                     1  \n",
       "3    0.0570348930097323              0                     1  \n",
       "4  0.059545727763827848              0                     1  "
      ]
     },
     "execution_count": 93,
     "metadata": {},
     "output_type": "execute_result"
    }
   ],
   "source": [
    "sa_stack_scorefpd30.head()"
   ]
  },
  {
   "cell_type": "code",
   "execution_count": 94,
   "metadata": {},
   "outputs": [
    {
     "name": "stderr",
     "output_type": "stream",
     "text": [
      "C:\\Users\\Dwaipayan\\AppData\\Local\\Temp\\ipykernel_53324\\1204584280.py:30: DeprecationWarning: DataFrameGroupBy.apply operated on the grouping columns. This behavior is deprecated, and in a future version of pandas the grouping columns will be excluded from the operation. Either pass `include_groups=False` to exclude the groupings or explicitly select the grouping columns after groupby to silence this warning.\n",
      "  weekly_gini = df.groupby('week').apply(\n",
      "C:\\Users\\Dwaipayan\\AppData\\Local\\Temp\\ipykernel_53324\\1204584280.py:41: DeprecationWarning: DataFrameGroupBy.apply operated on the grouping columns. This behavior is deprecated, and in a future version of pandas the grouping columns will be excluded from the operation. Either pass `include_groups=False` to exclude the groupings or explicitly select the grouping columns after groupby to silence this warning.\n",
      "  monthly_gini = df.groupby('month').apply(\n"
     ]
    },
    {
     "name": "stdout",
     "output_type": "stream",
     "text": [
      "The shape of dataframe after copy is:\t(115, 7)\n"
     ]
    },
    {
     "data": {
      "text/plain": [
       "array(['start_date', 'end_date', 'alpha_stack_score_FPD30_gini', 'period',\n",
       "       'Model_Name', 'version', 'bad_rate'], dtype=object)"
      ]
     },
     "execution_count": 94,
     "metadata": {},
     "output_type": "execute_result"
    }
   ],
   "source": [
    "gini_results = calculate_periodic_gini(sa_stack_scorefpd30, 'alpha_stack_score', 'ln_fpd30_flag', 'FPD30')\n",
    "M2FPD30 = gini_results.copy()\n",
    "print(f\"The shape of dataframe after copy is:\\t{M2FPD30.shape}\")\n",
    "M2FPD30.columns.values"
   ]
  },
  {
   "cell_type": "code",
   "execution_count": 95,
   "metadata": {},
   "outputs": [
    {
     "data": {
      "application/vnd.microsoft.datawrangler.viewer.v0+json": {
       "columns": [
        {
         "name": "index",
         "rawType": "object",
         "type": "string"
        },
        {
         "name": "start_date",
         "rawType": "object",
         "type": "unknown"
        },
        {
         "name": "end_date",
         "rawType": "object",
         "type": "unknown"
        },
        {
         "name": "alpha_stack_score_FPD30_gini",
         "rawType": "float64",
         "type": "float"
        }
       ],
       "conversionMethod": "pd.DataFrame",
       "ref": "72de81a9-11ec-4c17-8301-2e8688ca14d6",
       "rows": [
        [
         "count",
         "115",
         "115",
         "115.0"
        ],
        [
         "mean",
         "2024-04-20 10:13:33.913043456",
         "2024-04-30 21:54:46.956521728",
         "0.4044066181775014"
        ],
        [
         "min",
         "2023-05-29 00:00:00",
         "2023-06-04 00:00:00",
         "-0.26262626262626265"
        ],
        [
         "25%",
         "2023-11-09 12:00:00",
         "2023-11-22 12:00:00",
         "0.35865331587500915"
        ],
        [
         "50%",
         "2024-04-22 00:00:00",
         "2024-04-30 00:00:00",
         "0.3999999999999999"
        ],
        [
         "75%",
         "2024-09-30 12:00:00",
         "2024-10-09 12:00:00",
         "0.47876561184793953"
        ],
        [
         "max",
         "2025-03-10 00:00:00",
         "2025-03-31 00:00:00",
         "0.7840136054421769"
        ],
        [
         "std",
         null,
         null,
         "0.14261626200800803"
        ]
       ],
       "shape": {
        "columns": 3,
        "rows": 8
       }
      },
      "text/html": [
       "<div>\n",
       "<style scoped>\n",
       "    .dataframe tbody tr th:only-of-type {\n",
       "        vertical-align: middle;\n",
       "    }\n",
       "\n",
       "    .dataframe tbody tr th {\n",
       "        vertical-align: top;\n",
       "    }\n",
       "\n",
       "    .dataframe thead th {\n",
       "        text-align: right;\n",
       "    }\n",
       "</style>\n",
       "<table border=\"1\" class=\"dataframe\">\n",
       "  <thead>\n",
       "    <tr style=\"text-align: right;\">\n",
       "      <th></th>\n",
       "      <th>start_date</th>\n",
       "      <th>end_date</th>\n",
       "      <th>alpha_stack_score_FPD30_gini</th>\n",
       "    </tr>\n",
       "  </thead>\n",
       "  <tbody>\n",
       "    <tr>\n",
       "      <th>count</th>\n",
       "      <td>115</td>\n",
       "      <td>115</td>\n",
       "      <td>115.000000</td>\n",
       "    </tr>\n",
       "    <tr>\n",
       "      <th>mean</th>\n",
       "      <td>2024-04-20 10:13:33.913043456</td>\n",
       "      <td>2024-04-30 21:54:46.956521728</td>\n",
       "      <td>0.404407</td>\n",
       "    </tr>\n",
       "    <tr>\n",
       "      <th>min</th>\n",
       "      <td>2023-05-29 00:00:00</td>\n",
       "      <td>2023-06-04 00:00:00</td>\n",
       "      <td>-0.262626</td>\n",
       "    </tr>\n",
       "    <tr>\n",
       "      <th>25%</th>\n",
       "      <td>2023-11-09 12:00:00</td>\n",
       "      <td>2023-11-22 12:00:00</td>\n",
       "      <td>0.358653</td>\n",
       "    </tr>\n",
       "    <tr>\n",
       "      <th>50%</th>\n",
       "      <td>2024-04-22 00:00:00</td>\n",
       "      <td>2024-04-30 00:00:00</td>\n",
       "      <td>0.400000</td>\n",
       "    </tr>\n",
       "    <tr>\n",
       "      <th>75%</th>\n",
       "      <td>2024-09-30 12:00:00</td>\n",
       "      <td>2024-10-09 12:00:00</td>\n",
       "      <td>0.478766</td>\n",
       "    </tr>\n",
       "    <tr>\n",
       "      <th>max</th>\n",
       "      <td>2025-03-10 00:00:00</td>\n",
       "      <td>2025-03-31 00:00:00</td>\n",
       "      <td>0.784014</td>\n",
       "    </tr>\n",
       "    <tr>\n",
       "      <th>std</th>\n",
       "      <td>NaN</td>\n",
       "      <td>NaN</td>\n",
       "      <td>0.142616</td>\n",
       "    </tr>\n",
       "  </tbody>\n",
       "</table>\n",
       "</div>"
      ],
      "text/plain": [
       "                          start_date                       end_date  \\\n",
       "count                            115                            115   \n",
       "mean   2024-04-20 10:13:33.913043456  2024-04-30 21:54:46.956521728   \n",
       "min              2023-05-29 00:00:00            2023-06-04 00:00:00   \n",
       "25%              2023-11-09 12:00:00            2023-11-22 12:00:00   \n",
       "50%              2024-04-22 00:00:00            2024-04-30 00:00:00   \n",
       "75%              2024-09-30 12:00:00            2024-10-09 12:00:00   \n",
       "max              2025-03-10 00:00:00            2025-03-31 00:00:00   \n",
       "std                              NaN                            NaN   \n",
       "\n",
       "       alpha_stack_score_FPD30_gini  \n",
       "count                    115.000000  \n",
       "mean                       0.404407  \n",
       "min                       -0.262626  \n",
       "25%                        0.358653  \n",
       "50%                        0.400000  \n",
       "75%                        0.478766  \n",
       "max                        0.784014  \n",
       "std                        0.142616  "
      ]
     },
     "execution_count": 95,
     "metadata": {},
     "output_type": "execute_result"
    }
   ],
   "source": [
    "M2FPD30.describe()"
   ]
  },
  {
   "cell_type": "code",
   "execution_count": 96,
   "metadata": {},
   "outputs": [
    {
     "data": {
      "application/vnd.microsoft.datawrangler.viewer.v0+json": {
       "columns": [
        {
         "name": "index",
         "rawType": "int64",
         "type": "integer"
        },
        {
         "name": "start_date",
         "rawType": "datetime64[ns]",
         "type": "datetime"
        },
        {
         "name": "end_date",
         "rawType": "datetime64[ns]",
         "type": "datetime"
        },
        {
         "name": "alpha_stack_score_FPD30_gini",
         "rawType": "float64",
         "type": "float"
        },
        {
         "name": "period",
         "rawType": "object",
         "type": "string"
        },
        {
         "name": "Model_Name",
         "rawType": "object",
         "type": "string"
        },
        {
         "name": "version",
         "rawType": "object",
         "type": "string"
        },
        {
         "name": "bad_rate",
         "rawType": "object",
         "type": "string"
        }
       ],
       "conversionMethod": "pd.DataFrame",
       "ref": "e352c605-3c4c-415f-af6b-d02980f08523",
       "rows": [
        [
         "0",
         "2023-05-29 00:00:00",
         "2023-06-04 00:00:00",
         "0.5794871794871796",
         "Week",
         "alpha_stack_score",
         "1.1.0",
         "FPD30"
        ],
        [
         "1",
         "2023-06-01 00:00:00",
         "2023-06-30 00:00:00",
         "0.3583083583083584",
         "Month",
         "alpha_stack_score",
         "1.1.0",
         "FPD30"
        ],
        [
         "2",
         "2023-06-05 00:00:00",
         "2023-06-11 00:00:00",
         "0.6320346320346322",
         "Week",
         "alpha_stack_score",
         "1.1.0",
         "FPD30"
        ],
        [
         "3",
         "2023-06-12 00:00:00",
         "2023-06-18 00:00:00",
         "0.7325581395348837",
         "Week",
         "alpha_stack_score",
         "1.1.0",
         "FPD30"
        ],
        [
         "4",
         "2023-06-19 00:00:00",
         "2023-06-25 00:00:00",
         "0.10322580645161294",
         "Week",
         "alpha_stack_score",
         "1.1.0",
         "FPD30"
        ]
       ],
       "shape": {
        "columns": 7,
        "rows": 5
       }
      },
      "text/html": [
       "<div>\n",
       "<style scoped>\n",
       "    .dataframe tbody tr th:only-of-type {\n",
       "        vertical-align: middle;\n",
       "    }\n",
       "\n",
       "    .dataframe tbody tr th {\n",
       "        vertical-align: top;\n",
       "    }\n",
       "\n",
       "    .dataframe thead th {\n",
       "        text-align: right;\n",
       "    }\n",
       "</style>\n",
       "<table border=\"1\" class=\"dataframe\">\n",
       "  <thead>\n",
       "    <tr style=\"text-align: right;\">\n",
       "      <th></th>\n",
       "      <th>start_date</th>\n",
       "      <th>end_date</th>\n",
       "      <th>alpha_stack_score_FPD30_gini</th>\n",
       "      <th>period</th>\n",
       "      <th>Model_Name</th>\n",
       "      <th>version</th>\n",
       "      <th>bad_rate</th>\n",
       "    </tr>\n",
       "  </thead>\n",
       "  <tbody>\n",
       "    <tr>\n",
       "      <th>0</th>\n",
       "      <td>2023-05-29</td>\n",
       "      <td>2023-06-04</td>\n",
       "      <td>0.579487</td>\n",
       "      <td>Week</td>\n",
       "      <td>alpha_stack_score</td>\n",
       "      <td>1.1.0</td>\n",
       "      <td>FPD30</td>\n",
       "    </tr>\n",
       "    <tr>\n",
       "      <th>1</th>\n",
       "      <td>2023-06-01</td>\n",
       "      <td>2023-06-30</td>\n",
       "      <td>0.358308</td>\n",
       "      <td>Month</td>\n",
       "      <td>alpha_stack_score</td>\n",
       "      <td>1.1.0</td>\n",
       "      <td>FPD30</td>\n",
       "    </tr>\n",
       "    <tr>\n",
       "      <th>2</th>\n",
       "      <td>2023-06-05</td>\n",
       "      <td>2023-06-11</td>\n",
       "      <td>0.632035</td>\n",
       "      <td>Week</td>\n",
       "      <td>alpha_stack_score</td>\n",
       "      <td>1.1.0</td>\n",
       "      <td>FPD30</td>\n",
       "    </tr>\n",
       "    <tr>\n",
       "      <th>3</th>\n",
       "      <td>2023-06-12</td>\n",
       "      <td>2023-06-18</td>\n",
       "      <td>0.732558</td>\n",
       "      <td>Week</td>\n",
       "      <td>alpha_stack_score</td>\n",
       "      <td>1.1.0</td>\n",
       "      <td>FPD30</td>\n",
       "    </tr>\n",
       "    <tr>\n",
       "      <th>4</th>\n",
       "      <td>2023-06-19</td>\n",
       "      <td>2023-06-25</td>\n",
       "      <td>0.103226</td>\n",
       "      <td>Week</td>\n",
       "      <td>alpha_stack_score</td>\n",
       "      <td>1.1.0</td>\n",
       "      <td>FPD30</td>\n",
       "    </tr>\n",
       "  </tbody>\n",
       "</table>\n",
       "</div>"
      ],
      "text/plain": [
       "  start_date   end_date  alpha_stack_score_FPD30_gini period  \\\n",
       "0 2023-05-29 2023-06-04                      0.579487   Week   \n",
       "1 2023-06-01 2023-06-30                      0.358308  Month   \n",
       "2 2023-06-05 2023-06-11                      0.632035   Week   \n",
       "3 2023-06-12 2023-06-18                      0.732558   Week   \n",
       "4 2023-06-19 2023-06-25                      0.103226   Week   \n",
       "\n",
       "          Model_Name version bad_rate  \n",
       "0  alpha_stack_score   1.1.0    FPD30  \n",
       "1  alpha_stack_score   1.1.0    FPD30  \n",
       "2  alpha_stack_score   1.1.0    FPD30  \n",
       "3  alpha_stack_score   1.1.0    FPD30  \n",
       "4  alpha_stack_score   1.1.0    FPD30  "
      ]
     },
     "execution_count": 96,
     "metadata": {},
     "output_type": "execute_result"
    }
   ],
   "source": [
    "M2FPD30.head()"
   ]
  },
  {
   "cell_type": "markdown",
   "metadata": {},
   "source": [
    "## FSTPD30"
   ]
  },
  {
   "cell_type": "code",
   "execution_count": 97,
   "metadata": {},
   "outputs": [
    {
     "name": "stdout",
     "output_type": "stream",
     "text": [
      "Job ID 3e9c79aa-2663-418e-8621-9f621e48dd02 successfully executed: 100%|\u001b[32m██████████\u001b[0m|"
     ]
    },
    {
     "name": "stderr",
     "output_type": "stream",
     "text": [
      "C:\\Users\\Dwaipayan\\AppData\\Roaming\\Python\\Python312\\site-packages\\google\\cloud\\bigquery\\table.py:1900: UserWarning: BigQuery Storage module not found, fetch data with the REST endpoint instead.\n",
      "  warnings.warn(\n"
     ]
    },
    {
     "name": "stdout",
     "output_type": "stream",
     "text": [
      "\n",
      "Downloading: 100%|\u001b[32m██████████\u001b[0m|\n"
     ]
    },
    {
     "data": {
      "application/vnd.microsoft.datawrangler.viewer.v0+json": {
       "columns": [
        {
         "name": "index",
         "rawType": "int64",
         "type": "integer"
        },
        {
         "name": "disbursementdate",
         "rawType": "datetime64[us]",
         "type": "unknown"
        },
        {
         "name": "digitalLoanAccountId",
         "rawType": "object",
         "type": "string"
        },
        {
         "name": "alpha_stack_score",
         "rawType": "object",
         "type": "string"
        },
        {
         "name": "ln_fspd30_flag",
         "rawType": "Int64",
         "type": "integer"
        },
        {
         "name": "ln_mature_fspd30_flag",
         "rawType": "Int64",
         "type": "integer"
        }
       ],
       "conversionMethod": "pd.DataFrame",
       "ref": "39424cbe-687a-453b-a6a8-462bc0158b49",
       "rows": [
        [
         "0",
         "2024-08-11 13:28:11",
         "d41da9d2-9d65-4f4f-bfb6-398eaa9d10e1",
         "0.11593290096104082",
         "0",
         "1"
        ],
        [
         "1",
         "2025-01-25 19:05:49",
         "e549776f-7a2d-4b6c-9edc-e3b59e8955f6",
         "0.061401644119319233",
         "0",
         "1"
        ],
        [
         "2",
         "2024-05-02 17:24:11",
         "9b118965-74ea-4832-a640-8b5ea2cc140e",
         "0.019327939422041022",
         "0",
         "1"
        ],
        [
         "3",
         "2024-09-15 09:21:50",
         "2f8156e6-5c5b-454c-92d9-628291e6f99e",
         "0.04593283994386934",
         "0",
         "1"
        ],
        [
         "4",
         "2024-06-14 13:20:28",
         "5f412bbb-9b17-4761-8023-1a08640ad81c",
         "0.088680825110980882",
         "0",
         "1"
        ]
       ],
       "shape": {
        "columns": 5,
        "rows": 5
       }
      },
      "text/html": [
       "<div>\n",
       "<style scoped>\n",
       "    .dataframe tbody tr th:only-of-type {\n",
       "        vertical-align: middle;\n",
       "    }\n",
       "\n",
       "    .dataframe tbody tr th {\n",
       "        vertical-align: top;\n",
       "    }\n",
       "\n",
       "    .dataframe thead th {\n",
       "        text-align: right;\n",
       "    }\n",
       "</style>\n",
       "<table border=\"1\" class=\"dataframe\">\n",
       "  <thead>\n",
       "    <tr style=\"text-align: right;\">\n",
       "      <th></th>\n",
       "      <th>disbursementdate</th>\n",
       "      <th>digitalLoanAccountId</th>\n",
       "      <th>alpha_stack_score</th>\n",
       "      <th>ln_fspd30_flag</th>\n",
       "      <th>ln_mature_fspd30_flag</th>\n",
       "    </tr>\n",
       "  </thead>\n",
       "  <tbody>\n",
       "    <tr>\n",
       "      <th>0</th>\n",
       "      <td>2024-08-11 13:28:11</td>\n",
       "      <td>d41da9d2-9d65-4f4f-bfb6-398eaa9d10e1</td>\n",
       "      <td>0.11593290096104082</td>\n",
       "      <td>0</td>\n",
       "      <td>1</td>\n",
       "    </tr>\n",
       "    <tr>\n",
       "      <th>1</th>\n",
       "      <td>2025-01-25 19:05:49</td>\n",
       "      <td>e549776f-7a2d-4b6c-9edc-e3b59e8955f6</td>\n",
       "      <td>0.061401644119319233</td>\n",
       "      <td>0</td>\n",
       "      <td>1</td>\n",
       "    </tr>\n",
       "    <tr>\n",
       "      <th>2</th>\n",
       "      <td>2024-05-02 17:24:11</td>\n",
       "      <td>9b118965-74ea-4832-a640-8b5ea2cc140e</td>\n",
       "      <td>0.019327939422041022</td>\n",
       "      <td>0</td>\n",
       "      <td>1</td>\n",
       "    </tr>\n",
       "    <tr>\n",
       "      <th>3</th>\n",
       "      <td>2024-09-15 09:21:50</td>\n",
       "      <td>2f8156e6-5c5b-454c-92d9-628291e6f99e</td>\n",
       "      <td>0.04593283994386934</td>\n",
       "      <td>0</td>\n",
       "      <td>1</td>\n",
       "    </tr>\n",
       "    <tr>\n",
       "      <th>4</th>\n",
       "      <td>2024-06-14 13:20:28</td>\n",
       "      <td>5f412bbb-9b17-4761-8023-1a08640ad81c</td>\n",
       "      <td>0.088680825110980882</td>\n",
       "      <td>0</td>\n",
       "      <td>1</td>\n",
       "    </tr>\n",
       "  </tbody>\n",
       "</table>\n",
       "</div>"
      ],
      "text/plain": [
       "     disbursementdate                  digitalLoanAccountId  \\\n",
       "0 2024-08-11 13:28:11  d41da9d2-9d65-4f4f-bfb6-398eaa9d10e1   \n",
       "1 2025-01-25 19:05:49  e549776f-7a2d-4b6c-9edc-e3b59e8955f6   \n",
       "2 2024-05-02 17:24:11  9b118965-74ea-4832-a640-8b5ea2cc140e   \n",
       "3 2024-09-15 09:21:50  2f8156e6-5c5b-454c-92d9-628291e6f99e   \n",
       "4 2024-06-14 13:20:28  5f412bbb-9b17-4761-8023-1a08640ad81c   \n",
       "\n",
       "      alpha_stack_score  ln_fspd30_flag  ln_mature_fspd30_flag  \n",
       "0   0.11593290096104082               0                      1  \n",
       "1  0.061401644119319233               0                      1  \n",
       "2  0.019327939422041022               0                      1  \n",
       "3   0.04593283994386934               0                      1  \n",
       "4  0.088680825110980882               0                      1  "
      ]
     },
     "execution_count": 97,
     "metadata": {},
     "output_type": "execute_result"
    }
   ],
   "source": [
    "# sa_stack_score\n",
    "\n",
    "sq = f\"\"\"\n",
    "with sa_stack_score as \n",
    "(SELECT \n",
    "    ln_disb_dtime disbursementdate,\n",
    "\tdigitalLoanAccountId,\n",
    "    alpha_stack_score,\n",
    "    ln_fspd30_flag,\n",
    "\tln_mature_fspd30_flag,\t\n",
    "\tFROM \n",
    "    {a}\n",
    "  WHERE \n",
    "     -- ln_disb_dtime >= '2023-07-01'\n",
    "    ln_appln_submit_datetime >= '2023-06-01'\n",
    "  -- AND\n",
    "  --   format_date('%Y-%m', ln_disb_dtime) = '2024-09'\n",
    "  AND\n",
    "    ln_fspd30_flag is not null\n",
    "  AND\n",
    "    alpha_stack_score is not null\n",
    "  AND\n",
    "    ln_mature_fspd30_flag = 1\n",
    ")\n",
    "select * from sa_stack_score;\n",
    "\"\"\"\n",
    "\n",
    "sa_stack_scorefspd30 = client.query(sq).to_dataframe(progress_bar_type='tqdm')\n",
    "\n",
    "sa_stack_scorefspd30.head()"
   ]
  },
  {
   "cell_type": "code",
   "execution_count": 98,
   "metadata": {},
   "outputs": [
    {
     "name": "stdout",
     "output_type": "stream",
     "text": [
      "The shape of dataframe after copy is:\t(110, 7)\n"
     ]
    },
    {
     "name": "stderr",
     "output_type": "stream",
     "text": [
      "C:\\Users\\Dwaipayan\\AppData\\Local\\Temp\\ipykernel_53324\\1204584280.py:30: DeprecationWarning: DataFrameGroupBy.apply operated on the grouping columns. This behavior is deprecated, and in a future version of pandas the grouping columns will be excluded from the operation. Either pass `include_groups=False` to exclude the groupings or explicitly select the grouping columns after groupby to silence this warning.\n",
      "  weekly_gini = df.groupby('week').apply(\n",
      "C:\\Users\\Dwaipayan\\AppData\\Local\\Temp\\ipykernel_53324\\1204584280.py:41: DeprecationWarning: DataFrameGroupBy.apply operated on the grouping columns. This behavior is deprecated, and in a future version of pandas the grouping columns will be excluded from the operation. Either pass `include_groups=False` to exclude the groupings or explicitly select the grouping columns after groupby to silence this warning.\n",
      "  monthly_gini = df.groupby('month').apply(\n"
     ]
    },
    {
     "data": {
      "text/plain": [
       "array(['start_date', 'end_date', 'alpha_stack_score_FSPD30_gini',\n",
       "       'period', 'Model_Name', 'version', 'bad_rate'], dtype=object)"
      ]
     },
     "execution_count": 98,
     "metadata": {},
     "output_type": "execute_result"
    }
   ],
   "source": [
    "gini_results = calculate_periodic_gini(sa_stack_scorefspd30, 'alpha_stack_score', 'ln_fspd30_flag', 'FSPD30')\n",
    "M3FSPD30 = gini_results.copy()\n",
    "print(f\"The shape of dataframe after copy is:\\t{M3FSPD30.shape}\")\n",
    "M3FSPD30.columns.values"
   ]
  },
  {
   "cell_type": "code",
   "execution_count": 99,
   "metadata": {},
   "outputs": [
    {
     "data": {
      "application/vnd.microsoft.datawrangler.viewer.v0+json": {
       "columns": [
        {
         "name": "index",
         "rawType": "int64",
         "type": "integer"
        },
        {
         "name": "start_date",
         "rawType": "datetime64[ns]",
         "type": "datetime"
        },
        {
         "name": "end_date",
         "rawType": "datetime64[ns]",
         "type": "datetime"
        },
        {
         "name": "alpha_stack_score_FSPD30_gini",
         "rawType": "float64",
         "type": "float"
        },
        {
         "name": "period",
         "rawType": "object",
         "type": "string"
        },
        {
         "name": "Model_Name",
         "rawType": "object",
         "type": "string"
        },
        {
         "name": "version",
         "rawType": "object",
         "type": "string"
        },
        {
         "name": "bad_rate",
         "rawType": "object",
         "type": "string"
        }
       ],
       "conversionMethod": "pd.DataFrame",
       "ref": "c8f8aa32-ad4a-497e-b37d-15ad10af045b",
       "rows": [
        [
         "105",
         "2025-01-20 00:00:00",
         "2025-01-26 00:00:00",
         "0.34900414789387124",
         "Week",
         "alpha_stack_score",
         "1.1.0",
         "FSPD30"
        ],
        [
         "106",
         "2025-01-27 00:00:00",
         "2025-02-02 00:00:00",
         "0.35984109977819845",
         "Week",
         "alpha_stack_score",
         "1.1.0",
         "FSPD30"
        ],
        [
         "107",
         "2025-02-01 00:00:00",
         "2025-02-28 00:00:00",
         "0.34917274492102957",
         "Month",
         "alpha_stack_score",
         "1.1.0",
         "FSPD30"
        ],
        [
         "108",
         "2025-02-03 00:00:00",
         "2025-02-09 00:00:00",
         "0.33992627888159666",
         "Week",
         "alpha_stack_score",
         "1.1.0",
         "FSPD30"
        ],
        [
         "109",
         "2025-02-10 00:00:00",
         "2025-02-16 00:00:00",
         "0.39085059809405864",
         "Week",
         "alpha_stack_score",
         "1.1.0",
         "FSPD30"
        ]
       ],
       "shape": {
        "columns": 7,
        "rows": 5
       }
      },
      "text/html": [
       "<div>\n",
       "<style scoped>\n",
       "    .dataframe tbody tr th:only-of-type {\n",
       "        vertical-align: middle;\n",
       "    }\n",
       "\n",
       "    .dataframe tbody tr th {\n",
       "        vertical-align: top;\n",
       "    }\n",
       "\n",
       "    .dataframe thead th {\n",
       "        text-align: right;\n",
       "    }\n",
       "</style>\n",
       "<table border=\"1\" class=\"dataframe\">\n",
       "  <thead>\n",
       "    <tr style=\"text-align: right;\">\n",
       "      <th></th>\n",
       "      <th>start_date</th>\n",
       "      <th>end_date</th>\n",
       "      <th>alpha_stack_score_FSPD30_gini</th>\n",
       "      <th>period</th>\n",
       "      <th>Model_Name</th>\n",
       "      <th>version</th>\n",
       "      <th>bad_rate</th>\n",
       "    </tr>\n",
       "  </thead>\n",
       "  <tbody>\n",
       "    <tr>\n",
       "      <th>105</th>\n",
       "      <td>2025-01-20</td>\n",
       "      <td>2025-01-26</td>\n",
       "      <td>0.349004</td>\n",
       "      <td>Week</td>\n",
       "      <td>alpha_stack_score</td>\n",
       "      <td>1.1.0</td>\n",
       "      <td>FSPD30</td>\n",
       "    </tr>\n",
       "    <tr>\n",
       "      <th>106</th>\n",
       "      <td>2025-01-27</td>\n",
       "      <td>2025-02-02</td>\n",
       "      <td>0.359841</td>\n",
       "      <td>Week</td>\n",
       "      <td>alpha_stack_score</td>\n",
       "      <td>1.1.0</td>\n",
       "      <td>FSPD30</td>\n",
       "    </tr>\n",
       "    <tr>\n",
       "      <th>107</th>\n",
       "      <td>2025-02-01</td>\n",
       "      <td>2025-02-28</td>\n",
       "      <td>0.349173</td>\n",
       "      <td>Month</td>\n",
       "      <td>alpha_stack_score</td>\n",
       "      <td>1.1.0</td>\n",
       "      <td>FSPD30</td>\n",
       "    </tr>\n",
       "    <tr>\n",
       "      <th>108</th>\n",
       "      <td>2025-02-03</td>\n",
       "      <td>2025-02-09</td>\n",
       "      <td>0.339926</td>\n",
       "      <td>Week</td>\n",
       "      <td>alpha_stack_score</td>\n",
       "      <td>1.1.0</td>\n",
       "      <td>FSPD30</td>\n",
       "    </tr>\n",
       "    <tr>\n",
       "      <th>109</th>\n",
       "      <td>2025-02-10</td>\n",
       "      <td>2025-02-16</td>\n",
       "      <td>0.390851</td>\n",
       "      <td>Week</td>\n",
       "      <td>alpha_stack_score</td>\n",
       "      <td>1.1.0</td>\n",
       "      <td>FSPD30</td>\n",
       "    </tr>\n",
       "  </tbody>\n",
       "</table>\n",
       "</div>"
      ],
      "text/plain": [
       "    start_date   end_date  alpha_stack_score_FSPD30_gini period  \\\n",
       "105 2025-01-20 2025-01-26                       0.349004   Week   \n",
       "106 2025-01-27 2025-02-02                       0.359841   Week   \n",
       "107 2025-02-01 2025-02-28                       0.349173  Month   \n",
       "108 2025-02-03 2025-02-09                       0.339926   Week   \n",
       "109 2025-02-10 2025-02-16                       0.390851   Week   \n",
       "\n",
       "            Model_Name version bad_rate  \n",
       "105  alpha_stack_score   1.1.0   FSPD30  \n",
       "106  alpha_stack_score   1.1.0   FSPD30  \n",
       "107  alpha_stack_score   1.1.0   FSPD30  \n",
       "108  alpha_stack_score   1.1.0   FSPD30  \n",
       "109  alpha_stack_score   1.1.0   FSPD30  "
      ]
     },
     "execution_count": 99,
     "metadata": {},
     "output_type": "execute_result"
    }
   ],
   "source": [
    "M3FSPD30.tail()"
   ]
  },
  {
   "cell_type": "markdown",
   "metadata": {},
   "source": [
    "## FSTPD30"
   ]
  },
  {
   "cell_type": "code",
   "execution_count": 100,
   "metadata": {},
   "outputs": [
    {
     "name": "stdout",
     "output_type": "stream",
     "text": [
      "Job ID a7394d9e-80d9-45aa-a558-68515c5e94c7 successfully executed: 100%|\u001b[32m██████████\u001b[0m|"
     ]
    },
    {
     "name": "stderr",
     "output_type": "stream",
     "text": [
      "C:\\Users\\Dwaipayan\\AppData\\Roaming\\Python\\Python312\\site-packages\\google\\cloud\\bigquery\\table.py:1900: UserWarning: BigQuery Storage module not found, fetch data with the REST endpoint instead.\n",
      "  warnings.warn(\n"
     ]
    },
    {
     "name": "stdout",
     "output_type": "stream",
     "text": [
      "\n",
      "Downloading: 100%|\u001b[32m██████████\u001b[0m|\n"
     ]
    },
    {
     "data": {
      "application/vnd.microsoft.datawrangler.viewer.v0+json": {
       "columns": [
        {
         "name": "index",
         "rawType": "int64",
         "type": "integer"
        },
        {
         "name": "disbursementdate",
         "rawType": "datetime64[us]",
         "type": "unknown"
        },
        {
         "name": "digitalLoanAccountId",
         "rawType": "object",
         "type": "string"
        },
        {
         "name": "alpha_stack_score",
         "rawType": "object",
         "type": "string"
        },
        {
         "name": "ln_fstpd30_flag",
         "rawType": "Int64",
         "type": "integer"
        },
        {
         "name": "ln_mature_fstpd30_flag",
         "rawType": "Int64",
         "type": "integer"
        }
       ],
       "conversionMethod": "pd.DataFrame",
       "ref": "a3b95c19-0c3d-4f80-80ac-280d2600a108",
       "rows": [
        [
         "0",
         "2024-07-16 19:09:27",
         "a731f941-ed8a-4278-9ba4-1fd41132aa5e",
         "0.069973806482369935",
         "0",
         "1"
        ],
        [
         "1",
         "2024-11-24 18:45:09",
         "5be2f2c7-2401-48bc-a384-6f62c22866db",
         "0.077115301205629469",
         "0",
         "1"
        ],
        [
         "2",
         "2024-12-01 12:21:56",
         "1eac1869-c3c5-4ed8-aa58-aeb90c730784",
         "0.026754988001112028",
         "0",
         "1"
        ],
        [
         "3",
         "2024-10-26 15:36:19",
         "4085569c-fc38-485b-9eb9-87e23466e91e",
         "0.0570348930097323",
         "0",
         "1"
        ],
        [
         "4",
         "2024-10-06 13:54:14",
         "beba4758-2d8a-48b5-81df-7aaabc7e133e",
         "0.059545727763827848",
         "0",
         "1"
        ]
       ],
       "shape": {
        "columns": 5,
        "rows": 5
       }
      },
      "text/html": [
       "<div>\n",
       "<style scoped>\n",
       "    .dataframe tbody tr th:only-of-type {\n",
       "        vertical-align: middle;\n",
       "    }\n",
       "\n",
       "    .dataframe tbody tr th {\n",
       "        vertical-align: top;\n",
       "    }\n",
       "\n",
       "    .dataframe thead th {\n",
       "        text-align: right;\n",
       "    }\n",
       "</style>\n",
       "<table border=\"1\" class=\"dataframe\">\n",
       "  <thead>\n",
       "    <tr style=\"text-align: right;\">\n",
       "      <th></th>\n",
       "      <th>disbursementdate</th>\n",
       "      <th>digitalLoanAccountId</th>\n",
       "      <th>alpha_stack_score</th>\n",
       "      <th>ln_fstpd30_flag</th>\n",
       "      <th>ln_mature_fstpd30_flag</th>\n",
       "    </tr>\n",
       "  </thead>\n",
       "  <tbody>\n",
       "    <tr>\n",
       "      <th>0</th>\n",
       "      <td>2024-07-16 19:09:27</td>\n",
       "      <td>a731f941-ed8a-4278-9ba4-1fd41132aa5e</td>\n",
       "      <td>0.069973806482369935</td>\n",
       "      <td>0</td>\n",
       "      <td>1</td>\n",
       "    </tr>\n",
       "    <tr>\n",
       "      <th>1</th>\n",
       "      <td>2024-11-24 18:45:09</td>\n",
       "      <td>5be2f2c7-2401-48bc-a384-6f62c22866db</td>\n",
       "      <td>0.077115301205629469</td>\n",
       "      <td>0</td>\n",
       "      <td>1</td>\n",
       "    </tr>\n",
       "    <tr>\n",
       "      <th>2</th>\n",
       "      <td>2024-12-01 12:21:56</td>\n",
       "      <td>1eac1869-c3c5-4ed8-aa58-aeb90c730784</td>\n",
       "      <td>0.026754988001112028</td>\n",
       "      <td>0</td>\n",
       "      <td>1</td>\n",
       "    </tr>\n",
       "    <tr>\n",
       "      <th>3</th>\n",
       "      <td>2024-10-26 15:36:19</td>\n",
       "      <td>4085569c-fc38-485b-9eb9-87e23466e91e</td>\n",
       "      <td>0.0570348930097323</td>\n",
       "      <td>0</td>\n",
       "      <td>1</td>\n",
       "    </tr>\n",
       "    <tr>\n",
       "      <th>4</th>\n",
       "      <td>2024-10-06 13:54:14</td>\n",
       "      <td>beba4758-2d8a-48b5-81df-7aaabc7e133e</td>\n",
       "      <td>0.059545727763827848</td>\n",
       "      <td>0</td>\n",
       "      <td>1</td>\n",
       "    </tr>\n",
       "  </tbody>\n",
       "</table>\n",
       "</div>"
      ],
      "text/plain": [
       "     disbursementdate                  digitalLoanAccountId  \\\n",
       "0 2024-07-16 19:09:27  a731f941-ed8a-4278-9ba4-1fd41132aa5e   \n",
       "1 2024-11-24 18:45:09  5be2f2c7-2401-48bc-a384-6f62c22866db   \n",
       "2 2024-12-01 12:21:56  1eac1869-c3c5-4ed8-aa58-aeb90c730784   \n",
       "3 2024-10-26 15:36:19  4085569c-fc38-485b-9eb9-87e23466e91e   \n",
       "4 2024-10-06 13:54:14  beba4758-2d8a-48b5-81df-7aaabc7e133e   \n",
       "\n",
       "      alpha_stack_score  ln_fstpd30_flag  ln_mature_fstpd30_flag  \n",
       "0  0.069973806482369935                0                       1  \n",
       "1  0.077115301205629469                0                       1  \n",
       "2  0.026754988001112028                0                       1  \n",
       "3    0.0570348930097323                0                       1  \n",
       "4  0.059545727763827848                0                       1  "
      ]
     },
     "execution_count": 100,
     "metadata": {},
     "output_type": "execute_result"
    }
   ],
   "source": [
    "# sa_stack_score\n",
    "\n",
    "sq = f\"\"\"\n",
    "with sa_stack_score as \n",
    "(SELECT \n",
    "    ln_disb_dtime disbursementdate,\n",
    "\tdigitalLoanAccountId,\n",
    "    alpha_stack_score,\n",
    "    ln_fstpd30_flag,\n",
    "\tln_mature_fstpd30_flag,\t\n",
    "\tFROM \n",
    "    {a}\n",
    "  WHERE \n",
    "     -- ln_disb_dtime >= '2023-07-01'\n",
    "    ln_appln_submit_datetime >= '2023-06-01'\n",
    "  -- AND\n",
    "  --   format_date('%Y-%m', ln_disb_dtime) = '2024-09'\n",
    "  AND\n",
    "    ln_fstpd30_flag is not null\n",
    "  AND\n",
    "    alpha_stack_score is not null\n",
    "  AND\n",
    "    ln_mature_fstpd30_flag = 1\n",
    ")\n",
    "select * from sa_stack_score;\n",
    "\"\"\"\n",
    "\n",
    "sa_stack_scorefstpd30 = client.query(sq).to_dataframe(progress_bar_type='tqdm')\n",
    "\n",
    "sa_stack_scorefstpd30.head()"
   ]
  },
  {
   "cell_type": "code",
   "execution_count": 101,
   "metadata": {},
   "outputs": [
    {
     "data": {
      "application/vnd.microsoft.datawrangler.viewer.v0+json": {
       "columns": [
        {
         "name": "index",
         "rawType": "int64",
         "type": "integer"
        },
        {
         "name": "disbursementdate",
         "rawType": "datetime64[us]",
         "type": "unknown"
        },
        {
         "name": "digitalLoanAccountId",
         "rawType": "object",
         "type": "string"
        },
        {
         "name": "alpha_stack_score",
         "rawType": "object",
         "type": "string"
        },
        {
         "name": "ln_fstpd30_flag",
         "rawType": "Int64",
         "type": "integer"
        },
        {
         "name": "ln_mature_fstpd30_flag",
         "rawType": "Int64",
         "type": "integer"
        }
       ],
       "conversionMethod": "pd.DataFrame",
       "ref": "ffd3cf91-f5b6-4335-ae5a-d47f43c6d32d",
       "rows": [
        [
         "113516",
         "2024-11-06 18:16:04",
         "4158dd38-80a4-47af-8e3a-3f8338ea68bc",
         "0.10902512788987022",
         "1",
         "1"
        ],
        [
         "113517",
         "2024-09-07 19:12:55",
         "a351cd38-c308-402d-aad4-d8b450a829db",
         "0.10476286787512382",
         "1",
         "1"
        ],
        [
         "113518",
         "2024-09-24 17:14:50",
         "4d135fe9-82fe-4a3e-808e-83af626c54ef",
         "0.055470622276346457",
         "1",
         "1"
        ],
        [
         "113519",
         "2024-11-20 18:35:51",
         "7bf3cc80-e339-4a69-b862-b98634a5c9d5",
         "0.11942382654301056",
         "1",
         "1"
        ],
        [
         "113520",
         "2024-12-15 11:48:55",
         "4dc30243-efda-464f-abf5-55d198cd53d1",
         "0.10342966184483206",
         "1",
         "1"
        ]
       ],
       "shape": {
        "columns": 5,
        "rows": 5
       }
      },
      "text/html": [
       "<div>\n",
       "<style scoped>\n",
       "    .dataframe tbody tr th:only-of-type {\n",
       "        vertical-align: middle;\n",
       "    }\n",
       "\n",
       "    .dataframe tbody tr th {\n",
       "        vertical-align: top;\n",
       "    }\n",
       "\n",
       "    .dataframe thead th {\n",
       "        text-align: right;\n",
       "    }\n",
       "</style>\n",
       "<table border=\"1\" class=\"dataframe\">\n",
       "  <thead>\n",
       "    <tr style=\"text-align: right;\">\n",
       "      <th></th>\n",
       "      <th>disbursementdate</th>\n",
       "      <th>digitalLoanAccountId</th>\n",
       "      <th>alpha_stack_score</th>\n",
       "      <th>ln_fstpd30_flag</th>\n",
       "      <th>ln_mature_fstpd30_flag</th>\n",
       "    </tr>\n",
       "  </thead>\n",
       "  <tbody>\n",
       "    <tr>\n",
       "      <th>113516</th>\n",
       "      <td>2024-11-06 18:16:04</td>\n",
       "      <td>4158dd38-80a4-47af-8e3a-3f8338ea68bc</td>\n",
       "      <td>0.10902512788987022</td>\n",
       "      <td>1</td>\n",
       "      <td>1</td>\n",
       "    </tr>\n",
       "    <tr>\n",
       "      <th>113517</th>\n",
       "      <td>2024-09-07 19:12:55</td>\n",
       "      <td>a351cd38-c308-402d-aad4-d8b450a829db</td>\n",
       "      <td>0.10476286787512382</td>\n",
       "      <td>1</td>\n",
       "      <td>1</td>\n",
       "    </tr>\n",
       "    <tr>\n",
       "      <th>113518</th>\n",
       "      <td>2024-09-24 17:14:50</td>\n",
       "      <td>4d135fe9-82fe-4a3e-808e-83af626c54ef</td>\n",
       "      <td>0.055470622276346457</td>\n",
       "      <td>1</td>\n",
       "      <td>1</td>\n",
       "    </tr>\n",
       "    <tr>\n",
       "      <th>113519</th>\n",
       "      <td>2024-11-20 18:35:51</td>\n",
       "      <td>7bf3cc80-e339-4a69-b862-b98634a5c9d5</td>\n",
       "      <td>0.11942382654301056</td>\n",
       "      <td>1</td>\n",
       "      <td>1</td>\n",
       "    </tr>\n",
       "    <tr>\n",
       "      <th>113520</th>\n",
       "      <td>2024-12-15 11:48:55</td>\n",
       "      <td>4dc30243-efda-464f-abf5-55d198cd53d1</td>\n",
       "      <td>0.10342966184483206</td>\n",
       "      <td>1</td>\n",
       "      <td>1</td>\n",
       "    </tr>\n",
       "  </tbody>\n",
       "</table>\n",
       "</div>"
      ],
      "text/plain": [
       "          disbursementdate                  digitalLoanAccountId  \\\n",
       "113516 2024-11-06 18:16:04  4158dd38-80a4-47af-8e3a-3f8338ea68bc   \n",
       "113517 2024-09-07 19:12:55  a351cd38-c308-402d-aad4-d8b450a829db   \n",
       "113518 2024-09-24 17:14:50  4d135fe9-82fe-4a3e-808e-83af626c54ef   \n",
       "113519 2024-11-20 18:35:51  7bf3cc80-e339-4a69-b862-b98634a5c9d5   \n",
       "113520 2024-12-15 11:48:55  4dc30243-efda-464f-abf5-55d198cd53d1   \n",
       "\n",
       "           alpha_stack_score  ln_fstpd30_flag  ln_mature_fstpd30_flag  \n",
       "113516   0.10902512788987022                1                       1  \n",
       "113517   0.10476286787512382                1                       1  \n",
       "113518  0.055470622276346457                1                       1  \n",
       "113519   0.11942382654301056                1                       1  \n",
       "113520   0.10342966184483206                1                       1  "
      ]
     },
     "execution_count": 101,
     "metadata": {},
     "output_type": "execute_result"
    }
   ],
   "source": [
    "sa_stack_scorefstpd30.tail()"
   ]
  },
  {
   "cell_type": "code",
   "execution_count": 102,
   "metadata": {},
   "outputs": [
    {
     "name": "stdout",
     "output_type": "stream",
     "text": [
      "The shape of dataframe after copy is:\t(105, 7)\n"
     ]
    },
    {
     "name": "stderr",
     "output_type": "stream",
     "text": [
      "C:\\Users\\Dwaipayan\\AppData\\Local\\Temp\\ipykernel_53324\\1204584280.py:30: DeprecationWarning: DataFrameGroupBy.apply operated on the grouping columns. This behavior is deprecated, and in a future version of pandas the grouping columns will be excluded from the operation. Either pass `include_groups=False` to exclude the groupings or explicitly select the grouping columns after groupby to silence this warning.\n",
      "  weekly_gini = df.groupby('week').apply(\n",
      "C:\\Users\\Dwaipayan\\AppData\\Local\\Temp\\ipykernel_53324\\1204584280.py:41: DeprecationWarning: DataFrameGroupBy.apply operated on the grouping columns. This behavior is deprecated, and in a future version of pandas the grouping columns will be excluded from the operation. Either pass `include_groups=False` to exclude the groupings or explicitly select the grouping columns after groupby to silence this warning.\n",
      "  monthly_gini = df.groupby('month').apply(\n"
     ]
    },
    {
     "data": {
      "text/plain": [
       "array(['start_date', 'end_date', 'alpha_stack_score_FSTPD30_gini',\n",
       "       'period', 'Model_Name', 'version', 'bad_rate'], dtype=object)"
      ]
     },
     "execution_count": 102,
     "metadata": {},
     "output_type": "execute_result"
    }
   ],
   "source": [
    "gini_results = calculate_periodic_gini(sa_stack_scorefstpd30, 'alpha_stack_score', 'ln_fstpd30_flag', 'FSTPD30')\n",
    "M4FSTPD30 = gini_results.copy()\n",
    "print(f\"The shape of dataframe after copy is:\\t{M4FSTPD30.shape}\")\n",
    "M4FSTPD30.columns.values"
   ]
  },
  {
   "cell_type": "markdown",
   "metadata": {},
   "source": [
    "## Combining the dataframes"
   ]
  },
  {
   "cell_type": "code",
   "execution_count": 103,
   "metadata": {},
   "outputs": [
    {
     "data": {
      "text/plain": [
       "array(['start_date', 'end_date', 'alpha_stack_score_FPD10_gini', 'period',\n",
       "       'Model_Name', 'version', 'bad_rate',\n",
       "       'alpha_stack_score_FPD30_gini', 'alpha_stack_score_FSPD30_gini',\n",
       "       'alpha_stack_score_FSTPD30_gini'], dtype=object)"
      ]
     },
     "execution_count": 103,
     "metadata": {},
     "output_type": "execute_result"
    }
   ],
   "source": [
    "import functools\n",
    "\n",
    "dataframes = [M1FPD10, M2FPD30, M3FSPD30, M4FSTPD30]\n",
    "common_columns = ['start_date', 'end_date', 'period', 'Model_Name','version', 'bad_rate']\n",
    "\n",
    "def merge_dataframes(df1, df2):\n",
    "    return pd.merge(df1, df2, on=common_columns, how='outer')\n",
    "\n",
    "final_df = functools.reduce(merge_dataframes, dataframes)\n",
    "\n",
    "final_df.columns.values"
   ]
  },
  {
   "cell_type": "code",
   "execution_count": 104,
   "metadata": {},
   "outputs": [],
   "source": [
    "final_df = final_df[['start_date', 'end_date', 'period', 'Model_Name', 'version', 'bad_rate', 'alpha_stack_score_FPD10_gini', 'alpha_stack_score_FPD30_gini',  'alpha_stack_score_FSPD30_gini', 'alpha_stack_score_FSTPD30_gini']].copy()"
   ]
  },
  {
   "cell_type": "markdown",
   "metadata": {},
   "source": [
    "## Creating the table "
   ]
  },
  {
   "cell_type": "code",
   "execution_count": 105,
   "metadata": {},
   "outputs": [
    {
     "data": {
      "text/plain": [
       "QueryJob<project=prj-prod-dataplatform, location=asia-southeast1, id=24dff5ea-c707-45fb-99e3-7d2814b27edc>"
      ]
     },
     "execution_count": 105,
     "metadata": {},
     "output_type": "execute_result"
    }
   ],
   "source": [
    "sq = \"\"\"drop table if exists prj-prod-dataplatform.dap_ds_poweruser_playground.Model_gini_sa_stack_score;\"\"\"\n",
    "\n",
    "client.query(sq)"
   ]
  },
  {
   "cell_type": "code",
   "execution_count": 106,
   "metadata": {},
   "outputs": [
    {
     "name": "stderr",
     "output_type": "stream",
     "text": [
      "C:\\Users\\Dwaipayan\\AppData\\Roaming\\Python\\Python312\\site-packages\\google\\cloud\\bigquery\\_pandas_helpers.py:483: FutureWarning: Loading pandas DataFrame into BigQuery will require pandas-gbq package version 0.26.1 or greater in the future. Tried to import pandas-gbq and got: No module named 'pandas_gbq'\n",
      "  warnings.warn(\n"
     ]
    },
    {
     "data": {
      "text/plain": [
       "LoadJob<project=prj-prod-dataplatform, location=asia-southeast1, id=c8c22a9e-9d66-422e-a65a-720cd5730306>"
      ]
     },
     "execution_count": 106,
     "metadata": {},
     "output_type": "execute_result"
    }
   ],
   "source": [
    "import pandas as pd\n",
    "from google.cloud import bigquery\n",
    "\n",
    "# Create a BigQuery client\n",
    "client = bigquery.Client('prj-prod-dataplatform')\n",
    "\n",
    "# Define your table schema\n",
    "table_schema = [\n",
    "    bigquery.SchemaField('start_date', 'TIMESTAMP'),\n",
    "    bigquery.SchemaField('end_date', 'TIMESTAMP'),\n",
    "    bigquery.SchemaField('period', 'STRING'),\n",
    "    bigquery.SchemaField('Model_Name', 'STRING'),\n",
    "    bigquery.SchemaField('version', 'STRING'),\n",
    "    bigquery.SchemaField('Badrate', 'STRING'),\n",
    "    bigquery.SchemaField('alpha_stack_score_FPD10_gini', 'FLOAT'),\n",
    "    bigquery.SchemaField('alpha_stack_score_FPD30_gini', 'FLOAT'),    \n",
    "    bigquery.SchemaField('alpha_stack_score_FSPD30_gini', 'FLOAT'),\n",
    "    bigquery.SchemaField('alpha_stack_score_FSTPD30_gini', 'FLOAT')\n",
    "    \n",
    "]\n",
    "\n",
    "# Create your BigQuery table\n",
    "table_id = 'prj-prod-dataplatform.dap_ds_poweruser_playground.Model_gini_sa_stack_score'\n",
    "table = bigquery.Table(table_id, schema=table_schema)\n",
    "table = client.create_table(table)\n",
    "\n",
    "# Load your DataFrame into BigQuery\n",
    "job_config = bigquery.LoadJobConfig(\n",
    "    write_disposition='WRITE_TRUNCATE'\n",
    ")\n",
    "\n",
    "load_job = client.load_table_from_dataframe(\n",
    "    final_df, table_id, job_config=job_config\n",
    ")\n",
    "\n",
    "load_job.result()"
   ]
  },
  {
   "cell_type": "markdown",
   "metadata": {},
   "source": [
    "# gen_credo_score"
   ]
  },
  {
   "cell_type": "markdown",
   "metadata": {},
   "source": [
    "## FPD10"
   ]
  },
  {
   "cell_type": "code",
   "execution_count": 107,
   "metadata": {},
   "outputs": [
    {
     "name": "stdout",
     "output_type": "stream",
     "text": [
      "Job ID 633e4e4c-192a-4d7e-a774-34f8ee7c8476 successfully executed: 100%|\u001b[32m██████████\u001b[0m|"
     ]
    },
    {
     "name": "stderr",
     "output_type": "stream",
     "text": [
      "C:\\Users\\Dwaipayan\\AppData\\Roaming\\Python\\Python312\\site-packages\\google\\cloud\\bigquery\\table.py:1900: UserWarning: BigQuery Storage module not found, fetch data with the REST endpoint instead.\n",
      "  warnings.warn(\n"
     ]
    },
    {
     "name": "stdout",
     "output_type": "stream",
     "text": [
      "\n",
      "Downloading: 100%|\u001b[32m██████████\u001b[0m|\n"
     ]
    },
    {
     "data": {
      "application/vnd.microsoft.datawrangler.viewer.v0+json": {
       "columns": [
        {
         "name": "index",
         "rawType": "int64",
         "type": "integer"
        },
        {
         "name": "disbursementdate",
         "rawType": "datetime64[us]",
         "type": "unknown"
        },
        {
         "name": "digitalLoanAccountId",
         "rawType": "object",
         "type": "string"
        },
        {
         "name": "credo_gen_score",
         "rawType": "object",
         "type": "string"
        },
        {
         "name": "ln_fpd10_flag",
         "rawType": "Int64",
         "type": "integer"
        },
        {
         "name": "ln_mature_fpd10_flag",
         "rawType": "Int64",
         "type": "integer"
        }
       ],
       "conversionMethod": "pd.DataFrame",
       "ref": "665037e1-ff09-4f9e-974d-d30b0ebf08bd",
       "rows": [
        [
         "0",
         "2024-07-16 19:09:27",
         "a731f941-ed8a-4278-9ba4-1fd41132aa5e",
         "0.185555630270027",
         "0",
         "1"
        ],
        [
         "1",
         "2024-11-24 18:45:09",
         "5be2f2c7-2401-48bc-a384-6f62c22866db",
         "0.117975604455025",
         "0",
         "1"
        ],
        [
         "2",
         "2023-12-17 19:38:05",
         "0c97d2b7-3157-4f68-a502-636f59339b6d",
         "0.0569014060520808",
         "0",
         "1"
        ],
        [
         "3",
         "2024-12-01 12:21:56",
         "1eac1869-c3c5-4ed8-aa58-aeb90c730784",
         "0.118863497623177",
         "0",
         "1"
        ],
        [
         "4",
         "2024-10-26 15:36:19",
         "4085569c-fc38-485b-9eb9-87e23466e91e",
         "0.041753556447116",
         "0",
         "1"
        ]
       ],
       "shape": {
        "columns": 5,
        "rows": 5
       }
      },
      "text/html": [
       "<div>\n",
       "<style scoped>\n",
       "    .dataframe tbody tr th:only-of-type {\n",
       "        vertical-align: middle;\n",
       "    }\n",
       "\n",
       "    .dataframe tbody tr th {\n",
       "        vertical-align: top;\n",
       "    }\n",
       "\n",
       "    .dataframe thead th {\n",
       "        text-align: right;\n",
       "    }\n",
       "</style>\n",
       "<table border=\"1\" class=\"dataframe\">\n",
       "  <thead>\n",
       "    <tr style=\"text-align: right;\">\n",
       "      <th></th>\n",
       "      <th>disbursementdate</th>\n",
       "      <th>digitalLoanAccountId</th>\n",
       "      <th>credo_gen_score</th>\n",
       "      <th>ln_fpd10_flag</th>\n",
       "      <th>ln_mature_fpd10_flag</th>\n",
       "    </tr>\n",
       "  </thead>\n",
       "  <tbody>\n",
       "    <tr>\n",
       "      <th>0</th>\n",
       "      <td>2024-07-16 19:09:27</td>\n",
       "      <td>a731f941-ed8a-4278-9ba4-1fd41132aa5e</td>\n",
       "      <td>0.185555630270027</td>\n",
       "      <td>0</td>\n",
       "      <td>1</td>\n",
       "    </tr>\n",
       "    <tr>\n",
       "      <th>1</th>\n",
       "      <td>2024-11-24 18:45:09</td>\n",
       "      <td>5be2f2c7-2401-48bc-a384-6f62c22866db</td>\n",
       "      <td>0.117975604455025</td>\n",
       "      <td>0</td>\n",
       "      <td>1</td>\n",
       "    </tr>\n",
       "    <tr>\n",
       "      <th>2</th>\n",
       "      <td>2023-12-17 19:38:05</td>\n",
       "      <td>0c97d2b7-3157-4f68-a502-636f59339b6d</td>\n",
       "      <td>0.0569014060520808</td>\n",
       "      <td>0</td>\n",
       "      <td>1</td>\n",
       "    </tr>\n",
       "    <tr>\n",
       "      <th>3</th>\n",
       "      <td>2024-12-01 12:21:56</td>\n",
       "      <td>1eac1869-c3c5-4ed8-aa58-aeb90c730784</td>\n",
       "      <td>0.118863497623177</td>\n",
       "      <td>0</td>\n",
       "      <td>1</td>\n",
       "    </tr>\n",
       "    <tr>\n",
       "      <th>4</th>\n",
       "      <td>2024-10-26 15:36:19</td>\n",
       "      <td>4085569c-fc38-485b-9eb9-87e23466e91e</td>\n",
       "      <td>0.041753556447116</td>\n",
       "      <td>0</td>\n",
       "      <td>1</td>\n",
       "    </tr>\n",
       "  </tbody>\n",
       "</table>\n",
       "</div>"
      ],
      "text/plain": [
       "     disbursementdate                  digitalLoanAccountId  \\\n",
       "0 2024-07-16 19:09:27  a731f941-ed8a-4278-9ba4-1fd41132aa5e   \n",
       "1 2024-11-24 18:45:09  5be2f2c7-2401-48bc-a384-6f62c22866db   \n",
       "2 2023-12-17 19:38:05  0c97d2b7-3157-4f68-a502-636f59339b6d   \n",
       "3 2024-12-01 12:21:56  1eac1869-c3c5-4ed8-aa58-aeb90c730784   \n",
       "4 2024-10-26 15:36:19  4085569c-fc38-485b-9eb9-87e23466e91e   \n",
       "\n",
       "      credo_gen_score  ln_fpd10_flag  ln_mature_fpd10_flag  \n",
       "0   0.185555630270027              0                     1  \n",
       "1   0.117975604455025              0                     1  \n",
       "2  0.0569014060520808              0                     1  \n",
       "3   0.118863497623177              0                     1  \n",
       "4   0.041753556447116              0                     1  "
      ]
     },
     "execution_count": 107,
     "metadata": {},
     "output_type": "execute_result"
    }
   ],
   "source": [
    "\n",
    "\n",
    "sq = f\"\"\"\n",
    "with gen_credo_score as \n",
    "(SELECT \n",
    "    ln_disb_dtime disbursementdate,\n",
    "\tdigitalLoanAccountId,\n",
    "    credo_gen_score,\n",
    "    ln_fpd10_flag,\n",
    "\tln_mature_fpd10_flag,\t\n",
    "\tFROM \n",
    "     {a}\n",
    "  WHERE \n",
    "     -- ln_disb_dtime >= '2023-07-01'\n",
    "    ln_appln_submit_datetime >= '2023-01-01'\n",
    "  -- AND\n",
    "  --   format_date('%Y-%m', ln_disb_dtime) = '2024-09'\n",
    "  AND\n",
    "    ln_fpd10_flag is not null\n",
    "  AND\n",
    "    credo_gen_score is not null\n",
    "  AND\n",
    "    ln_mature_fpd10_flag = 1\n",
    ")\n",
    "select * from gen_credo_score;\n",
    "\"\"\"\n",
    "\n",
    "gen_credo_scorefpd10 = client.query(sq).to_dataframe(progress_bar_type='tqdm')\n",
    "\n",
    "gen_credo_scorefpd10.head()"
   ]
  },
  {
   "cell_type": "code",
   "execution_count": 108,
   "metadata": {},
   "outputs": [
    {
     "name": "stderr",
     "output_type": "stream",
     "text": [
      "C:\\Users\\Dwaipayan\\AppData\\Local\\Temp\\ipykernel_53324\\1204584280.py:30: DeprecationWarning: DataFrameGroupBy.apply operated on the grouping columns. This behavior is deprecated, and in a future version of pandas the grouping columns will be excluded from the operation. Either pass `include_groups=False` to exclude the groupings or explicitly select the grouping columns after groupby to silence this warning.\n",
      "  weekly_gini = df.groupby('week').apply(\n"
     ]
    },
    {
     "name": "stdout",
     "output_type": "stream",
     "text": [
      "The shape of dataframe after copy is:\t(145, 7)\n"
     ]
    },
    {
     "name": "stderr",
     "output_type": "stream",
     "text": [
      "C:\\Users\\Dwaipayan\\AppData\\Local\\Temp\\ipykernel_53324\\1204584280.py:41: DeprecationWarning: DataFrameGroupBy.apply operated on the grouping columns. This behavior is deprecated, and in a future version of pandas the grouping columns will be excluded from the operation. Either pass `include_groups=False` to exclude the groupings or explicitly select the grouping columns after groupby to silence this warning.\n",
      "  monthly_gini = df.groupby('month').apply(\n"
     ]
    },
    {
     "data": {
      "text/plain": [
       "array(['start_date', 'end_date', 'credo_gen_score_FPD10_gini', 'period',\n",
       "       'Model_Name', 'version', 'bad_rate'], dtype=object)"
      ]
     },
     "execution_count": 108,
     "metadata": {},
     "output_type": "execute_result"
    }
   ],
   "source": [
    "gini_results = calculate_periodic_gini(gen_credo_scorefpd10, 'credo_gen_score', 'ln_fpd10_flag', 'FPD10')\n",
    "M1FPD10 = gini_results.copy()\n",
    "print(f\"The shape of dataframe after copy is:\\t{M1FPD10.shape}\")\n",
    "M1FPD10.columns.values"
   ]
  },
  {
   "cell_type": "code",
   "execution_count": 109,
   "metadata": {},
   "outputs": [
    {
     "data": {
      "application/vnd.microsoft.datawrangler.viewer.v0+json": {
       "columns": [
        {
         "name": "index",
         "rawType": "int64",
         "type": "integer"
        },
        {
         "name": "start_date",
         "rawType": "datetime64[ns]",
         "type": "datetime"
        },
        {
         "name": "end_date",
         "rawType": "datetime64[ns]",
         "type": "datetime"
        },
        {
         "name": "credo_gen_score_FPD10_gini",
         "rawType": "float64",
         "type": "float"
        },
        {
         "name": "period",
         "rawType": "object",
         "type": "string"
        },
        {
         "name": "Model_Name",
         "rawType": "object",
         "type": "string"
        },
        {
         "name": "version",
         "rawType": "object",
         "type": "string"
        },
        {
         "name": "bad_rate",
         "rawType": "object",
         "type": "string"
        }
       ],
       "conversionMethod": "pd.DataFrame",
       "ref": "a3ce87cd-0340-43d1-a2f1-8f801d4842d8",
       "rows": [
        [
         "0",
         "2023-01-01 00:00:00",
         "2023-01-31 00:00:00",
         "0.24672479320366647",
         "Month",
         "credo_gen_score",
         "1.1.0",
         "FPD10"
        ],
        [
         "1",
         "2023-01-02 00:00:00",
         "2023-01-08 00:00:00",
         "0.3011247443762781",
         "Week",
         "credo_gen_score",
         "1.1.0",
         "FPD10"
        ],
        [
         "2",
         "2023-01-09 00:00:00",
         "2023-01-15 00:00:00",
         "0.273399926008139",
         "Week",
         "credo_gen_score",
         "1.1.0",
         "FPD10"
        ],
        [
         "3",
         "2023-01-16 00:00:00",
         "2023-01-22 00:00:00",
         "0.6675324675324676",
         "Week",
         "credo_gen_score",
         "1.1.0",
         "FPD10"
        ],
        [
         "4",
         "2023-01-23 00:00:00",
         "2023-01-29 00:00:00",
         "0.08650519031141868",
         "Week",
         "credo_gen_score",
         "1.1.0",
         "FPD10"
        ]
       ],
       "shape": {
        "columns": 7,
        "rows": 5
       }
      },
      "text/html": [
       "<div>\n",
       "<style scoped>\n",
       "    .dataframe tbody tr th:only-of-type {\n",
       "        vertical-align: middle;\n",
       "    }\n",
       "\n",
       "    .dataframe tbody tr th {\n",
       "        vertical-align: top;\n",
       "    }\n",
       "\n",
       "    .dataframe thead th {\n",
       "        text-align: right;\n",
       "    }\n",
       "</style>\n",
       "<table border=\"1\" class=\"dataframe\">\n",
       "  <thead>\n",
       "    <tr style=\"text-align: right;\">\n",
       "      <th></th>\n",
       "      <th>start_date</th>\n",
       "      <th>end_date</th>\n",
       "      <th>credo_gen_score_FPD10_gini</th>\n",
       "      <th>period</th>\n",
       "      <th>Model_Name</th>\n",
       "      <th>version</th>\n",
       "      <th>bad_rate</th>\n",
       "    </tr>\n",
       "  </thead>\n",
       "  <tbody>\n",
       "    <tr>\n",
       "      <th>0</th>\n",
       "      <td>2023-01-01</td>\n",
       "      <td>2023-01-31</td>\n",
       "      <td>0.246725</td>\n",
       "      <td>Month</td>\n",
       "      <td>credo_gen_score</td>\n",
       "      <td>1.1.0</td>\n",
       "      <td>FPD10</td>\n",
       "    </tr>\n",
       "    <tr>\n",
       "      <th>1</th>\n",
       "      <td>2023-01-02</td>\n",
       "      <td>2023-01-08</td>\n",
       "      <td>0.301125</td>\n",
       "      <td>Week</td>\n",
       "      <td>credo_gen_score</td>\n",
       "      <td>1.1.0</td>\n",
       "      <td>FPD10</td>\n",
       "    </tr>\n",
       "    <tr>\n",
       "      <th>2</th>\n",
       "      <td>2023-01-09</td>\n",
       "      <td>2023-01-15</td>\n",
       "      <td>0.273400</td>\n",
       "      <td>Week</td>\n",
       "      <td>credo_gen_score</td>\n",
       "      <td>1.1.0</td>\n",
       "      <td>FPD10</td>\n",
       "    </tr>\n",
       "    <tr>\n",
       "      <th>3</th>\n",
       "      <td>2023-01-16</td>\n",
       "      <td>2023-01-22</td>\n",
       "      <td>0.667532</td>\n",
       "      <td>Week</td>\n",
       "      <td>credo_gen_score</td>\n",
       "      <td>1.1.0</td>\n",
       "      <td>FPD10</td>\n",
       "    </tr>\n",
       "    <tr>\n",
       "      <th>4</th>\n",
       "      <td>2023-01-23</td>\n",
       "      <td>2023-01-29</td>\n",
       "      <td>0.086505</td>\n",
       "      <td>Week</td>\n",
       "      <td>credo_gen_score</td>\n",
       "      <td>1.1.0</td>\n",
       "      <td>FPD10</td>\n",
       "    </tr>\n",
       "  </tbody>\n",
       "</table>\n",
       "</div>"
      ],
      "text/plain": [
       "  start_date   end_date  credo_gen_score_FPD10_gini period       Model_Name  \\\n",
       "0 2023-01-01 2023-01-31                    0.246725  Month  credo_gen_score   \n",
       "1 2023-01-02 2023-01-08                    0.301125   Week  credo_gen_score   \n",
       "2 2023-01-09 2023-01-15                    0.273400   Week  credo_gen_score   \n",
       "3 2023-01-16 2023-01-22                    0.667532   Week  credo_gen_score   \n",
       "4 2023-01-23 2023-01-29                    0.086505   Week  credo_gen_score   \n",
       "\n",
       "  version bad_rate  \n",
       "0   1.1.0    FPD10  \n",
       "1   1.1.0    FPD10  \n",
       "2   1.1.0    FPD10  \n",
       "3   1.1.0    FPD10  \n",
       "4   1.1.0    FPD10  "
      ]
     },
     "execution_count": 109,
     "metadata": {},
     "output_type": "execute_result"
    }
   ],
   "source": [
    "M1FPD10.head()"
   ]
  },
  {
   "cell_type": "markdown",
   "metadata": {},
   "source": [
    "## FPD30"
   ]
  },
  {
   "cell_type": "code",
   "execution_count": 110,
   "metadata": {},
   "outputs": [
    {
     "name": "stdout",
     "output_type": "stream",
     "text": [
      "Job ID 7512c7bb-d51c-46fc-89e9-1f5edfb51c2e successfully executed: 100%|\u001b[32m██████████\u001b[0m|"
     ]
    },
    {
     "name": "stderr",
     "output_type": "stream",
     "text": [
      "C:\\Users\\Dwaipayan\\AppData\\Roaming\\Python\\Python312\\site-packages\\google\\cloud\\bigquery\\table.py:1900: UserWarning: BigQuery Storage module not found, fetch data with the REST endpoint instead.\n",
      "  warnings.warn(\n"
     ]
    },
    {
     "name": "stdout",
     "output_type": "stream",
     "text": [
      "\n",
      "Downloading: 100%|\u001b[32m██████████\u001b[0m|\n"
     ]
    },
    {
     "data": {
      "application/vnd.microsoft.datawrangler.viewer.v0+json": {
       "columns": [
        {
         "name": "index",
         "rawType": "int64",
         "type": "integer"
        },
        {
         "name": "disbursementdate",
         "rawType": "datetime64[us]",
         "type": "unknown"
        },
        {
         "name": "digitalLoanAccountId",
         "rawType": "object",
         "type": "string"
        },
        {
         "name": "credo_gen_score",
         "rawType": "object",
         "type": "string"
        },
        {
         "name": "ln_fpd30_flag",
         "rawType": "Int64",
         "type": "integer"
        },
        {
         "name": "ln_mature_fpd30_flag",
         "rawType": "Int64",
         "type": "integer"
        }
       ],
       "conversionMethod": "pd.DataFrame",
       "ref": "3dcf03e4-ddfb-498b-91b2-ab5d74842b54",
       "rows": [
        [
         "0",
         "2024-08-11 13:28:11",
         "d41da9d2-9d65-4f4f-bfb6-398eaa9d10e1",
         "0.138506316979051",
         "0",
         "1"
        ],
        [
         "1",
         "2025-01-25 19:05:49",
         "e549776f-7a2d-4b6c-9edc-e3b59e8955f6",
         "0.106291202938258",
         "0",
         "1"
        ],
        [
         "2",
         "2024-05-02 17:24:11",
         "9b118965-74ea-4832-a640-8b5ea2cc140e",
         "0.0975612449375841",
         "0",
         "1"
        ],
        [
         "3",
         "2024-02-26 15:08:47",
         "acebf8de-bd42-4b00-83bc-d7c0999a7488",
         "0.110976951075583",
         "0",
         "1"
        ],
        [
         "4",
         "2024-09-15 09:21:50",
         "2f8156e6-5c5b-454c-92d9-628291e6f99e",
         "0.134107791698632",
         "0",
         "1"
        ]
       ],
       "shape": {
        "columns": 5,
        "rows": 5
       }
      },
      "text/html": [
       "<div>\n",
       "<style scoped>\n",
       "    .dataframe tbody tr th:only-of-type {\n",
       "        vertical-align: middle;\n",
       "    }\n",
       "\n",
       "    .dataframe tbody tr th {\n",
       "        vertical-align: top;\n",
       "    }\n",
       "\n",
       "    .dataframe thead th {\n",
       "        text-align: right;\n",
       "    }\n",
       "</style>\n",
       "<table border=\"1\" class=\"dataframe\">\n",
       "  <thead>\n",
       "    <tr style=\"text-align: right;\">\n",
       "      <th></th>\n",
       "      <th>disbursementdate</th>\n",
       "      <th>digitalLoanAccountId</th>\n",
       "      <th>credo_gen_score</th>\n",
       "      <th>ln_fpd30_flag</th>\n",
       "      <th>ln_mature_fpd30_flag</th>\n",
       "    </tr>\n",
       "  </thead>\n",
       "  <tbody>\n",
       "    <tr>\n",
       "      <th>0</th>\n",
       "      <td>2024-08-11 13:28:11</td>\n",
       "      <td>d41da9d2-9d65-4f4f-bfb6-398eaa9d10e1</td>\n",
       "      <td>0.138506316979051</td>\n",
       "      <td>0</td>\n",
       "      <td>1</td>\n",
       "    </tr>\n",
       "    <tr>\n",
       "      <th>1</th>\n",
       "      <td>2025-01-25 19:05:49</td>\n",
       "      <td>e549776f-7a2d-4b6c-9edc-e3b59e8955f6</td>\n",
       "      <td>0.106291202938258</td>\n",
       "      <td>0</td>\n",
       "      <td>1</td>\n",
       "    </tr>\n",
       "    <tr>\n",
       "      <th>2</th>\n",
       "      <td>2024-05-02 17:24:11</td>\n",
       "      <td>9b118965-74ea-4832-a640-8b5ea2cc140e</td>\n",
       "      <td>0.0975612449375841</td>\n",
       "      <td>0</td>\n",
       "      <td>1</td>\n",
       "    </tr>\n",
       "    <tr>\n",
       "      <th>3</th>\n",
       "      <td>2024-02-26 15:08:47</td>\n",
       "      <td>acebf8de-bd42-4b00-83bc-d7c0999a7488</td>\n",
       "      <td>0.110976951075583</td>\n",
       "      <td>0</td>\n",
       "      <td>1</td>\n",
       "    </tr>\n",
       "    <tr>\n",
       "      <th>4</th>\n",
       "      <td>2024-09-15 09:21:50</td>\n",
       "      <td>2f8156e6-5c5b-454c-92d9-628291e6f99e</td>\n",
       "      <td>0.134107791698632</td>\n",
       "      <td>0</td>\n",
       "      <td>1</td>\n",
       "    </tr>\n",
       "  </tbody>\n",
       "</table>\n",
       "</div>"
      ],
      "text/plain": [
       "     disbursementdate                  digitalLoanAccountId  \\\n",
       "0 2024-08-11 13:28:11  d41da9d2-9d65-4f4f-bfb6-398eaa9d10e1   \n",
       "1 2025-01-25 19:05:49  e549776f-7a2d-4b6c-9edc-e3b59e8955f6   \n",
       "2 2024-05-02 17:24:11  9b118965-74ea-4832-a640-8b5ea2cc140e   \n",
       "3 2024-02-26 15:08:47  acebf8de-bd42-4b00-83bc-d7c0999a7488   \n",
       "4 2024-09-15 09:21:50  2f8156e6-5c5b-454c-92d9-628291e6f99e   \n",
       "\n",
       "      credo_gen_score  ln_fpd30_flag  ln_mature_fpd30_flag  \n",
       "0   0.138506316979051              0                     1  \n",
       "1   0.106291202938258              0                     1  \n",
       "2  0.0975612449375841              0                     1  \n",
       "3   0.110976951075583              0                     1  \n",
       "4   0.134107791698632              0                     1  "
      ]
     },
     "execution_count": 110,
     "metadata": {},
     "output_type": "execute_result"
    }
   ],
   "source": [
    "sq = f\"\"\"\n",
    "with gen_credo_score as \n",
    "(SELECT \n",
    "    ln_disb_dtime disbursementdate,\n",
    "\tdigitalLoanAccountId,\n",
    "    credo_gen_score,\n",
    "    ln_fpd30_flag,\n",
    "\tln_mature_fpd30_flag,\t\n",
    "\tFROM \n",
    "    {a}\n",
    "  WHERE \n",
    "     -- ln_disb_dtime >= '2023-07-01'\n",
    "    ln_appln_submit_datetime >= '2023-01-01'\n",
    "  -- AND\n",
    "  --   format_date('%Y-%m', ln_disb_dtime) = '2024-09'\n",
    "  AND\n",
    "    ln_fpd30_flag is not null\n",
    "  AND\n",
    "    credo_gen_score is not null\n",
    "  AND\n",
    "    ln_mature_fpd30_flag = 1\n",
    ")\n",
    "select * from gen_credo_score;\n",
    "\"\"\"\n",
    "\n",
    "gen_credo_scorefpd30 = client.query(sq).to_dataframe(progress_bar_type='tqdm')\n",
    "\n",
    "gen_credo_scorefpd30.head()"
   ]
  },
  {
   "cell_type": "code",
   "execution_count": 111,
   "metadata": {},
   "outputs": [
    {
     "data": {
      "application/vnd.microsoft.datawrangler.viewer.v0+json": {
       "columns": [
        {
         "name": "index",
         "rawType": "int64",
         "type": "integer"
        },
        {
         "name": "disbursementdate",
         "rawType": "datetime64[us]",
         "type": "unknown"
        },
        {
         "name": "digitalLoanAccountId",
         "rawType": "object",
         "type": "string"
        },
        {
         "name": "credo_gen_score",
         "rawType": "object",
         "type": "string"
        },
        {
         "name": "ln_fpd30_flag",
         "rawType": "Int64",
         "type": "integer"
        },
        {
         "name": "ln_mature_fpd30_flag",
         "rawType": "Int64",
         "type": "integer"
        }
       ],
       "conversionMethod": "pd.DataFrame",
       "ref": "29a2e23e-8987-4b7b-ad13-935510e44aa9",
       "rows": [
        [
         "0",
         "2024-08-11 13:28:11",
         "d41da9d2-9d65-4f4f-bfb6-398eaa9d10e1",
         "0.138506316979051",
         "0",
         "1"
        ],
        [
         "1",
         "2025-01-25 19:05:49",
         "e549776f-7a2d-4b6c-9edc-e3b59e8955f6",
         "0.106291202938258",
         "0",
         "1"
        ],
        [
         "2",
         "2024-05-02 17:24:11",
         "9b118965-74ea-4832-a640-8b5ea2cc140e",
         "0.0975612449375841",
         "0",
         "1"
        ],
        [
         "3",
         "2024-02-26 15:08:47",
         "acebf8de-bd42-4b00-83bc-d7c0999a7488",
         "0.110976951075583",
         "0",
         "1"
        ],
        [
         "4",
         "2024-09-15 09:21:50",
         "2f8156e6-5c5b-454c-92d9-628291e6f99e",
         "0.134107791698632",
         "0",
         "1"
        ]
       ],
       "shape": {
        "columns": 5,
        "rows": 5
       }
      },
      "text/html": [
       "<div>\n",
       "<style scoped>\n",
       "    .dataframe tbody tr th:only-of-type {\n",
       "        vertical-align: middle;\n",
       "    }\n",
       "\n",
       "    .dataframe tbody tr th {\n",
       "        vertical-align: top;\n",
       "    }\n",
       "\n",
       "    .dataframe thead th {\n",
       "        text-align: right;\n",
       "    }\n",
       "</style>\n",
       "<table border=\"1\" class=\"dataframe\">\n",
       "  <thead>\n",
       "    <tr style=\"text-align: right;\">\n",
       "      <th></th>\n",
       "      <th>disbursementdate</th>\n",
       "      <th>digitalLoanAccountId</th>\n",
       "      <th>credo_gen_score</th>\n",
       "      <th>ln_fpd30_flag</th>\n",
       "      <th>ln_mature_fpd30_flag</th>\n",
       "    </tr>\n",
       "  </thead>\n",
       "  <tbody>\n",
       "    <tr>\n",
       "      <th>0</th>\n",
       "      <td>2024-08-11 13:28:11</td>\n",
       "      <td>d41da9d2-9d65-4f4f-bfb6-398eaa9d10e1</td>\n",
       "      <td>0.138506316979051</td>\n",
       "      <td>0</td>\n",
       "      <td>1</td>\n",
       "    </tr>\n",
       "    <tr>\n",
       "      <th>1</th>\n",
       "      <td>2025-01-25 19:05:49</td>\n",
       "      <td>e549776f-7a2d-4b6c-9edc-e3b59e8955f6</td>\n",
       "      <td>0.106291202938258</td>\n",
       "      <td>0</td>\n",
       "      <td>1</td>\n",
       "    </tr>\n",
       "    <tr>\n",
       "      <th>2</th>\n",
       "      <td>2024-05-02 17:24:11</td>\n",
       "      <td>9b118965-74ea-4832-a640-8b5ea2cc140e</td>\n",
       "      <td>0.0975612449375841</td>\n",
       "      <td>0</td>\n",
       "      <td>1</td>\n",
       "    </tr>\n",
       "    <tr>\n",
       "      <th>3</th>\n",
       "      <td>2024-02-26 15:08:47</td>\n",
       "      <td>acebf8de-bd42-4b00-83bc-d7c0999a7488</td>\n",
       "      <td>0.110976951075583</td>\n",
       "      <td>0</td>\n",
       "      <td>1</td>\n",
       "    </tr>\n",
       "    <tr>\n",
       "      <th>4</th>\n",
       "      <td>2024-09-15 09:21:50</td>\n",
       "      <td>2f8156e6-5c5b-454c-92d9-628291e6f99e</td>\n",
       "      <td>0.134107791698632</td>\n",
       "      <td>0</td>\n",
       "      <td>1</td>\n",
       "    </tr>\n",
       "  </tbody>\n",
       "</table>\n",
       "</div>"
      ],
      "text/plain": [
       "     disbursementdate                  digitalLoanAccountId  \\\n",
       "0 2024-08-11 13:28:11  d41da9d2-9d65-4f4f-bfb6-398eaa9d10e1   \n",
       "1 2025-01-25 19:05:49  e549776f-7a2d-4b6c-9edc-e3b59e8955f6   \n",
       "2 2024-05-02 17:24:11  9b118965-74ea-4832-a640-8b5ea2cc140e   \n",
       "3 2024-02-26 15:08:47  acebf8de-bd42-4b00-83bc-d7c0999a7488   \n",
       "4 2024-09-15 09:21:50  2f8156e6-5c5b-454c-92d9-628291e6f99e   \n",
       "\n",
       "      credo_gen_score  ln_fpd30_flag  ln_mature_fpd30_flag  \n",
       "0   0.138506316979051              0                     1  \n",
       "1   0.106291202938258              0                     1  \n",
       "2  0.0975612449375841              0                     1  \n",
       "3   0.110976951075583              0                     1  \n",
       "4   0.134107791698632              0                     1  "
      ]
     },
     "execution_count": 111,
     "metadata": {},
     "output_type": "execute_result"
    }
   ],
   "source": [
    "gen_credo_scorefpd30.head()"
   ]
  },
  {
   "cell_type": "code",
   "execution_count": 112,
   "metadata": {},
   "outputs": [
    {
     "name": "stderr",
     "output_type": "stream",
     "text": [
      "C:\\Users\\Dwaipayan\\AppData\\Local\\Temp\\ipykernel_53324\\1204584280.py:30: DeprecationWarning: DataFrameGroupBy.apply operated on the grouping columns. This behavior is deprecated, and in a future version of pandas the grouping columns will be excluded from the operation. Either pass `include_groups=False` to exclude the groupings or explicitly select the grouping columns after groupby to silence this warning.\n",
      "  weekly_gini = df.groupby('week').apply(\n"
     ]
    },
    {
     "name": "stdout",
     "output_type": "stream",
     "text": [
      "The shape of dataframe after copy is:\t(142, 7)\n"
     ]
    },
    {
     "name": "stderr",
     "output_type": "stream",
     "text": [
      "C:\\Users\\Dwaipayan\\AppData\\Local\\Temp\\ipykernel_53324\\1204584280.py:41: DeprecationWarning: DataFrameGroupBy.apply operated on the grouping columns. This behavior is deprecated, and in a future version of pandas the grouping columns will be excluded from the operation. Either pass `include_groups=False` to exclude the groupings or explicitly select the grouping columns after groupby to silence this warning.\n",
      "  monthly_gini = df.groupby('month').apply(\n"
     ]
    },
    {
     "data": {
      "text/plain": [
       "array(['start_date', 'end_date', 'credo_gen_score_FPD30_gini', 'period',\n",
       "       'Model_Name', 'version', 'bad_rate'], dtype=object)"
      ]
     },
     "execution_count": 112,
     "metadata": {},
     "output_type": "execute_result"
    }
   ],
   "source": [
    "gini_results = calculate_periodic_gini(gen_credo_scorefpd30, 'credo_gen_score', 'ln_fpd30_flag', 'FPD30')\n",
    "M2FPD30 = gini_results.copy()\n",
    "print(f\"The shape of dataframe after copy is:\\t{M2FPD30.shape}\")\n",
    "M2FPD30.columns.values"
   ]
  },
  {
   "cell_type": "code",
   "execution_count": 113,
   "metadata": {},
   "outputs": [
    {
     "data": {
      "application/vnd.microsoft.datawrangler.viewer.v0+json": {
       "columns": [
        {
         "name": "index",
         "rawType": "int64",
         "type": "integer"
        },
        {
         "name": "start_date",
         "rawType": "datetime64[ns]",
         "type": "datetime"
        },
        {
         "name": "end_date",
         "rawType": "datetime64[ns]",
         "type": "datetime"
        },
        {
         "name": "credo_gen_score_FPD30_gini",
         "rawType": "float64",
         "type": "float"
        },
        {
         "name": "period",
         "rawType": "object",
         "type": "string"
        },
        {
         "name": "Model_Name",
         "rawType": "object",
         "type": "string"
        },
        {
         "name": "version",
         "rawType": "object",
         "type": "string"
        },
        {
         "name": "bad_rate",
         "rawType": "object",
         "type": "string"
        }
       ],
       "conversionMethod": "pd.DataFrame",
       "ref": "a0231884-9245-4286-b614-537b6acadf9e",
       "rows": [
        [
         "0",
         "2023-01-01 00:00:00",
         "2023-01-31 00:00:00",
         "0.25300462249614797",
         "Month",
         "credo_gen_score",
         "1.1.0",
         "FPD30"
        ],
        [
         "1",
         "2023-01-02 00:00:00",
         "2023-01-08 00:00:00",
         "0.3421487603305784",
         "Week",
         "credo_gen_score",
         "1.1.0",
         "FPD30"
        ],
        [
         "2",
         "2023-01-09 00:00:00",
         "2023-01-15 00:00:00",
         "0.4071625344352616",
         "Week",
         "credo_gen_score",
         "1.1.0",
         "FPD30"
        ],
        [
         "3",
         "2023-01-16 00:00:00",
         "2023-01-22 00:00:00",
         "0.6675324675324676",
         "Week",
         "credo_gen_score",
         "1.1.0",
         "FPD30"
        ],
        [
         "4",
         "2023-01-23 00:00:00",
         "2023-01-29 00:00:00",
         "0.025547445255474477",
         "Week",
         "credo_gen_score",
         "1.1.0",
         "FPD30"
        ]
       ],
       "shape": {
        "columns": 7,
        "rows": 5
       }
      },
      "text/html": [
       "<div>\n",
       "<style scoped>\n",
       "    .dataframe tbody tr th:only-of-type {\n",
       "        vertical-align: middle;\n",
       "    }\n",
       "\n",
       "    .dataframe tbody tr th {\n",
       "        vertical-align: top;\n",
       "    }\n",
       "\n",
       "    .dataframe thead th {\n",
       "        text-align: right;\n",
       "    }\n",
       "</style>\n",
       "<table border=\"1\" class=\"dataframe\">\n",
       "  <thead>\n",
       "    <tr style=\"text-align: right;\">\n",
       "      <th></th>\n",
       "      <th>start_date</th>\n",
       "      <th>end_date</th>\n",
       "      <th>credo_gen_score_FPD30_gini</th>\n",
       "      <th>period</th>\n",
       "      <th>Model_Name</th>\n",
       "      <th>version</th>\n",
       "      <th>bad_rate</th>\n",
       "    </tr>\n",
       "  </thead>\n",
       "  <tbody>\n",
       "    <tr>\n",
       "      <th>0</th>\n",
       "      <td>2023-01-01</td>\n",
       "      <td>2023-01-31</td>\n",
       "      <td>0.253005</td>\n",
       "      <td>Month</td>\n",
       "      <td>credo_gen_score</td>\n",
       "      <td>1.1.0</td>\n",
       "      <td>FPD30</td>\n",
       "    </tr>\n",
       "    <tr>\n",
       "      <th>1</th>\n",
       "      <td>2023-01-02</td>\n",
       "      <td>2023-01-08</td>\n",
       "      <td>0.342149</td>\n",
       "      <td>Week</td>\n",
       "      <td>credo_gen_score</td>\n",
       "      <td>1.1.0</td>\n",
       "      <td>FPD30</td>\n",
       "    </tr>\n",
       "    <tr>\n",
       "      <th>2</th>\n",
       "      <td>2023-01-09</td>\n",
       "      <td>2023-01-15</td>\n",
       "      <td>0.407163</td>\n",
       "      <td>Week</td>\n",
       "      <td>credo_gen_score</td>\n",
       "      <td>1.1.0</td>\n",
       "      <td>FPD30</td>\n",
       "    </tr>\n",
       "    <tr>\n",
       "      <th>3</th>\n",
       "      <td>2023-01-16</td>\n",
       "      <td>2023-01-22</td>\n",
       "      <td>0.667532</td>\n",
       "      <td>Week</td>\n",
       "      <td>credo_gen_score</td>\n",
       "      <td>1.1.0</td>\n",
       "      <td>FPD30</td>\n",
       "    </tr>\n",
       "    <tr>\n",
       "      <th>4</th>\n",
       "      <td>2023-01-23</td>\n",
       "      <td>2023-01-29</td>\n",
       "      <td>0.025547</td>\n",
       "      <td>Week</td>\n",
       "      <td>credo_gen_score</td>\n",
       "      <td>1.1.0</td>\n",
       "      <td>FPD30</td>\n",
       "    </tr>\n",
       "  </tbody>\n",
       "</table>\n",
       "</div>"
      ],
      "text/plain": [
       "  start_date   end_date  credo_gen_score_FPD30_gini period       Model_Name  \\\n",
       "0 2023-01-01 2023-01-31                    0.253005  Month  credo_gen_score   \n",
       "1 2023-01-02 2023-01-08                    0.342149   Week  credo_gen_score   \n",
       "2 2023-01-09 2023-01-15                    0.407163   Week  credo_gen_score   \n",
       "3 2023-01-16 2023-01-22                    0.667532   Week  credo_gen_score   \n",
       "4 2023-01-23 2023-01-29                    0.025547   Week  credo_gen_score   \n",
       "\n",
       "  version bad_rate  \n",
       "0   1.1.0    FPD30  \n",
       "1   1.1.0    FPD30  \n",
       "2   1.1.0    FPD30  \n",
       "3   1.1.0    FPD30  \n",
       "4   1.1.0    FPD30  "
      ]
     },
     "execution_count": 113,
     "metadata": {},
     "output_type": "execute_result"
    }
   ],
   "source": [
    "M2FPD30.head()"
   ]
  },
  {
   "cell_type": "markdown",
   "metadata": {},
   "source": [
    "## FSPD30"
   ]
  },
  {
   "cell_type": "code",
   "execution_count": 114,
   "metadata": {},
   "outputs": [
    {
     "name": "stdout",
     "output_type": "stream",
     "text": [
      "Job ID 812538b4-e14f-4e5e-baf2-940bd613012a successfully executed: 100%|\u001b[32m██████████\u001b[0m|"
     ]
    },
    {
     "name": "stderr",
     "output_type": "stream",
     "text": [
      "C:\\Users\\Dwaipayan\\AppData\\Roaming\\Python\\Python312\\site-packages\\google\\cloud\\bigquery\\table.py:1900: UserWarning: BigQuery Storage module not found, fetch data with the REST endpoint instead.\n",
      "  warnings.warn(\n"
     ]
    },
    {
     "name": "stdout",
     "output_type": "stream",
     "text": [
      "\n",
      "Downloading: 100%|\u001b[32m██████████\u001b[0m|\n",
      "     disbursementdate                  digitalLoanAccountId  \\\n",
      "0 2024-08-11 13:28:11  d41da9d2-9d65-4f4f-bfb6-398eaa9d10e1   \n",
      "1 2025-01-25 19:05:49  e549776f-7a2d-4b6c-9edc-e3b59e8955f6   \n",
      "\n",
      "     credo_gen_score  ln_fspd30_flag  ln_mature_fspd30_flag  \n",
      "0  0.138506316979051               0                      1  \n",
      "1  0.106291202938258               0                      1  \n"
     ]
    },
    {
     "name": "stderr",
     "output_type": "stream",
     "text": [
      "C:\\Users\\Dwaipayan\\AppData\\Local\\Temp\\ipykernel_53324\\1204584280.py:30: DeprecationWarning: DataFrameGroupBy.apply operated on the grouping columns. This behavior is deprecated, and in a future version of pandas the grouping columns will be excluded from the operation. Either pass `include_groups=False` to exclude the groupings or explicitly select the grouping columns after groupby to silence this warning.\n",
      "  weekly_gini = df.groupby('week').apply(\n"
     ]
    },
    {
     "name": "stdout",
     "output_type": "stream",
     "text": [
      "The shape of dataframe after copy is:\t(137, 7)\n",
      "['start_date' 'end_date' 'credo_gen_score_FSPD30_gini' 'period'\n",
      " 'Model_Name' 'version' 'bad_rate']\n"
     ]
    },
    {
     "name": "stderr",
     "output_type": "stream",
     "text": [
      "C:\\Users\\Dwaipayan\\AppData\\Local\\Temp\\ipykernel_53324\\1204584280.py:41: DeprecationWarning: DataFrameGroupBy.apply operated on the grouping columns. This behavior is deprecated, and in a future version of pandas the grouping columns will be excluded from the operation. Either pass `include_groups=False` to exclude the groupings or explicitly select the grouping columns after groupby to silence this warning.\n",
      "  monthly_gini = df.groupby('month').apply(\n"
     ]
    },
    {
     "data": {
      "application/vnd.microsoft.datawrangler.viewer.v0+json": {
       "columns": [
        {
         "name": "index",
         "rawType": "int64",
         "type": "integer"
        },
        {
         "name": "start_date",
         "rawType": "datetime64[ns]",
         "type": "datetime"
        },
        {
         "name": "end_date",
         "rawType": "datetime64[ns]",
         "type": "datetime"
        },
        {
         "name": "credo_gen_score_FSPD30_gini",
         "rawType": "float64",
         "type": "float"
        },
        {
         "name": "period",
         "rawType": "object",
         "type": "string"
        },
        {
         "name": "Model_Name",
         "rawType": "object",
         "type": "string"
        },
        {
         "name": "version",
         "rawType": "object",
         "type": "string"
        },
        {
         "name": "bad_rate",
         "rawType": "object",
         "type": "string"
        }
       ],
       "conversionMethod": "pd.DataFrame",
       "ref": "730f64db-ddbf-4c44-abb8-4674b84b277f",
       "rows": [
        [
         "0",
         "2023-01-01 00:00:00",
         "2023-01-31 00:00:00",
         "0.17205509242479167",
         "Month",
         "credo_gen_score",
         "1.1.0",
         "FSPD30"
        ],
        [
         "1",
         "2023-01-02 00:00:00",
         "2023-01-08 00:00:00",
         "0.26280323450134757",
         "Week",
         "credo_gen_score",
         "1.1.0",
         "FSPD30"
        ],
        [
         "2",
         "2023-01-09 00:00:00",
         "2023-01-15 00:00:00",
         "0.18974358974358974",
         "Week",
         "credo_gen_score",
         "1.1.0",
         "FSPD30"
        ],
        [
         "3",
         "2023-01-16 00:00:00",
         "2023-01-22 00:00:00",
         "0.4107382550335572",
         "Week",
         "credo_gen_score",
         "1.1.0",
         "FSPD30"
        ],
        [
         "4",
         "2023-01-23 00:00:00",
         "2023-01-29 00:00:00",
         "0.0735785953177257",
         "Week",
         "credo_gen_score",
         "1.1.0",
         "FSPD30"
        ]
       ],
       "shape": {
        "columns": 7,
        "rows": 5
       }
      },
      "text/html": [
       "<div>\n",
       "<style scoped>\n",
       "    .dataframe tbody tr th:only-of-type {\n",
       "        vertical-align: middle;\n",
       "    }\n",
       "\n",
       "    .dataframe tbody tr th {\n",
       "        vertical-align: top;\n",
       "    }\n",
       "\n",
       "    .dataframe thead th {\n",
       "        text-align: right;\n",
       "    }\n",
       "</style>\n",
       "<table border=\"1\" class=\"dataframe\">\n",
       "  <thead>\n",
       "    <tr style=\"text-align: right;\">\n",
       "      <th></th>\n",
       "      <th>start_date</th>\n",
       "      <th>end_date</th>\n",
       "      <th>credo_gen_score_FSPD30_gini</th>\n",
       "      <th>period</th>\n",
       "      <th>Model_Name</th>\n",
       "      <th>version</th>\n",
       "      <th>bad_rate</th>\n",
       "    </tr>\n",
       "  </thead>\n",
       "  <tbody>\n",
       "    <tr>\n",
       "      <th>0</th>\n",
       "      <td>2023-01-01</td>\n",
       "      <td>2023-01-31</td>\n",
       "      <td>0.172055</td>\n",
       "      <td>Month</td>\n",
       "      <td>credo_gen_score</td>\n",
       "      <td>1.1.0</td>\n",
       "      <td>FSPD30</td>\n",
       "    </tr>\n",
       "    <tr>\n",
       "      <th>1</th>\n",
       "      <td>2023-01-02</td>\n",
       "      <td>2023-01-08</td>\n",
       "      <td>0.262803</td>\n",
       "      <td>Week</td>\n",
       "      <td>credo_gen_score</td>\n",
       "      <td>1.1.0</td>\n",
       "      <td>FSPD30</td>\n",
       "    </tr>\n",
       "    <tr>\n",
       "      <th>2</th>\n",
       "      <td>2023-01-09</td>\n",
       "      <td>2023-01-15</td>\n",
       "      <td>0.189744</td>\n",
       "      <td>Week</td>\n",
       "      <td>credo_gen_score</td>\n",
       "      <td>1.1.0</td>\n",
       "      <td>FSPD30</td>\n",
       "    </tr>\n",
       "    <tr>\n",
       "      <th>3</th>\n",
       "      <td>2023-01-16</td>\n",
       "      <td>2023-01-22</td>\n",
       "      <td>0.410738</td>\n",
       "      <td>Week</td>\n",
       "      <td>credo_gen_score</td>\n",
       "      <td>1.1.0</td>\n",
       "      <td>FSPD30</td>\n",
       "    </tr>\n",
       "    <tr>\n",
       "      <th>4</th>\n",
       "      <td>2023-01-23</td>\n",
       "      <td>2023-01-29</td>\n",
       "      <td>0.073579</td>\n",
       "      <td>Week</td>\n",
       "      <td>credo_gen_score</td>\n",
       "      <td>1.1.0</td>\n",
       "      <td>FSPD30</td>\n",
       "    </tr>\n",
       "  </tbody>\n",
       "</table>\n",
       "</div>"
      ],
      "text/plain": [
       "  start_date   end_date  credo_gen_score_FSPD30_gini period       Model_Name  \\\n",
       "0 2023-01-01 2023-01-31                     0.172055  Month  credo_gen_score   \n",
       "1 2023-01-02 2023-01-08                     0.262803   Week  credo_gen_score   \n",
       "2 2023-01-09 2023-01-15                     0.189744   Week  credo_gen_score   \n",
       "3 2023-01-16 2023-01-22                     0.410738   Week  credo_gen_score   \n",
       "4 2023-01-23 2023-01-29                     0.073579   Week  credo_gen_score   \n",
       "\n",
       "  version bad_rate  \n",
       "0   1.1.0   FSPD30  \n",
       "1   1.1.0   FSPD30  \n",
       "2   1.1.0   FSPD30  \n",
       "3   1.1.0   FSPD30  \n",
       "4   1.1.0   FSPD30  "
      ]
     },
     "execution_count": 114,
     "metadata": {},
     "output_type": "execute_result"
    }
   ],
   "source": [
    "sq = f\"\"\"\n",
    "with gen_credo_score as \n",
    "(SELECT \n",
    "    ln_disb_dtime disbursementdate,\n",
    "\tdigitalLoanAccountId,\n",
    "    credo_gen_score,\n",
    "    ln_fspd30_flag,\n",
    "\tln_mature_fspd30_flag,\t\n",
    "\tFROM \n",
    "    {a}\n",
    "  WHERE \n",
    "     -- ln_disb_dtime >= '2023-07-01'\n",
    "    ln_appln_submit_datetime >= '2023-01-01'\n",
    "  -- AND\n",
    "  --   format_date('%Y-%m', ln_disb_dtime) = '2024-09'\n",
    "  AND\n",
    "    ln_fspd30_flag is not null\n",
    "  AND\n",
    "    credo_gen_score is not null\n",
    "  AND\n",
    "    ln_mature_fspd30_flag = 1\n",
    ")\n",
    "select * from gen_credo_score;\n",
    "\"\"\"\n",
    "\n",
    "gen_credo_scorefspd30 = client.query(sq).to_dataframe(progress_bar_type='tqdm')\n",
    "\n",
    "print(gen_credo_scorefspd30.head(2))\n",
    "\n",
    "gini_results = calculate_periodic_gini(gen_credo_scorefspd30, 'credo_gen_score', 'ln_fspd30_flag', 'FSPD30')\n",
    "M3FSPD30 = gini_results.copy()\n",
    "print(f\"The shape of dataframe after copy is:\\t{M3FSPD30.shape}\")\n",
    "print(M3FSPD30.columns.values)\n",
    "\n",
    "M3FSPD30.head()"
   ]
  },
  {
   "cell_type": "markdown",
   "metadata": {},
   "source": [
    "## FSTPD30"
   ]
  },
  {
   "cell_type": "code",
   "execution_count": 115,
   "metadata": {},
   "outputs": [
    {
     "name": "stdout",
     "output_type": "stream",
     "text": [
      "Job ID e4e894a9-54b6-4337-9615-d9f441f3db81 successfully executed: 100%|\u001b[32m██████████\u001b[0m|"
     ]
    },
    {
     "name": "stderr",
     "output_type": "stream",
     "text": [
      "C:\\Users\\Dwaipayan\\AppData\\Roaming\\Python\\Python312\\site-packages\\google\\cloud\\bigquery\\table.py:1900: UserWarning: BigQuery Storage module not found, fetch data with the REST endpoint instead.\n",
      "  warnings.warn(\n"
     ]
    },
    {
     "name": "stdout",
     "output_type": "stream",
     "text": [
      "\n",
      "Downloading: 100%|\u001b[32m██████████\u001b[0m|\n",
      "     disbursementdate                  digitalLoanAccountId  \\\n",
      "0 2024-07-16 19:09:27  a731f941-ed8a-4278-9ba4-1fd41132aa5e   \n",
      "1 2024-11-24 18:45:09  5be2f2c7-2401-48bc-a384-6f62c22866db   \n",
      "\n",
      "     credo_gen_score  ln_fstpd30_flag  ln_mature_fstpd30_flag  \n",
      "0  0.185555630270027                0                       1  \n",
      "1  0.117975604455025                0                       1  \n"
     ]
    },
    {
     "name": "stderr",
     "output_type": "stream",
     "text": [
      "C:\\Users\\Dwaipayan\\AppData\\Local\\Temp\\ipykernel_53324\\1204584280.py:30: DeprecationWarning: DataFrameGroupBy.apply operated on the grouping columns. This behavior is deprecated, and in a future version of pandas the grouping columns will be excluded from the operation. Either pass `include_groups=False` to exclude the groupings or explicitly select the grouping columns after groupby to silence this warning.\n",
      "  weekly_gini = df.groupby('week').apply(\n"
     ]
    },
    {
     "name": "stdout",
     "output_type": "stream",
     "text": [
      "The shape of dataframe after copy is:\t(132, 7)\n",
      "['start_date' 'end_date' 'credo_gen_score_FSTPD30_gini' 'period'\n",
      " 'Model_Name' 'version' 'bad_rate']\n"
     ]
    },
    {
     "name": "stderr",
     "output_type": "stream",
     "text": [
      "C:\\Users\\Dwaipayan\\AppData\\Local\\Temp\\ipykernel_53324\\1204584280.py:41: DeprecationWarning: DataFrameGroupBy.apply operated on the grouping columns. This behavior is deprecated, and in a future version of pandas the grouping columns will be excluded from the operation. Either pass `include_groups=False` to exclude the groupings or explicitly select the grouping columns after groupby to silence this warning.\n",
      "  monthly_gini = df.groupby('month').apply(\n"
     ]
    },
    {
     "data": {
      "application/vnd.microsoft.datawrangler.viewer.v0+json": {
       "columns": [
        {
         "name": "index",
         "rawType": "int64",
         "type": "integer"
        },
        {
         "name": "start_date",
         "rawType": "datetime64[ns]",
         "type": "datetime"
        },
        {
         "name": "end_date",
         "rawType": "datetime64[ns]",
         "type": "datetime"
        },
        {
         "name": "credo_gen_score_FSTPD30_gini",
         "rawType": "float64",
         "type": "float"
        },
        {
         "name": "period",
         "rawType": "object",
         "type": "string"
        },
        {
         "name": "Model_Name",
         "rawType": "object",
         "type": "string"
        },
        {
         "name": "version",
         "rawType": "object",
         "type": "string"
        },
        {
         "name": "bad_rate",
         "rawType": "object",
         "type": "string"
        }
       ],
       "conversionMethod": "pd.DataFrame",
       "ref": "197c773c-8778-4462-9d27-db39c1c4c4ae",
       "rows": [
        [
         "0",
         "2023-01-01 00:00:00",
         "2023-01-31 00:00:00",
         "0.180836847419374",
         "Month",
         "credo_gen_score",
         "1.1.0",
         "FSTPD30"
        ],
        [
         "1",
         "2023-01-02 00:00:00",
         "2023-01-08 00:00:00",
         "0.28295946477764655",
         "Week",
         "credo_gen_score",
         "1.1.0",
         "FSTPD30"
        ],
        [
         "2",
         "2023-01-09 00:00:00",
         "2023-01-15 00:00:00",
         "0.18990802883420344",
         "Week",
         "credo_gen_score",
         "1.1.0",
         "FSTPD30"
        ],
        [
         "3",
         "2023-01-16 00:00:00",
         "2023-01-22 00:00:00",
         "0.19884009942004988",
         "Week",
         "credo_gen_score",
         "1.1.0",
         "FSTPD30"
        ],
        [
         "4",
         "2023-01-23 00:00:00",
         "2023-01-29 00:00:00",
         "0.16284538506760726",
         "Week",
         "credo_gen_score",
         "1.1.0",
         "FSTPD30"
        ]
       ],
       "shape": {
        "columns": 7,
        "rows": 5
       }
      },
      "text/html": [
       "<div>\n",
       "<style scoped>\n",
       "    .dataframe tbody tr th:only-of-type {\n",
       "        vertical-align: middle;\n",
       "    }\n",
       "\n",
       "    .dataframe tbody tr th {\n",
       "        vertical-align: top;\n",
       "    }\n",
       "\n",
       "    .dataframe thead th {\n",
       "        text-align: right;\n",
       "    }\n",
       "</style>\n",
       "<table border=\"1\" class=\"dataframe\">\n",
       "  <thead>\n",
       "    <tr style=\"text-align: right;\">\n",
       "      <th></th>\n",
       "      <th>start_date</th>\n",
       "      <th>end_date</th>\n",
       "      <th>credo_gen_score_FSTPD30_gini</th>\n",
       "      <th>period</th>\n",
       "      <th>Model_Name</th>\n",
       "      <th>version</th>\n",
       "      <th>bad_rate</th>\n",
       "    </tr>\n",
       "  </thead>\n",
       "  <tbody>\n",
       "    <tr>\n",
       "      <th>0</th>\n",
       "      <td>2023-01-01</td>\n",
       "      <td>2023-01-31</td>\n",
       "      <td>0.180837</td>\n",
       "      <td>Month</td>\n",
       "      <td>credo_gen_score</td>\n",
       "      <td>1.1.0</td>\n",
       "      <td>FSTPD30</td>\n",
       "    </tr>\n",
       "    <tr>\n",
       "      <th>1</th>\n",
       "      <td>2023-01-02</td>\n",
       "      <td>2023-01-08</td>\n",
       "      <td>0.282959</td>\n",
       "      <td>Week</td>\n",
       "      <td>credo_gen_score</td>\n",
       "      <td>1.1.0</td>\n",
       "      <td>FSTPD30</td>\n",
       "    </tr>\n",
       "    <tr>\n",
       "      <th>2</th>\n",
       "      <td>2023-01-09</td>\n",
       "      <td>2023-01-15</td>\n",
       "      <td>0.189908</td>\n",
       "      <td>Week</td>\n",
       "      <td>credo_gen_score</td>\n",
       "      <td>1.1.0</td>\n",
       "      <td>FSTPD30</td>\n",
       "    </tr>\n",
       "    <tr>\n",
       "      <th>3</th>\n",
       "      <td>2023-01-16</td>\n",
       "      <td>2023-01-22</td>\n",
       "      <td>0.198840</td>\n",
       "      <td>Week</td>\n",
       "      <td>credo_gen_score</td>\n",
       "      <td>1.1.0</td>\n",
       "      <td>FSTPD30</td>\n",
       "    </tr>\n",
       "    <tr>\n",
       "      <th>4</th>\n",
       "      <td>2023-01-23</td>\n",
       "      <td>2023-01-29</td>\n",
       "      <td>0.162845</td>\n",
       "      <td>Week</td>\n",
       "      <td>credo_gen_score</td>\n",
       "      <td>1.1.0</td>\n",
       "      <td>FSTPD30</td>\n",
       "    </tr>\n",
       "  </tbody>\n",
       "</table>\n",
       "</div>"
      ],
      "text/plain": [
       "  start_date   end_date  credo_gen_score_FSTPD30_gini period       Model_Name  \\\n",
       "0 2023-01-01 2023-01-31                      0.180837  Month  credo_gen_score   \n",
       "1 2023-01-02 2023-01-08                      0.282959   Week  credo_gen_score   \n",
       "2 2023-01-09 2023-01-15                      0.189908   Week  credo_gen_score   \n",
       "3 2023-01-16 2023-01-22                      0.198840   Week  credo_gen_score   \n",
       "4 2023-01-23 2023-01-29                      0.162845   Week  credo_gen_score   \n",
       "\n",
       "  version bad_rate  \n",
       "0   1.1.0  FSTPD30  \n",
       "1   1.1.0  FSTPD30  \n",
       "2   1.1.0  FSTPD30  \n",
       "3   1.1.0  FSTPD30  \n",
       "4   1.1.0  FSTPD30  "
      ]
     },
     "execution_count": 115,
     "metadata": {},
     "output_type": "execute_result"
    }
   ],
   "source": [
    "sq = f\"\"\"\n",
    "with gen_credo_score as \n",
    "(SELECT \n",
    "    ln_disb_dtime disbursementdate,\n",
    "\tdigitalLoanAccountId,\n",
    "    credo_gen_score,\n",
    "    ln_fstpd30_flag,\n",
    "\tln_mature_fstpd30_flag,\t\n",
    "\tFROM \n",
    "    {a}\n",
    "  WHERE \n",
    "     -- ln_disb_dtime >= '2023-07-01'\n",
    "    ln_appln_submit_datetime >= '2023-01-01'\n",
    "  -- AND\n",
    "  --   format_date('%Y-%m', ln_disb_dtime) = '2024-09'\n",
    "  AND\n",
    "    ln_fstpd30_flag is not null\n",
    "  AND\n",
    "    credo_gen_score is not null\n",
    "  AND\n",
    "    ln_mature_fstpd30_flag = 1\n",
    ")\n",
    "select * from gen_credo_score;\n",
    "\"\"\"\n",
    "\n",
    "gen_credo_scorefstpd30 = client.query(sq).to_dataframe(progress_bar_type='tqdm')\n",
    "\n",
    "print(gen_credo_scorefstpd30.head(2))\n",
    "\n",
    "gini_results = calculate_periodic_gini(gen_credo_scorefstpd30, 'credo_gen_score', 'ln_fstpd30_flag', 'FSTPD30')\n",
    "M4FSTPD30 = gini_results.copy()\n",
    "print(f\"The shape of dataframe after copy is:\\t{M4FSTPD30.shape}\")\n",
    "print(M4FSTPD30.columns.values)\n",
    "\n",
    "M4FSTPD30.head()"
   ]
  },
  {
   "cell_type": "markdown",
   "metadata": {},
   "source": [
    "## Combining tables "
   ]
  },
  {
   "cell_type": "code",
   "execution_count": 116,
   "metadata": {},
   "outputs": [
    {
     "data": {
      "text/plain": [
       "array(['start_date', 'end_date', 'credo_gen_score_FPD10_gini', 'period',\n",
       "       'Model_Name', 'version', 'bad_rate', 'credo_gen_score_FPD30_gini',\n",
       "       'credo_gen_score_FSPD30_gini', 'credo_gen_score_FSTPD30_gini'],\n",
       "      dtype=object)"
      ]
     },
     "execution_count": 116,
     "metadata": {},
     "output_type": "execute_result"
    }
   ],
   "source": [
    "import functools\n",
    "\n",
    "dataframes = [M1FPD10, M2FPD30, M3FSPD30, M4FSTPD30]\n",
    "common_columns = ['start_date', 'end_date', 'period', 'Model_Name','version', 'bad_rate']\n",
    "\n",
    "def merge_dataframes(df1, df2):\n",
    "    return pd.merge(df1, df2, on=common_columns, how='outer')\n",
    "\n",
    "final_df = functools.reduce(merge_dataframes, dataframes)\n",
    "\n",
    "final_df.columns.values"
   ]
  },
  {
   "cell_type": "code",
   "execution_count": 117,
   "metadata": {},
   "outputs": [],
   "source": [
    "final_df = final_df[['start_date', 'end_date','period',\n",
    "       'Model_Name', 'version', 'bad_rate', 'credo_gen_score_FPD10_gini','credo_gen_score_FPD30_gini',   'credo_gen_score_FSPD30_gini', 'credo_gen_score_FSTPD30_gini']].copy()"
   ]
  },
  {
   "cell_type": "code",
   "execution_count": 118,
   "metadata": {},
   "outputs": [
    {
     "data": {
      "text/plain": [
       "QueryJob<project=prj-prod-dataplatform, location=asia-southeast1, id=84e99ee2-5c04-4c63-8457-a0c99ec5ced0>"
      ]
     },
     "execution_count": 118,
     "metadata": {},
     "output_type": "execute_result"
    }
   ],
   "source": [
    "sq = \"\"\"drop table if exists prj-prod-dataplatform.dap_ds_poweruser_playground.Model_gini_gen_credo_score;\"\"\"\n",
    "\n",
    "client.query(sq)"
   ]
  },
  {
   "cell_type": "code",
   "execution_count": 119,
   "metadata": {},
   "outputs": [
    {
     "name": "stderr",
     "output_type": "stream",
     "text": [
      "C:\\Users\\Dwaipayan\\AppData\\Roaming\\Python\\Python312\\site-packages\\google\\cloud\\bigquery\\_pandas_helpers.py:483: FutureWarning: Loading pandas DataFrame into BigQuery will require pandas-gbq package version 0.26.1 or greater in the future. Tried to import pandas-gbq and got: No module named 'pandas_gbq'\n",
      "  warnings.warn(\n"
     ]
    },
    {
     "data": {
      "text/plain": [
       "LoadJob<project=prj-prod-dataplatform, location=asia-southeast1, id=77220f70-3c99-4943-a9e9-9e7fbefd7b04>"
      ]
     },
     "execution_count": 119,
     "metadata": {},
     "output_type": "execute_result"
    }
   ],
   "source": [
    "import pandas as pd\n",
    "from google.cloud import bigquery\n",
    "\n",
    "# Create a BigQuery client\n",
    "client = bigquery.Client('prj-prod-dataplatform')\n",
    "\n",
    "# Define your table schema\n",
    "table_schema = [\n",
    "    bigquery.SchemaField('start_date', 'TIMESTAMP'),\n",
    "    bigquery.SchemaField('end_date', 'TIMESTAMP'),\n",
    "    bigquery.SchemaField('period', 'STRING'),\n",
    "    bigquery.SchemaField('Model_Name', 'STRING'),\n",
    "    bigquery.SchemaField('version', 'STRING'),\n",
    "    bigquery.SchemaField('Badrate', 'STRING'),\n",
    "    bigquery.SchemaField('credo_gen_score_FPD10_gini', 'FLOAT'),\n",
    "    bigquery.SchemaField('credo_gen_score_FPD30_gini', 'FLOAT'),    \n",
    "    bigquery.SchemaField('credo_gen_score_FSPD30_gini', 'FLOAT'),\n",
    "    bigquery.SchemaField('credo_gen_score_FSTPD30_gini', 'FLOAT')\n",
    "    \n",
    "]\n",
    "\n",
    "# Create your BigQuery table\n",
    "table_id = 'prj-prod-dataplatform.dap_ds_poweruser_playground.Model_gini_gen_credo_score'\n",
    "table = bigquery.Table(table_id, schema=table_schema)\n",
    "table = client.create_table(table)\n",
    "\n",
    "# Load your DataFrame into BigQuery\n",
    "job_config = bigquery.LoadJobConfig(\n",
    "    write_disposition='WRITE_TRUNCATE'\n",
    ")\n",
    "\n",
    "load_job = client.load_table_from_dataframe(\n",
    "    final_df, table_id, job_config=job_config\n",
    ")\n",
    "\n",
    "load_job.result()"
   ]
  },
  {
   "cell_type": "markdown",
   "metadata": {},
   "source": [
    "# c_credo_score"
   ]
  },
  {
   "cell_type": "code",
   "execution_count": 120,
   "metadata": {},
   "outputs": [
    {
     "name": "stdout",
     "output_type": "stream",
     "text": [
      "Job ID b09a310e-83be-460c-9e17-5cb05230ee7c successfully executed: 100%|\u001b[32m██████████\u001b[0m|"
     ]
    },
    {
     "name": "stderr",
     "output_type": "stream",
     "text": [
      "C:\\Users\\Dwaipayan\\AppData\\Roaming\\Python\\Python312\\site-packages\\google\\cloud\\bigquery\\table.py:1900: UserWarning: BigQuery Storage module not found, fetch data with the REST endpoint instead.\n",
      "  warnings.warn(\n"
     ]
    },
    {
     "name": "stdout",
     "output_type": "stream",
     "text": [
      "\n",
      "Downloading: 100%|\u001b[32m██████████\u001b[0m|\n"
     ]
    },
    {
     "name": "stderr",
     "output_type": "stream",
     "text": [
      "C:\\Users\\Dwaipayan\\AppData\\Local\\Temp\\ipykernel_53324\\1204584280.py:30: DeprecationWarning: DataFrameGroupBy.apply operated on the grouping columns. This behavior is deprecated, and in a future version of pandas the grouping columns will be excluded from the operation. Either pass `include_groups=False` to exclude the groupings or explicitly select the grouping columns after groupby to silence this warning.\n",
      "  weekly_gini = df.groupby('week').apply(\n",
      "C:\\Users\\Dwaipayan\\AppData\\Local\\Temp\\ipykernel_53324\\1204584280.py:41: DeprecationWarning: DataFrameGroupBy.apply operated on the grouping columns. This behavior is deprecated, and in a future version of pandas the grouping columns will be excluded from the operation. Either pass `include_groups=False` to exclude the groupings or explicitly select the grouping columns after groupby to silence this warning.\n",
      "  monthly_gini = df.groupby('month').apply(\n"
     ]
    },
    {
     "name": "stdout",
     "output_type": "stream",
     "text": [
      "The shape of dataframe after copy is:\t(143, 7)\n",
      "Job ID b58d4448-4ea0-4919-91a0-937d26c843ed successfully executed: 100%|\u001b[32m██████████\u001b[0m|"
     ]
    },
    {
     "name": "stderr",
     "output_type": "stream",
     "text": [
      "C:\\Users\\Dwaipayan\\AppData\\Roaming\\Python\\Python312\\site-packages\\google\\cloud\\bigquery\\table.py:1900: UserWarning: BigQuery Storage module not found, fetch data with the REST endpoint instead.\n",
      "  warnings.warn(\n"
     ]
    },
    {
     "name": "stdout",
     "output_type": "stream",
     "text": [
      "\n",
      "Downloading: 100%|\u001b[32m██████████\u001b[0m|\n"
     ]
    },
    {
     "name": "stderr",
     "output_type": "stream",
     "text": [
      "C:\\Users\\Dwaipayan\\AppData\\Local\\Temp\\ipykernel_53324\\1204584280.py:30: DeprecationWarning: DataFrameGroupBy.apply operated on the grouping columns. This behavior is deprecated, and in a future version of pandas the grouping columns will be excluded from the operation. Either pass `include_groups=False` to exclude the groupings or explicitly select the grouping columns after groupby to silence this warning.\n",
      "  weekly_gini = df.groupby('week').apply(\n",
      "C:\\Users\\Dwaipayan\\AppData\\Local\\Temp\\ipykernel_53324\\1204584280.py:41: DeprecationWarning: DataFrameGroupBy.apply operated on the grouping columns. This behavior is deprecated, and in a future version of pandas the grouping columns will be excluded from the operation. Either pass `include_groups=False` to exclude the groupings or explicitly select the grouping columns after groupby to silence this warning.\n",
      "  monthly_gini = df.groupby('month').apply(\n"
     ]
    },
    {
     "name": "stdout",
     "output_type": "stream",
     "text": [
      "The shape of dataframe after copy is:\t(139, 7)\n",
      "Job ID ba36d604-58d3-4bc5-9287-4b6ea283dc37 successfully executed: 100%|\u001b[32m██████████\u001b[0m|"
     ]
    },
    {
     "name": "stderr",
     "output_type": "stream",
     "text": [
      "C:\\Users\\Dwaipayan\\AppData\\Roaming\\Python\\Python312\\site-packages\\google\\cloud\\bigquery\\table.py:1900: UserWarning: BigQuery Storage module not found, fetch data with the REST endpoint instead.\n",
      "  warnings.warn(\n"
     ]
    },
    {
     "name": "stdout",
     "output_type": "stream",
     "text": [
      "\n",
      "Downloading: 100%|\u001b[32m██████████\u001b[0m|\n",
      "     disbursementdate                  digitalLoanAccountId  \\\n",
      "0 2024-07-16 19:09:27  a731f941-ed8a-4278-9ba4-1fd41132aa5e   \n",
      "1 2024-11-24 18:45:09  5be2f2c7-2401-48bc-a384-6f62c22866db   \n",
      "\n",
      "    credo_cash_score  ln_fspd30_flag  ln_mature_fspd30_flag  \n",
      "0  0.375585243842437               0                      1  \n",
      "1  0.346790857604298               0                      1  \n"
     ]
    },
    {
     "name": "stderr",
     "output_type": "stream",
     "text": [
      "C:\\Users\\Dwaipayan\\AppData\\Local\\Temp\\ipykernel_53324\\1204584280.py:30: DeprecationWarning: DataFrameGroupBy.apply operated on the grouping columns. This behavior is deprecated, and in a future version of pandas the grouping columns will be excluded from the operation. Either pass `include_groups=False` to exclude the groupings or explicitly select the grouping columns after groupby to silence this warning.\n",
      "  weekly_gini = df.groupby('week').apply(\n",
      "C:\\Users\\Dwaipayan\\AppData\\Local\\Temp\\ipykernel_53324\\1204584280.py:41: DeprecationWarning: DataFrameGroupBy.apply operated on the grouping columns. This behavior is deprecated, and in a future version of pandas the grouping columns will be excluded from the operation. Either pass `include_groups=False` to exclude the groupings or explicitly select the grouping columns after groupby to silence this warning.\n",
      "  monthly_gini = df.groupby('month').apply(\n"
     ]
    },
    {
     "name": "stdout",
     "output_type": "stream",
     "text": [
      "The shape of dataframe after copy is:\t(137, 7)\n",
      "['start_date' 'end_date' 'credo_cash_score_FSPD30_gini' 'period'\n",
      " 'Model_Name' 'version' 'bad_rate']\n",
      "Job ID b63d5858-1b11-41a2-bc83-99cac37d984a successfully executed: 100%|\u001b[32m██████████\u001b[0m|"
     ]
    },
    {
     "name": "stderr",
     "output_type": "stream",
     "text": [
      "C:\\Users\\Dwaipayan\\AppData\\Roaming\\Python\\Python312\\site-packages\\google\\cloud\\bigquery\\table.py:1900: UserWarning: BigQuery Storage module not found, fetch data with the REST endpoint instead.\n",
      "  warnings.warn(\n"
     ]
    },
    {
     "name": "stdout",
     "output_type": "stream",
     "text": [
      "\n",
      "Downloading: 100%|\u001b[32m██████████\u001b[0m|\n",
      "     disbursementdate                  digitalLoanAccountId  \\\n",
      "0 2024-07-16 19:09:27  a731f941-ed8a-4278-9ba4-1fd41132aa5e   \n",
      "1 2024-11-24 18:45:09  5be2f2c7-2401-48bc-a384-6f62c22866db   \n",
      "\n",
      "    credo_cash_score  ln_fstpd30_flag  ln_mature_fstpd30_flag  \n",
      "0  0.375585243842437                0                       1  \n",
      "1  0.346790857604298                0                       1  \n",
      "The shape of dataframe after copy is:\t(132, 7)\n",
      "['start_date' 'end_date' 'credo_cash_score_FSTPD30_gini' 'period'\n",
      " 'Model_Name' 'version' 'bad_rate']\n"
     ]
    },
    {
     "name": "stderr",
     "output_type": "stream",
     "text": [
      "C:\\Users\\Dwaipayan\\AppData\\Local\\Temp\\ipykernel_53324\\1204584280.py:30: DeprecationWarning: DataFrameGroupBy.apply operated on the grouping columns. This behavior is deprecated, and in a future version of pandas the grouping columns will be excluded from the operation. Either pass `include_groups=False` to exclude the groupings or explicitly select the grouping columns after groupby to silence this warning.\n",
      "  weekly_gini = df.groupby('week').apply(\n",
      "C:\\Users\\Dwaipayan\\AppData\\Local\\Temp\\ipykernel_53324\\1204584280.py:41: DeprecationWarning: DataFrameGroupBy.apply operated on the grouping columns. This behavior is deprecated, and in a future version of pandas the grouping columns will be excluded from the operation. Either pass `include_groups=False` to exclude the groupings or explicitly select the grouping columns after groupby to silence this warning.\n",
      "  monthly_gini = df.groupby('month').apply(\n"
     ]
    },
    {
     "data": {
      "application/vnd.microsoft.datawrangler.viewer.v0+json": {
       "columns": [
        {
         "name": "index",
         "rawType": "int64",
         "type": "integer"
        },
        {
         "name": "start_date",
         "rawType": "datetime64[ns]",
         "type": "datetime"
        },
        {
         "name": "end_date",
         "rawType": "datetime64[ns]",
         "type": "datetime"
        },
        {
         "name": "credo_cash_score_FSTPD30_gini",
         "rawType": "float64",
         "type": "float"
        },
        {
         "name": "period",
         "rawType": "object",
         "type": "string"
        },
        {
         "name": "Model_Name",
         "rawType": "object",
         "type": "string"
        },
        {
         "name": "version",
         "rawType": "object",
         "type": "string"
        },
        {
         "name": "bad_rate",
         "rawType": "object",
         "type": "string"
        }
       ],
       "conversionMethod": "pd.DataFrame",
       "ref": "feb9f5db-578f-48a2-a132-050724ced016",
       "rows": [
        [
         "0",
         "2023-01-01 00:00:00",
         "2023-01-31 00:00:00",
         "0.03594761537090929",
         "Month",
         "credo_cash_score",
         "1.1.0",
         "FSTPD30"
        ],
        [
         "1",
         "2023-01-02 00:00:00",
         "2023-01-08 00:00:00",
         "0.03600944510035431",
         "Week",
         "credo_cash_score",
         "1.1.0",
         "FSTPD30"
        ],
        [
         "2",
         "2023-01-09 00:00:00",
         "2023-01-15 00:00:00",
         "0.062142679592343875",
         "Week",
         "credo_cash_score",
         "1.1.0",
         "FSTPD30"
        ],
        [
         "3",
         "2023-01-16 00:00:00",
         "2023-01-22 00:00:00",
         "0.275890637945319",
         "Week",
         "credo_cash_score",
         "1.1.0",
         "FSTPD30"
        ],
        [
         "4",
         "2023-01-23 00:00:00",
         "2023-01-29 00:00:00",
         "-0.05055849500293941",
         "Week",
         "credo_cash_score",
         "1.1.0",
         "FSTPD30"
        ]
       ],
       "shape": {
        "columns": 7,
        "rows": 5
       }
      },
      "text/html": [
       "<div>\n",
       "<style scoped>\n",
       "    .dataframe tbody tr th:only-of-type {\n",
       "        vertical-align: middle;\n",
       "    }\n",
       "\n",
       "    .dataframe tbody tr th {\n",
       "        vertical-align: top;\n",
       "    }\n",
       "\n",
       "    .dataframe thead th {\n",
       "        text-align: right;\n",
       "    }\n",
       "</style>\n",
       "<table border=\"1\" class=\"dataframe\">\n",
       "  <thead>\n",
       "    <tr style=\"text-align: right;\">\n",
       "      <th></th>\n",
       "      <th>start_date</th>\n",
       "      <th>end_date</th>\n",
       "      <th>credo_cash_score_FSTPD30_gini</th>\n",
       "      <th>period</th>\n",
       "      <th>Model_Name</th>\n",
       "      <th>version</th>\n",
       "      <th>bad_rate</th>\n",
       "    </tr>\n",
       "  </thead>\n",
       "  <tbody>\n",
       "    <tr>\n",
       "      <th>0</th>\n",
       "      <td>2023-01-01</td>\n",
       "      <td>2023-01-31</td>\n",
       "      <td>0.035948</td>\n",
       "      <td>Month</td>\n",
       "      <td>credo_cash_score</td>\n",
       "      <td>1.1.0</td>\n",
       "      <td>FSTPD30</td>\n",
       "    </tr>\n",
       "    <tr>\n",
       "      <th>1</th>\n",
       "      <td>2023-01-02</td>\n",
       "      <td>2023-01-08</td>\n",
       "      <td>0.036009</td>\n",
       "      <td>Week</td>\n",
       "      <td>credo_cash_score</td>\n",
       "      <td>1.1.0</td>\n",
       "      <td>FSTPD30</td>\n",
       "    </tr>\n",
       "    <tr>\n",
       "      <th>2</th>\n",
       "      <td>2023-01-09</td>\n",
       "      <td>2023-01-15</td>\n",
       "      <td>0.062143</td>\n",
       "      <td>Week</td>\n",
       "      <td>credo_cash_score</td>\n",
       "      <td>1.1.0</td>\n",
       "      <td>FSTPD30</td>\n",
       "    </tr>\n",
       "    <tr>\n",
       "      <th>3</th>\n",
       "      <td>2023-01-16</td>\n",
       "      <td>2023-01-22</td>\n",
       "      <td>0.275891</td>\n",
       "      <td>Week</td>\n",
       "      <td>credo_cash_score</td>\n",
       "      <td>1.1.0</td>\n",
       "      <td>FSTPD30</td>\n",
       "    </tr>\n",
       "    <tr>\n",
       "      <th>4</th>\n",
       "      <td>2023-01-23</td>\n",
       "      <td>2023-01-29</td>\n",
       "      <td>-0.050558</td>\n",
       "      <td>Week</td>\n",
       "      <td>credo_cash_score</td>\n",
       "      <td>1.1.0</td>\n",
       "      <td>FSTPD30</td>\n",
       "    </tr>\n",
       "  </tbody>\n",
       "</table>\n",
       "</div>"
      ],
      "text/plain": [
       "  start_date   end_date  credo_cash_score_FSTPD30_gini period  \\\n",
       "0 2023-01-01 2023-01-31                       0.035948  Month   \n",
       "1 2023-01-02 2023-01-08                       0.036009   Week   \n",
       "2 2023-01-09 2023-01-15                       0.062143   Week   \n",
       "3 2023-01-16 2023-01-22                       0.275891   Week   \n",
       "4 2023-01-23 2023-01-29                      -0.050558   Week   \n",
       "\n",
       "         Model_Name version bad_rate  \n",
       "0  credo_cash_score   1.1.0  FSTPD30  \n",
       "1  credo_cash_score   1.1.0  FSTPD30  \n",
       "2  credo_cash_score   1.1.0  FSTPD30  \n",
       "3  credo_cash_score   1.1.0  FSTPD30  \n",
       "4  credo_cash_score   1.1.0  FSTPD30  "
      ]
     },
     "execution_count": 120,
     "metadata": {},
     "output_type": "execute_result"
    }
   ],
   "source": [
    "sq = f\"\"\"\n",
    "with c_credo_score as \n",
    "(SELECT \n",
    "    ln_disb_dtime disbursementdate,\n",
    "\tdigitalLoanAccountId,\n",
    "    credo_quick_score credo_cash_score,\n",
    "    ln_fpd10_flag,\n",
    "\tln_mature_fpd10_flag,\t\n",
    "\tFROM \n",
    "    {a}\n",
    "  WHERE \n",
    "     -- ln_disb_dtime >= '2023-07-01'\n",
    "    ln_appln_submit_datetime >= '2023-01-01'\n",
    "  -- AND\n",
    "  --   format_date('%Y-%m', ln_disb_dtime) = '2024-09'\n",
    "  AND\n",
    "    ln_fpd10_flag is not null\n",
    "  AND\n",
    "    credo_quick_score is not null\n",
    "  AND\n",
    "    ln_mature_fpd10_flag = 1\n",
    ")\n",
    "select * from c_credo_score;\n",
    "\"\"\"\n",
    "\n",
    "c_credo_scorefpd10 = client.query(sq).to_dataframe(progress_bar_type='tqdm')\n",
    "\n",
    "c_credo_scorefpd10.head()\n",
    "\n",
    "gini_results = calculate_periodic_gini(c_credo_scorefpd10, 'credo_cash_score', 'ln_fpd10_flag', 'FPD10')\n",
    "M1FPD10 = gini_results.copy()\n",
    "print(f\"The shape of dataframe after copy is:\\t{M1FPD10.shape}\")\n",
    "M1FPD10.columns.values\n",
    "\n",
    "# FPD30\n",
    "\n",
    "sq = f\"\"\"\n",
    "with c_credo_score as \n",
    "(SELECT \n",
    "    ln_disb_dtime disbursementdate,\n",
    "\tdigitalLoanAccountId,\n",
    "    credo_quick_score credo_cash_score,\n",
    "    ln_fpd30_flag,\n",
    "\tln_mature_fpd30_flag,\t\n",
    "\tFROM \n",
    "    {a}\n",
    "  WHERE \n",
    "     -- ln_disb_dtime >= '2023-07-01'\n",
    "    ln_appln_submit_datetime >= '2023-01-01'\n",
    "  -- AND\n",
    "  --   format_date('%Y-%m', ln_disb_dtime) = '2024-09'\n",
    "  AND\n",
    "    ln_fpd30_flag is not null\n",
    "  AND\n",
    "    credo_quick_score is not null\n",
    "  AND\n",
    "    ln_mature_fpd30_flag = 1\n",
    ")\n",
    "select * from c_credo_score;\n",
    "\"\"\"\n",
    "\n",
    "c_credo_scorefpd30 = client.query(sq).to_dataframe(progress_bar_type='tqdm')\n",
    "\n",
    "c_credo_scorefpd30.head()\n",
    "\n",
    "gini_results = calculate_periodic_gini(c_credo_scorefpd30, 'credo_cash_score', 'ln_fpd30_flag', 'FPD30')\n",
    "M2FPD30 = gini_results.copy()\n",
    "print(f\"The shape of dataframe after copy is:\\t{M2FPD30.shape}\")\n",
    "M2FPD30.columns.values\n",
    "\n",
    "sq = f\"\"\"\n",
    "with c_credo_score as \n",
    "(SELECT \n",
    "    ln_disb_dtime disbursementdate,\n",
    "\tdigitalLoanAccountId,\n",
    "    credo_quick_score credo_cash_score,\n",
    "    ln_fspd30_flag,\n",
    "\tln_mature_fspd30_flag,\t\n",
    "\tFROM \n",
    "   {a}\n",
    "  WHERE \n",
    "     -- ln_disb_dtime >= '2023-07-01'\n",
    "    ln_appln_submit_datetime >= '2023-01-01'\n",
    "  -- AND\n",
    "  --   format_date('%Y-%m', ln_disb_dtime) = '2024-09'\n",
    "  AND\n",
    "    ln_fspd30_flag is not null\n",
    "  AND\n",
    "    credo_quick_score  is not null\n",
    "  AND\n",
    "    ln_mature_fspd30_flag = 1\n",
    ")\n",
    "select * from c_credo_score;\n",
    "\"\"\"\n",
    "\n",
    "c_credo_scorefspd30 = client.query(sq).to_dataframe(progress_bar_type='tqdm')\n",
    "\n",
    "print(c_credo_scorefspd30.head(2))\n",
    "\n",
    "gini_results = calculate_periodic_gini(c_credo_scorefspd30, 'credo_cash_score', 'ln_fspd30_flag', 'FSPD30')\n",
    "M3FSPD30 = gini_results.copy()\n",
    "print(f\"The shape of dataframe after copy is:\\t{M3FSPD30.shape}\")\n",
    "print(M3FSPD30.columns.values)\n",
    "\n",
    "M3FSPD30.head()\n",
    "\n",
    "sq = f\"\"\"\n",
    "with c_credo_score as \n",
    "(SELECT \n",
    "    ln_disb_dtime disbursementdate,\n",
    "\tdigitalLoanAccountId,\n",
    "    credo_quick_score credo_cash_score,\n",
    "    ln_fstpd30_flag,\n",
    "\tln_mature_fstpd30_flag,\t\n",
    "\tFROM \n",
    "    {a}\n",
    "  WHERE \n",
    "     -- ln_disb_dtime >= '2023-07-01'\n",
    "    ln_appln_submit_datetime >= '2023-01-01'\n",
    "  -- AND\n",
    "  --   format_date('%Y-%m', ln_disb_dtime) = '2024-09'\n",
    "  AND\n",
    "    ln_fstpd30_flag is not null\n",
    "  AND\n",
    "    credo_quick_score  is not null\n",
    "  AND\n",
    "    ln_mature_fstpd30_flag = 1\n",
    ")\n",
    "select * from c_credo_score;\n",
    "\"\"\"\n",
    "\n",
    "c_credo_scorefstpd30 = client.query(sq).to_dataframe(progress_bar_type='tqdm')\n",
    "\n",
    "print(c_credo_scorefstpd30.head(2))\n",
    "\n",
    "gini_results = calculate_periodic_gini(c_credo_scorefstpd30, 'credo_cash_score', 'ln_fstpd30_flag', 'FSTPD30')\n",
    "M4FSTPD30 = gini_results.copy()\n",
    "print(f\"The shape of dataframe after copy is:\\t{M4FSTPD30.shape}\")\n",
    "print(M4FSTPD30.columns.values)\n",
    "\n",
    "M4FSTPD30.head()\n",
    "\n"
   ]
  },
  {
   "cell_type": "code",
   "execution_count": 121,
   "metadata": {},
   "outputs": [
    {
     "data": {
      "text/plain": [
       "array(['start_date', 'end_date', 'credo_cash_score_FPD10_gini', 'period',\n",
       "       'Model_Name', 'version', 'bad_rate', 'credo_cash_score_FPD30_gini',\n",
       "       'credo_cash_score_FSPD30_gini', 'credo_cash_score_FSTPD30_gini'],\n",
       "      dtype=object)"
      ]
     },
     "execution_count": 121,
     "metadata": {},
     "output_type": "execute_result"
    }
   ],
   "source": [
    "import functools\n",
    "\n",
    "dataframes = [M1FPD10, M2FPD30, M3FSPD30, M4FSTPD30]\n",
    "common_columns = ['start_date', 'end_date', 'period', 'Model_Name','version', 'bad_rate']\n",
    "\n",
    "def merge_dataframes(df1, df2):\n",
    "    return pd.merge(df1, df2, on=common_columns, how='outer')\n",
    "\n",
    "final_df = functools.reduce(merge_dataframes, dataframes)\n",
    "\n",
    "final_df.columns.values"
   ]
  },
  {
   "cell_type": "code",
   "execution_count": 122,
   "metadata": {},
   "outputs": [],
   "source": [
    "final_df = final_df[['start_date', 'end_date','period',    'Model_Name', 'version', 'bad_rate',\n",
    "                     'credo_cash_score_FPD10_gini', \n",
    "                     'credo_cash_score_FPD30_gini', \n",
    "                     'credo_cash_score_FSPD30_gini',\n",
    "                     'credo_cash_score_FSTPD30_gini']].copy()"
   ]
  },
  {
   "cell_type": "code",
   "execution_count": 123,
   "metadata": {},
   "outputs": [
    {
     "data": {
      "text/plain": [
       "QueryJob<project=prj-prod-dataplatform, location=asia-southeast1, id=609bd857-a465-4670-8e6c-a21fd8aef3fb>"
      ]
     },
     "execution_count": 123,
     "metadata": {},
     "output_type": "execute_result"
    }
   ],
   "source": [
    "sq = \"\"\"drop table if exists prj-prod-dataplatform.dap_ds_poweruser_playground.Model_gini_c_credo_score;\"\"\"\n",
    "client.query(sq)"
   ]
  },
  {
   "cell_type": "code",
   "execution_count": 124,
   "metadata": {},
   "outputs": [
    {
     "name": "stderr",
     "output_type": "stream",
     "text": [
      "C:\\Users\\Dwaipayan\\AppData\\Roaming\\Python\\Python312\\site-packages\\google\\cloud\\bigquery\\_pandas_helpers.py:483: FutureWarning: Loading pandas DataFrame into BigQuery will require pandas-gbq package version 0.26.1 or greater in the future. Tried to import pandas-gbq and got: No module named 'pandas_gbq'\n",
      "  warnings.warn(\n"
     ]
    },
    {
     "data": {
      "text/plain": [
       "LoadJob<project=prj-prod-dataplatform, location=asia-southeast1, id=00c1eddf-996f-464b-8b1e-21d9aebfb3e6>"
      ]
     },
     "execution_count": 124,
     "metadata": {},
     "output_type": "execute_result"
    }
   ],
   "source": [
    "import pandas as pd\n",
    "from google.cloud import bigquery\n",
    "\n",
    "# Create a BigQuery client\n",
    "client = bigquery.Client('prj-prod-dataplatform')\n",
    "\n",
    "# Define your table schema\n",
    "table_schema = [\n",
    "    bigquery.SchemaField('start_date', 'TIMESTAMP'),\n",
    "    bigquery.SchemaField('end_date', 'TIMESTAMP'),\n",
    "    bigquery.SchemaField('period', 'STRING'),\n",
    "    bigquery.SchemaField('Model_Name', 'STRING'),\n",
    "    bigquery.SchemaField('version', 'STRING'),\n",
    "    bigquery.SchemaField('Badrate', 'STRING'),\n",
    "    bigquery.SchemaField('credo_cash_score_FPD10_gini', 'FLOAT'),\n",
    "    bigquery.SchemaField('credo_cash_score_FPD30_gini', 'FLOAT'),    \n",
    "    bigquery.SchemaField('credo_cash_score_FSPD30_gini', 'FLOAT'),\n",
    "    bigquery.SchemaField('credo_cash_score_FSTPD30_gini', 'FLOAT')\n",
    "    \n",
    "]\n",
    "\n",
    "# Create your BigQuery table\n",
    "table_id = 'prj-prod-dataplatform.dap_ds_poweruser_playground.Model_gini_c_credo_score'\n",
    "table = bigquery.Table(table_id, schema=table_schema)\n",
    "table = client.create_table(table)\n",
    "\n",
    "# Load your DataFrame into BigQuery\n",
    "job_config = bigquery.LoadJobConfig(\n",
    "    write_disposition='WRITE_TRUNCATE'\n",
    ")\n",
    "\n",
    "load_job = client.load_table_from_dataframe(\n",
    "    final_df, table_id, job_config=job_config\n",
    ")\n",
    "\n",
    "load_job.result()"
   ]
  },
  {
   "cell_type": "markdown",
   "metadata": {},
   "source": [
    "# s_credo_score"
   ]
  },
  {
   "cell_type": "code",
   "execution_count": 125,
   "metadata": {},
   "outputs": [
    {
     "name": "stdout",
     "output_type": "stream",
     "text": [
      "Job ID 219fd09b-a3bf-4f7e-bc06-1c0e5be06661 successfully executed: 100%|\u001b[32m██████████\u001b[0m|"
     ]
    },
    {
     "name": "stderr",
     "output_type": "stream",
     "text": [
      "C:\\Users\\Dwaipayan\\AppData\\Roaming\\Python\\Python312\\site-packages\\google\\cloud\\bigquery\\table.py:1900: UserWarning: BigQuery Storage module not found, fetch data with the REST endpoint instead.\n",
      "  warnings.warn(\n"
     ]
    },
    {
     "name": "stdout",
     "output_type": "stream",
     "text": [
      "\n",
      "Downloading: 100%|\u001b[32m██████████\u001b[0m|\n"
     ]
    },
    {
     "name": "stderr",
     "output_type": "stream",
     "text": [
      "C:\\Users\\Dwaipayan\\AppData\\Local\\Temp\\ipykernel_53324\\1204584280.py:30: DeprecationWarning: DataFrameGroupBy.apply operated on the grouping columns. This behavior is deprecated, and in a future version of pandas the grouping columns will be excluded from the operation. Either pass `include_groups=False` to exclude the groupings or explicitly select the grouping columns after groupby to silence this warning.\n",
      "  weekly_gini = df.groupby('week').apply(\n",
      "C:\\Users\\Dwaipayan\\AppData\\Local\\Temp\\ipykernel_53324\\1204584280.py:41: DeprecationWarning: DataFrameGroupBy.apply operated on the grouping columns. This behavior is deprecated, and in a future version of pandas the grouping columns will be excluded from the operation. Either pass `include_groups=False` to exclude the groupings or explicitly select the grouping columns after groupby to silence this warning.\n",
      "  monthly_gini = df.groupby('month').apply(\n"
     ]
    },
    {
     "name": "stdout",
     "output_type": "stream",
     "text": [
      "The shape of dataframe after copy is:\t(143, 7)\n",
      "Job ID a584fcf0-e63c-485a-80b1-63d34ace2b83 successfully executed: 100%|\u001b[32m██████████\u001b[0m|"
     ]
    },
    {
     "name": "stderr",
     "output_type": "stream",
     "text": [
      "C:\\Users\\Dwaipayan\\AppData\\Roaming\\Python\\Python312\\site-packages\\google\\cloud\\bigquery\\table.py:1900: UserWarning: BigQuery Storage module not found, fetch data with the REST endpoint instead.\n",
      "  warnings.warn(\n"
     ]
    },
    {
     "name": "stdout",
     "output_type": "stream",
     "text": [
      "\n",
      "Downloading: 100%|\u001b[32m██████████\u001b[0m|\n"
     ]
    },
    {
     "name": "stderr",
     "output_type": "stream",
     "text": [
      "C:\\Users\\Dwaipayan\\AppData\\Local\\Temp\\ipykernel_53324\\1204584280.py:30: DeprecationWarning: DataFrameGroupBy.apply operated on the grouping columns. This behavior is deprecated, and in a future version of pandas the grouping columns will be excluded from the operation. Either pass `include_groups=False` to exclude the groupings or explicitly select the grouping columns after groupby to silence this warning.\n",
      "  weekly_gini = df.groupby('week').apply(\n",
      "C:\\Users\\Dwaipayan\\AppData\\Local\\Temp\\ipykernel_53324\\1204584280.py:41: DeprecationWarning: DataFrameGroupBy.apply operated on the grouping columns. This behavior is deprecated, and in a future version of pandas the grouping columns will be excluded from the operation. Either pass `include_groups=False` to exclude the groupings or explicitly select the grouping columns after groupby to silence this warning.\n",
      "  monthly_gini = df.groupby('month').apply(\n"
     ]
    },
    {
     "name": "stdout",
     "output_type": "stream",
     "text": [
      "The shape of dataframe after copy is:\t(139, 7)\n",
      "Job ID 5136ed91-2fd9-4b4f-bf48-e4fd8b4c0bd9 successfully executed: 100%|\u001b[32m██████████\u001b[0m|"
     ]
    },
    {
     "name": "stderr",
     "output_type": "stream",
     "text": [
      "C:\\Users\\Dwaipayan\\AppData\\Roaming\\Python\\Python312\\site-packages\\google\\cloud\\bigquery\\table.py:1900: UserWarning: BigQuery Storage module not found, fetch data with the REST endpoint instead.\n",
      "  warnings.warn(\n"
     ]
    },
    {
     "name": "stdout",
     "output_type": "stream",
     "text": [
      "\n",
      "Downloading: 100%|\u001b[32m██████████\u001b[0m|\n",
      "     disbursementdate                  digitalLoanAccountId  \\\n",
      "0 2024-08-11 13:28:11  d41da9d2-9d65-4f4f-bfb6-398eaa9d10e1   \n",
      "1 2025-01-25 19:05:49  e549776f-7a2d-4b6c-9edc-e3b59e8955f6   \n",
      "\n",
      "     credo_sil_score  ln_fspd30_flag  ln_mature_fspd30_flag  \n",
      "0   0.17085650025779               0                      1  \n",
      "1  0.121637216776814               0                      1  \n"
     ]
    },
    {
     "name": "stderr",
     "output_type": "stream",
     "text": [
      "C:\\Users\\Dwaipayan\\AppData\\Local\\Temp\\ipykernel_53324\\1204584280.py:30: DeprecationWarning: DataFrameGroupBy.apply operated on the grouping columns. This behavior is deprecated, and in a future version of pandas the grouping columns will be excluded from the operation. Either pass `include_groups=False` to exclude the groupings or explicitly select the grouping columns after groupby to silence this warning.\n",
      "  weekly_gini = df.groupby('week').apply(\n",
      "C:\\Users\\Dwaipayan\\AppData\\Local\\Temp\\ipykernel_53324\\1204584280.py:41: DeprecationWarning: DataFrameGroupBy.apply operated on the grouping columns. This behavior is deprecated, and in a future version of pandas the grouping columns will be excluded from the operation. Either pass `include_groups=False` to exclude the groupings or explicitly select the grouping columns after groupby to silence this warning.\n",
      "  monthly_gini = df.groupby('month').apply(\n"
     ]
    },
    {
     "name": "stdout",
     "output_type": "stream",
     "text": [
      "The shape of dataframe after copy is:\t(137, 7)\n",
      "['start_date' 'end_date' 'credo_sil_score_FSPD30_gini' 'period'\n",
      " 'Model_Name' 'version' 'bad_rate']\n",
      "Job ID 65ea8a91-a292-42ee-a719-36dbf1d0b59a successfully executed: 100%|\u001b[32m██████████\u001b[0m|"
     ]
    },
    {
     "name": "stderr",
     "output_type": "stream",
     "text": [
      "C:\\Users\\Dwaipayan\\AppData\\Roaming\\Python\\Python312\\site-packages\\google\\cloud\\bigquery\\table.py:1900: UserWarning: BigQuery Storage module not found, fetch data with the REST endpoint instead.\n",
      "  warnings.warn(\n"
     ]
    },
    {
     "name": "stdout",
     "output_type": "stream",
     "text": [
      "\n",
      "Downloading: 100%|\u001b[32m██████████\u001b[0m|\n",
      "     disbursementdate                  digitalLoanAccountId  \\\n",
      "0 2024-08-11 13:28:11  d41da9d2-9d65-4f4f-bfb6-398eaa9d10e1   \n",
      "1 2024-05-02 17:24:11  9b118965-74ea-4832-a640-8b5ea2cc140e   \n",
      "\n",
      "      credo_sil_score  ln_fstpd30_flag  ln_mature_fstpd30_flag  \n",
      "0    0.17085650025779                0                       1  \n",
      "1  0.0724266449334963                0                       1  \n",
      "The shape of dataframe after copy is:\t(132, 7)\n",
      "['start_date' 'end_date' 'credo_sil_score_FSTPD30_gini' 'period'\n",
      " 'Model_Name' 'version' 'bad_rate']\n"
     ]
    },
    {
     "name": "stderr",
     "output_type": "stream",
     "text": [
      "C:\\Users\\Dwaipayan\\AppData\\Local\\Temp\\ipykernel_53324\\1204584280.py:30: DeprecationWarning: DataFrameGroupBy.apply operated on the grouping columns. This behavior is deprecated, and in a future version of pandas the grouping columns will be excluded from the operation. Either pass `include_groups=False` to exclude the groupings or explicitly select the grouping columns after groupby to silence this warning.\n",
      "  weekly_gini = df.groupby('week').apply(\n",
      "C:\\Users\\Dwaipayan\\AppData\\Local\\Temp\\ipykernel_53324\\1204584280.py:41: DeprecationWarning: DataFrameGroupBy.apply operated on the grouping columns. This behavior is deprecated, and in a future version of pandas the grouping columns will be excluded from the operation. Either pass `include_groups=False` to exclude the groupings or explicitly select the grouping columns after groupby to silence this warning.\n",
      "  monthly_gini = df.groupby('month').apply(\n"
     ]
    },
    {
     "data": {
      "application/vnd.microsoft.datawrangler.viewer.v0+json": {
       "columns": [
        {
         "name": "index",
         "rawType": "int64",
         "type": "integer"
        },
        {
         "name": "start_date",
         "rawType": "datetime64[ns]",
         "type": "datetime"
        },
        {
         "name": "end_date",
         "rawType": "datetime64[ns]",
         "type": "datetime"
        },
        {
         "name": "credo_sil_score_FSTPD30_gini",
         "rawType": "float64",
         "type": "float"
        },
        {
         "name": "period",
         "rawType": "object",
         "type": "string"
        },
        {
         "name": "Model_Name",
         "rawType": "object",
         "type": "string"
        },
        {
         "name": "version",
         "rawType": "object",
         "type": "string"
        },
        {
         "name": "bad_rate",
         "rawType": "object",
         "type": "string"
        }
       ],
       "conversionMethod": "pd.DataFrame",
       "ref": "74d51237-5151-4193-b434-7ae003e4a553",
       "rows": [
        [
         "0",
         "2023-01-01 00:00:00",
         "2023-01-31 00:00:00",
         "0.21908594167607065",
         "Month",
         "credo_sil_score",
         "1.1.0",
         "FSTPD30"
        ],
        [
         "1",
         "2023-01-02 00:00:00",
         "2023-01-08 00:00:00",
         "0.26170798898071634",
         "Week",
         "credo_sil_score",
         "1.1.0",
         "FSTPD30"
        ],
        [
         "2",
         "2023-01-09 00:00:00",
         "2023-01-15 00:00:00",
         "0.25105642555306984",
         "Week",
         "credo_sil_score",
         "1.1.0",
         "FSTPD30"
        ],
        [
         "3",
         "2023-01-16 00:00:00",
         "2023-01-22 00:00:00",
         "0.2750621375310687",
         "Week",
         "credo_sil_score",
         "1.1.0",
         "FSTPD30"
        ],
        [
         "4",
         "2023-01-23 00:00:00",
         "2023-01-29 00:00:00",
         "0.15755437977660192",
         "Week",
         "credo_sil_score",
         "1.1.0",
         "FSTPD30"
        ]
       ],
       "shape": {
        "columns": 7,
        "rows": 5
       }
      },
      "text/html": [
       "<div>\n",
       "<style scoped>\n",
       "    .dataframe tbody tr th:only-of-type {\n",
       "        vertical-align: middle;\n",
       "    }\n",
       "\n",
       "    .dataframe tbody tr th {\n",
       "        vertical-align: top;\n",
       "    }\n",
       "\n",
       "    .dataframe thead th {\n",
       "        text-align: right;\n",
       "    }\n",
       "</style>\n",
       "<table border=\"1\" class=\"dataframe\">\n",
       "  <thead>\n",
       "    <tr style=\"text-align: right;\">\n",
       "      <th></th>\n",
       "      <th>start_date</th>\n",
       "      <th>end_date</th>\n",
       "      <th>credo_sil_score_FSTPD30_gini</th>\n",
       "      <th>period</th>\n",
       "      <th>Model_Name</th>\n",
       "      <th>version</th>\n",
       "      <th>bad_rate</th>\n",
       "    </tr>\n",
       "  </thead>\n",
       "  <tbody>\n",
       "    <tr>\n",
       "      <th>0</th>\n",
       "      <td>2023-01-01</td>\n",
       "      <td>2023-01-31</td>\n",
       "      <td>0.219086</td>\n",
       "      <td>Month</td>\n",
       "      <td>credo_sil_score</td>\n",
       "      <td>1.1.0</td>\n",
       "      <td>FSTPD30</td>\n",
       "    </tr>\n",
       "    <tr>\n",
       "      <th>1</th>\n",
       "      <td>2023-01-02</td>\n",
       "      <td>2023-01-08</td>\n",
       "      <td>0.261708</td>\n",
       "      <td>Week</td>\n",
       "      <td>credo_sil_score</td>\n",
       "      <td>1.1.0</td>\n",
       "      <td>FSTPD30</td>\n",
       "    </tr>\n",
       "    <tr>\n",
       "      <th>2</th>\n",
       "      <td>2023-01-09</td>\n",
       "      <td>2023-01-15</td>\n",
       "      <td>0.251056</td>\n",
       "      <td>Week</td>\n",
       "      <td>credo_sil_score</td>\n",
       "      <td>1.1.0</td>\n",
       "      <td>FSTPD30</td>\n",
       "    </tr>\n",
       "    <tr>\n",
       "      <th>3</th>\n",
       "      <td>2023-01-16</td>\n",
       "      <td>2023-01-22</td>\n",
       "      <td>0.275062</td>\n",
       "      <td>Week</td>\n",
       "      <td>credo_sil_score</td>\n",
       "      <td>1.1.0</td>\n",
       "      <td>FSTPD30</td>\n",
       "    </tr>\n",
       "    <tr>\n",
       "      <th>4</th>\n",
       "      <td>2023-01-23</td>\n",
       "      <td>2023-01-29</td>\n",
       "      <td>0.157554</td>\n",
       "      <td>Week</td>\n",
       "      <td>credo_sil_score</td>\n",
       "      <td>1.1.0</td>\n",
       "      <td>FSTPD30</td>\n",
       "    </tr>\n",
       "  </tbody>\n",
       "</table>\n",
       "</div>"
      ],
      "text/plain": [
       "  start_date   end_date  credo_sil_score_FSTPD30_gini period       Model_Name  \\\n",
       "0 2023-01-01 2023-01-31                      0.219086  Month  credo_sil_score   \n",
       "1 2023-01-02 2023-01-08                      0.261708   Week  credo_sil_score   \n",
       "2 2023-01-09 2023-01-15                      0.251056   Week  credo_sil_score   \n",
       "3 2023-01-16 2023-01-22                      0.275062   Week  credo_sil_score   \n",
       "4 2023-01-23 2023-01-29                      0.157554   Week  credo_sil_score   \n",
       "\n",
       "  version bad_rate  \n",
       "0   1.1.0  FSTPD30  \n",
       "1   1.1.0  FSTPD30  \n",
       "2   1.1.0  FSTPD30  \n",
       "3   1.1.0  FSTPD30  \n",
       "4   1.1.0  FSTPD30  "
      ]
     },
     "execution_count": 125,
     "metadata": {},
     "output_type": "execute_result"
    }
   ],
   "source": [
    "\n",
    "\n",
    "sq = f\"\"\"\n",
    "with s_credo_score as \n",
    "(SELECT \n",
    "    ln_disb_dtime disbursementdate,\n",
    "\tdigitalLoanAccountId,\n",
    "    credo_sil_score,\n",
    "    ln_fpd10_flag,\n",
    "\tln_mature_fpd10_flag,\t\n",
    "\tFROM \n",
    "    {a}\n",
    "  WHERE \n",
    "     -- ln_disb_dtime >= '2023-07-01'\n",
    "    ln_appln_submit_datetime >= '2023-01-01'\n",
    "  -- AND\n",
    "  --   format_date('%Y-%m', ln_disb_dtime) = '2024-09'\n",
    "  AND\n",
    "    ln_fpd10_flag is not null\n",
    "  AND\n",
    "    credo_sil_score is not null\n",
    "  AND\n",
    "    ln_mature_fpd10_flag = 1\n",
    ")\n",
    "select * from s_credo_score;\n",
    "\"\"\"\n",
    "\n",
    "s_credo_scorefpd10 = client.query(sq).to_dataframe(progress_bar_type='tqdm')\n",
    "\n",
    "s_credo_scorefpd10.head()\n",
    "\n",
    "gini_results = calculate_periodic_gini(s_credo_scorefpd10, 'credo_sil_score', 'ln_fpd10_flag', 'FPD10')\n",
    "M1FPD10 = gini_results.copy()\n",
    "print(f\"The shape of dataframe after copy is:\\t{M1FPD10.shape}\")\n",
    "M1FPD10.columns.values\n",
    "\n",
    "# FPD30\n",
    "\n",
    "sq = f\"\"\"\n",
    "with s_credo_score as \n",
    "(SELECT \n",
    "    ln_disb_dtime disbursementdate,\n",
    "\tdigitalLoanAccountId,\n",
    "    credo_sil_score,\n",
    "    ln_fpd30_flag,\n",
    "\tln_mature_fpd30_flag,\t\n",
    "\tFROM \n",
    "   {a}\n",
    "  WHERE \n",
    "     -- ln_disb_dtime >= '2023-07-01'\n",
    "    ln_appln_submit_datetime >= '2023-01-01'\n",
    "  -- AND\n",
    "  --   format_date('%Y-%m', ln_disb_dtime) = '2024-09'\n",
    "  AND\n",
    "    ln_fpd30_flag is not null\n",
    "  AND\n",
    "    credo_sil_score is not null\n",
    "  AND\n",
    "    ln_mature_fpd30_flag = 1\n",
    ")\n",
    "select * from s_credo_score;\n",
    "\"\"\"\n",
    "\n",
    "s_credo_scorefpd30 = client.query(sq).to_dataframe(progress_bar_type='tqdm')\n",
    "\n",
    "s_credo_scorefpd30.head()\n",
    "\n",
    "gini_results = calculate_periodic_gini(s_credo_scorefpd30, 'credo_sil_score', 'ln_fpd30_flag', 'FPD30')\n",
    "M2FPD30 = gini_results.copy()\n",
    "print(f\"The shape of dataframe after copy is:\\t{M2FPD30.shape}\")\n",
    "M2FPD30.columns.values\n",
    "\n",
    "sq = f\"\"\"\n",
    "with s_credo_score as \n",
    "(SELECT \n",
    "    ln_disb_dtime disbursementdate,\n",
    "\tdigitalLoanAccountId,\n",
    "    credo_sil_score,\n",
    "    ln_fspd30_flag,\n",
    "\tln_mature_fspd30_flag,\t\n",
    "\tFROM \n",
    "    {a}\n",
    "  WHERE \n",
    "     -- ln_disb_dtime >= '2023-07-01'\n",
    "    ln_appln_submit_datetime >= '2023-01-01'\n",
    "  -- AND\n",
    "  --   format_date('%Y-%m', ln_disb_dtime) = '2024-09'\n",
    "  AND\n",
    "    ln_fspd30_flag is not null\n",
    "  AND\n",
    "    credo_sil_score is not null\n",
    "  AND\n",
    "    ln_mature_fspd30_flag = 1\n",
    ")\n",
    "select * from s_credo_score;\n",
    "\"\"\"\n",
    "\n",
    "s_credo_scorefspd30 = client.query(sq).to_dataframe(progress_bar_type='tqdm')\n",
    "\n",
    "print(s_credo_scorefspd30.head(2))\n",
    "\n",
    "gini_results = calculate_periodic_gini(s_credo_scorefspd30, 'credo_sil_score', 'ln_fspd30_flag', 'FSPD30')\n",
    "M3FSPD30 = gini_results.copy()\n",
    "print(f\"The shape of dataframe after copy is:\\t{M3FSPD30.shape}\")\n",
    "print(M3FSPD30.columns.values)\n",
    "\n",
    "M3FSPD30.head()\n",
    "\n",
    "sq = f\"\"\"\n",
    "with s_credo_score as \n",
    "(SELECT \n",
    "    ln_disb_dtime disbursementdate,\n",
    "\tdigitalLoanAccountId,\n",
    "    credo_sil_score,\n",
    "    ln_fstpd30_flag,\n",
    "\tln_mature_fstpd30_flag,\t\n",
    "\tFROM \n",
    "    {a}\n",
    "  WHERE \n",
    "     -- ln_disb_dtime >= '2023-07-01'\n",
    "    ln_appln_submit_datetime >= '2023-01-01'\n",
    "  -- AND\n",
    "  --   format_date('%Y-%m', ln_disb_dtime) = '2024-09'\n",
    "  AND\n",
    "    ln_fstpd30_flag is not null\n",
    "  AND\n",
    "    credo_sil_score is not null\n",
    "  AND\n",
    "    ln_mature_fstpd30_flag = 1\n",
    ")\n",
    "select * from s_credo_score;\n",
    "\"\"\"\n",
    "\n",
    "s_credo_scorefstpd30 = client.query(sq).to_dataframe(progress_bar_type='tqdm')\n",
    "\n",
    "print(s_credo_scorefstpd30.head(2))\n",
    "\n",
    "gini_results = calculate_periodic_gini(s_credo_scorefstpd30, 'credo_sil_score', 'ln_fstpd30_flag', 'FSTPD30')\n",
    "M4FSTPD30 = gini_results.copy()\n",
    "print(f\"The shape of dataframe after copy is:\\t{M4FSTPD30.shape}\")\n",
    "print(M4FSTPD30.columns.values)\n",
    "\n",
    "M4FSTPD30.head()\n",
    "\n"
   ]
  },
  {
   "cell_type": "markdown",
   "metadata": {},
   "source": [
    "## Combining data"
   ]
  },
  {
   "cell_type": "code",
   "execution_count": 126,
   "metadata": {},
   "outputs": [
    {
     "data": {
      "text/plain": [
       "array(['start_date', 'end_date', 'credo_sil_score_FPD10_gini', 'period',\n",
       "       'Model_Name', 'version', 'bad_rate', 'credo_sil_score_FPD30_gini',\n",
       "       'credo_sil_score_FSPD30_gini', 'credo_sil_score_FSTPD30_gini'],\n",
       "      dtype=object)"
      ]
     },
     "execution_count": 126,
     "metadata": {},
     "output_type": "execute_result"
    }
   ],
   "source": [
    "import functools\n",
    "\n",
    "dataframes = [M1FPD10, M2FPD30, M3FSPD30, M4FSTPD30]\n",
    "common_columns = ['start_date', 'end_date', 'period', 'Model_Name','version', 'bad_rate']\n",
    "\n",
    "def merge_dataframes(df1, df2):\n",
    "    return pd.merge(df1, df2, on=common_columns, how='outer')\n",
    "\n",
    "final_df = functools.reduce(merge_dataframes, dataframes)\n",
    "\n",
    "final_df.columns.values"
   ]
  },
  {
   "cell_type": "code",
   "execution_count": 127,
   "metadata": {},
   "outputs": [],
   "source": [
    "final_df = final_df[['start_date', 'end_date','period',    'Model_Name', 'version', 'bad_rate',\n",
    "                     'credo_sil_score_FPD10_gini', \n",
    "                     'credo_sil_score_FPD30_gini',  \n",
    "                     'credo_sil_score_FSPD30_gini',\n",
    "                     'credo_sil_score_FSTPD30_gini']].copy()"
   ]
  },
  {
   "cell_type": "code",
   "execution_count": 128,
   "metadata": {},
   "outputs": [
    {
     "data": {
      "text/plain": [
       "QueryJob<project=prj-prod-dataplatform, location=asia-southeast1, id=8af12932-2abb-42f6-a705-10768468f46e>"
      ]
     },
     "execution_count": 128,
     "metadata": {},
     "output_type": "execute_result"
    }
   ],
   "source": [
    "sq = \"\"\"drop table if exists prj-prod-dataplatform.dap_ds_poweruser_playground.Model_gini_s_credo_score;\"\"\"\n",
    "\n",
    "client.query(sq)"
   ]
  },
  {
   "cell_type": "code",
   "execution_count": 129,
   "metadata": {},
   "outputs": [
    {
     "name": "stderr",
     "output_type": "stream",
     "text": [
      "C:\\Users\\Dwaipayan\\AppData\\Roaming\\Python\\Python312\\site-packages\\google\\cloud\\bigquery\\_pandas_helpers.py:483: FutureWarning: Loading pandas DataFrame into BigQuery will require pandas-gbq package version 0.26.1 or greater in the future. Tried to import pandas-gbq and got: No module named 'pandas_gbq'\n",
      "  warnings.warn(\n"
     ]
    },
    {
     "data": {
      "text/plain": [
       "LoadJob<project=prj-prod-dataplatform, location=asia-southeast1, id=a2cdcc10-d729-429c-ad11-e3b9b3378b30>"
      ]
     },
     "execution_count": 129,
     "metadata": {},
     "output_type": "execute_result"
    }
   ],
   "source": [
    "import pandas as pd\n",
    "from google.cloud import bigquery\n",
    "\n",
    "# Create a BigQuery client\n",
    "client = bigquery.Client('prj-prod-dataplatform')\n",
    "\n",
    "# Define your table schema\n",
    "table_schema = [\n",
    "    bigquery.SchemaField('start_date', 'TIMESTAMP'),\n",
    "    bigquery.SchemaField('end_date', 'TIMESTAMP'),\n",
    "    bigquery.SchemaField('period', 'STRING'),\n",
    "    bigquery.SchemaField('Model_Name', 'STRING'),\n",
    "    bigquery.SchemaField('version', 'STRING'),\n",
    "    bigquery.SchemaField('Badrate', 'STRING'),\n",
    "    bigquery.SchemaField('credo_sil_score_FPD10_gini', 'FLOAT'),\n",
    "    bigquery.SchemaField('credo_sil_score_FPD30_gini', 'FLOAT'),    \n",
    "    bigquery.SchemaField('credo_sil_score_FSPD30_gini', 'FLOAT'),\n",
    "    bigquery.SchemaField('credo_sil_score_FSTPD30_gini', 'FLOAT')\n",
    "    \n",
    "]\n",
    "\n",
    "# Create your BigQuery table\n",
    "table_id = 'prj-prod-dataplatform.dap_ds_poweruser_playground.Model_gini_s_credo_score'\n",
    "table = bigquery.Table(table_id, schema=table_schema)\n",
    "table = client.create_table(table)\n",
    "\n",
    "# Load your DataFrame into BigQuery\n",
    "job_config = bigquery.LoadJobConfig(\n",
    "    write_disposition='WRITE_TRUNCATE'\n",
    ")\n",
    "\n",
    "load_job = client.load_table_from_dataframe(\n",
    "    final_df, table_id, job_config=job_config\n",
    ")\n",
    "\n",
    "load_job.result()"
   ]
  },
  {
   "cell_type": "code",
   "execution_count": 130,
   "metadata": {},
   "outputs": [
    {
     "data": {
      "application/vnd.microsoft.datawrangler.viewer.v0+json": {
       "columns": [
        {
         "name": "index",
         "rawType": "int64",
         "type": "integer"
        },
        {
         "name": "start_date",
         "rawType": "datetime64[ns]",
         "type": "datetime"
        },
        {
         "name": "end_date",
         "rawType": "datetime64[ns]",
         "type": "datetime"
        },
        {
         "name": "period",
         "rawType": "object",
         "type": "string"
        },
        {
         "name": "Model_Name",
         "rawType": "object",
         "type": "string"
        },
        {
         "name": "version",
         "rawType": "object",
         "type": "string"
        },
        {
         "name": "bad_rate",
         "rawType": "object",
         "type": "string"
        },
        {
         "name": "credo_sil_score_FPD10_gini",
         "rawType": "float64",
         "type": "float"
        },
        {
         "name": "credo_sil_score_FPD30_gini",
         "rawType": "float64",
         "type": "float"
        },
        {
         "name": "credo_sil_score_FSPD30_gini",
         "rawType": "float64",
         "type": "float"
        },
        {
         "name": "credo_sil_score_FSTPD30_gini",
         "rawType": "float64",
         "type": "float"
        }
       ],
       "conversionMethod": "pd.DataFrame",
       "ref": "22102876-c1f9-4b2f-827e-7afde3430853",
       "rows": [
        [
         "0",
         "2023-01-01 00:00:00",
         "2023-01-31 00:00:00",
         "Month",
         "credo_sil_score",
         "1.1.0",
         "FPD10",
         "0.2301810865191145",
         null,
         null,
         null
        ],
        [
         "1",
         "2023-01-01 00:00:00",
         "2023-01-31 00:00:00",
         "Month",
         "credo_sil_score",
         "1.1.0",
         "FPD30",
         null,
         "0.2539804827940422",
         null,
         null
        ],
        [
         "2",
         "2023-01-01 00:00:00",
         "2023-01-31 00:00:00",
         "Month",
         "credo_sil_score",
         "1.1.0",
         "FSPD30",
         null,
         null,
         "0.19884015947807177",
         null
        ],
        [
         "3",
         "2023-01-01 00:00:00",
         "2023-01-31 00:00:00",
         "Month",
         "credo_sil_score",
         "1.1.0",
         "FSTPD30",
         null,
         null,
         null,
         "0.21908594167607065"
        ],
        [
         "4",
         "2023-01-02 00:00:00",
         "2023-01-08 00:00:00",
         "Week",
         "credo_sil_score",
         "1.1.0",
         "FPD10",
         "0.2489775051124743",
         null,
         null,
         null
        ]
       ],
       "shape": {
        "columns": 10,
        "rows": 5
       }
      },
      "text/html": [
       "<div>\n",
       "<style scoped>\n",
       "    .dataframe tbody tr th:only-of-type {\n",
       "        vertical-align: middle;\n",
       "    }\n",
       "\n",
       "    .dataframe tbody tr th {\n",
       "        vertical-align: top;\n",
       "    }\n",
       "\n",
       "    .dataframe thead th {\n",
       "        text-align: right;\n",
       "    }\n",
       "</style>\n",
       "<table border=\"1\" class=\"dataframe\">\n",
       "  <thead>\n",
       "    <tr style=\"text-align: right;\">\n",
       "      <th></th>\n",
       "      <th>start_date</th>\n",
       "      <th>end_date</th>\n",
       "      <th>period</th>\n",
       "      <th>Model_Name</th>\n",
       "      <th>version</th>\n",
       "      <th>bad_rate</th>\n",
       "      <th>credo_sil_score_FPD10_gini</th>\n",
       "      <th>credo_sil_score_FPD30_gini</th>\n",
       "      <th>credo_sil_score_FSPD30_gini</th>\n",
       "      <th>credo_sil_score_FSTPD30_gini</th>\n",
       "    </tr>\n",
       "  </thead>\n",
       "  <tbody>\n",
       "    <tr>\n",
       "      <th>0</th>\n",
       "      <td>2023-01-01</td>\n",
       "      <td>2023-01-31</td>\n",
       "      <td>Month</td>\n",
       "      <td>credo_sil_score</td>\n",
       "      <td>1.1.0</td>\n",
       "      <td>FPD10</td>\n",
       "      <td>0.230181</td>\n",
       "      <td>NaN</td>\n",
       "      <td>NaN</td>\n",
       "      <td>NaN</td>\n",
       "    </tr>\n",
       "    <tr>\n",
       "      <th>1</th>\n",
       "      <td>2023-01-01</td>\n",
       "      <td>2023-01-31</td>\n",
       "      <td>Month</td>\n",
       "      <td>credo_sil_score</td>\n",
       "      <td>1.1.0</td>\n",
       "      <td>FPD30</td>\n",
       "      <td>NaN</td>\n",
       "      <td>0.25398</td>\n",
       "      <td>NaN</td>\n",
       "      <td>NaN</td>\n",
       "    </tr>\n",
       "    <tr>\n",
       "      <th>2</th>\n",
       "      <td>2023-01-01</td>\n",
       "      <td>2023-01-31</td>\n",
       "      <td>Month</td>\n",
       "      <td>credo_sil_score</td>\n",
       "      <td>1.1.0</td>\n",
       "      <td>FSPD30</td>\n",
       "      <td>NaN</td>\n",
       "      <td>NaN</td>\n",
       "      <td>0.19884</td>\n",
       "      <td>NaN</td>\n",
       "    </tr>\n",
       "    <tr>\n",
       "      <th>3</th>\n",
       "      <td>2023-01-01</td>\n",
       "      <td>2023-01-31</td>\n",
       "      <td>Month</td>\n",
       "      <td>credo_sil_score</td>\n",
       "      <td>1.1.0</td>\n",
       "      <td>FSTPD30</td>\n",
       "      <td>NaN</td>\n",
       "      <td>NaN</td>\n",
       "      <td>NaN</td>\n",
       "      <td>0.219086</td>\n",
       "    </tr>\n",
       "    <tr>\n",
       "      <th>4</th>\n",
       "      <td>2023-01-02</td>\n",
       "      <td>2023-01-08</td>\n",
       "      <td>Week</td>\n",
       "      <td>credo_sil_score</td>\n",
       "      <td>1.1.0</td>\n",
       "      <td>FPD10</td>\n",
       "      <td>0.248978</td>\n",
       "      <td>NaN</td>\n",
       "      <td>NaN</td>\n",
       "      <td>NaN</td>\n",
       "    </tr>\n",
       "  </tbody>\n",
       "</table>\n",
       "</div>"
      ],
      "text/plain": [
       "  start_date   end_date period       Model_Name version bad_rate  \\\n",
       "0 2023-01-01 2023-01-31  Month  credo_sil_score   1.1.0    FPD10   \n",
       "1 2023-01-01 2023-01-31  Month  credo_sil_score   1.1.0    FPD30   \n",
       "2 2023-01-01 2023-01-31  Month  credo_sil_score   1.1.0   FSPD30   \n",
       "3 2023-01-01 2023-01-31  Month  credo_sil_score   1.1.0  FSTPD30   \n",
       "4 2023-01-02 2023-01-08   Week  credo_sil_score   1.1.0    FPD10   \n",
       "\n",
       "   credo_sil_score_FPD10_gini  credo_sil_score_FPD30_gini  \\\n",
       "0                    0.230181                         NaN   \n",
       "1                         NaN                     0.25398   \n",
       "2                         NaN                         NaN   \n",
       "3                         NaN                         NaN   \n",
       "4                    0.248978                         NaN   \n",
       "\n",
       "   credo_sil_score_FSPD30_gini  credo_sil_score_FSTPD30_gini  \n",
       "0                          NaN                           NaN  \n",
       "1                          NaN                           NaN  \n",
       "2                      0.19884                           NaN  \n",
       "3                          NaN                      0.219086  \n",
       "4                          NaN                           NaN  "
      ]
     },
     "execution_count": 130,
     "metadata": {},
     "output_type": "execute_result"
    }
   ],
   "source": [
    "final_df.head()"
   ]
  },
  {
   "cell_type": "markdown",
   "metadata": {},
   "source": [
    "# fu_credo_score"
   ]
  },
  {
   "cell_type": "code",
   "execution_count": 131,
   "metadata": {},
   "outputs": [
    {
     "name": "stdout",
     "output_type": "stream",
     "text": [
      "Job ID 6f593096-6dfc-4abe-b3d9-0318e73c873d successfully executed: 100%|\u001b[32m██████████\u001b[0m|"
     ]
    },
    {
     "name": "stderr",
     "output_type": "stream",
     "text": [
      "C:\\Users\\Dwaipayan\\AppData\\Roaming\\Python\\Python312\\site-packages\\google\\cloud\\bigquery\\table.py:1900: UserWarning: BigQuery Storage module not found, fetch data with the REST endpoint instead.\n",
      "  warnings.warn(\n"
     ]
    },
    {
     "name": "stdout",
     "output_type": "stream",
     "text": [
      "\n",
      "Downloading: 100%|\u001b[32m██████████\u001b[0m|\n"
     ]
    },
    {
     "name": "stderr",
     "output_type": "stream",
     "text": [
      "C:\\Users\\Dwaipayan\\AppData\\Local\\Temp\\ipykernel_53324\\1204584280.py:30: DeprecationWarning: DataFrameGroupBy.apply operated on the grouping columns. This behavior is deprecated, and in a future version of pandas the grouping columns will be excluded from the operation. Either pass `include_groups=False` to exclude the groupings or explicitly select the grouping columns after groupby to silence this warning.\n",
      "  weekly_gini = df.groupby('week').apply(\n",
      "C:\\Users\\Dwaipayan\\AppData\\Local\\Temp\\ipykernel_53324\\1204584280.py:41: DeprecationWarning: DataFrameGroupBy.apply operated on the grouping columns. This behavior is deprecated, and in a future version of pandas the grouping columns will be excluded from the operation. Either pass `include_groups=False` to exclude the groupings or explicitly select the grouping columns after groupby to silence this warning.\n",
      "  monthly_gini = df.groupby('month').apply(\n"
     ]
    },
    {
     "name": "stdout",
     "output_type": "stream",
     "text": [
      "The shape of dataframe after copy is:\t(143, 7)\n",
      "Job ID 842cfca0-bec4-4900-baa5-d0e790033d7d successfully executed: 100%|\u001b[32m██████████\u001b[0m|"
     ]
    },
    {
     "name": "stderr",
     "output_type": "stream",
     "text": [
      "C:\\Users\\Dwaipayan\\AppData\\Roaming\\Python\\Python312\\site-packages\\google\\cloud\\bigquery\\table.py:1900: UserWarning: BigQuery Storage module not found, fetch data with the REST endpoint instead.\n",
      "  warnings.warn(\n"
     ]
    },
    {
     "name": "stdout",
     "output_type": "stream",
     "text": [
      "\n",
      "Downloading: 100%|\u001b[32m██████████\u001b[0m|\n"
     ]
    },
    {
     "name": "stderr",
     "output_type": "stream",
     "text": [
      "C:\\Users\\Dwaipayan\\AppData\\Local\\Temp\\ipykernel_53324\\1204584280.py:30: DeprecationWarning: DataFrameGroupBy.apply operated on the grouping columns. This behavior is deprecated, and in a future version of pandas the grouping columns will be excluded from the operation. Either pass `include_groups=False` to exclude the groupings or explicitly select the grouping columns after groupby to silence this warning.\n",
      "  weekly_gini = df.groupby('week').apply(\n",
      "C:\\Users\\Dwaipayan\\AppData\\Local\\Temp\\ipykernel_53324\\1204584280.py:41: DeprecationWarning: DataFrameGroupBy.apply operated on the grouping columns. This behavior is deprecated, and in a future version of pandas the grouping columns will be excluded from the operation. Either pass `include_groups=False` to exclude the groupings or explicitly select the grouping columns after groupby to silence this warning.\n",
      "  monthly_gini = df.groupby('month').apply(\n"
     ]
    },
    {
     "name": "stdout",
     "output_type": "stream",
     "text": [
      "The shape of dataframe after copy is:\t(139, 7)\n",
      "Job ID 89790e76-1ce9-430f-a53a-399bebe13ab5 successfully executed: 100%|\u001b[32m██████████\u001b[0m|"
     ]
    },
    {
     "name": "stderr",
     "output_type": "stream",
     "text": [
      "C:\\Users\\Dwaipayan\\AppData\\Roaming\\Python\\Python312\\site-packages\\google\\cloud\\bigquery\\table.py:1900: UserWarning: BigQuery Storage module not found, fetch data with the REST endpoint instead.\n",
      "  warnings.warn(\n"
     ]
    },
    {
     "name": "stdout",
     "output_type": "stream",
     "text": [
      "\n",
      "Downloading: 100%|\u001b[32m██████████\u001b[0m|\n",
      "     disbursementdate                  digitalLoanAccountId  \\\n",
      "0 2024-07-16 19:09:27  a731f941-ed8a-4278-9ba4-1fd41132aa5e   \n",
      "1 2024-11-24 18:45:09  5be2f2c7-2401-48bc-a384-6f62c22866db   \n",
      "\n",
      "   credo_flexup_score  ln_fspd30_flag  ln_mature_fspd30_flag  \n",
      "0  0.0571600303978391               0                      1  \n",
      "1  0.0923064986121803               0                      1  \n"
     ]
    },
    {
     "name": "stderr",
     "output_type": "stream",
     "text": [
      "C:\\Users\\Dwaipayan\\AppData\\Local\\Temp\\ipykernel_53324\\1204584280.py:30: DeprecationWarning: DataFrameGroupBy.apply operated on the grouping columns. This behavior is deprecated, and in a future version of pandas the grouping columns will be excluded from the operation. Either pass `include_groups=False` to exclude the groupings or explicitly select the grouping columns after groupby to silence this warning.\n",
      "  weekly_gini = df.groupby('week').apply(\n",
      "C:\\Users\\Dwaipayan\\AppData\\Local\\Temp\\ipykernel_53324\\1204584280.py:41: DeprecationWarning: DataFrameGroupBy.apply operated on the grouping columns. This behavior is deprecated, and in a future version of pandas the grouping columns will be excluded from the operation. Either pass `include_groups=False` to exclude the groupings or explicitly select the grouping columns after groupby to silence this warning.\n",
      "  monthly_gini = df.groupby('month').apply(\n"
     ]
    },
    {
     "name": "stdout",
     "output_type": "stream",
     "text": [
      "The shape of dataframe after copy is:\t(137, 7)\n",
      "['start_date' 'end_date' 'credo_flexup_score_FSPD30_gini' 'period'\n",
      " 'Model_Name' 'version' 'bad_rate']\n",
      "Job ID 71cfe578-b3b3-4dc6-b408-ccfce0d1e2a3 successfully executed: 100%|\u001b[32m██████████\u001b[0m|"
     ]
    },
    {
     "name": "stderr",
     "output_type": "stream",
     "text": [
      "C:\\Users\\Dwaipayan\\AppData\\Roaming\\Python\\Python312\\site-packages\\google\\cloud\\bigquery\\table.py:1900: UserWarning: BigQuery Storage module not found, fetch data with the REST endpoint instead.\n",
      "  warnings.warn(\n"
     ]
    },
    {
     "name": "stdout",
     "output_type": "stream",
     "text": [
      "\n",
      "Downloading: 100%|\u001b[32m██████████\u001b[0m|\n",
      "     disbursementdate                  digitalLoanAccountId  \\\n",
      "0 2024-07-16 19:09:27  a731f941-ed8a-4278-9ba4-1fd41132aa5e   \n",
      "1 2024-11-24 18:45:09  5be2f2c7-2401-48bc-a384-6f62c22866db   \n",
      "\n",
      "   credo_flexup_score  ln_fstpd30_flag  ln_mature_fstpd30_flag  \n",
      "0  0.0571600303978391                0                       1  \n",
      "1  0.0923064986121803                0                       1  \n",
      "The shape of dataframe after copy is:\t(132, 7)\n",
      "['start_date' 'end_date' 'credo_flexup_score_FSTPD30_gini' 'period'\n",
      " 'Model_Name' 'version' 'bad_rate']\n"
     ]
    },
    {
     "name": "stderr",
     "output_type": "stream",
     "text": [
      "C:\\Users\\Dwaipayan\\AppData\\Local\\Temp\\ipykernel_53324\\1204584280.py:30: DeprecationWarning: DataFrameGroupBy.apply operated on the grouping columns. This behavior is deprecated, and in a future version of pandas the grouping columns will be excluded from the operation. Either pass `include_groups=False` to exclude the groupings or explicitly select the grouping columns after groupby to silence this warning.\n",
      "  weekly_gini = df.groupby('week').apply(\n",
      "C:\\Users\\Dwaipayan\\AppData\\Local\\Temp\\ipykernel_53324\\1204584280.py:41: DeprecationWarning: DataFrameGroupBy.apply operated on the grouping columns. This behavior is deprecated, and in a future version of pandas the grouping columns will be excluded from the operation. Either pass `include_groups=False` to exclude the groupings or explicitly select the grouping columns after groupby to silence this warning.\n",
      "  monthly_gini = df.groupby('month').apply(\n"
     ]
    },
    {
     "data": {
      "application/vnd.microsoft.datawrangler.viewer.v0+json": {
       "columns": [
        {
         "name": "index",
         "rawType": "int64",
         "type": "integer"
        },
        {
         "name": "start_date",
         "rawType": "datetime64[ns]",
         "type": "datetime"
        },
        {
         "name": "end_date",
         "rawType": "datetime64[ns]",
         "type": "datetime"
        },
        {
         "name": "credo_flexup_score_FSTPD30_gini",
         "rawType": "float64",
         "type": "float"
        },
        {
         "name": "period",
         "rawType": "object",
         "type": "string"
        },
        {
         "name": "Model_Name",
         "rawType": "object",
         "type": "string"
        },
        {
         "name": "version",
         "rawType": "object",
         "type": "string"
        },
        {
         "name": "bad_rate",
         "rawType": "object",
         "type": "string"
        }
       ],
       "conversionMethod": "pd.DataFrame",
       "ref": "93481f47-f658-4b47-971a-eac23fa599a2",
       "rows": [
        [
         "0",
         "2023-01-01 00:00:00",
         "2023-01-31 00:00:00",
         "0.07286036704876153",
         "Month",
         "credo_flexup_score",
         "1.1.0",
         "FSTPD30"
        ],
        [
         "1",
         "2023-01-02 00:00:00",
         "2023-01-08 00:00:00",
         "0.0021645021645022577",
         "Week",
         "credo_flexup_score",
         "1.1.0",
         "FSTPD30"
        ],
        [
         "2",
         "2023-01-09 00:00:00",
         "2023-01-15 00:00:00",
         "0.05667412378821779",
         "Week",
         "credo_flexup_score",
         "1.1.0",
         "FSTPD30"
        ],
        [
         "3",
         "2023-01-16 00:00:00",
         "2023-01-22 00:00:00",
         "0.3264291632145815",
         "Week",
         "credo_flexup_score",
         "1.1.0",
         "FSTPD30"
        ],
        [
         "4",
         "2023-01-23 00:00:00",
         "2023-01-29 00:00:00",
         "0.10993533215755424",
         "Week",
         "credo_flexup_score",
         "1.1.0",
         "FSTPD30"
        ]
       ],
       "shape": {
        "columns": 7,
        "rows": 5
       }
      },
      "text/html": [
       "<div>\n",
       "<style scoped>\n",
       "    .dataframe tbody tr th:only-of-type {\n",
       "        vertical-align: middle;\n",
       "    }\n",
       "\n",
       "    .dataframe tbody tr th {\n",
       "        vertical-align: top;\n",
       "    }\n",
       "\n",
       "    .dataframe thead th {\n",
       "        text-align: right;\n",
       "    }\n",
       "</style>\n",
       "<table border=\"1\" class=\"dataframe\">\n",
       "  <thead>\n",
       "    <tr style=\"text-align: right;\">\n",
       "      <th></th>\n",
       "      <th>start_date</th>\n",
       "      <th>end_date</th>\n",
       "      <th>credo_flexup_score_FSTPD30_gini</th>\n",
       "      <th>period</th>\n",
       "      <th>Model_Name</th>\n",
       "      <th>version</th>\n",
       "      <th>bad_rate</th>\n",
       "    </tr>\n",
       "  </thead>\n",
       "  <tbody>\n",
       "    <tr>\n",
       "      <th>0</th>\n",
       "      <td>2023-01-01</td>\n",
       "      <td>2023-01-31</td>\n",
       "      <td>0.072860</td>\n",
       "      <td>Month</td>\n",
       "      <td>credo_flexup_score</td>\n",
       "      <td>1.1.0</td>\n",
       "      <td>FSTPD30</td>\n",
       "    </tr>\n",
       "    <tr>\n",
       "      <th>1</th>\n",
       "      <td>2023-01-02</td>\n",
       "      <td>2023-01-08</td>\n",
       "      <td>0.002165</td>\n",
       "      <td>Week</td>\n",
       "      <td>credo_flexup_score</td>\n",
       "      <td>1.1.0</td>\n",
       "      <td>FSTPD30</td>\n",
       "    </tr>\n",
       "    <tr>\n",
       "      <th>2</th>\n",
       "      <td>2023-01-09</td>\n",
       "      <td>2023-01-15</td>\n",
       "      <td>0.056674</td>\n",
       "      <td>Week</td>\n",
       "      <td>credo_flexup_score</td>\n",
       "      <td>1.1.0</td>\n",
       "      <td>FSTPD30</td>\n",
       "    </tr>\n",
       "    <tr>\n",
       "      <th>3</th>\n",
       "      <td>2023-01-16</td>\n",
       "      <td>2023-01-22</td>\n",
       "      <td>0.326429</td>\n",
       "      <td>Week</td>\n",
       "      <td>credo_flexup_score</td>\n",
       "      <td>1.1.0</td>\n",
       "      <td>FSTPD30</td>\n",
       "    </tr>\n",
       "    <tr>\n",
       "      <th>4</th>\n",
       "      <td>2023-01-23</td>\n",
       "      <td>2023-01-29</td>\n",
       "      <td>0.109935</td>\n",
       "      <td>Week</td>\n",
       "      <td>credo_flexup_score</td>\n",
       "      <td>1.1.0</td>\n",
       "      <td>FSTPD30</td>\n",
       "    </tr>\n",
       "  </tbody>\n",
       "</table>\n",
       "</div>"
      ],
      "text/plain": [
       "  start_date   end_date  credo_flexup_score_FSTPD30_gini period  \\\n",
       "0 2023-01-01 2023-01-31                         0.072860  Month   \n",
       "1 2023-01-02 2023-01-08                         0.002165   Week   \n",
       "2 2023-01-09 2023-01-15                         0.056674   Week   \n",
       "3 2023-01-16 2023-01-22                         0.326429   Week   \n",
       "4 2023-01-23 2023-01-29                         0.109935   Week   \n",
       "\n",
       "           Model_Name version bad_rate  \n",
       "0  credo_flexup_score   1.1.0  FSTPD30  \n",
       "1  credo_flexup_score   1.1.0  FSTPD30  \n",
       "2  credo_flexup_score   1.1.0  FSTPD30  \n",
       "3  credo_flexup_score   1.1.0  FSTPD30  \n",
       "4  credo_flexup_score   1.1.0  FSTPD30  "
      ]
     },
     "execution_count": 131,
     "metadata": {},
     "output_type": "execute_result"
    }
   ],
   "source": [
    "\n",
    "\n",
    "sq = f\"\"\"\n",
    "with fu_credo_score as \n",
    "(SELECT \n",
    "    ln_disb_dtime disbursementdate,\n",
    "\tdigitalLoanAccountId,\n",
    "    credo_flex_score credo_flexup_score,\n",
    "    ln_fpd10_flag,\n",
    "\tln_mature_fpd10_flag,\t\n",
    "\tFROM \n",
    "    {a}\n",
    "  WHERE \n",
    "     -- ln_disb_dtime >= '2023-07-01'\n",
    "    ln_appln_submit_datetime >= '2023-01-01'\n",
    "  -- AND\n",
    "  --   format_date('%Y-%m', ln_disb_dtime) = '2024-09'\n",
    "  AND\n",
    "    ln_fpd10_flag is not null\n",
    "  AND\n",
    "    credo_flex_score is not null\n",
    "  AND\n",
    "    ln_mature_fpd10_flag = 1\n",
    ")\n",
    "select * from fu_credo_score;\n",
    "\"\"\"\n",
    "\n",
    "fu_credo_scorefpd10 = client.query(sq).to_dataframe(progress_bar_type='tqdm')\n",
    "\n",
    "fu_credo_scorefpd10.head()\n",
    "\n",
    "gini_results = calculate_periodic_gini(fu_credo_scorefpd10, 'credo_flexup_score', 'ln_fpd10_flag', 'FPD10')\n",
    "M1FPD10 = gini_results.copy()\n",
    "print(f\"The shape of dataframe after copy is:\\t{M1FPD10.shape}\")\n",
    "M1FPD10.columns.values\n",
    "\n",
    "# FPD30\n",
    "\n",
    "sq = f\"\"\"\n",
    "with fu_credo_score as \n",
    "(SELECT \n",
    "    ln_disb_dtime disbursementdate,\n",
    "\tdigitalLoanAccountId,\n",
    "    credo_flex_score credo_flexup_score,\n",
    "    ln_fpd30_flag,\n",
    "\tln_mature_fpd30_flag,\t\n",
    "\tFROM \n",
    "    {a}\n",
    "  WHERE \n",
    "     -- ln_disb_dtime >= '2023-07-01'\n",
    "    ln_appln_submit_datetime >= '2023-01-01'\n",
    "  -- AND\n",
    "  --   format_date('%Y-%m', ln_disb_dtime) = '2024-09'\n",
    "  AND\n",
    "    ln_fpd30_flag is not null\n",
    "  AND\n",
    "    credo_flex_score is not null\n",
    "  AND\n",
    "    ln_mature_fpd30_flag = 1\n",
    ")\n",
    "select * from fu_credo_score;\n",
    "\"\"\"\n",
    "\n",
    "fu_credo_scorefpd30 = client.query(sq).to_dataframe(progress_bar_type='tqdm')\n",
    "\n",
    "fu_credo_scorefpd30.head()\n",
    "\n",
    "gini_results = calculate_periodic_gini(fu_credo_scorefpd30, 'credo_flexup_score', 'ln_fpd30_flag', 'FPD30')\n",
    "M2FPD30 = gini_results.copy()\n",
    "print(f\"The shape of dataframe after copy is:\\t{M2FPD30.shape}\")\n",
    "M2FPD30.columns.values\n",
    "\n",
    "sq = f\"\"\"\n",
    "with fu_credo_score as \n",
    "(SELECT \n",
    "    ln_disb_dtime disbursementdate,\n",
    "\tdigitalLoanAccountId,\n",
    "    credo_flex_score credo_flexup_score,\n",
    "    ln_fspd30_flag,\n",
    "\tln_mature_fspd30_flag,\t\n",
    "\tFROM \n",
    "    {a}\n",
    "  WHERE \n",
    "     -- ln_disb_dtime >= '2023-07-01'\n",
    "    ln_appln_submit_datetime >= '2023-01-01'\n",
    "  -- AND\n",
    "  --   format_date('%Y-%m', ln_disb_dtime) = '2024-09'\n",
    "  AND\n",
    "    ln_fspd30_flag is not null\n",
    "  AND\n",
    "    credo_flex_score is not null\n",
    "  AND\n",
    "    ln_mature_fspd30_flag = 1\n",
    ")\n",
    "select * from fu_credo_score;\n",
    "\"\"\"\n",
    "\n",
    "fu_credo_scorefspd30 = client.query(sq).to_dataframe(progress_bar_type='tqdm')\n",
    "\n",
    "print(fu_credo_scorefspd30.head(2))\n",
    "\n",
    "gini_results = calculate_periodic_gini(fu_credo_scorefspd30, 'credo_flexup_score', 'ln_fspd30_flag', 'FSPD30')\n",
    "M3FSPD30 = gini_results.copy()\n",
    "print(f\"The shape of dataframe after copy is:\\t{M3FSPD30.shape}\")\n",
    "print(M3FSPD30.columns.values)\n",
    "\n",
    "M3FSPD30.head()\n",
    "\n",
    "sq = f\"\"\"\n",
    "with fu_credo_score as \n",
    "(SELECT \n",
    "    ln_disb_dtime disbursementdate,\n",
    "\tdigitalLoanAccountId,\n",
    "    credo_flex_score credo_flexup_score,\n",
    "    ln_fstpd30_flag,\n",
    "\tln_mature_fstpd30_flag,\t\n",
    "\tFROM \n",
    "    {a}\n",
    "  WHERE \n",
    "     -- ln_disb_dtime >= '2023-07-01'\n",
    "    ln_appln_submit_datetime >= '2023-01-01'\n",
    "  -- AND\n",
    "  --   format_date('%Y-%m', ln_disb_dtime) = '2024-09'\n",
    "  AND\n",
    "    ln_fstpd30_flag is not null\n",
    "  AND\n",
    "    credo_flex_score is not null\n",
    "  AND\n",
    "    ln_mature_fstpd30_flag = 1\n",
    ")\n",
    "select * from fu_credo_score;\n",
    "\"\"\"\n",
    "\n",
    "fu_credo_scorefstpd30 = client.query(sq).to_dataframe(progress_bar_type='tqdm')\n",
    "\n",
    "print(fu_credo_scorefstpd30.head(2))\n",
    "\n",
    "gini_results = calculate_periodic_gini(fu_credo_scorefstpd30, 'credo_flexup_score', 'ln_fstpd30_flag', 'FSTPD30')\n",
    "M4FSTPD30 = gini_results.copy()\n",
    "print(f\"The shape of dataframe after copy is:\\t{M4FSTPD30.shape}\")\n",
    "print(M4FSTPD30.columns.values)\n",
    "\n",
    "M4FSTPD30.head()\n",
    "\n"
   ]
  },
  {
   "cell_type": "code",
   "execution_count": null,
   "metadata": {},
   "outputs": [],
   "source": []
  },
  {
   "cell_type": "markdown",
   "metadata": {},
   "source": [
    "## Combining data"
   ]
  },
  {
   "cell_type": "code",
   "execution_count": 132,
   "metadata": {},
   "outputs": [
    {
     "data": {
      "text/plain": [
       "array(['start_date', 'end_date', 'credo_flexup_score_FPD10_gini',\n",
       "       'period', 'Model_Name', 'version', 'bad_rate',\n",
       "       'credo_flexup_score_FPD30_gini', 'credo_flexup_score_FSPD30_gini',\n",
       "       'credo_flexup_score_FSTPD30_gini'], dtype=object)"
      ]
     },
     "execution_count": 132,
     "metadata": {},
     "output_type": "execute_result"
    }
   ],
   "source": [
    "import functools\n",
    "\n",
    "dataframes = [M1FPD10, M2FPD30, M3FSPD30, M4FSTPD30]\n",
    "common_columns = ['start_date', 'end_date', 'period', 'Model_Name','version', 'bad_rate']\n",
    "\n",
    "def merge_dataframes(df1, df2):\n",
    "    return pd.merge(df1, df2, on=common_columns, how='outer')\n",
    "\n",
    "final_df = functools.reduce(merge_dataframes, dataframes)\n",
    "\n",
    "final_df.columns.values"
   ]
  },
  {
   "cell_type": "code",
   "execution_count": 133,
   "metadata": {},
   "outputs": [],
   "source": [
    "final_df = final_df[['start_date', 'end_date','period',    'Model_Name', 'version', 'bad_rate',\n",
    "                     'credo_flexup_score_FPD10_gini', 'credo_flexup_score_FPD30_gini',    'credo_flexup_score_FSPD30_gini', 'credo_flexup_score_FSTPD30_gini']].copy()"
   ]
  },
  {
   "cell_type": "code",
   "execution_count": 134,
   "metadata": {},
   "outputs": [
    {
     "data": {
      "text/plain": [
       "QueryJob<project=prj-prod-dataplatform, location=asia-southeast1, id=a343235e-c245-4e4c-ac0d-5b0eb6cb81bc>"
      ]
     },
     "execution_count": 134,
     "metadata": {},
     "output_type": "execute_result"
    }
   ],
   "source": [
    "sq = \"\"\"drop table if exists prj-prod-dataplatform.dap_ds_poweruser_playground.Model_gini_fu_credo_score\"\"\"\n",
    "client.query(sq)"
   ]
  },
  {
   "cell_type": "code",
   "execution_count": 135,
   "metadata": {},
   "outputs": [
    {
     "name": "stderr",
     "output_type": "stream",
     "text": [
      "C:\\Users\\Dwaipayan\\AppData\\Roaming\\Python\\Python312\\site-packages\\google\\cloud\\bigquery\\_pandas_helpers.py:483: FutureWarning: Loading pandas DataFrame into BigQuery will require pandas-gbq package version 0.26.1 or greater in the future. Tried to import pandas-gbq and got: No module named 'pandas_gbq'\n",
      "  warnings.warn(\n"
     ]
    },
    {
     "data": {
      "text/plain": [
       "LoadJob<project=prj-prod-dataplatform, location=asia-southeast1, id=3324e895-0335-468c-940f-3587aee8186f>"
      ]
     },
     "execution_count": 135,
     "metadata": {},
     "output_type": "execute_result"
    }
   ],
   "source": [
    "import pandas as pd\n",
    "from google.cloud import bigquery\n",
    "\n",
    "# Create a BigQuery client\n",
    "client = bigquery.Client('prj-prod-dataplatform')\n",
    "\n",
    "# Define your table schema\n",
    "table_schema = [\n",
    "    bigquery.SchemaField('start_date', 'TIMESTAMP'),\n",
    "    bigquery.SchemaField('end_date', 'TIMESTAMP'),\n",
    "    bigquery.SchemaField('period', 'STRING'),\n",
    "    bigquery.SchemaField('Model_Name', 'STRING'),\n",
    "    bigquery.SchemaField('version', 'STRING'),\n",
    "    bigquery.SchemaField('Badrate', 'STRING'),\n",
    "    bigquery.SchemaField('credo_flexup_score_FPD10_gini', 'FLOAT'),\n",
    "    bigquery.SchemaField('credo_flexup_score_FPD30_gini', 'FLOAT'),    \n",
    "    bigquery.SchemaField('v_FSPD30_gini', 'FLOAT'),\n",
    "    bigquery.SchemaField('credo_flexup_score_FSTPD30_gini', 'FLOAT')\n",
    "    \n",
    "]\n",
    "\n",
    "# Create your BigQuery table\n",
    "table_id = 'prj-prod-dataplatform.dap_ds_poweruser_playground.Model_gini_fu_credo_score'\n",
    "table = bigquery.Table(table_id, schema=table_schema)\n",
    "table = client.create_table(table)\n",
    "\n",
    "# Load your DataFrame into BigQuery\n",
    "job_config = bigquery.LoadJobConfig(\n",
    "    write_disposition='WRITE_TRUNCATE'\n",
    ")\n",
    "\n",
    "load_job = client.load_table_from_dataframe(\n",
    "    final_df, table_id, job_config=job_config\n",
    ")\n",
    "\n",
    "load_job.result()"
   ]
  },
  {
   "cell_type": "code",
   "execution_count": 136,
   "metadata": {},
   "outputs": [
    {
     "data": {
      "application/vnd.microsoft.datawrangler.viewer.v0+json": {
       "columns": [
        {
         "name": "index",
         "rawType": "int64",
         "type": "integer"
        },
        {
         "name": "start_date",
         "rawType": "datetime64[ns]",
         "type": "datetime"
        },
        {
         "name": "end_date",
         "rawType": "datetime64[ns]",
         "type": "datetime"
        },
        {
         "name": "period",
         "rawType": "object",
         "type": "string"
        },
        {
         "name": "Model_Name",
         "rawType": "object",
         "type": "string"
        },
        {
         "name": "version",
         "rawType": "object",
         "type": "string"
        },
        {
         "name": "bad_rate",
         "rawType": "object",
         "type": "string"
        },
        {
         "name": "credo_flexup_score_FPD10_gini",
         "rawType": "float64",
         "type": "float"
        },
        {
         "name": "credo_flexup_score_FPD30_gini",
         "rawType": "float64",
         "type": "float"
        },
        {
         "name": "credo_flexup_score_FSPD30_gini",
         "rawType": "float64",
         "type": "float"
        },
        {
         "name": "credo_flexup_score_FSTPD30_gini",
         "rawType": "float64",
         "type": "float"
        }
       ],
       "conversionMethod": "pd.DataFrame",
       "ref": "b95ce915-6e0f-4676-9bcb-9d239fbac658",
       "rows": [
        [
         "0",
         "2023-01-01 00:00:00",
         "2023-01-31 00:00:00",
         "Month",
         "credo_flexup_score",
         "1.1.0",
         "FPD10",
         "0.023608316566062992",
         null,
         null,
         null
        ],
        [
         "1",
         "2023-01-01 00:00:00",
         "2023-01-31 00:00:00",
         "Month",
         "credo_flexup_score",
         "1.1.0",
         "FPD30",
         null,
         "0.006985105290190141",
         null,
         null
        ],
        [
         "2",
         "2023-01-01 00:00:00",
         "2023-01-31 00:00:00",
         "Month",
         "credo_flexup_score",
         "1.1.0",
         "FSPD30",
         null,
         null,
         "0.0523015585357014",
         null
        ],
        [
         "3",
         "2023-01-01 00:00:00",
         "2023-01-31 00:00:00",
         "Month",
         "credo_flexup_score",
         "1.1.0",
         "FSTPD30",
         null,
         null,
         null,
         "0.07286036704876153"
        ],
        [
         "4",
         "2023-01-02 00:00:00",
         "2023-01-08 00:00:00",
         "Week",
         "credo_flexup_score",
         "1.1.0",
         "FPD10",
         "-0.03246421267893651",
         null,
         null,
         null
        ]
       ],
       "shape": {
        "columns": 10,
        "rows": 5
       }
      },
      "text/html": [
       "<div>\n",
       "<style scoped>\n",
       "    .dataframe tbody tr th:only-of-type {\n",
       "        vertical-align: middle;\n",
       "    }\n",
       "\n",
       "    .dataframe tbody tr th {\n",
       "        vertical-align: top;\n",
       "    }\n",
       "\n",
       "    .dataframe thead th {\n",
       "        text-align: right;\n",
       "    }\n",
       "</style>\n",
       "<table border=\"1\" class=\"dataframe\">\n",
       "  <thead>\n",
       "    <tr style=\"text-align: right;\">\n",
       "      <th></th>\n",
       "      <th>start_date</th>\n",
       "      <th>end_date</th>\n",
       "      <th>period</th>\n",
       "      <th>Model_Name</th>\n",
       "      <th>version</th>\n",
       "      <th>bad_rate</th>\n",
       "      <th>credo_flexup_score_FPD10_gini</th>\n",
       "      <th>credo_flexup_score_FPD30_gini</th>\n",
       "      <th>credo_flexup_score_FSPD30_gini</th>\n",
       "      <th>credo_flexup_score_FSTPD30_gini</th>\n",
       "    </tr>\n",
       "  </thead>\n",
       "  <tbody>\n",
       "    <tr>\n",
       "      <th>0</th>\n",
       "      <td>2023-01-01</td>\n",
       "      <td>2023-01-31</td>\n",
       "      <td>Month</td>\n",
       "      <td>credo_flexup_score</td>\n",
       "      <td>1.1.0</td>\n",
       "      <td>FPD10</td>\n",
       "      <td>0.023608</td>\n",
       "      <td>NaN</td>\n",
       "      <td>NaN</td>\n",
       "      <td>NaN</td>\n",
       "    </tr>\n",
       "    <tr>\n",
       "      <th>1</th>\n",
       "      <td>2023-01-01</td>\n",
       "      <td>2023-01-31</td>\n",
       "      <td>Month</td>\n",
       "      <td>credo_flexup_score</td>\n",
       "      <td>1.1.0</td>\n",
       "      <td>FPD30</td>\n",
       "      <td>NaN</td>\n",
       "      <td>0.006985</td>\n",
       "      <td>NaN</td>\n",
       "      <td>NaN</td>\n",
       "    </tr>\n",
       "    <tr>\n",
       "      <th>2</th>\n",
       "      <td>2023-01-01</td>\n",
       "      <td>2023-01-31</td>\n",
       "      <td>Month</td>\n",
       "      <td>credo_flexup_score</td>\n",
       "      <td>1.1.0</td>\n",
       "      <td>FSPD30</td>\n",
       "      <td>NaN</td>\n",
       "      <td>NaN</td>\n",
       "      <td>0.052302</td>\n",
       "      <td>NaN</td>\n",
       "    </tr>\n",
       "    <tr>\n",
       "      <th>3</th>\n",
       "      <td>2023-01-01</td>\n",
       "      <td>2023-01-31</td>\n",
       "      <td>Month</td>\n",
       "      <td>credo_flexup_score</td>\n",
       "      <td>1.1.0</td>\n",
       "      <td>FSTPD30</td>\n",
       "      <td>NaN</td>\n",
       "      <td>NaN</td>\n",
       "      <td>NaN</td>\n",
       "      <td>0.07286</td>\n",
       "    </tr>\n",
       "    <tr>\n",
       "      <th>4</th>\n",
       "      <td>2023-01-02</td>\n",
       "      <td>2023-01-08</td>\n",
       "      <td>Week</td>\n",
       "      <td>credo_flexup_score</td>\n",
       "      <td>1.1.0</td>\n",
       "      <td>FPD10</td>\n",
       "      <td>-0.032464</td>\n",
       "      <td>NaN</td>\n",
       "      <td>NaN</td>\n",
       "      <td>NaN</td>\n",
       "    </tr>\n",
       "  </tbody>\n",
       "</table>\n",
       "</div>"
      ],
      "text/plain": [
       "  start_date   end_date period          Model_Name version bad_rate  \\\n",
       "0 2023-01-01 2023-01-31  Month  credo_flexup_score   1.1.0    FPD10   \n",
       "1 2023-01-01 2023-01-31  Month  credo_flexup_score   1.1.0    FPD30   \n",
       "2 2023-01-01 2023-01-31  Month  credo_flexup_score   1.1.0   FSPD30   \n",
       "3 2023-01-01 2023-01-31  Month  credo_flexup_score   1.1.0  FSTPD30   \n",
       "4 2023-01-02 2023-01-08   Week  credo_flexup_score   1.1.0    FPD10   \n",
       "\n",
       "   credo_flexup_score_FPD10_gini  credo_flexup_score_FPD30_gini  \\\n",
       "0                       0.023608                            NaN   \n",
       "1                            NaN                       0.006985   \n",
       "2                            NaN                            NaN   \n",
       "3                            NaN                            NaN   \n",
       "4                      -0.032464                            NaN   \n",
       "\n",
       "   credo_flexup_score_FSPD30_gini  credo_flexup_score_FSTPD30_gini  \n",
       "0                             NaN                              NaN  \n",
       "1                             NaN                              NaN  \n",
       "2                        0.052302                              NaN  \n",
       "3                             NaN                          0.07286  \n",
       "4                             NaN                              NaN  "
      ]
     },
     "execution_count": 136,
     "metadata": {},
     "output_type": "execute_result"
    }
   ],
   "source": [
    "final_df.head()"
   ]
  },
  {
   "cell_type": "markdown",
   "metadata": {},
   "source": [
    "# r_credo_score"
   ]
  },
  {
   "cell_type": "code",
   "execution_count": 137,
   "metadata": {},
   "outputs": [
    {
     "name": "stdout",
     "output_type": "stream",
     "text": [
      "Job ID c4165bc1-65ca-4a4d-9ea2-b5812f93d9d4 successfully executed: 100%|\u001b[32m██████████\u001b[0m|"
     ]
    },
    {
     "name": "stderr",
     "output_type": "stream",
     "text": [
      "C:\\Users\\Dwaipayan\\AppData\\Roaming\\Python\\Python312\\site-packages\\google\\cloud\\bigquery\\table.py:1900: UserWarning: BigQuery Storage module not found, fetch data with the REST endpoint instead.\n",
      "  warnings.warn(\n"
     ]
    },
    {
     "name": "stdout",
     "output_type": "stream",
     "text": [
      "\n",
      "Downloading: 100%|\u001b[32m██████████\u001b[0m|\n"
     ]
    },
    {
     "name": "stderr",
     "output_type": "stream",
     "text": [
      "C:\\Users\\Dwaipayan\\AppData\\Local\\Temp\\ipykernel_53324\\1204584280.py:30: DeprecationWarning: DataFrameGroupBy.apply operated on the grouping columns. This behavior is deprecated, and in a future version of pandas the grouping columns will be excluded from the operation. Either pass `include_groups=False` to exclude the groupings or explicitly select the grouping columns after groupby to silence this warning.\n",
      "  weekly_gini = df.groupby('week').apply(\n",
      "C:\\Users\\Dwaipayan\\AppData\\Local\\Temp\\ipykernel_53324\\1204584280.py:41: DeprecationWarning: DataFrameGroupBy.apply operated on the grouping columns. This behavior is deprecated, and in a future version of pandas the grouping columns will be excluded from the operation. Either pass `include_groups=False` to exclude the groupings or explicitly select the grouping columns after groupby to silence this warning.\n",
      "  monthly_gini = df.groupby('month').apply(\n"
     ]
    },
    {
     "name": "stdout",
     "output_type": "stream",
     "text": [
      "The shape of dataframe after copy is:\t(143, 7)\n",
      "Job ID 3a3a8582-ea48-4d67-b4f6-b39f05f5065d successfully executed: 100%|\u001b[32m██████████\u001b[0m|"
     ]
    },
    {
     "name": "stderr",
     "output_type": "stream",
     "text": [
      "C:\\Users\\Dwaipayan\\AppData\\Roaming\\Python\\Python312\\site-packages\\google\\cloud\\bigquery\\table.py:1900: UserWarning: BigQuery Storage module not found, fetch data with the REST endpoint instead.\n",
      "  warnings.warn(\n"
     ]
    },
    {
     "name": "stdout",
     "output_type": "stream",
     "text": [
      "\n",
      "Downloading: 100%|\u001b[32m██████████\u001b[0m|\n"
     ]
    },
    {
     "name": "stderr",
     "output_type": "stream",
     "text": [
      "C:\\Users\\Dwaipayan\\AppData\\Local\\Temp\\ipykernel_53324\\1204584280.py:30: DeprecationWarning: DataFrameGroupBy.apply operated on the grouping columns. This behavior is deprecated, and in a future version of pandas the grouping columns will be excluded from the operation. Either pass `include_groups=False` to exclude the groupings or explicitly select the grouping columns after groupby to silence this warning.\n",
      "  weekly_gini = df.groupby('week').apply(\n",
      "C:\\Users\\Dwaipayan\\AppData\\Local\\Temp\\ipykernel_53324\\1204584280.py:41: DeprecationWarning: DataFrameGroupBy.apply operated on the grouping columns. This behavior is deprecated, and in a future version of pandas the grouping columns will be excluded from the operation. Either pass `include_groups=False` to exclude the groupings or explicitly select the grouping columns after groupby to silence this warning.\n",
      "  monthly_gini = df.groupby('month').apply(\n"
     ]
    },
    {
     "name": "stdout",
     "output_type": "stream",
     "text": [
      "The shape of dataframe after copy is:\t(139, 7)\n",
      "Job ID 4e372390-6e25-4d7b-b947-8a3d6111ad71 successfully executed: 100%|\u001b[32m██████████\u001b[0m|"
     ]
    },
    {
     "name": "stderr",
     "output_type": "stream",
     "text": [
      "C:\\Users\\Dwaipayan\\AppData\\Roaming\\Python\\Python312\\site-packages\\google\\cloud\\bigquery\\table.py:1900: UserWarning: BigQuery Storage module not found, fetch data with the REST endpoint instead.\n",
      "  warnings.warn(\n"
     ]
    },
    {
     "name": "stdout",
     "output_type": "stream",
     "text": [
      "\n",
      "Downloading: 100%|\u001b[32m██████████\u001b[0m|\n",
      "     disbursementdate                  digitalLoanAccountId  \\\n",
      "0 2024-07-16 19:09:27  a731f941-ed8a-4278-9ba4-1fd41132aa5e   \n",
      "1 2024-11-24 18:45:09  5be2f2c7-2401-48bc-a384-6f62c22866db   \n",
      "\n",
      "  credo_reloan_score  ln_fspd30_flag  ln_mature_fspd30_flag  \n",
      "0  0.366341998630943               0                      1  \n",
      "1   0.33596981640975               0                      1  \n"
     ]
    },
    {
     "name": "stderr",
     "output_type": "stream",
     "text": [
      "C:\\Users\\Dwaipayan\\AppData\\Local\\Temp\\ipykernel_53324\\1204584280.py:30: DeprecationWarning: DataFrameGroupBy.apply operated on the grouping columns. This behavior is deprecated, and in a future version of pandas the grouping columns will be excluded from the operation. Either pass `include_groups=False` to exclude the groupings or explicitly select the grouping columns after groupby to silence this warning.\n",
      "  weekly_gini = df.groupby('week').apply(\n",
      "C:\\Users\\Dwaipayan\\AppData\\Local\\Temp\\ipykernel_53324\\1204584280.py:41: DeprecationWarning: DataFrameGroupBy.apply operated on the grouping columns. This behavior is deprecated, and in a future version of pandas the grouping columns will be excluded from the operation. Either pass `include_groups=False` to exclude the groupings or explicitly select the grouping columns after groupby to silence this warning.\n",
      "  monthly_gini = df.groupby('month').apply(\n"
     ]
    },
    {
     "name": "stdout",
     "output_type": "stream",
     "text": [
      "The shape of dataframe after copy is:\t(137, 7)\n",
      "['start_date' 'end_date' 'credo_reloan_score_FSPD30_gini' 'period'\n",
      " 'Model_Name' 'version' 'bad_rate']\n",
      "Job ID fe99fa80-9e1a-4157-aba7-cb62534e5e81 successfully executed: 100%|\u001b[32m██████████\u001b[0m|"
     ]
    },
    {
     "name": "stderr",
     "output_type": "stream",
     "text": [
      "C:\\Users\\Dwaipayan\\AppData\\Roaming\\Python\\Python312\\site-packages\\google\\cloud\\bigquery\\table.py:1900: UserWarning: BigQuery Storage module not found, fetch data with the REST endpoint instead.\n",
      "  warnings.warn(\n"
     ]
    },
    {
     "name": "stdout",
     "output_type": "stream",
     "text": [
      "\n",
      "Downloading: 100%|\u001b[32m██████████\u001b[0m|\n",
      "     disbursementdate                  digitalLoanAccountId  \\\n",
      "0 2024-07-16 19:09:27  a731f941-ed8a-4278-9ba4-1fd41132aa5e   \n",
      "1 2024-11-24 18:45:09  5be2f2c7-2401-48bc-a384-6f62c22866db   \n",
      "\n",
      "  credo_reloan_score  ln_fstpd30_flag  ln_mature_fstpd30_flag  \n",
      "0  0.366341998630943                0                       1  \n",
      "1   0.33596981640975                0                       1  \n"
     ]
    },
    {
     "name": "stderr",
     "output_type": "stream",
     "text": [
      "C:\\Users\\Dwaipayan\\AppData\\Local\\Temp\\ipykernel_53324\\1204584280.py:30: DeprecationWarning: DataFrameGroupBy.apply operated on the grouping columns. This behavior is deprecated, and in a future version of pandas the grouping columns will be excluded from the operation. Either pass `include_groups=False` to exclude the groupings or explicitly select the grouping columns after groupby to silence this warning.\n",
      "  weekly_gini = df.groupby('week').apply(\n"
     ]
    },
    {
     "name": "stdout",
     "output_type": "stream",
     "text": [
      "The shape of dataframe after copy is:\t(132, 7)\n",
      "['start_date' 'end_date' 'credo_reloan_score_FSTPD30_gini' 'period'\n",
      " 'Model_Name' 'version' 'bad_rate']\n"
     ]
    },
    {
     "name": "stderr",
     "output_type": "stream",
     "text": [
      "C:\\Users\\Dwaipayan\\AppData\\Local\\Temp\\ipykernel_53324\\1204584280.py:41: DeprecationWarning: DataFrameGroupBy.apply operated on the grouping columns. This behavior is deprecated, and in a future version of pandas the grouping columns will be excluded from the operation. Either pass `include_groups=False` to exclude the groupings or explicitly select the grouping columns after groupby to silence this warning.\n",
      "  monthly_gini = df.groupby('month').apply(\n"
     ]
    },
    {
     "data": {
      "application/vnd.microsoft.datawrangler.viewer.v0+json": {
       "columns": [
        {
         "name": "index",
         "rawType": "int64",
         "type": "integer"
        },
        {
         "name": "start_date",
         "rawType": "datetime64[ns]",
         "type": "datetime"
        },
        {
         "name": "end_date",
         "rawType": "datetime64[ns]",
         "type": "datetime"
        },
        {
         "name": "credo_reloan_score_FSTPD30_gini",
         "rawType": "float64",
         "type": "float"
        },
        {
         "name": "period",
         "rawType": "object",
         "type": "string"
        },
        {
         "name": "Model_Name",
         "rawType": "object",
         "type": "string"
        },
        {
         "name": "version",
         "rawType": "object",
         "type": "string"
        },
        {
         "name": "bad_rate",
         "rawType": "object",
         "type": "string"
        }
       ],
       "conversionMethod": "pd.DataFrame",
       "ref": "1c5cfe31-e618-4f69-a2e6-86ab78ec594a",
       "rows": [
        [
         "0",
         "2023-01-01 00:00:00",
         "2023-01-31 00:00:00",
         "0.0489843796400784",
         "Month",
         "credo_reloan_score",
         "1.1.0",
         "FSTPD30"
        ],
        [
         "1",
         "2023-01-02 00:00:00",
         "2023-01-08 00:00:00",
         "0.014954742227469398",
         "Week",
         "credo_reloan_score",
         "1.1.0",
         "FSTPD30"
        ],
        [
         "2",
         "2023-01-09 00:00:00",
         "2023-01-15 00:00:00",
         "0.1938851603281131",
         "Week",
         "credo_reloan_score",
         "1.1.0",
         "FSTPD30"
        ],
        [
         "3",
         "2023-01-16 00:00:00",
         "2023-01-22 00:00:00",
         "-0.01905550952775481",
         "Week",
         "credo_reloan_score",
         "1.1.0",
         "FSTPD30"
        ],
        [
         "4",
         "2023-01-23 00:00:00",
         "2023-01-29 00:00:00",
         "0.024691358024691468",
         "Week",
         "credo_reloan_score",
         "1.1.0",
         "FSTPD30"
        ]
       ],
       "shape": {
        "columns": 7,
        "rows": 5
       }
      },
      "text/html": [
       "<div>\n",
       "<style scoped>\n",
       "    .dataframe tbody tr th:only-of-type {\n",
       "        vertical-align: middle;\n",
       "    }\n",
       "\n",
       "    .dataframe tbody tr th {\n",
       "        vertical-align: top;\n",
       "    }\n",
       "\n",
       "    .dataframe thead th {\n",
       "        text-align: right;\n",
       "    }\n",
       "</style>\n",
       "<table border=\"1\" class=\"dataframe\">\n",
       "  <thead>\n",
       "    <tr style=\"text-align: right;\">\n",
       "      <th></th>\n",
       "      <th>start_date</th>\n",
       "      <th>end_date</th>\n",
       "      <th>credo_reloan_score_FSTPD30_gini</th>\n",
       "      <th>period</th>\n",
       "      <th>Model_Name</th>\n",
       "      <th>version</th>\n",
       "      <th>bad_rate</th>\n",
       "    </tr>\n",
       "  </thead>\n",
       "  <tbody>\n",
       "    <tr>\n",
       "      <th>0</th>\n",
       "      <td>2023-01-01</td>\n",
       "      <td>2023-01-31</td>\n",
       "      <td>0.048984</td>\n",
       "      <td>Month</td>\n",
       "      <td>credo_reloan_score</td>\n",
       "      <td>1.1.0</td>\n",
       "      <td>FSTPD30</td>\n",
       "    </tr>\n",
       "    <tr>\n",
       "      <th>1</th>\n",
       "      <td>2023-01-02</td>\n",
       "      <td>2023-01-08</td>\n",
       "      <td>0.014955</td>\n",
       "      <td>Week</td>\n",
       "      <td>credo_reloan_score</td>\n",
       "      <td>1.1.0</td>\n",
       "      <td>FSTPD30</td>\n",
       "    </tr>\n",
       "    <tr>\n",
       "      <th>2</th>\n",
       "      <td>2023-01-09</td>\n",
       "      <td>2023-01-15</td>\n",
       "      <td>0.193885</td>\n",
       "      <td>Week</td>\n",
       "      <td>credo_reloan_score</td>\n",
       "      <td>1.1.0</td>\n",
       "      <td>FSTPD30</td>\n",
       "    </tr>\n",
       "    <tr>\n",
       "      <th>3</th>\n",
       "      <td>2023-01-16</td>\n",
       "      <td>2023-01-22</td>\n",
       "      <td>-0.019056</td>\n",
       "      <td>Week</td>\n",
       "      <td>credo_reloan_score</td>\n",
       "      <td>1.1.0</td>\n",
       "      <td>FSTPD30</td>\n",
       "    </tr>\n",
       "    <tr>\n",
       "      <th>4</th>\n",
       "      <td>2023-01-23</td>\n",
       "      <td>2023-01-29</td>\n",
       "      <td>0.024691</td>\n",
       "      <td>Week</td>\n",
       "      <td>credo_reloan_score</td>\n",
       "      <td>1.1.0</td>\n",
       "      <td>FSTPD30</td>\n",
       "    </tr>\n",
       "  </tbody>\n",
       "</table>\n",
       "</div>"
      ],
      "text/plain": [
       "  start_date   end_date  credo_reloan_score_FSTPD30_gini period  \\\n",
       "0 2023-01-01 2023-01-31                         0.048984  Month   \n",
       "1 2023-01-02 2023-01-08                         0.014955   Week   \n",
       "2 2023-01-09 2023-01-15                         0.193885   Week   \n",
       "3 2023-01-16 2023-01-22                        -0.019056   Week   \n",
       "4 2023-01-23 2023-01-29                         0.024691   Week   \n",
       "\n",
       "           Model_Name version bad_rate  \n",
       "0  credo_reloan_score   1.1.0  FSTPD30  \n",
       "1  credo_reloan_score   1.1.0  FSTPD30  \n",
       "2  credo_reloan_score   1.1.0  FSTPD30  \n",
       "3  credo_reloan_score   1.1.0  FSTPD30  \n",
       "4  credo_reloan_score   1.1.0  FSTPD30  "
      ]
     },
     "execution_count": 137,
     "metadata": {},
     "output_type": "execute_result"
    }
   ],
   "source": [
    "\n",
    "\n",
    "sq = f\"\"\"\n",
    "with r_credo_score as \n",
    "(SELECT \n",
    "    ln_disb_dtime disbursementdate,\n",
    "\tdigitalLoanAccountId,\n",
    "    credo_reloan_score,\n",
    "    ln_fpd10_flag,\n",
    "\tln_mature_fpd10_flag,\t\n",
    "\tFROM \n",
    "    {a}\n",
    "  WHERE \n",
    "     -- ln_disb_dtime >= '2023-07-01'\n",
    "    ln_appln_submit_datetime >= '2023-01-01'\n",
    "  -- AND\n",
    "  --   format_date('%Y-%m', ln_disb_dtime) = '2024-09'\n",
    "  AND\n",
    "    ln_fpd10_flag is not null\n",
    "  AND\n",
    "    credo_reloan_score is not null\n",
    "  AND\n",
    "    ln_mature_fpd10_flag = 1\n",
    ")\n",
    "select * from r_credo_score;\n",
    "\"\"\"\n",
    "\n",
    "r_credo_scorefpd10 = client.query(sq).to_dataframe(progress_bar_type='tqdm')\n",
    "\n",
    "r_credo_scorefpd10.head()\n",
    "\n",
    "gini_results = calculate_periodic_gini(r_credo_scorefpd10, 'credo_reloan_score', 'ln_fpd10_flag', 'FPD10')\n",
    "M1FPD10 = gini_results.copy()\n",
    "print(f\"The shape of dataframe after copy is:\\t{M1FPD10.shape}\")\n",
    "M1FPD10.columns.values\n",
    "\n",
    "# FPD30\n",
    "\n",
    "sq = f\"\"\"\n",
    "with r_credo_score as \n",
    "(SELECT \n",
    "    ln_disb_dtime disbursementdate,\n",
    "\tdigitalLoanAccountId,\n",
    "    credo_reloan_score,\n",
    "    ln_fpd30_flag,\n",
    "\tln_mature_fpd30_flag,\t\n",
    "\tFROM \n",
    "    {a}\n",
    "  WHERE \n",
    "     -- ln_disb_dtime >= '2023-07-01'\n",
    "    ln_appln_submit_datetime >= '2023-01-01'\n",
    "  -- AND\n",
    "  --   format_date('%Y-%m', ln_disb_dtime) = '2024-09'\n",
    "  AND\n",
    "    ln_fpd30_flag is not null\n",
    "  AND\n",
    "    credo_reloan_score is not null\n",
    "  AND\n",
    "    ln_mature_fpd30_flag = 1\n",
    ")\n",
    "select * from r_credo_score;\n",
    "\"\"\"\n",
    "\n",
    "r_credo_scorefpd30 = client.query(sq).to_dataframe(progress_bar_type='tqdm')\n",
    "\n",
    "r_credo_scorefpd30.head()\n",
    "\n",
    "gini_results = calculate_periodic_gini(r_credo_scorefpd30, 'credo_reloan_score', 'ln_fpd30_flag', 'FPD30')\n",
    "M2FPD30 = gini_results.copy()\n",
    "print(f\"The shape of dataframe after copy is:\\t{M2FPD30.shape}\")\n",
    "M2FPD30.columns.values\n",
    "\n",
    "sq = f\"\"\"\n",
    "with r_credo_score as \n",
    "(SELECT \n",
    "    ln_disb_dtime disbursementdate,\n",
    "\tdigitalLoanAccountId,\n",
    "    credo_reloan_score,\n",
    "    ln_fspd30_flag,\n",
    "\tln_mature_fspd30_flag,\t\n",
    "\tFROM \n",
    "    {a}\n",
    "  WHERE \n",
    "     -- ln_disb_dtime >= '2023-07-01'\n",
    "    ln_appln_submit_datetime >= '2023-01-01'\n",
    "  -- AND\n",
    "  --   format_date('%Y-%m', ln_disb_dtime) = '2024-09'\n",
    "  AND\n",
    "    ln_fspd30_flag is not null\n",
    "  AND\n",
    "    credo_reloan_score is not null\n",
    "  AND\n",
    "    ln_mature_fspd30_flag = 1\n",
    ")\n",
    "select * from r_credo_score;\n",
    "\"\"\"\n",
    "\n",
    "r_credo_scorefspd30 = client.query(sq).to_dataframe(progress_bar_type='tqdm')\n",
    "\n",
    "print(r_credo_scorefspd30.head(2))\n",
    "\n",
    "gini_results = calculate_periodic_gini(r_credo_scorefspd30, 'credo_reloan_score', 'ln_fspd30_flag', 'FSPD30')\n",
    "M3FSPD30 = gini_results.copy()\n",
    "print(f\"The shape of dataframe after copy is:\\t{M3FSPD30.shape}\")\n",
    "print(M3FSPD30.columns.values)\n",
    "\n",
    "M3FSPD30.head()\n",
    "\n",
    "sq = f\"\"\"\n",
    "with r_credo_score as \n",
    "(SELECT \n",
    "    ln_disb_dtime disbursementdate,\n",
    "\tdigitalLoanAccountId,\n",
    "    credo_reloan_score ,\n",
    "    ln_fstpd30_flag,\n",
    "\tln_mature_fstpd30_flag,\t\n",
    "\tFROM \n",
    "    {a}\n",
    "  WHERE \n",
    "     -- ln_disb_dtime >= '2023-07-01'\n",
    "    ln_appln_submit_datetime >= '2023-01-01'\n",
    "  -- AND\n",
    "  --   format_date('%Y-%m', ln_disb_dtime) = '2024-09'\n",
    "  AND\n",
    "    ln_fstpd30_flag is not null\n",
    "  AND\n",
    "    credo_reloan_score is not null\n",
    "  AND\n",
    "    ln_mature_fstpd30_flag = 1\n",
    ")\n",
    "select * from r_credo_score;\n",
    "\"\"\"\n",
    "\n",
    "r_credo_scorefstpd30 = client.query(sq).to_dataframe(progress_bar_type='tqdm')\n",
    "\n",
    "print(r_credo_scorefstpd30.head(2))\n",
    "\n",
    "gini_results = calculate_periodic_gini(r_credo_scorefstpd30, 'credo_reloan_score', 'ln_fstpd30_flag', 'FSTPD30')\n",
    "M4FSTPD30 = gini_results.copy()\n",
    "print(f\"The shape of dataframe after copy is:\\t{M4FSTPD30.shape}\")\n",
    "print(M4FSTPD30.columns.values)\n",
    "\n",
    "M4FSTPD30.head()\n",
    "\n"
   ]
  },
  {
   "cell_type": "markdown",
   "metadata": {},
   "source": [
    "## Combining data"
   ]
  },
  {
   "cell_type": "code",
   "execution_count": 138,
   "metadata": {},
   "outputs": [
    {
     "data": {
      "text/plain": [
       "array(['start_date', 'end_date', 'credo_reloan_score_FPD10_gini',\n",
       "       'period', 'Model_Name', 'version', 'bad_rate',\n",
       "       'credo_reloan_score_FPD30_gini', 'credo_reloan_score_FSPD30_gini',\n",
       "       'credo_reloan_score_FSTPD30_gini'], dtype=object)"
      ]
     },
     "execution_count": 138,
     "metadata": {},
     "output_type": "execute_result"
    }
   ],
   "source": [
    "import functools\n",
    "\n",
    "dataframes = [M1FPD10, M2FPD30, M3FSPD30, M4FSTPD30]\n",
    "common_columns = ['start_date', 'end_date', 'period', 'Model_Name','version', 'bad_rate']\n",
    "\n",
    "def merge_dataframes(df1, df2):\n",
    "    return pd.merge(df1, df2, on=common_columns, how='outer')\n",
    "\n",
    "final_df = functools.reduce(merge_dataframes, dataframes)\n",
    "\n",
    "final_df.columns.values"
   ]
  },
  {
   "cell_type": "code",
   "execution_count": 139,
   "metadata": {},
   "outputs": [],
   "source": [
    "final_df = final_df[['start_date', 'end_date', 'period',   'Model_Name', 'version', 'bad_rate',\n",
    "                     'credo_reloan_score_FPD10_gini',\n",
    "                     'credo_reloan_score_FPD30_gini',\n",
    "                     'credo_reloan_score_FSPD30_gini',\n",
    "                     'credo_reloan_score_FSTPD30_gini']].copy()"
   ]
  },
  {
   "cell_type": "code",
   "execution_count": null,
   "metadata": {},
   "outputs": [],
   "source": []
  },
  {
   "cell_type": "code",
   "execution_count": 140,
   "metadata": {},
   "outputs": [
    {
     "data": {
      "text/plain": [
       "QueryJob<project=prj-prod-dataplatform, location=asia-southeast1, id=6c7bc6d5-e849-46a3-9d14-ead62af81b10>"
      ]
     },
     "execution_count": 140,
     "metadata": {},
     "output_type": "execute_result"
    }
   ],
   "source": [
    "sq = \"\"\"drop table if exists prj-prod-dataplatform.dap_ds_poweruser_playground.Model_gini_r_credo_score;\"\"\"\n",
    "client.query(sq)"
   ]
  },
  {
   "cell_type": "code",
   "execution_count": 141,
   "metadata": {},
   "outputs": [
    {
     "name": "stderr",
     "output_type": "stream",
     "text": [
      "C:\\Users\\Dwaipayan\\AppData\\Roaming\\Python\\Python312\\site-packages\\google\\cloud\\bigquery\\_pandas_helpers.py:483: FutureWarning: Loading pandas DataFrame into BigQuery will require pandas-gbq package version 0.26.1 or greater in the future. Tried to import pandas-gbq and got: No module named 'pandas_gbq'\n",
      "  warnings.warn(\n"
     ]
    },
    {
     "data": {
      "text/plain": [
       "LoadJob<project=prj-prod-dataplatform, location=asia-southeast1, id=f6d9d42c-cfab-40cf-9498-d6d662d3b76b>"
      ]
     },
     "execution_count": 141,
     "metadata": {},
     "output_type": "execute_result"
    }
   ],
   "source": [
    "import pandas as pd\n",
    "from google.cloud import bigquery\n",
    "\n",
    "# Create a BigQuery client\n",
    "client = bigquery.Client('prj-prod-dataplatform')\n",
    "\n",
    "# Define your table schema\n",
    "table_schema = [\n",
    "    bigquery.SchemaField('start_date', 'TIMESTAMP'),\n",
    "    bigquery.SchemaField('end_date', 'TIMESTAMP'),\n",
    "    bigquery.SchemaField('period', 'STRING'),\n",
    "    bigquery.SchemaField('Model_Name', 'STRING'),\n",
    "    bigquery.SchemaField('version', 'STRING'),\n",
    "    bigquery.SchemaField('Badrate', 'STRING'),\n",
    "    bigquery.SchemaField('credo_reloan_score_FPD10_gini', 'FLOAT'),\n",
    "    bigquery.SchemaField('credo_reloan_score_FPD30_gini', 'FLOAT'),    \n",
    "    bigquery.SchemaField('credo_reloan_score_FSPD30_gini', 'FLOAT'),\n",
    "    bigquery.SchemaField('credo_reloan_score_FSTPD30_gini', 'FLOAT')\n",
    "    \n",
    "]\n",
    "\n",
    "# Create your BigQuery table\n",
    "table_id = 'prj-prod-dataplatform.dap_ds_poweruser_playground.Model_gini_r_credo_score'\n",
    "table = bigquery.Table(table_id, schema=table_schema)\n",
    "table = client.create_table(table)\n",
    "\n",
    "# Load your DataFrame into BigQuery\n",
    "job_config = bigquery.LoadJobConfig(\n",
    "    write_disposition='WRITE_TRUNCATE'\n",
    ")\n",
    "\n",
    "load_job = client.load_table_from_dataframe(\n",
    "    final_df, table_id, job_config=job_config\n",
    ")\n",
    "\n",
    "load_job.result()"
   ]
  },
  {
   "cell_type": "markdown",
   "metadata": {},
   "source": [
    "# old_gen_credo_score"
   ]
  },
  {
   "cell_type": "code",
   "execution_count": 142,
   "metadata": {},
   "outputs": [
    {
     "name": "stdout",
     "output_type": "stream",
     "text": [
      "Job ID faefcea6-6130-4a4f-b478-2797daa48cf4 successfully executed: 100%|\u001b[32m██████████\u001b[0m|"
     ]
    },
    {
     "name": "stderr",
     "output_type": "stream",
     "text": [
      "C:\\Users\\Dwaipayan\\AppData\\Roaming\\Python\\Python312\\site-packages\\google\\cloud\\bigquery\\table.py:1900: UserWarning: BigQuery Storage module not found, fetch data with the REST endpoint instead.\n",
      "  warnings.warn(\n"
     ]
    },
    {
     "name": "stdout",
     "output_type": "stream",
     "text": [
      "\n",
      "Downloading: 100%|\u001b[32m██████████\u001b[0m|\n"
     ]
    },
    {
     "name": "stderr",
     "output_type": "stream",
     "text": [
      "C:\\Users\\Dwaipayan\\AppData\\Local\\Temp\\ipykernel_53324\\3333785776.py:16: DeprecationWarning: DataFrameGroupBy.apply operated on the grouping columns. This behavior is deprecated, and in a future version of pandas the grouping columns will be excluded from the operation. Either pass `include_groups=False` to exclude the groupings or explicitly select the grouping columns after groupby to silence this warning.\n",
      "  weekly_gini = df.groupby('week').apply(\n",
      "C:\\Users\\Dwaipayan\\AppData\\Local\\Temp\\ipykernel_53324\\3333785776.py:26: DeprecationWarning: DataFrameGroupBy.apply operated on the grouping columns. This behavior is deprecated, and in a future version of pandas the grouping columns will be excluded from the operation. Either pass `include_groups=False` to exclude the groupings or explicitly select the grouping columns after groupby to silence this warning.\n",
      "  monthly_gini = df.groupby('month').apply(\n"
     ]
    },
    {
     "name": "stdout",
     "output_type": "stream",
     "text": [
      "The shape of dataframe after copy is:\t(145, 7)\n",
      "['start_date' 'end_date' 'credo_old_gen_score_FPD10_gini' 'period'\n",
      " 'Model_Name' 'version' 'bad_rate']\n",
      "Job ID cbbf3cbe-b200-4d00-a3b6-3a14494b918f successfully executed: 100%|\u001b[32m██████████\u001b[0m|"
     ]
    },
    {
     "name": "stderr",
     "output_type": "stream",
     "text": [
      "C:\\Users\\Dwaipayan\\AppData\\Roaming\\Python\\Python312\\site-packages\\google\\cloud\\bigquery\\table.py:1900: UserWarning: BigQuery Storage module not found, fetch data with the REST endpoint instead.\n",
      "  warnings.warn(\n"
     ]
    },
    {
     "name": "stdout",
     "output_type": "stream",
     "text": [
      "\n",
      "Downloading: 100%|\u001b[32m██████████\u001b[0m|\n"
     ]
    },
    {
     "name": "stderr",
     "output_type": "stream",
     "text": [
      "C:\\Users\\Dwaipayan\\AppData\\Local\\Temp\\ipykernel_53324\\3333785776.py:16: DeprecationWarning: DataFrameGroupBy.apply operated on the grouping columns. This behavior is deprecated, and in a future version of pandas the grouping columns will be excluded from the operation. Either pass `include_groups=False` to exclude the groupings or explicitly select the grouping columns after groupby to silence this warning.\n",
      "  weekly_gini = df.groupby('week').apply(\n",
      "C:\\Users\\Dwaipayan\\AppData\\Local\\Temp\\ipykernel_53324\\3333785776.py:26: DeprecationWarning: DataFrameGroupBy.apply operated on the grouping columns. This behavior is deprecated, and in a future version of pandas the grouping columns will be excluded from the operation. Either pass `include_groups=False` to exclude the groupings or explicitly select the grouping columns after groupby to silence this warning.\n",
      "  monthly_gini = df.groupby('month').apply(\n"
     ]
    },
    {
     "name": "stdout",
     "output_type": "stream",
     "text": [
      "The shape of dataframe after copy is:\t(142, 7)\n",
      "['start_date' 'end_date' 'credo_old_gen_score_FPD30_gini' 'period'\n",
      " 'Model_Name' 'version' 'bad_rate']\n",
      "Job ID d02f3eaf-ad59-4d2d-be53-2a153c0b872e successfully executed: 100%|\u001b[32m██████████\u001b[0m|"
     ]
    },
    {
     "name": "stderr",
     "output_type": "stream",
     "text": [
      "C:\\Users\\Dwaipayan\\AppData\\Roaming\\Python\\Python312\\site-packages\\google\\cloud\\bigquery\\table.py:1900: UserWarning: BigQuery Storage module not found, fetch data with the REST endpoint instead.\n",
      "  warnings.warn(\n"
     ]
    },
    {
     "name": "stdout",
     "output_type": "stream",
     "text": [
      "\n",
      "Downloading: 100%|\u001b[32m██████████\u001b[0m|\n",
      "     disbursementdate                  digitalLoanAccountId  \\\n",
      "0 2025-01-25 19:05:49  e549776f-7a2d-4b6c-9edc-e3b59e8955f6   \n",
      "1 2024-05-02 17:24:11  9b118965-74ea-4832-a640-8b5ea2cc140e   \n",
      "\n",
      "  credo_old_gen_score  ln_fspd30_flag  ln_mature_fspd30_flag  \n",
      "0               350.0               0                      1  \n",
      "1                 507               0                      1  \n"
     ]
    },
    {
     "name": "stderr",
     "output_type": "stream",
     "text": [
      "C:\\Users\\Dwaipayan\\AppData\\Local\\Temp\\ipykernel_53324\\3333785776.py:16: DeprecationWarning: DataFrameGroupBy.apply operated on the grouping columns. This behavior is deprecated, and in a future version of pandas the grouping columns will be excluded from the operation. Either pass `include_groups=False` to exclude the groupings or explicitly select the grouping columns after groupby to silence this warning.\n",
      "  weekly_gini = df.groupby('week').apply(\n",
      "C:\\Users\\Dwaipayan\\AppData\\Local\\Temp\\ipykernel_53324\\3333785776.py:26: DeprecationWarning: DataFrameGroupBy.apply operated on the grouping columns. This behavior is deprecated, and in a future version of pandas the grouping columns will be excluded from the operation. Either pass `include_groups=False` to exclude the groupings or explicitly select the grouping columns after groupby to silence this warning.\n",
      "  monthly_gini = df.groupby('month').apply(\n"
     ]
    },
    {
     "name": "stdout",
     "output_type": "stream",
     "text": [
      "The shape of dataframe after copy is:\t(137, 7)\n",
      "['start_date' 'end_date' 'credo_old_gen_score_FSPD30_gini' 'period'\n",
      " 'Model_Name' 'version' 'bad_rate']\n",
      "Job ID 123caa42-5393-419a-84dd-607e1a1dcae8 successfully executed: 100%|\u001b[32m██████████\u001b[0m|"
     ]
    },
    {
     "name": "stderr",
     "output_type": "stream",
     "text": [
      "C:\\Users\\Dwaipayan\\AppData\\Roaming\\Python\\Python312\\site-packages\\google\\cloud\\bigquery\\table.py:1900: UserWarning: BigQuery Storage module not found, fetch data with the REST endpoint instead.\n",
      "  warnings.warn(\n"
     ]
    },
    {
     "name": "stdout",
     "output_type": "stream",
     "text": [
      "\n",
      "Downloading: 100%|\u001b[32m██████████\u001b[0m|\n",
      "     disbursementdate                  digitalLoanAccountId  \\\n",
      "0 2024-05-02 17:24:11  9b118965-74ea-4832-a640-8b5ea2cc140e   \n",
      "1 2024-02-26 15:08:47  acebf8de-bd42-4b00-83bc-d7c0999a7488   \n",
      "\n",
      "  credo_old_gen_score  ln_fstpd30_flag  ln_mature_fstpd30_flag  \n",
      "0                 507                0                       1  \n",
      "1                 468                0                       1  \n",
      "The shape of dataframe after copy is:\t(132, 7)\n",
      "['start_date' 'end_date' 'credo_old_gen_score_FSTPD30_gini' 'period'\n",
      " 'Model_Name' 'version' 'bad_rate']\n"
     ]
    },
    {
     "name": "stderr",
     "output_type": "stream",
     "text": [
      "C:\\Users\\Dwaipayan\\AppData\\Local\\Temp\\ipykernel_53324\\3333785776.py:16: DeprecationWarning: DataFrameGroupBy.apply operated on the grouping columns. This behavior is deprecated, and in a future version of pandas the grouping columns will be excluded from the operation. Either pass `include_groups=False` to exclude the groupings or explicitly select the grouping columns after groupby to silence this warning.\n",
      "  weekly_gini = df.groupby('week').apply(\n",
      "C:\\Users\\Dwaipayan\\AppData\\Local\\Temp\\ipykernel_53324\\3333785776.py:26: DeprecationWarning: DataFrameGroupBy.apply operated on the grouping columns. This behavior is deprecated, and in a future version of pandas the grouping columns will be excluded from the operation. Either pass `include_groups=False` to exclude the groupings or explicitly select the grouping columns after groupby to silence this warning.\n",
      "  monthly_gini = df.groupby('month').apply(\n"
     ]
    },
    {
     "data": {
      "application/vnd.microsoft.datawrangler.viewer.v0+json": {
       "columns": [
        {
         "name": "index",
         "rawType": "int64",
         "type": "integer"
        },
        {
         "name": "start_date",
         "rawType": "datetime64[ns]",
         "type": "datetime"
        },
        {
         "name": "end_date",
         "rawType": "datetime64[ns]",
         "type": "datetime"
        },
        {
         "name": "credo_old_gen_score_FSTPD30_gini",
         "rawType": "float64",
         "type": "float"
        },
        {
         "name": "period",
         "rawType": "object",
         "type": "string"
        },
        {
         "name": "Model_Name",
         "rawType": "object",
         "type": "string"
        },
        {
         "name": "version",
         "rawType": "object",
         "type": "string"
        },
        {
         "name": "bad_rate",
         "rawType": "object",
         "type": "string"
        }
       ],
       "conversionMethod": "pd.DataFrame",
       "ref": "fa1f9ad4-265a-4a26-ba52-a0780d300423",
       "rows": [
        [
         "0",
         "2023-01-01 00:00:00",
         "2023-01-31 00:00:00",
         "0.12312779614860903",
         "Month",
         "credo_old_gen_score",
         "1.1.0",
         "FSTPD30"
        ],
        [
         "1",
         "2023-01-02 00:00:00",
         "2023-01-08 00:00:00",
         "0.23447204968944124",
         "Week",
         "credo_old_gen_score",
         "1.1.0",
         "FSTPD30"
        ],
        [
         "2",
         "2023-01-09 00:00:00",
         "2023-01-15 00:00:00",
         "0.14016872160934457",
         "Week",
         "credo_old_gen_score",
         "1.1.0",
         "FSTPD30"
        ],
        [
         "3",
         "2023-01-16 00:00:00",
         "2023-01-22 00:00:00",
         "0.12788018433179715",
         "Week",
         "credo_old_gen_score",
         "1.1.0",
         "FSTPD30"
        ],
        [
         "4",
         "2023-01-23 00:00:00",
         "2023-01-29 00:00:00",
         "-0.0037202380952381375",
         "Week",
         "credo_old_gen_score",
         "1.1.0",
         "FSTPD30"
        ]
       ],
       "shape": {
        "columns": 7,
        "rows": 5
       }
      },
      "text/html": [
       "<div>\n",
       "<style scoped>\n",
       "    .dataframe tbody tr th:only-of-type {\n",
       "        vertical-align: middle;\n",
       "    }\n",
       "\n",
       "    .dataframe tbody tr th {\n",
       "        vertical-align: top;\n",
       "    }\n",
       "\n",
       "    .dataframe thead th {\n",
       "        text-align: right;\n",
       "    }\n",
       "</style>\n",
       "<table border=\"1\" class=\"dataframe\">\n",
       "  <thead>\n",
       "    <tr style=\"text-align: right;\">\n",
       "      <th></th>\n",
       "      <th>start_date</th>\n",
       "      <th>end_date</th>\n",
       "      <th>credo_old_gen_score_FSTPD30_gini</th>\n",
       "      <th>period</th>\n",
       "      <th>Model_Name</th>\n",
       "      <th>version</th>\n",
       "      <th>bad_rate</th>\n",
       "    </tr>\n",
       "  </thead>\n",
       "  <tbody>\n",
       "    <tr>\n",
       "      <th>0</th>\n",
       "      <td>2023-01-01</td>\n",
       "      <td>2023-01-31</td>\n",
       "      <td>0.123128</td>\n",
       "      <td>Month</td>\n",
       "      <td>credo_old_gen_score</td>\n",
       "      <td>1.1.0</td>\n",
       "      <td>FSTPD30</td>\n",
       "    </tr>\n",
       "    <tr>\n",
       "      <th>1</th>\n",
       "      <td>2023-01-02</td>\n",
       "      <td>2023-01-08</td>\n",
       "      <td>0.234472</td>\n",
       "      <td>Week</td>\n",
       "      <td>credo_old_gen_score</td>\n",
       "      <td>1.1.0</td>\n",
       "      <td>FSTPD30</td>\n",
       "    </tr>\n",
       "    <tr>\n",
       "      <th>2</th>\n",
       "      <td>2023-01-09</td>\n",
       "      <td>2023-01-15</td>\n",
       "      <td>0.140169</td>\n",
       "      <td>Week</td>\n",
       "      <td>credo_old_gen_score</td>\n",
       "      <td>1.1.0</td>\n",
       "      <td>FSTPD30</td>\n",
       "    </tr>\n",
       "    <tr>\n",
       "      <th>3</th>\n",
       "      <td>2023-01-16</td>\n",
       "      <td>2023-01-22</td>\n",
       "      <td>0.127880</td>\n",
       "      <td>Week</td>\n",
       "      <td>credo_old_gen_score</td>\n",
       "      <td>1.1.0</td>\n",
       "      <td>FSTPD30</td>\n",
       "    </tr>\n",
       "    <tr>\n",
       "      <th>4</th>\n",
       "      <td>2023-01-23</td>\n",
       "      <td>2023-01-29</td>\n",
       "      <td>-0.003720</td>\n",
       "      <td>Week</td>\n",
       "      <td>credo_old_gen_score</td>\n",
       "      <td>1.1.0</td>\n",
       "      <td>FSTPD30</td>\n",
       "    </tr>\n",
       "  </tbody>\n",
       "</table>\n",
       "</div>"
      ],
      "text/plain": [
       "  start_date   end_date  credo_old_gen_score_FSTPD30_gini period  \\\n",
       "0 2023-01-01 2023-01-31                          0.123128  Month   \n",
       "1 2023-01-02 2023-01-08                          0.234472   Week   \n",
       "2 2023-01-09 2023-01-15                          0.140169   Week   \n",
       "3 2023-01-16 2023-01-22                          0.127880   Week   \n",
       "4 2023-01-23 2023-01-29                         -0.003720   Week   \n",
       "\n",
       "            Model_Name version bad_rate  \n",
       "0  credo_old_gen_score   1.1.0  FSTPD30  \n",
       "1  credo_old_gen_score   1.1.0  FSTPD30  \n",
       "2  credo_old_gen_score   1.1.0  FSTPD30  \n",
       "3  credo_old_gen_score   1.1.0  FSTPD30  \n",
       "4  credo_old_gen_score   1.1.0  FSTPD30  "
      ]
     },
     "execution_count": 142,
     "metadata": {},
     "output_type": "execute_result"
    }
   ],
   "source": [
    "sq = f\"\"\"\n",
    "with old_gen_credo_score as \n",
    "(SELECT \n",
    "    ln_disb_dtime disbursementdate,\n",
    "\tdigitalLoanAccountId,\n",
    "    credo_old_gen_score ,\n",
    "    ln_fpd10_flag,\n",
    "\tln_mature_fpd10_flag,\t\n",
    "\tFROM \n",
    "    {a}\n",
    "  WHERE \n",
    "     -- ln_disb_dtime >= '2023-07-01'\n",
    "    ln_appln_submit_datetime >= '2023-01-01'\n",
    "  -- AND\n",
    "  --   format_date('%Y-%m', ln_disb_dtime) = '2024-09'\n",
    "  AND\n",
    "    ln_fpd10_flag is not null\n",
    "  AND\n",
    "    credo_old_gen_score is not null\n",
    "  AND\n",
    "    ln_mature_fpd10_flag = 1\n",
    ")\n",
    "select * from old_gen_credo_score;\n",
    "\"\"\"\n",
    "\n",
    "old_gen_credo_scorefpd10 = client.query(sq).to_dataframe(progress_bar_type='tqdm')\n",
    "\n",
    "old_gen_credo_scorefpd10.head()\n",
    "\n",
    "gini_results = calculate_periodic_gini_threedigit(old_gen_credo_scorefpd10, 'credo_old_gen_score', 'ln_fpd10_flag', 'FPD10')\n",
    "M1FPD10 = gini_results.copy()\n",
    "print(f\"The shape of dataframe after copy is:\\t{M1FPD10.shape}\")\n",
    "print(M1FPD10.columns.values)\n",
    "\n",
    "# FPD30\n",
    "\n",
    "sq = f\"\"\"\n",
    "with old_gen_credo_score as \n",
    "(SELECT \n",
    "    ln_disb_dtime disbursementdate,\n",
    "\tdigitalLoanAccountId,\n",
    "    credo_old_gen_score,\n",
    "    ln_fpd30_flag,\n",
    "\tln_mature_fpd30_flag,\t\n",
    "\tFROM \n",
    "    {a}\n",
    "  WHERE \n",
    "     -- ln_disb_dtime >= '2023-07-01'\n",
    "    ln_appln_submit_datetime >= '2023-01-01'\n",
    "  -- AND\n",
    "  --   format_date('%Y-%m', ln_disb_dtime) = '2024-09'\n",
    "  AND\n",
    "    ln_fpd30_flag is not null\n",
    "  AND\n",
    "    credo_old_gen_score is not null\n",
    "  AND\n",
    "    ln_mature_fpd30_flag = 1\n",
    ")\n",
    "select * from old_gen_credo_score;\n",
    "\"\"\"\n",
    "\n",
    "old_gen_credo_scorefpd30 = client.query(sq).to_dataframe(progress_bar_type='tqdm')\n",
    "\n",
    "old_gen_credo_scorefpd30.head()\n",
    "\n",
    "gini_results = calculate_periodic_gini_threedigit(old_gen_credo_scorefpd30, 'credo_old_gen_score', 'ln_fpd30_flag', 'FPD30')\n",
    "M2FPD30 = gini_results.copy()\n",
    "print(f\"The shape of dataframe after copy is:\\t{M2FPD30.shape}\")\n",
    "print(M2FPD30.columns.values)\n",
    "\n",
    "sq = f\"\"\"\n",
    "with old_gen_credo_score as \n",
    "(SELECT \n",
    "    ln_disb_dtime disbursementdate,\n",
    "\tdigitalLoanAccountId,\n",
    "    credo_old_gen_score,\n",
    "    ln_fspd30_flag,\n",
    "\tln_mature_fspd30_flag,\t\n",
    "\tFROM \n",
    "    {a}\n",
    "  WHERE \n",
    "     -- ln_disb_dtime >= '2023-07-01'\n",
    "    ln_appln_submit_datetime >= '2023-01-01'\n",
    "  -- AND\n",
    "  --   format_date('%Y-%m', ln_disb_dtime) = '2024-09'\n",
    "  AND\n",
    "    ln_fspd30_flag is not null\n",
    "  AND\n",
    "    credo_old_gen_score is not null\n",
    "  AND\n",
    "    ln_mature_fspd30_flag = 1\n",
    ")\n",
    "select * from old_gen_credo_score;\n",
    "\"\"\"\n",
    "\n",
    "old_gen_credo_scorefspd30 = client.query(sq).to_dataframe(progress_bar_type='tqdm')\n",
    "\n",
    "print(old_gen_credo_scorefspd30.head(2))\n",
    "\n",
    "gini_results = calculate_periodic_gini_threedigit(old_gen_credo_scorefspd30, 'credo_old_gen_score', 'ln_fspd30_flag', 'FSPD30')\n",
    "M3FSPD30 = gini_results.copy()\n",
    "print(f\"The shape of dataframe after copy is:\\t{M3FSPD30.shape}\")\n",
    "print(M3FSPD30.columns.values)\n",
    "\n",
    "M3FSPD30.head()\n",
    "\n",
    "sq = f\"\"\"\n",
    "with old_gen_credo_score as \n",
    "(SELECT \n",
    "    ln_disb_dtime disbursementdate,\n",
    "\tdigitalLoanAccountId,\n",
    "    credo_old_gen_score,\n",
    "    ln_fstpd30_flag,\n",
    "\tln_mature_fstpd30_flag,\t\n",
    "\tFROM \n",
    "    {a}\n",
    "  WHERE \n",
    "     -- ln_disb_dtime >= '2023-07-01'\n",
    "    ln_appln_submit_datetime >= '2023-01-01'\n",
    "  -- AND\n",
    "  --   format_date('%Y-%m', ln_disb_dtime) = '2024-09'\n",
    "  AND\n",
    "    ln_fstpd30_flag is not null\n",
    "  AND\n",
    "    credo_old_gen_score is not null\n",
    "  AND\n",
    "    ln_mature_fstpd30_flag = 1\n",
    ")\n",
    "select * from old_gen_credo_score;\n",
    "\"\"\"\n",
    "\n",
    "old_gen_credo_scorefstpd30 = client.query(sq).to_dataframe(progress_bar_type='tqdm')\n",
    "\n",
    "print(old_gen_credo_scorefstpd30.head(2))\n",
    "\n",
    "gini_results = calculate_periodic_gini_threedigit(old_gen_credo_scorefstpd30, 'credo_old_gen_score', 'ln_fstpd30_flag', 'FSTPD30')\n",
    "M4FSTPD30 = gini_results.copy()\n",
    "print(f\"The shape of dataframe after copy is:\\t{M4FSTPD30.shape}\")\n",
    "print(M4FSTPD30.columns.values)\n",
    "\n",
    "M4FSTPD30.head()\n",
    "\n"
   ]
  },
  {
   "cell_type": "markdown",
   "metadata": {},
   "source": [
    "## Combining data"
   ]
  },
  {
   "cell_type": "code",
   "execution_count": 143,
   "metadata": {},
   "outputs": [
    {
     "data": {
      "text/plain": [
       "array(['start_date', 'end_date', 'credo_old_gen_score_FPD10_gini',\n",
       "       'period', 'Model_Name', 'version', 'bad_rate',\n",
       "       'credo_old_gen_score_FPD30_gini',\n",
       "       'credo_old_gen_score_FSPD30_gini',\n",
       "       'credo_old_gen_score_FSTPD30_gini'], dtype=object)"
      ]
     },
     "execution_count": 143,
     "metadata": {},
     "output_type": "execute_result"
    }
   ],
   "source": [
    "import functools\n",
    "\n",
    "dataframes = [M1FPD10, M2FPD30, M3FSPD30, M4FSTPD30]\n",
    "common_columns = ['start_date', 'end_date', 'period', 'Model_Name','version', 'bad_rate']\n",
    "\n",
    "def merge_dataframes(df1, df2):\n",
    "    return pd.merge(df1, df2, on=common_columns, how='outer')\n",
    "\n",
    "final_df = functools.reduce(merge_dataframes, dataframes)\n",
    "\n",
    "final_df.columns.values"
   ]
  },
  {
   "cell_type": "code",
   "execution_count": 144,
   "metadata": {},
   "outputs": [],
   "source": [
    "final_df = final_df[['start_date', 'end_date', 'period',   'Model_Name', 'version', 'bad_rate',\n",
    "                     'credo_old_gen_score_FPD10_gini',\n",
    "                     'credo_old_gen_score_FPD30_gini',\n",
    "                     'credo_old_gen_score_FSPD30_gini', \n",
    "                     'credo_old_gen_score_FSTPD30_gini']].copy()"
   ]
  },
  {
   "cell_type": "code",
   "execution_count": null,
   "metadata": {},
   "outputs": [],
   "source": []
  },
  {
   "cell_type": "code",
   "execution_count": 145,
   "metadata": {},
   "outputs": [
    {
     "data": {
      "text/plain": [
       "QueryJob<project=prj-prod-dataplatform, location=asia-southeast1, id=2de95249-6209-4aef-962d-9ed2f98964eb>"
      ]
     },
     "execution_count": 145,
     "metadata": {},
     "output_type": "execute_result"
    }
   ],
   "source": [
    "sq = \"\"\"drop table if exists prj-prod-dataplatform.dap_ds_poweruser_playground.Model_gini_old_gen_credo_score;\"\"\"\n",
    "client.query(sq)"
   ]
  },
  {
   "cell_type": "code",
   "execution_count": 146,
   "metadata": {},
   "outputs": [
    {
     "name": "stderr",
     "output_type": "stream",
     "text": [
      "C:\\Users\\Dwaipayan\\AppData\\Roaming\\Python\\Python312\\site-packages\\google\\cloud\\bigquery\\_pandas_helpers.py:483: FutureWarning: Loading pandas DataFrame into BigQuery will require pandas-gbq package version 0.26.1 or greater in the future. Tried to import pandas-gbq and got: No module named 'pandas_gbq'\n",
      "  warnings.warn(\n"
     ]
    },
    {
     "data": {
      "text/plain": [
       "LoadJob<project=prj-prod-dataplatform, location=asia-southeast1, id=64586a2d-8b12-4b4a-8f47-acd2a0442f1f>"
      ]
     },
     "execution_count": 146,
     "metadata": {},
     "output_type": "execute_result"
    }
   ],
   "source": [
    "import pandas as pd\n",
    "from google.cloud import bigquery\n",
    "\n",
    "# Create a BigQuery client\n",
    "client = bigquery.Client('prj-prod-dataplatform')\n",
    "\n",
    "# Define your table schema\n",
    "table_schema = [\n",
    "    bigquery.SchemaField('start_date', 'TIMESTAMP'),\n",
    "    bigquery.SchemaField('end_date', 'TIMESTAMP'),\n",
    "    bigquery.SchemaField('period', 'STRING'),\n",
    "    bigquery.SchemaField('Model_Name', 'STRING'),\n",
    "    bigquery.SchemaField('version', 'STRING'),\n",
    "    bigquery.SchemaField('Badrate', 'STRING'),\n",
    "    bigquery.SchemaField('credo_old_gen_score_FPD10_gini', 'FLOAT'),\n",
    "    bigquery.SchemaField('credo_old_gen_score_FPD30_gini', 'FLOAT'),    \n",
    "    bigquery.SchemaField('credo_old_gen_score_FSPD30_gini', 'FLOAT'),\n",
    "    bigquery.SchemaField('credo_old_gen_score_FSTPD30_gini', 'FLOAT')\n",
    "    \n",
    "]\n",
    "\n",
    "# Create your BigQuery table\n",
    "table_id = 'prj-prod-dataplatform.dap_ds_poweruser_playground.Model_gini_old_gen_credo_score'\n",
    "table = bigquery.Table(table_id, schema=table_schema)\n",
    "table = client.create_table(table)\n",
    "\n",
    "# Load your DataFrame into BigQuery\n",
    "job_config = bigquery.LoadJobConfig(\n",
    "    write_disposition='WRITE_TRUNCATE'\n",
    ")\n",
    "\n",
    "load_job = client.load_table_from_dataframe(\n",
    "    final_df, table_id, job_config=job_config\n",
    ")\n",
    "\n",
    "load_job.result()"
   ]
  },
  {
   "cell_type": "code",
   "execution_count": 147,
   "metadata": {},
   "outputs": [
    {
     "name": "stdout",
     "output_type": "stream",
     "text": [
      "Job ID 87beb619-5210-4650-b2a7-ba21fbfde3d3 successfully executed: 100%|\u001b[32m██████████\u001b[0m|"
     ]
    },
    {
     "name": "stderr",
     "output_type": "stream",
     "text": [
      "C:\\Users\\Dwaipayan\\AppData\\Roaming\\Python\\Python312\\site-packages\\google\\cloud\\bigquery\\table.py:1900: UserWarning: BigQuery Storage module not found, fetch data with the REST endpoint instead.\n",
      "  warnings.warn(\n"
     ]
    },
    {
     "name": "stdout",
     "output_type": "stream",
     "text": [
      "\n",
      "Downloading: 100%|\u001b[32m██████████\u001b[0m|\n"
     ]
    }
   ],
   "source": [
    "sq = \"\"\"select * from prj-prod-dataplatform.dap_ds_poweruser_playground.Model_gini_old_gen_credo_score;\"\"\"\n",
    "\n",
    "df = client.query(sq).to_dataframe(progress_bar_type='tqdm')"
   ]
  },
  {
   "cell_type": "code",
   "execution_count": 148,
   "metadata": {},
   "outputs": [
    {
     "data": {
      "text/plain": [
       "bad_rate\n",
       "FPD10      145\n",
       "FPD30      142\n",
       "FSPD30     137\n",
       "FSTPD30    132\n",
       "Name: count, dtype: int64"
      ]
     },
     "execution_count": 148,
     "metadata": {},
     "output_type": "execute_result"
    }
   ],
   "source": [
    "df['bad_rate'].value_counts()"
   ]
  },
  {
   "cell_type": "markdown",
   "metadata": {},
   "source": [
    "# old_cic_score"
   ]
  },
  {
   "cell_type": "code",
   "execution_count": 149,
   "metadata": {},
   "outputs": [
    {
     "name": "stdout",
     "output_type": "stream",
     "text": [
      "Job ID 19e5bb23-5cd3-4170-bd45-5f365bfab4af successfully executed: 100%|\u001b[32m██████████\u001b[0m|"
     ]
    },
    {
     "name": "stderr",
     "output_type": "stream",
     "text": [
      "C:\\Users\\Dwaipayan\\AppData\\Roaming\\Python\\Python312\\site-packages\\google\\cloud\\bigquery\\table.py:1900: UserWarning: BigQuery Storage module not found, fetch data with the REST endpoint instead.\n",
      "  warnings.warn(\n"
     ]
    },
    {
     "name": "stdout",
     "output_type": "stream",
     "text": [
      "\n",
      "Downloading: 100%|\u001b[32m██████████\u001b[0m|\n"
     ]
    },
    {
     "name": "stderr",
     "output_type": "stream",
     "text": [
      "C:\\Users\\Dwaipayan\\AppData\\Local\\Temp\\ipykernel_53324\\3955517942.py:30: DeprecationWarning: DataFrameGroupBy.apply operated on the grouping columns. This behavior is deprecated, and in a future version of pandas the grouping columns will be excluded from the operation. Either pass `include_groups=False` to exclude the groupings or explicitly select the grouping columns after groupby to silence this warning.\n",
      "  weekly_gini = df.groupby('week').apply(\n",
      "C:\\Users\\Dwaipayan\\AppData\\Local\\Temp\\ipykernel_53324\\3955517942.py:41: DeprecationWarning: DataFrameGroupBy.apply operated on the grouping columns. This behavior is deprecated, and in a future version of pandas the grouping columns will be excluded from the operation. Either pass `include_groups=False` to exclude the groupings or explicitly select the grouping columns after groupby to silence this warning.\n",
      "  monthly_gini = df.groupby('month').apply(\n"
     ]
    },
    {
     "name": "stdout",
     "output_type": "stream",
     "text": [
      "The shape of dataframe after copy is:\t(105, 7)\n",
      "['start_date' 'end_date' 'old_cic_score_FPD10_gini' 'period' 'Model_Name'\n",
      " 'version' 'bad_rate']\n",
      "Job ID cd57e5ef-6112-4122-a511-37eba534a2cd successfully executed: 100%|\u001b[32m██████████\u001b[0m|"
     ]
    },
    {
     "name": "stderr",
     "output_type": "stream",
     "text": [
      "C:\\Users\\Dwaipayan\\AppData\\Roaming\\Python\\Python312\\site-packages\\google\\cloud\\bigquery\\table.py:1900: UserWarning: BigQuery Storage module not found, fetch data with the REST endpoint instead.\n",
      "  warnings.warn(\n"
     ]
    },
    {
     "name": "stdout",
     "output_type": "stream",
     "text": [
      "\n",
      "Downloading: 100%|\u001b[32m██████████\u001b[0m|\n"
     ]
    },
    {
     "name": "stderr",
     "output_type": "stream",
     "text": [
      "C:\\Users\\Dwaipayan\\AppData\\Local\\Temp\\ipykernel_53324\\3955517942.py:30: DeprecationWarning: DataFrameGroupBy.apply operated on the grouping columns. This behavior is deprecated, and in a future version of pandas the grouping columns will be excluded from the operation. Either pass `include_groups=False` to exclude the groupings or explicitly select the grouping columns after groupby to silence this warning.\n",
      "  weekly_gini = df.groupby('week').apply(\n",
      "C:\\Users\\Dwaipayan\\AppData\\Local\\Temp\\ipykernel_53324\\3955517942.py:41: DeprecationWarning: DataFrameGroupBy.apply operated on the grouping columns. This behavior is deprecated, and in a future version of pandas the grouping columns will be excluded from the operation. Either pass `include_groups=False` to exclude the groupings or explicitly select the grouping columns after groupby to silence this warning.\n",
      "  monthly_gini = df.groupby('month').apply(\n"
     ]
    },
    {
     "name": "stdout",
     "output_type": "stream",
     "text": [
      "The shape of dataframe after copy is:\t(102, 7)\n",
      "['start_date' 'end_date' 'old_cic_score_FPD30_gini' 'period' 'Model_Name'\n",
      " 'version' 'bad_rate']\n",
      "Job ID 6d1a7bb2-d281-4bb7-bb10-3aba0748c01d successfully executed: 100%|\u001b[32m██████████\u001b[0m|"
     ]
    },
    {
     "name": "stderr",
     "output_type": "stream",
     "text": [
      "C:\\Users\\Dwaipayan\\AppData\\Roaming\\Python\\Python312\\site-packages\\google\\cloud\\bigquery\\table.py:1900: UserWarning: BigQuery Storage module not found, fetch data with the REST endpoint instead.\n",
      "  warnings.warn(\n"
     ]
    },
    {
     "name": "stdout",
     "output_type": "stream",
     "text": [
      "\n",
      "Downloading: 100%|\u001b[32m██████████\u001b[0m|\n",
      "     disbursementdate                  digitalLoanAccountId old_cic_score  \\\n",
      "0 2024-06-14 13:20:28  5f412bbb-9b17-4761-8023-1a08640ad81c       605.000   \n",
      "1 2023-09-22 15:00:18  a4bfaa18-0189-4e1e-99ac-e45b036ea021       605.000   \n",
      "\n",
      "   ln_fspd30_flag  ln_mature_fspd30_flag  \n",
      "0               0                      1  \n",
      "1               0                      1  \n"
     ]
    },
    {
     "name": "stderr",
     "output_type": "stream",
     "text": [
      "C:\\Users\\Dwaipayan\\AppData\\Local\\Temp\\ipykernel_53324\\3955517942.py:30: DeprecationWarning: DataFrameGroupBy.apply operated on the grouping columns. This behavior is deprecated, and in a future version of pandas the grouping columns will be excluded from the operation. Either pass `include_groups=False` to exclude the groupings or explicitly select the grouping columns after groupby to silence this warning.\n",
      "  weekly_gini = df.groupby('week').apply(\n",
      "C:\\Users\\Dwaipayan\\AppData\\Local\\Temp\\ipykernel_53324\\3955517942.py:41: DeprecationWarning: DataFrameGroupBy.apply operated on the grouping columns. This behavior is deprecated, and in a future version of pandas the grouping columns will be excluded from the operation. Either pass `include_groups=False` to exclude the groupings or explicitly select the grouping columns after groupby to silence this warning.\n",
      "  monthly_gini = df.groupby('month').apply(\n"
     ]
    },
    {
     "name": "stdout",
     "output_type": "stream",
     "text": [
      "The shape of dataframe after copy is:\t(97, 7)\n",
      "['start_date' 'end_date' 'old_cic_score_FSPD30_gini' 'period' 'Model_Name'\n",
      " 'version' 'bad_rate']\n",
      "Job ID dc9a02c2-1d9e-4053-818d-5cd34aeac14a successfully executed: 100%|\u001b[32m██████████\u001b[0m|"
     ]
    },
    {
     "name": "stderr",
     "output_type": "stream",
     "text": [
      "C:\\Users\\Dwaipayan\\AppData\\Roaming\\Python\\Python312\\site-packages\\google\\cloud\\bigquery\\table.py:1900: UserWarning: BigQuery Storage module not found, fetch data with the REST endpoint instead.\n",
      "  warnings.warn(\n"
     ]
    },
    {
     "name": "stdout",
     "output_type": "stream",
     "text": [
      "\n",
      "Downloading: 100%|\u001b[32m██████████\u001b[0m|\n",
      "     disbursementdate                  digitalLoanAccountId old_cic_score  \\\n",
      "0 2024-06-14 13:20:28  5f412bbb-9b17-4761-8023-1a08640ad81c       605.000   \n",
      "1 2023-09-22 15:00:18  a4bfaa18-0189-4e1e-99ac-e45b036ea021       605.000   \n",
      "\n",
      "   ln_fstpd30_flag  ln_mature_fstpd30_flag  \n",
      "0                0                       1  \n",
      "1                0                       1  \n",
      "The shape of dataframe after copy is:\t(92, 7)\n",
      "['start_date' 'end_date' 'old_cic_score_FSTPD30_gini' 'period'\n",
      " 'Model_Name' 'version' 'bad_rate']\n"
     ]
    },
    {
     "name": "stderr",
     "output_type": "stream",
     "text": [
      "C:\\Users\\Dwaipayan\\AppData\\Local\\Temp\\ipykernel_53324\\3955517942.py:30: DeprecationWarning: DataFrameGroupBy.apply operated on the grouping columns. This behavior is deprecated, and in a future version of pandas the grouping columns will be excluded from the operation. Either pass `include_groups=False` to exclude the groupings or explicitly select the grouping columns after groupby to silence this warning.\n",
      "  weekly_gini = df.groupby('week').apply(\n",
      "C:\\Users\\Dwaipayan\\AppData\\Local\\Temp\\ipykernel_53324\\3955517942.py:41: DeprecationWarning: DataFrameGroupBy.apply operated on the grouping columns. This behavior is deprecated, and in a future version of pandas the grouping columns will be excluded from the operation. Either pass `include_groups=False` to exclude the groupings or explicitly select the grouping columns after groupby to silence this warning.\n",
      "  monthly_gini = df.groupby('month').apply(\n"
     ]
    },
    {
     "data": {
      "application/vnd.microsoft.datawrangler.viewer.v0+json": {
       "columns": [
        {
         "name": "index",
         "rawType": "int64",
         "type": "integer"
        },
        {
         "name": "start_date",
         "rawType": "datetime64[ns]",
         "type": "datetime"
        },
        {
         "name": "end_date",
         "rawType": "datetime64[ns]",
         "type": "datetime"
        },
        {
         "name": "old_cic_score_FSTPD30_gini",
         "rawType": "float64",
         "type": "float"
        },
        {
         "name": "period",
         "rawType": "object",
         "type": "string"
        },
        {
         "name": "Model_Name",
         "rawType": "object",
         "type": "string"
        },
        {
         "name": "version",
         "rawType": "object",
         "type": "string"
        },
        {
         "name": "bad_rate",
         "rawType": "object",
         "type": "string"
        }
       ],
       "conversionMethod": "pd.DataFrame",
       "ref": "513fbb32-eeeb-40a9-a34b-a4c801510042",
       "rows": [
        [
         "0",
         "2023-08-01 00:00:00",
         "2023-08-31 00:00:00",
         "0.09826589595375723",
         "Month",
         "old_cic_score",
         "1.1.0",
         "FSTPD30"
        ],
        [
         "1",
         "2023-08-21 00:00:00",
         "2023-08-27 00:00:00",
         "0.15241379310344816",
         "Week",
         "old_cic_score",
         "1.1.0",
         "FSTPD30"
        ],
        [
         "2",
         "2023-08-28 00:00:00",
         "2023-09-03 00:00:00",
         "0.14582010582010563",
         "Week",
         "old_cic_score",
         "1.1.0",
         "FSTPD30"
        ],
        [
         "3",
         "2023-09-01 00:00:00",
         "2023-09-30 00:00:00",
         "0.25576637926300183",
         "Month",
         "old_cic_score",
         "1.1.0",
         "FSTPD30"
        ],
        [
         "4",
         "2023-09-04 00:00:00",
         "2023-09-10 00:00:00",
         "0.15084175084175078",
         "Week",
         "old_cic_score",
         "1.1.0",
         "FSTPD30"
        ]
       ],
       "shape": {
        "columns": 7,
        "rows": 5
       }
      },
      "text/html": [
       "<div>\n",
       "<style scoped>\n",
       "    .dataframe tbody tr th:only-of-type {\n",
       "        vertical-align: middle;\n",
       "    }\n",
       "\n",
       "    .dataframe tbody tr th {\n",
       "        vertical-align: top;\n",
       "    }\n",
       "\n",
       "    .dataframe thead th {\n",
       "        text-align: right;\n",
       "    }\n",
       "</style>\n",
       "<table border=\"1\" class=\"dataframe\">\n",
       "  <thead>\n",
       "    <tr style=\"text-align: right;\">\n",
       "      <th></th>\n",
       "      <th>start_date</th>\n",
       "      <th>end_date</th>\n",
       "      <th>old_cic_score_FSTPD30_gini</th>\n",
       "      <th>period</th>\n",
       "      <th>Model_Name</th>\n",
       "      <th>version</th>\n",
       "      <th>bad_rate</th>\n",
       "    </tr>\n",
       "  </thead>\n",
       "  <tbody>\n",
       "    <tr>\n",
       "      <th>0</th>\n",
       "      <td>2023-08-01</td>\n",
       "      <td>2023-08-31</td>\n",
       "      <td>0.098266</td>\n",
       "      <td>Month</td>\n",
       "      <td>old_cic_score</td>\n",
       "      <td>1.1.0</td>\n",
       "      <td>FSTPD30</td>\n",
       "    </tr>\n",
       "    <tr>\n",
       "      <th>1</th>\n",
       "      <td>2023-08-21</td>\n",
       "      <td>2023-08-27</td>\n",
       "      <td>0.152414</td>\n",
       "      <td>Week</td>\n",
       "      <td>old_cic_score</td>\n",
       "      <td>1.1.0</td>\n",
       "      <td>FSTPD30</td>\n",
       "    </tr>\n",
       "    <tr>\n",
       "      <th>2</th>\n",
       "      <td>2023-08-28</td>\n",
       "      <td>2023-09-03</td>\n",
       "      <td>0.145820</td>\n",
       "      <td>Week</td>\n",
       "      <td>old_cic_score</td>\n",
       "      <td>1.1.0</td>\n",
       "      <td>FSTPD30</td>\n",
       "    </tr>\n",
       "    <tr>\n",
       "      <th>3</th>\n",
       "      <td>2023-09-01</td>\n",
       "      <td>2023-09-30</td>\n",
       "      <td>0.255766</td>\n",
       "      <td>Month</td>\n",
       "      <td>old_cic_score</td>\n",
       "      <td>1.1.0</td>\n",
       "      <td>FSTPD30</td>\n",
       "    </tr>\n",
       "    <tr>\n",
       "      <th>4</th>\n",
       "      <td>2023-09-04</td>\n",
       "      <td>2023-09-10</td>\n",
       "      <td>0.150842</td>\n",
       "      <td>Week</td>\n",
       "      <td>old_cic_score</td>\n",
       "      <td>1.1.0</td>\n",
       "      <td>FSTPD30</td>\n",
       "    </tr>\n",
       "  </tbody>\n",
       "</table>\n",
       "</div>"
      ],
      "text/plain": [
       "  start_date   end_date  old_cic_score_FSTPD30_gini period     Model_Name  \\\n",
       "0 2023-08-01 2023-08-31                    0.098266  Month  old_cic_score   \n",
       "1 2023-08-21 2023-08-27                    0.152414   Week  old_cic_score   \n",
       "2 2023-08-28 2023-09-03                    0.145820   Week  old_cic_score   \n",
       "3 2023-09-01 2023-09-30                    0.255766  Month  old_cic_score   \n",
       "4 2023-09-04 2023-09-10                    0.150842   Week  old_cic_score   \n",
       "\n",
       "  version bad_rate  \n",
       "0   1.1.0  FSTPD30  \n",
       "1   1.1.0  FSTPD30  \n",
       "2   1.1.0  FSTPD30  \n",
       "3   1.1.0  FSTPD30  \n",
       "4   1.1.0  FSTPD30  "
      ]
     },
     "execution_count": 149,
     "metadata": {},
     "output_type": "execute_result"
    }
   ],
   "source": [
    "\n",
    "\n",
    "sq = f\"\"\"\n",
    "with old_cic_score as \n",
    "(SELECT \n",
    "    ln_disb_dtime disbursementdate,\n",
    "\tdigitalLoanAccountId,\n",
    "    old_cic_score,\n",
    "    ln_fpd10_flag,\n",
    "\tln_mature_fpd10_flag,\t\n",
    "\tFROM \n",
    "    {a}\n",
    "  WHERE \n",
    "     -- ln_disb_dtime >= '2023-07-01'\n",
    "    ln_appln_submit_datetime >= '2023-01-01'\n",
    "  -- AND\n",
    "  --   format_date('%Y-%m', ln_disb_dtime) = '2024-09'\n",
    "  AND\n",
    "    ln_fpd10_flag is not null\n",
    "  AND\n",
    "    old_cic_score is not null\n",
    "  AND\n",
    "    ln_mature_fpd10_flag = 1\n",
    ")\n",
    "select * from old_cic_score;\n",
    "\"\"\"\n",
    "\n",
    "old_cic_scorefpd10 = client.query(sq).to_dataframe(progress_bar_type='tqdm')\n",
    "\n",
    "old_cic_scorefpd10.head()\n",
    "\n",
    "gini_results = calculate_periodic_hybrid_gini(old_cic_scorefpd10, 'old_cic_score', 'ln_fpd10_flag', 'FPD10')\n",
    "M1FPD10 = gini_results.copy()\n",
    "print(f\"The shape of dataframe after copy is:\\t{M1FPD10.shape}\")\n",
    "print(M1FPD10.columns.values)\n",
    "\n",
    "# FPD30\n",
    "\n",
    "sq = f\"\"\"\n",
    "with old_cic_score as \n",
    "(SELECT \n",
    "    ln_disb_dtime disbursementdate,\n",
    "\tdigitalLoanAccountId,\n",
    "    old_cic_score,\n",
    "    ln_fpd30_flag,\n",
    "\tln_mature_fpd30_flag,\t\n",
    "\tFROM \n",
    "    {a}\n",
    "  WHERE \n",
    "     -- ln_disb_dtime >= '2023-07-01'\n",
    "    ln_appln_submit_datetime >= '2023-01-01'\n",
    "  -- AND\n",
    "  --   format_date('%Y-%m', ln_disb_dtime) = '2024-09'\n",
    "  AND\n",
    "    ln_fpd30_flag is not null\n",
    "  AND\n",
    "    old_cic_score is not null\n",
    "  AND\n",
    "    ln_mature_fpd30_flag = 1\n",
    ")\n",
    "select * from old_cic_score;\n",
    "\"\"\"\n",
    "\n",
    "old_cic_scorefpd30 = client.query(sq).to_dataframe(progress_bar_type='tqdm')\n",
    "\n",
    "old_cic_scorefpd30.head()\n",
    "\n",
    "gini_results = calculate_periodic_hybrid_gini(old_cic_scorefpd30, 'old_cic_score', 'ln_fpd30_flag', 'FPD30')\n",
    "M2FPD30 = gini_results.copy()\n",
    "print(f\"The shape of dataframe after copy is:\\t{M2FPD30.shape}\")\n",
    "print(M2FPD30.columns.values)\n",
    "\n",
    "sq = f\"\"\"\n",
    "with old_cic_score as \n",
    "(SELECT \n",
    "    ln_disb_dtime disbursementdate,\n",
    "\tdigitalLoanAccountId,\n",
    "    old_cic_score,\n",
    "    ln_fspd30_flag,\n",
    "\tln_mature_fspd30_flag,\t\n",
    "\tFROM \n",
    "    {a}\n",
    "  WHERE \n",
    "     -- ln_disb_dtime >= '2023-07-01'\n",
    "    ln_appln_submit_datetime >= '2023-01-01'\n",
    "  -- AND\n",
    "  --   format_date('%Y-%m', ln_disb_dtime) = '2024-09'\n",
    "  AND\n",
    "    ln_fspd30_flag is not null\n",
    "  AND\n",
    "    old_cic_score is not null\n",
    "  AND\n",
    "    ln_mature_fspd30_flag = 1\n",
    ")\n",
    "select * from old_cic_score;\n",
    "\"\"\"\n",
    "\n",
    "old_cic_scorefspd30 = client.query(sq).to_dataframe(progress_bar_type='tqdm')\n",
    "\n",
    "print(old_cic_scorefspd30.head(2))\n",
    "\n",
    "gini_results = calculate_periodic_hybrid_gini(old_cic_scorefspd30, 'old_cic_score', 'ln_fspd30_flag', 'FSPD30')\n",
    "M3FSPD30 = gini_results.copy()\n",
    "print(f\"The shape of dataframe after copy is:\\t{M3FSPD30.shape}\")\n",
    "print(M3FSPD30.columns.values)\n",
    "\n",
    "M3FSPD30.head()\n",
    "\n",
    "sq = f\"\"\"\n",
    "with old_cic_score as \n",
    "(SELECT \n",
    "    ln_disb_dtime disbursementdate,\n",
    "\tdigitalLoanAccountId,\n",
    "    old_cic_score,\n",
    "    ln_fstpd30_flag,\n",
    "\tln_mature_fstpd30_flag,\t\n",
    "\tFROM \n",
    "    {a}\n",
    "  WHERE \n",
    "     -- ln_disb_dtime >= '2023-07-01'\n",
    "    ln_appln_submit_datetime >= '2023-01-01'\n",
    "  -- AND\n",
    "  --   format_date('%Y-%m', ln_disb_dtime) = '2024-09'\n",
    "  AND\n",
    "    ln_fstpd30_flag is not null\n",
    "  AND\n",
    "    old_cic_score is not null\n",
    "  AND\n",
    "    ln_mature_fstpd30_flag = 1\n",
    ")\n",
    "select * from old_cic_score;\n",
    "\"\"\"\n",
    "\n",
    "old_cic_scorefstpd30 = client.query(sq).to_dataframe(progress_bar_type='tqdm')\n",
    "\n",
    "print(old_cic_scorefstpd30.head(2))\n",
    "\n",
    "gini_results = calculate_periodic_hybrid_gini(old_cic_scorefstpd30, 'old_cic_score', 'ln_fstpd30_flag', 'FSTPD30')\n",
    "M4FSTPD30 = gini_results.copy()\n",
    "print(f\"The shape of dataframe after copy is:\\t{M4FSTPD30.shape}\")\n",
    "print(M4FSTPD30.columns.values)\n",
    "\n",
    "M4FSTPD30.head()\n",
    "\n"
   ]
  },
  {
   "cell_type": "markdown",
   "metadata": {},
   "source": [
    "## Combining data"
   ]
  },
  {
   "cell_type": "code",
   "execution_count": 150,
   "metadata": {},
   "outputs": [
    {
     "data": {
      "text/plain": [
       "array(['start_date', 'end_date', 'old_cic_score_FPD10_gini', 'period',\n",
       "       'Model_Name', 'version', 'bad_rate', 'old_cic_score_FPD30_gini',\n",
       "       'old_cic_score_FSPD30_gini', 'old_cic_score_FSTPD30_gini'],\n",
       "      dtype=object)"
      ]
     },
     "execution_count": 150,
     "metadata": {},
     "output_type": "execute_result"
    }
   ],
   "source": [
    "import functools\n",
    "\n",
    "dataframes = [M1FPD10, M2FPD30, M3FSPD30, M4FSTPD30]\n",
    "common_columns = ['start_date', 'end_date', 'period', 'Model_Name','version', 'bad_rate']\n",
    "\n",
    "def merge_dataframes(df1, df2):\n",
    "    return pd.merge(df1, df2, on=common_columns, how='outer')\n",
    "\n",
    "final_df = functools.reduce(merge_dataframes, dataframes)\n",
    "\n",
    "final_df.columns.values"
   ]
  },
  {
   "cell_type": "code",
   "execution_count": 151,
   "metadata": {},
   "outputs": [],
   "source": [
    "final_df = final_df[['start_date', 'end_date', 'period',   'Model_Name', 'version', 'bad_rate','old_cic_score_FPD10_gini','old_cic_score_FPD30_gini',    'old_cic_score_FSPD30_gini', 'old_cic_score_FSTPD30_gini']].copy()"
   ]
  },
  {
   "cell_type": "code",
   "execution_count": 152,
   "metadata": {},
   "outputs": [
    {
     "data": {
      "text/plain": [
       "QueryJob<project=prj-prod-dataplatform, location=asia-southeast1, id=43862d4b-eddf-4b1f-8688-fa832ab1b58d>"
      ]
     },
     "execution_count": 152,
     "metadata": {},
     "output_type": "execute_result"
    }
   ],
   "source": [
    "sq = \"\"\"drop table if exists prj-prod-dataplatform.dap_ds_poweruser_playground.Model_gini_old_cic_score;\"\"\"\n",
    "client.query(sq)"
   ]
  },
  {
   "cell_type": "code",
   "execution_count": 153,
   "metadata": {},
   "outputs": [
    {
     "name": "stderr",
     "output_type": "stream",
     "text": [
      "C:\\Users\\Dwaipayan\\AppData\\Roaming\\Python\\Python312\\site-packages\\google\\cloud\\bigquery\\_pandas_helpers.py:483: FutureWarning: Loading pandas DataFrame into BigQuery will require pandas-gbq package version 0.26.1 or greater in the future. Tried to import pandas-gbq and got: No module named 'pandas_gbq'\n",
      "  warnings.warn(\n"
     ]
    },
    {
     "data": {
      "text/plain": [
       "LoadJob<project=prj-prod-dataplatform, location=asia-southeast1, id=3be0aad6-93b6-41d4-8b31-70cfe8145640>"
      ]
     },
     "execution_count": 153,
     "metadata": {},
     "output_type": "execute_result"
    }
   ],
   "source": [
    "import pandas as pd\n",
    "from google.cloud import bigquery\n",
    "\n",
    "# Create a BigQuery client\n",
    "client = bigquery.Client('prj-prod-dataplatform')\n",
    "\n",
    "# Define your table schema\n",
    "table_schema = [\n",
    "    bigquery.SchemaField('start_date', 'TIMESTAMP'),\n",
    "    bigquery.SchemaField('end_date', 'TIMESTAMP'),\n",
    "    bigquery.SchemaField('period', 'STRING'),\n",
    "    bigquery.SchemaField('Model_Name', 'STRING'),\n",
    "    bigquery.SchemaField('version', 'STRING'),\n",
    "    bigquery.SchemaField('Badrate', 'STRING'),\n",
    "    bigquery.SchemaField('old_cic_score_FPD10_gini', 'FLOAT'),\n",
    "    bigquery.SchemaField('old_cic_score_FPD30_gini', 'FLOAT'),    \n",
    "    bigquery.SchemaField('old_cic_score_FSPD30_gini', 'FLOAT'),\n",
    "    bigquery.SchemaField('old_cic_score_FSTPD30_gini', 'FLOAT')\n",
    "    \n",
    "]\n",
    "\n",
    "# Create your BigQuery table\n",
    "table_id = 'prj-prod-dataplatform.dap_ds_poweruser_playground.Model_gini_old_cic_score'\n",
    "table = bigquery.Table(table_id, schema=table_schema)\n",
    "table = client.create_table(table)\n",
    "\n",
    "# Load your DataFrame into BigQuery\n",
    "job_config = bigquery.LoadJobConfig(\n",
    "    write_disposition='WRITE_TRUNCATE'\n",
    ")\n",
    "\n",
    "load_job = client.load_table_from_dataframe(\n",
    "    final_df, table_id, job_config=job_config\n",
    ")\n",
    "\n",
    "load_job.result()"
   ]
  },
  {
   "cell_type": "markdown",
   "metadata": {},
   "source": [
    "# old_demo_score"
   ]
  },
  {
   "cell_type": "code",
   "execution_count": 154,
   "metadata": {},
   "outputs": [
    {
     "name": "stdout",
     "output_type": "stream",
     "text": [
      "Job ID 1c25c641-9d27-449b-b166-d4c574dc6f57 successfully executed: 100%|\u001b[32m██████████\u001b[0m|"
     ]
    },
    {
     "name": "stderr",
     "output_type": "stream",
     "text": [
      "C:\\Users\\Dwaipayan\\AppData\\Roaming\\Python\\Python312\\site-packages\\google\\cloud\\bigquery\\table.py:1900: UserWarning: BigQuery Storage module not found, fetch data with the REST endpoint instead.\n",
      "  warnings.warn(\n"
     ]
    },
    {
     "name": "stdout",
     "output_type": "stream",
     "text": [
      "\n",
      "Downloading: 100%|\u001b[32m██████████\u001b[0m|\n"
     ]
    },
    {
     "name": "stderr",
     "output_type": "stream",
     "text": [
      "C:\\Users\\Dwaipayan\\AppData\\Local\\Temp\\ipykernel_53324\\3955517942.py:30: DeprecationWarning: DataFrameGroupBy.apply operated on the grouping columns. This behavior is deprecated, and in a future version of pandas the grouping columns will be excluded from the operation. Either pass `include_groups=False` to exclude the groupings or explicitly select the grouping columns after groupby to silence this warning.\n",
      "  weekly_gini = df.groupby('week').apply(\n",
      "C:\\Users\\Dwaipayan\\AppData\\Local\\Temp\\ipykernel_53324\\3955517942.py:41: DeprecationWarning: DataFrameGroupBy.apply operated on the grouping columns. This behavior is deprecated, and in a future version of pandas the grouping columns will be excluded from the operation. Either pass `include_groups=False` to exclude the groupings or explicitly select the grouping columns after groupby to silence this warning.\n",
      "  monthly_gini = df.groupby('month').apply(\n"
     ]
    },
    {
     "name": "stdout",
     "output_type": "stream",
     "text": [
      "The shape of dataframe after copy is:\t(145, 7)\n",
      "['start_date' 'end_date' 'old_demo_score_FPD10_gini' 'period' 'Model_Name'\n",
      " 'version' 'bad_rate']\n",
      "Job ID 724f358f-ef1f-4537-ae73-bba972bd27f7 successfully executed: 100%|\u001b[32m██████████\u001b[0m|"
     ]
    },
    {
     "name": "stderr",
     "output_type": "stream",
     "text": [
      "C:\\Users\\Dwaipayan\\AppData\\Roaming\\Python\\Python312\\site-packages\\google\\cloud\\bigquery\\table.py:1900: UserWarning: BigQuery Storage module not found, fetch data with the REST endpoint instead.\n",
      "  warnings.warn(\n"
     ]
    },
    {
     "name": "stdout",
     "output_type": "stream",
     "text": [
      "\n",
      "Downloading: 100%|\u001b[32m██████████\u001b[0m|\n"
     ]
    },
    {
     "name": "stderr",
     "output_type": "stream",
     "text": [
      "C:\\Users\\Dwaipayan\\AppData\\Local\\Temp\\ipykernel_53324\\3955517942.py:30: DeprecationWarning: DataFrameGroupBy.apply operated on the grouping columns. This behavior is deprecated, and in a future version of pandas the grouping columns will be excluded from the operation. Either pass `include_groups=False` to exclude the groupings or explicitly select the grouping columns after groupby to silence this warning.\n",
      "  weekly_gini = df.groupby('week').apply(\n",
      "C:\\Users\\Dwaipayan\\AppData\\Local\\Temp\\ipykernel_53324\\3955517942.py:41: DeprecationWarning: DataFrameGroupBy.apply operated on the grouping columns. This behavior is deprecated, and in a future version of pandas the grouping columns will be excluded from the operation. Either pass `include_groups=False` to exclude the groupings or explicitly select the grouping columns after groupby to silence this warning.\n",
      "  monthly_gini = df.groupby('month').apply(\n"
     ]
    },
    {
     "name": "stdout",
     "output_type": "stream",
     "text": [
      "The shape of dataframe after copy is:\t(142, 7)\n",
      "['start_date' 'end_date' 'old_demo_score_FPD30_gini' 'period' 'Model_Name'\n",
      " 'version' 'bad_rate']\n",
      "Job ID f5b1c471-d37e-46f5-908b-751f790b2bd0 successfully executed: 100%|\u001b[32m██████████\u001b[0m|"
     ]
    },
    {
     "name": "stderr",
     "output_type": "stream",
     "text": [
      "C:\\Users\\Dwaipayan\\AppData\\Roaming\\Python\\Python312\\site-packages\\google\\cloud\\bigquery\\table.py:1900: UserWarning: BigQuery Storage module not found, fetch data with the REST endpoint instead.\n",
      "  warnings.warn(\n"
     ]
    },
    {
     "name": "stdout",
     "output_type": "stream",
     "text": [
      "\n",
      "Downloading: 100%|\u001b[32m██████████\u001b[0m|\n",
      "     disbursementdate                  digitalLoanAccountId  old_demo_score  \\\n",
      "0 2025-01-25 19:05:49  e549776f-7a2d-4b6c-9edc-e3b59e8955f6        0.138973   \n",
      "1 2024-06-14 13:20:28  5f412bbb-9b17-4761-8023-1a08640ad81c      435.000000   \n",
      "\n",
      "   ln_fspd30_flag  ln_mature_fspd30_flag  \n",
      "0               0                      1  \n",
      "1               0                      1  \n"
     ]
    },
    {
     "name": "stderr",
     "output_type": "stream",
     "text": [
      "C:\\Users\\Dwaipayan\\AppData\\Local\\Temp\\ipykernel_53324\\3955517942.py:30: DeprecationWarning: DataFrameGroupBy.apply operated on the grouping columns. This behavior is deprecated, and in a future version of pandas the grouping columns will be excluded from the operation. Either pass `include_groups=False` to exclude the groupings or explicitly select the grouping columns after groupby to silence this warning.\n",
      "  weekly_gini = df.groupby('week').apply(\n",
      "C:\\Users\\Dwaipayan\\AppData\\Local\\Temp\\ipykernel_53324\\3955517942.py:41: DeprecationWarning: DataFrameGroupBy.apply operated on the grouping columns. This behavior is deprecated, and in a future version of pandas the grouping columns will be excluded from the operation. Either pass `include_groups=False` to exclude the groupings or explicitly select the grouping columns after groupby to silence this warning.\n",
      "  monthly_gini = df.groupby('month').apply(\n"
     ]
    },
    {
     "name": "stdout",
     "output_type": "stream",
     "text": [
      "The shape of dataframe after copy is:\t(137, 7)\n",
      "['start_date' 'end_date' 'old_demo_score_FSPD30_gini' 'period'\n",
      " 'Model_Name' 'version' 'bad_rate']\n",
      "Job ID f713f54a-4b8b-4c20-bc9b-fbb0c65f7087 successfully executed: 100%|\u001b[32m██████████\u001b[0m|"
     ]
    },
    {
     "name": "stderr",
     "output_type": "stream",
     "text": [
      "C:\\Users\\Dwaipayan\\AppData\\Roaming\\Python\\Python312\\site-packages\\google\\cloud\\bigquery\\table.py:1900: UserWarning: BigQuery Storage module not found, fetch data with the REST endpoint instead.\n",
      "  warnings.warn(\n"
     ]
    },
    {
     "name": "stdout",
     "output_type": "stream",
     "text": [
      "\n",
      "Downloading: 100%|\u001b[32m██████████\u001b[0m|\n",
      "     disbursementdate                  digitalLoanAccountId  old_demo_score  \\\n",
      "0 2024-12-01 12:21:56  1eac1869-c3c5-4ed8-aa58-aeb90c730784           427.0   \n",
      "1 2024-08-24 17:39:29  56058a72-c8e5-4400-92e1-34400a8b6286           484.0   \n",
      "\n",
      "   ln_fstpd30_flag  ln_mature_fstpd30_flag  \n",
      "0                0                       1  \n",
      "1                0                       1  \n",
      "The shape of dataframe after copy is:\t(132, 7)\n",
      "['start_date' 'end_date' 'old_demo_score_FSTPD30_gini' 'period'\n",
      " 'Model_Name' 'version' 'bad_rate']\n"
     ]
    },
    {
     "name": "stderr",
     "output_type": "stream",
     "text": [
      "C:\\Users\\Dwaipayan\\AppData\\Local\\Temp\\ipykernel_53324\\3955517942.py:30: DeprecationWarning: DataFrameGroupBy.apply operated on the grouping columns. This behavior is deprecated, and in a future version of pandas the grouping columns will be excluded from the operation. Either pass `include_groups=False` to exclude the groupings or explicitly select the grouping columns after groupby to silence this warning.\n",
      "  weekly_gini = df.groupby('week').apply(\n",
      "C:\\Users\\Dwaipayan\\AppData\\Local\\Temp\\ipykernel_53324\\3955517942.py:41: DeprecationWarning: DataFrameGroupBy.apply operated on the grouping columns. This behavior is deprecated, and in a future version of pandas the grouping columns will be excluded from the operation. Either pass `include_groups=False` to exclude the groupings or explicitly select the grouping columns after groupby to silence this warning.\n",
      "  monthly_gini = df.groupby('month').apply(\n"
     ]
    },
    {
     "data": {
      "application/vnd.microsoft.datawrangler.viewer.v0+json": {
       "columns": [
        {
         "name": "index",
         "rawType": "int64",
         "type": "integer"
        },
        {
         "name": "start_date",
         "rawType": "datetime64[ns]",
         "type": "datetime"
        },
        {
         "name": "end_date",
         "rawType": "datetime64[ns]",
         "type": "datetime"
        },
        {
         "name": "old_demo_score_FSTPD30_gini",
         "rawType": "float64",
         "type": "float"
        },
        {
         "name": "period",
         "rawType": "object",
         "type": "string"
        },
        {
         "name": "Model_Name",
         "rawType": "object",
         "type": "string"
        },
        {
         "name": "version",
         "rawType": "object",
         "type": "string"
        },
        {
         "name": "bad_rate",
         "rawType": "object",
         "type": "string"
        }
       ],
       "conversionMethod": "pd.DataFrame",
       "ref": "ab2447a0-cfd0-4fe2-b388-1d69692b9579",
       "rows": [
        [
         "0",
         "2023-01-01 00:00:00",
         "2023-01-31 00:00:00",
         "0.12469561085704117",
         "Month",
         "old_demo_score",
         "1.1.0",
         "FSTPD30"
        ],
        [
         "1",
         "2023-01-02 00:00:00",
         "2023-01-08 00:00:00",
         "0.17434081070444707",
         "Week",
         "old_demo_score",
         "1.1.0",
         "FSTPD30"
        ],
        [
         "2",
         "2023-01-09 00:00:00",
         "2023-01-15 00:00:00",
         "0.04250559284116329",
         "Week",
         "old_demo_score",
         "1.1.0",
         "FSTPD30"
        ],
        [
         "3",
         "2023-01-16 00:00:00",
         "2023-01-22 00:00:00",
         "0.12841756420878214",
         "Week",
         "old_demo_score",
         "1.1.0",
         "FSTPD30"
        ],
        [
         "4",
         "2023-01-23 00:00:00",
         "2023-01-29 00:00:00",
         "0.12051734273956494",
         "Week",
         "old_demo_score",
         "1.1.0",
         "FSTPD30"
        ]
       ],
       "shape": {
        "columns": 7,
        "rows": 5
       }
      },
      "text/html": [
       "<div>\n",
       "<style scoped>\n",
       "    .dataframe tbody tr th:only-of-type {\n",
       "        vertical-align: middle;\n",
       "    }\n",
       "\n",
       "    .dataframe tbody tr th {\n",
       "        vertical-align: top;\n",
       "    }\n",
       "\n",
       "    .dataframe thead th {\n",
       "        text-align: right;\n",
       "    }\n",
       "</style>\n",
       "<table border=\"1\" class=\"dataframe\">\n",
       "  <thead>\n",
       "    <tr style=\"text-align: right;\">\n",
       "      <th></th>\n",
       "      <th>start_date</th>\n",
       "      <th>end_date</th>\n",
       "      <th>old_demo_score_FSTPD30_gini</th>\n",
       "      <th>period</th>\n",
       "      <th>Model_Name</th>\n",
       "      <th>version</th>\n",
       "      <th>bad_rate</th>\n",
       "    </tr>\n",
       "  </thead>\n",
       "  <tbody>\n",
       "    <tr>\n",
       "      <th>0</th>\n",
       "      <td>2023-01-01</td>\n",
       "      <td>2023-01-31</td>\n",
       "      <td>0.124696</td>\n",
       "      <td>Month</td>\n",
       "      <td>old_demo_score</td>\n",
       "      <td>1.1.0</td>\n",
       "      <td>FSTPD30</td>\n",
       "    </tr>\n",
       "    <tr>\n",
       "      <th>1</th>\n",
       "      <td>2023-01-02</td>\n",
       "      <td>2023-01-08</td>\n",
       "      <td>0.174341</td>\n",
       "      <td>Week</td>\n",
       "      <td>old_demo_score</td>\n",
       "      <td>1.1.0</td>\n",
       "      <td>FSTPD30</td>\n",
       "    </tr>\n",
       "    <tr>\n",
       "      <th>2</th>\n",
       "      <td>2023-01-09</td>\n",
       "      <td>2023-01-15</td>\n",
       "      <td>0.042506</td>\n",
       "      <td>Week</td>\n",
       "      <td>old_demo_score</td>\n",
       "      <td>1.1.0</td>\n",
       "      <td>FSTPD30</td>\n",
       "    </tr>\n",
       "    <tr>\n",
       "      <th>3</th>\n",
       "      <td>2023-01-16</td>\n",
       "      <td>2023-01-22</td>\n",
       "      <td>0.128418</td>\n",
       "      <td>Week</td>\n",
       "      <td>old_demo_score</td>\n",
       "      <td>1.1.0</td>\n",
       "      <td>FSTPD30</td>\n",
       "    </tr>\n",
       "    <tr>\n",
       "      <th>4</th>\n",
       "      <td>2023-01-23</td>\n",
       "      <td>2023-01-29</td>\n",
       "      <td>0.120517</td>\n",
       "      <td>Week</td>\n",
       "      <td>old_demo_score</td>\n",
       "      <td>1.1.0</td>\n",
       "      <td>FSTPD30</td>\n",
       "    </tr>\n",
       "  </tbody>\n",
       "</table>\n",
       "</div>"
      ],
      "text/plain": [
       "  start_date   end_date  old_demo_score_FSTPD30_gini period      Model_Name  \\\n",
       "0 2023-01-01 2023-01-31                     0.124696  Month  old_demo_score   \n",
       "1 2023-01-02 2023-01-08                     0.174341   Week  old_demo_score   \n",
       "2 2023-01-09 2023-01-15                     0.042506   Week  old_demo_score   \n",
       "3 2023-01-16 2023-01-22                     0.128418   Week  old_demo_score   \n",
       "4 2023-01-23 2023-01-29                     0.120517   Week  old_demo_score   \n",
       "\n",
       "  version bad_rate  \n",
       "0   1.1.0  FSTPD30  \n",
       "1   1.1.0  FSTPD30  \n",
       "2   1.1.0  FSTPD30  \n",
       "3   1.1.0  FSTPD30  \n",
       "4   1.1.0  FSTPD30  "
      ]
     },
     "execution_count": 154,
     "metadata": {},
     "output_type": "execute_result"
    }
   ],
   "source": [
    "\n",
    "\n",
    "sq = f\"\"\"\n",
    "with old_demo_score as \n",
    "(SELECT \n",
    "    ln_disb_dtime disbursementdate,\n",
    "\tdigitalLoanAccountId,\n",
    "    old_demo_score,\n",
    "    ln_fpd10_flag,\n",
    "\tln_mature_fpd10_flag,\t\n",
    "\tFROM \n",
    "    {a}\n",
    "  WHERE \n",
    "     -- ln_disb_dtime >= '2023-07-01'\n",
    "    ln_appln_submit_datetime >= '2023-01-01'\n",
    "  -- AND\n",
    "  --   format_date('%Y-%m', ln_disb_dtime) = '2024-09'\n",
    "  AND\n",
    "    ln_fpd10_flag is not null\n",
    "  AND\n",
    "    old_demo_score is not null\n",
    "  AND\n",
    "    ln_mature_fpd10_flag = 1\n",
    ")\n",
    "select * from old_demo_score;\n",
    "\"\"\"\n",
    "\n",
    "old_demo_scorefpd10 = client.query(sq).to_dataframe(progress_bar_type='tqdm')\n",
    "\n",
    "old_demo_scorefpd10.head()\n",
    "\n",
    "gini_results = calculate_periodic_hybrid_gini(old_demo_scorefpd10, 'old_demo_score', 'ln_fpd10_flag', 'FPD10')\n",
    "M1FPD10 = gini_results.copy()\n",
    "print(f\"The shape of dataframe after copy is:\\t{M1FPD10.shape}\")\n",
    "print(M1FPD10.columns.values)\n",
    "\n",
    "# FPD30\n",
    "\n",
    "sq = f\"\"\"\n",
    "with old_demo_score as \n",
    "(SELECT \n",
    "    ln_disb_dtime disbursementdate,\n",
    "\tdigitalLoanAccountId,\n",
    "    old_demo_score,\n",
    "    ln_fpd30_flag,\n",
    "\tln_mature_fpd30_flag,\t\n",
    "\tFROM \n",
    "    {a}\n",
    "  WHERE \n",
    "     -- ln_disb_dtime >= '2023-07-01'\n",
    "    ln_appln_submit_datetime >= '2023-01-01'\n",
    "  -- AND\n",
    "  --   format_date('%Y-%m', ln_disb_dtime) = '2024-09'\n",
    "  AND\n",
    "    ln_fpd30_flag is not null\n",
    "  AND\n",
    "    old_demo_score is not null\n",
    "  AND\n",
    "    ln_mature_fpd30_flag = 1\n",
    ")\n",
    "select * from old_demo_score;\n",
    "\"\"\"\n",
    "\n",
    "old_demo_scorefpd30 = client.query(sq).to_dataframe(progress_bar_type='tqdm')\n",
    "\n",
    "old_demo_scorefpd30.head()\n",
    "\n",
    "gini_results = calculate_periodic_hybrid_gini(old_demo_scorefpd30, 'old_demo_score', 'ln_fpd30_flag', 'FPD30')\n",
    "M2FPD30 = gini_results.copy()\n",
    "print(f\"The shape of dataframe after copy is:\\t{M2FPD30.shape}\")\n",
    "print(M2FPD30.columns.values)\n",
    "\n",
    "sq = f\"\"\"\n",
    "with old_demo_score as \n",
    "(SELECT \n",
    "    ln_disb_dtime disbursementdate,\n",
    "\tdigitalLoanAccountId,\n",
    "    old_demo_score,\n",
    "    ln_fspd30_flag,\n",
    "\tln_mature_fspd30_flag,\t\n",
    "\tFROM \n",
    "    {a}\n",
    "  WHERE \n",
    "     -- ln_disb_dtime >= '2023-07-01'\n",
    "    ln_appln_submit_datetime >= '2023-01-01'\n",
    "  -- AND\n",
    "  --   format_date('%Y-%m', ln_disb_dtime) = '2024-09'\n",
    "  AND\n",
    "    ln_fspd30_flag is not null\n",
    "  AND\n",
    "    old_demo_score is not null\n",
    "  AND\n",
    "    ln_mature_fspd30_flag = 1\n",
    ")\n",
    "select * from old_demo_score;\n",
    "\"\"\"\n",
    "\n",
    "old_demo_scorefspd30 = client.query(sq).to_dataframe(progress_bar_type='tqdm')\n",
    "\n",
    "print(old_demo_scorefspd30.head(2))\n",
    "\n",
    "gini_results = calculate_periodic_hybrid_gini(old_demo_scorefspd30, 'old_demo_score', 'ln_fspd30_flag', 'FSPD30')\n",
    "M3FSPD30 = gini_results.copy()\n",
    "print(f\"The shape of dataframe after copy is:\\t{M3FSPD30.shape}\")\n",
    "print(M3FSPD30.columns.values)\n",
    "\n",
    "M3FSPD30.head()\n",
    "\n",
    "sq = f\"\"\"\n",
    "with old_demo_score as \n",
    "(SELECT \n",
    "    ln_disb_dtime disbursementdate,\n",
    "\tdigitalLoanAccountId,\n",
    "    old_demo_score,\n",
    "    ln_fstpd30_flag,\n",
    "\tln_mature_fstpd30_flag,\t\n",
    "\tFROM \n",
    "    {a}\n",
    "  WHERE \n",
    "     -- ln_disb_dtime >= '2023-07-01'\n",
    "    ln_appln_submit_datetime >= '2023-01-01'\n",
    "  -- AND\n",
    "  --   format_date('%Y-%m', ln_disb_dtime) = '2024-09'\n",
    "  AND\n",
    "    ln_fstpd30_flag is not null\n",
    "  AND\n",
    "    old_demo_score is not null\n",
    "  AND\n",
    "    ln_mature_fstpd30_flag = 1\n",
    ")\n",
    "select * from old_demo_score;\n",
    "\"\"\"\n",
    "\n",
    "old_demo_scorefstpd30 = client.query(sq).to_dataframe(progress_bar_type='tqdm')\n",
    "\n",
    "print(old_demo_scorefstpd30.head(2))\n",
    "\n",
    "gini_results = calculate_periodic_hybrid_gini(old_demo_scorefstpd30, 'old_demo_score', 'ln_fstpd30_flag', 'FSTPD30')\n",
    "M4FSTPD30 = gini_results.copy()\n",
    "print(f\"The shape of dataframe after copy is:\\t{M4FSTPD30.shape}\")\n",
    "print(M4FSTPD30.columns.values)\n",
    "\n",
    "M4FSTPD30.head()\n",
    "\n"
   ]
  },
  {
   "cell_type": "code",
   "execution_count": null,
   "metadata": {},
   "outputs": [],
   "source": []
  },
  {
   "cell_type": "markdown",
   "metadata": {},
   "source": [
    "## Combining data"
   ]
  },
  {
   "cell_type": "code",
   "execution_count": 155,
   "metadata": {},
   "outputs": [
    {
     "data": {
      "text/plain": [
       "array(['start_date', 'end_date', 'old_demo_score_FPD10_gini', 'period',\n",
       "       'Model_Name', 'version', 'bad_rate', 'old_demo_score_FPD30_gini',\n",
       "       'old_demo_score_FSPD30_gini', 'old_demo_score_FSTPD30_gini'],\n",
       "      dtype=object)"
      ]
     },
     "execution_count": 155,
     "metadata": {},
     "output_type": "execute_result"
    }
   ],
   "source": [
    "import functools\n",
    "\n",
    "dataframes = [M1FPD10, M2FPD30, M3FSPD30, M4FSTPD30]\n",
    "common_columns = ['start_date', 'end_date', 'period', 'Model_Name','version', 'bad_rate']\n",
    "\n",
    "def merge_dataframes(df1, df2):\n",
    "    return pd.merge(df1, df2, on=common_columns, how='outer')\n",
    "\n",
    "final_df = functools.reduce(merge_dataframes, dataframes)\n",
    "\n",
    "final_df.columns.values"
   ]
  },
  {
   "cell_type": "code",
   "execution_count": 156,
   "metadata": {},
   "outputs": [],
   "source": [
    "final_df = final_df[['start_date', 'end_date', 'period',   'Model_Name', 'version', 'bad_rate','old_demo_score_FPD10_gini','old_demo_score_FPD30_gini',    'old_demo_score_FSPD30_gini', 'old_demo_score_FSTPD30_gini']].copy()"
   ]
  },
  {
   "cell_type": "code",
   "execution_count": 157,
   "metadata": {},
   "outputs": [
    {
     "data": {
      "text/plain": [
       "QueryJob<project=prj-prod-dataplatform, location=asia-southeast1, id=730a47bd-f105-4f7b-8edf-63d6231ab0e4>"
      ]
     },
     "execution_count": 157,
     "metadata": {},
     "output_type": "execute_result"
    }
   ],
   "source": [
    "sq = \"\"\"drop table if exists prj-prod-dataplatform.dap_ds_poweruser_playground.Model_gini_old_demo_score;\"\"\"\n",
    "client.query(sq)"
   ]
  },
  {
   "cell_type": "code",
   "execution_count": 158,
   "metadata": {},
   "outputs": [
    {
     "name": "stderr",
     "output_type": "stream",
     "text": [
      "C:\\Users\\Dwaipayan\\AppData\\Roaming\\Python\\Python312\\site-packages\\google\\cloud\\bigquery\\_pandas_helpers.py:483: FutureWarning: Loading pandas DataFrame into BigQuery will require pandas-gbq package version 0.26.1 or greater in the future. Tried to import pandas-gbq and got: No module named 'pandas_gbq'\n",
      "  warnings.warn(\n"
     ]
    },
    {
     "data": {
      "text/plain": [
       "LoadJob<project=prj-prod-dataplatform, location=asia-southeast1, id=ca2f1dbd-68f1-4348-84e5-1170c82436aa>"
      ]
     },
     "execution_count": 158,
     "metadata": {},
     "output_type": "execute_result"
    }
   ],
   "source": [
    "import pandas as pd\n",
    "from google.cloud import bigquery\n",
    "\n",
    "# Create a BigQuery client\n",
    "client = bigquery.Client('prj-prod-dataplatform')\n",
    "\n",
    "# Define your table schema\n",
    "table_schema = [\n",
    "    bigquery.SchemaField('start_date', 'TIMESTAMP'),\n",
    "    bigquery.SchemaField('end_date', 'TIMESTAMP'),\n",
    "    bigquery.SchemaField('period', 'STRING'),\n",
    "    bigquery.SchemaField('Model_Name', 'STRING'),\n",
    "    bigquery.SchemaField('version', 'STRING'),\n",
    "    bigquery.SchemaField('Badrate', 'STRING'),\n",
    "    bigquery.SchemaField('old_demo_score_FPD10_gini', 'FLOAT'),\n",
    "    bigquery.SchemaField('old_demo_score_FPD30_gini', 'FLOAT'),    \n",
    "    bigquery.SchemaField('old_demo_score_FSPD30_gini', 'FLOAT'),\n",
    "    bigquery.SchemaField('old_demo_score_FSTPD30_gini', 'FLOAT')\n",
    "    \n",
    "]\n",
    "\n",
    "# Create your BigQuery table\n",
    "table_id = 'prj-prod-dataplatform.dap_ds_poweruser_playground.Model_gini_old_demo_score'\n",
    "table = bigquery.Table(table_id, schema=table_schema)\n",
    "table = client.create_table(table)\n",
    "\n",
    "# Load your DataFrame into BigQuery\n",
    "job_config = bigquery.LoadJobConfig(\n",
    "    write_disposition='WRITE_TRUNCATE'\n",
    ")\n",
    "\n",
    "load_job = client.load_table_from_dataframe(\n",
    "    final_df, table_id, job_config=job_config\n",
    ")\n",
    "\n",
    "load_job.result()"
   ]
  },
  {
   "cell_type": "markdown",
   "metadata": {},
   "source": [
    "# bu_bureau_score"
   ]
  },
  {
   "cell_type": "code",
   "execution_count": 159,
   "metadata": {},
   "outputs": [
    {
     "name": "stdout",
     "output_type": "stream",
     "text": [
      "Job ID 6381eaee-56c2-47c3-977f-6f16362616ac successfully executed: 100%|\u001b[32m██████████\u001b[0m|"
     ]
    },
    {
     "name": "stderr",
     "output_type": "stream",
     "text": [
      "C:\\Users\\Dwaipayan\\AppData\\Roaming\\Python\\Python312\\site-packages\\google\\cloud\\bigquery\\table.py:1900: UserWarning: BigQuery Storage module not found, fetch data with the REST endpoint instead.\n",
      "  warnings.warn(\n"
     ]
    },
    {
     "name": "stdout",
     "output_type": "stream",
     "text": [
      "\n",
      "Downloading: 100%|\u001b[32m██████████\u001b[0m|\n",
      "The shape of dataframe after copy is:\t(92, 7)\n",
      "['start_date' 'end_date' 'bu_bureau_score_FPD10_gini' 'period'\n",
      " 'Model_Name' 'version' 'bad_rate']\n"
     ]
    },
    {
     "name": "stderr",
     "output_type": "stream",
     "text": [
      "C:\\Users\\Dwaipayan\\AppData\\Local\\Temp\\ipykernel_53324\\3333785776.py:16: DeprecationWarning: DataFrameGroupBy.apply operated on the grouping columns. This behavior is deprecated, and in a future version of pandas the grouping columns will be excluded from the operation. Either pass `include_groups=False` to exclude the groupings or explicitly select the grouping columns after groupby to silence this warning.\n",
      "  weekly_gini = df.groupby('week').apply(\n",
      "C:\\Users\\Dwaipayan\\AppData\\Local\\Temp\\ipykernel_53324\\3333785776.py:26: DeprecationWarning: DataFrameGroupBy.apply operated on the grouping columns. This behavior is deprecated, and in a future version of pandas the grouping columns will be excluded from the operation. Either pass `include_groups=False` to exclude the groupings or explicitly select the grouping columns after groupby to silence this warning.\n",
      "  monthly_gini = df.groupby('month').apply(\n"
     ]
    },
    {
     "name": "stdout",
     "output_type": "stream",
     "text": [
      "Job ID b91a7a22-1c63-468b-9a6b-13b522d94d0f successfully executed: 100%|\u001b[32m██████████\u001b[0m|"
     ]
    },
    {
     "name": "stderr",
     "output_type": "stream",
     "text": [
      "C:\\Users\\Dwaipayan\\AppData\\Roaming\\Python\\Python312\\site-packages\\google\\cloud\\bigquery\\table.py:1900: UserWarning: BigQuery Storage module not found, fetch data with the REST endpoint instead.\n",
      "  warnings.warn(\n"
     ]
    },
    {
     "name": "stdout",
     "output_type": "stream",
     "text": [
      "\n",
      "Downloading: 100%|\u001b[32m██████████\u001b[0m|\n",
      "The shape of dataframe after copy is:\t(92, 7)\n",
      "['start_date' 'end_date' 'bu_bureau_score_FPD30_gini' 'period'\n",
      " 'Model_Name' 'version' 'bad_rate']\n"
     ]
    },
    {
     "name": "stderr",
     "output_type": "stream",
     "text": [
      "C:\\Users\\Dwaipayan\\AppData\\Local\\Temp\\ipykernel_53324\\3333785776.py:16: DeprecationWarning: DataFrameGroupBy.apply operated on the grouping columns. This behavior is deprecated, and in a future version of pandas the grouping columns will be excluded from the operation. Either pass `include_groups=False` to exclude the groupings or explicitly select the grouping columns after groupby to silence this warning.\n",
      "  weekly_gini = df.groupby('week').apply(\n",
      "C:\\Users\\Dwaipayan\\AppData\\Local\\Temp\\ipykernel_53324\\3333785776.py:26: DeprecationWarning: DataFrameGroupBy.apply operated on the grouping columns. This behavior is deprecated, and in a future version of pandas the grouping columns will be excluded from the operation. Either pass `include_groups=False` to exclude the groupings or explicitly select the grouping columns after groupby to silence this warning.\n",
      "  monthly_gini = df.groupby('month').apply(\n"
     ]
    },
    {
     "name": "stdout",
     "output_type": "stream",
     "text": [
      "Job ID ca1358c4-0fbc-4049-bd5b-cbea728ede70 successfully executed: 100%|\u001b[32m██████████\u001b[0m|"
     ]
    },
    {
     "name": "stderr",
     "output_type": "stream",
     "text": [
      "C:\\Users\\Dwaipayan\\AppData\\Roaming\\Python\\Python312\\site-packages\\google\\cloud\\bigquery\\table.py:1900: UserWarning: BigQuery Storage module not found, fetch data with the REST endpoint instead.\n",
      "  warnings.warn(\n"
     ]
    },
    {
     "name": "stdout",
     "output_type": "stream",
     "text": [
      "\n",
      "Downloading: 100%|\u001b[32m██████████\u001b[0m|\n",
      "     disbursementdate                  digitalLoanAccountId  bu_bureau_score  \\\n",
      "0 2023-12-07 12:25:39  c464e02f-5b1a-460a-9686-9facb57c699f            418.0   \n",
      "1 2023-12-26 18:05:40  0fc1e665-b7ba-4b10-89f2-e20b149035e0            365.0   \n",
      "\n",
      "   ln_fspd30_flag  ln_mature_fspd30_flag  \n",
      "0               0                      1  \n",
      "1               0                      1  \n",
      "The shape of dataframe after copy is:\t(92, 7)\n",
      "['start_date' 'end_date' 'bu_bureau_score_FSPD30_gini' 'period'\n",
      " 'Model_Name' 'version' 'bad_rate']\n"
     ]
    },
    {
     "name": "stderr",
     "output_type": "stream",
     "text": [
      "C:\\Users\\Dwaipayan\\AppData\\Local\\Temp\\ipykernel_53324\\3333785776.py:16: DeprecationWarning: DataFrameGroupBy.apply operated on the grouping columns. This behavior is deprecated, and in a future version of pandas the grouping columns will be excluded from the operation. Either pass `include_groups=False` to exclude the groupings or explicitly select the grouping columns after groupby to silence this warning.\n",
      "  weekly_gini = df.groupby('week').apply(\n",
      "C:\\Users\\Dwaipayan\\AppData\\Local\\Temp\\ipykernel_53324\\3333785776.py:26: DeprecationWarning: DataFrameGroupBy.apply operated on the grouping columns. This behavior is deprecated, and in a future version of pandas the grouping columns will be excluded from the operation. Either pass `include_groups=False` to exclude the groupings or explicitly select the grouping columns after groupby to silence this warning.\n",
      "  monthly_gini = df.groupby('month').apply(\n"
     ]
    },
    {
     "name": "stdout",
     "output_type": "stream",
     "text": [
      "Job ID ab3487ad-3eb9-4f96-bf79-84949fbde7c5 successfully executed: 100%|\u001b[32m██████████\u001b[0m|"
     ]
    },
    {
     "name": "stderr",
     "output_type": "stream",
     "text": [
      "C:\\Users\\Dwaipayan\\AppData\\Roaming\\Python\\Python312\\site-packages\\google\\cloud\\bigquery\\table.py:1900: UserWarning: BigQuery Storage module not found, fetch data with the REST endpoint instead.\n",
      "  warnings.warn(\n"
     ]
    },
    {
     "name": "stdout",
     "output_type": "stream",
     "text": [
      "\n",
      "Downloading: 100%|\u001b[32m██████████\u001b[0m|\n",
      "     disbursementdate                  digitalLoanAccountId  bu_bureau_score  \\\n",
      "0 2023-12-07 12:25:39  c464e02f-5b1a-460a-9686-9facb57c699f            418.0   \n",
      "1 2023-12-26 18:05:40  0fc1e665-b7ba-4b10-89f2-e20b149035e0            365.0   \n",
      "\n",
      "   ln_fstpd30_flag  ln_mature_fstpd30_flag  \n",
      "0                0                       1  \n",
      "1                0                       1  \n",
      "The shape of dataframe after copy is:\t(92, 7)\n",
      "['start_date' 'end_date' 'bu_bureau_score_FSTPD30_gini' 'period'\n",
      " 'Model_Name' 'version' 'bad_rate']\n"
     ]
    },
    {
     "name": "stderr",
     "output_type": "stream",
     "text": [
      "C:\\Users\\Dwaipayan\\AppData\\Local\\Temp\\ipykernel_53324\\3333785776.py:16: DeprecationWarning: DataFrameGroupBy.apply operated on the grouping columns. This behavior is deprecated, and in a future version of pandas the grouping columns will be excluded from the operation. Either pass `include_groups=False` to exclude the groupings or explicitly select the grouping columns after groupby to silence this warning.\n",
      "  weekly_gini = df.groupby('week').apply(\n",
      "C:\\Users\\Dwaipayan\\AppData\\Local\\Temp\\ipykernel_53324\\3333785776.py:26: DeprecationWarning: DataFrameGroupBy.apply operated on the grouping columns. This behavior is deprecated, and in a future version of pandas the grouping columns will be excluded from the operation. Either pass `include_groups=False` to exclude the groupings or explicitly select the grouping columns after groupby to silence this warning.\n",
      "  monthly_gini = df.groupby('month').apply(\n"
     ]
    },
    {
     "data": {
      "application/vnd.microsoft.datawrangler.viewer.v0+json": {
       "columns": [
        {
         "name": "index",
         "rawType": "int64",
         "type": "integer"
        },
        {
         "name": "start_date",
         "rawType": "datetime64[ns]",
         "type": "datetime"
        },
        {
         "name": "end_date",
         "rawType": "datetime64[ns]",
         "type": "datetime"
        },
        {
         "name": "bu_bureau_score_FSTPD30_gini",
         "rawType": "float64",
         "type": "float"
        },
        {
         "name": "period",
         "rawType": "object",
         "type": "string"
        },
        {
         "name": "Model_Name",
         "rawType": "object",
         "type": "string"
        },
        {
         "name": "version",
         "rawType": "object",
         "type": "string"
        },
        {
         "name": "bad_rate",
         "rawType": "object",
         "type": "string"
        }
       ],
       "conversionMethod": "pd.DataFrame",
       "ref": "3994606d-1f23-40fe-ad56-c5ebefd0b05c",
       "rows": [
        [
         "0",
         "2023-01-01 00:00:00",
         "2023-01-31 00:00:00",
         "0.027083333333333126",
         "Month",
         "bu_bureau_score",
         "1.1.0",
         "FSTPD30"
        ],
        [
         "1",
         "2023-01-09 00:00:00",
         "2023-01-15 00:00:00",
         "-0.07999999999999996",
         "Week",
         "bu_bureau_score",
         "1.1.0",
         "FSTPD30"
        ],
        [
         "2",
         "2023-01-16 00:00:00",
         "2023-01-22 00:00:00",
         "-0.8333333333333334",
         "Week",
         "bu_bureau_score",
         "1.1.0",
         "FSTPD30"
        ],
        [
         "3",
         "2023-01-23 00:00:00",
         "2023-01-29 00:00:00",
         "0.4166666666666665",
         "Week",
         "bu_bureau_score",
         "1.1.0",
         "FSTPD30"
        ],
        [
         "4",
         "2023-01-30 00:00:00",
         "2023-02-05 00:00:00",
         "0.2666666666666666",
         "Week",
         "bu_bureau_score",
         "1.1.0",
         "FSTPD30"
        ]
       ],
       "shape": {
        "columns": 7,
        "rows": 5
       }
      },
      "text/html": [
       "<div>\n",
       "<style scoped>\n",
       "    .dataframe tbody tr th:only-of-type {\n",
       "        vertical-align: middle;\n",
       "    }\n",
       "\n",
       "    .dataframe tbody tr th {\n",
       "        vertical-align: top;\n",
       "    }\n",
       "\n",
       "    .dataframe thead th {\n",
       "        text-align: right;\n",
       "    }\n",
       "</style>\n",
       "<table border=\"1\" class=\"dataframe\">\n",
       "  <thead>\n",
       "    <tr style=\"text-align: right;\">\n",
       "      <th></th>\n",
       "      <th>start_date</th>\n",
       "      <th>end_date</th>\n",
       "      <th>bu_bureau_score_FSTPD30_gini</th>\n",
       "      <th>period</th>\n",
       "      <th>Model_Name</th>\n",
       "      <th>version</th>\n",
       "      <th>bad_rate</th>\n",
       "    </tr>\n",
       "  </thead>\n",
       "  <tbody>\n",
       "    <tr>\n",
       "      <th>0</th>\n",
       "      <td>2023-01-01</td>\n",
       "      <td>2023-01-31</td>\n",
       "      <td>0.027083</td>\n",
       "      <td>Month</td>\n",
       "      <td>bu_bureau_score</td>\n",
       "      <td>1.1.0</td>\n",
       "      <td>FSTPD30</td>\n",
       "    </tr>\n",
       "    <tr>\n",
       "      <th>1</th>\n",
       "      <td>2023-01-09</td>\n",
       "      <td>2023-01-15</td>\n",
       "      <td>-0.080000</td>\n",
       "      <td>Week</td>\n",
       "      <td>bu_bureau_score</td>\n",
       "      <td>1.1.0</td>\n",
       "      <td>FSTPD30</td>\n",
       "    </tr>\n",
       "    <tr>\n",
       "      <th>2</th>\n",
       "      <td>2023-01-16</td>\n",
       "      <td>2023-01-22</td>\n",
       "      <td>-0.833333</td>\n",
       "      <td>Week</td>\n",
       "      <td>bu_bureau_score</td>\n",
       "      <td>1.1.0</td>\n",
       "      <td>FSTPD30</td>\n",
       "    </tr>\n",
       "    <tr>\n",
       "      <th>3</th>\n",
       "      <td>2023-01-23</td>\n",
       "      <td>2023-01-29</td>\n",
       "      <td>0.416667</td>\n",
       "      <td>Week</td>\n",
       "      <td>bu_bureau_score</td>\n",
       "      <td>1.1.0</td>\n",
       "      <td>FSTPD30</td>\n",
       "    </tr>\n",
       "    <tr>\n",
       "      <th>4</th>\n",
       "      <td>2023-01-30</td>\n",
       "      <td>2023-02-05</td>\n",
       "      <td>0.266667</td>\n",
       "      <td>Week</td>\n",
       "      <td>bu_bureau_score</td>\n",
       "      <td>1.1.0</td>\n",
       "      <td>FSTPD30</td>\n",
       "    </tr>\n",
       "  </tbody>\n",
       "</table>\n",
       "</div>"
      ],
      "text/plain": [
       "  start_date   end_date  bu_bureau_score_FSTPD30_gini period       Model_Name  \\\n",
       "0 2023-01-01 2023-01-31                      0.027083  Month  bu_bureau_score   \n",
       "1 2023-01-09 2023-01-15                     -0.080000   Week  bu_bureau_score   \n",
       "2 2023-01-16 2023-01-22                     -0.833333   Week  bu_bureau_score   \n",
       "3 2023-01-23 2023-01-29                      0.416667   Week  bu_bureau_score   \n",
       "4 2023-01-30 2023-02-05                      0.266667   Week  bu_bureau_score   \n",
       "\n",
       "  version bad_rate  \n",
       "0   1.1.0  FSTPD30  \n",
       "1   1.1.0  FSTPD30  \n",
       "2   1.1.0  FSTPD30  \n",
       "3   1.1.0  FSTPD30  \n",
       "4   1.1.0  FSTPD30  "
      ]
     },
     "execution_count": 159,
     "metadata": {},
     "output_type": "execute_result"
    }
   ],
   "source": [
    "sq = f\"\"\"\n",
    "with bu_bureau_score as \n",
    "(SELECT \n",
    "    ln_disb_dtime disbursementdate,\n",
    "\tdigitalLoanAccountId,\n",
    "    bu_bureau_score,\n",
    "    ln_fpd10_flag,\n",
    "\tln_mature_fpd10_flag,\t\n",
    "\tFROM \n",
    "    {a}\n",
    "  WHERE \n",
    "     -- ln_disb_dtime >= '2023-07-01'\n",
    "    ln_appln_submit_datetime >= '2023-01-01'\n",
    "  -- AND\n",
    "  --   format_date('%Y-%m', ln_disb_dtime) = '2024-09'\n",
    "  AND\n",
    "    ln_fpd10_flag is not null\n",
    "  AND\n",
    "    coalesce(bu_bureau_score, 0.0) > 0.0\n",
    "  AND\n",
    "    ln_mature_fpd10_flag = 1\n",
    ")\n",
    "select * from bu_bureau_score;\n",
    "\"\"\"\n",
    "\n",
    "bu_bureau_scorefpd10 = client.query(sq).to_dataframe(progress_bar_type='tqdm')\n",
    "\n",
    "bu_bureau_scorefpd10.head()\n",
    "\n",
    "gini_results = calculate_periodic_gini_threedigit(bu_bureau_scorefpd10, 'bu_bureau_score', 'ln_fpd10_flag', 'FPD10')\n",
    "M1FPD10 = gini_results.copy()\n",
    "print(f\"The shape of dataframe after copy is:\\t{M1FPD10.shape}\")\n",
    "print(M1FPD10.columns.values)\n",
    "\n",
    "# FPD30\n",
    "\n",
    "sq = f\"\"\"\n",
    "with bu_bureau_score as \n",
    "(SELECT \n",
    "    ln_disb_dtime disbursementdate,\n",
    "\tdigitalLoanAccountId,\n",
    "    bu_bureau_score,\n",
    "    ln_fpd30_flag,\n",
    "\tln_mature_fpd30_flag,\t\n",
    "\tFROM \n",
    "    {a}\n",
    "  WHERE \n",
    "     -- ln_disb_dtime >= '2023-07-01'\n",
    "    ln_appln_submit_datetime >= '2023-01-01'\n",
    "  -- AND\n",
    "  --   format_date('%Y-%m', ln_disb_dtime) = '2024-09'\n",
    "  AND\n",
    "    ln_fpd30_flag is not null\n",
    "  AND\n",
    "    coalesce(bu_bureau_score, 0.0) > 0.0\n",
    "  AND\n",
    "    ln_mature_fpd30_flag = 1\n",
    ")\n",
    "select * from bu_bureau_score;\n",
    "\"\"\"\n",
    "\n",
    "bu_bureau_scorefpd30 = client.query(sq).to_dataframe(progress_bar_type='tqdm')\n",
    "\n",
    "bu_bureau_scorefpd30.head()\n",
    "\n",
    "gini_results = calculate_periodic_gini_threedigit(bu_bureau_scorefpd30, 'bu_bureau_score', 'ln_fpd30_flag', 'FPD30')\n",
    "M2FPD30 = gini_results.copy()\n",
    "print(f\"The shape of dataframe after copy is:\\t{M2FPD30.shape}\")\n",
    "print(M2FPD30.columns.values)\n",
    "\n",
    "sq = f\"\"\"\n",
    "with bu_bureau_score as \n",
    "(SELECT \n",
    "    ln_disb_dtime disbursementdate,\n",
    "\tdigitalLoanAccountId,\n",
    "    bu_bureau_score,\n",
    "    ln_fspd30_flag,\n",
    "\tln_mature_fspd30_flag,\t\n",
    "\tFROM \n",
    "    {a}\n",
    "  WHERE \n",
    "     -- ln_disb_dtime >= '2023-07-01'\n",
    "    ln_appln_submit_datetime >= '2023-01-01'\n",
    "  -- AND\n",
    "  --   format_date('%Y-%m', ln_disb_dtime) = '2024-09'\n",
    "  AND\n",
    "    ln_fspd30_flag is not null\n",
    "  AND\n",
    "    coalesce(bu_bureau_score, 0.0) > 0.0\n",
    "  AND\n",
    "    ln_mature_fspd30_flag = 1\n",
    ")\n",
    "select * from bu_bureau_score;\n",
    "\"\"\"\n",
    "\n",
    "bu_bureau_scorefspd30 = client.query(sq).to_dataframe(progress_bar_type='tqdm')\n",
    "\n",
    "print(bu_bureau_scorefspd30.head(2))\n",
    "\n",
    "gini_results = calculate_periodic_gini_threedigit(bu_bureau_scorefspd30, 'bu_bureau_score', 'ln_fspd30_flag', 'FSPD30')\n",
    "M3FSPD30 = gini_results.copy()\n",
    "print(f\"The shape of dataframe after copy is:\\t{M3FSPD30.shape}\")\n",
    "print(M3FSPD30.columns.values)\n",
    "\n",
    "M3FSPD30.head()\n",
    "\n",
    "sq = f\"\"\"\n",
    "with bu_bureau_score as \n",
    "(SELECT \n",
    "    ln_disb_dtime disbursementdate,\n",
    "\tdigitalLoanAccountId,\n",
    "    bu_bureau_score,\n",
    "    ln_fstpd30_flag,\n",
    "\tln_mature_fstpd30_flag,\t\n",
    "\tFROM \n",
    "    {a}\n",
    "  WHERE \n",
    "     -- ln_disb_dtime >= '2023-07-01'\n",
    "    ln_appln_submit_datetime >= '2023-01-01'\n",
    "  -- AND\n",
    "  --   format_date('%Y-%m', ln_disb_dtime) = '2024-09'\n",
    "  AND\n",
    "    ln_fstpd30_flag is not null\n",
    "  AND\n",
    "    coalesce(bu_bureau_score, 0.0) > 0.0\n",
    "  AND\n",
    "    ln_mature_fstpd30_flag = 1\n",
    ")\n",
    "select * from bu_bureau_score;\n",
    "\"\"\"\n",
    "\n",
    "bu_bureau_scorefstpd30 = client.query(sq).to_dataframe(progress_bar_type='tqdm')\n",
    "\n",
    "print(bu_bureau_scorefstpd30.head(2))\n",
    "\n",
    "gini_results = calculate_periodic_gini_threedigit(bu_bureau_scorefstpd30, 'bu_bureau_score', 'ln_fstpd30_flag', 'FSTPD30')\n",
    "M4FSTPD30 = gini_results.copy()\n",
    "print(f\"The shape of dataframe after copy is:\\t{M4FSTPD30.shape}\")\n",
    "print(M4FSTPD30.columns.values)\n",
    "\n",
    "M4FSTPD30.head()\n",
    "\n"
   ]
  },
  {
   "cell_type": "code",
   "execution_count": null,
   "metadata": {},
   "outputs": [],
   "source": []
  },
  {
   "cell_type": "markdown",
   "metadata": {},
   "source": [
    "## Combining data"
   ]
  },
  {
   "cell_type": "code",
   "execution_count": 160,
   "metadata": {},
   "outputs": [
    {
     "data": {
      "text/plain": [
       "array(['start_date', 'end_date', 'bu_bureau_score_FPD10_gini', 'period',\n",
       "       'Model_Name', 'version', 'bad_rate', 'bu_bureau_score_FPD30_gini',\n",
       "       'bu_bureau_score_FSPD30_gini', 'bu_bureau_score_FSTPD30_gini'],\n",
       "      dtype=object)"
      ]
     },
     "execution_count": 160,
     "metadata": {},
     "output_type": "execute_result"
    }
   ],
   "source": [
    "import functools\n",
    "\n",
    "dataframes = [M1FPD10, M2FPD30, M3FSPD30, M4FSTPD30]\n",
    "common_columns = ['start_date', 'end_date', 'period', 'Model_Name','version', 'bad_rate']\n",
    "\n",
    "def merge_dataframes(df1, df2):\n",
    "    return pd.merge(df1, df2, on=common_columns, how='outer')\n",
    "\n",
    "final_df = functools.reduce(merge_dataframes, dataframes)\n",
    "\n",
    "final_df.columns.values"
   ]
  },
  {
   "cell_type": "code",
   "execution_count": 161,
   "metadata": {},
   "outputs": [],
   "source": [
    "final_df = final_df[['start_date', 'end_date', 'period',   'Model_Name', 'version', 'bad_rate','bu_bureau_score_FPD10_gini','bu_bureau_score_FPD30_gini',    'bu_bureau_score_FSPD30_gini', 'bu_bureau_score_FSTPD30_gini']].copy()"
   ]
  },
  {
   "cell_type": "code",
   "execution_count": 162,
   "metadata": {},
   "outputs": [
    {
     "data": {
      "text/plain": [
       "QueryJob<project=prj-prod-dataplatform, location=asia-southeast1, id=8b29ebef-453f-4202-970d-acd7386cbdcb>"
      ]
     },
     "execution_count": 162,
     "metadata": {},
     "output_type": "execute_result"
    }
   ],
   "source": [
    "sq = \"\"\"drop table if exists prj-prod-dataplatform.dap_ds_poweruser_playground.Model_gini_bu_bureau_score;\"\"\"\n",
    "client.query(sq)"
   ]
  },
  {
   "cell_type": "code",
   "execution_count": 163,
   "metadata": {},
   "outputs": [
    {
     "name": "stderr",
     "output_type": "stream",
     "text": [
      "C:\\Users\\Dwaipayan\\AppData\\Roaming\\Python\\Python312\\site-packages\\google\\cloud\\bigquery\\_pandas_helpers.py:483: FutureWarning: Loading pandas DataFrame into BigQuery will require pandas-gbq package version 0.26.1 or greater in the future. Tried to import pandas-gbq and got: No module named 'pandas_gbq'\n",
      "  warnings.warn(\n"
     ]
    },
    {
     "data": {
      "text/plain": [
       "LoadJob<project=prj-prod-dataplatform, location=asia-southeast1, id=55f38dc4-4583-4dc3-b879-ba9e342effa7>"
      ]
     },
     "execution_count": 163,
     "metadata": {},
     "output_type": "execute_result"
    }
   ],
   "source": [
    "import pandas as pd\n",
    "from google.cloud import bigquery\n",
    "\n",
    "# Create a BigQuery client\n",
    "client = bigquery.Client('prj-prod-dataplatform')\n",
    "\n",
    "# Define your table schema\n",
    "table_schema = [\n",
    "    bigquery.SchemaField('start_date', 'TIMESTAMP'),\n",
    "    bigquery.SchemaField('end_date', 'TIMESTAMP'),\n",
    "    bigquery.SchemaField('period', 'STRING'),\n",
    "    bigquery.SchemaField('Model_Name', 'STRING'),\n",
    "    bigquery.SchemaField('version', 'STRING'),\n",
    "    bigquery.SchemaField('Badrate', 'STRING'),\n",
    "    bigquery.SchemaField('bu_bureau_score_FPD10_gini', 'FLOAT'),\n",
    "    bigquery.SchemaField('bu_bureau_score_FPD30_gini', 'FLOAT'),    \n",
    "    bigquery.SchemaField('bu_bureau_score_FSPD30_gini', 'FLOAT'),\n",
    "    bigquery.SchemaField('bu_bureau_score_FSTPD30_gini', 'FLOAT')\n",
    "    \n",
    "]\n",
    "\n",
    "# Create your BigQuery table\n",
    "table_id = 'prj-prod-dataplatform.dap_ds_poweruser_playground.Model_gini_bu_bureau_score'\n",
    "table = bigquery.Table(table_id, schema=table_schema)\n",
    "table = client.create_table(table)\n",
    "\n",
    "# Load your DataFrame into BigQuery\n",
    "job_config = bigquery.LoadJobConfig(\n",
    "    write_disposition='WRITE_TRUNCATE'\n",
    ")\n",
    "\n",
    "load_job = client.load_table_from_dataframe(\n",
    "    final_df, table_id, job_config=job_config\n",
    ")\n",
    "\n",
    "load_job.result()"
   ]
  },
  {
   "cell_type": "code",
   "execution_count": null,
   "metadata": {},
   "outputs": [],
   "source": []
  },
  {
   "cell_type": "code",
   "execution_count": null,
   "metadata": {},
   "outputs": [],
   "source": []
  }
 ],
 "metadata": {
  "kernelspec": {
   "display_name": "base",
   "language": "python",
   "name": "python3"
  },
  "language_info": {
   "codemirror_mode": {
    "name": "ipython",
    "version": 3
   },
   "file_extension": ".py",
   "mimetype": "text/x-python",
   "name": "python",
   "nbconvert_exporter": "python",
   "pygments_lexer": "ipython3",
   "version": "3.12.7"
  }
 },
 "nbformat": 4,
 "nbformat_minor": 2
}
