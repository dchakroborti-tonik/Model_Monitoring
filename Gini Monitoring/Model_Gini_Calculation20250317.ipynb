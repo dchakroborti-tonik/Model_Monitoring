{
 "cells": [
  {
   "cell_type": "markdown",
   "metadata": {},
   "source": [
    "# <center> Model Gini Calculation </center>"
   ]
  },
  {
   "cell_type": "code",
   "execution_count": 1,
   "metadata": {},
   "outputs": [],
   "source": [
    "# %% [markdown]\n",
    "# # Jupyter Notebook Loading Header\n",
    "#\n",
    "# This is a custom loading header for Jupyter Notebooks in Visual Studio Code.\n",
    "# It includes common imports and settings to get you started quickly.\n",
    "\n",
    "# %% [markdown]\n",
    "## Import Libraries\n",
    "import pandas as pd\n",
    "import numpy as np\n",
    "import matplotlib.pyplot as plt\n",
    "import seaborn as sns\n",
    "from google.cloud import bigquery\n",
    "from google.cloud import storage\n",
    "import os\n",
    "path = r'C:\\Users\\DwaipayanChakroborti\\AppData\\Roaming\\gcloud\\legacy_credentials\\dchakroborti@tonikbank.com\\adc.json'\n",
    "os.environ['GOOGLE_APPLICATION_CREDENTIALS'] = path\n",
    "client = bigquery.Client(project='prj-prod-dataplatform')\n",
    "\n",
    "from sklearn.metrics import roc_auc_score\n",
    "from datetime import datetime, timedelta\n",
    "# %% [markdown]\n",
    "## Configure Settings\n",
    "# Set options or configurations as needed\n",
    "# Example: pd.set_option('display.max_columns', None)"
   ]
  },
  {
   "cell_type": "markdown",
   "metadata": {},
   "source": [
    "# Function"
   ]
  },
  {
   "cell_type": "markdown",
   "metadata": {},
   "source": [
    "## calculate_gini_for_threedigitscore"
   ]
  },
  {
   "cell_type": "code",
   "execution_count": 2,
   "metadata": {},
   "outputs": [],
   "source": [
    "# def calculate_gini_for_threedigitscore(scores, labels):\n",
    "#     \"\"\"\n",
    "#     Calculate Gini coefficient for three-digit scores and binary labels\n",
    "    \n",
    "#     Parameters:\n",
    "#     scores: array-like, three-digit scores (higher is better)\n",
    "#     labels: array-like, binary values (0 or 1, where 1 indicates default)\n",
    "    \n",
    "#     Returns:\n",
    "#     float: Gini coefficient\n",
    "#     \"\"\"\n",
    "#     # Combine scores and labels into a DataFrame\n",
    "#     df = pd.DataFrame({'score': scores, 'label': labels})\n",
    "    \n",
    "#     # Sort by score in descending order (assuming higher score is better)\n",
    "#     df = df.sort_values('score', ascending=False)\n",
    "    \n",
    "#     # Calculate cumulative values\n",
    "#     total_pos = df['label'].sum()\n",
    "#     total_neg = len(df) - total_pos\n",
    "    \n",
    "#     if total_pos == 0 or total_neg == 0:\n",
    "#         return 0\n",
    "    \n",
    "#     # Calculate cumulative proportions\n",
    "#     cum_pos = df['label'].cumsum()\n",
    "#     cum_neg = np.arange(1, len(df) + 1) - cum_pos\n",
    "    \n",
    "#     # Convert to proportions\n",
    "#     cum_pos_prop = cum_pos / total_pos\n",
    "#     cum_neg_prop = cum_neg / total_neg\n",
    "    \n",
    "#     # Calculate Gini\n",
    "#     gini = 1 - np.trapz(cum_pos_prop, cum_neg_prop)\n",
    "    \n",
    "#     return gini\n",
    "\n",
    "\n",
    "## Modified one\n",
    "\n",
    "def calculate_gini_for_threedigitscore(scores, labels):\n",
    "    \"\"\"\n",
    "    Calculate Gini coefficient for three-digit scores and binary labels\n",
    "    \n",
    "    Parameters:\n",
    "    scores: array-like, three-digit scores (higher is better)\n",
    "    labels: array-like, binary values (0 or 1, where 1 indicates default)\n",
    "    \n",
    "    Returns:\n",
    "    float: Gini coefficient\n",
    "    \"\"\"\n",
    "    # Combine scores and labels into a DataFrame\n",
    "    df = pd.DataFrame({'score': scores, 'label': labels})\n",
    "    \n",
    "    # Sort by score in descending order (assuming higher score means lower risk)\n",
    "    # For default prediction, we want to sort scores in ascending order \n",
    "    # since higher default probability should correspond to higher risk\n",
    "    df = df.sort_values('score', ascending=True)  # Changed to ascending=True\n",
    "    \n",
    "    # Calculate cumulative values\n",
    "    total_pos = df['label'].sum()\n",
    "    total_neg = len(df) - total_pos\n",
    "    \n",
    "    if total_pos == 0 or total_neg == 0:\n",
    "        return 0\n",
    "    \n",
    "    # Calculate cumulative proportions\n",
    "    cum_pos = df['label'].cumsum()\n",
    "    cum_neg = np.arange(1, len(df) + 1) - cum_pos\n",
    "    \n",
    "    # Convert to proportions\n",
    "    cum_pos_prop = cum_pos / total_pos\n",
    "    cum_neg_prop = cum_neg / total_neg\n",
    "    \n",
    "    # Calculate area under curve\n",
    "    auc = np.trapz(cum_pos_prop, cum_neg_prop)\n",
    "    \n",
    "    # Calculate Gini\n",
    "    gini = 2 * auc - 1\n",
    "    \n",
    "    return gini"
   ]
  },
  {
   "cell_type": "markdown",
   "metadata": {},
   "source": [
    "## calculate_gini"
   ]
  },
  {
   "cell_type": "code",
   "execution_count": 3,
   "metadata": {},
   "outputs": [],
   "source": [
    "def calculate_gini(pd_scores, bad_indicators):\n",
    "    \"\"\"\n",
    "    Calculate Gini coefficient from scores and binary indicators\n",
    "    \n",
    "    Parameters:\n",
    "    pd_scores: array-like of scores/probabilities\n",
    "    bad_indicators: array-like of binary outcomes (0/1)\n",
    "    \n",
    "    Returns:\n",
    "    float: Gini coefficient\n",
    "    \"\"\"\n",
    "    # Convert inputs to numpy arrays and ensure they're numeric\n",
    "    pd_scores = np.array(pd_scores, dtype=float)\n",
    "    bad_indicators = np.array(bad_indicators, dtype=int)\n",
    "    \n",
    "    # Check for valid input data\n",
    "    if len(pd_scores) == 0 or len(bad_indicators) == 0:\n",
    "        return np.nan\n",
    "    \n",
    "    # Check if we have both good and bad cases (needed for ROC AUC)\n",
    "    if len(np.unique(bad_indicators)) < 2:\n",
    "        return np.nan\n",
    "    \n",
    "    # Calculate AUC using sklearn\n",
    "    try:\n",
    "        auc = roc_auc_score(bad_indicators, pd_scores)\n",
    "        # Calculate Gini from AUC\n",
    "        gini = 2 * auc - 1\n",
    "        return gini\n",
    "    except ValueError:\n",
    "        return np.nan"
   ]
  },
  {
   "cell_type": "markdown",
   "metadata": {},
   "source": [
    "## calculate_hybrid_gini"
   ]
  },
  {
   "cell_type": "code",
   "execution_count": 4,
   "metadata": {},
   "outputs": [],
   "source": [
    "# def calculate_hybrid_gini(scores, labels):\n",
    "#     \"\"\"\n",
    "#     Calculate Gini coefficient handling both PD values and three-digit scores\n",
    "    \n",
    "#     Parameters:\n",
    "#     scores: array-like, contains either PD values (0-1) or three-digit scores\n",
    "#     labels: array-like, binary values (0 or 1, where 1 indicates default)\n",
    "    \n",
    "#     Returns:\n",
    "#     float: Gini coefficient\n",
    "#     \"\"\"\n",
    "#     # Convert inputs to numpy arrays\n",
    "#     scores = np.array(scores, dtype=float)\n",
    "#     labels = np.array(labels, dtype=int)\n",
    "    \n",
    "#     # Basic validation\n",
    "#     if len(scores) == 0 or len(labels) == 0:\n",
    "#         return np.nan\n",
    "    \n",
    "#     if len(np.unique(labels)) < 2:\n",
    "#         return np.nan\n",
    "        \n",
    "#     # Determine if scores are PD values or three-digit scores\n",
    "#     # PD values are between 0 and 1\n",
    "#     is_pd = np.all((scores >= 0) & (scores <= 1))\n",
    "    \n",
    "#     if is_pd:\n",
    "#         try:\n",
    "#             auc = roc_auc_score(labels, scores)\n",
    "#             gini = 2 * auc - 1\n",
    "#             return gini\n",
    "#         except ValueError:\n",
    "#             return np.nan\n",
    "#     else:\n",
    "#         # Handle as three-digit score\n",
    "#         df = pd.DataFrame({'score': scores, 'label': labels})\n",
    "#         df = df.sort_values('score', ascending=False)\n",
    "        \n",
    "#         total_pos = df['label'].sum()\n",
    "#         total_neg = len(df) - total_pos\n",
    "        \n",
    "#         if total_pos == 0 or total_neg == 0:\n",
    "#             return np.nan\n",
    "        \n",
    "#         cum_pos = df['label'].cumsum()\n",
    "#         cum_neg = np.arange(1, len(df) + 1) - cum_pos\n",
    "        \n",
    "#         cum_pos_prop = cum_pos / total_pos\n",
    "#         cum_neg_prop = cum_neg / total_neg\n",
    "        \n",
    "#         gini = 1 - np.trapz(cum_pos_prop, cum_neg_prop)\n",
    "#         return gini\n",
    "\n",
    "## Modified one\n",
    "\n",
    "def calculate_hybrid_gini(scores, labels):\n",
    "    \"\"\"\n",
    "    Calculate Gini coefficient handling both PD values and three-digit scores\n",
    "    \n",
    "    Parameters:\n",
    "    scores: array-like, contains either PD values (0-1) or three-digit scores\n",
    "    labels: array-like, binary values (0 or 1, where 1 indicates default)\n",
    "    \n",
    "    Returns:\n",
    "    float: Gini coefficient\n",
    "    \"\"\"\n",
    "    # Convert inputs to numpy arrays\n",
    "    scores = np.array(scores, dtype=float)\n",
    "    labels = np.array(labels, dtype=int)\n",
    "    \n",
    "    # Basic validation\n",
    "    if len(scores) == 0 or len(labels) == 0:\n",
    "        return np.nan\n",
    "    \n",
    "    if len(np.unique(labels)) < 2:\n",
    "        return np.nan\n",
    "        \n",
    "    # Determine if scores are PD values or three-digit scores\n",
    "    # PD values are between 0 and 1\n",
    "    is_pd = np.all((scores >= 0) & (scores <= 1))\n",
    "    \n",
    "    if is_pd:\n",
    "        try:\n",
    "            auc = roc_auc_score(labels, scores)\n",
    "            gini = 2 * auc - 1\n",
    "            return gini\n",
    "        except ValueError:\n",
    "            return np.nan\n",
    "    else:\n",
    "        # Handle as three-digit score\n",
    "        df = pd.DataFrame({'score': scores, 'label': labels})\n",
    "        # Sort by score in ascending order since higher score means higher risk\n",
    "        df = df.sort_values('score', ascending=True)\n",
    "        \n",
    "        total_pos = df['label'].sum()\n",
    "        total_neg = len(df) - total_pos\n",
    "        \n",
    "        if total_pos == 0 or total_neg == 0:\n",
    "            return np.nan\n",
    "        \n",
    "        cum_pos = df['label'].cumsum()\n",
    "        cum_neg = np.arange(1, len(df) + 1) - cum_pos\n",
    "        \n",
    "        cum_pos_prop = cum_pos / total_pos\n",
    "        cum_neg_prop = cum_neg / total_neg\n",
    "        \n",
    "        # Calculate area under curve\n",
    "        auc = np.trapz(cum_pos_prop, cum_neg_prop)\n",
    "        \n",
    "        # Calculate Gini using the same formula as PD values\n",
    "        gini = 2 * auc - 1\n",
    "        return gini"
   ]
  },
  {
   "cell_type": "markdown",
   "metadata": {},
   "source": [
    "## calculate_periodic_gini_threedigit"
   ]
  },
  {
   "cell_type": "code",
   "execution_count": 5,
   "metadata": {},
   "outputs": [],
   "source": [
    "# Main processing code\n",
    "def calculate_periodic_gini_threedigit(df, score_column, label_column, namecolumn):\n",
    "    \"\"\"\n",
    "    Calculate periodic Gini coefficients\n",
    "    \n",
    "    Parameters:\n",
    "    df: DataFrame with disbursement dates and score/label columns\n",
    "    score_column: name of the score column\n",
    "    label_column: name of the label column\n",
    "    \"\"\"\n",
    "    # Ensure date is datetime type\n",
    "    df['disbursementdate'] = pd.to_datetime(df['disbursementdate'])\n",
    "    \n",
    "    # Calculate weekly Gini\n",
    "    df['week'] = df['disbursementdate'].dt.to_period('W')\n",
    "    weekly_gini = df.groupby('week').apply(\n",
    "        lambda x: calculate_gini_for_threedigitscore(x[score_column], x[label_column])\n",
    "    ).reset_index(name='gini')\n",
    "    weekly_gini['period'] = 'Week'\n",
    "    weekly_gini['start_date'] = weekly_gini['week'].apply(lambda x: x.to_timestamp())\n",
    "    weekly_gini['end_date'] = weekly_gini['start_date'] + timedelta(days=6)\n",
    "    weekly_gini = weekly_gini[['start_date', 'end_date', 'gini', 'period']]\n",
    "    \n",
    "    # Calculate monthly Gini\n",
    "    df['month'] = df['disbursementdate'].dt.to_period('M')\n",
    "    monthly_gini = df.groupby('month').apply(\n",
    "        lambda x: calculate_gini_for_threedigitscore(x[score_column], x[label_column])\n",
    "    ).reset_index(name='gini')\n",
    "    monthly_gini['period'] = 'Month'\n",
    "    monthly_gini['start_date'] = monthly_gini['month'].apply(lambda x: x.to_timestamp())\n",
    "    monthly_gini['end_date'] = monthly_gini['start_date'] + pd.DateOffset(months=1) - pd.Timedelta(days=1)\n",
    "    monthly_gini = monthly_gini[['start_date', 'end_date', 'gini', 'period']]\n",
    "    \n",
    "    # Combine and sort results\n",
    "    gini_results = pd.concat([weekly_gini, monthly_gini])\n",
    "    gini_results = gini_results.sort_values(by='start_date').reset_index(drop=True)\n",
    "    \n",
    "    # Add metadata columns\n",
    "    gini_results['Model_Name'] = score_column\n",
    "    gini_results['version'] = '1.1.0'\n",
    "    gini_results['bad_rate'] = namecolumn\n",
    "    gini_results.rename(columns={'gini': f'{score_column}_{namecolumn}_gini'}, inplace=True)\n",
    "    \n",
    "    return gini_results"
   ]
  },
  {
   "cell_type": "markdown",
   "metadata": {},
   "source": [
    "## calculate_periodic_gini"
   ]
  },
  {
   "cell_type": "code",
   "execution_count": 6,
   "metadata": {},
   "outputs": [],
   "source": [
    "def calculate_periodic_gini(df, score_column, label_column, namecolumn):\n",
    "    \"\"\"\n",
    "    Calculate periodic Gini coefficients\n",
    "    \n",
    "    Parameters:\n",
    "    df: DataFrame with disbursement dates and score/label columns\n",
    "    score_column: name of the score column\n",
    "    label_column: name of the label column\n",
    "    \"\"\"\n",
    "    # Input validation\n",
    "    required_columns = ['disbursementdate', score_column, label_column]\n",
    "    if not all(col in df.columns for col in required_columns):\n",
    "        raise ValueError(f\"Missing required columns. Need: {required_columns}\")\n",
    "        \n",
    "    # Create a copy to avoid modifying original dataframe\n",
    "    df = df.copy()\n",
    "    \n",
    "    # Ensure date is datetime type\n",
    "    df['disbursementdate'] = pd.to_datetime(df['disbursementdate'])\n",
    "    \n",
    "    # Ensure score and label columns are numeric\n",
    "    df[score_column] = pd.to_numeric(df[score_column], errors='coerce')\n",
    "    df[label_column] = pd.to_numeric(df[label_column], errors='coerce')\n",
    "    \n",
    "    # Drop rows with invalid values\n",
    "    df = df.dropna(subset=[score_column, label_column])\n",
    "    \n",
    "    # Calculate weekly Gini\n",
    "    df['week'] = df['disbursementdate'].dt.to_period('W')\n",
    "    weekly_gini = df.groupby('week').apply(\n",
    "        lambda x: calculate_gini(x[score_column], x[label_column])\n",
    "        if len(x) >= 10 else np.nan  # Only calculate if we have enough samples\n",
    "    ).reset_index(name='gini')\n",
    "    weekly_gini['period'] = 'Week'\n",
    "    weekly_gini['start_date'] = weekly_gini['week'].apply(lambda x: x.to_timestamp())\n",
    "    weekly_gini['end_date'] = weekly_gini['start_date'] + timedelta(days=6)\n",
    "    weekly_gini = weekly_gini[['start_date', 'end_date', 'gini', 'period']]\n",
    "    \n",
    "    # Calculate monthly Gini\n",
    "    df['month'] = df['disbursementdate'].dt.to_period('M')\n",
    "    monthly_gini = df.groupby('month').apply(\n",
    "        lambda x: calculate_gini(x[score_column], x[label_column])\n",
    "        if len(x) >= 20 else np.nan  # Only calculate if we have enough samples\n",
    "    ).reset_index(name='gini')\n",
    "    monthly_gini['period'] = 'Month'\n",
    "    monthly_gini['start_date'] = monthly_gini['month'].apply(lambda x: x.to_timestamp())\n",
    "    monthly_gini['end_date'] = monthly_gini['start_date'] + pd.DateOffset(months=1) - pd.Timedelta(days=1)\n",
    "    monthly_gini = monthly_gini[['start_date', 'end_date', 'gini', 'period']]\n",
    "    \n",
    "    # Combine and sort results\n",
    "    gini_results = pd.concat([weekly_gini, monthly_gini])\n",
    "    gini_results = gini_results.sort_values(by='start_date').reset_index(drop=True)\n",
    "    \n",
    "    # Add metadata columns\n",
    "    gini_results['Model_Name'] = score_column\n",
    "    gini_results['version'] = '1.1.0'\n",
    "    gini_results['bad_rate'] = namecolumn\n",
    "    gini_results.rename(columns={'gini': f'{score_column}_{namecolumn}_gini'}, inplace=True)\n",
    "    \n",
    "    return gini_results"
   ]
  },
  {
   "cell_type": "markdown",
   "metadata": {},
   "source": [
    "## calculate_periodic_hybrid_gini"
   ]
  },
  {
   "cell_type": "code",
   "execution_count": 7,
   "metadata": {},
   "outputs": [],
   "source": [
    "def calculate_periodic_hybrid_gini(df, score_column, label_column, namecolumn):\n",
    "    \"\"\"\n",
    "    Calculate periodic Gini coefficients for mixed score types\n",
    "    \n",
    "    Parameters:\n",
    "    df: DataFrame with disbursement dates and score/label columns\n",
    "    score_column: name of the score column\n",
    "    label_column: name of the label column\n",
    "    \"\"\"\n",
    "    # Input validation\n",
    "    required_columns = ['disbursementdate', score_column, label_column]\n",
    "    if not all(col in df.columns for col in required_columns):\n",
    "        raise ValueError(f\"Missing required columns. Need: {required_columns}\")\n",
    "        \n",
    "    # Create a copy to avoid modifying original dataframe\n",
    "    df = df.copy()\n",
    "    \n",
    "    # Ensure date is datetime type\n",
    "    df['disbursementdate'] = pd.to_datetime(df['disbursementdate'])\n",
    "    \n",
    "    # Ensure score and label columns are numeric\n",
    "    df[score_column] = pd.to_numeric(df[score_column], errors='coerce')\n",
    "    df[label_column] = pd.to_numeric(df[label_column], errors='coerce')\n",
    "    \n",
    "    # Drop rows with invalid values\n",
    "    df = df.dropna(subset=[score_column, label_column])\n",
    "    \n",
    "    # Calculate weekly Gini\n",
    "    df['week'] = df['disbursementdate'].dt.to_period('W')\n",
    "    weekly_gini = df.groupby('week').apply(\n",
    "        lambda x: calculate_hybrid_gini(x[score_column], x[label_column])\n",
    "        if len(x) >= 10 else np.nan  # Only calculate if we have enough samples\n",
    "    ).reset_index(name='gini')\n",
    "    weekly_gini['period'] = 'Week'\n",
    "    weekly_gini['start_date'] = weekly_gini['week'].apply(lambda x: x.to_timestamp())\n",
    "    weekly_gini['end_date'] = weekly_gini['start_date'] + pd.Timedelta(days=6)\n",
    "    weekly_gini = weekly_gini[['start_date', 'end_date', 'gini', 'period']]\n",
    "    \n",
    "    # Calculate monthly Gini\n",
    "    df['month'] = df['disbursementdate'].dt.to_period('M')\n",
    "    monthly_gini = df.groupby('month').apply(\n",
    "        lambda x: calculate_hybrid_gini(x[score_column], x[label_column])\n",
    "        if len(x) >= 20 else np.nan  # Only calculate if we have enough samples\n",
    "    ).reset_index(name='gini')\n",
    "    monthly_gini['period'] = 'Month'\n",
    "    monthly_gini['start_date'] = monthly_gini['month'].apply(lambda x: x.to_timestamp())\n",
    "    monthly_gini['end_date'] = monthly_gini['start_date'] + pd.DateOffset(months=1) - pd.Timedelta(days=1)\n",
    "    monthly_gini = monthly_gini[['start_date', 'end_date', 'gini', 'period']]\n",
    "    \n",
    "    # Combine and sort results\n",
    "    gini_results = pd.concat([weekly_gini, monthly_gini])\n",
    "    gini_results = gini_results.sort_values(by='start_date').reset_index(drop=True)\n",
    "    \n",
    "    # Add metadata columns\n",
    "    gini_results['Model_Name'] = score_column\n",
    "    gini_results['version'] = '1.1.0'\n",
    "    gini_results['bad_rate'] = namecolumn\n",
    "    gini_results.rename(columns={'gini': f'{score_column}_{namecolumn}_gini'}, inplace=True)\n",
    "    \n",
    "    return gini_results"
   ]
  },
  {
   "cell_type": "markdown",
   "metadata": {},
   "source": [
    "# App Score FPD10"
   ]
  },
  {
   "cell_type": "code",
   "execution_count": 9,
   "metadata": {},
   "outputs": [
    {
     "name": "stdout",
     "output_type": "stream",
     "text": [
      "Job ID ece40ffb-d255-4884-a606-37512642eab2 successfully executed: 100%|\u001b[32m██████████\u001b[0m|"
     ]
    },
    {
     "name": "stderr",
     "output_type": "stream",
     "text": [
      "d:\\Anaconda3\\envs\\inc_env\\lib\\site-packages\\google\\cloud\\bigquery\\table.py:1820: UserWarning: BigQuery Storage module not found, fetch data with the REST endpoint instead.\n",
      "  warnings.warn(\n"
     ]
    },
    {
     "name": "stdout",
     "output_type": "stream",
     "text": [
      "\n",
      "Downloading: 100%|\u001b[32m██████████\u001b[0m|\n"
     ]
    }
   ],
   "source": [
    "sq = \"\"\"with appscore as \n",
    "(SELECT \n",
    "    ln_disb_dtime disbursementdate,\n",
    "\tdigitalLoanAccountId,\n",
    "    apps_score s_apps_score,\n",
    "    ln_fpd10_flag,\n",
    "\tln_mature_fpd10_flag,\t\n",
    "\tFROM \n",
    "    risk_mart.sil_risk_ds_master_20230101_20250309\n",
    "  WHERE \n",
    "     -- ln_disb_dtime >= '2023-07-01'\n",
    "    ln_appln_submit_datetime >= '2023-06-01'\n",
    "  -- AND\n",
    "  --   format_date('%Y-%m', ln_disb_dtime) = '2024-09'\n",
    "  AND\n",
    "    ln_fpd10_flag is not null\n",
    "  AND\n",
    "    apps_score is not null\n",
    "  AND\n",
    "    ln_mature_fpd10_flag = 1\n",
    ")\n",
    "select * from appscore;\"\"\"\n",
    "\n",
    "dfappscorefpd10 = client.query(sq).to_dataframe(progress_bar_type = 'tqdm')"
   ]
  },
  {
   "cell_type": "code",
   "execution_count": 10,
   "metadata": {},
   "outputs": [
    {
     "data": {
      "application/vnd.microsoft.datawrangler.viewer.v0+json": {
       "columns": [
        {
         "name": "index",
         "rawType": "int64",
         "type": "integer"
        },
        {
         "name": "disbursementdate",
         "rawType": "datetime64[us]",
         "type": "unknown"
        },
        {
         "name": "digitalLoanAccountId",
         "rawType": "object",
         "type": "string"
        },
        {
         "name": "s_apps_score",
         "rawType": "float64",
         "type": "float"
        },
        {
         "name": "ln_fpd10_flag",
         "rawType": "Int64",
         "type": "integer"
        },
        {
         "name": "ln_mature_fpd10_flag",
         "rawType": "Int64",
         "type": "integer"
        }
       ],
       "conversionMethod": "pd.DataFrame",
       "ref": "cc9d0f97-c445-4125-95e9-5ee4247268da",
       "rows": [
        [
         "14407",
         "2024-11-16 09:50:59",
         "20cf42e0-1abd-491f-bc2d-372661e9d2c1",
         "0.4526895920567708",
         "0",
         "1"
        ],
        [
         "162193",
         "2024-05-07 12:14:36",
         "2dc4f4ed-aecd-4a64-b53d-75f88692ee55",
         "0.6232224962915776",
         "0",
         "1"
        ],
        [
         "26169",
         "2025-01-03 13:37:24",
         "f67ef276-19ef-4888-971e-3b1e4b44e8a1",
         "0.6103340074279393",
         "0",
         "1"
        ],
        [
         "78533",
         "2024-11-10 16:48:45",
         "e1658eb9-6d76-4813-9c20-dec47ff6b7a7",
         "0.4144066451568253",
         "0",
         "1"
        ],
        [
         "76120",
         "2024-07-16 17:16:50",
         "ad4c3304-36a9-4b44-a6c6-a9a712b4d4c1",
         "0.4571688046122007",
         "0",
         "1"
        ]
       ],
       "shape": {
        "columns": 5,
        "rows": 5
       }
      },
      "text/html": [
       "<div>\n",
       "<style scoped>\n",
       "    .dataframe tbody tr th:only-of-type {\n",
       "        vertical-align: middle;\n",
       "    }\n",
       "\n",
       "    .dataframe tbody tr th {\n",
       "        vertical-align: top;\n",
       "    }\n",
       "\n",
       "    .dataframe thead th {\n",
       "        text-align: right;\n",
       "    }\n",
       "</style>\n",
       "<table border=\"1\" class=\"dataframe\">\n",
       "  <thead>\n",
       "    <tr style=\"text-align: right;\">\n",
       "      <th></th>\n",
       "      <th>disbursementdate</th>\n",
       "      <th>digitalLoanAccountId</th>\n",
       "      <th>s_apps_score</th>\n",
       "      <th>ln_fpd10_flag</th>\n",
       "      <th>ln_mature_fpd10_flag</th>\n",
       "    </tr>\n",
       "  </thead>\n",
       "  <tbody>\n",
       "    <tr>\n",
       "      <th>14407</th>\n",
       "      <td>2024-11-16 09:50:59</td>\n",
       "      <td>20cf42e0-1abd-491f-bc2d-372661e9d2c1</td>\n",
       "      <td>0.452690</td>\n",
       "      <td>0</td>\n",
       "      <td>1</td>\n",
       "    </tr>\n",
       "    <tr>\n",
       "      <th>162193</th>\n",
       "      <td>2024-05-07 12:14:36</td>\n",
       "      <td>2dc4f4ed-aecd-4a64-b53d-75f88692ee55</td>\n",
       "      <td>0.623222</td>\n",
       "      <td>0</td>\n",
       "      <td>1</td>\n",
       "    </tr>\n",
       "    <tr>\n",
       "      <th>26169</th>\n",
       "      <td>2025-01-03 13:37:24</td>\n",
       "      <td>f67ef276-19ef-4888-971e-3b1e4b44e8a1</td>\n",
       "      <td>0.610334</td>\n",
       "      <td>0</td>\n",
       "      <td>1</td>\n",
       "    </tr>\n",
       "    <tr>\n",
       "      <th>78533</th>\n",
       "      <td>2024-11-10 16:48:45</td>\n",
       "      <td>e1658eb9-6d76-4813-9c20-dec47ff6b7a7</td>\n",
       "      <td>0.414407</td>\n",
       "      <td>0</td>\n",
       "      <td>1</td>\n",
       "    </tr>\n",
       "    <tr>\n",
       "      <th>76120</th>\n",
       "      <td>2024-07-16 17:16:50</td>\n",
       "      <td>ad4c3304-36a9-4b44-a6c6-a9a712b4d4c1</td>\n",
       "      <td>0.457169</td>\n",
       "      <td>0</td>\n",
       "      <td>1</td>\n",
       "    </tr>\n",
       "  </tbody>\n",
       "</table>\n",
       "</div>"
      ],
      "text/plain": [
       "          disbursementdate                  digitalLoanAccountId  \\\n",
       "14407  2024-11-16 09:50:59  20cf42e0-1abd-491f-bc2d-372661e9d2c1   \n",
       "162193 2024-05-07 12:14:36  2dc4f4ed-aecd-4a64-b53d-75f88692ee55   \n",
       "26169  2025-01-03 13:37:24  f67ef276-19ef-4888-971e-3b1e4b44e8a1   \n",
       "78533  2024-11-10 16:48:45  e1658eb9-6d76-4813-9c20-dec47ff6b7a7   \n",
       "76120  2024-07-16 17:16:50  ad4c3304-36a9-4b44-a6c6-a9a712b4d4c1   \n",
       "\n",
       "        s_apps_score  ln_fpd10_flag  ln_mature_fpd10_flag  \n",
       "14407       0.452690              0                     1  \n",
       "162193      0.623222              0                     1  \n",
       "26169       0.610334              0                     1  \n",
       "78533       0.414407              0                     1  \n",
       "76120       0.457169              0                     1  "
      ]
     },
     "execution_count": 10,
     "metadata": {},
     "output_type": "execute_result"
    }
   ],
   "source": [
    "dfappscorefpd10.sample(5)"
   ]
  },
  {
   "cell_type": "code",
   "execution_count": 11,
   "metadata": {},
   "outputs": [],
   "source": [
    "gini_results = calculate_periodic_gini(dfappscorefpd10, 's_apps_score', 'ln_fpd10_flag', 'FPD10')"
   ]
  },
  {
   "cell_type": "code",
   "execution_count": 12,
   "metadata": {},
   "outputs": [
    {
     "data": {
      "application/vnd.microsoft.datawrangler.viewer.v0+json": {
       "columns": [
        {
         "name": "index",
         "rawType": "int64",
         "type": "integer"
        },
        {
         "name": "start_date",
         "rawType": "datetime64[ns]",
         "type": "datetime"
        },
        {
         "name": "end_date",
         "rawType": "datetime64[ns]",
         "type": "datetime"
        },
        {
         "name": "s_apps_score_FPD10_gini",
         "rawType": "float64",
         "type": "float"
        },
        {
         "name": "period",
         "rawType": "object",
         "type": "string"
        },
        {
         "name": "Model_Name",
         "rawType": "object",
         "type": "string"
        },
        {
         "name": "version",
         "rawType": "object",
         "type": "string"
        },
        {
         "name": "bad_rate",
         "rawType": "object",
         "type": "string"
        }
       ],
       "conversionMethod": "pd.DataFrame",
       "ref": "eb561b29-b8b6-4ce7-a44f-4dd6b27ad6eb",
       "rows": [
        [
         "0",
         "2023-05-29 00:00:00",
         "2023-06-04 00:00:00",
         "0.5482295482295481",
         "Week",
         "s_apps_score",
         "1.1.0",
         "FPD10"
        ],
        [
         "1",
         "2023-06-01 00:00:00",
         "2023-06-30 00:00:00",
         "0.3846483704974273",
         "Month",
         "s_apps_score",
         "1.1.0",
         "FPD10"
        ],
        [
         "2",
         "2023-06-05 00:00:00",
         "2023-06-11 00:00:00",
         "0.5",
         "Week",
         "s_apps_score",
         "1.1.0",
         "FPD10"
        ],
        [
         "3",
         "2023-06-12 00:00:00",
         "2023-06-18 00:00:00",
         "0.5551948051948052",
         "Week",
         "s_apps_score",
         "1.1.0",
         "FPD10"
        ],
        [
         "4",
         "2023-06-19 00:00:00",
         "2023-06-25 00:00:00",
         "0.004830917874396157",
         "Week",
         "s_apps_score",
         "1.1.0",
         "FPD10"
        ]
       ],
       "shape": {
        "columns": 7,
        "rows": 5
       }
      },
      "text/html": [
       "<div>\n",
       "<style scoped>\n",
       "    .dataframe tbody tr th:only-of-type {\n",
       "        vertical-align: middle;\n",
       "    }\n",
       "\n",
       "    .dataframe tbody tr th {\n",
       "        vertical-align: top;\n",
       "    }\n",
       "\n",
       "    .dataframe thead th {\n",
       "        text-align: right;\n",
       "    }\n",
       "</style>\n",
       "<table border=\"1\" class=\"dataframe\">\n",
       "  <thead>\n",
       "    <tr style=\"text-align: right;\">\n",
       "      <th></th>\n",
       "      <th>start_date</th>\n",
       "      <th>end_date</th>\n",
       "      <th>s_apps_score_FPD10_gini</th>\n",
       "      <th>period</th>\n",
       "      <th>Model_Name</th>\n",
       "      <th>version</th>\n",
       "      <th>bad_rate</th>\n",
       "    </tr>\n",
       "  </thead>\n",
       "  <tbody>\n",
       "    <tr>\n",
       "      <th>0</th>\n",
       "      <td>2023-05-29</td>\n",
       "      <td>2023-06-04</td>\n",
       "      <td>0.548230</td>\n",
       "      <td>Week</td>\n",
       "      <td>s_apps_score</td>\n",
       "      <td>1.1.0</td>\n",
       "      <td>FPD10</td>\n",
       "    </tr>\n",
       "    <tr>\n",
       "      <th>1</th>\n",
       "      <td>2023-06-01</td>\n",
       "      <td>2023-06-30</td>\n",
       "      <td>0.384648</td>\n",
       "      <td>Month</td>\n",
       "      <td>s_apps_score</td>\n",
       "      <td>1.1.0</td>\n",
       "      <td>FPD10</td>\n",
       "    </tr>\n",
       "    <tr>\n",
       "      <th>2</th>\n",
       "      <td>2023-06-05</td>\n",
       "      <td>2023-06-11</td>\n",
       "      <td>0.500000</td>\n",
       "      <td>Week</td>\n",
       "      <td>s_apps_score</td>\n",
       "      <td>1.1.0</td>\n",
       "      <td>FPD10</td>\n",
       "    </tr>\n",
       "    <tr>\n",
       "      <th>3</th>\n",
       "      <td>2023-06-12</td>\n",
       "      <td>2023-06-18</td>\n",
       "      <td>0.555195</td>\n",
       "      <td>Week</td>\n",
       "      <td>s_apps_score</td>\n",
       "      <td>1.1.0</td>\n",
       "      <td>FPD10</td>\n",
       "    </tr>\n",
       "    <tr>\n",
       "      <th>4</th>\n",
       "      <td>2023-06-19</td>\n",
       "      <td>2023-06-25</td>\n",
       "      <td>0.004831</td>\n",
       "      <td>Week</td>\n",
       "      <td>s_apps_score</td>\n",
       "      <td>1.1.0</td>\n",
       "      <td>FPD10</td>\n",
       "    </tr>\n",
       "  </tbody>\n",
       "</table>\n",
       "</div>"
      ],
      "text/plain": [
       "  start_date   end_date  s_apps_score_FPD10_gini period    Model_Name version  \\\n",
       "0 2023-05-29 2023-06-04                 0.548230   Week  s_apps_score   1.1.0   \n",
       "1 2023-06-01 2023-06-30                 0.384648  Month  s_apps_score   1.1.0   \n",
       "2 2023-06-05 2023-06-11                 0.500000   Week  s_apps_score   1.1.0   \n",
       "3 2023-06-12 2023-06-18                 0.555195   Week  s_apps_score   1.1.0   \n",
       "4 2023-06-19 2023-06-25                 0.004831   Week  s_apps_score   1.1.0   \n",
       "\n",
       "  bad_rate  \n",
       "0    FPD10  \n",
       "1    FPD10  \n",
       "2    FPD10  \n",
       "3    FPD10  \n",
       "4    FPD10  "
      ]
     },
     "execution_count": 12,
     "metadata": {},
     "output_type": "execute_result"
    }
   ],
   "source": [
    "gini_results.head()"
   ]
  },
  {
   "cell_type": "code",
   "execution_count": 13,
   "metadata": {},
   "outputs": [
    {
     "name": "stdout",
     "output_type": "stream",
     "text": [
      "The shape of dataframe after copy is:\t(108, 7)\n"
     ]
    },
    {
     "data": {
      "text/plain": [
       "array(['start_date', 'end_date', 's_apps_score_FPD10_gini', 'period',\n",
       "       'Model_Name', 'version', 'bad_rate'], dtype=object)"
      ]
     },
     "execution_count": 13,
     "metadata": {},
     "output_type": "execute_result"
    }
   ],
   "source": [
    "appscoreFPD10 = gini_results.copy()\n",
    "print(f\"The shape of dataframe after copy is:\\t{appscoreFPD10.shape}\")\n",
    "appscoreFPD10.columns.values"
   ]
  },
  {
   "cell_type": "code",
   "execution_count": 14,
   "metadata": {},
   "outputs": [
    {
     "data": {
      "application/vnd.microsoft.datawrangler.viewer.v0+json": {
       "columns": [
        {
         "name": "index",
         "rawType": "int64",
         "type": "integer"
        },
        {
         "name": "start_date",
         "rawType": "datetime64[ns]",
         "type": "datetime"
        },
        {
         "name": "end_date",
         "rawType": "datetime64[ns]",
         "type": "datetime"
        },
        {
         "name": "s_apps_score_FPD10_gini",
         "rawType": "float64",
         "type": "float"
        },
        {
         "name": "period",
         "rawType": "object",
         "type": "string"
        },
        {
         "name": "Model_Name",
         "rawType": "object",
         "type": "string"
        },
        {
         "name": "version",
         "rawType": "object",
         "type": "string"
        },
        {
         "name": "bad_rate",
         "rawType": "object",
         "type": "string"
        }
       ],
       "conversionMethod": "pd.DataFrame",
       "ref": "905c2a65-d0e6-4b56-ae73-52f0df63f54c",
       "rows": [
        [
         "0",
         "2023-05-29 00:00:00",
         "2023-06-04 00:00:00",
         "0.5482295482295481",
         "Week",
         "s_apps_score",
         "1.1.0",
         "FPD10"
        ],
        [
         "1",
         "2023-06-01 00:00:00",
         "2023-06-30 00:00:00",
         "0.3846483704974273",
         "Month",
         "s_apps_score",
         "1.1.0",
         "FPD10"
        ],
        [
         "2",
         "2023-06-05 00:00:00",
         "2023-06-11 00:00:00",
         "0.5",
         "Week",
         "s_apps_score",
         "1.1.0",
         "FPD10"
        ],
        [
         "3",
         "2023-06-12 00:00:00",
         "2023-06-18 00:00:00",
         "0.5551948051948052",
         "Week",
         "s_apps_score",
         "1.1.0",
         "FPD10"
        ],
        [
         "4",
         "2023-06-19 00:00:00",
         "2023-06-25 00:00:00",
         "0.004830917874396157",
         "Week",
         "s_apps_score",
         "1.1.0",
         "FPD10"
        ]
       ],
       "shape": {
        "columns": 7,
        "rows": 5
       }
      },
      "text/html": [
       "<div>\n",
       "<style scoped>\n",
       "    .dataframe tbody tr th:only-of-type {\n",
       "        vertical-align: middle;\n",
       "    }\n",
       "\n",
       "    .dataframe tbody tr th {\n",
       "        vertical-align: top;\n",
       "    }\n",
       "\n",
       "    .dataframe thead th {\n",
       "        text-align: right;\n",
       "    }\n",
       "</style>\n",
       "<table border=\"1\" class=\"dataframe\">\n",
       "  <thead>\n",
       "    <tr style=\"text-align: right;\">\n",
       "      <th></th>\n",
       "      <th>start_date</th>\n",
       "      <th>end_date</th>\n",
       "      <th>s_apps_score_FPD10_gini</th>\n",
       "      <th>period</th>\n",
       "      <th>Model_Name</th>\n",
       "      <th>version</th>\n",
       "      <th>bad_rate</th>\n",
       "    </tr>\n",
       "  </thead>\n",
       "  <tbody>\n",
       "    <tr>\n",
       "      <th>0</th>\n",
       "      <td>2023-05-29</td>\n",
       "      <td>2023-06-04</td>\n",
       "      <td>0.548230</td>\n",
       "      <td>Week</td>\n",
       "      <td>s_apps_score</td>\n",
       "      <td>1.1.0</td>\n",
       "      <td>FPD10</td>\n",
       "    </tr>\n",
       "    <tr>\n",
       "      <th>1</th>\n",
       "      <td>2023-06-01</td>\n",
       "      <td>2023-06-30</td>\n",
       "      <td>0.384648</td>\n",
       "      <td>Month</td>\n",
       "      <td>s_apps_score</td>\n",
       "      <td>1.1.0</td>\n",
       "      <td>FPD10</td>\n",
       "    </tr>\n",
       "    <tr>\n",
       "      <th>2</th>\n",
       "      <td>2023-06-05</td>\n",
       "      <td>2023-06-11</td>\n",
       "      <td>0.500000</td>\n",
       "      <td>Week</td>\n",
       "      <td>s_apps_score</td>\n",
       "      <td>1.1.0</td>\n",
       "      <td>FPD10</td>\n",
       "    </tr>\n",
       "    <tr>\n",
       "      <th>3</th>\n",
       "      <td>2023-06-12</td>\n",
       "      <td>2023-06-18</td>\n",
       "      <td>0.555195</td>\n",
       "      <td>Week</td>\n",
       "      <td>s_apps_score</td>\n",
       "      <td>1.1.0</td>\n",
       "      <td>FPD10</td>\n",
       "    </tr>\n",
       "    <tr>\n",
       "      <th>4</th>\n",
       "      <td>2023-06-19</td>\n",
       "      <td>2023-06-25</td>\n",
       "      <td>0.004831</td>\n",
       "      <td>Week</td>\n",
       "      <td>s_apps_score</td>\n",
       "      <td>1.1.0</td>\n",
       "      <td>FPD10</td>\n",
       "    </tr>\n",
       "  </tbody>\n",
       "</table>\n",
       "</div>"
      ],
      "text/plain": [
       "  start_date   end_date  s_apps_score_FPD10_gini period    Model_Name version  \\\n",
       "0 2023-05-29 2023-06-04                 0.548230   Week  s_apps_score   1.1.0   \n",
       "1 2023-06-01 2023-06-30                 0.384648  Month  s_apps_score   1.1.0   \n",
       "2 2023-06-05 2023-06-11                 0.500000   Week  s_apps_score   1.1.0   \n",
       "3 2023-06-12 2023-06-18                 0.555195   Week  s_apps_score   1.1.0   \n",
       "4 2023-06-19 2023-06-25                 0.004831   Week  s_apps_score   1.1.0   \n",
       "\n",
       "  bad_rate  \n",
       "0    FPD10  \n",
       "1    FPD10  \n",
       "2    FPD10  \n",
       "3    FPD10  \n",
       "4    FPD10  "
      ]
     },
     "execution_count": 14,
     "metadata": {},
     "output_type": "execute_result"
    }
   ],
   "source": [
    "gini_results.head()"
   ]
  },
  {
   "cell_type": "markdown",
   "metadata": {},
   "source": [
    "# App Score FPD30"
   ]
  },
  {
   "cell_type": "code",
   "execution_count": 15,
   "metadata": {},
   "outputs": [
    {
     "name": "stdout",
     "output_type": "stream",
     "text": [
      "Job ID 9a5b3864-a8ac-4bf3-9f21-2dab53aea571 successfully executed: 100%|\u001b[32m██████████\u001b[0m|"
     ]
    },
    {
     "name": "stderr",
     "output_type": "stream",
     "text": [
      "d:\\Anaconda3\\envs\\inc_env\\lib\\site-packages\\google\\cloud\\bigquery\\table.py:1820: UserWarning: BigQuery Storage module not found, fetch data with the REST endpoint instead.\n",
      "  warnings.warn(\n"
     ]
    },
    {
     "name": "stdout",
     "output_type": "stream",
     "text": [
      "\n",
      "Downloading: 100%|\u001b[32m██████████\u001b[0m|\n"
     ]
    }
   ],
   "source": [
    "sq = \"\"\"\n",
    "with appscore as \n",
    "(SELECT \n",
    "    ln_disb_dtime disbursementdate,\n",
    "\tdigitalLoanAccountId,\n",
    "    apps_score s_apps_score,\n",
    "    ln_fpd30_flag,\n",
    "\tln_mature_fpd30_flag,\t\n",
    "\tFROM \n",
    "    risk_mart.sil_risk_ds_master_20230101_20250309\n",
    "  WHERE \n",
    "     -- ln_disb_dtime >= '2023-07-01'\n",
    "    ln_appln_submit_datetime >= '2023-06-01'\n",
    "  -- AND\n",
    "  --   format_date('%Y-%m', ln_disb_dtime) = '2024-09'\n",
    "  AND\n",
    "    ln_fpd30_flag is not null\n",
    "  AND\n",
    "    apps_score is not null\n",
    "  AND\n",
    "    ln_mature_fpd30_flag = 1\n",
    ")\n",
    "select * from appscore;\n",
    "\"\"\"\n",
    "\n",
    "dfappscorefpd30 = client.query(sq).to_dataframe(progress_bar_type = 'tqdm')"
   ]
  },
  {
   "cell_type": "code",
   "execution_count": 16,
   "metadata": {},
   "outputs": [
    {
     "data": {
      "application/vnd.microsoft.datawrangler.viewer.v0+json": {
       "columns": [
        {
         "name": "index",
         "rawType": "int64",
         "type": "integer"
        },
        {
         "name": "disbursementdate",
         "rawType": "datetime64[us]",
         "type": "unknown"
        },
        {
         "name": "digitalLoanAccountId",
         "rawType": "object",
         "type": "string"
        },
        {
         "name": "s_apps_score",
         "rawType": "float64",
         "type": "float"
        },
        {
         "name": "ln_fpd30_flag",
         "rawType": "Int64",
         "type": "integer"
        },
        {
         "name": "ln_mature_fpd30_flag",
         "rawType": "Int64",
         "type": "integer"
        }
       ],
       "conversionMethod": "pd.DataFrame",
       "ref": "b712a09c-5f00-4f13-9863-1ed1cb6b8df7",
       "rows": [
        [
         "0",
         "2023-06-10 16:10:58",
         "361d32b4-00b3-4ac6-a9a0-99e1481c1d0c",
         "0.41002863466571743",
         "0",
         "1"
        ],
        [
         "1",
         "2023-06-13 11:53:20",
         "2b68c9d3-5a5c-4f09-be5f-b6a76c13cd31",
         "0.6268950245643305",
         "0",
         "1"
        ],
        [
         "2",
         "2023-06-13 12:05:25",
         "64fe2c12-ff01-4f3b-9730-fe13f42787e8",
         "0.40432839889489847",
         "0",
         "1"
        ],
        [
         "3",
         "2023-06-04 14:08:26",
         "2b0786f2-4b06-4209-9fc0-cf2506d2306c",
         "0.384937709960681",
         "0",
         "1"
        ],
        [
         "4",
         "2023-06-13 17:23:51",
         "68da4d62-08c4-4eb9-87f3-bece188fc077",
         "0.48191637085991246",
         "0",
         "1"
        ]
       ],
       "shape": {
        "columns": 5,
        "rows": 5
       }
      },
      "text/html": [
       "<div>\n",
       "<style scoped>\n",
       "    .dataframe tbody tr th:only-of-type {\n",
       "        vertical-align: middle;\n",
       "    }\n",
       "\n",
       "    .dataframe tbody tr th {\n",
       "        vertical-align: top;\n",
       "    }\n",
       "\n",
       "    .dataframe thead th {\n",
       "        text-align: right;\n",
       "    }\n",
       "</style>\n",
       "<table border=\"1\" class=\"dataframe\">\n",
       "  <thead>\n",
       "    <tr style=\"text-align: right;\">\n",
       "      <th></th>\n",
       "      <th>disbursementdate</th>\n",
       "      <th>digitalLoanAccountId</th>\n",
       "      <th>s_apps_score</th>\n",
       "      <th>ln_fpd30_flag</th>\n",
       "      <th>ln_mature_fpd30_flag</th>\n",
       "    </tr>\n",
       "  </thead>\n",
       "  <tbody>\n",
       "    <tr>\n",
       "      <th>0</th>\n",
       "      <td>2023-06-10 16:10:58</td>\n",
       "      <td>361d32b4-00b3-4ac6-a9a0-99e1481c1d0c</td>\n",
       "      <td>0.410029</td>\n",
       "      <td>0</td>\n",
       "      <td>1</td>\n",
       "    </tr>\n",
       "    <tr>\n",
       "      <th>1</th>\n",
       "      <td>2023-06-13 11:53:20</td>\n",
       "      <td>2b68c9d3-5a5c-4f09-be5f-b6a76c13cd31</td>\n",
       "      <td>0.626895</td>\n",
       "      <td>0</td>\n",
       "      <td>1</td>\n",
       "    </tr>\n",
       "    <tr>\n",
       "      <th>2</th>\n",
       "      <td>2023-06-13 12:05:25</td>\n",
       "      <td>64fe2c12-ff01-4f3b-9730-fe13f42787e8</td>\n",
       "      <td>0.404328</td>\n",
       "      <td>0</td>\n",
       "      <td>1</td>\n",
       "    </tr>\n",
       "    <tr>\n",
       "      <th>3</th>\n",
       "      <td>2023-06-04 14:08:26</td>\n",
       "      <td>2b0786f2-4b06-4209-9fc0-cf2506d2306c</td>\n",
       "      <td>0.384938</td>\n",
       "      <td>0</td>\n",
       "      <td>1</td>\n",
       "    </tr>\n",
       "    <tr>\n",
       "      <th>4</th>\n",
       "      <td>2023-06-13 17:23:51</td>\n",
       "      <td>68da4d62-08c4-4eb9-87f3-bece188fc077</td>\n",
       "      <td>0.481916</td>\n",
       "      <td>0</td>\n",
       "      <td>1</td>\n",
       "    </tr>\n",
       "  </tbody>\n",
       "</table>\n",
       "</div>"
      ],
      "text/plain": [
       "     disbursementdate                  digitalLoanAccountId  s_apps_score  \\\n",
       "0 2023-06-10 16:10:58  361d32b4-00b3-4ac6-a9a0-99e1481c1d0c      0.410029   \n",
       "1 2023-06-13 11:53:20  2b68c9d3-5a5c-4f09-be5f-b6a76c13cd31      0.626895   \n",
       "2 2023-06-13 12:05:25  64fe2c12-ff01-4f3b-9730-fe13f42787e8      0.404328   \n",
       "3 2023-06-04 14:08:26  2b0786f2-4b06-4209-9fc0-cf2506d2306c      0.384938   \n",
       "4 2023-06-13 17:23:51  68da4d62-08c4-4eb9-87f3-bece188fc077      0.481916   \n",
       "\n",
       "   ln_fpd30_flag  ln_mature_fpd30_flag  \n",
       "0              0                     1  \n",
       "1              0                     1  \n",
       "2              0                     1  \n",
       "3              0                     1  \n",
       "4              0                     1  "
      ]
     },
     "execution_count": 16,
     "metadata": {},
     "output_type": "execute_result"
    }
   ],
   "source": [
    "dfappscorefpd30.head()"
   ]
  },
  {
   "cell_type": "code",
   "execution_count": 17,
   "metadata": {},
   "outputs": [
    {
     "name": "stdout",
     "output_type": "stream",
     "text": [
      "The shape of dataframe after copy is:\t(102, 7)\n"
     ]
    },
    {
     "data": {
      "text/plain": [
       "array(['start_date', 'end_date', 's_apps_score_FPD30_gini', 'period',\n",
       "       'Model_Name', 'version', 'bad_rate'], dtype=object)"
      ]
     },
     "execution_count": 17,
     "metadata": {},
     "output_type": "execute_result"
    }
   ],
   "source": [
    "gini_results = calculate_periodic_gini(dfappscorefpd30, 's_apps_score', 'ln_fpd30_flag', 'FPD30')\n",
    "# gini_results['bad_rate'] = 'FPD30'\n",
    "appscoreFPD30 = gini_results.copy()\n",
    "print(f\"The shape of dataframe after copy is:\\t{appscoreFPD30.shape}\")\n",
    "appscoreFPD30.columns.values"
   ]
  },
  {
   "cell_type": "code",
   "execution_count": 19,
   "metadata": {},
   "outputs": [
    {
     "data": {
      "application/vnd.microsoft.datawrangler.viewer.v0+json": {
       "columns": [
        {
         "name": "index",
         "rawType": "int64",
         "type": "integer"
        },
        {
         "name": "start_date",
         "rawType": "datetime64[ns]",
         "type": "datetime"
        },
        {
         "name": "end_date",
         "rawType": "datetime64[ns]",
         "type": "datetime"
        },
        {
         "name": "s_apps_score_FPD30_gini",
         "rawType": "float64",
         "type": "float"
        },
        {
         "name": "period",
         "rawType": "object",
         "type": "string"
        },
        {
         "name": "Model_Name",
         "rawType": "object",
         "type": "string"
        },
        {
         "name": "version",
         "rawType": "object",
         "type": "string"
        },
        {
         "name": "bad_rate",
         "rawType": "object",
         "type": "string"
        }
       ],
       "conversionMethod": "pd.DataFrame",
       "ref": "584f7b62-553c-462e-a4a9-d5e1a0f6191d",
       "rows": [
        [
         "77",
         "2024-08-05 00:00:00",
         "2024-08-11 00:00:00",
         "0.2988749023738779",
         "Week",
         "s_apps_score",
         "1.1.0",
         "FPD30"
        ],
        [
         "57",
         "2024-04-15 00:00:00",
         "2024-04-21 00:00:00",
         "0.41676371176186544",
         "Week",
         "s_apps_score",
         "1.1.0",
         "FPD30"
        ],
        [
         "72",
         "2024-07-08 00:00:00",
         "2024-07-14 00:00:00",
         "0.31921546540167456",
         "Week",
         "s_apps_score",
         "1.1.0",
         "FPD30"
        ],
        [
         "64",
         "2024-05-27 00:00:00",
         "2024-06-02 00:00:00",
         "0.4387850527564945",
         "Week",
         "s_apps_score",
         "1.1.0",
         "FPD30"
        ],
        [
         "83",
         "2024-09-09 00:00:00",
         "2024-09-15 00:00:00",
         "0.285448868071819",
         "Week",
         "s_apps_score",
         "1.1.0",
         "FPD30"
        ]
       ],
       "shape": {
        "columns": 7,
        "rows": 5
       }
      },
      "text/html": [
       "<div>\n",
       "<style scoped>\n",
       "    .dataframe tbody tr th:only-of-type {\n",
       "        vertical-align: middle;\n",
       "    }\n",
       "\n",
       "    .dataframe tbody tr th {\n",
       "        vertical-align: top;\n",
       "    }\n",
       "\n",
       "    .dataframe thead th {\n",
       "        text-align: right;\n",
       "    }\n",
       "</style>\n",
       "<table border=\"1\" class=\"dataframe\">\n",
       "  <thead>\n",
       "    <tr style=\"text-align: right;\">\n",
       "      <th></th>\n",
       "      <th>start_date</th>\n",
       "      <th>end_date</th>\n",
       "      <th>s_apps_score_FPD30_gini</th>\n",
       "      <th>period</th>\n",
       "      <th>Model_Name</th>\n",
       "      <th>version</th>\n",
       "      <th>bad_rate</th>\n",
       "    </tr>\n",
       "  </thead>\n",
       "  <tbody>\n",
       "    <tr>\n",
       "      <th>77</th>\n",
       "      <td>2024-08-05</td>\n",
       "      <td>2024-08-11</td>\n",
       "      <td>0.298875</td>\n",
       "      <td>Week</td>\n",
       "      <td>s_apps_score</td>\n",
       "      <td>1.1.0</td>\n",
       "      <td>FPD30</td>\n",
       "    </tr>\n",
       "    <tr>\n",
       "      <th>57</th>\n",
       "      <td>2024-04-15</td>\n",
       "      <td>2024-04-21</td>\n",
       "      <td>0.416764</td>\n",
       "      <td>Week</td>\n",
       "      <td>s_apps_score</td>\n",
       "      <td>1.1.0</td>\n",
       "      <td>FPD30</td>\n",
       "    </tr>\n",
       "    <tr>\n",
       "      <th>72</th>\n",
       "      <td>2024-07-08</td>\n",
       "      <td>2024-07-14</td>\n",
       "      <td>0.319215</td>\n",
       "      <td>Week</td>\n",
       "      <td>s_apps_score</td>\n",
       "      <td>1.1.0</td>\n",
       "      <td>FPD30</td>\n",
       "    </tr>\n",
       "    <tr>\n",
       "      <th>64</th>\n",
       "      <td>2024-05-27</td>\n",
       "      <td>2024-06-02</td>\n",
       "      <td>0.438785</td>\n",
       "      <td>Week</td>\n",
       "      <td>s_apps_score</td>\n",
       "      <td>1.1.0</td>\n",
       "      <td>FPD30</td>\n",
       "    </tr>\n",
       "    <tr>\n",
       "      <th>83</th>\n",
       "      <td>2024-09-09</td>\n",
       "      <td>2024-09-15</td>\n",
       "      <td>0.285449</td>\n",
       "      <td>Week</td>\n",
       "      <td>s_apps_score</td>\n",
       "      <td>1.1.0</td>\n",
       "      <td>FPD30</td>\n",
       "    </tr>\n",
       "  </tbody>\n",
       "</table>\n",
       "</div>"
      ],
      "text/plain": [
       "   start_date   end_date  s_apps_score_FPD30_gini period    Model_Name  \\\n",
       "77 2024-08-05 2024-08-11                 0.298875   Week  s_apps_score   \n",
       "57 2024-04-15 2024-04-21                 0.416764   Week  s_apps_score   \n",
       "72 2024-07-08 2024-07-14                 0.319215   Week  s_apps_score   \n",
       "64 2024-05-27 2024-06-02                 0.438785   Week  s_apps_score   \n",
       "83 2024-09-09 2024-09-15                 0.285449   Week  s_apps_score   \n",
       "\n",
       "   version bad_rate  \n",
       "77   1.1.0    FPD30  \n",
       "57   1.1.0    FPD30  \n",
       "72   1.1.0    FPD30  \n",
       "64   1.1.0    FPD30  \n",
       "83   1.1.0    FPD30  "
      ]
     },
     "execution_count": 19,
     "metadata": {},
     "output_type": "execute_result"
    }
   ],
   "source": [
    "gini_results.sample(5)"
   ]
  },
  {
   "cell_type": "markdown",
   "metadata": {},
   "source": [
    "# App Score FSPD30"
   ]
  },
  {
   "cell_type": "code",
   "execution_count": 20,
   "metadata": {},
   "outputs": [
    {
     "name": "stdout",
     "output_type": "stream",
     "text": [
      "Job ID 2fdf4c3c-ae52-42e8-8c46-0e766542419b successfully executed: 100%|\u001b[32m██████████\u001b[0m|"
     ]
    },
    {
     "name": "stderr",
     "output_type": "stream",
     "text": [
      "d:\\Anaconda3\\envs\\inc_env\\lib\\site-packages\\google\\cloud\\bigquery\\table.py:1820: UserWarning: BigQuery Storage module not found, fetch data with the REST endpoint instead.\n",
      "  warnings.warn(\n"
     ]
    },
    {
     "name": "stdout",
     "output_type": "stream",
     "text": [
      "\n",
      "Downloading: 100%|\u001b[32m██████████\u001b[0m|\n"
     ]
    }
   ],
   "source": [
    "sq = \"\"\"with appscore as \n",
    "(SELECT \n",
    "    ln_disb_dtime disbursementdate,\n",
    "\tdigitalLoanAccountId,\n",
    "    apps_score s_apps_score,\n",
    "    ln_fspd30_flag,\n",
    "\tln_mature_fspd30_flag,\t\n",
    "\tFROM \n",
    "    risk_mart.sil_risk_ds_master_20230101_20250309\n",
    "  WHERE \n",
    "     -- ln_disb_dtime >= '2023-07-01'\n",
    "    ln_appln_submit_datetime >= '2023-06-01'\n",
    "  -- AND\n",
    "  --   format_date('%Y-%m', ln_disb_dtime) = '2024-09'\n",
    "  AND\n",
    "    ln_fspd30_flag is not null\n",
    "  AND\n",
    "    apps_score is not null\n",
    "  AND\n",
    "    ln_mature_fspd30_flag = 1\n",
    ")\n",
    "select * from appscore;\n",
    "\"\"\"\n",
    "\n",
    "dfappscorefspd30 = client.query(sq).to_dataframe(progress_bar_type = 'tqdm')"
   ]
  },
  {
   "cell_type": "code",
   "execution_count": 21,
   "metadata": {},
   "outputs": [
    {
     "name": "stdout",
     "output_type": "stream",
     "text": [
      "The shape of dataframe after copy is:\t(100, 7)\n"
     ]
    },
    {
     "data": {
      "text/plain": [
       "array(['start_date', 'end_date', 's_apps_score_FSPD30_gini', 'period',\n",
       "       'Model_Name', 'version', 'bad_rate'], dtype=object)"
      ]
     },
     "execution_count": 21,
     "metadata": {},
     "output_type": "execute_result"
    }
   ],
   "source": [
    "gini_results = calculate_periodic_gini(dfappscorefspd30, 's_apps_score', 'ln_fspd30_flag', 'FSPD30')\n",
    "# gini_results['bad_rate'] = 'FSPD30'\n",
    "appscoreFSPD30 = gini_results.copy()\n",
    "print(f\"The shape of dataframe after copy is:\\t{appscoreFSPD30.shape}\")\n",
    "appscoreFSPD30.columns.values"
   ]
  },
  {
   "cell_type": "code",
   "execution_count": 22,
   "metadata": {},
   "outputs": [
    {
     "data": {
      "application/vnd.microsoft.datawrangler.viewer.v0+json": {
       "columns": [
        {
         "name": "index",
         "rawType": "int64",
         "type": "integer"
        },
        {
         "name": "start_date",
         "rawType": "datetime64[ns]",
         "type": "datetime"
        },
        {
         "name": "end_date",
         "rawType": "datetime64[ns]",
         "type": "datetime"
        },
        {
         "name": "s_apps_score_FSPD30_gini",
         "rawType": "float64",
         "type": "float"
        },
        {
         "name": "period",
         "rawType": "object",
         "type": "string"
        },
        {
         "name": "Model_Name",
         "rawType": "object",
         "type": "string"
        },
        {
         "name": "version",
         "rawType": "object",
         "type": "string"
        },
        {
         "name": "bad_rate",
         "rawType": "object",
         "type": "string"
        }
       ],
       "conversionMethod": "pd.DataFrame",
       "ref": "7a79cd36-5f7f-4e35-ac28-ef0c58c1381a",
       "rows": [
        [
         "95",
         "2024-11-18 00:00:00",
         "2024-11-24 00:00:00",
         "0.302443753583131",
         "Week",
         "s_apps_score",
         "1.1.0",
         "FSPD30"
        ],
        [
         "96",
         "2024-11-25 00:00:00",
         "2024-12-01 00:00:00",
         "0.26088318196053883",
         "Week",
         "s_apps_score",
         "1.1.0",
         "FSPD30"
        ],
        [
         "97",
         "2024-12-01 00:00:00",
         "2024-12-31 00:00:00",
         "0.3113925185238555",
         "Month",
         "s_apps_score",
         "1.1.0",
         "FSPD30"
        ],
        [
         "98",
         "2024-12-02 00:00:00",
         "2024-12-08 00:00:00",
         "0.3093294075064039",
         "Week",
         "s_apps_score",
         "1.1.0",
         "FSPD30"
        ],
        [
         "99",
         "2024-12-09 00:00:00",
         "2024-12-15 00:00:00",
         "0.26153470185728267",
         "Week",
         "s_apps_score",
         "1.1.0",
         "FSPD30"
        ]
       ],
       "shape": {
        "columns": 7,
        "rows": 5
       }
      },
      "text/html": [
       "<div>\n",
       "<style scoped>\n",
       "    .dataframe tbody tr th:only-of-type {\n",
       "        vertical-align: middle;\n",
       "    }\n",
       "\n",
       "    .dataframe tbody tr th {\n",
       "        vertical-align: top;\n",
       "    }\n",
       "\n",
       "    .dataframe thead th {\n",
       "        text-align: right;\n",
       "    }\n",
       "</style>\n",
       "<table border=\"1\" class=\"dataframe\">\n",
       "  <thead>\n",
       "    <tr style=\"text-align: right;\">\n",
       "      <th></th>\n",
       "      <th>start_date</th>\n",
       "      <th>end_date</th>\n",
       "      <th>s_apps_score_FSPD30_gini</th>\n",
       "      <th>period</th>\n",
       "      <th>Model_Name</th>\n",
       "      <th>version</th>\n",
       "      <th>bad_rate</th>\n",
       "    </tr>\n",
       "  </thead>\n",
       "  <tbody>\n",
       "    <tr>\n",
       "      <th>95</th>\n",
       "      <td>2024-11-18</td>\n",
       "      <td>2024-11-24</td>\n",
       "      <td>0.302444</td>\n",
       "      <td>Week</td>\n",
       "      <td>s_apps_score</td>\n",
       "      <td>1.1.0</td>\n",
       "      <td>FSPD30</td>\n",
       "    </tr>\n",
       "    <tr>\n",
       "      <th>96</th>\n",
       "      <td>2024-11-25</td>\n",
       "      <td>2024-12-01</td>\n",
       "      <td>0.260883</td>\n",
       "      <td>Week</td>\n",
       "      <td>s_apps_score</td>\n",
       "      <td>1.1.0</td>\n",
       "      <td>FSPD30</td>\n",
       "    </tr>\n",
       "    <tr>\n",
       "      <th>97</th>\n",
       "      <td>2024-12-01</td>\n",
       "      <td>2024-12-31</td>\n",
       "      <td>0.311393</td>\n",
       "      <td>Month</td>\n",
       "      <td>s_apps_score</td>\n",
       "      <td>1.1.0</td>\n",
       "      <td>FSPD30</td>\n",
       "    </tr>\n",
       "    <tr>\n",
       "      <th>98</th>\n",
       "      <td>2024-12-02</td>\n",
       "      <td>2024-12-08</td>\n",
       "      <td>0.309329</td>\n",
       "      <td>Week</td>\n",
       "      <td>s_apps_score</td>\n",
       "      <td>1.1.0</td>\n",
       "      <td>FSPD30</td>\n",
       "    </tr>\n",
       "    <tr>\n",
       "      <th>99</th>\n",
       "      <td>2024-12-09</td>\n",
       "      <td>2024-12-15</td>\n",
       "      <td>0.261535</td>\n",
       "      <td>Week</td>\n",
       "      <td>s_apps_score</td>\n",
       "      <td>1.1.0</td>\n",
       "      <td>FSPD30</td>\n",
       "    </tr>\n",
       "  </tbody>\n",
       "</table>\n",
       "</div>"
      ],
      "text/plain": [
       "   start_date   end_date  s_apps_score_FSPD30_gini period    Model_Name  \\\n",
       "95 2024-11-18 2024-11-24                  0.302444   Week  s_apps_score   \n",
       "96 2024-11-25 2024-12-01                  0.260883   Week  s_apps_score   \n",
       "97 2024-12-01 2024-12-31                  0.311393  Month  s_apps_score   \n",
       "98 2024-12-02 2024-12-08                  0.309329   Week  s_apps_score   \n",
       "99 2024-12-09 2024-12-15                  0.261535   Week  s_apps_score   \n",
       "\n",
       "   version bad_rate  \n",
       "95   1.1.0   FSPD30  \n",
       "96   1.1.0   FSPD30  \n",
       "97   1.1.0   FSPD30  \n",
       "98   1.1.0   FSPD30  \n",
       "99   1.1.0   FSPD30  "
      ]
     },
     "execution_count": 22,
     "metadata": {},
     "output_type": "execute_result"
    }
   ],
   "source": [
    "gini_results.tail()"
   ]
  },
  {
   "cell_type": "markdown",
   "metadata": {},
   "source": [
    "# App Score FSTPD30"
   ]
  },
  {
   "cell_type": "code",
   "execution_count": 23,
   "metadata": {},
   "outputs": [
    {
     "name": "stdout",
     "output_type": "stream",
     "text": [
      "Job ID d0eda80d-e728-4a2f-a230-f2e0e0b21bb2 successfully executed: 100%|\u001b[32m██████████\u001b[0m|"
     ]
    },
    {
     "name": "stderr",
     "output_type": "stream",
     "text": [
      "d:\\Anaconda3\\envs\\inc_env\\lib\\site-packages\\google\\cloud\\bigquery\\table.py:1820: UserWarning: BigQuery Storage module not found, fetch data with the REST endpoint instead.\n",
      "  warnings.warn(\n"
     ]
    },
    {
     "name": "stdout",
     "output_type": "stream",
     "text": [
      "\n",
      "Downloading: 100%|\u001b[32m██████████\u001b[0m|\n"
     ]
    }
   ],
   "source": [
    "sq = \"\"\"with appscore as \n",
    "(SELECT \n",
    "    ln_disb_dtime disbursementdate,\n",
    "\tdigitalLoanAccountId,\n",
    "    apps_score s_apps_score,\n",
    "    ln_fstpd30_flag,\n",
    "\tln_mature_fstpd30_flag,\t\n",
    "\tFROM \n",
    "    risk_mart.sil_risk_ds_master_20230101_20250309\n",
    "  WHERE \n",
    "     -- ln_disb_dtime >= '2023-07-01'\n",
    "    ln_appln_submit_datetime >= '2023-06-01'\n",
    "  -- AND\n",
    "  --   format_date('%Y-%m', ln_disb_dtime) = '2024-09'\n",
    "  AND\n",
    "    ln_fstpd30_flag is not null\n",
    "  AND\n",
    "    apps_score is not null\n",
    "  AND\n",
    "    ln_mature_fstpd30_flag = 1\n",
    ")\n",
    "select * from appscore;\n",
    "\"\"\"\n",
    "\n",
    "dfappscorefstpd30 = client.query(sq).to_dataframe(progress_bar_type = 'tqdm')"
   ]
  },
  {
   "cell_type": "code",
   "execution_count": 24,
   "metadata": {},
   "outputs": [
    {
     "name": "stdout",
     "output_type": "stream",
     "text": [
      "The shape of dataframe after copy is:\t(94, 7)\n"
     ]
    },
    {
     "data": {
      "text/plain": [
       "array(['start_date', 'end_date', 's_apps_score_FSTPD30_gini', 'period',\n",
       "       'Model_Name', 'version', 'bad_rate'], dtype=object)"
      ]
     },
     "execution_count": 24,
     "metadata": {},
     "output_type": "execute_result"
    }
   ],
   "source": [
    "gini_results = calculate_periodic_gini(dfappscorefstpd30, 's_apps_score', 'ln_fstpd30_flag', 'FSTPD30')\n",
    "# gini_results['bad_rate'] = 'FSTPD30'\n",
    "appscoreFSTPD30 = gini_results.copy()\n",
    "print(f\"The shape of dataframe after copy is:\\t{appscoreFSTPD30.shape}\")\n",
    "appscoreFSTPD30.columns.values"
   ]
  },
  {
   "cell_type": "code",
   "execution_count": 25,
   "metadata": {},
   "outputs": [
    {
     "data": {
      "application/vnd.microsoft.datawrangler.viewer.v0+json": {
       "columns": [
        {
         "name": "index",
         "rawType": "int64",
         "type": "integer"
        },
        {
         "name": "start_date",
         "rawType": "datetime64[ns]",
         "type": "datetime"
        },
        {
         "name": "end_date",
         "rawType": "datetime64[ns]",
         "type": "datetime"
        },
        {
         "name": "s_apps_score_FSTPD30_gini",
         "rawType": "float64",
         "type": "float"
        },
        {
         "name": "period",
         "rawType": "object",
         "type": "string"
        },
        {
         "name": "Model_Name",
         "rawType": "object",
         "type": "string"
        },
        {
         "name": "version",
         "rawType": "object",
         "type": "string"
        },
        {
         "name": "bad_rate",
         "rawType": "object",
         "type": "string"
        }
       ],
       "conversionMethod": "pd.DataFrame",
       "ref": "19d16710-26d9-4bf6-bb5d-85c0edcfddef",
       "rows": [
        [
         "0",
         "2023-05-29 00:00:00",
         "2023-06-04 00:00:00",
         "0.46509803921568627",
         "Week",
         "s_apps_score",
         "1.1.0",
         "FSTPD30"
        ],
        [
         "1",
         "2023-06-01 00:00:00",
         "2023-06-30 00:00:00",
         "0.3374202879495103",
         "Month",
         "s_apps_score",
         "1.1.0",
         "FSTPD30"
        ],
        [
         "2",
         "2023-06-05 00:00:00",
         "2023-06-11 00:00:00",
         "0.41330049261083746",
         "Week",
         "s_apps_score",
         "1.1.0",
         "FSTPD30"
        ],
        [
         "3",
         "2023-06-12 00:00:00",
         "2023-06-18 00:00:00",
         "0.3956762192056311",
         "Week",
         "s_apps_score",
         "1.1.0",
         "FSTPD30"
        ],
        [
         "4",
         "2023-06-19 00:00:00",
         "2023-06-25 00:00:00",
         "0.31449745252431693",
         "Week",
         "s_apps_score",
         "1.1.0",
         "FSTPD30"
        ]
       ],
       "shape": {
        "columns": 7,
        "rows": 5
       }
      },
      "text/html": [
       "<div>\n",
       "<style scoped>\n",
       "    .dataframe tbody tr th:only-of-type {\n",
       "        vertical-align: middle;\n",
       "    }\n",
       "\n",
       "    .dataframe tbody tr th {\n",
       "        vertical-align: top;\n",
       "    }\n",
       "\n",
       "    .dataframe thead th {\n",
       "        text-align: right;\n",
       "    }\n",
       "</style>\n",
       "<table border=\"1\" class=\"dataframe\">\n",
       "  <thead>\n",
       "    <tr style=\"text-align: right;\">\n",
       "      <th></th>\n",
       "      <th>start_date</th>\n",
       "      <th>end_date</th>\n",
       "      <th>s_apps_score_FSTPD30_gini</th>\n",
       "      <th>period</th>\n",
       "      <th>Model_Name</th>\n",
       "      <th>version</th>\n",
       "      <th>bad_rate</th>\n",
       "    </tr>\n",
       "  </thead>\n",
       "  <tbody>\n",
       "    <tr>\n",
       "      <th>0</th>\n",
       "      <td>2023-05-29</td>\n",
       "      <td>2023-06-04</td>\n",
       "      <td>0.465098</td>\n",
       "      <td>Week</td>\n",
       "      <td>s_apps_score</td>\n",
       "      <td>1.1.0</td>\n",
       "      <td>FSTPD30</td>\n",
       "    </tr>\n",
       "    <tr>\n",
       "      <th>1</th>\n",
       "      <td>2023-06-01</td>\n",
       "      <td>2023-06-30</td>\n",
       "      <td>0.337420</td>\n",
       "      <td>Month</td>\n",
       "      <td>s_apps_score</td>\n",
       "      <td>1.1.0</td>\n",
       "      <td>FSTPD30</td>\n",
       "    </tr>\n",
       "    <tr>\n",
       "      <th>2</th>\n",
       "      <td>2023-06-05</td>\n",
       "      <td>2023-06-11</td>\n",
       "      <td>0.413300</td>\n",
       "      <td>Week</td>\n",
       "      <td>s_apps_score</td>\n",
       "      <td>1.1.0</td>\n",
       "      <td>FSTPD30</td>\n",
       "    </tr>\n",
       "    <tr>\n",
       "      <th>3</th>\n",
       "      <td>2023-06-12</td>\n",
       "      <td>2023-06-18</td>\n",
       "      <td>0.395676</td>\n",
       "      <td>Week</td>\n",
       "      <td>s_apps_score</td>\n",
       "      <td>1.1.0</td>\n",
       "      <td>FSTPD30</td>\n",
       "    </tr>\n",
       "    <tr>\n",
       "      <th>4</th>\n",
       "      <td>2023-06-19</td>\n",
       "      <td>2023-06-25</td>\n",
       "      <td>0.314497</td>\n",
       "      <td>Week</td>\n",
       "      <td>s_apps_score</td>\n",
       "      <td>1.1.0</td>\n",
       "      <td>FSTPD30</td>\n",
       "    </tr>\n",
       "  </tbody>\n",
       "</table>\n",
       "</div>"
      ],
      "text/plain": [
       "  start_date   end_date  s_apps_score_FSTPD30_gini period    Model_Name  \\\n",
       "0 2023-05-29 2023-06-04                   0.465098   Week  s_apps_score   \n",
       "1 2023-06-01 2023-06-30                   0.337420  Month  s_apps_score   \n",
       "2 2023-06-05 2023-06-11                   0.413300   Week  s_apps_score   \n",
       "3 2023-06-12 2023-06-18                   0.395676   Week  s_apps_score   \n",
       "4 2023-06-19 2023-06-25                   0.314497   Week  s_apps_score   \n",
       "\n",
       "  version bad_rate  \n",
       "0   1.1.0  FSTPD30  \n",
       "1   1.1.0  FSTPD30  \n",
       "2   1.1.0  FSTPD30  \n",
       "3   1.1.0  FSTPD30  \n",
       "4   1.1.0  FSTPD30  "
      ]
     },
     "execution_count": 25,
     "metadata": {},
     "output_type": "execute_result"
    }
   ],
   "source": [
    "appscoreFSTPD30.head()"
   ]
  },
  {
   "cell_type": "markdown",
   "metadata": {},
   "source": [
    "# Combining App Score"
   ]
  },
  {
   "cell_type": "code",
   "execution_count": 26,
   "metadata": {},
   "outputs": [
    {
     "data": {
      "text/plain": [
       "array(['start_date', 'end_date', 's_apps_score_FPD10_gini', 'period',\n",
       "       'Model_Name', 'version', 'bad_rate', 's_apps_score_FPD30_gini',\n",
       "       's_apps_score_FSPD30_gini', 's_apps_score_FSTPD30_gini'],\n",
       "      dtype=object)"
      ]
     },
     "execution_count": 26,
     "metadata": {},
     "output_type": "execute_result"
    }
   ],
   "source": [
    "import functools\n",
    "\n",
    "dataframes = [appscoreFPD10, appscoreFPD30, appscoreFSPD30, appscoreFSTPD30]\n",
    "common_columns = ['start_date', 'end_date', 'period', 'Model_Name','version', 'bad_rate']\n",
    "\n",
    "def merge_dataframes(df1, df2):\n",
    "    return pd.merge(df1, df2, on=common_columns, how='outer')\n",
    "\n",
    "final_df = functools.reduce(merge_dataframes, dataframes)\n",
    "\n",
    "final_df.columns.values"
   ]
  },
  {
   "cell_type": "code",
   "execution_count": 27,
   "metadata": {},
   "outputs": [
    {
     "data": {
      "text/plain": [
       "start_date                   datetime64[ns]\n",
       "end_date                     datetime64[ns]\n",
       "period                               object\n",
       "Model_Name                           object\n",
       "version                              object\n",
       "bad_rate                             object\n",
       "s_apps_score_FSTPD30_gini           float64\n",
       "s_apps_score_FSPD30_gini            float64\n",
       "s_apps_score_FPD30_gini             float64\n",
       "s_apps_score_FPD10_gini             float64\n",
       "dtype: object"
      ]
     },
     "execution_count": 27,
     "metadata": {},
     "output_type": "execute_result"
    }
   ],
   "source": [
    "final_df = final_df[['start_date', 'end_date', 'period',   'Model_Name', 'version', 'bad_rate','s_apps_score_FSTPD30_gini','s_apps_score_FSPD30_gini',\n",
    "       's_apps_score_FPD30_gini', 's_apps_score_FPD10_gini']].copy()\n",
    "final_df.dtypes"
   ]
  },
  {
   "cell_type": "markdown",
   "metadata": {},
   "source": [
    "## Creating app score table "
   ]
  },
  {
   "cell_type": "code",
   "execution_count": 28,
   "metadata": {},
   "outputs": [
    {
     "data": {
      "text/plain": [
       "QueryJob<project=prj-prod-dataplatform, location=asia-southeast1, id=2d2a1f3e-162b-4f86-ac0d-c588b6c5438d>"
      ]
     },
     "execution_count": 28,
     "metadata": {},
     "output_type": "execute_result"
    }
   ],
   "source": [
    "sq = \"\"\"drop table if exists prj-prod-dataplatform.dap_ds_poweruser_playground.Model_gini_s_apps_score;\"\"\"\n",
    "client.query(sq)"
   ]
  },
  {
   "cell_type": "code",
   "execution_count": 29,
   "metadata": {},
   "outputs": [
    {
     "data": {
      "text/plain": [
       "LoadJob<project=prj-prod-dataplatform, location=asia-southeast1, id=7b5c243b-5ea9-46ab-9bf4-17e7a2946c1a>"
      ]
     },
     "execution_count": 29,
     "metadata": {},
     "output_type": "execute_result"
    }
   ],
   "source": [
    "import pandas as pd\n",
    "from google.cloud import bigquery\n",
    "\n",
    "# Create a BigQuery client\n",
    "client = bigquery.Client('prj-prod-dataplatform')\n",
    "\n",
    "# Define your table schema\n",
    "table_schema = [\n",
    "    bigquery.SchemaField('start_date', 'TIMESTAMP'),\n",
    "    bigquery.SchemaField('end_date', 'TIMESTAMP'),\n",
    "    bigquery.SchemaField('period', 'STRING'),\n",
    "    bigquery.SchemaField('Model_Name', 'STRING'),\n",
    "    bigquery.SchemaField('version', 'STRING'),\n",
    "    bigquery.SchemaField('Badrate', 'STRING'),\n",
    "    bigquery.SchemaField('s_apps_score_FSTPD30_gini', 'FLOAT'),\n",
    "    bigquery.SchemaField('s_apps_score_FSPD30_gini', 'FLOAT'),\n",
    "    bigquery.SchemaField('s_apps_score_FPD30_gini', 'FLOAT'),\n",
    "    bigquery.SchemaField('s_apps_score_fpd10_gini', 'FLOAT')\n",
    "]\n",
    "\n",
    "# Create your BigQuery table\n",
    "table_id = 'prj-prod-dataplatform.dap_ds_poweruser_playground.Model_gini_s_apps_score'\n",
    "table = bigquery.Table(table_id, schema=table_schema)\n",
    "table = client.create_table(table)\n",
    "\n",
    "# Load your DataFrame into BigQuery\n",
    "job_config = bigquery.LoadJobConfig(\n",
    "    write_disposition='WRITE_TRUNCATE'\n",
    ")\n",
    "\n",
    "load_job = client.load_table_from_dataframe(\n",
    "    final_df, table_id, job_config=job_config\n",
    ")\n",
    "\n",
    "load_job.result()"
   ]
  },
  {
   "cell_type": "markdown",
   "metadata": {},
   "source": [
    "# sb_demo_score"
   ]
  },
  {
   "cell_type": "markdown",
   "metadata": {},
   "source": [
    "## FPD10"
   ]
  },
  {
   "cell_type": "code",
   "execution_count": 31,
   "metadata": {},
   "outputs": [
    {
     "name": "stdout",
     "output_type": "stream",
     "text": [
      "\n",
      "\u001b[A\n",
      "\u001b[A\n",
      "\u001b[A\n",
      "Job ID 0149e231-9cd7-4404-92e3-6c1bd1726b38 successfully executed: 100%|\u001b[32m██████████\u001b[0m|"
     ]
    },
    {
     "name": "stderr",
     "output_type": "stream",
     "text": [
      "d:\\Anaconda3\\envs\\inc_env\\lib\\site-packages\\google\\cloud\\bigquery\\table.py:1820: UserWarning: BigQuery Storage module not found, fetch data with the REST endpoint instead.\n",
      "  warnings.warn(\n"
     ]
    },
    {
     "name": "stdout",
     "output_type": "stream",
     "text": [
      "\n",
      "\n",
      "Query is running:   0%|\u001b[32m          \u001b[0m|\n",
      "\n",
      "\u001b[A\n",
      "\u001b[A\n",
      "Downloading: 100%|\u001b[32m██████████\u001b[0m|\n"
     ]
    }
   ],
   "source": [
    "sq = \"\"\"\n",
    "with sb_demo_score as \n",
    "(SELECT \n",
    "    ln_disb_dtime disbursementdate,\n",
    "\tdigitalLoanAccountId,\n",
    "    beta_demo_score sb_demo_score,\n",
    "    ln_fpd10_flag,\n",
    "\tln_mature_fpd10_flag,\t\n",
    "\tFROM \n",
    "    risk_mart.sil_risk_ds_master_20230101_20250309\n",
    "  WHERE \n",
    "     -- ln_disb_dtime >= '2023-07-01'\n",
    "    ln_appln_submit_datetime >= '2023-06-01'\n",
    "  -- AND\n",
    "  --   format_date('%Y-%m', ln_disb_dtime) = '2024-09'\n",
    "  AND\n",
    "    ln_fpd10_flag is not null\n",
    "  AND\n",
    "    beta_demo_score is not null\n",
    "  AND\n",
    "    ln_mature_fpd10_flag = 1\n",
    ")\n",
    "select * from sb_demo_score;\n",
    "\"\"\"\n",
    "\n",
    "df_sb_demo_scorefpd10 = client.query(sq).to_dataframe(progress_bar_type='tqdm')"
   ]
  },
  {
   "cell_type": "code",
   "execution_count": 32,
   "metadata": {},
   "outputs": [
    {
     "data": {
      "application/vnd.microsoft.datawrangler.viewer.v0+json": {
       "columns": [
        {
         "name": "index",
         "rawType": "int64",
         "type": "integer"
        },
        {
         "name": "disbursementdate",
         "rawType": "datetime64[us]",
         "type": "unknown"
        },
        {
         "name": "digitalLoanAccountId",
         "rawType": "object",
         "type": "string"
        },
        {
         "name": "sb_demo_score",
         "rawType": "float64",
         "type": "float"
        },
        {
         "name": "ln_fpd10_flag",
         "rawType": "Int64",
         "type": "integer"
        },
        {
         "name": "ln_mature_fpd10_flag",
         "rawType": "Int64",
         "type": "integer"
        }
       ],
       "conversionMethod": "pd.DataFrame",
       "ref": "ccab2db4-bc81-46a3-9862-863a68ec6830",
       "rows": [
        [
         "0",
         "2024-09-01 15:18:37",
         "1a2cb6f2-e66f-444a-ba22-a05cb5652ef2",
         "0.08583514039979348",
         "0",
         "1"
        ],
        [
         "1",
         "2024-05-02 17:24:11",
         "9b118965-74ea-4832-a640-8b5ea2cc140e",
         "0.08843029554189308",
         "0",
         "1"
        ],
        [
         "2",
         "2024-09-19 20:32:20",
         "4f7bb0f5-ec5b-40c0-a145-6d8aa9b083ee",
         "0.07108847697721618",
         "1",
         "1"
        ],
        [
         "3",
         "2024-06-19 20:08:28",
         "210afa02-21e2-4ecc-8e28-06969222c968",
         "0.15512354084153576",
         "0",
         "1"
        ],
        [
         "4",
         "2025-01-27 12:33:16",
         "107d411b-cd24-4dde-86a8-6f7eeeaaa7bb",
         "0.031791084751292886",
         "0",
         "1"
        ]
       ],
       "shape": {
        "columns": 5,
        "rows": 5
       }
      },
      "text/html": [
       "<div>\n",
       "<style scoped>\n",
       "    .dataframe tbody tr th:only-of-type {\n",
       "        vertical-align: middle;\n",
       "    }\n",
       "\n",
       "    .dataframe tbody tr th {\n",
       "        vertical-align: top;\n",
       "    }\n",
       "\n",
       "    .dataframe thead th {\n",
       "        text-align: right;\n",
       "    }\n",
       "</style>\n",
       "<table border=\"1\" class=\"dataframe\">\n",
       "  <thead>\n",
       "    <tr style=\"text-align: right;\">\n",
       "      <th></th>\n",
       "      <th>disbursementdate</th>\n",
       "      <th>digitalLoanAccountId</th>\n",
       "      <th>sb_demo_score</th>\n",
       "      <th>ln_fpd10_flag</th>\n",
       "      <th>ln_mature_fpd10_flag</th>\n",
       "    </tr>\n",
       "  </thead>\n",
       "  <tbody>\n",
       "    <tr>\n",
       "      <th>0</th>\n",
       "      <td>2024-09-01 15:18:37</td>\n",
       "      <td>1a2cb6f2-e66f-444a-ba22-a05cb5652ef2</td>\n",
       "      <td>0.085835</td>\n",
       "      <td>0</td>\n",
       "      <td>1</td>\n",
       "    </tr>\n",
       "    <tr>\n",
       "      <th>1</th>\n",
       "      <td>2024-05-02 17:24:11</td>\n",
       "      <td>9b118965-74ea-4832-a640-8b5ea2cc140e</td>\n",
       "      <td>0.088430</td>\n",
       "      <td>0</td>\n",
       "      <td>1</td>\n",
       "    </tr>\n",
       "    <tr>\n",
       "      <th>2</th>\n",
       "      <td>2024-09-19 20:32:20</td>\n",
       "      <td>4f7bb0f5-ec5b-40c0-a145-6d8aa9b083ee</td>\n",
       "      <td>0.071088</td>\n",
       "      <td>1</td>\n",
       "      <td>1</td>\n",
       "    </tr>\n",
       "    <tr>\n",
       "      <th>3</th>\n",
       "      <td>2024-06-19 20:08:28</td>\n",
       "      <td>210afa02-21e2-4ecc-8e28-06969222c968</td>\n",
       "      <td>0.155124</td>\n",
       "      <td>0</td>\n",
       "      <td>1</td>\n",
       "    </tr>\n",
       "    <tr>\n",
       "      <th>4</th>\n",
       "      <td>2025-01-27 12:33:16</td>\n",
       "      <td>107d411b-cd24-4dde-86a8-6f7eeeaaa7bb</td>\n",
       "      <td>0.031791</td>\n",
       "      <td>0</td>\n",
       "      <td>1</td>\n",
       "    </tr>\n",
       "  </tbody>\n",
       "</table>\n",
       "</div>"
      ],
      "text/plain": [
       "     disbursementdate                  digitalLoanAccountId  sb_demo_score  \\\n",
       "0 2024-09-01 15:18:37  1a2cb6f2-e66f-444a-ba22-a05cb5652ef2       0.085835   \n",
       "1 2024-05-02 17:24:11  9b118965-74ea-4832-a640-8b5ea2cc140e       0.088430   \n",
       "2 2024-09-19 20:32:20  4f7bb0f5-ec5b-40c0-a145-6d8aa9b083ee       0.071088   \n",
       "3 2024-06-19 20:08:28  210afa02-21e2-4ecc-8e28-06969222c968       0.155124   \n",
       "4 2025-01-27 12:33:16  107d411b-cd24-4dde-86a8-6f7eeeaaa7bb       0.031791   \n",
       "\n",
       "   ln_fpd10_flag  ln_mature_fpd10_flag  \n",
       "0              0                     1  \n",
       "1              0                     1  \n",
       "2              1                     1  \n",
       "3              0                     1  \n",
       "4              0                     1  "
      ]
     },
     "execution_count": 32,
     "metadata": {},
     "output_type": "execute_result"
    }
   ],
   "source": [
    "df_sb_demo_scorefpd10.head()"
   ]
  },
  {
   "cell_type": "code",
   "execution_count": 33,
   "metadata": {},
   "outputs": [
    {
     "name": "stdout",
     "output_type": "stream",
     "text": [
      "The shape of dataframe after copy is:\t(108, 7)\n"
     ]
    },
    {
     "data": {
      "text/plain": [
       "array(['start_date', 'end_date', 'sb_demo_score_FPD10_gini', 'period',\n",
       "       'Model_Name', 'version', 'bad_rate'], dtype=object)"
      ]
     },
     "execution_count": 33,
     "metadata": {},
     "output_type": "execute_result"
    }
   ],
   "source": [
    "gini_results = calculate_periodic_gini(df_sb_demo_scorefpd10, 'sb_demo_score', 'ln_fpd10_flag', 'FPD10')\n",
    "sb_demo_scoreFPD10 = gini_results.copy()\n",
    "print(f\"The shape of dataframe after copy is:\\t{sb_demo_scoreFPD10.shape}\")\n",
    "sb_demo_scoreFPD10.columns.values"
   ]
  },
  {
   "cell_type": "code",
   "execution_count": 34,
   "metadata": {},
   "outputs": [
    {
     "data": {
      "application/vnd.microsoft.datawrangler.viewer.v0+json": {
       "columns": [
        {
         "name": "index",
         "rawType": "int64",
         "type": "integer"
        },
        {
         "name": "start_date",
         "rawType": "datetime64[ns]",
         "type": "datetime"
        },
        {
         "name": "end_date",
         "rawType": "datetime64[ns]",
         "type": "datetime"
        },
        {
         "name": "sb_demo_score_FPD10_gini",
         "rawType": "float64",
         "type": "float"
        },
        {
         "name": "period",
         "rawType": "object",
         "type": "string"
        },
        {
         "name": "Model_Name",
         "rawType": "object",
         "type": "string"
        },
        {
         "name": "version",
         "rawType": "object",
         "type": "string"
        },
        {
         "name": "bad_rate",
         "rawType": "object",
         "type": "string"
        }
       ],
       "conversionMethod": "pd.DataFrame",
       "ref": "209849a5-43b5-469e-8e1b-9cdd379b1f9b",
       "rows": [
        [
         "103",
         "2025-01-01 00:00:00",
         "2025-01-31 00:00:00",
         "0.21318625460473073",
         "Month",
         "sb_demo_score",
         "1.1.0",
         "FPD10"
        ],
        [
         "104",
         "2025-01-06 00:00:00",
         "2025-01-12 00:00:00",
         "0.186707639731011",
         "Week",
         "sb_demo_score",
         "1.1.0",
         "FPD10"
        ],
        [
         "105",
         "2025-01-13 00:00:00",
         "2025-01-19 00:00:00",
         "0.21158021967210816",
         "Week",
         "sb_demo_score",
         "1.1.0",
         "FPD10"
        ],
        [
         "106",
         "2025-01-20 00:00:00",
         "2025-01-26 00:00:00",
         "0.1720971338307522",
         "Week",
         "sb_demo_score",
         "1.1.0",
         "FPD10"
        ],
        [
         "107",
         "2025-01-27 00:00:00",
         "2025-02-02 00:00:00",
         "0.3514948125726569",
         "Week",
         "sb_demo_score",
         "1.1.0",
         "FPD10"
        ]
       ],
       "shape": {
        "columns": 7,
        "rows": 5
       }
      },
      "text/html": [
       "<div>\n",
       "<style scoped>\n",
       "    .dataframe tbody tr th:only-of-type {\n",
       "        vertical-align: middle;\n",
       "    }\n",
       "\n",
       "    .dataframe tbody tr th {\n",
       "        vertical-align: top;\n",
       "    }\n",
       "\n",
       "    .dataframe thead th {\n",
       "        text-align: right;\n",
       "    }\n",
       "</style>\n",
       "<table border=\"1\" class=\"dataframe\">\n",
       "  <thead>\n",
       "    <tr style=\"text-align: right;\">\n",
       "      <th></th>\n",
       "      <th>start_date</th>\n",
       "      <th>end_date</th>\n",
       "      <th>sb_demo_score_FPD10_gini</th>\n",
       "      <th>period</th>\n",
       "      <th>Model_Name</th>\n",
       "      <th>version</th>\n",
       "      <th>bad_rate</th>\n",
       "    </tr>\n",
       "  </thead>\n",
       "  <tbody>\n",
       "    <tr>\n",
       "      <th>103</th>\n",
       "      <td>2025-01-01</td>\n",
       "      <td>2025-01-31</td>\n",
       "      <td>0.213186</td>\n",
       "      <td>Month</td>\n",
       "      <td>sb_demo_score</td>\n",
       "      <td>1.1.0</td>\n",
       "      <td>FPD10</td>\n",
       "    </tr>\n",
       "    <tr>\n",
       "      <th>104</th>\n",
       "      <td>2025-01-06</td>\n",
       "      <td>2025-01-12</td>\n",
       "      <td>0.186708</td>\n",
       "      <td>Week</td>\n",
       "      <td>sb_demo_score</td>\n",
       "      <td>1.1.0</td>\n",
       "      <td>FPD10</td>\n",
       "    </tr>\n",
       "    <tr>\n",
       "      <th>105</th>\n",
       "      <td>2025-01-13</td>\n",
       "      <td>2025-01-19</td>\n",
       "      <td>0.211580</td>\n",
       "      <td>Week</td>\n",
       "      <td>sb_demo_score</td>\n",
       "      <td>1.1.0</td>\n",
       "      <td>FPD10</td>\n",
       "    </tr>\n",
       "    <tr>\n",
       "      <th>106</th>\n",
       "      <td>2025-01-20</td>\n",
       "      <td>2025-01-26</td>\n",
       "      <td>0.172097</td>\n",
       "      <td>Week</td>\n",
       "      <td>sb_demo_score</td>\n",
       "      <td>1.1.0</td>\n",
       "      <td>FPD10</td>\n",
       "    </tr>\n",
       "    <tr>\n",
       "      <th>107</th>\n",
       "      <td>2025-01-27</td>\n",
       "      <td>2025-02-02</td>\n",
       "      <td>0.351495</td>\n",
       "      <td>Week</td>\n",
       "      <td>sb_demo_score</td>\n",
       "      <td>1.1.0</td>\n",
       "      <td>FPD10</td>\n",
       "    </tr>\n",
       "  </tbody>\n",
       "</table>\n",
       "</div>"
      ],
      "text/plain": [
       "    start_date   end_date  sb_demo_score_FPD10_gini period     Model_Name  \\\n",
       "103 2025-01-01 2025-01-31                  0.213186  Month  sb_demo_score   \n",
       "104 2025-01-06 2025-01-12                  0.186708   Week  sb_demo_score   \n",
       "105 2025-01-13 2025-01-19                  0.211580   Week  sb_demo_score   \n",
       "106 2025-01-20 2025-01-26                  0.172097   Week  sb_demo_score   \n",
       "107 2025-01-27 2025-02-02                  0.351495   Week  sb_demo_score   \n",
       "\n",
       "    version bad_rate  \n",
       "103   1.1.0    FPD10  \n",
       "104   1.1.0    FPD10  \n",
       "105   1.1.0    FPD10  \n",
       "106   1.1.0    FPD10  \n",
       "107   1.1.0    FPD10  "
      ]
     },
     "execution_count": 34,
     "metadata": {},
     "output_type": "execute_result"
    }
   ],
   "source": [
    "sb_demo_scoreFPD10.tail()"
   ]
  },
  {
   "cell_type": "markdown",
   "metadata": {},
   "source": [
    "## FPD30"
   ]
  },
  {
   "cell_type": "code",
   "execution_count": 35,
   "metadata": {},
   "outputs": [
    {
     "name": "stdout",
     "output_type": "stream",
     "text": [
      "Job ID df69984e-3192-4e34-a1a3-53d7a4a09755 successfully executed: 100%|\u001b[32m██████████\u001b[0m|"
     ]
    },
    {
     "name": "stderr",
     "output_type": "stream",
     "text": [
      "d:\\Anaconda3\\envs\\inc_env\\lib\\site-packages\\google\\cloud\\bigquery\\table.py:1820: UserWarning: BigQuery Storage module not found, fetch data with the REST endpoint instead.\n",
      "  warnings.warn(\n"
     ]
    },
    {
     "name": "stdout",
     "output_type": "stream",
     "text": [
      "\n",
      "Downloading: 100%|\u001b[32m██████████\u001b[0m|\n"
     ]
    }
   ],
   "source": [
    "sq = \"\"\"\n",
    "with sb_demo_score as \n",
    "(SELECT \n",
    "    ln_disb_dtime disbursementdate,\n",
    "\tdigitalLoanAccountId,\n",
    "    beta_demo_score sb_demo_score,\n",
    "    ln_fpd30_flag,\n",
    "\tln_mature_fpd30_flag,\t\n",
    "\tFROM \n",
    "    risk_mart.sil_risk_ds_master_20230101_20250309\n",
    "  WHERE \n",
    "     -- ln_disb_dtime >= '2023-07-01'\n",
    "    ln_appln_submit_datetime >= '2023-06-01'\n",
    "  -- AND\n",
    "  --   format_date('%Y-%m', ln_disb_dtime) = '2024-09'\n",
    "  AND\n",
    "    ln_fpd30_flag is not null\n",
    "  AND\n",
    "    beta_demo_score is not null\n",
    "  AND\n",
    "    ln_mature_fpd30_flag = 1\n",
    ")\n",
    "select * from sb_demo_score;\n",
    "\"\"\"\n",
    "\n",
    "df_sb_demo_scorefpd30 = client.query(sq).to_dataframe(progress_bar_type='tqdm')"
   ]
  },
  {
   "cell_type": "code",
   "execution_count": 36,
   "metadata": {},
   "outputs": [
    {
     "name": "stdout",
     "output_type": "stream",
     "text": [
      "The shape of dataframe after copy is:\t(105, 7)\n"
     ]
    },
    {
     "data": {
      "text/plain": [
       "array(['start_date', 'end_date', 'sb_demo_score_FPD30_gini', 'period',\n",
       "       'Model_Name', 'version', 'bad_rate'], dtype=object)"
      ]
     },
     "execution_count": 36,
     "metadata": {},
     "output_type": "execute_result"
    }
   ],
   "source": [
    "gini_results = calculate_periodic_gini(df_sb_demo_scorefpd30, 'sb_demo_score', 'ln_fpd30_flag', 'FPD30')\n",
    "sb_demo_scoreFPD30 = gini_results.copy()\n",
    "print(f\"The shape of dataframe after copy is:\\t{sb_demo_scoreFPD30.shape}\")\n",
    "sb_demo_scoreFPD30.columns.values"
   ]
  },
  {
   "cell_type": "code",
   "execution_count": 37,
   "metadata": {},
   "outputs": [
    {
     "data": {
      "application/vnd.microsoft.datawrangler.viewer.v0+json": {
       "columns": [
        {
         "name": "index",
         "rawType": "int64",
         "type": "integer"
        },
        {
         "name": "start_date",
         "rawType": "datetime64[ns]",
         "type": "datetime"
        },
        {
         "name": "end_date",
         "rawType": "datetime64[ns]",
         "type": "datetime"
        },
        {
         "name": "sb_demo_score_FPD30_gini",
         "rawType": "float64",
         "type": "float"
        },
        {
         "name": "period",
         "rawType": "object",
         "type": "string"
        },
        {
         "name": "Model_Name",
         "rawType": "object",
         "type": "string"
        },
        {
         "name": "version",
         "rawType": "object",
         "type": "string"
        },
        {
         "name": "bad_rate",
         "rawType": "object",
         "type": "string"
        }
       ],
       "conversionMethod": "pd.DataFrame",
       "ref": "9e983cff-4bf7-4765-8799-8997b5df4531",
       "rows": [
        [
         "0",
         "2023-05-29 00:00:00",
         "2023-06-04 00:00:00",
         "0.28909090909090907",
         "Week",
         "sb_demo_score",
         "1.1.0",
         "FPD30"
        ],
        [
         "1",
         "2023-06-01 00:00:00",
         "2023-06-30 00:00:00",
         "0.09475490196078451",
         "Month",
         "sb_demo_score",
         "1.1.0",
         "FPD30"
        ],
        [
         "2",
         "2023-06-05 00:00:00",
         "2023-06-11 00:00:00",
         "0.20740740740740726",
         "Week",
         "sb_demo_score",
         "1.1.0",
         "FPD30"
        ],
        [
         "3",
         "2023-06-12 00:00:00",
         "2023-06-18 00:00:00",
         "0.10971786833855801",
         "Week",
         "sb_demo_score",
         "1.1.0",
         "FPD30"
        ],
        [
         "4",
         "2023-06-19 00:00:00",
         "2023-06-25 00:00:00",
         "-0.24364123159303896",
         "Week",
         "sb_demo_score",
         "1.1.0",
         "FPD30"
        ]
       ],
       "shape": {
        "columns": 7,
        "rows": 5
       }
      },
      "text/html": [
       "<div>\n",
       "<style scoped>\n",
       "    .dataframe tbody tr th:only-of-type {\n",
       "        vertical-align: middle;\n",
       "    }\n",
       "\n",
       "    .dataframe tbody tr th {\n",
       "        vertical-align: top;\n",
       "    }\n",
       "\n",
       "    .dataframe thead th {\n",
       "        text-align: right;\n",
       "    }\n",
       "</style>\n",
       "<table border=\"1\" class=\"dataframe\">\n",
       "  <thead>\n",
       "    <tr style=\"text-align: right;\">\n",
       "      <th></th>\n",
       "      <th>start_date</th>\n",
       "      <th>end_date</th>\n",
       "      <th>sb_demo_score_FPD30_gini</th>\n",
       "      <th>period</th>\n",
       "      <th>Model_Name</th>\n",
       "      <th>version</th>\n",
       "      <th>bad_rate</th>\n",
       "    </tr>\n",
       "  </thead>\n",
       "  <tbody>\n",
       "    <tr>\n",
       "      <th>0</th>\n",
       "      <td>2023-05-29</td>\n",
       "      <td>2023-06-04</td>\n",
       "      <td>0.289091</td>\n",
       "      <td>Week</td>\n",
       "      <td>sb_demo_score</td>\n",
       "      <td>1.1.0</td>\n",
       "      <td>FPD30</td>\n",
       "    </tr>\n",
       "    <tr>\n",
       "      <th>1</th>\n",
       "      <td>2023-06-01</td>\n",
       "      <td>2023-06-30</td>\n",
       "      <td>0.094755</td>\n",
       "      <td>Month</td>\n",
       "      <td>sb_demo_score</td>\n",
       "      <td>1.1.0</td>\n",
       "      <td>FPD30</td>\n",
       "    </tr>\n",
       "    <tr>\n",
       "      <th>2</th>\n",
       "      <td>2023-06-05</td>\n",
       "      <td>2023-06-11</td>\n",
       "      <td>0.207407</td>\n",
       "      <td>Week</td>\n",
       "      <td>sb_demo_score</td>\n",
       "      <td>1.1.0</td>\n",
       "      <td>FPD30</td>\n",
       "    </tr>\n",
       "    <tr>\n",
       "      <th>3</th>\n",
       "      <td>2023-06-12</td>\n",
       "      <td>2023-06-18</td>\n",
       "      <td>0.109718</td>\n",
       "      <td>Week</td>\n",
       "      <td>sb_demo_score</td>\n",
       "      <td>1.1.0</td>\n",
       "      <td>FPD30</td>\n",
       "    </tr>\n",
       "    <tr>\n",
       "      <th>4</th>\n",
       "      <td>2023-06-19</td>\n",
       "      <td>2023-06-25</td>\n",
       "      <td>-0.243641</td>\n",
       "      <td>Week</td>\n",
       "      <td>sb_demo_score</td>\n",
       "      <td>1.1.0</td>\n",
       "      <td>FPD30</td>\n",
       "    </tr>\n",
       "  </tbody>\n",
       "</table>\n",
       "</div>"
      ],
      "text/plain": [
       "  start_date   end_date  sb_demo_score_FPD30_gini period     Model_Name  \\\n",
       "0 2023-05-29 2023-06-04                  0.289091   Week  sb_demo_score   \n",
       "1 2023-06-01 2023-06-30                  0.094755  Month  sb_demo_score   \n",
       "2 2023-06-05 2023-06-11                  0.207407   Week  sb_demo_score   \n",
       "3 2023-06-12 2023-06-18                  0.109718   Week  sb_demo_score   \n",
       "4 2023-06-19 2023-06-25                 -0.243641   Week  sb_demo_score   \n",
       "\n",
       "  version bad_rate  \n",
       "0   1.1.0    FPD30  \n",
       "1   1.1.0    FPD30  \n",
       "2   1.1.0    FPD30  \n",
       "3   1.1.0    FPD30  \n",
       "4   1.1.0    FPD30  "
      ]
     },
     "execution_count": 37,
     "metadata": {},
     "output_type": "execute_result"
    }
   ],
   "source": [
    "sb_demo_scoreFPD30.head() "
   ]
  },
  {
   "cell_type": "markdown",
   "metadata": {},
   "source": [
    "## FSPD30"
   ]
  },
  {
   "cell_type": "code",
   "execution_count": 38,
   "metadata": {},
   "outputs": [
    {
     "name": "stdout",
     "output_type": "stream",
     "text": [
      "Job ID b9e2f1a4-ee16-4a25-8693-f26f07e0211e successfully executed: 100%|\u001b[32m██████████\u001b[0m|"
     ]
    },
    {
     "name": "stderr",
     "output_type": "stream",
     "text": [
      "d:\\Anaconda3\\envs\\inc_env\\lib\\site-packages\\google\\cloud\\bigquery\\table.py:1820: UserWarning: BigQuery Storage module not found, fetch data with the REST endpoint instead.\n",
      "  warnings.warn(\n"
     ]
    },
    {
     "name": "stdout",
     "output_type": "stream",
     "text": [
      "\n",
      "Downloading: 100%|\u001b[32m██████████\u001b[0m|\n"
     ]
    }
   ],
   "source": [
    "sq = \"\"\"\n",
    "with sb_demo_score as \n",
    "(SELECT \n",
    "    ln_disb_dtime disbursementdate,\n",
    "\tdigitalLoanAccountId,\n",
    "    beta_demo_score sb_demo_score,\n",
    "    ln_fspd30_flag,   -- fspd30\n",
    "\tln_mature_fspd30_flag,\t--- fspd30 observation\n",
    "\tFROM \n",
    "   risk_mart.sil_risk_ds_master_20230101_20250309\n",
    "  WHERE \n",
    "     -- ln_disb_dtime >= '2023-07-01'\n",
    "    ln_appln_submit_datetime >= '2023-06-01'\n",
    "  -- AND\n",
    "  --   format_date('%Y-%m', ln_disb_dtime) = '2024-09'\n",
    "  AND\n",
    "    ln_fspd30_flag is not null\n",
    "  AND\n",
    "    beta_demo_score is not null\n",
    "  AND\n",
    "    ln_mature_fspd30_flag = 1\n",
    ")\n",
    "select * from sb_demo_score;\n",
    "\"\"\"\n",
    "\n",
    "df_sb_demo_scorefspd30 = client.query(sq).to_dataframe(progress_bar_type='tqdm')"
   ]
  },
  {
   "cell_type": "code",
   "execution_count": 39,
   "metadata": {},
   "outputs": [
    {
     "name": "stdout",
     "output_type": "stream",
     "text": [
      "The shape of dataframe after copy is:\t(100, 7)\n"
     ]
    },
    {
     "data": {
      "text/plain": [
       "array(['start_date', 'end_date', 'sb_demo_score_FSPD30_gini', 'period',\n",
       "       'Model_Name', 'version', 'bad_rate'], dtype=object)"
      ]
     },
     "execution_count": 39,
     "metadata": {},
     "output_type": "execute_result"
    }
   ],
   "source": [
    "gini_results = calculate_periodic_gini(df_sb_demo_scorefspd30, 'sb_demo_score', 'ln_fspd30_flag', 'FSPD30')\n",
    "sb_demo_scoreFSPD30 = gini_results.copy()\n",
    "print(f\"The shape of dataframe after copy is:\\t{sb_demo_scoreFSPD30.shape}\")\n",
    "sb_demo_scoreFSPD30.columns.values"
   ]
  },
  {
   "cell_type": "code",
   "execution_count": 40,
   "metadata": {},
   "outputs": [
    {
     "data": {
      "application/vnd.microsoft.datawrangler.viewer.v0+json": {
       "columns": [
        {
         "name": "index",
         "rawType": "int64",
         "type": "integer"
        },
        {
         "name": "start_date",
         "rawType": "datetime64[ns]",
         "type": "datetime"
        },
        {
         "name": "end_date",
         "rawType": "datetime64[ns]",
         "type": "datetime"
        },
        {
         "name": "sb_demo_score_FSPD30_gini",
         "rawType": "float64",
         "type": "float"
        },
        {
         "name": "period",
         "rawType": "object",
         "type": "string"
        },
        {
         "name": "Model_Name",
         "rawType": "object",
         "type": "string"
        },
        {
         "name": "version",
         "rawType": "object",
         "type": "string"
        },
        {
         "name": "bad_rate",
         "rawType": "object",
         "type": "string"
        }
       ],
       "conversionMethod": "pd.DataFrame",
       "ref": "41363dc6-a7a5-4462-a84d-bf709bef4038",
       "rows": [
        [
         "0",
         "2023-05-29 00:00:00",
         "2023-06-04 00:00:00",
         "0.08760107816711593",
         "Week",
         "sb_demo_score",
         "1.1.0",
         "FSPD30"
        ],
        [
         "1",
         "2023-06-01 00:00:00",
         "2023-06-30 00:00:00",
         "0.11688311688311703",
         "Month",
         "sb_demo_score",
         "1.1.0",
         "FSPD30"
        ],
        [
         "2",
         "2023-06-05 00:00:00",
         "2023-06-11 00:00:00",
         "0.23919191919191918",
         "Week",
         "sb_demo_score",
         "1.1.0",
         "FSPD30"
        ],
        [
         "3",
         "2023-06-12 00:00:00",
         "2023-06-18 00:00:00",
         "0.0420813689540771",
         "Week",
         "sb_demo_score",
         "1.1.0",
         "FSPD30"
        ],
        [
         "4",
         "2023-06-19 00:00:00",
         "2023-06-25 00:00:00",
         "0.07759784075573539",
         "Week",
         "sb_demo_score",
         "1.1.0",
         "FSPD30"
        ]
       ],
       "shape": {
        "columns": 7,
        "rows": 5
       }
      },
      "text/html": [
       "<div>\n",
       "<style scoped>\n",
       "    .dataframe tbody tr th:only-of-type {\n",
       "        vertical-align: middle;\n",
       "    }\n",
       "\n",
       "    .dataframe tbody tr th {\n",
       "        vertical-align: top;\n",
       "    }\n",
       "\n",
       "    .dataframe thead th {\n",
       "        text-align: right;\n",
       "    }\n",
       "</style>\n",
       "<table border=\"1\" class=\"dataframe\">\n",
       "  <thead>\n",
       "    <tr style=\"text-align: right;\">\n",
       "      <th></th>\n",
       "      <th>start_date</th>\n",
       "      <th>end_date</th>\n",
       "      <th>sb_demo_score_FSPD30_gini</th>\n",
       "      <th>period</th>\n",
       "      <th>Model_Name</th>\n",
       "      <th>version</th>\n",
       "      <th>bad_rate</th>\n",
       "    </tr>\n",
       "  </thead>\n",
       "  <tbody>\n",
       "    <tr>\n",
       "      <th>0</th>\n",
       "      <td>2023-05-29</td>\n",
       "      <td>2023-06-04</td>\n",
       "      <td>0.087601</td>\n",
       "      <td>Week</td>\n",
       "      <td>sb_demo_score</td>\n",
       "      <td>1.1.0</td>\n",
       "      <td>FSPD30</td>\n",
       "    </tr>\n",
       "    <tr>\n",
       "      <th>1</th>\n",
       "      <td>2023-06-01</td>\n",
       "      <td>2023-06-30</td>\n",
       "      <td>0.116883</td>\n",
       "      <td>Month</td>\n",
       "      <td>sb_demo_score</td>\n",
       "      <td>1.1.0</td>\n",
       "      <td>FSPD30</td>\n",
       "    </tr>\n",
       "    <tr>\n",
       "      <th>2</th>\n",
       "      <td>2023-06-05</td>\n",
       "      <td>2023-06-11</td>\n",
       "      <td>0.239192</td>\n",
       "      <td>Week</td>\n",
       "      <td>sb_demo_score</td>\n",
       "      <td>1.1.0</td>\n",
       "      <td>FSPD30</td>\n",
       "    </tr>\n",
       "    <tr>\n",
       "      <th>3</th>\n",
       "      <td>2023-06-12</td>\n",
       "      <td>2023-06-18</td>\n",
       "      <td>0.042081</td>\n",
       "      <td>Week</td>\n",
       "      <td>sb_demo_score</td>\n",
       "      <td>1.1.0</td>\n",
       "      <td>FSPD30</td>\n",
       "    </tr>\n",
       "    <tr>\n",
       "      <th>4</th>\n",
       "      <td>2023-06-19</td>\n",
       "      <td>2023-06-25</td>\n",
       "      <td>0.077598</td>\n",
       "      <td>Week</td>\n",
       "      <td>sb_demo_score</td>\n",
       "      <td>1.1.0</td>\n",
       "      <td>FSPD30</td>\n",
       "    </tr>\n",
       "  </tbody>\n",
       "</table>\n",
       "</div>"
      ],
      "text/plain": [
       "  start_date   end_date  sb_demo_score_FSPD30_gini period     Model_Name  \\\n",
       "0 2023-05-29 2023-06-04                   0.087601   Week  sb_demo_score   \n",
       "1 2023-06-01 2023-06-30                   0.116883  Month  sb_demo_score   \n",
       "2 2023-06-05 2023-06-11                   0.239192   Week  sb_demo_score   \n",
       "3 2023-06-12 2023-06-18                   0.042081   Week  sb_demo_score   \n",
       "4 2023-06-19 2023-06-25                   0.077598   Week  sb_demo_score   \n",
       "\n",
       "  version bad_rate  \n",
       "0   1.1.0   FSPD30  \n",
       "1   1.1.0   FSPD30  \n",
       "2   1.1.0   FSPD30  \n",
       "3   1.1.0   FSPD30  \n",
       "4   1.1.0   FSPD30  "
      ]
     },
     "execution_count": 40,
     "metadata": {},
     "output_type": "execute_result"
    }
   ],
   "source": [
    "sb_demo_scoreFSPD30.head()"
   ]
  },
  {
   "cell_type": "markdown",
   "metadata": {},
   "source": [
    "## FSTPD30"
   ]
  },
  {
   "cell_type": "code",
   "execution_count": 41,
   "metadata": {},
   "outputs": [
    {
     "name": "stdout",
     "output_type": "stream",
     "text": [
      "Job ID d83452bb-22e9-40d7-9089-25aeeaa5da1b successfully executed: 100%|\u001b[32m██████████\u001b[0m|"
     ]
    },
    {
     "name": "stderr",
     "output_type": "stream",
     "text": [
      "d:\\Anaconda3\\envs\\inc_env\\lib\\site-packages\\google\\cloud\\bigquery\\table.py:1820: UserWarning: BigQuery Storage module not found, fetch data with the REST endpoint instead.\n",
      "  warnings.warn(\n"
     ]
    },
    {
     "name": "stdout",
     "output_type": "stream",
     "text": [
      "\n",
      "Downloading: 100%|\u001b[32m██████████\u001b[0m|\n"
     ]
    }
   ],
   "source": [
    "sq = \"\"\"\n",
    "with sb_demo_score as \n",
    "(SELECT \n",
    "    ln_disb_dtime disbursementdate,\n",
    "\tdigitalLoanAccountId,\n",
    "    beta_demo_score sb_demo_score,\n",
    "    ln_fstpd30_flag,   -- fstpd30\n",
    "\tln_mature_fstpd30_flag,\t--- fstpd30 observation\n",
    "\tFROM \n",
    "    risk_mart.sil_risk_ds_master_20230101_20250309\n",
    "  WHERE \n",
    "     -- ln_disb_dtime >= '2023-07-01'\n",
    "    ln_appln_submit_datetime >= '2023-06-01'\n",
    "  -- AND\n",
    "  --   format_date('%Y-%m', ln_disb_dtime) = '2024-09'\n",
    "  AND\n",
    "    ln_fstpd30_flag is not null\n",
    "  AND\n",
    "    beta_demo_score is not null\n",
    "  AND\n",
    "    ln_mature_fstpd30_flag = 1\n",
    ")\n",
    "select * from sb_demo_score;\n",
    "\"\"\"\n",
    "\n",
    "df_sb_demo_scorefstpd30 = client.query(sq).to_dataframe(progress_bar_type='tqdm')"
   ]
  },
  {
   "cell_type": "code",
   "execution_count": 42,
   "metadata": {},
   "outputs": [
    {
     "name": "stdout",
     "output_type": "stream",
     "text": [
      "The shape of dataframe after copy is:\t(94, 7)\n"
     ]
    },
    {
     "data": {
      "text/plain": [
       "array(['start_date', 'end_date', 'sb_demo_score_FSTPD30_gini', 'period',\n",
       "       'Model_Name', 'version', 'bad_rate'], dtype=object)"
      ]
     },
     "execution_count": 42,
     "metadata": {},
     "output_type": "execute_result"
    }
   ],
   "source": [
    "gini_results = calculate_periodic_gini(df_sb_demo_scorefstpd30, 'sb_demo_score', 'ln_fstpd30_flag', 'FSTPD30')\n",
    "sb_demo_scoreFSTPD30 = gini_results.copy()\n",
    "print(f\"The shape of dataframe after copy is:\\t{sb_demo_scoreFSTPD30.shape}\")\n",
    "sb_demo_scoreFSTPD30.columns.values"
   ]
  },
  {
   "cell_type": "code",
   "execution_count": 43,
   "metadata": {},
   "outputs": [
    {
     "data": {
      "application/vnd.microsoft.datawrangler.viewer.v0+json": {
       "columns": [
        {
         "name": "index",
         "rawType": "int64",
         "type": "integer"
        },
        {
         "name": "start_date",
         "rawType": "datetime64[ns]",
         "type": "datetime"
        },
        {
         "name": "end_date",
         "rawType": "datetime64[ns]",
         "type": "datetime"
        },
        {
         "name": "sb_demo_score_FSTPD30_gini",
         "rawType": "float64",
         "type": "float"
        },
        {
         "name": "period",
         "rawType": "object",
         "type": "string"
        },
        {
         "name": "Model_Name",
         "rawType": "object",
         "type": "string"
        },
        {
         "name": "version",
         "rawType": "object",
         "type": "string"
        },
        {
         "name": "bad_rate",
         "rawType": "object",
         "type": "string"
        }
       ],
       "conversionMethod": "pd.DataFrame",
       "ref": "c978ebee-6a07-4e92-8549-c84196c081c2",
       "rows": [
        [
         "0",
         "2023-05-29 00:00:00",
         "2023-06-04 00:00:00",
         "0.210239651416122",
         "Week",
         "sb_demo_score",
         "1.1.0",
         "FSTPD30"
        ],
        [
         "1",
         "2023-06-01 00:00:00",
         "2023-06-30 00:00:00",
         "0.09264214046822739",
         "Month",
         "sb_demo_score",
         "1.1.0",
         "FSTPD30"
        ],
        [
         "2",
         "2023-06-05 00:00:00",
         "2023-06-11 00:00:00",
         "0.2917540181691125",
         "Week",
         "sb_demo_score",
         "1.1.0",
         "FSTPD30"
        ],
        [
         "3",
         "2023-06-12 00:00:00",
         "2023-06-18 00:00:00",
         "-0.12176308539944891",
         "Week",
         "sb_demo_score",
         "1.1.0",
         "FSTPD30"
        ],
        [
         "4",
         "2023-06-19 00:00:00",
         "2023-06-25 00:00:00",
         "0.09813333333333318",
         "Week",
         "sb_demo_score",
         "1.1.0",
         "FSTPD30"
        ]
       ],
       "shape": {
        "columns": 7,
        "rows": 5
       }
      },
      "text/html": [
       "<div>\n",
       "<style scoped>\n",
       "    .dataframe tbody tr th:only-of-type {\n",
       "        vertical-align: middle;\n",
       "    }\n",
       "\n",
       "    .dataframe tbody tr th {\n",
       "        vertical-align: top;\n",
       "    }\n",
       "\n",
       "    .dataframe thead th {\n",
       "        text-align: right;\n",
       "    }\n",
       "</style>\n",
       "<table border=\"1\" class=\"dataframe\">\n",
       "  <thead>\n",
       "    <tr style=\"text-align: right;\">\n",
       "      <th></th>\n",
       "      <th>start_date</th>\n",
       "      <th>end_date</th>\n",
       "      <th>sb_demo_score_FSTPD30_gini</th>\n",
       "      <th>period</th>\n",
       "      <th>Model_Name</th>\n",
       "      <th>version</th>\n",
       "      <th>bad_rate</th>\n",
       "    </tr>\n",
       "  </thead>\n",
       "  <tbody>\n",
       "    <tr>\n",
       "      <th>0</th>\n",
       "      <td>2023-05-29</td>\n",
       "      <td>2023-06-04</td>\n",
       "      <td>0.210240</td>\n",
       "      <td>Week</td>\n",
       "      <td>sb_demo_score</td>\n",
       "      <td>1.1.0</td>\n",
       "      <td>FSTPD30</td>\n",
       "    </tr>\n",
       "    <tr>\n",
       "      <th>1</th>\n",
       "      <td>2023-06-01</td>\n",
       "      <td>2023-06-30</td>\n",
       "      <td>0.092642</td>\n",
       "      <td>Month</td>\n",
       "      <td>sb_demo_score</td>\n",
       "      <td>1.1.0</td>\n",
       "      <td>FSTPD30</td>\n",
       "    </tr>\n",
       "    <tr>\n",
       "      <th>2</th>\n",
       "      <td>2023-06-05</td>\n",
       "      <td>2023-06-11</td>\n",
       "      <td>0.291754</td>\n",
       "      <td>Week</td>\n",
       "      <td>sb_demo_score</td>\n",
       "      <td>1.1.0</td>\n",
       "      <td>FSTPD30</td>\n",
       "    </tr>\n",
       "    <tr>\n",
       "      <th>3</th>\n",
       "      <td>2023-06-12</td>\n",
       "      <td>2023-06-18</td>\n",
       "      <td>-0.121763</td>\n",
       "      <td>Week</td>\n",
       "      <td>sb_demo_score</td>\n",
       "      <td>1.1.0</td>\n",
       "      <td>FSTPD30</td>\n",
       "    </tr>\n",
       "    <tr>\n",
       "      <th>4</th>\n",
       "      <td>2023-06-19</td>\n",
       "      <td>2023-06-25</td>\n",
       "      <td>0.098133</td>\n",
       "      <td>Week</td>\n",
       "      <td>sb_demo_score</td>\n",
       "      <td>1.1.0</td>\n",
       "      <td>FSTPD30</td>\n",
       "    </tr>\n",
       "  </tbody>\n",
       "</table>\n",
       "</div>"
      ],
      "text/plain": [
       "  start_date   end_date  sb_demo_score_FSTPD30_gini period     Model_Name  \\\n",
       "0 2023-05-29 2023-06-04                    0.210240   Week  sb_demo_score   \n",
       "1 2023-06-01 2023-06-30                    0.092642  Month  sb_demo_score   \n",
       "2 2023-06-05 2023-06-11                    0.291754   Week  sb_demo_score   \n",
       "3 2023-06-12 2023-06-18                   -0.121763   Week  sb_demo_score   \n",
       "4 2023-06-19 2023-06-25                    0.098133   Week  sb_demo_score   \n",
       "\n",
       "  version bad_rate  \n",
       "0   1.1.0  FSTPD30  \n",
       "1   1.1.0  FSTPD30  \n",
       "2   1.1.0  FSTPD30  \n",
       "3   1.1.0  FSTPD30  \n",
       "4   1.1.0  FSTPD30  "
      ]
     },
     "execution_count": 43,
     "metadata": {},
     "output_type": "execute_result"
    }
   ],
   "source": [
    "sb_demo_scoreFSTPD30.head()"
   ]
  },
  {
   "cell_type": "markdown",
   "metadata": {},
   "source": [
    "# Combining sb demo score"
   ]
  },
  {
   "cell_type": "code",
   "execution_count": 44,
   "metadata": {},
   "outputs": [
    {
     "data": {
      "text/plain": [
       "array(['start_date', 'end_date', 'sb_demo_score_FPD10_gini', 'period',\n",
       "       'Model_Name', 'version', 'bad_rate', 'sb_demo_score_FPD30_gini',\n",
       "       'sb_demo_score_FSPD30_gini', 'sb_demo_score_FSTPD30_gini'],\n",
       "      dtype=object)"
      ]
     },
     "execution_count": 44,
     "metadata": {},
     "output_type": "execute_result"
    }
   ],
   "source": [
    "import functools\n",
    "\n",
    "dataframes = [sb_demo_scoreFPD10, sb_demo_scoreFPD30, sb_demo_scoreFSPD30, sb_demo_scoreFSTPD30]\n",
    "common_columns = ['start_date', 'end_date', 'period', 'Model_Name','version', 'bad_rate']\n",
    "\n",
    "def merge_dataframes(df1, df2):\n",
    "    return pd.merge(df1, df2, on=common_columns, how='outer')\n",
    "\n",
    "final_df = functools.reduce(merge_dataframes, dataframes)\n",
    "\n",
    "final_df.columns.values"
   ]
  },
  {
   "cell_type": "code",
   "execution_count": 45,
   "metadata": {},
   "outputs": [],
   "source": [
    "final_df = final_df[['start_date', 'end_date', 'period',\n",
    "       'Model_Name', 'version', 'bad_rate','sb_demo_score_FPD10_gini','sb_demo_score_FPD30_gini',\n",
    "       'sb_demo_score_FSPD30_gini', 'sb_demo_score_FSTPD30_gini']].copy()"
   ]
  },
  {
   "cell_type": "markdown",
   "metadata": {},
   "source": [
    "## creating sb demo score table "
   ]
  },
  {
   "cell_type": "code",
   "execution_count": 46,
   "metadata": {},
   "outputs": [
    {
     "data": {
      "text/plain": [
       "QueryJob<project=prj-prod-dataplatform, location=asia-southeast1, id=c9995d8c-b0ad-4bc2-a3da-c43312de29f8>"
      ]
     },
     "execution_count": 46,
     "metadata": {},
     "output_type": "execute_result"
    }
   ],
   "source": [
    "sq = \"\"\"drop table if exists prj-prod-dataplatform.dap_ds_poweruser_playground.Model_gini_sb_demo_score;\"\"\"\n",
    "client.query(sq)"
   ]
  },
  {
   "cell_type": "code",
   "execution_count": 47,
   "metadata": {},
   "outputs": [
    {
     "data": {
      "text/plain": [
       "LoadJob<project=prj-prod-dataplatform, location=asia-southeast1, id=ca652b7f-0507-487b-a0d8-0d733640268a>"
      ]
     },
     "execution_count": 47,
     "metadata": {},
     "output_type": "execute_result"
    }
   ],
   "source": [
    "\n",
    "\n",
    "import pandas as pd\n",
    "from google.cloud import bigquery\n",
    "\n",
    "# Create a BigQuery client\n",
    "client = bigquery.Client('prj-prod-dataplatform')\n",
    "\n",
    "# Define your table schema\n",
    "table_schema = [\n",
    "    bigquery.SchemaField('start_date', 'TIMESTAMP'),\n",
    "    bigquery.SchemaField('end_date', 'TIMESTAMP'),\n",
    "    bigquery.SchemaField('period', 'STRING'),\n",
    "    bigquery.SchemaField('Model_Name', 'STRING'),\n",
    "    bigquery.SchemaField('version', 'STRING'),\n",
    "    bigquery.SchemaField('Badrate', 'STRING'),\n",
    "    bigquery.SchemaField('sb_demo_score_FPD10_gini', 'FLOAT'),\n",
    "    bigquery.SchemaField('sb_demo_score_FPD30_gini', 'FLOAT'),    \n",
    "    bigquery.SchemaField('sb_demo_score_FSPD30_gini', 'FLOAT'),\n",
    "    bigquery.SchemaField('sb_demo_score_FSTPD30_gini', 'FLOAT')\n",
    "    \n",
    "]\n",
    "\n",
    "# Create your BigQuery table\n",
    "table_id = 'prj-prod-dataplatform.dap_ds_poweruser_playground.Model_gini_sb_demo_score'\n",
    "table = bigquery.Table(table_id, schema=table_schema)\n",
    "table = client.create_table(table)\n",
    "\n",
    "# Load your DataFrame into BigQuery\n",
    "job_config = bigquery.LoadJobConfig(\n",
    "    write_disposition='WRITE_TRUNCATE'\n",
    ")\n",
    "\n",
    "load_job = client.load_table_from_dataframe(\n",
    "    final_df, table_id, job_config=job_config\n",
    ")\n",
    "\n",
    "load_job.result()"
   ]
  },
  {
   "cell_type": "markdown",
   "metadata": {},
   "source": [
    "# s_cic_score"
   ]
  },
  {
   "cell_type": "markdown",
   "metadata": {},
   "source": [
    "## FPD10"
   ]
  },
  {
   "cell_type": "code",
   "execution_count": 48,
   "metadata": {},
   "outputs": [
    {
     "name": "stdout",
     "output_type": "stream",
     "text": [
      "Job ID 5412f69c-36ed-4ebc-9ccf-7a8f7da9426b successfully executed: 100%|\u001b[32m██████████\u001b[0m|"
     ]
    },
    {
     "name": "stderr",
     "output_type": "stream",
     "text": [
      "d:\\Anaconda3\\envs\\inc_env\\lib\\site-packages\\google\\cloud\\bigquery\\table.py:1820: UserWarning: BigQuery Storage module not found, fetch data with the REST endpoint instead.\n",
      "  warnings.warn(\n"
     ]
    },
    {
     "name": "stdout",
     "output_type": "stream",
     "text": [
      "\n",
      "Downloading: 100%|\u001b[32m██████████\u001b[0m|\n"
     ]
    }
   ],
   "source": [
    "sq = \"\"\"\n",
    "with s_cic_score as \n",
    "(SELECT \n",
    "    ln_disb_dtime disbursementdate,\n",
    "\tdigitalLoanAccountId,\n",
    "    cic_score s_cic_score,\n",
    "    ln_fpd10_flag,\n",
    "\tln_mature_fpd10_flag,\t\n",
    "\tFROM \n",
    "    risk_mart.sil_risk_ds_master_20230101_20250309\n",
    "  WHERE \n",
    "     -- ln_disb_dtime >= '2023-07-01'\n",
    "    ln_appln_submit_datetime >= '2023-06-01'\n",
    "  -- AND\n",
    "  --   format_date('%Y-%m', ln_disb_dtime) = '2024-09'\n",
    "  AND\n",
    "    ln_fpd10_flag is not null\n",
    "  AND\n",
    "    cic_score is not null\n",
    "  AND\n",
    "    ln_mature_fpd10_flag = 1\n",
    ")\n",
    "select * from s_cic_score;\n",
    "\"\"\"\n",
    "\n",
    "df_s_cic_scorefpd10 = client.query(sq).to_dataframe(progress_bar_type='tqdm')"
   ]
  },
  {
   "cell_type": "code",
   "execution_count": 49,
   "metadata": {},
   "outputs": [
    {
     "data": {
      "application/vnd.microsoft.datawrangler.viewer.v0+json": {
       "columns": [
        {
         "name": "index",
         "rawType": "int64",
         "type": "integer"
        },
        {
         "name": "disbursementdate",
         "rawType": "datetime64[us]",
         "type": "unknown"
        },
        {
         "name": "digitalLoanAccountId",
         "rawType": "object",
         "type": "string"
        },
        {
         "name": "s_cic_score",
         "rawType": "float64",
         "type": "float"
        },
        {
         "name": "ln_fpd10_flag",
         "rawType": "Int64",
         "type": "integer"
        },
        {
         "name": "ln_mature_fpd10_flag",
         "rawType": "Int64",
         "type": "integer"
        }
       ],
       "conversionMethod": "pd.DataFrame",
       "ref": "5559d569-1ba7-4a82-9d4c-f44a44ba5dd3",
       "rows": [
        [
         "0",
         "2024-07-16 19:09:27",
         "a731f941-ed8a-4278-9ba4-1fd41132aa5e",
         "0.11700460553673248",
         "0",
         "1"
        ],
        [
         "1",
         "2024-09-15 09:21:50",
         "2f8156e6-5c5b-454c-92d9-628291e6f99e",
         "0.12265990807872204",
         "0",
         "1"
        ],
        [
         "2",
         "2024-12-29 18:02:03",
         "6548e088-8d8e-47ae-b33d-e6df00d80c38",
         "0.05826616975724102",
         "0",
         "1"
        ],
        [
         "3",
         "2025-01-14 17:34:10",
         "15667458-5a69-445e-bd5d-4e22394b789e",
         "0.09897421800534903",
         "0",
         "1"
        ],
        [
         "4",
         "2025-01-11 16:07:45",
         "350e8b35-ba30-41e6-992f-ab0a8208c404",
         "0.09897421800534903",
         "0",
         "1"
        ]
       ],
       "shape": {
        "columns": 5,
        "rows": 5
       }
      },
      "text/html": [
       "<div>\n",
       "<style scoped>\n",
       "    .dataframe tbody tr th:only-of-type {\n",
       "        vertical-align: middle;\n",
       "    }\n",
       "\n",
       "    .dataframe tbody tr th {\n",
       "        vertical-align: top;\n",
       "    }\n",
       "\n",
       "    .dataframe thead th {\n",
       "        text-align: right;\n",
       "    }\n",
       "</style>\n",
       "<table border=\"1\" class=\"dataframe\">\n",
       "  <thead>\n",
       "    <tr style=\"text-align: right;\">\n",
       "      <th></th>\n",
       "      <th>disbursementdate</th>\n",
       "      <th>digitalLoanAccountId</th>\n",
       "      <th>s_cic_score</th>\n",
       "      <th>ln_fpd10_flag</th>\n",
       "      <th>ln_mature_fpd10_flag</th>\n",
       "    </tr>\n",
       "  </thead>\n",
       "  <tbody>\n",
       "    <tr>\n",
       "      <th>0</th>\n",
       "      <td>2024-07-16 19:09:27</td>\n",
       "      <td>a731f941-ed8a-4278-9ba4-1fd41132aa5e</td>\n",
       "      <td>0.117005</td>\n",
       "      <td>0</td>\n",
       "      <td>1</td>\n",
       "    </tr>\n",
       "    <tr>\n",
       "      <th>1</th>\n",
       "      <td>2024-09-15 09:21:50</td>\n",
       "      <td>2f8156e6-5c5b-454c-92d9-628291e6f99e</td>\n",
       "      <td>0.122660</td>\n",
       "      <td>0</td>\n",
       "      <td>1</td>\n",
       "    </tr>\n",
       "    <tr>\n",
       "      <th>2</th>\n",
       "      <td>2024-12-29 18:02:03</td>\n",
       "      <td>6548e088-8d8e-47ae-b33d-e6df00d80c38</td>\n",
       "      <td>0.058266</td>\n",
       "      <td>0</td>\n",
       "      <td>1</td>\n",
       "    </tr>\n",
       "    <tr>\n",
       "      <th>3</th>\n",
       "      <td>2025-01-14 17:34:10</td>\n",
       "      <td>15667458-5a69-445e-bd5d-4e22394b789e</td>\n",
       "      <td>0.098974</td>\n",
       "      <td>0</td>\n",
       "      <td>1</td>\n",
       "    </tr>\n",
       "    <tr>\n",
       "      <th>4</th>\n",
       "      <td>2025-01-11 16:07:45</td>\n",
       "      <td>350e8b35-ba30-41e6-992f-ab0a8208c404</td>\n",
       "      <td>0.098974</td>\n",
       "      <td>0</td>\n",
       "      <td>1</td>\n",
       "    </tr>\n",
       "  </tbody>\n",
       "</table>\n",
       "</div>"
      ],
      "text/plain": [
       "     disbursementdate                  digitalLoanAccountId  s_cic_score  \\\n",
       "0 2024-07-16 19:09:27  a731f941-ed8a-4278-9ba4-1fd41132aa5e     0.117005   \n",
       "1 2024-09-15 09:21:50  2f8156e6-5c5b-454c-92d9-628291e6f99e     0.122660   \n",
       "2 2024-12-29 18:02:03  6548e088-8d8e-47ae-b33d-e6df00d80c38     0.058266   \n",
       "3 2025-01-14 17:34:10  15667458-5a69-445e-bd5d-4e22394b789e     0.098974   \n",
       "4 2025-01-11 16:07:45  350e8b35-ba30-41e6-992f-ab0a8208c404     0.098974   \n",
       "\n",
       "   ln_fpd10_flag  ln_mature_fpd10_flag  \n",
       "0              0                     1  \n",
       "1              0                     1  \n",
       "2              0                     1  \n",
       "3              0                     1  \n",
       "4              0                     1  "
      ]
     },
     "execution_count": 49,
     "metadata": {},
     "output_type": "execute_result"
    }
   ],
   "source": [
    "df_s_cic_scorefpd10.head()"
   ]
  },
  {
   "cell_type": "code",
   "execution_count": 50,
   "metadata": {},
   "outputs": [
    {
     "name": "stdout",
     "output_type": "stream",
     "text": [
      "The shape of dataframe after copy is:\t(107, 7)\n"
     ]
    },
    {
     "data": {
      "text/plain": [
       "array(['start_date', 'end_date', 's_cic_score_FPD10_gini', 'period',\n",
       "       'Model_Name', 'version', 'bad_rate'], dtype=object)"
      ]
     },
     "execution_count": 50,
     "metadata": {},
     "output_type": "execute_result"
    }
   ],
   "source": [
    "gini_results = calculate_periodic_gini(df_s_cic_scorefpd10, 's_cic_score', 'ln_fpd10_flag', 'FPD10')\n",
    "s_cic_scoreFPD10 = gini_results.copy()\n",
    "print(f\"The shape of dataframe after copy is:\\t{s_cic_scoreFPD10.shape}\")\n",
    "s_cic_scoreFPD10.columns.values"
   ]
  },
  {
   "cell_type": "code",
   "execution_count": 51,
   "metadata": {},
   "outputs": [
    {
     "data": {
      "application/vnd.microsoft.datawrangler.viewer.v0+json": {
       "columns": [
        {
         "name": "index",
         "rawType": "int64",
         "type": "integer"
        },
        {
         "name": "start_date",
         "rawType": "datetime64[ns]",
         "type": "datetime"
        },
        {
         "name": "end_date",
         "rawType": "datetime64[ns]",
         "type": "datetime"
        },
        {
         "name": "s_cic_score_FPD10_gini",
         "rawType": "float64",
         "type": "float"
        },
        {
         "name": "period",
         "rawType": "object",
         "type": "string"
        },
        {
         "name": "Model_Name",
         "rawType": "object",
         "type": "string"
        },
        {
         "name": "version",
         "rawType": "object",
         "type": "string"
        },
        {
         "name": "bad_rate",
         "rawType": "object",
         "type": "string"
        }
       ],
       "conversionMethod": "pd.DataFrame",
       "ref": "67366b5b-42f6-417f-b0dd-0d35838adbd8",
       "rows": [
        [
         "102",
         "2025-01-01 00:00:00",
         "2025-01-31 00:00:00",
         "0.18312774239811525",
         "Month",
         "s_cic_score",
         "1.1.0",
         "FPD10"
        ],
        [
         "103",
         "2025-01-06 00:00:00",
         "2025-01-12 00:00:00",
         "0.19010877148837357",
         "Week",
         "s_cic_score",
         "1.1.0",
         "FPD10"
        ],
        [
         "104",
         "2025-01-13 00:00:00",
         "2025-01-19 00:00:00",
         "0.1414733198932563",
         "Week",
         "s_cic_score",
         "1.1.0",
         "FPD10"
        ],
        [
         "105",
         "2025-01-20 00:00:00",
         "2025-01-26 00:00:00",
         "0.16491500079667598",
         "Week",
         "s_cic_score",
         "1.1.0",
         "FPD10"
        ],
        [
         "106",
         "2025-01-27 00:00:00",
         "2025-02-02 00:00:00",
         "0.2090190566864636",
         "Week",
         "s_cic_score",
         "1.1.0",
         "FPD10"
        ]
       ],
       "shape": {
        "columns": 7,
        "rows": 5
       }
      },
      "text/html": [
       "<div>\n",
       "<style scoped>\n",
       "    .dataframe tbody tr th:only-of-type {\n",
       "        vertical-align: middle;\n",
       "    }\n",
       "\n",
       "    .dataframe tbody tr th {\n",
       "        vertical-align: top;\n",
       "    }\n",
       "\n",
       "    .dataframe thead th {\n",
       "        text-align: right;\n",
       "    }\n",
       "</style>\n",
       "<table border=\"1\" class=\"dataframe\">\n",
       "  <thead>\n",
       "    <tr style=\"text-align: right;\">\n",
       "      <th></th>\n",
       "      <th>start_date</th>\n",
       "      <th>end_date</th>\n",
       "      <th>s_cic_score_FPD10_gini</th>\n",
       "      <th>period</th>\n",
       "      <th>Model_Name</th>\n",
       "      <th>version</th>\n",
       "      <th>bad_rate</th>\n",
       "    </tr>\n",
       "  </thead>\n",
       "  <tbody>\n",
       "    <tr>\n",
       "      <th>102</th>\n",
       "      <td>2025-01-01</td>\n",
       "      <td>2025-01-31</td>\n",
       "      <td>0.183128</td>\n",
       "      <td>Month</td>\n",
       "      <td>s_cic_score</td>\n",
       "      <td>1.1.0</td>\n",
       "      <td>FPD10</td>\n",
       "    </tr>\n",
       "    <tr>\n",
       "      <th>103</th>\n",
       "      <td>2025-01-06</td>\n",
       "      <td>2025-01-12</td>\n",
       "      <td>0.190109</td>\n",
       "      <td>Week</td>\n",
       "      <td>s_cic_score</td>\n",
       "      <td>1.1.0</td>\n",
       "      <td>FPD10</td>\n",
       "    </tr>\n",
       "    <tr>\n",
       "      <th>104</th>\n",
       "      <td>2025-01-13</td>\n",
       "      <td>2025-01-19</td>\n",
       "      <td>0.141473</td>\n",
       "      <td>Week</td>\n",
       "      <td>s_cic_score</td>\n",
       "      <td>1.1.0</td>\n",
       "      <td>FPD10</td>\n",
       "    </tr>\n",
       "    <tr>\n",
       "      <th>105</th>\n",
       "      <td>2025-01-20</td>\n",
       "      <td>2025-01-26</td>\n",
       "      <td>0.164915</td>\n",
       "      <td>Week</td>\n",
       "      <td>s_cic_score</td>\n",
       "      <td>1.1.0</td>\n",
       "      <td>FPD10</td>\n",
       "    </tr>\n",
       "    <tr>\n",
       "      <th>106</th>\n",
       "      <td>2025-01-27</td>\n",
       "      <td>2025-02-02</td>\n",
       "      <td>0.209019</td>\n",
       "      <td>Week</td>\n",
       "      <td>s_cic_score</td>\n",
       "      <td>1.1.0</td>\n",
       "      <td>FPD10</td>\n",
       "    </tr>\n",
       "  </tbody>\n",
       "</table>\n",
       "</div>"
      ],
      "text/plain": [
       "    start_date   end_date  s_cic_score_FPD10_gini period   Model_Name version  \\\n",
       "102 2025-01-01 2025-01-31                0.183128  Month  s_cic_score   1.1.0   \n",
       "103 2025-01-06 2025-01-12                0.190109   Week  s_cic_score   1.1.0   \n",
       "104 2025-01-13 2025-01-19                0.141473   Week  s_cic_score   1.1.0   \n",
       "105 2025-01-20 2025-01-26                0.164915   Week  s_cic_score   1.1.0   \n",
       "106 2025-01-27 2025-02-02                0.209019   Week  s_cic_score   1.1.0   \n",
       "\n",
       "    bad_rate  \n",
       "102    FPD10  \n",
       "103    FPD10  \n",
       "104    FPD10  \n",
       "105    FPD10  \n",
       "106    FPD10  "
      ]
     },
     "execution_count": 51,
     "metadata": {},
     "output_type": "execute_result"
    }
   ],
   "source": [
    "s_cic_scoreFPD10.tail()"
   ]
  },
  {
   "cell_type": "markdown",
   "metadata": {},
   "source": [
    "## FPD30"
   ]
  },
  {
   "cell_type": "code",
   "execution_count": 53,
   "metadata": {},
   "outputs": [
    {
     "name": "stdout",
     "output_type": "stream",
     "text": [
      "\n",
      "\u001b[A\n",
      "\u001b[A\n",
      "\u001b[A\n",
      "Job ID cf0138c4-d961-496f-ac4f-a0c97acf1e3f successfully executed: 100%|\u001b[32m██████████\u001b[0m|"
     ]
    },
    {
     "name": "stderr",
     "output_type": "stream",
     "text": [
      "d:\\Anaconda3\\envs\\inc_env\\lib\\site-packages\\google\\cloud\\bigquery\\table.py:1820: UserWarning: BigQuery Storage module not found, fetch data with the REST endpoint instead.\n",
      "  warnings.warn(\n"
     ]
    },
    {
     "name": "stdout",
     "output_type": "stream",
     "text": [
      "\n",
      "\n",
      "Query is running:   0%|\u001b[32m          \u001b[0m|\n",
      "\n",
      "\u001b[A\n",
      "Downloading: 100%|\u001b[32m██████████\u001b[0m|\n"
     ]
    }
   ],
   "source": [
    "sq = \"\"\"\n",
    "with s_cic_score as \n",
    "(SELECT \n",
    "    ln_disb_dtime disbursementdate,\n",
    "\tdigitalLoanAccountId,\n",
    "    cic_score s_cic_score,\n",
    "    ln_fpd30_flag,\n",
    "\tln_mature_fpd30_flag,\t\n",
    "\tFROM \n",
    "  risk_mart.sil_risk_ds_master_20230101_20250309\n",
    "  WHERE \n",
    "     -- ln_disb_dtime >= '2023-07-01'\n",
    "    ln_appln_submit_datetime >= '2023-06-01'\n",
    "  -- AND\n",
    "  --   format_date('%Y-%m', ln_disb_dtime) = '2024-09'\n",
    "  AND\n",
    "    ln_fpd30_flag is not null\n",
    "  AND\n",
    "    cic_score is not null\n",
    "  AND\n",
    "    ln_mature_fpd30_flag = 1\n",
    ")\n",
    "select * from s_cic_score;\n",
    "\"\"\"\n",
    "\n",
    "df_s_cic_scorefpd30 = client.query(sq).to_dataframe(progress_bar_type='tqdm')"
   ]
  },
  {
   "cell_type": "code",
   "execution_count": 54,
   "metadata": {},
   "outputs": [
    {
     "data": {
      "application/vnd.microsoft.datawrangler.viewer.v0+json": {
       "columns": [
        {
         "name": "index",
         "rawType": "int64",
         "type": "integer"
        },
        {
         "name": "disbursementdate",
         "rawType": "datetime64[us]",
         "type": "unknown"
        },
        {
         "name": "digitalLoanAccountId",
         "rawType": "object",
         "type": "string"
        },
        {
         "name": "s_cic_score",
         "rawType": "float64",
         "type": "float"
        },
        {
         "name": "ln_fpd30_flag",
         "rawType": "Int64",
         "type": "integer"
        },
        {
         "name": "ln_mature_fpd30_flag",
         "rawType": "Int64",
         "type": "integer"
        }
       ],
       "conversionMethod": "pd.DataFrame",
       "ref": "b83261f6-40bb-4528-8659-5ed6290b77ea",
       "rows": [
        [
         "0",
         "2024-07-16 19:09:27",
         "a731f941-ed8a-4278-9ba4-1fd41132aa5e",
         "0.11700460553673248",
         "0",
         "1"
        ],
        [
         "1",
         "2024-09-15 09:21:50",
         "2f8156e6-5c5b-454c-92d9-628291e6f99e",
         "0.12265990807872204",
         "0",
         "1"
        ],
        [
         "2",
         "2024-12-29 18:02:03",
         "6548e088-8d8e-47ae-b33d-e6df00d80c38",
         "0.05826616975724102",
         "0",
         "1"
        ],
        [
         "3",
         "2024-10-30 19:26:13",
         "4266c053-98c9-4825-bfce-b59264b1251d",
         "0.1519449275755241",
         "0",
         "1"
        ],
        [
         "4",
         "2024-08-18 13:17:01",
         "d1d7594f-fcac-4295-b037-d998766d91be",
         "0.05223104744359143",
         "0",
         "1"
        ]
       ],
       "shape": {
        "columns": 5,
        "rows": 5
       }
      },
      "text/html": [
       "<div>\n",
       "<style scoped>\n",
       "    .dataframe tbody tr th:only-of-type {\n",
       "        vertical-align: middle;\n",
       "    }\n",
       "\n",
       "    .dataframe tbody tr th {\n",
       "        vertical-align: top;\n",
       "    }\n",
       "\n",
       "    .dataframe thead th {\n",
       "        text-align: right;\n",
       "    }\n",
       "</style>\n",
       "<table border=\"1\" class=\"dataframe\">\n",
       "  <thead>\n",
       "    <tr style=\"text-align: right;\">\n",
       "      <th></th>\n",
       "      <th>disbursementdate</th>\n",
       "      <th>digitalLoanAccountId</th>\n",
       "      <th>s_cic_score</th>\n",
       "      <th>ln_fpd30_flag</th>\n",
       "      <th>ln_mature_fpd30_flag</th>\n",
       "    </tr>\n",
       "  </thead>\n",
       "  <tbody>\n",
       "    <tr>\n",
       "      <th>0</th>\n",
       "      <td>2024-07-16 19:09:27</td>\n",
       "      <td>a731f941-ed8a-4278-9ba4-1fd41132aa5e</td>\n",
       "      <td>0.117005</td>\n",
       "      <td>0</td>\n",
       "      <td>1</td>\n",
       "    </tr>\n",
       "    <tr>\n",
       "      <th>1</th>\n",
       "      <td>2024-09-15 09:21:50</td>\n",
       "      <td>2f8156e6-5c5b-454c-92d9-628291e6f99e</td>\n",
       "      <td>0.122660</td>\n",
       "      <td>0</td>\n",
       "      <td>1</td>\n",
       "    </tr>\n",
       "    <tr>\n",
       "      <th>2</th>\n",
       "      <td>2024-12-29 18:02:03</td>\n",
       "      <td>6548e088-8d8e-47ae-b33d-e6df00d80c38</td>\n",
       "      <td>0.058266</td>\n",
       "      <td>0</td>\n",
       "      <td>1</td>\n",
       "    </tr>\n",
       "    <tr>\n",
       "      <th>3</th>\n",
       "      <td>2024-10-30 19:26:13</td>\n",
       "      <td>4266c053-98c9-4825-bfce-b59264b1251d</td>\n",
       "      <td>0.151945</td>\n",
       "      <td>0</td>\n",
       "      <td>1</td>\n",
       "    </tr>\n",
       "    <tr>\n",
       "      <th>4</th>\n",
       "      <td>2024-08-18 13:17:01</td>\n",
       "      <td>d1d7594f-fcac-4295-b037-d998766d91be</td>\n",
       "      <td>0.052231</td>\n",
       "      <td>0</td>\n",
       "      <td>1</td>\n",
       "    </tr>\n",
       "  </tbody>\n",
       "</table>\n",
       "</div>"
      ],
      "text/plain": [
       "     disbursementdate                  digitalLoanAccountId  s_cic_score  \\\n",
       "0 2024-07-16 19:09:27  a731f941-ed8a-4278-9ba4-1fd41132aa5e     0.117005   \n",
       "1 2024-09-15 09:21:50  2f8156e6-5c5b-454c-92d9-628291e6f99e     0.122660   \n",
       "2 2024-12-29 18:02:03  6548e088-8d8e-47ae-b33d-e6df00d80c38     0.058266   \n",
       "3 2024-10-30 19:26:13  4266c053-98c9-4825-bfce-b59264b1251d     0.151945   \n",
       "4 2024-08-18 13:17:01  d1d7594f-fcac-4295-b037-d998766d91be     0.052231   \n",
       "\n",
       "   ln_fpd30_flag  ln_mature_fpd30_flag  \n",
       "0              0                     1  \n",
       "1              0                     1  \n",
       "2              0                     1  \n",
       "3              0                     1  \n",
       "4              0                     1  "
      ]
     },
     "execution_count": 54,
     "metadata": {},
     "output_type": "execute_result"
    }
   ],
   "source": [
    "df_s_cic_scorefpd30.head()"
   ]
  },
  {
   "cell_type": "code",
   "execution_count": 56,
   "metadata": {},
   "outputs": [
    {
     "name": "stdout",
     "output_type": "stream",
     "text": [
      "The shape of dataframe after copy is:\t(104, 7)\n"
     ]
    },
    {
     "data": {
      "text/plain": [
       "array(['start_date', 'end_date', 's_cic_score_FPD30_gini', 'period',\n",
       "       'Model_Name', 'version', 'bad_rate'], dtype=object)"
      ]
     },
     "execution_count": 56,
     "metadata": {},
     "output_type": "execute_result"
    }
   ],
   "source": [
    "gini_results = calculate_periodic_gini(df_s_cic_scorefpd30, 's_cic_score', 'ln_fpd30_flag', 'FPD30')\n",
    "s_cic_scoreFPD30 = gini_results.copy()\n",
    "print(f\"The shape of dataframe after copy is:\\t{s_cic_scoreFPD30.shape}\")\n",
    "s_cic_scoreFPD30.columns.values"
   ]
  },
  {
   "cell_type": "code",
   "execution_count": 57,
   "metadata": {},
   "outputs": [
    {
     "data": {
      "application/vnd.microsoft.datawrangler.viewer.v0+json": {
       "columns": [
        {
         "name": "index",
         "rawType": "int64",
         "type": "integer"
        },
        {
         "name": "start_date",
         "rawType": "datetime64[ns]",
         "type": "datetime"
        },
        {
         "name": "end_date",
         "rawType": "datetime64[ns]",
         "type": "datetime"
        },
        {
         "name": "s_cic_score_FPD30_gini",
         "rawType": "float64",
         "type": "float"
        },
        {
         "name": "period",
         "rawType": "object",
         "type": "string"
        },
        {
         "name": "Model_Name",
         "rawType": "object",
         "type": "string"
        },
        {
         "name": "version",
         "rawType": "object",
         "type": "string"
        },
        {
         "name": "bad_rate",
         "rawType": "object",
         "type": "string"
        }
       ],
       "conversionMethod": "pd.DataFrame",
       "ref": "09c74025-6589-4790-a731-a4ef3f18fd0b",
       "rows": [
        [
         "0",
         "2023-05-29 00:00:00",
         "2023-06-04 00:00:00",
         "0.2615384615384615",
         "Week",
         "s_cic_score",
         "1.1.0",
         "FPD30"
        ],
        [
         "1",
         "2023-06-01 00:00:00",
         "2023-06-30 00:00:00",
         "0.15841178878428175",
         "Month",
         "s_cic_score",
         "1.1.0",
         "FPD30"
        ],
        [
         "2",
         "2023-06-05 00:00:00",
         "2023-06-11 00:00:00",
         "0.19696969696969702",
         "Week",
         "s_cic_score",
         "1.1.0",
         "FPD30"
        ],
        [
         "3",
         "2023-06-12 00:00:00",
         "2023-06-18 00:00:00",
         "-0.4530201342281879",
         "Week",
         "s_cic_score",
         "1.1.0",
         "FPD30"
        ],
        [
         "4",
         "2023-06-19 00:00:00",
         "2023-06-25 00:00:00",
         "0.435483870967742",
         "Week",
         "s_cic_score",
         "1.1.0",
         "FPD30"
        ]
       ],
       "shape": {
        "columns": 7,
        "rows": 5
       }
      },
      "text/html": [
       "<div>\n",
       "<style scoped>\n",
       "    .dataframe tbody tr th:only-of-type {\n",
       "        vertical-align: middle;\n",
       "    }\n",
       "\n",
       "    .dataframe tbody tr th {\n",
       "        vertical-align: top;\n",
       "    }\n",
       "\n",
       "    .dataframe thead th {\n",
       "        text-align: right;\n",
       "    }\n",
       "</style>\n",
       "<table border=\"1\" class=\"dataframe\">\n",
       "  <thead>\n",
       "    <tr style=\"text-align: right;\">\n",
       "      <th></th>\n",
       "      <th>start_date</th>\n",
       "      <th>end_date</th>\n",
       "      <th>s_cic_score_FPD30_gini</th>\n",
       "      <th>period</th>\n",
       "      <th>Model_Name</th>\n",
       "      <th>version</th>\n",
       "      <th>bad_rate</th>\n",
       "    </tr>\n",
       "  </thead>\n",
       "  <tbody>\n",
       "    <tr>\n",
       "      <th>0</th>\n",
       "      <td>2023-05-29</td>\n",
       "      <td>2023-06-04</td>\n",
       "      <td>0.261538</td>\n",
       "      <td>Week</td>\n",
       "      <td>s_cic_score</td>\n",
       "      <td>1.1.0</td>\n",
       "      <td>FPD30</td>\n",
       "    </tr>\n",
       "    <tr>\n",
       "      <th>1</th>\n",
       "      <td>2023-06-01</td>\n",
       "      <td>2023-06-30</td>\n",
       "      <td>0.158412</td>\n",
       "      <td>Month</td>\n",
       "      <td>s_cic_score</td>\n",
       "      <td>1.1.0</td>\n",
       "      <td>FPD30</td>\n",
       "    </tr>\n",
       "    <tr>\n",
       "      <th>2</th>\n",
       "      <td>2023-06-05</td>\n",
       "      <td>2023-06-11</td>\n",
       "      <td>0.196970</td>\n",
       "      <td>Week</td>\n",
       "      <td>s_cic_score</td>\n",
       "      <td>1.1.0</td>\n",
       "      <td>FPD30</td>\n",
       "    </tr>\n",
       "    <tr>\n",
       "      <th>3</th>\n",
       "      <td>2023-06-12</td>\n",
       "      <td>2023-06-18</td>\n",
       "      <td>-0.453020</td>\n",
       "      <td>Week</td>\n",
       "      <td>s_cic_score</td>\n",
       "      <td>1.1.0</td>\n",
       "      <td>FPD30</td>\n",
       "    </tr>\n",
       "    <tr>\n",
       "      <th>4</th>\n",
       "      <td>2023-06-19</td>\n",
       "      <td>2023-06-25</td>\n",
       "      <td>0.435484</td>\n",
       "      <td>Week</td>\n",
       "      <td>s_cic_score</td>\n",
       "      <td>1.1.0</td>\n",
       "      <td>FPD30</td>\n",
       "    </tr>\n",
       "  </tbody>\n",
       "</table>\n",
       "</div>"
      ],
      "text/plain": [
       "  start_date   end_date  s_cic_score_FPD30_gini period   Model_Name version  \\\n",
       "0 2023-05-29 2023-06-04                0.261538   Week  s_cic_score   1.1.0   \n",
       "1 2023-06-01 2023-06-30                0.158412  Month  s_cic_score   1.1.0   \n",
       "2 2023-06-05 2023-06-11                0.196970   Week  s_cic_score   1.1.0   \n",
       "3 2023-06-12 2023-06-18               -0.453020   Week  s_cic_score   1.1.0   \n",
       "4 2023-06-19 2023-06-25                0.435484   Week  s_cic_score   1.1.0   \n",
       "\n",
       "  bad_rate  \n",
       "0    FPD30  \n",
       "1    FPD30  \n",
       "2    FPD30  \n",
       "3    FPD30  \n",
       "4    FPD30  "
      ]
     },
     "execution_count": 57,
     "metadata": {},
     "output_type": "execute_result"
    }
   ],
   "source": [
    "s_cic_scoreFPD30.head()"
   ]
  },
  {
   "cell_type": "code",
   "execution_count": 58,
   "metadata": {},
   "outputs": [
    {
     "data": {
      "application/vnd.microsoft.datawrangler.viewer.v0+json": {
       "columns": [
        {
         "name": "index",
         "rawType": "object",
         "type": "string"
        },
        {
         "name": "start_date",
         "rawType": "object",
         "type": "unknown"
        },
        {
         "name": "end_date",
         "rawType": "object",
         "type": "unknown"
        },
        {
         "name": "s_cic_score_FPD30_gini",
         "rawType": "float64",
         "type": "float"
        }
       ],
       "conversionMethod": "pd.DataFrame",
       "ref": "9e849065-2320-41ee-98c9-951d1fbbb410",
       "rows": [
        [
         "count",
         "104",
         "104",
         "104.0"
        ],
        [
         "mean",
         "2024-03-20 01:36:55.384615424",
         "2024-03-30 14:18:27.692307712",
         "0.2566903647831987"
        ],
        [
         "min",
         "2023-05-29 00:00:00",
         "2023-06-04 00:00:00",
         "-0.4530201342281879"
        ],
        [
         "25%",
         "2023-10-28 06:00:00",
         "2023-11-03 18:00:00",
         "0.1925683278951703"
        ],
        [
         "50%",
         "2024-03-21 12:00:00",
         "2024-03-31 00:00:00",
         "0.2659359734620502"
        ],
        [
         "75%",
         "2024-08-13 18:00:00",
         "2024-08-26 12:00:00",
         "0.3249168882268531"
        ],
        [
         "max",
         "2025-01-06 00:00:00",
         "2025-01-31 00:00:00",
         "0.7491496598639455"
        ],
        [
         "std",
         null,
         null,
         "0.13300582555486226"
        ]
       ],
       "shape": {
        "columns": 3,
        "rows": 8
       }
      },
      "text/html": [
       "<div>\n",
       "<style scoped>\n",
       "    .dataframe tbody tr th:only-of-type {\n",
       "        vertical-align: middle;\n",
       "    }\n",
       "\n",
       "    .dataframe tbody tr th {\n",
       "        vertical-align: top;\n",
       "    }\n",
       "\n",
       "    .dataframe thead th {\n",
       "        text-align: right;\n",
       "    }\n",
       "</style>\n",
       "<table border=\"1\" class=\"dataframe\">\n",
       "  <thead>\n",
       "    <tr style=\"text-align: right;\">\n",
       "      <th></th>\n",
       "      <th>start_date</th>\n",
       "      <th>end_date</th>\n",
       "      <th>s_cic_score_FPD30_gini</th>\n",
       "    </tr>\n",
       "  </thead>\n",
       "  <tbody>\n",
       "    <tr>\n",
       "      <th>count</th>\n",
       "      <td>104</td>\n",
       "      <td>104</td>\n",
       "      <td>104.000000</td>\n",
       "    </tr>\n",
       "    <tr>\n",
       "      <th>mean</th>\n",
       "      <td>2024-03-20 01:36:55.384615424</td>\n",
       "      <td>2024-03-30 14:18:27.692307712</td>\n",
       "      <td>0.256690</td>\n",
       "    </tr>\n",
       "    <tr>\n",
       "      <th>min</th>\n",
       "      <td>2023-05-29 00:00:00</td>\n",
       "      <td>2023-06-04 00:00:00</td>\n",
       "      <td>-0.453020</td>\n",
       "    </tr>\n",
       "    <tr>\n",
       "      <th>25%</th>\n",
       "      <td>2023-10-28 06:00:00</td>\n",
       "      <td>2023-11-03 18:00:00</td>\n",
       "      <td>0.192568</td>\n",
       "    </tr>\n",
       "    <tr>\n",
       "      <th>50%</th>\n",
       "      <td>2024-03-21 12:00:00</td>\n",
       "      <td>2024-03-31 00:00:00</td>\n",
       "      <td>0.265936</td>\n",
       "    </tr>\n",
       "    <tr>\n",
       "      <th>75%</th>\n",
       "      <td>2024-08-13 18:00:00</td>\n",
       "      <td>2024-08-26 12:00:00</td>\n",
       "      <td>0.324917</td>\n",
       "    </tr>\n",
       "    <tr>\n",
       "      <th>max</th>\n",
       "      <td>2025-01-06 00:00:00</td>\n",
       "      <td>2025-01-31 00:00:00</td>\n",
       "      <td>0.749150</td>\n",
       "    </tr>\n",
       "    <tr>\n",
       "      <th>std</th>\n",
       "      <td>NaN</td>\n",
       "      <td>NaN</td>\n",
       "      <td>0.133006</td>\n",
       "    </tr>\n",
       "  </tbody>\n",
       "</table>\n",
       "</div>"
      ],
      "text/plain": [
       "                          start_date                       end_date  \\\n",
       "count                            104                            104   \n",
       "mean   2024-03-20 01:36:55.384615424  2024-03-30 14:18:27.692307712   \n",
       "min              2023-05-29 00:00:00            2023-06-04 00:00:00   \n",
       "25%              2023-10-28 06:00:00            2023-11-03 18:00:00   \n",
       "50%              2024-03-21 12:00:00            2024-03-31 00:00:00   \n",
       "75%              2024-08-13 18:00:00            2024-08-26 12:00:00   \n",
       "max              2025-01-06 00:00:00            2025-01-31 00:00:00   \n",
       "std                              NaN                            NaN   \n",
       "\n",
       "       s_cic_score_FPD30_gini  \n",
       "count              104.000000  \n",
       "mean                 0.256690  \n",
       "min                 -0.453020  \n",
       "25%                  0.192568  \n",
       "50%                  0.265936  \n",
       "75%                  0.324917  \n",
       "max                  0.749150  \n",
       "std                  0.133006  "
      ]
     },
     "execution_count": 58,
     "metadata": {},
     "output_type": "execute_result"
    }
   ],
   "source": [
    "s_cic_scoreFPD30.describe()"
   ]
  },
  {
   "cell_type": "markdown",
   "metadata": {},
   "source": [
    "## FSPD30"
   ]
  },
  {
   "cell_type": "code",
   "execution_count": 59,
   "metadata": {},
   "outputs": [
    {
     "name": "stdout",
     "output_type": "stream",
     "text": [
      "Job ID eac82874-bc23-4096-bf4b-28c37f5a8ef1 successfully executed: 100%|\u001b[32m██████████\u001b[0m|"
     ]
    },
    {
     "name": "stderr",
     "output_type": "stream",
     "text": [
      "d:\\Anaconda3\\envs\\inc_env\\lib\\site-packages\\google\\cloud\\bigquery\\table.py:1820: UserWarning: BigQuery Storage module not found, fetch data with the REST endpoint instead.\n",
      "  warnings.warn(\n"
     ]
    },
    {
     "name": "stdout",
     "output_type": "stream",
     "text": [
      "\n",
      "Query is running:   0%|\u001b[32m          \u001b[0m|\n",
      "Downloading: 100%|\u001b[32m██████████\u001b[0m|\n"
     ]
    }
   ],
   "source": [
    "sq = \"\"\"\n",
    "with s_cic_score as \n",
    "(SELECT \n",
    "    ln_disb_dtime disbursementdate,\n",
    "\tdigitalLoanAccountId,\n",
    "    cic_score s_cic_score,\n",
    "    ln_fspd30_flag,\n",
    "\tln_mature_fspd30_flag,\t\n",
    "\tFROM \n",
    "    risk_mart.sil_risk_ds_master_20230101_20250309\n",
    "  WHERE \n",
    "     -- ln_disb_dtime >= '2023-07-01'\n",
    "    ln_appln_submit_datetime >= '2023-06-01'\n",
    "  -- AND\n",
    "  --   format_date('%Y-%m', ln_disb_dtime) = '2024-09'\n",
    "  AND\n",
    "    ln_fspd30_flag is not null\n",
    "  AND\n",
    "    cic_score is not null\n",
    "  AND\n",
    "    ln_mature_fspd30_flag = 1\n",
    ")\n",
    "select * from s_cic_score;\n",
    "\"\"\"\n",
    "\n",
    "df_s_cic_scorefspd30 = client.query(sq).to_dataframe(progress_bar_type='tqdm')"
   ]
  },
  {
   "cell_type": "code",
   "execution_count": 60,
   "metadata": {},
   "outputs": [
    {
     "name": "stdout",
     "output_type": "stream",
     "text": [
      "The shape of dataframe after copy is:\t(99, 7)\n"
     ]
    },
    {
     "data": {
      "text/plain": [
       "array(['start_date', 'end_date', 's_cic_score_FSPD30_gini', 'period',\n",
       "       'Model_Name', 'version', 'bad_rate'], dtype=object)"
      ]
     },
     "execution_count": 60,
     "metadata": {},
     "output_type": "execute_result"
    }
   ],
   "source": [
    "gini_results = calculate_periodic_gini(df_s_cic_scorefspd30, 's_cic_score', 'ln_fspd30_flag', 'FSPD30')\n",
    "s_cic_scoreFSPD30 = gini_results.copy()\n",
    "print(f\"The shape of dataframe after copy is:\\t{s_cic_scoreFSPD30.shape}\")\n",
    "s_cic_scoreFSPD30.columns.values"
   ]
  },
  {
   "cell_type": "code",
   "execution_count": 61,
   "metadata": {},
   "outputs": [
    {
     "data": {
      "application/vnd.microsoft.datawrangler.viewer.v0+json": {
       "columns": [
        {
         "name": "index",
         "rawType": "object",
         "type": "string"
        },
        {
         "name": "start_date",
         "rawType": "object",
         "type": "unknown"
        },
        {
         "name": "end_date",
         "rawType": "object",
         "type": "unknown"
        },
        {
         "name": "s_cic_score_FSPD30_gini",
         "rawType": "float64",
         "type": "float"
        }
       ],
       "conversionMethod": "pd.DataFrame",
       "ref": "7573f784-7e3f-4c3a-b153-5125d9480887",
       "rows": [
        [
         "count",
         "99",
         "99",
         "99.0"
        ],
        [
         "mean",
         "2024-03-05 19:09:05.454545408",
         "2024-03-16 07:30:54.545454592",
         "0.2671430961986894"
        ],
        [
         "min",
         "2023-05-29 00:00:00",
         "2023-06-04 00:00:00",
         "0.04265873015873023"
        ],
        [
         "25%",
         "2023-10-19 12:00:00",
         "2023-10-30 00:00:00",
         "0.21422917658452845"
        ],
        [
         "50%",
         "2024-03-04 00:00:00",
         "2024-03-17 00:00:00",
         "0.27524762936157865"
        ],
        [
         "75%",
         "2024-07-25 12:00:00",
         "2024-08-02 00:00:00",
         "0.31302919275835683"
        ],
        [
         "max",
         "2024-12-09 00:00:00",
         "2024-12-31 00:00:00",
         "0.5452991452991454"
        ],
        [
         "std",
         null,
         null,
         "0.08265160492550468"
        ]
       ],
       "shape": {
        "columns": 3,
        "rows": 8
       }
      },
      "text/html": [
       "<div>\n",
       "<style scoped>\n",
       "    .dataframe tbody tr th:only-of-type {\n",
       "        vertical-align: middle;\n",
       "    }\n",
       "\n",
       "    .dataframe tbody tr th {\n",
       "        vertical-align: top;\n",
       "    }\n",
       "\n",
       "    .dataframe thead th {\n",
       "        text-align: right;\n",
       "    }\n",
       "</style>\n",
       "<table border=\"1\" class=\"dataframe\">\n",
       "  <thead>\n",
       "    <tr style=\"text-align: right;\">\n",
       "      <th></th>\n",
       "      <th>start_date</th>\n",
       "      <th>end_date</th>\n",
       "      <th>s_cic_score_FSPD30_gini</th>\n",
       "    </tr>\n",
       "  </thead>\n",
       "  <tbody>\n",
       "    <tr>\n",
       "      <th>count</th>\n",
       "      <td>99</td>\n",
       "      <td>99</td>\n",
       "      <td>99.000000</td>\n",
       "    </tr>\n",
       "    <tr>\n",
       "      <th>mean</th>\n",
       "      <td>2024-03-05 19:09:05.454545408</td>\n",
       "      <td>2024-03-16 07:30:54.545454592</td>\n",
       "      <td>0.267143</td>\n",
       "    </tr>\n",
       "    <tr>\n",
       "      <th>min</th>\n",
       "      <td>2023-05-29 00:00:00</td>\n",
       "      <td>2023-06-04 00:00:00</td>\n",
       "      <td>0.042659</td>\n",
       "    </tr>\n",
       "    <tr>\n",
       "      <th>25%</th>\n",
       "      <td>2023-10-19 12:00:00</td>\n",
       "      <td>2023-10-30 00:00:00</td>\n",
       "      <td>0.214229</td>\n",
       "    </tr>\n",
       "    <tr>\n",
       "      <th>50%</th>\n",
       "      <td>2024-03-04 00:00:00</td>\n",
       "      <td>2024-03-17 00:00:00</td>\n",
       "      <td>0.275248</td>\n",
       "    </tr>\n",
       "    <tr>\n",
       "      <th>75%</th>\n",
       "      <td>2024-07-25 12:00:00</td>\n",
       "      <td>2024-08-02 00:00:00</td>\n",
       "      <td>0.313029</td>\n",
       "    </tr>\n",
       "    <tr>\n",
       "      <th>max</th>\n",
       "      <td>2024-12-09 00:00:00</td>\n",
       "      <td>2024-12-31 00:00:00</td>\n",
       "      <td>0.545299</td>\n",
       "    </tr>\n",
       "    <tr>\n",
       "      <th>std</th>\n",
       "      <td>NaN</td>\n",
       "      <td>NaN</td>\n",
       "      <td>0.082652</td>\n",
       "    </tr>\n",
       "  </tbody>\n",
       "</table>\n",
       "</div>"
      ],
      "text/plain": [
       "                          start_date                       end_date  \\\n",
       "count                             99                             99   \n",
       "mean   2024-03-05 19:09:05.454545408  2024-03-16 07:30:54.545454592   \n",
       "min              2023-05-29 00:00:00            2023-06-04 00:00:00   \n",
       "25%              2023-10-19 12:00:00            2023-10-30 00:00:00   \n",
       "50%              2024-03-04 00:00:00            2024-03-17 00:00:00   \n",
       "75%              2024-07-25 12:00:00            2024-08-02 00:00:00   \n",
       "max              2024-12-09 00:00:00            2024-12-31 00:00:00   \n",
       "std                              NaN                            NaN   \n",
       "\n",
       "       s_cic_score_FSPD30_gini  \n",
       "count                99.000000  \n",
       "mean                  0.267143  \n",
       "min                   0.042659  \n",
       "25%                   0.214229  \n",
       "50%                   0.275248  \n",
       "75%                   0.313029  \n",
       "max                   0.545299  \n",
       "std                   0.082652  "
      ]
     },
     "execution_count": 61,
     "metadata": {},
     "output_type": "execute_result"
    }
   ],
   "source": [
    "s_cic_scoreFSPD30.describe()"
   ]
  },
  {
   "cell_type": "code",
   "execution_count": 62,
   "metadata": {},
   "outputs": [
    {
     "data": {
      "application/vnd.microsoft.datawrangler.viewer.v0+json": {
       "columns": [
        {
         "name": "index",
         "rawType": "int64",
         "type": "integer"
        },
        {
         "name": "start_date",
         "rawType": "datetime64[ns]",
         "type": "datetime"
        },
        {
         "name": "end_date",
         "rawType": "datetime64[ns]",
         "type": "datetime"
        },
        {
         "name": "s_cic_score_FSPD30_gini",
         "rawType": "float64",
         "type": "float"
        },
        {
         "name": "period",
         "rawType": "object",
         "type": "string"
        },
        {
         "name": "Model_Name",
         "rawType": "object",
         "type": "string"
        },
        {
         "name": "version",
         "rawType": "object",
         "type": "string"
        },
        {
         "name": "bad_rate",
         "rawType": "object",
         "type": "string"
        }
       ],
       "conversionMethod": "pd.DataFrame",
       "ref": "370f143b-5058-4eb2-8414-6b180e1b5244",
       "rows": [
        [
         "94",
         "2024-11-18 00:00:00",
         "2024-11-24 00:00:00",
         "0.24715471724286564",
         "Week",
         "s_cic_score",
         "1.1.0",
         "FSPD30"
        ],
        [
         "95",
         "2024-11-25 00:00:00",
         "2024-12-01 00:00:00",
         "0.2863848811217231",
         "Week",
         "s_cic_score",
         "1.1.0",
         "FSPD30"
        ],
        [
         "96",
         "2024-12-01 00:00:00",
         "2024-12-31 00:00:00",
         "0.29749950282814996",
         "Month",
         "s_cic_score",
         "1.1.0",
         "FSPD30"
        ],
        [
         "97",
         "2024-12-02 00:00:00",
         "2024-12-08 00:00:00",
         "0.2795698432044573",
         "Week",
         "s_cic_score",
         "1.1.0",
         "FSPD30"
        ],
        [
         "98",
         "2024-12-09 00:00:00",
         "2024-12-15 00:00:00",
         "0.4025191675794084",
         "Week",
         "s_cic_score",
         "1.1.0",
         "FSPD30"
        ]
       ],
       "shape": {
        "columns": 7,
        "rows": 5
       }
      },
      "text/html": [
       "<div>\n",
       "<style scoped>\n",
       "    .dataframe tbody tr th:only-of-type {\n",
       "        vertical-align: middle;\n",
       "    }\n",
       "\n",
       "    .dataframe tbody tr th {\n",
       "        vertical-align: top;\n",
       "    }\n",
       "\n",
       "    .dataframe thead th {\n",
       "        text-align: right;\n",
       "    }\n",
       "</style>\n",
       "<table border=\"1\" class=\"dataframe\">\n",
       "  <thead>\n",
       "    <tr style=\"text-align: right;\">\n",
       "      <th></th>\n",
       "      <th>start_date</th>\n",
       "      <th>end_date</th>\n",
       "      <th>s_cic_score_FSPD30_gini</th>\n",
       "      <th>period</th>\n",
       "      <th>Model_Name</th>\n",
       "      <th>version</th>\n",
       "      <th>bad_rate</th>\n",
       "    </tr>\n",
       "  </thead>\n",
       "  <tbody>\n",
       "    <tr>\n",
       "      <th>94</th>\n",
       "      <td>2024-11-18</td>\n",
       "      <td>2024-11-24</td>\n",
       "      <td>0.247155</td>\n",
       "      <td>Week</td>\n",
       "      <td>s_cic_score</td>\n",
       "      <td>1.1.0</td>\n",
       "      <td>FSPD30</td>\n",
       "    </tr>\n",
       "    <tr>\n",
       "      <th>95</th>\n",
       "      <td>2024-11-25</td>\n",
       "      <td>2024-12-01</td>\n",
       "      <td>0.286385</td>\n",
       "      <td>Week</td>\n",
       "      <td>s_cic_score</td>\n",
       "      <td>1.1.0</td>\n",
       "      <td>FSPD30</td>\n",
       "    </tr>\n",
       "    <tr>\n",
       "      <th>96</th>\n",
       "      <td>2024-12-01</td>\n",
       "      <td>2024-12-31</td>\n",
       "      <td>0.297500</td>\n",
       "      <td>Month</td>\n",
       "      <td>s_cic_score</td>\n",
       "      <td>1.1.0</td>\n",
       "      <td>FSPD30</td>\n",
       "    </tr>\n",
       "    <tr>\n",
       "      <th>97</th>\n",
       "      <td>2024-12-02</td>\n",
       "      <td>2024-12-08</td>\n",
       "      <td>0.279570</td>\n",
       "      <td>Week</td>\n",
       "      <td>s_cic_score</td>\n",
       "      <td>1.1.0</td>\n",
       "      <td>FSPD30</td>\n",
       "    </tr>\n",
       "    <tr>\n",
       "      <th>98</th>\n",
       "      <td>2024-12-09</td>\n",
       "      <td>2024-12-15</td>\n",
       "      <td>0.402519</td>\n",
       "      <td>Week</td>\n",
       "      <td>s_cic_score</td>\n",
       "      <td>1.1.0</td>\n",
       "      <td>FSPD30</td>\n",
       "    </tr>\n",
       "  </tbody>\n",
       "</table>\n",
       "</div>"
      ],
      "text/plain": [
       "   start_date   end_date  s_cic_score_FSPD30_gini period   Model_Name version  \\\n",
       "94 2024-11-18 2024-11-24                 0.247155   Week  s_cic_score   1.1.0   \n",
       "95 2024-11-25 2024-12-01                 0.286385   Week  s_cic_score   1.1.0   \n",
       "96 2024-12-01 2024-12-31                 0.297500  Month  s_cic_score   1.1.0   \n",
       "97 2024-12-02 2024-12-08                 0.279570   Week  s_cic_score   1.1.0   \n",
       "98 2024-12-09 2024-12-15                 0.402519   Week  s_cic_score   1.1.0   \n",
       "\n",
       "   bad_rate  \n",
       "94   FSPD30  \n",
       "95   FSPD30  \n",
       "96   FSPD30  \n",
       "97   FSPD30  \n",
       "98   FSPD30  "
      ]
     },
     "execution_count": 62,
     "metadata": {},
     "output_type": "execute_result"
    }
   ],
   "source": [
    "s_cic_scoreFSPD30.tail()"
   ]
  },
  {
   "cell_type": "markdown",
   "metadata": {},
   "source": [
    "## FSTPD30"
   ]
  },
  {
   "cell_type": "code",
   "execution_count": 63,
   "metadata": {},
   "outputs": [
    {
     "name": "stdout",
     "output_type": "stream",
     "text": [
      "Job ID e41c9a5c-97e2-4faa-8f47-b393d449132a successfully executed: 100%|\u001b[32m██████████\u001b[0m|"
     ]
    },
    {
     "name": "stderr",
     "output_type": "stream",
     "text": [
      "d:\\Anaconda3\\envs\\inc_env\\lib\\site-packages\\google\\cloud\\bigquery\\table.py:1820: UserWarning: BigQuery Storage module not found, fetch data with the REST endpoint instead.\n",
      "  warnings.warn(\n"
     ]
    },
    {
     "name": "stdout",
     "output_type": "stream",
     "text": [
      "\n",
      "Downloading: 100%|\u001b[32m██████████\u001b[0m|\n"
     ]
    }
   ],
   "source": [
    "sq = \"\"\"\n",
    "with s_cic_score as \n",
    "(SELECT \n",
    "    ln_disb_dtime disbursementdate,\n",
    "\tdigitalLoanAccountId,\n",
    "    cic_score s_cic_score,\n",
    "    ln_fstpd30_flag,\n",
    "\tln_mature_fstpd30_flag,\t\n",
    "\tFROM \n",
    "    risk_mart.sil_risk_ds_master_20230101_20250309\n",
    "  WHERE \n",
    "     -- ln_disb_dtime >= '2023-07-01'\n",
    "    ln_appln_submit_datetime >= '2023-06-01'\n",
    "  -- AND\n",
    "  --   format_date('%Y-%m', ln_disb_dtime) = '2024-09'\n",
    "  AND\n",
    "    ln_fstpd30_flag is not null\n",
    "  AND\n",
    "    cic_score is not null\n",
    "  AND\n",
    "    ln_mature_fstpd30_flag = 1\n",
    ")\n",
    "select * from s_cic_score;\n",
    "\"\"\"\n",
    "\n",
    "df_s_cic_scorefstpd30 = client.query(sq).to_dataframe(progress_bar_type='tqdm')"
   ]
  },
  {
   "cell_type": "code",
   "execution_count": 64,
   "metadata": {},
   "outputs": [
    {
     "name": "stdout",
     "output_type": "stream",
     "text": [
      "The shape of dataframe after copy is:\t(93, 7)\n"
     ]
    },
    {
     "data": {
      "text/plain": [
       "array(['start_date', 'end_date', 's_cic_score_FSTPD30_gini', 'period',\n",
       "       'Model_Name', 'version', 'bad_rate'], dtype=object)"
      ]
     },
     "execution_count": 64,
     "metadata": {},
     "output_type": "execute_result"
    }
   ],
   "source": [
    "gini_results = calculate_periodic_gini(df_s_cic_scorefstpd30, 's_cic_score', 'ln_fstpd30_flag', 'FSTPD30')\n",
    "s_cic_scoreFSTPD30 = gini_results.copy()\n",
    "print(f\"The shape of dataframe after copy is:\\t{s_cic_scoreFSTPD30.shape}\")\n",
    "s_cic_scoreFSTPD30.columns.values"
   ]
  },
  {
   "cell_type": "code",
   "execution_count": 65,
   "metadata": {},
   "outputs": [
    {
     "data": {
      "application/vnd.microsoft.datawrangler.viewer.v0+json": {
       "columns": [
        {
         "name": "index",
         "rawType": "object",
         "type": "string"
        },
        {
         "name": "start_date",
         "rawType": "object",
         "type": "unknown"
        },
        {
         "name": "end_date",
         "rawType": "object",
         "type": "unknown"
        },
        {
         "name": "s_cic_score_FSTPD30_gini",
         "rawType": "float64",
         "type": "float"
        }
       ],
       "conversionMethod": "pd.DataFrame",
       "ref": "913007d2-00de-4051-8062-32fefef89951",
       "rows": [
        [
         "count",
         "93",
         "93",
         "93.0"
        ],
        [
         "mean",
         "2024-02-17 16:30:58.064516096",
         "2024-02-28 05:40:38.709677312",
         "0.2504391269446078"
        ],
        [
         "min",
         "2023-05-29 00:00:00",
         "2023-06-04 00:00:00",
         "-0.08841940532081383"
        ],
        [
         "25%",
         "2023-10-09 00:00:00",
         "2023-10-22 00:00:00",
         "0.21235521235521237"
        ],
        [
         "50%",
         "2024-02-19 00:00:00",
         "2024-02-29 00:00:00",
         "0.26349588601244234"
        ],
        [
         "75%",
         "2024-07-01 00:00:00",
         "2024-07-07 00:00:00",
         "0.3044240007270129"
        ],
        [
         "max",
         "2024-11-04 00:00:00",
         "2024-11-30 00:00:00",
         "0.47908232118758454"
        ],
        [
         "std",
         null,
         null,
         "0.08390350835513853"
        ]
       ],
       "shape": {
        "columns": 3,
        "rows": 8
       }
      },
      "text/html": [
       "<div>\n",
       "<style scoped>\n",
       "    .dataframe tbody tr th:only-of-type {\n",
       "        vertical-align: middle;\n",
       "    }\n",
       "\n",
       "    .dataframe tbody tr th {\n",
       "        vertical-align: top;\n",
       "    }\n",
       "\n",
       "    .dataframe thead th {\n",
       "        text-align: right;\n",
       "    }\n",
       "</style>\n",
       "<table border=\"1\" class=\"dataframe\">\n",
       "  <thead>\n",
       "    <tr style=\"text-align: right;\">\n",
       "      <th></th>\n",
       "      <th>start_date</th>\n",
       "      <th>end_date</th>\n",
       "      <th>s_cic_score_FSTPD30_gini</th>\n",
       "    </tr>\n",
       "  </thead>\n",
       "  <tbody>\n",
       "    <tr>\n",
       "      <th>count</th>\n",
       "      <td>93</td>\n",
       "      <td>93</td>\n",
       "      <td>93.000000</td>\n",
       "    </tr>\n",
       "    <tr>\n",
       "      <th>mean</th>\n",
       "      <td>2024-02-17 16:30:58.064516096</td>\n",
       "      <td>2024-02-28 05:40:38.709677312</td>\n",
       "      <td>0.250439</td>\n",
       "    </tr>\n",
       "    <tr>\n",
       "      <th>min</th>\n",
       "      <td>2023-05-29 00:00:00</td>\n",
       "      <td>2023-06-04 00:00:00</td>\n",
       "      <td>-0.088419</td>\n",
       "    </tr>\n",
       "    <tr>\n",
       "      <th>25%</th>\n",
       "      <td>2023-10-09 00:00:00</td>\n",
       "      <td>2023-10-22 00:00:00</td>\n",
       "      <td>0.212355</td>\n",
       "    </tr>\n",
       "    <tr>\n",
       "      <th>50%</th>\n",
       "      <td>2024-02-19 00:00:00</td>\n",
       "      <td>2024-02-29 00:00:00</td>\n",
       "      <td>0.263496</td>\n",
       "    </tr>\n",
       "    <tr>\n",
       "      <th>75%</th>\n",
       "      <td>2024-07-01 00:00:00</td>\n",
       "      <td>2024-07-07 00:00:00</td>\n",
       "      <td>0.304424</td>\n",
       "    </tr>\n",
       "    <tr>\n",
       "      <th>max</th>\n",
       "      <td>2024-11-04 00:00:00</td>\n",
       "      <td>2024-11-30 00:00:00</td>\n",
       "      <td>0.479082</td>\n",
       "    </tr>\n",
       "    <tr>\n",
       "      <th>std</th>\n",
       "      <td>NaN</td>\n",
       "      <td>NaN</td>\n",
       "      <td>0.083904</td>\n",
       "    </tr>\n",
       "  </tbody>\n",
       "</table>\n",
       "</div>"
      ],
      "text/plain": [
       "                          start_date                       end_date  \\\n",
       "count                             93                             93   \n",
       "mean   2024-02-17 16:30:58.064516096  2024-02-28 05:40:38.709677312   \n",
       "min              2023-05-29 00:00:00            2023-06-04 00:00:00   \n",
       "25%              2023-10-09 00:00:00            2023-10-22 00:00:00   \n",
       "50%              2024-02-19 00:00:00            2024-02-29 00:00:00   \n",
       "75%              2024-07-01 00:00:00            2024-07-07 00:00:00   \n",
       "max              2024-11-04 00:00:00            2024-11-30 00:00:00   \n",
       "std                              NaN                            NaN   \n",
       "\n",
       "       s_cic_score_FSTPD30_gini  \n",
       "count                 93.000000  \n",
       "mean                   0.250439  \n",
       "min                   -0.088419  \n",
       "25%                    0.212355  \n",
       "50%                    0.263496  \n",
       "75%                    0.304424  \n",
       "max                    0.479082  \n",
       "std                    0.083904  "
      ]
     },
     "execution_count": 65,
     "metadata": {},
     "output_type": "execute_result"
    }
   ],
   "source": [
    "s_cic_scoreFSTPD30.describe()"
   ]
  },
  {
   "cell_type": "code",
   "execution_count": 66,
   "metadata": {},
   "outputs": [
    {
     "data": {
      "application/vnd.microsoft.datawrangler.viewer.v0+json": {
       "columns": [
        {
         "name": "index",
         "rawType": "int64",
         "type": "integer"
        },
        {
         "name": "start_date",
         "rawType": "datetime64[ns]",
         "type": "datetime"
        },
        {
         "name": "end_date",
         "rawType": "datetime64[ns]",
         "type": "datetime"
        },
        {
         "name": "s_cic_score_FSTPD30_gini",
         "rawType": "float64",
         "type": "float"
        },
        {
         "name": "period",
         "rawType": "object",
         "type": "string"
        },
        {
         "name": "Model_Name",
         "rawType": "object",
         "type": "string"
        },
        {
         "name": "version",
         "rawType": "object",
         "type": "string"
        },
        {
         "name": "bad_rate",
         "rawType": "object",
         "type": "string"
        }
       ],
       "conversionMethod": "pd.DataFrame",
       "ref": "730ff46c-c54a-4e36-ac29-10a16f640fb2",
       "rows": [
        [
         "88",
         "2024-10-14 00:00:00",
         "2024-10-20 00:00:00",
         "0.28393799612784987",
         "Week",
         "s_cic_score",
         "1.1.0",
         "FSTPD30"
        ],
        [
         "89",
         "2024-10-21 00:00:00",
         "2024-10-27 00:00:00",
         "0.26793971672331596",
         "Week",
         "s_cic_score",
         "1.1.0",
         "FSTPD30"
        ],
        [
         "90",
         "2024-10-28 00:00:00",
         "2024-11-03 00:00:00",
         "0.22583547527165027",
         "Week",
         "s_cic_score",
         "1.1.0",
         "FSTPD30"
        ],
        [
         "91",
         "2024-11-01 00:00:00",
         "2024-11-30 00:00:00",
         "0.295004340054946",
         "Month",
         "s_cic_score",
         "1.1.0",
         "FSTPD30"
        ],
        [
         "92",
         "2024-11-04 00:00:00",
         "2024-11-10 00:00:00",
         "0.3275504705053267",
         "Week",
         "s_cic_score",
         "1.1.0",
         "FSTPD30"
        ]
       ],
       "shape": {
        "columns": 7,
        "rows": 5
       }
      },
      "text/html": [
       "<div>\n",
       "<style scoped>\n",
       "    .dataframe tbody tr th:only-of-type {\n",
       "        vertical-align: middle;\n",
       "    }\n",
       "\n",
       "    .dataframe tbody tr th {\n",
       "        vertical-align: top;\n",
       "    }\n",
       "\n",
       "    .dataframe thead th {\n",
       "        text-align: right;\n",
       "    }\n",
       "</style>\n",
       "<table border=\"1\" class=\"dataframe\">\n",
       "  <thead>\n",
       "    <tr style=\"text-align: right;\">\n",
       "      <th></th>\n",
       "      <th>start_date</th>\n",
       "      <th>end_date</th>\n",
       "      <th>s_cic_score_FSTPD30_gini</th>\n",
       "      <th>period</th>\n",
       "      <th>Model_Name</th>\n",
       "      <th>version</th>\n",
       "      <th>bad_rate</th>\n",
       "    </tr>\n",
       "  </thead>\n",
       "  <tbody>\n",
       "    <tr>\n",
       "      <th>88</th>\n",
       "      <td>2024-10-14</td>\n",
       "      <td>2024-10-20</td>\n",
       "      <td>0.283938</td>\n",
       "      <td>Week</td>\n",
       "      <td>s_cic_score</td>\n",
       "      <td>1.1.0</td>\n",
       "      <td>FSTPD30</td>\n",
       "    </tr>\n",
       "    <tr>\n",
       "      <th>89</th>\n",
       "      <td>2024-10-21</td>\n",
       "      <td>2024-10-27</td>\n",
       "      <td>0.267940</td>\n",
       "      <td>Week</td>\n",
       "      <td>s_cic_score</td>\n",
       "      <td>1.1.0</td>\n",
       "      <td>FSTPD30</td>\n",
       "    </tr>\n",
       "    <tr>\n",
       "      <th>90</th>\n",
       "      <td>2024-10-28</td>\n",
       "      <td>2024-11-03</td>\n",
       "      <td>0.225835</td>\n",
       "      <td>Week</td>\n",
       "      <td>s_cic_score</td>\n",
       "      <td>1.1.0</td>\n",
       "      <td>FSTPD30</td>\n",
       "    </tr>\n",
       "    <tr>\n",
       "      <th>91</th>\n",
       "      <td>2024-11-01</td>\n",
       "      <td>2024-11-30</td>\n",
       "      <td>0.295004</td>\n",
       "      <td>Month</td>\n",
       "      <td>s_cic_score</td>\n",
       "      <td>1.1.0</td>\n",
       "      <td>FSTPD30</td>\n",
       "    </tr>\n",
       "    <tr>\n",
       "      <th>92</th>\n",
       "      <td>2024-11-04</td>\n",
       "      <td>2024-11-10</td>\n",
       "      <td>0.327550</td>\n",
       "      <td>Week</td>\n",
       "      <td>s_cic_score</td>\n",
       "      <td>1.1.0</td>\n",
       "      <td>FSTPD30</td>\n",
       "    </tr>\n",
       "  </tbody>\n",
       "</table>\n",
       "</div>"
      ],
      "text/plain": [
       "   start_date   end_date  s_cic_score_FSTPD30_gini period   Model_Name  \\\n",
       "88 2024-10-14 2024-10-20                  0.283938   Week  s_cic_score   \n",
       "89 2024-10-21 2024-10-27                  0.267940   Week  s_cic_score   \n",
       "90 2024-10-28 2024-11-03                  0.225835   Week  s_cic_score   \n",
       "91 2024-11-01 2024-11-30                  0.295004  Month  s_cic_score   \n",
       "92 2024-11-04 2024-11-10                  0.327550   Week  s_cic_score   \n",
       "\n",
       "   version bad_rate  \n",
       "88   1.1.0  FSTPD30  \n",
       "89   1.1.0  FSTPD30  \n",
       "90   1.1.0  FSTPD30  \n",
       "91   1.1.0  FSTPD30  \n",
       "92   1.1.0  FSTPD30  "
      ]
     },
     "execution_count": 66,
     "metadata": {},
     "output_type": "execute_result"
    }
   ],
   "source": [
    "s_cic_scoreFSTPD30.tail()"
   ]
  },
  {
   "cell_type": "markdown",
   "metadata": {},
   "source": [
    "# Combining s_cic_score"
   ]
  },
  {
   "cell_type": "code",
   "execution_count": 67,
   "metadata": {},
   "outputs": [
    {
     "data": {
      "text/plain": [
       "array(['start_date', 'end_date', 's_cic_score_FPD10_gini', 'period',\n",
       "       'Model_Name', 'version', 'bad_rate', 's_cic_score_FPD30_gini',\n",
       "       's_cic_score_FSPD30_gini', 's_cic_score_FSTPD30_gini'],\n",
       "      dtype=object)"
      ]
     },
     "execution_count": 67,
     "metadata": {},
     "output_type": "execute_result"
    }
   ],
   "source": [
    "import functools\n",
    "\n",
    "dataframes = [s_cic_scoreFPD10, s_cic_scoreFPD30, s_cic_scoreFSPD30, s_cic_scoreFSTPD30]\n",
    "common_columns = ['start_date', 'end_date', 'period', 'Model_Name','version', 'bad_rate']\n",
    "\n",
    "def merge_dataframes(df1, df2):\n",
    "    return pd.merge(df1, df2, on=common_columns, how='outer')\n",
    "\n",
    "final_df = functools.reduce(merge_dataframes, dataframes)\n",
    "\n",
    "final_df.columns.values"
   ]
  },
  {
   "cell_type": "code",
   "execution_count": 68,
   "metadata": {},
   "outputs": [],
   "source": [
    "final_df = final_df[['start_date', 'end_date', 'period',\n",
    "       'Model_Name', 'version', 'bad_rate','s_cic_score_FPD10_gini','s_cic_score_FPD30_gini', 's_cic_score_FSPD30_gini', 's_cic_score_FSTPD30_gini']].copy()"
   ]
  },
  {
   "cell_type": "markdown",
   "metadata": {},
   "source": [
    "## Creating the table"
   ]
  },
  {
   "cell_type": "code",
   "execution_count": 69,
   "metadata": {},
   "outputs": [
    {
     "data": {
      "text/plain": [
       "QueryJob<project=prj-prod-dataplatform, location=asia-southeast1, id=c67f110c-b6ce-4605-a336-f45775c91f6a>"
      ]
     },
     "execution_count": 69,
     "metadata": {},
     "output_type": "execute_result"
    }
   ],
   "source": [
    "sq = \"\"\"drop table if exists prj-prod-dataplatform.dap_ds_poweruser_playground.Model_gini_s_cic_score;\"\"\"\n",
    "\n",
    "client.query(sq)"
   ]
  },
  {
   "cell_type": "code",
   "execution_count": 70,
   "metadata": {},
   "outputs": [
    {
     "data": {
      "text/plain": [
       "LoadJob<project=prj-prod-dataplatform, location=asia-southeast1, id=14e57329-4e11-4984-ab22-ebaf567f2c9a>"
      ]
     },
     "execution_count": 70,
     "metadata": {},
     "output_type": "execute_result"
    }
   ],
   "source": [
    "\n",
    "\n",
    "import pandas as pd\n",
    "from google.cloud import bigquery\n",
    "\n",
    "# Create a BigQuery client\n",
    "client = bigquery.Client('prj-prod-dataplatform')\n",
    "\n",
    "# Define your table schema\n",
    "table_schema = [\n",
    "    bigquery.SchemaField('start_date', 'TIMESTAMP'),\n",
    "    bigquery.SchemaField('end_date', 'TIMESTAMP'),\n",
    "    bigquery.SchemaField('period', 'STRING'),\n",
    "    bigquery.SchemaField('Model_Name', 'STRING'),\n",
    "    bigquery.SchemaField('version', 'STRING'),\n",
    "    bigquery.SchemaField('Badrate', 'STRING'),\n",
    "    bigquery.SchemaField('s_cic_score_FPD10_gini', 'FLOAT'),\n",
    "    bigquery.SchemaField('s_cic_score_FPD30_gini', 'FLOAT'),    \n",
    "    bigquery.SchemaField('s_cic_score_FSPD30_gini', 'FLOAT'),\n",
    "    bigquery.SchemaField('s_cic_score_FSTPD30_gini', 'FLOAT')\n",
    "    \n",
    "]\n",
    "\n",
    "# Create your BigQuery table\n",
    "table_id = 'prj-prod-dataplatform.dap_ds_poweruser_playground.Model_gini_s_cic_score'\n",
    "table = bigquery.Table(table_id, schema=table_schema)\n",
    "table = client.create_table(table)\n",
    "\n",
    "# Load your DataFrame into BigQuery\n",
    "job_config = bigquery.LoadJobConfig(\n",
    "    write_disposition='WRITE_TRUNCATE'\n",
    ")\n",
    "\n",
    "load_job = client.load_table_from_dataframe(\n",
    "    final_df, table_id, job_config=job_config\n",
    ")\n",
    "\n",
    "load_job.result()"
   ]
  },
  {
   "cell_type": "markdown",
   "metadata": {},
   "source": [
    "# sb_stack_score"
   ]
  },
  {
   "cell_type": "markdown",
   "metadata": {},
   "source": [
    "## FPD10"
   ]
  },
  {
   "cell_type": "code",
   "execution_count": 71,
   "metadata": {},
   "outputs": [
    {
     "name": "stdout",
     "output_type": "stream",
     "text": [
      "Job ID 2e85acfc-d1bd-4ff5-97c0-cc41cfca3462 successfully executed: 100%|\u001b[32m██████████\u001b[0m|"
     ]
    },
    {
     "name": "stderr",
     "output_type": "stream",
     "text": [
      "d:\\Anaconda3\\envs\\inc_env\\lib\\site-packages\\google\\cloud\\bigquery\\table.py:1820: UserWarning: BigQuery Storage module not found, fetch data with the REST endpoint instead.\n",
      "  warnings.warn(\n"
     ]
    },
    {
     "name": "stdout",
     "output_type": "stream",
     "text": [
      "\n",
      "Downloading: 100%|\u001b[32m██████████\u001b[0m|\n"
     ]
    },
    {
     "data": {
      "application/vnd.microsoft.datawrangler.viewer.v0+json": {
       "columns": [
        {
         "name": "index",
         "rawType": "int64",
         "type": "integer"
        },
        {
         "name": "disbursementdate",
         "rawType": "datetime64[us]",
         "type": "unknown"
        },
        {
         "name": "digitalLoanAccountId",
         "rawType": "object",
         "type": "string"
        },
        {
         "name": "sb_stack_score",
         "rawType": "float64",
         "type": "float"
        },
        {
         "name": "ln_fpd10_flag",
         "rawType": "Int64",
         "type": "integer"
        },
        {
         "name": "ln_mature_fpd10_flag",
         "rawType": "Int64",
         "type": "integer"
        }
       ],
       "conversionMethod": "pd.DataFrame",
       "ref": "ba14ea1f-896a-46a3-ad2b-1ad99d534a2a",
       "rows": [
        [
         "0",
         "2024-09-01 15:18:37",
         "1a2cb6f2-e66f-444a-ba22-a05cb5652ef2",
         "0.06349673158567481",
         "0",
         "1"
        ],
        [
         "1",
         "2024-05-02 17:24:11",
         "9b118965-74ea-4832-a640-8b5ea2cc140e",
         "0.011422789655498342",
         "0",
         "1"
        ],
        [
         "2",
         "2024-09-19 20:32:20",
         "4f7bb0f5-ec5b-40c0-a145-6d8aa9b083ee",
         "0.07877931397678493",
         "1",
         "1"
        ],
        [
         "3",
         "2024-06-19 20:08:28",
         "210afa02-21e2-4ecc-8e28-06969222c968",
         "0.1603644780501088",
         "0",
         "1"
        ],
        [
         "4",
         "2025-01-27 12:33:16",
         "107d411b-cd24-4dde-86a8-6f7eeeaaa7bb",
         "0.01807823918282858",
         "0",
         "1"
        ]
       ],
       "shape": {
        "columns": 5,
        "rows": 5
       }
      },
      "text/html": [
       "<div>\n",
       "<style scoped>\n",
       "    .dataframe tbody tr th:only-of-type {\n",
       "        vertical-align: middle;\n",
       "    }\n",
       "\n",
       "    .dataframe tbody tr th {\n",
       "        vertical-align: top;\n",
       "    }\n",
       "\n",
       "    .dataframe thead th {\n",
       "        text-align: right;\n",
       "    }\n",
       "</style>\n",
       "<table border=\"1\" class=\"dataframe\">\n",
       "  <thead>\n",
       "    <tr style=\"text-align: right;\">\n",
       "      <th></th>\n",
       "      <th>disbursementdate</th>\n",
       "      <th>digitalLoanAccountId</th>\n",
       "      <th>sb_stack_score</th>\n",
       "      <th>ln_fpd10_flag</th>\n",
       "      <th>ln_mature_fpd10_flag</th>\n",
       "    </tr>\n",
       "  </thead>\n",
       "  <tbody>\n",
       "    <tr>\n",
       "      <th>0</th>\n",
       "      <td>2024-09-01 15:18:37</td>\n",
       "      <td>1a2cb6f2-e66f-444a-ba22-a05cb5652ef2</td>\n",
       "      <td>0.063497</td>\n",
       "      <td>0</td>\n",
       "      <td>1</td>\n",
       "    </tr>\n",
       "    <tr>\n",
       "      <th>1</th>\n",
       "      <td>2024-05-02 17:24:11</td>\n",
       "      <td>9b118965-74ea-4832-a640-8b5ea2cc140e</td>\n",
       "      <td>0.011423</td>\n",
       "      <td>0</td>\n",
       "      <td>1</td>\n",
       "    </tr>\n",
       "    <tr>\n",
       "      <th>2</th>\n",
       "      <td>2024-09-19 20:32:20</td>\n",
       "      <td>4f7bb0f5-ec5b-40c0-a145-6d8aa9b083ee</td>\n",
       "      <td>0.078779</td>\n",
       "      <td>1</td>\n",
       "      <td>1</td>\n",
       "    </tr>\n",
       "    <tr>\n",
       "      <th>3</th>\n",
       "      <td>2024-06-19 20:08:28</td>\n",
       "      <td>210afa02-21e2-4ecc-8e28-06969222c968</td>\n",
       "      <td>0.160364</td>\n",
       "      <td>0</td>\n",
       "      <td>1</td>\n",
       "    </tr>\n",
       "    <tr>\n",
       "      <th>4</th>\n",
       "      <td>2025-01-27 12:33:16</td>\n",
       "      <td>107d411b-cd24-4dde-86a8-6f7eeeaaa7bb</td>\n",
       "      <td>0.018078</td>\n",
       "      <td>0</td>\n",
       "      <td>1</td>\n",
       "    </tr>\n",
       "  </tbody>\n",
       "</table>\n",
       "</div>"
      ],
      "text/plain": [
       "     disbursementdate                  digitalLoanAccountId  sb_stack_score  \\\n",
       "0 2024-09-01 15:18:37  1a2cb6f2-e66f-444a-ba22-a05cb5652ef2        0.063497   \n",
       "1 2024-05-02 17:24:11  9b118965-74ea-4832-a640-8b5ea2cc140e        0.011423   \n",
       "2 2024-09-19 20:32:20  4f7bb0f5-ec5b-40c0-a145-6d8aa9b083ee        0.078779   \n",
       "3 2024-06-19 20:08:28  210afa02-21e2-4ecc-8e28-06969222c968        0.160364   \n",
       "4 2025-01-27 12:33:16  107d411b-cd24-4dde-86a8-6f7eeeaaa7bb        0.018078   \n",
       "\n",
       "   ln_fpd10_flag  ln_mature_fpd10_flag  \n",
       "0              0                     1  \n",
       "1              0                     1  \n",
       "2              1                     1  \n",
       "3              0                     1  \n",
       "4              0                     1  "
      ]
     },
     "execution_count": 71,
     "metadata": {},
     "output_type": "execute_result"
    }
   ],
   "source": [
    "# sb_stack_score\n",
    "\n",
    "sq = \"\"\"\n",
    "with sb_stack_score as \n",
    "(SELECT \n",
    "    ln_disb_dtime disbursementdate,\n",
    "\tdigitalLoanAccountId,\n",
    "    beta_stack_score sb_stack_score,\n",
    "    ln_fpd10_flag,\n",
    "\tln_mature_fpd10_flag,\t\n",
    "\tFROM \n",
    "    risk_mart.sil_risk_ds_master_20230101_20250309\n",
    "  WHERE \n",
    "     -- ln_disb_dtime >= '2023-07-01'\n",
    "    ln_appln_submit_datetime >= '2023-06-01'\n",
    "  -- AND\n",
    "  --   format_date('%Y-%m', ln_disb_dtime) = '2024-09'\n",
    "  AND\n",
    "    ln_fpd10_flag is not null\n",
    "  AND\n",
    "    beta_stack_score is not null\n",
    "  AND\n",
    "    ln_mature_fpd10_flag = 1\n",
    ")\n",
    "select * from sb_stack_score;\n",
    "\"\"\"\n",
    "\n",
    "df_sb_stack_scorefpd10 = client.query(sq).to_dataframe(progress_bar_type='tqdm')\n",
    "\n",
    "df_sb_stack_scorefpd10.head()"
   ]
  },
  {
   "cell_type": "code",
   "execution_count": 72,
   "metadata": {},
   "outputs": [
    {
     "name": "stdout",
     "output_type": "stream",
     "text": [
      "The shape of dataframe after copy is:\t(108, 7)\n"
     ]
    },
    {
     "data": {
      "text/plain": [
       "array(['start_date', 'end_date', 'sb_stack_score_FPD10_gini', 'period',\n",
       "       'Model_Name', 'version', 'bad_rate'], dtype=object)"
      ]
     },
     "execution_count": 72,
     "metadata": {},
     "output_type": "execute_result"
    }
   ],
   "source": [
    "gini_results = calculate_periodic_gini(df_sb_stack_scorefpd10, 'sb_stack_score', 'ln_fpd10_flag', 'FPD10')\n",
    "M1FPD10 = gini_results.copy()\n",
    "print(f\"The shape of dataframe after copy is:\\t{M1FPD10.shape}\")\n",
    "M1FPD10.columns.values"
   ]
  },
  {
   "cell_type": "code",
   "execution_count": 73,
   "metadata": {},
   "outputs": [
    {
     "data": {
      "application/vnd.microsoft.datawrangler.viewer.v0+json": {
       "columns": [
        {
         "name": "index",
         "rawType": "object",
         "type": "string"
        },
        {
         "name": "start_date",
         "rawType": "object",
         "type": "unknown"
        },
        {
         "name": "end_date",
         "rawType": "object",
         "type": "unknown"
        },
        {
         "name": "sb_stack_score_FPD10_gini",
         "rawType": "float64",
         "type": "float"
        }
       ],
       "conversionMethod": "pd.DataFrame",
       "ref": "e5e2b0bb-3d82-41de-84cd-a64d56036d19",
       "rows": [
        [
         "count",
         "108",
         "108",
         "108.0"
        ],
        [
         "mean",
         "2024-03-26 08:13:20",
         "2024-04-05 16:53:20",
         "0.34265222523578487"
        ],
        [
         "min",
         "2023-05-29 00:00:00",
         "2023-06-04 00:00:00",
         "-0.030303030303030276"
        ],
        [
         "25%",
         "2023-10-28 06:00:00",
         "2023-11-03 18:00:00",
         "0.2962247474707727"
        ],
        [
         "50%",
         "2024-03-28 12:00:00",
         "2024-04-03 12:00:00",
         "0.3248471471450276"
        ],
        [
         "75%",
         "2024-08-27 12:00:00",
         "2024-09-02 18:00:00",
         "0.41294511263125366"
        ],
        [
         "max",
         "2025-01-27 00:00:00",
         "2025-02-02 00:00:00",
         "0.589102564102564"
        ],
        [
         "std",
         null,
         null,
         "0.09466772820315468"
        ]
       ],
       "shape": {
        "columns": 3,
        "rows": 8
       }
      },
      "text/html": [
       "<div>\n",
       "<style scoped>\n",
       "    .dataframe tbody tr th:only-of-type {\n",
       "        vertical-align: middle;\n",
       "    }\n",
       "\n",
       "    .dataframe tbody tr th {\n",
       "        vertical-align: top;\n",
       "    }\n",
       "\n",
       "    .dataframe thead th {\n",
       "        text-align: right;\n",
       "    }\n",
       "</style>\n",
       "<table border=\"1\" class=\"dataframe\">\n",
       "  <thead>\n",
       "    <tr style=\"text-align: right;\">\n",
       "      <th></th>\n",
       "      <th>start_date</th>\n",
       "      <th>end_date</th>\n",
       "      <th>sb_stack_score_FPD10_gini</th>\n",
       "    </tr>\n",
       "  </thead>\n",
       "  <tbody>\n",
       "    <tr>\n",
       "      <th>count</th>\n",
       "      <td>108</td>\n",
       "      <td>108</td>\n",
       "      <td>108.000000</td>\n",
       "    </tr>\n",
       "    <tr>\n",
       "      <th>mean</th>\n",
       "      <td>2024-03-26 08:13:20</td>\n",
       "      <td>2024-04-05 16:53:20</td>\n",
       "      <td>0.342652</td>\n",
       "    </tr>\n",
       "    <tr>\n",
       "      <th>min</th>\n",
       "      <td>2023-05-29 00:00:00</td>\n",
       "      <td>2023-06-04 00:00:00</td>\n",
       "      <td>-0.030303</td>\n",
       "    </tr>\n",
       "    <tr>\n",
       "      <th>25%</th>\n",
       "      <td>2023-10-28 06:00:00</td>\n",
       "      <td>2023-11-03 18:00:00</td>\n",
       "      <td>0.296225</td>\n",
       "    </tr>\n",
       "    <tr>\n",
       "      <th>50%</th>\n",
       "      <td>2024-03-28 12:00:00</td>\n",
       "      <td>2024-04-03 12:00:00</td>\n",
       "      <td>0.324847</td>\n",
       "    </tr>\n",
       "    <tr>\n",
       "      <th>75%</th>\n",
       "      <td>2024-08-27 12:00:00</td>\n",
       "      <td>2024-09-02 18:00:00</td>\n",
       "      <td>0.412945</td>\n",
       "    </tr>\n",
       "    <tr>\n",
       "      <th>max</th>\n",
       "      <td>2025-01-27 00:00:00</td>\n",
       "      <td>2025-02-02 00:00:00</td>\n",
       "      <td>0.589103</td>\n",
       "    </tr>\n",
       "    <tr>\n",
       "      <th>std</th>\n",
       "      <td>NaN</td>\n",
       "      <td>NaN</td>\n",
       "      <td>0.094668</td>\n",
       "    </tr>\n",
       "  </tbody>\n",
       "</table>\n",
       "</div>"
      ],
      "text/plain": [
       "                start_date             end_date  sb_stack_score_FPD10_gini\n",
       "count                  108                  108                 108.000000\n",
       "mean   2024-03-26 08:13:20  2024-04-05 16:53:20                   0.342652\n",
       "min    2023-05-29 00:00:00  2023-06-04 00:00:00                  -0.030303\n",
       "25%    2023-10-28 06:00:00  2023-11-03 18:00:00                   0.296225\n",
       "50%    2024-03-28 12:00:00  2024-04-03 12:00:00                   0.324847\n",
       "75%    2024-08-27 12:00:00  2024-09-02 18:00:00                   0.412945\n",
       "max    2025-01-27 00:00:00  2025-02-02 00:00:00                   0.589103\n",
       "std                    NaN                  NaN                   0.094668"
      ]
     },
     "execution_count": 73,
     "metadata": {},
     "output_type": "execute_result"
    }
   ],
   "source": [
    "M1FPD10.describe()"
   ]
  },
  {
   "cell_type": "code",
   "execution_count": 74,
   "metadata": {},
   "outputs": [
    {
     "data": {
      "application/vnd.microsoft.datawrangler.viewer.v0+json": {
       "columns": [
        {
         "name": "index",
         "rawType": "int64",
         "type": "integer"
        },
        {
         "name": "start_date",
         "rawType": "datetime64[ns]",
         "type": "datetime"
        },
        {
         "name": "end_date",
         "rawType": "datetime64[ns]",
         "type": "datetime"
        },
        {
         "name": "sb_stack_score_FPD10_gini",
         "rawType": "float64",
         "type": "float"
        },
        {
         "name": "period",
         "rawType": "object",
         "type": "string"
        },
        {
         "name": "Model_Name",
         "rawType": "object",
         "type": "string"
        },
        {
         "name": "version",
         "rawType": "object",
         "type": "string"
        },
        {
         "name": "bad_rate",
         "rawType": "object",
         "type": "string"
        }
       ],
       "conversionMethod": "pd.DataFrame",
       "ref": "da569883-fc81-4190-a1ce-3437248ecb11",
       "rows": [
        [
         "0",
         "2023-05-29 00:00:00",
         "2023-06-04 00:00:00",
         "0.5062552126772308",
         "Week",
         "sb_stack_score",
         "1.1.0",
         "FPD10"
        ],
        [
         "1",
         "2023-06-01 00:00:00",
         "2023-06-30 00:00:00",
         "0.2965608465608467",
         "Month",
         "sb_stack_score",
         "1.1.0",
         "FPD10"
        ],
        [
         "2",
         "2023-06-05 00:00:00",
         "2023-06-11 00:00:00",
         "0.40779907468605403",
         "Week",
         "sb_stack_score",
         "1.1.0",
         "FPD10"
        ],
        [
         "3",
         "2023-06-12 00:00:00",
         "2023-06-18 00:00:00",
         "0.589102564102564",
         "Week",
         "sb_stack_score",
         "1.1.0",
         "FPD10"
        ],
        [
         "4",
         "2023-06-19 00:00:00",
         "2023-06-25 00:00:00",
         "-0.030303030303030276",
         "Week",
         "sb_stack_score",
         "1.1.0",
         "FPD10"
        ]
       ],
       "shape": {
        "columns": 7,
        "rows": 5
       }
      },
      "text/html": [
       "<div>\n",
       "<style scoped>\n",
       "    .dataframe tbody tr th:only-of-type {\n",
       "        vertical-align: middle;\n",
       "    }\n",
       "\n",
       "    .dataframe tbody tr th {\n",
       "        vertical-align: top;\n",
       "    }\n",
       "\n",
       "    .dataframe thead th {\n",
       "        text-align: right;\n",
       "    }\n",
       "</style>\n",
       "<table border=\"1\" class=\"dataframe\">\n",
       "  <thead>\n",
       "    <tr style=\"text-align: right;\">\n",
       "      <th></th>\n",
       "      <th>start_date</th>\n",
       "      <th>end_date</th>\n",
       "      <th>sb_stack_score_FPD10_gini</th>\n",
       "      <th>period</th>\n",
       "      <th>Model_Name</th>\n",
       "      <th>version</th>\n",
       "      <th>bad_rate</th>\n",
       "    </tr>\n",
       "  </thead>\n",
       "  <tbody>\n",
       "    <tr>\n",
       "      <th>0</th>\n",
       "      <td>2023-05-29</td>\n",
       "      <td>2023-06-04</td>\n",
       "      <td>0.506255</td>\n",
       "      <td>Week</td>\n",
       "      <td>sb_stack_score</td>\n",
       "      <td>1.1.0</td>\n",
       "      <td>FPD10</td>\n",
       "    </tr>\n",
       "    <tr>\n",
       "      <th>1</th>\n",
       "      <td>2023-06-01</td>\n",
       "      <td>2023-06-30</td>\n",
       "      <td>0.296561</td>\n",
       "      <td>Month</td>\n",
       "      <td>sb_stack_score</td>\n",
       "      <td>1.1.0</td>\n",
       "      <td>FPD10</td>\n",
       "    </tr>\n",
       "    <tr>\n",
       "      <th>2</th>\n",
       "      <td>2023-06-05</td>\n",
       "      <td>2023-06-11</td>\n",
       "      <td>0.407799</td>\n",
       "      <td>Week</td>\n",
       "      <td>sb_stack_score</td>\n",
       "      <td>1.1.0</td>\n",
       "      <td>FPD10</td>\n",
       "    </tr>\n",
       "    <tr>\n",
       "      <th>3</th>\n",
       "      <td>2023-06-12</td>\n",
       "      <td>2023-06-18</td>\n",
       "      <td>0.589103</td>\n",
       "      <td>Week</td>\n",
       "      <td>sb_stack_score</td>\n",
       "      <td>1.1.0</td>\n",
       "      <td>FPD10</td>\n",
       "    </tr>\n",
       "    <tr>\n",
       "      <th>4</th>\n",
       "      <td>2023-06-19</td>\n",
       "      <td>2023-06-25</td>\n",
       "      <td>-0.030303</td>\n",
       "      <td>Week</td>\n",
       "      <td>sb_stack_score</td>\n",
       "      <td>1.1.0</td>\n",
       "      <td>FPD10</td>\n",
       "    </tr>\n",
       "  </tbody>\n",
       "</table>\n",
       "</div>"
      ],
      "text/plain": [
       "  start_date   end_date  sb_stack_score_FPD10_gini period      Model_Name  \\\n",
       "0 2023-05-29 2023-06-04                   0.506255   Week  sb_stack_score   \n",
       "1 2023-06-01 2023-06-30                   0.296561  Month  sb_stack_score   \n",
       "2 2023-06-05 2023-06-11                   0.407799   Week  sb_stack_score   \n",
       "3 2023-06-12 2023-06-18                   0.589103   Week  sb_stack_score   \n",
       "4 2023-06-19 2023-06-25                  -0.030303   Week  sb_stack_score   \n",
       "\n",
       "  version bad_rate  \n",
       "0   1.1.0    FPD10  \n",
       "1   1.1.0    FPD10  \n",
       "2   1.1.0    FPD10  \n",
       "3   1.1.0    FPD10  \n",
       "4   1.1.0    FPD10  "
      ]
     },
     "execution_count": 74,
     "metadata": {},
     "output_type": "execute_result"
    }
   ],
   "source": [
    "M1FPD10.head()"
   ]
  },
  {
   "cell_type": "markdown",
   "metadata": {},
   "source": [
    "## FPD30"
   ]
  },
  {
   "cell_type": "code",
   "execution_count": 75,
   "metadata": {},
   "outputs": [
    {
     "name": "stdout",
     "output_type": "stream",
     "text": [
      "Job ID 1be59c12-4d43-4cf1-9f61-5cec69e6f541 successfully executed: 100%|\u001b[32m██████████\u001b[0m|"
     ]
    },
    {
     "name": "stderr",
     "output_type": "stream",
     "text": [
      "d:\\Anaconda3\\envs\\inc_env\\lib\\site-packages\\google\\cloud\\bigquery\\table.py:1820: UserWarning: BigQuery Storage module not found, fetch data with the REST endpoint instead.\n",
      "  warnings.warn(\n"
     ]
    },
    {
     "name": "stdout",
     "output_type": "stream",
     "text": [
      "\n",
      "Downloading: 100%|\u001b[32m██████████\u001b[0m|\n"
     ]
    },
    {
     "data": {
      "application/vnd.microsoft.datawrangler.viewer.v0+json": {
       "columns": [
        {
         "name": "index",
         "rawType": "int64",
         "type": "integer"
        },
        {
         "name": "disbursementdate",
         "rawType": "datetime64[us]",
         "type": "unknown"
        },
        {
         "name": "digitalLoanAccountId",
         "rawType": "object",
         "type": "string"
        },
        {
         "name": "sb_stack_score",
         "rawType": "float64",
         "type": "float"
        },
        {
         "name": "ln_fpd30_flag",
         "rawType": "Int64",
         "type": "integer"
        },
        {
         "name": "ln_mature_fpd30_flag",
         "rawType": "Int64",
         "type": "integer"
        }
       ],
       "conversionMethod": "pd.DataFrame",
       "ref": "7def49c8-619c-4c76-845f-f84635478b01",
       "rows": [
        [
         "0",
         "2024-09-01 15:18:37",
         "1a2cb6f2-e66f-444a-ba22-a05cb5652ef2",
         "0.06349673158567481",
         "0",
         "1"
        ],
        [
         "1",
         "2024-05-02 17:24:11",
         "9b118965-74ea-4832-a640-8b5ea2cc140e",
         "0.011422789655498342",
         "0",
         "1"
        ],
        [
         "2",
         "2024-09-19 20:32:20",
         "4f7bb0f5-ec5b-40c0-a145-6d8aa9b083ee",
         "0.07877931397678493",
         "1",
         "1"
        ],
        [
         "3",
         "2024-06-19 20:08:28",
         "210afa02-21e2-4ecc-8e28-06969222c968",
         "0.1603644780501088",
         "0",
         "1"
        ],
        [
         "4",
         "2024-05-13 17:34:23",
         "afb2601c-9ce3-4e88-96dd-38784a818625",
         "0.015367904835140308",
         "0",
         "1"
        ]
       ],
       "shape": {
        "columns": 5,
        "rows": 5
       }
      },
      "text/html": [
       "<div>\n",
       "<style scoped>\n",
       "    .dataframe tbody tr th:only-of-type {\n",
       "        vertical-align: middle;\n",
       "    }\n",
       "\n",
       "    .dataframe tbody tr th {\n",
       "        vertical-align: top;\n",
       "    }\n",
       "\n",
       "    .dataframe thead th {\n",
       "        text-align: right;\n",
       "    }\n",
       "</style>\n",
       "<table border=\"1\" class=\"dataframe\">\n",
       "  <thead>\n",
       "    <tr style=\"text-align: right;\">\n",
       "      <th></th>\n",
       "      <th>disbursementdate</th>\n",
       "      <th>digitalLoanAccountId</th>\n",
       "      <th>sb_stack_score</th>\n",
       "      <th>ln_fpd30_flag</th>\n",
       "      <th>ln_mature_fpd30_flag</th>\n",
       "    </tr>\n",
       "  </thead>\n",
       "  <tbody>\n",
       "    <tr>\n",
       "      <th>0</th>\n",
       "      <td>2024-09-01 15:18:37</td>\n",
       "      <td>1a2cb6f2-e66f-444a-ba22-a05cb5652ef2</td>\n",
       "      <td>0.063497</td>\n",
       "      <td>0</td>\n",
       "      <td>1</td>\n",
       "    </tr>\n",
       "    <tr>\n",
       "      <th>1</th>\n",
       "      <td>2024-05-02 17:24:11</td>\n",
       "      <td>9b118965-74ea-4832-a640-8b5ea2cc140e</td>\n",
       "      <td>0.011423</td>\n",
       "      <td>0</td>\n",
       "      <td>1</td>\n",
       "    </tr>\n",
       "    <tr>\n",
       "      <th>2</th>\n",
       "      <td>2024-09-19 20:32:20</td>\n",
       "      <td>4f7bb0f5-ec5b-40c0-a145-6d8aa9b083ee</td>\n",
       "      <td>0.078779</td>\n",
       "      <td>1</td>\n",
       "      <td>1</td>\n",
       "    </tr>\n",
       "    <tr>\n",
       "      <th>3</th>\n",
       "      <td>2024-06-19 20:08:28</td>\n",
       "      <td>210afa02-21e2-4ecc-8e28-06969222c968</td>\n",
       "      <td>0.160364</td>\n",
       "      <td>0</td>\n",
       "      <td>1</td>\n",
       "    </tr>\n",
       "    <tr>\n",
       "      <th>4</th>\n",
       "      <td>2024-05-13 17:34:23</td>\n",
       "      <td>afb2601c-9ce3-4e88-96dd-38784a818625</td>\n",
       "      <td>0.015368</td>\n",
       "      <td>0</td>\n",
       "      <td>1</td>\n",
       "    </tr>\n",
       "  </tbody>\n",
       "</table>\n",
       "</div>"
      ],
      "text/plain": [
       "     disbursementdate                  digitalLoanAccountId  sb_stack_score  \\\n",
       "0 2024-09-01 15:18:37  1a2cb6f2-e66f-444a-ba22-a05cb5652ef2        0.063497   \n",
       "1 2024-05-02 17:24:11  9b118965-74ea-4832-a640-8b5ea2cc140e        0.011423   \n",
       "2 2024-09-19 20:32:20  4f7bb0f5-ec5b-40c0-a145-6d8aa9b083ee        0.078779   \n",
       "3 2024-06-19 20:08:28  210afa02-21e2-4ecc-8e28-06969222c968        0.160364   \n",
       "4 2024-05-13 17:34:23  afb2601c-9ce3-4e88-96dd-38784a818625        0.015368   \n",
       "\n",
       "   ln_fpd30_flag  ln_mature_fpd30_flag  \n",
       "0              0                     1  \n",
       "1              0                     1  \n",
       "2              1                     1  \n",
       "3              0                     1  \n",
       "4              0                     1  "
      ]
     },
     "execution_count": 75,
     "metadata": {},
     "output_type": "execute_result"
    }
   ],
   "source": [
    "# sb_stack_score\n",
    "\n",
    "sq = \"\"\"\n",
    "with sb_stack_score as \n",
    "(SELECT \n",
    "    ln_disb_dtime disbursementdate,\n",
    "\tdigitalLoanAccountId,\n",
    "    beta_stack_score sb_stack_score,\n",
    "    ln_fpd30_flag,\n",
    "\tln_mature_fpd30_flag,\t\n",
    "\tFROM \n",
    "    risk_mart.sil_risk_ds_master_20230101_20250309\n",
    "  WHERE \n",
    "     -- ln_disb_dtime >= '2023-07-01'\n",
    "    ln_appln_submit_datetime >= '2023-06-01'\n",
    "  -- AND\n",
    "  --   format_date('%Y-%m', ln_disb_dtime) = '2024-09'\n",
    "  AND\n",
    "    ln_fpd30_flag is not null\n",
    "  AND\n",
    "    beta_stack_score is not null\n",
    "  AND\n",
    "    ln_mature_fpd30_flag = 1\n",
    ")\n",
    "select * from sb_stack_score;\n",
    "\"\"\"\n",
    "\n",
    "df_sb_stack_scorefpd30 = client.query(sq).to_dataframe(progress_bar_type='tqdm')\n",
    "\n",
    "df_sb_stack_scorefpd30.head()"
   ]
  },
  {
   "cell_type": "code",
   "execution_count": 76,
   "metadata": {},
   "outputs": [
    {
     "name": "stdout",
     "output_type": "stream",
     "text": [
      "The shape of dataframe after copy is:\t(105, 7)\n"
     ]
    },
    {
     "data": {
      "text/plain": [
       "array(['start_date', 'end_date', 'sb_stack_score_FPD30_gini', 'period',\n",
       "       'Model_Name', 'version', 'bad_rate'], dtype=object)"
      ]
     },
     "execution_count": 76,
     "metadata": {},
     "output_type": "execute_result"
    }
   ],
   "source": [
    "gini_results = calculate_periodic_gini(df_sb_stack_scorefpd30, 'sb_stack_score', 'ln_fpd30_flag', 'FPD30')\n",
    "M2FPD30 = gini_results.copy()\n",
    "print(f\"The shape of dataframe after copy is:\\t{M2FPD30.shape}\")\n",
    "M2FPD30.columns.values"
   ]
  },
  {
   "cell_type": "code",
   "execution_count": 77,
   "metadata": {},
   "outputs": [
    {
     "data": {
      "application/vnd.microsoft.datawrangler.viewer.v0+json": {
       "columns": [
        {
         "name": "index",
         "rawType": "object",
         "type": "string"
        },
        {
         "name": "start_date",
         "rawType": "object",
         "type": "unknown"
        },
        {
         "name": "end_date",
         "rawType": "object",
         "type": "unknown"
        },
        {
         "name": "sb_stack_score_FPD30_gini",
         "rawType": "float64",
         "type": "float"
        }
       ],
       "conversionMethod": "pd.DataFrame",
       "ref": "cb7ea9df-5690-45a0-955f-146c7a613ac6",
       "rows": [
        [
         "count",
         "105",
         "105",
         "105.0"
        ],
        [
         "mean",
         "2024-03-17 18:44:34.285714176",
         "2024-03-28 06:24:00",
         "0.36185791206033596"
        ],
        [
         "min",
         "2023-05-29 00:00:00",
         "2023-06-04 00:00:00",
         "-0.03614457831325302"
        ],
        [
         "25%",
         "2023-10-23 00:00:00",
         "2023-10-31 00:00:00",
         "0.31405668629592887"
        ],
        [
         "50%",
         "2024-03-18 00:00:00",
         "2024-03-31 00:00:00",
         "0.3520132510360523"
        ],
        [
         "75%",
         "2024-08-12 00:00:00",
         "2024-08-25 00:00:00",
         "0.42352941176470593"
        ],
        [
         "max",
         "2025-01-06 00:00:00",
         "2025-01-31 00:00:00",
         "0.5647679281643363"
        ],
        [
         "std",
         null,
         null,
         "0.09455604889245983"
        ]
       ],
       "shape": {
        "columns": 3,
        "rows": 8
       }
      },
      "text/html": [
       "<div>\n",
       "<style scoped>\n",
       "    .dataframe tbody tr th:only-of-type {\n",
       "        vertical-align: middle;\n",
       "    }\n",
       "\n",
       "    .dataframe tbody tr th {\n",
       "        vertical-align: top;\n",
       "    }\n",
       "\n",
       "    .dataframe thead th {\n",
       "        text-align: right;\n",
       "    }\n",
       "</style>\n",
       "<table border=\"1\" class=\"dataframe\">\n",
       "  <thead>\n",
       "    <tr style=\"text-align: right;\">\n",
       "      <th></th>\n",
       "      <th>start_date</th>\n",
       "      <th>end_date</th>\n",
       "      <th>sb_stack_score_FPD30_gini</th>\n",
       "    </tr>\n",
       "  </thead>\n",
       "  <tbody>\n",
       "    <tr>\n",
       "      <th>count</th>\n",
       "      <td>105</td>\n",
       "      <td>105</td>\n",
       "      <td>105.000000</td>\n",
       "    </tr>\n",
       "    <tr>\n",
       "      <th>mean</th>\n",
       "      <td>2024-03-17 18:44:34.285714176</td>\n",
       "      <td>2024-03-28 06:24:00</td>\n",
       "      <td>0.361858</td>\n",
       "    </tr>\n",
       "    <tr>\n",
       "      <th>min</th>\n",
       "      <td>2023-05-29 00:00:00</td>\n",
       "      <td>2023-06-04 00:00:00</td>\n",
       "      <td>-0.036145</td>\n",
       "    </tr>\n",
       "    <tr>\n",
       "      <th>25%</th>\n",
       "      <td>2023-10-23 00:00:00</td>\n",
       "      <td>2023-10-31 00:00:00</td>\n",
       "      <td>0.314057</td>\n",
       "    </tr>\n",
       "    <tr>\n",
       "      <th>50%</th>\n",
       "      <td>2024-03-18 00:00:00</td>\n",
       "      <td>2024-03-31 00:00:00</td>\n",
       "      <td>0.352013</td>\n",
       "    </tr>\n",
       "    <tr>\n",
       "      <th>75%</th>\n",
       "      <td>2024-08-12 00:00:00</td>\n",
       "      <td>2024-08-25 00:00:00</td>\n",
       "      <td>0.423529</td>\n",
       "    </tr>\n",
       "    <tr>\n",
       "      <th>max</th>\n",
       "      <td>2025-01-06 00:00:00</td>\n",
       "      <td>2025-01-31 00:00:00</td>\n",
       "      <td>0.564768</td>\n",
       "    </tr>\n",
       "    <tr>\n",
       "      <th>std</th>\n",
       "      <td>NaN</td>\n",
       "      <td>NaN</td>\n",
       "      <td>0.094556</td>\n",
       "    </tr>\n",
       "  </tbody>\n",
       "</table>\n",
       "</div>"
      ],
      "text/plain": [
       "                          start_date             end_date  \\\n",
       "count                            105                  105   \n",
       "mean   2024-03-17 18:44:34.285714176  2024-03-28 06:24:00   \n",
       "min              2023-05-29 00:00:00  2023-06-04 00:00:00   \n",
       "25%              2023-10-23 00:00:00  2023-10-31 00:00:00   \n",
       "50%              2024-03-18 00:00:00  2024-03-31 00:00:00   \n",
       "75%              2024-08-12 00:00:00  2024-08-25 00:00:00   \n",
       "max              2025-01-06 00:00:00  2025-01-31 00:00:00   \n",
       "std                              NaN                  NaN   \n",
       "\n",
       "       sb_stack_score_FPD30_gini  \n",
       "count                 105.000000  \n",
       "mean                    0.361858  \n",
       "min                    -0.036145  \n",
       "25%                     0.314057  \n",
       "50%                     0.352013  \n",
       "75%                     0.423529  \n",
       "max                     0.564768  \n",
       "std                     0.094556  "
      ]
     },
     "execution_count": 77,
     "metadata": {},
     "output_type": "execute_result"
    }
   ],
   "source": [
    "M2FPD30.describe()"
   ]
  },
  {
   "cell_type": "code",
   "execution_count": 78,
   "metadata": {},
   "outputs": [
    {
     "data": {
      "application/vnd.microsoft.datawrangler.viewer.v0+json": {
       "columns": [
        {
         "name": "index",
         "rawType": "int64",
         "type": "integer"
        },
        {
         "name": "start_date",
         "rawType": "datetime64[ns]",
         "type": "datetime"
        },
        {
         "name": "end_date",
         "rawType": "datetime64[ns]",
         "type": "datetime"
        },
        {
         "name": "sb_stack_score_FPD30_gini",
         "rawType": "float64",
         "type": "float"
        },
        {
         "name": "period",
         "rawType": "object",
         "type": "string"
        },
        {
         "name": "Model_Name",
         "rawType": "object",
         "type": "string"
        },
        {
         "name": "version",
         "rawType": "object",
         "type": "string"
        },
        {
         "name": "bad_rate",
         "rawType": "object",
         "type": "string"
        }
       ],
       "conversionMethod": "pd.DataFrame",
       "ref": "66df73e2-62b9-491a-a989-d2bde5512893",
       "rows": [
        [
         "100",
         "2024-12-16 00:00:00",
         "2024-12-22 00:00:00",
         "0.3064991828292909",
         "Week",
         "sb_stack_score",
         "1.1.0",
         "FPD30"
        ],
        [
         "101",
         "2024-12-23 00:00:00",
         "2024-12-29 00:00:00",
         "0.3319945091810106",
         "Week",
         "sb_stack_score",
         "1.1.0",
         "FPD30"
        ],
        [
         "102",
         "2024-12-30 00:00:00",
         "2025-01-05 00:00:00",
         "0.2892776306346996",
         "Week",
         "sb_stack_score",
         "1.1.0",
         "FPD30"
        ],
        [
         "103",
         "2025-01-01 00:00:00",
         "2025-01-31 00:00:00",
         "0.27600253709961375",
         "Month",
         "sb_stack_score",
         "1.1.0",
         "FPD30"
        ],
        [
         "104",
         "2025-01-06 00:00:00",
         "2025-01-12 00:00:00",
         "0.32479349345533093",
         "Week",
         "sb_stack_score",
         "1.1.0",
         "FPD30"
        ]
       ],
       "shape": {
        "columns": 7,
        "rows": 5
       }
      },
      "text/html": [
       "<div>\n",
       "<style scoped>\n",
       "    .dataframe tbody tr th:only-of-type {\n",
       "        vertical-align: middle;\n",
       "    }\n",
       "\n",
       "    .dataframe tbody tr th {\n",
       "        vertical-align: top;\n",
       "    }\n",
       "\n",
       "    .dataframe thead th {\n",
       "        text-align: right;\n",
       "    }\n",
       "</style>\n",
       "<table border=\"1\" class=\"dataframe\">\n",
       "  <thead>\n",
       "    <tr style=\"text-align: right;\">\n",
       "      <th></th>\n",
       "      <th>start_date</th>\n",
       "      <th>end_date</th>\n",
       "      <th>sb_stack_score_FPD30_gini</th>\n",
       "      <th>period</th>\n",
       "      <th>Model_Name</th>\n",
       "      <th>version</th>\n",
       "      <th>bad_rate</th>\n",
       "    </tr>\n",
       "  </thead>\n",
       "  <tbody>\n",
       "    <tr>\n",
       "      <th>100</th>\n",
       "      <td>2024-12-16</td>\n",
       "      <td>2024-12-22</td>\n",
       "      <td>0.306499</td>\n",
       "      <td>Week</td>\n",
       "      <td>sb_stack_score</td>\n",
       "      <td>1.1.0</td>\n",
       "      <td>FPD30</td>\n",
       "    </tr>\n",
       "    <tr>\n",
       "      <th>101</th>\n",
       "      <td>2024-12-23</td>\n",
       "      <td>2024-12-29</td>\n",
       "      <td>0.331995</td>\n",
       "      <td>Week</td>\n",
       "      <td>sb_stack_score</td>\n",
       "      <td>1.1.0</td>\n",
       "      <td>FPD30</td>\n",
       "    </tr>\n",
       "    <tr>\n",
       "      <th>102</th>\n",
       "      <td>2024-12-30</td>\n",
       "      <td>2025-01-05</td>\n",
       "      <td>0.289278</td>\n",
       "      <td>Week</td>\n",
       "      <td>sb_stack_score</td>\n",
       "      <td>1.1.0</td>\n",
       "      <td>FPD30</td>\n",
       "    </tr>\n",
       "    <tr>\n",
       "      <th>103</th>\n",
       "      <td>2025-01-01</td>\n",
       "      <td>2025-01-31</td>\n",
       "      <td>0.276003</td>\n",
       "      <td>Month</td>\n",
       "      <td>sb_stack_score</td>\n",
       "      <td>1.1.0</td>\n",
       "      <td>FPD30</td>\n",
       "    </tr>\n",
       "    <tr>\n",
       "      <th>104</th>\n",
       "      <td>2025-01-06</td>\n",
       "      <td>2025-01-12</td>\n",
       "      <td>0.324793</td>\n",
       "      <td>Week</td>\n",
       "      <td>sb_stack_score</td>\n",
       "      <td>1.1.0</td>\n",
       "      <td>FPD30</td>\n",
       "    </tr>\n",
       "  </tbody>\n",
       "</table>\n",
       "</div>"
      ],
      "text/plain": [
       "    start_date   end_date  sb_stack_score_FPD30_gini period      Model_Name  \\\n",
       "100 2024-12-16 2024-12-22                   0.306499   Week  sb_stack_score   \n",
       "101 2024-12-23 2024-12-29                   0.331995   Week  sb_stack_score   \n",
       "102 2024-12-30 2025-01-05                   0.289278   Week  sb_stack_score   \n",
       "103 2025-01-01 2025-01-31                   0.276003  Month  sb_stack_score   \n",
       "104 2025-01-06 2025-01-12                   0.324793   Week  sb_stack_score   \n",
       "\n",
       "    version bad_rate  \n",
       "100   1.1.0    FPD30  \n",
       "101   1.1.0    FPD30  \n",
       "102   1.1.0    FPD30  \n",
       "103   1.1.0    FPD30  \n",
       "104   1.1.0    FPD30  "
      ]
     },
     "execution_count": 78,
     "metadata": {},
     "output_type": "execute_result"
    }
   ],
   "source": [
    "M2FPD30.tail()"
   ]
  },
  {
   "cell_type": "markdown",
   "metadata": {},
   "source": [
    "## FSPD30"
   ]
  },
  {
   "cell_type": "code",
   "execution_count": 79,
   "metadata": {},
   "outputs": [
    {
     "name": "stdout",
     "output_type": "stream",
     "text": [
      "Job ID eee0fe71-04d8-4436-905c-0c2a8726b6a2 successfully executed: 100%|\u001b[32m██████████\u001b[0m|"
     ]
    },
    {
     "name": "stderr",
     "output_type": "stream",
     "text": [
      "d:\\Anaconda3\\envs\\inc_env\\lib\\site-packages\\google\\cloud\\bigquery\\table.py:1820: UserWarning: BigQuery Storage module not found, fetch data with the REST endpoint instead.\n",
      "  warnings.warn(\n"
     ]
    },
    {
     "name": "stdout",
     "output_type": "stream",
     "text": [
      "\n",
      "Downloading: 100%|\u001b[32m██████████\u001b[0m|\n"
     ]
    },
    {
     "data": {
      "application/vnd.microsoft.datawrangler.viewer.v0+json": {
       "columns": [
        {
         "name": "index",
         "rawType": "int64",
         "type": "integer"
        },
        {
         "name": "disbursementdate",
         "rawType": "datetime64[us]",
         "type": "unknown"
        },
        {
         "name": "digitalLoanAccountId",
         "rawType": "object",
         "type": "string"
        },
        {
         "name": "sb_stack_score",
         "rawType": "float64",
         "type": "float"
        },
        {
         "name": "ln_fspd30_flag",
         "rawType": "Int64",
         "type": "integer"
        },
        {
         "name": "ln_mature_fspd30_flag",
         "rawType": "Int64",
         "type": "integer"
        }
       ],
       "conversionMethod": "pd.DataFrame",
       "ref": "59b62299-c440-455e-9771-6e40a82d5352",
       "rows": [
        [
         "0",
         "2024-07-16 19:09:27",
         "a731f941-ed8a-4278-9ba4-1fd41132aa5e",
         "0.1079624429034287",
         "0",
         "1"
        ],
        [
         "1",
         "2024-02-26 15:08:47",
         "acebf8de-bd42-4b00-83bc-d7c0999a7488",
         "0.060377819961786504",
         "0",
         "1"
        ],
        [
         "2",
         "2024-09-15 09:21:50",
         "2f8156e6-5c5b-454c-92d9-628291e6f99e",
         "0.07534556918969869",
         "0",
         "1"
        ],
        [
         "3",
         "2024-10-13 17:33:13",
         "c58cd395-1d70-4ec0-91c5-8a067645c73c",
         "0.04432360773718546",
         "0",
         "1"
        ],
        [
         "4",
         "2024-07-27 19:43:54",
         "cae2c508-fe59-47b9-8eef-fc5f6f08a184",
         "0.055323436811546445",
         "0",
         "1"
        ]
       ],
       "shape": {
        "columns": 5,
        "rows": 5
       }
      },
      "text/html": [
       "<div>\n",
       "<style scoped>\n",
       "    .dataframe tbody tr th:only-of-type {\n",
       "        vertical-align: middle;\n",
       "    }\n",
       "\n",
       "    .dataframe tbody tr th {\n",
       "        vertical-align: top;\n",
       "    }\n",
       "\n",
       "    .dataframe thead th {\n",
       "        text-align: right;\n",
       "    }\n",
       "</style>\n",
       "<table border=\"1\" class=\"dataframe\">\n",
       "  <thead>\n",
       "    <tr style=\"text-align: right;\">\n",
       "      <th></th>\n",
       "      <th>disbursementdate</th>\n",
       "      <th>digitalLoanAccountId</th>\n",
       "      <th>sb_stack_score</th>\n",
       "      <th>ln_fspd30_flag</th>\n",
       "      <th>ln_mature_fspd30_flag</th>\n",
       "    </tr>\n",
       "  </thead>\n",
       "  <tbody>\n",
       "    <tr>\n",
       "      <th>0</th>\n",
       "      <td>2024-07-16 19:09:27</td>\n",
       "      <td>a731f941-ed8a-4278-9ba4-1fd41132aa5e</td>\n",
       "      <td>0.107962</td>\n",
       "      <td>0</td>\n",
       "      <td>1</td>\n",
       "    </tr>\n",
       "    <tr>\n",
       "      <th>1</th>\n",
       "      <td>2024-02-26 15:08:47</td>\n",
       "      <td>acebf8de-bd42-4b00-83bc-d7c0999a7488</td>\n",
       "      <td>0.060378</td>\n",
       "      <td>0</td>\n",
       "      <td>1</td>\n",
       "    </tr>\n",
       "    <tr>\n",
       "      <th>2</th>\n",
       "      <td>2024-09-15 09:21:50</td>\n",
       "      <td>2f8156e6-5c5b-454c-92d9-628291e6f99e</td>\n",
       "      <td>0.075346</td>\n",
       "      <td>0</td>\n",
       "      <td>1</td>\n",
       "    </tr>\n",
       "    <tr>\n",
       "      <th>3</th>\n",
       "      <td>2024-10-13 17:33:13</td>\n",
       "      <td>c58cd395-1d70-4ec0-91c5-8a067645c73c</td>\n",
       "      <td>0.044324</td>\n",
       "      <td>0</td>\n",
       "      <td>1</td>\n",
       "    </tr>\n",
       "    <tr>\n",
       "      <th>4</th>\n",
       "      <td>2024-07-27 19:43:54</td>\n",
       "      <td>cae2c508-fe59-47b9-8eef-fc5f6f08a184</td>\n",
       "      <td>0.055323</td>\n",
       "      <td>0</td>\n",
       "      <td>1</td>\n",
       "    </tr>\n",
       "  </tbody>\n",
       "</table>\n",
       "</div>"
      ],
      "text/plain": [
       "     disbursementdate                  digitalLoanAccountId  sb_stack_score  \\\n",
       "0 2024-07-16 19:09:27  a731f941-ed8a-4278-9ba4-1fd41132aa5e        0.107962   \n",
       "1 2024-02-26 15:08:47  acebf8de-bd42-4b00-83bc-d7c0999a7488        0.060378   \n",
       "2 2024-09-15 09:21:50  2f8156e6-5c5b-454c-92d9-628291e6f99e        0.075346   \n",
       "3 2024-10-13 17:33:13  c58cd395-1d70-4ec0-91c5-8a067645c73c        0.044324   \n",
       "4 2024-07-27 19:43:54  cae2c508-fe59-47b9-8eef-fc5f6f08a184        0.055323   \n",
       "\n",
       "   ln_fspd30_flag  ln_mature_fspd30_flag  \n",
       "0               0                      1  \n",
       "1               0                      1  \n",
       "2               0                      1  \n",
       "3               0                      1  \n",
       "4               0                      1  "
      ]
     },
     "execution_count": 79,
     "metadata": {},
     "output_type": "execute_result"
    }
   ],
   "source": [
    "# sb_stack_score\n",
    "\n",
    "sq = \"\"\"\n",
    "with sb_stack_score as \n",
    "(SELECT \n",
    "    ln_disb_dtime disbursementdate,\n",
    "\tdigitalLoanAccountId,\n",
    "    beta_stack_score sb_stack_score,\n",
    "    ln_fspd30_flag,\n",
    "\tln_mature_fspd30_flag,\t\n",
    "\tFROM \n",
    "    risk_mart.sil_risk_ds_master_20230101_20250309\n",
    "  WHERE \n",
    "     -- ln_disb_dtime >= '2023-07-01'\n",
    "    ln_appln_submit_datetime >= '2023-06-01'\n",
    "  -- AND\n",
    "  --   format_date('%Y-%m', ln_disb_dtime) = '2024-09'\n",
    "  AND\n",
    "    ln_fspd30_flag is not null\n",
    "  AND\n",
    "    beta_stack_score is not null\n",
    "  AND\n",
    "    ln_mature_fspd30_flag = 1\n",
    ")\n",
    "select * from sb_stack_score;\n",
    "\"\"\"\n",
    "\n",
    "df_sb_stack_scorefspd30 = client.query(sq).to_dataframe(progress_bar_type='tqdm')\n",
    "\n",
    "df_sb_stack_scorefspd30.head()"
   ]
  },
  {
   "cell_type": "code",
   "execution_count": 80,
   "metadata": {},
   "outputs": [
    {
     "name": "stdout",
     "output_type": "stream",
     "text": [
      "The shape of dataframe after copy is:\t(100, 7)\n"
     ]
    },
    {
     "data": {
      "text/plain": [
       "array(['start_date', 'end_date', 'sb_stack_score_FSPD30_gini', 'period',\n",
       "       'Model_Name', 'version', 'bad_rate'], dtype=object)"
      ]
     },
     "execution_count": 80,
     "metadata": {},
     "output_type": "execute_result"
    }
   ],
   "source": [
    "gini_results = calculate_periodic_gini(df_sb_stack_scorefspd30, 'sb_stack_score', 'ln_fspd30_flag', 'FSPD30')\n",
    "M3FSPD30 = gini_results.copy()\n",
    "print(f\"The shape of dataframe after copy is:\\t{M3FSPD30.shape}\")\n",
    "M3FSPD30.columns.values"
   ]
  },
  {
   "cell_type": "code",
   "execution_count": 81,
   "metadata": {},
   "outputs": [
    {
     "data": {
      "application/vnd.microsoft.datawrangler.viewer.v0+json": {
       "columns": [
        {
         "name": "index",
         "rawType": "object",
         "type": "string"
        },
        {
         "name": "start_date",
         "rawType": "object",
         "type": "unknown"
        },
        {
         "name": "end_date",
         "rawType": "object",
         "type": "unknown"
        },
        {
         "name": "sb_stack_score_FSPD30_gini",
         "rawType": "float64",
         "type": "float"
        }
       ],
       "conversionMethod": "pd.DataFrame",
       "ref": "0785f8dc-d3aa-40c3-95c5-5238c75329dd",
       "rows": [
        [
         "count",
         "100",
         "100",
         "100.0"
        ],
        [
         "mean",
         "2024-03-03 12:57:36",
         "2024-03-14 00:14:24",
         "0.3650104109460797"
        ],
        [
         "min",
         "2023-05-29 00:00:00",
         "2023-06-04 00:00:00",
         "0.17958089668615984"
        ],
        [
         "25%",
         "2023-10-14 06:00:00",
         "2023-10-27 06:00:00",
         "0.3165163297102066"
        ],
        [
         "50%",
         "2024-03-02 12:00:00",
         "2024-03-13 12:00:00",
         "0.34774571182495095"
        ],
        [
         "75%",
         "2024-07-23 18:00:00",
         "2024-08-01 00:00:00",
         "0.4237522443855007"
        ],
        [
         "max",
         "2024-12-09 00:00:00",
         "2024-12-31 00:00:00",
         "0.5518861209964412"
        ],
        [
         "std",
         null,
         null,
         "0.07661172479730828"
        ]
       ],
       "shape": {
        "columns": 3,
        "rows": 8
       }
      },
      "text/html": [
       "<div>\n",
       "<style scoped>\n",
       "    .dataframe tbody tr th:only-of-type {\n",
       "        vertical-align: middle;\n",
       "    }\n",
       "\n",
       "    .dataframe tbody tr th {\n",
       "        vertical-align: top;\n",
       "    }\n",
       "\n",
       "    .dataframe thead th {\n",
       "        text-align: right;\n",
       "    }\n",
       "</style>\n",
       "<table border=\"1\" class=\"dataframe\">\n",
       "  <thead>\n",
       "    <tr style=\"text-align: right;\">\n",
       "      <th></th>\n",
       "      <th>start_date</th>\n",
       "      <th>end_date</th>\n",
       "      <th>sb_stack_score_FSPD30_gini</th>\n",
       "    </tr>\n",
       "  </thead>\n",
       "  <tbody>\n",
       "    <tr>\n",
       "      <th>count</th>\n",
       "      <td>100</td>\n",
       "      <td>100</td>\n",
       "      <td>100.000000</td>\n",
       "    </tr>\n",
       "    <tr>\n",
       "      <th>mean</th>\n",
       "      <td>2024-03-03 12:57:36</td>\n",
       "      <td>2024-03-14 00:14:24</td>\n",
       "      <td>0.365010</td>\n",
       "    </tr>\n",
       "    <tr>\n",
       "      <th>min</th>\n",
       "      <td>2023-05-29 00:00:00</td>\n",
       "      <td>2023-06-04 00:00:00</td>\n",
       "      <td>0.179581</td>\n",
       "    </tr>\n",
       "    <tr>\n",
       "      <th>25%</th>\n",
       "      <td>2023-10-14 06:00:00</td>\n",
       "      <td>2023-10-27 06:00:00</td>\n",
       "      <td>0.316516</td>\n",
       "    </tr>\n",
       "    <tr>\n",
       "      <th>50%</th>\n",
       "      <td>2024-03-02 12:00:00</td>\n",
       "      <td>2024-03-13 12:00:00</td>\n",
       "      <td>0.347746</td>\n",
       "    </tr>\n",
       "    <tr>\n",
       "      <th>75%</th>\n",
       "      <td>2024-07-23 18:00:00</td>\n",
       "      <td>2024-08-01 00:00:00</td>\n",
       "      <td>0.423752</td>\n",
       "    </tr>\n",
       "    <tr>\n",
       "      <th>max</th>\n",
       "      <td>2024-12-09 00:00:00</td>\n",
       "      <td>2024-12-31 00:00:00</td>\n",
       "      <td>0.551886</td>\n",
       "    </tr>\n",
       "    <tr>\n",
       "      <th>std</th>\n",
       "      <td>NaN</td>\n",
       "      <td>NaN</td>\n",
       "      <td>0.076612</td>\n",
       "    </tr>\n",
       "  </tbody>\n",
       "</table>\n",
       "</div>"
      ],
      "text/plain": [
       "                start_date             end_date  sb_stack_score_FSPD30_gini\n",
       "count                  100                  100                  100.000000\n",
       "mean   2024-03-03 12:57:36  2024-03-14 00:14:24                    0.365010\n",
       "min    2023-05-29 00:00:00  2023-06-04 00:00:00                    0.179581\n",
       "25%    2023-10-14 06:00:00  2023-10-27 06:00:00                    0.316516\n",
       "50%    2024-03-02 12:00:00  2024-03-13 12:00:00                    0.347746\n",
       "75%    2024-07-23 18:00:00  2024-08-01 00:00:00                    0.423752\n",
       "max    2024-12-09 00:00:00  2024-12-31 00:00:00                    0.551886\n",
       "std                    NaN                  NaN                    0.076612"
      ]
     },
     "execution_count": 81,
     "metadata": {},
     "output_type": "execute_result"
    }
   ],
   "source": [
    "M3FSPD30.describe()"
   ]
  },
  {
   "cell_type": "code",
   "execution_count": 82,
   "metadata": {},
   "outputs": [
    {
     "data": {
      "application/vnd.microsoft.datawrangler.viewer.v0+json": {
       "columns": [
        {
         "name": "index",
         "rawType": "int64",
         "type": "integer"
        },
        {
         "name": "start_date",
         "rawType": "datetime64[ns]",
         "type": "datetime"
        },
        {
         "name": "end_date",
         "rawType": "datetime64[ns]",
         "type": "datetime"
        },
        {
         "name": "sb_stack_score_FSPD30_gini",
         "rawType": "float64",
         "type": "float"
        },
        {
         "name": "period",
         "rawType": "object",
         "type": "string"
        },
        {
         "name": "Model_Name",
         "rawType": "object",
         "type": "string"
        },
        {
         "name": "version",
         "rawType": "object",
         "type": "string"
        },
        {
         "name": "bad_rate",
         "rawType": "object",
         "type": "string"
        }
       ],
       "conversionMethod": "pd.DataFrame",
       "ref": "3af26abf-1e49-4879-ade3-d1f3d4a7f264",
       "rows": [
        [
         "95",
         "2024-11-18 00:00:00",
         "2024-11-24 00:00:00",
         "0.31457690518536596",
         "Week",
         "sb_stack_score",
         "1.1.0",
         "FSPD30"
        ],
        [
         "96",
         "2024-11-25 00:00:00",
         "2024-12-01 00:00:00",
         "0.30019920318725113",
         "Week",
         "sb_stack_score",
         "1.1.0",
         "FSPD30"
        ],
        [
         "97",
         "2024-12-01 00:00:00",
         "2024-12-31 00:00:00",
         "0.3219882297592227",
         "Month",
         "sb_stack_score",
         "1.1.0",
         "FSPD30"
        ],
        [
         "98",
         "2024-12-02 00:00:00",
         "2024-12-08 00:00:00",
         "0.3179087183228546",
         "Week",
         "sb_stack_score",
         "1.1.0",
         "FSPD30"
        ],
        [
         "99",
         "2024-12-09 00:00:00",
         "2024-12-15 00:00:00",
         "0.3270670572916665",
         "Week",
         "sb_stack_score",
         "1.1.0",
         "FSPD30"
        ]
       ],
       "shape": {
        "columns": 7,
        "rows": 5
       }
      },
      "text/html": [
       "<div>\n",
       "<style scoped>\n",
       "    .dataframe tbody tr th:only-of-type {\n",
       "        vertical-align: middle;\n",
       "    }\n",
       "\n",
       "    .dataframe tbody tr th {\n",
       "        vertical-align: top;\n",
       "    }\n",
       "\n",
       "    .dataframe thead th {\n",
       "        text-align: right;\n",
       "    }\n",
       "</style>\n",
       "<table border=\"1\" class=\"dataframe\">\n",
       "  <thead>\n",
       "    <tr style=\"text-align: right;\">\n",
       "      <th></th>\n",
       "      <th>start_date</th>\n",
       "      <th>end_date</th>\n",
       "      <th>sb_stack_score_FSPD30_gini</th>\n",
       "      <th>period</th>\n",
       "      <th>Model_Name</th>\n",
       "      <th>version</th>\n",
       "      <th>bad_rate</th>\n",
       "    </tr>\n",
       "  </thead>\n",
       "  <tbody>\n",
       "    <tr>\n",
       "      <th>95</th>\n",
       "      <td>2024-11-18</td>\n",
       "      <td>2024-11-24</td>\n",
       "      <td>0.314577</td>\n",
       "      <td>Week</td>\n",
       "      <td>sb_stack_score</td>\n",
       "      <td>1.1.0</td>\n",
       "      <td>FSPD30</td>\n",
       "    </tr>\n",
       "    <tr>\n",
       "      <th>96</th>\n",
       "      <td>2024-11-25</td>\n",
       "      <td>2024-12-01</td>\n",
       "      <td>0.300199</td>\n",
       "      <td>Week</td>\n",
       "      <td>sb_stack_score</td>\n",
       "      <td>1.1.0</td>\n",
       "      <td>FSPD30</td>\n",
       "    </tr>\n",
       "    <tr>\n",
       "      <th>97</th>\n",
       "      <td>2024-12-01</td>\n",
       "      <td>2024-12-31</td>\n",
       "      <td>0.321988</td>\n",
       "      <td>Month</td>\n",
       "      <td>sb_stack_score</td>\n",
       "      <td>1.1.0</td>\n",
       "      <td>FSPD30</td>\n",
       "    </tr>\n",
       "    <tr>\n",
       "      <th>98</th>\n",
       "      <td>2024-12-02</td>\n",
       "      <td>2024-12-08</td>\n",
       "      <td>0.317909</td>\n",
       "      <td>Week</td>\n",
       "      <td>sb_stack_score</td>\n",
       "      <td>1.1.0</td>\n",
       "      <td>FSPD30</td>\n",
       "    </tr>\n",
       "    <tr>\n",
       "      <th>99</th>\n",
       "      <td>2024-12-09</td>\n",
       "      <td>2024-12-15</td>\n",
       "      <td>0.327067</td>\n",
       "      <td>Week</td>\n",
       "      <td>sb_stack_score</td>\n",
       "      <td>1.1.0</td>\n",
       "      <td>FSPD30</td>\n",
       "    </tr>\n",
       "  </tbody>\n",
       "</table>\n",
       "</div>"
      ],
      "text/plain": [
       "   start_date   end_date  sb_stack_score_FSPD30_gini period      Model_Name  \\\n",
       "95 2024-11-18 2024-11-24                    0.314577   Week  sb_stack_score   \n",
       "96 2024-11-25 2024-12-01                    0.300199   Week  sb_stack_score   \n",
       "97 2024-12-01 2024-12-31                    0.321988  Month  sb_stack_score   \n",
       "98 2024-12-02 2024-12-08                    0.317909   Week  sb_stack_score   \n",
       "99 2024-12-09 2024-12-15                    0.327067   Week  sb_stack_score   \n",
       "\n",
       "   version bad_rate  \n",
       "95   1.1.0   FSPD30  \n",
       "96   1.1.0   FSPD30  \n",
       "97   1.1.0   FSPD30  \n",
       "98   1.1.0   FSPD30  \n",
       "99   1.1.0   FSPD30  "
      ]
     },
     "execution_count": 82,
     "metadata": {},
     "output_type": "execute_result"
    }
   ],
   "source": [
    "M3FSPD30.tail()"
   ]
  },
  {
   "cell_type": "markdown",
   "metadata": {},
   "source": [
    "## FSTPD30"
   ]
  },
  {
   "cell_type": "code",
   "execution_count": 83,
   "metadata": {},
   "outputs": [
    {
     "name": "stdout",
     "output_type": "stream",
     "text": [
      "Job ID 3079b169-ed72-4f1f-bcf3-c32e77d60f06 successfully executed: 100%|\u001b[32m██████████\u001b[0m|"
     ]
    },
    {
     "name": "stderr",
     "output_type": "stream",
     "text": [
      "d:\\Anaconda3\\envs\\inc_env\\lib\\site-packages\\google\\cloud\\bigquery\\table.py:1820: UserWarning: BigQuery Storage module not found, fetch data with the REST endpoint instead.\n",
      "  warnings.warn(\n"
     ]
    },
    {
     "name": "stdout",
     "output_type": "stream",
     "text": [
      "\n",
      "Downloading: 100%|\u001b[32m██████████\u001b[0m|\n"
     ]
    },
    {
     "data": {
      "application/vnd.microsoft.datawrangler.viewer.v0+json": {
       "columns": [
        {
         "name": "index",
         "rawType": "int64",
         "type": "integer"
        },
        {
         "name": "disbursementdate",
         "rawType": "datetime64[us]",
         "type": "unknown"
        },
        {
         "name": "digitalLoanAccountId",
         "rawType": "object",
         "type": "string"
        },
        {
         "name": "sb_stack_score",
         "rawType": "float64",
         "type": "float"
        },
        {
         "name": "ln_fstpd30_flag",
         "rawType": "Int64",
         "type": "integer"
        },
        {
         "name": "ln_mature_fstpd30_flag",
         "rawType": "Int64",
         "type": "integer"
        }
       ],
       "conversionMethod": "pd.DataFrame",
       "ref": "ba7f049b-eda0-4164-b3d0-c5f74f7b2378",
       "rows": [
        [
         "0",
         "2024-07-16 19:09:27",
         "a731f941-ed8a-4278-9ba4-1fd41132aa5e",
         "0.1079624429034287",
         "0",
         "1"
        ],
        [
         "1",
         "2024-02-26 15:08:47",
         "acebf8de-bd42-4b00-83bc-d7c0999a7488",
         "0.060377819961786504",
         "0",
         "1"
        ],
        [
         "2",
         "2024-09-15 09:21:50",
         "2f8156e6-5c5b-454c-92d9-628291e6f99e",
         "0.07534556918969869",
         "0",
         "1"
        ],
        [
         "3",
         "2024-10-13 17:33:13",
         "c58cd395-1d70-4ec0-91c5-8a067645c73c",
         "0.04432360773718546",
         "0",
         "1"
        ],
        [
         "4",
         "2024-07-27 19:43:54",
         "cae2c508-fe59-47b9-8eef-fc5f6f08a184",
         "0.055323436811546445",
         "0",
         "1"
        ]
       ],
       "shape": {
        "columns": 5,
        "rows": 5
       }
      },
      "text/html": [
       "<div>\n",
       "<style scoped>\n",
       "    .dataframe tbody tr th:only-of-type {\n",
       "        vertical-align: middle;\n",
       "    }\n",
       "\n",
       "    .dataframe tbody tr th {\n",
       "        vertical-align: top;\n",
       "    }\n",
       "\n",
       "    .dataframe thead th {\n",
       "        text-align: right;\n",
       "    }\n",
       "</style>\n",
       "<table border=\"1\" class=\"dataframe\">\n",
       "  <thead>\n",
       "    <tr style=\"text-align: right;\">\n",
       "      <th></th>\n",
       "      <th>disbursementdate</th>\n",
       "      <th>digitalLoanAccountId</th>\n",
       "      <th>sb_stack_score</th>\n",
       "      <th>ln_fstpd30_flag</th>\n",
       "      <th>ln_mature_fstpd30_flag</th>\n",
       "    </tr>\n",
       "  </thead>\n",
       "  <tbody>\n",
       "    <tr>\n",
       "      <th>0</th>\n",
       "      <td>2024-07-16 19:09:27</td>\n",
       "      <td>a731f941-ed8a-4278-9ba4-1fd41132aa5e</td>\n",
       "      <td>0.107962</td>\n",
       "      <td>0</td>\n",
       "      <td>1</td>\n",
       "    </tr>\n",
       "    <tr>\n",
       "      <th>1</th>\n",
       "      <td>2024-02-26 15:08:47</td>\n",
       "      <td>acebf8de-bd42-4b00-83bc-d7c0999a7488</td>\n",
       "      <td>0.060378</td>\n",
       "      <td>0</td>\n",
       "      <td>1</td>\n",
       "    </tr>\n",
       "    <tr>\n",
       "      <th>2</th>\n",
       "      <td>2024-09-15 09:21:50</td>\n",
       "      <td>2f8156e6-5c5b-454c-92d9-628291e6f99e</td>\n",
       "      <td>0.075346</td>\n",
       "      <td>0</td>\n",
       "      <td>1</td>\n",
       "    </tr>\n",
       "    <tr>\n",
       "      <th>3</th>\n",
       "      <td>2024-10-13 17:33:13</td>\n",
       "      <td>c58cd395-1d70-4ec0-91c5-8a067645c73c</td>\n",
       "      <td>0.044324</td>\n",
       "      <td>0</td>\n",
       "      <td>1</td>\n",
       "    </tr>\n",
       "    <tr>\n",
       "      <th>4</th>\n",
       "      <td>2024-07-27 19:43:54</td>\n",
       "      <td>cae2c508-fe59-47b9-8eef-fc5f6f08a184</td>\n",
       "      <td>0.055323</td>\n",
       "      <td>0</td>\n",
       "      <td>1</td>\n",
       "    </tr>\n",
       "  </tbody>\n",
       "</table>\n",
       "</div>"
      ],
      "text/plain": [
       "     disbursementdate                  digitalLoanAccountId  sb_stack_score  \\\n",
       "0 2024-07-16 19:09:27  a731f941-ed8a-4278-9ba4-1fd41132aa5e        0.107962   \n",
       "1 2024-02-26 15:08:47  acebf8de-bd42-4b00-83bc-d7c0999a7488        0.060378   \n",
       "2 2024-09-15 09:21:50  2f8156e6-5c5b-454c-92d9-628291e6f99e        0.075346   \n",
       "3 2024-10-13 17:33:13  c58cd395-1d70-4ec0-91c5-8a067645c73c        0.044324   \n",
       "4 2024-07-27 19:43:54  cae2c508-fe59-47b9-8eef-fc5f6f08a184        0.055323   \n",
       "\n",
       "   ln_fstpd30_flag  ln_mature_fstpd30_flag  \n",
       "0                0                       1  \n",
       "1                0                       1  \n",
       "2                0                       1  \n",
       "3                0                       1  \n",
       "4                0                       1  "
      ]
     },
     "execution_count": 83,
     "metadata": {},
     "output_type": "execute_result"
    }
   ],
   "source": [
    "# sb_stack_score\n",
    "\n",
    "sq = \"\"\"\n",
    "with sb_stack_score as \n",
    "(SELECT \n",
    "    ln_disb_dtime disbursementdate,\n",
    "\tdigitalLoanAccountId,\n",
    "    beta_stack_score sb_stack_score,\n",
    "    ln_fstpd30_flag,\n",
    "\tln_mature_fstpd30_flag,\t\n",
    "\tFROM \n",
    "    risk_mart.sil_risk_ds_master_20230101_20250309\n",
    "  WHERE \n",
    "     -- ln_disb_dtime >= '2023-07-01'\n",
    "    ln_appln_submit_datetime >= '2023-06-01'\n",
    "  -- AND\n",
    "  --   format_date('%Y-%m', ln_disb_dtime) = '2024-09'\n",
    "  AND\n",
    "    ln_fstpd30_flag is not null\n",
    "  AND\n",
    "    beta_stack_score is not null\n",
    "  AND\n",
    "    ln_mature_fstpd30_flag = 1\n",
    ")\n",
    "select * from sb_stack_score;\n",
    "\"\"\"\n",
    "\n",
    "df_sb_stack_scorefstpd30 = client.query(sq).to_dataframe(progress_bar_type='tqdm')\n",
    "\n",
    "df_sb_stack_scorefstpd30.head()"
   ]
  },
  {
   "cell_type": "code",
   "execution_count": 84,
   "metadata": {},
   "outputs": [
    {
     "name": "stdout",
     "output_type": "stream",
     "text": [
      "The shape of dataframe after copy is:\t(94, 7)\n"
     ]
    },
    {
     "data": {
      "text/plain": [
       "array(['start_date', 'end_date', 'sb_stack_score_FSTPD30_gini', 'period',\n",
       "       'Model_Name', 'version', 'bad_rate'], dtype=object)"
      ]
     },
     "execution_count": 84,
     "metadata": {},
     "output_type": "execute_result"
    }
   ],
   "source": [
    "gini_results = calculate_periodic_gini(df_sb_stack_scorefstpd30, 'sb_stack_score', 'ln_fstpd30_flag', 'FSTPD30')\n",
    "M4FSTPD30 = gini_results.copy()\n",
    "print(f\"The shape of dataframe after copy is:\\t{M4FSTPD30.shape}\")\n",
    "M4FSTPD30.columns.values"
   ]
  },
  {
   "cell_type": "code",
   "execution_count": 85,
   "metadata": {},
   "outputs": [
    {
     "data": {
      "application/vnd.microsoft.datawrangler.viewer.v0+json": {
       "columns": [
        {
         "name": "index",
         "rawType": "object",
         "type": "string"
        },
        {
         "name": "start_date",
         "rawType": "object",
         "type": "unknown"
        },
        {
         "name": "end_date",
         "rawType": "object",
         "type": "unknown"
        },
        {
         "name": "sb_stack_score_FSTPD30_gini",
         "rawType": "float64",
         "type": "float"
        }
       ],
       "conversionMethod": "pd.DataFrame",
       "ref": "afb47375-660b-4afa-a5d8-162b3ed99e28",
       "rows": [
        [
         "count",
         "94",
         "94",
         "94.0"
        ],
        [
         "mean",
         "2024-02-15 11:14:02.553191424",
         "2024-02-25 23:14:02.553191424",
         "0.33945686896400135"
        ],
        [
         "min",
         "2023-05-29 00:00:00",
         "2023-06-04 00:00:00",
         "0.16005733397037747"
        ],
        [
         "25%",
         "2023-10-03 18:00:00",
         "2023-10-16 18:00:00",
         "0.2977665289165069"
        ],
        [
         "50%",
         "2024-02-15 12:00:00",
         "2024-02-27 00:00:00",
         "0.3343223671176637"
        ],
        [
         "75%",
         "2024-06-29 06:00:00",
         "2024-07-05 06:00:00",
         "0.38584497298906645"
        ],
        [
         "max",
         "2024-11-04 00:00:00",
         "2024-11-30 00:00:00",
         "0.5001325071312928"
        ],
        [
         "std",
         null,
         null,
         "0.06292928711031284"
        ]
       ],
       "shape": {
        "columns": 3,
        "rows": 8
       }
      },
      "text/html": [
       "<div>\n",
       "<style scoped>\n",
       "    .dataframe tbody tr th:only-of-type {\n",
       "        vertical-align: middle;\n",
       "    }\n",
       "\n",
       "    .dataframe tbody tr th {\n",
       "        vertical-align: top;\n",
       "    }\n",
       "\n",
       "    .dataframe thead th {\n",
       "        text-align: right;\n",
       "    }\n",
       "</style>\n",
       "<table border=\"1\" class=\"dataframe\">\n",
       "  <thead>\n",
       "    <tr style=\"text-align: right;\">\n",
       "      <th></th>\n",
       "      <th>start_date</th>\n",
       "      <th>end_date</th>\n",
       "      <th>sb_stack_score_FSTPD30_gini</th>\n",
       "    </tr>\n",
       "  </thead>\n",
       "  <tbody>\n",
       "    <tr>\n",
       "      <th>count</th>\n",
       "      <td>94</td>\n",
       "      <td>94</td>\n",
       "      <td>94.000000</td>\n",
       "    </tr>\n",
       "    <tr>\n",
       "      <th>mean</th>\n",
       "      <td>2024-02-15 11:14:02.553191424</td>\n",
       "      <td>2024-02-25 23:14:02.553191424</td>\n",
       "      <td>0.339457</td>\n",
       "    </tr>\n",
       "    <tr>\n",
       "      <th>min</th>\n",
       "      <td>2023-05-29 00:00:00</td>\n",
       "      <td>2023-06-04 00:00:00</td>\n",
       "      <td>0.160057</td>\n",
       "    </tr>\n",
       "    <tr>\n",
       "      <th>25%</th>\n",
       "      <td>2023-10-03 18:00:00</td>\n",
       "      <td>2023-10-16 18:00:00</td>\n",
       "      <td>0.297767</td>\n",
       "    </tr>\n",
       "    <tr>\n",
       "      <th>50%</th>\n",
       "      <td>2024-02-15 12:00:00</td>\n",
       "      <td>2024-02-27 00:00:00</td>\n",
       "      <td>0.334322</td>\n",
       "    </tr>\n",
       "    <tr>\n",
       "      <th>75%</th>\n",
       "      <td>2024-06-29 06:00:00</td>\n",
       "      <td>2024-07-05 06:00:00</td>\n",
       "      <td>0.385845</td>\n",
       "    </tr>\n",
       "    <tr>\n",
       "      <th>max</th>\n",
       "      <td>2024-11-04 00:00:00</td>\n",
       "      <td>2024-11-30 00:00:00</td>\n",
       "      <td>0.500133</td>\n",
       "    </tr>\n",
       "    <tr>\n",
       "      <th>std</th>\n",
       "      <td>NaN</td>\n",
       "      <td>NaN</td>\n",
       "      <td>0.062929</td>\n",
       "    </tr>\n",
       "  </tbody>\n",
       "</table>\n",
       "</div>"
      ],
      "text/plain": [
       "                          start_date                       end_date  \\\n",
       "count                             94                             94   \n",
       "mean   2024-02-15 11:14:02.553191424  2024-02-25 23:14:02.553191424   \n",
       "min              2023-05-29 00:00:00            2023-06-04 00:00:00   \n",
       "25%              2023-10-03 18:00:00            2023-10-16 18:00:00   \n",
       "50%              2024-02-15 12:00:00            2024-02-27 00:00:00   \n",
       "75%              2024-06-29 06:00:00            2024-07-05 06:00:00   \n",
       "max              2024-11-04 00:00:00            2024-11-30 00:00:00   \n",
       "std                              NaN                            NaN   \n",
       "\n",
       "       sb_stack_score_FSTPD30_gini  \n",
       "count                    94.000000  \n",
       "mean                      0.339457  \n",
       "min                       0.160057  \n",
       "25%                       0.297767  \n",
       "50%                       0.334322  \n",
       "75%                       0.385845  \n",
       "max                       0.500133  \n",
       "std                       0.062929  "
      ]
     },
     "execution_count": 85,
     "metadata": {},
     "output_type": "execute_result"
    }
   ],
   "source": [
    "M4FSTPD30.describe()"
   ]
  },
  {
   "cell_type": "code",
   "execution_count": 86,
   "metadata": {},
   "outputs": [
    {
     "data": {
      "application/vnd.microsoft.datawrangler.viewer.v0+json": {
       "columns": [
        {
         "name": "index",
         "rawType": "int64",
         "type": "integer"
        },
        {
         "name": "start_date",
         "rawType": "datetime64[ns]",
         "type": "datetime"
        },
        {
         "name": "end_date",
         "rawType": "datetime64[ns]",
         "type": "datetime"
        },
        {
         "name": "sb_stack_score_FSTPD30_gini",
         "rawType": "float64",
         "type": "float"
        },
        {
         "name": "period",
         "rawType": "object",
         "type": "string"
        },
        {
         "name": "Model_Name",
         "rawType": "object",
         "type": "string"
        },
        {
         "name": "version",
         "rawType": "object",
         "type": "string"
        },
        {
         "name": "bad_rate",
         "rawType": "object",
         "type": "string"
        }
       ],
       "conversionMethod": "pd.DataFrame",
       "ref": "a9d623e6-f7a4-4d10-8730-eed74cdb79e2",
       "rows": [
        [
         "89",
         "2024-10-14 00:00:00",
         "2024-10-20 00:00:00",
         "0.2751233816825067",
         "Week",
         "sb_stack_score",
         "1.1.0",
         "FSTPD30"
        ],
        [
         "90",
         "2024-10-21 00:00:00",
         "2024-10-27 00:00:00",
         "0.29823768639855386",
         "Week",
         "sb_stack_score",
         "1.1.0",
         "FSTPD30"
        ],
        [
         "91",
         "2024-10-28 00:00:00",
         "2024-11-03 00:00:00",
         "0.28741353602618847",
         "Week",
         "sb_stack_score",
         "1.1.0",
         "FSTPD30"
        ],
        [
         "92",
         "2024-11-01 00:00:00",
         "2024-11-30 00:00:00",
         "0.32638104087663344",
         "Month",
         "sb_stack_score",
         "1.1.0",
         "FSTPD30"
        ],
        [
         "93",
         "2024-11-04 00:00:00",
         "2024-11-10 00:00:00",
         "0.30539294306335196",
         "Week",
         "sb_stack_score",
         "1.1.0",
         "FSTPD30"
        ]
       ],
       "shape": {
        "columns": 7,
        "rows": 5
       }
      },
      "text/html": [
       "<div>\n",
       "<style scoped>\n",
       "    .dataframe tbody tr th:only-of-type {\n",
       "        vertical-align: middle;\n",
       "    }\n",
       "\n",
       "    .dataframe tbody tr th {\n",
       "        vertical-align: top;\n",
       "    }\n",
       "\n",
       "    .dataframe thead th {\n",
       "        text-align: right;\n",
       "    }\n",
       "</style>\n",
       "<table border=\"1\" class=\"dataframe\">\n",
       "  <thead>\n",
       "    <tr style=\"text-align: right;\">\n",
       "      <th></th>\n",
       "      <th>start_date</th>\n",
       "      <th>end_date</th>\n",
       "      <th>sb_stack_score_FSTPD30_gini</th>\n",
       "      <th>period</th>\n",
       "      <th>Model_Name</th>\n",
       "      <th>version</th>\n",
       "      <th>bad_rate</th>\n",
       "    </tr>\n",
       "  </thead>\n",
       "  <tbody>\n",
       "    <tr>\n",
       "      <th>89</th>\n",
       "      <td>2024-10-14</td>\n",
       "      <td>2024-10-20</td>\n",
       "      <td>0.275123</td>\n",
       "      <td>Week</td>\n",
       "      <td>sb_stack_score</td>\n",
       "      <td>1.1.0</td>\n",
       "      <td>FSTPD30</td>\n",
       "    </tr>\n",
       "    <tr>\n",
       "      <th>90</th>\n",
       "      <td>2024-10-21</td>\n",
       "      <td>2024-10-27</td>\n",
       "      <td>0.298238</td>\n",
       "      <td>Week</td>\n",
       "      <td>sb_stack_score</td>\n",
       "      <td>1.1.0</td>\n",
       "      <td>FSTPD30</td>\n",
       "    </tr>\n",
       "    <tr>\n",
       "      <th>91</th>\n",
       "      <td>2024-10-28</td>\n",
       "      <td>2024-11-03</td>\n",
       "      <td>0.287414</td>\n",
       "      <td>Week</td>\n",
       "      <td>sb_stack_score</td>\n",
       "      <td>1.1.0</td>\n",
       "      <td>FSTPD30</td>\n",
       "    </tr>\n",
       "    <tr>\n",
       "      <th>92</th>\n",
       "      <td>2024-11-01</td>\n",
       "      <td>2024-11-30</td>\n",
       "      <td>0.326381</td>\n",
       "      <td>Month</td>\n",
       "      <td>sb_stack_score</td>\n",
       "      <td>1.1.0</td>\n",
       "      <td>FSTPD30</td>\n",
       "    </tr>\n",
       "    <tr>\n",
       "      <th>93</th>\n",
       "      <td>2024-11-04</td>\n",
       "      <td>2024-11-10</td>\n",
       "      <td>0.305393</td>\n",
       "      <td>Week</td>\n",
       "      <td>sb_stack_score</td>\n",
       "      <td>1.1.0</td>\n",
       "      <td>FSTPD30</td>\n",
       "    </tr>\n",
       "  </tbody>\n",
       "</table>\n",
       "</div>"
      ],
      "text/plain": [
       "   start_date   end_date  sb_stack_score_FSTPD30_gini period      Model_Name  \\\n",
       "89 2024-10-14 2024-10-20                     0.275123   Week  sb_stack_score   \n",
       "90 2024-10-21 2024-10-27                     0.298238   Week  sb_stack_score   \n",
       "91 2024-10-28 2024-11-03                     0.287414   Week  sb_stack_score   \n",
       "92 2024-11-01 2024-11-30                     0.326381  Month  sb_stack_score   \n",
       "93 2024-11-04 2024-11-10                     0.305393   Week  sb_stack_score   \n",
       "\n",
       "   version bad_rate  \n",
       "89   1.1.0  FSTPD30  \n",
       "90   1.1.0  FSTPD30  \n",
       "91   1.1.0  FSTPD30  \n",
       "92   1.1.0  FSTPD30  \n",
       "93   1.1.0  FSTPD30  "
      ]
     },
     "execution_count": 86,
     "metadata": {},
     "output_type": "execute_result"
    }
   ],
   "source": [
    "M4FSTPD30.tail()"
   ]
  },
  {
   "cell_type": "markdown",
   "metadata": {},
   "source": [
    "## Combining the dataframes"
   ]
  },
  {
   "cell_type": "code",
   "execution_count": 87,
   "metadata": {},
   "outputs": [
    {
     "data": {
      "text/plain": [
       "array(['start_date', 'end_date', 'sb_stack_score_FPD10_gini', 'period',\n",
       "       'Model_Name', 'version', 'bad_rate', 'sb_stack_score_FPD30_gini',\n",
       "       'sb_stack_score_FSPD30_gini', 'sb_stack_score_FSTPD30_gini'],\n",
       "      dtype=object)"
      ]
     },
     "execution_count": 87,
     "metadata": {},
     "output_type": "execute_result"
    }
   ],
   "source": [
    "import functools\n",
    "\n",
    "dataframes = [M1FPD10, M2FPD30, M3FSPD30, M4FSTPD30]\n",
    "common_columns = ['start_date', 'end_date', 'period', 'Model_Name','version', 'bad_rate']\n",
    "\n",
    "def merge_dataframes(df1, df2):\n",
    "    return pd.merge(df1, df2, on=common_columns, how='outer')\n",
    "\n",
    "final_df = functools.reduce(merge_dataframes, dataframes)\n",
    "\n",
    "final_df.columns.values"
   ]
  },
  {
   "cell_type": "code",
   "execution_count": 88,
   "metadata": {},
   "outputs": [],
   "source": [
    "final_df = final_df[['start_date', 'end_date', 'period', 'Model_Name', 'version', 'bad_rate', 'sb_stack_score_FPD10_gini', 'sb_stack_score_FPD30_gini',  'sb_stack_score_FSPD30_gini', 'sb_stack_score_FSTPD30_gini']].copy()"
   ]
  },
  {
   "cell_type": "markdown",
   "metadata": {},
   "source": [
    "## Creating the table "
   ]
  },
  {
   "cell_type": "code",
   "execution_count": 89,
   "metadata": {},
   "outputs": [
    {
     "data": {
      "text/plain": [
       "QueryJob<project=prj-prod-dataplatform, location=asia-southeast1, id=4503bbff-3452-432a-898b-0dbb27a46f99>"
      ]
     },
     "execution_count": 89,
     "metadata": {},
     "output_type": "execute_result"
    }
   ],
   "source": [
    "sq = \"\"\"drop table if exists prj-prod-dataplatform.dap_ds_poweruser_playground.Model_gini_sb_stack_score;\"\"\"\n",
    "\n",
    "client.query(sq)"
   ]
  },
  {
   "cell_type": "code",
   "execution_count": 90,
   "metadata": {},
   "outputs": [
    {
     "data": {
      "text/plain": [
       "LoadJob<project=prj-prod-dataplatform, location=asia-southeast1, id=452e4c50-8fbf-4aab-ac62-e99ba12b8d4a>"
      ]
     },
     "execution_count": 90,
     "metadata": {},
     "output_type": "execute_result"
    }
   ],
   "source": [
    "import pandas as pd\n",
    "from google.cloud import bigquery\n",
    "\n",
    "# Create a BigQuery client\n",
    "client = bigquery.Client('prj-prod-dataplatform')\n",
    "\n",
    "# Define your table schema\n",
    "table_schema = [\n",
    "    bigquery.SchemaField('start_date', 'TIMESTAMP'),\n",
    "    bigquery.SchemaField('end_date', 'TIMESTAMP'),\n",
    "    bigquery.SchemaField('period', 'STRING'),\n",
    "    bigquery.SchemaField('Model_Name', 'STRING'),\n",
    "    bigquery.SchemaField('version', 'STRING'),\n",
    "    bigquery.SchemaField('Badrate', 'STRING'),\n",
    "    bigquery.SchemaField('sb_stack_score_FPD10_gini', 'FLOAT'),\n",
    "    bigquery.SchemaField('sb_stack_score_FPD30_gini', 'FLOAT'),    \n",
    "    bigquery.SchemaField('sb_stack_score_FSPD30_gini', 'FLOAT'),\n",
    "    bigquery.SchemaField('sb_stack_score_FSTPD30_gini', 'FLOAT')\n",
    "    \n",
    "]\n",
    "\n",
    "# Create your BigQuery table\n",
    "table_id = 'prj-prod-dataplatform.dap_ds_poweruser_playground.Model_gini_sb_stack_score'\n",
    "table = bigquery.Table(table_id, schema=table_schema)\n",
    "table = client.create_table(table)\n",
    "\n",
    "# Load your DataFrame into BigQuery\n",
    "job_config = bigquery.LoadJobConfig(\n",
    "    write_disposition='WRITE_TRUNCATE'\n",
    ")\n",
    "\n",
    "load_job = client.load_table_from_dataframe(\n",
    "    final_df, table_id, job_config=job_config\n",
    ")\n",
    "\n",
    "load_job.result()"
   ]
  },
  {
   "cell_type": "markdown",
   "metadata": {},
   "source": [
    "# sa_stack_score"
   ]
  },
  {
   "cell_type": "markdown",
   "metadata": {},
   "source": [
    "## FPD10"
   ]
  },
  {
   "cell_type": "code",
   "execution_count": 91,
   "metadata": {},
   "outputs": [
    {
     "name": "stdout",
     "output_type": "stream",
     "text": [
      "Job ID 8a99fbf7-b448-40a4-a365-2cf611d25dad successfully executed: 100%|\u001b[32m██████████\u001b[0m|"
     ]
    },
    {
     "name": "stderr",
     "output_type": "stream",
     "text": [
      "d:\\Anaconda3\\envs\\inc_env\\lib\\site-packages\\google\\cloud\\bigquery\\table.py:1820: UserWarning: BigQuery Storage module not found, fetch data with the REST endpoint instead.\n",
      "  warnings.warn(\n"
     ]
    },
    {
     "name": "stdout",
     "output_type": "stream",
     "text": [
      "\n",
      "Downloading: 100%|\u001b[32m██████████\u001b[0m|\n"
     ]
    },
    {
     "data": {
      "application/vnd.microsoft.datawrangler.viewer.v0+json": {
       "columns": [
        {
         "name": "index",
         "rawType": "int64",
         "type": "integer"
        },
        {
         "name": "disbursementdate",
         "rawType": "datetime64[us]",
         "type": "unknown"
        },
        {
         "name": "digitalLoanAccountId",
         "rawType": "object",
         "type": "string"
        },
        {
         "name": "sa_stack_score",
         "rawType": "float64",
         "type": "float"
        },
        {
         "name": "ln_fpd10_flag",
         "rawType": "Int64",
         "type": "integer"
        },
        {
         "name": "ln_mature_fpd10_flag",
         "rawType": "Int64",
         "type": "integer"
        }
       ],
       "conversionMethod": "pd.DataFrame",
       "ref": "904a075f-fb19-43d9-9b0f-6586adad8689",
       "rows": [
        [
         "0",
         "2024-07-16 19:09:27",
         "a731f941-ed8a-4278-9ba4-1fd41132aa5e",
         "0.06997380648236994",
         "0",
         "1"
        ],
        [
         "1",
         "2024-09-15 09:21:50",
         "2f8156e6-5c5b-454c-92d9-628291e6f99e",
         "0.04593283994386934",
         "0",
         "1"
        ],
        [
         "2",
         "2024-12-29 18:02:03",
         "6548e088-8d8e-47ae-b33d-e6df00d80c38",
         "0.054839443970933016",
         "0",
         "1"
        ],
        [
         "3",
         "2025-01-14 17:34:10",
         "15667458-5a69-445e-bd5d-4e22394b789e",
         "0.02003952732125101",
         "0",
         "1"
        ],
        [
         "4",
         "2025-01-11 16:07:45",
         "350e8b35-ba30-41e6-992f-ab0a8208c404",
         "0.02558381980537624",
         "0",
         "1"
        ]
       ],
       "shape": {
        "columns": 5,
        "rows": 5
       }
      },
      "text/html": [
       "<div>\n",
       "<style scoped>\n",
       "    .dataframe tbody tr th:only-of-type {\n",
       "        vertical-align: middle;\n",
       "    }\n",
       "\n",
       "    .dataframe tbody tr th {\n",
       "        vertical-align: top;\n",
       "    }\n",
       "\n",
       "    .dataframe thead th {\n",
       "        text-align: right;\n",
       "    }\n",
       "</style>\n",
       "<table border=\"1\" class=\"dataframe\">\n",
       "  <thead>\n",
       "    <tr style=\"text-align: right;\">\n",
       "      <th></th>\n",
       "      <th>disbursementdate</th>\n",
       "      <th>digitalLoanAccountId</th>\n",
       "      <th>sa_stack_score</th>\n",
       "      <th>ln_fpd10_flag</th>\n",
       "      <th>ln_mature_fpd10_flag</th>\n",
       "    </tr>\n",
       "  </thead>\n",
       "  <tbody>\n",
       "    <tr>\n",
       "      <th>0</th>\n",
       "      <td>2024-07-16 19:09:27</td>\n",
       "      <td>a731f941-ed8a-4278-9ba4-1fd41132aa5e</td>\n",
       "      <td>0.069974</td>\n",
       "      <td>0</td>\n",
       "      <td>1</td>\n",
       "    </tr>\n",
       "    <tr>\n",
       "      <th>1</th>\n",
       "      <td>2024-09-15 09:21:50</td>\n",
       "      <td>2f8156e6-5c5b-454c-92d9-628291e6f99e</td>\n",
       "      <td>0.045933</td>\n",
       "      <td>0</td>\n",
       "      <td>1</td>\n",
       "    </tr>\n",
       "    <tr>\n",
       "      <th>2</th>\n",
       "      <td>2024-12-29 18:02:03</td>\n",
       "      <td>6548e088-8d8e-47ae-b33d-e6df00d80c38</td>\n",
       "      <td>0.054839</td>\n",
       "      <td>0</td>\n",
       "      <td>1</td>\n",
       "    </tr>\n",
       "    <tr>\n",
       "      <th>3</th>\n",
       "      <td>2025-01-14 17:34:10</td>\n",
       "      <td>15667458-5a69-445e-bd5d-4e22394b789e</td>\n",
       "      <td>0.020040</td>\n",
       "      <td>0</td>\n",
       "      <td>1</td>\n",
       "    </tr>\n",
       "    <tr>\n",
       "      <th>4</th>\n",
       "      <td>2025-01-11 16:07:45</td>\n",
       "      <td>350e8b35-ba30-41e6-992f-ab0a8208c404</td>\n",
       "      <td>0.025584</td>\n",
       "      <td>0</td>\n",
       "      <td>1</td>\n",
       "    </tr>\n",
       "  </tbody>\n",
       "</table>\n",
       "</div>"
      ],
      "text/plain": [
       "     disbursementdate                  digitalLoanAccountId  sa_stack_score  \\\n",
       "0 2024-07-16 19:09:27  a731f941-ed8a-4278-9ba4-1fd41132aa5e        0.069974   \n",
       "1 2024-09-15 09:21:50  2f8156e6-5c5b-454c-92d9-628291e6f99e        0.045933   \n",
       "2 2024-12-29 18:02:03  6548e088-8d8e-47ae-b33d-e6df00d80c38        0.054839   \n",
       "3 2025-01-14 17:34:10  15667458-5a69-445e-bd5d-4e22394b789e        0.020040   \n",
       "4 2025-01-11 16:07:45  350e8b35-ba30-41e6-992f-ab0a8208c404        0.025584   \n",
       "\n",
       "   ln_fpd10_flag  ln_mature_fpd10_flag  \n",
       "0              0                     1  \n",
       "1              0                     1  \n",
       "2              0                     1  \n",
       "3              0                     1  \n",
       "4              0                     1  "
      ]
     },
     "execution_count": 91,
     "metadata": {},
     "output_type": "execute_result"
    }
   ],
   "source": [
    "# sa_stack_score\n",
    "\n",
    "sq = \"\"\"\n",
    "with sa_stack_score as \n",
    "(SELECT \n",
    "    ln_disb_dtime disbursementdate,\n",
    "\tdigitalLoanAccountId,\n",
    "    alpha_stack_score sa_stack_score,\n",
    "    ln_fpd10_flag,\n",
    "\tln_mature_fpd10_flag,\t\n",
    "\tFROM \n",
    "    risk_mart.sil_risk_ds_master_20230101_20250309\n",
    "  WHERE \n",
    "     -- ln_disb_dtime >= '2023-07-01'\n",
    "    ln_appln_submit_datetime >= '2023-06-01'\n",
    "  -- AND\n",
    "  --   format_date('%Y-%m', ln_disb_dtime) = '2024-09'\n",
    "  AND\n",
    "    ln_fpd10_flag is not null\n",
    "  AND\n",
    "    alpha_stack_score is not null\n",
    "  AND\n",
    "    ln_mature_fpd10_flag = 1\n",
    ")\n",
    "select * from sa_stack_score;\n",
    "\"\"\"\n",
    "\n",
    "sa_stack_scorefpd10 = client.query(sq).to_dataframe(progress_bar_type='tqdm')\n",
    "\n",
    "sa_stack_scorefpd10.head()"
   ]
  },
  {
   "cell_type": "code",
   "execution_count": 92,
   "metadata": {},
   "outputs": [
    {
     "data": {
      "application/vnd.microsoft.datawrangler.viewer.v0+json": {
       "columns": [
        {
         "name": "index",
         "rawType": "int64",
         "type": "integer"
        },
        {
         "name": "disbursementdate",
         "rawType": "datetime64[us]",
         "type": "unknown"
        },
        {
         "name": "digitalLoanAccountId",
         "rawType": "object",
         "type": "string"
        },
        {
         "name": "sa_stack_score",
         "rawType": "float64",
         "type": "float"
        },
        {
         "name": "ln_fpd10_flag",
         "rawType": "Int64",
         "type": "integer"
        },
        {
         "name": "ln_mature_fpd10_flag",
         "rawType": "Int64",
         "type": "integer"
        }
       ],
       "conversionMethod": "pd.DataFrame",
       "ref": "22934445-50c0-4802-98d8-7632d2fc716a",
       "rows": [
        [
         "0",
         "2024-07-16 19:09:27",
         "a731f941-ed8a-4278-9ba4-1fd41132aa5e",
         "0.06997380648236994",
         "0",
         "1"
        ],
        [
         "1",
         "2024-09-15 09:21:50",
         "2f8156e6-5c5b-454c-92d9-628291e6f99e",
         "0.04593283994386934",
         "0",
         "1"
        ],
        [
         "2",
         "2024-12-29 18:02:03",
         "6548e088-8d8e-47ae-b33d-e6df00d80c38",
         "0.054839443970933016",
         "0",
         "1"
        ],
        [
         "3",
         "2025-01-14 17:34:10",
         "15667458-5a69-445e-bd5d-4e22394b789e",
         "0.02003952732125101",
         "0",
         "1"
        ],
        [
         "4",
         "2025-01-11 16:07:45",
         "350e8b35-ba30-41e6-992f-ab0a8208c404",
         "0.02558381980537624",
         "0",
         "1"
        ]
       ],
       "shape": {
        "columns": 5,
        "rows": 5
       }
      },
      "text/html": [
       "<div>\n",
       "<style scoped>\n",
       "    .dataframe tbody tr th:only-of-type {\n",
       "        vertical-align: middle;\n",
       "    }\n",
       "\n",
       "    .dataframe tbody tr th {\n",
       "        vertical-align: top;\n",
       "    }\n",
       "\n",
       "    .dataframe thead th {\n",
       "        text-align: right;\n",
       "    }\n",
       "</style>\n",
       "<table border=\"1\" class=\"dataframe\">\n",
       "  <thead>\n",
       "    <tr style=\"text-align: right;\">\n",
       "      <th></th>\n",
       "      <th>disbursementdate</th>\n",
       "      <th>digitalLoanAccountId</th>\n",
       "      <th>sa_stack_score</th>\n",
       "      <th>ln_fpd10_flag</th>\n",
       "      <th>ln_mature_fpd10_flag</th>\n",
       "    </tr>\n",
       "  </thead>\n",
       "  <tbody>\n",
       "    <tr>\n",
       "      <th>0</th>\n",
       "      <td>2024-07-16 19:09:27</td>\n",
       "      <td>a731f941-ed8a-4278-9ba4-1fd41132aa5e</td>\n",
       "      <td>0.069974</td>\n",
       "      <td>0</td>\n",
       "      <td>1</td>\n",
       "    </tr>\n",
       "    <tr>\n",
       "      <th>1</th>\n",
       "      <td>2024-09-15 09:21:50</td>\n",
       "      <td>2f8156e6-5c5b-454c-92d9-628291e6f99e</td>\n",
       "      <td>0.045933</td>\n",
       "      <td>0</td>\n",
       "      <td>1</td>\n",
       "    </tr>\n",
       "    <tr>\n",
       "      <th>2</th>\n",
       "      <td>2024-12-29 18:02:03</td>\n",
       "      <td>6548e088-8d8e-47ae-b33d-e6df00d80c38</td>\n",
       "      <td>0.054839</td>\n",
       "      <td>0</td>\n",
       "      <td>1</td>\n",
       "    </tr>\n",
       "    <tr>\n",
       "      <th>3</th>\n",
       "      <td>2025-01-14 17:34:10</td>\n",
       "      <td>15667458-5a69-445e-bd5d-4e22394b789e</td>\n",
       "      <td>0.020040</td>\n",
       "      <td>0</td>\n",
       "      <td>1</td>\n",
       "    </tr>\n",
       "    <tr>\n",
       "      <th>4</th>\n",
       "      <td>2025-01-11 16:07:45</td>\n",
       "      <td>350e8b35-ba30-41e6-992f-ab0a8208c404</td>\n",
       "      <td>0.025584</td>\n",
       "      <td>0</td>\n",
       "      <td>1</td>\n",
       "    </tr>\n",
       "  </tbody>\n",
       "</table>\n",
       "</div>"
      ],
      "text/plain": [
       "     disbursementdate                  digitalLoanAccountId  sa_stack_score  \\\n",
       "0 2024-07-16 19:09:27  a731f941-ed8a-4278-9ba4-1fd41132aa5e        0.069974   \n",
       "1 2024-09-15 09:21:50  2f8156e6-5c5b-454c-92d9-628291e6f99e        0.045933   \n",
       "2 2024-12-29 18:02:03  6548e088-8d8e-47ae-b33d-e6df00d80c38        0.054839   \n",
       "3 2025-01-14 17:34:10  15667458-5a69-445e-bd5d-4e22394b789e        0.020040   \n",
       "4 2025-01-11 16:07:45  350e8b35-ba30-41e6-992f-ab0a8208c404        0.025584   \n",
       "\n",
       "   ln_fpd10_flag  ln_mature_fpd10_flag  \n",
       "0              0                     1  \n",
       "1              0                     1  \n",
       "2              0                     1  \n",
       "3              0                     1  \n",
       "4              0                     1  "
      ]
     },
     "execution_count": 92,
     "metadata": {},
     "output_type": "execute_result"
    }
   ],
   "source": [
    "sa_stack_scorefpd10.head()"
   ]
  },
  {
   "cell_type": "code",
   "execution_count": 93,
   "metadata": {},
   "outputs": [
    {
     "name": "stdout",
     "output_type": "stream",
     "text": [
      "The shape of dataframe after copy is:\t(107, 7)\n"
     ]
    },
    {
     "data": {
      "text/plain": [
       "array(['start_date', 'end_date', 'sa_stack_score_FPD10_gini', 'period',\n",
       "       'Model_Name', 'version', 'bad_rate'], dtype=object)"
      ]
     },
     "execution_count": 93,
     "metadata": {},
     "output_type": "execute_result"
    }
   ],
   "source": [
    "gini_results = calculate_periodic_gini(sa_stack_scorefpd10, 'sa_stack_score', 'ln_fpd10_flag', 'FPD10')\n",
    "M1FPD10 = gini_results.copy()\n",
    "print(f\"The shape of dataframe after copy is:\\t{M1FPD10.shape}\")\n",
    "M1FPD10.columns.values"
   ]
  },
  {
   "cell_type": "code",
   "execution_count": 94,
   "metadata": {},
   "outputs": [
    {
     "data": {
      "application/vnd.microsoft.datawrangler.viewer.v0+json": {
       "columns": [
        {
         "name": "index",
         "rawType": "object",
         "type": "string"
        },
        {
         "name": "start_date",
         "rawType": "object",
         "type": "unknown"
        },
        {
         "name": "end_date",
         "rawType": "object",
         "type": "unknown"
        },
        {
         "name": "sa_stack_score_FPD10_gini",
         "rawType": "float64",
         "type": "float"
        }
       ],
       "conversionMethod": "pd.DataFrame",
       "ref": "c269738b-c009-4d1e-aeae-974d831305fc",
       "rows": [
        [
         "count",
         "107",
         "107",
         "107.0"
        ],
        [
         "mean",
         "2024-03-28 15:28:35.887850496",
         "2024-04-08 01:07:17.383177472",
         "0.37813471571660956"
        ],
        [
         "min",
         "2023-05-29 00:00:00",
         "2023-06-04 00:00:00",
         "-0.1387096774193548"
        ],
        [
         "25%",
         "2023-10-31 00:00:00",
         "2023-11-08 12:00:00",
         "0.33439647199509426"
        ],
        [
         "50%",
         "2024-04-01 00:00:00",
         "2024-04-07 00:00:00",
         "0.3749208505165633"
        ],
        [
         "75%",
         "2024-08-29 00:00:00",
         "2024-09-04 12:00:00",
         "0.4532363207096548"
        ],
        [
         "max",
         "2025-01-27 00:00:00",
         "2025-02-02 00:00:00",
         "0.6932773109243697"
        ],
        [
         "std",
         null,
         null,
         "0.12116182818886123"
        ]
       ],
       "shape": {
        "columns": 3,
        "rows": 8
       }
      },
      "text/html": [
       "<div>\n",
       "<style scoped>\n",
       "    .dataframe tbody tr th:only-of-type {\n",
       "        vertical-align: middle;\n",
       "    }\n",
       "\n",
       "    .dataframe tbody tr th {\n",
       "        vertical-align: top;\n",
       "    }\n",
       "\n",
       "    .dataframe thead th {\n",
       "        text-align: right;\n",
       "    }\n",
       "</style>\n",
       "<table border=\"1\" class=\"dataframe\">\n",
       "  <thead>\n",
       "    <tr style=\"text-align: right;\">\n",
       "      <th></th>\n",
       "      <th>start_date</th>\n",
       "      <th>end_date</th>\n",
       "      <th>sa_stack_score_FPD10_gini</th>\n",
       "    </tr>\n",
       "  </thead>\n",
       "  <tbody>\n",
       "    <tr>\n",
       "      <th>count</th>\n",
       "      <td>107</td>\n",
       "      <td>107</td>\n",
       "      <td>107.000000</td>\n",
       "    </tr>\n",
       "    <tr>\n",
       "      <th>mean</th>\n",
       "      <td>2024-03-28 15:28:35.887850496</td>\n",
       "      <td>2024-04-08 01:07:17.383177472</td>\n",
       "      <td>0.378135</td>\n",
       "    </tr>\n",
       "    <tr>\n",
       "      <th>min</th>\n",
       "      <td>2023-05-29 00:00:00</td>\n",
       "      <td>2023-06-04 00:00:00</td>\n",
       "      <td>-0.138710</td>\n",
       "    </tr>\n",
       "    <tr>\n",
       "      <th>25%</th>\n",
       "      <td>2023-10-31 00:00:00</td>\n",
       "      <td>2023-11-08 12:00:00</td>\n",
       "      <td>0.334396</td>\n",
       "    </tr>\n",
       "    <tr>\n",
       "      <th>50%</th>\n",
       "      <td>2024-04-01 00:00:00</td>\n",
       "      <td>2024-04-07 00:00:00</td>\n",
       "      <td>0.374921</td>\n",
       "    </tr>\n",
       "    <tr>\n",
       "      <th>75%</th>\n",
       "      <td>2024-08-29 00:00:00</td>\n",
       "      <td>2024-09-04 12:00:00</td>\n",
       "      <td>0.453236</td>\n",
       "    </tr>\n",
       "    <tr>\n",
       "      <th>max</th>\n",
       "      <td>2025-01-27 00:00:00</td>\n",
       "      <td>2025-02-02 00:00:00</td>\n",
       "      <td>0.693277</td>\n",
       "    </tr>\n",
       "    <tr>\n",
       "      <th>std</th>\n",
       "      <td>NaN</td>\n",
       "      <td>NaN</td>\n",
       "      <td>0.121162</td>\n",
       "    </tr>\n",
       "  </tbody>\n",
       "</table>\n",
       "</div>"
      ],
      "text/plain": [
       "                          start_date                       end_date  \\\n",
       "count                            107                            107   \n",
       "mean   2024-03-28 15:28:35.887850496  2024-04-08 01:07:17.383177472   \n",
       "min              2023-05-29 00:00:00            2023-06-04 00:00:00   \n",
       "25%              2023-10-31 00:00:00            2023-11-08 12:00:00   \n",
       "50%              2024-04-01 00:00:00            2024-04-07 00:00:00   \n",
       "75%              2024-08-29 00:00:00            2024-09-04 12:00:00   \n",
       "max              2025-01-27 00:00:00            2025-02-02 00:00:00   \n",
       "std                              NaN                            NaN   \n",
       "\n",
       "       sa_stack_score_FPD10_gini  \n",
       "count                 107.000000  \n",
       "mean                    0.378135  \n",
       "min                    -0.138710  \n",
       "25%                     0.334396  \n",
       "50%                     0.374921  \n",
       "75%                     0.453236  \n",
       "max                     0.693277  \n",
       "std                     0.121162  "
      ]
     },
     "execution_count": 94,
     "metadata": {},
     "output_type": "execute_result"
    }
   ],
   "source": [
    "M1FPD10.describe()"
   ]
  },
  {
   "cell_type": "code",
   "execution_count": 95,
   "metadata": {},
   "outputs": [
    {
     "data": {
      "application/vnd.microsoft.datawrangler.viewer.v0+json": {
       "columns": [
        {
         "name": "index",
         "rawType": "int64",
         "type": "integer"
        },
        {
         "name": "start_date",
         "rawType": "datetime64[ns]",
         "type": "datetime"
        },
        {
         "name": "end_date",
         "rawType": "datetime64[ns]",
         "type": "datetime"
        },
        {
         "name": "sa_stack_score_FPD10_gini",
         "rawType": "float64",
         "type": "float"
        },
        {
         "name": "period",
         "rawType": "object",
         "type": "string"
        },
        {
         "name": "Model_Name",
         "rawType": "object",
         "type": "string"
        },
        {
         "name": "version",
         "rawType": "object",
         "type": "string"
        },
        {
         "name": "bad_rate",
         "rawType": "object",
         "type": "string"
        }
       ],
       "conversionMethod": "pd.DataFrame",
       "ref": "e2ce1f44-792c-4360-8004-164c1c94880e",
       "rows": [
        [
         "0",
         "2023-05-29 00:00:00",
         "2023-06-04 00:00:00",
         "0.5794871794871796",
         "Week",
         "sa_stack_score",
         "1.1.0",
         "FPD10"
        ],
        [
         "1",
         "2023-06-01 00:00:00",
         "2023-06-30 00:00:00",
         "0.1156496679614083",
         "Month",
         "sa_stack_score",
         "1.1.0",
         "FPD10"
        ],
        [
         "2",
         "2023-06-05 00:00:00",
         "2023-06-11 00:00:00",
         "0.6320346320346322",
         "Week",
         "sa_stack_score",
         "1.1.0",
         "FPD10"
        ],
        [
         "3",
         "2023-06-12 00:00:00",
         "2023-06-18 00:00:00",
         "0.013513513513513375",
         "Week",
         "sa_stack_score",
         "1.1.0",
         "FPD10"
        ],
        [
         "4",
         "2023-06-19 00:00:00",
         "2023-06-25 00:00:00",
         "0.10322580645161294",
         "Week",
         "sa_stack_score",
         "1.1.0",
         "FPD10"
        ]
       ],
       "shape": {
        "columns": 7,
        "rows": 5
       }
      },
      "text/html": [
       "<div>\n",
       "<style scoped>\n",
       "    .dataframe tbody tr th:only-of-type {\n",
       "        vertical-align: middle;\n",
       "    }\n",
       "\n",
       "    .dataframe tbody tr th {\n",
       "        vertical-align: top;\n",
       "    }\n",
       "\n",
       "    .dataframe thead th {\n",
       "        text-align: right;\n",
       "    }\n",
       "</style>\n",
       "<table border=\"1\" class=\"dataframe\">\n",
       "  <thead>\n",
       "    <tr style=\"text-align: right;\">\n",
       "      <th></th>\n",
       "      <th>start_date</th>\n",
       "      <th>end_date</th>\n",
       "      <th>sa_stack_score_FPD10_gini</th>\n",
       "      <th>period</th>\n",
       "      <th>Model_Name</th>\n",
       "      <th>version</th>\n",
       "      <th>bad_rate</th>\n",
       "    </tr>\n",
       "  </thead>\n",
       "  <tbody>\n",
       "    <tr>\n",
       "      <th>0</th>\n",
       "      <td>2023-05-29</td>\n",
       "      <td>2023-06-04</td>\n",
       "      <td>0.579487</td>\n",
       "      <td>Week</td>\n",
       "      <td>sa_stack_score</td>\n",
       "      <td>1.1.0</td>\n",
       "      <td>FPD10</td>\n",
       "    </tr>\n",
       "    <tr>\n",
       "      <th>1</th>\n",
       "      <td>2023-06-01</td>\n",
       "      <td>2023-06-30</td>\n",
       "      <td>0.115650</td>\n",
       "      <td>Month</td>\n",
       "      <td>sa_stack_score</td>\n",
       "      <td>1.1.0</td>\n",
       "      <td>FPD10</td>\n",
       "    </tr>\n",
       "    <tr>\n",
       "      <th>2</th>\n",
       "      <td>2023-06-05</td>\n",
       "      <td>2023-06-11</td>\n",
       "      <td>0.632035</td>\n",
       "      <td>Week</td>\n",
       "      <td>sa_stack_score</td>\n",
       "      <td>1.1.0</td>\n",
       "      <td>FPD10</td>\n",
       "    </tr>\n",
       "    <tr>\n",
       "      <th>3</th>\n",
       "      <td>2023-06-12</td>\n",
       "      <td>2023-06-18</td>\n",
       "      <td>0.013514</td>\n",
       "      <td>Week</td>\n",
       "      <td>sa_stack_score</td>\n",
       "      <td>1.1.0</td>\n",
       "      <td>FPD10</td>\n",
       "    </tr>\n",
       "    <tr>\n",
       "      <th>4</th>\n",
       "      <td>2023-06-19</td>\n",
       "      <td>2023-06-25</td>\n",
       "      <td>0.103226</td>\n",
       "      <td>Week</td>\n",
       "      <td>sa_stack_score</td>\n",
       "      <td>1.1.0</td>\n",
       "      <td>FPD10</td>\n",
       "    </tr>\n",
       "  </tbody>\n",
       "</table>\n",
       "</div>"
      ],
      "text/plain": [
       "  start_date   end_date  sa_stack_score_FPD10_gini period      Model_Name  \\\n",
       "0 2023-05-29 2023-06-04                   0.579487   Week  sa_stack_score   \n",
       "1 2023-06-01 2023-06-30                   0.115650  Month  sa_stack_score   \n",
       "2 2023-06-05 2023-06-11                   0.632035   Week  sa_stack_score   \n",
       "3 2023-06-12 2023-06-18                   0.013514   Week  sa_stack_score   \n",
       "4 2023-06-19 2023-06-25                   0.103226   Week  sa_stack_score   \n",
       "\n",
       "  version bad_rate  \n",
       "0   1.1.0    FPD10  \n",
       "1   1.1.0    FPD10  \n",
       "2   1.1.0    FPD10  \n",
       "3   1.1.0    FPD10  \n",
       "4   1.1.0    FPD10  "
      ]
     },
     "execution_count": 95,
     "metadata": {},
     "output_type": "execute_result"
    }
   ],
   "source": [
    "M1FPD10.head()"
   ]
  },
  {
   "cell_type": "markdown",
   "metadata": {},
   "source": [
    "## FPD30"
   ]
  },
  {
   "cell_type": "code",
   "execution_count": 97,
   "metadata": {},
   "outputs": [
    {
     "name": "stdout",
     "output_type": "stream",
     "text": [
      "Job ID ee07a12a-a420-421b-85a7-c083e0e1c8d2 successfully executed: 100%|\u001b[32m██████████\u001b[0m|"
     ]
    },
    {
     "name": "stderr",
     "output_type": "stream",
     "text": [
      "d:\\Anaconda3\\envs\\inc_env\\lib\\site-packages\\google\\cloud\\bigquery\\table.py:1820: UserWarning: BigQuery Storage module not found, fetch data with the REST endpoint instead.\n",
      "  warnings.warn(\n"
     ]
    },
    {
     "name": "stdout",
     "output_type": "stream",
     "text": [
      "\n",
      "Downloading: 100%|\u001b[32m██████████\u001b[0m|\n"
     ]
    },
    {
     "data": {
      "application/vnd.microsoft.datawrangler.viewer.v0+json": {
       "columns": [
        {
         "name": "index",
         "rawType": "int64",
         "type": "integer"
        },
        {
         "name": "disbursementdate",
         "rawType": "datetime64[us]",
         "type": "unknown"
        },
        {
         "name": "digitalLoanAccountId",
         "rawType": "object",
         "type": "string"
        },
        {
         "name": "sa_stack_score",
         "rawType": "float64",
         "type": "float"
        },
        {
         "name": "ln_fpd30_flag",
         "rawType": "Int64",
         "type": "integer"
        },
        {
         "name": "ln_mature_fpd30_flag",
         "rawType": "Int64",
         "type": "integer"
        }
       ],
       "conversionMethod": "pd.DataFrame",
       "ref": "18600f61-f616-45e7-9ab5-8c3e1fd8078e",
       "rows": [
        [
         "0",
         "2024-09-01 15:18:37",
         "1a2cb6f2-e66f-444a-ba22-a05cb5652ef2",
         "0.0538504367412398",
         "0",
         "1"
        ],
        [
         "1",
         "2024-05-02 17:24:11",
         "9b118965-74ea-4832-a640-8b5ea2cc140e",
         "0.019327939422041022",
         "0",
         "1"
        ],
        [
         "2",
         "2024-09-19 20:32:20",
         "4f7bb0f5-ec5b-40c0-a145-6d8aa9b083ee",
         "0.04313105275366678",
         "1",
         "1"
        ],
        [
         "3",
         "2024-05-13 17:34:23",
         "afb2601c-9ce3-4e88-96dd-38784a818625",
         "0.014717627433932644",
         "0",
         "1"
        ],
        [
         "4",
         "2024-08-16 11:20:46",
         "85550e8b-8e44-4bb1-bce0-fc6dd3b495ab",
         "0.08605688536310831",
         "0",
         "1"
        ]
       ],
       "shape": {
        "columns": 5,
        "rows": 5
       }
      },
      "text/html": [
       "<div>\n",
       "<style scoped>\n",
       "    .dataframe tbody tr th:only-of-type {\n",
       "        vertical-align: middle;\n",
       "    }\n",
       "\n",
       "    .dataframe tbody tr th {\n",
       "        vertical-align: top;\n",
       "    }\n",
       "\n",
       "    .dataframe thead th {\n",
       "        text-align: right;\n",
       "    }\n",
       "</style>\n",
       "<table border=\"1\" class=\"dataframe\">\n",
       "  <thead>\n",
       "    <tr style=\"text-align: right;\">\n",
       "      <th></th>\n",
       "      <th>disbursementdate</th>\n",
       "      <th>digitalLoanAccountId</th>\n",
       "      <th>sa_stack_score</th>\n",
       "      <th>ln_fpd30_flag</th>\n",
       "      <th>ln_mature_fpd30_flag</th>\n",
       "    </tr>\n",
       "  </thead>\n",
       "  <tbody>\n",
       "    <tr>\n",
       "      <th>0</th>\n",
       "      <td>2024-09-01 15:18:37</td>\n",
       "      <td>1a2cb6f2-e66f-444a-ba22-a05cb5652ef2</td>\n",
       "      <td>0.053850</td>\n",
       "      <td>0</td>\n",
       "      <td>1</td>\n",
       "    </tr>\n",
       "    <tr>\n",
       "      <th>1</th>\n",
       "      <td>2024-05-02 17:24:11</td>\n",
       "      <td>9b118965-74ea-4832-a640-8b5ea2cc140e</td>\n",
       "      <td>0.019328</td>\n",
       "      <td>0</td>\n",
       "      <td>1</td>\n",
       "    </tr>\n",
       "    <tr>\n",
       "      <th>2</th>\n",
       "      <td>2024-09-19 20:32:20</td>\n",
       "      <td>4f7bb0f5-ec5b-40c0-a145-6d8aa9b083ee</td>\n",
       "      <td>0.043131</td>\n",
       "      <td>1</td>\n",
       "      <td>1</td>\n",
       "    </tr>\n",
       "    <tr>\n",
       "      <th>3</th>\n",
       "      <td>2024-05-13 17:34:23</td>\n",
       "      <td>afb2601c-9ce3-4e88-96dd-38784a818625</td>\n",
       "      <td>0.014718</td>\n",
       "      <td>0</td>\n",
       "      <td>1</td>\n",
       "    </tr>\n",
       "    <tr>\n",
       "      <th>4</th>\n",
       "      <td>2024-08-16 11:20:46</td>\n",
       "      <td>85550e8b-8e44-4bb1-bce0-fc6dd3b495ab</td>\n",
       "      <td>0.086057</td>\n",
       "      <td>0</td>\n",
       "      <td>1</td>\n",
       "    </tr>\n",
       "  </tbody>\n",
       "</table>\n",
       "</div>"
      ],
      "text/plain": [
       "     disbursementdate                  digitalLoanAccountId  sa_stack_score  \\\n",
       "0 2024-09-01 15:18:37  1a2cb6f2-e66f-444a-ba22-a05cb5652ef2        0.053850   \n",
       "1 2024-05-02 17:24:11  9b118965-74ea-4832-a640-8b5ea2cc140e        0.019328   \n",
       "2 2024-09-19 20:32:20  4f7bb0f5-ec5b-40c0-a145-6d8aa9b083ee        0.043131   \n",
       "3 2024-05-13 17:34:23  afb2601c-9ce3-4e88-96dd-38784a818625        0.014718   \n",
       "4 2024-08-16 11:20:46  85550e8b-8e44-4bb1-bce0-fc6dd3b495ab        0.086057   \n",
       "\n",
       "   ln_fpd30_flag  ln_mature_fpd30_flag  \n",
       "0              0                     1  \n",
       "1              0                     1  \n",
       "2              1                     1  \n",
       "3              0                     1  \n",
       "4              0                     1  "
      ]
     },
     "execution_count": 97,
     "metadata": {},
     "output_type": "execute_result"
    }
   ],
   "source": [
    "# sa_stack_score\n",
    "\n",
    "sq = \"\"\"\n",
    "with sa_stack_score as \n",
    "(SELECT \n",
    "    ln_disb_dtime disbursementdate,\n",
    "\tdigitalLoanAccountId,\n",
    "    alpha_stack_score sa_stack_score,\n",
    "    ln_fpd30_flag,\n",
    "\tln_mature_fpd30_flag,\t\n",
    "\tFROM \n",
    "    risk_mart.sil_risk_ds_master_20230101_20250309\n",
    "  WHERE \n",
    "     -- ln_disb_dtime >= '2023-07-01'\n",
    "    ln_appln_submit_datetime >= '2023-06-01'\n",
    "  -- AND\n",
    "  --   format_date('%Y-%m', ln_disb_dtime) = '2024-09'\n",
    "  AND\n",
    "    ln_fpd30_flag is not null\n",
    "  AND\n",
    "    alpha_stack_score  is not null\n",
    "  AND\n",
    "    ln_mature_fpd30_flag = 1\n",
    ")\n",
    "select * from sa_stack_score;\n",
    "\"\"\"\n",
    "\n",
    "sa_stack_scorefpd30 = client.query(sq).to_dataframe(progress_bar_type='tqdm')\n",
    "\n",
    "sa_stack_scorefpd30.head()"
   ]
  },
  {
   "cell_type": "code",
   "execution_count": 98,
   "metadata": {},
   "outputs": [
    {
     "data": {
      "application/vnd.microsoft.datawrangler.viewer.v0+json": {
       "columns": [
        {
         "name": "index",
         "rawType": "int64",
         "type": "integer"
        },
        {
         "name": "disbursementdate",
         "rawType": "datetime64[us]",
         "type": "unknown"
        },
        {
         "name": "digitalLoanAccountId",
         "rawType": "object",
         "type": "string"
        },
        {
         "name": "sa_stack_score",
         "rawType": "float64",
         "type": "float"
        },
        {
         "name": "ln_fpd30_flag",
         "rawType": "Int64",
         "type": "integer"
        },
        {
         "name": "ln_mature_fpd30_flag",
         "rawType": "Int64",
         "type": "integer"
        }
       ],
       "conversionMethod": "pd.DataFrame",
       "ref": "b66e05a6-4a48-4a5d-bf04-583201fdba21",
       "rows": [
        [
         "0",
         "2024-09-01 15:18:37",
         "1a2cb6f2-e66f-444a-ba22-a05cb5652ef2",
         "0.0538504367412398",
         "0",
         "1"
        ],
        [
         "1",
         "2024-05-02 17:24:11",
         "9b118965-74ea-4832-a640-8b5ea2cc140e",
         "0.019327939422041022",
         "0",
         "1"
        ],
        [
         "2",
         "2024-09-19 20:32:20",
         "4f7bb0f5-ec5b-40c0-a145-6d8aa9b083ee",
         "0.04313105275366678",
         "1",
         "1"
        ],
        [
         "3",
         "2024-05-13 17:34:23",
         "afb2601c-9ce3-4e88-96dd-38784a818625",
         "0.014717627433932644",
         "0",
         "1"
        ],
        [
         "4",
         "2024-08-16 11:20:46",
         "85550e8b-8e44-4bb1-bce0-fc6dd3b495ab",
         "0.08605688536310831",
         "0",
         "1"
        ]
       ],
       "shape": {
        "columns": 5,
        "rows": 5
       }
      },
      "text/html": [
       "<div>\n",
       "<style scoped>\n",
       "    .dataframe tbody tr th:only-of-type {\n",
       "        vertical-align: middle;\n",
       "    }\n",
       "\n",
       "    .dataframe tbody tr th {\n",
       "        vertical-align: top;\n",
       "    }\n",
       "\n",
       "    .dataframe thead th {\n",
       "        text-align: right;\n",
       "    }\n",
       "</style>\n",
       "<table border=\"1\" class=\"dataframe\">\n",
       "  <thead>\n",
       "    <tr style=\"text-align: right;\">\n",
       "      <th></th>\n",
       "      <th>disbursementdate</th>\n",
       "      <th>digitalLoanAccountId</th>\n",
       "      <th>sa_stack_score</th>\n",
       "      <th>ln_fpd30_flag</th>\n",
       "      <th>ln_mature_fpd30_flag</th>\n",
       "    </tr>\n",
       "  </thead>\n",
       "  <tbody>\n",
       "    <tr>\n",
       "      <th>0</th>\n",
       "      <td>2024-09-01 15:18:37</td>\n",
       "      <td>1a2cb6f2-e66f-444a-ba22-a05cb5652ef2</td>\n",
       "      <td>0.053850</td>\n",
       "      <td>0</td>\n",
       "      <td>1</td>\n",
       "    </tr>\n",
       "    <tr>\n",
       "      <th>1</th>\n",
       "      <td>2024-05-02 17:24:11</td>\n",
       "      <td>9b118965-74ea-4832-a640-8b5ea2cc140e</td>\n",
       "      <td>0.019328</td>\n",
       "      <td>0</td>\n",
       "      <td>1</td>\n",
       "    </tr>\n",
       "    <tr>\n",
       "      <th>2</th>\n",
       "      <td>2024-09-19 20:32:20</td>\n",
       "      <td>4f7bb0f5-ec5b-40c0-a145-6d8aa9b083ee</td>\n",
       "      <td>0.043131</td>\n",
       "      <td>1</td>\n",
       "      <td>1</td>\n",
       "    </tr>\n",
       "    <tr>\n",
       "      <th>3</th>\n",
       "      <td>2024-05-13 17:34:23</td>\n",
       "      <td>afb2601c-9ce3-4e88-96dd-38784a818625</td>\n",
       "      <td>0.014718</td>\n",
       "      <td>0</td>\n",
       "      <td>1</td>\n",
       "    </tr>\n",
       "    <tr>\n",
       "      <th>4</th>\n",
       "      <td>2024-08-16 11:20:46</td>\n",
       "      <td>85550e8b-8e44-4bb1-bce0-fc6dd3b495ab</td>\n",
       "      <td>0.086057</td>\n",
       "      <td>0</td>\n",
       "      <td>1</td>\n",
       "    </tr>\n",
       "  </tbody>\n",
       "</table>\n",
       "</div>"
      ],
      "text/plain": [
       "     disbursementdate                  digitalLoanAccountId  sa_stack_score  \\\n",
       "0 2024-09-01 15:18:37  1a2cb6f2-e66f-444a-ba22-a05cb5652ef2        0.053850   \n",
       "1 2024-05-02 17:24:11  9b118965-74ea-4832-a640-8b5ea2cc140e        0.019328   \n",
       "2 2024-09-19 20:32:20  4f7bb0f5-ec5b-40c0-a145-6d8aa9b083ee        0.043131   \n",
       "3 2024-05-13 17:34:23  afb2601c-9ce3-4e88-96dd-38784a818625        0.014718   \n",
       "4 2024-08-16 11:20:46  85550e8b-8e44-4bb1-bce0-fc6dd3b495ab        0.086057   \n",
       "\n",
       "   ln_fpd30_flag  ln_mature_fpd30_flag  \n",
       "0              0                     1  \n",
       "1              0                     1  \n",
       "2              1                     1  \n",
       "3              0                     1  \n",
       "4              0                     1  "
      ]
     },
     "execution_count": 98,
     "metadata": {},
     "output_type": "execute_result"
    }
   ],
   "source": [
    "sa_stack_scorefpd30.head()"
   ]
  },
  {
   "cell_type": "code",
   "execution_count": 99,
   "metadata": {},
   "outputs": [
    {
     "name": "stdout",
     "output_type": "stream",
     "text": [
      "The shape of dataframe after copy is:\t(104, 7)\n"
     ]
    },
    {
     "data": {
      "text/plain": [
       "array(['start_date', 'end_date', 'sa_stack_score_FPD30_gini', 'period',\n",
       "       'Model_Name', 'version', 'bad_rate'], dtype=object)"
      ]
     },
     "execution_count": 99,
     "metadata": {},
     "output_type": "execute_result"
    }
   ],
   "source": [
    "gini_results = calculate_periodic_gini(sa_stack_scorefpd30, 'sa_stack_score', 'ln_fpd30_flag', 'FPD30')\n",
    "M2FPD30 = gini_results.copy()\n",
    "print(f\"The shape of dataframe after copy is:\\t{M2FPD30.shape}\")\n",
    "M2FPD30.columns.values"
   ]
  },
  {
   "cell_type": "code",
   "execution_count": 100,
   "metadata": {},
   "outputs": [
    {
     "data": {
      "application/vnd.microsoft.datawrangler.viewer.v0+json": {
       "columns": [
        {
         "name": "index",
         "rawType": "object",
         "type": "string"
        },
        {
         "name": "start_date",
         "rawType": "object",
         "type": "unknown"
        },
        {
         "name": "end_date",
         "rawType": "object",
         "type": "unknown"
        },
        {
         "name": "sa_stack_score_FPD30_gini",
         "rawType": "float64",
         "type": "float"
        }
       ],
       "conversionMethod": "pd.DataFrame",
       "ref": "0074d086-6f58-4b6a-8a9e-27cac3c69f04",
       "rows": [
        [
         "count",
         "104",
         "104",
         "104.0"
        ],
        [
         "mean",
         "2024-03-20 01:36:55.384615424",
         "2024-03-30 14:18:27.692307712",
         "0.40292929902890856"
        ],
        [
         "min",
         "2023-05-29 00:00:00",
         "2023-06-04 00:00:00",
         "-0.26262626262626265"
        ],
        [
         "25%",
         "2023-10-28 06:00:00",
         "2023-11-03 18:00:00",
         "0.3580419602711304"
        ],
        [
         "50%",
         "2024-03-21 12:00:00",
         "2024-03-31 00:00:00",
         "0.4022763318074578"
        ],
        [
         "75%",
         "2024-08-13 18:00:00",
         "2024-08-26 12:00:00",
         "0.4796768666010248"
        ],
        [
         "max",
         "2025-01-06 00:00:00",
         "2025-01-31 00:00:00",
         "0.7840136054421769"
        ],
        [
         "std",
         null,
         null,
         "0.14030280134243558"
        ]
       ],
       "shape": {
        "columns": 3,
        "rows": 8
       }
      },
      "text/html": [
       "<div>\n",
       "<style scoped>\n",
       "    .dataframe tbody tr th:only-of-type {\n",
       "        vertical-align: middle;\n",
       "    }\n",
       "\n",
       "    .dataframe tbody tr th {\n",
       "        vertical-align: top;\n",
       "    }\n",
       "\n",
       "    .dataframe thead th {\n",
       "        text-align: right;\n",
       "    }\n",
       "</style>\n",
       "<table border=\"1\" class=\"dataframe\">\n",
       "  <thead>\n",
       "    <tr style=\"text-align: right;\">\n",
       "      <th></th>\n",
       "      <th>start_date</th>\n",
       "      <th>end_date</th>\n",
       "      <th>sa_stack_score_FPD30_gini</th>\n",
       "    </tr>\n",
       "  </thead>\n",
       "  <tbody>\n",
       "    <tr>\n",
       "      <th>count</th>\n",
       "      <td>104</td>\n",
       "      <td>104</td>\n",
       "      <td>104.000000</td>\n",
       "    </tr>\n",
       "    <tr>\n",
       "      <th>mean</th>\n",
       "      <td>2024-03-20 01:36:55.384615424</td>\n",
       "      <td>2024-03-30 14:18:27.692307712</td>\n",
       "      <td>0.402929</td>\n",
       "    </tr>\n",
       "    <tr>\n",
       "      <th>min</th>\n",
       "      <td>2023-05-29 00:00:00</td>\n",
       "      <td>2023-06-04 00:00:00</td>\n",
       "      <td>-0.262626</td>\n",
       "    </tr>\n",
       "    <tr>\n",
       "      <th>25%</th>\n",
       "      <td>2023-10-28 06:00:00</td>\n",
       "      <td>2023-11-03 18:00:00</td>\n",
       "      <td>0.358042</td>\n",
       "    </tr>\n",
       "    <tr>\n",
       "      <th>50%</th>\n",
       "      <td>2024-03-21 12:00:00</td>\n",
       "      <td>2024-03-31 00:00:00</td>\n",
       "      <td>0.402276</td>\n",
       "    </tr>\n",
       "    <tr>\n",
       "      <th>75%</th>\n",
       "      <td>2024-08-13 18:00:00</td>\n",
       "      <td>2024-08-26 12:00:00</td>\n",
       "      <td>0.479677</td>\n",
       "    </tr>\n",
       "    <tr>\n",
       "      <th>max</th>\n",
       "      <td>2025-01-06 00:00:00</td>\n",
       "      <td>2025-01-31 00:00:00</td>\n",
       "      <td>0.784014</td>\n",
       "    </tr>\n",
       "    <tr>\n",
       "      <th>std</th>\n",
       "      <td>NaN</td>\n",
       "      <td>NaN</td>\n",
       "      <td>0.140303</td>\n",
       "    </tr>\n",
       "  </tbody>\n",
       "</table>\n",
       "</div>"
      ],
      "text/plain": [
       "                          start_date                       end_date  \\\n",
       "count                            104                            104   \n",
       "mean   2024-03-20 01:36:55.384615424  2024-03-30 14:18:27.692307712   \n",
       "min              2023-05-29 00:00:00            2023-06-04 00:00:00   \n",
       "25%              2023-10-28 06:00:00            2023-11-03 18:00:00   \n",
       "50%              2024-03-21 12:00:00            2024-03-31 00:00:00   \n",
       "75%              2024-08-13 18:00:00            2024-08-26 12:00:00   \n",
       "max              2025-01-06 00:00:00            2025-01-31 00:00:00   \n",
       "std                              NaN                            NaN   \n",
       "\n",
       "       sa_stack_score_FPD30_gini  \n",
       "count                 104.000000  \n",
       "mean                    0.402929  \n",
       "min                    -0.262626  \n",
       "25%                     0.358042  \n",
       "50%                     0.402276  \n",
       "75%                     0.479677  \n",
       "max                     0.784014  \n",
       "std                     0.140303  "
      ]
     },
     "execution_count": 100,
     "metadata": {},
     "output_type": "execute_result"
    }
   ],
   "source": [
    "M2FPD30.describe()"
   ]
  },
  {
   "cell_type": "code",
   "execution_count": 101,
   "metadata": {},
   "outputs": [
    {
     "data": {
      "application/vnd.microsoft.datawrangler.viewer.v0+json": {
       "columns": [
        {
         "name": "index",
         "rawType": "int64",
         "type": "integer"
        },
        {
         "name": "start_date",
         "rawType": "datetime64[ns]",
         "type": "datetime"
        },
        {
         "name": "end_date",
         "rawType": "datetime64[ns]",
         "type": "datetime"
        },
        {
         "name": "sa_stack_score_FPD30_gini",
         "rawType": "float64",
         "type": "float"
        },
        {
         "name": "period",
         "rawType": "object",
         "type": "string"
        },
        {
         "name": "Model_Name",
         "rawType": "object",
         "type": "string"
        },
        {
         "name": "version",
         "rawType": "object",
         "type": "string"
        },
        {
         "name": "bad_rate",
         "rawType": "object",
         "type": "string"
        }
       ],
       "conversionMethod": "pd.DataFrame",
       "ref": "d77e2c51-3a28-4c4c-a6fb-70027b0865b3",
       "rows": [
        [
         "0",
         "2023-05-29 00:00:00",
         "2023-06-04 00:00:00",
         "0.5794871794871796",
         "Week",
         "sa_stack_score",
         "1.1.0",
         "FPD30"
        ],
        [
         "1",
         "2023-06-01 00:00:00",
         "2023-06-30 00:00:00",
         "0.11311229362805286",
         "Month",
         "sa_stack_score",
         "1.1.0",
         "FPD30"
        ],
        [
         "2",
         "2023-06-05 00:00:00",
         "2023-06-11 00:00:00",
         "0.6320346320346322",
         "Week",
         "sa_stack_score",
         "1.1.0",
         "FPD30"
        ],
        [
         "3",
         "2023-06-12 00:00:00",
         "2023-06-18 00:00:00",
         "0.0",
         "Week",
         "sa_stack_score",
         "1.1.0",
         "FPD30"
        ],
        [
         "4",
         "2023-06-19 00:00:00",
         "2023-06-25 00:00:00",
         "0.10322580645161294",
         "Week",
         "sa_stack_score",
         "1.1.0",
         "FPD30"
        ]
       ],
       "shape": {
        "columns": 7,
        "rows": 5
       }
      },
      "text/html": [
       "<div>\n",
       "<style scoped>\n",
       "    .dataframe tbody tr th:only-of-type {\n",
       "        vertical-align: middle;\n",
       "    }\n",
       "\n",
       "    .dataframe tbody tr th {\n",
       "        vertical-align: top;\n",
       "    }\n",
       "\n",
       "    .dataframe thead th {\n",
       "        text-align: right;\n",
       "    }\n",
       "</style>\n",
       "<table border=\"1\" class=\"dataframe\">\n",
       "  <thead>\n",
       "    <tr style=\"text-align: right;\">\n",
       "      <th></th>\n",
       "      <th>start_date</th>\n",
       "      <th>end_date</th>\n",
       "      <th>sa_stack_score_FPD30_gini</th>\n",
       "      <th>period</th>\n",
       "      <th>Model_Name</th>\n",
       "      <th>version</th>\n",
       "      <th>bad_rate</th>\n",
       "    </tr>\n",
       "  </thead>\n",
       "  <tbody>\n",
       "    <tr>\n",
       "      <th>0</th>\n",
       "      <td>2023-05-29</td>\n",
       "      <td>2023-06-04</td>\n",
       "      <td>0.579487</td>\n",
       "      <td>Week</td>\n",
       "      <td>sa_stack_score</td>\n",
       "      <td>1.1.0</td>\n",
       "      <td>FPD30</td>\n",
       "    </tr>\n",
       "    <tr>\n",
       "      <th>1</th>\n",
       "      <td>2023-06-01</td>\n",
       "      <td>2023-06-30</td>\n",
       "      <td>0.113112</td>\n",
       "      <td>Month</td>\n",
       "      <td>sa_stack_score</td>\n",
       "      <td>1.1.0</td>\n",
       "      <td>FPD30</td>\n",
       "    </tr>\n",
       "    <tr>\n",
       "      <th>2</th>\n",
       "      <td>2023-06-05</td>\n",
       "      <td>2023-06-11</td>\n",
       "      <td>0.632035</td>\n",
       "      <td>Week</td>\n",
       "      <td>sa_stack_score</td>\n",
       "      <td>1.1.0</td>\n",
       "      <td>FPD30</td>\n",
       "    </tr>\n",
       "    <tr>\n",
       "      <th>3</th>\n",
       "      <td>2023-06-12</td>\n",
       "      <td>2023-06-18</td>\n",
       "      <td>0.000000</td>\n",
       "      <td>Week</td>\n",
       "      <td>sa_stack_score</td>\n",
       "      <td>1.1.0</td>\n",
       "      <td>FPD30</td>\n",
       "    </tr>\n",
       "    <tr>\n",
       "      <th>4</th>\n",
       "      <td>2023-06-19</td>\n",
       "      <td>2023-06-25</td>\n",
       "      <td>0.103226</td>\n",
       "      <td>Week</td>\n",
       "      <td>sa_stack_score</td>\n",
       "      <td>1.1.0</td>\n",
       "      <td>FPD30</td>\n",
       "    </tr>\n",
       "  </tbody>\n",
       "</table>\n",
       "</div>"
      ],
      "text/plain": [
       "  start_date   end_date  sa_stack_score_FPD30_gini period      Model_Name  \\\n",
       "0 2023-05-29 2023-06-04                   0.579487   Week  sa_stack_score   \n",
       "1 2023-06-01 2023-06-30                   0.113112  Month  sa_stack_score   \n",
       "2 2023-06-05 2023-06-11                   0.632035   Week  sa_stack_score   \n",
       "3 2023-06-12 2023-06-18                   0.000000   Week  sa_stack_score   \n",
       "4 2023-06-19 2023-06-25                   0.103226   Week  sa_stack_score   \n",
       "\n",
       "  version bad_rate  \n",
       "0   1.1.0    FPD30  \n",
       "1   1.1.0    FPD30  \n",
       "2   1.1.0    FPD30  \n",
       "3   1.1.0    FPD30  \n",
       "4   1.1.0    FPD30  "
      ]
     },
     "execution_count": 101,
     "metadata": {},
     "output_type": "execute_result"
    }
   ],
   "source": [
    "M2FPD30.head()"
   ]
  },
  {
   "cell_type": "markdown",
   "metadata": {},
   "source": [
    "## FSTPD30"
   ]
  },
  {
   "cell_type": "code",
   "execution_count": 102,
   "metadata": {},
   "outputs": [
    {
     "name": "stdout",
     "output_type": "stream",
     "text": [
      "Job ID 2e14c98c-abf3-4346-b6bd-0add8453686b successfully executed: 100%|\u001b[32m██████████\u001b[0m|"
     ]
    },
    {
     "name": "stderr",
     "output_type": "stream",
     "text": [
      "d:\\Anaconda3\\envs\\inc_env\\lib\\site-packages\\google\\cloud\\bigquery\\table.py:1820: UserWarning: BigQuery Storage module not found, fetch data with the REST endpoint instead.\n",
      "  warnings.warn(\n"
     ]
    },
    {
     "name": "stdout",
     "output_type": "stream",
     "text": [
      "\n",
      "Downloading: 100%|\u001b[32m██████████\u001b[0m|\n"
     ]
    },
    {
     "data": {
      "application/vnd.microsoft.datawrangler.viewer.v0+json": {
       "columns": [
        {
         "name": "index",
         "rawType": "int64",
         "type": "integer"
        },
        {
         "name": "disbursementdate",
         "rawType": "datetime64[us]",
         "type": "unknown"
        },
        {
         "name": "digitalLoanAccountId",
         "rawType": "object",
         "type": "string"
        },
        {
         "name": "sa_stack_score",
         "rawType": "float64",
         "type": "float"
        },
        {
         "name": "ln_fspd30_flag",
         "rawType": "Int64",
         "type": "integer"
        },
        {
         "name": "ln_mature_fspd30_flag",
         "rawType": "Int64",
         "type": "integer"
        }
       ],
       "conversionMethod": "pd.DataFrame",
       "ref": "d2913b67-c362-4a69-a5e8-24471e135a67",
       "rows": [
        [
         "0",
         "2024-07-16 19:09:27",
         "a731f941-ed8a-4278-9ba4-1fd41132aa5e",
         "0.06997380648236994",
         "0",
         "1"
        ],
        [
         "1",
         "2024-09-15 09:21:50",
         "2f8156e6-5c5b-454c-92d9-628291e6f99e",
         "0.04593283994386934",
         "0",
         "1"
        ],
        [
         "2",
         "2024-10-30 19:26:13",
         "4266c053-98c9-4825-bfce-b59264b1251d",
         "0.03635777942030058",
         "0",
         "1"
        ],
        [
         "3",
         "2024-08-18 13:17:01",
         "d1d7594f-fcac-4295-b037-d998766d91be",
         "0.01609785412267543",
         "0",
         "1"
        ],
        [
         "4",
         "2024-07-26 11:14:26",
         "e42d366d-9370-4761-9d94-e7cee5834849",
         "0.05693091972409239",
         "0",
         "1"
        ]
       ],
       "shape": {
        "columns": 5,
        "rows": 5
       }
      },
      "text/html": [
       "<div>\n",
       "<style scoped>\n",
       "    .dataframe tbody tr th:only-of-type {\n",
       "        vertical-align: middle;\n",
       "    }\n",
       "\n",
       "    .dataframe tbody tr th {\n",
       "        vertical-align: top;\n",
       "    }\n",
       "\n",
       "    .dataframe thead th {\n",
       "        text-align: right;\n",
       "    }\n",
       "</style>\n",
       "<table border=\"1\" class=\"dataframe\">\n",
       "  <thead>\n",
       "    <tr style=\"text-align: right;\">\n",
       "      <th></th>\n",
       "      <th>disbursementdate</th>\n",
       "      <th>digitalLoanAccountId</th>\n",
       "      <th>sa_stack_score</th>\n",
       "      <th>ln_fspd30_flag</th>\n",
       "      <th>ln_mature_fspd30_flag</th>\n",
       "    </tr>\n",
       "  </thead>\n",
       "  <tbody>\n",
       "    <tr>\n",
       "      <th>0</th>\n",
       "      <td>2024-07-16 19:09:27</td>\n",
       "      <td>a731f941-ed8a-4278-9ba4-1fd41132aa5e</td>\n",
       "      <td>0.069974</td>\n",
       "      <td>0</td>\n",
       "      <td>1</td>\n",
       "    </tr>\n",
       "    <tr>\n",
       "      <th>1</th>\n",
       "      <td>2024-09-15 09:21:50</td>\n",
       "      <td>2f8156e6-5c5b-454c-92d9-628291e6f99e</td>\n",
       "      <td>0.045933</td>\n",
       "      <td>0</td>\n",
       "      <td>1</td>\n",
       "    </tr>\n",
       "    <tr>\n",
       "      <th>2</th>\n",
       "      <td>2024-10-30 19:26:13</td>\n",
       "      <td>4266c053-98c9-4825-bfce-b59264b1251d</td>\n",
       "      <td>0.036358</td>\n",
       "      <td>0</td>\n",
       "      <td>1</td>\n",
       "    </tr>\n",
       "    <tr>\n",
       "      <th>3</th>\n",
       "      <td>2024-08-18 13:17:01</td>\n",
       "      <td>d1d7594f-fcac-4295-b037-d998766d91be</td>\n",
       "      <td>0.016098</td>\n",
       "      <td>0</td>\n",
       "      <td>1</td>\n",
       "    </tr>\n",
       "    <tr>\n",
       "      <th>4</th>\n",
       "      <td>2024-07-26 11:14:26</td>\n",
       "      <td>e42d366d-9370-4761-9d94-e7cee5834849</td>\n",
       "      <td>0.056931</td>\n",
       "      <td>0</td>\n",
       "      <td>1</td>\n",
       "    </tr>\n",
       "  </tbody>\n",
       "</table>\n",
       "</div>"
      ],
      "text/plain": [
       "     disbursementdate                  digitalLoanAccountId  sa_stack_score  \\\n",
       "0 2024-07-16 19:09:27  a731f941-ed8a-4278-9ba4-1fd41132aa5e        0.069974   \n",
       "1 2024-09-15 09:21:50  2f8156e6-5c5b-454c-92d9-628291e6f99e        0.045933   \n",
       "2 2024-10-30 19:26:13  4266c053-98c9-4825-bfce-b59264b1251d        0.036358   \n",
       "3 2024-08-18 13:17:01  d1d7594f-fcac-4295-b037-d998766d91be        0.016098   \n",
       "4 2024-07-26 11:14:26  e42d366d-9370-4761-9d94-e7cee5834849        0.056931   \n",
       "\n",
       "   ln_fspd30_flag  ln_mature_fspd30_flag  \n",
       "0               0                      1  \n",
       "1               0                      1  \n",
       "2               0                      1  \n",
       "3               0                      1  \n",
       "4               0                      1  "
      ]
     },
     "execution_count": 102,
     "metadata": {},
     "output_type": "execute_result"
    }
   ],
   "source": [
    "# sa_stack_score\n",
    "\n",
    "sq = \"\"\"\n",
    "with sa_stack_score as \n",
    "(SELECT \n",
    "    ln_disb_dtime disbursementdate,\n",
    "\tdigitalLoanAccountId,\n",
    "    alpha_stack_score sa_stack_score,\n",
    "    ln_fspd30_flag,\n",
    "\tln_mature_fspd30_flag,\t\n",
    "\tFROM \n",
    "    risk_mart.sil_risk_ds_master_20230101_20250309\n",
    "  WHERE \n",
    "     -- ln_disb_dtime >= '2023-07-01'\n",
    "    ln_appln_submit_datetime >= '2023-06-01'\n",
    "  -- AND\n",
    "  --   format_date('%Y-%m', ln_disb_dtime) = '2024-09'\n",
    "  AND\n",
    "    ln_fspd30_flag is not null\n",
    "  AND\n",
    "    alpha_stack_score is not null\n",
    "  AND\n",
    "    ln_mature_fspd30_flag = 1\n",
    ")\n",
    "select * from sa_stack_score;\n",
    "\"\"\"\n",
    "\n",
    "sa_stack_scorefspd30 = client.query(sq).to_dataframe(progress_bar_type='tqdm')\n",
    "\n",
    "sa_stack_scorefspd30.head()"
   ]
  },
  {
   "cell_type": "code",
   "execution_count": 103,
   "metadata": {},
   "outputs": [
    {
     "name": "stdout",
     "output_type": "stream",
     "text": [
      "The shape of dataframe after copy is:\t(99, 7)\n"
     ]
    },
    {
     "data": {
      "text/plain": [
       "array(['start_date', 'end_date', 'sa_stack_score_FSPD30_gini', 'period',\n",
       "       'Model_Name', 'version', 'bad_rate'], dtype=object)"
      ]
     },
     "execution_count": 103,
     "metadata": {},
     "output_type": "execute_result"
    }
   ],
   "source": [
    "gini_results = calculate_periodic_gini(sa_stack_scorefspd30, 'sa_stack_score', 'ln_fspd30_flag', 'FSPD30')\n",
    "M3FSPD30 = gini_results.copy()\n",
    "print(f\"The shape of dataframe after copy is:\\t{M3FSPD30.shape}\")\n",
    "M3FSPD30.columns.values"
   ]
  },
  {
   "cell_type": "code",
   "execution_count": 104,
   "metadata": {},
   "outputs": [
    {
     "data": {
      "application/vnd.microsoft.datawrangler.viewer.v0+json": {
       "columns": [
        {
         "name": "index",
         "rawType": "int64",
         "type": "integer"
        },
        {
         "name": "start_date",
         "rawType": "datetime64[ns]",
         "type": "datetime"
        },
        {
         "name": "end_date",
         "rawType": "datetime64[ns]",
         "type": "datetime"
        },
        {
         "name": "sa_stack_score_FSPD30_gini",
         "rawType": "float64",
         "type": "float"
        },
        {
         "name": "period",
         "rawType": "object",
         "type": "string"
        },
        {
         "name": "Model_Name",
         "rawType": "object",
         "type": "string"
        },
        {
         "name": "version",
         "rawType": "object",
         "type": "string"
        },
        {
         "name": "bad_rate",
         "rawType": "object",
         "type": "string"
        }
       ],
       "conversionMethod": "pd.DataFrame",
       "ref": "476bc9c1-e0c5-4115-95ee-1c0299a9bca9",
       "rows": [
        [
         "94",
         "2024-11-18 00:00:00",
         "2024-11-24 00:00:00",
         "0.3668281336505699",
         "Week",
         "sa_stack_score",
         "1.1.0",
         "FSPD30"
        ],
        [
         "95",
         "2024-11-25 00:00:00",
         "2024-12-01 00:00:00",
         "0.36087177402966875",
         "Week",
         "sa_stack_score",
         "1.1.0",
         "FSPD30"
        ],
        [
         "96",
         "2024-12-01 00:00:00",
         "2024-12-31 00:00:00",
         "0.39347104315895254",
         "Month",
         "sa_stack_score",
         "1.1.0",
         "FSPD30"
        ],
        [
         "97",
         "2024-12-02 00:00:00",
         "2024-12-08 00:00:00",
         "0.3759549621375269",
         "Week",
         "sa_stack_score",
         "1.1.0",
         "FSPD30"
        ],
        [
         "98",
         "2024-12-09 00:00:00",
         "2024-12-15 00:00:00",
         "0.430777656078861",
         "Week",
         "sa_stack_score",
         "1.1.0",
         "FSPD30"
        ]
       ],
       "shape": {
        "columns": 7,
        "rows": 5
       }
      },
      "text/html": [
       "<div>\n",
       "<style scoped>\n",
       "    .dataframe tbody tr th:only-of-type {\n",
       "        vertical-align: middle;\n",
       "    }\n",
       "\n",
       "    .dataframe tbody tr th {\n",
       "        vertical-align: top;\n",
       "    }\n",
       "\n",
       "    .dataframe thead th {\n",
       "        text-align: right;\n",
       "    }\n",
       "</style>\n",
       "<table border=\"1\" class=\"dataframe\">\n",
       "  <thead>\n",
       "    <tr style=\"text-align: right;\">\n",
       "      <th></th>\n",
       "      <th>start_date</th>\n",
       "      <th>end_date</th>\n",
       "      <th>sa_stack_score_FSPD30_gini</th>\n",
       "      <th>period</th>\n",
       "      <th>Model_Name</th>\n",
       "      <th>version</th>\n",
       "      <th>bad_rate</th>\n",
       "    </tr>\n",
       "  </thead>\n",
       "  <tbody>\n",
       "    <tr>\n",
       "      <th>94</th>\n",
       "      <td>2024-11-18</td>\n",
       "      <td>2024-11-24</td>\n",
       "      <td>0.366828</td>\n",
       "      <td>Week</td>\n",
       "      <td>sa_stack_score</td>\n",
       "      <td>1.1.0</td>\n",
       "      <td>FSPD30</td>\n",
       "    </tr>\n",
       "    <tr>\n",
       "      <th>95</th>\n",
       "      <td>2024-11-25</td>\n",
       "      <td>2024-12-01</td>\n",
       "      <td>0.360872</td>\n",
       "      <td>Week</td>\n",
       "      <td>sa_stack_score</td>\n",
       "      <td>1.1.0</td>\n",
       "      <td>FSPD30</td>\n",
       "    </tr>\n",
       "    <tr>\n",
       "      <th>96</th>\n",
       "      <td>2024-12-01</td>\n",
       "      <td>2024-12-31</td>\n",
       "      <td>0.393471</td>\n",
       "      <td>Month</td>\n",
       "      <td>sa_stack_score</td>\n",
       "      <td>1.1.0</td>\n",
       "      <td>FSPD30</td>\n",
       "    </tr>\n",
       "    <tr>\n",
       "      <th>97</th>\n",
       "      <td>2024-12-02</td>\n",
       "      <td>2024-12-08</td>\n",
       "      <td>0.375955</td>\n",
       "      <td>Week</td>\n",
       "      <td>sa_stack_score</td>\n",
       "      <td>1.1.0</td>\n",
       "      <td>FSPD30</td>\n",
       "    </tr>\n",
       "    <tr>\n",
       "      <th>98</th>\n",
       "      <td>2024-12-09</td>\n",
       "      <td>2024-12-15</td>\n",
       "      <td>0.430778</td>\n",
       "      <td>Week</td>\n",
       "      <td>sa_stack_score</td>\n",
       "      <td>1.1.0</td>\n",
       "      <td>FSPD30</td>\n",
       "    </tr>\n",
       "  </tbody>\n",
       "</table>\n",
       "</div>"
      ],
      "text/plain": [
       "   start_date   end_date  sa_stack_score_FSPD30_gini period      Model_Name  \\\n",
       "94 2024-11-18 2024-11-24                    0.366828   Week  sa_stack_score   \n",
       "95 2024-11-25 2024-12-01                    0.360872   Week  sa_stack_score   \n",
       "96 2024-12-01 2024-12-31                    0.393471  Month  sa_stack_score   \n",
       "97 2024-12-02 2024-12-08                    0.375955   Week  sa_stack_score   \n",
       "98 2024-12-09 2024-12-15                    0.430778   Week  sa_stack_score   \n",
       "\n",
       "   version bad_rate  \n",
       "94   1.1.0   FSPD30  \n",
       "95   1.1.0   FSPD30  \n",
       "96   1.1.0   FSPD30  \n",
       "97   1.1.0   FSPD30  \n",
       "98   1.1.0   FSPD30  "
      ]
     },
     "execution_count": 104,
     "metadata": {},
     "output_type": "execute_result"
    }
   ],
   "source": [
    "M3FSPD30.tail()"
   ]
  },
  {
   "cell_type": "markdown",
   "metadata": {},
   "source": [
    "## FSTPD30"
   ]
  },
  {
   "cell_type": "code",
   "execution_count": 106,
   "metadata": {},
   "outputs": [
    {
     "name": "stdout",
     "output_type": "stream",
     "text": [
      "Job ID a4e32359-e8ac-49ba-8f6d-3443ee1d9559 successfully executed: 100%|\u001b[32m██████████\u001b[0m|"
     ]
    },
    {
     "name": "stderr",
     "output_type": "stream",
     "text": [
      "d:\\Anaconda3\\envs\\inc_env\\lib\\site-packages\\google\\cloud\\bigquery\\table.py:1820: UserWarning: BigQuery Storage module not found, fetch data with the REST endpoint instead.\n",
      "  warnings.warn(\n"
     ]
    },
    {
     "name": "stdout",
     "output_type": "stream",
     "text": [
      "\n",
      "Downloading: 100%|\u001b[32m██████████\u001b[0m|\n"
     ]
    },
    {
     "data": {
      "application/vnd.microsoft.datawrangler.viewer.v0+json": {
       "columns": [
        {
         "name": "index",
         "rawType": "int64",
         "type": "integer"
        },
        {
         "name": "disbursementdate",
         "rawType": "datetime64[us]",
         "type": "unknown"
        },
        {
         "name": "digitalLoanAccountId",
         "rawType": "object",
         "type": "string"
        },
        {
         "name": "sa_stack_score",
         "rawType": "float64",
         "type": "float"
        },
        {
         "name": "ln_fstpd30_flag",
         "rawType": "Int64",
         "type": "integer"
        },
        {
         "name": "ln_mature_fstpd30_flag",
         "rawType": "Int64",
         "type": "integer"
        }
       ],
       "conversionMethod": "pd.DataFrame",
       "ref": "545a0582-4b84-4346-9fe3-b13e779c5c23",
       "rows": [
        [
         "0",
         "2024-09-01 15:18:37",
         "1a2cb6f2-e66f-444a-ba22-a05cb5652ef2",
         "0.0538504367412398",
         "0",
         "1"
        ],
        [
         "1",
         "2024-05-02 17:24:11",
         "9b118965-74ea-4832-a640-8b5ea2cc140e",
         "0.019327939422041022",
         "0",
         "1"
        ],
        [
         "2",
         "2024-05-13 17:34:23",
         "afb2601c-9ce3-4e88-96dd-38784a818625",
         "0.014717627433932644",
         "0",
         "1"
        ],
        [
         "3",
         "2024-08-16 11:20:46",
         "85550e8b-8e44-4bb1-bce0-fc6dd3b495ab",
         "0.08605688536310831",
         "0",
         "1"
        ],
        [
         "4",
         "2024-08-25 19:11:02",
         "32a9d0b0-409b-4bd3-aae8-e705a06dfb95",
         "0.1017532305911567",
         "0",
         "1"
        ]
       ],
       "shape": {
        "columns": 5,
        "rows": 5
       }
      },
      "text/html": [
       "<div>\n",
       "<style scoped>\n",
       "    .dataframe tbody tr th:only-of-type {\n",
       "        vertical-align: middle;\n",
       "    }\n",
       "\n",
       "    .dataframe tbody tr th {\n",
       "        vertical-align: top;\n",
       "    }\n",
       "\n",
       "    .dataframe thead th {\n",
       "        text-align: right;\n",
       "    }\n",
       "</style>\n",
       "<table border=\"1\" class=\"dataframe\">\n",
       "  <thead>\n",
       "    <tr style=\"text-align: right;\">\n",
       "      <th></th>\n",
       "      <th>disbursementdate</th>\n",
       "      <th>digitalLoanAccountId</th>\n",
       "      <th>sa_stack_score</th>\n",
       "      <th>ln_fstpd30_flag</th>\n",
       "      <th>ln_mature_fstpd30_flag</th>\n",
       "    </tr>\n",
       "  </thead>\n",
       "  <tbody>\n",
       "    <tr>\n",
       "      <th>0</th>\n",
       "      <td>2024-09-01 15:18:37</td>\n",
       "      <td>1a2cb6f2-e66f-444a-ba22-a05cb5652ef2</td>\n",
       "      <td>0.053850</td>\n",
       "      <td>0</td>\n",
       "      <td>1</td>\n",
       "    </tr>\n",
       "    <tr>\n",
       "      <th>1</th>\n",
       "      <td>2024-05-02 17:24:11</td>\n",
       "      <td>9b118965-74ea-4832-a640-8b5ea2cc140e</td>\n",
       "      <td>0.019328</td>\n",
       "      <td>0</td>\n",
       "      <td>1</td>\n",
       "    </tr>\n",
       "    <tr>\n",
       "      <th>2</th>\n",
       "      <td>2024-05-13 17:34:23</td>\n",
       "      <td>afb2601c-9ce3-4e88-96dd-38784a818625</td>\n",
       "      <td>0.014718</td>\n",
       "      <td>0</td>\n",
       "      <td>1</td>\n",
       "    </tr>\n",
       "    <tr>\n",
       "      <th>3</th>\n",
       "      <td>2024-08-16 11:20:46</td>\n",
       "      <td>85550e8b-8e44-4bb1-bce0-fc6dd3b495ab</td>\n",
       "      <td>0.086057</td>\n",
       "      <td>0</td>\n",
       "      <td>1</td>\n",
       "    </tr>\n",
       "    <tr>\n",
       "      <th>4</th>\n",
       "      <td>2024-08-25 19:11:02</td>\n",
       "      <td>32a9d0b0-409b-4bd3-aae8-e705a06dfb95</td>\n",
       "      <td>0.101753</td>\n",
       "      <td>0</td>\n",
       "      <td>1</td>\n",
       "    </tr>\n",
       "  </tbody>\n",
       "</table>\n",
       "</div>"
      ],
      "text/plain": [
       "     disbursementdate                  digitalLoanAccountId  sa_stack_score  \\\n",
       "0 2024-09-01 15:18:37  1a2cb6f2-e66f-444a-ba22-a05cb5652ef2        0.053850   \n",
       "1 2024-05-02 17:24:11  9b118965-74ea-4832-a640-8b5ea2cc140e        0.019328   \n",
       "2 2024-05-13 17:34:23  afb2601c-9ce3-4e88-96dd-38784a818625        0.014718   \n",
       "3 2024-08-16 11:20:46  85550e8b-8e44-4bb1-bce0-fc6dd3b495ab        0.086057   \n",
       "4 2024-08-25 19:11:02  32a9d0b0-409b-4bd3-aae8-e705a06dfb95        0.101753   \n",
       "\n",
       "   ln_fstpd30_flag  ln_mature_fstpd30_flag  \n",
       "0                0                       1  \n",
       "1                0                       1  \n",
       "2                0                       1  \n",
       "3                0                       1  \n",
       "4                0                       1  "
      ]
     },
     "execution_count": 106,
     "metadata": {},
     "output_type": "execute_result"
    }
   ],
   "source": [
    "# sa_stack_score\n",
    "\n",
    "sq = \"\"\"\n",
    "with sa_stack_score as \n",
    "(SELECT \n",
    "    ln_disb_dtime disbursementdate,\n",
    "\tdigitalLoanAccountId,\n",
    "    alpha_stack_score sa_stack_score,\n",
    "    ln_fstpd30_flag,\n",
    "\tln_mature_fstpd30_flag,\t\n",
    "\tFROM \n",
    "    risk_mart.sil_risk_ds_master_20230101_20250309\n",
    "  WHERE \n",
    "     -- ln_disb_dtime >= '2023-07-01'\n",
    "    ln_appln_submit_datetime >= '2023-06-01'\n",
    "  -- AND\n",
    "  --   format_date('%Y-%m', ln_disb_dtime) = '2024-09'\n",
    "  AND\n",
    "    ln_fstpd30_flag is not null\n",
    "  AND\n",
    "    alpha_stack_score is not null\n",
    "  AND\n",
    "    ln_mature_fstpd30_flag = 1\n",
    ")\n",
    "select * from sa_stack_score;\n",
    "\"\"\"\n",
    "\n",
    "sa_stack_scorefstpd30 = client.query(sq).to_dataframe(progress_bar_type='tqdm')\n",
    "\n",
    "sa_stack_scorefstpd30.head()"
   ]
  },
  {
   "cell_type": "code",
   "execution_count": 107,
   "metadata": {},
   "outputs": [
    {
     "data": {
      "application/vnd.microsoft.datawrangler.viewer.v0+json": {
       "columns": [
        {
         "name": "index",
         "rawType": "int64",
         "type": "integer"
        },
        {
         "name": "disbursementdate",
         "rawType": "datetime64[us]",
         "type": "unknown"
        },
        {
         "name": "digitalLoanAccountId",
         "rawType": "object",
         "type": "string"
        },
        {
         "name": "sa_stack_score",
         "rawType": "float64",
         "type": "float"
        },
        {
         "name": "ln_fstpd30_flag",
         "rawType": "Int64",
         "type": "integer"
        },
        {
         "name": "ln_mature_fstpd30_flag",
         "rawType": "Int64",
         "type": "integer"
        }
       ],
       "conversionMethod": "pd.DataFrame",
       "ref": "13a5299c-003b-4cc5-8964-2eb2a3768f8b",
       "rows": [
        [
         "76781",
         "2024-05-30 14:54:28",
         "2d328902-dbc5-4334-90a4-856ecad08708",
         "0.07479589131083285",
         "1",
         "1"
        ],
        [
         "76782",
         "2024-11-08 15:47:56",
         "bb893956-3f9b-490c-a7d1-deab934b4962",
         "0.06682774312359428",
         "1",
         "1"
        ],
        [
         "76783",
         "2024-07-07 16:23:28",
         "2b7177ed-f0b4-4c09-a12e-3eee9a141cfe",
         "0.08496391433752357",
         "1",
         "1"
        ],
        [
         "76784",
         "2024-07-17 16:14:20",
         "dd2db118-bb6d-4c39-8be5-e93a5ea3c9e0",
         "0.15943687647878388",
         "1",
         "1"
        ],
        [
         "76785",
         "2024-10-06 12:13:47",
         "7e837c49-bfe0-4298-be76-5ac00d45187f",
         "0.03866601316712588",
         "1",
         "1"
        ]
       ],
       "shape": {
        "columns": 5,
        "rows": 5
       }
      },
      "text/html": [
       "<div>\n",
       "<style scoped>\n",
       "    .dataframe tbody tr th:only-of-type {\n",
       "        vertical-align: middle;\n",
       "    }\n",
       "\n",
       "    .dataframe tbody tr th {\n",
       "        vertical-align: top;\n",
       "    }\n",
       "\n",
       "    .dataframe thead th {\n",
       "        text-align: right;\n",
       "    }\n",
       "</style>\n",
       "<table border=\"1\" class=\"dataframe\">\n",
       "  <thead>\n",
       "    <tr style=\"text-align: right;\">\n",
       "      <th></th>\n",
       "      <th>disbursementdate</th>\n",
       "      <th>digitalLoanAccountId</th>\n",
       "      <th>sa_stack_score</th>\n",
       "      <th>ln_fstpd30_flag</th>\n",
       "      <th>ln_mature_fstpd30_flag</th>\n",
       "    </tr>\n",
       "  </thead>\n",
       "  <tbody>\n",
       "    <tr>\n",
       "      <th>76781</th>\n",
       "      <td>2024-05-30 14:54:28</td>\n",
       "      <td>2d328902-dbc5-4334-90a4-856ecad08708</td>\n",
       "      <td>0.074796</td>\n",
       "      <td>1</td>\n",
       "      <td>1</td>\n",
       "    </tr>\n",
       "    <tr>\n",
       "      <th>76782</th>\n",
       "      <td>2024-11-08 15:47:56</td>\n",
       "      <td>bb893956-3f9b-490c-a7d1-deab934b4962</td>\n",
       "      <td>0.066828</td>\n",
       "      <td>1</td>\n",
       "      <td>1</td>\n",
       "    </tr>\n",
       "    <tr>\n",
       "      <th>76783</th>\n",
       "      <td>2024-07-07 16:23:28</td>\n",
       "      <td>2b7177ed-f0b4-4c09-a12e-3eee9a141cfe</td>\n",
       "      <td>0.084964</td>\n",
       "      <td>1</td>\n",
       "      <td>1</td>\n",
       "    </tr>\n",
       "    <tr>\n",
       "      <th>76784</th>\n",
       "      <td>2024-07-17 16:14:20</td>\n",
       "      <td>dd2db118-bb6d-4c39-8be5-e93a5ea3c9e0</td>\n",
       "      <td>0.159437</td>\n",
       "      <td>1</td>\n",
       "      <td>1</td>\n",
       "    </tr>\n",
       "    <tr>\n",
       "      <th>76785</th>\n",
       "      <td>2024-10-06 12:13:47</td>\n",
       "      <td>7e837c49-bfe0-4298-be76-5ac00d45187f</td>\n",
       "      <td>0.038666</td>\n",
       "      <td>1</td>\n",
       "      <td>1</td>\n",
       "    </tr>\n",
       "  </tbody>\n",
       "</table>\n",
       "</div>"
      ],
      "text/plain": [
       "         disbursementdate                  digitalLoanAccountId  \\\n",
       "76781 2024-05-30 14:54:28  2d328902-dbc5-4334-90a4-856ecad08708   \n",
       "76782 2024-11-08 15:47:56  bb893956-3f9b-490c-a7d1-deab934b4962   \n",
       "76783 2024-07-07 16:23:28  2b7177ed-f0b4-4c09-a12e-3eee9a141cfe   \n",
       "76784 2024-07-17 16:14:20  dd2db118-bb6d-4c39-8be5-e93a5ea3c9e0   \n",
       "76785 2024-10-06 12:13:47  7e837c49-bfe0-4298-be76-5ac00d45187f   \n",
       "\n",
       "       sa_stack_score  ln_fstpd30_flag  ln_mature_fstpd30_flag  \n",
       "76781        0.074796                1                       1  \n",
       "76782        0.066828                1                       1  \n",
       "76783        0.084964                1                       1  \n",
       "76784        0.159437                1                       1  \n",
       "76785        0.038666                1                       1  "
      ]
     },
     "execution_count": 107,
     "metadata": {},
     "output_type": "execute_result"
    }
   ],
   "source": [
    "sa_stack_scorefstpd30.tail()"
   ]
  },
  {
   "cell_type": "code",
   "execution_count": 108,
   "metadata": {},
   "outputs": [
    {
     "name": "stdout",
     "output_type": "stream",
     "text": [
      "The shape of dataframe after copy is:\t(93, 7)\n"
     ]
    },
    {
     "data": {
      "text/plain": [
       "array(['start_date', 'end_date', 'sa_stack_score_FSTPD30_gini', 'period',\n",
       "       'Model_Name', 'version', 'bad_rate'], dtype=object)"
      ]
     },
     "execution_count": 108,
     "metadata": {},
     "output_type": "execute_result"
    }
   ],
   "source": [
    "gini_results = calculate_periodic_gini(sa_stack_scorefstpd30, 'sa_stack_score', 'ln_fstpd30_flag', 'FSTPD30')\n",
    "M4FSTPD30 = gini_results.copy()\n",
    "print(f\"The shape of dataframe after copy is:\\t{M4FSTPD30.shape}\")\n",
    "M4FSTPD30.columns.values"
   ]
  },
  {
   "cell_type": "markdown",
   "metadata": {},
   "source": [
    "## Combining the dataframes"
   ]
  },
  {
   "cell_type": "code",
   "execution_count": 109,
   "metadata": {},
   "outputs": [
    {
     "data": {
      "text/plain": [
       "array(['start_date', 'end_date', 'sa_stack_score_FPD10_gini', 'period',\n",
       "       'Model_Name', 'version', 'bad_rate', 'sa_stack_score_FPD30_gini',\n",
       "       'sa_stack_score_FSPD30_gini', 'sa_stack_score_FSTPD30_gini'],\n",
       "      dtype=object)"
      ]
     },
     "execution_count": 109,
     "metadata": {},
     "output_type": "execute_result"
    }
   ],
   "source": [
    "import functools\n",
    "\n",
    "dataframes = [M1FPD10, M2FPD30, M3FSPD30, M4FSTPD30]\n",
    "common_columns = ['start_date', 'end_date', 'period', 'Model_Name','version', 'bad_rate']\n",
    "\n",
    "def merge_dataframes(df1, df2):\n",
    "    return pd.merge(df1, df2, on=common_columns, how='outer')\n",
    "\n",
    "final_df = functools.reduce(merge_dataframes, dataframes)\n",
    "\n",
    "final_df.columns.values"
   ]
  },
  {
   "cell_type": "code",
   "execution_count": 110,
   "metadata": {},
   "outputs": [],
   "source": [
    "final_df = final_df[['start_date', 'end_date', 'period', 'Model_Name', 'version', 'bad_rate', 'sa_stack_score_FPD10_gini', 'sa_stack_score_FPD30_gini',  'sa_stack_score_FSPD30_gini', 'sa_stack_score_FSTPD30_gini']].copy()"
   ]
  },
  {
   "cell_type": "markdown",
   "metadata": {},
   "source": [
    "## Creating the table "
   ]
  },
  {
   "cell_type": "code",
   "execution_count": 111,
   "metadata": {},
   "outputs": [
    {
     "data": {
      "text/plain": [
       "QueryJob<project=prj-prod-dataplatform, location=asia-southeast1, id=0082cfc5-1be5-42d6-9256-f05f41b83f25>"
      ]
     },
     "execution_count": 111,
     "metadata": {},
     "output_type": "execute_result"
    }
   ],
   "source": [
    "sq = \"\"\"drop table if exists prj-prod-dataplatform.dap_ds_poweruser_playground.Model_gini_sa_stack_score;\"\"\"\n",
    "\n",
    "client.query(sq)"
   ]
  },
  {
   "cell_type": "code",
   "execution_count": 112,
   "metadata": {},
   "outputs": [
    {
     "data": {
      "text/plain": [
       "LoadJob<project=prj-prod-dataplatform, location=asia-southeast1, id=45eef8b8-11fb-4c21-a00c-32aa772ff297>"
      ]
     },
     "execution_count": 112,
     "metadata": {},
     "output_type": "execute_result"
    }
   ],
   "source": [
    "import pandas as pd\n",
    "from google.cloud import bigquery\n",
    "\n",
    "# Create a BigQuery client\n",
    "client = bigquery.Client('prj-prod-dataplatform')\n",
    "\n",
    "# Define your table schema\n",
    "table_schema = [\n",
    "    bigquery.SchemaField('start_date', 'TIMESTAMP'),\n",
    "    bigquery.SchemaField('end_date', 'TIMESTAMP'),\n",
    "    bigquery.SchemaField('period', 'STRING'),\n",
    "    bigquery.SchemaField('Model_Name', 'STRING'),\n",
    "    bigquery.SchemaField('version', 'STRING'),\n",
    "    bigquery.SchemaField('Badrate', 'STRING'),\n",
    "    bigquery.SchemaField('sa_stack_score_FPD10_gini', 'FLOAT'),\n",
    "    bigquery.SchemaField('sa_stack_score_FPD30_gini', 'FLOAT'),    \n",
    "    bigquery.SchemaField('sa_stack_score_FSPD30_gini', 'FLOAT'),\n",
    "    bigquery.SchemaField('sa_stack_score_FSTPD30_gini', 'FLOAT')\n",
    "    \n",
    "]\n",
    "\n",
    "# Create your BigQuery table\n",
    "table_id = 'prj-prod-dataplatform.dap_ds_poweruser_playground.Model_gini_sa_stack_score'\n",
    "table = bigquery.Table(table_id, schema=table_schema)\n",
    "table = client.create_table(table)\n",
    "\n",
    "# Load your DataFrame into BigQuery\n",
    "job_config = bigquery.LoadJobConfig(\n",
    "    write_disposition='WRITE_TRUNCATE'\n",
    ")\n",
    "\n",
    "load_job = client.load_table_from_dataframe(\n",
    "    final_df, table_id, job_config=job_config\n",
    ")\n",
    "\n",
    "load_job.result()"
   ]
  },
  {
   "cell_type": "markdown",
   "metadata": {},
   "source": [
    "# gen_credo_score"
   ]
  },
  {
   "cell_type": "markdown",
   "metadata": {},
   "source": [
    "## FPD10"
   ]
  },
  {
   "cell_type": "code",
   "execution_count": 113,
   "metadata": {},
   "outputs": [
    {
     "name": "stdout",
     "output_type": "stream",
     "text": [
      "Job ID 169b138d-854c-4f72-85e6-68d118d33392 successfully executed: 100%|\u001b[32m██████████\u001b[0m|"
     ]
    },
    {
     "name": "stderr",
     "output_type": "stream",
     "text": [
      "d:\\Anaconda3\\envs\\inc_env\\lib\\site-packages\\google\\cloud\\bigquery\\table.py:1820: UserWarning: BigQuery Storage module not found, fetch data with the REST endpoint instead.\n",
      "  warnings.warn(\n"
     ]
    },
    {
     "name": "stdout",
     "output_type": "stream",
     "text": [
      "\n",
      "Downloading: 100%|\u001b[32m██████████\u001b[0m|\n"
     ]
    },
    {
     "data": {
      "application/vnd.microsoft.datawrangler.viewer.v0+json": {
       "columns": [
        {
         "name": "index",
         "rawType": "int64",
         "type": "integer"
        },
        {
         "name": "disbursementdate",
         "rawType": "datetime64[us]",
         "type": "unknown"
        },
        {
         "name": "digitalLoanAccountId",
         "rawType": "object",
         "type": "string"
        },
        {
         "name": "gen_credo_score",
         "rawType": "float64",
         "type": "float"
        },
        {
         "name": "ln_fpd10_flag",
         "rawType": "Int64",
         "type": "integer"
        },
        {
         "name": "ln_mature_fpd10_flag",
         "rawType": "Int64",
         "type": "integer"
        }
       ],
       "conversionMethod": "pd.DataFrame",
       "ref": "3a4210a5-4f58-4bb5-ac38-6ffa6c0a4930",
       "rows": [
        [
         "0",
         "2024-07-16 19:09:27",
         "a731f941-ed8a-4278-9ba4-1fd41132aa5e",
         "0.185555630270027",
         "0",
         "1"
        ],
        [
         "1",
         "2024-02-26 15:08:47",
         "acebf8de-bd42-4b00-83bc-d7c0999a7488",
         "0.110976951075583",
         "0",
         "1"
        ],
        [
         "2",
         "2023-12-03 17:15:55",
         "8effa90f-b747-40b9-b42f-39691224f596",
         "0.183422053291071",
         "1",
         "1"
        ],
        [
         "3",
         "2024-12-15 12:58:01",
         "950353da-8475-4d52-964b-e334dcbd95dc",
         "0.190540321426483",
         "0",
         "1"
        ],
        [
         "4",
         "2024-09-15 09:21:50",
         "2f8156e6-5c5b-454c-92d9-628291e6f99e",
         "0.134107791698632",
         "0",
         "1"
        ]
       ],
       "shape": {
        "columns": 5,
        "rows": 5
       }
      },
      "text/html": [
       "<div>\n",
       "<style scoped>\n",
       "    .dataframe tbody tr th:only-of-type {\n",
       "        vertical-align: middle;\n",
       "    }\n",
       "\n",
       "    .dataframe tbody tr th {\n",
       "        vertical-align: top;\n",
       "    }\n",
       "\n",
       "    .dataframe thead th {\n",
       "        text-align: right;\n",
       "    }\n",
       "</style>\n",
       "<table border=\"1\" class=\"dataframe\">\n",
       "  <thead>\n",
       "    <tr style=\"text-align: right;\">\n",
       "      <th></th>\n",
       "      <th>disbursementdate</th>\n",
       "      <th>digitalLoanAccountId</th>\n",
       "      <th>gen_credo_score</th>\n",
       "      <th>ln_fpd10_flag</th>\n",
       "      <th>ln_mature_fpd10_flag</th>\n",
       "    </tr>\n",
       "  </thead>\n",
       "  <tbody>\n",
       "    <tr>\n",
       "      <th>0</th>\n",
       "      <td>2024-07-16 19:09:27</td>\n",
       "      <td>a731f941-ed8a-4278-9ba4-1fd41132aa5e</td>\n",
       "      <td>0.185556</td>\n",
       "      <td>0</td>\n",
       "      <td>1</td>\n",
       "    </tr>\n",
       "    <tr>\n",
       "      <th>1</th>\n",
       "      <td>2024-02-26 15:08:47</td>\n",
       "      <td>acebf8de-bd42-4b00-83bc-d7c0999a7488</td>\n",
       "      <td>0.110977</td>\n",
       "      <td>0</td>\n",
       "      <td>1</td>\n",
       "    </tr>\n",
       "    <tr>\n",
       "      <th>2</th>\n",
       "      <td>2023-12-03 17:15:55</td>\n",
       "      <td>8effa90f-b747-40b9-b42f-39691224f596</td>\n",
       "      <td>0.183422</td>\n",
       "      <td>1</td>\n",
       "      <td>1</td>\n",
       "    </tr>\n",
       "    <tr>\n",
       "      <th>3</th>\n",
       "      <td>2024-12-15 12:58:01</td>\n",
       "      <td>950353da-8475-4d52-964b-e334dcbd95dc</td>\n",
       "      <td>0.190540</td>\n",
       "      <td>0</td>\n",
       "      <td>1</td>\n",
       "    </tr>\n",
       "    <tr>\n",
       "      <th>4</th>\n",
       "      <td>2024-09-15 09:21:50</td>\n",
       "      <td>2f8156e6-5c5b-454c-92d9-628291e6f99e</td>\n",
       "      <td>0.134108</td>\n",
       "      <td>0</td>\n",
       "      <td>1</td>\n",
       "    </tr>\n",
       "  </tbody>\n",
       "</table>\n",
       "</div>"
      ],
      "text/plain": [
       "     disbursementdate                  digitalLoanAccountId  gen_credo_score  \\\n",
       "0 2024-07-16 19:09:27  a731f941-ed8a-4278-9ba4-1fd41132aa5e         0.185556   \n",
       "1 2024-02-26 15:08:47  acebf8de-bd42-4b00-83bc-d7c0999a7488         0.110977   \n",
       "2 2023-12-03 17:15:55  8effa90f-b747-40b9-b42f-39691224f596         0.183422   \n",
       "3 2024-12-15 12:58:01  950353da-8475-4d52-964b-e334dcbd95dc         0.190540   \n",
       "4 2024-09-15 09:21:50  2f8156e6-5c5b-454c-92d9-628291e6f99e         0.134108   \n",
       "\n",
       "   ln_fpd10_flag  ln_mature_fpd10_flag  \n",
       "0              0                     1  \n",
       "1              0                     1  \n",
       "2              1                     1  \n",
       "3              0                     1  \n",
       "4              0                     1  "
      ]
     },
     "execution_count": 113,
     "metadata": {},
     "output_type": "execute_result"
    }
   ],
   "source": [
    "\n",
    "\n",
    "sq = \"\"\"\n",
    "with gen_credo_score as \n",
    "(SELECT \n",
    "    ln_disb_dtime disbursementdate,\n",
    "\tdigitalLoanAccountId,\n",
    "    credo_gen_score gen_credo_score,\n",
    "    ln_fpd10_flag,\n",
    "\tln_mature_fpd10_flag,\t\n",
    "\tFROM \n",
    "     risk_mart.sil_risk_ds_master_20230101_20250309\n",
    "  WHERE \n",
    "     -- ln_disb_dtime >= '2023-07-01'\n",
    "    ln_appln_submit_datetime >= '2023-01-01'\n",
    "  -- AND\n",
    "  --   format_date('%Y-%m', ln_disb_dtime) = '2024-09'\n",
    "  AND\n",
    "    ln_fpd10_flag is not null\n",
    "  AND\n",
    "    credo_gen_score is not null\n",
    "  AND\n",
    "    ln_mature_fpd10_flag = 1\n",
    ")\n",
    "select * from gen_credo_score;\n",
    "\"\"\"\n",
    "\n",
    "gen_credo_scorefpd10 = client.query(sq).to_dataframe(progress_bar_type='tqdm')\n",
    "\n",
    "gen_credo_scorefpd10.head()"
   ]
  },
  {
   "cell_type": "code",
   "execution_count": 114,
   "metadata": {},
   "outputs": [
    {
     "name": "stdout",
     "output_type": "stream",
     "text": [
      "The shape of dataframe after copy is:\t(134, 7)\n"
     ]
    },
    {
     "data": {
      "text/plain": [
       "array(['start_date', 'end_date', 'gen_credo_score_FPD10_gini', 'period',\n",
       "       'Model_Name', 'version', 'bad_rate'], dtype=object)"
      ]
     },
     "execution_count": 114,
     "metadata": {},
     "output_type": "execute_result"
    }
   ],
   "source": [
    "gini_results = calculate_periodic_gini(gen_credo_scorefpd10, 'gen_credo_score', 'ln_fpd10_flag', 'FPD10')\n",
    "M1FPD10 = gini_results.copy()\n",
    "print(f\"The shape of dataframe after copy is:\\t{M1FPD10.shape}\")\n",
    "M1FPD10.columns.values"
   ]
  },
  {
   "cell_type": "code",
   "execution_count": 115,
   "metadata": {},
   "outputs": [
    {
     "data": {
      "application/vnd.microsoft.datawrangler.viewer.v0+json": {
       "columns": [
        {
         "name": "index",
         "rawType": "int64",
         "type": "integer"
        },
        {
         "name": "start_date",
         "rawType": "datetime64[ns]",
         "type": "datetime"
        },
        {
         "name": "end_date",
         "rawType": "datetime64[ns]",
         "type": "datetime"
        },
        {
         "name": "gen_credo_score_FPD10_gini",
         "rawType": "float64",
         "type": "float"
        },
        {
         "name": "period",
         "rawType": "object",
         "type": "string"
        },
        {
         "name": "Model_Name",
         "rawType": "object",
         "type": "string"
        },
        {
         "name": "version",
         "rawType": "object",
         "type": "string"
        },
        {
         "name": "bad_rate",
         "rawType": "object",
         "type": "string"
        }
       ],
       "conversionMethod": "pd.DataFrame",
       "ref": "0811c83c-f7aa-4984-b523-f61cef8113f8",
       "rows": [
        [
         "0",
         "2023-01-01 00:00:00",
         "2023-01-31 00:00:00",
         "0.24672479320366647",
         "Month",
         "gen_credo_score",
         "1.1.0",
         "FPD10"
        ],
        [
         "1",
         "2023-01-02 00:00:00",
         "2023-01-08 00:00:00",
         "0.3011247443762781",
         "Week",
         "gen_credo_score",
         "1.1.0",
         "FPD10"
        ],
        [
         "2",
         "2023-01-09 00:00:00",
         "2023-01-15 00:00:00",
         "0.273399926008139",
         "Week",
         "gen_credo_score",
         "1.1.0",
         "FPD10"
        ],
        [
         "3",
         "2023-01-16 00:00:00",
         "2023-01-22 00:00:00",
         "0.6675324675324676",
         "Week",
         "gen_credo_score",
         "1.1.0",
         "FPD10"
        ],
        [
         "4",
         "2023-01-23 00:00:00",
         "2023-01-29 00:00:00",
         "0.08650519031141868",
         "Week",
         "gen_credo_score",
         "1.1.0",
         "FPD10"
        ]
       ],
       "shape": {
        "columns": 7,
        "rows": 5
       }
      },
      "text/html": [
       "<div>\n",
       "<style scoped>\n",
       "    .dataframe tbody tr th:only-of-type {\n",
       "        vertical-align: middle;\n",
       "    }\n",
       "\n",
       "    .dataframe tbody tr th {\n",
       "        vertical-align: top;\n",
       "    }\n",
       "\n",
       "    .dataframe thead th {\n",
       "        text-align: right;\n",
       "    }\n",
       "</style>\n",
       "<table border=\"1\" class=\"dataframe\">\n",
       "  <thead>\n",
       "    <tr style=\"text-align: right;\">\n",
       "      <th></th>\n",
       "      <th>start_date</th>\n",
       "      <th>end_date</th>\n",
       "      <th>gen_credo_score_FPD10_gini</th>\n",
       "      <th>period</th>\n",
       "      <th>Model_Name</th>\n",
       "      <th>version</th>\n",
       "      <th>bad_rate</th>\n",
       "    </tr>\n",
       "  </thead>\n",
       "  <tbody>\n",
       "    <tr>\n",
       "      <th>0</th>\n",
       "      <td>2023-01-01</td>\n",
       "      <td>2023-01-31</td>\n",
       "      <td>0.246725</td>\n",
       "      <td>Month</td>\n",
       "      <td>gen_credo_score</td>\n",
       "      <td>1.1.0</td>\n",
       "      <td>FPD10</td>\n",
       "    </tr>\n",
       "    <tr>\n",
       "      <th>1</th>\n",
       "      <td>2023-01-02</td>\n",
       "      <td>2023-01-08</td>\n",
       "      <td>0.301125</td>\n",
       "      <td>Week</td>\n",
       "      <td>gen_credo_score</td>\n",
       "      <td>1.1.0</td>\n",
       "      <td>FPD10</td>\n",
       "    </tr>\n",
       "    <tr>\n",
       "      <th>2</th>\n",
       "      <td>2023-01-09</td>\n",
       "      <td>2023-01-15</td>\n",
       "      <td>0.273400</td>\n",
       "      <td>Week</td>\n",
       "      <td>gen_credo_score</td>\n",
       "      <td>1.1.0</td>\n",
       "      <td>FPD10</td>\n",
       "    </tr>\n",
       "    <tr>\n",
       "      <th>3</th>\n",
       "      <td>2023-01-16</td>\n",
       "      <td>2023-01-22</td>\n",
       "      <td>0.667532</td>\n",
       "      <td>Week</td>\n",
       "      <td>gen_credo_score</td>\n",
       "      <td>1.1.0</td>\n",
       "      <td>FPD10</td>\n",
       "    </tr>\n",
       "    <tr>\n",
       "      <th>4</th>\n",
       "      <td>2023-01-23</td>\n",
       "      <td>2023-01-29</td>\n",
       "      <td>0.086505</td>\n",
       "      <td>Week</td>\n",
       "      <td>gen_credo_score</td>\n",
       "      <td>1.1.0</td>\n",
       "      <td>FPD10</td>\n",
       "    </tr>\n",
       "  </tbody>\n",
       "</table>\n",
       "</div>"
      ],
      "text/plain": [
       "  start_date   end_date  gen_credo_score_FPD10_gini period       Model_Name  \\\n",
       "0 2023-01-01 2023-01-31                    0.246725  Month  gen_credo_score   \n",
       "1 2023-01-02 2023-01-08                    0.301125   Week  gen_credo_score   \n",
       "2 2023-01-09 2023-01-15                    0.273400   Week  gen_credo_score   \n",
       "3 2023-01-16 2023-01-22                    0.667532   Week  gen_credo_score   \n",
       "4 2023-01-23 2023-01-29                    0.086505   Week  gen_credo_score   \n",
       "\n",
       "  version bad_rate  \n",
       "0   1.1.0    FPD10  \n",
       "1   1.1.0    FPD10  \n",
       "2   1.1.0    FPD10  \n",
       "3   1.1.0    FPD10  \n",
       "4   1.1.0    FPD10  "
      ]
     },
     "execution_count": 115,
     "metadata": {},
     "output_type": "execute_result"
    }
   ],
   "source": [
    "M1FPD10.head()"
   ]
  },
  {
   "cell_type": "markdown",
   "metadata": {},
   "source": [
    "## FPD30"
   ]
  },
  {
   "cell_type": "code",
   "execution_count": 117,
   "metadata": {},
   "outputs": [
    {
     "name": "stdout",
     "output_type": "stream",
     "text": [
      "Job ID 385adbea-9908-46ac-84ec-4965809248cf successfully executed: 100%|\u001b[32m██████████\u001b[0m|"
     ]
    },
    {
     "name": "stderr",
     "output_type": "stream",
     "text": [
      "d:\\Anaconda3\\envs\\inc_env\\lib\\site-packages\\google\\cloud\\bigquery\\table.py:1820: UserWarning: BigQuery Storage module not found, fetch data with the REST endpoint instead.\n",
      "  warnings.warn(\n"
     ]
    },
    {
     "name": "stdout",
     "output_type": "stream",
     "text": [
      "\n",
      "Downloading: 100%|\u001b[32m██████████\u001b[0m|\n"
     ]
    },
    {
     "data": {
      "application/vnd.microsoft.datawrangler.viewer.v0+json": {
       "columns": [
        {
         "name": "index",
         "rawType": "int64",
         "type": "integer"
        },
        {
         "name": "disbursementdate",
         "rawType": "datetime64[us]",
         "type": "unknown"
        },
        {
         "name": "digitalLoanAccountId",
         "rawType": "object",
         "type": "string"
        },
        {
         "name": "gen_credo_score",
         "rawType": "float64",
         "type": "float"
        },
        {
         "name": "ln_fpd30_flag",
         "rawType": "Int64",
         "type": "integer"
        },
        {
         "name": "ln_mature_fpd30_flag",
         "rawType": "Int64",
         "type": "integer"
        }
       ],
       "conversionMethod": "pd.DataFrame",
       "ref": "4890fdb3-81df-465d-957b-689d8d902e57",
       "rows": [
        [
         "0",
         "2024-07-16 19:09:27",
         "a731f941-ed8a-4278-9ba4-1fd41132aa5e",
         "0.185555630270027",
         "0",
         "1"
        ],
        [
         "1",
         "2024-02-26 15:08:47",
         "acebf8de-bd42-4b00-83bc-d7c0999a7488",
         "0.110976951075583",
         "0",
         "1"
        ],
        [
         "2",
         "2023-12-03 17:15:55",
         "8effa90f-b747-40b9-b42f-39691224f596",
         "0.183422053291071",
         "1",
         "1"
        ],
        [
         "3",
         "2024-12-15 12:58:01",
         "950353da-8475-4d52-964b-e334dcbd95dc",
         "0.190540321426483",
         "0",
         "1"
        ],
        [
         "4",
         "2024-09-15 09:21:50",
         "2f8156e6-5c5b-454c-92d9-628291e6f99e",
         "0.134107791698632",
         "0",
         "1"
        ]
       ],
       "shape": {
        "columns": 5,
        "rows": 5
       }
      },
      "text/html": [
       "<div>\n",
       "<style scoped>\n",
       "    .dataframe tbody tr th:only-of-type {\n",
       "        vertical-align: middle;\n",
       "    }\n",
       "\n",
       "    .dataframe tbody tr th {\n",
       "        vertical-align: top;\n",
       "    }\n",
       "\n",
       "    .dataframe thead th {\n",
       "        text-align: right;\n",
       "    }\n",
       "</style>\n",
       "<table border=\"1\" class=\"dataframe\">\n",
       "  <thead>\n",
       "    <tr style=\"text-align: right;\">\n",
       "      <th></th>\n",
       "      <th>disbursementdate</th>\n",
       "      <th>digitalLoanAccountId</th>\n",
       "      <th>gen_credo_score</th>\n",
       "      <th>ln_fpd30_flag</th>\n",
       "      <th>ln_mature_fpd30_flag</th>\n",
       "    </tr>\n",
       "  </thead>\n",
       "  <tbody>\n",
       "    <tr>\n",
       "      <th>0</th>\n",
       "      <td>2024-07-16 19:09:27</td>\n",
       "      <td>a731f941-ed8a-4278-9ba4-1fd41132aa5e</td>\n",
       "      <td>0.185556</td>\n",
       "      <td>0</td>\n",
       "      <td>1</td>\n",
       "    </tr>\n",
       "    <tr>\n",
       "      <th>1</th>\n",
       "      <td>2024-02-26 15:08:47</td>\n",
       "      <td>acebf8de-bd42-4b00-83bc-d7c0999a7488</td>\n",
       "      <td>0.110977</td>\n",
       "      <td>0</td>\n",
       "      <td>1</td>\n",
       "    </tr>\n",
       "    <tr>\n",
       "      <th>2</th>\n",
       "      <td>2023-12-03 17:15:55</td>\n",
       "      <td>8effa90f-b747-40b9-b42f-39691224f596</td>\n",
       "      <td>0.183422</td>\n",
       "      <td>1</td>\n",
       "      <td>1</td>\n",
       "    </tr>\n",
       "    <tr>\n",
       "      <th>3</th>\n",
       "      <td>2024-12-15 12:58:01</td>\n",
       "      <td>950353da-8475-4d52-964b-e334dcbd95dc</td>\n",
       "      <td>0.190540</td>\n",
       "      <td>0</td>\n",
       "      <td>1</td>\n",
       "    </tr>\n",
       "    <tr>\n",
       "      <th>4</th>\n",
       "      <td>2024-09-15 09:21:50</td>\n",
       "      <td>2f8156e6-5c5b-454c-92d9-628291e6f99e</td>\n",
       "      <td>0.134108</td>\n",
       "      <td>0</td>\n",
       "      <td>1</td>\n",
       "    </tr>\n",
       "  </tbody>\n",
       "</table>\n",
       "</div>"
      ],
      "text/plain": [
       "     disbursementdate                  digitalLoanAccountId  gen_credo_score  \\\n",
       "0 2024-07-16 19:09:27  a731f941-ed8a-4278-9ba4-1fd41132aa5e         0.185556   \n",
       "1 2024-02-26 15:08:47  acebf8de-bd42-4b00-83bc-d7c0999a7488         0.110977   \n",
       "2 2023-12-03 17:15:55  8effa90f-b747-40b9-b42f-39691224f596         0.183422   \n",
       "3 2024-12-15 12:58:01  950353da-8475-4d52-964b-e334dcbd95dc         0.190540   \n",
       "4 2024-09-15 09:21:50  2f8156e6-5c5b-454c-92d9-628291e6f99e         0.134108   \n",
       "\n",
       "   ln_fpd30_flag  ln_mature_fpd30_flag  \n",
       "0              0                     1  \n",
       "1              0                     1  \n",
       "2              1                     1  \n",
       "3              0                     1  \n",
       "4              0                     1  "
      ]
     },
     "execution_count": 117,
     "metadata": {},
     "output_type": "execute_result"
    }
   ],
   "source": [
    "sq = \"\"\"\n",
    "with gen_credo_score as \n",
    "(SELECT \n",
    "    ln_disb_dtime disbursementdate,\n",
    "\tdigitalLoanAccountId,\n",
    "    credo_gen_score gen_credo_score,\n",
    "    ln_fpd30_flag,\n",
    "\tln_mature_fpd30_flag,\t\n",
    "\tFROM \n",
    "    risk_mart.sil_risk_ds_master_20230101_20250309\n",
    "  WHERE \n",
    "     -- ln_disb_dtime >= '2023-07-01'\n",
    "    ln_appln_submit_datetime >= '2023-01-01'\n",
    "  -- AND\n",
    "  --   format_date('%Y-%m', ln_disb_dtime) = '2024-09'\n",
    "  AND\n",
    "    ln_fpd30_flag is not null\n",
    "  AND\n",
    "    credo_gen_score is not null\n",
    "  AND\n",
    "    ln_mature_fpd30_flag = 1\n",
    ")\n",
    "select * from gen_credo_score;\n",
    "\"\"\"\n",
    "\n",
    "gen_credo_scorefpd30 = client.query(sq).to_dataframe(progress_bar_type='tqdm')\n",
    "\n",
    "gen_credo_scorefpd30.head()"
   ]
  },
  {
   "cell_type": "code",
   "execution_count": 118,
   "metadata": {},
   "outputs": [
    {
     "data": {
      "application/vnd.microsoft.datawrangler.viewer.v0+json": {
       "columns": [
        {
         "name": "index",
         "rawType": "int64",
         "type": "integer"
        },
        {
         "name": "disbursementdate",
         "rawType": "datetime64[us]",
         "type": "unknown"
        },
        {
         "name": "digitalLoanAccountId",
         "rawType": "object",
         "type": "string"
        },
        {
         "name": "gen_credo_score",
         "rawType": "float64",
         "type": "float"
        },
        {
         "name": "ln_fpd30_flag",
         "rawType": "Int64",
         "type": "integer"
        },
        {
         "name": "ln_mature_fpd30_flag",
         "rawType": "Int64",
         "type": "integer"
        }
       ],
       "conversionMethod": "pd.DataFrame",
       "ref": "b1ec54cc-044b-4ffb-b235-0f64ef750702",
       "rows": [
        [
         "0",
         "2024-07-16 19:09:27",
         "a731f941-ed8a-4278-9ba4-1fd41132aa5e",
         "0.185555630270027",
         "0",
         "1"
        ],
        [
         "1",
         "2024-02-26 15:08:47",
         "acebf8de-bd42-4b00-83bc-d7c0999a7488",
         "0.110976951075583",
         "0",
         "1"
        ],
        [
         "2",
         "2023-12-03 17:15:55",
         "8effa90f-b747-40b9-b42f-39691224f596",
         "0.183422053291071",
         "1",
         "1"
        ],
        [
         "3",
         "2024-12-15 12:58:01",
         "950353da-8475-4d52-964b-e334dcbd95dc",
         "0.190540321426483",
         "0",
         "1"
        ],
        [
         "4",
         "2024-09-15 09:21:50",
         "2f8156e6-5c5b-454c-92d9-628291e6f99e",
         "0.134107791698632",
         "0",
         "1"
        ]
       ],
       "shape": {
        "columns": 5,
        "rows": 5
       }
      },
      "text/html": [
       "<div>\n",
       "<style scoped>\n",
       "    .dataframe tbody tr th:only-of-type {\n",
       "        vertical-align: middle;\n",
       "    }\n",
       "\n",
       "    .dataframe tbody tr th {\n",
       "        vertical-align: top;\n",
       "    }\n",
       "\n",
       "    .dataframe thead th {\n",
       "        text-align: right;\n",
       "    }\n",
       "</style>\n",
       "<table border=\"1\" class=\"dataframe\">\n",
       "  <thead>\n",
       "    <tr style=\"text-align: right;\">\n",
       "      <th></th>\n",
       "      <th>disbursementdate</th>\n",
       "      <th>digitalLoanAccountId</th>\n",
       "      <th>gen_credo_score</th>\n",
       "      <th>ln_fpd30_flag</th>\n",
       "      <th>ln_mature_fpd30_flag</th>\n",
       "    </tr>\n",
       "  </thead>\n",
       "  <tbody>\n",
       "    <tr>\n",
       "      <th>0</th>\n",
       "      <td>2024-07-16 19:09:27</td>\n",
       "      <td>a731f941-ed8a-4278-9ba4-1fd41132aa5e</td>\n",
       "      <td>0.185556</td>\n",
       "      <td>0</td>\n",
       "      <td>1</td>\n",
       "    </tr>\n",
       "    <tr>\n",
       "      <th>1</th>\n",
       "      <td>2024-02-26 15:08:47</td>\n",
       "      <td>acebf8de-bd42-4b00-83bc-d7c0999a7488</td>\n",
       "      <td>0.110977</td>\n",
       "      <td>0</td>\n",
       "      <td>1</td>\n",
       "    </tr>\n",
       "    <tr>\n",
       "      <th>2</th>\n",
       "      <td>2023-12-03 17:15:55</td>\n",
       "      <td>8effa90f-b747-40b9-b42f-39691224f596</td>\n",
       "      <td>0.183422</td>\n",
       "      <td>1</td>\n",
       "      <td>1</td>\n",
       "    </tr>\n",
       "    <tr>\n",
       "      <th>3</th>\n",
       "      <td>2024-12-15 12:58:01</td>\n",
       "      <td>950353da-8475-4d52-964b-e334dcbd95dc</td>\n",
       "      <td>0.190540</td>\n",
       "      <td>0</td>\n",
       "      <td>1</td>\n",
       "    </tr>\n",
       "    <tr>\n",
       "      <th>4</th>\n",
       "      <td>2024-09-15 09:21:50</td>\n",
       "      <td>2f8156e6-5c5b-454c-92d9-628291e6f99e</td>\n",
       "      <td>0.134108</td>\n",
       "      <td>0</td>\n",
       "      <td>1</td>\n",
       "    </tr>\n",
       "  </tbody>\n",
       "</table>\n",
       "</div>"
      ],
      "text/plain": [
       "     disbursementdate                  digitalLoanAccountId  gen_credo_score  \\\n",
       "0 2024-07-16 19:09:27  a731f941-ed8a-4278-9ba4-1fd41132aa5e         0.185556   \n",
       "1 2024-02-26 15:08:47  acebf8de-bd42-4b00-83bc-d7c0999a7488         0.110977   \n",
       "2 2023-12-03 17:15:55  8effa90f-b747-40b9-b42f-39691224f596         0.183422   \n",
       "3 2024-12-15 12:58:01  950353da-8475-4d52-964b-e334dcbd95dc         0.190540   \n",
       "4 2024-09-15 09:21:50  2f8156e6-5c5b-454c-92d9-628291e6f99e         0.134108   \n",
       "\n",
       "   ln_fpd30_flag  ln_mature_fpd30_flag  \n",
       "0              0                     1  \n",
       "1              0                     1  \n",
       "2              1                     1  \n",
       "3              0                     1  \n",
       "4              0                     1  "
      ]
     },
     "execution_count": 118,
     "metadata": {},
     "output_type": "execute_result"
    }
   ],
   "source": [
    "gen_credo_scorefpd30.head()"
   ]
  },
  {
   "cell_type": "code",
   "execution_count": 119,
   "metadata": {},
   "outputs": [
    {
     "name": "stdout",
     "output_type": "stream",
     "text": [
      "The shape of dataframe after copy is:\t(131, 7)\n"
     ]
    },
    {
     "data": {
      "text/plain": [
       "array(['start_date', 'end_date', 'gen_credo_score_FPD30_gini', 'period',\n",
       "       'Model_Name', 'version', 'bad_rate'], dtype=object)"
      ]
     },
     "execution_count": 119,
     "metadata": {},
     "output_type": "execute_result"
    }
   ],
   "source": [
    "gini_results = calculate_periodic_gini(gen_credo_scorefpd30, 'gen_credo_score', 'ln_fpd30_flag', 'FPD30')\n",
    "M2FPD30 = gini_results.copy()\n",
    "print(f\"The shape of dataframe after copy is:\\t{M2FPD30.shape}\")\n",
    "M2FPD30.columns.values"
   ]
  },
  {
   "cell_type": "code",
   "execution_count": 120,
   "metadata": {},
   "outputs": [
    {
     "data": {
      "application/vnd.microsoft.datawrangler.viewer.v0+json": {
       "columns": [
        {
         "name": "index",
         "rawType": "int64",
         "type": "integer"
        },
        {
         "name": "start_date",
         "rawType": "datetime64[ns]",
         "type": "datetime"
        },
        {
         "name": "end_date",
         "rawType": "datetime64[ns]",
         "type": "datetime"
        },
        {
         "name": "gen_credo_score_FPD30_gini",
         "rawType": "float64",
         "type": "float"
        },
        {
         "name": "period",
         "rawType": "object",
         "type": "string"
        },
        {
         "name": "Model_Name",
         "rawType": "object",
         "type": "string"
        },
        {
         "name": "version",
         "rawType": "object",
         "type": "string"
        },
        {
         "name": "bad_rate",
         "rawType": "object",
         "type": "string"
        }
       ],
       "conversionMethod": "pd.DataFrame",
       "ref": "e200a1be-9bb0-4c0c-8d65-5c3dae426e3a",
       "rows": [
        [
         "0",
         "2023-01-01 00:00:00",
         "2023-01-31 00:00:00",
         "0.25300462249614797",
         "Month",
         "gen_credo_score",
         "1.1.0",
         "FPD30"
        ],
        [
         "1",
         "2023-01-02 00:00:00",
         "2023-01-08 00:00:00",
         "0.3421487603305784",
         "Week",
         "gen_credo_score",
         "1.1.0",
         "FPD30"
        ],
        [
         "2",
         "2023-01-09 00:00:00",
         "2023-01-15 00:00:00",
         "0.4071625344352616",
         "Week",
         "gen_credo_score",
         "1.1.0",
         "FPD30"
        ],
        [
         "3",
         "2023-01-16 00:00:00",
         "2023-01-22 00:00:00",
         "0.6675324675324676",
         "Week",
         "gen_credo_score",
         "1.1.0",
         "FPD30"
        ],
        [
         "4",
         "2023-01-23 00:00:00",
         "2023-01-29 00:00:00",
         "0.025547445255474477",
         "Week",
         "gen_credo_score",
         "1.1.0",
         "FPD30"
        ]
       ],
       "shape": {
        "columns": 7,
        "rows": 5
       }
      },
      "text/html": [
       "<div>\n",
       "<style scoped>\n",
       "    .dataframe tbody tr th:only-of-type {\n",
       "        vertical-align: middle;\n",
       "    }\n",
       "\n",
       "    .dataframe tbody tr th {\n",
       "        vertical-align: top;\n",
       "    }\n",
       "\n",
       "    .dataframe thead th {\n",
       "        text-align: right;\n",
       "    }\n",
       "</style>\n",
       "<table border=\"1\" class=\"dataframe\">\n",
       "  <thead>\n",
       "    <tr style=\"text-align: right;\">\n",
       "      <th></th>\n",
       "      <th>start_date</th>\n",
       "      <th>end_date</th>\n",
       "      <th>gen_credo_score_FPD30_gini</th>\n",
       "      <th>period</th>\n",
       "      <th>Model_Name</th>\n",
       "      <th>version</th>\n",
       "      <th>bad_rate</th>\n",
       "    </tr>\n",
       "  </thead>\n",
       "  <tbody>\n",
       "    <tr>\n",
       "      <th>0</th>\n",
       "      <td>2023-01-01</td>\n",
       "      <td>2023-01-31</td>\n",
       "      <td>0.253005</td>\n",
       "      <td>Month</td>\n",
       "      <td>gen_credo_score</td>\n",
       "      <td>1.1.0</td>\n",
       "      <td>FPD30</td>\n",
       "    </tr>\n",
       "    <tr>\n",
       "      <th>1</th>\n",
       "      <td>2023-01-02</td>\n",
       "      <td>2023-01-08</td>\n",
       "      <td>0.342149</td>\n",
       "      <td>Week</td>\n",
       "      <td>gen_credo_score</td>\n",
       "      <td>1.1.0</td>\n",
       "      <td>FPD30</td>\n",
       "    </tr>\n",
       "    <tr>\n",
       "      <th>2</th>\n",
       "      <td>2023-01-09</td>\n",
       "      <td>2023-01-15</td>\n",
       "      <td>0.407163</td>\n",
       "      <td>Week</td>\n",
       "      <td>gen_credo_score</td>\n",
       "      <td>1.1.0</td>\n",
       "      <td>FPD30</td>\n",
       "    </tr>\n",
       "    <tr>\n",
       "      <th>3</th>\n",
       "      <td>2023-01-16</td>\n",
       "      <td>2023-01-22</td>\n",
       "      <td>0.667532</td>\n",
       "      <td>Week</td>\n",
       "      <td>gen_credo_score</td>\n",
       "      <td>1.1.0</td>\n",
       "      <td>FPD30</td>\n",
       "    </tr>\n",
       "    <tr>\n",
       "      <th>4</th>\n",
       "      <td>2023-01-23</td>\n",
       "      <td>2023-01-29</td>\n",
       "      <td>0.025547</td>\n",
       "      <td>Week</td>\n",
       "      <td>gen_credo_score</td>\n",
       "      <td>1.1.0</td>\n",
       "      <td>FPD30</td>\n",
       "    </tr>\n",
       "  </tbody>\n",
       "</table>\n",
       "</div>"
      ],
      "text/plain": [
       "  start_date   end_date  gen_credo_score_FPD30_gini period       Model_Name  \\\n",
       "0 2023-01-01 2023-01-31                    0.253005  Month  gen_credo_score   \n",
       "1 2023-01-02 2023-01-08                    0.342149   Week  gen_credo_score   \n",
       "2 2023-01-09 2023-01-15                    0.407163   Week  gen_credo_score   \n",
       "3 2023-01-16 2023-01-22                    0.667532   Week  gen_credo_score   \n",
       "4 2023-01-23 2023-01-29                    0.025547   Week  gen_credo_score   \n",
       "\n",
       "  version bad_rate  \n",
       "0   1.1.0    FPD30  \n",
       "1   1.1.0    FPD30  \n",
       "2   1.1.0    FPD30  \n",
       "3   1.1.0    FPD30  \n",
       "4   1.1.0    FPD30  "
      ]
     },
     "execution_count": 120,
     "metadata": {},
     "output_type": "execute_result"
    }
   ],
   "source": [
    "M2FPD30.head()"
   ]
  },
  {
   "cell_type": "markdown",
   "metadata": {},
   "source": [
    "## FSPD30"
   ]
  },
  {
   "cell_type": "code",
   "execution_count": 121,
   "metadata": {},
   "outputs": [
    {
     "name": "stdout",
     "output_type": "stream",
     "text": [
      "Job ID d6259926-d684-494f-b5c6-cc847b4af659 successfully executed: 100%|\u001b[32m██████████\u001b[0m|"
     ]
    },
    {
     "name": "stderr",
     "output_type": "stream",
     "text": [
      "d:\\Anaconda3\\envs\\inc_env\\lib\\site-packages\\google\\cloud\\bigquery\\table.py:1820: UserWarning: BigQuery Storage module not found, fetch data with the REST endpoint instead.\n",
      "  warnings.warn(\n"
     ]
    },
    {
     "name": "stdout",
     "output_type": "stream",
     "text": [
      "\n",
      "Downloading: 100%|\u001b[32m██████████\u001b[0m|\n",
      "     disbursementdate                  digitalLoanAccountId  gen_credo_score  \\\n",
      "0 2024-09-01 15:18:37  1a2cb6f2-e66f-444a-ba22-a05cb5652ef2         0.113903   \n",
      "1 2024-05-02 17:24:11  9b118965-74ea-4832-a640-8b5ea2cc140e         0.097561   \n",
      "\n",
      "   ln_fspd30_flag  ln_mature_fspd30_flag  \n",
      "0               0                      1  \n",
      "1               0                      1  \n",
      "The shape of dataframe after copy is:\t(126, 7)\n",
      "['start_date' 'end_date' 'gen_credo_score_FSPD30_gini' 'period'\n",
      " 'Model_Name' 'version' 'bad_rate']\n"
     ]
    },
    {
     "data": {
      "application/vnd.microsoft.datawrangler.viewer.v0+json": {
       "columns": [
        {
         "name": "index",
         "rawType": "int64",
         "type": "integer"
        },
        {
         "name": "start_date",
         "rawType": "datetime64[ns]",
         "type": "datetime"
        },
        {
         "name": "end_date",
         "rawType": "datetime64[ns]",
         "type": "datetime"
        },
        {
         "name": "gen_credo_score_FSPD30_gini",
         "rawType": "float64",
         "type": "float"
        },
        {
         "name": "period",
         "rawType": "object",
         "type": "string"
        },
        {
         "name": "Model_Name",
         "rawType": "object",
         "type": "string"
        },
        {
         "name": "version",
         "rawType": "object",
         "type": "string"
        },
        {
         "name": "bad_rate",
         "rawType": "object",
         "type": "string"
        }
       ],
       "conversionMethod": "pd.DataFrame",
       "ref": "39fcc407-177e-4065-a646-807618dc825d",
       "rows": [
        [
         "0",
         "2023-01-01 00:00:00",
         "2023-01-31 00:00:00",
         "0.17205509242479167",
         "Month",
         "gen_credo_score",
         "1.1.0",
         "FSPD30"
        ],
        [
         "1",
         "2023-01-02 00:00:00",
         "2023-01-08 00:00:00",
         "0.26280323450134757",
         "Week",
         "gen_credo_score",
         "1.1.0",
         "FSPD30"
        ],
        [
         "2",
         "2023-01-09 00:00:00",
         "2023-01-15 00:00:00",
         "0.18974358974358974",
         "Week",
         "gen_credo_score",
         "1.1.0",
         "FSPD30"
        ],
        [
         "3",
         "2023-01-16 00:00:00",
         "2023-01-22 00:00:00",
         "0.4107382550335572",
         "Week",
         "gen_credo_score",
         "1.1.0",
         "FSPD30"
        ],
        [
         "4",
         "2023-01-23 00:00:00",
         "2023-01-29 00:00:00",
         "0.0735785953177257",
         "Week",
         "gen_credo_score",
         "1.1.0",
         "FSPD30"
        ]
       ],
       "shape": {
        "columns": 7,
        "rows": 5
       }
      },
      "text/html": [
       "<div>\n",
       "<style scoped>\n",
       "    .dataframe tbody tr th:only-of-type {\n",
       "        vertical-align: middle;\n",
       "    }\n",
       "\n",
       "    .dataframe tbody tr th {\n",
       "        vertical-align: top;\n",
       "    }\n",
       "\n",
       "    .dataframe thead th {\n",
       "        text-align: right;\n",
       "    }\n",
       "</style>\n",
       "<table border=\"1\" class=\"dataframe\">\n",
       "  <thead>\n",
       "    <tr style=\"text-align: right;\">\n",
       "      <th></th>\n",
       "      <th>start_date</th>\n",
       "      <th>end_date</th>\n",
       "      <th>gen_credo_score_FSPD30_gini</th>\n",
       "      <th>period</th>\n",
       "      <th>Model_Name</th>\n",
       "      <th>version</th>\n",
       "      <th>bad_rate</th>\n",
       "    </tr>\n",
       "  </thead>\n",
       "  <tbody>\n",
       "    <tr>\n",
       "      <th>0</th>\n",
       "      <td>2023-01-01</td>\n",
       "      <td>2023-01-31</td>\n",
       "      <td>0.172055</td>\n",
       "      <td>Month</td>\n",
       "      <td>gen_credo_score</td>\n",
       "      <td>1.1.0</td>\n",
       "      <td>FSPD30</td>\n",
       "    </tr>\n",
       "    <tr>\n",
       "      <th>1</th>\n",
       "      <td>2023-01-02</td>\n",
       "      <td>2023-01-08</td>\n",
       "      <td>0.262803</td>\n",
       "      <td>Week</td>\n",
       "      <td>gen_credo_score</td>\n",
       "      <td>1.1.0</td>\n",
       "      <td>FSPD30</td>\n",
       "    </tr>\n",
       "    <tr>\n",
       "      <th>2</th>\n",
       "      <td>2023-01-09</td>\n",
       "      <td>2023-01-15</td>\n",
       "      <td>0.189744</td>\n",
       "      <td>Week</td>\n",
       "      <td>gen_credo_score</td>\n",
       "      <td>1.1.0</td>\n",
       "      <td>FSPD30</td>\n",
       "    </tr>\n",
       "    <tr>\n",
       "      <th>3</th>\n",
       "      <td>2023-01-16</td>\n",
       "      <td>2023-01-22</td>\n",
       "      <td>0.410738</td>\n",
       "      <td>Week</td>\n",
       "      <td>gen_credo_score</td>\n",
       "      <td>1.1.0</td>\n",
       "      <td>FSPD30</td>\n",
       "    </tr>\n",
       "    <tr>\n",
       "      <th>4</th>\n",
       "      <td>2023-01-23</td>\n",
       "      <td>2023-01-29</td>\n",
       "      <td>0.073579</td>\n",
       "      <td>Week</td>\n",
       "      <td>gen_credo_score</td>\n",
       "      <td>1.1.0</td>\n",
       "      <td>FSPD30</td>\n",
       "    </tr>\n",
       "  </tbody>\n",
       "</table>\n",
       "</div>"
      ],
      "text/plain": [
       "  start_date   end_date  gen_credo_score_FSPD30_gini period       Model_Name  \\\n",
       "0 2023-01-01 2023-01-31                     0.172055  Month  gen_credo_score   \n",
       "1 2023-01-02 2023-01-08                     0.262803   Week  gen_credo_score   \n",
       "2 2023-01-09 2023-01-15                     0.189744   Week  gen_credo_score   \n",
       "3 2023-01-16 2023-01-22                     0.410738   Week  gen_credo_score   \n",
       "4 2023-01-23 2023-01-29                     0.073579   Week  gen_credo_score   \n",
       "\n",
       "  version bad_rate  \n",
       "0   1.1.0   FSPD30  \n",
       "1   1.1.0   FSPD30  \n",
       "2   1.1.0   FSPD30  \n",
       "3   1.1.0   FSPD30  \n",
       "4   1.1.0   FSPD30  "
      ]
     },
     "execution_count": 121,
     "metadata": {},
     "output_type": "execute_result"
    }
   ],
   "source": [
    "sq = \"\"\"\n",
    "with gen_credo_score as \n",
    "(SELECT \n",
    "    ln_disb_dtime disbursementdate,\n",
    "\tdigitalLoanAccountId,\n",
    "    credo_gen_score gen_credo_score,\n",
    "    ln_fspd30_flag,\n",
    "\tln_mature_fspd30_flag,\t\n",
    "\tFROM \n",
    "    risk_mart.sil_risk_ds_master_20230101_20250309\n",
    "  WHERE \n",
    "     -- ln_disb_dtime >= '2023-07-01'\n",
    "    ln_appln_submit_datetime >= '2023-01-01'\n",
    "  -- AND\n",
    "  --   format_date('%Y-%m', ln_disb_dtime) = '2024-09'\n",
    "  AND\n",
    "    ln_fspd30_flag is not null\n",
    "  AND\n",
    "    credo_gen_score is not null\n",
    "  AND\n",
    "    ln_mature_fspd30_flag = 1\n",
    ")\n",
    "select * from gen_credo_score;\n",
    "\"\"\"\n",
    "\n",
    "gen_credo_scorefspd30 = client.query(sq).to_dataframe(progress_bar_type='tqdm')\n",
    "\n",
    "print(gen_credo_scorefspd30.head(2))\n",
    "\n",
    "gini_results = calculate_periodic_gini(gen_credo_scorefspd30, 'gen_credo_score', 'ln_fspd30_flag', 'FSPD30')\n",
    "M3FSPD30 = gini_results.copy()\n",
    "print(f\"The shape of dataframe after copy is:\\t{M3FSPD30.shape}\")\n",
    "print(M3FSPD30.columns.values)\n",
    "\n",
    "M3FSPD30.head()"
   ]
  },
  {
   "cell_type": "markdown",
   "metadata": {},
   "source": [
    "## FSTPD30"
   ]
  },
  {
   "cell_type": "code",
   "execution_count": 122,
   "metadata": {},
   "outputs": [
    {
     "name": "stdout",
     "output_type": "stream",
     "text": [
      "Job ID 219acb2e-afe7-48cb-8dab-b995a000f6c3 successfully executed: 100%|\u001b[32m██████████\u001b[0m|"
     ]
    },
    {
     "name": "stderr",
     "output_type": "stream",
     "text": [
      "d:\\Anaconda3\\envs\\inc_env\\lib\\site-packages\\google\\cloud\\bigquery\\table.py:1820: UserWarning: BigQuery Storage module not found, fetch data with the REST endpoint instead.\n",
      "  warnings.warn(\n"
     ]
    },
    {
     "name": "stdout",
     "output_type": "stream",
     "text": [
      "\n",
      "Downloading: 100%|\u001b[32m██████████\u001b[0m|\n",
      "     disbursementdate                  digitalLoanAccountId  gen_credo_score  \\\n",
      "0 2024-09-01 15:18:37  1a2cb6f2-e66f-444a-ba22-a05cb5652ef2         0.113903   \n",
      "1 2024-05-02 17:24:11  9b118965-74ea-4832-a640-8b5ea2cc140e         0.097561   \n",
      "\n",
      "   ln_fstpd30_flag  ln_mature_fstpd30_flag  \n",
      "0                0                       1  \n",
      "1                0                       1  \n",
      "The shape of dataframe after copy is:\t(120, 7)\n",
      "['start_date' 'end_date' 'gen_credo_score_FSTPD30_gini' 'period'\n",
      " 'Model_Name' 'version' 'bad_rate']\n"
     ]
    },
    {
     "data": {
      "application/vnd.microsoft.datawrangler.viewer.v0+json": {
       "columns": [
        {
         "name": "index",
         "rawType": "int64",
         "type": "integer"
        },
        {
         "name": "start_date",
         "rawType": "datetime64[ns]",
         "type": "datetime"
        },
        {
         "name": "end_date",
         "rawType": "datetime64[ns]",
         "type": "datetime"
        },
        {
         "name": "gen_credo_score_FSTPD30_gini",
         "rawType": "float64",
         "type": "float"
        },
        {
         "name": "period",
         "rawType": "object",
         "type": "string"
        },
        {
         "name": "Model_Name",
         "rawType": "object",
         "type": "string"
        },
        {
         "name": "version",
         "rawType": "object",
         "type": "string"
        },
        {
         "name": "bad_rate",
         "rawType": "object",
         "type": "string"
        }
       ],
       "conversionMethod": "pd.DataFrame",
       "ref": "a14e6570-a6cb-4bb2-9e52-f1314f184f4b",
       "rows": [
        [
         "0",
         "2023-01-01 00:00:00",
         "2023-01-31 00:00:00",
         "0.180836847419374",
         "Month",
         "gen_credo_score",
         "1.1.0",
         "FSTPD30"
        ],
        [
         "1",
         "2023-01-02 00:00:00",
         "2023-01-08 00:00:00",
         "0.28295946477764655",
         "Week",
         "gen_credo_score",
         "1.1.0",
         "FSTPD30"
        ],
        [
         "2",
         "2023-01-09 00:00:00",
         "2023-01-15 00:00:00",
         "0.18990802883420344",
         "Week",
         "gen_credo_score",
         "1.1.0",
         "FSTPD30"
        ],
        [
         "3",
         "2023-01-16 00:00:00",
         "2023-01-22 00:00:00",
         "0.19884009942004988",
         "Week",
         "gen_credo_score",
         "1.1.0",
         "FSTPD30"
        ],
        [
         "4",
         "2023-01-23 00:00:00",
         "2023-01-29 00:00:00",
         "0.16284538506760726",
         "Week",
         "gen_credo_score",
         "1.1.0",
         "FSTPD30"
        ]
       ],
       "shape": {
        "columns": 7,
        "rows": 5
       }
      },
      "text/html": [
       "<div>\n",
       "<style scoped>\n",
       "    .dataframe tbody tr th:only-of-type {\n",
       "        vertical-align: middle;\n",
       "    }\n",
       "\n",
       "    .dataframe tbody tr th {\n",
       "        vertical-align: top;\n",
       "    }\n",
       "\n",
       "    .dataframe thead th {\n",
       "        text-align: right;\n",
       "    }\n",
       "</style>\n",
       "<table border=\"1\" class=\"dataframe\">\n",
       "  <thead>\n",
       "    <tr style=\"text-align: right;\">\n",
       "      <th></th>\n",
       "      <th>start_date</th>\n",
       "      <th>end_date</th>\n",
       "      <th>gen_credo_score_FSTPD30_gini</th>\n",
       "      <th>period</th>\n",
       "      <th>Model_Name</th>\n",
       "      <th>version</th>\n",
       "      <th>bad_rate</th>\n",
       "    </tr>\n",
       "  </thead>\n",
       "  <tbody>\n",
       "    <tr>\n",
       "      <th>0</th>\n",
       "      <td>2023-01-01</td>\n",
       "      <td>2023-01-31</td>\n",
       "      <td>0.180837</td>\n",
       "      <td>Month</td>\n",
       "      <td>gen_credo_score</td>\n",
       "      <td>1.1.0</td>\n",
       "      <td>FSTPD30</td>\n",
       "    </tr>\n",
       "    <tr>\n",
       "      <th>1</th>\n",
       "      <td>2023-01-02</td>\n",
       "      <td>2023-01-08</td>\n",
       "      <td>0.282959</td>\n",
       "      <td>Week</td>\n",
       "      <td>gen_credo_score</td>\n",
       "      <td>1.1.0</td>\n",
       "      <td>FSTPD30</td>\n",
       "    </tr>\n",
       "    <tr>\n",
       "      <th>2</th>\n",
       "      <td>2023-01-09</td>\n",
       "      <td>2023-01-15</td>\n",
       "      <td>0.189908</td>\n",
       "      <td>Week</td>\n",
       "      <td>gen_credo_score</td>\n",
       "      <td>1.1.0</td>\n",
       "      <td>FSTPD30</td>\n",
       "    </tr>\n",
       "    <tr>\n",
       "      <th>3</th>\n",
       "      <td>2023-01-16</td>\n",
       "      <td>2023-01-22</td>\n",
       "      <td>0.198840</td>\n",
       "      <td>Week</td>\n",
       "      <td>gen_credo_score</td>\n",
       "      <td>1.1.0</td>\n",
       "      <td>FSTPD30</td>\n",
       "    </tr>\n",
       "    <tr>\n",
       "      <th>4</th>\n",
       "      <td>2023-01-23</td>\n",
       "      <td>2023-01-29</td>\n",
       "      <td>0.162845</td>\n",
       "      <td>Week</td>\n",
       "      <td>gen_credo_score</td>\n",
       "      <td>1.1.0</td>\n",
       "      <td>FSTPD30</td>\n",
       "    </tr>\n",
       "  </tbody>\n",
       "</table>\n",
       "</div>"
      ],
      "text/plain": [
       "  start_date   end_date  gen_credo_score_FSTPD30_gini period       Model_Name  \\\n",
       "0 2023-01-01 2023-01-31                      0.180837  Month  gen_credo_score   \n",
       "1 2023-01-02 2023-01-08                      0.282959   Week  gen_credo_score   \n",
       "2 2023-01-09 2023-01-15                      0.189908   Week  gen_credo_score   \n",
       "3 2023-01-16 2023-01-22                      0.198840   Week  gen_credo_score   \n",
       "4 2023-01-23 2023-01-29                      0.162845   Week  gen_credo_score   \n",
       "\n",
       "  version bad_rate  \n",
       "0   1.1.0  FSTPD30  \n",
       "1   1.1.0  FSTPD30  \n",
       "2   1.1.0  FSTPD30  \n",
       "3   1.1.0  FSTPD30  \n",
       "4   1.1.0  FSTPD30  "
      ]
     },
     "execution_count": 122,
     "metadata": {},
     "output_type": "execute_result"
    }
   ],
   "source": [
    "sq = \"\"\"\n",
    "with gen_credo_score as \n",
    "(SELECT \n",
    "    ln_disb_dtime disbursementdate,\n",
    "\tdigitalLoanAccountId,\n",
    "    credo_gen_score gen_credo_score,\n",
    "    ln_fstpd30_flag,\n",
    "\tln_mature_fstpd30_flag,\t\n",
    "\tFROM \n",
    "    risk_mart.sil_risk_ds_master_20230101_20250309\n",
    "  WHERE \n",
    "     -- ln_disb_dtime >= '2023-07-01'\n",
    "    ln_appln_submit_datetime >= '2023-01-01'\n",
    "  -- AND\n",
    "  --   format_date('%Y-%m', ln_disb_dtime) = '2024-09'\n",
    "  AND\n",
    "    ln_fstpd30_flag is not null\n",
    "  AND\n",
    "    credo_gen_score is not null\n",
    "  AND\n",
    "    ln_mature_fstpd30_flag = 1\n",
    ")\n",
    "select * from gen_credo_score;\n",
    "\"\"\"\n",
    "\n",
    "gen_credo_scorefstpd30 = client.query(sq).to_dataframe(progress_bar_type='tqdm')\n",
    "\n",
    "print(gen_credo_scorefstpd30.head(2))\n",
    "\n",
    "gini_results = calculate_periodic_gini(gen_credo_scorefstpd30, 'gen_credo_score', 'ln_fstpd30_flag', 'FSTPD30')\n",
    "M4FSTPD30 = gini_results.copy()\n",
    "print(f\"The shape of dataframe after copy is:\\t{M4FSTPD30.shape}\")\n",
    "print(M4FSTPD30.columns.values)\n",
    "\n",
    "M4FSTPD30.head()"
   ]
  },
  {
   "cell_type": "markdown",
   "metadata": {},
   "source": [
    "## Combining tables "
   ]
  },
  {
   "cell_type": "code",
   "execution_count": 123,
   "metadata": {},
   "outputs": [
    {
     "data": {
      "text/plain": [
       "array(['start_date', 'end_date', 'gen_credo_score_FPD10_gini', 'period',\n",
       "       'Model_Name', 'version', 'bad_rate', 'gen_credo_score_FPD30_gini',\n",
       "       'gen_credo_score_FSPD30_gini', 'gen_credo_score_FSTPD30_gini'],\n",
       "      dtype=object)"
      ]
     },
     "execution_count": 123,
     "metadata": {},
     "output_type": "execute_result"
    }
   ],
   "source": [
    "import functools\n",
    "\n",
    "dataframes = [M1FPD10, M2FPD30, M3FSPD30, M4FSTPD30]\n",
    "common_columns = ['start_date', 'end_date', 'period', 'Model_Name','version', 'bad_rate']\n",
    "\n",
    "def merge_dataframes(df1, df2):\n",
    "    return pd.merge(df1, df2, on=common_columns, how='outer')\n",
    "\n",
    "final_df = functools.reduce(merge_dataframes, dataframes)\n",
    "\n",
    "final_df.columns.values"
   ]
  },
  {
   "cell_type": "code",
   "execution_count": 124,
   "metadata": {},
   "outputs": [],
   "source": [
    "final_df = final_df[['start_date', 'end_date','period',\n",
    "       'Model_Name', 'version', 'bad_rate', 'gen_credo_score_FPD10_gini','gen_credo_score_FPD30_gini',   'gen_credo_score_FSPD30_gini', 'gen_credo_score_FSTPD30_gini']].copy()"
   ]
  },
  {
   "cell_type": "code",
   "execution_count": 125,
   "metadata": {},
   "outputs": [
    {
     "data": {
      "text/plain": [
       "QueryJob<project=prj-prod-dataplatform, location=asia-southeast1, id=a0b3124d-0bfa-47e1-927b-7728b02ff075>"
      ]
     },
     "execution_count": 125,
     "metadata": {},
     "output_type": "execute_result"
    }
   ],
   "source": [
    "sq = \"\"\"drop table if exists prj-prod-dataplatform.dap_ds_poweruser_playground.Model_gini_gen_credo_score;\"\"\"\n",
    "\n",
    "client.query(sq)"
   ]
  },
  {
   "cell_type": "code",
   "execution_count": 126,
   "metadata": {},
   "outputs": [
    {
     "data": {
      "text/plain": [
       "LoadJob<project=prj-prod-dataplatform, location=asia-southeast1, id=0059e4d9-4127-440c-98e0-f166c1d0144e>"
      ]
     },
     "execution_count": 126,
     "metadata": {},
     "output_type": "execute_result"
    }
   ],
   "source": [
    "import pandas as pd\n",
    "from google.cloud import bigquery\n",
    "\n",
    "# Create a BigQuery client\n",
    "client = bigquery.Client('prj-prod-dataplatform')\n",
    "\n",
    "# Define your table schema\n",
    "table_schema = [\n",
    "    bigquery.SchemaField('start_date', 'TIMESTAMP'),\n",
    "    bigquery.SchemaField('end_date', 'TIMESTAMP'),\n",
    "    bigquery.SchemaField('period', 'STRING'),\n",
    "    bigquery.SchemaField('Model_Name', 'STRING'),\n",
    "    bigquery.SchemaField('version', 'STRING'),\n",
    "    bigquery.SchemaField('Badrate', 'STRING'),\n",
    "    bigquery.SchemaField('gen_credo_score_FPD10_gini', 'FLOAT'),\n",
    "    bigquery.SchemaField('gen_credo_score_FPD30_gini', 'FLOAT'),    \n",
    "    bigquery.SchemaField('gen_credo_score_FSPD30_gini', 'FLOAT'),\n",
    "    bigquery.SchemaField('gen_credo_score_FSTPD30_gini', 'FLOAT')\n",
    "    \n",
    "]\n",
    "\n",
    "# Create your BigQuery table\n",
    "table_id = 'prj-prod-dataplatform.dap_ds_poweruser_playground.Model_gini_gen_credo_score'\n",
    "table = bigquery.Table(table_id, schema=table_schema)\n",
    "table = client.create_table(table)\n",
    "\n",
    "# Load your DataFrame into BigQuery\n",
    "job_config = bigquery.LoadJobConfig(\n",
    "    write_disposition='WRITE_TRUNCATE'\n",
    ")\n",
    "\n",
    "load_job = client.load_table_from_dataframe(\n",
    "    final_df, table_id, job_config=job_config\n",
    ")\n",
    "\n",
    "load_job.result()"
   ]
  },
  {
   "cell_type": "markdown",
   "metadata": {},
   "source": [
    "# c_credo_score"
   ]
  },
  {
   "cell_type": "code",
   "execution_count": 128,
   "metadata": {},
   "outputs": [
    {
     "name": "stdout",
     "output_type": "stream",
     "text": [
      "\n",
      "\u001b[A\n",
      "\u001b[A\n",
      "\u001b[A\n",
      "Job ID 91a487c1-c4fa-4990-bef4-b2323bba0b59 successfully executed: 100%|\u001b[32m██████████\u001b[0m|"
     ]
    },
    {
     "name": "stderr",
     "output_type": "stream",
     "text": [
      "d:\\Anaconda3\\envs\\inc_env\\lib\\site-packages\\google\\cloud\\bigquery\\table.py:1820: UserWarning: BigQuery Storage module not found, fetch data with the REST endpoint instead.\n",
      "  warnings.warn(\n"
     ]
    },
    {
     "name": "stdout",
     "output_type": "stream",
     "text": [
      "\n",
      "\n",
      "Query is running:   0%|\u001b[32m          \u001b[0m|\n",
      "\n",
      "\u001b[A\n",
      "\u001b[A\n",
      "Downloading: 100%|\u001b[32m██████████\u001b[0m|\n",
      "The shape of dataframe after copy is:\t(134, 7)\n",
      "Job ID 6ad7ecd6-af2c-4261-b2d7-e087573d08af successfully executed: 100%|\u001b[32m██████████\u001b[0m|"
     ]
    },
    {
     "name": "stderr",
     "output_type": "stream",
     "text": [
      "d:\\Anaconda3\\envs\\inc_env\\lib\\site-packages\\google\\cloud\\bigquery\\table.py:1820: UserWarning: BigQuery Storage module not found, fetch data with the REST endpoint instead.\n",
      "  warnings.warn(\n"
     ]
    },
    {
     "name": "stdout",
     "output_type": "stream",
     "text": [
      "\n",
      "Downloading: 100%|\u001b[32m██████████\u001b[0m|\n",
      "The shape of dataframe after copy is:\t(131, 7)\n",
      "Job ID 1d5b7832-d031-4339-9447-b8496b7109a4 successfully executed: 100%|\u001b[32m██████████\u001b[0m|"
     ]
    },
    {
     "name": "stderr",
     "output_type": "stream",
     "text": [
      "d:\\Anaconda3\\envs\\inc_env\\lib\\site-packages\\google\\cloud\\bigquery\\table.py:1820: UserWarning: BigQuery Storage module not found, fetch data with the REST endpoint instead.\n",
      "  warnings.warn(\n"
     ]
    },
    {
     "name": "stdout",
     "output_type": "stream",
     "text": [
      "\n",
      "Downloading: 100%|\u001b[32m██████████\u001b[0m|\n",
      "     disbursementdate                  digitalLoanAccountId  c_credo_score  \\\n",
      "0 2024-09-01 15:18:37  1a2cb6f2-e66f-444a-ba22-a05cb5652ef2       0.130117   \n",
      "1 2024-05-02 17:24:11  9b118965-74ea-4832-a640-8b5ea2cc140e       0.075873   \n",
      "\n",
      "   ln_fspd30_flag  ln_mature_fspd30_flag  \n",
      "0               0                      1  \n",
      "1               0                      1  \n",
      "The shape of dataframe after copy is:\t(126, 7)\n",
      "['start_date' 'end_date' 'c_credo_score_FSPD30_gini' 'period' 'Model_Name'\n",
      " 'version' 'bad_rate']\n",
      "Job ID 74de92d9-a527-4d94-b0e7-5d9598e21414 successfully executed: 100%|\u001b[32m██████████\u001b[0m|"
     ]
    },
    {
     "name": "stderr",
     "output_type": "stream",
     "text": [
      "d:\\Anaconda3\\envs\\inc_env\\lib\\site-packages\\google\\cloud\\bigquery\\table.py:1820: UserWarning: BigQuery Storage module not found, fetch data with the REST endpoint instead.\n",
      "  warnings.warn(\n"
     ]
    },
    {
     "name": "stdout",
     "output_type": "stream",
     "text": [
      "\n",
      "Downloading: 100%|\u001b[32m██████████\u001b[0m|\n",
      "     disbursementdate                  digitalLoanAccountId  c_credo_score  \\\n",
      "0 2024-09-01 15:18:37  1a2cb6f2-e66f-444a-ba22-a05cb5652ef2       0.130117   \n",
      "1 2024-05-02 17:24:11  9b118965-74ea-4832-a640-8b5ea2cc140e       0.075873   \n",
      "\n",
      "   ln_fstpd30_flag  ln_mature_fstpd30_flag  \n",
      "0                0                       1  \n",
      "1                0                       1  \n",
      "The shape of dataframe after copy is:\t(120, 7)\n",
      "['start_date' 'end_date' 'c_credo_score_FSTPD30_gini' 'period'\n",
      " 'Model_Name' 'version' 'bad_rate']\n"
     ]
    },
    {
     "data": {
      "application/vnd.microsoft.datawrangler.viewer.v0+json": {
       "columns": [
        {
         "name": "index",
         "rawType": "int64",
         "type": "integer"
        },
        {
         "name": "start_date",
         "rawType": "datetime64[ns]",
         "type": "datetime"
        },
        {
         "name": "end_date",
         "rawType": "datetime64[ns]",
         "type": "datetime"
        },
        {
         "name": "c_credo_score_FSTPD30_gini",
         "rawType": "float64",
         "type": "float"
        },
        {
         "name": "period",
         "rawType": "object",
         "type": "string"
        },
        {
         "name": "Model_Name",
         "rawType": "object",
         "type": "string"
        },
        {
         "name": "version",
         "rawType": "object",
         "type": "string"
        },
        {
         "name": "bad_rate",
         "rawType": "object",
         "type": "string"
        }
       ],
       "conversionMethod": "pd.DataFrame",
       "ref": "af87127a-7ed1-40d4-bb6f-7c794ffd80ff",
       "rows": [
        [
         "0",
         "2023-01-01 00:00:00",
         "2023-01-31 00:00:00",
         "0.03594761537090929",
         "Month",
         "c_credo_score",
         "1.1.0",
         "FSTPD30"
        ],
        [
         "1",
         "2023-01-02 00:00:00",
         "2023-01-08 00:00:00",
         "0.03600944510035431",
         "Week",
         "c_credo_score",
         "1.1.0",
         "FSTPD30"
        ],
        [
         "2",
         "2023-01-09 00:00:00",
         "2023-01-15 00:00:00",
         "0.062142679592343875",
         "Week",
         "c_credo_score",
         "1.1.0",
         "FSTPD30"
        ],
        [
         "3",
         "2023-01-16 00:00:00",
         "2023-01-22 00:00:00",
         "0.275890637945319",
         "Week",
         "c_credo_score",
         "1.1.0",
         "FSTPD30"
        ],
        [
         "4",
         "2023-01-23 00:00:00",
         "2023-01-29 00:00:00",
         "-0.05055849500293941",
         "Week",
         "c_credo_score",
         "1.1.0",
         "FSTPD30"
        ]
       ],
       "shape": {
        "columns": 7,
        "rows": 5
       }
      },
      "text/html": [
       "<div>\n",
       "<style scoped>\n",
       "    .dataframe tbody tr th:only-of-type {\n",
       "        vertical-align: middle;\n",
       "    }\n",
       "\n",
       "    .dataframe tbody tr th {\n",
       "        vertical-align: top;\n",
       "    }\n",
       "\n",
       "    .dataframe thead th {\n",
       "        text-align: right;\n",
       "    }\n",
       "</style>\n",
       "<table border=\"1\" class=\"dataframe\">\n",
       "  <thead>\n",
       "    <tr style=\"text-align: right;\">\n",
       "      <th></th>\n",
       "      <th>start_date</th>\n",
       "      <th>end_date</th>\n",
       "      <th>c_credo_score_FSTPD30_gini</th>\n",
       "      <th>period</th>\n",
       "      <th>Model_Name</th>\n",
       "      <th>version</th>\n",
       "      <th>bad_rate</th>\n",
       "    </tr>\n",
       "  </thead>\n",
       "  <tbody>\n",
       "    <tr>\n",
       "      <th>0</th>\n",
       "      <td>2023-01-01</td>\n",
       "      <td>2023-01-31</td>\n",
       "      <td>0.035948</td>\n",
       "      <td>Month</td>\n",
       "      <td>c_credo_score</td>\n",
       "      <td>1.1.0</td>\n",
       "      <td>FSTPD30</td>\n",
       "    </tr>\n",
       "    <tr>\n",
       "      <th>1</th>\n",
       "      <td>2023-01-02</td>\n",
       "      <td>2023-01-08</td>\n",
       "      <td>0.036009</td>\n",
       "      <td>Week</td>\n",
       "      <td>c_credo_score</td>\n",
       "      <td>1.1.0</td>\n",
       "      <td>FSTPD30</td>\n",
       "    </tr>\n",
       "    <tr>\n",
       "      <th>2</th>\n",
       "      <td>2023-01-09</td>\n",
       "      <td>2023-01-15</td>\n",
       "      <td>0.062143</td>\n",
       "      <td>Week</td>\n",
       "      <td>c_credo_score</td>\n",
       "      <td>1.1.0</td>\n",
       "      <td>FSTPD30</td>\n",
       "    </tr>\n",
       "    <tr>\n",
       "      <th>3</th>\n",
       "      <td>2023-01-16</td>\n",
       "      <td>2023-01-22</td>\n",
       "      <td>0.275891</td>\n",
       "      <td>Week</td>\n",
       "      <td>c_credo_score</td>\n",
       "      <td>1.1.0</td>\n",
       "      <td>FSTPD30</td>\n",
       "    </tr>\n",
       "    <tr>\n",
       "      <th>4</th>\n",
       "      <td>2023-01-23</td>\n",
       "      <td>2023-01-29</td>\n",
       "      <td>-0.050558</td>\n",
       "      <td>Week</td>\n",
       "      <td>c_credo_score</td>\n",
       "      <td>1.1.0</td>\n",
       "      <td>FSTPD30</td>\n",
       "    </tr>\n",
       "  </tbody>\n",
       "</table>\n",
       "</div>"
      ],
      "text/plain": [
       "  start_date   end_date  c_credo_score_FSTPD30_gini period     Model_Name  \\\n",
       "0 2023-01-01 2023-01-31                    0.035948  Month  c_credo_score   \n",
       "1 2023-01-02 2023-01-08                    0.036009   Week  c_credo_score   \n",
       "2 2023-01-09 2023-01-15                    0.062143   Week  c_credo_score   \n",
       "3 2023-01-16 2023-01-22                    0.275891   Week  c_credo_score   \n",
       "4 2023-01-23 2023-01-29                   -0.050558   Week  c_credo_score   \n",
       "\n",
       "  version bad_rate  \n",
       "0   1.1.0  FSTPD30  \n",
       "1   1.1.0  FSTPD30  \n",
       "2   1.1.0  FSTPD30  \n",
       "3   1.1.0  FSTPD30  \n",
       "4   1.1.0  FSTPD30  "
      ]
     },
     "execution_count": 128,
     "metadata": {},
     "output_type": "execute_result"
    }
   ],
   "source": [
    "sq = \"\"\"\n",
    "with c_credo_score as \n",
    "(SELECT \n",
    "    ln_disb_dtime disbursementdate,\n",
    "\tdigitalLoanAccountId,\n",
    "    credo_cash_score c_credo_score,\n",
    "    ln_fpd10_flag,\n",
    "\tln_mature_fpd10_flag,\t\n",
    "\tFROM \n",
    "    risk_mart.sil_risk_ds_master_20230101_20250309\n",
    "  WHERE \n",
    "     -- ln_disb_dtime >= '2023-07-01'\n",
    "    ln_appln_submit_datetime >= '2023-01-01'\n",
    "  -- AND\n",
    "  --   format_date('%Y-%m', ln_disb_dtime) = '2024-09'\n",
    "  AND\n",
    "    ln_fpd10_flag is not null\n",
    "  AND\n",
    "    credo_cash_score is not null\n",
    "  AND\n",
    "    ln_mature_fpd10_flag = 1\n",
    ")\n",
    "select * from c_credo_score;\n",
    "\"\"\"\n",
    "\n",
    "c_credo_scorefpd10 = client.query(sq).to_dataframe(progress_bar_type='tqdm')\n",
    "\n",
    "c_credo_scorefpd10.head()\n",
    "\n",
    "gini_results = calculate_periodic_gini(c_credo_scorefpd10, 'c_credo_score', 'ln_fpd10_flag', 'FPD10')\n",
    "M1FPD10 = gini_results.copy()\n",
    "print(f\"The shape of dataframe after copy is:\\t{M1FPD10.shape}\")\n",
    "M1FPD10.columns.values\n",
    "\n",
    "# FPD30\n",
    "\n",
    "sq = \"\"\"\n",
    "with c_credo_score as \n",
    "(SELECT \n",
    "    ln_disb_dtime disbursementdate,\n",
    "\tdigitalLoanAccountId,\n",
    "    credo_cash_score c_credo_score,\n",
    "    ln_fpd30_flag,\n",
    "\tln_mature_fpd30_flag,\t\n",
    "\tFROM \n",
    "    risk_mart.sil_risk_ds_master_20230101_20250309\n",
    "  WHERE \n",
    "     -- ln_disb_dtime >= '2023-07-01'\n",
    "    ln_appln_submit_datetime >= '2023-01-01'\n",
    "  -- AND\n",
    "  --   format_date('%Y-%m', ln_disb_dtime) = '2024-09'\n",
    "  AND\n",
    "    ln_fpd30_flag is not null\n",
    "  AND\n",
    "    credo_cash_score is not null\n",
    "  AND\n",
    "    ln_mature_fpd30_flag = 1\n",
    ")\n",
    "select * from c_credo_score;\n",
    "\"\"\"\n",
    "\n",
    "c_credo_scorefpd30 = client.query(sq).to_dataframe(progress_bar_type='tqdm')\n",
    "\n",
    "c_credo_scorefpd30.head()\n",
    "\n",
    "gini_results = calculate_periodic_gini(c_credo_scorefpd30, 'c_credo_score', 'ln_fpd30_flag', 'FPD30')\n",
    "M2FPD30 = gini_results.copy()\n",
    "print(f\"The shape of dataframe after copy is:\\t{M2FPD30.shape}\")\n",
    "M2FPD30.columns.values\n",
    "\n",
    "sq = \"\"\"\n",
    "with c_credo_score as \n",
    "(SELECT \n",
    "    ln_disb_dtime disbursementdate,\n",
    "\tdigitalLoanAccountId,\n",
    "    credo_cash_score c_credo_score,\n",
    "    ln_fspd30_flag,\n",
    "\tln_mature_fspd30_flag,\t\n",
    "\tFROM \n",
    "   risk_mart.sil_risk_ds_master_20230101_20250309\n",
    "  WHERE \n",
    "     -- ln_disb_dtime >= '2023-07-01'\n",
    "    ln_appln_submit_datetime >= '2023-01-01'\n",
    "  -- AND\n",
    "  --   format_date('%Y-%m', ln_disb_dtime) = '2024-09'\n",
    "  AND\n",
    "    ln_fspd30_flag is not null\n",
    "  AND\n",
    "    credo_cash_score  is not null\n",
    "  AND\n",
    "    ln_mature_fspd30_flag = 1\n",
    ")\n",
    "select * from c_credo_score;\n",
    "\"\"\"\n",
    "\n",
    "c_credo_scorefspd30 = client.query(sq).to_dataframe(progress_bar_type='tqdm')\n",
    "\n",
    "print(c_credo_scorefspd30.head(2))\n",
    "\n",
    "gini_results = calculate_periodic_gini(c_credo_scorefspd30, 'c_credo_score', 'ln_fspd30_flag', 'FSPD30')\n",
    "M3FSPD30 = gini_results.copy()\n",
    "print(f\"The shape of dataframe after copy is:\\t{M3FSPD30.shape}\")\n",
    "print(M3FSPD30.columns.values)\n",
    "\n",
    "M3FSPD30.head()\n",
    "\n",
    "sq = \"\"\"\n",
    "with c_credo_score as \n",
    "(SELECT \n",
    "    ln_disb_dtime disbursementdate,\n",
    "\tdigitalLoanAccountId,\n",
    "    credo_cash_score c_credo_score,\n",
    "    ln_fstpd30_flag,\n",
    "\tln_mature_fstpd30_flag,\t\n",
    "\tFROM \n",
    "    risk_mart.sil_risk_ds_master_20230101_20250309\n",
    "  WHERE \n",
    "     -- ln_disb_dtime >= '2023-07-01'\n",
    "    ln_appln_submit_datetime >= '2023-01-01'\n",
    "  -- AND\n",
    "  --   format_date('%Y-%m', ln_disb_dtime) = '2024-09'\n",
    "  AND\n",
    "    ln_fstpd30_flag is not null\n",
    "  AND\n",
    "    credo_cash_score  is not null\n",
    "  AND\n",
    "    ln_mature_fstpd30_flag = 1\n",
    ")\n",
    "select * from c_credo_score;\n",
    "\"\"\"\n",
    "\n",
    "c_credo_scorefstpd30 = client.query(sq).to_dataframe(progress_bar_type='tqdm')\n",
    "\n",
    "print(c_credo_scorefstpd30.head(2))\n",
    "\n",
    "gini_results = calculate_periodic_gini(c_credo_scorefstpd30, 'c_credo_score', 'ln_fstpd30_flag', 'FSTPD30')\n",
    "M4FSTPD30 = gini_results.copy()\n",
    "print(f\"The shape of dataframe after copy is:\\t{M4FSTPD30.shape}\")\n",
    "print(M4FSTPD30.columns.values)\n",
    "\n",
    "M4FSTPD30.head()\n",
    "\n"
   ]
  },
  {
   "cell_type": "code",
   "execution_count": 129,
   "metadata": {},
   "outputs": [
    {
     "data": {
      "text/plain": [
       "array(['start_date', 'end_date', 'c_credo_score_FPD10_gini', 'period',\n",
       "       'Model_Name', 'version', 'bad_rate', 'c_credo_score_FPD30_gini',\n",
       "       'c_credo_score_FSPD30_gini', 'c_credo_score_FSTPD30_gini'],\n",
       "      dtype=object)"
      ]
     },
     "execution_count": 129,
     "metadata": {},
     "output_type": "execute_result"
    }
   ],
   "source": [
    "import functools\n",
    "\n",
    "dataframes = [M1FPD10, M2FPD30, M3FSPD30, M4FSTPD30]\n",
    "common_columns = ['start_date', 'end_date', 'period', 'Model_Name','version', 'bad_rate']\n",
    "\n",
    "def merge_dataframes(df1, df2):\n",
    "    return pd.merge(df1, df2, on=common_columns, how='outer')\n",
    "\n",
    "final_df = functools.reduce(merge_dataframes, dataframes)\n",
    "\n",
    "final_df.columns.values"
   ]
  },
  {
   "cell_type": "code",
   "execution_count": 130,
   "metadata": {},
   "outputs": [],
   "source": [
    "final_df = final_df[['start_date', 'end_date','period',    'Model_Name', 'version', 'bad_rate','c_credo_score_FPD10_gini', 'c_credo_score_FPD30_gini',    'c_credo_score_FSPD30_gini', 'c_credo_score_FSTPD30_gini']].copy()"
   ]
  },
  {
   "cell_type": "code",
   "execution_count": 131,
   "metadata": {},
   "outputs": [
    {
     "data": {
      "text/plain": [
       "QueryJob<project=prj-prod-dataplatform, location=asia-southeast1, id=8474f475-e0fa-4b83-9a43-22af262c26f0>"
      ]
     },
     "execution_count": 131,
     "metadata": {},
     "output_type": "execute_result"
    }
   ],
   "source": [
    "sq = \"\"\"drop table if exists prj-prod-dataplatform.dap_ds_poweruser_playground.Model_gini_c_credo_score;\"\"\"\n",
    "client.query(sq)"
   ]
  },
  {
   "cell_type": "code",
   "execution_count": 132,
   "metadata": {},
   "outputs": [
    {
     "data": {
      "text/plain": [
       "LoadJob<project=prj-prod-dataplatform, location=asia-southeast1, id=706e36fe-3cf4-465a-a51d-1be76c796572>"
      ]
     },
     "execution_count": 132,
     "metadata": {},
     "output_type": "execute_result"
    }
   ],
   "source": [
    "import pandas as pd\n",
    "from google.cloud import bigquery\n",
    "\n",
    "# Create a BigQuery client\n",
    "client = bigquery.Client('prj-prod-dataplatform')\n",
    "\n",
    "# Define your table schema\n",
    "table_schema = [\n",
    "    bigquery.SchemaField('start_date', 'TIMESTAMP'),\n",
    "    bigquery.SchemaField('end_date', 'TIMESTAMP'),\n",
    "    bigquery.SchemaField('period', 'STRING'),\n",
    "    bigquery.SchemaField('Model_Name', 'STRING'),\n",
    "    bigquery.SchemaField('version', 'STRING'),\n",
    "    bigquery.SchemaField('Badrate', 'STRING'),\n",
    "    bigquery.SchemaField('c_credo_score_FPD10_gini', 'FLOAT'),\n",
    "    bigquery.SchemaField('c_credo_score_FPD30_gini', 'FLOAT'),    \n",
    "    bigquery.SchemaField('c_credo_score_FSPD30_gini', 'FLOAT'),\n",
    "    bigquery.SchemaField('c_credo_score_FSTPD30_gini', 'FLOAT')\n",
    "    \n",
    "]\n",
    "\n",
    "# Create your BigQuery table\n",
    "table_id = 'prj-prod-dataplatform.dap_ds_poweruser_playground.Model_gini_c_credo_score'\n",
    "table = bigquery.Table(table_id, schema=table_schema)\n",
    "table = client.create_table(table)\n",
    "\n",
    "# Load your DataFrame into BigQuery\n",
    "job_config = bigquery.LoadJobConfig(\n",
    "    write_disposition='WRITE_TRUNCATE'\n",
    ")\n",
    "\n",
    "load_job = client.load_table_from_dataframe(\n",
    "    final_df, table_id, job_config=job_config\n",
    ")\n",
    "\n",
    "load_job.result()"
   ]
  },
  {
   "cell_type": "markdown",
   "metadata": {},
   "source": [
    "# s_credo_score"
   ]
  },
  {
   "cell_type": "code",
   "execution_count": 133,
   "metadata": {},
   "outputs": [
    {
     "name": "stdout",
     "output_type": "stream",
     "text": [
      "Job ID f32953d1-3d2c-4d8a-aabb-54619acecd81 successfully executed: 100%|\u001b[32m██████████\u001b[0m|"
     ]
    },
    {
     "name": "stderr",
     "output_type": "stream",
     "text": [
      "d:\\Anaconda3\\envs\\inc_env\\lib\\site-packages\\google\\cloud\\bigquery\\table.py:1820: UserWarning: BigQuery Storage module not found, fetch data with the REST endpoint instead.\n",
      "  warnings.warn(\n"
     ]
    },
    {
     "name": "stdout",
     "output_type": "stream",
     "text": [
      "\n",
      "Downloading: 100%|\u001b[32m██████████\u001b[0m|\n",
      "The shape of dataframe after copy is:\t(134, 7)\n",
      "Job ID 319a86d8-f3ea-446d-bcc6-de2099b944cf successfully executed: 100%|\u001b[32m██████████\u001b[0m|"
     ]
    },
    {
     "name": "stderr",
     "output_type": "stream",
     "text": [
      "d:\\Anaconda3\\envs\\inc_env\\lib\\site-packages\\google\\cloud\\bigquery\\table.py:1820: UserWarning: BigQuery Storage module not found, fetch data with the REST endpoint instead.\n",
      "  warnings.warn(\n"
     ]
    },
    {
     "name": "stdout",
     "output_type": "stream",
     "text": [
      "\n",
      "Downloading: 100%|\u001b[32m██████████\u001b[0m|\n",
      "The shape of dataframe after copy is:\t(131, 7)\n",
      "Job ID ceab98f7-01c9-42da-93f2-a46103b379d3 successfully executed: 100%|\u001b[32m██████████\u001b[0m|"
     ]
    },
    {
     "name": "stderr",
     "output_type": "stream",
     "text": [
      "d:\\Anaconda3\\envs\\inc_env\\lib\\site-packages\\google\\cloud\\bigquery\\table.py:1820: UserWarning: BigQuery Storage module not found, fetch data with the REST endpoint instead.\n",
      "  warnings.warn(\n"
     ]
    },
    {
     "name": "stdout",
     "output_type": "stream",
     "text": [
      "\n",
      "Downloading: 100%|\u001b[32m██████████\u001b[0m|\n",
      "     disbursementdate                  digitalLoanAccountId  s_credo_score  \\\n",
      "0 2023-01-09 20:02:29  851fb2f2-3a0b-4abe-a89b-6f34e183ea08       0.112890   \n",
      "1 2023-03-04 11:59:14  5d0bcd27-ceed-4309-8cf5-9fac9dfc2676       0.114866   \n",
      "\n",
      "   ln_fspd30_flag  ln_mature_fspd30_flag  \n",
      "0               0                      1  \n",
      "1               0                      1  \n",
      "The shape of dataframe after copy is:\t(123, 7)\n",
      "['start_date' 'end_date' 's_credo_score_FSPD30_gini' 'period' 'Model_Name'\n",
      " 'version' 'bad_rate']\n",
      "Job ID 81829ade-7425-4f47-99c5-843fcc99415e successfully executed: 100%|\u001b[32m██████████\u001b[0m|"
     ]
    },
    {
     "name": "stderr",
     "output_type": "stream",
     "text": [
      "d:\\Anaconda3\\envs\\inc_env\\lib\\site-packages\\google\\cloud\\bigquery\\table.py:1820: UserWarning: BigQuery Storage module not found, fetch data with the REST endpoint instead.\n",
      "  warnings.warn(\n"
     ]
    },
    {
     "name": "stdout",
     "output_type": "stream",
     "text": [
      "\n",
      "Downloading: 100%|\u001b[32m██████████\u001b[0m|\n",
      "     disbursementdate                  digitalLoanAccountId  s_credo_score  \\\n",
      "0 2023-01-09 20:02:29  851fb2f2-3a0b-4abe-a89b-6f34e183ea08       0.112890   \n",
      "1 2023-03-04 11:59:14  5d0bcd27-ceed-4309-8cf5-9fac9dfc2676       0.114866   \n",
      "\n",
      "   ln_fstpd30_flag  ln_mature_fstpd30_flag  \n",
      "0                0                       1  \n",
      "1                0                       1  \n",
      "The shape of dataframe after copy is:\t(117, 7)\n",
      "['start_date' 'end_date' 's_credo_score_FSTPD30_gini' 'period'\n",
      " 'Model_Name' 'version' 'bad_rate']\n"
     ]
    },
    {
     "data": {
      "application/vnd.microsoft.datawrangler.viewer.v0+json": {
       "columns": [
        {
         "name": "index",
         "rawType": "int64",
         "type": "integer"
        },
        {
         "name": "start_date",
         "rawType": "datetime64[ns]",
         "type": "datetime"
        },
        {
         "name": "end_date",
         "rawType": "datetime64[ns]",
         "type": "datetime"
        },
        {
         "name": "s_credo_score_FSTPD30_gini",
         "rawType": "float64",
         "type": "float"
        },
        {
         "name": "period",
         "rawType": "object",
         "type": "string"
        },
        {
         "name": "Model_Name",
         "rawType": "object",
         "type": "string"
        },
        {
         "name": "version",
         "rawType": "object",
         "type": "string"
        },
        {
         "name": "bad_rate",
         "rawType": "object",
         "type": "string"
        }
       ],
       "conversionMethod": "pd.DataFrame",
       "ref": "e35829d5-9727-4f54-9efc-71213cd4cf7f",
       "rows": [
        [
         "0",
         "2023-01-01 00:00:00",
         "2023-01-31 00:00:00",
         "0.21908594167607065",
         "Month",
         "s_credo_score",
         "1.1.0",
         "FSTPD30"
        ],
        [
         "1",
         "2023-01-02 00:00:00",
         "2023-01-08 00:00:00",
         "0.26170798898071634",
         "Week",
         "s_credo_score",
         "1.1.0",
         "FSTPD30"
        ],
        [
         "2",
         "2023-01-09 00:00:00",
         "2023-01-15 00:00:00",
         "0.25105642555306984",
         "Week",
         "s_credo_score",
         "1.1.0",
         "FSTPD30"
        ],
        [
         "3",
         "2023-01-16 00:00:00",
         "2023-01-22 00:00:00",
         "0.2750621375310687",
         "Week",
         "s_credo_score",
         "1.1.0",
         "FSTPD30"
        ],
        [
         "4",
         "2023-01-23 00:00:00",
         "2023-01-29 00:00:00",
         "0.15755437977660192",
         "Week",
         "s_credo_score",
         "1.1.0",
         "FSTPD30"
        ]
       ],
       "shape": {
        "columns": 7,
        "rows": 5
       }
      },
      "text/html": [
       "<div>\n",
       "<style scoped>\n",
       "    .dataframe tbody tr th:only-of-type {\n",
       "        vertical-align: middle;\n",
       "    }\n",
       "\n",
       "    .dataframe tbody tr th {\n",
       "        vertical-align: top;\n",
       "    }\n",
       "\n",
       "    .dataframe thead th {\n",
       "        text-align: right;\n",
       "    }\n",
       "</style>\n",
       "<table border=\"1\" class=\"dataframe\">\n",
       "  <thead>\n",
       "    <tr style=\"text-align: right;\">\n",
       "      <th></th>\n",
       "      <th>start_date</th>\n",
       "      <th>end_date</th>\n",
       "      <th>s_credo_score_FSTPD30_gini</th>\n",
       "      <th>period</th>\n",
       "      <th>Model_Name</th>\n",
       "      <th>version</th>\n",
       "      <th>bad_rate</th>\n",
       "    </tr>\n",
       "  </thead>\n",
       "  <tbody>\n",
       "    <tr>\n",
       "      <th>0</th>\n",
       "      <td>2023-01-01</td>\n",
       "      <td>2023-01-31</td>\n",
       "      <td>0.219086</td>\n",
       "      <td>Month</td>\n",
       "      <td>s_credo_score</td>\n",
       "      <td>1.1.0</td>\n",
       "      <td>FSTPD30</td>\n",
       "    </tr>\n",
       "    <tr>\n",
       "      <th>1</th>\n",
       "      <td>2023-01-02</td>\n",
       "      <td>2023-01-08</td>\n",
       "      <td>0.261708</td>\n",
       "      <td>Week</td>\n",
       "      <td>s_credo_score</td>\n",
       "      <td>1.1.0</td>\n",
       "      <td>FSTPD30</td>\n",
       "    </tr>\n",
       "    <tr>\n",
       "      <th>2</th>\n",
       "      <td>2023-01-09</td>\n",
       "      <td>2023-01-15</td>\n",
       "      <td>0.251056</td>\n",
       "      <td>Week</td>\n",
       "      <td>s_credo_score</td>\n",
       "      <td>1.1.0</td>\n",
       "      <td>FSTPD30</td>\n",
       "    </tr>\n",
       "    <tr>\n",
       "      <th>3</th>\n",
       "      <td>2023-01-16</td>\n",
       "      <td>2023-01-22</td>\n",
       "      <td>0.275062</td>\n",
       "      <td>Week</td>\n",
       "      <td>s_credo_score</td>\n",
       "      <td>1.1.0</td>\n",
       "      <td>FSTPD30</td>\n",
       "    </tr>\n",
       "    <tr>\n",
       "      <th>4</th>\n",
       "      <td>2023-01-23</td>\n",
       "      <td>2023-01-29</td>\n",
       "      <td>0.157554</td>\n",
       "      <td>Week</td>\n",
       "      <td>s_credo_score</td>\n",
       "      <td>1.1.0</td>\n",
       "      <td>FSTPD30</td>\n",
       "    </tr>\n",
       "  </tbody>\n",
       "</table>\n",
       "</div>"
      ],
      "text/plain": [
       "  start_date   end_date  s_credo_score_FSTPD30_gini period     Model_Name  \\\n",
       "0 2023-01-01 2023-01-31                    0.219086  Month  s_credo_score   \n",
       "1 2023-01-02 2023-01-08                    0.261708   Week  s_credo_score   \n",
       "2 2023-01-09 2023-01-15                    0.251056   Week  s_credo_score   \n",
       "3 2023-01-16 2023-01-22                    0.275062   Week  s_credo_score   \n",
       "4 2023-01-23 2023-01-29                    0.157554   Week  s_credo_score   \n",
       "\n",
       "  version bad_rate  \n",
       "0   1.1.0  FSTPD30  \n",
       "1   1.1.0  FSTPD30  \n",
       "2   1.1.0  FSTPD30  \n",
       "3   1.1.0  FSTPD30  \n",
       "4   1.1.0  FSTPD30  "
      ]
     },
     "execution_count": 133,
     "metadata": {},
     "output_type": "execute_result"
    }
   ],
   "source": [
    "\n",
    "\n",
    "sq = \"\"\"\n",
    "with s_credo_score as \n",
    "(SELECT \n",
    "    ln_disb_dtime disbursementdate,\n",
    "\tdigitalLoanAccountId,\n",
    "    credo_sil_score s_credo_score,\n",
    "    ln_fpd10_flag,\n",
    "\tln_mature_fpd10_flag,\t\n",
    "\tFROM \n",
    "    risk_mart.sil_risk_ds_master_20230101_20250309\n",
    "  WHERE \n",
    "     -- ln_disb_dtime >= '2023-07-01'\n",
    "    ln_appln_submit_datetime >= '2023-01-01'\n",
    "  -- AND\n",
    "  --   format_date('%Y-%m', ln_disb_dtime) = '2024-09'\n",
    "  AND\n",
    "    ln_fpd10_flag is not null\n",
    "  AND\n",
    "    credo_sil_score is not null\n",
    "  AND\n",
    "    ln_mature_fpd10_flag = 1\n",
    ")\n",
    "select * from s_credo_score;\n",
    "\"\"\"\n",
    "\n",
    "s_credo_scorefpd10 = client.query(sq).to_dataframe(progress_bar_type='tqdm')\n",
    "\n",
    "s_credo_scorefpd10.head()\n",
    "\n",
    "gini_results = calculate_periodic_gini(s_credo_scorefpd10, 's_credo_score', 'ln_fpd10_flag', 'FPD10')\n",
    "M1FPD10 = gini_results.copy()\n",
    "print(f\"The shape of dataframe after copy is:\\t{M1FPD10.shape}\")\n",
    "M1FPD10.columns.values\n",
    "\n",
    "# FPD30\n",
    "\n",
    "sq = \"\"\"\n",
    "with s_credo_score as \n",
    "(SELECT \n",
    "    ln_disb_dtime disbursementdate,\n",
    "\tdigitalLoanAccountId,\n",
    "    credo_sil_score s_credo_score,\n",
    "    ln_fpd30_flag,\n",
    "\tln_mature_fpd30_flag,\t\n",
    "\tFROM \n",
    "   risk_mart.sil_risk_ds_master_20230101_20250309\n",
    "  WHERE \n",
    "     -- ln_disb_dtime >= '2023-07-01'\n",
    "    ln_appln_submit_datetime >= '2023-01-01'\n",
    "  -- AND\n",
    "  --   format_date('%Y-%m', ln_disb_dtime) = '2024-09'\n",
    "  AND\n",
    "    ln_fpd30_flag is not null\n",
    "  AND\n",
    "    credo_sil_score is not null\n",
    "  AND\n",
    "    ln_mature_fpd30_flag = 1\n",
    ")\n",
    "select * from s_credo_score;\n",
    "\"\"\"\n",
    "\n",
    "s_credo_scorefpd30 = client.query(sq).to_dataframe(progress_bar_type='tqdm')\n",
    "\n",
    "s_credo_scorefpd30.head()\n",
    "\n",
    "gini_results = calculate_periodic_gini(s_credo_scorefpd30, 's_credo_score', 'ln_fpd30_flag', 'FPD30')\n",
    "M2FPD30 = gini_results.copy()\n",
    "print(f\"The shape of dataframe after copy is:\\t{M2FPD30.shape}\")\n",
    "M2FPD30.columns.values\n",
    "\n",
    "sq = \"\"\"\n",
    "with s_credo_score as \n",
    "(SELECT \n",
    "    ln_disb_dtime disbursementdate,\n",
    "\tdigitalLoanAccountId,\n",
    "    credo_sil_score s_credo_score,\n",
    "    ln_fspd30_flag,\n",
    "\tln_mature_fspd30_flag,\t\n",
    "\tFROM \n",
    "    prj-prod-dataplatform.risk_mart.sil_risk_ds_master_20230101_20250206\n",
    "  WHERE \n",
    "     -- ln_disb_dtime >= '2023-07-01'\n",
    "    ln_appln_submit_datetime >= '2023-01-01'\n",
    "  -- AND\n",
    "  --   format_date('%Y-%m', ln_disb_dtime) = '2024-09'\n",
    "  AND\n",
    "    ln_fspd30_flag is not null\n",
    "  AND\n",
    "    credo_sil_score is not null\n",
    "  AND\n",
    "    ln_mature_fspd30_flag = 1\n",
    ")\n",
    "select * from s_credo_score;\n",
    "\"\"\"\n",
    "\n",
    "s_credo_scorefspd30 = client.query(sq).to_dataframe(progress_bar_type='tqdm')\n",
    "\n",
    "print(s_credo_scorefspd30.head(2))\n",
    "\n",
    "gini_results = calculate_periodic_gini(s_credo_scorefspd30, 's_credo_score', 'ln_fspd30_flag', 'FSPD30')\n",
    "M3FSPD30 = gini_results.copy()\n",
    "print(f\"The shape of dataframe after copy is:\\t{M3FSPD30.shape}\")\n",
    "print(M3FSPD30.columns.values)\n",
    "\n",
    "M3FSPD30.head()\n",
    "\n",
    "sq = \"\"\"\n",
    "with s_credo_score as \n",
    "(SELECT \n",
    "    ln_disb_dtime disbursementdate,\n",
    "\tdigitalLoanAccountId,\n",
    "    credo_sil_score s_credo_score,\n",
    "    ln_fstpd30_flag,\n",
    "\tln_mature_fstpd30_flag,\t\n",
    "\tFROM \n",
    "    prj-prod-dataplatform.risk_mart.sil_risk_ds_master_20230101_20250206\n",
    "  WHERE \n",
    "     -- ln_disb_dtime >= '2023-07-01'\n",
    "    ln_appln_submit_datetime >= '2023-01-01'\n",
    "  -- AND\n",
    "  --   format_date('%Y-%m', ln_disb_dtime) = '2024-09'\n",
    "  AND\n",
    "    ln_fstpd30_flag is not null\n",
    "  AND\n",
    "    credo_sil_score is not null\n",
    "  AND\n",
    "    ln_mature_fstpd30_flag = 1\n",
    ")\n",
    "select * from s_credo_score;\n",
    "\"\"\"\n",
    "\n",
    "s_credo_scorefstpd30 = client.query(sq).to_dataframe(progress_bar_type='tqdm')\n",
    "\n",
    "print(s_credo_scorefstpd30.head(2))\n",
    "\n",
    "gini_results = calculate_periodic_gini(s_credo_scorefstpd30, 's_credo_score', 'ln_fstpd30_flag', 'FSTPD30')\n",
    "M4FSTPD30 = gini_results.copy()\n",
    "print(f\"The shape of dataframe after copy is:\\t{M4FSTPD30.shape}\")\n",
    "print(M4FSTPD30.columns.values)\n",
    "\n",
    "M4FSTPD30.head()\n",
    "\n"
   ]
  },
  {
   "cell_type": "markdown",
   "metadata": {},
   "source": [
    "## Combining data"
   ]
  },
  {
   "cell_type": "code",
   "execution_count": 134,
   "metadata": {},
   "outputs": [
    {
     "data": {
      "text/plain": [
       "array(['start_date', 'end_date', 's_credo_score_FPD10_gini', 'period',\n",
       "       'Model_Name', 'version', 'bad_rate', 's_credo_score_FPD30_gini',\n",
       "       's_credo_score_FSPD30_gini', 's_credo_score_FSTPD30_gini'],\n",
       "      dtype=object)"
      ]
     },
     "execution_count": 134,
     "metadata": {},
     "output_type": "execute_result"
    }
   ],
   "source": [
    "import functools\n",
    "\n",
    "dataframes = [M1FPD10, M2FPD30, M3FSPD30, M4FSTPD30]\n",
    "common_columns = ['start_date', 'end_date', 'period', 'Model_Name','version', 'bad_rate']\n",
    "\n",
    "def merge_dataframes(df1, df2):\n",
    "    return pd.merge(df1, df2, on=common_columns, how='outer')\n",
    "\n",
    "final_df = functools.reduce(merge_dataframes, dataframes)\n",
    "\n",
    "final_df.columns.values"
   ]
  },
  {
   "cell_type": "code",
   "execution_count": 135,
   "metadata": {},
   "outputs": [],
   "source": [
    "final_df = final_df[['start_date', 'end_date','period',    'Model_Name', 'version', 'bad_rate','s_credo_score_FPD10_gini', 's_credo_score_FPD30_gini',    's_credo_score_FSPD30_gini', 's_credo_score_FSTPD30_gini']].copy()"
   ]
  },
  {
   "cell_type": "code",
   "execution_count": 136,
   "metadata": {},
   "outputs": [
    {
     "data": {
      "text/plain": [
       "QueryJob<project=prj-prod-dataplatform, location=asia-southeast1, id=b2420e0d-d6a0-4600-884a-2dead90d284c>"
      ]
     },
     "execution_count": 136,
     "metadata": {},
     "output_type": "execute_result"
    }
   ],
   "source": [
    "sq = \"\"\"drop table if exists prj-prod-dataplatform.dap_ds_poweruser_playground.Model_gini_s_credo_score;\"\"\"\n",
    "\n",
    "client.query(sq)"
   ]
  },
  {
   "cell_type": "code",
   "execution_count": 137,
   "metadata": {},
   "outputs": [
    {
     "data": {
      "text/plain": [
       "LoadJob<project=prj-prod-dataplatform, location=asia-southeast1, id=6add640e-ea31-4b1a-881a-4c6ac88cb877>"
      ]
     },
     "execution_count": 137,
     "metadata": {},
     "output_type": "execute_result"
    }
   ],
   "source": [
    "import pandas as pd\n",
    "from google.cloud import bigquery\n",
    "\n",
    "# Create a BigQuery client\n",
    "client = bigquery.Client('prj-prod-dataplatform')\n",
    "\n",
    "# Define your table schema\n",
    "table_schema = [\n",
    "    bigquery.SchemaField('start_date', 'TIMESTAMP'),\n",
    "    bigquery.SchemaField('end_date', 'TIMESTAMP'),\n",
    "    bigquery.SchemaField('period', 'STRING'),\n",
    "    bigquery.SchemaField('Model_Name', 'STRING'),\n",
    "    bigquery.SchemaField('version', 'STRING'),\n",
    "    bigquery.SchemaField('Badrate', 'STRING'),\n",
    "    bigquery.SchemaField('s_credo_score_FPD10_gini', 'FLOAT'),\n",
    "    bigquery.SchemaField('s_credo_score_FPD30_gini', 'FLOAT'),    \n",
    "    bigquery.SchemaField('s_credo_score_FSPD30_gini', 'FLOAT'),\n",
    "    bigquery.SchemaField('s_credo_score_FSTPD30_gini', 'FLOAT')\n",
    "    \n",
    "]\n",
    "\n",
    "# Create your BigQuery table\n",
    "table_id = 'prj-prod-dataplatform.dap_ds_poweruser_playground.Model_gini_s_credo_score'\n",
    "table = bigquery.Table(table_id, schema=table_schema)\n",
    "table = client.create_table(table)\n",
    "\n",
    "# Load your DataFrame into BigQuery\n",
    "job_config = bigquery.LoadJobConfig(\n",
    "    write_disposition='WRITE_TRUNCATE'\n",
    ")\n",
    "\n",
    "load_job = client.load_table_from_dataframe(\n",
    "    final_df, table_id, job_config=job_config\n",
    ")\n",
    "\n",
    "load_job.result()"
   ]
  },
  {
   "cell_type": "code",
   "execution_count": 138,
   "metadata": {},
   "outputs": [
    {
     "data": {
      "application/vnd.microsoft.datawrangler.viewer.v0+json": {
       "columns": [
        {
         "name": "index",
         "rawType": "int64",
         "type": "integer"
        },
        {
         "name": "start_date",
         "rawType": "datetime64[ns]",
         "type": "datetime"
        },
        {
         "name": "end_date",
         "rawType": "datetime64[ns]",
         "type": "datetime"
        },
        {
         "name": "period",
         "rawType": "object",
         "type": "string"
        },
        {
         "name": "Model_Name",
         "rawType": "object",
         "type": "string"
        },
        {
         "name": "version",
         "rawType": "object",
         "type": "string"
        },
        {
         "name": "bad_rate",
         "rawType": "object",
         "type": "string"
        },
        {
         "name": "s_credo_score_FPD10_gini",
         "rawType": "float64",
         "type": "float"
        },
        {
         "name": "s_credo_score_FPD30_gini",
         "rawType": "float64",
         "type": "float"
        },
        {
         "name": "s_credo_score_FSPD30_gini",
         "rawType": "float64",
         "type": "float"
        },
        {
         "name": "s_credo_score_FSTPD30_gini",
         "rawType": "float64",
         "type": "float"
        }
       ],
       "conversionMethod": "pd.DataFrame",
       "ref": "e25cfdf7-6bd7-4f9e-afa6-d5f0def28132",
       "rows": [
        [
         "0",
         "2023-01-01 00:00:00",
         "2023-01-31 00:00:00",
         "Month",
         "s_credo_score",
         "1.1.0",
         "FPD10",
         "0.2301810865191145",
         null,
         null,
         null
        ],
        [
         "1",
         "2023-01-02 00:00:00",
         "2023-01-08 00:00:00",
         "Week",
         "s_credo_score",
         "1.1.0",
         "FPD10",
         "0.2489775051124743",
         null,
         null,
         null
        ],
        [
         "2",
         "2023-01-09 00:00:00",
         "2023-01-15 00:00:00",
         "Week",
         "s_credo_score",
         "1.1.0",
         "FPD10",
         "0.29633740288568244",
         null,
         null,
         null
        ],
        [
         "3",
         "2023-01-16 00:00:00",
         "2023-01-22 00:00:00",
         "Week",
         "s_credo_score",
         "1.1.0",
         "FPD10",
         "0.52987012987013",
         null,
         null,
         null
        ],
        [
         "4",
         "2023-01-23 00:00:00",
         "2023-01-29 00:00:00",
         "Week",
         "s_credo_score",
         "1.1.0",
         "FPD10",
         "0.07958477508650508",
         null,
         null,
         null
        ]
       ],
       "shape": {
        "columns": 10,
        "rows": 5
       }
      },
      "text/html": [
       "<div>\n",
       "<style scoped>\n",
       "    .dataframe tbody tr th:only-of-type {\n",
       "        vertical-align: middle;\n",
       "    }\n",
       "\n",
       "    .dataframe tbody tr th {\n",
       "        vertical-align: top;\n",
       "    }\n",
       "\n",
       "    .dataframe thead th {\n",
       "        text-align: right;\n",
       "    }\n",
       "</style>\n",
       "<table border=\"1\" class=\"dataframe\">\n",
       "  <thead>\n",
       "    <tr style=\"text-align: right;\">\n",
       "      <th></th>\n",
       "      <th>start_date</th>\n",
       "      <th>end_date</th>\n",
       "      <th>period</th>\n",
       "      <th>Model_Name</th>\n",
       "      <th>version</th>\n",
       "      <th>bad_rate</th>\n",
       "      <th>s_credo_score_FPD10_gini</th>\n",
       "      <th>s_credo_score_FPD30_gini</th>\n",
       "      <th>s_credo_score_FSPD30_gini</th>\n",
       "      <th>s_credo_score_FSTPD30_gini</th>\n",
       "    </tr>\n",
       "  </thead>\n",
       "  <tbody>\n",
       "    <tr>\n",
       "      <th>0</th>\n",
       "      <td>2023-01-01</td>\n",
       "      <td>2023-01-31</td>\n",
       "      <td>Month</td>\n",
       "      <td>s_credo_score</td>\n",
       "      <td>1.1.0</td>\n",
       "      <td>FPD10</td>\n",
       "      <td>0.230181</td>\n",
       "      <td>NaN</td>\n",
       "      <td>NaN</td>\n",
       "      <td>NaN</td>\n",
       "    </tr>\n",
       "    <tr>\n",
       "      <th>1</th>\n",
       "      <td>2023-01-02</td>\n",
       "      <td>2023-01-08</td>\n",
       "      <td>Week</td>\n",
       "      <td>s_credo_score</td>\n",
       "      <td>1.1.0</td>\n",
       "      <td>FPD10</td>\n",
       "      <td>0.248978</td>\n",
       "      <td>NaN</td>\n",
       "      <td>NaN</td>\n",
       "      <td>NaN</td>\n",
       "    </tr>\n",
       "    <tr>\n",
       "      <th>2</th>\n",
       "      <td>2023-01-09</td>\n",
       "      <td>2023-01-15</td>\n",
       "      <td>Week</td>\n",
       "      <td>s_credo_score</td>\n",
       "      <td>1.1.0</td>\n",
       "      <td>FPD10</td>\n",
       "      <td>0.296337</td>\n",
       "      <td>NaN</td>\n",
       "      <td>NaN</td>\n",
       "      <td>NaN</td>\n",
       "    </tr>\n",
       "    <tr>\n",
       "      <th>3</th>\n",
       "      <td>2023-01-16</td>\n",
       "      <td>2023-01-22</td>\n",
       "      <td>Week</td>\n",
       "      <td>s_credo_score</td>\n",
       "      <td>1.1.0</td>\n",
       "      <td>FPD10</td>\n",
       "      <td>0.529870</td>\n",
       "      <td>NaN</td>\n",
       "      <td>NaN</td>\n",
       "      <td>NaN</td>\n",
       "    </tr>\n",
       "    <tr>\n",
       "      <th>4</th>\n",
       "      <td>2023-01-23</td>\n",
       "      <td>2023-01-29</td>\n",
       "      <td>Week</td>\n",
       "      <td>s_credo_score</td>\n",
       "      <td>1.1.0</td>\n",
       "      <td>FPD10</td>\n",
       "      <td>0.079585</td>\n",
       "      <td>NaN</td>\n",
       "      <td>NaN</td>\n",
       "      <td>NaN</td>\n",
       "    </tr>\n",
       "  </tbody>\n",
       "</table>\n",
       "</div>"
      ],
      "text/plain": [
       "  start_date   end_date period     Model_Name version bad_rate  \\\n",
       "0 2023-01-01 2023-01-31  Month  s_credo_score   1.1.0    FPD10   \n",
       "1 2023-01-02 2023-01-08   Week  s_credo_score   1.1.0    FPD10   \n",
       "2 2023-01-09 2023-01-15   Week  s_credo_score   1.1.0    FPD10   \n",
       "3 2023-01-16 2023-01-22   Week  s_credo_score   1.1.0    FPD10   \n",
       "4 2023-01-23 2023-01-29   Week  s_credo_score   1.1.0    FPD10   \n",
       "\n",
       "   s_credo_score_FPD10_gini  s_credo_score_FPD30_gini  \\\n",
       "0                  0.230181                       NaN   \n",
       "1                  0.248978                       NaN   \n",
       "2                  0.296337                       NaN   \n",
       "3                  0.529870                       NaN   \n",
       "4                  0.079585                       NaN   \n",
       "\n",
       "   s_credo_score_FSPD30_gini  s_credo_score_FSTPD30_gini  \n",
       "0                        NaN                         NaN  \n",
       "1                        NaN                         NaN  \n",
       "2                        NaN                         NaN  \n",
       "3                        NaN                         NaN  \n",
       "4                        NaN                         NaN  "
      ]
     },
     "execution_count": 138,
     "metadata": {},
     "output_type": "execute_result"
    }
   ],
   "source": [
    "final_df.head()"
   ]
  },
  {
   "cell_type": "markdown",
   "metadata": {},
   "source": [
    "# fu_credo_score"
   ]
  },
  {
   "cell_type": "code",
   "execution_count": 139,
   "metadata": {},
   "outputs": [
    {
     "name": "stdout",
     "output_type": "stream",
     "text": [
      "Job ID 0db7a82c-0e99-422f-89bf-d86d029bdeb3 successfully executed: 100%|\u001b[32m██████████\u001b[0m|"
     ]
    },
    {
     "name": "stderr",
     "output_type": "stream",
     "text": [
      "d:\\Anaconda3\\envs\\inc_env\\lib\\site-packages\\google\\cloud\\bigquery\\table.py:1820: UserWarning: BigQuery Storage module not found, fetch data with the REST endpoint instead.\n",
      "  warnings.warn(\n"
     ]
    },
    {
     "name": "stdout",
     "output_type": "stream",
     "text": [
      "\n",
      "Downloading: 100%|\u001b[32m██████████\u001b[0m|\n",
      "The shape of dataframe after copy is:\t(134, 7)\n",
      "Job ID 3bea8425-7a18-4598-a86c-55fcb3e102ba successfully executed: 100%|\u001b[32m██████████\u001b[0m|"
     ]
    },
    {
     "name": "stderr",
     "output_type": "stream",
     "text": [
      "d:\\Anaconda3\\envs\\inc_env\\lib\\site-packages\\google\\cloud\\bigquery\\table.py:1820: UserWarning: BigQuery Storage module not found, fetch data with the REST endpoint instead.\n",
      "  warnings.warn(\n"
     ]
    },
    {
     "name": "stdout",
     "output_type": "stream",
     "text": [
      "\n",
      "Downloading: 100%|\u001b[32m██████████\u001b[0m|\n",
      "The shape of dataframe after copy is:\t(131, 7)\n",
      "Job ID 69acd435-75bd-43fb-8d80-afc8ef393dca successfully executed: 100%|\u001b[32m██████████\u001b[0m|"
     ]
    },
    {
     "name": "stderr",
     "output_type": "stream",
     "text": [
      "d:\\Anaconda3\\envs\\inc_env\\lib\\site-packages\\google\\cloud\\bigquery\\table.py:1820: UserWarning: BigQuery Storage module not found, fetch data with the REST endpoint instead.\n",
      "  warnings.warn(\n"
     ]
    },
    {
     "name": "stdout",
     "output_type": "stream",
     "text": [
      "\n",
      "Downloading: 100%|\u001b[32m██████████\u001b[0m|\n",
      "     disbursementdate                  digitalLoanAccountId  fu_credo_score  \\\n",
      "0 2024-07-16 19:09:27  a731f941-ed8a-4278-9ba4-1fd41132aa5e        0.057160   \n",
      "1 2024-02-26 15:08:47  acebf8de-bd42-4b00-83bc-d7c0999a7488        0.175585   \n",
      "\n",
      "   ln_fspd30_flag  ln_mature_fspd30_flag  \n",
      "0               0                      1  \n",
      "1               0                      1  \n",
      "The shape of dataframe after copy is:\t(126, 7)\n",
      "['start_date' 'end_date' 'fu_credo_score_FSPD30_gini' 'period'\n",
      " 'Model_Name' 'version' 'bad_rate']\n",
      "Job ID f05acb2d-c3a3-4fc4-a8d1-dde576f82cde successfully executed: 100%|\u001b[32m██████████\u001b[0m|"
     ]
    },
    {
     "name": "stderr",
     "output_type": "stream",
     "text": [
      "d:\\Anaconda3\\envs\\inc_env\\lib\\site-packages\\google\\cloud\\bigquery\\table.py:1820: UserWarning: BigQuery Storage module not found, fetch data with the REST endpoint instead.\n",
      "  warnings.warn(\n"
     ]
    },
    {
     "name": "stdout",
     "output_type": "stream",
     "text": [
      "\n",
      "Downloading: 100%|\u001b[32m██████████\u001b[0m|\n",
      "     disbursementdate                  digitalLoanAccountId  fu_credo_score  \\\n",
      "0 2024-07-16 19:09:27  a731f941-ed8a-4278-9ba4-1fd41132aa5e        0.057160   \n",
      "1 2024-02-26 15:08:47  acebf8de-bd42-4b00-83bc-d7c0999a7488        0.175585   \n",
      "\n",
      "   ln_fstpd30_flag  ln_mature_fstpd30_flag  \n",
      "0                0                       1  \n",
      "1                0                       1  \n",
      "The shape of dataframe after copy is:\t(120, 7)\n",
      "['start_date' 'end_date' 'fu_credo_score_FSTPD30_gini' 'period'\n",
      " 'Model_Name' 'version' 'bad_rate']\n"
     ]
    },
    {
     "data": {
      "application/vnd.microsoft.datawrangler.viewer.v0+json": {
       "columns": [
        {
         "name": "index",
         "rawType": "int64",
         "type": "integer"
        },
        {
         "name": "start_date",
         "rawType": "datetime64[ns]",
         "type": "datetime"
        },
        {
         "name": "end_date",
         "rawType": "datetime64[ns]",
         "type": "datetime"
        },
        {
         "name": "fu_credo_score_FSTPD30_gini",
         "rawType": "float64",
         "type": "float"
        },
        {
         "name": "period",
         "rawType": "object",
         "type": "string"
        },
        {
         "name": "Model_Name",
         "rawType": "object",
         "type": "string"
        },
        {
         "name": "version",
         "rawType": "object",
         "type": "string"
        },
        {
         "name": "bad_rate",
         "rawType": "object",
         "type": "string"
        }
       ],
       "conversionMethod": "pd.DataFrame",
       "ref": "feded03b-a073-4436-8f24-6a7437d8ac07",
       "rows": [
        [
         "0",
         "2023-01-01 00:00:00",
         "2023-01-31 00:00:00",
         "0.07286036704876153",
         "Month",
         "fu_credo_score",
         "1.1.0",
         "FSTPD30"
        ],
        [
         "1",
         "2023-01-02 00:00:00",
         "2023-01-08 00:00:00",
         "0.0021645021645022577",
         "Week",
         "fu_credo_score",
         "1.1.0",
         "FSTPD30"
        ],
        [
         "2",
         "2023-01-09 00:00:00",
         "2023-01-15 00:00:00",
         "0.05667412378821779",
         "Week",
         "fu_credo_score",
         "1.1.0",
         "FSTPD30"
        ],
        [
         "3",
         "2023-01-16 00:00:00",
         "2023-01-22 00:00:00",
         "0.3264291632145815",
         "Week",
         "fu_credo_score",
         "1.1.0",
         "FSTPD30"
        ],
        [
         "4",
         "2023-01-23 00:00:00",
         "2023-01-29 00:00:00",
         "0.10993533215755424",
         "Week",
         "fu_credo_score",
         "1.1.0",
         "FSTPD30"
        ]
       ],
       "shape": {
        "columns": 7,
        "rows": 5
       }
      },
      "text/html": [
       "<div>\n",
       "<style scoped>\n",
       "    .dataframe tbody tr th:only-of-type {\n",
       "        vertical-align: middle;\n",
       "    }\n",
       "\n",
       "    .dataframe tbody tr th {\n",
       "        vertical-align: top;\n",
       "    }\n",
       "\n",
       "    .dataframe thead th {\n",
       "        text-align: right;\n",
       "    }\n",
       "</style>\n",
       "<table border=\"1\" class=\"dataframe\">\n",
       "  <thead>\n",
       "    <tr style=\"text-align: right;\">\n",
       "      <th></th>\n",
       "      <th>start_date</th>\n",
       "      <th>end_date</th>\n",
       "      <th>fu_credo_score_FSTPD30_gini</th>\n",
       "      <th>period</th>\n",
       "      <th>Model_Name</th>\n",
       "      <th>version</th>\n",
       "      <th>bad_rate</th>\n",
       "    </tr>\n",
       "  </thead>\n",
       "  <tbody>\n",
       "    <tr>\n",
       "      <th>0</th>\n",
       "      <td>2023-01-01</td>\n",
       "      <td>2023-01-31</td>\n",
       "      <td>0.072860</td>\n",
       "      <td>Month</td>\n",
       "      <td>fu_credo_score</td>\n",
       "      <td>1.1.0</td>\n",
       "      <td>FSTPD30</td>\n",
       "    </tr>\n",
       "    <tr>\n",
       "      <th>1</th>\n",
       "      <td>2023-01-02</td>\n",
       "      <td>2023-01-08</td>\n",
       "      <td>0.002165</td>\n",
       "      <td>Week</td>\n",
       "      <td>fu_credo_score</td>\n",
       "      <td>1.1.0</td>\n",
       "      <td>FSTPD30</td>\n",
       "    </tr>\n",
       "    <tr>\n",
       "      <th>2</th>\n",
       "      <td>2023-01-09</td>\n",
       "      <td>2023-01-15</td>\n",
       "      <td>0.056674</td>\n",
       "      <td>Week</td>\n",
       "      <td>fu_credo_score</td>\n",
       "      <td>1.1.0</td>\n",
       "      <td>FSTPD30</td>\n",
       "    </tr>\n",
       "    <tr>\n",
       "      <th>3</th>\n",
       "      <td>2023-01-16</td>\n",
       "      <td>2023-01-22</td>\n",
       "      <td>0.326429</td>\n",
       "      <td>Week</td>\n",
       "      <td>fu_credo_score</td>\n",
       "      <td>1.1.0</td>\n",
       "      <td>FSTPD30</td>\n",
       "    </tr>\n",
       "    <tr>\n",
       "      <th>4</th>\n",
       "      <td>2023-01-23</td>\n",
       "      <td>2023-01-29</td>\n",
       "      <td>0.109935</td>\n",
       "      <td>Week</td>\n",
       "      <td>fu_credo_score</td>\n",
       "      <td>1.1.0</td>\n",
       "      <td>FSTPD30</td>\n",
       "    </tr>\n",
       "  </tbody>\n",
       "</table>\n",
       "</div>"
      ],
      "text/plain": [
       "  start_date   end_date  fu_credo_score_FSTPD30_gini period      Model_Name  \\\n",
       "0 2023-01-01 2023-01-31                     0.072860  Month  fu_credo_score   \n",
       "1 2023-01-02 2023-01-08                     0.002165   Week  fu_credo_score   \n",
       "2 2023-01-09 2023-01-15                     0.056674   Week  fu_credo_score   \n",
       "3 2023-01-16 2023-01-22                     0.326429   Week  fu_credo_score   \n",
       "4 2023-01-23 2023-01-29                     0.109935   Week  fu_credo_score   \n",
       "\n",
       "  version bad_rate  \n",
       "0   1.1.0  FSTPD30  \n",
       "1   1.1.0  FSTPD30  \n",
       "2   1.1.0  FSTPD30  \n",
       "3   1.1.0  FSTPD30  \n",
       "4   1.1.0  FSTPD30  "
      ]
     },
     "execution_count": 139,
     "metadata": {},
     "output_type": "execute_result"
    }
   ],
   "source": [
    "\n",
    "\n",
    "sq = \"\"\"\n",
    "with fu_credo_score as \n",
    "(SELECT \n",
    "    ln_disb_dtime disbursementdate,\n",
    "\tdigitalLoanAccountId,\n",
    "    credo_flexup_score fu_credo_score,\n",
    "    ln_fpd10_flag,\n",
    "\tln_mature_fpd10_flag,\t\n",
    "\tFROM \n",
    "    risk_mart.sil_risk_ds_master_20230101_20250309\n",
    "  WHERE \n",
    "     -- ln_disb_dtime >= '2023-07-01'\n",
    "    ln_appln_submit_datetime >= '2023-01-01'\n",
    "  -- AND\n",
    "  --   format_date('%Y-%m', ln_disb_dtime) = '2024-09'\n",
    "  AND\n",
    "    ln_fpd10_flag is not null\n",
    "  AND\n",
    "    credo_flexup_score is not null\n",
    "  AND\n",
    "    ln_mature_fpd10_flag = 1\n",
    ")\n",
    "select * from fu_credo_score;\n",
    "\"\"\"\n",
    "\n",
    "fu_credo_scorefpd10 = client.query(sq).to_dataframe(progress_bar_type='tqdm')\n",
    "\n",
    "fu_credo_scorefpd10.head()\n",
    "\n",
    "gini_results = calculate_periodic_gini(fu_credo_scorefpd10, 'fu_credo_score', 'ln_fpd10_flag', 'FPD10')\n",
    "M1FPD10 = gini_results.copy()\n",
    "print(f\"The shape of dataframe after copy is:\\t{M1FPD10.shape}\")\n",
    "M1FPD10.columns.values\n",
    "\n",
    "# FPD30\n",
    "\n",
    "sq = \"\"\"\n",
    "with fu_credo_score as \n",
    "(SELECT \n",
    "    ln_disb_dtime disbursementdate,\n",
    "\tdigitalLoanAccountId,\n",
    "    credo_flexup_score fu_credo_score,\n",
    "    ln_fpd30_flag,\n",
    "\tln_mature_fpd30_flag,\t\n",
    "\tFROM \n",
    "    risk_mart.sil_risk_ds_master_20230101_20250309\n",
    "  WHERE \n",
    "     -- ln_disb_dtime >= '2023-07-01'\n",
    "    ln_appln_submit_datetime >= '2023-01-01'\n",
    "  -- AND\n",
    "  --   format_date('%Y-%m', ln_disb_dtime) = '2024-09'\n",
    "  AND\n",
    "    ln_fpd30_flag is not null\n",
    "  AND\n",
    "    credo_flexup_score is not null\n",
    "  AND\n",
    "    ln_mature_fpd30_flag = 1\n",
    ")\n",
    "select * from fu_credo_score;\n",
    "\"\"\"\n",
    "\n",
    "fu_credo_scorefpd30 = client.query(sq).to_dataframe(progress_bar_type='tqdm')\n",
    "\n",
    "fu_credo_scorefpd30.head()\n",
    "\n",
    "gini_results = calculate_periodic_gini(fu_credo_scorefpd30, 'fu_credo_score', 'ln_fpd30_flag', 'FPD30')\n",
    "M2FPD30 = gini_results.copy()\n",
    "print(f\"The shape of dataframe after copy is:\\t{M2FPD30.shape}\")\n",
    "M2FPD30.columns.values\n",
    "\n",
    "sq = \"\"\"\n",
    "with fu_credo_score as \n",
    "(SELECT \n",
    "    ln_disb_dtime disbursementdate,\n",
    "\tdigitalLoanAccountId,\n",
    "    credo_flexup_score fu_credo_score,\n",
    "    ln_fspd30_flag,\n",
    "\tln_mature_fspd30_flag,\t\n",
    "\tFROM \n",
    "    risk_mart.sil_risk_ds_master_20230101_20250309\n",
    "  WHERE \n",
    "     -- ln_disb_dtime >= '2023-07-01'\n",
    "    ln_appln_submit_datetime >= '2023-01-01'\n",
    "  -- AND\n",
    "  --   format_date('%Y-%m', ln_disb_dtime) = '2024-09'\n",
    "  AND\n",
    "    ln_fspd30_flag is not null\n",
    "  AND\n",
    "    credo_flexup_score is not null\n",
    "  AND\n",
    "    ln_mature_fspd30_flag = 1\n",
    ")\n",
    "select * from fu_credo_score;\n",
    "\"\"\"\n",
    "\n",
    "fu_credo_scorefspd30 = client.query(sq).to_dataframe(progress_bar_type='tqdm')\n",
    "\n",
    "print(fu_credo_scorefspd30.head(2))\n",
    "\n",
    "gini_results = calculate_periodic_gini(fu_credo_scorefspd30, 'fu_credo_score', 'ln_fspd30_flag', 'FSPD30')\n",
    "M3FSPD30 = gini_results.copy()\n",
    "print(f\"The shape of dataframe after copy is:\\t{M3FSPD30.shape}\")\n",
    "print(M3FSPD30.columns.values)\n",
    "\n",
    "M3FSPD30.head()\n",
    "\n",
    "sq = \"\"\"\n",
    "with fu_credo_score as \n",
    "(SELECT \n",
    "    ln_disb_dtime disbursementdate,\n",
    "\tdigitalLoanAccountId,\n",
    "    credo_flexup_score fu_credo_score,\n",
    "    ln_fstpd30_flag,\n",
    "\tln_mature_fstpd30_flag,\t\n",
    "\tFROM \n",
    "    risk_mart.sil_risk_ds_master_20230101_20250309\n",
    "  WHERE \n",
    "     -- ln_disb_dtime >= '2023-07-01'\n",
    "    ln_appln_submit_datetime >= '2023-01-01'\n",
    "  -- AND\n",
    "  --   format_date('%Y-%m', ln_disb_dtime) = '2024-09'\n",
    "  AND\n",
    "    ln_fstpd30_flag is not null\n",
    "  AND\n",
    "    credo_flexup_score is not null\n",
    "  AND\n",
    "    ln_mature_fstpd30_flag = 1\n",
    ")\n",
    "select * from fu_credo_score;\n",
    "\"\"\"\n",
    "\n",
    "fu_credo_scorefstpd30 = client.query(sq).to_dataframe(progress_bar_type='tqdm')\n",
    "\n",
    "print(fu_credo_scorefstpd30.head(2))\n",
    "\n",
    "gini_results = calculate_periodic_gini(fu_credo_scorefstpd30, 'fu_credo_score', 'ln_fstpd30_flag', 'FSTPD30')\n",
    "M4FSTPD30 = gini_results.copy()\n",
    "print(f\"The shape of dataframe after copy is:\\t{M4FSTPD30.shape}\")\n",
    "print(M4FSTPD30.columns.values)\n",
    "\n",
    "M4FSTPD30.head()\n",
    "\n"
   ]
  },
  {
   "cell_type": "code",
   "execution_count": null,
   "metadata": {},
   "outputs": [],
   "source": []
  },
  {
   "cell_type": "markdown",
   "metadata": {},
   "source": [
    "## Combining data"
   ]
  },
  {
   "cell_type": "code",
   "execution_count": 140,
   "metadata": {},
   "outputs": [
    {
     "data": {
      "text/plain": [
       "array(['start_date', 'end_date', 'fu_credo_score_FPD10_gini', 'period',\n",
       "       'Model_Name', 'version', 'bad_rate', 'fu_credo_score_FPD30_gini',\n",
       "       'fu_credo_score_FSPD30_gini', 'fu_credo_score_FSTPD30_gini'],\n",
       "      dtype=object)"
      ]
     },
     "execution_count": 140,
     "metadata": {},
     "output_type": "execute_result"
    }
   ],
   "source": [
    "import functools\n",
    "\n",
    "dataframes = [M1FPD10, M2FPD30, M3FSPD30, M4FSTPD30]\n",
    "common_columns = ['start_date', 'end_date', 'period', 'Model_Name','version', 'bad_rate']\n",
    "\n",
    "def merge_dataframes(df1, df2):\n",
    "    return pd.merge(df1, df2, on=common_columns, how='outer')\n",
    "\n",
    "final_df = functools.reduce(merge_dataframes, dataframes)\n",
    "\n",
    "final_df.columns.values"
   ]
  },
  {
   "cell_type": "code",
   "execution_count": 141,
   "metadata": {},
   "outputs": [],
   "source": [
    "final_df = final_df[['start_date', 'end_date','period',    'Model_Name', 'version', 'bad_rate','fu_credo_score_FPD10_gini', 'fu_credo_score_FPD30_gini',    'fu_credo_score_FSPD30_gini', 'fu_credo_score_FSTPD30_gini']].copy()"
   ]
  },
  {
   "cell_type": "code",
   "execution_count": 142,
   "metadata": {},
   "outputs": [
    {
     "data": {
      "text/plain": [
       "QueryJob<project=prj-prod-dataplatform, location=asia-southeast1, id=90d69bd2-6f1e-4116-b3cb-1089e6d68db4>"
      ]
     },
     "execution_count": 142,
     "metadata": {},
     "output_type": "execute_result"
    }
   ],
   "source": [
    "sq = \"\"\"drop table if exists prj-prod-dataplatform.dap_ds_poweruser_playground.Model_gini_fu_credo_score\"\"\"\n",
    "client.query(sq)"
   ]
  },
  {
   "cell_type": "code",
   "execution_count": 143,
   "metadata": {},
   "outputs": [
    {
     "data": {
      "text/plain": [
       "LoadJob<project=prj-prod-dataplatform, location=asia-southeast1, id=a2bdc0fa-88ba-4926-b144-500c412369e2>"
      ]
     },
     "execution_count": 143,
     "metadata": {},
     "output_type": "execute_result"
    }
   ],
   "source": [
    "import pandas as pd\n",
    "from google.cloud import bigquery\n",
    "\n",
    "# Create a BigQuery client\n",
    "client = bigquery.Client('prj-prod-dataplatform')\n",
    "\n",
    "# Define your table schema\n",
    "table_schema = [\n",
    "    bigquery.SchemaField('start_date', 'TIMESTAMP'),\n",
    "    bigquery.SchemaField('end_date', 'TIMESTAMP'),\n",
    "    bigquery.SchemaField('period', 'STRING'),\n",
    "    bigquery.SchemaField('Model_Name', 'STRING'),\n",
    "    bigquery.SchemaField('version', 'STRING'),\n",
    "    bigquery.SchemaField('Badrate', 'STRING'),\n",
    "    bigquery.SchemaField('fu_credo_score_FPD10_gini', 'FLOAT'),\n",
    "    bigquery.SchemaField('fu_credo_score_FPD30_gini', 'FLOAT'),    \n",
    "    bigquery.SchemaField('fu_credo_score_FSPD30_gini', 'FLOAT'),\n",
    "    bigquery.SchemaField('fu_credo_score_FSTPD30_gini', 'FLOAT')\n",
    "    \n",
    "]\n",
    "\n",
    "# Create your BigQuery table\n",
    "table_id = 'prj-prod-dataplatform.dap_ds_poweruser_playground.Model_gini_fu_credo_score'\n",
    "table = bigquery.Table(table_id, schema=table_schema)\n",
    "table = client.create_table(table)\n",
    "\n",
    "# Load your DataFrame into BigQuery\n",
    "job_config = bigquery.LoadJobConfig(\n",
    "    write_disposition='WRITE_TRUNCATE'\n",
    ")\n",
    "\n",
    "load_job = client.load_table_from_dataframe(\n",
    "    final_df, table_id, job_config=job_config\n",
    ")\n",
    "\n",
    "load_job.result()"
   ]
  },
  {
   "cell_type": "code",
   "execution_count": 144,
   "metadata": {},
   "outputs": [
    {
     "data": {
      "application/vnd.microsoft.datawrangler.viewer.v0+json": {
       "columns": [
        {
         "name": "index",
         "rawType": "int64",
         "type": "integer"
        },
        {
         "name": "start_date",
         "rawType": "datetime64[ns]",
         "type": "datetime"
        },
        {
         "name": "end_date",
         "rawType": "datetime64[ns]",
         "type": "datetime"
        },
        {
         "name": "period",
         "rawType": "object",
         "type": "string"
        },
        {
         "name": "Model_Name",
         "rawType": "object",
         "type": "string"
        },
        {
         "name": "version",
         "rawType": "object",
         "type": "string"
        },
        {
         "name": "bad_rate",
         "rawType": "object",
         "type": "string"
        },
        {
         "name": "fu_credo_score_FPD10_gini",
         "rawType": "float64",
         "type": "float"
        },
        {
         "name": "fu_credo_score_FPD30_gini",
         "rawType": "float64",
         "type": "float"
        },
        {
         "name": "fu_credo_score_FSPD30_gini",
         "rawType": "float64",
         "type": "float"
        },
        {
         "name": "fu_credo_score_FSTPD30_gini",
         "rawType": "float64",
         "type": "float"
        }
       ],
       "conversionMethod": "pd.DataFrame",
       "ref": "227df2f8-e4ca-4447-a29a-94a2abf02bfa",
       "rows": [
        [
         "0",
         "2023-01-01 00:00:00",
         "2023-01-31 00:00:00",
         "Month",
         "fu_credo_score",
         "1.1.0",
         "FPD10",
         "0.023608316566062992",
         null,
         null,
         null
        ],
        [
         "1",
         "2023-01-02 00:00:00",
         "2023-01-08 00:00:00",
         "Week",
         "fu_credo_score",
         "1.1.0",
         "FPD10",
         "-0.03246421267893651",
         null,
         null,
         null
        ],
        [
         "2",
         "2023-01-09 00:00:00",
         "2023-01-15 00:00:00",
         "Week",
         "fu_credo_score",
         "1.1.0",
         "FPD10",
         "0.016278209396966226",
         null,
         null,
         null
        ],
        [
         "3",
         "2023-01-16 00:00:00",
         "2023-01-22 00:00:00",
         "Week",
         "fu_credo_score",
         "1.1.0",
         "FPD10",
         "0.1532467532467532",
         null,
         null,
         null
        ],
        [
         "4",
         "2023-01-23 00:00:00",
         "2023-01-29 00:00:00",
         "Week",
         "fu_credo_score",
         "1.1.0",
         "FPD10",
         "0.12024221453287187",
         null,
         null,
         null
        ]
       ],
       "shape": {
        "columns": 10,
        "rows": 5
       }
      },
      "text/html": [
       "<div>\n",
       "<style scoped>\n",
       "    .dataframe tbody tr th:only-of-type {\n",
       "        vertical-align: middle;\n",
       "    }\n",
       "\n",
       "    .dataframe tbody tr th {\n",
       "        vertical-align: top;\n",
       "    }\n",
       "\n",
       "    .dataframe thead th {\n",
       "        text-align: right;\n",
       "    }\n",
       "</style>\n",
       "<table border=\"1\" class=\"dataframe\">\n",
       "  <thead>\n",
       "    <tr style=\"text-align: right;\">\n",
       "      <th></th>\n",
       "      <th>start_date</th>\n",
       "      <th>end_date</th>\n",
       "      <th>period</th>\n",
       "      <th>Model_Name</th>\n",
       "      <th>version</th>\n",
       "      <th>bad_rate</th>\n",
       "      <th>fu_credo_score_FPD10_gini</th>\n",
       "      <th>fu_credo_score_FPD30_gini</th>\n",
       "      <th>fu_credo_score_FSPD30_gini</th>\n",
       "      <th>fu_credo_score_FSTPD30_gini</th>\n",
       "    </tr>\n",
       "  </thead>\n",
       "  <tbody>\n",
       "    <tr>\n",
       "      <th>0</th>\n",
       "      <td>2023-01-01</td>\n",
       "      <td>2023-01-31</td>\n",
       "      <td>Month</td>\n",
       "      <td>fu_credo_score</td>\n",
       "      <td>1.1.0</td>\n",
       "      <td>FPD10</td>\n",
       "      <td>0.023608</td>\n",
       "      <td>NaN</td>\n",
       "      <td>NaN</td>\n",
       "      <td>NaN</td>\n",
       "    </tr>\n",
       "    <tr>\n",
       "      <th>1</th>\n",
       "      <td>2023-01-02</td>\n",
       "      <td>2023-01-08</td>\n",
       "      <td>Week</td>\n",
       "      <td>fu_credo_score</td>\n",
       "      <td>1.1.0</td>\n",
       "      <td>FPD10</td>\n",
       "      <td>-0.032464</td>\n",
       "      <td>NaN</td>\n",
       "      <td>NaN</td>\n",
       "      <td>NaN</td>\n",
       "    </tr>\n",
       "    <tr>\n",
       "      <th>2</th>\n",
       "      <td>2023-01-09</td>\n",
       "      <td>2023-01-15</td>\n",
       "      <td>Week</td>\n",
       "      <td>fu_credo_score</td>\n",
       "      <td>1.1.0</td>\n",
       "      <td>FPD10</td>\n",
       "      <td>0.016278</td>\n",
       "      <td>NaN</td>\n",
       "      <td>NaN</td>\n",
       "      <td>NaN</td>\n",
       "    </tr>\n",
       "    <tr>\n",
       "      <th>3</th>\n",
       "      <td>2023-01-16</td>\n",
       "      <td>2023-01-22</td>\n",
       "      <td>Week</td>\n",
       "      <td>fu_credo_score</td>\n",
       "      <td>1.1.0</td>\n",
       "      <td>FPD10</td>\n",
       "      <td>0.153247</td>\n",
       "      <td>NaN</td>\n",
       "      <td>NaN</td>\n",
       "      <td>NaN</td>\n",
       "    </tr>\n",
       "    <tr>\n",
       "      <th>4</th>\n",
       "      <td>2023-01-23</td>\n",
       "      <td>2023-01-29</td>\n",
       "      <td>Week</td>\n",
       "      <td>fu_credo_score</td>\n",
       "      <td>1.1.0</td>\n",
       "      <td>FPD10</td>\n",
       "      <td>0.120242</td>\n",
       "      <td>NaN</td>\n",
       "      <td>NaN</td>\n",
       "      <td>NaN</td>\n",
       "    </tr>\n",
       "  </tbody>\n",
       "</table>\n",
       "</div>"
      ],
      "text/plain": [
       "  start_date   end_date period      Model_Name version bad_rate  \\\n",
       "0 2023-01-01 2023-01-31  Month  fu_credo_score   1.1.0    FPD10   \n",
       "1 2023-01-02 2023-01-08   Week  fu_credo_score   1.1.0    FPD10   \n",
       "2 2023-01-09 2023-01-15   Week  fu_credo_score   1.1.0    FPD10   \n",
       "3 2023-01-16 2023-01-22   Week  fu_credo_score   1.1.0    FPD10   \n",
       "4 2023-01-23 2023-01-29   Week  fu_credo_score   1.1.0    FPD10   \n",
       "\n",
       "   fu_credo_score_FPD10_gini  fu_credo_score_FPD30_gini  \\\n",
       "0                   0.023608                        NaN   \n",
       "1                  -0.032464                        NaN   \n",
       "2                   0.016278                        NaN   \n",
       "3                   0.153247                        NaN   \n",
       "4                   0.120242                        NaN   \n",
       "\n",
       "   fu_credo_score_FSPD30_gini  fu_credo_score_FSTPD30_gini  \n",
       "0                         NaN                          NaN  \n",
       "1                         NaN                          NaN  \n",
       "2                         NaN                          NaN  \n",
       "3                         NaN                          NaN  \n",
       "4                         NaN                          NaN  "
      ]
     },
     "execution_count": 144,
     "metadata": {},
     "output_type": "execute_result"
    }
   ],
   "source": [
    "final_df.head()"
   ]
  },
  {
   "cell_type": "markdown",
   "metadata": {},
   "source": [
    "# r_credo_score"
   ]
  },
  {
   "cell_type": "code",
   "execution_count": 145,
   "metadata": {},
   "outputs": [
    {
     "name": "stdout",
     "output_type": "stream",
     "text": [
      "Job ID bd457e38-7963-4ead-9f42-030ed8a4076e successfully executed: 100%|\u001b[32m██████████\u001b[0m|"
     ]
    },
    {
     "name": "stderr",
     "output_type": "stream",
     "text": [
      "d:\\Anaconda3\\envs\\inc_env\\lib\\site-packages\\google\\cloud\\bigquery\\table.py:1820: UserWarning: BigQuery Storage module not found, fetch data with the REST endpoint instead.\n",
      "  warnings.warn(\n"
     ]
    },
    {
     "name": "stdout",
     "output_type": "stream",
     "text": [
      "\n",
      "Downloading: 100%|\u001b[32m██████████\u001b[0m|\n",
      "The shape of dataframe after copy is:\t(134, 7)\n",
      "Job ID 34406b89-529d-4b50-af75-a30d782fb39c successfully executed: 100%|\u001b[32m██████████\u001b[0m|"
     ]
    },
    {
     "name": "stderr",
     "output_type": "stream",
     "text": [
      "d:\\Anaconda3\\envs\\inc_env\\lib\\site-packages\\google\\cloud\\bigquery\\table.py:1820: UserWarning: BigQuery Storage module not found, fetch data with the REST endpoint instead.\n",
      "  warnings.warn(\n"
     ]
    },
    {
     "name": "stdout",
     "output_type": "stream",
     "text": [
      "\n",
      "Downloading: 100%|\u001b[32m██████████\u001b[0m|\n",
      "The shape of dataframe after copy is:\t(131, 7)\n",
      "Job ID 338d48c4-e2ba-47f5-b386-772bbfa2bff7 successfully executed: 100%|\u001b[32m██████████\u001b[0m|"
     ]
    },
    {
     "name": "stderr",
     "output_type": "stream",
     "text": [
      "d:\\Anaconda3\\envs\\inc_env\\lib\\site-packages\\google\\cloud\\bigquery\\table.py:1820: UserWarning: BigQuery Storage module not found, fetch data with the REST endpoint instead.\n",
      "  warnings.warn(\n"
     ]
    },
    {
     "name": "stdout",
     "output_type": "stream",
     "text": [
      "\n",
      "Downloading: 100%|\u001b[32m██████████\u001b[0m|\n",
      "     disbursementdate                  digitalLoanAccountId  r_credo_score  \\\n",
      "0 2024-07-16 19:09:27  a731f941-ed8a-4278-9ba4-1fd41132aa5e       0.366342   \n",
      "1 2024-02-26 15:08:47  acebf8de-bd42-4b00-83bc-d7c0999a7488       0.308916   \n",
      "\n",
      "   ln_fspd30_flag  ln_mature_fspd30_flag  \n",
      "0               0                      1  \n",
      "1               0                      1  \n",
      "The shape of dataframe after copy is:\t(126, 7)\n",
      "['start_date' 'end_date' 'r_credo_score_FSPD30_gini' 'period' 'Model_Name'\n",
      " 'version' 'bad_rate']\n",
      "Job ID 94e05c7a-e698-42a3-a28f-6492c89c9f9c successfully executed: 100%|\u001b[32m██████████\u001b[0m|"
     ]
    },
    {
     "name": "stderr",
     "output_type": "stream",
     "text": [
      "d:\\Anaconda3\\envs\\inc_env\\lib\\site-packages\\google\\cloud\\bigquery\\table.py:1820: UserWarning: BigQuery Storage module not found, fetch data with the REST endpoint instead.\n",
      "  warnings.warn(\n"
     ]
    },
    {
     "name": "stdout",
     "output_type": "stream",
     "text": [
      "\n",
      "Downloading: 100%|\u001b[32m██████████\u001b[0m|\n",
      "     disbursementdate                  digitalLoanAccountId  r_credo_score  \\\n",
      "0 2024-09-01 15:18:37  1a2cb6f2-e66f-444a-ba22-a05cb5652ef2       0.277636   \n",
      "1 2024-05-02 17:24:11  9b118965-74ea-4832-a640-8b5ea2cc140e       0.029013   \n",
      "\n",
      "   ln_fstpd30_flag  ln_mature_fstpd30_flag  \n",
      "0                0                       1  \n",
      "1                0                       1  \n",
      "The shape of dataframe after copy is:\t(120, 7)\n",
      "['start_date' 'end_date' 'r_credo_score_FSTPD30_gini' 'period'\n",
      " 'Model_Name' 'version' 'bad_rate']\n"
     ]
    },
    {
     "data": {
      "application/vnd.microsoft.datawrangler.viewer.v0+json": {
       "columns": [
        {
         "name": "index",
         "rawType": "int64",
         "type": "integer"
        },
        {
         "name": "start_date",
         "rawType": "datetime64[ns]",
         "type": "datetime"
        },
        {
         "name": "end_date",
         "rawType": "datetime64[ns]",
         "type": "datetime"
        },
        {
         "name": "r_credo_score_FSTPD30_gini",
         "rawType": "float64",
         "type": "float"
        },
        {
         "name": "period",
         "rawType": "object",
         "type": "string"
        },
        {
         "name": "Model_Name",
         "rawType": "object",
         "type": "string"
        },
        {
         "name": "version",
         "rawType": "object",
         "type": "string"
        },
        {
         "name": "bad_rate",
         "rawType": "object",
         "type": "string"
        }
       ],
       "conversionMethod": "pd.DataFrame",
       "ref": "246211a2-1d13-497d-b95b-80f7139419eb",
       "rows": [
        [
         "0",
         "2023-01-01 00:00:00",
         "2023-01-31 00:00:00",
         "0.0489843796400784",
         "Month",
         "r_credo_score",
         "1.1.0",
         "FSTPD30"
        ],
        [
         "1",
         "2023-01-02 00:00:00",
         "2023-01-08 00:00:00",
         "0.014954742227469398",
         "Week",
         "r_credo_score",
         "1.1.0",
         "FSTPD30"
        ],
        [
         "2",
         "2023-01-09 00:00:00",
         "2023-01-15 00:00:00",
         "0.1938851603281131",
         "Week",
         "r_credo_score",
         "1.1.0",
         "FSTPD30"
        ],
        [
         "3",
         "2023-01-16 00:00:00",
         "2023-01-22 00:00:00",
         "-0.01905550952775481",
         "Week",
         "r_credo_score",
         "1.1.0",
         "FSTPD30"
        ],
        [
         "4",
         "2023-01-23 00:00:00",
         "2023-01-29 00:00:00",
         "0.024691358024691468",
         "Week",
         "r_credo_score",
         "1.1.0",
         "FSTPD30"
        ]
       ],
       "shape": {
        "columns": 7,
        "rows": 5
       }
      },
      "text/html": [
       "<div>\n",
       "<style scoped>\n",
       "    .dataframe tbody tr th:only-of-type {\n",
       "        vertical-align: middle;\n",
       "    }\n",
       "\n",
       "    .dataframe tbody tr th {\n",
       "        vertical-align: top;\n",
       "    }\n",
       "\n",
       "    .dataframe thead th {\n",
       "        text-align: right;\n",
       "    }\n",
       "</style>\n",
       "<table border=\"1\" class=\"dataframe\">\n",
       "  <thead>\n",
       "    <tr style=\"text-align: right;\">\n",
       "      <th></th>\n",
       "      <th>start_date</th>\n",
       "      <th>end_date</th>\n",
       "      <th>r_credo_score_FSTPD30_gini</th>\n",
       "      <th>period</th>\n",
       "      <th>Model_Name</th>\n",
       "      <th>version</th>\n",
       "      <th>bad_rate</th>\n",
       "    </tr>\n",
       "  </thead>\n",
       "  <tbody>\n",
       "    <tr>\n",
       "      <th>0</th>\n",
       "      <td>2023-01-01</td>\n",
       "      <td>2023-01-31</td>\n",
       "      <td>0.048984</td>\n",
       "      <td>Month</td>\n",
       "      <td>r_credo_score</td>\n",
       "      <td>1.1.0</td>\n",
       "      <td>FSTPD30</td>\n",
       "    </tr>\n",
       "    <tr>\n",
       "      <th>1</th>\n",
       "      <td>2023-01-02</td>\n",
       "      <td>2023-01-08</td>\n",
       "      <td>0.014955</td>\n",
       "      <td>Week</td>\n",
       "      <td>r_credo_score</td>\n",
       "      <td>1.1.0</td>\n",
       "      <td>FSTPD30</td>\n",
       "    </tr>\n",
       "    <tr>\n",
       "      <th>2</th>\n",
       "      <td>2023-01-09</td>\n",
       "      <td>2023-01-15</td>\n",
       "      <td>0.193885</td>\n",
       "      <td>Week</td>\n",
       "      <td>r_credo_score</td>\n",
       "      <td>1.1.0</td>\n",
       "      <td>FSTPD30</td>\n",
       "    </tr>\n",
       "    <tr>\n",
       "      <th>3</th>\n",
       "      <td>2023-01-16</td>\n",
       "      <td>2023-01-22</td>\n",
       "      <td>-0.019056</td>\n",
       "      <td>Week</td>\n",
       "      <td>r_credo_score</td>\n",
       "      <td>1.1.0</td>\n",
       "      <td>FSTPD30</td>\n",
       "    </tr>\n",
       "    <tr>\n",
       "      <th>4</th>\n",
       "      <td>2023-01-23</td>\n",
       "      <td>2023-01-29</td>\n",
       "      <td>0.024691</td>\n",
       "      <td>Week</td>\n",
       "      <td>r_credo_score</td>\n",
       "      <td>1.1.0</td>\n",
       "      <td>FSTPD30</td>\n",
       "    </tr>\n",
       "  </tbody>\n",
       "</table>\n",
       "</div>"
      ],
      "text/plain": [
       "  start_date   end_date  r_credo_score_FSTPD30_gini period     Model_Name  \\\n",
       "0 2023-01-01 2023-01-31                    0.048984  Month  r_credo_score   \n",
       "1 2023-01-02 2023-01-08                    0.014955   Week  r_credo_score   \n",
       "2 2023-01-09 2023-01-15                    0.193885   Week  r_credo_score   \n",
       "3 2023-01-16 2023-01-22                   -0.019056   Week  r_credo_score   \n",
       "4 2023-01-23 2023-01-29                    0.024691   Week  r_credo_score   \n",
       "\n",
       "  version bad_rate  \n",
       "0   1.1.0  FSTPD30  \n",
       "1   1.1.0  FSTPD30  \n",
       "2   1.1.0  FSTPD30  \n",
       "3   1.1.0  FSTPD30  \n",
       "4   1.1.0  FSTPD30  "
      ]
     },
     "execution_count": 145,
     "metadata": {},
     "output_type": "execute_result"
    }
   ],
   "source": [
    "\n",
    "\n",
    "sq = \"\"\"\n",
    "with r_credo_score as \n",
    "(SELECT \n",
    "    ln_disb_dtime disbursementdate,\n",
    "\tdigitalLoanAccountId,\n",
    "    credo_reloan_score r_credo_score,\n",
    "    ln_fpd10_flag,\n",
    "\tln_mature_fpd10_flag,\t\n",
    "\tFROM \n",
    "    risk_mart.sil_risk_ds_master_20230101_20250309\n",
    "  WHERE \n",
    "     -- ln_disb_dtime >= '2023-07-01'\n",
    "    ln_appln_submit_datetime >= '2023-01-01'\n",
    "  -- AND\n",
    "  --   format_date('%Y-%m', ln_disb_dtime) = '2024-09'\n",
    "  AND\n",
    "    ln_fpd10_flag is not null\n",
    "  AND\n",
    "    credo_reloan_score is not null\n",
    "  AND\n",
    "    ln_mature_fpd10_flag = 1\n",
    ")\n",
    "select * from r_credo_score;\n",
    "\"\"\"\n",
    "\n",
    "r_credo_scorefpd10 = client.query(sq).to_dataframe(progress_bar_type='tqdm')\n",
    "\n",
    "r_credo_scorefpd10.head()\n",
    "\n",
    "gini_results = calculate_periodic_gini(r_credo_scorefpd10, 'r_credo_score', 'ln_fpd10_flag', 'FPD10')\n",
    "M1FPD10 = gini_results.copy()\n",
    "print(f\"The shape of dataframe after copy is:\\t{M1FPD10.shape}\")\n",
    "M1FPD10.columns.values\n",
    "\n",
    "# FPD30\n",
    "\n",
    "sq = \"\"\"\n",
    "with r_credo_score as \n",
    "(SELECT \n",
    "    ln_disb_dtime disbursementdate,\n",
    "\tdigitalLoanAccountId,\n",
    "    credo_reloan_score r_credo_score,\n",
    "    ln_fpd30_flag,\n",
    "\tln_mature_fpd30_flag,\t\n",
    "\tFROM \n",
    "    risk_mart.sil_risk_ds_master_20230101_20250309\n",
    "  WHERE \n",
    "     -- ln_disb_dtime >= '2023-07-01'\n",
    "    ln_appln_submit_datetime >= '2023-01-01'\n",
    "  -- AND\n",
    "  --   format_date('%Y-%m', ln_disb_dtime) = '2024-09'\n",
    "  AND\n",
    "    ln_fpd30_flag is not null\n",
    "  AND\n",
    "    credo_reloan_score is not null\n",
    "  AND\n",
    "    ln_mature_fpd30_flag = 1\n",
    ")\n",
    "select * from r_credo_score;\n",
    "\"\"\"\n",
    "\n",
    "r_credo_scorefpd30 = client.query(sq).to_dataframe(progress_bar_type='tqdm')\n",
    "\n",
    "r_credo_scorefpd30.head()\n",
    "\n",
    "gini_results = calculate_periodic_gini(r_credo_scorefpd30, 'r_credo_score', 'ln_fpd30_flag', 'FPD30')\n",
    "M2FPD30 = gini_results.copy()\n",
    "print(f\"The shape of dataframe after copy is:\\t{M2FPD30.shape}\")\n",
    "M2FPD30.columns.values\n",
    "\n",
    "sq = \"\"\"\n",
    "with r_credo_score as \n",
    "(SELECT \n",
    "    ln_disb_dtime disbursementdate,\n",
    "\tdigitalLoanAccountId,\n",
    "    credo_reloan_score r_credo_score,\n",
    "    ln_fspd30_flag,\n",
    "\tln_mature_fspd30_flag,\t\n",
    "\tFROM \n",
    "    risk_mart.sil_risk_ds_master_20230101_20250309\n",
    "  WHERE \n",
    "     -- ln_disb_dtime >= '2023-07-01'\n",
    "    ln_appln_submit_datetime >= '2023-01-01'\n",
    "  -- AND\n",
    "  --   format_date('%Y-%m', ln_disb_dtime) = '2024-09'\n",
    "  AND\n",
    "    ln_fspd30_flag is not null\n",
    "  AND\n",
    "    credo_reloan_score is not null\n",
    "  AND\n",
    "    ln_mature_fspd30_flag = 1\n",
    ")\n",
    "select * from r_credo_score;\n",
    "\"\"\"\n",
    "\n",
    "r_credo_scorefspd30 = client.query(sq).to_dataframe(progress_bar_type='tqdm')\n",
    "\n",
    "print(r_credo_scorefspd30.head(2))\n",
    "\n",
    "gini_results = calculate_periodic_gini(r_credo_scorefspd30, 'r_credo_score', 'ln_fspd30_flag', 'FSPD30')\n",
    "M3FSPD30 = gini_results.copy()\n",
    "print(f\"The shape of dataframe after copy is:\\t{M3FSPD30.shape}\")\n",
    "print(M3FSPD30.columns.values)\n",
    "\n",
    "M3FSPD30.head()\n",
    "\n",
    "sq = \"\"\"\n",
    "with r_credo_score as \n",
    "(SELECT \n",
    "    ln_disb_dtime disbursementdate,\n",
    "\tdigitalLoanAccountId,\n",
    "    credo_reloan_score r_credo_score,\n",
    "    ln_fstpd30_flag,\n",
    "\tln_mature_fstpd30_flag,\t\n",
    "\tFROM \n",
    "    risk_mart.sil_risk_ds_master_20230101_20250309\n",
    "  WHERE \n",
    "     -- ln_disb_dtime >= '2023-07-01'\n",
    "    ln_appln_submit_datetime >= '2023-01-01'\n",
    "  -- AND\n",
    "  --   format_date('%Y-%m', ln_disb_dtime) = '2024-09'\n",
    "  AND\n",
    "    ln_fstpd30_flag is not null\n",
    "  AND\n",
    "    credo_reloan_score is not null\n",
    "  AND\n",
    "    ln_mature_fstpd30_flag = 1\n",
    ")\n",
    "select * from r_credo_score;\n",
    "\"\"\"\n",
    "\n",
    "r_credo_scorefstpd30 = client.query(sq).to_dataframe(progress_bar_type='tqdm')\n",
    "\n",
    "print(r_credo_scorefstpd30.head(2))\n",
    "\n",
    "gini_results = calculate_periodic_gini(r_credo_scorefstpd30, 'r_credo_score', 'ln_fstpd30_flag', 'FSTPD30')\n",
    "M4FSTPD30 = gini_results.copy()\n",
    "print(f\"The shape of dataframe after copy is:\\t{M4FSTPD30.shape}\")\n",
    "print(M4FSTPD30.columns.values)\n",
    "\n",
    "M4FSTPD30.head()\n",
    "\n"
   ]
  },
  {
   "cell_type": "markdown",
   "metadata": {},
   "source": [
    "## Combining data"
   ]
  },
  {
   "cell_type": "code",
   "execution_count": 146,
   "metadata": {},
   "outputs": [
    {
     "data": {
      "text/plain": [
       "array(['start_date', 'end_date', 'r_credo_score_FPD10_gini', 'period',\n",
       "       'Model_Name', 'version', 'bad_rate', 'r_credo_score_FPD30_gini',\n",
       "       'r_credo_score_FSPD30_gini', 'r_credo_score_FSTPD30_gini'],\n",
       "      dtype=object)"
      ]
     },
     "execution_count": 146,
     "metadata": {},
     "output_type": "execute_result"
    }
   ],
   "source": [
    "import functools\n",
    "\n",
    "dataframes = [M1FPD10, M2FPD30, M3FSPD30, M4FSTPD30]\n",
    "common_columns = ['start_date', 'end_date', 'period', 'Model_Name','version', 'bad_rate']\n",
    "\n",
    "def merge_dataframes(df1, df2):\n",
    "    return pd.merge(df1, df2, on=common_columns, how='outer')\n",
    "\n",
    "final_df = functools.reduce(merge_dataframes, dataframes)\n",
    "\n",
    "final_df.columns.values"
   ]
  },
  {
   "cell_type": "code",
   "execution_count": 147,
   "metadata": {},
   "outputs": [],
   "source": [
    "final_df = final_df[['start_date', 'end_date', 'period',   'Model_Name', 'version', 'bad_rate','r_credo_score_FPD10_gini','r_credo_score_FPD30_gini',    'r_credo_score_FSPD30_gini', 'r_credo_score_FSTPD30_gini']].copy()"
   ]
  },
  {
   "cell_type": "code",
   "execution_count": null,
   "metadata": {},
   "outputs": [],
   "source": []
  },
  {
   "cell_type": "code",
   "execution_count": 148,
   "metadata": {},
   "outputs": [
    {
     "data": {
      "text/plain": [
       "QueryJob<project=prj-prod-dataplatform, location=asia-southeast1, id=529bd70a-d981-4352-8758-88dc4c501814>"
      ]
     },
     "execution_count": 148,
     "metadata": {},
     "output_type": "execute_result"
    }
   ],
   "source": [
    "sq = \"\"\"drop table if exists prj-prod-dataplatform.dap_ds_poweruser_playground.Model_gini_r_credo_score;\"\"\"\n",
    "client.query(sq)"
   ]
  },
  {
   "cell_type": "code",
   "execution_count": 149,
   "metadata": {},
   "outputs": [
    {
     "data": {
      "text/plain": [
       "LoadJob<project=prj-prod-dataplatform, location=asia-southeast1, id=2811a005-7b19-4c4c-bf19-300d55bef224>"
      ]
     },
     "execution_count": 149,
     "metadata": {},
     "output_type": "execute_result"
    }
   ],
   "source": [
    "import pandas as pd\n",
    "from google.cloud import bigquery\n",
    "\n",
    "# Create a BigQuery client\n",
    "client = bigquery.Client('prj-prod-dataplatform')\n",
    "\n",
    "# Define your table schema\n",
    "table_schema = [\n",
    "    bigquery.SchemaField('start_date', 'TIMESTAMP'),\n",
    "    bigquery.SchemaField('end_date', 'TIMESTAMP'),\n",
    "    bigquery.SchemaField('period', 'STRING'),\n",
    "    bigquery.SchemaField('Model_Name', 'STRING'),\n",
    "    bigquery.SchemaField('version', 'STRING'),\n",
    "    bigquery.SchemaField('Badrate', 'STRING'),\n",
    "    bigquery.SchemaField('r_credo_score_FPD10_gini', 'FLOAT'),\n",
    "    bigquery.SchemaField('r_credo_score_FPD30_gini', 'FLOAT'),    \n",
    "    bigquery.SchemaField('r_credo_score_FSPD30_gini', 'FLOAT'),\n",
    "    bigquery.SchemaField('r_credo_score_FSTPD30_gini', 'FLOAT')\n",
    "    \n",
    "]\n",
    "\n",
    "# Create your BigQuery table\n",
    "table_id = 'prj-prod-dataplatform.dap_ds_poweruser_playground.Model_gini_r_credo_score'\n",
    "table = bigquery.Table(table_id, schema=table_schema)\n",
    "table = client.create_table(table)\n",
    "\n",
    "# Load your DataFrame into BigQuery\n",
    "job_config = bigquery.LoadJobConfig(\n",
    "    write_disposition='WRITE_TRUNCATE'\n",
    ")\n",
    "\n",
    "load_job = client.load_table_from_dataframe(\n",
    "    final_df, table_id, job_config=job_config\n",
    ")\n",
    "\n",
    "load_job.result()"
   ]
  },
  {
   "cell_type": "markdown",
   "metadata": {},
   "source": [
    "# old_gen_credo_score"
   ]
  },
  {
   "cell_type": "code",
   "execution_count": 150,
   "metadata": {},
   "outputs": [
    {
     "name": "stdout",
     "output_type": "stream",
     "text": [
      "Job ID be9bb607-f487-4f93-bf10-98d1facac7ad successfully executed: 100%|\u001b[32m██████████\u001b[0m|"
     ]
    },
    {
     "name": "stderr",
     "output_type": "stream",
     "text": [
      "d:\\Anaconda3\\envs\\inc_env\\lib\\site-packages\\google\\cloud\\bigquery\\table.py:1820: UserWarning: BigQuery Storage module not found, fetch data with the REST endpoint instead.\n",
      "  warnings.warn(\n"
     ]
    },
    {
     "name": "stdout",
     "output_type": "stream",
     "text": [
      "\n",
      "Downloading: 100%|\u001b[32m██████████\u001b[0m|\n",
      "The shape of dataframe after copy is:\t(134, 7)\n",
      "Job ID be28f3c8-aa4b-4fb9-af2a-0ed7dcad6b0a successfully executed: 100%|\u001b[32m██████████\u001b[0m|"
     ]
    },
    {
     "name": "stderr",
     "output_type": "stream",
     "text": [
      "d:\\Anaconda3\\envs\\inc_env\\lib\\site-packages\\google\\cloud\\bigquery\\table.py:1820: UserWarning: BigQuery Storage module not found, fetch data with the REST endpoint instead.\n",
      "  warnings.warn(\n"
     ]
    },
    {
     "name": "stdout",
     "output_type": "stream",
     "text": [
      "\n",
      "Downloading: 100%|\u001b[32m██████████\u001b[0m|\n",
      "The shape of dataframe after copy is:\t(131, 7)\n",
      "Job ID 8a5c15bc-cd55-4adf-be8c-802f9cb5570e successfully executed: 100%|\u001b[32m██████████\u001b[0m|"
     ]
    },
    {
     "name": "stderr",
     "output_type": "stream",
     "text": [
      "d:\\Anaconda3\\envs\\inc_env\\lib\\site-packages\\google\\cloud\\bigquery\\table.py:1820: UserWarning: BigQuery Storage module not found, fetch data with the REST endpoint instead.\n",
      "  warnings.warn(\n"
     ]
    },
    {
     "name": "stdout",
     "output_type": "stream",
     "text": [
      "\n",
      "Downloading: 100%|\u001b[32m██████████\u001b[0m|\n",
      "     disbursementdate                  digitalLoanAccountId  \\\n",
      "0 2024-05-02 17:24:11  9b118965-74ea-4832-a640-8b5ea2cc140e   \n",
      "1 2023-02-02 17:24:09  538a175e-1dcc-4cd9-8527-c1b0b6bf2ef3   \n",
      "\n",
      "  old_gen_credo_score  ln_fspd30_flag  ln_mature_fspd30_flag  \n",
      "0                 507               0                      1  \n",
      "1               496.0               0                      1  \n",
      "The shape of dataframe after copy is:\t(126, 7)\n",
      "['start_date' 'end_date' 'old_gen_credo_score_FSPD30_gini' 'period'\n",
      " 'Model_Name' 'version' 'bad_rate']\n",
      "Job ID 222dd103-5571-4086-b20e-e44877cbd756 successfully executed: 100%|\u001b[32m██████████\u001b[0m|"
     ]
    },
    {
     "name": "stderr",
     "output_type": "stream",
     "text": [
      "d:\\Anaconda3\\envs\\inc_env\\lib\\site-packages\\google\\cloud\\bigquery\\table.py:1820: UserWarning: BigQuery Storage module not found, fetch data with the REST endpoint instead.\n",
      "  warnings.warn(\n"
     ]
    },
    {
     "name": "stdout",
     "output_type": "stream",
     "text": [
      "\n",
      "Downloading: 100%|\u001b[32m██████████\u001b[0m|\n",
      "     disbursementdate                  digitalLoanAccountId  \\\n",
      "0 2024-05-02 17:24:11  9b118965-74ea-4832-a640-8b5ea2cc140e   \n",
      "1 2023-02-02 17:24:09  538a175e-1dcc-4cd9-8527-c1b0b6bf2ef3   \n",
      "\n",
      "  old_gen_credo_score  ln_fstpd30_flag  ln_mature_fstpd30_flag  \n",
      "0                 507                0                       1  \n",
      "1               496.0                0                       1  \n",
      "The shape of dataframe after copy is:\t(120, 7)\n",
      "['start_date' 'end_date' 'old_gen_credo_score_FSTPD30_gini' 'period'\n",
      " 'Model_Name' 'version' 'bad_rate']\n"
     ]
    },
    {
     "data": {
      "application/vnd.microsoft.datawrangler.viewer.v0+json": {
       "columns": [
        {
         "name": "index",
         "rawType": "int64",
         "type": "integer"
        },
        {
         "name": "start_date",
         "rawType": "datetime64[ns]",
         "type": "datetime"
        },
        {
         "name": "end_date",
         "rawType": "datetime64[ns]",
         "type": "datetime"
        },
        {
         "name": "old_gen_credo_score_FSTPD30_gini",
         "rawType": "float64",
         "type": "float"
        },
        {
         "name": "period",
         "rawType": "object",
         "type": "string"
        },
        {
         "name": "Model_Name",
         "rawType": "object",
         "type": "string"
        },
        {
         "name": "version",
         "rawType": "object",
         "type": "string"
        },
        {
         "name": "bad_rate",
         "rawType": "object",
         "type": "string"
        }
       ],
       "conversionMethod": "pd.DataFrame",
       "ref": "9dc53a4a-d998-44f1-889b-527322ee27f6",
       "rows": [
        [
         "0",
         "2023-01-01 00:00:00",
         "2023-01-31 00:00:00",
         "0.12145496985022697",
         "Month",
         "old_gen_credo_score",
         "1.1.0",
         "FSTPD30"
        ],
        [
         "1",
         "2023-01-02 00:00:00",
         "2023-01-08 00:00:00",
         "0.22981366459627273",
         "Week",
         "old_gen_credo_score",
         "1.1.0",
         "FSTPD30"
        ],
        [
         "2",
         "2023-01-09 00:00:00",
         "2023-01-15 00:00:00",
         "0.1453601557430233",
         "Week",
         "old_gen_credo_score",
         "1.1.0",
         "FSTPD30"
        ],
        [
         "3",
         "2023-01-16 00:00:00",
         "2023-01-22 00:00:00",
         "0.13018433179723443",
         "Week",
         "old_gen_credo_score",
         "1.1.0",
         "FSTPD30"
        ],
        [
         "4",
         "2023-01-23 00:00:00",
         "2023-01-29 00:00:00",
         "-0.0044642857142858094",
         "Week",
         "old_gen_credo_score",
         "1.1.0",
         "FSTPD30"
        ]
       ],
       "shape": {
        "columns": 7,
        "rows": 5
       }
      },
      "text/html": [
       "<div>\n",
       "<style scoped>\n",
       "    .dataframe tbody tr th:only-of-type {\n",
       "        vertical-align: middle;\n",
       "    }\n",
       "\n",
       "    .dataframe tbody tr th {\n",
       "        vertical-align: top;\n",
       "    }\n",
       "\n",
       "    .dataframe thead th {\n",
       "        text-align: right;\n",
       "    }\n",
       "</style>\n",
       "<table border=\"1\" class=\"dataframe\">\n",
       "  <thead>\n",
       "    <tr style=\"text-align: right;\">\n",
       "      <th></th>\n",
       "      <th>start_date</th>\n",
       "      <th>end_date</th>\n",
       "      <th>old_gen_credo_score_FSTPD30_gini</th>\n",
       "      <th>period</th>\n",
       "      <th>Model_Name</th>\n",
       "      <th>version</th>\n",
       "      <th>bad_rate</th>\n",
       "    </tr>\n",
       "  </thead>\n",
       "  <tbody>\n",
       "    <tr>\n",
       "      <th>0</th>\n",
       "      <td>2023-01-01</td>\n",
       "      <td>2023-01-31</td>\n",
       "      <td>0.121455</td>\n",
       "      <td>Month</td>\n",
       "      <td>old_gen_credo_score</td>\n",
       "      <td>1.1.0</td>\n",
       "      <td>FSTPD30</td>\n",
       "    </tr>\n",
       "    <tr>\n",
       "      <th>1</th>\n",
       "      <td>2023-01-02</td>\n",
       "      <td>2023-01-08</td>\n",
       "      <td>0.229814</td>\n",
       "      <td>Week</td>\n",
       "      <td>old_gen_credo_score</td>\n",
       "      <td>1.1.0</td>\n",
       "      <td>FSTPD30</td>\n",
       "    </tr>\n",
       "    <tr>\n",
       "      <th>2</th>\n",
       "      <td>2023-01-09</td>\n",
       "      <td>2023-01-15</td>\n",
       "      <td>0.145360</td>\n",
       "      <td>Week</td>\n",
       "      <td>old_gen_credo_score</td>\n",
       "      <td>1.1.0</td>\n",
       "      <td>FSTPD30</td>\n",
       "    </tr>\n",
       "    <tr>\n",
       "      <th>3</th>\n",
       "      <td>2023-01-16</td>\n",
       "      <td>2023-01-22</td>\n",
       "      <td>0.130184</td>\n",
       "      <td>Week</td>\n",
       "      <td>old_gen_credo_score</td>\n",
       "      <td>1.1.0</td>\n",
       "      <td>FSTPD30</td>\n",
       "    </tr>\n",
       "    <tr>\n",
       "      <th>4</th>\n",
       "      <td>2023-01-23</td>\n",
       "      <td>2023-01-29</td>\n",
       "      <td>-0.004464</td>\n",
       "      <td>Week</td>\n",
       "      <td>old_gen_credo_score</td>\n",
       "      <td>1.1.0</td>\n",
       "      <td>FSTPD30</td>\n",
       "    </tr>\n",
       "  </tbody>\n",
       "</table>\n",
       "</div>"
      ],
      "text/plain": [
       "  start_date   end_date  old_gen_credo_score_FSTPD30_gini period  \\\n",
       "0 2023-01-01 2023-01-31                          0.121455  Month   \n",
       "1 2023-01-02 2023-01-08                          0.229814   Week   \n",
       "2 2023-01-09 2023-01-15                          0.145360   Week   \n",
       "3 2023-01-16 2023-01-22                          0.130184   Week   \n",
       "4 2023-01-23 2023-01-29                         -0.004464   Week   \n",
       "\n",
       "            Model_Name version bad_rate  \n",
       "0  old_gen_credo_score   1.1.0  FSTPD30  \n",
       "1  old_gen_credo_score   1.1.0  FSTPD30  \n",
       "2  old_gen_credo_score   1.1.0  FSTPD30  \n",
       "3  old_gen_credo_score   1.1.0  FSTPD30  \n",
       "4  old_gen_credo_score   1.1.0  FSTPD30  "
      ]
     },
     "execution_count": 150,
     "metadata": {},
     "output_type": "execute_result"
    }
   ],
   "source": [
    "\n",
    "\n",
    "sq = \"\"\"\n",
    "with old_gen_credo_score as \n",
    "(SELECT \n",
    "    ln_disb_dtime disbursementdate,\n",
    "\tdigitalLoanAccountId,\n",
    "    credo_old_gen_score old_gen_credo_score,\n",
    "    ln_fpd10_flag,\n",
    "\tln_mature_fpd10_flag,\t\n",
    "\tFROM \n",
    "    risk_mart.sil_risk_ds_master_20230101_20250309\n",
    "  WHERE \n",
    "     -- ln_disb_dtime >= '2023-07-01'\n",
    "    ln_appln_submit_datetime >= '2023-01-01'\n",
    "  -- AND\n",
    "  --   format_date('%Y-%m', ln_disb_dtime) = '2024-09'\n",
    "  AND\n",
    "    ln_fpd10_flag is not null\n",
    "  AND\n",
    "    credo_old_gen_score is not null\n",
    "  AND\n",
    "    ln_mature_fpd10_flag = 1\n",
    ")\n",
    "select * from old_gen_credo_score;\n",
    "\"\"\"\n",
    "\n",
    "old_gen_credo_scorefpd10 = client.query(sq).to_dataframe(progress_bar_type='tqdm')\n",
    "\n",
    "old_gen_credo_scorefpd10.head()\n",
    "\n",
    "gini_results = calculate_periodic_gini_threedigit(old_gen_credo_scorefpd10, 'old_gen_credo_score', 'ln_fpd10_flag', 'FPD10')\n",
    "M1FPD10 = gini_results.copy()\n",
    "print(f\"The shape of dataframe after copy is:\\t{M1FPD10.shape}\")\n",
    "M1FPD10.columns.values\n",
    "\n",
    "# FPD30\n",
    "\n",
    "sq = \"\"\"\n",
    "with old_gen_credo_score as \n",
    "(SELECT \n",
    "    ln_disb_dtime disbursementdate,\n",
    "\tdigitalLoanAccountId,\n",
    "    credo_old_gen_score old_gen_credo_score,\n",
    "    ln_fpd30_flag,\n",
    "\tln_mature_fpd30_flag,\t\n",
    "\tFROM \n",
    "    risk_mart.sil_risk_ds_master_20230101_20250309\n",
    "  WHERE \n",
    "     -- ln_disb_dtime >= '2023-07-01'\n",
    "    ln_appln_submit_datetime >= '2023-01-01'\n",
    "  -- AND\n",
    "  --   format_date('%Y-%m', ln_disb_dtime) = '2024-09'\n",
    "  AND\n",
    "    ln_fpd30_flag is not null\n",
    "  AND\n",
    "    credo_old_gen_score is not null\n",
    "  AND\n",
    "    ln_mature_fpd30_flag = 1\n",
    ")\n",
    "select * from old_gen_credo_score;\n",
    "\"\"\"\n",
    "\n",
    "old_gen_credo_scorefpd30 = client.query(sq).to_dataframe(progress_bar_type='tqdm')\n",
    "\n",
    "old_gen_credo_scorefpd30.head()\n",
    "\n",
    "gini_results = calculate_periodic_gini_threedigit(old_gen_credo_scorefpd30, 'old_gen_credo_score', 'ln_fpd30_flag', 'FPD30')\n",
    "M2FPD30 = gini_results.copy()\n",
    "print(f\"The shape of dataframe after copy is:\\t{M2FPD30.shape}\")\n",
    "M2FPD30.columns.values\n",
    "\n",
    "sq = \"\"\"\n",
    "with old_gen_credo_score as \n",
    "(SELECT \n",
    "    ln_disb_dtime disbursementdate,\n",
    "\tdigitalLoanAccountId,\n",
    "    credo_old_gen_score old_gen_credo_score,\n",
    "    ln_fspd30_flag,\n",
    "\tln_mature_fspd30_flag,\t\n",
    "\tFROM \n",
    "    risk_mart.sil_risk_ds_master_20230101_20250309\n",
    "  WHERE \n",
    "     -- ln_disb_dtime >= '2023-07-01'\n",
    "    ln_appln_submit_datetime >= '2023-01-01'\n",
    "  -- AND\n",
    "  --   format_date('%Y-%m', ln_disb_dtime) = '2024-09'\n",
    "  AND\n",
    "    ln_fspd30_flag is not null\n",
    "  AND\n",
    "    credo_old_gen_score is not null\n",
    "  AND\n",
    "    ln_mature_fspd30_flag = 1\n",
    ")\n",
    "select * from old_gen_credo_score;\n",
    "\"\"\"\n",
    "\n",
    "old_gen_credo_scorefspd30 = client.query(sq).to_dataframe(progress_bar_type='tqdm')\n",
    "\n",
    "print(old_gen_credo_scorefspd30.head(2))\n",
    "\n",
    "gini_results = calculate_periodic_gini_threedigit(old_gen_credo_scorefspd30, 'old_gen_credo_score', 'ln_fspd30_flag', 'FSPD30')\n",
    "M3FSPD30 = gini_results.copy()\n",
    "print(f\"The shape of dataframe after copy is:\\t{M3FSPD30.shape}\")\n",
    "print(M3FSPD30.columns.values)\n",
    "\n",
    "M3FSPD30.head()\n",
    "\n",
    "sq = \"\"\"\n",
    "with old_gen_credo_score as \n",
    "(SELECT \n",
    "    ln_disb_dtime disbursementdate,\n",
    "\tdigitalLoanAccountId,\n",
    "    credo_old_gen_score old_gen_credo_score,\n",
    "    ln_fstpd30_flag,\n",
    "\tln_mature_fstpd30_flag,\t\n",
    "\tFROM \n",
    "    risk_mart.sil_risk_ds_master_20230101_20250309\n",
    "  WHERE \n",
    "     -- ln_disb_dtime >= '2023-07-01'\n",
    "    ln_appln_submit_datetime >= '2023-01-01'\n",
    "  -- AND\n",
    "  --   format_date('%Y-%m', ln_disb_dtime) = '2024-09'\n",
    "  AND\n",
    "    ln_fstpd30_flag is not null\n",
    "  AND\n",
    "    credo_old_gen_score is not null\n",
    "  AND\n",
    "    ln_mature_fstpd30_flag = 1\n",
    ")\n",
    "select * from old_gen_credo_score;\n",
    "\"\"\"\n",
    "\n",
    "old_gen_credo_scorefstpd30 = client.query(sq).to_dataframe(progress_bar_type='tqdm')\n",
    "\n",
    "print(old_gen_credo_scorefstpd30.head(2))\n",
    "\n",
    "gini_results = calculate_periodic_gini_threedigit(old_gen_credo_scorefstpd30, 'old_gen_credo_score', 'ln_fstpd30_flag', 'FSTPD30')\n",
    "M4FSTPD30 = gini_results.copy()\n",
    "print(f\"The shape of dataframe after copy is:\\t{M4FSTPD30.shape}\")\n",
    "print(M4FSTPD30.columns.values)\n",
    "\n",
    "M4FSTPD30.head()\n",
    "\n"
   ]
  },
  {
   "cell_type": "markdown",
   "metadata": {},
   "source": [
    "## Combining data"
   ]
  },
  {
   "cell_type": "code",
   "execution_count": 151,
   "metadata": {},
   "outputs": [
    {
     "data": {
      "text/plain": [
       "array(['start_date', 'end_date', 'old_gen_credo_score_FPD10_gini',\n",
       "       'period', 'Model_Name', 'version', 'bad_rate',\n",
       "       'old_gen_credo_score_FPD30_gini',\n",
       "       'old_gen_credo_score_FSPD30_gini',\n",
       "       'old_gen_credo_score_FSTPD30_gini'], dtype=object)"
      ]
     },
     "execution_count": 151,
     "metadata": {},
     "output_type": "execute_result"
    }
   ],
   "source": [
    "import functools\n",
    "\n",
    "dataframes = [M1FPD10, M2FPD30, M3FSPD30, M4FSTPD30]\n",
    "common_columns = ['start_date', 'end_date', 'period', 'Model_Name','version', 'bad_rate']\n",
    "\n",
    "def merge_dataframes(df1, df2):\n",
    "    return pd.merge(df1, df2, on=common_columns, how='outer')\n",
    "\n",
    "final_df = functools.reduce(merge_dataframes, dataframes)\n",
    "\n",
    "final_df.columns.values"
   ]
  },
  {
   "cell_type": "code",
   "execution_count": 152,
   "metadata": {},
   "outputs": [],
   "source": [
    "final_df = final_df[['start_date', 'end_date', 'period',   'Model_Name', 'version', 'bad_rate','old_gen_credo_score_FPD10_gini','old_gen_credo_score_FPD30_gini',    'old_gen_credo_score_FSPD30_gini', 'old_gen_credo_score_FSTPD30_gini']].copy()"
   ]
  },
  {
   "cell_type": "code",
   "execution_count": null,
   "metadata": {},
   "outputs": [],
   "source": []
  },
  {
   "cell_type": "code",
   "execution_count": 153,
   "metadata": {},
   "outputs": [
    {
     "data": {
      "text/plain": [
       "QueryJob<project=prj-prod-dataplatform, location=asia-southeast1, id=3ef75cfc-ac2f-41ca-823a-3716da819459>"
      ]
     },
     "execution_count": 153,
     "metadata": {},
     "output_type": "execute_result"
    }
   ],
   "source": [
    "sq = \"\"\"drop table if exists prj-prod-dataplatform.dap_ds_poweruser_playground.Model_gini_old_gen_credo_score;\"\"\"\n",
    "client.query(sq)"
   ]
  },
  {
   "cell_type": "code",
   "execution_count": 154,
   "metadata": {},
   "outputs": [
    {
     "data": {
      "text/plain": [
       "LoadJob<project=prj-prod-dataplatform, location=asia-southeast1, id=49164b47-8ade-478a-b90e-2294be858fea>"
      ]
     },
     "execution_count": 154,
     "metadata": {},
     "output_type": "execute_result"
    }
   ],
   "source": [
    "import pandas as pd\n",
    "from google.cloud import bigquery\n",
    "\n",
    "# Create a BigQuery client\n",
    "client = bigquery.Client('prj-prod-dataplatform')\n",
    "\n",
    "# Define your table schema\n",
    "table_schema = [\n",
    "    bigquery.SchemaField('start_date', 'TIMESTAMP'),\n",
    "    bigquery.SchemaField('end_date', 'TIMESTAMP'),\n",
    "    bigquery.SchemaField('period', 'STRING'),\n",
    "    bigquery.SchemaField('Model_Name', 'STRING'),\n",
    "    bigquery.SchemaField('version', 'STRING'),\n",
    "    bigquery.SchemaField('Badrate', 'STRING'),\n",
    "    bigquery.SchemaField('old_gen_credo_score_FPD10_gini', 'FLOAT'),\n",
    "    bigquery.SchemaField('old_gen_credo_score_FPD30_gini', 'FLOAT'),    \n",
    "    bigquery.SchemaField('old_gen_credo_score_FSPD30_gini', 'FLOAT'),\n",
    "    bigquery.SchemaField('old_gen_credo_score_FSTPD30_gini', 'FLOAT')\n",
    "    \n",
    "]\n",
    "\n",
    "# Create your BigQuery table\n",
    "table_id = 'prj-prod-dataplatform.dap_ds_poweruser_playground.Model_gini_old_gen_credo_score'\n",
    "table = bigquery.Table(table_id, schema=table_schema)\n",
    "table = client.create_table(table)\n",
    "\n",
    "# Load your DataFrame into BigQuery\n",
    "job_config = bigquery.LoadJobConfig(\n",
    "    write_disposition='WRITE_TRUNCATE'\n",
    ")\n",
    "\n",
    "load_job = client.load_table_from_dataframe(\n",
    "    final_df, table_id, job_config=job_config\n",
    ")\n",
    "\n",
    "load_job.result()"
   ]
  },
  {
   "cell_type": "code",
   "execution_count": 155,
   "metadata": {},
   "outputs": [
    {
     "name": "stdout",
     "output_type": "stream",
     "text": [
      "Job ID e9a10a97-2751-4980-b718-212d22d28b28 successfully executed: 100%|\u001b[32m██████████\u001b[0m|"
     ]
    },
    {
     "name": "stderr",
     "output_type": "stream",
     "text": [
      "d:\\Anaconda3\\envs\\inc_env\\lib\\site-packages\\google\\cloud\\bigquery\\table.py:1820: UserWarning: BigQuery Storage module not found, fetch data with the REST endpoint instead.\n",
      "  warnings.warn(\n"
     ]
    },
    {
     "name": "stdout",
     "output_type": "stream",
     "text": [
      "\n",
      "Downloading: 100%|\u001b[32m██████████\u001b[0m|\n"
     ]
    }
   ],
   "source": [
    "sq = \"\"\"select * from prj-prod-dataplatform.dap_ds_poweruser_playground.Model_gini_old_gen_credo_score;\"\"\"\n",
    "\n",
    "df = client.query(sq).to_dataframe(progress_bar_type='tqdm')"
   ]
  },
  {
   "cell_type": "code",
   "execution_count": 156,
   "metadata": {},
   "outputs": [
    {
     "data": {
      "text/plain": [
       "bad_rate\n",
       "FPD10      134\n",
       "FPD30      131\n",
       "FSPD30     126\n",
       "FSTPD30    120\n",
       "Name: count, dtype: int64"
      ]
     },
     "execution_count": 156,
     "metadata": {},
     "output_type": "execute_result"
    }
   ],
   "source": [
    "df['bad_rate'].value_counts()"
   ]
  },
  {
   "cell_type": "markdown",
   "metadata": {},
   "source": [
    "# old_cic_score"
   ]
  },
  {
   "cell_type": "code",
   "execution_count": 157,
   "metadata": {},
   "outputs": [
    {
     "name": "stdout",
     "output_type": "stream",
     "text": [
      "Job ID e0fc33d1-593c-47d3-be6e-4b9d07b27edf successfully executed: 100%|\u001b[32m██████████\u001b[0m|"
     ]
    },
    {
     "name": "stderr",
     "output_type": "stream",
     "text": [
      "d:\\Anaconda3\\envs\\inc_env\\lib\\site-packages\\google\\cloud\\bigquery\\table.py:1820: UserWarning: BigQuery Storage module not found, fetch data with the REST endpoint instead.\n",
      "  warnings.warn(\n"
     ]
    },
    {
     "name": "stdout",
     "output_type": "stream",
     "text": [
      "\n",
      "Downloading: 100%|\u001b[32m██████████\u001b[0m|\n",
      "The shape of dataframe after copy is:\t(94, 7)\n",
      "Job ID 3f4362c3-79a6-4008-b05f-90fce3b37876 successfully executed: 100%|\u001b[32m██████████\u001b[0m|"
     ]
    },
    {
     "name": "stderr",
     "output_type": "stream",
     "text": [
      "d:\\Anaconda3\\envs\\inc_env\\lib\\site-packages\\google\\cloud\\bigquery\\table.py:1820: UserWarning: BigQuery Storage module not found, fetch data with the REST endpoint instead.\n",
      "  warnings.warn(\n"
     ]
    },
    {
     "name": "stdout",
     "output_type": "stream",
     "text": [
      "\n",
      "Downloading: 100%|\u001b[32m██████████\u001b[0m|\n",
      "The shape of dataframe after copy is:\t(91, 7)\n",
      "Job ID 04e748fd-6c47-44fd-bd28-205b459d435a successfully executed: 100%|\u001b[32m██████████\u001b[0m|"
     ]
    },
    {
     "name": "stderr",
     "output_type": "stream",
     "text": [
      "d:\\Anaconda3\\envs\\inc_env\\lib\\site-packages\\google\\cloud\\bigquery\\table.py:1820: UserWarning: BigQuery Storage module not found, fetch data with the REST endpoint instead.\n",
      "  warnings.warn(\n"
     ]
    },
    {
     "name": "stdout",
     "output_type": "stream",
     "text": [
      "\n",
      "Downloading: 100%|\u001b[32m██████████\u001b[0m|\n",
      "     disbursementdate                  digitalLoanAccountId old_cic_score  \\\n",
      "0 2024-08-15 19:03:54  0bc974ab-f356-4897-b8c9-1de7aa30f44c       593.000   \n",
      "1 2024-03-24 16:15:13  36a51f56-9627-4685-bc0f-c961de6f6d3f       544.000   \n",
      "\n",
      "   ln_fspd30_flag  ln_mature_fspd30_flag  \n",
      "0               1                      1  \n",
      "1               1                      1  \n",
      "The shape of dataframe after copy is:\t(86, 7)\n",
      "['start_date' 'end_date' 'old_cic_score_FSPD30_gini' 'period' 'Model_Name'\n",
      " 'version' 'bad_rate']\n",
      "Job ID d7408c53-1992-4542-a093-17ec81d7ebc4 successfully executed: 100%|\u001b[32m██████████\u001b[0m|"
     ]
    },
    {
     "name": "stderr",
     "output_type": "stream",
     "text": [
      "d:\\Anaconda3\\envs\\inc_env\\lib\\site-packages\\google\\cloud\\bigquery\\table.py:1820: UserWarning: BigQuery Storage module not found, fetch data with the REST endpoint instead.\n",
      "  warnings.warn(\n"
     ]
    },
    {
     "name": "stdout",
     "output_type": "stream",
     "text": [
      "\n",
      "Downloading: 100%|\u001b[32m██████████\u001b[0m|\n",
      "     disbursementdate                  digitalLoanAccountId old_cic_score  \\\n",
      "0 2024-08-15 19:03:54  0bc974ab-f356-4897-b8c9-1de7aa30f44c       593.000   \n",
      "1 2024-03-24 16:15:13  36a51f56-9627-4685-bc0f-c961de6f6d3f       544.000   \n",
      "\n",
      "   ln_fstpd30_flag  ln_mature_fstpd30_flag  \n",
      "0                1                       1  \n",
      "1                1                       1  \n",
      "The shape of dataframe after copy is:\t(80, 7)\n",
      "['start_date' 'end_date' 'old_cic_score_FSTPD30_gini' 'period'\n",
      " 'Model_Name' 'version' 'bad_rate']\n"
     ]
    },
    {
     "data": {
      "application/vnd.microsoft.datawrangler.viewer.v0+json": {
       "columns": [
        {
         "name": "index",
         "rawType": "int64",
         "type": "integer"
        },
        {
         "name": "start_date",
         "rawType": "datetime64[ns]",
         "type": "datetime"
        },
        {
         "name": "end_date",
         "rawType": "datetime64[ns]",
         "type": "datetime"
        },
        {
         "name": "old_cic_score_FSTPD30_gini",
         "rawType": "float64",
         "type": "float"
        },
        {
         "name": "period",
         "rawType": "object",
         "type": "string"
        },
        {
         "name": "Model_Name",
         "rawType": "object",
         "type": "string"
        },
        {
         "name": "version",
         "rawType": "object",
         "type": "string"
        },
        {
         "name": "bad_rate",
         "rawType": "object",
         "type": "string"
        }
       ],
       "conversionMethod": "pd.DataFrame",
       "ref": "7b78fda3-b8fe-4282-82a7-0d4429f9263a",
       "rows": [
        [
         "0",
         "2023-08-01 00:00:00",
         "2023-08-31 00:00:00",
         "0.08789091448050979",
         "Month",
         "old_cic_score",
         "1.1.0",
         "FSTPD30"
        ],
        [
         "1",
         "2023-08-21 00:00:00",
         "2023-08-27 00:00:00",
         "0.020000000000000018",
         "Week",
         "old_cic_score",
         "1.1.0",
         "FSTPD30"
        ],
        [
         "2",
         "2023-08-28 00:00:00",
         "2023-09-03 00:00:00",
         "0.14920634920634912",
         "Week",
         "old_cic_score",
         "1.1.0",
         "FSTPD30"
        ],
        [
         "3",
         "2023-09-01 00:00:00",
         "2023-09-30 00:00:00",
         "0.15326212312592657",
         "Month",
         "old_cic_score",
         "1.1.0",
         "FSTPD30"
        ],
        [
         "4",
         "2023-09-04 00:00:00",
         "2023-09-10 00:00:00",
         "0.1710437710437709",
         "Week",
         "old_cic_score",
         "1.1.0",
         "FSTPD30"
        ]
       ],
       "shape": {
        "columns": 7,
        "rows": 5
       }
      },
      "text/html": [
       "<div>\n",
       "<style scoped>\n",
       "    .dataframe tbody tr th:only-of-type {\n",
       "        vertical-align: middle;\n",
       "    }\n",
       "\n",
       "    .dataframe tbody tr th {\n",
       "        vertical-align: top;\n",
       "    }\n",
       "\n",
       "    .dataframe thead th {\n",
       "        text-align: right;\n",
       "    }\n",
       "</style>\n",
       "<table border=\"1\" class=\"dataframe\">\n",
       "  <thead>\n",
       "    <tr style=\"text-align: right;\">\n",
       "      <th></th>\n",
       "      <th>start_date</th>\n",
       "      <th>end_date</th>\n",
       "      <th>old_cic_score_FSTPD30_gini</th>\n",
       "      <th>period</th>\n",
       "      <th>Model_Name</th>\n",
       "      <th>version</th>\n",
       "      <th>bad_rate</th>\n",
       "    </tr>\n",
       "  </thead>\n",
       "  <tbody>\n",
       "    <tr>\n",
       "      <th>0</th>\n",
       "      <td>2023-08-01</td>\n",
       "      <td>2023-08-31</td>\n",
       "      <td>0.087891</td>\n",
       "      <td>Month</td>\n",
       "      <td>old_cic_score</td>\n",
       "      <td>1.1.0</td>\n",
       "      <td>FSTPD30</td>\n",
       "    </tr>\n",
       "    <tr>\n",
       "      <th>1</th>\n",
       "      <td>2023-08-21</td>\n",
       "      <td>2023-08-27</td>\n",
       "      <td>0.020000</td>\n",
       "      <td>Week</td>\n",
       "      <td>old_cic_score</td>\n",
       "      <td>1.1.0</td>\n",
       "      <td>FSTPD30</td>\n",
       "    </tr>\n",
       "    <tr>\n",
       "      <th>2</th>\n",
       "      <td>2023-08-28</td>\n",
       "      <td>2023-09-03</td>\n",
       "      <td>0.149206</td>\n",
       "      <td>Week</td>\n",
       "      <td>old_cic_score</td>\n",
       "      <td>1.1.0</td>\n",
       "      <td>FSTPD30</td>\n",
       "    </tr>\n",
       "    <tr>\n",
       "      <th>3</th>\n",
       "      <td>2023-09-01</td>\n",
       "      <td>2023-09-30</td>\n",
       "      <td>0.153262</td>\n",
       "      <td>Month</td>\n",
       "      <td>old_cic_score</td>\n",
       "      <td>1.1.0</td>\n",
       "      <td>FSTPD30</td>\n",
       "    </tr>\n",
       "    <tr>\n",
       "      <th>4</th>\n",
       "      <td>2023-09-04</td>\n",
       "      <td>2023-09-10</td>\n",
       "      <td>0.171044</td>\n",
       "      <td>Week</td>\n",
       "      <td>old_cic_score</td>\n",
       "      <td>1.1.0</td>\n",
       "      <td>FSTPD30</td>\n",
       "    </tr>\n",
       "  </tbody>\n",
       "</table>\n",
       "</div>"
      ],
      "text/plain": [
       "  start_date   end_date  old_cic_score_FSTPD30_gini period     Model_Name  \\\n",
       "0 2023-08-01 2023-08-31                    0.087891  Month  old_cic_score   \n",
       "1 2023-08-21 2023-08-27                    0.020000   Week  old_cic_score   \n",
       "2 2023-08-28 2023-09-03                    0.149206   Week  old_cic_score   \n",
       "3 2023-09-01 2023-09-30                    0.153262  Month  old_cic_score   \n",
       "4 2023-09-04 2023-09-10                    0.171044   Week  old_cic_score   \n",
       "\n",
       "  version bad_rate  \n",
       "0   1.1.0  FSTPD30  \n",
       "1   1.1.0  FSTPD30  \n",
       "2   1.1.0  FSTPD30  \n",
       "3   1.1.0  FSTPD30  \n",
       "4   1.1.0  FSTPD30  "
      ]
     },
     "execution_count": 157,
     "metadata": {},
     "output_type": "execute_result"
    }
   ],
   "source": [
    "\n",
    "\n",
    "sq = \"\"\"\n",
    "with old_cic_score as \n",
    "(SELECT \n",
    "    ln_disb_dtime disbursementdate,\n",
    "\tdigitalLoanAccountId,\n",
    "    old_cic_score,\n",
    "    ln_fpd10_flag,\n",
    "\tln_mature_fpd10_flag,\t\n",
    "\tFROM \n",
    "    risk_mart.sil_risk_ds_master_20230101_20250309\n",
    "  WHERE \n",
    "     -- ln_disb_dtime >= '2023-07-01'\n",
    "    ln_appln_submit_datetime >= '2023-01-01'\n",
    "  -- AND\n",
    "  --   format_date('%Y-%m', ln_disb_dtime) = '2024-09'\n",
    "  AND\n",
    "    ln_fpd10_flag is not null\n",
    "  AND\n",
    "    old_cic_score is not null\n",
    "  AND\n",
    "    ln_mature_fpd10_flag = 1\n",
    ")\n",
    "select * from old_cic_score;\n",
    "\"\"\"\n",
    "\n",
    "old_cic_scorefpd10 = client.query(sq).to_dataframe(progress_bar_type='tqdm')\n",
    "\n",
    "old_cic_scorefpd10.head()\n",
    "\n",
    "gini_results = calculate_periodic_hybrid_gini(old_cic_scorefpd10, 'old_cic_score', 'ln_fpd10_flag', 'FPD10')\n",
    "M1FPD10 = gini_results.copy()\n",
    "print(f\"The shape of dataframe after copy is:\\t{M1FPD10.shape}\")\n",
    "M1FPD10.columns.values\n",
    "\n",
    "# FPD30\n",
    "\n",
    "sq = \"\"\"\n",
    "with old_cic_score as \n",
    "(SELECT \n",
    "    ln_disb_dtime disbursementdate,\n",
    "\tdigitalLoanAccountId,\n",
    "    old_cic_score,\n",
    "    ln_fpd30_flag,\n",
    "\tln_mature_fpd30_flag,\t\n",
    "\tFROM \n",
    "    risk_mart.sil_risk_ds_master_20230101_20250309\n",
    "  WHERE \n",
    "     -- ln_disb_dtime >= '2023-07-01'\n",
    "    ln_appln_submit_datetime >= '2023-01-01'\n",
    "  -- AND\n",
    "  --   format_date('%Y-%m', ln_disb_dtime) = '2024-09'\n",
    "  AND\n",
    "    ln_fpd30_flag is not null\n",
    "  AND\n",
    "    old_cic_score is not null\n",
    "  AND\n",
    "    ln_mature_fpd30_flag = 1\n",
    ")\n",
    "select * from old_cic_score;\n",
    "\"\"\"\n",
    "\n",
    "old_cic_scorefpd30 = client.query(sq).to_dataframe(progress_bar_type='tqdm')\n",
    "\n",
    "old_cic_scorefpd30.head()\n",
    "\n",
    "gini_results = calculate_periodic_hybrid_gini(old_cic_scorefpd30, 'old_cic_score', 'ln_fpd30_flag', 'FPD30')\n",
    "M2FPD30 = gini_results.copy()\n",
    "print(f\"The shape of dataframe after copy is:\\t{M2FPD30.shape}\")\n",
    "M2FPD30.columns.values\n",
    "\n",
    "sq = \"\"\"\n",
    "with old_cic_score as \n",
    "(SELECT \n",
    "    ln_disb_dtime disbursementdate,\n",
    "\tdigitalLoanAccountId,\n",
    "    old_cic_score,\n",
    "    ln_fspd30_flag,\n",
    "\tln_mature_fspd30_flag,\t\n",
    "\tFROM \n",
    "    risk_mart.sil_risk_ds_master_20230101_20250309\n",
    "  WHERE \n",
    "     -- ln_disb_dtime >= '2023-07-01'\n",
    "    ln_appln_submit_datetime >= '2023-01-01'\n",
    "  -- AND\n",
    "  --   format_date('%Y-%m', ln_disb_dtime) = '2024-09'\n",
    "  AND\n",
    "    ln_fspd30_flag is not null\n",
    "  AND\n",
    "    old_cic_score is not null\n",
    "  AND\n",
    "    ln_mature_fspd30_flag = 1\n",
    ")\n",
    "select * from old_cic_score;\n",
    "\"\"\"\n",
    "\n",
    "old_cic_scorefspd30 = client.query(sq).to_dataframe(progress_bar_type='tqdm')\n",
    "\n",
    "print(old_cic_scorefspd30.head(2))\n",
    "\n",
    "gini_results = calculate_periodic_hybrid_gini(old_cic_scorefspd30, 'old_cic_score', 'ln_fspd30_flag', 'FSPD30')\n",
    "M3FSPD30 = gini_results.copy()\n",
    "print(f\"The shape of dataframe after copy is:\\t{M3FSPD30.shape}\")\n",
    "print(M3FSPD30.columns.values)\n",
    "\n",
    "M3FSPD30.head()\n",
    "\n",
    "sq = \"\"\"\n",
    "with old_cic_score as \n",
    "(SELECT \n",
    "    ln_disb_dtime disbursementdate,\n",
    "\tdigitalLoanAccountId,\n",
    "    old_cic_score,\n",
    "    ln_fstpd30_flag,\n",
    "\tln_mature_fstpd30_flag,\t\n",
    "\tFROM \n",
    "    risk_mart.sil_risk_ds_master_20230101_20250309\n",
    "  WHERE \n",
    "     -- ln_disb_dtime >= '2023-07-01'\n",
    "    ln_appln_submit_datetime >= '2023-01-01'\n",
    "  -- AND\n",
    "  --   format_date('%Y-%m', ln_disb_dtime) = '2024-09'\n",
    "  AND\n",
    "    ln_fstpd30_flag is not null\n",
    "  AND\n",
    "    old_cic_score is not null\n",
    "  AND\n",
    "    ln_mature_fstpd30_flag = 1\n",
    ")\n",
    "select * from old_cic_score;\n",
    "\"\"\"\n",
    "\n",
    "old_cic_scorefstpd30 = client.query(sq).to_dataframe(progress_bar_type='tqdm')\n",
    "\n",
    "print(old_cic_scorefstpd30.head(2))\n",
    "\n",
    "gini_results = calculate_periodic_hybrid_gini(old_cic_scorefstpd30, 'old_cic_score', 'ln_fstpd30_flag', 'FSTPD30')\n",
    "M4FSTPD30 = gini_results.copy()\n",
    "print(f\"The shape of dataframe after copy is:\\t{M4FSTPD30.shape}\")\n",
    "print(M4FSTPD30.columns.values)\n",
    "\n",
    "M4FSTPD30.head()\n",
    "\n"
   ]
  },
  {
   "cell_type": "markdown",
   "metadata": {},
   "source": [
    "## Combining data"
   ]
  },
  {
   "cell_type": "code",
   "execution_count": 158,
   "metadata": {},
   "outputs": [
    {
     "data": {
      "text/plain": [
       "array(['start_date', 'end_date', 'old_cic_score_FPD10_gini', 'period',\n",
       "       'Model_Name', 'version', 'bad_rate', 'old_cic_score_FPD30_gini',\n",
       "       'old_cic_score_FSPD30_gini', 'old_cic_score_FSTPD30_gini'],\n",
       "      dtype=object)"
      ]
     },
     "execution_count": 158,
     "metadata": {},
     "output_type": "execute_result"
    }
   ],
   "source": [
    "import functools\n",
    "\n",
    "dataframes = [M1FPD10, M2FPD30, M3FSPD30, M4FSTPD30]\n",
    "common_columns = ['start_date', 'end_date', 'period', 'Model_Name','version', 'bad_rate']\n",
    "\n",
    "def merge_dataframes(df1, df2):\n",
    "    return pd.merge(df1, df2, on=common_columns, how='outer')\n",
    "\n",
    "final_df = functools.reduce(merge_dataframes, dataframes)\n",
    "\n",
    "final_df.columns.values"
   ]
  },
  {
   "cell_type": "code",
   "execution_count": 159,
   "metadata": {},
   "outputs": [],
   "source": [
    "final_df = final_df[['start_date', 'end_date', 'period',   'Model_Name', 'version', 'bad_rate','old_cic_score_FPD10_gini','old_cic_score_FPD30_gini',    'old_cic_score_FSPD30_gini', 'old_cic_score_FSTPD30_gini']].copy()"
   ]
  },
  {
   "cell_type": "code",
   "execution_count": 160,
   "metadata": {},
   "outputs": [
    {
     "data": {
      "text/plain": [
       "QueryJob<project=prj-prod-dataplatform, location=asia-southeast1, id=bf8c0236-de30-4bf0-9a41-c4b133211b7f>"
      ]
     },
     "execution_count": 160,
     "metadata": {},
     "output_type": "execute_result"
    }
   ],
   "source": [
    "sq = \"\"\"drop table if exists prj-prod-dataplatform.dap_ds_poweruser_playground.Model_gini_old_cic_score;\"\"\"\n",
    "client.query(sq)"
   ]
  },
  {
   "cell_type": "code",
   "execution_count": 161,
   "metadata": {},
   "outputs": [
    {
     "data": {
      "text/plain": [
       "LoadJob<project=prj-prod-dataplatform, location=asia-southeast1, id=a469f283-2d66-4c4b-8417-88fb1d09101a>"
      ]
     },
     "execution_count": 161,
     "metadata": {},
     "output_type": "execute_result"
    }
   ],
   "source": [
    "import pandas as pd\n",
    "from google.cloud import bigquery\n",
    "\n",
    "# Create a BigQuery client\n",
    "client = bigquery.Client('prj-prod-dataplatform')\n",
    "\n",
    "# Define your table schema\n",
    "table_schema = [\n",
    "    bigquery.SchemaField('start_date', 'TIMESTAMP'),\n",
    "    bigquery.SchemaField('end_date', 'TIMESTAMP'),\n",
    "    bigquery.SchemaField('period', 'STRING'),\n",
    "    bigquery.SchemaField('Model_Name', 'STRING'),\n",
    "    bigquery.SchemaField('version', 'STRING'),\n",
    "    bigquery.SchemaField('Badrate', 'STRING'),\n",
    "    bigquery.SchemaField('old_cic_score_FPD10_gini', 'FLOAT'),\n",
    "    bigquery.SchemaField('old_cic_score_FPD30_gini', 'FLOAT'),    \n",
    "    bigquery.SchemaField('old_cic_score_FSPD30_gini', 'FLOAT'),\n",
    "    bigquery.SchemaField('old_cic_score_FSTPD30_gini', 'FLOAT')\n",
    "    \n",
    "]\n",
    "\n",
    "# Create your BigQuery table\n",
    "table_id = 'prj-prod-dataplatform.dap_ds_poweruser_playground.Model_gini_old_cic_score'\n",
    "table = bigquery.Table(table_id, schema=table_schema)\n",
    "table = client.create_table(table)\n",
    "\n",
    "# Load your DataFrame into BigQuery\n",
    "job_config = bigquery.LoadJobConfig(\n",
    "    write_disposition='WRITE_TRUNCATE'\n",
    ")\n",
    "\n",
    "load_job = client.load_table_from_dataframe(\n",
    "    final_df, table_id, job_config=job_config\n",
    ")\n",
    "\n",
    "load_job.result()"
   ]
  },
  {
   "cell_type": "markdown",
   "metadata": {},
   "source": [
    "# old_demo_score"
   ]
  },
  {
   "cell_type": "code",
   "execution_count": 162,
   "metadata": {},
   "outputs": [
    {
     "name": "stdout",
     "output_type": "stream",
     "text": [
      "Job ID 09c6b00d-3ac1-4463-ad87-3e6425fa6e9a successfully executed: 100%|\u001b[32m██████████\u001b[0m|"
     ]
    },
    {
     "name": "stderr",
     "output_type": "stream",
     "text": [
      "d:\\Anaconda3\\envs\\inc_env\\lib\\site-packages\\google\\cloud\\bigquery\\table.py:1820: UserWarning: BigQuery Storage module not found, fetch data with the REST endpoint instead.\n",
      "  warnings.warn(\n"
     ]
    },
    {
     "name": "stdout",
     "output_type": "stream",
     "text": [
      "\n",
      "Downloading: 100%|\u001b[32m██████████\u001b[0m|\n",
      "The shape of dataframe after copy is:\t(134, 7)\n",
      "Job ID 21bf13f4-6c0d-4310-813c-05cb5419fa6a successfully executed: 100%|\u001b[32m██████████\u001b[0m|"
     ]
    },
    {
     "name": "stderr",
     "output_type": "stream",
     "text": [
      "d:\\Anaconda3\\envs\\inc_env\\lib\\site-packages\\google\\cloud\\bigquery\\table.py:1820: UserWarning: BigQuery Storage module not found, fetch data with the REST endpoint instead.\n",
      "  warnings.warn(\n"
     ]
    },
    {
     "name": "stdout",
     "output_type": "stream",
     "text": [
      "\n",
      "Downloading: 100%|\u001b[32m██████████\u001b[0m|\n",
      "The shape of dataframe after copy is:\t(131, 7)\n",
      "Job ID b825d07a-1d95-4288-8e8d-52860e0dc754 successfully executed: 100%|\u001b[32m██████████\u001b[0m|"
     ]
    },
    {
     "name": "stderr",
     "output_type": "stream",
     "text": [
      "d:\\Anaconda3\\envs\\inc_env\\lib\\site-packages\\google\\cloud\\bigquery\\table.py:1820: UserWarning: BigQuery Storage module not found, fetch data with the REST endpoint instead.\n",
      "  warnings.warn(\n"
     ]
    },
    {
     "name": "stdout",
     "output_type": "stream",
     "text": [
      "\n",
      "Downloading: 100%|\u001b[32m██████████\u001b[0m|\n",
      "     disbursementdate                  digitalLoanAccountId  old_demo_score  \\\n",
      "0 2023-04-25 18:08:03  ee89ea72-76ab-4e1b-a0eb-3e959907db2b           405.0   \n",
      "1 2024-07-26 11:14:26  e42d366d-9370-4761-9d94-e7cee5834849           474.0   \n",
      "\n",
      "   ln_fspd30_flag  ln_mature_fspd30_flag  \n",
      "0               0                      1  \n",
      "1               0                      1  \n",
      "The shape of dataframe after copy is:\t(126, 7)\n",
      "['start_date' 'end_date' 'old_demo_score_FSPD30_gini' 'period'\n",
      " 'Model_Name' 'version' 'bad_rate']\n",
      "Job ID c315d380-cfa6-4906-8880-9788b089e650 successfully executed: 100%|\u001b[32m██████████\u001b[0m|"
     ]
    },
    {
     "name": "stderr",
     "output_type": "stream",
     "text": [
      "d:\\Anaconda3\\envs\\inc_env\\lib\\site-packages\\google\\cloud\\bigquery\\table.py:1820: UserWarning: BigQuery Storage module not found, fetch data with the REST endpoint instead.\n",
      "  warnings.warn(\n"
     ]
    },
    {
     "name": "stdout",
     "output_type": "stream",
     "text": [
      "\n",
      "Downloading: 100%|\u001b[32m██████████\u001b[0m|\n",
      "     disbursementdate                  digitalLoanAccountId  old_demo_score  \\\n",
      "0 2024-09-01 15:18:37  1a2cb6f2-e66f-444a-ba22-a05cb5652ef2           442.0   \n",
      "1 2023-02-02 17:24:09  538a175e-1dcc-4cd9-8527-c1b0b6bf2ef3           414.0   \n",
      "\n",
      "   ln_fstpd30_flag  ln_mature_fstpd30_flag  \n",
      "0                0                       1  \n",
      "1                0                       1  \n",
      "The shape of dataframe after copy is:\t(120, 7)\n",
      "['start_date' 'end_date' 'old_demo_score_FSTPD30_gini' 'period'\n",
      " 'Model_Name' 'version' 'bad_rate']\n"
     ]
    },
    {
     "data": {
      "application/vnd.microsoft.datawrangler.viewer.v0+json": {
       "columns": [
        {
         "name": "index",
         "rawType": "int64",
         "type": "integer"
        },
        {
         "name": "start_date",
         "rawType": "datetime64[ns]",
         "type": "datetime"
        },
        {
         "name": "end_date",
         "rawType": "datetime64[ns]",
         "type": "datetime"
        },
        {
         "name": "old_demo_score_FSTPD30_gini",
         "rawType": "float64",
         "type": "float"
        },
        {
         "name": "period",
         "rawType": "object",
         "type": "string"
        },
        {
         "name": "Model_Name",
         "rawType": "object",
         "type": "string"
        },
        {
         "name": "version",
         "rawType": "object",
         "type": "string"
        },
        {
         "name": "bad_rate",
         "rawType": "object",
         "type": "string"
        }
       ],
       "conversionMethod": "pd.DataFrame",
       "ref": "4070d72c-1aac-468e-a00d-e46b27173de0",
       "rows": [
        [
         "0",
         "2023-01-01 00:00:00",
         "2023-01-31 00:00:00",
         "0.12353744728870941",
         "Month",
         "old_demo_score",
         "1.1.0",
         "FSTPD30"
        ],
        [
         "1",
         "2023-01-02 00:00:00",
         "2023-01-08 00:00:00",
         "0.1739472648563558",
         "Week",
         "old_demo_score",
         "1.1.0",
         "FSTPD30"
        ],
        [
         "2",
         "2023-01-09 00:00:00",
         "2023-01-15 00:00:00",
         "0.0469798657718119",
         "Week",
         "old_demo_score",
         "1.1.0",
         "FSTPD30"
        ],
        [
         "3",
         "2023-01-16 00:00:00",
         "2023-01-22 00:00:00",
         "0.13670256835128414",
         "Week",
         "old_demo_score",
         "1.1.0",
         "FSTPD30"
        ],
        [
         "4",
         "2023-01-23 00:00:00",
         "2023-01-29 00:00:00",
         "0.11875367430922967",
         "Week",
         "old_demo_score",
         "1.1.0",
         "FSTPD30"
        ]
       ],
       "shape": {
        "columns": 7,
        "rows": 5
       }
      },
      "text/html": [
       "<div>\n",
       "<style scoped>\n",
       "    .dataframe tbody tr th:only-of-type {\n",
       "        vertical-align: middle;\n",
       "    }\n",
       "\n",
       "    .dataframe tbody tr th {\n",
       "        vertical-align: top;\n",
       "    }\n",
       "\n",
       "    .dataframe thead th {\n",
       "        text-align: right;\n",
       "    }\n",
       "</style>\n",
       "<table border=\"1\" class=\"dataframe\">\n",
       "  <thead>\n",
       "    <tr style=\"text-align: right;\">\n",
       "      <th></th>\n",
       "      <th>start_date</th>\n",
       "      <th>end_date</th>\n",
       "      <th>old_demo_score_FSTPD30_gini</th>\n",
       "      <th>period</th>\n",
       "      <th>Model_Name</th>\n",
       "      <th>version</th>\n",
       "      <th>bad_rate</th>\n",
       "    </tr>\n",
       "  </thead>\n",
       "  <tbody>\n",
       "    <tr>\n",
       "      <th>0</th>\n",
       "      <td>2023-01-01</td>\n",
       "      <td>2023-01-31</td>\n",
       "      <td>0.123537</td>\n",
       "      <td>Month</td>\n",
       "      <td>old_demo_score</td>\n",
       "      <td>1.1.0</td>\n",
       "      <td>FSTPD30</td>\n",
       "    </tr>\n",
       "    <tr>\n",
       "      <th>1</th>\n",
       "      <td>2023-01-02</td>\n",
       "      <td>2023-01-08</td>\n",
       "      <td>0.173947</td>\n",
       "      <td>Week</td>\n",
       "      <td>old_demo_score</td>\n",
       "      <td>1.1.0</td>\n",
       "      <td>FSTPD30</td>\n",
       "    </tr>\n",
       "    <tr>\n",
       "      <th>2</th>\n",
       "      <td>2023-01-09</td>\n",
       "      <td>2023-01-15</td>\n",
       "      <td>0.046980</td>\n",
       "      <td>Week</td>\n",
       "      <td>old_demo_score</td>\n",
       "      <td>1.1.0</td>\n",
       "      <td>FSTPD30</td>\n",
       "    </tr>\n",
       "    <tr>\n",
       "      <th>3</th>\n",
       "      <td>2023-01-16</td>\n",
       "      <td>2023-01-22</td>\n",
       "      <td>0.136703</td>\n",
       "      <td>Week</td>\n",
       "      <td>old_demo_score</td>\n",
       "      <td>1.1.0</td>\n",
       "      <td>FSTPD30</td>\n",
       "    </tr>\n",
       "    <tr>\n",
       "      <th>4</th>\n",
       "      <td>2023-01-23</td>\n",
       "      <td>2023-01-29</td>\n",
       "      <td>0.118754</td>\n",
       "      <td>Week</td>\n",
       "      <td>old_demo_score</td>\n",
       "      <td>1.1.0</td>\n",
       "      <td>FSTPD30</td>\n",
       "    </tr>\n",
       "  </tbody>\n",
       "</table>\n",
       "</div>"
      ],
      "text/plain": [
       "  start_date   end_date  old_demo_score_FSTPD30_gini period      Model_Name  \\\n",
       "0 2023-01-01 2023-01-31                     0.123537  Month  old_demo_score   \n",
       "1 2023-01-02 2023-01-08                     0.173947   Week  old_demo_score   \n",
       "2 2023-01-09 2023-01-15                     0.046980   Week  old_demo_score   \n",
       "3 2023-01-16 2023-01-22                     0.136703   Week  old_demo_score   \n",
       "4 2023-01-23 2023-01-29                     0.118754   Week  old_demo_score   \n",
       "\n",
       "  version bad_rate  \n",
       "0   1.1.0  FSTPD30  \n",
       "1   1.1.0  FSTPD30  \n",
       "2   1.1.0  FSTPD30  \n",
       "3   1.1.0  FSTPD30  \n",
       "4   1.1.0  FSTPD30  "
      ]
     },
     "execution_count": 162,
     "metadata": {},
     "output_type": "execute_result"
    }
   ],
   "source": [
    "\n",
    "\n",
    "sq = \"\"\"\n",
    "with old_demo_score as \n",
    "(SELECT \n",
    "    ln_disb_dtime disbursementdate,\n",
    "\tdigitalLoanAccountId,\n",
    "    old_demo_score,\n",
    "    ln_fpd10_flag,\n",
    "\tln_mature_fpd10_flag,\t\n",
    "\tFROM \n",
    "    risk_mart.sil_risk_ds_master_20230101_20250309\n",
    "  WHERE \n",
    "     -- ln_disb_dtime >= '2023-07-01'\n",
    "    ln_appln_submit_datetime >= '2023-01-01'\n",
    "  -- AND\n",
    "  --   format_date('%Y-%m', ln_disb_dtime) = '2024-09'\n",
    "  AND\n",
    "    ln_fpd10_flag is not null\n",
    "  AND\n",
    "    old_demo_score is not null\n",
    "  AND\n",
    "    ln_mature_fpd10_flag = 1\n",
    ")\n",
    "select * from old_demo_score;\n",
    "\"\"\"\n",
    "\n",
    "old_demo_scorefpd10 = client.query(sq).to_dataframe(progress_bar_type='tqdm')\n",
    "\n",
    "old_demo_scorefpd10.head()\n",
    "\n",
    "gini_results = calculate_periodic_hybrid_gini(old_demo_scorefpd10, 'old_demo_score', 'ln_fpd10_flag', 'FPD10')\n",
    "M1FPD10 = gini_results.copy()\n",
    "print(f\"The shape of dataframe after copy is:\\t{M1FPD10.shape}\")\n",
    "M1FPD10.columns.values\n",
    "\n",
    "# FPD30\n",
    "\n",
    "sq = \"\"\"\n",
    "with old_demo_score as \n",
    "(SELECT \n",
    "    ln_disb_dtime disbursementdate,\n",
    "\tdigitalLoanAccountId,\n",
    "    old_demo_score,\n",
    "    ln_fpd30_flag,\n",
    "\tln_mature_fpd30_flag,\t\n",
    "\tFROM \n",
    "    risk_mart.sil_risk_ds_master_20230101_20250309\n",
    "  WHERE \n",
    "     -- ln_disb_dtime >= '2023-07-01'\n",
    "    ln_appln_submit_datetime >= '2023-01-01'\n",
    "  -- AND\n",
    "  --   format_date('%Y-%m', ln_disb_dtime) = '2024-09'\n",
    "  AND\n",
    "    ln_fpd30_flag is not null\n",
    "  AND\n",
    "    old_demo_score is not null\n",
    "  AND\n",
    "    ln_mature_fpd30_flag = 1\n",
    ")\n",
    "select * from old_demo_score;\n",
    "\"\"\"\n",
    "\n",
    "old_demo_scorefpd30 = client.query(sq).to_dataframe(progress_bar_type='tqdm')\n",
    "\n",
    "old_demo_scorefpd30.head()\n",
    "\n",
    "gini_results = calculate_periodic_hybrid_gini(old_demo_scorefpd30, 'old_demo_score', 'ln_fpd30_flag', 'FPD30')\n",
    "M2FPD30 = gini_results.copy()\n",
    "print(f\"The shape of dataframe after copy is:\\t{M2FPD30.shape}\")\n",
    "M2FPD30.columns.values\n",
    "\n",
    "sq = \"\"\"\n",
    "with old_demo_score as \n",
    "(SELECT \n",
    "    ln_disb_dtime disbursementdate,\n",
    "\tdigitalLoanAccountId,\n",
    "    old_demo_score,\n",
    "    ln_fspd30_flag,\n",
    "\tln_mature_fspd30_flag,\t\n",
    "\tFROM \n",
    "    risk_mart.sil_risk_ds_master_20230101_20250309\n",
    "  WHERE \n",
    "     -- ln_disb_dtime >= '2023-07-01'\n",
    "    ln_appln_submit_datetime >= '2023-01-01'\n",
    "  -- AND\n",
    "  --   format_date('%Y-%m', ln_disb_dtime) = '2024-09'\n",
    "  AND\n",
    "    ln_fspd30_flag is not null\n",
    "  AND\n",
    "    old_demo_score is not null\n",
    "  AND\n",
    "    ln_mature_fspd30_flag = 1\n",
    ")\n",
    "select * from old_demo_score;\n",
    "\"\"\"\n",
    "\n",
    "old_demo_scorefspd30 = client.query(sq).to_dataframe(progress_bar_type='tqdm')\n",
    "\n",
    "print(old_demo_scorefspd30.head(2))\n",
    "\n",
    "gini_results = calculate_periodic_hybrid_gini(old_demo_scorefspd30, 'old_demo_score', 'ln_fspd30_flag', 'FSPD30')\n",
    "M3FSPD30 = gini_results.copy()\n",
    "print(f\"The shape of dataframe after copy is:\\t{M3FSPD30.shape}\")\n",
    "print(M3FSPD30.columns.values)\n",
    "\n",
    "M3FSPD30.head()\n",
    "\n",
    "sq = \"\"\"\n",
    "with old_demo_score as \n",
    "(SELECT \n",
    "    ln_disb_dtime disbursementdate,\n",
    "\tdigitalLoanAccountId,\n",
    "    old_demo_score,\n",
    "    ln_fstpd30_flag,\n",
    "\tln_mature_fstpd30_flag,\t\n",
    "\tFROM \n",
    "    risk_mart.sil_risk_ds_master_20230101_20250309\n",
    "  WHERE \n",
    "     -- ln_disb_dtime >= '2023-07-01'\n",
    "    ln_appln_submit_datetime >= '2023-01-01'\n",
    "  -- AND\n",
    "  --   format_date('%Y-%m', ln_disb_dtime) = '2024-09'\n",
    "  AND\n",
    "    ln_fstpd30_flag is not null\n",
    "  AND\n",
    "    old_demo_score is not null\n",
    "  AND\n",
    "    ln_mature_fstpd30_flag = 1\n",
    ")\n",
    "select * from old_demo_score;\n",
    "\"\"\"\n",
    "\n",
    "old_demo_scorefstpd30 = client.query(sq).to_dataframe(progress_bar_type='tqdm')\n",
    "\n",
    "print(old_demo_scorefstpd30.head(2))\n",
    "\n",
    "gini_results = calculate_periodic_hybrid_gini(old_demo_scorefstpd30, 'old_demo_score', 'ln_fstpd30_flag', 'FSTPD30')\n",
    "M4FSTPD30 = gini_results.copy()\n",
    "print(f\"The shape of dataframe after copy is:\\t{M4FSTPD30.shape}\")\n",
    "print(M4FSTPD30.columns.values)\n",
    "\n",
    "M4FSTPD30.head()\n",
    "\n"
   ]
  },
  {
   "cell_type": "code",
   "execution_count": null,
   "metadata": {},
   "outputs": [],
   "source": []
  },
  {
   "cell_type": "markdown",
   "metadata": {},
   "source": [
    "## Combining data"
   ]
  },
  {
   "cell_type": "code",
   "execution_count": 163,
   "metadata": {},
   "outputs": [
    {
     "data": {
      "text/plain": [
       "array(['start_date', 'end_date', 'old_demo_score_FPD10_gini', 'period',\n",
       "       'Model_Name', 'version', 'bad_rate', 'old_demo_score_FPD30_gini',\n",
       "       'old_demo_score_FSPD30_gini', 'old_demo_score_FSTPD30_gini'],\n",
       "      dtype=object)"
      ]
     },
     "execution_count": 163,
     "metadata": {},
     "output_type": "execute_result"
    }
   ],
   "source": [
    "import functools\n",
    "\n",
    "dataframes = [M1FPD10, M2FPD30, M3FSPD30, M4FSTPD30]\n",
    "common_columns = ['start_date', 'end_date', 'period', 'Model_Name','version', 'bad_rate']\n",
    "\n",
    "def merge_dataframes(df1, df2):\n",
    "    return pd.merge(df1, df2, on=common_columns, how='outer')\n",
    "\n",
    "final_df = functools.reduce(merge_dataframes, dataframes)\n",
    "\n",
    "final_df.columns.values"
   ]
  },
  {
   "cell_type": "code",
   "execution_count": 164,
   "metadata": {},
   "outputs": [],
   "source": [
    "final_df = final_df[['start_date', 'end_date', 'period',   'Model_Name', 'version', 'bad_rate','old_demo_score_FPD10_gini','old_demo_score_FPD30_gini',    'old_demo_score_FSPD30_gini', 'old_demo_score_FSTPD30_gini']].copy()"
   ]
  },
  {
   "cell_type": "code",
   "execution_count": 165,
   "metadata": {},
   "outputs": [
    {
     "data": {
      "text/plain": [
       "QueryJob<project=prj-prod-dataplatform, location=asia-southeast1, id=3a6ce55f-db32-4790-85d1-dcbe07c2a5f9>"
      ]
     },
     "execution_count": 165,
     "metadata": {},
     "output_type": "execute_result"
    }
   ],
   "source": [
    "sq = \"\"\"drop table if exists prj-prod-dataplatform.dap_ds_poweruser_playground.Model_gini_old_demo_score;\"\"\"\n",
    "client.query(sq)"
   ]
  },
  {
   "cell_type": "code",
   "execution_count": 166,
   "metadata": {},
   "outputs": [
    {
     "data": {
      "text/plain": [
       "LoadJob<project=prj-prod-dataplatform, location=asia-southeast1, id=d2398370-bf9a-41fc-987e-22e1f517bed3>"
      ]
     },
     "execution_count": 166,
     "metadata": {},
     "output_type": "execute_result"
    }
   ],
   "source": [
    "import pandas as pd\n",
    "from google.cloud import bigquery\n",
    "\n",
    "# Create a BigQuery client\n",
    "client = bigquery.Client('prj-prod-dataplatform')\n",
    "\n",
    "# Define your table schema\n",
    "table_schema = [\n",
    "    bigquery.SchemaField('start_date', 'TIMESTAMP'),\n",
    "    bigquery.SchemaField('end_date', 'TIMESTAMP'),\n",
    "    bigquery.SchemaField('period', 'STRING'),\n",
    "    bigquery.SchemaField('Model_Name', 'STRING'),\n",
    "    bigquery.SchemaField('version', 'STRING'),\n",
    "    bigquery.SchemaField('Badrate', 'STRING'),\n",
    "    bigquery.SchemaField('old_demo_score_FPD10_gini', 'FLOAT'),\n",
    "    bigquery.SchemaField('old_demo_score_FPD30_gini', 'FLOAT'),    \n",
    "    bigquery.SchemaField('old_demo_score_FSPD30_gini', 'FLOAT'),\n",
    "    bigquery.SchemaField('old_demo_score_FSTPD30_gini', 'FLOAT')\n",
    "    \n",
    "]\n",
    "\n",
    "# Create your BigQuery table\n",
    "table_id = 'prj-prod-dataplatform.dap_ds_poweruser_playground.Model_gini_old_demo_score'\n",
    "table = bigquery.Table(table_id, schema=table_schema)\n",
    "table = client.create_table(table)\n",
    "\n",
    "# Load your DataFrame into BigQuery\n",
    "job_config = bigquery.LoadJobConfig(\n",
    "    write_disposition='WRITE_TRUNCATE'\n",
    ")\n",
    "\n",
    "load_job = client.load_table_from_dataframe(\n",
    "    final_df, table_id, job_config=job_config\n",
    ")\n",
    "\n",
    "load_job.result()"
   ]
  },
  {
   "cell_type": "markdown",
   "metadata": {},
   "source": [
    "# bu_bureau_score"
   ]
  },
  {
   "cell_type": "code",
   "execution_count": 167,
   "metadata": {},
   "outputs": [
    {
     "name": "stdout",
     "output_type": "stream",
     "text": [
      "Job ID 62c6fc8d-649c-4101-99ed-ce6df3359d18 successfully executed: 100%|\u001b[32m██████████\u001b[0m|"
     ]
    },
    {
     "name": "stderr",
     "output_type": "stream",
     "text": [
      "d:\\Anaconda3\\envs\\inc_env\\lib\\site-packages\\google\\cloud\\bigquery\\table.py:1820: UserWarning: BigQuery Storage module not found, fetch data with the REST endpoint instead.\n",
      "  warnings.warn(\n"
     ]
    },
    {
     "name": "stdout",
     "output_type": "stream",
     "text": [
      "\n",
      "Downloading: 100%|\u001b[32m██████████\u001b[0m|\n",
      "The shape of dataframe after copy is:\t(92, 7)\n",
      "Job ID fa4bf89a-911b-4da8-a667-d094caf7949c successfully executed: 100%|\u001b[32m██████████\u001b[0m|"
     ]
    },
    {
     "name": "stderr",
     "output_type": "stream",
     "text": [
      "d:\\Anaconda3\\envs\\inc_env\\lib\\site-packages\\google\\cloud\\bigquery\\table.py:1820: UserWarning: BigQuery Storage module not found, fetch data with the REST endpoint instead.\n",
      "  warnings.warn(\n"
     ]
    },
    {
     "name": "stdout",
     "output_type": "stream",
     "text": [
      "\n",
      "Downloading: 100%|\u001b[32m██████████\u001b[0m|\n",
      "The shape of dataframe after copy is:\t(92, 7)\n",
      "Job ID 2be492b6-9f69-4e35-8ca1-9906e9e9c151 successfully executed: 100%|\u001b[32m██████████\u001b[0m|"
     ]
    },
    {
     "name": "stderr",
     "output_type": "stream",
     "text": [
      "d:\\Anaconda3\\envs\\inc_env\\lib\\site-packages\\google\\cloud\\bigquery\\table.py:1820: UserWarning: BigQuery Storage module not found, fetch data with the REST endpoint instead.\n",
      "  warnings.warn(\n"
     ]
    },
    {
     "name": "stdout",
     "output_type": "stream",
     "text": [
      "\n",
      "Downloading: 100%|\u001b[32m██████████\u001b[0m|\n",
      "     disbursementdate                  digitalLoanAccountId  bu_bureau_score  \\\n",
      "0 2024-03-24 16:15:13  36a51f56-9627-4685-bc0f-c961de6f6d3f            299.0   \n",
      "1 2023-06-11 18:57:01  1f6d8454-a0d7-45e1-a661-ea6a73fcc16a            347.0   \n",
      "\n",
      "   ln_fspd30_flag  ln_mature_fspd30_flag  \n",
      "0               1                      1  \n",
      "1               1                      1  \n",
      "The shape of dataframe after copy is:\t(92, 7)\n",
      "['start_date' 'end_date' 'bu_bureau_score_FSPD30_gini' 'period'\n",
      " 'Model_Name' 'version' 'bad_rate']\n",
      "Job ID 34962bc7-1b93-4524-bee1-404fa6fe7e61 successfully executed: 100%|\u001b[32m██████████\u001b[0m|"
     ]
    },
    {
     "name": "stderr",
     "output_type": "stream",
     "text": [
      "d:\\Anaconda3\\envs\\inc_env\\lib\\site-packages\\google\\cloud\\bigquery\\table.py:1820: UserWarning: BigQuery Storage module not found, fetch data with the REST endpoint instead.\n",
      "  warnings.warn(\n"
     ]
    },
    {
     "name": "stdout",
     "output_type": "stream",
     "text": [
      "\n",
      "Downloading: 100%|\u001b[32m██████████\u001b[0m|\n",
      "     disbursementdate                  digitalLoanAccountId  bu_bureau_score  \\\n",
      "0 2024-03-24 16:15:13  36a51f56-9627-4685-bc0f-c961de6f6d3f            299.0   \n",
      "1 2023-06-11 18:57:01  1f6d8454-a0d7-45e1-a661-ea6a73fcc16a            347.0   \n",
      "\n",
      "   ln_fstpd30_flag  ln_mature_fstpd30_flag  \n",
      "0                1                       1  \n",
      "1                1                       1  \n",
      "The shape of dataframe after copy is:\t(92, 7)\n",
      "['start_date' 'end_date' 'bu_bureau_score_FSTPD30_gini' 'period'\n",
      " 'Model_Name' 'version' 'bad_rate']\n"
     ]
    },
    {
     "data": {
      "application/vnd.microsoft.datawrangler.viewer.v0+json": {
       "columns": [
        {
         "name": "index",
         "rawType": "int64",
         "type": "integer"
        },
        {
         "name": "start_date",
         "rawType": "datetime64[ns]",
         "type": "datetime"
        },
        {
         "name": "end_date",
         "rawType": "datetime64[ns]",
         "type": "datetime"
        },
        {
         "name": "bu_bureau_score_FSTPD30_gini",
         "rawType": "float64",
         "type": "float"
        },
        {
         "name": "period",
         "rawType": "object",
         "type": "string"
        },
        {
         "name": "Model_Name",
         "rawType": "object",
         "type": "string"
        },
        {
         "name": "version",
         "rawType": "object",
         "type": "string"
        },
        {
         "name": "bad_rate",
         "rawType": "object",
         "type": "string"
        }
       ],
       "conversionMethod": "pd.DataFrame",
       "ref": "e9903c46-c41a-4c8f-ad24-768f51a58025",
       "rows": [
        [
         "0",
         "2023-01-01 00:00:00",
         "2023-01-31 00:00:00",
         "0.04999999999999982",
         "Month",
         "bu_bureau_score",
         "1.1.0",
         "FSTPD30"
        ],
        [
         "1",
         "2023-01-09 00:00:00",
         "2023-01-15 00:00:00",
         "-0.05333333333333312",
         "Week",
         "bu_bureau_score",
         "1.1.0",
         "FSTPD30"
        ],
        [
         "2",
         "2023-01-16 00:00:00",
         "2023-01-22 00:00:00",
         "-0.8333333333333334",
         "Week",
         "bu_bureau_score",
         "1.1.0",
         "FSTPD30"
        ],
        [
         "3",
         "2023-01-23 00:00:00",
         "2023-01-29 00:00:00",
         "0.4166666666666665",
         "Week",
         "bu_bureau_score",
         "1.1.0",
         "FSTPD30"
        ],
        [
         "4",
         "2023-01-30 00:00:00",
         "2023-02-05 00:00:00",
         "0.24444444444444446",
         "Week",
         "bu_bureau_score",
         "1.1.0",
         "FSTPD30"
        ]
       ],
       "shape": {
        "columns": 7,
        "rows": 5
       }
      },
      "text/html": [
       "<div>\n",
       "<style scoped>\n",
       "    .dataframe tbody tr th:only-of-type {\n",
       "        vertical-align: middle;\n",
       "    }\n",
       "\n",
       "    .dataframe tbody tr th {\n",
       "        vertical-align: top;\n",
       "    }\n",
       "\n",
       "    .dataframe thead th {\n",
       "        text-align: right;\n",
       "    }\n",
       "</style>\n",
       "<table border=\"1\" class=\"dataframe\">\n",
       "  <thead>\n",
       "    <tr style=\"text-align: right;\">\n",
       "      <th></th>\n",
       "      <th>start_date</th>\n",
       "      <th>end_date</th>\n",
       "      <th>bu_bureau_score_FSTPD30_gini</th>\n",
       "      <th>period</th>\n",
       "      <th>Model_Name</th>\n",
       "      <th>version</th>\n",
       "      <th>bad_rate</th>\n",
       "    </tr>\n",
       "  </thead>\n",
       "  <tbody>\n",
       "    <tr>\n",
       "      <th>0</th>\n",
       "      <td>2023-01-01</td>\n",
       "      <td>2023-01-31</td>\n",
       "      <td>0.050000</td>\n",
       "      <td>Month</td>\n",
       "      <td>bu_bureau_score</td>\n",
       "      <td>1.1.0</td>\n",
       "      <td>FSTPD30</td>\n",
       "    </tr>\n",
       "    <tr>\n",
       "      <th>1</th>\n",
       "      <td>2023-01-09</td>\n",
       "      <td>2023-01-15</td>\n",
       "      <td>-0.053333</td>\n",
       "      <td>Week</td>\n",
       "      <td>bu_bureau_score</td>\n",
       "      <td>1.1.0</td>\n",
       "      <td>FSTPD30</td>\n",
       "    </tr>\n",
       "    <tr>\n",
       "      <th>2</th>\n",
       "      <td>2023-01-16</td>\n",
       "      <td>2023-01-22</td>\n",
       "      <td>-0.833333</td>\n",
       "      <td>Week</td>\n",
       "      <td>bu_bureau_score</td>\n",
       "      <td>1.1.0</td>\n",
       "      <td>FSTPD30</td>\n",
       "    </tr>\n",
       "    <tr>\n",
       "      <th>3</th>\n",
       "      <td>2023-01-23</td>\n",
       "      <td>2023-01-29</td>\n",
       "      <td>0.416667</td>\n",
       "      <td>Week</td>\n",
       "      <td>bu_bureau_score</td>\n",
       "      <td>1.1.0</td>\n",
       "      <td>FSTPD30</td>\n",
       "    </tr>\n",
       "    <tr>\n",
       "      <th>4</th>\n",
       "      <td>2023-01-30</td>\n",
       "      <td>2023-02-05</td>\n",
       "      <td>0.244444</td>\n",
       "      <td>Week</td>\n",
       "      <td>bu_bureau_score</td>\n",
       "      <td>1.1.0</td>\n",
       "      <td>FSTPD30</td>\n",
       "    </tr>\n",
       "  </tbody>\n",
       "</table>\n",
       "</div>"
      ],
      "text/plain": [
       "  start_date   end_date  bu_bureau_score_FSTPD30_gini period       Model_Name  \\\n",
       "0 2023-01-01 2023-01-31                      0.050000  Month  bu_bureau_score   \n",
       "1 2023-01-09 2023-01-15                     -0.053333   Week  bu_bureau_score   \n",
       "2 2023-01-16 2023-01-22                     -0.833333   Week  bu_bureau_score   \n",
       "3 2023-01-23 2023-01-29                      0.416667   Week  bu_bureau_score   \n",
       "4 2023-01-30 2023-02-05                      0.244444   Week  bu_bureau_score   \n",
       "\n",
       "  version bad_rate  \n",
       "0   1.1.0  FSTPD30  \n",
       "1   1.1.0  FSTPD30  \n",
       "2   1.1.0  FSTPD30  \n",
       "3   1.1.0  FSTPD30  \n",
       "4   1.1.0  FSTPD30  "
      ]
     },
     "execution_count": 167,
     "metadata": {},
     "output_type": "execute_result"
    }
   ],
   "source": [
    "sq = \"\"\"\n",
    "with bu_bureau_score as \n",
    "(SELECT \n",
    "    ln_disb_dtime disbursementdate,\n",
    "\tdigitalLoanAccountId,\n",
    "    bu_bureau_score,\n",
    "    ln_fpd10_flag,\n",
    "\tln_mature_fpd10_flag,\t\n",
    "\tFROM \n",
    "    risk_mart.sil_risk_ds_master_20230101_20250309\n",
    "  WHERE \n",
    "     -- ln_disb_dtime >= '2023-07-01'\n",
    "    ln_appln_submit_datetime >= '2023-01-01'\n",
    "  -- AND\n",
    "  --   format_date('%Y-%m', ln_disb_dtime) = '2024-09'\n",
    "  AND\n",
    "    ln_fpd10_flag is not null\n",
    "  AND\n",
    "    coalesce(bu_bureau_score, 0.0) > 0.0\n",
    "  AND\n",
    "    ln_mature_fpd10_flag = 1\n",
    ")\n",
    "select * from bu_bureau_score;\n",
    "\"\"\"\n",
    "\n",
    "bu_bureau_scorefpd10 = client.query(sq).to_dataframe(progress_bar_type='tqdm')\n",
    "\n",
    "bu_bureau_scorefpd10.head()\n",
    "\n",
    "gini_results = calculate_periodic_gini_threedigit(bu_bureau_scorefpd10, 'bu_bureau_score', 'ln_fpd10_flag', 'FPD10')\n",
    "M1FPD10 = gini_results.copy()\n",
    "print(f\"The shape of dataframe after copy is:\\t{M1FPD10.shape}\")\n",
    "M1FPD10.columns.values\n",
    "\n",
    "# FPD30\n",
    "\n",
    "sq = \"\"\"\n",
    "with bu_bureau_score as \n",
    "(SELECT \n",
    "    ln_disb_dtime disbursementdate,\n",
    "\tdigitalLoanAccountId,\n",
    "    bu_bureau_score,\n",
    "    ln_fpd30_flag,\n",
    "\tln_mature_fpd30_flag,\t\n",
    "\tFROM \n",
    "    risk_mart.sil_risk_ds_master_20230101_20250309\n",
    "  WHERE \n",
    "     -- ln_disb_dtime >= '2023-07-01'\n",
    "    ln_appln_submit_datetime >= '2023-01-01'\n",
    "  -- AND\n",
    "  --   format_date('%Y-%m', ln_disb_dtime) = '2024-09'\n",
    "  AND\n",
    "    ln_fpd30_flag is not null\n",
    "  AND\n",
    "    coalesce(bu_bureau_score, 0.0) > 0.0\n",
    "  AND\n",
    "    ln_mature_fpd30_flag = 1\n",
    ")\n",
    "select * from bu_bureau_score;\n",
    "\"\"\"\n",
    "\n",
    "bu_bureau_scorefpd30 = client.query(sq).to_dataframe(progress_bar_type='tqdm')\n",
    "\n",
    "bu_bureau_scorefpd30.head()\n",
    "\n",
    "gini_results = calculate_periodic_gini_threedigit(bu_bureau_scorefpd30, 'bu_bureau_score', 'ln_fpd30_flag', 'FPD30')\n",
    "M2FPD30 = gini_results.copy()\n",
    "print(f\"The shape of dataframe after copy is:\\t{M2FPD30.shape}\")\n",
    "M2FPD30.columns.values\n",
    "\n",
    "sq = \"\"\"\n",
    "with bu_bureau_score as \n",
    "(SELECT \n",
    "    ln_disb_dtime disbursementdate,\n",
    "\tdigitalLoanAccountId,\n",
    "    bu_bureau_score,\n",
    "    ln_fspd30_flag,\n",
    "\tln_mature_fspd30_flag,\t\n",
    "\tFROM \n",
    "    risk_mart.sil_risk_ds_master_20230101_20250309\n",
    "  WHERE \n",
    "     -- ln_disb_dtime >= '2023-07-01'\n",
    "    ln_appln_submit_datetime >= '2023-01-01'\n",
    "  -- AND\n",
    "  --   format_date('%Y-%m', ln_disb_dtime) = '2024-09'\n",
    "  AND\n",
    "    ln_fspd30_flag is not null\n",
    "  AND\n",
    "    coalesce(bu_bureau_score, 0.0) > 0.0\n",
    "  AND\n",
    "    ln_mature_fspd30_flag = 1\n",
    ")\n",
    "select * from bu_bureau_score;\n",
    "\"\"\"\n",
    "\n",
    "bu_bureau_scorefspd30 = client.query(sq).to_dataframe(progress_bar_type='tqdm')\n",
    "\n",
    "print(bu_bureau_scorefspd30.head(2))\n",
    "\n",
    "gini_results = calculate_periodic_gini_threedigit(bu_bureau_scorefspd30, 'bu_bureau_score', 'ln_fspd30_flag', 'FSPD30')\n",
    "M3FSPD30 = gini_results.copy()\n",
    "print(f\"The shape of dataframe after copy is:\\t{M3FSPD30.shape}\")\n",
    "print(M3FSPD30.columns.values)\n",
    "\n",
    "M3FSPD30.head()\n",
    "\n",
    "sq = \"\"\"\n",
    "with bu_bureau_score as \n",
    "(SELECT \n",
    "    ln_disb_dtime disbursementdate,\n",
    "\tdigitalLoanAccountId,\n",
    "    bu_bureau_score,\n",
    "    ln_fstpd30_flag,\n",
    "\tln_mature_fstpd30_flag,\t\n",
    "\tFROM \n",
    "    risk_mart.sil_risk_ds_master_20230101_20250309\n",
    "  WHERE \n",
    "     -- ln_disb_dtime >= '2023-07-01'\n",
    "    ln_appln_submit_datetime >= '2023-01-01'\n",
    "  -- AND\n",
    "  --   format_date('%Y-%m', ln_disb_dtime) = '2024-09'\n",
    "  AND\n",
    "    ln_fstpd30_flag is not null\n",
    "  AND\n",
    "    coalesce(bu_bureau_score, 0.0) > 0.0\n",
    "  AND\n",
    "    ln_mature_fstpd30_flag = 1\n",
    ")\n",
    "select * from bu_bureau_score;\n",
    "\"\"\"\n",
    "\n",
    "bu_bureau_scorefstpd30 = client.query(sq).to_dataframe(progress_bar_type='tqdm')\n",
    "\n",
    "print(bu_bureau_scorefstpd30.head(2))\n",
    "\n",
    "gini_results = calculate_periodic_gini_threedigit(bu_bureau_scorefstpd30, 'bu_bureau_score', 'ln_fstpd30_flag', 'FSTPD30')\n",
    "M4FSTPD30 = gini_results.copy()\n",
    "print(f\"The shape of dataframe after copy is:\\t{M4FSTPD30.shape}\")\n",
    "print(M4FSTPD30.columns.values)\n",
    "\n",
    "M4FSTPD30.head()\n",
    "\n"
   ]
  },
  {
   "cell_type": "code",
   "execution_count": null,
   "metadata": {},
   "outputs": [],
   "source": []
  },
  {
   "cell_type": "markdown",
   "metadata": {},
   "source": [
    "## Combining data"
   ]
  },
  {
   "cell_type": "code",
   "execution_count": 168,
   "metadata": {},
   "outputs": [
    {
     "data": {
      "text/plain": [
       "array(['start_date', 'end_date', 'bu_bureau_score_FPD10_gini', 'period',\n",
       "       'Model_Name', 'version', 'bad_rate', 'bu_bureau_score_FPD30_gini',\n",
       "       'bu_bureau_score_FSPD30_gini', 'bu_bureau_score_FSTPD30_gini'],\n",
       "      dtype=object)"
      ]
     },
     "execution_count": 168,
     "metadata": {},
     "output_type": "execute_result"
    }
   ],
   "source": [
    "import functools\n",
    "\n",
    "dataframes = [M1FPD10, M2FPD30, M3FSPD30, M4FSTPD30]\n",
    "common_columns = ['start_date', 'end_date', 'period', 'Model_Name','version', 'bad_rate']\n",
    "\n",
    "def merge_dataframes(df1, df2):\n",
    "    return pd.merge(df1, df2, on=common_columns, how='outer')\n",
    "\n",
    "final_df = functools.reduce(merge_dataframes, dataframes)\n",
    "\n",
    "final_df.columns.values"
   ]
  },
  {
   "cell_type": "code",
   "execution_count": 169,
   "metadata": {},
   "outputs": [],
   "source": [
    "final_df = final_df[['start_date', 'end_date', 'period',   'Model_Name', 'version', 'bad_rate','bu_bureau_score_FPD10_gini','bu_bureau_score_FPD30_gini',    'bu_bureau_score_FSPD30_gini', 'bu_bureau_score_FSTPD30_gini']].copy()"
   ]
  },
  {
   "cell_type": "code",
   "execution_count": 170,
   "metadata": {},
   "outputs": [
    {
     "data": {
      "text/plain": [
       "QueryJob<project=prj-prod-dataplatform, location=asia-southeast1, id=366ac9cb-21eb-4ff3-a3de-5fa2e67391da>"
      ]
     },
     "execution_count": 170,
     "metadata": {},
     "output_type": "execute_result"
    }
   ],
   "source": [
    "sq = \"\"\"drop table if exists prj-prod-dataplatform.dap_ds_poweruser_playground.Model_gini_bu_bureau_score;\"\"\"\n",
    "client.query(sq)"
   ]
  },
  {
   "cell_type": "code",
   "execution_count": 171,
   "metadata": {},
   "outputs": [
    {
     "data": {
      "text/plain": [
       "LoadJob<project=prj-prod-dataplatform, location=asia-southeast1, id=d3622a49-b785-46ef-af7a-fcb7b2f1eec9>"
      ]
     },
     "execution_count": 171,
     "metadata": {},
     "output_type": "execute_result"
    }
   ],
   "source": [
    "import pandas as pd\n",
    "from google.cloud import bigquery\n",
    "\n",
    "# Create a BigQuery client\n",
    "client = bigquery.Client('prj-prod-dataplatform')\n",
    "\n",
    "# Define your table schema\n",
    "table_schema = [\n",
    "    bigquery.SchemaField('start_date', 'TIMESTAMP'),\n",
    "    bigquery.SchemaField('end_date', 'TIMESTAMP'),\n",
    "    bigquery.SchemaField('period', 'STRING'),\n",
    "    bigquery.SchemaField('Model_Name', 'STRING'),\n",
    "    bigquery.SchemaField('version', 'STRING'),\n",
    "    bigquery.SchemaField('Badrate', 'STRING'),\n",
    "    bigquery.SchemaField('bu_bureau_score_FPD10_gini', 'FLOAT'),\n",
    "    bigquery.SchemaField('bu_bureau_score_FPD30_gini', 'FLOAT'),    \n",
    "    bigquery.SchemaField('bu_bureau_score_FSPD30_gini', 'FLOAT'),\n",
    "    bigquery.SchemaField('bu_bureau_score_FSTPD30_gini', 'FLOAT')\n",
    "    \n",
    "]\n",
    "\n",
    "# Create your BigQuery table\n",
    "table_id = 'prj-prod-dataplatform.dap_ds_poweruser_playground.Model_gini_bu_bureau_score'\n",
    "table = bigquery.Table(table_id, schema=table_schema)\n",
    "table = client.create_table(table)\n",
    "\n",
    "# Load your DataFrame into BigQuery\n",
    "job_config = bigquery.LoadJobConfig(\n",
    "    write_disposition='WRITE_TRUNCATE'\n",
    ")\n",
    "\n",
    "load_job = client.load_table_from_dataframe(\n",
    "    final_df, table_id, job_config=job_config\n",
    ")\n",
    "\n",
    "load_job.result()"
   ]
  },
  {
   "cell_type": "code",
   "execution_count": null,
   "metadata": {},
   "outputs": [],
   "source": []
  }
 ],
 "metadata": {
  "kernelspec": {
   "display_name": "inc_env",
   "language": "python",
   "name": "python3"
  },
  "language_info": {
   "codemirror_mode": {
    "name": "ipython",
    "version": 3
   },
   "file_extension": ".py",
   "mimetype": "text/x-python",
   "name": "python",
   "nbconvert_exporter": "python",
   "pygments_lexer": "ipython3",
   "version": "3.8.20"
  }
 },
 "nbformat": 4,
 "nbformat_minor": 2
}
